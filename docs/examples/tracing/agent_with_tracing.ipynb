{
 "cells": [
  {
   "cell_type": "code",
   "execution_count": 3,
   "id": "17c04cc6-c93d-4b6c-a033-e897577f4ed1",
   "metadata": {},
   "outputs": [],
   "source": [
    "from langchain import LLMMathChain, SerpAPIWrapper\n",
    "from langchain.agents import Tool, initialize_agent\n",
    "from langchain.llms import OpenAI"
   ]
  },
  {
   "cell_type": "code",
   "execution_count": 4,
   "id": "814034f1-5b6c-4c6a-b055-2bf590ffca27",
   "metadata": {},
   "outputs": [
    {
     "name": "stdout",
     "output_type": "stream",
     "text": [
      "Starting chain trace with inputs: {'input': \"Who won the US Open men's tennis final in 2019? What is his age raised to the second power??\"}, serialized: {'name': 'AgentExecutor'}, extra: {}\n",
      "Starting chain trace with inputs: {'input': \"Who won the US Open men's tennis final in 2019? What is his age raised to the second power??\", 'agent_scratchpad': '', 'stop': ['\\nObservation: ']}, serialized: {'name': 'LLMChain'}, extra: {}\n",
      "Starting LLM trace with prompts: [\"Answer the following questions as best you can. You have access to the following tools:\\n\\nSearch: useful for when you need to answer questions about current events\\nCalculator: useful for when you need to answer questions about math\\n\\nUse the following format:\\n\\nQuestion: the input question you must answer\\nThought: you should always think about what to do\\nAction: the action to take, should be one of [Search, Calculator]\\nAction Input: the input to the action\\nObservation: the result of the action\\n... (this Thought/Action/Action Input/Observation can repeat N times)\\nThought: I now know the final answer\\nFinal Answer: the final answer to the original input question\\n\\nBegin!\\n\\nQuestion: Who won the US Open men's tennis final in 2019? What is his age raised to the second power??\\nThought:\"], serialized: {'name': 'OpenAI'}, extra: {}\n",
      "Ending LLM trace with response: [[' I need to find out who won the US Open men\\'s tennis final in 2019 and then calculate his age raised to the second power.\\nAction: Search\\nAction Input: \"US Open men\\'s tennis final 2019\"']], error: None\n",
      "Ending chain trace with outputs: {'text': ' I need to find out who won the US Open men\\'s tennis final in 2019 and then calculate his age raised to the second power.\\nAction: Search\\nAction Input: \"US Open men\\'s tennis final 2019\"'}, error: None\n",
      "Starting tool trace with inputs: US Open men's tennis final 2019, serialized: {'name': '<bound method SerpAPIWrapper.run of SerpAPIWrapper(search_en...'}, extra: {}\n",
      "Ending tool trace with output: Rafael Nadal won his 19th career Grand Slam title, and his fourth US Open crown, by surviving an all-time comback effort from Daniil ..., error: None\n",
      "Starting chain trace with inputs: {'input': \"Who won the US Open men's tennis final in 2019? What is his age raised to the second power??\", 'agent_scratchpad': ' I need to find out who won the US Open men\\'s tennis final in 2019 and then calculate his age raised to the second power.\\nAction: Search\\nAction Input: \"US Open men\\'s tennis final 2019\"\\nObservation: Rafael Nadal won his 19th career Grand Slam title, and his fourth US Open crown, by surviving an all-time comback effort from Daniil ...\\nThought:', 'stop': ['\\nObservation: ']}, serialized: {'name': 'LLMChain'}, extra: {}\n",
      "Starting LLM trace with prompts: ['Answer the following questions as best you can. You have access to the following tools:\\n\\nSearch: useful for when you need to answer questions about current events\\nCalculator: useful for when you need to answer questions about math\\n\\nUse the following format:\\n\\nQuestion: the input question you must answer\\nThought: you should always think about what to do\\nAction: the action to take, should be one of [Search, Calculator]\\nAction Input: the input to the action\\nObservation: the result of the action\\n... (this Thought/Action/Action Input/Observation can repeat N times)\\nThought: I now know the final answer\\nFinal Answer: the final answer to the original input question\\n\\nBegin!\\n\\nQuestion: Who won the US Open men\\'s tennis final in 2019? What is his age raised to the second power??\\nThought: I need to find out who won the US Open men\\'s tennis final in 2019 and then calculate his age raised to the second power.\\nAction: Search\\nAction Input: \"US Open men\\'s tennis final 2019\"\\nObservation: Rafael Nadal won his 19th career Grand Slam title, and his fourth US Open crown, by surviving an all-time comback effort from Daniil ...\\nThought:'], serialized: {'name': 'OpenAI'}, extra: {}\n",
      "Ending LLM trace with response: [[' I need to find out Rafael Nadal\\'s age\\nAction: Search\\nAction Input: \"Rafael Nadal age\"']], error: None\n",
      "Ending chain trace with outputs: {'text': ' I need to find out Rafael Nadal\\'s age\\nAction: Search\\nAction Input: \"Rafael Nadal age\"'}, error: None\n",
      "Starting tool trace with inputs: Rafael Nadal age, serialized: {'name': '<bound method SerpAPIWrapper.run of SerpAPIWrapper(search_en...'}, extra: {}\n",
      "Ending tool trace with output: 36 years, error: None\n",
      "Starting chain trace with inputs: {'input': \"Who won the US Open men's tennis final in 2019? What is his age raised to the second power??\", 'agent_scratchpad': ' I need to find out who won the US Open men\\'s tennis final in 2019 and then calculate his age raised to the second power.\\nAction: Search\\nAction Input: \"US Open men\\'s tennis final 2019\"\\nObservation: Rafael Nadal won his 19th career Grand Slam title, and his fourth US Open crown, by surviving an all-time comback effort from Daniil ...\\nThought: I need to find out Rafael Nadal\\'s age\\nAction: Search\\nAction Input: \"Rafael Nadal age\"\\nObservation: 36 years\\nThought:', 'stop': ['\\nObservation: ']}, serialized: {'name': 'LLMChain'}, extra: {}\n",
      "Starting LLM trace with prompts: ['Answer the following questions as best you can. You have access to the following tools:\\n\\nSearch: useful for when you need to answer questions about current events\\nCalculator: useful for when you need to answer questions about math\\n\\nUse the following format:\\n\\nQuestion: the input question you must answer\\nThought: you should always think about what to do\\nAction: the action to take, should be one of [Search, Calculator]\\nAction Input: the input to the action\\nObservation: the result of the action\\n... (this Thought/Action/Action Input/Observation can repeat N times)\\nThought: I now know the final answer\\nFinal Answer: the final answer to the original input question\\n\\nBegin!\\n\\nQuestion: Who won the US Open men\\'s tennis final in 2019? What is his age raised to the second power??\\nThought: I need to find out who won the US Open men\\'s tennis final in 2019 and then calculate his age raised to the second power.\\nAction: Search\\nAction Input: \"US Open men\\'s tennis final 2019\"\\nObservation: Rafael Nadal won his 19th career Grand Slam title, and his fourth US Open crown, by surviving an all-time comback effort from Daniil ...\\nThought: I need to find out Rafael Nadal\\'s age\\nAction: Search\\nAction Input: \"Rafael Nadal age\"\\nObservation: 36 years\\nThought:'], serialized: {'name': 'OpenAI'}, extra: {}\n",
      "Ending LLM trace with response: [[' I now know the age and can calculate it raised to the second power\\nAction: Calculator\\nAction Input: 36^2']], error: None\n",
      "Ending chain trace with outputs: {'text': ' I now know the age and can calculate it raised to the second power\\nAction: Calculator\\nAction Input: 36^2'}, error: None\n",
      "Starting tool trace with inputs: 36^2, serialized: {'name': '<bound method Chain.run of LLMMathChain(memory=None, verbose...'}, extra: {}\n",
      "\n",
      "\n",
      "\u001b[1m> Entering new LLMMathChain chain...\u001b[0m\n",
      "Starting chain trace with inputs: {'question': '36^2'}, serialized: {'name': 'LLMMathChain'}, extra: {}\n",
      "36^2Starting chain trace with inputs: {'question': '36^2', 'stop': ['```output']}, serialized: {'name': 'LLMChain'}, extra: {}\n",
      "Starting LLM trace with prompts: [\"You are GPT-3, and you can't do math.\\n\\nYou can do basic math, and your memorization abilities are impressive, but you can't do any complex calculations that a human could not do in their head. You also have an annoying tendency to just make up highly specific, but wrong, answers.\\n\\nSo we hooked you up to a Python 3 kernel, and now you can execute code. If anyone gives you a hard math problem, just use this format and we’ll take care of the rest:\\n\\nQuestion: ${Question with hard calculation.}\\n```python\\n${Code that prints what you need to know}\\n```\\n```output\\n${Output of your code}\\n```\\nAnswer: ${Answer}\\n\\nOtherwise, use this simpler format:\\n\\nQuestion: ${Question without hard calculation}\\nAnswer: ${Answer}\\n\\nBegin.\\n\\nQuestion: What is 37593 * 67?\\n\\n```python\\nprint(37593 * 67)\\n```\\n```output\\n2518731\\n```\\nAnswer: 2518731\\n\\nQuestion: 36^2\"], serialized: {'name': 'OpenAI'}, extra: {}\n",
      "Ending LLM trace with response: [['\\nAnswer: 1296']], error: None\n",
      "Ending chain trace with outputs: {'text': '\\nAnswer: 1296'}, error: None\n",
      "\u001b[32;1m\u001b[1;3m\n",
      "Answer: 1296\u001b[0mEnding chain trace with outputs: {'answer': 'Answer: 1296'}, error: None\n",
      "\n",
      "\u001b[1m> Finished LLMMathChain chain.\u001b[0m\n",
      "Ending tool trace with output: Answer: 1296, error: None\n",
      "Starting chain trace with inputs: {'input': \"Who won the US Open men's tennis final in 2019? What is his age raised to the second power??\", 'agent_scratchpad': ' I need to find out who won the US Open men\\'s tennis final in 2019 and then calculate his age raised to the second power.\\nAction: Search\\nAction Input: \"US Open men\\'s tennis final 2019\"\\nObservation: Rafael Nadal won his 19th career Grand Slam title, and his fourth US Open crown, by surviving an all-time comback effort from Daniil ...\\nThought: I need to find out Rafael Nadal\\'s age\\nAction: Search\\nAction Input: \"Rafael Nadal age\"\\nObservation: 36 years\\nThought: I now know the age and can calculate it raised to the second power\\nAction: Calculator\\nAction Input: 36^2\\nObservation: Answer: 1296\\nThought:', 'stop': ['\\nObservation: ']}, serialized: {'name': 'LLMChain'}, extra: {}\n",
      "Starting LLM trace with prompts: ['Answer the following questions as best you can. You have access to the following tools:\\n\\nSearch: useful for when you need to answer questions about current events\\nCalculator: useful for when you need to answer questions about math\\n\\nUse the following format:\\n\\nQuestion: the input question you must answer\\nThought: you should always think about what to do\\nAction: the action to take, should be one of [Search, Calculator]\\nAction Input: the input to the action\\nObservation: the result of the action\\n... (this Thought/Action/Action Input/Observation can repeat N times)\\nThought: I now know the final answer\\nFinal Answer: the final answer to the original input question\\n\\nBegin!\\n\\nQuestion: Who won the US Open men\\'s tennis final in 2019? What is his age raised to the second power??\\nThought: I need to find out who won the US Open men\\'s tennis final in 2019 and then calculate his age raised to the second power.\\nAction: Search\\nAction Input: \"US Open men\\'s tennis final 2019\"\\nObservation: Rafael Nadal won his 19th career Grand Slam title, and his fourth US Open crown, by surviving an all-time comback effort from Daniil ...\\nThought: I need to find out Rafael Nadal\\'s age\\nAction: Search\\nAction Input: \"Rafael Nadal age\"\\nObservation: 36 years\\nThought: I now know the age and can calculate it raised to the second power\\nAction: Calculator\\nAction Input: 36^2\\nObservation: Answer: 1296\\nThought:'], serialized: {'name': 'OpenAI'}, extra: {}\n",
      "Ending LLM trace with response: [[\" I now know the final answer\\nFinal Answer: Rafael Nadal, aged 36, won the US Open men's tennis final in 2019 and his age raised to the second power is 1296.\"]], error: None\n",
      "Ending chain trace with outputs: {'text': \" I now know the final answer\\nFinal Answer: Rafael Nadal, aged 36, won the US Open men's tennis final in 2019 and his age raised to the second power is 1296.\"}, error: None\n",
      "Ending chain trace with outputs: {'output': \"Rafael Nadal, aged 36, won the US Open men's tennis final in 2019 and his age raised to the second power is 1296.\"}, error: None\n"
     ]
    },
    {
     "data": {
      "text/plain": [
       "\"Rafael Nadal, aged 36, won the US Open men's tennis final in 2019 and his age raised to the second power is 1296.\""
      ]
     },
     "execution_count": 4,
     "metadata": {},
     "output_type": "execute_result"
    }
   ],
   "source": [
    "llm = OpenAI(temperature=0)\n",
    "search = SerpAPIWrapper()\n",
    "llm_math_chain = LLMMathChain(llm=llm, verbose=True)\n",
    "tools = [\n",
    "    Tool(\n",
    "        name=\"Search\",\n",
    "        func=search.run,\n",
    "        description=\"useful for when you need to answer questions about current events\",\n",
    "    ),\n",
    "    Tool(\n",
    "        name=\"Calculator\",\n",
    "        func=llm_math_chain.run,\n",
    "        description=\"useful for when you need to answer questions about math\",\n",
    "    ),\n",
    "]\n",
    "\n",
    "agent = initialize_agent(\n",
    "    tools, llm, agent=\"zero-shot-react-description\", verbose=False\n",
    ")\n",
    "agent.run(\n",
    "    \"Who won the US Open men's tennis final in 2019? What is his age raised to the second power??\"\n",
    ")"
   ]
  },
  {
   "cell_type": "code",
   "execution_count": null,
   "id": "a591c066-397e-4ece-abc8-945d2f39c72b",
   "metadata": {},
   "outputs": [],
   "source": []
  }
 ],
 "metadata": {
  "kernelspec": {
   "display_name": "Python 3 (ipykernel)",
   "language": "python",
   "name": "python3"
  },
  "language_info": {
   "codemirror_mode": {
    "name": "ipython",
    "version": 3
   },
   "file_extension": ".py",
   "mimetype": "text/x-python",
   "name": "python",
   "nbconvert_exporter": "python",
   "pygments_lexer": "ipython3",
   "version": "3.10.8"
  }
 },
 "nbformat": 4,
 "nbformat_minor": 5
}
