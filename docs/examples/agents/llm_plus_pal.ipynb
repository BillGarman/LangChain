{
 "cells": [
  {
   "cell_type": "markdown",
   "id": "0c3f1df8",
   "metadata": {},
   "source": [
    "# Think Fast and Slow\n",
    "\n",
    "This notebook showcases the Think fast and slow chain."
   ]
  },
  {
   "cell_type": "code",
   "execution_count": 2,
   "id": "7e3b513e",
   "metadata": {},
   "outputs": [
    {
     "name": "stdout",
     "output_type": "stream",
     "text": [
      "The autoreload extension is already loaded. To reload it, use:\n",
      "  %reload_ext autoreload\n",
      "\n",
      "\n",
      "\u001b[1m> Entering new LLMPlusPalChain chain...\u001b[0m\n",
      "who is the current president of Peru?\n",
      "Input: {'input': 'who is the current president of Peru?\\n', 'stop': ['\\nPAL return: ']}\n",
      "Output: Answer: Martín Vizcarra is the current president of Peru.\n",
      "\u001b[32;1m\u001b[1;3mAnswer: Martín Vizcarra is the current president of Peru.\n",
      "So the final answer is:Martín Vizcarra is the current president of Peru.\u001b[0m\n",
      "\u001b[1m> Finished LLMPlusPalChain chain.\u001b[0m\n"
     ]
    },
    {
     "data": {
      "text/plain": [
       "'Martín Vizcarra is the current president of Peru.'"
      ]
     },
     "execution_count": 2,
     "metadata": {},
     "output_type": "execute_result"
    }
   ],
   "source": [
    "%load_ext autoreload\n",
    "%autoreload 2\n",
    "\n",
    "import os\n",
    "import sys\n",
    "\n",
    "from langchain.agents.llm_plus_pal.base import LLMPlusPalChain\n",
    "from langchain import OpenAI\n",
    "\n",
    "llm = OpenAI(model_name='text-davinci-003', temperature=0, max_tokens=512)\n",
    "\n",
    "llm_plus_pal = LLMPlusPalChain(llm, verbose=True)\n",
    "\n",
    "# llm_plus_pal.run(\n",
    "#     \"A room of chickens and cows has 48 heads and 152 legs, each chicken has 2 legs and each cow has 4 legs, how many chickens and cows are in the room?\")\n",
    "\n",
    "llm_plus_pal.run(\"who is the current president of Peru?\")\n"
   ]
  },
  {
   "cell_type": "code",
   "execution_count": 11,
   "id": "683d69e7",
   "metadata": {},
   "outputs": [
    {
     "data": {
      "text/plain": [
       "'/Users/bachbui/works/langchain'"
      ]
     },
     "execution_count": 11,
     "metadata": {},
     "output_type": "execute_result"
    }
   ],
   "source": [
    "os.getcwd()\n"
   ]
  },
  {
   "cell_type": "code",
   "execution_count": null,
   "id": "5df92aa8",
   "metadata": {},
   "outputs": [],
   "source": []
  }
 ],
 "metadata": {
  "kernelspec": {
   "display_name": "Python 3.10.6 ('py39a-m1')",
   "language": "python",
   "name": "python3"
  },
  "language_info": {
   "codemirror_mode": {
    "name": "ipython",
    "version": 3
   },
   "file_extension": ".py",
   "mimetype": "text/x-python",
   "name": "python",
   "nbconvert_exporter": "python",
   "pygments_lexer": "ipython3",
   "version": "3.10.6"
  },
  "vscode": {
   "interpreter": {
    "hash": "265e5181167f1eda3f930e3650132c2303e1f632892595a752ee84105b180bbb"
   }
  }
 },
 "nbformat": 4,
 "nbformat_minor": 5
}
