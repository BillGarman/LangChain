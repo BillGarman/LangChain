{
 "cells": [
  {
   "cell_type": "markdown",
   "id": "50771626",
   "metadata": {},
   "source": [
    "# Loading Tools by name\n",
    "This notebook goes through how to load commonly used tools by name"
   ]
  },
  {
   "cell_type": "code",
   "execution_count": 2,
   "id": "c3d07f44",
   "metadata": {},
   "outputs": [],
   "source": [
    "from langchain import LLMMathChain, OpenAI, SerpAPIWrapper, SQLDatabase, SQLDatabaseChain\n",
    "from langchain.agents import initialize_agent, Tool, load_tools"
   ]
  },
  {
   "cell_type": "code",
   "execution_count": 3,
   "id": "4ce77c94",
   "metadata": {},
   "outputs": [],
   "source": [
    "llm = OpenAI(temperature=0)\n",
    "tools = load_tools([\"pal-math\", \"pal-colored-objects\"], llm=llm)\n",
    "mrkl = initialize_agent(tools, llm, agent=\"zero-shot-react-description\", verbose=True)"
   ]
  },
  {
   "cell_type": "code",
   "execution_count": 4,
   "id": "b04f5576",
   "metadata": {},
   "outputs": [
    {
     "name": "stdout",
     "output_type": "stream",
     "text": [
      "\n",
      "\n",
      "\u001b[1m> Entering new AgentWithTools chain...\u001b[0m\n",
      "\u001b[32;1m\u001b[1;3m I need to figure out how many pets Jan has\n",
      "Action: PAL-MATH\n",
      "Action Input: Jan has three times the number of pets as Marcia, and Marcia has two more pets than Cindy. If Cindy has four pets, how many total pets do the three have?\u001b[0m\n",
      "Observation: \u001b[36;1m\u001b[1;3m28\u001b[0m\n",
      "Thought:\u001b[32;1m\u001b[1;3m I now know the total number of pets\n",
      "Final Answer: The three have 28 pets in total.\u001b[0m\n",
      "\u001b[1m> Finished AgentWithTools chain.\u001b[0m\n"
     ]
    },
    {
     "data": {
      "text/plain": [
       "'The three have 28 pets in total.'"
      ]
     },
     "execution_count": 4,
     "metadata": {},
     "output_type": "execute_result"
    }
   ],
   "source": [
    "question = \"Jan has three times the number of pets as Marcia. Marcia has two more pets than Cindy. If Cindy has four pets, how many total pets do the three have?\"\n",
    "mrkl.run(question)"
   ]
  },
  {
   "cell_type": "code",
   "execution_count": 5,
   "id": "61212600",
   "metadata": {},
   "outputs": [
    {
     "name": "stdout",
     "output_type": "stream",
     "text": [
      "\n",
      "\n",
      "\u001b[1m> Entering new AgentWithTools chain...\u001b[0m\n",
      "\u001b[32;1m\u001b[1;3m I need to figure out how many purple items are on the desk.\n",
      "Action: PAL-COLOR-OBJ\n",
      "Action Input: On the desk, there are two blue booklets, two purple booklets, and two yellow pairs of sunglasses. If I remove all the pairs of sunglasses, how many purple items remain on the desk?\u001b[0m\n",
      "Observation: \u001b[33;1m\u001b[1;3m2\u001b[0m\n",
      "Thought:\u001b[32;1m\u001b[1;3m I now know the final answer\n",
      "Final Answer: 2 purple items remain on the desk.\u001b[0m\n",
      "\u001b[1m> Finished AgentWithTools chain.\u001b[0m\n"
     ]
    },
    {
     "data": {
      "text/plain": [
       "'2 purple items remain on the desk.'"
      ]
     },
     "execution_count": 5,
     "metadata": {},
     "output_type": "execute_result"
    }
   ],
   "source": [
    "question = \"On the desk, you see two blue booklets, two purple booklets, and two yellow pairs of sunglasses - if I remove all the pairs of sunglasses from the desk, how many purple items remain on it?\"\n",
    "mrkl.run(question)"
   ]
  },
  {
   "cell_type": "code",
   "execution_count": null,
   "id": "48976968",
   "metadata": {},
   "outputs": [],
   "source": []
  }
 ],
 "metadata": {
  "kernelspec": {
   "display_name": "Python 3 (ipykernel)",
   "language": "python",
   "name": "python3"
  },
  "language_info": {
   "codemirror_mode": {
    "name": "ipython",
    "version": 3
   },
   "file_extension": ".py",
   "mimetype": "text/x-python",
   "name": "python",
   "nbconvert_exporter": "python",
   "pygments_lexer": "ipython3",
   "version": "3.10.8"
  }
 },
 "nbformat": 4,
 "nbformat_minor": 5
}
