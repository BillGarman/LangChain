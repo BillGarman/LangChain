{
 "cells": [
  {
   "cell_type": "code",
   "execution_count": 1,
   "id": "1c613960",
   "metadata": {},
   "outputs": [],
   "source": [
    "from langchain.embeddings.openai import OpenAIEmbeddings\n",
    "from langchain.text_splitter import CharacterTextSplitter\n",
    "from langchain.vectorstores.elastic_vector_search import ElasticVectorSearch\n",
    "from langchain.vectorstores.faiss import FAISS"
   ]
  },
  {
   "cell_type": "code",
   "execution_count": 2,
   "id": "17d1306e",
   "metadata": {},
   "outputs": [],
   "source": [
    "with open('../state_of_the_union.txt') as f:\n",
    "    state_of_the_union = f.read()\n",
    "text_splitter = CharacterTextSplitter(chunk_size=1000, chunk_overlap=0)\n",
    "texts = text_splitter.split_text(state_of_the_union)\n",
    "\n",
    "embeddings = OpenAIEmbeddings()"
   ]
  },
  {
   "cell_type": "code",
   "execution_count": 8,
   "id": "61bce191",
   "metadata": {},
   "outputs": [],
   "source": [
    "docsearch = FAISS.from_texts(texts, embeddings)\n",
    "\n",
    "query = \"What did the president say about Michael Jackson\"\n",
    "docs = docsearch.similarity_search(query)"
   ]
  },
  {
   "cell_type": "code",
   "execution_count": 9,
   "id": "57ddf8c7",
   "metadata": {},
   "outputs": [],
   "source": [
    "from langchain.chains.qa_with_sources.base import QAWithSourcesChain\n",
    "from langchain.llms import OpenAI\n",
    "from langchain.docstore.document import Document"
   ]
  },
  {
   "cell_type": "code",
   "execution_count": 10,
   "id": "f908a92a",
   "metadata": {},
   "outputs": [],
   "source": [
    "chain = QAWithSourcesChain.from_llm(OpenAI(temperature=0))"
   ]
  },
  {
   "cell_type": "code",
   "execution_count": 11,
   "id": "20236ee9",
   "metadata": {},
   "outputs": [],
   "source": [
    "for i, d in enumerate(docs):\n",
    "    d.metadata = {'source': f\"{i}-pl\"}"
   ]
  },
  {
   "cell_type": "code",
   "execution_count": 12,
   "id": "a505ac89",
   "metadata": {},
   "outputs": [
    {
     "data": {
      "text/plain": [
       "{'docs': [Document(page_content='We will meet the test. \\n\\nTo protect freedom and liberty, to expand fairness and opportunity. \\n\\nWe will save democracy. \\n\\nAs hard as these times have been, I am more optimistic about America today than I have been my whole life. \\n\\nBecause I see the future that is within our grasp. \\n\\nBecause I know there is simply nothing beyond our capacity. \\n\\nWe are the only nation on Earth that has always turned every crisis we have faced into an opportunity. \\n\\nThe only nation that can be defined by a single word: possibilities. \\n\\nSo on this night, in our 245th year as a nation, I have come to report on the State of the Union. \\n\\nAnd my report is this: the State of the Union is strong—because you, the American people, are strong. \\n\\nWe are stronger today than we were a year ago. \\n\\nAnd we will be stronger a year from now than we are today. \\n\\nNow is our moment to meet and overcome the challenges of our time. \\n\\nAnd we will, as one people. \\n\\nOne America. \\n\\nThe United States of America. \\n\\nMay God bless you all. May God protect our troops.', lookup_str='', metadata={'source': '0-pl'}, lookup_index=0),\n",
       "  Document(page_content='Let’s get it done once and for all. \\n\\nAdvancing liberty and justice also requires protecting the rights of women. \\n\\nThe constitutional right affirmed in Roe v. Wade—standing precedent for half a century—is under attack as never before. \\n\\nIf we want to go forward—not backward—we must protect access to health care. Preserve a woman’s right to choose. And let’s continue to advance maternal health care in America. \\n\\nAnd for our LGBTQ+ Americans, let’s finally get the bipartisan Equality Act to my desk. The onslaught of state laws targeting transgender Americans and their families is wrong. \\n\\nAs I said last year, especially to our younger transgender Americans, I will always have your back as your President, so you can be yourself and reach your God-given potential. \\n\\nWhile it often appears that we never agree, that isn’t true. I signed 80 bipartisan bills into law last year. From preventing government shutdowns to protecting Asian-Americans from still-too-common hate crimes to reforming military justice. ', lookup_str='', metadata={'source': '1-pl'}, lookup_index=0),\n",
       "  Document(page_content='Danielle says Heath was a fighter to the very end. \\n\\nHe didn’t know how to stop fighting, and neither did she. \\n\\nThrough her pain she found purpose to demand we do better. \\n\\nTonight, Danielle—we are. \\n\\nThe VA is pioneering new ways of linking toxic exposures to diseases, already helping more veterans get benefits. \\n\\nAnd tonight, I’m announcing we’re expanding eligibility to veterans suffering from nine respiratory cancers. \\n\\nI’m also calling on Congress: pass a law to make sure veterans devastated by toxic exposures in Iraq and Afghanistan finally get the benefits and comprehensive health care they deserve. \\n\\nAnd fourth, let’s end cancer as we know it. \\n\\nThis is personal to me and Jill, to Kamala, and to so many of you. \\n\\nCancer is the #2 cause of death in America–second only to heart disease. \\n\\nLast month, I announced our plan to supercharge  \\nthe Cancer Moonshot that President Obama asked me to lead six years ago. \\n\\nOur goal is to cut the cancer death rate by at least 50% over the next 25 years, turn more cancers from death sentences into treatable diseases.  ', lookup_str='', metadata={'source': '2-pl'}, lookup_index=0),\n",
       "  Document(page_content='Children were also struggling before the pandemic. Bullying, violence, trauma, and the harms of social media. \\n\\nAs Frances Haugen, who is here with us tonight, has shown, we must hold social media platforms accountable for the national experiment they’re conducting on our children for profit. \\n\\nIt’s time to strengthen privacy protections, ban targeted advertising to children, demand tech companies stop collecting personal data on our children. \\n\\nAnd let’s get all Americans the mental health services they need. More people they can turn to for help, and full parity between physical and mental health care. \\n\\nThird, support our veterans. \\n\\nVeterans are the best of us. \\n\\nI’ve always believed that we have a sacred obligation to equip all those we send to war and care for them and their families when they come home. \\n\\nMy administration is providing assistance with job training and housing, and now helping lower-income veterans get VA care debt-free.  \\n\\nOur troops in Iraq and Afghanistan faced many dangers. ', lookup_str='', metadata={'source': '3-pl'}, lookup_index=0)],\n",
       " 'question': 'What did the president say about Michael Jackson',\n",
       " 'answer': ' The president did not mention Michael Jackson.',\n",
       " 'sources': '0-pl, 1-pl, 2-pl, 3-pl'}"
      ]
     },
     "execution_count": 12,
     "metadata": {},
     "output_type": "execute_result"
    }
   ],
   "source": [
    "chain({\"docs\": docs, \"question\": query})"
   ]
  },
  {
   "cell_type": "code",
   "execution_count": 12,
   "id": "8aa571ae",
   "metadata": {},
   "outputs": [
    {
     "name": "stdout",
     "output_type": "stream",
     "text": [
      "> \u001b[0;32m/Users/harrisonchase/workplace/langchain/langchain/chains/qa_with_sources/base.py\u001b[0m(75)\u001b[0;36m_call\u001b[0;34m()\u001b[0m\n",
      "\u001b[0;32m     72 \u001b[0;31m        \u001b[0mcombine_chain\u001b[0m \u001b[0;34m=\u001b[0m \u001b[0mCombineDocumentsChain\u001b[0m\u001b[0;34m(\u001b[0m\u001b[0mllm_chain\u001b[0m\u001b[0;34m=\u001b[0m\u001b[0mself\u001b[0m\u001b[0;34m.\u001b[0m\u001b[0mllm_combine_chain\u001b[0m\u001b[0;34m,\u001b[0m \u001b[0mdocument_prompt\u001b[0m\u001b[0;34m=\u001b[0m\u001b[0mself\u001b[0m\u001b[0;34m.\u001b[0m\u001b[0mdocument_prompt\u001b[0m\u001b[0;34m)\u001b[0m\u001b[0;34m\u001b[0m\u001b[0;34m\u001b[0m\u001b[0m\n",
      "\u001b[0m\u001b[0;32m     73 \u001b[0;31m        \u001b[0manswer_dict\u001b[0m \u001b[0;34m=\u001b[0m \u001b[0mcombine_chain\u001b[0m\u001b[0;34m(\u001b[0m\u001b[0;34m{\u001b[0m\u001b[0mcombine_chain\u001b[0m\u001b[0;34m.\u001b[0m\u001b[0minput_key\u001b[0m\u001b[0;34m:\u001b[0m \u001b[0mresult_docs\u001b[0m\u001b[0;34m,\u001b[0m \u001b[0mself\u001b[0m\u001b[0;34m.\u001b[0m\u001b[0mquestion_key\u001b[0m\u001b[0;34m:\u001b[0m \u001b[0mquery\u001b[0m\u001b[0;34m}\u001b[0m\u001b[0;34m)\u001b[0m\u001b[0;34m\u001b[0m\u001b[0;34m\u001b[0m\u001b[0m\n",
      "\u001b[0m\u001b[0;32m     74 \u001b[0;31m        \u001b[0manswer\u001b[0m \u001b[0;34m=\u001b[0m \u001b[0manswer_dict\u001b[0m\u001b[0;34m[\u001b[0m\u001b[0mcombine_chain\u001b[0m\u001b[0;34m.\u001b[0m\u001b[0moutput_key\u001b[0m\u001b[0;34m]\u001b[0m\u001b[0;34m\u001b[0m\u001b[0;34m\u001b[0m\u001b[0m\n",
      "\u001b[0m\u001b[0;32m---> 75 \u001b[0;31m        \u001b[0manswer\u001b[0m\u001b[0;34m,\u001b[0m \u001b[0msources\u001b[0m \u001b[0;34m=\u001b[0m \u001b[0manswer\u001b[0m\u001b[0;34m.\u001b[0m\u001b[0msplit\u001b[0m\u001b[0;34m(\u001b[0m\u001b[0;34m\"\\nSources: \"\u001b[0m\u001b[0;34m)\u001b[0m\u001b[0;34m\u001b[0m\u001b[0;34m\u001b[0m\u001b[0m\n",
      "\u001b[0m\u001b[0;32m     76 \u001b[0;31m        \u001b[0;32mreturn\u001b[0m \u001b[0;34m{\u001b[0m\u001b[0mself\u001b[0m\u001b[0;34m.\u001b[0m\u001b[0manswer_key\u001b[0m\u001b[0;34m:\u001b[0m \u001b[0manswer\u001b[0m\u001b[0;34m,\u001b[0m \u001b[0mself\u001b[0m\u001b[0;34m.\u001b[0m\u001b[0msources_key\u001b[0m\u001b[0;34m:\u001b[0m \u001b[0msources\u001b[0m\u001b[0;34m}\u001b[0m\u001b[0;34m\u001b[0m\u001b[0;34m\u001b[0m\u001b[0m\n",
      "\u001b[0m\n",
      "ipdb> answer\n",
      "' The president said that Ketanji Brown Jackson is a consensus builder who has received a broad range of support since she was nominated.\\nSource: 0-pl'\n",
      "ipdb> q\n"
     ]
    }
   ],
   "source": [
    "%debug"
   ]
  },
  {
   "cell_type": "code",
   "execution_count": 8,
   "id": "a11da963",
   "metadata": {},
   "outputs": [],
   "source": [
    "var_name = chain.llm_question_chain.input_keys[0]\n",
    "results = chain.llm_question_chain.apply([{var_name: d.page_content, \"question\": query} for d in docs])"
   ]
  },
  {
   "cell_type": "code",
   "execution_count": 13,
   "id": "474e514a",
   "metadata": {},
   "outputs": [],
   "source": [
    "result_docs = [Document(page_content=r[chain.llm_question_chain.output_key], metadata={'source': f'Page {i}'}) \n",
    "              for i, r in enumerate(results)]"
   ]
  },
  {
   "cell_type": "code",
   "execution_count": 14,
   "id": "6ee28073",
   "metadata": {},
   "outputs": [],
   "source": [
    "from langchain.chains.combine_documents import CombineDocumentsChain"
   ]
  },
  {
   "cell_type": "code",
   "execution_count": 15,
   "id": "8b7e179d",
   "metadata": {},
   "outputs": [],
   "source": [
    "combine_chain = CombineDocumentsChain(llm_chain=chain.llm_combine_chain, document_prompt=chain.document_prompt)"
   ]
  },
  {
   "cell_type": "code",
   "execution_count": 23,
   "id": "fa40da7e",
   "metadata": {},
   "outputs": [],
   "source": [
    "self = combine_chain\n",
    "inputs = {combine_chain.input_key:result_docs, \"question\": query}\n",
    "docs = inputs[self.input_key]\n",
    "other_keys = {k:v for k,v in inputs.items() if k != self.input_key}\n",
    "doc_dicts = []\n",
    "for doc in docs:\n",
    "    base_info = {\"page_content\": doc.page_content}\n",
    "    base_info.update(doc.metadata)\n",
    "    doc_dicts.append({k: base_info[k] for k in self.document_prompt.input_variables})\n",
    "doc_strings = [self.document_prompt.format(**doc) for doc in doc_dicts]\n",
    "doc_variable = self.llm_chain.prompt.input_variables[0]\n",
    "other_keys[doc_variable] = \"\\n\\n\".join(doc_strings)\n",
    "output = self.llm_chain.predict(**other_keys)"
   ]
  },
  {
   "cell_type": "code",
   "execution_count": 25,
   "id": "d3a6db4a",
   "metadata": {},
   "outputs": [
    {
     "data": {
      "text/plain": [
       "[' The president said that Ketanji Brown Jackson is a consensus builder who has received a broad range of support since she was nominated.',\n",
       " 'Page 0']"
      ]
     },
     "execution_count": 25,
     "metadata": {},
     "output_type": "execute_result"
    }
   ],
   "source": [
    "output.split(\"\\n\\nSources: \")"
   ]
  },
  {
   "cell_type": "code",
   "execution_count": 18,
   "id": "03c5906a",
   "metadata": {},
   "outputs": [
    {
     "ename": "AttributeError",
     "evalue": "'str' object has no attribute 'dict'",
     "output_type": "error",
     "traceback": [
      "\u001b[0;31m---------------------------------------------------------------------------\u001b[0m",
      "\u001b[0;31mAttributeError\u001b[0m                            Traceback (most recent call last)",
      "Cell \u001b[0;32mIn [18], line 1\u001b[0m\n\u001b[0;32m----> 1\u001b[0m \u001b[43mcombine_chain\u001b[49m\u001b[43m(\u001b[49m\u001b[43m{\u001b[49m\u001b[38;5;124;43m\"\u001b[39;49m\u001b[38;5;124;43mfoo\u001b[39;49m\u001b[38;5;124;43m\"\u001b[39;49m\u001b[43m:\u001b[49m\u001b[43m \u001b[49m\u001b[38;5;124;43m\"\u001b[39;49m\u001b[38;5;124;43mbar\u001b[39;49m\u001b[38;5;124;43m\"\u001b[39;49m\u001b[43m,\u001b[49m\u001b[43m \u001b[49m\u001b[38;5;124;43m\"\u001b[39;49m\u001b[38;5;124;43minput_documents\u001b[39;49m\u001b[38;5;124;43m\"\u001b[39;49m\u001b[43m:\u001b[49m\u001b[43m \u001b[49m\u001b[43m[\u001b[49m\u001b[38;5;124;43m\"\u001b[39;49m\u001b[38;5;124;43mjim\u001b[39;49m\u001b[38;5;124;43m\"\u001b[39;49m\u001b[43m]\u001b[49m\u001b[43m}\u001b[49m\u001b[43m)\u001b[49m\n",
      "File \u001b[0;32m~/workplace/third_party/langchain/langchain/chains/base.py:46\u001b[0m, in \u001b[0;36mChain.__call__\u001b[0;34m(self, inputs)\u001b[0m\n\u001b[1;32m     44\u001b[0m \u001b[38;5;28;01mif\u001b[39;00m \u001b[38;5;28mself\u001b[39m\u001b[38;5;241m.\u001b[39mverbose:\n\u001b[1;32m     45\u001b[0m     \u001b[38;5;28mprint\u001b[39m(\u001b[38;5;124m\"\u001b[39m\u001b[38;5;130;01m\\n\u001b[39;00m\u001b[38;5;130;01m\\n\u001b[39;00m\u001b[38;5;130;01m\\033\u001b[39;00m\u001b[38;5;124m[1m> Entering new chain...\u001b[39m\u001b[38;5;130;01m\\033\u001b[39;00m\u001b[38;5;124m[0m\u001b[39m\u001b[38;5;124m\"\u001b[39m)\n\u001b[0;32m---> 46\u001b[0m outputs \u001b[38;5;241m=\u001b[39m \u001b[38;5;28;43mself\u001b[39;49m\u001b[38;5;241;43m.\u001b[39;49m\u001b[43m_call\u001b[49m\u001b[43m(\u001b[49m\u001b[43minputs\u001b[49m\u001b[43m)\u001b[49m\n\u001b[1;32m     47\u001b[0m \u001b[38;5;28;01mif\u001b[39;00m \u001b[38;5;28mself\u001b[39m\u001b[38;5;241m.\u001b[39mverbose:\n\u001b[1;32m     48\u001b[0m     \u001b[38;5;28mprint\u001b[39m(\u001b[38;5;124m\"\u001b[39m\u001b[38;5;130;01m\\n\u001b[39;00m\u001b[38;5;130;01m\\033\u001b[39;00m\u001b[38;5;124m[1m> Finished chain.\u001b[39m\u001b[38;5;130;01m\\033\u001b[39;00m\u001b[38;5;124m[0m\u001b[39m\u001b[38;5;124m\"\u001b[39m)\n",
      "File \u001b[0;32m~/workplace/third_party/langchain/langchain/chains/combine_documents.py:51\u001b[0m, in \u001b[0;36mCombineDocumentsChain._call\u001b[0;34m(self, inputs)\u001b[0m\n\u001b[1;32m     50\u001b[0m \u001b[38;5;28;01mdef\u001b[39;00m \u001b[38;5;21m_call\u001b[39m(\u001b[38;5;28mself\u001b[39m, inputs: Dict[\u001b[38;5;28mstr\u001b[39m, Any]) \u001b[38;5;241m-\u001b[39m\u001b[38;5;241m>\u001b[39m Dict[\u001b[38;5;28mstr\u001b[39m, \u001b[38;5;28mstr\u001b[39m]:\n\u001b[0;32m---> 51\u001b[0m     docs \u001b[38;5;241m=\u001b[39m inputs[\u001b[38;5;28mself\u001b[39m\u001b[38;5;241m.\u001b[39minput_key]\n\u001b[1;32m     53\u001b[0m     doc_dicts \u001b[38;5;241m=\u001b[39m [{k: doc\u001b[38;5;241m.\u001b[39mdict()[k] \u001b[38;5;28;01mfor\u001b[39;00m k \u001b[38;5;129;01min\u001b[39;00m \u001b[38;5;28mself\u001b[39m\u001b[38;5;241m.\u001b[39mdocument_prompt\u001b[38;5;241m.\u001b[39minput_variables} \u001b[38;5;28;01mfor\u001b[39;00m doc \u001b[38;5;129;01min\u001b[39;00m inputs[\u001b[38;5;28mself\u001b[39m\u001b[38;5;241m.\u001b[39minput_key]]\n\u001b[1;32m     54\u001b[0m     doc_strings \u001b[38;5;241m=\u001b[39m [\u001b[38;5;28mself\u001b[39m\u001b[38;5;241m.\u001b[39mdocument_prompt\u001b[38;5;241m.\u001b[39mformat(\u001b[38;5;241m*\u001b[39m\u001b[38;5;241m*\u001b[39mdoc) \u001b[38;5;28;01mfor\u001b[39;00m doc \u001b[38;5;129;01min\u001b[39;00m doc_dicts]\n",
      "File \u001b[0;32m~/workplace/third_party/langchain/langchain/chains/combine_documents.py:51\u001b[0m, in \u001b[0;36m<listcomp>\u001b[0;34m(.0)\u001b[0m\n\u001b[1;32m     50\u001b[0m \u001b[38;5;28;01mdef\u001b[39;00m \u001b[38;5;21m_call\u001b[39m(\u001b[38;5;28mself\u001b[39m, inputs: Dict[\u001b[38;5;28mstr\u001b[39m, Any]) \u001b[38;5;241m-\u001b[39m\u001b[38;5;241m>\u001b[39m Dict[\u001b[38;5;28mstr\u001b[39m, \u001b[38;5;28mstr\u001b[39m]:\n\u001b[0;32m---> 51\u001b[0m     docs \u001b[38;5;241m=\u001b[39m inputs[\u001b[38;5;28mself\u001b[39m\u001b[38;5;241m.\u001b[39minput_key]\n\u001b[1;32m     53\u001b[0m     doc_dicts \u001b[38;5;241m=\u001b[39m [{k: doc\u001b[38;5;241m.\u001b[39mdict()[k] \u001b[38;5;28;01mfor\u001b[39;00m k \u001b[38;5;129;01min\u001b[39;00m \u001b[38;5;28mself\u001b[39m\u001b[38;5;241m.\u001b[39mdocument_prompt\u001b[38;5;241m.\u001b[39minput_variables} \u001b[38;5;28;01mfor\u001b[39;00m doc \u001b[38;5;129;01min\u001b[39;00m inputs[\u001b[38;5;28mself\u001b[39m\u001b[38;5;241m.\u001b[39minput_key]]\n\u001b[1;32m     54\u001b[0m     doc_strings \u001b[38;5;241m=\u001b[39m [\u001b[38;5;28mself\u001b[39m\u001b[38;5;241m.\u001b[39mdocument_prompt\u001b[38;5;241m.\u001b[39mformat(\u001b[38;5;241m*\u001b[39m\u001b[38;5;241m*\u001b[39mdoc) \u001b[38;5;28;01mfor\u001b[39;00m doc \u001b[38;5;129;01min\u001b[39;00m doc_dicts]\n",
      "File \u001b[0;32m~/workplace/third_party/langchain/langchain/chains/combine_documents.py:51\u001b[0m, in \u001b[0;36m<dictcomp>\u001b[0;34m(.0)\u001b[0m\n\u001b[1;32m     50\u001b[0m \u001b[38;5;28;01mdef\u001b[39;00m \u001b[38;5;21m_call\u001b[39m(\u001b[38;5;28mself\u001b[39m, inputs: Dict[\u001b[38;5;28mstr\u001b[39m, Any]) \u001b[38;5;241m-\u001b[39m\u001b[38;5;241m>\u001b[39m Dict[\u001b[38;5;28mstr\u001b[39m, \u001b[38;5;28mstr\u001b[39m]:\n\u001b[0;32m---> 51\u001b[0m     docs \u001b[38;5;241m=\u001b[39m inputs[\u001b[38;5;28mself\u001b[39m\u001b[38;5;241m.\u001b[39minput_key]\n\u001b[1;32m     53\u001b[0m     doc_dicts \u001b[38;5;241m=\u001b[39m [{k: doc\u001b[38;5;241m.\u001b[39mdict()[k] \u001b[38;5;28;01mfor\u001b[39;00m k \u001b[38;5;129;01min\u001b[39;00m \u001b[38;5;28mself\u001b[39m\u001b[38;5;241m.\u001b[39mdocument_prompt\u001b[38;5;241m.\u001b[39minput_variables} \u001b[38;5;28;01mfor\u001b[39;00m doc \u001b[38;5;129;01min\u001b[39;00m inputs[\u001b[38;5;28mself\u001b[39m\u001b[38;5;241m.\u001b[39minput_key]]\n\u001b[1;32m     54\u001b[0m     doc_strings \u001b[38;5;241m=\u001b[39m [\u001b[38;5;28mself\u001b[39m\u001b[38;5;241m.\u001b[39mdocument_prompt\u001b[38;5;241m.\u001b[39mformat(\u001b[38;5;241m*\u001b[39m\u001b[38;5;241m*\u001b[39mdoc) \u001b[38;5;28;01mfor\u001b[39;00m doc \u001b[38;5;129;01min\u001b[39;00m doc_dicts]\n",
      "\u001b[0;31mAttributeError\u001b[0m: 'str' object has no attribute 'dict'"
     ]
    }
   ],
   "source": [
    "combine_chain({\"foo\": \"bar\", \"input_documents\": [\"jim\"]})"
   ]
  },
  {
   "cell_type": "code",
   "execution_count": 8,
   "id": "61310971",
   "metadata": {},
   "outputs": [],
   "source": [
    "question_p = \"\"\"Use the following context to answer the question at the end. If you don't know the answer, just say that you don't know, don't try to make up an answer.\n",
    "\n",
    "{{context}}\n",
    "\n",
    "Question: {question}\n",
    "Helpful Answer:\"\"\".format(question=query)\n",
    "prompt_q = PromptTemplate(input_variables=[\"context\"], template=question_p)\n",
    "llm_chain = LLMChain(llm=OpenAI(), prompt=prompt_q)"
   ]
  },
  {
   "cell_type": "code",
   "execution_count": 9,
   "id": "0e21ea0f",
   "metadata": {},
   "outputs": [],
   "source": [
    "res = llm_chain.apply([{\"context\": d.page_content} for d in docs])"
   ]
  },
  {
   "cell_type": "code",
   "execution_count": 10,
   "id": "3b51a689",
   "metadata": {},
   "outputs": [],
   "source": [
    "from langchain.docstore.document import Document"
   ]
  },
  {
   "cell_type": "code",
   "execution_count": 11,
   "id": "89f99f9e",
   "metadata": {},
   "outputs": [],
   "source": [
    "res_docs = [Document(page_content=r['text'], source=f\"Page {i}\") for i,r in enumerate(res)]"
   ]
  },
  {
   "cell_type": "code",
   "execution_count": 12,
   "id": "2eade74d",
   "metadata": {},
   "outputs": [],
   "source": [
    "document_prompt = PromptTemplate(input_variables=[\"page_content\", \"source\"], template= \"Content: {page_content}\\nSource: {source}\")"
   ]
  },
  {
   "cell_type": "code",
   "execution_count": 26,
   "id": "5b78df8f",
   "metadata": {},
   "outputs": [],
   "source": [
    "template = \"\"\"Given the following questions, reference links and associated content, create a final answer with references:\n",
    "\n",
    "Question: What color is an apple?\n",
    "Content: An apple can be red\n",
    "Source: foo\n",
    "Content: An apple can be green\n",
    "Source: bar\n",
    "Content: An orange is orange\n",
    "Source: baz\n",
    "Final Answer: An apple can be red or green\n",
    "Sources: foo, bar\n",
    "\n",
    "Question: {question}\n",
    "{{summaries}}\n",
    "Final Answer:\"\"\".format(question=query)\n",
    "\n",
    "prompt = PromptTemplate(input_variables=[\"summaries\"], template=template)\n",
    "\n",
    "llm_chain = LLMChain(llm=OpenAI(temperature=0), prompt=prompt)\n",
    "combine_chain = CombineDocumentsChain(llm_chain=llm_chain, document_prompt=document_prompt)"
   ]
  },
  {
   "cell_type": "code",
   "execution_count": 27,
   "id": "0481f835",
   "metadata": {},
   "outputs": [
    {
     "data": {
      "text/plain": [
       "\" President Biden said that Ketanji Brown Jackson is one of our nation's top legal minds, and she will continue Justice Breyer's legacy of excellence.\\nSources: Page 0\""
      ]
     },
     "execution_count": 27,
     "metadata": {},
     "output_type": "execute_result"
    }
   ],
   "source": [
    "combine_chain.run(res_docs)"
   ]
  },
  {
   "cell_type": "code",
   "execution_count": 24,
   "id": "b1ca27a9",
   "metadata": {},
   "outputs": [
    {
     "name": "stdout",
     "output_type": "stream",
     "text": [
      "Given the following questions, reference links and associated content, create a final answer with references:\n",
      "\n",
      "Question: What color is an apple?\n",
      "Content 1: An apple can be red\n",
      "Source 1: foo\n",
      "Content 2: An apple can be green\n",
      "Source 2: bar\n",
      "Content 3: An orange is orange\n",
      "Source 3: baz\n",
      "Final Answer: An apple can be red or green\n",
      "Sources: foo, bar\n",
      "\n",
      "Question: What did the president say about Ketanji Brown Jackson\n",
      "{summaries}\n",
      "Final Answer:\n"
     ]
    }
   ],
   "source": [
    "print(llm_chain.prompt.template)"
   ]
  },
  {
   "cell_type": "code",
   "execution_count": 15,
   "id": "1cd48e5d",
   "metadata": {},
   "outputs": [],
   "source": [
    "doc_dicts = [{k: doc.dict()[k] for k in document_prompt.input_variables} for doc in res_docs]\n",
    "doc_strings = [document_prompt.format(**doc) for doc in doc_dicts]"
   ]
  },
  {
   "cell_type": "code",
   "execution_count": 16,
   "id": "40ccf67e",
   "metadata": {},
   "outputs": [
    {
     "name": "stdout",
     "output_type": "stream",
     "text": [
      "Content:  President Biden said that Ketanji Brown Jackson is one of our nation's top legal minds, and she will continue Justice Breyer's legacy of excellence.\n",
      "Source: Page 0\n",
      "Content:  The President did not mention Ketanji Brown Jackson in the State of the Union address.\n",
      "Source: Page 1\n",
      "Content:  The President did not mention Ketanji Brown Jackson.\n",
      "Source: Page 2\n",
      "Content:  The president did not mention Ketanji Brown Jackson in the context provided.\n",
      "Source: Page 3\n"
     ]
    }
   ],
   "source": [
    "print('\\n'.join(doc_strings))"
   ]
  },
  {
   "cell_type": "code",
   "execution_count": 20,
   "id": "bfdb0696",
   "metadata": {},
   "outputs": [],
   "source": [
    "doc_variable = llm_chain.prompt.input_variables[0]\n",
    "output = llm_chain.predict(**{doc_variable: \"\\n\".join(doc_strings)})"
   ]
  },
  {
   "cell_type": "code",
   "execution_count": 22,
   "id": "e2abe445",
   "metadata": {},
   "outputs": [
    {
     "name": "stdout",
     "output_type": "stream",
     "text": [
      "Use the following context to answer the question at the end. If you don't know the answer, just say that you don't know, don't try to make up an answer.\n",
      "\n",
      "{context}\n",
      "\n",
      "Question: What did the president say about Ketanji Brown Jackson\n",
      "Helpful Answer:\n"
     ]
    }
   ],
   "source": [
    "print(llm_chain.prompt.template)"
   ]
  },
  {
   "cell_type": "code",
   "execution_count": null,
   "id": "13a793db",
   "metadata": {},
   "outputs": [],
   "source": []
  }
 ],
 "metadata": {
  "kernelspec": {
   "display_name": "Python 3 (ipykernel)",
   "language": "python",
   "name": "python3"
  },
  "language_info": {
   "codemirror_mode": {
    "name": "ipython",
    "version": 3
   },
   "file_extension": ".py",
   "mimetype": "text/x-python",
   "name": "python",
   "nbconvert_exporter": "python",
   "pygments_lexer": "ipython3",
   "version": "3.7.6"
  }
 },
 "nbformat": 4,
 "nbformat_minor": 5
}
