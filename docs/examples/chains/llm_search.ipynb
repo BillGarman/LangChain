{
 "cells": [
  {
   "cell_type": "markdown",
   "id": "dd7ec7af",
   "metadata": {},
   "source": [
    "# LLM Search\n",
    "\n",
    "Using the request library to get HTML results from google and then an LLM to parse results"
   ]
  },
  {
   "cell_type": "code",
   "execution_count": 2,
   "id": "dd8eae75",
   "metadata": {},
   "outputs": [],
   "source": [
    "from langchain.llms import OpenAI\n",
    "from langchain.chains import LLMSearchChain"
   ]
  },
  {
   "cell_type": "code",
   "execution_count": 5,
   "id": "f36ae0d8",
   "metadata": {},
   "outputs": [],
   "source": [
    "chain = LLMSearchChain.from_llm(OpenAI(temperature=0))"
   ]
  },
  {
   "cell_type": "code",
   "execution_count": 6,
   "id": "2ea81168",
   "metadata": {},
   "outputs": [
    {
     "data": {
      "text/plain": [
       "' Russia (17,098,242 km²), Canada (9,984,670 km²), China (9,706,961 km²)'"
      ]
     },
     "execution_count": 6,
     "metadata": {},
     "output_type": "execute_result"
    }
   ],
   "source": [
    "chain.run(\"What are the Three (3) biggest countries, and their respective sizes?\")"
   ]
  },
  {
   "cell_type": "code",
   "execution_count": null,
   "id": "db8f2b6d",
   "metadata": {},
   "outputs": [],
   "source": []
  }
 ],
 "metadata": {
  "kernelspec": {
   "display_name": "Python 3 (ipykernel)",
   "language": "python",
   "name": "python3"
  },
  "language_info": {
   "codemirror_mode": {
    "name": "ipython",
    "version": 3
   },
   "file_extension": ".py",
   "mimetype": "text/x-python",
   "name": "python",
   "nbconvert_exporter": "python",
   "pygments_lexer": "ipython3",
   "version": "3.9.1"
  }
 },
 "nbformat": 4,
 "nbformat_minor": 5
}
