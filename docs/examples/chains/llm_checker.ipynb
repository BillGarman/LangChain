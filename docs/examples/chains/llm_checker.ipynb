{
 "cells": [
  {
   "cell_type": "markdown",
   "metadata": {},
   "source": [
    "# LLMCheckerChain\n",
    "This notebook showcases how to use LLMCheckerChain."
   ]
  },
  {
   "cell_type": "code",
   "execution_count": 1,
   "metadata": {},
   "outputs": [
    {
     "name": "stdout",
     "output_type": "stream",
     "text": [
      "\n",
      "\n",
      "\u001b[1m> Entering new LLMCheckerChain chain...\u001b[0m\n",
      "\n",
      "\n",
      "\u001b[1m> Entering new SequentialChain chain...\u001b[0m\n",
      "list_of_branches:\n",
      "[{'question': 'What type of mammal lays the biggest eggs?'}]\n",
      "\u001b[1mChain 0\u001b[0m:\n",
      "{'statement': [['\\nThe largest mammal that lays eggs is the elephant shrew, which lays eggs up to 0.75 inches (2 cm) in diameter.', '\\n\\nThe largest mammal egg is laid by the elephant, though it is not actually an egg but a single calf.']]}\n",
      "\n",
      "list_of_branches:\n",
      "[{'statement': ['\\nThe largest mammal that lays eggs is the elephant shrew, which lays eggs up to 0.75 inches (2 cm) in diameter.', '\\n\\nThe largest mammal egg is laid by the elephant, though it is not actually an egg but a single calf.']}]\n",
      "\u001b[1mChain 1\u001b[0m:\n",
      "{'assertions': [['• Elephant shrews are the largest mammals that lay eggs \\n• Elephant eggs are up to 0.75 inches (2 cm) in diameter \\n• Elephants lay the largest mammal egg, which is not actually an egg but a single calf']]}\n",
      "\n",
      "list_of_branches:\n",
      "[{'assertions': ['• Elephant shrews are the largest mammals that lay eggs \\n• Elephant eggs are up to 0.75 inches (2 cm) in diameter \\n• Elephants lay the largest mammal egg, which is not actually an egg but a single calf']}]\n",
      "\u001b[1mChain 2\u001b[0m:\n",
      "{'checked_assertions': [['• Elephant shrews are the largest mammals that lay eggs - False. Elephant shrews are not the largest mammals that lay eggs; the largest mammal that lays eggs is the Echidna, which is a type of monotreme found in Australia and New Zealand.\\n\\n• Elephant eggs are up to 0.75 inches (2 cm) in diameter - False. Elephant eggs are much larger than 0.75 inches (2 cm) in diameter; they are typically around 2.5-3 inches (6-7 cm) in diameter.\\n\\n• Elephants lay the largest mammal egg, which is not actually an egg but a single calf - False. Elephants do not lay eggs, they give birth to a single calf.']]}\n",
      "\n",
      "list_of_branches:\n",
      "[{'checked_assertions': ['• Elephant shrews are the largest mammals that lay eggs - False. Elephant shrews are not the largest mammals that lay eggs; the largest mammal that lays eggs is the Echidna, which is a type of monotreme found in Australia and New Zealand.\\n\\n• Elephant eggs are up to 0.75 inches (2 cm) in diameter - False. Elephant eggs are much larger than 0.75 inches (2 cm) in diameter; they are typically around 2.5-3 inches (6-7 cm) in diameter.\\n\\n• Elephants lay the largest mammal egg, which is not actually an egg but a single calf - False. Elephants do not lay eggs, they give birth to a single calf.'], 'question': 'What type of mammal lays the biggest eggs?'}]\n",
      "\u001b[1mChain 3\u001b[0m:\n",
      "{'revised_statement': [[' The Echidna, a type of monotreme found in Australia and New Zealand, lays the biggest eggs among mammals.']]}\n",
      "\n",
      "\n",
      "\u001b[1m> Finished SequentialChain chain.\u001b[0m\n",
      "\n",
      "\u001b[1m> Finished LLMCheckerChain chain.\u001b[0m\n"
     ]
    },
    {
     "data": {
      "text/plain": [
       "[[' The Echidna, a type of monotreme found in Australia and New Zealand, lays the biggest eggs among mammals.']]"
      ]
     },
     "execution_count": 1,
     "metadata": {},
     "output_type": "execute_result"
    }
   ],
   "source": [
    "from langchain.chains import LLMCheckerChain\n",
    "from langchain.llms import OpenAI\n",
    "\n",
    "llm = OpenAI(temperature=0.7)\n",
    "\n",
    "text = \"What type of mammal lays the biggest eggs?\"\n",
    "\n",
    "checker_chain = LLMCheckerChain(llm=llm, verbose=True)\n",
    "\n",
    "checker_chain.run(text)"
   ]
  },
  {
   "cell_type": "code",
   "execution_count": null,
   "metadata": {},
   "outputs": [],
   "source": []
  }
 ],
 "metadata": {
  "kernelspec": {
   "display_name": "Python 3 (ipykernel)",
   "language": "python",
   "name": "python3"
  },
  "language_info": {
   "codemirror_mode": {
    "name": "ipython",
    "version": 3
   },
   "file_extension": ".py",
   "mimetype": "text/x-python",
   "name": "python",
   "nbconvert_exporter": "python",
   "pygments_lexer": "ipython3",
   "version": "3.10.3"
  }
 },
 "nbformat": 4,
 "nbformat_minor": 4
}
