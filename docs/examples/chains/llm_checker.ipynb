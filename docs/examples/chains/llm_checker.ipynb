{
 "cells": [
  {
   "cell_type": "markdown",
   "metadata": {},
   "source": [
    "# LLMCheckerChain\n",
    "This notebook showcases how to use LLMCheckerChain."
   ]
  },
  {
   "cell_type": "code",
   "execution_count": 1,
   "metadata": {},
   "outputs": [
    {
     "name": "stdout",
     "output_type": "stream",
     "text": [
      "\n",
      "\n",
      "\u001b[1m> Entering new SimpleSequentialChain chain...\u001b[0m\n",
      "responses\n",
      "['\\n\\nMarielle', '\\n\\nMelanie']\n",
      "\u001b[36;1m\u001b[1;3m['\\n\\nMarielle', '\\n\\nMelanie']\u001b[0m\n",
      "responses\n",
      "[' Marielle Mallow', ' Marielle Mackenzie.', ' Melanie Mowatt', ' Melanie MacMillan']\n",
      "\u001b[33;1m\u001b[1;3m[' Marielle Mallow', ' Marielle Mackenzie.', ' Melanie Mowatt', ' Melanie MacMillan']\u001b[0m\n",
      "\n",
      "\u001b[1m> Finished SimpleSequentialChain chain.\u001b[0m\n"
     ]
    },
    {
     "data": {
      "text/plain": [
       "[' Marielle Mallow',\n",
       " ' Marielle Mackenzie.',\n",
       " ' Melanie Mowatt',\n",
       " ' Melanie MacMillan']"
      ]
     },
     "execution_count": 1,
     "metadata": {},
     "output_type": "execute_result"
    }
   ],
   "source": [
    "from langchain.chains import LLMChain, SimpleSequentialChain, SequentialChain\n",
    "from langchain.llms import OpenAI\n",
    "\n",
    "from langchain.prompts.prompt import PromptTemplate\n",
    "\n",
    "llm = OpenAI(temperature=0.7)\n",
    "\n",
    "get_name = LLMChain(\n",
    "    llm=llm,\n",
    "    prompt=PromptTemplate(input_variables=[\"gender\"], template=\"Question: Give me a totally random first name for a {gender}. Answer:\"),\n",
    "    n=2,\n",
    ")\n",
    "# create_draft_answer_chain.run(\"woman\")\n",
    "\n",
    "get_initials = LLMChain(\n",
    "    llm=llm,\n",
    "    prompt=PromptTemplate(input_variables=[\"name\"], template=\"Question: Give me a totally random last name for someone with the first name '{name}', with alliteration. Answer (full name):\"),\n",
    "    n=2,\n",
    ")\n",
    "\n",
    "overall_chain = SimpleSequentialChain(chains=[get_name, get_initials], verbose=True)\n",
    "overall_chain.run(\"woman\")"
   ]
  },
  {
   "cell_type": "code",
   "execution_count": 2,
   "metadata": {},
   "outputs": [
    {
     "name": "stdout",
     "output_type": "stream",
     "text": [
      "\n",
      "\n",
      "\u001b[1m> Entering new SequentialChain chain...\u001b[0m\n",
      "responses\n",
      "['\\n\\nA professional fact-checker is someone who is responsible for verifying the accuracy of written material before it is published. They are meticulous researchers who use a variety of sources, including databases, interviews, and published documents, to verify facts. They also have excellent writing, communication, and organizational skills, as well as a keen eye for detail. They must be able to identify and correct errors in text, as well as recognize potential problems with content. Fact-checkers must be able to work under tight deadlines and must be able to communicate any discrepancies or issues to the editor.', '\\n\\nA professional fact-checker is someone who verifies the accuracy of information in a variety of mediums, including articles, books, television shows, and other sources of information. They use a variety of methods to assess the accuracy of sources, such as reading original documents, cross-checking references, and speaking to experts. They also must be able to evaluate the reliability of sources, determine the relevance of facts to the content, and identify any potential errors or omissions. Fact-checkers must be comfortable working independently and be able to work quickly and accurately. They must possess strong research and analytical skills, be detail-oriented, and have an excellent knowledge of the English language. Most importantly, they must have a strong commitment to accuracy and integrity.']\n",
      "\u001b[1mChain 0\u001b[0m:\n",
      "{'description': ['\\n\\nA professional fact-checker is someone who is responsible for verifying the accuracy of written material before it is published. They are meticulous researchers who use a variety of sources, including databases, interviews, and published documents, to verify facts. They also have excellent writing, communication, and organizational skills, as well as a keen eye for detail. They must be able to identify and correct errors in text, as well as recognize potential problems with content. Fact-checkers must be able to work under tight deadlines and must be able to communicate any discrepancies or issues to the editor.', '\\n\\nA professional fact-checker is someone who verifies the accuracy of information in a variety of mediums, including articles, books, television shows, and other sources of information. They use a variety of methods to assess the accuracy of sources, such as reading original documents, cross-checking references, and speaking to experts. They also must be able to evaluate the reliability of sources, determine the relevance of facts to the content, and identify any potential errors or omissions. Fact-checkers must be comfortable working independently and be able to work quickly and accurately. They must possess strong research and analytical skills, be detail-oriented, and have an excellent knowledge of the English language. Most importantly, they must have a strong commitment to accuracy and integrity.']}\n",
      "\n",
      "responses\n",
      "[\" I'm sorry, but I'm not familiar with the answer to that question. As a professional fact-checker, I specialize in verifying the accuracy of written material, not executive roles in specific companies.\", \" I'm sorry, I'm not sure who the CEO of Chartbeat is. However, I am confident I can verify the answer if you provide me with some reliable sources.\", ' The CEO of Chartbeat is John Saroff.', ' After researching the company, I have determined that John Saroff is the CEO of Chartbeat.']\n",
      "\u001b[1mChain 1\u001b[0m:\n",
      "{'answer': [\" I'm sorry, but I'm not familiar with the answer to that question. As a professional fact-checker, I specialize in verifying the accuracy of written material, not executive roles in specific companies.\", \" I'm sorry, I'm not sure who the CEO of Chartbeat is. However, I am confident I can verify the answer if you provide me with some reliable sources.\", ' The CEO of Chartbeat is John Saroff.', ' After researching the company, I have determined that John Saroff is the CEO of Chartbeat.']}\n",
      "\n",
      "\n",
      "\u001b[1m> Finished SequentialChain chain.\u001b[0m\n"
     ]
    },
    {
     "data": {
      "text/plain": [
       "{'question': 'Who is the CEO of Chartbeat?',\n",
       " 'persona': 'a professional fact-checker',\n",
       " 'answer': [\" I'm sorry, but I'm not familiar with the answer to that question. As a professional fact-checker, I specialize in verifying the accuracy of written material, not executive roles in specific companies.\",\n",
       "  \" I'm sorry, I'm not sure who the CEO of Chartbeat is. However, I am confident I can verify the answer if you provide me with some reliable sources.\",\n",
       "  ' The CEO of Chartbeat is John Saroff.',\n",
       "  ' After researching the company, I have determined that John Saroff is the CEO of Chartbeat.']}"
      ]
     },
     "execution_count": 2,
     "metadata": {},
     "output_type": "execute_result"
    }
   ],
   "source": [
    "llm = OpenAI(temperature=0.7)\n",
    "\n",
    "get_description = LLMChain(\n",
    "    llm=llm,\n",
    "    prompt=PromptTemplate(input_variables=[\"persona\"], template=\"A description of {persona}:\"),\n",
    "    output_key='description',\n",
    "    n=2,\n",
    ")\n",
    "\n",
    "get_initials = LLMChain(\n",
    "    llm=llm,\n",
    "    prompt=PromptTemplate(input_variables=[\"description\", \"question\"], template=\"Here's a description of a character: ```{description}```\\n\\nHow would this character answer the question '{question}'?\\n\\nAnswer:\"),\n",
    "    output_key='answer',\n",
    "    n=2,\n",
    ")\n",
    "\n",
    "overall_chain = SequentialChain(chains=[get_description, get_initials], input_variables=['persona', 'question'], output_variables=['answer'], verbose=True)\n",
    "overall_chain({'question': 'Who is the CEO of Chartbeat?', 'persona': 'a professional fact-checker'})"
   ]
  },
  {
   "cell_type": "code",
   "execution_count": null,
   "metadata": {},
   "outputs": [],
   "source": []
  }
 ],
 "metadata": {
  "kernelspec": {
   "display_name": "Python 3 (ipykernel)",
   "language": "python",
   "name": "python3"
  },
  "language_info": {
   "codemirror_mode": {
    "name": "ipython",
    "version": 3
   },
   "file_extension": ".py",
   "mimetype": "text/x-python",
   "name": "python",
   "nbconvert_exporter": "python",
   "pygments_lexer": "ipython3",
   "version": "3.10.3"
  }
 },
 "nbformat": 4,
 "nbformat_minor": 4
}
