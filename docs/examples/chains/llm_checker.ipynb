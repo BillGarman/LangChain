{
 "cells": [
  {
   "cell_type": "markdown",
   "metadata": {},
   "source": [
    "# LLMCheckerChain\n",
    "This notebook showcases how to use LLMCheckerChain."
   ]
  },
  {
   "cell_type": "code",
   "execution_count": 1,
   "metadata": {},
   "outputs": [
    {
     "name": "stdout",
     "output_type": "stream",
     "text": [
      "\n",
      "\n",
      "\u001b[1m> Entering new LLMCheckerChain chain...\u001b[0m\n",
      "\n",
      "\n",
      "\u001b[1m> Entering new SequentialChain chain...\u001b[0m\n",
      "selected_inputs\n",
      "{'question': 'What type of mammal lays the biggest eggs?'}\n",
      "list_of_selected_inputs\n",
      "[['What type of mammal lays the biggest eggs?']]\n",
      "list_of_branches:\n",
      "[{'question': 'What type of mammal lays the biggest eggs?'}]\n",
      "responses\n",
      "['\\nA platypus lays the biggest eggs of any mammal.', '\\nThe largest mammal that lays eggs is the elephant.']\n",
      "\u001b[1mChain 0\u001b[0m:\n",
      "{'statement': ['\\nA platypus lays the biggest eggs of any mammal.', '\\nThe largest mammal that lays eggs is the elephant.']}\n",
      "\n",
      "selected_inputs\n",
      "{'statement': ['\\nA platypus lays the biggest eggs of any mammal.', '\\nThe largest mammal that lays eggs is the elephant.']}\n",
      "list_of_selected_inputs\n",
      "[['\\nA platypus lays the biggest eggs of any mammal.', '\\nThe largest mammal that lays eggs is the elephant.']]\n",
      "list_of_branches:\n",
      "[{'statement': '\\nA platypus lays the biggest eggs of any mammal.'}, {'statement': '\\nThe largest mammal that lays eggs is the elephant.'}]\n",
      "responses\n",
      "['• A platypus is a mammal\\n• Elephants lay eggs\\n• Platypus eggs are larger than elephant eggs', '• The platypus is a mammal \\n• Elephants lay eggs \\n• The eggs of the platypus are larger than the eggs of the elephant \\n• Mammals have eggs \\n• Elephants are the largest mammal that lays eggs']\n",
      "\u001b[1mChain 1\u001b[0m:\n",
      "{'assertions': ['• A platypus is a mammal\\n• Elephants lay eggs\\n• Platypus eggs are larger than elephant eggs', '• The platypus is a mammal \\n• Elephants lay eggs \\n• The eggs of the platypus are larger than the eggs of the elephant \\n• Mammals have eggs \\n• Elephants are the largest mammal that lays eggs']}\n",
      "\n",
      "selected_inputs\n",
      "{'assertions': ['• A platypus is a mammal\\n• Elephants lay eggs\\n• Platypus eggs are larger than elephant eggs', '• The platypus is a mammal \\n• Elephants lay eggs \\n• The eggs of the platypus are larger than the eggs of the elephant \\n• Mammals have eggs \\n• Elephants are the largest mammal that lays eggs']}\n",
      "list_of_selected_inputs\n",
      "[['• A platypus is a mammal\\n• Elephants lay eggs\\n• Platypus eggs are larger than elephant eggs', '• The platypus is a mammal \\n• Elephants lay eggs \\n• The eggs of the platypus are larger than the eggs of the elephant \\n• Mammals have eggs \\n• Elephants are the largest mammal that lays eggs']]\n",
      "list_of_branches:\n",
      "[{'assertions': '• A platypus is a mammal\\n• Elephants lay eggs\\n• Platypus eggs are larger than elephant eggs'}, {'assertions': '• The platypus is a mammal \\n• Elephants lay eggs \\n• The eggs of the platypus are larger than the eggs of the elephant \\n• Mammals have eggs \\n• Elephants are the largest mammal that lays eggs'}]\n",
      "responses\n",
      "['• A platypus is a mammal: True\\n• Elephants lay eggs: False – Elephants do not lay eggs, they give birth to live young.\\n• Platypus eggs are larger than elephant eggs: False – Platypus eggs are much smaller than elephant eggs.\\n• Mammals have eggs: False – Mammals give birth to live young, not eggs.\\n• Elephants are the largest mammal that lays eggs: False – Elephants do not lay eggs, so they cannot be the largest mammal that lays eggs.', '• A platypus is a mammal: TRUE\\n• Elephants lay eggs: TRUE\\n• Platypus eggs are larger than elephant eggs: FALSE. Platypus eggs are typically about 1 inch in diameter, whereas elephant eggs are typically around 2 inches in diameter.']\n",
      "\u001b[1mChain 2\u001b[0m:\n",
      "{'checked_assertions': ['• A platypus is a mammal: True\\n• Elephants lay eggs: False – Elephants do not lay eggs, they give birth to live young.\\n• Platypus eggs are larger than elephant eggs: False – Platypus eggs are much smaller than elephant eggs.\\n• Mammals have eggs: False – Mammals give birth to live young, not eggs.\\n• Elephants are the largest mammal that lays eggs: False – Elephants do not lay eggs, so they cannot be the largest mammal that lays eggs.', '• A platypus is a mammal: TRUE\\n• Elephants lay eggs: TRUE\\n• Platypus eggs are larger than elephant eggs: FALSE. Platypus eggs are typically about 1 inch in diameter, whereas elephant eggs are typically around 2 inches in diameter.']}\n",
      "\n",
      "selected_inputs\n",
      "{'checked_assertions': ['• A platypus is a mammal: True\\n• Elephants lay eggs: False – Elephants do not lay eggs, they give birth to live young.\\n• Platypus eggs are larger than elephant eggs: False – Platypus eggs are much smaller than elephant eggs.\\n• Mammals have eggs: False – Mammals give birth to live young, not eggs.\\n• Elephants are the largest mammal that lays eggs: False – Elephants do not lay eggs, so they cannot be the largest mammal that lays eggs.', '• A platypus is a mammal: TRUE\\n• Elephants lay eggs: TRUE\\n• Platypus eggs are larger than elephant eggs: FALSE. Platypus eggs are typically about 1 inch in diameter, whereas elephant eggs are typically around 2 inches in diameter.'], 'question': 'What type of mammal lays the biggest eggs?'}\n",
      "list_of_selected_inputs\n",
      "[['• A platypus is a mammal: True\\n• Elephants lay eggs: False – Elephants do not lay eggs, they give birth to live young.\\n• Platypus eggs are larger than elephant eggs: False – Platypus eggs are much smaller than elephant eggs.\\n• Mammals have eggs: False – Mammals give birth to live young, not eggs.\\n• Elephants are the largest mammal that lays eggs: False – Elephants do not lay eggs, so they cannot be the largest mammal that lays eggs.', '• A platypus is a mammal: TRUE\\n• Elephants lay eggs: TRUE\\n• Platypus eggs are larger than elephant eggs: FALSE. Platypus eggs are typically about 1 inch in diameter, whereas elephant eggs are typically around 2 inches in diameter.'], ['What type of mammal lays the biggest eggs?']]\n",
      "list_of_branches:\n",
      "[{'checked_assertions': '• A platypus is a mammal: True\\n• Elephants lay eggs: False – Elephants do not lay eggs, they give birth to live young.\\n• Platypus eggs are larger than elephant eggs: False – Platypus eggs are much smaller than elephant eggs.\\n• Mammals have eggs: False – Mammals give birth to live young, not eggs.\\n• Elephants are the largest mammal that lays eggs: False – Elephants do not lay eggs, so they cannot be the largest mammal that lays eggs.', 'question': 'What type of mammal lays the biggest eggs?'}, {'checked_assertions': '• A platypus is a mammal: TRUE\\n• Elephants lay eggs: TRUE\\n• Platypus eggs are larger than elephant eggs: FALSE. Platypus eggs are typically about 1 inch in diameter, whereas elephant eggs are typically around 2 inches in diameter.', 'question': 'What type of mammal lays the biggest eggs?'}]\n",
      "responses\n",
      "[' None - Mammals do not lay eggs, they give birth to live young.', ' The biggest eggs are laid by birds, not mammals. Mammals give birth to live young, not eggs.']\n",
      "\u001b[1mChain 3\u001b[0m:\n",
      "{'revised_statement': [' None - Mammals do not lay eggs, they give birth to live young.', ' The biggest eggs are laid by birds, not mammals. Mammals give birth to live young, not eggs.']}\n",
      "\n",
      "\n",
      "\u001b[1m> Finished SequentialChain chain.\u001b[0m\n",
      "\n",
      "\u001b[1m> Finished LLMCheckerChain chain.\u001b[0m\n"
     ]
    },
    {
     "data": {
      "text/plain": [
       "[' None - Mammals do not lay eggs, they give birth to live young.',\n",
       " ' The biggest eggs are laid by birds, not mammals. Mammals give birth to live young, not eggs.']"
      ]
     },
     "execution_count": 1,
     "metadata": {},
     "output_type": "execute_result"
    }
   ],
   "source": [
    "from langchain.chains import LLMCheckerChain\n",
    "from langchain.llms import OpenAI\n",
    "\n",
    "llm = OpenAI(temperature=0.7)\n",
    "\n",
    "text = \"What type of mammal lays the biggest eggs?\"\n",
    "\n",
    "checker_chain = LLMCheckerChain(llm=llm, verbose=True)\n",
    "\n",
    "checker_chain.run(text)"
   ]
  },
  {
   "cell_type": "code",
   "execution_count": null,
   "metadata": {},
   "outputs": [],
   "source": []
  }
 ],
 "metadata": {
  "kernelspec": {
   "display_name": "Python 3 (ipykernel)",
   "language": "python",
   "name": "python3"
  },
  "language_info": {
   "codemirror_mode": {
    "name": "ipython",
    "version": 3
   },
   "file_extension": ".py",
   "mimetype": "text/x-python",
   "name": "python",
   "nbconvert_exporter": "python",
   "pygments_lexer": "ipython3",
   "version": "3.10.3"
  }
 },
 "nbformat": 4,
 "nbformat_minor": 4
}
