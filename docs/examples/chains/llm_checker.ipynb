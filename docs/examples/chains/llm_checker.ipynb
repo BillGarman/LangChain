{
 "cells": [
  {
   "cell_type": "markdown",
   "metadata": {},
   "source": [
    "# LLMCheckerChain\n",
    "This notebook showcases how to use LLMCheckerChain."
   ]
  },
  {
   "cell_type": "code",
   "execution_count": 1,
   "metadata": {},
   "outputs": [],
   "source": [
    "from langchain.chains import LLMCheckerChain, LLMChain, SequentialChain, ParallelChain\n",
    "from langchain.llms import OpenAI\n",
    "from langchain.prompts.base import ListOutputParser\n",
    "from langchain.llms.base import LLM\n",
    "\n",
    "\n",
    "llm = OpenAI(temperature=0.7)\n",
    "\n",
    "text = \"What type of mammal lays the biggest eggs?\"\n",
    "\n",
    "checker_chain = LLMCheckerChain(llm=llm, verbose=True)\n",
    "\n",
    "# checker_chain.run(text)"
   ]
  },
  {
   "cell_type": "code",
   "execution_count": 2,
   "metadata": {},
   "outputs": [],
   "source": [
    "# flake8: noqa\n",
    "from langchain.prompts.prompt import PromptTemplate\n",
    "\n",
    "_CREATE_DRAFT_ANSWER_TEMPLATE = \"\"\"{question}\\n\\n\"\"\"\n",
    "CREATE_DRAFT_ANSWER_PROMPT = PromptTemplate(\n",
    "    input_variables=[\"question\"], template=_CREATE_DRAFT_ANSWER_TEMPLATE\n",
    ")\n",
    "\n",
    "_LIST_ASSERTIONS_TEMPLATE = \"\"\"Here is a statement:\n",
    "{statement}\n",
    "Make a bullet point list of the assumptions you made when producing the above statement.\\n\\n\"\"\"\n",
    "LIST_ASSERTIONS_PROMPT = PromptTemplate(\n",
    "    input_variables=[\"statement\"], template=_LIST_ASSERTIONS_TEMPLATE\n",
    ")\n",
    "\n",
    "_CHECK_ASSERTIONS_TEMPLATE = \"\"\"{assertions}\n",
    "Repeat the assertion above, and then determine if it is true or false. If it is false, explain why.\\n\\n\"\"\"\n",
    "CHECK_ASSERTIONS_PROMPT = PromptTemplate(\n",
    "    input_variables=[\"assertions\"], template=_CHECK_ASSERTIONS_TEMPLATE\n",
    ")\n",
    "\n",
    "_REVISED_ANSWER_TEMPLATE = \"\"\"{checked_assertions}\n",
    "\n",
    "Question: In light of the above assertions and checks, how would you answer the question '{question}'?\n",
    "\n",
    "Answer:\"\"\"\n",
    "REVISED_ANSWER_PROMPT = PromptTemplate(\n",
    "    input_variables=[\"checked_assertions\", \"question\"],\n",
    "    template=_REVISED_ANSWER_TEMPLATE,\n",
    ")"
   ]
  },
  {
   "cell_type": "code",
   "execution_count": 7,
   "metadata": {},
   "outputs": [],
   "source": [
    "llm = OpenAI(temperature=0.7)\n",
    "\n",
    "create_draft_answer_chain = ParallelChain(\n",
    "    llm=llm, prompt=CREATE_DRAFT_ANSWER_PROMPT, output_key=\"statement\"\n",
    ")\n",
    "\n",
    "list_assertions_chain = ParallelChain(\n",
    "    llm=llm,\n",
    "    prompt=LIST_ASSERTIONS_PROMPT,\n",
    "    output_key=\"assertions\",\n",
    "    # This indicates that there are multiple outputs\n",
    "    output_parser=lambda x: [i.strip() for i in x.split(\"\\n\") if len(i.strip()) > 0],\n",
    ")\n",
    "\n",
    "check_assertions_chain = ParallelChain(\n",
    "    llm=llm, prompt=CHECK_ASSERTIONS_PROMPT, output_key=\"checked_assertions\"\n",
    ")\n",
    "\n",
    "revised_answer_chain = ParallelChain(\n",
    "    llm=llm,\n",
    "    prompt=REVISED_ANSWER_PROMPT,\n",
    "    output_key=\"revised_answer\",\n",
    "    # This indicates that there are multiple inputs\n",
    "    input_parser=lambda x: \"\\n\".join(x),\n",
    ")\n",
    "\n",
    "self_ask_verification_chain = SequentialChain(\n",
    "    chains=[\n",
    "        create_draft_answer_chain,\n",
    "        list_assertions_chain,\n",
    "        check_assertions_chain,\n",
    "        revised_answer_chain,\n",
    "    ],\n",
    "    input_variables=[\"question\"],\n",
    "    output_variables=[\"revised_answer\"],\n",
    "    verbose=True,\n",
    ")"
   ]
  },
  {
   "cell_type": "code",
   "execution_count": 8,
   "metadata": {},
   "outputs": [
    {
     "name": "stdout",
     "output_type": "stream",
     "text": [
      "\n",
      "\n",
      "\u001b[1m> Entering new SequentialChain chain...\u001b[0m\n",
      "\u001b[1mChain 0\u001b[0m:\n",
      "{'statement': ['\\nThe largest eggs laid by a mammal belong to the whale shark, which can lay eggs up to 19 inches (48 cm) long.']}\n",
      "\n",
      "\u001b[1mChain 1\u001b[0m:\n",
      "{'assertions': ['• Whale sharks lay eggs', '• The eggs are the largest of any mammal', '• The eggs can be up to 19 inches (48 cm) long']}\n",
      "\n",
      "\u001b[1mChain 2\u001b[0m:\n",
      "{'checked_assertions': ['The assertion is: Whale sharks lay eggs.\\nThis is false. Whale sharks are viviparous, meaning they give birth to live young. They do not lay eggs.', 'The eggs of any mammal are the largest eggs. FALSE. Mammals do not lay eggs, only birds and reptiles do.', 'The eggs can be up to 19 inches (48 cm) long. TRUE']}\n",
      "\n",
      "\u001b[1mChain 3\u001b[0m:\n",
      "{'revised_answer': [' None, mammals do not lay eggs.']}\n",
      "\n",
      "\n",
      "\u001b[1m> Finished SequentialChain chain.\u001b[0m\n",
      "CPU times: user 312 ms, sys: 20 ms, total: 332 ms\n",
      "Wall time: 4.58 s\n"
     ]
    },
    {
     "data": {
      "text/plain": [
       "[' None, mammals do not lay eggs.']"
      ]
     },
     "execution_count": 8,
     "metadata": {},
     "output_type": "execute_result"
    }
   ],
   "source": [
    "%%time\n",
    "self_ask_verification_chain.run(text)"
   ]
  },
  {
   "cell_type": "code",
   "execution_count": 27,
   "metadata": {},
   "outputs": [],
   "source": [
    "llm = OpenAI(temperature=0.7)\n",
    "\n",
    "create_draft_answer_chain = ParallelChain(\n",
    "    llm=llm, prompt=CREATE_DRAFT_ANSWER_PROMPT, output_key=\"statement\", n = 25\n",
    ")\n",
    "\n",
    "list_assertions_chain = ParallelChain(\n",
    "    llm=llm,\n",
    "    prompt=LIST_ASSERTIONS_PROMPT,\n",
    "    output_key=\"assertions\",\n",
    "    # This indicates that there are multiple outputs\n",
    "#     output_parser=lambda x: [i.strip() for i in x.split(\"\\n\") if len(i.strip()) > 0],\n",
    ")\n",
    "\n",
    "check_assertions_chain = ParallelChain(\n",
    "    llm=llm, prompt=CHECK_ASSERTIONS_PROMPT, output_key=\"checked_assertions\"\n",
    ")\n",
    "\n",
    "revised_answer_chain = ParallelChain(\n",
    "    llm=llm,\n",
    "    prompt=REVISED_ANSWER_PROMPT,\n",
    "    output_key=\"revised_answer\",\n",
    "    # This indicates that there are multiple inputs\n",
    "#     input_parser=lambda x: \"\\n\".join(x),\n",
    ")\n",
    "\n",
    "\n",
    "MOE_CONSENSUS_PROMPT = PromptTemplate(\n",
    "    input_variables=[\"revised_answer\", \"question\"],\n",
    "    template=\"\"\"{revised_answer}\n",
    "\n",
    "Question: A group of experts each gave their opinion above. How would the plurality of them answer the question '{question}'?\n",
    "\n",
    "Answer:\"\"\",\n",
    ")\n",
    "\n",
    "moe_answer_chain = ParallelChain(\n",
    "    llm=llm,\n",
    "    prompt=MOE_CONSENSUS_PROMPT,\n",
    "    output_key=\"final_answer\",\n",
    "    # This indicates that there are multiple inputs\n",
    "    input_parser=lambda x: \"\\n -\" + \"\\n -\".join(x),\n",
    ")\n",
    "\n",
    "\n",
    "self_ask_verification_chain = SequentialChain(\n",
    "    chains=[\n",
    "        create_draft_answer_chain,\n",
    "        list_assertions_chain,\n",
    "        check_assertions_chain,\n",
    "        revised_answer_chain,\n",
    "        moe_answer_chain,\n",
    "    ],\n",
    "    input_variables=[\"question\"],\n",
    "    output_variables=[\"final_answer\"],\n",
    "    verbose=True,\n",
    ")"
   ]
  },
  {
   "cell_type": "code",
   "execution_count": null,
   "metadata": {},
   "outputs": [
    {
     "name": "stdout",
     "output_type": "stream",
     "text": [
      "\n",
      "\n",
      "\u001b[1m> Entering new SequentialChain chain...\u001b[0m\n",
      "\u001b[1mChain 0\u001b[0m:\n",
      "{'statement': ['\\n\\nThe largest eggs laid by any mammal belong to the Elephantidae family, which includes the African elephant and the Asian elephant.', '\\n\\nThe platypus is the only mammal that lays eggs, and they are the largest of any mammal eggs.', '\\n\\nThe largest eggs laid by any mammal belong to the elephant, which can weigh up to 4 pounds.', '\\nThe largest mammal egg belongs to the elephant.', '\\n\\nThe largest mammal that lays eggs is the elephant bird, an extinct species of flightless bird that was native to Madagascar.', '\\nThe largest mammal that lays eggs is the the echidna, also known as the spiny anteater.', '\\n\\nThe biggest eggs laid by a mammal belong to the elephant. They are around the size of a grapefruit and are not fertilized.', '\\nThe largest egg laid by a mammal is the egg of the elephant.', '\\n\\nThe biggest eggs laid by a mammal are those of the Australian Echidna, a species of spiny anteater.', '\\nThe largest mammal that lays eggs is the the platypus.', '\\nThe largest egg laid by a mammal is that of the coelacanth, a fish-like creature that lives off the coast of Africa and Indonesia.', '\\nThe largest mammal that lays eggs is the elephant bird, an extinct species of giant flightless birds native to Madagascar.', '\\nThe largest egg laid by a mammal belongs to the whale shark, which can lay eggs up to 20 inches (50 cm) long.', '\\n\\nThe largest mammal egg is laid by the elephant.', '\\nThe largest eggs laid by a mammal are those of the North Atlantic right whale, which can measure up to 20 cm (8 inches) in diameter and weigh up to 2 kg (4.4 lbs).', '\\nThe largest mammal egg is laid by the elephant.', '\\n\\nThe largest mammal to lay eggs is the echidna, which is a type of spiny anteater found in Australia and New Guinea. The eggs are about the size of a grape.', '\\n\\nThe egg-laying mammal with the largest eggs is the echidna, also known as the spiny anteater. These egg-laying mammals are native to Australia and New Guinea and lay eggs that are roughly the size of a grape.', '\\n\\nThe largest mammal that lays eggs is the the echidna, also known as a spiny anteater. They lay eggs that are about 1 inch in diameter.', '\\n\\nThe largest egg laid by any mammal is the egg of the North American beaver, which can weigh up to 2 ounces (or 56 grams).', '\\nThe largest mammal that lays eggs is the platypus.', '\\n\\nThe largest mammal egg is laid by the elephant, though the egg is significantly smaller than that of most birds.', '\\nThe largest egg laid by a mammal is the egg of the North African elephant shrew, which is approximately the size of a tennis ball.', '\\nThe largest mammal that lays eggs is the North Atlantic right whale.', '\\n\\nThe largest eggs laid by mammals belong to the Australian monotreme, the echidna. These eggs measure about 1.4 inches (3.5 cm) in length and 0.7 inches (1.8 cm) in width.']}\n",
      "\n",
      "\u001b[1mChain 1\u001b[0m:\n",
      "{'assertions': ['\\n• The Elephantidae family includes two species: African and Asian elephants\\n• African and Asian elephants lay eggs \\n• African and Asian elephants lay the largest eggs of any mammal \\n• Eggs laid by African and Asian elephants are larger than eggs laid by any other mammal', '\\n- The platypus is a mammal\\n- The platypus lays eggs\\n- The eggs laid by the platypus are the largest of any mammal eggs', '• The statement is referring to the eggs of the elephant. \\n• Elephant eggs can weigh up to 4 pounds. \\n• Elephant eggs are the largest eggs laid by any mammal. \\n• Mammals lay eggs.', '\\n• Elephant is a mammal \\n• Mammals lay eggs \\n• The egg of the elephant is the largest of all mammal eggs \\n• The size of the egg can be measured', '- The elephant bird is an extinct species\\n- It was native to Madagascar\\n- It is the largest mammal that laid eggs\\n- It was a flightless bird', '\\n• The echidna is a mammal \\n• The echidna is the largest mammal that lays eggs \\n• The echidna is also known as the spiny anteater', '\\n• Mammals lay eggs\\n• Elephant eggs are the biggest\\n• Elephant eggs are approximately the size of a grapefruit\\n• Elephant eggs are not fertilized', '\\n• Mammals can lay eggs \\n• Elephants are mammals \\n• The largest egg laid by any mammal is that of the elephant \\n• The size of the egg can be measured \\n• The size of the egg is an important factor in determining the largest egg laid by a mammal', '\\n• Australian Echidna is a species of mammal \\n• Australian Echidna is a species of spiny anteater\\n• Australian Echidna lays eggs\\n• Australian Echidna lays the biggest eggs amongst mammals', '• The platypus is a mammal\\n• The platypus lays eggs\\n• The platypus is the largest mammal that lays eggs', '\\n• The coelacanth is a mammal \\n• The coelacanth lives off the coast of Africa and Indonesia \\n• The coelacanth lays eggs \\n• The egg laid by the coelacanth is the largest egg laid by any mammal', '\\n• The elephant bird is the largest mammal that lays eggs\\n• The elephant bird is an extinct species\\n• The elephant bird is a giant flightless bird\\n• The elephant bird is native to Madagascar', '\\n• Whale sharks lay eggs\\n• The largest egg laid by a mammal is laid by a whale shark\\n• Whale shark eggs can be up to 20 inches (50 cm) long', '\\n• The elephant is the largest mammal\\n• Eggs are laid by the elephant\\n• Elephant eggs are the largest among mammal eggs', '\\n• Eggs of the North Atlantic right whale can measure up to 20 cm (8 inches) in diameter\\n• Eggs of the North Atlantic right whale can weigh up to 2 kg (4.4 lbs)\\n• North Atlantic right whale is a mammal', '\\n- The elephant is a mammal\\n- Mammals lay eggs\\n- Elephant eggs are the largest of all mammal eggs', '\\n• The echidna is the largest mammal to lay eggs\\n• The echidna is a type of spiny anteater\\n• The echidna is found in Australia and New Guinea\\n• The eggs are approximately the size of a grape', '• The echidna lays eggs \\n• The echidna is known as the spiny anteater \\n• Echidnas are native to Australia and New Guinea \\n• Echidna eggs are roughly the size of a grape', '\\n• The echidna is the largest mammal that lays eggs \\n• Eggs laid by echidnas are approximately 1 inch in diameter \\n• The echidna is also known as a spiny anteater', '\\n• The North American beaver lays the largest egg of any mammal \\n• The largest egg of the North American beaver can weigh up to 2 ounces (or 56 grams) \\n• There is an established record of the largest egg laid by any mammal \\n• The North American beaver is a mammal', '\\n• Platypus is a mammal \\n• Mammals can lay eggs \\n• Platypus is the largest mammal that lays eggs', '\\n• Elephant is the largest mammal\\n• Its egg is the largest of all mammal eggs\\n• Most bird eggs are larger than elephant eggs', \"\\n• The North African elephant shrew lays eggs \\n• The egg of the North African elephant shrew is larger than eggs laid by other mammals \\n• The size of the North African elephant shrew's egg is similar to that of a tennis ball\", '\\n-The North Atlantic right whale is a mammal\\n-The North Atlantic right whale lays eggs\\n-The North Atlantic right whale is the largest mammal that lays eggs', '\\n• Eggs are laid by mammals \\n• Australian monotremes lay the largest eggs \\n• Eggs measure about 1.4 inches (3.5 cm) in length \\n• Eggs measure about 0.7 inches (1.8 cm) in width']}\n",
      "\n",
      "\u001b[1mChain 2\u001b[0m:\n",
      "{'checked_assertions': ['The assertion that African and Asian elephants lay the largest eggs of any mammal is false. Mammals do not lay eggs, so it is not possible for African and Asian elephants to lay the largest eggs of any mammal.', 'The platypus lays eggs, which are the largest of any mammal eggs is true. This is because the platypus lays eggs that are approximately 2 cm in diameter, which is larger than the eggs of other mammals.', 'The assertion that mammals lay eggs is true. All mammals lay eggs, though some lay fewer eggs than others. For example, elephants lay large eggs that can weigh up to 4 pounds, while bats lay tiny eggs that are barely visible.', '\\nThe assertion: The egg of the elephant is the largest of all mammal eggs.\\n\\nThe egg of the elephant is the largest of all mammal eggs. True. The egg of the elephant is the largest of all mammal eggs, measuring up to 4 inches in diameter.', 'The elephant bird laid eggs, which is true. It was the largest mammal, which is false; it was the largest bird.', 'The echidna is the largest mammal that lays eggs. True. The echidna is the only mammal that lays eggs, making it the largest mammal that lays eggs.', 'The assertion is that mammals lay eggs. This is false, as mammals do not lay eggs; only some species of reptiles and birds lay eggs.', '\\nThe assertion is: \"The largest egg laid by any mammal is that of the elephant.\" This assertion is true, as the largest egg laid by any mammal belongs to the elephant.', 'Australian Echidna lays the biggest eggs amongst mammals - False. The Australian Echidna lays the second largest eggs amongst mammals, with the first being the Elephant Bird.', '\\nThe platypus is the largest mammal that lays eggs. FALSE. The platypus is not the largest mammal that lays eggs, as the echidna is larger than the platypus and also lays eggs.', 'The coelacanth is a mammal.\\nFalse. The coelacanth is not a mammal, but rather a fish. It is a lobe-finned fish, and is the only living species of its kind.', 'The elephant bird is the largest mammal that lays eggs. FALSE. The elephant bird is an extinct species of giant flightless bird native to Madagascar, not a mammal. Mammals do not lay eggs.', 'The assertion that Whale sharks lay eggs is true. Whale sharks are oviparous, meaning they lay eggs which are expelled from the body and left to develop and hatch in the ocean.', 'The elephant lays the largest eggs among mammals. False. Elephant eggs are not laid by the elephant - only other mammals lay eggs.', 'The assertion that eggs of the North Atlantic right whale can measure up to 20 cm (8 inches) in diameter and can weigh up to 2 kg (4.4 lbs) is true. This information is verified by various sources, such as the International Union for Conservation of Nature and Natural Resources.', 'The assertion: Elephant eggs are the largest of all mammal eggs.\\n\\nFalse. Elephant eggs are not the largest of all mammal eggs; the eggs of the blue whale are the largest of all mammal eggs.', 'The echidna is the largest mammal on earth to lay eggs. False, the echidna is not the largest mammal on earth to lay eggs. The largest mammal on earth to lay eggs is the platypus.', 'The echidna lays eggs - True \\nEchidnas are native to Australia and New Guinea - True', 'The echidna is the largest mammal that lays eggs: True. Echidnas are the only mammals that lay eggs.', 'The North American beaver lays the largest egg of any mammal: TRUE. The North American beaver lays the largest egg of any mammal, weighing up to 2 ounces (or 56 grams).', '\\nPlatypus is the largest mammal that lays eggs. FALSE. Although Platypus is the only mammal that lays eggs, it is not the largest mammal. The largest mammals include species such as elephants, rhinoceroses, and whales.', '\\nThe assertion is: Elephant eggs are the largest of all mammal eggs.\\n\\nThis statement is false. Elephant eggs are not the largest of all mammal eggs; most bird eggs are larger than elephant eggs.', \"The North African elephant shrew lays eggs the size of a tennis ball.\\nFalse. The size of the North African elephant shrew's egg is similar to that of a tennis ball, but it is not exactly the same size.\", 'The North Atlantic right whale lays eggs is false. The North Atlantic right whale is a mammal, but it does not lay eggs; it gives birth to live young.', 'The assertion is: Australian monotremes lay the largest eggs. \\nThis is true. Australian monotremes, which include the platypus and the echidna, lay the largest eggs relative to their body size of any mammal.']}\n",
      "\n"
     ]
    }
   ],
   "source": [
    "%%time\n",
    "self_ask_verification_chain.run(text)"
   ]
  },
  {
   "cell_type": "code",
   "execution_count": null,
   "metadata": {},
   "outputs": [],
   "source": []
  }
 ],
 "metadata": {
  "kernelspec": {
   "display_name": "Python 3 (ipykernel)",
   "language": "python",
   "name": "python3"
  },
  "language_info": {
   "codemirror_mode": {
    "name": "ipython",
    "version": 3
   },
   "file_extension": ".py",
   "mimetype": "text/x-python",
   "name": "python",
   "nbconvert_exporter": "python",
   "pygments_lexer": "ipython3",
   "version": "3.10.3"
  },
  "vscode": {
   "interpreter": {
    "hash": "835c5a3474ba15827099fbeed14c7b6bc5170ce5ee26bc4cbb835d67e8a2e3b8"
   }
  }
 },
 "nbformat": 4,
 "nbformat_minor": 4
}
