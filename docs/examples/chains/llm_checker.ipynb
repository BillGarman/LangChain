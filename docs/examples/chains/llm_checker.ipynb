{
 "cells": [
  {
   "cell_type": "markdown",
   "metadata": {},
   "source": [
    "# LLMCheckerChain\n",
    "This notebook showcases how to use LLMCheckerChain."
   ]
  },
  {
   "cell_type": "code",
   "execution_count": 1,
   "metadata": {},
   "outputs": [
    {
     "name": "stdout",
     "output_type": "stream",
     "text": [
      "\n",
      "\n",
      "\u001b[1m> Entering new LLMCheckerChain chain...\u001b[0m\n",
      "\n",
      "\n",
      "\u001b[1m> Entering new SequentialChain chain...\u001b[0m\n",
      "selected_inputs\n",
      "{'question': 'What type of mammal lays the biggest eggs?'}\n",
      "list_of_selected_inputs\n",
      "[['What type of mammal lays the biggest eggs?']]\n",
      "list_of_branches:\n",
      "[{'question': 'What type of mammal lays the biggest eggs?'}]\n",
      "responses\n",
      "['\\n\\nThe largest mammal that lays eggs is the Platypus.', '\\n\\nThe biggest mammal egg is laid by the elephant bird, an extinct flightless bird from Madagascar.']\n",
      "\u001b[1mChain 0\u001b[0m:\n",
      "{'statement': ['\\n\\nThe largest mammal that lays eggs is the Platypus.', '\\n\\nThe biggest mammal egg is laid by the elephant bird, an extinct flightless bird from Madagascar.']}\n",
      "\n",
      "selected_inputs\n",
      "{'statement': ['\\n\\nThe largest mammal that lays eggs is the Platypus.', '\\n\\nThe biggest mammal egg is laid by the elephant bird, an extinct flightless bird from Madagascar.']}\n",
      "list_of_selected_inputs\n",
      "[['\\n\\nThe largest mammal that lays eggs is the Platypus.', '\\n\\nThe biggest mammal egg is laid by the elephant bird, an extinct flightless bird from Madagascar.']]\n",
      "list_of_branches:\n",
      "[{'statement': '\\n\\nThe largest mammal that lays eggs is the Platypus.'}, {'statement': '\\n\\nThe biggest mammal egg is laid by the elephant bird, an extinct flightless bird from Madagascar.'}]\n",
      "responses\n",
      "['\\n- The Platypus is the largest mammal that lays eggs \\n- The elephant bird is an extinct flightless bird from Madagascar \\n- The elephant bird lays the biggest mammal egg', '• The Platypus is the largest mammal that lays eggs \\n• The elephant bird is an extinct flightless bird \\n• The elephant bird laid the biggest mammal egg \\n• The elephant bird was from Madagascar']\n",
      "\u001b[1mChain 1\u001b[0m:\n",
      "{'assertions': ['\\n- The Platypus is the largest mammal that lays eggs \\n- The elephant bird is an extinct flightless bird from Madagascar \\n- The elephant bird lays the biggest mammal egg', '• The Platypus is the largest mammal that lays eggs \\n• The elephant bird is an extinct flightless bird \\n• The elephant bird laid the biggest mammal egg \\n• The elephant bird was from Madagascar']}\n",
      "\n",
      "selected_inputs\n",
      "{'assertions': ['\\n- The Platypus is the largest mammal that lays eggs \\n- The elephant bird is an extinct flightless bird from Madagascar \\n- The elephant bird lays the biggest mammal egg', '• The Platypus is the largest mammal that lays eggs \\n• The elephant bird is an extinct flightless bird \\n• The elephant bird laid the biggest mammal egg \\n• The elephant bird was from Madagascar']}\n",
      "list_of_selected_inputs\n",
      "[['\\n- The Platypus is the largest mammal that lays eggs \\n- The elephant bird is an extinct flightless bird from Madagascar \\n- The elephant bird lays the biggest mammal egg', '• The Platypus is the largest mammal that lays eggs \\n• The elephant bird is an extinct flightless bird \\n• The elephant bird laid the biggest mammal egg \\n• The elephant bird was from Madagascar']]\n",
      "list_of_branches:\n",
      "[{'assertions': '\\n- The Platypus is the largest mammal that lays eggs \\n- The elephant bird is an extinct flightless bird from Madagascar \\n- The elephant bird lays the biggest mammal egg'}, {'assertions': '• The Platypus is the largest mammal that lays eggs \\n• The elephant bird is an extinct flightless bird \\n• The elephant bird laid the biggest mammal egg \\n• The elephant bird was from Madagascar'}]\n",
      "responses\n",
      "['• The Platypus is the largest mammal that lays eggs: True\\n• The elephant bird is an extinct flightless bird: True\\n• The elephant bird laid the biggest mammal egg: False - The elephant bird laid the biggest bird egg.\\n• The elephant bird was from Madagascar: True', '\\n• The Platypus is the largest mammal that lays eggs - True\\n• The elephant bird is an extinct flightless bird - True\\n• The elephant bird laid the biggest mammal egg - False; The elephant bird laid the largest bird egg.\\n• The elephant bird was from Madagascar - True']\n",
      "\u001b[1mChain 2\u001b[0m:\n",
      "{'checked_assertions': ['• The Platypus is the largest mammal that lays eggs: True\\n• The elephant bird is an extinct flightless bird: True\\n• The elephant bird laid the biggest mammal egg: False - The elephant bird laid the biggest bird egg.\\n• The elephant bird was from Madagascar: True', '\\n• The Platypus is the largest mammal that lays eggs - True\\n• The elephant bird is an extinct flightless bird - True\\n• The elephant bird laid the biggest mammal egg - False; The elephant bird laid the largest bird egg.\\n• The elephant bird was from Madagascar - True']}\n",
      "\n",
      "selected_inputs\n",
      "{'checked_assertions': ['• The Platypus is the largest mammal that lays eggs: True\\n• The elephant bird is an extinct flightless bird: True\\n• The elephant bird laid the biggest mammal egg: False - The elephant bird laid the biggest bird egg.\\n• The elephant bird was from Madagascar: True', '\\n• The Platypus is the largest mammal that lays eggs - True\\n• The elephant bird is an extinct flightless bird - True\\n• The elephant bird laid the biggest mammal egg - False; The elephant bird laid the largest bird egg.\\n• The elephant bird was from Madagascar - True'], 'question': 'What type of mammal lays the biggest eggs?'}\n",
      "list_of_selected_inputs\n",
      "[['• The Platypus is the largest mammal that lays eggs: True\\n• The elephant bird is an extinct flightless bird: True\\n• The elephant bird laid the biggest mammal egg: False - The elephant bird laid the biggest bird egg.\\n• The elephant bird was from Madagascar: True', '\\n• The Platypus is the largest mammal that lays eggs - True\\n• The elephant bird is an extinct flightless bird - True\\n• The elephant bird laid the biggest mammal egg - False; The elephant bird laid the largest bird egg.\\n• The elephant bird was from Madagascar - True'], ['What type of mammal lays the biggest eggs?']]\n",
      "list_of_branches:\n",
      "[{'checked_assertions': '• The Platypus is the largest mammal that lays eggs: True\\n• The elephant bird is an extinct flightless bird: True\\n• The elephant bird laid the biggest mammal egg: False - The elephant bird laid the biggest bird egg.\\n• The elephant bird was from Madagascar: True', 'question': 'What type of mammal lays the biggest eggs?'}, {'checked_assertions': '\\n• The Platypus is the largest mammal that lays eggs - True\\n• The elephant bird is an extinct flightless bird - True\\n• The elephant bird laid the biggest mammal egg - False; The elephant bird laid the largest bird egg.\\n• The elephant bird was from Madagascar - True', 'question': 'What type of mammal lays the biggest eggs?'}]\n",
      "responses\n",
      "[' The Platypus is the largest mammal that lays eggs.', ' The Platypus is the largest mammal that lays eggs.']\n",
      "\u001b[1mChain 3\u001b[0m:\n",
      "{'revised_statement': [' The Platypus is the largest mammal that lays eggs.', ' The Platypus is the largest mammal that lays eggs.']}\n",
      "\n",
      "\n",
      "\u001b[1m> Finished SequentialChain chain.\u001b[0m\n",
      "\n",
      "\u001b[1m> Finished LLMCheckerChain chain.\u001b[0m\n"
     ]
    },
    {
     "data": {
      "text/plain": [
       "[' The Platypus is the largest mammal that lays eggs.',\n",
       " ' The Platypus is the largest mammal that lays eggs.']"
      ]
     },
     "execution_count": 1,
     "metadata": {},
     "output_type": "execute_result"
    }
   ],
   "source": [
    "from langchain.chains import LLMCheckerChain\n",
    "from langchain.llms import OpenAI\n",
    "\n",
    "llm = OpenAI(temperature=0.7)\n",
    "\n",
    "text = \"What type of mammal lays the biggest eggs?\"\n",
    "\n",
    "checker_chain = LLMCheckerChain(llm=llm, verbose=True)\n",
    "\n",
    "checker_chain.run(text)"
   ]
  },
  {
   "cell_type": "code",
   "execution_count": null,
   "metadata": {},
   "outputs": [],
   "source": []
  }
 ],
 "metadata": {
  "kernelspec": {
   "display_name": "Python 3 (ipykernel)",
   "language": "python",
   "name": "python3"
  },
  "language_info": {
   "codemirror_mode": {
    "name": "ipython",
    "version": 3
   },
   "file_extension": ".py",
   "mimetype": "text/x-python",
   "name": "python",
   "nbconvert_exporter": "python",
   "pygments_lexer": "ipython3",
   "version": "3.10.3"
  }
 },
 "nbformat": 4,
 "nbformat_minor": 4
}
