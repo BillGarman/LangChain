{
 "cells": [
  {
   "cell_type": "markdown",
   "metadata": {},
   "source": [
    "# LLMCheckerChain\n",
    "This notebook showcases how to use LLMCheckerChain."
   ]
  },
  {
   "cell_type": "code",
   "execution_count": 1,
   "metadata": {},
   "outputs": [],
   "source": [
    "from langchain.chains import LLMCheckerChain, LLMChain, SequentialChain, ParallelChain\n",
    "from langchain.llms import OpenAI\n",
    "from langchain.prompts.base import ListOutputParser\n",
    "from langchain.llms.base import LLM\n",
    "\n",
    "\n",
    "llm = OpenAI(temperature=0.7)\n",
    "\n",
    "text = \"What type of mammal lays the biggest eggs?\"\n",
    "\n",
    "checker_chain = LLMCheckerChain(llm=llm, verbose=True)\n",
    "\n",
    "# checker_chain.run(text)"
   ]
  },
  {
   "cell_type": "code",
   "execution_count": 2,
   "metadata": {},
   "outputs": [],
   "source": [
    "# flake8: noqa\n",
    "from langchain.prompts.prompt import PromptTemplate\n",
    "\n",
    "_CREATE_DRAFT_ANSWER_TEMPLATE = \"\"\"{question}\\n\\n\"\"\"\n",
    "CREATE_DRAFT_ANSWER_PROMPT = PromptTemplate(\n",
    "    input_variables=[\"question\"], template=_CREATE_DRAFT_ANSWER_TEMPLATE\n",
    ")\n",
    "\n",
    "_LIST_ASSERTIONS_TEMPLATE = \"\"\"Here is a statement:\n",
    "{statement}\n",
    "Make a bullet point list of the assumptions you made when producing the above statement.\\n\\n\"\"\"\n",
    "LIST_ASSERTIONS_PROMPT = PromptTemplate(\n",
    "    input_variables=[\"statement\"], template=_LIST_ASSERTIONS_TEMPLATE\n",
    ")\n",
    "\n",
    "_CHECK_ASSERTIONS_TEMPLATE = \"\"\"{assertions}\n",
    "Repeat the assertion above, and then determine if it is true or false. If it is false, explain why.\\n\\n\"\"\"\n",
    "CHECK_ASSERTIONS_PROMPT = PromptTemplate(\n",
    "    input_variables=[\"assertions\"], template=_CHECK_ASSERTIONS_TEMPLATE\n",
    ")\n",
    "\n",
    "_REVISED_ANSWER_TEMPLATE = \"\"\"{checked_assertions}\n",
    "\n",
    "Question: In light of the above assertions and checks, how would you answer the question '{question}'?\n",
    "\n",
    "The answer is: \"\"\"\n",
    "REVISED_ANSWER_PROMPT = PromptTemplate(\n",
    "    input_variables=[\"checked_assertions\", \"question\"],\n",
    "    template=_REVISED_ANSWER_TEMPLATE,\n",
    ")"
   ]
  },
  {
   "cell_type": "code",
   "execution_count": 3,
   "metadata": {},
   "outputs": [],
   "source": [
    "llm = OpenAI(temperature=0.7)\n",
    "\n",
    "create_draft_answer_chain = ParallelChain(\n",
    "    llm=llm, prompt=CREATE_DRAFT_ANSWER_PROMPT, output_key=\"statement\"\n",
    ")\n",
    "\n",
    "list_assertions_chain = ParallelChain(\n",
    "    llm=llm,\n",
    "    prompt=LIST_ASSERTIONS_PROMPT,\n",
    "    output_key=\"assertions\",\n",
    "    # This indicates that there are multiple outputs\n",
    "    output_parser=lambda x: [i.strip() for i in x.split(\"\\n\") if len(i.strip()) > 0],\n",
    ")\n",
    "\n",
    "check_assertions_chain = ParallelChain(\n",
    "    llm=llm, prompt=CHECK_ASSERTIONS_PROMPT, output_key=\"checked_assertions\"\n",
    ")\n",
    "\n",
    "revised_answer_chain = ParallelChain(\n",
    "    llm=llm,\n",
    "    prompt=REVISED_ANSWER_PROMPT,\n",
    "    output_key=\"revised_answer\",\n",
    "    # This indicates that there are multiple inputs\n",
    "    input_parser=lambda x: \"\\n\".join(x),\n",
    ")\n",
    "\n",
    "self_ask_verification_chain = SequentialChain(\n",
    "    chains=[\n",
    "        create_draft_answer_chain,\n",
    "        list_assertions_chain,\n",
    "        check_assertions_chain,\n",
    "        revised_answer_chain,\n",
    "    ],\n",
    "    input_variables=[\"question\"],\n",
    "    output_variables=[\"revised_answer\"],\n",
    "    verbose=True,\n",
    ")"
   ]
  },
  {
   "cell_type": "code",
   "execution_count": 4,
   "metadata": {},
   "outputs": [],
   "source": [
    "# %%time\n",
    "# self_ask_verification_chain.run(text)"
   ]
  },
  {
   "cell_type": "code",
   "execution_count": 18,
   "metadata": {},
   "outputs": [],
   "source": [
    "llm = OpenAI(temperature=0.7)\n",
    "\n",
    "create_draft_answer_chain = ParallelChain(\n",
    "    llm=llm, prompt=CREATE_DRAFT_ANSWER_PROMPT, output_key=\"statement\", n = 25\n",
    ")\n",
    "\n",
    "list_assertions_chain = ParallelChain(\n",
    "    llm=llm,\n",
    "    prompt=LIST_ASSERTIONS_PROMPT,\n",
    "    output_key=\"assertions\",\n",
    "    # This indicates that there are multiple outputs\n",
    "#     output_parser=lambda x: [i.strip() for i in x.split(\"\\n\") if len(i.strip()) > 0],\n",
    ")\n",
    "\n",
    "check_assertions_chain = ParallelChain(\n",
    "    llm=llm, prompt=CHECK_ASSERTIONS_PROMPT, output_key=\"checked_assertions\"\n",
    ")\n",
    "\n",
    "revised_answer_chain = ParallelChain(\n",
    "    llm=llm,\n",
    "    prompt=REVISED_ANSWER_PROMPT,\n",
    "    output_key=\"revised_answer\",\n",
    "    # This indicates that there are multiple inputs\n",
    "#     input_parser=lambda x: \"\\n\".join(x),\n",
    ")\n",
    "\n",
    "\n",
    "MOE_CONSENSUS_PROMPT = PromptTemplate(\n",
    "    input_variables=[\"revised_answer\", \"question\"],\n",
    "    template=\"\"\"{revised_answer}\n",
    "\n",
    "Question: A group of people each gave their answers above. Which answer best answers the question '{question}'?\n",
    "\n",
    "Answer: \"\"\",\n",
    ")\n",
    "\n",
    "moe_answer_chain = ParallelChain(\n",
    "    llm=llm,\n",
    "    prompt=MOE_CONSENSUS_PROMPT,\n",
    "    output_key=\"final_answer\",\n",
    "    # This indicates that there are multiple inputs\n",
    "    input_parser=lambda x: \"\\n -\" + \"\\n -\".join(x),\n",
    ")\n",
    "\n",
    "\n",
    "self_ask_verification_chain = SequentialChain(\n",
    "    chains=[\n",
    "        create_draft_answer_chain,\n",
    "        list_assertions_chain,\n",
    "        check_assertions_chain,\n",
    "        revised_answer_chain,\n",
    "        moe_answer_chain,\n",
    "    ],\n",
    "    input_variables=[\"question\"],\n",
    "    output_variables=[\"final_answer\"],\n",
    "    verbose=True,\n",
    ")"
   ]
  },
  {
   "cell_type": "code",
   "execution_count": 19,
   "metadata": {},
   "outputs": [
    {
     "name": "stdout",
     "output_type": "stream",
     "text": [
      "\n",
      "\n",
      "\u001b[1m> Entering new SequentialChain chain...\u001b[0m\n",
      "\u001b[1mChain 0\u001b[0m:\n",
      "{'statement': ['\\n\\nThe largest mammal that lays eggs is the Long-Beaked Echidna. This species is native to parts of New Guinea and Australia, and its eggs can reach up to 4 inches in length.', '\\n\\nThe largest egg laid by a mammal belongs to the Short-beaked Echidna, a spiny anteater found in Australia and New Guinea. The eggs are about the size of a tennis ball, with a diameter of about 4.5 cm (1.7 in).', '\\n\\nThe biggest mammal eggs are laid by the elephant, which can lay eggs up to 12 inches long and weigh up to 2.2 pounds.', '\\nThe largest mammal that lays eggs is the platypus.', '\\n\\nThe largest mammal that lays eggs is the echidna, also known as the spiny anteater.', '\\n\\nThe largest mammal that lays eggs is the Australian platypus, which lays eggs up to 1.5 inches (3.8 cm) in diameter.', '\\nA platypus is the mammal that lays the biggest eggs.', '\\nNo mammal lays eggs. Mammals give birth to live young.', '\\nThe largest mammal egg is laid by the elephant, with an egg weighing up to 3 kg (6.6 lb).', '\\nThe largest eggs laid by any mammal are those of the African elephant.', '\\n\\nThe biggest eggs laid by a mammal are those of the monotremes, which are a group of egg-laying mammals that include the platypus and the echidna.', '\\n\\nThe biggest eggs laid by any mammal are those of the monotremes, which include the duck-billed platypus and the echidnas.', '\\n\\nThe largest eggs laid by a mammal belong to the elephant.', '\\n\\nThe largest mammal egg is laid by the elephant shrew, a small insectivorous mammal found in Africa.', '\\nThe largest mammal egg is laid by the elephant.', '\\nThe largest mammal that lays eggs is the platypus.', '\\nThe largest egg laid by any mammal is the egg of the North Atlantic right whale, which can weigh up to about 2 kilograms (4.4 pounds).', '\\n\\nThe largest mammal to lay eggs is the platypus.', '\\nThe largest mammal egg is laid by the elephant, which can weigh up to 11 pounds.', '\\nThe largest egg laid by a mammal belongs to the elephant, which can lay an egg weighing up to 11 pounds (5 kg).', '\\nThe largest mammal that lays eggs is the Australian echidna (or spiny anteater). The eggs are typically less than 1 centimeter in diameter.', '\\n\\nThe biggest eggs laid by any mammal are those of the elephant.', '\\nThe largest mammal to lay eggs is the echidna, also known as the spiny anteater.', '\\nThe largest mammal that lays eggs is the echidna, also known as a spiny anteater.', '\\nThe platypus is the only mammal that lays eggs, and its eggs are about the size of a small chicken egg.']}\n",
      "\n",
      "\u001b[1mChain 1\u001b[0m:\n",
      "{'assertions': ['\\n• The Long-Beaked Echidna is the largest mammal that lays eggs\\n• It is native to parts of New Guinea and Australia \\n• Its eggs can reach up to 4 inches in length', '\\n-The Short-beaked Echidna is a mammal\\n-It is found in Australia and New Guinea\\n-Its eggs are approximately 4.5 cm (1.7 in) in diameter\\n-The egg is approximately the size of a tennis ball', '\\n• Elephant is a mammal\\n• Elephant lays eggs\\n• Egg size can reach up to 12 inches long\\n• Egg weight can reach up to 2.2 pounds', '\\n• Platypus is a mammal\\n• Platypus lays eggs\\n• Platypus is the largest mammal that lays eggs', '\\n• The echidna is a mammal\\n• The echidna lays eggs\\n• The echidna is the largest mammal that lays eggs\\n• The echidna is also known as the spiny anteater', '• The Australian platypus is the largest mammal that lays eggs \\n• The Australian platypus lays eggs up to 1.5 inches (3.8 cm) in diameter \\n• All mammals that lay eggs are smaller than the Australian platypus', '\\n• Platypuses are mammals\\n• Platypuses lay eggs\\n• Platypus eggs are the largest of any mammal eggs', '\\n\\n• All mammals are viviparous (give birth to live young)\\n• No mammals are oviparous (lay eggs)\\n• All mammals reproduce by live birth\\n• No mammals reproduce by laying eggs', '\\n• Egg is laid by female elephant \\n• Egg weighs up to 3 kg \\n• Egg weighs up to 6.6 lb \\n• Elephant is the largest mammal \\n• Egg is laid by only one elephant species', '\\n• The African elephant is a mammal\\n• African elephants lay eggs\\n• The eggs of the African elephant are larger than those of any other mammal', '• Monotremes are a group of egg-laying mammals \\n• The platypus and the echidna are monotremes \\n• Monotremes lay the biggest eggs of any mammal \\n• Biggest eggs refers to size', '\\n• Monotremes are a type of mammal \\n• Monotremes lay eggs \\n• Duck-billed platypuses and echidnas are both types of monotremes \\n• Duck-billed platypuses and echidnas lay the biggest eggs of any mammal ', '• Mammals lay eggs\\n• Elephants lay eggs\\n• Elephants lay the largest eggs of any mammal', '\\n- The elephant shrew is a mammal\\n- The elephant shrew is found in Africa\\n- The elephant shrew is an insectivorous mammal\\n- The elephant shrew lays the largest mammal egg\\n- Mammal eggs have different sizes', '\\n- The elephant is a mammal \\n- Mammals produce eggs \\n- Elephant eggs are larger than other mammal eggs \\n- It is possible to measure the size of an egg', '\\n• Platypuses lay eggs\\n• Platypuses are the largest mammals that lay eggs\\n• No other mammal lays eggs larger than that of a platypus', '\\n• Egg laid by mammals varies in size \\n• North Atlantic right whale lays the largest egg \\n• Largest egg can weigh up to 2 kilograms \\n• 2 kilograms is equivalent to 4.4 pounds', '\\n• Platypus is a mammal\\n• Mammals can lay eggs\\n• Platypus is the largest of all mammals that lay eggs', '\\n- Elephants lay eggs \\n- The largest mammal egg is laid by the elephant \\n- The largest mammal egg can weigh up to 11 pounds', '\\n• Mammals lay eggs \\n• Elephant lays the largest egg\\n• Egg can weigh up to 11 pounds (5 kg)', '\\n- The Australian echidna is the largest mammal that lays eggs \\n- The eggs of the Australian echidna are small, less than 1 centimeter in diameter \\n- The Australian echidna is also known as a spiny anteater ', '\\n• Elephant lays eggs\\n• Eggs of elephant are bigger than those of any other mammal\\n• Mammals lay eggs', '\\n• Echidnas are mammals \\n• Echidnas are the largest mammals to lay eggs\\n• Echidnas are commonly referred to as spiny anteaters', '\\n-Echidnas are mammals \\n-Echidnas lay eggs \\n-Echidnas are the largest mammal that lays eggs \\n-Echidnas are also known as spiny anteaters', '\\n-The platypus is a mammal\\n-Mammals typically give birth to live young\\n-The platypus lays eggs\\n-The size of a platypus egg is comparable to the size of a small chicken egg']}\n",
      "\n",
      "\u001b[1mChain 2\u001b[0m:\n",
      "{'checked_assertions': ['The Long-Beaked Echidna is the largest mammal that lays eggs. True. The Long-Beaked Echidna is the largest mammal species that lays eggs and is native to parts of New Guinea and Australia. Its eggs can reach up to 4 inches in length.', 'The Short-beaked Echidna is a mammal - TRUE. The Short-beaked Echidna is a mammal belonging to the family Tachyglossidae, in the order Monotremata. \\n\\nIt is found in Australia and New Guinea - TRUE. The Short-beaked Echidna is found in a variety of habitats in Australia and New Guinea, including savannas, woodlands, and forests.\\n\\nIts eggs are approximately 4.5 cm (1.7 in) in diameter - FALSE. The Short-beaked Echidna does not lay eggs; instead, it gives birth to a single live young after a gestation period of 21 days.', 'Elephant lays eggs: False. Elephants are mammals and do not lay eggs.', '\\nThe assertion is: Platypus is the largest mammal that lays eggs.\\n\\nThis assertion is false. The largest mammal that lays eggs is the echidna, not the platypus.', 'The echidna is the largest mammal that lays eggs.\\nTrue. The echidna is the largest mammal that lays eggs, as no other mammal lays eggs.', 'The assertion is: The Australian platypus is the largest mammal that lays eggs.\\n\\nThis assertion is false. While the Australian platypus is the largest mammal that lays eggs, it is not the largest mammal in general. Several species of monotremes, such as the echidna, are larger than the Australian platypus.', '\\nAssertion: Platypuses lay the largest eggs of any mammal.\\nFalse. Platypus eggs are the largest of any mammal eggs, but the eggs of some other mammals, such as elephants, are larger.', 'Assertion: All mammals reproduce by laying eggs.\\n\\nFalse. Mammals reproduce by giving birth to live young, not by laying eggs.', 'Assertion: Egg is laid by female elephant.\\nTrue. Female elephants have the capacity to lay eggs, though the eggs are not viable and do not result in the development of a baby elephant.', 'The African elephant lays eggs. False. African elephants are mammals and do not lay eggs.', 'The assertion is: Monotremes lay the biggest eggs of any mammal.\\n\\nThis is true. Monotremes lay the biggest eggs of any mammal, in terms of size.', 'The assertion is: Monotremes lay the biggest eggs of any mammal.\\n\\nThis assertion is false. Monotremes lay the biggest eggs of any mammal relative to their size, but the eggs of larger mammals such as elephants and giraffes are much larger in size than those of monotremes.', 'The assertion that elephants lay the largest eggs of any mammal is false. Mammals do not lay eggs, so any assertion that they do is incorrect.', 'The assertion: The elephant shrew lays the largest mammal egg.\\n\\nFalse. The elephant shrew does not lay the largest mammal egg. The largest mammal egg is laid by the Southern Elephant Seal, which is a much larger species of mammal than the elephant shrew.', 'The assertion: Elephant eggs are larger than other mammal eggs.\\n\\nThis assertion is false. Elephant eggs do not exist; elephants reproduce via live birth.', 'The assertion is that platypuses lay the largest eggs of all mammals. This is false, as there are several species of birds and reptiles that lay much larger eggs than that of a platypus.', '\\n assertion: North Atlantic right whale lays the largest egg, which can weigh up to 4.4 pounds.\\n\\nFalse. The North Atlantic right whale lays the largest egg, which can weigh up to 2 kilograms, or 4.4 pounds.', 'The assertion: Platypus is the largest of all mammals that lay eggs.\\n\\nFalse. Platypus is not the largest of all mammals that lay eggs; the Echidna is the largest mammal that lays eggs.', 'The assertion is: Elephants lay eggs.\\nThis is false. Elephants are mammals, and mammals do not lay eggs.', '\\nMammals lay eggs. False. Mammals are viviparous, meaning they give birth to live young. They do not lay eggs.', 'The Australian echidna is the largest mammal that lays eggs. True. The Australian echidna is the largest monotreme, or egg-laying mammal.', 'The assertion that elephants lay eggs is false. Elephants are mammals, not reptiles, and therefore do not lay eggs like reptiles do.', 'Assertion: Echidnas are the largest mammals to lay eggs.\\nTrue. Echidnas are the only living mammals that lay eggs.', 'Echidnas are the largest mammal that lays eggs. True. Echidnas are the largest mammals that lay eggs, with the platypus being the other species that lay eggs.', 'The platypus gives birth to live young. False. Platypuses lay eggs, which hatch after being incubated for around 10 days.']}\n",
      "\n"
     ]
    },
    {
     "name": "stdout",
     "output_type": "stream",
     "text": [
      "\u001b[1mChain 3\u001b[0m:\n",
      "{'revised_answer': [' The Long-Beaked Echidna is the mammal that lays the biggest eggs.', '\\n\\nThe type of mammal that lays the biggest eggs is the Ostrich, which can lay eggs that are up to 15 cm (5.9 in) in diameter.', ' No mammal lays eggs; all mammals give birth to live young.', ' The echidna is the largest mammal that lays eggs.', ' The echidna is the largest mammal that lays eggs.', ' The echidna lays the largest eggs of any mammal.', ' Elephants laid the biggest eggs of any mammal.', ' No mammal lays eggs; all mammals reproduce by giving birth to live young.', ' The ostrich, which is a flightless bird, lays the biggest eggs of any mammal.', ' None. Mammals do not lay eggs.', ' Monotremes lay the biggest eggs of any mammal.', ' Elephants and giraffes lay the biggest eggs of any mammal.', ' No mammal lays eggs, so there is no type of mammal that lays the biggest eggs.', '\\nThe Southern Elephant Seal lays the largest mammal eggs.', '\\nNo mammal lays eggs, as all mammals reproduce via live birth.', ' Birds and reptiles lay the biggest eggs of all animals, not mammals.', ' North Atlantic right whales lay the biggest eggs, which can weigh up to 2 kilograms, or 4.4 pounds.', ' The Echidna is the largest mammal that lays eggs.', ' No type of mammal lays eggs.', ' None. Mammals do not lay eggs.', ' The Australian echidna is the largest mammal that lays eggs.', ' No mammal lays eggs.', ' Echidnas are the largest mammals to lay eggs.', ' Echidnas are the largest mammals that lay eggs.', ' The elephant bird, which is an extinct species of flightless bird native to Madagascar, lays the biggest eggs of any mammal.']}\n",
      "\n",
      "\u001b[1mChain 4\u001b[0m:\n",
      "{'final_answer': [' The Australian echidna is the largest mammal that lays eggs.']}\n",
      "\n",
      "\n",
      "\u001b[1m> Finished SequentialChain chain.\u001b[0m\n",
      "CPU times: user 1.59 s, sys: 263 ms, total: 1.85 s\n",
      "Wall time: 10.1 s\n"
     ]
    },
    {
     "data": {
      "text/plain": [
       "[' The Australian echidna is the largest mammal that lays eggs.']"
      ]
     },
     "execution_count": 19,
     "metadata": {},
     "output_type": "execute_result"
    }
   ],
   "source": [
    "%%time\n",
    "self_ask_verification_chain.run(\"What type of mammal lays the biggest eggs?\")"
   ]
  },
  {
   "cell_type": "code",
   "execution_count": 20,
   "metadata": {},
   "outputs": [
    {
     "name": "stdout",
     "output_type": "stream",
     "text": [
      "CPU times: user 35.3 ms, sys: 3.95 ms, total: 39.3 ms\n",
      "Wall time: 1.75 s\n"
     ]
    },
    {
     "data": {
      "text/plain": [
       "['\\n\\nThe largest mammal that lays eggs is the echidna, also known as the spiny anteater. The eggs of the echidna are about 1.4 inches (3.5 cm) in length.']"
      ]
     },
     "execution_count": 20,
     "metadata": {},
     "output_type": "execute_result"
    }
   ],
   "source": [
    "%%time\n",
    "llm_best_of = OpenAI(temperature=0.7, best_of=20)\n",
    "llm_best_of(\"What type of mammal lays the biggest eggs?\")"
   ]
  },
  {
   "cell_type": "code",
   "execution_count": 8,
   "metadata": {},
   "outputs": [],
   "source": [
    "# %%time\n",
    "# self_ask_verification_chain.run(\"Where did Sheryl Sandberg meet Mark Zuckerberg?\")"
   ]
  },
  {
   "cell_type": "code",
   "execution_count": 9,
   "metadata": {},
   "outputs": [],
   "source": [
    "# %%time\n",
    "# self_ask_verification_chain.run(\"Where did Sheryl Sandberg meet Mark Zuckerberg?\")"
   ]
  }
 ],
 "metadata": {
  "kernelspec": {
   "display_name": "Python 3 (ipykernel)",
   "language": "python",
   "name": "python3"
  },
  "language_info": {
   "codemirror_mode": {
    "name": "ipython",
    "version": 3
   },
   "file_extension": ".py",
   "mimetype": "text/x-python",
   "name": "python",
   "nbconvert_exporter": "python",
   "pygments_lexer": "ipython3",
   "version": "3.10.3"
  },
  "vscode": {
   "interpreter": {
    "hash": "835c5a3474ba15827099fbeed14c7b6bc5170ce5ee26bc4cbb835d67e8a2e3b8"
   }
  }
 },
 "nbformat": 4,
 "nbformat_minor": 4
}
