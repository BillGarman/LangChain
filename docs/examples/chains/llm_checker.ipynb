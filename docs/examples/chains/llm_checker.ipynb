{
 "cells": [
  {
   "cell_type": "markdown",
   "metadata": {},
   "source": [
    "# LLMCheckerChain\n",
    "This notebook showcases how to use LLMCheckerChain."
   ]
  },
  {
   "cell_type": "code",
   "execution_count": 1,
   "metadata": {},
   "outputs": [],
   "source": [
    "from langchain.chains import LLMCheckerChain, LLMChain, SequentialChain, ParallelChain\n",
    "from langchain.llms import OpenAI\n",
    "from langchain.prompts.base import ListOutputParser\n",
    "from langchain.llms.base import LLM\n",
    "\n",
    "\n",
    "llm = OpenAI(temperature=0.7)\n",
    "\n",
    "text = \"What type of mammal lays the biggest eggs?\"\n",
    "\n",
    "checker_chain = LLMCheckerChain(llm=llm, verbose=True)\n",
    "\n",
    "# checker_chain.run(text)"
   ]
  },
  {
   "cell_type": "code",
   "execution_count": 2,
   "metadata": {},
   "outputs": [],
   "source": [
    "# flake8: noqa\n",
    "from langchain.prompts.prompt import PromptTemplate\n",
    "\n",
    "_CREATE_DRAFT_ANSWER_TEMPLATE = \"\"\"{question}\\n\\n\"\"\"\n",
    "CREATE_DRAFT_ANSWER_PROMPT = PromptTemplate(\n",
    "    input_variables=[\"question\"], template=_CREATE_DRAFT_ANSWER_TEMPLATE\n",
    ")\n",
    "\n",
    "_LIST_ASSERTIONS_TEMPLATE = \"\"\"Here is a statement:\n",
    "{statement}\n",
    "Make a bullet point list of the assumptions you made when producing the above statement.\\n\\n\"\"\"\n",
    "LIST_ASSERTIONS_PROMPT = PromptTemplate(\n",
    "    input_variables=[\"statement\"], template=_LIST_ASSERTIONS_TEMPLATE\n",
    ")\n",
    "\n",
    "_CHECK_ASSERTIONS_TEMPLATE = \"\"\"{assertions}\n",
    "Repeat the assertion above, and then determine if it is true or false. If it is false, explain why.\\n\\n\"\"\"\n",
    "CHECK_ASSERTIONS_PROMPT = PromptTemplate(\n",
    "    input_variables=[\"assertions\"], template=_CHECK_ASSERTIONS_TEMPLATE\n",
    ")\n",
    "\n",
    "_REVISED_ANSWER_TEMPLATE = \"\"\"{checked_assertions}\n",
    "\n",
    "Question: In light of the above assertions and checks, how would you answer the question '{question}'?\n",
    "\n",
    "Answer:\"\"\"\n",
    "REVISED_ANSWER_PROMPT = PromptTemplate(\n",
    "    input_variables=[\"checked_assertions\", \"question\"],\n",
    "    template=_REVISED_ANSWER_TEMPLATE,\n",
    ")"
   ]
  },
  {
   "cell_type": "code",
   "execution_count": 3,
   "metadata": {},
   "outputs": [],
   "source": [
    "llm = OpenAI(temperature=0.7)\n",
    "\n",
    "create_draft_answer_chain = ParallelChain(\n",
    "    llm=llm, prompt=CREATE_DRAFT_ANSWER_PROMPT, output_key=\"statement\"\n",
    ")\n",
    "\n",
    "list_assertions_chain = ParallelChain(\n",
    "    llm=llm,\n",
    "    prompt=LIST_ASSERTIONS_PROMPT,\n",
    "    output_key=\"assertions\",\n",
    "    # This indicates that there are multiple outputs\n",
    "    output_parser=lambda x: [i.strip() for i in x.split(\"\\n\") if len(i.strip()) > 0],\n",
    ")\n",
    "\n",
    "check_assertions_chain = ParallelChain(\n",
    "    llm=llm, prompt=CHECK_ASSERTIONS_PROMPT, output_key=\"checked_assertions\"\n",
    ")\n",
    "\n",
    "revised_answer_chain = ParallelChain(\n",
    "    llm=llm,\n",
    "    prompt=REVISED_ANSWER_PROMPT,\n",
    "    output_key=\"revised_answer\",\n",
    "    # This indicates that there are multiple inputs\n",
    "    input_parser=lambda x: \"\\n\".join(x),\n",
    ")\n",
    "\n",
    "self_ask_verification_chain = SequentialChain(\n",
    "    chains=[\n",
    "        create_draft_answer_chain,\n",
    "        list_assertions_chain,\n",
    "        check_assertions_chain,\n",
    "        revised_answer_chain,\n",
    "    ],\n",
    "    input_variables=[\"question\"],\n",
    "    output_variables=[\"revised_answer\"],\n",
    "    verbose=True,\n",
    ")"
   ]
  },
  {
   "cell_type": "code",
   "execution_count": 4,
   "metadata": {},
   "outputs": [
    {
     "name": "stdout",
     "output_type": "stream",
     "text": [
      "\n",
      "\n",
      "\u001b[1m> Entering new SequentialChain chain...\u001b[0m\n",
      "\u001b[1mChain 0\u001b[0m:\n",
      "{'statement': ['\\nThe platypus lays the largest eggs relative to its body size of any mammal.']}\n",
      "\n",
      "\u001b[1mChain 1\u001b[0m:\n",
      "{'assertions': ['• The platypus is a mammal', '• The platypus lays eggs', '• The platypus lays the largest eggs relative to its body size compared to other mammals', '• The size of the platypus eggs can be compared with other mammals']}\n",
      "\n",
      "\u001b[1mChain 2\u001b[0m:\n",
      "{'checked_assertions': ['The platypus is a mammal.\\nTrue. The platypus is a mammal because it is a warm-blooded, egg-laying animal with fur and mammary glands that produce milk to feed its young.', 'The platypus lays eggs is true. Platypuses are monotremes, which means they lay eggs rather than giving birth to live young like most other mammals.', 'The platypus lays the largest eggs relative to its body size compared to other mammals. FALSE. While the platypus does lay large eggs relative to its body size, other mammals such as the echidna lay larger eggs relative to its body size.', '\\nThe size of the platypus eggs can be compared to other mammals. FALSE The size of platypus eggs is much smaller than that of other mammals, so it cannot be compared directly.']}\n",
      "\n",
      "\u001b[1mChain 3\u001b[0m:\n",
      "{'revised_answer': [' The echidna lays the biggest eggs relative to its body size compared to other mammals.']}\n",
      "\n",
      "\n",
      "\u001b[1m> Finished SequentialChain chain.\u001b[0m\n",
      "CPU times: user 284 ms, sys: 65.9 ms, total: 350 ms\n",
      "Wall time: 5.06 s\n"
     ]
    },
    {
     "data": {
      "text/plain": [
       "[' The echidna lays the biggest eggs relative to its body size compared to other mammals.']"
      ]
     },
     "execution_count": 4,
     "metadata": {},
     "output_type": "execute_result"
    }
   ],
   "source": [
    "%%time\n",
    "self_ask_verification_chain.run(text)"
   ]
  },
  {
   "cell_type": "code",
   "execution_count": 5,
   "metadata": {},
   "outputs": [],
   "source": [
    "llm = OpenAI(temperature=0.7)\n",
    "\n",
    "create_draft_answer_chain = ParallelChain(\n",
    "    llm=llm, prompt=CREATE_DRAFT_ANSWER_PROMPT, output_key=\"statement\", n = 25\n",
    ")\n",
    "\n",
    "list_assertions_chain = ParallelChain(\n",
    "    llm=llm,\n",
    "    prompt=LIST_ASSERTIONS_PROMPT,\n",
    "    output_key=\"assertions\",\n",
    "    # This indicates that there are multiple outputs\n",
    "#     output_parser=lambda x: [i.strip() for i in x.split(\"\\n\") if len(i.strip()) > 0],\n",
    ")\n",
    "\n",
    "check_assertions_chain = ParallelChain(\n",
    "    llm=llm, prompt=CHECK_ASSERTIONS_PROMPT, output_key=\"checked_assertions\"\n",
    ")\n",
    "\n",
    "revised_answer_chain = ParallelChain(\n",
    "    llm=llm,\n",
    "    prompt=REVISED_ANSWER_PROMPT,\n",
    "    output_key=\"revised_answer\",\n",
    "    # This indicates that there are multiple inputs\n",
    "#     input_parser=lambda x: \"\\n\".join(x),\n",
    ")\n",
    "\n",
    "\n",
    "MOE_CONSENSUS_PROMPT = PromptTemplate(\n",
    "    input_variables=[\"revised_answer\", \"question\"],\n",
    "    template=\"\"\"{revised_answer}\n",
    "\n",
    "Question: A group of experts each gave their opinion above. How would the plurality of them answer the question '{question}'?\n",
    "\n",
    "Answer:\"\"\",\n",
    ")\n",
    "\n",
    "moe_answer_chain = ParallelChain(\n",
    "    llm=llm,\n",
    "    prompt=MOE_CONSENSUS_PROMPT,\n",
    "    output_key=\"final_answer\",\n",
    "    # This indicates that there are multiple inputs\n",
    "    input_parser=lambda x: \"\\n -\" + \"\\n -\".join(x),\n",
    ")\n",
    "\n",
    "\n",
    "self_ask_verification_chain = SequentialChain(\n",
    "    chains=[\n",
    "        create_draft_answer_chain,\n",
    "        list_assertions_chain,\n",
    "        check_assertions_chain,\n",
    "        revised_answer_chain,\n",
    "        moe_answer_chain,\n",
    "    ],\n",
    "    input_variables=[\"question\"],\n",
    "    output_variables=[\"final_answer\"],\n",
    "    verbose=True,\n",
    ")"
   ]
  },
  {
   "cell_type": "code",
   "execution_count": 6,
   "metadata": {},
   "outputs": [
    {
     "name": "stdout",
     "output_type": "stream",
     "text": [
      "\n",
      "\n",
      "\u001b[1m> Entering new SequentialChain chain...\u001b[0m\n",
      "\u001b[1mChain 0\u001b[0m:\n",
      "{'statement': ['\\nThe largest mammal egg is laid by the elephant shrew, a small mammal native to Africa.', '\\nThe largest mammal that lays eggs is the Australian spiny anteater, also known as the echidna.', '\\n\\nThe largest egg laid by a mammal belongs to the whale shark, a species of fish.', '\\nThe largest mammal that lays eggs is the platypus.', '\\nThe largest mammal that lays eggs is the elephant bird, an extinct species from Madagascar.', '\\nThe largest eggs laid by a mammal are those of the Australian spiny anteater, or echidna. These eggs can be up to 10 times larger than a chicken egg.', '\\nThe largest mammal to lay eggs is the duck-billed platypus.', '\\nThe largest egg laid by a mammal belongs to the North Pacific right whale, which can lay eggs measuring up to 20 inches (50 cm) long and 12 inches (30 cm) wide.', '\\nThe biggest mammal egg is laid by the elephant bird, an extinct species native to Madagascar.', '\\n\\nThe biggest eggs laid by any mammal are those of the North American beaver, which can be up to 7.5 cm (3 in) long.', '\\nThe largest mammal that lays eggs is the echidna, also known as the spiny anteater. It is a monotreme, which are mammals that lay eggs instead of giving birth to live young.', '\\nThe largest mammal that lays eggs is the therapsid, or the ancestor of modern mammals. This creature lived during the Permian period and laid eggs up to five inches in diameter.', '\\nThe largest mammal egg is laid by the elephant.', '\\nThe largest mammal to lay eggs is the echidna, also known as the spiny anteater. The eggs of this species are typically about 1.4 inches (3.5 cm) long and 1 inch (2.5 cm) wide.', '\\nThe largest mammal that lays eggs is the platypus.', '\\n\\nThe largest egg laid by a mammal belongs to the Short-beaked Echidna, a type of spiny anteater native to Australia and New Guinea. The eggs can reach up to 7 centimeters in diameter and weigh up to 45 grams.', '\\n\\nThe largest mammal that lays eggs is the Platypus.', '\\n\\nThe largest eggs laid by any mammal are those of the aardvark.', '\\nThe largest egg laid by any mammal is that of the elephant.', '\\nThe largest mammal egg is laid by the elephant.', '\\n\\nThe largest eggs laid by a mammal belong to the elephant shrew, also known as the jumping shrew. These eggs measure up to 0.75 inches in diameter.', '\\nThe largest mammal that lays eggs is the three-toed sloth.', '\\n\\nThe largest mammal that lays eggs is the Australian echidna, also known as the spiny anteater. These egg-laying mammals are the only living monotremes, which are a group of mammals that lay eggs instead of giving birth to live young. The eggs are oval-shaped and measure about 1.2 inches (3 cm) in length.', '\\nThe largest mammal that lays eggs is the echidna, a spiny anteater found in Australia and New Guinea. The eggs are about the size of a grape and have a thin leathery shell.', '\\nThe largest mammal to lay eggs is the the platypus, a monotreme native to Australia.']}\n",
      "\n",
      "\u001b[1mChain 1\u001b[0m:\n",
      "{'assertions': ['\\n- Elephant shrews are native to Africa \\n- Elephant shrews lay eggs \\n- The eggs laid by the elephant shrew are the largest mammal eggs \\n- Elephant shrews are small mammals', '\\n-The Australian spiny anteater is the largest mammal that lays eggs\\n-The Australian spiny anteater is also known as an echidna\\n-Egg-laying mammals exist', '\\n- The whale shark is a mammal\\n- It can lay eggs\\n- The egg it lays is the largest egg laid by a mammal\\n- A species of fish can lay eggs', '\\n• The platypus is a mammal\\n• The platypus lays eggs\\n• The platypus is the largest mammal of its type that lays eggs', '\\n• Assumed that the elephant bird is the largest mammal that lays eggs \\n• Assumed that the elephant bird is an extinct species\\n• Assumed that the elephant bird is from Madagascar', '\\n- Australian spiny anteater/echidna lays the largest eggs of any mammal\\n- The size of the egg is up to 10 times larger than a chicken egg', '\\n• The duck-billed platypus is a mammal\\n• The duck-billed platypus is the largest mammal to lay eggs\\n• Eggs are laid by the duck-billed platypus', '\\n• North Pacific right whales can lay eggs \\n• The eggs can be up to 20 inches long and 12 inches wide \\n• This is the largest egg laid by a mammal', '\\n• Elephant bird is an extinct species\\n• Elephant bird is native to Madagascar\\n• Elephant bird lays the biggest mammal egg', '\\n• North American beavers lay eggs\\n• The eggs can be up to 7.5 cm (3 in) long\\n• This is the largest egg laid by any mammal', '\\n• Echidna is the largest mammal that lays eggs \\n• Echidna is also known as the spiny anteater \\n• Monotremes are mammals that lay eggs instead of giving birth to live young', '\\n-Therapsid is the largest mammal that lays eggs \\n-Therapsid lived during the Permian period \\n-Therapsid laid eggs up to five inches in diameter', '\\n• The egg belongs to an elephant \\n• Elephant eggs are the largest mammal eggs  \\n• All other mammal eggs are smaller than the elephant egg', '\\n• The echidna is a mammal\\n• The echidna is the largest mammal to lay eggs\\n• The eggs of the echidna are typically 1.4 inches (3.5 cm) long and 1 inch (2.5 cm) wide.', '\\n• The platypus is a mammal \\n• The platypus lays eggs \\n• The platypus is the largest mammal of its kind that lays eggs', '- Short-beaked Echidna lays the largest egg among mammals\\n- Short-beaked Echidna is native to Australia and New Guinea\\n- Egg can reach up to 7 centimeters in diameter\\n- Egg can weigh up to 45 grams', '\\n• The Platypus is a mammal \\n• The Platypus is the largest mammal that lays eggs \\n• Other mammals do not lay eggs \\n• Laying eggs is a characteristic of the Platypus', '• Aardvarks lay eggs\\n• Eggs laid by aardvarks are larger than those of any other mammal\\n• Mammals produce eggs', '\\n• The egg is laid by a mammal \\n• The egg is the largest of its kind \\n• The mammal that lays the largest egg is an elephant', '\\n• Elephant is a mammal\\n• Elephant lays eggs\\n• Elephant egg is the largest of all mammal eggs', '• The elephant shrew is a mammal\\n• The elephant shrew is also known as a jumping shrew\\n• The largest eggs laid by a mammal are laid by the elephant shrew\\n• The eggs of the elephant shrew measure up to 0.75 inches in diameter', '\\n• Assumed the three-toed sloth is the largest mammal that lays eggs \\n• Assumed that mammals are animals that lay eggs \\n• Assumed that the three-toed sloth is a mammal \\n• Assumed that there are other mammals that lay eggs but the three-toed sloth is the largest', '-The Australian echidna is the largest mammal that lays eggs\\n-The Australian echidna is also known as the spiny anteater\\n-Monotremes are a group of mammals that lay eggs instead of giving birth to live young\\n-The eggs are oval-shaped and measure about 1.2 inches (3 cm) in length', '\\n-The echidna is found in Australia and New Guinea.\\n-The eggs the echidna lays are about the size of a grape.\\n-The eggs have a thin leathery shell.\\n-The echidna is the largest mammal that lays eggs.', '\\n-The platypus is a mammal\\n-Mammals lay eggs\\n-The platypus is the largest mammal to lay eggs\\n-The platypus is native to Australia']}\n",
      "\n",
      "\u001b[1mChain 2\u001b[0m:\n",
      "{'checked_assertions': ['Assertion: Elephant shrews lay eggs.\\nTrue. Elephant shrews are known to lay eggs, which are the largest mammal eggs.', 'The assertion: The Australian spiny anteater is the largest mammal that lays eggs.\\n\\nThis assertion is true. The Australian spiny anteater, also known as an echidna, is the largest mammal that lays eggs.', '\\nThe assertion is: The whale shark is a mammal.\\n\\nThis is true. The whale shark is a species of fish that belongs to the class Chondrichthyes, which also includes rays and sharks. It is a member of the family Rhincodontidae and is the largest extant fish species.', 'The platypus is the largest mammal that lays eggs - False. The largest mammal that lays eggs is the Echidna, which is also known as the spiny anteater.', 'Assertion: The elephant bird is the largest mammal that lays eggs.\\nFalse. The elephant bird is an extinct species from Madagascar, but it is not a mammal. Mammals are a class of animals that have fur or hair, produce milk, and give birth to live young. Birds, on the other hand, are a class of animals that have feathers, lay eggs, and have beaks.', 'The assertion that the Australian spiny anteater/echidna lays the largest eggs of any mammal is true. This is because the eggs of the echidna are up to 10 times larger than the eggs of other mammals, making them the largest of any mammal.', 'The duck-billed platypus is the largest mammal to lay eggs. \\nTrue. The duck-billed platypus is the only mammal that lays eggs, making it the largest mammal to lay eggs.', 'The assertion is that North Pacific right whales can lay eggs up to 20 inches long and 12 inches wide, which is the largest egg laid by a mammal. This is true. North Pacific right whales are the largest species of baleen whale, and their eggs are the largest of any mammal, reaching up to 20 inches in length and 12 inches in width.', '\\nAssertion: Elephant bird lays the biggest mammal egg. \\n\\nAnswer: True. The elephant bird, an extinct species native to Madagascar, laid the biggest mammal egg, measuring up to 13 inches long and weighing up to 10 pounds.', 'Assertion: North American beavers lay eggs that are up to 7.5 cm (3 in) long. \\n\\nTrue. This is the largest egg laid by any mammal.', '\\nThe assertion is: Echidna is the largest mammal that lays eggs.\\n\\nThis is true. Echidna is the largest mammal of the monotreme family, which are mammals that lay eggs instead of giving birth to live young.', 'The assertion that Therapsid is the largest mammal that lays eggs is false. Mammals are a class of animals that nurse their young with milk, while Therapsid is a group of extinct reptiles that laid eggs.', 'The assertion that all other mammal eggs are smaller than the elephant egg is false. This is because there are some mammals, such as the blue whale, whose eggs can be larger than the elephant egg.', 'The echidna is the largest mammal to lay eggs - True. The echidna is the only mammal that lays eggs, making it the largest mammal to do so.', '\\nThe platypus is the largest mammal of its kind that lays eggs. False. The platypus is the only mammal of its kind that lays eggs, but it is not the largest mammal of its kind.', 'Assertion: Short-beaked Echidna lays the largest egg among mammals.\\nTrue. Short-beaked Echidna lays the largest egg among mammals, measuring up to 7 centimeters in diameter and weighing up to 45 grams.', 'The Platypus is the only mammal that lays eggs.\\nFalse. Laying eggs is a characteristic of the Platypus, but other mammals such as the echidna also lay eggs.', 'The assertion is: Aardvarks lay eggs.\\nThis is true. Aardvarks, like many other mammals, produce eggs to give birth to their young.', 'The mammal that lays the largest egg is an elephant. True. Elephants lay the largest eggs of any mammal species.', 'The assertion \"Elephant lays eggs\" is false. Elephants are mammals and mammals do not lay eggs; they give birth to live young.', 'The elephant shrew lays the largest eggs of any mammal. False. The largest eggs laid by a mammal are laid by the kiwi, which can measure up to 3 inches in diameter.', '\\nThe assertion is that the three-toed sloth is the largest mammal that lays eggs. This is false because there are actually no mammals that lay eggs. Mammals are a class of animals that give birth to live young, not eggs.', 'The Australian echidna is the largest mammal that lays eggs. TRUE. The Australian echidna is the largest monotreme, or egg-laying mammal, found in Australia.', 'The echidna lays eggs that are the size of a grape: FALSE. The eggs are actually much smaller, about the size of a dime.', 'The platypus is the only mammal to lay eggs: FALSE. Other mammals that lay eggs include echidnas, which are also native to Australia.']}\n",
      "\n"
     ]
    },
    {
     "name": "stdout",
     "output_type": "stream",
     "text": [
      "\u001b[1mChain 3\u001b[0m:\n",
      "{'revised_answer': [' Elephant shrews lay the biggest mammal eggs.', ' The Australian spiny anteater, also known as an echidna, is the largest mammal that lays eggs.', ' The largest mammal eggs are laid by the elephant bird, which is an extinct species of giant flightless bird found on the island of Madagascar.', ' The echidna, also known as the spiny anteater, lays the biggest eggs among mammals.', ' No mammal lays eggs, so there is no answer to this question.', ' The Australian spiny anteater/echidna lays the largest eggs of any mammal.', ' The duck-billed platypus is the only mammal that lays eggs, making it the largest mammal to lay eggs.', ' The North Pacific right whale lays the biggest eggs of any mammal, reaching up to 20 inches in length and 12 inches in width.', ' The elephant bird, an extinct species native to Madagascar, lays the biggest mammal egg.', ' North American beavers lay the biggest eggs of any mammal, with eggs up to 7.5 cm (3 in) long.', ' The echidna is the largest mammal that lays eggs.', ' There is no type of mammal that lays eggs, so the question cannot be answered.', ' The mammal that lays the biggest eggs is the blue whale.', ' The echidna is the only mammal that lays eggs, so it lays the biggest eggs of any mammal.', ' There is no type of mammal that lays the biggest eggs, as the platypus is the only mammal of its kind that lays eggs and it is not the largest mammal of its kind.', ' The Short-beaked Echidna lays the largest eggs among mammals.', ' The echidna lays the biggest eggs of any mammal.', ' Elephants lay the biggest eggs of any mammal.', ' Elephants lay the largest eggs of any mammal species.', ' The answer to the question \"What type of mammal lays the biggest eggs?\" is that no mammals lay eggs, so there is no mammal that lays the biggest eggs.', ' The kiwi lays the largest eggs of any mammal.', ' This question does not make sense, as mammals do not lay eggs.', ' The Australian echidna is the largest mammal that lays eggs.', ' The largest eggs laid by a mammal are those laid by the African Elephant, which can measure up to 4 inches long.', ' The echidna lays the biggest eggs among the animals that lay eggs.']}\n",
      "\n",
      "\u001b[1mChain 4\u001b[0m:\n",
      "{'final_answer': [' The echidna is the largest mammal that lays eggs.']}\n",
      "\n",
      "\n",
      "\u001b[1m> Finished SequentialChain chain.\u001b[0m\n",
      "CPU times: user 1.59 s, sys: 269 ms, total: 1.85 s\n",
      "Wall time: 9.31 s\n"
     ]
    },
    {
     "data": {
      "text/plain": [
       "[' The echidna is the largest mammal that lays eggs.']"
      ]
     },
     "execution_count": 6,
     "metadata": {},
     "output_type": "execute_result"
    }
   ],
   "source": [
    "%%time\n",
    "self_ask_verification_chain.run(text)"
   ]
  },
  {
   "cell_type": "code",
   "execution_count": null,
   "metadata": {},
   "outputs": [],
   "source": []
  }
 ],
 "metadata": {
  "kernelspec": {
   "display_name": "Python 3 (ipykernel)",
   "language": "python",
   "name": "python3"
  },
  "language_info": {
   "codemirror_mode": {
    "name": "ipython",
    "version": 3
   },
   "file_extension": ".py",
   "mimetype": "text/x-python",
   "name": "python",
   "nbconvert_exporter": "python",
   "pygments_lexer": "ipython3",
   "version": "3.10.3"
  },
  "vscode": {
   "interpreter": {
    "hash": "835c5a3474ba15827099fbeed14c7b6bc5170ce5ee26bc4cbb835d67e8a2e3b8"
   }
  }
 },
 "nbformat": 4,
 "nbformat_minor": 4
}
