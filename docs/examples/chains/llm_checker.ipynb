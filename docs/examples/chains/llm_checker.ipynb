{
 "cells": [
  {
   "cell_type": "markdown",
   "metadata": {},
   "source": [
    "# LLMCheckerChain\n",
    "This notebook showcases how to use LLMCheckerChain."
   ]
  },
  {
   "cell_type": "code",
   "execution_count": 1,
   "metadata": {},
   "outputs": [
    {
     "name": "stdout",
     "output_type": "stream",
     "text": [
      "\n",
      "\n",
      "\u001b[1m> Entering new SimpleSequentialChain chain...\u001b[0m\n",
      "selected_inputs\n",
      "{'gender': 'woman'}\n",
      "list_of_selected_inputs\n",
      "[['woman']]\n",
      "list_of_branches:\n",
      "[{'gender': 'woman'}]\n",
      "responses\n",
      "['\\n\\nMarilyn Lorraine Richardson', '\\n\\nKathryn Matilda Montgomery']\n",
      "\u001b[36;1m\u001b[1;3m['\\n\\nMarilyn Lorraine Richardson', '\\n\\nKathryn Matilda Montgomery']\u001b[0m\n",
      "selected_inputs\n",
      "{'name': ['\\n\\nMarilyn Lorraine Richardson', '\\n\\nKathryn Matilda Montgomery']}\n",
      "list_of_selected_inputs\n",
      "[['\\n\\nMarilyn Lorraine Richardson', '\\n\\nKathryn Matilda Montgomery']]\n",
      "list_of_branches:\n",
      "[{'name': '\\n\\nMarilyn Lorraine Richardson'}, {'name': '\\n\\nKathryn Matilda Montgomery'}]\n",
      "responses\n",
      "[' MLR and KMM.', ' MLR and KMM.', ' MLR and KMM.', ' MLR and KMM.']\n",
      "\u001b[33;1m\u001b[1;3m[' MLR and KMM.', ' MLR and KMM.', ' MLR and KMM.', ' MLR and KMM.']\u001b[0m\n",
      "\n",
      "\u001b[1m> Finished SimpleSequentialChain chain.\u001b[0m\n"
     ]
    },
    {
     "data": {
      "text/plain": [
       "[' MLR and KMM.', ' MLR and KMM.', ' MLR and KMM.', ' MLR and KMM.']"
      ]
     },
     "execution_count": 1,
     "metadata": {},
     "output_type": "execute_result"
    }
   ],
   "source": [
    "from langchain.chains import LLMChain, SimpleSequentialChain\n",
    "from langchain.llms import OpenAI\n",
    "\n",
    "from langchain.prompts.prompt import PromptTemplate\n",
    "\n",
    "llm = OpenAI(temperature=0.7)\n",
    "\n",
    "get_name = LLMChain(\n",
    "    llm=llm,\n",
    "    prompt=PromptTemplate(input_variables=[\"gender\"], template=\"Give me a totally random full name for a {gender}:\"),\n",
    "    n=2,\n",
    ")\n",
    "# create_draft_answer_chain.run(\"woman\")\n",
    "\n",
    "get_initials = LLMChain(\n",
    "    llm=llm,\n",
    "    prompt=PromptTemplate(input_variables=[\"name\"], template=\"The initials of the name '{name}' are\"),\n",
    "    n=2,\n",
    ")\n",
    "\n",
    "overall_chain = SimpleSequentialChain(chains=[get_name, get_initials], verbose=True)\n",
    "overall_chain.run(\"woman\")"
   ]
  },
  {
   "cell_type": "code",
   "execution_count": null,
   "metadata": {},
   "outputs": [],
   "source": []
  }
 ],
 "metadata": {
  "kernelspec": {
   "display_name": "Python 3 (ipykernel)",
   "language": "python",
   "name": "python3"
  },
  "language_info": {
   "codemirror_mode": {
    "name": "ipython",
    "version": 3
   },
   "file_extension": ".py",
   "mimetype": "text/x-python",
   "name": "python",
   "nbconvert_exporter": "python",
   "pygments_lexer": "ipython3",
   "version": "3.10.3"
  }
 },
 "nbformat": 4,
 "nbformat_minor": 4
}
