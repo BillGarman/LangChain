{
 "cells": [
  {
   "cell_type": "markdown",
   "metadata": {},
   "source": [
    "# LLMCheckerChain\n",
    "This notebook showcases how to use LLMCheckerChain."
   ]
  },
  {
   "cell_type": "code",
   "execution_count": 1,
   "metadata": {},
   "outputs": [],
   "source": [
    "from langchain.chains import LLMCheckerChain, LLMChain, SequentialChain, ParallelChain\n",
    "from langchain.llms import OpenAI\n",
    "from langchain.prompts.base import ListOutputParser\n",
    "from langchain.llms.base import LLM\n",
    "\n",
    "\n",
    "llm = OpenAI(temperature=0.7)\n",
    "\n",
    "text = \"What type of mammal lays the biggest eggs?\"\n",
    "\n",
    "checker_chain = LLMCheckerChain(llm=llm, verbose=True)\n",
    "\n",
    "# checker_chain.run(text)"
   ]
  },
  {
   "cell_type": "code",
   "execution_count": 2,
   "metadata": {},
   "outputs": [],
   "source": [
    "# flake8: noqa\n",
    "from langchain.prompts.prompt import PromptTemplate\n",
    "\n",
    "_CREATE_DRAFT_ANSWER_TEMPLATE = \"\"\"Question: {question}\n",
    "\n",
    "Answer: Let's think step by step. \"\"\"\n",
    "CREATE_DRAFT_ANSWER_PROMPT = PromptTemplate(\n",
    "    input_variables=[\"question\"], template=_CREATE_DRAFT_ANSWER_TEMPLATE\n",
    ")\n",
    "\n",
    "_LIST_ASSERTIONS_TEMPLATE = \"\"\"{statement}\n",
    "Make a bullet point list of the assumptions you made when producing the above statement.\\n\\n\"\"\"\n",
    "LIST_ASSERTIONS_PROMPT = PromptTemplate(\n",
    "    input_variables=[\"statement\"], template=_LIST_ASSERTIONS_TEMPLATE\n",
    ")\n",
    "\n",
    "_CHECK_ASSERTIONS_TEMPLATE = \"\"\"{assertions}\n",
    "Repeat the assertion above, and then determine if it is true or false. If it is false, explain why.\\n\\n\"\"\"\n",
    "CHECK_ASSERTIONS_PROMPT = PromptTemplate(\n",
    "    input_variables=[\"assertions\"], template=_CHECK_ASSERTIONS_TEMPLATE\n",
    ")\n",
    "\n",
    "_REVISED_ANSWER_TEMPLATE = \"\"\"{checked_assertions}\n",
    "\n",
    "Question: In light of the above assertions and checks, how would you answer the question '{question}'?\n",
    "\n",
    "The answer is: \"\"\"\n",
    "REVISED_ANSWER_PROMPT = PromptTemplate(\n",
    "    input_variables=[\"checked_assertions\", \"question\"],\n",
    "    template=_REVISED_ANSWER_TEMPLATE,\n",
    ")"
   ]
  },
  {
   "cell_type": "code",
   "execution_count": 3,
   "metadata": {},
   "outputs": [],
   "source": [
    "llm = OpenAI(temperature=0.7)\n",
    "\n",
    "create_draft_answer_chain = ParallelChain(\n",
    "    llm=llm, prompt=CREATE_DRAFT_ANSWER_PROMPT, output_key=\"statement\"\n",
    ")\n",
    "\n",
    "list_assertions_chain = ParallelChain(\n",
    "    llm=llm,\n",
    "    prompt=LIST_ASSERTIONS_PROMPT,\n",
    "    output_key=\"assertions\",\n",
    "    # This indicates that there are multiple outputs\n",
    "    output_parser=lambda x: [i.strip() for i in x.split(\"\\n\") if len(i.strip()) > 0],\n",
    ")\n",
    "\n",
    "check_assertions_chain = ParallelChain(\n",
    "    llm=llm, prompt=CHECK_ASSERTIONS_PROMPT, output_key=\"checked_assertions\"\n",
    ")\n",
    "\n",
    "revised_answer_chain = ParallelChain(\n",
    "    llm=llm,\n",
    "    prompt=REVISED_ANSWER_PROMPT,\n",
    "    output_key=\"revised_answer\",\n",
    "    # This indicates that there are multiple inputs\n",
    "    input_parser=lambda x: \"\\n\".join(x),\n",
    ")\n",
    "\n",
    "self_ask_verification_chain = SequentialChain(\n",
    "    chains=[\n",
    "        create_draft_answer_chain,\n",
    "        list_assertions_chain,\n",
    "        check_assertions_chain,\n",
    "        revised_answer_chain,\n",
    "    ],\n",
    "    input_variables=[\"question\"],\n",
    "    output_variables=[\"revised_answer\"],\n",
    "    verbose=True,\n",
    ")"
   ]
  },
  {
   "cell_type": "code",
   "execution_count": 4,
   "metadata": {},
   "outputs": [],
   "source": [
    "# %%time\n",
    "# self_ask_verification_chain.run(text)"
   ]
  },
  {
   "cell_type": "code",
   "execution_count": 38,
   "metadata": {},
   "outputs": [],
   "source": [
    "llm = OpenAI(temperature=0.7)\n",
    "\n",
    "create_draft_answer_chain = ParallelChain(\n",
    "    llm=llm, prompt=CREATE_DRAFT_ANSWER_PROMPT, output_key=\"statement\", n = 25\n",
    ")\n",
    "\n",
    "list_assertions_chain = ParallelChain(\n",
    "    llm=llm,\n",
    "    prompt=LIST_ASSERTIONS_PROMPT,\n",
    "    output_key=\"assertions\",\n",
    "    # This indicates that there are multiple outputs\n",
    "#     output_parser=lambda x: [i.strip() for i in x.split(\"\\n\") if len(i.strip()) > 0],\n",
    ")\n",
    "\n",
    "check_assertions_chain = ParallelChain(\n",
    "    llm=llm, prompt=CHECK_ASSERTIONS_PROMPT, output_key=\"checked_assertions\"\n",
    ")\n",
    "\n",
    "revised_answer_chain = ParallelChain(\n",
    "    llm=llm,\n",
    "    prompt=REVISED_ANSWER_PROMPT,\n",
    "    output_key=\"revised_answer\",\n",
    "    # This indicates that there are multiple inputs\n",
    "#     input_parser=lambda x: \"\\n\".join(x),\n",
    ")\n",
    "\n",
    "\n",
    "MOE_CONSENSUS_PROMPT = PromptTemplate(\n",
    "    input_variables=[\"revised_answer\", \"question\"],\n",
    "    template=\"\"\"{revised_answer}\n",
    "\n",
    "A group of people each gave their answers above. Write an answer to '{question}' that would be the least controversial to this group.\n",
    "\n",
    "Answer: \"\"\",\n",
    ")\n",
    "\n",
    "moe_answer_chain = ParallelChain(\n",
    "    llm=llm,\n",
    "    prompt=MOE_CONSENSUS_PROMPT,\n",
    "    output_key=\"final_answer\",\n",
    "    # This indicates that there are multiple inputs\n",
    "    input_parser=lambda x: \"\\n -\" + \"\\n -\".join(x),\n",
    ")\n",
    "\n",
    "\n",
    "self_ask_verification_chain = SequentialChain(\n",
    "    chains=[\n",
    "        create_draft_answer_chain,\n",
    "        list_assertions_chain,\n",
    "        check_assertions_chain,\n",
    "        revised_answer_chain,\n",
    "        moe_answer_chain,\n",
    "    ],\n",
    "    input_variables=[\"question\"],\n",
    "    output_variables=[\"final_answer\"],\n",
    "    verbose=True,\n",
    ")"
   ]
  },
  {
   "cell_type": "code",
   "execution_count": 44,
   "metadata": {},
   "outputs": [
    {
     "name": "stdout",
     "output_type": "stream",
     "text": [
      "\n",
      "\n",
      "\u001b[1m> Entering new SequentialChain chain...\u001b[0m\n",
      "\u001b[1mChain 0\u001b[0m:\n",
      "{'statement': [' Mammals are animals that give birth to live young and feed them milk from mammary glands. They do not lay eggs. So, the answer to this question is that no type of mammal lays eggs.', '\\n\\n1. What type of mammal lays eggs?\\n\\nAnswer: Monotremes, which are mammals that lay eggs, are the only mammals that lay eggs.\\n\\n2. What monotreme lays the biggest eggs?\\n\\nAnswer: The largest monotreme egg is laid by the echidna, which can lay eggs up to 10 cm in length.', \"\\n\\nFirst, let's consider the mammals. Mammals are warm-blooded vertebrates that have hair or fur, feed their young with milk produced by mammary glands, and have a more complex nervous system than other animals. \\n\\nNow, let's consider eggs. Egg-laying mammals, or monotremes, lay eggs instead of giving birth to live young. The three species of monotremes are the platypus, the echidna, and the two species of spiny anteaters. \\n\\nOf these, the echidna lays the biggest eggs. Echidnas lay eggs that weigh around 10 grams and are about 25 mm long.\", ' Mammals are typically known to give birth to live young, so there is no mammal that lays eggs.  The animals that lay the biggest eggs are birds, with the ostrich laying the largest eggs of any bird.', '\\n\\n1. What type of animals lay eggs?\\nAnswer: Birds and some reptiles, such as turtles and crocodiles, lay eggs.\\n\\n2. Which of these animals are mammals?\\nAnswer: None of these animals are mammals; mammals give birth to live young.', \" Mammals are animals that give birth to live young, so it's not likely that a mammal lays eggs.  Birds, reptiles, and amphibians lay eggs, so the answer to this question would be none.\", '\\n\\nFirst, a mammal is an animal that is warm-blooded and has fur. \\n\\nSecond, the biggest eggs are usually laid by birds. \\n\\nTherefore, the answer is that no type of mammal lays the biggest eggs; the biggest eggs are laid by birds.', ' Mammals lay eggs, so we are looking for a mammal that lays the biggest eggs. That mammal would be the elephant. Elephants lay the largest eggs of any mammal, with a single egg weighing up to 11 pounds.', '\\nMammals lay eggs, so the answer to this question would be a mammal that lays the biggest eggs. The mammal that lays the biggest eggs is the echidna, also known as a spiny anteater.', '\\n\\nFirst, let\\'s consider what is meant by \"mammal.\" Mammals are a class of vertebrate animals that have hair or fur, produce milk for their young, and have a four-chambered heart.\\n\\nNow, let\\'s think about what is meant by \"biggest eggs.\" Biggest in this case likely means the largest in terms of size or volume.\\n\\nGiven this information, the answer to the question is the elephant. Elephants are mammals and they lay large, leathery eggs (also known as \"calves\") that can weigh up to 10 pounds.', ' Mammals lay eggs, so the first step is to identify which mammals lay eggs. Monotremes are the only mammals that lay eggs, so the mammal that lays the biggest eggs is the monotreme that lays the biggest eggs. The largest egg of any monotreme is laid by the echidna, which can lay eggs up to 11 cm long and 6 cm wide.', ' Mammals lay eggs, but not all mammals lay eggs. The only mammals that lay eggs are monotremes, which are a group of mammals that includes the platypus and the echidna. Of these two animals, the platypus lays the largest eggs, which can be up to 1.5 inches in length.', ' First, what type of mammal lays eggs? The answer is monotremes, which are mammals that lay eggs.  Of the three monotreme species, the biggest egg-layers are the two species of echidnas - the short-beaked echidna and the long-beaked echidna.  The egg laid by these species is about the size of a grape, making it the largest egg laid by any mammal.', ' Mammals lay eggs, so the answer to this question would be a mammal that lays the biggest eggs. The biggest eggs laid by a mammal are those laid by the Long-Beaked Echidna, which can lay eggs up to four inches long.', ' First, what type of mammal lays eggs? Monotremes.  Monotremes are mammals that lay eggs and include the platypus and the echidna.  Of these two, the echidna lays the largest eggs, measuring up to 2.5 cm in diameter.', \" Mammals lay eggs, so the type of mammal we're looking for is a mammal that lays eggs. The two types of mammals that lay eggs are monotremes and marsupials. Monotremes lay the largest eggs, so the type of mammal that lays the biggest eggs is a monotreme.\", ' Mammals are animals that give birth to live young and feed their young with milk from their mammary glands.  Therefore, the answer to this question is that no mammal lays eggs.  The animals that lay the biggest eggs are reptiles such as the leatherback sea turtle, which lays eggs up to the size of a football.', ' Mammals are animals that give birth to live young, nurse their young with milk, and have hair or fur.  So, any mammal that lays eggs would not be considered a true mammal.  The animal that lays the biggest eggs is the Ostrich, which is a bird, not a mammal.', ' Mammals are warm-blooded animals that have hair and give birth to live young.  The biggest eggs laid by mammals are those of the elephant.  Elephant eggs are tiny, measuring only about 0.08 inches (2 mm) in diameter, but they are the largest eggs laid by any mammal.', '\\n\\n1. The biggest eggs are laid by birds, not mammals. \\n2. The bird that lays the biggest egg relative to its body size is the ostrich. \\n3. Ostriches are flightless birds, and thus, not mammals.', '\\n\\nFirst, what type of mammal lays eggs? That would be a monotreme. Monotremes are a subclass of mammals that lay eggs instead of giving birth to live young.\\n\\nSecond, which monotreme lays the biggest eggs? That would be the echidna. Echidnas are egg-laying mammals native to Australia and New Guinea. They lay the biggest eggs of any monotreme, with an average size of 10 cm (3.9 in) long and 4 cm (1.6 in) wide.', \" Mammals lay eggs, so we're looking for a type of mammal. The biggest mammal eggs are laid by the elephant.\", '\\n\\nFirst, what type of mammal lays eggs? There are only two types of mammals that lay eggs: monotremes and marsupials.\\n\\nSecond, which of these two types of mammals lays the biggest eggs? Monotremes lay the biggest eggs. Specifically, the echidna and the platypus, both of which are monotremes, lay the largest eggs relative to their body size of any mammal.', '\\n\\nFirst, we need to identify which mammals lay eggs. Mammals that lay eggs include monotremes, which are a group of mammals that lay eggs and include the platypus and the echidna.\\n\\nNow that we know which mammals lay eggs, we can look at which one lays the biggest egg. According to research, the platypus lays the biggest egg among all monotremes. The eggs of the platypus are between 1.2 and 2 centimeters long and 0.7 and 1.2 centimeters wide.', \" Mammals are animals that give birth to live young, so they don't lay eggs.  The animals that lay the biggest eggs include birds, reptiles, and amphibians. The largest egg laid by a bird is the ostrich egg, which can weigh up to 1.5 kilograms (3.3 pounds). The largest egg laid by a reptile is the whale shark egg, which is up to 20 centimeters (7.9 inches) in diameter. The largest egg laid by an amphibian is the Goliath frog egg, which can be up to 11 centimeters (4.3 inches) in diameter.\"]}\n",
      "\n",
      "\u001b[1mChain 1\u001b[0m:\n",
      "{'assertions': ['\\n• Mammals give birth to live young\\n• Mammals feed their young milk\\n• Mammals have mammary glands\\n• Mammals do not lay eggs', '• Monotremes are the only type of mammal that lay eggs.\\n• Echidnas are a type of monotreme. \\n• Echidnas lay the largest monotreme eggs. \\n• Echidna eggs can be up to 10 cm in length.', '\\n• Mammals are warm-blooded vertebrates that have hair or fur, feed their young with milk produced by mammary glands, and have a more complex nervous system than other animals.\\n• Monotremes are mammals that lay eggs instead of giving birth to live young.\\n• The three species of monotremes are the platypus, the echidna, and the two species of spiny anteaters.\\n• The echidna lays the biggest eggs among the monotremes.\\n• Echidna eggs weigh around 10 grams and are about 25 mm long.', '\\n• Mammals typically give birth to live young \\n• No mammal lays eggs\\n• The biggest eggs are laid by birds\\n• The ostrich lays the largest eggs of any bird', '• All animals that lay eggs are not mammals\\n• Some reptiles lay eggs\\n• Mammals give birth to live young', '\\n• Mammals do not lay eggs\\n• Birds, reptiles, and amphibians lay eggs\\n• Therefore, no mammal lays eggs', '\\n• Mammals are warm-blooded animals with fur\\n• Birds lay the biggest eggs\\n• No type of mammal lays the biggest eggs', '\\n• Assumed that mammals lay eggs \\n• Assumed that there is a mammal that lays the biggest eggs\\n• Assumed that the biggest egg-laying mammal is the elephant\\n• Assumed that the elephant’s eggs can weigh up to 11 pounds', '\\n• Mammals can lay eggs \\n• The biggest eggs are laid by the echidna \\n• The echidna is also known as a spiny anteater', '\\n• Mammals are a class of vertebrate animals \\n• Mammals have hair or fur \\n• Mammals produce milk for their young \\n• Mammals have a four-chambered heart \\n• “Biggest eggs” means largest in size or volume \\n• Elephant lays large, leathery eggs \\n• Elephant eggs can weigh up to 10 pounds', '• Monotremes are the only mammals that lay eggs\\n• The mammal that lays the biggest eggs is the monotreme that lays the biggest eggs\\n• The largest egg of any monotreme is laid by the echidna\\n• Echidnas can lay eggs up to 11 cm long and 6 cm wide', '• Mammals are a class of animals that includes the platypus and the echidna.\\n• Monotremes are a group of mammals that lay eggs.\\n• The platypus lays the largest eggs of the two monotreme species.\\n• The eggs of the platypus can be up to 1.5 inches in length.', '\\n• Monotremes are the only type of mammal that lays eggs\\n• There are three monotreme species\\n• The two species of echidnas are the biggest egg-layers\\n• The eggs laid by echidnas are approximately the size of a grape\\n• The eggs laid by echidnas are the largest eggs laid by any mammal', '\\n• Mammals lay eggs\\n• Long-Beaked Echidna lays the biggest eggs\\n• Egg size of Long-Beaked Echidna can reach up to 4 inches long', \"• Monotremes are the only type of mammal that lay eggs\\n• Platypus and echidna are two examples of monotremes\\n• The echidna lays the largest eggs among the monotremes\\n• The maximum size of the echidna's eggs is 2.5 cm in diameter\", '\\n• Mammals can lay eggs\\n• There are two types of mammals that lay eggs: monotremes and marsupials\\n• Monotremes lay the largest eggs\\n• The type of mammal that lays the biggest eggs is a monotreme', '\\n• Mammals give birth to live young \\n• Mammals feed their young with milk from their mammary glands \\n• No mammal lays eggs \\n• Reptiles can lay the biggest eggs', '• Mammals give birth to live young\\n• Mammals nurse their young with milk\\n• Mammals have hair or fur\\n• Ostrich lays the biggest eggs\\n• Ostrich is a bird, not a mammal', '\\n•Mammals are warm-blooded animals\\n•Mammals have hair\\n•Mammals give birth to live young\\n•Elephant eggs are the largest eggs laid by any mammal\\n•Elephant eggs measure only about 0.08 inches (2 mm) in diameter', '\\n• Birds lay bigger eggs than mammals \\n• Ostrich is the bird that lays the biggest egg \\n• Ostrich is flightless bird \\n• Flightless birds are not mammals', '• Monotremes are a subclass of mammals\\n• Echidnas are egg-laying mammals native to Australia and New Guinea\\n• Echidnas lay the biggest eggs of any monotreme\\n• The average size of an echidna egg is 10 cm long and 4 cm wide', '• Mammals lay eggs\\n• Mammals lay the biggest eggs\\n• Elephants lay the biggest eggs', '\\n• Monotremes and marsupials are the only two types of mammals that lay eggs\\n• Monotremes lay the biggest eggs relative to their body size of any mammal\\n• Echidnas and platypuses are both monotremes', '\\n• Assumed that monotremes are the only mammals that lay eggs\\n• Assumed that the platypus lays the biggest eggs among all monotremes\\n• Assumed the size of the platypus eggs: between 1.2 and 2 centimeters long and 0.7 and 1.2 centimeters wide', \"\\n• Mammals give birth to live young and don't lay eggs. \\n• Birds, reptiles, and amphibians lay eggs. \\n• The largest egg laid by a bird is the ostrich egg. \\n• The largest egg laid by a reptile is the whale shark egg. \\n• The largest egg laid by an amphibian is the Goliath frog egg.\"]}\n",
      "\n"
     ]
    },
    {
     "name": "stdout",
     "output_type": "stream",
     "text": [
      "\u001b[1mChain 2\u001b[0m:\n",
      "{'checked_assertions': ['Mammals lay eggs.\\nFalse. Mammals do not lay eggs; they give birth to live young.', 'The assertion is: Echidnas lay the largest monotreme eggs.\\n\\nThis statement is true. Echidnas lay the largest monotreme eggs, which can be up to 10 cm in length.', 'The assertion is that the echidna lays the biggest eggs among the monotremes. This is true. Echidna eggs weigh around 10 grams and are about 25 mm long, which is larger than the eggs laid by the platypus and the two species of spiny anteaters.', '\\nAssertion: Mammals lay eggs.\\nFalse. Mammals typically give birth to live young and no mammal lays eggs.', 'The assertion: All animals that lay eggs are not mammals. \\n\\nThis is true. Mammals give birth to live young, and not lay eggs.', 'The assertion: No mammal lays eggs.\\n\\nThis assertion is true. Mammals give birth to live offspring, rather than laying eggs, which is a trait shared by birds, reptiles, and amphibians.', 'The assertion: Mammals are warm-blooded animals with fur.\\n\\nThis assertion is true. Mammals are vertebrates that are distinguished by their fur or hair and their ability to regulate their body temperature through internal mechanisms.', 'Assertion: The elephant lays eggs that can weigh up to 11 pounds.\\nFalse. Elephants do not lay eggs, they give birth to live offspring.', 'The assertion is that mammals can lay eggs. This is false, as only monotremes (such as the echidna) are capable of laying eggs, while all other mammals give birth to live young.', '\\nAssertion: Elephant eggs can weigh up to 10 pounds.\\n\\nThis is false. Elephant eggs do not exist; female elephants do not lay eggs.', 'The assertion: The largest egg of any monotreme is laid by the echidna.\\n\\nThis assertion is true. Echidnas are the only type of monotreme that lay eggs, and they can lay eggs up to 11 cm long and 6 cm wide, making them the monotreme that produces the largest eggs.', '\\nThe eggs of the echidna can be up to 1.5 inches in length.\\nFalse. The eggs of the echidna are much smaller than the eggs of the platypus, usually ranging from 0.4 to 0.7 inches in length.', 'The assertion that monotremes are the only type of mammal that lays eggs is true. Monotremes are the only type of mammal that lay eggs, as they are the only mammals that possess the unique trait of laying eggs instead of giving birth to live young.', 'The assertion that Mammals lay eggs is false. Mammals do not lay eggs, as they reproduce via live birth.', \"The maximum size of the echidna's eggs is 2.5 cm in diameter.\\nFalse. The maximum size of the echidna's eggs is 3.5 cm in diameter.\", 'The assertion is: \"The type of mammal that lays the biggest eggs is a monotreme.\" This is true. Monotremes lay the largest eggs of any mammal, which makes them the type of mammal that lays the biggest eggs.', 'Assertion: Mammals lay eggs.\\nFalse, Mammals do not lay eggs, only Reptiles lay eggs.', 'Assertion: Ostrich lays the biggest eggs.\\nTrue. Ostrich lays the biggest eggs compared to any other species of bird.', '\\nAssertion: Elephant eggs are the largest eggs laid by any mammal.\\nTrue. Elephant eggs measure only about 0.08 inches (2 mm) in diameter, making them the largest eggs laid by any mammal.', 'The assertion that birds lay bigger eggs than mammals is true. This is because the Ostrich, a bird, lays the biggest egg of all known species, and flightless birds, which are not mammals, also lay large eggs.', 'Assertion: Echidnas lay the biggest eggs of any monotreme.\\n\\nAnswer: True. Echidnas lay the biggest eggs of any monotreme, with an average size of 10 cm long and 4 cm wide.', 'The assertion: Elephants lay the biggest eggs. \\n\\nFalse. Elephants do not lay eggs. Mammals do not lay eggs, only certain species of reptiles and birds do.', 'Assertion: Monotremes and marsupials are the only two types of mammals that lay eggs. \\n\\nTrue. Monotremes are the only mammals that lay eggs, and marsupials are the only other mammal group to do so.', '\\nAssertion: Monotremes are the only mammals that lay eggs, with the platypus laying the biggest eggs among all monotremes, which are between 1.2 and 2 centimeters long and 0.7 and 1.2 centimeters wide.\\n\\nFalse. There are other mammals that lay eggs, such as the echidna. Additionally, the eggs of the platypus are not always between 1.2 and 2 centimeters long and 0.7 and 1.2 centimeters wide. The size of the platypus eggs can range from 1.5 to 2.5 centimeters long and 1 to 1.8 centimeters wide.', \"\\nThe assertion above states that mammals give birth to live young and don't lay eggs, whereas birds, reptiles, and amphibians lay eggs. This is true. Mammals give birth to live young, while birds, reptiles, and amphibians reproduce by laying eggs.\"]}\n",
      "\n",
      "\u001b[1mChain 3\u001b[0m:\n",
      "{'revised_answer': [' No mammal lays eggs, so there is no type of mammal that lays the biggest eggs.', ' Echidnas lay the largest monotreme eggs.', ' The echidna lays the biggest eggs among mammals.', ' No mammal lays eggs, so there is no type of mammal that lays the biggest eggs.', ' No mammal lays eggs.', ' No mammals lay eggs, so there is no type of mammal that lays the biggest eggs.', ' The platypus. Platypuses are mammals that lay the largest eggs relative to their body size of any mammal.', ' No mammal lays eggs, they all give birth to live offspring.', ' Monotremes lay the biggest eggs among mammals.', '\\nNo mammal lays eggs; all mammals give birth to live young.', ' Echidnas are the type of mammal that lay the biggest eggs.', ' The platypus lays the biggest eggs, usually ranging from 1.2 to 1.5 inches in length.', ' Monotremes lay the biggest eggs of any mammal. Monotremes are the only type of mammal that lays eggs, and they lay much larger eggs than other types of mammals.', ' No mammal lays eggs, so there is no type of mammal that lays the biggest eggs.', '\\nThe kiwi bird lays the biggest eggs, with an average egg size of up to 6 inches (15 cm) in diameter.', ' Monotremes lay the biggest eggs of any mammal.', ' No mammal lays eggs, so there is no type of mammal that lays the biggest eggs.', ' Ostrich, which is a bird, lays the biggest eggs of any mammal.', ' Elephants lay the biggest eggs of any mammal.', ' No mammal lays the biggest eggs. Birds lay the biggest eggs of all known species, with the Ostrich laying the largest.', ' Echidnas, which are monotremes.', ' No mammal lays eggs, so there is no type of mammal that lays the biggest eggs.', ' Monotremes lay the biggest eggs of any mammal.', ' The platypus lays the biggest eggs among all mammals that lay eggs.', ' No mammal lays eggs. All mammals give birth to live young.']}\n",
      "\n",
      "\u001b[1mChain 4\u001b[0m:\n",
      "{'final_answer': [' Monotremes lay the biggest eggs of any mammal.']}\n",
      "\n",
      "\n",
      "\u001b[1m> Finished SequentialChain chain.\u001b[0m\n",
      "CPU times: user 1.61 s, sys: 240 ms, total: 1.85 s\n",
      "Wall time: 14.3 s\n"
     ]
    },
    {
     "data": {
      "text/plain": [
       "[' Monotremes lay the biggest eggs of any mammal.']"
      ]
     },
     "execution_count": 44,
     "metadata": {},
     "output_type": "execute_result"
    }
   ],
   "source": [
    "%%time\n",
    "self_ask_verification_chain.run(\"What type of mammal lays the biggest eggs?\")"
   ]
  },
  {
   "cell_type": "code",
   "execution_count": 45,
   "metadata": {},
   "outputs": [
    {
     "name": "stdout",
     "output_type": "stream",
     "text": [
      "\n",
      "\n",
      "\u001b[1m> Entering new SequentialChain chain...\u001b[0m\n",
      "\u001b[1mChain 0\u001b[0m:\n",
      "{'statement': ['\\n\\nStep 1: Find out when Mark Zuckerberg and Sheryl Sandberg first met. \\n\\nMark Zuckerberg and Sheryl Sandberg first met in 2007. \\n\\nStep 2: Find out where they met. \\n\\nThey met at a holiday party hosted by venture capitalist Jim Breyer in 2007.', '\\n\\nStep 1: Do a quick online search for \"Mark Zuckerberg + Sheryl Sandberg\". \\n\\nStep 2: Review the results of the search. \\n\\nStep 3: Based on the search results, it appears that Mark Zuckerberg and Sheryl Sandberg first met at a Christmas party in 2007.', \"\\n\\nFirst, let's look at what we know. We know that Mark Zuckerberg is the founder and CEO of Facebook, and that Sheryl Sandberg is the chief operating officer of Facebook. \\n\\nNext, let's do a bit of research. According to an article by The New York Times, Mark Zuckerberg and Sheryl Sandberg first met in 2007 at a Christmas party hosted by a mutual friend.\", '\\n\\nStep 1: Research. \\n\\nStep 2: According to reports, Mark Zuckerberg first met Sheryl Sandberg at a Christmas party held at the home of venture capitalist Jim Breyer in December 2007.', '\\n\\nStep 1: We need to find out when Mark Zuckerberg and Sheryl Sandberg met. \\n\\nStep 2: According to a 2008 New York Times article, Zuckerberg and Sandberg first met in 2006 when Zuckerberg was interviewing Sandberg for a position at Facebook. \\n\\nStep 3: We can conclude that Mark Zuckerberg first met Sheryl Sandberg during an interview in 2006.', \" Mark Zuckerberg and Sheryl Sandberg first met through a mutual friend, Dan Rosensweig, who was the CEO of the textbook rental company Chegg. Zuckerberg had reached out to Rosensweig, who suggested that Sandberg would be the perfect person to join Facebook as the company's Chief Operating Officer in 2007.\", ' Mark Zuckerberg and Sheryl Sandberg first met in 2007 when Sandberg was considering an offer to join Facebook as its chief operating officer. Sandberg ultimately accepted the offer and joined Facebook in 2008.', '\\n\\nStep 1: Mark Zuckerberg is the founder and CEO of Facebook, while Sheryl Sandberg is the COO of Facebook. \\n\\nStep 2: They must have first met while working together at Facebook. \\n\\nTherefore, Mark Zuckerberg and Sheryl Sandberg first met at Facebook.', '\\n\\nStep 1: Mark Zuckerberg is the founder and CEO of Facebook, and Sheryl Sandberg is the Chief Operating Officer at Facebook. \\n\\nStep 2: Therefore, it is likely that the two first met at the Facebook office, when Sheryl was interviewing for the position of COO in 2008.', ' Mark Zuckerberg is the founder and CEO of Facebook and Sheryl Sandberg is the Chief Operating Officer of the company.  Zuckerberg and Sandberg probably first met at a business meeting or event related to Facebook. It is likely that their first official meeting was at a gathering related to the business of Facebook.', ' Mark Zuckerberg and Sheryl Sandberg first met in December 2007 at a holiday party hosted by mutual friend Dan Rosensweig, then the CEO of technology news website CNET.', \"\\nMark Zuckerberg is the co-founder and CEO of Facebook, and Sheryl Sandberg is the Chief Operating Officer (COO) of Facebook. \\nTherefore, it is likely that Mark Zuckerberg and Sheryl Sandberg met for the first time at Facebook's headquarters in Menlo Park, California.\", ' Mark Zuckerberg and Sheryl Sandberg first met in the summer of 2007 when she was being considered for the role of Chief Operating Officer (COO) at Facebook.', '\\n\\nStep 1: Who is Mark Zuckerberg and who is Sheryl Sandberg?\\n\\nMark Zuckerberg is the co-founder and CEO of the social media company Facebook. Sheryl Sandberg is the current Chief Operating Officer of Facebook.\\n\\nStep 2: When did they first meet?\\n\\nMark Zuckerberg and Sheryl Sandberg first met in 2007.\\n\\nStep 3: Where did they meet?\\n\\nMark Zuckerberg and Sheryl Sandberg first met at a holiday party hosted by Silicon Valley venture capitalist Jim Breyer.', ' Mark Zuckerberg and Sheryl Sandberg both work for Facebook, so it is likely that they first met at the company. Reports suggest that they first met in 2007 when Sheryl was being considered for a job at the company.', ' Mark Zuckerberg is the founder and CEO of Facebook, and Sheryl Sandberg is the Chief Operating Officer (COO). Therefore, it is likely that they first met at a meeting related to Facebook. It is also likely that they first met when Sandberg was hired to take on the role of COO of Facebook.', '\\n\\nStep 1: Researching the backgrounds of both Mark Zuckerberg and Sheryl Sandberg can help us answer this question.\\n\\nStep 2: According to reports, Mark Zuckerberg and Sheryl Sandberg first met in 2007 when she was considering a job at Facebook.', ' Mark Zuckerberg is the founder and CEO of Facebook, and Sheryl Sandberg is the Chief Operating Officer of Facebook. Therefore, it is likely that the two first met when Sandberg was hired to join Facebook in 2008.', ' Mark Zuckerberg and Sheryl Sandberg first met at a Christmas party hosted by Dan Rosensweig, the former CEO of Yahoo, in 2007.', ' Mark Zuckerberg and Sheryl Sandberg met for the first time in 2006, when Sandberg was being considered for the role of Chief Operating Officer at Facebook. It is believed that they first met in person at a dinner meeting hosted by venture capitalist Jim Breyer, who was an early investor in Facebook.', ' Mark Zuckerberg and Sheryl Sandberg first met in 2007 at a holiday party hosted by then-Yahoo CEO Terry Semel in Palo Alto, California.', ' Sheryl Sandberg and Mark Zuckerberg first met at a Christmas party hosted by Dan Rosensweig, the CEO of a company called CNET, in December 2007.', ' Mark Zuckerberg and Sheryl Sandberg first met in 2006 when Zuckerberg was interviewing for a Chief Operating Officer for Facebook. Sandberg was the COO of Google at the time and was recommended to Zuckerberg by his mentor and former PayPal executive Reid Hoffman. The meeting took place at a restaurant in Palo Alto, California.', '\\nMark Zuckerberg and Sheryl Sandberg first met in 2006 when Sandberg was interviewing for the position of Chief Operating Officer of Facebook. Sandberg was hired shortly after the interview and the rest is history.', \"\\n\\nFirst, we need to find out when Mark Zuckerberg and Sheryl Sandberg first met. According to Sandberg's book Lean In, she first met Zuckerberg in 2007 when he was interviewing her for a job at Facebook.\"]}\n",
      "\n",
      "\u001b[1mChain 1\u001b[0m:\n",
      "{'assertions': ['• Mark Zuckerberg and Sheryl Sandberg met in person. \\n• The meeting was not pre-arranged. \\n• The meeting occurred at a holiday party. \\n• The party was hosted by Jim Breyer. \\n• The meeting happened in 2007.', '• Mark Zuckerberg and Sheryl Sandberg were first mentioned together in a 2007 article\\n• They likely first met at a Christmas party in 2007 \\n• Their first meeting was likely mentioned in an article \\n• The article was likely found in the search results \\n• The article likely provided information on their first meeting', '• Mark Zuckerberg is the founder and CEO of Facebook \\n• Sheryl Sandberg is the chief operating officer of Facebook\\n• The two met in 2007 at a Christmas party hosted by a mutual friend', '\\n• Mark Zuckerberg attended a Christmas party in December 2007\\n• Sheryl Sandberg also attended the same Christmas party in December 2007 \\n• The Christmas party was held at the home of Jim Breyer, a venture capitalist \\n• Mark Zuckerberg and Sheryl Sandberg met each other at the party', '\\n• Assumed that the New York Times article is an accurate source of information \\n• Assumed that Mark Zuckerberg interviewed Sheryl Sandberg for a position at Facebook \\n• Assumed that Mark Zuckerberg and Sheryl Sandberg did not meet before 2006', '\\n• Zuckerberg and Sandberg had not met prior to 2007 \\n• Dan Rosensweig was the CEO of Chegg \\n• Zuckerberg reached out to Rosensweig for advice \\n• Rosensweig suggested Sandberg for the position of COO \\n• Sandberg joined Facebook in 2007', \"\\n- Zuckerberg and Sandberg had never met prior to 2007. \\n- Sandberg was offered a role as Facebook's COO in 2007.\\n- Sandberg accepted the offer in 2008.\", '\\n• Mark Zuckerberg and Sheryl Sandberg both work at Facebook \\n• Mark Zuckerberg is the founder and CEO of Facebook\\n• Sheryl Sandberg is the COO of Facebook \\n• They did not meet prior to working together at Facebook', '• Mark Zuckerberg and Sheryl Sandberg both work at Facebook\\n• Mark Zuckerberg is the founder and CEO of Facebook\\n• Sheryl Sandberg is the Chief Operating Officer of Facebook\\n• Sheryl Sandberg interviewed for the position of COO in 2008', '\\n• Zuckerberg and Sandberg first met at a business meeting or event related to Facebook\\n• Their first official meeting was at a gathering related to the business of Facebook', '\\n- Mark Zuckerberg and Sheryl Sandberg are both people.\\n- They were both at a holiday party.\\n- The holiday party was hosted by Dan Rosensweig.\\n- Dan Rosensweig was the CEO of CNET at the time.\\n- The holiday party took place in December 2007.', '\\n• Mark Zuckerberg and Sheryl Sandberg are both employed at Facebook \\n• Facebook is headquartered in Menlo Park, California \\n• Both Mark Zuckerberg and Sheryl Sandberg have had the opportunity to meet in person', '\\n- Mark Zuckerberg and Sheryl Sandberg are both in the tech industry\\n- Mark Zuckerberg is the founder and CEO of Facebook\\n- Sheryl Sandberg was considering a role in Facebook\\n- The meeting between them happened in the summer of 2007\\n- The role Sheryl Sandberg was considering was for the position of COO', '\\n• Mark Zuckerberg and Sheryl Sandberg are well known figures in the business world\\n• They met prior to Sheryl Sandberg joining Facebook in 2008\\n• They met at a social event\\n• The event was hosted by Jim Breyer in the Silicon Valley', '\\n• Zuckerberg and Sandberg both work for Facebook\\n• They first met at Facebook\\n• They first met in 2007\\n• Sandberg was being considered for a job at the company', '\\n• Zuckerberg is the founder and CEO of Facebook \\n• Sandberg is the COO of Facebook \\n• They first met at a meeting related to Facebook \\n• They first met when Sandberg was hired to take on the role of COO of Facebook', '• Mark Zuckerberg and Sheryl Sandberg have known each other since 2007.\\n• Sandberg was considering a job at Facebook in 2007.\\n• They must have had some kind of interaction to meet.', '\\n• Zuckerberg was already the founder and CEO of Facebook when Sandberg was hired in 2008\\n• Sandberg was hired to join Facebook in 2008\\n• Zuckerberg and Sandberg have not met before 2008', '\\n- Dan Rosensweig was the former CEO of Yahoo\\n- Mark Zuckerberg and Sheryl Sandberg attended a Christmas party hosted by Dan Rosensweig\\n- The party took place in 2007 \\n- Mark Zuckerberg and Sheryl Sandberg met for the first time at the party', '\\n• Facebook was founded in 2006.\\n• Sheryl Sandberg was being considered for a role at Facebook in 2006.\\n• Jim Breyer was an early investor in Facebook.\\n• Zuckerberg and Sandberg met for the first time in 2006.\\n• The meeting was hosted by Jim Breyer.\\n• The meeting was a dinner meeting.', '\\n• Terry Semel was the CEO of Yahoo in 2007\\n• Mark Zuckerberg and Sheryl Sandberg were both present at the holiday party\\n• The holiday party was hosted by Terry Semel in Palo Alto, California\\n• It was in 2007 when Mark Zuckerberg and Sheryl Sandberg first met', '\\n• Sheryl Sandberg and Mark Zuckerberg attended a Christmas party in December 2007.\\n• The party was hosted by Dan Rosensweig, the CEO of CNET.\\n• The two met at the party.', '\\n• Zuckerberg and Sandberg met in 2006 \\n• Zuckerberg was interviewing for a COO for Facebook \\n• Sandberg was the COO of Google at the time \\n• Sandberg was recommended to Zuckerberg by Reid Hoffman \\n• The meeting took place at a restaurant in Palo Alto, California', '\\n• Mark Zuckerberg and Sheryl Sandberg met in 2006\\n• Sandberg was interviewing for the position of Chief Operating Officer of Facebook\\n• Sandberg was hired shortly after the interview\\n• Sandberg is still employed by Facebook', '\\n- Mark Zuckerberg and Sheryl Sandberg first met in 2007\\n- Sandberg was being interviewed for a job at Facebook\\n- The book Lean In provided information about the meeting']}\n",
      "\n"
     ]
    },
    {
     "name": "stdout",
     "output_type": "stream",
     "text": [
      "\u001b[1mChain 2\u001b[0m:\n",
      "{'checked_assertions': ['\\nMark Zuckerberg and Sheryl Sandberg met in person at a holiday party hosted by Jim Breyer in 2007. True', '\\nAssertion: Mark Zuckerberg and Sheryl Sandberg first met at a Christmas party in 2007.\\n\\nAnswer: True', 'Assertion: Mark Zuckerberg and Sheryl Sandberg met in 2007 at a Christmas party hosted by a mutual friend.\\n\\nTrue. This is accurate information as Mark Zuckerberg and Sheryl Sandberg met in 2007 at a Christmas party hosted by a mutual friend.', '\\nThe assertion: Mark Zuckerberg and Sheryl Sandberg met each other at the Christmas party held at the home of Jim Breyer in December 2007.\\n\\nThis assertion is true. Mark Zuckerberg and Sheryl Sandberg both attended the same Christmas party held at the home of Jim Breyer in December 2007, and it was at the party that they first met.', 'Assertion: Mark Zuckerberg and Sheryl Sandberg met before 2006.\\nFalse - There is no evidence to suggest that Mark Zuckerberg and Sheryl Sandberg met before 2006. In fact, the New York Times article states that they did not meet until 2006 when Zuckerberg interviewed Sandberg for a position at Facebook.', 'Assertion: Zuckerberg and Sandberg met prior to 2007. \\nAnswer: False. Zuckerberg and Sandberg had not met prior to 2007.', '\\nAssertion: Zuckerberg and Sandberg had met prior to 2007.\\nAnswer: False. Zuckerberg and Sandberg had never met prior to 2007.', 'The assertion: Mark Zuckerberg and Sheryl Sandberg both met prior to working together at Facebook.\\n\\nFalse. Mark Zuckerberg and Sheryl Sandberg did not meet prior to working together at Facebook. They met for the first time after Sheryl Sandberg was hired as the COO of Facebook.', 'Assertion: Mark Zuckerberg and Sheryl Sandberg both work at Facebook.\\n\\nTrue. Mark Zuckerberg is the founder and CEO of Facebook, and Sheryl Sandberg is the Chief Operating Officer of Facebook.', '\\nAssertion: Zuckerberg and Sandberg first met at a business meeting or event related to Facebook.\\nTrue - This is correct, as Zuckerberg and Sandberg first met at a business meeting related to Facebook.', 'Assertion: Mark Zuckerberg and Sheryl Sandberg were both at a holiday party hosted by Dan Rosensweig.\\nTrue. Mark Zuckerberg and Sheryl Sandberg were both at a holiday party hosted by Dan Rosensweig in December 2007.', 'Assertion: Both Mark Zuckerberg and Sheryl Sandberg have had the opportunity to meet in person.\\nTrue. Mark Zuckerberg is the founder and CEO of Facebook and Sheryl Sandberg is the COO of Facebook, so it is likely that they have had multiple opportunities to meet in person.', '\\nAssertion: Mark Zuckerberg and Sheryl Sandberg met in the summer of 2007.\\n\\nTrue. Mark Zuckerberg and Sheryl Sandberg met in the summer of 2007 to discuss her potentially taking a role in Facebook, which ultimately resulted in her becoming the COO.', '\\nAssertion: Mark Zuckerberg and Sheryl Sandberg met prior to Sheryl Sandberg joining Facebook in 2008.\\n\\nTrue. They met at a social event hosted by Jim Breyer in the Silicon Valley prior to Sheryl Sandberg joining Facebook in 2008.', 'Assertion: Zuckerberg and Sandberg both work for Facebook. \\nTrue. Zuckerberg is the founder and CEO of Facebook, and Sandberg is the Chief Operating Officer.', 'The assertion that Zuckerberg and Sandberg first met at a meeting related to Facebook is true. They both were already working on Facebook when Sandberg was hired to take on the role of COO.', 'Assertion: Mark Zuckerberg and Sheryl Sandberg have known each other since 2007.\\n\\nTrue. Sandberg was considering a job at Facebook in 2007, which likely led to their first interaction.', '\\nAssertion: Zuckerberg and Sandberg met before 2008.\\nAnswer: False. Sandberg was not hired to join Facebook until 2008.', \"Assertion: Mark Zuckerberg and Sheryl Sandberg met for the first time at Dan Rosensweig's Christmas party in 2007.\\n\\nTrue. Mark Zuckerberg and Sheryl Sandberg attended Dan Rosensweig's Christmas party in 2007, and this is believed to be the first time they met.\", 'Assertion: Zuckerberg and Sandberg met for the first time in 2006. \\n\\nTrue. This is supported by the fact that Facebook was founded in 2006 and Sheryl Sandberg was being considered for a role at Facebook in 2006, which indicates that the two would have had to meet for the first time in 2006 in order for Sandberg to be considered for a role. Additionally, the meeting was hosted by Jim Breyer, an early investor in Facebook, further suggesting that the meeting took place in 2006.', '\\nAssertion: Terry Semel hosted the holiday party in 2007 when Mark Zuckerberg and Sheryl Sandberg first met.\\n\\nFalse. Mark Zuckerberg and Sheryl Sandberg first met in 2007 at the holiday party hosted by Terry Semel, but it was held in Palo Alto, California, not in 2007.', '\\nSheryl Sandberg and Mark Zuckerberg attended a Christmas party in December 2007 hosted by Dan Rosensweig, the CEO of CNET. TRUE', 'The assertion is: Zuckerberg and Sandberg met in 2006.\\n\\nThis is true.', 'Assertion: Mark Zuckerberg and Sheryl Sandberg met in 2006 and Sandberg is still employed by Facebook.\\n\\nTrue. Mark Zuckerberg and Sheryl Sandberg met in 2006, and Sandberg is still employed by Facebook.', \"Assertion: Mark Zuckerberg and Sheryl Sandberg first met in 2007.\\nTrue. This has been confirmed by various sources, including Sandberg's book Lean In.\"]}\n",
      "\n",
      "\u001b[1mChain 3\u001b[0m:\n",
      "{'revised_answer': [' Mark Zuckerberg and Sheryl Sandberg first met at a holiday party hosted by Jim Breyer in 2007.', ' At a Christmas party in 2007.', ' Mark Zuckerberg and Sheryl Sandberg first met at a Christmas party hosted by a mutual friend in 2007.', ' Mark Zuckerberg first met Sheryl Sandberg at the Christmas party held at the home of Jim Breyer in December 2007.', ' Mark Zuckerberg first met Sheryl Sandberg in 2006, when he interviewed her for a position at Facebook.', ' Mark Zuckerberg first met Sheryl Sandberg in 2007.', ' Mark Zuckerberg first met Sheryl Sandberg in 2007.', ' Mark Zuckerberg and Sheryl Sandberg first met at Facebook after Sheryl Sandberg was hired as the COO of the company.', ' Mark Zuckerberg and Sheryl Sandberg first met in 2007 at a holiday party for the venture capital firm Accel Partners, where Sandberg was a partner.', ' Mark Zuckerberg first met Sheryl Sandberg at a business meeting related to Facebook.', ' Mark Zuckerberg and Sheryl Sandberg first met at a holiday party hosted by Dan Rosensweig in December 2007.', ' It is not known exactly where Mark Zuckerberg and Sheryl Sandberg first met, but it is likely that they have had multiple opportunities to meet in person due to their roles at Facebook.', ' Mark Zuckerberg first met Sheryl Sandberg in the summer of 2007.', ' Mark Zuckerberg and Sheryl Sandberg first met at a social event hosted by Jim Breyer in the Silicon Valley prior to Sheryl Sandberg joining Facebook in 2008.', ' They first met at a holiday party in 2007 hosted by a mutual friend.', ' They first met at a meeting related to Facebook.', ' Mark Zuckerberg and Sheryl Sandberg first met in 2007.', ' They first met in 2008, when Sandberg was hired to join Facebook.', \" Mark Zuckerberg first met Sheryl Sandberg at Dan Rosensweig's Christmas party in 2007.\", ' Mark Zuckerberg first met Sheryl Sandberg in 2006.', ' Mark Zuckerberg and Sheryl Sandberg first met in 2007 at the holiday party hosted by Terry Semel in Palo Alto, California.', ' Mark Zuckerberg and Sheryl Sandberg first met at a Christmas party hosted by Dan Rosensweig in December 2007.', ' Mark Zuckerberg first met Sheryl Sandberg in 2006.', ' Mark Zuckerberg and Sheryl Sandberg first met in 2006.', ' Mark Zuckerberg and Sheryl Sandberg first met in 2007.']}\n",
      "\n",
      "\u001b[1mChain 4\u001b[0m:\n",
      "{'final_answer': [' Mark Zuckerberg and Sheryl Sandberg first met in 2007 at a holiday party hosted by a mutual friend.']}\n",
      "\n",
      "\n",
      "\u001b[1m> Finished SequentialChain chain.\u001b[0m\n",
      "CPU times: user 1.7 s, sys: 166 ms, total: 1.86 s\n",
      "Wall time: 11.1 s\n"
     ]
    },
    {
     "data": {
      "text/plain": [
       "[' Mark Zuckerberg and Sheryl Sandberg first met in 2007 at a holiday party hosted by a mutual friend.']"
      ]
     },
     "execution_count": 45,
     "metadata": {},
     "output_type": "execute_result"
    }
   ],
   "source": [
    "%%time\n",
    "self_ask_verification_chain.run(\"Where did Mark Zuckerberg first meet Sheryl Sandberg?\")"
   ]
  },
  {
   "cell_type": "code",
   "execution_count": 49,
   "metadata": {},
   "outputs": [
    {
     "name": "stdout",
     "output_type": "stream",
     "text": [
      "\n",
      "\n",
      "\u001b[1m> Entering new SequentialChain chain...\u001b[0m\n",
      "\u001b[1mChain 0\u001b[0m:\n",
      "{'statement': [\"\\n\\nFirst, you need to check the local laws in New York City to make sure that you can purchase beer at the time you are looking for. In New York City, the sale of beer is allowed until 4am.\\n\\nNext, you need to locate a store nearby. There are a few convenience stores and bodegas in the Flatiron area that are open late and sell beer. You can also visit a liquor store if you're looking for a wider selection. Some of the popular liquor stores in the area are Pogo's Wine and Liquors, Dave's Wine and Liquors, and Astor Wines.\", \"\\nFirst, you'll want to make sure you check the local laws. In New York City, beer can be sold until 4:00am in bars, restaurants, and convenience stores. \\nNext, you'll need to find a place that is open late. Some convenience stores in the Flatiron area that may be open late include 7-Eleven on Park Avenue South, Rite Aid on Broadway, and Duane Reade on Fifth Avenue. You could also try a local bar or restaurant that is open late. The Flatiron Room, Hillstone, and The Cottonwood are all popular watering holes in the area that may be open late. \\nFinally, make sure you bring a valid form of identification. You must be 21 years old or older to buy beer in New York City. \\nGood luck and stay safe!\", \" First, you'll need to check to see if the store is open. Many convenience stores in the Flatiron area stay open late, such as 7-11 and Deli Grocery, which are both located on 5th Avenue. If those are closed, you can check out the Flatiron Wine & Spirits, which is open until 1:00am on weekdays and 5:00am on the weekends.\", ' First, you\\'ll need to check the local laws to make sure that alcohol can be purchased in your area at the time you\\'re looking.  Depending on what time it is, you may be able to purchase beer from local convenience stores, grocery stores, or liquor stores. You can also check to see if there are any bars or restaurants in the area that serve beer late. In some areas, there are \"beer and wine\" stores that are open late and sell beer.', \"\\n\\nFirst, it's important to check if the store you're looking to buy beer from is open late. In the Flatiron area, there are several convenience stores that offer beer and typically stay open late. The closest stores include Duane Reade at 12 West 21st Street, Rite Aid at 9 East 17th Street, and CVS at 39 West 14th Street. \\n\\nNext, it's important to check if you meet the legal requirements for purchasing beer in New York City. You must be 21 years of age or older and have a valid government-issued photo ID. \\n\\nFinally, you should check if the store you're looking to buy beer from offers the type of beer you are interested in. Most convenience stores in the Flatiron area will have a selection of domestic, imported, and craft beers. \\n\\nOnce you have confirmed you meet the legal requirements and the store you're looking to buy beer from is open late, you can go ahead and purchase the beer.\", '\\n\\n1. Check local convenience stores - Many convenience stores in the Flatiron area stay open late and sell beer. You can check the hours of stores like CVS, 7-Eleven, and Duane Reade. \\n\\n2. Check local bars - A lot of bars in the Flatiron area stay open late and serve beer. You can check out places like The Flatiron Room, The Redhead, and The Churchill Tavern. \\n\\n3. Check local liquor stores - There are several liquor stores in the Flatiron area that stay open late and sell beer. You can check out places like Cellar 53 Wines & Spirits, Flatiron Wines & Spirits, and Empire Liquor Mart. \\n\\n4. Check online delivery services - If all else fails, you can always order beer online from delivery services like Drizly and Instacart.', \"\\n\\n1. First, you should find out what time the liquor stores close in the area. You can do this by searching for “Liquor stores in Flatiron NYC” and looking at the store hours for each location. \\n\\n2. Once you've determined which stores are open, you can check online delivery services such as Drizly, Instacart, or Amazon Prime to see if they offer same-day delivery to your area. \\n\\n3. If delivery isn't an option, you can call ahead to the liquor stores to make sure they are still open and have the beer you're looking for. \\n\\n4. If all else fails, you can always find a local bar or restaurant that may still be serving beer late at night.\", \"\\n\\nFirst, you need to check if the store you're looking for is still open. Most convenience stores, liquor stores, and supermarkets close at 11pm in New York City. Therefore, you will likely need to find a store that is open late. \\n\\nSecond, you need to find a store that is conveniently located in the Flatiron area. There are several 24-hour convenience stores in the Flatiron area that sell beer, including Duane Reade, 7-Eleven, and CVS. Additionally, there are several late-night liquor stores in the area, such as Bowery Wine & Spirits, Park Avenue Liquor, and 1st Avenue Liquor Store. \\n\\nFinally, make sure to check if the store you're going to is still open, as hours may vary depending on the store. You may also want to call ahead to make sure you can purchase beer at the store you choose.\", \"\\n\\nFirst, you'll need to make sure you're not breaking any laws. New York City does not have any laws that allow for the sale of beer after midnight. \\n\\nSecond, you'll need to find a store that sells beer late. There are several convenience stores, bodegas, and liquor stores in the Flatiron area that stay open late and sell beer, including but not limited to: Grand Central Market (24/7), Deli Plus Liquors (open until 2 am), and City Corner Deli (open until 1 am). \\n\\nThird, you'll need to double check that the store you're looking to purchase beer from has the type of beer you're looking for. Most stores in the Flatiron area will have a variety of domestic and imported beers, so you're likely to find something that you're looking for. \\n\\nFinally, you'll need to make sure that you are of legal drinking age before buying beer. In New York City, you must be 21 years or older to purchase alcohol. \\n\\nOnce you've checked off all of the steps, you're good to go!\", \"\\n\\nFirst, you'll need to make sure that you are of legal drinking age (21 or over) and have valid identification. \\n\\nNext, you'll need to check the local laws and regulations in NYC to see what hours are designated for beer sales. \\n\\nFinally, you can look for nearby stores that sell beer, such as convenience stores, liquor stores, or grocery stores. Most places will close around 10pm, so if it's after that time, you may have to look for a 24 hour store. There are several 24 hour liquor stores and convenience stores in the Flatiron area, such as Union Square Wine & Liquor and Super G Mart.\", \"\\n\\nFirst, you'll need to find out if there are any stores that sell beer late in the Flatiron area. Luckily, there are several places open late that you can purchase beer from in the Flatiron area. The most popular places are the 7-Eleven on 22nd Street and 5th Avenue, the Food Emporium on 23rd Street and 3rd Avenue, and the Harlem Market on 22nd Street and 3rd Avenue. All three stores close at 11pm and carry a variety of beer brands. \\n\\nIf none of these stores suit your needs, you may want to consider ordering delivery from a nearby bar or liquor store. Some popular choices are the Black Hound Bar on 20th Street and 5th Avenue, which delivers until 1am, and the Red Rock Liquor Store on 23rd Street and 6th Avenue, which delivers until 2am. \\n\\nFinally, if all else fails, you can always order beer online from a variety of delivery services, such as Drizly or Saucey. These services are available 24 hours a day, 7 days a week, and can deliver to your door within the hour.\", '\\n\\nStep 1: Check if there is a 24-hour store or convenience store near you. If so, you should be able to buy beer there. \\n\\nStep 2: If there are no 24-hour stores nearby, you can try searching online for liquor stores in the Flatiron area that may be open late. \\n\\nStep 3: If all else fails, you can try searching for bars or pubs in the area that may be open late and serve beer.', \"\\n\\nFirst, you'll need to determine what time it is. In New York, alcohol sales are restricted to certain hours, so you need to make sure it's within those hours. As of June 2019, alcohol sales hours are 8am-4am from Monday-Saturday, and 12pm-4am on Sunday. \\n\\nIf it's within legal alcohol sales hours, you'll be able to purchase beer from a variety of locations. You can purchase beer from grocery stores, convenience stores, liquor stores, and bars. In the Flatiron area of NYC, there are several places to buy beer late, including: \\n\\n-Sherry's Wine & Spirits (open till 4am on Friday & Saturday)\\n-D & D Deli Grocery (open till 4am on Friday & Saturday)\\n-Fairway Market (open till midnight)\\n-Whole Foods (open till 11pm)\\n-The Standard Biergarten (open till 4am on Friday & Saturday)\\n-The Keg Room (open till 4am on Friday & Saturday)\", ' First, you\\'ll need to find out if there is a liquor store nearby that\\'s open late.  Many liquor stores in New York City stay open late, so you should be able to find one. To locate the closest store, you can search \"late-night liquor store near Flatiron NYC\" on Google Maps. Once you find the store, you can check their website or call ahead to make sure they carry beer. You may also want to double-check the store\\'s hours of operation to make sure they\\'re open when you plan to go.', \"\\n\\nFirst, you'll want to check if your local convenience stores are open. Convenience stores typically stay open late, especially in NYC. Check to see if any nearby stores, such as 7-Eleven or Duane Reade, are open. \\n\\nIf not, your next best bet would be to look for a liquor store. There are several in the Flatiron area that stay open late, such as Empire Liquor, Park Avenue Liquors, and Broadway Liquors. \\n\\nFinally, if all else fails, you can always find a bar or restaurant that serves beer. There are plenty of them in the Flatiron area that stay open late, such as Flatiron Hall, The Breslin, and The Ginger Man.\", \"\\n\\nFirst, you'll need to check to see if any stores in the area are open late. You can do this by checking online or by calling the stores directly. \\n\\nIf there are stores open late, you can purchase beer at any of the local convenience stores, supermarkets, or liquor stores. If there are no stores open late, you can also purchase beer at some bars in the area that are open late.\", \"\\n\\nFirst, it's important to know what time it is. If it's after 11:00 PM, then you can only purchase beer at a liquor store. \\n\\nSecond, you'll need to find a liquor store near the flatiron area. One option is Bowery & Vine, which is located at 11 E 17th St. \\n\\nThird, you'll need to make sure the store is open. Most stores in NYC close at 11:00 PM, so you should double check the store hours before going. \\n\\nFinally, make sure you have valid identification with you when purchasing beer. You must be 21 or older to purchase alcohol in the state of New York. \\n\\nBy following these steps, you should be able to purchase beer if it's late in NYC and you're in the flatiron area.\", '\\n\\n1. Firstly, you need to check if it is legal to buy beer late at night in NYC. According to NYC.gov, alcohol can be sold in grocery stores, wine and liquor stores, and bars until 4am. \\n\\n2. Secondly, you need to check for the nearest store that sells beer late at night. There are several liquor stores near the Flatiron area that are open late, including Flatiron Wines & Spirits, Good Spirits Wine & Liquor, and P&L Liquors. \\n\\n3. Lastly, you need to make sure that the store you choose is open late. Most of the stores mentioned above are open until 2am, so you should be able to buy beer at any of these stores.', \"\\n\\nFirst, you need to find out if it's legal to purchase alcohol late at night in New York City. According to the New York State Liquor Authority, you can buy beer until 4am in most places. \\n\\nNow that we know it's legal, you need to find out where to buy it. In the Flatiron area, there are several liquor stores, convenience stores, and supermarkets that sell beer late at night. Some of the most popular options include the Westside Market, the Grand Central Market, and the Union Square Greenmarket. You can also try searching online for other stores in the area.\", \"\\n\\nFirst, you'll need to check the store hours in the area. Many convenience stores and liquor stores in NYC stay open late, often until 12am or 1am. Some stores may even stay open 24 hours. You can do a quick search online to find out which stores are open late near the Flatiron area. \\n\\nOnce you've identified which stores are open late, you can use Google Maps or a similar service to find the closest store to you that carries beer. \\n\\nFinally, most stores in NYC accept cash or credit cards, so you won't need to worry about not having the right payment method. \\n\\nWith that, you should be able to purchase beer late at night in the Flatiron area of NYC.\", '\\n\\n1. You\\'ll have to find a store that sells beer in the Flatiron area. You can try searching for \"beer store near Flatiron\" or \"liquor store near Flatiron\" on Google or Yelp. \\n\\n2. Make sure that the store is open late. You can check the store hours on their website or call them to confirm their hours. \\n\\n3. Once you\\'ve found a store that sells beer and is open late, you can go ahead and buy beer. Don\\'t forget to bring a valid ID to prove your age.', '\\n\\nFirst, you\\'ll need to identify what type of store sells beer late at night. In New York City, most convenience stores, liquor stores, and bodegas will be open late and sell beer. \\n\\nSecond, you\\'ll need to find the closest of these stores to your location in the Flatiron district. You can easily search online for \"late night beer near Flatiron\" and you should be able to find a list of stores in the area. \\n\\nFinally, you\\'ll need to check the store\\'s hours and make sure they\\'re open before you go. Most convenience and liquor stores in New York City will stay open late, but it\\'s always a good idea to double-check. \\n\\nWith a bit of research, you should be able to easily find a store that sells beer late at night near the Flatiron district in New York City.', \"\\n\\nFirst, you'll want to check to see if there are any liquor stores or convenience stores in the Flatiron area that are open late. Your best bet may be Duane Reade, which is open 24 hours a day in some locations. \\n\\nIf there are no late-night stores in the area, you can always order delivery from a beer store. There are several online stores that offer late-night delivery in the NYC area, such as Drizly and Minibar. \\n\\nFinally, if you're willing to go out, you can also check to see if there are any bars or restaurants in the Flatiron area that are open late and serve beer. Just remember to follow all applicable laws and guidelines regarding drinking responsibly.\", \"\\n\\nFirst, you need to make sure it's legal to buy beer at this time. According to the New York State Liquor Authority, alcoholic beverages can be sold from 8 a.m. to 4 a.m. on weekdays, and from noon to 4 a.m. on weekends. \\n\\nSecond, you need to find a store that is open and carries beer. Depending on the time of night, you might find convenience stores like 7-Eleven, bodegas, supermarkets, or even a nearby bar or restaurant that might stay open later. You can use online search tools like Google Maps or Yelp to find stores that are open late near your location in the Flatiron area. \\n\\nFinally, you need to make sure you have the proper ID to purchase beer. According to the New York State Liquor Authority, you must be 21 or older to buy or possess alcohol. You'll need to bring a valid government-issued ID to show that you are of legal age. \\n\\nWith these steps in mind, you should be able to find a place to buy beer late at night in the Flatiron area. Good luck!\", \"\\n\\nFirst, you'll need to make sure you are in an area that selling alcohol past the regular hours is legal. In New York City, it's legal to purchase alcohol until 4am in certain areas. You can check to make sure that the Flatiron area is one of those areas by checking the New York State Alcoholic Beverage Control website. \\n\\nOnce you've confirmed that the Flatiron area is one of the areas where alcohol can be purchased past regular hours, you can start looking for a store that sells beer. There are many convenience stores, delis, and bodegas that stay open late in the Flatiron area and will sell beer. You can also look online for late night beer delivery services in your area. \\n\\nWith a little bit of research, you should be able to find a store or service that will provide you with beer late in the Flatiron area of NYC.\"]}\n",
      "\n"
     ]
    },
    {
     "name": "stdout",
     "output_type": "stream",
     "text": [
      "\u001b[1mChain 1\u001b[0m:\n",
      "{'assertions': ['\\n• Assumed that the person looking to purchase beer is of legal drinking age.\\n• Assumed that the person is looking to purchase beer in the Flatiron area of New York City.\\n• Assumed that the person is looking to purchase beer late at night or in the early morning.\\n• Assumed that the local laws in New York City allow for the sale of beer until 4am.', '\\n-Local laws in New York City allow beer to be sold until 4:00am in bars, restaurants, and convenience stores \\n-Convenience stores in the Flatiron area may be open late\\n-Local bars and restaurants may be open late\\n-Valid form of identification is required to purchase beer in New York City \\n-Must be 21 years old or older to purchase beer', '\\n• Assumed the store was in the Flatiron area \\n• Assumed the store was a convenience store \\n• Assumed the store was open late \\n• Checked 7-11 and Deli Grocery \\n• Checked Flatiron Wine & Spirits as an alternative', '\\n• Alcohol can be legally purchased in the area\\n• Beer is available from convenience stores, grocery stores, liquor stores, bars, and restaurants\\n• Some areas may have “beer and wine” stores that are open late and sell beer', '\\n• Assumed that the person looking to buy beer is of legal age\\n• Assumed that the person looking to buy beer has a valid government-issued photo ID\\n• Assumed that the person is looking to buy beer in the Flatiron area \\n• Assumed that the convenience stores in the Flatiron area are open late \\n• Assumed that the convenience stores in the Flatiron area offer a selection of domestic, imported, and craft beers', '\\n• I assumed that the person asking the question is looking for places to buy beer late at night in the Flatiron area. \\n• I assumed that the person asking the question is of legal drinking age. \\n• I assumed that the person asking the question is looking for stores and bars that are open late and sell beer. \\n• I assumed that the person asking the question is looking for physical stores, rather than online delivery services.', '\\n• Assumed that you are looking for a liquor store in Flatiron NYC \\n• Assumed that same-day delivery services are available in the area \\n• Assumed that you are looking for beer \\n• Assumed that bars and restaurants are still serving beer late at night', '\\n• Most convenience stores, liquor stores, and supermarkets close at 11pm in New York City. \\n• 24-hour convenience stores in the Flatiron area sell beer. \\n• Late-night liquor stores in the Flatiron area sell beer. \\n• Hours may vary depending on the store. \\n• May need to call ahead to confirm that beer is available.', '\\n• Assumed that the person was in the Flatiron area \\n• Assumed that the person wanted to purchase beer \\n• Assumed that the person was of legal drinking age \\n• Assumed that there was a store near the Flatiron area that sold beer late \\n• Assumed that the store had the type of beer the person was looking for', '\\n- You are of legal drinking age (21 or over) and have valid identification\\n- Local laws and regulations in NYC designate hours for beer sales\\n- Convenience stores, liquor stores, and grocery stores are likely places to buy beer\\n- Most places close around 10pm\\n- There are 24 hour liquor stores and convenience stores in the Flatiron area', '\\n- 7-Eleven on 22nd Street and 5th Avenue, Food Emporium on 23rd Street and 3rd Avenue, and the Harlem Market on 22nd Street and 3rd Avenue all close at 11pm\\n- Black Hound Bar on 20th Street and 5th Avenue delivers until 1am\\n- Red Rock Liquor Store on 23rd Street and 6th Avenue delivers until 2am\\n- Delivery services such as Drizly and Saucey are available 24/7 and can deliver within the hour', '\\n• Assumed that the person looking for beer was in the Flatiron area \\n• Assumed that the person was of legal drinking age \\n• Assumed that the person was looking for a store to purchase beer and not a bar or pub to consume it \\n• Assumed that 24-hour stores and convenience stores sell beer', '\\n-Assumed the question is in reference to New York City\\n-Assumed the question is asking about the current legal alcohol sales hours (as of June 2019)\\n-Assumed the question is asking about where to buy beer late in the Flatiron area of NYC \\n-Assumed the question is not asking about specific brands of beer or types of establishments', \"\\n• Liquor stores in New York City are open late \\n• Google Maps can be used to locate the closest store \\n• The store's website or phone can be used to check if they carry beer \\n• Store hours should be double-checked to ensure they're open when you plan to go\", '\\n• Assumed that the person asking is in the Flatiron area of NYC \\n• Assumed that the person looking for beer is looking for a physical store and not, for example, a delivery service \\n• Assumed that the person asking is of legal drinking age \\n• Assumed that the person asking wants to buy beer from a store and not a bar/restaurant', '\\n• Assumed that the area has stores that stay open late \\n• Assumed that the person looking to purchase beer is of legal drinking age \\n• Assumed that beer is sold at convenience stores, supermarkets, liquor stores, and bars \\n• Assumed that some bars in the area are open late', '\\n• Assumed that the question was asking about purchasing beer in the Flatiron area in NYC\\n• Assumed that it was after 11:00 PM\\n• Assumed that the store closes at 11:00 PM\\n• Assumed that the purchaser needs to be 21 or older\\n• Assumed that Bowery & Vine is located in the Flatiron area in NYC', '\\n• Assumed that the individual is of legal age to purchase beer \\n• Assumed that the person was asking specifically about stores near the Flatiron area \\n• Assumed that the stores listed are open late (until 2am)', '\\n• Alcohol is legal to purchase late at night in New York City\\n• The Flatiron area has several liquor stores, convenience stores, and supermarkets that sell beer late at night\\n• Westside Market, Grand Central Market, and Union Square Greenmarket are popular options for purchasing beer late at night\\n• It is possible to search online for other stores in the area that sell beer late at night', '\\n• Store hours in Flatiron area are usually late (12am-1am, 24 hours) \\n• Beer is available at local convenience stores and liquor stores\\n• Payment is accepted in cash or credit cards', '• Assumed the person looking for beer is of legal drinking age \\n• Assumed the person looking for beer is in the Flatiron area \\n• Assumed the person looking for beer is looking for a store that is open late \\n• Assumed that the person looking for beer can use Google or Yelp to search for a store \\n• Assumed the store will require a valid ID to purchase the beer', '\\n• Assumed that beer is sold in convenience stores, liquor stores, and bodegas \\n• Assumed that stores that sell beer late at night exist near the Flatiron district \\n• Assumed that research online can locate a list of stores near the Flatiron district \\n• Assumed that stores will have hours posted online \\n• Assumed that convenience and liquor stores will stay open late in New York City', '\\n• Assumed that the reader is looking for late-night liquor/convenience stores in the Flatiron area. \\n• Assumed that Duane Reade is open 24 hours in some locations. \\n• Assumed that there are online stores offering late-night delivery in the NYC area. \\n• Assumed that the reader is willing to go out and visit bars/restaurants in the Flatiron area that are open late and serve beer. \\n• Assumed that the reader will follow all applicable laws and guidelines regarding drinking responsibly.', '\\n• Legal to buy beer in New York State from 8 a.m. to 4 a.m. on weekdays and from noon to 4 a.m. on weekends \\n• Searchable stores like 7-Eleven, bodegas, supermarkets, bars, and restaurants in the Flatiron area \\n• Must be 21 or older to buy or possess alcohol \\n• Need to bring a valid government-issued ID to prove age', '\\n• Assumed that the Flatiron area in NYC allows for the purchase of alcohol past regular hours \\n• Assumed that convenience stores, delis, bodegas, and delivery services will be available to purchase beer from late at night \\n• Assumed that research would need to be done to find a store or service that sells beer late at night in the Flatiron area']}\n",
      "\n"
     ]
    },
    {
     "name": "stdout",
     "output_type": "stream",
     "text": [
      "\u001b[1mChain 2\u001b[0m:\n",
      "{'checked_assertions': ['Assertion: The local laws in New York City allow for the sale of beer until 4am.\\n\\nFalse. The New York State Alcoholic Beverage Control Law prohibits the sale of alcoholic beverages between the hours of 4 a.m. and 8 a.m. in New York City.', 'The assertion that local laws in New York City allow beer to be sold until 4:00am in convenience stores is false. While beer can be sold until 4:00am in bars and restaurants, convenience stores are only allowed to sell beer until 2:00am in New York City.', '\\nAssertion: The store is open late.\\n\\nTrue. 7-11 and Deli Grocery are both open late in the Flatiron area. Flatiron Wine & Spirits is also open late, though it is not a convenience store.', 'The assertion is: Alcohol can be legally purchased in the area. \\nThis is true, as long as the individual purchasing the alcohol is of legal age and the vendor is licensed to sell alcohol.', 'Assertion: Convenience stores in the Flatiron area offer a selection of domestic, imported, and craft beers.\\n\\nTrue. Many convenience stores in the Flatiron area offer a selection of domestic, imported, and craft beers.', '\\nI assumed that the person asking the question is looking for stores and bars that are open late and sell beer - False. This assumption is false because it is possible that the person asking the question may be looking for online delivery services that offer late-night beer delivery in the Flatiron area.', 'Assertion: You can purchase beer late at night from a liquor store in Flatiron NYC and get same-day delivery.\\n\\nFalse. Although there may be liquor stores in Flatiron NYC that sell beer, same-day delivery services may not be available for late-night purchases. Furthermore, depending on the local regulations and laws, bars and restaurants may not be allowed to serve beer late at night.', 'The assertion that 24-hour convenience stores in the Flatiron area sell beer is true. This is because many convenience stores, liquor stores, and supermarkets in the area are open 24 hours a day and sell beer.', 'Assertion: There is a store near the Flatiron area that sells beer late and has the type of beer the person is looking for. \\n\\nFalse. This is false because while there may be a store near the Flatiron area that sells beer late, it is not guaranteed that the store will have the type of beer that the person is looking for.', 'The assertion: \"There are 24 hour liquor stores and convenience stores in the Flatiron area.\"\\n\\nFalse. While there are liquor stores and convenience stores in the Flatiron area, these establishments are not open 24 hours. Local laws and regulations in NYC designate hours for beer sales, and most places close around 10pm.', '\\nThe assertion is: 7-Eleven on 22nd Street and 5th Avenue, Food Emporium on 23rd Street and 3rd Avenue, and the Harlem Market on 22nd Street and 3rd Avenue all close at 11pm. \\n\\nThis is true.', 'Assertion: The person looking for beer is in the Flatiron area.\\nTrue. This assertion is true, as it was initially assumed.', 'The assertion: In the Flatiron area of New York City, beer can be purchased late into the night.\\n\\nTrue. In the Flatiron area of New York City, beer can be purchased until 4:00 am as the legal alcohol sales hours in New York City are until 4:00 am.', '\\nAssertion: Liquor stores in New York City are open 24 hours a day.\\n\\nFalse. Not all liquor stores in New York City are open 24 hours a day. Most liquor stores close between 9 PM and 1 AM, depending on the store.', 'Assertion: The person asking is looking for a store in the Flatiron area of NYC that sells beer.\\n\\nTrue.', 'Assertion: Beer can be purchased late at night in the area. \\n\\nTrue. Beer can be purchased late at night in the area since convenience stores, supermarkets, liquor stores, and bars are assumed to stay open late.', 'The assertion was: \"You can purchase beer at Bowery & Vine in the Flatiron area in NYC after 11:00 PM.\"\\n\\nThis assertion is false. Most stores in the Flatiron area in NYC close at 11:00 PM and therefore, it would not be possible to purchase beer at Bowery & Vine after 11:00 PM.', 'The assertion is: \"There are several stores near the Flatiron area that sell beer until 2am.\"\\n\\nThis assertion is true. There are several stores near the Flatiron area that sell beer until 2am, including Whole Foods, 7-Eleven, and Walgreens.', '\\nThe assertion is: Alcohol is legal to purchase late at night in New York City.\\n\\nThis is true. In New York City, alcohol may be purchased late at night in certain licensed establishments.', 'The assertion is that store hours in the Flatiron area are usually late (12am-1am, 24 hours). This is false because most stores in the Flatiron area have regular business hours, rather than staying open 24 hours a day.', \"Assumed the person looking for beer is of legal drinking age: True \\nAssumed the person looking for beer is in the Flatiron area: False - The person's location is not specified. \\nAssumed the person looking for beer is looking for a store that is open late: True \\nAssumed that the person looking for beer can use Google or Yelp to search for a store: True \\nAssumed the store will require a valid ID to purchase the beer: True\", '\\nAssertion: Stores that sell beer late at night exist near the Flatiron district.\\n\\nTrue. There are multiple convenience and liquor stores in the Flatiron district that stay open late and sell beer.', 'The assertion is: \"There are late-night liquor/convenience stores in the Flatiron area.\"\\n\\nThis statement is true. There are several convenience stores, such as Duane Reade, as well as online stores offering late-night delivery in the Flatiron area. Additionally, there are bars and restaurants in the area that are open late and serve beer.', '\\nThe assertion is: You must be 21 or older to buy or possess alcohol in New York State.\\n\\nThis is true. In New York State, it is illegal for anyone under the age of 21 to purchase or possess alcohol.', '\\nAssertion: It is possible to purchase beer late at night in the Flatiron area in NYC. \\n\\nTrue. In the Flatiron area in NYC, it is possible to purchase beer late at night from convenience stores, delis, bodegas, and delivery services.']}\n",
      "\n",
      "\u001b[1mChain 3\u001b[0m:\n",
      "{'revised_answer': [' You can buy beer in the Flatiron area of New York City until 4am, as long as the store is licensed to sell alcohol.', ' You can buy beer until 2:00am at any convenience store in the flatiron area. After 2:00am, you will need to find a bar or restaurant that is still open and has beer available for purchase.', \" You can purchase beer at Flatiron Wine & Spirits if it's late in NYC and you're in the Flatiron area.\", ' You can purchase beer in the Flatiron area of NYC if you are of legal drinking age. There are several convenience stores, grocery stores, and liquor stores in the area that are open late and offer beer for sale. You should check the store hours and be sure to bring valid identification to prove your age.', ' You can buy beer late at night in the Flatiron area at a convenience store. Many convenience stores offer a selection of domestic, imported, and craft beers.', '\\n\\nThere are several places in the Flatiron area of NYC that you can buy beer late at night. You can find convenience stores, liquor stores, and bars that are open late and sell beer. Additionally, you can use online delivery services such as Drizly or Minibar Delivery that offer late-night beer delivery in the Flatiron area.', '\\nIt depends on the local laws and regulations. Depending on when you need the beer, you may be able to find a nearby restaurant or bar that is still open and serving beer. Alternatively, you may be able to find a liquor store in the Flatiron area that is open late and sells beer. However, same-day delivery services may not be available for late-night purchases.', ' You can buy beer in the Flatiron area late at night by visiting a convenience store, liquor store, or supermarket that is open 24 hours a day.', '\\nIt depends on what type of beer you are looking for. You can try checking online to see if there are any stores near the Flatiron area that sell the type of beer you are looking for and are open late.', ' You can buy beer at a liquor store or convenience store in the Flatiron area, however these establishments typically close around 10pm.', '\\nYou can buy beer at 7-Eleven on 22nd Street and 5th Avenue, Food Emporium on 23rd Street and 3rd Avenue, or the Harlem Market on 22nd Street and 3rd Avenue, all of which close at 11pm.', ' You can buy beer late in NYC if you are in the Flatiron area at stores such as Whole Foods, Duane Reade, and other liquor stores. Some bars and restaurants may also be open late.', ' You can buy beer late in the NYC Flatiron area until 4:00 am.', '\\nYou can visit the Flatiron Wines and Spirits store at 929 Broadway, which is open until 1 AM. Other nearby liquor stores, such as Astor Wines & Spirits and Westside Wines & Spirits, are also open late.', ' You can find a store in the Flatiron area of NYC that sells beer late at night at places like Union Beer Store, The Pony Bar, and The Tap Room.', ' You can buy beer late at night in the Flatiron area by visiting a convenience store, supermarket, liquor store, or bar.', ' Unfortunately, you will not be able to purchase beer in the Flatiron area in NYC after 11:00 PM.', \" You can buy beer late at night in NYC if you're in the Flatiron area at stores such as Whole Foods, 7-Eleven, and Walgreens, which all sell beer until 2am.\", ' You can purchase beer late at night in NYC in certain licensed establishments such as liquor stores, bars, and restaurants. You may be able to find some of these establishments in the Flatiron area of NYC.', '\\nYou can buy beer from stores in the Flatiron area that have regular business hours. Some stores may stay open later or have special late night hours, so you can check with individual stores to see what their hours are. You can also try looking for convenience stores or liquor stores that are open late.', '\\nYou can use Google or Yelp to search for a store that is open late and sells beer in the Flatiron area of New York City. You will need to provide a valid ID in order to purchase the beer.', ' You can buy beer late at night in the Flatiron district of NYC at any of the convenience or liquor stores that stay open late.', ' You can buy beer in the Flatiron area if it is late at any of the convenience stores, such as Duane Reade, and online stores that offer late-night delivery. Additionally, there are bars and restaurants in the area that are open late and serve beer.', '\\nUnfortunately, you cannot buy beer late at night in the Flatiron area of NYC if you are under the age of 21, as it is illegal to purchase or possess alcohol in New York State unless you are 21 years of age or older.', ' You can purchase beer late at night in the Flatiron area in NYC from convenience stores, delis, bodegas, and delivery services.']}\n",
      "\n"
     ]
    },
    {
     "name": "stdout",
     "output_type": "stream",
     "text": [
      "\u001b[1mChain 4\u001b[0m:\n",
      "{'final_answer': ['\\nYou can purchase beer late at night in the Flatiron area in NYC from convenience stores, delis, bodegas, and delivery services. However, you must be of legal drinking age and provide valid identification to purchase the beer.']}\n",
      "\n",
      "\n",
      "\u001b[1m> Finished SequentialChain chain.\u001b[0m\n",
      "CPU times: user 1.66 s, sys: 227 ms, total: 1.89 s\n",
      "Wall time: 18.5 s\n"
     ]
    },
    {
     "data": {
      "text/plain": [
       "['\\nYou can purchase beer late at night in the Flatiron area in NYC from convenience stores, delis, bodegas, and delivery services. However, you must be of legal drinking age and provide valid identification to purchase the beer.']"
      ]
     },
     "execution_count": 49,
     "metadata": {},
     "output_type": "execute_result"
    }
   ],
   "source": [
    "%%time\n",
    "self_ask_verification_chain.run(\"Where can I buy beer if it's late in NYC and I'm in the flatiron area?\")"
   ]
  },
  {
   "cell_type": "code",
   "execution_count": null,
   "metadata": {},
   "outputs": [],
   "source": [
    "%%time\n",
    "self_ask_verification_chain.run(\"Where can I buy beer if it's late in NYC and I'm in the flatiron area?\")"
   ]
  },
  {
   "cell_type": "code",
   "execution_count": 47,
   "metadata": {},
   "outputs": [
    {
     "name": "stdout",
     "output_type": "stream",
     "text": [
      "CPU times: user 37.5 ms, sys: 4.74 ms, total: 42.2 ms\n",
      "Wall time: 8.12 s\n"
     ]
    }
   ],
   "source": [
    "%%time\n",
    "question = \"\"\"Question: Where can I buy beer if it's late in NYC and I'm in the flatiron area?\n",
    "\n",
    "Answer: Let's think step by step.\"\"\"\n",
    "results = llm(question, best_of=25, n = 5)"
   ]
  },
  {
   "cell_type": "code",
   "execution_count": 48,
   "metadata": {},
   "outputs": [
    {
     "name": "stdout",
     "output_type": "stream",
     "text": [
      "0\n"
     ]
    },
    {
     "data": {
      "text/plain": [
       "{'revised_answer': [' First, you\\'ll want to check if any local liquor stores are open late. You can search for \"late night liquor stores near Flatiron, NYC\" to find out. If you can\\'t find any, you can also check for any nearby bars or restaurants that serve beer. You can search for \"bars near Flatiron, NYC\" or \"restaurants near Flatiron, NYC\" to find out.',\n",
       "  \" \\n\\nFirst, you'll need to check if there are any convenience stores near you that sell beer. You can try searching on Google Maps or Yelp for nearby convenience stores. \\n\\nIf you can't find any convenience stores, then you can look for liquor stores that are open late. Again, you can search for these on Google Maps or Yelp. \\n\\nIf you can't find any liquor stores, then you can try searching for bars and pubs that are open late. These establishments typically serve beer, so you should be able to find one near the flatiron area.\",\n",
       "  \" First, New York State law requires that beer be purchased in a liquor store, so you'll need to find one that's open late. Second, you'll need to find one that's close to the Flatiron area. Fortunately, there are several liquor stores in the neighborhood that are open late. The closest one is New York Wine & Liquor, located at 28 West 23rd Street. It's open until midnight on weekdays and until 1am on weekends. Other options include Liquor & Wine Warehouse (6 West 23rd Street, open until 11:45pm) and Flatiron Wines & Spirits (9 West 19th Street, open until 11:45pm).\",\n",
       "  \" \\n\\nFirst, you need to find out if it's legal to buy beer late at night in NYC. The answer is yes; you can buy beer from liquor stores until midnight, and from convenience stores until 4 a.m. \\n\\nNext, you need to find the nearest liquor stores or convenience stores. You can use Google Maps or a local directory to locate the closest stores. \\n\\nFinally, you can head over to the store and purchase the beer. Make sure to bring valid identification with you, as you may be asked to prove that you are of legal age.\",\n",
       "  \" First, you'll need to determine if any stores in the Flatiron area are still open. You can do this by either calling the stores directly or checking their hours of operation online. Once you find a store that is open, you can check to see if they sell beer. Many convenience stores, grocery stores, and bodegas in the Flatiron area are open late and sell beer.\"],\n",
       " 'question': \"Question: Where can I buy beer if it's late in NYC and I'm in the flatiron area?\\n\\nAnswer: Let's think step by step.\",\n",
       " 'final_answer': [' You can buy beer in the Flatiron area late at night if you find a store that is open. Many convenience stores, grocery stores, and bodegas in the area are open late and sell beer. You can check their hours of operation online or call the stores directly to confirm that they are open and selling beer.']}"
      ]
     },
     "execution_count": 48,
     "metadata": {},
     "output_type": "execute_result"
    }
   ],
   "source": [
    "print(sum([int('echidna' in r.lower()) for r in results]))\n",
    "moe_answer_chain({'revised_answer': results, 'question': question})"
   ]
  },
  {
   "cell_type": "code",
   "execution_count": 10,
   "metadata": {},
   "outputs": [],
   "source": [
    "# %%time\n",
    "# self_ask_verification_chain.run(\"Where did Sheryl Sandberg meet Mark Zuckerberg?\")"
   ]
  }
 ],
 "metadata": {
  "kernelspec": {
   "display_name": "Python 3 (ipykernel)",
   "language": "python",
   "name": "python3"
  },
  "language_info": {
   "codemirror_mode": {
    "name": "ipython",
    "version": 3
   },
   "file_extension": ".py",
   "mimetype": "text/x-python",
   "name": "python",
   "nbconvert_exporter": "python",
   "pygments_lexer": "ipython3",
   "version": "3.10.3"
  },
  "vscode": {
   "interpreter": {
    "hash": "835c5a3474ba15827099fbeed14c7b6bc5170ce5ee26bc4cbb835d67e8a2e3b8"
   }
  }
 },
 "nbformat": 4,
 "nbformat_minor": 4
}
