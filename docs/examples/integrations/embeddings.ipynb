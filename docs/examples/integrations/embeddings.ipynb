{
 "cells": [
  {
   "cell_type": "markdown",
   "id": "7ef4d402-6662-4a26-b612-35b542066487",
   "metadata": {
    "pycharm": {
     "name": "#%% md\n"
    }
   },
   "source": [
    "#  Embeddings & VectorStores\n",
    "\n",
    "This notebook show cases how to use embeddings to create a VectorStore"
   ]
  },
  {
   "cell_type": "code",
   "execution_count": 1,
   "id": "965eecee",
   "metadata": {
    "pycharm": {
     "name": "#%%\n"
    }
   },
   "outputs": [],
   "source": [
    "from langchain.embeddings.openai import OpenAIEmbeddings\n",
    "from langchain.text_splitter import CharacterTextSplitter\n",
    "from langchain.vectorstores.elastic_vector_search import ElasticVectorSearch\n",
    "from langchain.vectorstores.faiss import FAISS"
   ]
  },
  {
   "cell_type": "code",
   "execution_count": 2,
   "id": "68481687",
   "metadata": {
    "pycharm": {
     "name": "#%%\n"
    }
   },
   "outputs": [],
   "source": [
    "with open('../state_of_the_union.txt') as f:\n",
    "    state_of_the_union = f.read()\n",
    "text_splitter = CharacterTextSplitter(chunk_size=1000, chunk_overlap=0)\n",
    "texts = text_splitter.split_text(state_of_the_union)\n",
    "\n",
    "embeddings = OpenAIEmbeddings()"
   ]
  },
  {
   "cell_type": "code",
   "execution_count": 3,
   "id": "015f4ff5",
   "metadata": {
    "pycharm": {
     "name": "#%%\n"
    }
   },
   "outputs": [],
   "source": [
    "docsearch = FAISS.from_texts(texts, embeddings)\n",
    "\n",
    "query = \"What did the president say about Ketanji Brown Jackson\"\n",
    "docs = docsearch.similarity_search(query)"
   ]
  },
  {
   "cell_type": "code",
   "execution_count": 4,
   "id": "72e346ea",
   "metadata": {},
   "outputs": [],
   "source": [
    "import numpy as np\n",
    "embedding = docsearch.embedding_function(query)\n",
    "embs, indices = docsearch.index.search(np.array([embedding], dtype=np.float32), 20)\n"
   ]
  },
  {
   "cell_type": "code",
   "execution_count": 30,
   "id": "0d1ff1c7",
   "metadata": {},
   "outputs": [
    {
     "data": {
      "text/plain": [
       "0.7665002653224218"
      ]
     },
     "execution_count": 30,
     "metadata": {},
     "output_type": "execute_result"
    }
   ],
   "source": [
    "cosine_similarity(embedding, embeddings[3])"
   ]
  },
  {
   "cell_type": "code",
   "execution_count": 51,
   "id": "550ecea6",
   "metadata": {},
   "outputs": [],
   "source": [
    "\n",
    "import numpy as np\n",
    "\n",
    "def cosine_similarity(a,b):\n",
    "    return np.dot(a, b)/(np.linalg.norm(a)*np.linalg.norm(b))\n",
    "\n",
    "def maximal_marginal_relevance(sentence_vector, embedding_list, lambda_constant=0.5, threshold_terms=4):\n",
    "    \"\"\"\"\"\"\n",
    "    # TODO: Use cosine similarity matrix for lookup among phrases instead of making call everytime.\n",
    "    idxs = []\n",
    "    while len(idxs) < threshold_terms:\n",
    "        best_score = -np.inf\n",
    "        idx_to_add = -1\n",
    "        for i, emb in enumerate(embedding_list):\n",
    "            if i in idxs:\n",
    "                continue\n",
    "            first_part = cosine_similarity(sentence_vector, emb)\n",
    "            second_part = 0\n",
    "            for j in idxs:\n",
    "                cos_sim = cosine_similarity(emb, embedding_list[j])\n",
    "                if cos_sim > second_part:\n",
    "                    second_part = cos_sim\n",
    "            equation_score = lambda_constant*(first_part)-(1-lambda_constant) * second_part\n",
    "            if equation_score > best_score:\n",
    "                best_score = equation_score\n",
    "                idx_to_add = i\n",
    "        idxs.append(idx_to_add)\n",
    "    return idxs"
   ]
  },
  {
   "cell_type": "code",
   "execution_count": 52,
   "id": "3d8afa46",
   "metadata": {},
   "outputs": [],
   "source": [
    "embeddings = [docsearch.index.reconstruct(int(i)) for i in indices[0]]"
   ]
  },
  {
   "cell_type": "code",
   "execution_count": 53,
   "id": "8908458e",
   "metadata": {},
   "outputs": [
    {
     "data": {
      "text/plain": [
       "[0, 2, 10, 3]"
      ]
     },
     "execution_count": 53,
     "metadata": {},
     "output_type": "execute_result"
    }
   ],
   "source": [
    "maximal_marginal_relevance(embedding, embeddings)"
   ]
  },
  {
   "cell_type": "code",
   "execution_count": 4,
   "id": "67baf32e",
   "metadata": {
    "pycharm": {
     "name": "#%%\n"
    }
   },
   "outputs": [
    {
     "name": "stdout",
     "output_type": "stream",
     "text": [
      "Tonight, I’d like to honor someone who has dedicated his life to serve this country: Justice Stephen Breyer—an Army veteran, Constitutional scholar, and retiring Justice of the United States Supreme Court. Justice Breyer, thank you for your service. \n",
      "\n",
      "One of the most serious constitutional responsibilities a President has is nominating someone to serve on the United States Supreme Court. \n",
      "\n",
      "And I did that 4 days ago, when I nominated Circuit Court of Appeals Judge Ketanji Brown Jackson. One of our nation’s top legal minds, who will continue Justice Breyer’s legacy of excellence. \n",
      "\n",
      "A former top litigator in private practice. A former federal public defender. And from a family of public school educators and police officers. A consensus builder. Since she’s been nominated, she’s received a broad range of support—from the Fraternal Order of Police to former judges appointed by Democrats and Republicans. \n",
      "\n",
      "And if we are to advance liberty and justice, we need to secure the Border and fix the immigration system. \n"
     ]
    }
   ],
   "source": [
    "print(docs[0].page_content)"
   ]
  },
  {
   "cell_type": "markdown",
   "id": "eea6e627",
   "metadata": {},
   "source": [
    "## Requires having ElasticSearch setup"
   ]
  },
  {
   "cell_type": "code",
   "execution_count": 6,
   "id": "4906b8a3",
   "metadata": {
    "pycharm": {
     "name": "#%%\n"
    }
   },
   "outputs": [],
   "source": [
    "docsearch = ElasticVectorSearch.from_texts(texts, embeddings, elasticsearch_url=\"http://localhost:9200\")\n",
    "\n",
    "query = \"What did the president say about Ketanji Brown Jackson\"\n",
    "docs = docsearch.similarity_search(query)"
   ]
  },
  {
   "cell_type": "code",
   "execution_count": 7,
   "id": "95f9eee9",
   "metadata": {
    "pycharm": {
     "name": "#%%\n"
    }
   },
   "outputs": [
    {
     "name": "stdout",
     "output_type": "stream",
     "text": [
      "Tonight, I’d like to honor someone who has dedicated his life to serve this country: Justice Stephen Breyer—an Army veteran, Constitutional scholar, and retiring Justice of the United States Supreme Court. Justice Breyer, thank you for your service. \n",
      "\n",
      "One of the most serious constitutional responsibilities a President has is nominating someone to serve on the United States Supreme Court. \n",
      "\n",
      "And I did that 4 days ago, when I nominated Circuit Court of Appeals Judge Ketanji Brown Jackson. One of our nation’s top legal minds, who will continue Justice Breyer’s legacy of excellence. \n",
      "\n",
      "A former top litigator in private practice. A former federal public defender. And from a family of public school educators and police officers. A consensus builder. Since she’s been nominated, she’s received a broad range of support—from the Fraternal Order of Police to former judges appointed by Democrats and Republicans. \n",
      "\n",
      "And if we are to advance liberty and justice, we need to secure the Border and fix the immigration system. \n"
     ]
    }
   ],
   "source": [
    "print(docs[0].page_content)"
   ]
  }
 ],
 "metadata": {
  "kernelspec": {
   "display_name": "Python 3 (ipykernel)",
   "language": "python",
   "name": "python3"
  },
  "language_info": {
   "codemirror_mode": {
    "name": "ipython",
    "version": 3
   },
   "file_extension": ".py",
   "mimetype": "text/x-python",
   "name": "python",
   "nbconvert_exporter": "python",
   "pygments_lexer": "ipython3",
   "version": "3.10.8"
  }
 },
 "nbformat": 4,
 "nbformat_minor": 5
}
