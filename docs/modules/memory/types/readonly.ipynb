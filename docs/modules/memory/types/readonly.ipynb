{
 "cells": [
  {
   "cell_type": "markdown",
   "id": "889589b3-bab2-488e-8bb0-ccfe72f87ace",
   "metadata": {},
   "source": [
    "## ReadOnlySharedMemory\n",
    "\n",
    "`ReadOnlySharedMemory` prevents the wrapped memory class from being modified. More technically, it nullifies the `save_context` method."
   ]
  },
  {
   "cell_type": "code",
   "execution_count": 1,
   "id": "89bc6789-0d6d-499b-83c6-9fa4e2606bf0",
   "metadata": {},
   "outputs": [],
   "source": [
    "from langchain.memory import ConversationBufferMemory, ChatMessageHistory, ReadOnlySharedMemory\n",
    "from langchain.memory import ChatMessageHistory\n",
    "from langchain.chains import LLMChain\n",
    "from langchain.chat_models import ChatOpenAI"
   ]
  },
  {
   "cell_type": "code",
   "execution_count": 3,
   "id": "7fd24b48-0f4b-4f0f-b99e-3176abaaeb3e",
   "metadata": {
    "tags": []
   },
   "outputs": [],
   "source": [
    "# Lets assume that ChatMessageHistory is storing some simple messages\n",
    "\n",
    "chat_memory = ChatMessageHistory()\n",
    "chat_memory.add_user_message(\"Hello!\")\n",
    "chat_memory.add_ai_message(\"Hey there, how may I assist you today?\")"
   ]
  },
  {
   "cell_type": "code",
   "execution_count": 15,
   "id": "57eff10e-7ae7-4621-89f8-22d87d92296d",
   "metadata": {
    "tags": []
   },
   "outputs": [],
   "source": [
    "# Defining only read only memory\n",
    "\n",
    "llm_memory = ConversationBufferMemory(chat_memory=chat_memory, return_messages=True)\n",
    "read_only_memory = ReadOnlySharedMemory(memory=llm_memory)"
   ]
  },
  {
   "cell_type": "code",
   "execution_count": 16,
   "id": "1f250689-2f6b-4688-a921-57da2f9c1868",
   "metadata": {
    "tags": []
   },
   "outputs": [],
   "source": [
    "# Defining prompt\n",
    "\n",
    "from langchain.prompts import MessagesPlaceholder, ChatPromptTemplate, HumanMessagePromptTemplate\n",
    "\n",
    "chat_prompt = ChatPromptTemplate.from_messages(\n",
    "    [MessagesPlaceholder(variable_name=\"history\"), \n",
    "     HumanMessagePromptTemplate.from_template(\"{human_input}\")]\n",
    ")"
   ]
  },
  {
   "cell_type": "markdown",
   "id": "8691cead-a05b-4495-917d-515d2dca89a7",
   "metadata": {
    "tags": []
   },
   "source": [
    "Notice that you can no longer add and save new message to the `llm_memory`."
   ]
  },
  {
   "cell_type": "code",
   "execution_count": 17,
   "id": "02af373d-cc46-4301-af75-e709c9121bff",
   "metadata": {
    "tags": []
   },
   "outputs": [],
   "source": [
    "# Defining LLMChain\n",
    "\n",
    "chat_model = ChatOpenAI(temperature=0)\n",
    "conversation = LLMChain(\n",
    "    prompt=chat_prompt,\n",
    "    llm=chat_model, \n",
    "    verbose=True, \n",
    "    memory=read_only_memory\n",
    ")"
   ]
  },
  {
   "cell_type": "code",
   "execution_count": 18,
   "id": "4840b103-d305-461a-81fb-19a9737031e1",
   "metadata": {
    "tags": []
   },
   "outputs": [
    {
     "name": "stdout",
     "output_type": "stream",
     "text": [
      "\n",
      "\n",
      "\u001b[1m> Entering new LLMChain chain...\u001b[0m\n",
      "Prompt after formatting:\n",
      "\u001b[32;1m\u001b[1;3mHuman: Hello!\n",
      "AI: Hey there, how may I assist you today?\n",
      "Human: Answer briefly. What are the first 3 colors of a rainbow?\u001b[0m\n",
      "\n",
      "\u001b[1m> Finished chain.\u001b[0m\n"
     ]
    },
    {
     "data": {
      "text/plain": [
       "'The first three colors of a rainbow are red, orange, and yellow.'"
      ]
     },
     "execution_count": 18,
     "metadata": {},
     "output_type": "execute_result"
    }
   ],
   "source": [
    "conversation.run(\"Answer briefly. What are the first 3 colors of a rainbow?\")"
   ]
  },
  {
   "cell_type": "code",
   "execution_count": 19,
   "id": "0de8a218-1308-4959-acef-2d3e58a753da",
   "metadata": {
    "tags": []
   },
   "outputs": [
    {
     "name": "stdout",
     "output_type": "stream",
     "text": [
      "\n",
      "\n",
      "\u001b[1m> Entering new LLMChain chain...\u001b[0m\n",
      "Prompt after formatting:\n",
      "\u001b[32;1m\u001b[1;3mHuman: Hello!\n",
      "AI: Hey there, how may I assist you today?\n",
      "Human: And the next 4?\u001b[0m\n",
      "\n",
      "\u001b[1m> Finished chain.\u001b[0m\n"
     ]
    },
    {
     "data": {
      "text/plain": [
       "\"I'm sorry, I'm not sure what you're referring to. Could you please provide more context or information?\""
      ]
     },
     "execution_count": 19,
     "metadata": {},
     "output_type": "execute_result"
    }
   ],
   "source": [
    "# LLMChain does not remember previous conversation.\n",
    "\n",
    "conversation.run(\"And the next 4?\")"
   ]
  }
 ],
 "metadata": {
  "kernelspec": {
   "display_name": "Python 3 (ipykernel)",
   "language": "python",
   "name": "python3"
  },
  "language_info": {
   "codemirror_mode": {
    "name": "ipython",
    "version": 3
   },
   "file_extension": ".py",
   "mimetype": "text/x-python",
   "name": "python",
   "nbconvert_exporter": "python",
   "pygments_lexer": "ipython3",
   "version": "3.10.10"
  }
 },
 "nbformat": 4,
 "nbformat_minor": 5
}
