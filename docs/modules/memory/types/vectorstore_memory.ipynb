{
 "cells": [
  {
   "cell_type": "markdown",
   "id": "ff4be5f3",
   "metadata": {},
   "source": [
    "# VectorStore Memory\n",
    "\n",
    "`VectorStoreMemory` stores interactions in a VectorDB and queries the top-K most \"salient\" interactions every type it is called.\n",
    "\n",
    "This differs from most of the other Memory classes in that "
   ]
  },
  {
   "cell_type": "code",
   "execution_count": 1,
   "id": "da3384db",
   "metadata": {
    "tags": []
   },
   "outputs": [],
   "source": [
    "from langchain.embeddings.openai import OpenAIEmbeddings\n",
    "from langchain.llms import OpenAI\n",
    "from langchain.memory import VectorStoreMemory"
   ]
  },
  {
   "cell_type": "markdown",
   "id": "c2e7abdf",
   "metadata": {},
   "source": [
    "### Initialize your VectorStore\n",
    "\n",
    "Depending on the store you choose, this step may look different. Consult the relevant VectorStore documentation for more details."
   ]
  },
  {
   "cell_type": "code",
   "execution_count": 2,
   "id": "eef56f65",
   "metadata": {
    "tags": []
   },
   "outputs": [],
   "source": [
    "import faiss\n",
    "\n",
    "from langchain.docstore import InMemoryDocstore\n",
    "from langchain.vectorstores import FAISS\n",
    "\n",
    "\n",
    "embedding_size = 1536 # Dimensions of the OpenAIEmbeddings\n",
    "index = faiss.IndexFlatL2(embedding_size)\n",
    "embedding_fn = OpenAIEmbeddings().embed_query\n",
    "vectorstore = FAISS(embedding_fn, index, InMemoryDocstore({}), {})"
   ]
  },
  {
   "cell_type": "markdown",
   "id": "8f4bdf92",
   "metadata": {},
   "source": [
    "### Create your the VectorStoreMemory"
   ]
  },
  {
   "cell_type": "code",
   "execution_count": 3,
   "id": "e00d4938",
   "metadata": {
    "tags": []
   },
   "outputs": [],
   "source": [
    "memory = VectorStoreMemory(\n",
    "    vectorstore=vectorstore,\n",
    "    return_docs=False, # Makes load_memory_variables() return Dict[str, str] instead of Dict[str, List[Document]]\n",
    "    )\n",
    "\n",
    "# Examples of how\n",
    "memory.save_context({\"input\": \"hi\"}, {\"output\": \"whats up\"})\n",
    "memory.save_context({\"input\": \"Heard of France?\"}, {\"output\": \"Undoubtedly\"})\n",
    "memory.save_context({\"input\": \"How about Australia?\"}, {\"output\": \"Most certainly\"})\n",
    "memory.save_context({\"input\": \"What about Montreal?\"}, {\"output\": \"Of course.\"})"
   ]
  },
  {
   "cell_type": "code",
   "execution_count": 4,
   "id": "2fe28a28",
   "metadata": {
    "tags": []
   },
   "outputs": [
    {
     "name": "stdout",
     "output_type": "stream",
     "text": [
      "input: Heard of France?\n",
      "output: Undoubtedly\n",
      "input: What about Montreal?\n",
      "output: Of course.\n",
      "input: How about Australia?\n",
      "output: Most certainly\n",
      "input: hi\n",
      "output: whats up\n"
     ]
    }
   ],
   "source": [
    "# Notice the first result discusses France, which the language model deems more semantically relevant\n",
    "# than the other locations\n",
    "print(memory.load_memory_variables({\"prompt\": \"Emmanuel Macron\"})[\"history\"])"
   ]
  },
  {
   "cell_type": "markdown",
   "id": "a6d2569f",
   "metadata": {},
   "source": [
    "## Using in a chain\n",
    "Let's walk through an example, again setting `verbose=True` so we can see the prompt."
   ]
  },
  {
   "cell_type": "code",
   "execution_count": 5,
   "id": "ebd68c10",
   "metadata": {
    "tags": []
   },
   "outputs": [
    {
     "name": "stdout",
     "output_type": "stream",
     "text": [
      "\n",
      "\n",
      "\u001b[1m> Entering new ConversationChain chain...\u001b[0m\n",
      "Prompt after formatting:\n",
      "\u001b[32;1m\u001b[1;3mThe following is a friendly conversation between a human and an AI. The AI is talkative and provides lots of specific details from its context. If the AI does not know the answer to a question, it truthfully says it does not know.\n",
      "\n",
      "Current conversation:\n",
      "input: hi\n",
      "output: whats up\n",
      "input: What about Montreal?\n",
      "output: Of course.\n",
      "input: How about Australia?\n",
      "output: Most certainly\n",
      "input: Heard of France?\n",
      "output: Undoubtedly\n",
      "Human: Hi, what's up?\n",
      "AI:\u001b[0m\n",
      "\n",
      "\u001b[1m> Finished chain.\u001b[0m\n"
     ]
    },
    {
     "data": {
      "text/plain": [
       "\" Hi there! I'm doing great. How can I help you?\""
      ]
     },
     "execution_count": 5,
     "metadata": {},
     "output_type": "execute_result"
    }
   ],
   "source": [
    "from langchain.chains import ConversationChain\n",
    "from langchain.llms import OpenAI\n",
    "llm = OpenAI() # Can be any valid LLM\n",
    "conversation_with_summary = ConversationChain(\n",
    "    llm=llm, \n",
    "    # We set a very low max_token_limit for the purposes of testing.\n",
    "    memory=memory,\n",
    "    verbose=True\n",
    ")\n",
    "conversation_with_summary.predict(input=\"Hi, what's up?\")"
   ]
  },
  {
   "cell_type": "code",
   "execution_count": 6,
   "id": "86207a61",
   "metadata": {
    "tags": []
   },
   "outputs": [
    {
     "name": "stdout",
     "output_type": "stream",
     "text": [
      "\n",
      "\n",
      "\u001b[1m> Entering new ConversationChain chain...\u001b[0m\n",
      "Prompt after formatting:\n",
      "\u001b[32;1m\u001b[1;3mThe following is a friendly conversation between a human and an AI. The AI is talkative and provides lots of specific details from its context. If the AI does not know the answer to a question, it truthfully says it does not know.\n",
      "\n",
      "Current conversation:\n",
      "input: How about Australia?\n",
      "output: Most certainly\n",
      "input: Heard of France?\n",
      "output: Undoubtedly\n",
      "input: hi\n",
      "output: whats up\n",
      "input: Hi, what's up?\n",
      "response:  Hi there! I'm doing great. How can I help you?\n",
      "Human: What do you know about Uluru?\n",
      "AI:\u001b[0m\n",
      "\n",
      "\u001b[1m> Finished chain.\u001b[0m\n"
     ]
    },
    {
     "data": {
      "text/plain": [
       "\" Uluru is a large sandstone monolith in Australia's Northern Territory. It is also known by its English name Ayers Rock. It is considered to be sacred to the Aboriginal people and is a popular tourist destination.\""
      ]
     },
     "execution_count": 6,
     "metadata": {},
     "output_type": "execute_result"
    }
   ],
   "source": [
    "conversation_with_summary.predict(input=\"What do you know about Uluru?\")"
   ]
  },
  {
   "cell_type": "code",
   "execution_count": 7,
   "id": "76a0ab39",
   "metadata": {
    "tags": []
   },
   "outputs": [
    {
     "name": "stdout",
     "output_type": "stream",
     "text": [
      "\n",
      "\n",
      "\u001b[1m> Entering new ConversationChain chain...\u001b[0m\n",
      "Prompt after formatting:\n",
      "\u001b[32;1m\u001b[1;3mThe following is a friendly conversation between a human and an AI. The AI is talkative and provides lots of specific details from its context. If the AI does not know the answer to a question, it truthfully says it does not know.\n",
      "\n",
      "Current conversation:\n",
      "input: Heard of France?\n",
      "output: Undoubtedly\n",
      "input: What about Montreal?\n",
      "output: Of course.\n",
      "input: What do you know about Uluru?\n",
      "response:  Uluru is a large sandstone monolith in Australia's Northern Territory. It is also known by its English name Ayers Rock. It is considered to be sacred to the Aboriginal people and is a popular tourist destination.\n",
      "input: How about Australia?\n",
      "output: Most certainly\n",
      "Human: Tell me more about UNESCO!\n",
      "AI:\u001b[0m\n",
      "\n",
      "\u001b[1m> Finished chain.\u001b[0m\n"
     ]
    },
    {
     "data": {
      "text/plain": [
       "' UNESCO is the United Nations Educational, Scientific, and Cultural Organization. It was founded in 1945 and works to promote international cooperation in the fields of education, science, and culture. UNESCO works to advance global understanding and respect for diversity, cultural heritage, and human rights.'"
      ]
     },
     "execution_count": 7,
     "metadata": {},
     "output_type": "execute_result"
    }
   ],
   "source": [
    "conversation_with_summary.predict(input=\"Tell me more about UNESCO!\")"
   ]
  },
  {
   "cell_type": "code",
   "execution_count": 8,
   "id": "8c669db1",
   "metadata": {
    "tags": []
   },
   "outputs": [
    {
     "name": "stdout",
     "output_type": "stream",
     "text": [
      "\n",
      "\n",
      "\u001b[1m> Entering new ConversationChain chain...\u001b[0m\n",
      "Prompt after formatting:\n",
      "\u001b[32;1m\u001b[1;3mThe following is a friendly conversation between a human and an AI. The AI is talkative and provides lots of specific details from its context. If the AI does not know the answer to a question, it truthfully says it does not know.\n",
      "\n",
      "Current conversation:\n",
      "input: Tell me more about UNESCO!\n",
      "response:  UNESCO is the United Nations Educational, Scientific, and Cultural Organization. It was founded in 1945 and works to promote international cooperation in the fields of education, science, and culture. UNESCO works to advance global understanding and respect for diversity, cultural heritage, and human rights.\n",
      "input: What about Montreal?\n",
      "output: Of course.\n",
      "input: Heard of France?\n",
      "output: Undoubtedly\n",
      "input: How about Australia?\n",
      "output: Most certainly\n",
      "Human: Are there UNESCO sites in Canada?\n",
      "AI:\u001b[0m\n",
      "\n",
      "\u001b[1m> Finished chain.\u001b[0m\n"
     ]
    },
    {
     "data": {
      "text/plain": [
       "' Yes, there are 18 UNESCO World Heritage Sites in Canada. They include the Canadian Rocky Mountain Parks, the Historic District of Old Québec, the Nahanni National Park Reserve, the Rideau Canal, and the L’Anse aux Meadows National Historic Site.'"
      ]
     },
     "execution_count": 8,
     "metadata": {},
     "output_type": "execute_result"
    }
   ],
   "source": [
    "# We can see here that the buffer is updated\n",
    "conversation_with_summary.predict(input=\"Are there UNESCO sites in Canada?\")"
   ]
  },
  {
   "cell_type": "code",
   "execution_count": null,
   "id": "8c09a239",
   "metadata": {},
   "outputs": [],
   "source": []
  }
 ],
 "metadata": {
  "kernelspec": {
   "display_name": "Python 3 (ipykernel)",
   "language": "python",
   "name": "python3"
  },
  "language_info": {
   "codemirror_mode": {
    "name": "ipython",
    "version": 3
   },
   "file_extension": ".py",
   "mimetype": "text/x-python",
   "name": "python",
   "nbconvert_exporter": "python",
   "pygments_lexer": "ipython3",
   "version": "3.11.2"
  }
 },
 "nbformat": 4,
 "nbformat_minor": 5
}
