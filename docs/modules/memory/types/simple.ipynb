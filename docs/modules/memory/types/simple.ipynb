{
 "cells": [
  {
   "cell_type": "markdown",
   "id": "414229a2-ed4a-47ad-977e-3a66e9ee61b6",
   "metadata": {},
   "source": [
    "## SimpleMemory\n",
    "\n",
    "`SimpleMemory` is useful for storing context or other bits of information that shouldn't ever change between prompts. Essentially, it is acting like a read-only Python dictionary."
   ]
  },
  {
   "cell_type": "code",
   "execution_count": 1,
   "id": "a40673fe-b14b-445f-9e17-ee729094de50",
   "metadata": {},
   "outputs": [],
   "source": [
    "from langchain.memory import SimpleMemory\n",
    "from langchain.chains import LLMChain\n",
    "from langchain.prompts import PromptTemplate\n",
    "from langchain.chat_models import ChatOpenAI"
   ]
  },
  {
   "cell_type": "code",
   "execution_count": 3,
   "id": "b03f5b5c-46b9-4f2d-b822-b0f259549ac5",
   "metadata": {
    "tags": []
   },
   "outputs": [],
   "source": [
    "# Defining SimpleMemory\n",
    "\n",
    "data_dict = {\n",
    "    \"context\": \"LangChain is a Python library for developing applications powered by language models.\",\n",
    "    \"chatbot_name\": \"Aura\"\n",
    "}\n",
    "simple_memory = SimpleMemory(memories=data_dict)"
   ]
  },
  {
   "cell_type": "code",
   "execution_count": 4,
   "id": "d9d3cb83-31c0-4634-8767-7444aa60631b",
   "metadata": {
    "tags": []
   },
   "outputs": [
    {
     "data": {
      "text/plain": [
       "{'context': 'LangChain is a Python library for developing applications powered by language models.',\n",
       " 'chatbot_name': 'Aura'}"
      ]
     },
     "execution_count": 4,
     "metadata": {},
     "output_type": "execute_result"
    }
   ],
   "source": [
    "# Accessing underlying dictionary\n",
    "\n",
    "simple_memory.load_memory_variables({})"
   ]
  },
  {
   "cell_type": "code",
   "execution_count": 5,
   "id": "7e7e1a07-2f30-4ced-bcbd-c08a929649f7",
   "metadata": {
    "tags": []
   },
   "outputs": [
    {
     "data": {
      "text/plain": [
       "{'context': 'LangChain is a Python library for developing applications powered by language models.',\n",
       " 'chatbot_name': 'Aura'}"
      ]
     },
     "execution_count": 5,
     "metadata": {},
     "output_type": "execute_result"
    }
   ],
   "source": [
    "# `save_context` method will do nothing.\n",
    "\n",
    "simple_memory.save_context({\"this\": \"is read-only\"}, {\"you\": \"cannot add new data\"})\n",
    "simple_memory.load_memory_variables({})"
   ]
  },
  {
   "cell_type": "code",
   "execution_count": 6,
   "id": "0184eb92-6450-4410-a704-b206ea01250f",
   "metadata": {
    "tags": []
   },
   "outputs": [],
   "source": [
    "# Defining prompt\n",
    "\n",
    "prompt=\"\"\"You are a chatbot named {chatbot_name} having a conversation with a human.\n",
    "\n",
    "Given below is the information given to you, create a final answer.\n",
    "'''\n",
    "{context}\n",
    "'''\n",
    "\n",
    "Human: {human_input}\n",
    "Chatbot:\"\"\"\n",
    "prompt_template = PromptTemplate.from_template(prompt)"
   ]
  },
  {
   "cell_type": "code",
   "execution_count": 7,
   "id": "2eb7ab16-f5b3-44d5-a2a1-cb4c2a5e3304",
   "metadata": {
    "tags": []
   },
   "outputs": [],
   "source": [
    "# Defining LLMChain\n",
    "\n",
    "chat_model = ChatOpenAI(temperature=0)\n",
    "conversation = LLMChain(\n",
    "    prompt=prompt_template,\n",
    "    llm=chat_model, \n",
    "    verbose=True, \n",
    "    memory=simple_memory\n",
    ")"
   ]
  },
  {
   "cell_type": "code",
   "execution_count": 8,
   "id": "74001962-6cc6-48a7-b2e7-db6948ce728c",
   "metadata": {
    "tags": []
   },
   "outputs": [
    {
     "name": "stdout",
     "output_type": "stream",
     "text": [
      "\n",
      "\n",
      "\u001b[1m> Entering new LLMChain chain...\u001b[0m\n",
      "Prompt after formatting:\n",
      "\u001b[32;1m\u001b[1;3mYou are a chatbot named Aura having a conversation with a human.\n",
      "\n",
      "Given below is the information given to you, create a final answer.\n",
      "'''\n",
      "LangChain is a Python library for developing applications powered by language models.\n",
      "'''\n",
      "\n",
      "Human: What is LangChain?\n",
      "Chatbot:\u001b[0m\n",
      "\n",
      "\u001b[1m> Finished chain.\u001b[0m\n"
     ]
    },
    {
     "data": {
      "text/plain": [
       "'LangChain is a Python library that enables the development of applications powered by language models.'"
      ]
     },
     "execution_count": 8,
     "metadata": {},
     "output_type": "execute_result"
    }
   ],
   "source": [
    "conversation.run(\"What is LangChain?\")"
   ]
  },
  {
   "cell_type": "code",
   "execution_count": 9,
   "id": "7bf1a933-60a6-4788-8ba3-73173aa31a44",
   "metadata": {
    "tags": []
   },
   "outputs": [
    {
     "name": "stdout",
     "output_type": "stream",
     "text": [
      "\n",
      "\n",
      "\u001b[1m> Entering new LLMChain chain...\u001b[0m\n",
      "Prompt after formatting:\n",
      "\u001b[32;1m\u001b[1;3mYou are a chatbot named Aura having a conversation with a human.\n",
      "\n",
      "Given below is the information given to you, create a final answer.\n",
      "'''\n",
      "LangChain is a Python library for developing applications powered by language models.\n",
      "'''\n",
      "\n",
      "Human: Do you have a name?\n",
      "Chatbot:\u001b[0m\n",
      "\n",
      "\u001b[1m> Finished chain.\u001b[0m\n"
     ]
    },
    {
     "data": {
      "text/plain": [
       "'Yes, I am Aura. How can I assist you?'"
      ]
     },
     "execution_count": 9,
     "metadata": {},
     "output_type": "execute_result"
    }
   ],
   "source": [
    "conversation.run(\"Do you have a name?\")"
   ]
  }
 ],
 "metadata": {
  "kernelspec": {
   "display_name": "Python 3 (ipykernel)",
   "language": "python",
   "name": "python3"
  },
  "language_info": {
   "codemirror_mode": {
    "name": "ipython",
    "version": 3
   },
   "file_extension": ".py",
   "mimetype": "text/x-python",
   "name": "python",
   "nbconvert_exporter": "python",
   "pygments_lexer": "ipython3",
   "version": "3.10.10"
  }
 },
 "nbformat": 4,
 "nbformat_minor": 5
}
