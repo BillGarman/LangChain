{
 "cells": [
  {
   "cell_type": "markdown",
   "id": "9f2bc65e-48b9-47bd-a5ba-7bcad5ea5fc0",
   "metadata": {},
   "source": [
    "## SimpleMemory\n",
    "\n",
    "`SimpleMemory` is useful for storing context or other bits of information that shouldn't ever change between prompts. Essentially, it is acting like a read-only Python dictionary."
   ]
  },
  {
   "cell_type": "code",
   "execution_count": 1,
   "id": "83064fd1-8a4c-4ab7-8ec3-084c94513c2c",
   "metadata": {},
   "outputs": [],
   "source": [
    "from langchain.memory import SimpleMemory\n",
    "from langchain.chains import LLMChain\n",
    "from langchain.prompts import PromptTemplate\n",
    "from langchain.chat_models import ChatOpenAI"
   ]
  },
  {
   "cell_type": "code",
   "execution_count": 3,
   "id": "af366b19-f1ec-40b7-9c21-a8b177c8a07e",
   "metadata": {
    "tags": []
   },
   "outputs": [],
   "source": [
    "# Defining SimpleMemory\n",
    "\n",
    "data_dict = {\n",
    "    \"context\": \"LangChain is a Python library for developing applications powered by language models.\"\n",
    "}\n",
    "simple_memory = SimpleMemory(memories=data_dict)"
   ]
  },
  {
   "cell_type": "code",
   "execution_count": 4,
   "id": "f836d3f1-d733-402d-9dc7-0afd5cf32c2d",
   "metadata": {
    "tags": []
   },
   "outputs": [
    {
     "data": {
      "text/plain": [
       "{'context': 'LangChain is a Python library for developing applications powered by language models.'}"
      ]
     },
     "execution_count": 4,
     "metadata": {},
     "output_type": "execute_result"
    }
   ],
   "source": [
    "# Accessing underlying dictionary\n",
    "\n",
    "simple_memory.load_memory_variables({})"
   ]
  },
  {
   "cell_type": "code",
   "execution_count": 5,
   "id": "376df18e-40c8-4201-9fd6-bcb9f4d945df",
   "metadata": {
    "tags": []
   },
   "outputs": [
    {
     "data": {
      "text/plain": [
       "{'context': 'LangChain is a Python library for developing applications powered by language models.'}"
      ]
     },
     "execution_count": 5,
     "metadata": {},
     "output_type": "execute_result"
    }
   ],
   "source": [
    "# `save_context` method will do nothing.\n",
    "\n",
    "simple_memory.save_context({\"this\": \"is read-only\"}, {\"you\": \"cannot add new data\"})\n",
    "simple_memory.load_memory_variables({})"
   ]
  },
  {
   "cell_type": "code",
   "execution_count": 6,
   "id": "7793a7b5-7854-446c-9d0f-7497ba54b4fa",
   "metadata": {
    "tags": []
   },
   "outputs": [],
   "source": [
    "# Defining prompt\n",
    "\n",
    "prompt=\"\"\"You are a chatbot having a conversation with a human.\n",
    "\n",
    "Given below is the information given to you, create a final answer.\n",
    "'''\n",
    "{context}\n",
    "'''\n",
    "\n",
    "Human: {human_input}\n",
    "Chatbot:\"\"\"\n",
    "prompt_template = PromptTemplate.from_template(prompt)"
   ]
  },
  {
   "cell_type": "code",
   "execution_count": 7,
   "id": "9f5f59ec-7c41-4e38-ae9c-f473ca6aaad2",
   "metadata": {
    "tags": []
   },
   "outputs": [],
   "source": [
    "# Defining LLMChain\n",
    "\n",
    "chat_model = ChatOpenAI(temperature=0)\n",
    "conversation = LLMChain(\n",
    "    prompt=prompt_template,\n",
    "    llm=chat_model, \n",
    "    verbose=True, \n",
    "    memory=simple_memory\n",
    ")"
   ]
  },
  {
   "cell_type": "code",
   "execution_count": 8,
   "id": "caae8dff-48d3-4d49-88bd-efd2bcef2581",
   "metadata": {
    "tags": []
   },
   "outputs": [
    {
     "name": "stdout",
     "output_type": "stream",
     "text": [
      "\n",
      "\n",
      "\u001b[1m> Entering new LLMChain chain...\u001b[0m\n",
      "Prompt after formatting:\n",
      "\u001b[32;1m\u001b[1;3mYou are a chatbot having a conversation with a human.\n",
      "\n",
      "Given below is the information given to you, create a final answer.\n",
      "'''\n",
      "LangChain is a Python library for developing applications powered by language models.\n",
      "'''\n",
      "\n",
      "Human: What is LangChain?\n",
      "Chatbot:\u001b[0m\n",
      "\n",
      "\u001b[1m> Finished chain.\u001b[0m\n"
     ]
    },
    {
     "data": {
      "text/plain": [
       "'LangChain is a Python library that enables the development of applications powered by language models.'"
      ]
     },
     "execution_count": 8,
     "metadata": {},
     "output_type": "execute_result"
    }
   ],
   "source": [
    "conversation.run(\"What is LangChain?\")"
   ]
  },
  {
   "cell_type": "code",
   "execution_count": 9,
   "id": "cedad7eb-8332-405b-ae67-d30e2b30b232",
   "metadata": {
    "tags": []
   },
   "outputs": [
    {
     "name": "stdout",
     "output_type": "stream",
     "text": [
      "\n",
      "\n",
      "\u001b[1m> Entering new LLMChain chain...\u001b[0m\n",
      "Prompt after formatting:\n",
      "\u001b[32;1m\u001b[1;3mYou are a chatbot having a conversation with a human.\n",
      "\n",
      "Given below is the information given to you, create a final answer.\n",
      "'''\n",
      "LangChain is a Python library for developing applications powered by language models.\n",
      "'''\n",
      "\n",
      "Human: When should I use langchain?\n",
      "Chatbot:\u001b[0m\n",
      "\n",
      "\u001b[1m> Finished chain.\u001b[0m\n"
     ]
    },
    {
     "data": {
      "text/plain": [
       "'You should use LangChain when you want to develop applications powered by language models using Python.'"
      ]
     },
     "execution_count": 9,
     "metadata": {},
     "output_type": "execute_result"
    }
   ],
   "source": [
    "conversation.run(\"When should I use langchain?\")"
   ]
  }
 ],
 "metadata": {
  "kernelspec": {
   "display_name": "Python 3 (ipykernel)",
   "language": "python",
   "name": "python3"
  },
  "language_info": {
   "codemirror_mode": {
    "name": "ipython",
    "version": 3
   },
   "file_extension": ".py",
   "mimetype": "text/x-python",
   "name": "python",
   "nbconvert_exporter": "python",
   "pygments_lexer": "ipython3",
   "version": "3.10.10"
  }
 },
 "nbformat": 4,
 "nbformat_minor": 5
}
