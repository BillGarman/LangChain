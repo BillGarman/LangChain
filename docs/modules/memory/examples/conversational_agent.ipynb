{
 "cells": [
  {
   "cell_type": "markdown",
   "id": "4658d71a",
   "metadata": {},
   "source": [
    "# Conversation Agent\n",
    "\n",
    "This notebook walks through using an agent optimized for conversation. Other agents are often optimized for using tools to figure out the best response, which is not ideal in a conversational setting where you may want the agent to be able to chat with the user as well.\n",
    "\n",
    "This is accomplisehd with a specific type of agent (`conversational-react-description`) which expects to be used with a memory component."
   ]
  },
  {
   "cell_type": "code",
   "execution_count": 1,
   "id": "f65308ab",
   "metadata": {},
   "outputs": [],
   "source": [
    "from langchain.agents import Tool\n",
    "from langchain.chains.conversation.memory import ConversationBufferMemory\n",
    "from langchain import OpenAI\n",
    "from langchain.utilities import GoogleSearchAPIWrapper\n",
    "from langchain.agents import initialize_agent"
   ]
  },
  {
   "cell_type": "code",
   "execution_count": 6,
   "id": "5fb14d6d",
   "metadata": {},
   "outputs": [],
   "source": [
    "search = GoogleSearchAPIWrapper()\n",
    "tools = [\n",
    "    Tool(\n",
    "        name = \"Search\",\n",
    "        func=search.run,\n",
    "        description=\"useful for when you need to answer questions about current events. this will NOT help you answer questions about the human you are interacting with. only use it for general purpose information.\"\n",
    "    ),\n",
    "]\n",
    "tools = []"
   ]
  },
  {
   "cell_type": "code",
   "execution_count": 7,
   "id": "dddc34c4",
   "metadata": {},
   "outputs": [],
   "source": [
    "memory = ConversationBufferMemory(memory_key=\"chat_history\")"
   ]
  },
  {
   "cell_type": "code",
   "execution_count": 8,
   "id": "cafe9bc1",
   "metadata": {},
   "outputs": [],
   "source": [
    "llm=OpenAI(temperature=0)\n",
    "agent_chain = initialize_agent(tools, llm, agent=\"conversational-react-description\", verbose=True, memory=memory)"
   ]
  },
  {
   "cell_type": "code",
   "execution_count": 9,
   "id": "dc70b454",
   "metadata": {},
   "outputs": [
    {
     "name": "stdout",
     "output_type": "stream",
     "text": [
      "\n",
      "\n",
      "\u001b[1m> Entering new AgentExecutor chain...\u001b[0m\n",
      "\u001b[32;1m\u001b[1;3m\n",
      "AI: Hi Bob, nice to meet you! What can I help you with?\u001b[0m\n",
      "\u001b[1m> Finished AgentExecutor chain.\u001b[0m\n"
     ]
    },
    {
     "data": {
      "text/plain": [
       "'Hi Bob, nice to meet you! What can I help you with?'"
      ]
     },
     "execution_count": 9,
     "metadata": {},
     "output_type": "execute_result"
    }
   ],
   "source": [
    "agent_chain.run(input=\"hi, i am bob\")"
   ]
  },
  {
   "cell_type": "code",
   "execution_count": 10,
   "id": "aa05f566",
   "metadata": {},
   "outputs": [
    {
     "name": "stdout",
     "output_type": "stream",
     "text": [
      "\n",
      "\n",
      "\u001b[1m> Entering new AgentExecutor chain...\u001b[0m\n",
      "\u001b[32;1m\u001b[1;3m\n",
      "Thought: Do I need to use a tool? Yes\n",
      "Action: Search for recipes\n",
      "Action Input: Thai food\u001b[0m\n",
      "Observation: Search for recipes is not a valid tool, try another one.\n",
      "Thought:\u001b[32;1m\u001b[1;3m Do I need to use a tool? Yes\n",
      "Action: Search for Thai food recipes\n",
      "Action Input: Thai food\u001b[0m\n",
      "Observation: Search for Thai food recipes is not a valid tool, try another one.\n",
      "Thought:\u001b[32;1m\u001b[1;3m Do I need to use a tool? Yes\n",
      "Action: Recipe search\n",
      "Action Input: Thai food\u001b[0m\n",
      "Observation: Recipe search is not a valid tool, try another one.\n",
      "Thought:\u001b[32;1m\u001b[1;3m Do I need to use a tool? Yes\n",
      "Action: Recipe database\n",
      "Action Input: Thai food\u001b[0m\n",
      "Observation: Recipe database is not a valid tool, try another one.\n",
      "Thought:\u001b[32;1m\u001b[1;3m Do I need to use a tool? Yes\n",
      "Action: Recipe finder\n",
      "Action Input: Thai food\u001b[0m\n",
      "Observation: Recipe finder is not a valid tool, try another one.\n",
      "Thought:\u001b[32;1m\u001b[1;3m Do I need to use a tool? Yes\n",
      "Action: Recipe suggestion\n",
      "Action Input: Thai food\u001b[0m\n",
      "Observation: Recipe suggestion is not a valid tool, try another one.\n",
      "Thought:\u001b[32;1m\u001b[1;3m Do I need to use a tool? No\n",
      "AI: I'm sorry, I don't know the answer to that. However, you could try searching online for some Thai food recipes.\u001b[0m\n",
      "\u001b[1m> Finished AgentExecutor chain.\u001b[0m\n"
     ]
    },
    {
     "data": {
      "text/plain": [
       "\"I'm sorry, I don't know the answer to that. However, you could try searching online for some Thai food recipes.\""
      ]
     },
     "execution_count": 10,
     "metadata": {},
     "output_type": "execute_result"
    }
   ],
   "source": [
    "agent_chain.run(\"what are some good dinners to make this week, if i like thai food?\")"
   ]
  },
  {
   "cell_type": "code",
   "execution_count": 7,
   "id": "80dc63ca",
   "metadata": {},
   "outputs": [
    {
     "name": "stdout",
     "output_type": "stream",
     "text": [
      "\n",
      "\n",
      "\u001b[1m> Entering new AgentExecutor chain...\u001b[0m\n",
      "\u001b[32;1m\u001b[1;3m\n",
      "Thought: Do I need to use a tool? Yes\n",
      "Action: Search\n",
      "Action Input: President of the United States in [year]\u001b[0m\n",
      "Observation: \u001b[36;1m\u001b[1;3mNote: Multiple entries appear for a president whenever there was a change in the office of vice president. YEAR, PRESIDENT, FIRST LADY, VICE PRESIDENT. 1789- ... United States House of Representatives: History, Art, & Archives ... From 1789 until 1933, the terms of President and Vice President and the term of the ... The president of the United States is the head of state and head of government of the United States, indirectly elected to a four-year term via the ... The Vice President of the United States shall be President of the Senate, ... The Congress shall assemble at least once in every Year, and such Meeting ... President Biden represented Delaware for 36 years in the U.S. Senate before becoming the 47th Vice President of the United States. As President, Biden will ... Electoral College; Video: How to Become President of the USA; Overview of the Presidential Election Process; Presidential Primaries and Caucuses ... The biography for President Washington and past presidents is courtesy of the ... Portrait of George Washington, the 1st President of the United States ... The President of the United States manages the operations of the Executive ... by President, or you can browse by President and year from the list below. Barack Obama served as the 44th President of the United States. ... In the last year of his second term, Obama spoke at two events that clearly moved ... The president of the United States is the head of state of the U.S., the chief ... Spring of the year before an election – Candidates announce their ...\u001b[0m\n",
      "Thought:\u001b[32;1m\u001b[1;3m Do I need to use a tool? No\n",
      "AI: The president the year you were born was [name of president].\u001b[0m\n",
      "\u001b[1m> Finished AgentExecutor chain.\u001b[0m\n"
     ]
    },
    {
     "data": {
      "text/plain": [
       "'The president the year you were born was [name of president].'"
      ]
     },
     "execution_count": 7,
     "metadata": {},
     "output_type": "execute_result"
    }
   ],
   "source": [
    "agent_chain.run(input=\"who was the president the year i was born?\")"
   ]
  },
  {
   "cell_type": "code",
   "execution_count": 7,
   "id": "c5d8b7ea",
   "metadata": {},
   "outputs": [
    {
     "name": "stdout",
     "output_type": "stream",
     "text": [
      "\n",
      "\n",
      "\u001b[1m> Entering new AgentExecutor chain...\u001b[0m\n",
      "\u001b[32;1m\u001b[1;3m\n",
      "Thought: Do I need to use a tool? Yes\n",
      "Action: Search\n",
      "Action Input: 1978 World Cup\u001b[0m\n",
      "Observation: \u001b[36;1m\u001b[1;3mThe Cup was won by the host nation, Argentina, who defeated the Netherlands 3–1 in the final, after extra time. The final was held at River Plate's home stadium ... Amid Argentina's celebrations, there was sympathy for the Netherlands, runners-up for the second tournament running, following a 3-1 final defeat at the Estadio ... The match was won by the Argentine squad in extra time by a score of 3–1. Mario Kempes, who finished as the tournament's top scorer, was named the man of the ... Controversy and wonder goals highlighted the 1978 FIFA World Cup. 'Campeones' relives it all and documents Mario Kempes inspiring Argentina's maiden World ... Jun 14, 2018 ... On a clear afternoon on 1 June 1978 at the revamped El Monumental stadium in Buenos Aires' Belgrano barrio, several hundred children in white ... Jun 9, 2014 ... At the same time Argentina hosted the 1978 World Cup, the nation's dictators were waging their \"Dirty War\" of repression, kidnappings and ... Oct 6, 2022 ... We systematically test our hypotheses with the 1978 FIFA World Cup in Argentina. The tournament was particularly controversial because Argentina ... Nov 9, 2022 ... After years of being denied hosting rights and subsequent boycotts of the tournament, Argentina was finally chosen to host a World Cup. Aug 22, 2018 ... When that tournament kicked off in June 1978, Argentina was in the thick of its bloody military dictatorship, often referred to as the Dirty War ... Jul 5, 2017 ... Unknown to my 10-year old self, in June 1978 Argentina was ruled by a murderous military junta. By the time of the World Cup finals, the junta ...\u001b[0m\n",
      "Thought:\u001b[32;1m\u001b[1;3m Do I need to use a tool? No\n",
      "AI: The last letter in your name is \"b\". The 1978 World Cup was won by Argentina.\u001b[0m\n",
      "\u001b[1m> Finished AgentExecutor chain.\u001b[0m\n"
     ]
    },
    {
     "data": {
      "text/plain": [
       "'The last letter in your name is \"b\". The 1978 World Cup was won by Argentina.'"
      ]
     },
     "execution_count": 7,
     "metadata": {},
     "output_type": "execute_result"
    }
   ],
   "source": [
    "agent_chain.run(input=\"tell me the last letter in my name, and also tell me who won the world cup in 1978?\")"
   ]
  },
  {
   "cell_type": "code",
   "execution_count": 8,
   "id": "f608889b",
   "metadata": {},
   "outputs": [
    {
     "name": "stdout",
     "output_type": "stream",
     "text": [
      "\n",
      "\n",
      "\u001b[1m> Entering new AgentExecutor chain...\u001b[0m\n",
      "\u001b[32;1m\u001b[1;3m\n",
      "Thought: Do I need to use a tool? Yes\n",
      "Action: Search\n",
      "Action Input: Current temperature in Pomfret\u001b[0m\n",
      "Observation: \u001b[36;1m\u001b[1;3mCloudy with occasional rain in the afternoon. Near record high temperatures. High 59F. Winds SSW at 5 to 10 mph. Chance of rain 80%. Pomfret, CT Weather Forecast, with current conditions, wind, air quality, and what to expect for the next 3 days. Pomfret Center Weather Forecasts. Weather Underground provides ... Today's temperature is forecast to be NEARLY THE SAME as yesterday. Radar; Satellite. Share |. Current conditions at ... Pomfret CT. Today. Today: Partly sunny, with a high near 49. ... Past Weather Information · Interactive Forecast Map. Pomfret Weather Forecasts. ... Pomfret, MD Weather Conditionsstar_ratehome ... Today's temperature is forecast to be NEARLY THE SAME as yesterday. The current weather report for Pomfret CT, as of 7:45 PM EST, has a sky condition of Light Rain with the visibility of 0.75 miles. It is 52 degrees fahrenheit, ... Additional Headlines. En Español · Share |. Current conditions at ... South Pomfret VT. Tonight ... Hazardous Weather Outlook · Regional Weather Conditions. Pomfret MD detailed current weather report for 20675 in Charles county, Maryland. ... Pomfret, MD weather condition is Partly Cloudy and 36°F. Partly Cloudy. Additional Headlines. En Español · Share |. Current conditions at ... Pomfret Center CT. Overnight ... Past Weather Information · Interactive Forecast Map. Cloudy. Patchy fog. Lows in the mid 40s. South winds around 5 mph. Today Chance Of Showers Hi: 59 ...\u001b[0m\n",
      "Thought:\u001b[32;1m\u001b[1;3m Do I need to use a tool? No\n",
      "AI: The current temperature in Pomfret is around 49 degrees Fahrenheit.\u001b[0m\n",
      "\u001b[1m> Finished AgentExecutor chain.\u001b[0m\n"
     ]
    },
    {
     "data": {
      "text/plain": [
       "'The current temperature in Pomfret is around 49 degrees Fahrenheit.'"
      ]
     },
     "execution_count": 8,
     "metadata": {},
     "output_type": "execute_result"
    }
   ],
   "source": [
    "agent_chain.run(input=\"whats the temperature in pomfret?\")"
   ]
  },
  {
   "cell_type": "markdown",
   "id": "cfe1f866",
   "metadata": {},
   "source": [
    "## Customization\n",
    "If you want more control over AI/Human prefixes, you can also load the agent with specific prefixes."
   ]
  },
  {
   "cell_type": "code",
   "execution_count": 8,
   "id": "44a50c27",
   "metadata": {},
   "outputs": [],
   "source": [
    "from langchain.agents.conversational.base import ConversationalAgent\n",
    "from langchain.agents import AgentExecutor\n",
    "agent = ConversationalAgent.from_llm_and_tools(llm, tools, ai_prefix=\"AI1\")\n",
    "# We set verbose = True just to see the prompt is filled out correctly.\n",
    "agent.llm_chain.verbose=True\n",
    "memory = ConversationBufferMemory(memory_key=\"chat_history\", ai_prefix=\"AI1\")\n",
    "agent_chain = AgentExecutor(agent=agent, tools=tools, memory=memory, verbose=True)"
   ]
  },
  {
   "cell_type": "code",
   "execution_count": 9,
   "id": "6bc523b8",
   "metadata": {},
   "outputs": [
    {
     "name": "stdout",
     "output_type": "stream",
     "text": [
      "\n",
      "\n",
      "\u001b[1m> Entering new AgentExecutor chain...\u001b[0m\n",
      "\n",
      "\n",
      "\u001b[1m> Entering new LLMChain chain...\u001b[0m\n",
      "Prompt after formatting:\n",
      "\u001b[32;1m\u001b[1;3mThe following is a friendly conversation between a human and an AI. The AI is talkative and provides lots of specific details from its context. If the AI does not know the answer to a question, it truthfully says it does not know.\n",
      "\n",
      "The AI has access to the following tools:\n",
      "\n",
      "Search: useful for when you need to answer questions about current events. this will NOT help you answer questions about the human you are interacting with. only use it for general purpose information.\n",
      "\n",
      "Use the following format:\n",
      "\n",
      "Question: the input question you must answer\n",
      "Thought: you should always think about what to do\n",
      "\n",
      "[do this if you just want to respond directly to the human]\n",
      "\n",
      "AI1: response to the human\n",
      "\n",
      "[do this if you need to use a tool]\n",
      "\n",
      "Action: the action to take, should be one of [Search]\n",
      "Action Input: the input to the action\n",
      "Observation: the result of the action\n",
      "... (this Thought/Action/Action Input/Observation can repeat N times)\n",
      "Thought: I now know the final answer\n",
      "AI1: the final answer to the original input question\n",
      "\n",
      "You do NOT need to use these tools. For most normal conversation, you will not need to, and you can just respond directly to the Human.\n",
      "\n",
      "When you have a response to say to the Human, you MUST use the format:\n",
      "\n",
      "```\n",
      "AI1: [your response here]\n",
      "```\n",
      "\n",
      "Begin!\n",
      "\n",
      "Previous conversation history:\n",
      "\n",
      "\n",
      "If you need to use any of the tools, you MUST do that BEFORE you respond to the Human.\n",
      "\n",
      "New input: hi, i am bob\n",
      "\u001b[0m\n",
      "\n",
      "\u001b[1m> Finished LLMChain chain.\u001b[0m\n",
      "\u001b[32;1m\u001b[1;3m\n",
      "AI1: Hi Bob, nice to meet you!\u001b[0m\n",
      "\u001b[1m> Finished AgentExecutor chain.\u001b[0m\n"
     ]
    },
    {
     "data": {
      "text/plain": [
       "'Hi Bob, nice to meet you!'"
      ]
     },
     "execution_count": 9,
     "metadata": {},
     "output_type": "execute_result"
    }
   ],
   "source": [
    "agent_chain.run(input=\"hi, i am bob\")"
   ]
  },
  {
   "cell_type": "code",
   "execution_count": 10,
   "id": "2dfe345d",
   "metadata": {},
   "outputs": [
    {
     "name": "stdout",
     "output_type": "stream",
     "text": [
      "\n",
      "\n",
      "\u001b[1m> Entering new AgentExecutor chain...\u001b[0m\n",
      "\n",
      "\n",
      "\u001b[1m> Entering new LLMChain chain...\u001b[0m\n",
      "Prompt after formatting:\n",
      "\u001b[32;1m\u001b[1;3mThe following is a friendly conversation between a human and an AI. The AI is talkative and provides lots of specific details from its context. If the AI does not know the answer to a question, it truthfully says it does not know.\n",
      "\n",
      "The AI has access to the following tools:\n",
      "\n",
      "Search: useful for when you need to answer questions about current events. this will NOT help you answer questions about the human you are interacting with. only use it for general purpose information.\n",
      "\n",
      "Use the following format:\n",
      "\n",
      "Question: the input question you must answer\n",
      "Thought: you should always think about what to do\n",
      "\n",
      "[do this if you just want to respond directly to the human]\n",
      "\n",
      "AI1: response to the human\n",
      "\n",
      "[do this if you need to use a tool]\n",
      "\n",
      "Action: the action to take, should be one of [Search]\n",
      "Action Input: the input to the action\n",
      "Observation: the result of the action\n",
      "... (this Thought/Action/Action Input/Observation can repeat N times)\n",
      "Thought: I now know the final answer\n",
      "AI1: the final answer to the original input question\n",
      "\n",
      "You do NOT need to use these tools. For most normal conversation, you will not need to, and you can just respond directly to the Human.\n",
      "\n",
      "When you have a response to say to the Human, you MUST use the format:\n",
      "\n",
      "```\n",
      "AI1: [your response here]\n",
      "```\n",
      "\n",
      "Begin!\n",
      "\n",
      "Previous conversation history:\n",
      "\n",
      "Human: hi, i am bob\n",
      "AI1: Hi Bob, nice to meet you!\n",
      "\n",
      "If you need to use any of the tools, you MUST do that BEFORE you respond to the Human.\n",
      "\n",
      "New input: tell me the last letter in my name, and also tell me who won the world cup in 1978?\n",
      "\u001b[0m\n",
      "\n",
      "\u001b[1m> Finished LLMChain chain.\u001b[0m\n",
      "\u001b[32;1m\u001b[1;3m\n",
      "Thought: I need to use the search tool to answer this question.\n",
      "Action: Search\n",
      "Action Input: Who won the world cup in 1978\u001b[0m\n",
      "Observation: \u001b[36;1m\u001b[1;3mThe Cup was won by the host nation, Argentina, who defeated the Netherlands 3–1 in the final, after extra time. The final was held at River Plate's home stadium ... Amid Argentina's celebrations, there was sympathy for the Netherlands, runners-up for the second tournament running, following a 3-1 final defeat at the Estadio ... The match was won by the Argentine squad in extra time by a score of 3–1. Mario Kempes, who finished as the tournament's top scorer, was named the man of the ... May 21, 2022 ... Argentina won the World Cup for the first time in their history, beating Netherlands 3-1 in the final. This edition of the World Cup was full of ... Holders West Germany failed to beat Holland and Italy and were eliminated when Berti Vogts' own goal gave Austria a 3-2 victory. Holland thrashed the Austrians ... Jun 14, 2018 ... Was it just a happy accident that the hosts knew exactly what they needed to do following Brazil's 3-1 win? A 4-0 win and they were in the final ... Nov 9, 2022 ... Host: Argentina Teams: 16. Format: Group stage, second round, third-place playoff, final. Matches: 38. Goals: 102. Winner: Argentina Nov 30, 2022 ... Mexico fails to advance out of the group stage for the first time since 1978 despite 2-1 win on Wednesday. By virtue of goal differential, ... Dec 15, 2022 ... The tournament couldn't have gone better for the ruling junta. Argentina went on to win the championship, defeating the Netherlands, 3-1, in the ... Aug 22, 2018 ... When that tournament kicked off in June 1978, Argentina was in the thick of its bloody military dictatorship, often referred to as the Dirty War ...\u001b[0m\n",
      "Thought:\n",
      "\n",
      "\u001b[1m> Entering new LLMChain chain...\u001b[0m\n",
      "Prompt after formatting:\n",
      "\u001b[32;1m\u001b[1;3mThe following is a friendly conversation between a human and an AI. The AI is talkative and provides lots of specific details from its context. If the AI does not know the answer to a question, it truthfully says it does not know.\n",
      "\n",
      "The AI has access to the following tools:\n",
      "\n",
      "Search: useful for when you need to answer questions about current events. this will NOT help you answer questions about the human you are interacting with. only use it for general purpose information.\n",
      "\n",
      "Use the following format:\n",
      "\n",
      "Question: the input question you must answer\n",
      "Thought: you should always think about what to do\n",
      "\n",
      "[do this if you just want to respond directly to the human]\n",
      "\n",
      "AI1: response to the human\n",
      "\n",
      "[do this if you need to use a tool]\n",
      "\n",
      "Action: the action to take, should be one of [Search]\n",
      "Action Input: the input to the action\n",
      "Observation: the result of the action\n",
      "... (this Thought/Action/Action Input/Observation can repeat N times)\n",
      "Thought: I now know the final answer\n",
      "AI1: the final answer to the original input question\n",
      "\n",
      "You do NOT need to use these tools. For most normal conversation, you will not need to, and you can just respond directly to the Human.\n",
      "\n",
      "When you have a response to say to the Human, you MUST use the format:\n",
      "\n",
      "```\n",
      "AI1: [your response here]\n",
      "```\n",
      "\n",
      "Begin!\n",
      "\n",
      "Previous conversation history:\n",
      "\n",
      "Human: hi, i am bob\n",
      "AI1: Hi Bob, nice to meet you!\n",
      "\n",
      "If you need to use any of the tools, you MUST do that BEFORE you respond to the Human.\n",
      "\n",
      "New input: tell me the last letter in my name, and also tell me who won the world cup in 1978?\n",
      "\n",
      "Thought: I need to use the search tool to answer this question.\n",
      "Action: Search\n",
      "Action Input: Who won the world cup in 1978\n",
      "Observation: The Cup was won by the host nation, Argentina, who defeated the Netherlands 3–1 in the final, after extra time. The final was held at River Plate's home stadium ... Amid Argentina's celebrations, there was sympathy for the Netherlands, runners-up for the second tournament running, following a 3-1 final defeat at the Estadio ... The match was won by the Argentine squad in extra time by a score of 3–1. Mario Kempes, who finished as the tournament's top scorer, was named the man of the ... May 21, 2022 ... Argentina won the World Cup for the first time in their history, beating Netherlands 3-1 in the final. This edition of the World Cup was full of ... Holders West Germany failed to beat Holland and Italy and were eliminated when Berti Vogts' own goal gave Austria a 3-2 victory. Holland thrashed the Austrians ... Jun 14, 2018 ... Was it just a happy accident that the hosts knew exactly what they needed to do following Brazil's 3-1 win? A 4-0 win and they were in the final ... Nov 9, 2022 ... Host: Argentina Teams: 16. Format: Group stage, second round, third-place playoff, final. Matches: 38. Goals: 102. Winner: Argentina Nov 30, 2022 ... Mexico fails to advance out of the group stage for the first time since 1978 despite 2-1 win on Wednesday. By virtue of goal differential, ... Dec 15, 2022 ... The tournament couldn't have gone better for the ruling junta. Argentina went on to win the championship, defeating the Netherlands, 3-1, in the ... Aug 22, 2018 ... When that tournament kicked off in June 1978, Argentina was in the thick of its bloody military dictatorship, often referred to as the Dirty War ...\n",
      "Thought:\u001b[0m\n",
      "\n",
      "\u001b[1m> Finished LLMChain chain.\u001b[0m\n",
      "\u001b[32;1m\u001b[1;3m I now know the answer to the question.\n",
      "AI1: The last letter in your name is \"b\" and Argentina won the World Cup in 1978.\u001b[0m\n",
      "\u001b[1m> Finished AgentExecutor chain.\u001b[0m\n"
     ]
    },
    {
     "data": {
      "text/plain": [
       "'The last letter in your name is \"b\" and Argentina won the World Cup in 1978.'"
      ]
     },
     "execution_count": 10,
     "metadata": {},
     "output_type": "execute_result"
    }
   ],
   "source": [
    "agent_chain.run(input=\"tell me the last letter in my name, and also tell me who won the world cup in 1978?\")"
   ]
  }
 ],
 "metadata": {
  "kernelspec": {
   "display_name": "Python 3 (ipykernel)",
   "language": "python",
   "name": "python3"
  },
  "language_info": {
   "codemirror_mode": {
    "name": "ipython",
    "version": 3
   },
   "file_extension": ".py",
   "mimetype": "text/x-python",
   "name": "python",
   "nbconvert_exporter": "python",
   "pygments_lexer": "ipython3",
   "version": "3.10.9"
  }
 },
 "nbformat": 4,
 "nbformat_minor": 5
}
