{
 "cells": [
  {
   "attachments": {},
   "cell_type": "markdown",
   "id": "91c6a7ef",
   "metadata": {},
   "source": [
    "# Momento Chat Message History\n",
    "\n",
    "This notebook goes over how to use [Momento Cache](https://gomomento.com) to store chat message history."
   ]
  },
  {
   "attachments": {},
   "cell_type": "markdown",
   "id": "feb2e31e",
   "metadata": {},
   "source": [
    "We need two things to get started:\n",
    "- a Momento cache client, and\n",
    "- a cache in Momento where our data will be stored.\n",
    "\n",
    "See the Momento [docs](https://docs.momentohq.com/getting-started) for more detail."
   ]
  },
  {
   "cell_type": "code",
   "execution_count": 4,
   "id": "2f34e357",
   "metadata": {},
   "outputs": [],
   "source": [
    "from datetime import timedelta\n",
    "from momento import CacheClient, Configurations, CredentialProvider\n",
    "\n",
    "cache_client = CacheClient(\n",
    "    Configurations.Laptop.v1(),\n",
    "    CredentialProvider.from_environment_variable(\"MOMENTO_AUTH_TOKEN\"),\n",
    "    default_ttl=timedelta(days=1))\n",
    "cache_name = \"langchain\""
   ]
  },
  {
   "attachments": {},
   "cell_type": "markdown",
   "id": "b51d57ac",
   "metadata": {},
   "source": [
    "We use this to create our chat message history backend.\n",
    "\n",
    "Note that, by default this will create the cache above if it does not exist."
   ]
  },
  {
   "cell_type": "code",
   "execution_count": 2,
   "id": "d15e3302",
   "metadata": {},
   "outputs": [],
   "source": [
    "from langchain.memory import MomentoChatMessageHistory\n",
    "\n",
    "history = MomentoChatMessageHistory(\n",
    "    session_id=\"foo\",\n",
    "    cache_client=cache_client,\n",
    "    cache_name=cache_name)\n",
    "\n",
    "history.add_user_message(\"hi!\")\n",
    "\n",
    "history.add_ai_message(\"whats up?\")"
   ]
  },
  {
   "cell_type": "code",
   "execution_count": 3,
   "id": "64fc465e",
   "metadata": {},
   "outputs": [
    {
     "data": {
      "text/plain": [
       "[HumanMessage(content='hi!', additional_kwargs={}, example=False),\n",
       " AIMessage(content='whats up?', additional_kwargs={}, example=False)]"
      ]
     },
     "execution_count": 3,
     "metadata": {},
     "output_type": "execute_result"
    }
   ],
   "source": [
    "history.messages"
   ]
  }
 ],
 "metadata": {
  "kernelspec": {
   "display_name": "Python 3 (ipykernel)",
   "language": "python",
   "name": "python3"
  },
  "language_info": {
   "codemirror_mode": {
    "name": "ipython",
    "version": 3
   },
   "file_extension": ".py",
   "mimetype": "text/x-python",
   "name": "python",
   "nbconvert_exporter": "python",
   "pygments_lexer": "ipython3",
   "version": "3.9.12"
  }
 },
 "nbformat": 4,
 "nbformat_minor": 5
}
