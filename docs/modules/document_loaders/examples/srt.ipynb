{
	"cells": [
		{
			"cell_type": "markdown",
			"id": "4bdaea79",
			"metadata": {},
			"source": [
				"# Subtitle Files\n",
				"How to load data from subtitle (`.srt`) files"
			]
		},
		{
			"attachments": {},
			"cell_type": "markdown",
			"id": "a1896f71",
			"metadata": {},
			"source": [
				"NOTE: You may need to install \"libmagic\" to run this document loader. In order to do this, follow the instructions below:"
			]
		},
		{
			"attachments": {},
			"cell_type": "markdown",
			"id": "d5fb3de2",
			"metadata": {},
			"source": [
				"**Mac OS**\n",
				"\n",
				"Run the following command using Homebrew:\n",
				"`brew install libmagic`\n",
				"\n",
				"**Windows**\n",
				"1. Go to the following link: https://pypi.python.org/pypi/python-magic-bin/0.4.14\n",
				"2. Navigate to the \"Download Files\" tab on the left\n",
				"3. Download `python_magic_bin-0.4.14-py2.py3-none-win_amd64.whl` if you are on 64 bit Windows or `python_magic_bin-0.4.14-py2.py3-none-win32.whl` if you are on 32 bit Windows.\n",
				"4. Open a terminal or shell in the folder where you downloaded this file.\n",
				"5. Run `pip install ./{file_name_here.whl}`\n",
				"\n",
				"This will install libmagic on your system!\n"
			]
		},
		{
			"attachments": {},
			"cell_type": "markdown",
			"id": "f4c1bb59",
			"metadata": {},
			"source": [
				"You will also need to install the following pip packages:"
			]
		},
		{
			"attachments": {},
			"cell_type": "code",
			"id": "68b1b728",
			"metadata": {},
			"source": [
				"`pip install unstructured`\n",
				"\n",
				"\n",
				"`pip install pysrt`"
			]
		},
		{
			"cell_type": "code",
			"execution_count": 24,
			"id": "2cbb7f5c",
			"metadata": {},
			"outputs": [],
			"source": [
				"from langchain.document_loaders import SRTLoader"
			]
		},
		{
			"cell_type": "code",
			"execution_count": 25,
			"id": "865d8a14",
			"metadata": {},
			"outputs": [],
			"source": [
				"loader = SRTLoader(\"example_data/Star_Wars_The_Clone_Wars_S06E07_Crisis_at_the_Heart.srt\")"
			]
		},
		{
			"cell_type": "code",
			"execution_count": 26,
			"id": "173a9234",
			"metadata": {},
			"outputs": [],
			"source": [
				"docs = loader.load()"
			]
		},
		{
			"cell_type": "code",
			"execution_count": 27,
			"id": "15e00030",
			"metadata": {},
			"outputs": [
				{
					"data": {
						"text/plain": [
							"'<i>Corruption discovered\\nat the core of the Banking Clan!</i> <i>Reunited, Rush Clovis\\nand Senator A'"
						]
					},
					"execution_count": 27,
					"metadata": {},
					"output_type": "execute_result"
				}
			],
			"source": [
				"docs[0].page_content[:100]"
			]
		},
		{
			"cell_type": "code",
			"execution_count": null,
			"id": "3b7a8dc4",
			"metadata": {},
			"outputs": [],
			"source": []
		}
	],
	"metadata": {
		"kernelspec": {
			"display_name": "Python 3",
			"language": "python",
			"name": "python3"
		},
		"language_info": {
			"codemirror_mode": {
				"name": "ipython",
				"version": 3
			},
			"file_extension": ".py",
			"mimetype": "text/x-python",
			"name": "python",
			"nbconvert_exporter": "python",
			"pygments_lexer": "ipython3",
			"version": "3.11.2"
		},
		"vscode": {
			"interpreter": {
				"hash": "5238573367df39f7286bb46f9ff5f08f63a01a80960060ce41e3c79b190280fa"
			}
		}
	},
	"nbformat": 4,
	"nbformat_minor": 5
}
