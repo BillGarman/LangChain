{
 "cells": [
  {
   "cell_type": "markdown",
   "id": "9f064d5f",
   "metadata": {},
   "source": [
    "# s3 File\n",
    "\n",
    "This covers how to load document objects from an s3 file object."
   ]
  },
  {
   "cell_type": "code",
   "execution_count": 1,
   "id": "c7d57f39",
   "metadata": {},
   "outputs": [],
   "source": [
    "from langchain.document_loaders import S3FileLoader"
   ]
  },
  {
   "cell_type": "code",
   "execution_count": 2,
   "id": "c2abe111",
   "metadata": {},
   "outputs": [],
   "source": [
    "#!pip install boto3"
   ]
  },
  {
   "cell_type": "code",
   "execution_count": 8,
   "id": "a3a5a3c2",
   "metadata": {},
   "outputs": [],
   "source": [
    "loader = S3FileLoader(\"testing-hwc\", \"fake.docx\")"
   ]
  },
  {
   "cell_type": "code",
   "execution_count": 9,
   "id": "dc06e0eb",
   "metadata": {},
   "outputs": [
    {
     "data": {
      "text/plain": [
       "[Document(page_content='Lorem ipsum dolor sit amet.', lookup_str='', metadata={'source': '/var/folders/y6/8_bzdg295ld6s1_97_12m4lr0000gn/T/tmpxvave6wl/fake.docx'}, lookup_index=0)]"
      ]
     },
     "execution_count": 9,
     "metadata": {},
     "output_type": "execute_result"
    }
   ],
   "source": [
    "loader.load()"
   ]
  },
  {
   "cell_type": "code",
   "execution_count": null,
   "id": "724c9c76",
   "metadata": {},
   "outputs": [],
   "source": []
  }
 ],
 "metadata": {
  "kernelspec": {
   "display_name": "Python 3 (ipykernel)",
   "language": "python",
   "name": "python3"
  },
  "language_info": {
   "codemirror_mode": {
    "name": "ipython",
    "version": 3
   },
   "file_extension": ".py",
   "mimetype": "text/x-python",
   "name": "python",
   "nbconvert_exporter": "python",
   "pygments_lexer": "ipython3",
   "version": "3.10.9"
  }
 },
 "nbformat": 4,
 "nbformat_minor": 5
}
