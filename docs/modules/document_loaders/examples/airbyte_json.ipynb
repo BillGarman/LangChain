{
 "cells": [
  {
   "cell_type": "markdown",
   "id": "1f3a5ebf",
   "metadata": {},
   "source": [
    "# Airbyte JSON\n",
    "This covers how to load any source from Airbyte into a local JSON file that can be read in as a document\n",
    "\n",
    "Prereqs:\n",
    "Have docker desktop installed\n",
    "\n",
    "Steps:\n",
    "\n",
    "1) clone Airbyte from GitHub - git clone https://github.com/airbytehq/airbyte.git\n",
    "\n",
    "2) switch into Airbyte directory - cd airbyte\n",
    "\n",
    "3) start Airbyte - docker compose up\n",
    "\n",
    "4) In your browser, just visit http://localhost:8000. You will be asked for a username and password. By default, that's username airbyte and password password.\n",
    "\n",
    "5) Setup any source you wish\n",
    "\n",
    "6) Set destination as Local JSON. Set up manual sync an run.\n",
    "\n",
    "7) Navigate to: file:///tmp/airbyte_local\n",
    "\n",
    "8) Find your data and copy path. That path should be saved in the file variable below. It should start with /tmp/airbyte_local\n"
   ]
  },
  {
   "cell_type": "code",
   "execution_count": 1,
   "id": "180c8b74",
   "metadata": {},
   "outputs": [],
   "source": [
    "from langchain.document_loaders import AirbyteJSONLoader"
   ]
  },
  {
   "cell_type": "code",
   "execution_count": 2,
   "id": "721d9316",
   "metadata": {},
   "outputs": [],
   "source": [
    "loader = AirbyteJSONLoader('/tmp/airbyte_local/json_data/_airbyte_raw_Sheet1.jsonl')"
   ]
  },
  {
   "cell_type": "code",
   "execution_count": 3,
   "id": "9858b946",
   "metadata": {},
   "outputs": [],
   "source": [
    "data = loader.load()"
   ]
  },
  {
   "cell_type": "code",
   "execution_count": 4,
   "id": "fca024cb",
   "metadata": {},
   "outputs": [
    {
     "data": {
      "text/plain": [
       "[Document(page_content='Date: 1/1/23\\nOpen Source Contributions: 74\\nDate: 1/2/23\\nOpen Source Contributions: 49\\nDate: 1/3/23\\nOpen Source Contributions: 77\\nDate: 1/4/23\\nOpen Source Contributions: 15\\nDate: 1/5/23\\nOpen Source Contributions: 90\\nDate: 1/6/23\\nOpen Source Contributions: 67\\nDate: 1/7/23\\nOpen Source Contributions: 18\\nDate: 1/8/23\\nOpen Source Contributions: 9\\nDate: 1/9/23\\nOpen Source Contributions: 45\\nDate: 1/10/23\\nOpen Source Contributions: 7\\nDate: 1/11/23\\nOpen Source Contributions: 42\\nDate: 1/12/23\\nOpen Source Contributions: 4\\nDate: 1/13/23\\nOpen Source Contributions: 30\\nDate: 1/14/23\\nOpen Source Contributions: 63\\nDate: 1/15/23\\nOpen Source Contributions: 0\\nDate: 1/16/23\\nOpen Source Contributions: 50\\nDate: 1/17/23\\nOpen Source Contributions: 41\\nDate: 1/18/23\\nOpen Source Contributions: 20\\nDate: 1/19/23\\nOpen Source Contributions: 44\\nDate: 1/20/23\\nOpen Source Contributions: 10\\nDate: 1/21/23\\nOpen Source Contributions: 96\\nDate: 1/22/23\\nOpen Source Contributions: 63\\nDate: 1/23/23\\nOpen Source Contributions: 54\\nDate: 1/24/23\\nOpen Source Contributions: 80\\nDate: 1/25/23\\nOpen Source Contributions: 17\\nDate: 1/26/23\\nOpen Source Contributions: 21\\nDate: 1/27/23\\nOpen Source Contributions: 98\\nDate: 1/28/23\\nOpen Source Contributions: 41\\nDate: 1/29/23\\nOpen Source Contributions: 48\\nDate: 1/30/23\\nOpen Source Contributions: 54\\nDate: 1/31/23\\nOpen Source Contributions: 48\\nDate: 2/1/23\\nOpen Source Contributions: 61\\nDate: 2/2/23\\nOpen Source Contributions: 98\\nDate: 2/3/23\\nOpen Source Contributions: 74\\nDate: 2/4/23\\nOpen Source Contributions: 20\\nDate: 2/5/23\\nOpen Source Contributions: 97\\nDate: 2/6/23\\nOpen Source Contributions: 19\\nDate: 2/7/23\\nOpen Source Contributions: 46\\nDate: 2/8/23\\nOpen Source Contributions: 2\\nDate: 2/9/23\\nOpen Source Contributions: 68\\nDate: 2/10/23\\nOpen Source Contributions: 31\\nDate: 2/11/23\\nOpen Source Contributions: 0\\nDate: 2/12/23\\nOpen Source Contributions: 65\\nDate: 2/13/23\\nOpen Source Contributions: 33\\nDate: 2/14/23\\nOpen Source Contributions: 86\\nDate: 2/15/23\\nOpen Source Contributions: 55\\nDate: 2/16/23\\nOpen Source Contributions: 54\\nDate: 2/17/23\\nOpen Source Contributions: 58\\nDate: 2/18/23\\nOpen Source Contributions: 77\\nDate: 2/19/23\\nOpen Source Contributions: 15\\nDate: 2/20/23\\nOpen Source Contributions: 32\\nDate: 2/21/23\\nOpen Source Contributions: 60\\nDate: 2/22/23\\nOpen Source Contributions: 40\\nDate: 2/23/23\\nOpen Source Contributions: 62\\nDate: 2/24/23\\nOpen Source Contributions: 52\\nDate: 2/25/23\\nOpen Source Contributions: 74\\nDate: 2/26/23\\nOpen Source Contributions: 89\\nDate: 2/27/23\\nOpen Source Contributions: 81\\nDate: 2/28/23\\nOpen Source Contributions: 93\\n', lookup_str='', metadata={'source': '/tmp/airbyte_local/json_data/_airbyte_raw_Sheet1.jsonl'}, lookup_index=0)]"
      ]
     },
     "execution_count": 4,
     "metadata": {},
     "output_type": "execute_result"
    }
   ],
   "source": [
    "data"
   ]
  },
  {
   "cell_type": "code",
   "execution_count": null,
   "id": "9fa002a5",
   "metadata": {},
   "outputs": [],
   "source": []
  }
 ],
 "metadata": {
  "kernelspec": {
   "display_name": "Python 3 (ipykernel)",
   "language": "python",
   "name": "python3"
  },
  "language_info": {
   "codemirror_mode": {
    "name": "ipython",
    "version": 3
   },
   "file_extension": ".py",
   "mimetype": "text/x-python",
   "name": "python",
   "nbconvert_exporter": "python",
   "pygments_lexer": "ipython3",
   "version": "3.8.1"
  }
 },
 "nbformat": 4,
 "nbformat_minor": 5
}
