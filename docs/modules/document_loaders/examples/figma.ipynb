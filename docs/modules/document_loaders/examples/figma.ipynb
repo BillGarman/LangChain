{
 "cells": [
  {
   "cell_type": "markdown",
   "id": "33205b12",
   "metadata": {},
   "source": [
    "# Telegram\n",
    "\n",
    "This notebook covers how to load data from Telegram into a format that can be ingested into LangChain."
   ]
  },
  {
   "cell_type": "code",
   "execution_count": null,
   "id": "90b69c94",
   "metadata": {},
   "outputs": [
    {
     "ename": "",
     "evalue": "",
     "output_type": "error",
     "traceback": [
      "\u001b[1;31mRunning cells with '/usr/bin/python3' requires the ipykernel package.\n",
      "\u001b[1;31mRun the following command to install 'ipykernel' into the Python environment. \n",
      "\u001b[1;31mCommand: '/usr/bin/python3 -m pip install ipykernel -U --user --force-reinstall'"
     ]
    }
   ],
   "source": [
    "import os\n",
    "\n",
    "from langchain.document_loaders import FigmaFileLoader"
   ]
  },
  {
   "cell_type": "code",
   "execution_count": 2,
   "id": "13deb0f5",
   "metadata": {},
   "outputs": [],
   "source": [
    "loader = FigmaFileLoader(\n",
    "    os.environ.get('ACCESS_TOKEM'),\n",
    "    os.environ.get('NODE_IDS'),\n",
    "    os.environ.get('FILE_KEY')\n",
    ")"
   ]
  },
  {
   "cell_type": "code",
   "execution_count": null,
   "id": "9ccc1e2f",
   "metadata": {},
   "outputs": [
    {
     "data": {
      "text/plain": [
       "[Document(page_content=\"Henry on 2020-01-01T00:00:02: It's 2020...\\n\\nHenry on 2020-01-01T00:00:04: Fireworks!\\n\\nGrace ðŸ§¤ ðŸ\\x8d’ on 2020-01-01T00:00:05: You're a minute late!\\n\\n\", lookup_str='', metadata={'source': 'example_data/telegram.json'}, lookup_index=0)]"
      ]
     },
     "execution_count": 3,
     "metadata": {},
     "output_type": "execute_result"
    }
   ],
   "source": [
    "loader.load()"
   ]
  },
  {
   "cell_type": "code",
   "execution_count": null,
   "id": "3e64cac2",
   "metadata": {},
   "outputs": [],
   "source": []
  }
 ],
 "metadata": {
  "kernelspec": {
   "display_name": "Python 3 (ipykernel)",
   "language": "python",
   "name": "python3"
  },
  "language_info": {
   "codemirror_mode": {
    "name": "ipython",
    "version": 3
   },
   "file_extension": ".py",
   "mimetype": "text/x-python",
   "name": "python",
   "nbconvert_exporter": "python",
   "pygments_lexer": "ipython3",
   "version": "3.9.6"
  }
 },
 "nbformat": 4,
 "nbformat_minor": 5
}
