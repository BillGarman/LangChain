{
 "cells": [
  {
   "attachments": {},
   "cell_type": "markdown",
   "metadata": {},
   "source": [
    "# Paged PDF Splitter\n",
    "\n",
    "This notebook shows how to load a PDF file with the `PagedPDFSplitter`, which \n",
    "uses the [pypdf](https://github.com/mstamy2/PyPDF2) library to read a \n",
    "PDF file. **Note this reads & splits.** \n",
    "\n",
    "## Compared with other PDF Reader\n",
    "Compared with the `unstructured` PDF reader, this one is local\n",
    "and does not require an model - it just extracts text. This means it will\n",
    "not work for scanned documents or PDFs containing images of text."
   ]
  },
  {
   "cell_type": "code",
   "execution_count": null,
   "metadata": {},
   "outputs": [],
   "source": [
    "from langchain.document_loaders import PagedPDFSplitter\n",
    "\n",
    "loader = PagedPDFSplitter(chunk_size=250)\n",
    "splits, metadatas = loader.load_and_split(\n",
    "    \"examples/example_data/layout-parser-paper.pdf\"\n",
    ")"
   ]
  },
  {
   "attachments": {},
   "cell_type": "markdown",
   "metadata": {},
   "source": [
    "## Using with document retrieval\n",
    "\n",
    "An advantage of this approach is that documents can be retrieved with page numbers."
   ]
  },
  {
   "cell_type": "code",
   "execution_count": null,
   "metadata": {},
   "outputs": [],
   "source": [
    "from langchain.vectorstores import FAISS\n",
    "from langchain.embeddings.openai import OpenAIEmbeddings\n",
    "\n",
    "faiss_index = FAISS.from_texts(splits, OpenAIEmbeddings(), metadatas=metadatas)\n",
    "docs = faiss_index.similarity_search(\"How will the community be engaged?\", k=2)\n",
    "for doc in docs:\n",
    "    print(doc.metadata[\"pages\"] + \":\", doc.page_content)"
   ]
  }
 ],
 "metadata": {
  "kernelspec": {
   "display_name": "Python 3 (ipykernel)",
   "language": "python",
   "name": "python3"
  },
  "language_info": {
   "codemirror_mode": {
    "name": "ipython",
    "version": 3
   },
   "file_extension": ".py",
   "mimetype": "text/x-python",
   "name": "python",
   "nbconvert_exporter": "python",
   "pygments_lexer": "ipython3",
   "version": "3.11.0"
  },
  "orig_nbformat": 4,
  "vscode": {
   "interpreter": {
    "hash": "5c7b89af1651d0b8571dde13640ecdccf7d5a6204171d6ab33e7c296e100e08a"
   }
  }
 },
 "nbformat": 4,
 "nbformat_minor": 2
}
