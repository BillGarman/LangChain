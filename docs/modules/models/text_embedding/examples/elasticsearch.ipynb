{
  "nbformat": 4,
  "nbformat_minor": 0,
  "metadata": {
    "colab": {
      "provenance": []
    },
    "kernelspec": {
      "name": "python3",
      "display_name": "Python 3"
    },
    "language_info": {
      "name": "python"
    }
  },
  "cells": [
    {
      "cell_type": "markdown",
      "source": [
        "# Testing ElasticsearchEmbeddings\n",
        "This will allow you to test test generating embeddings using a hosted embedding model in Elasticsearch\n",
        "\n",
        "\n",
        "- You can use `from_credentials` if you are using Elastic Cloud\n",
        "- You can use `from_es_connection` with any Elasticsearch cluster, you will need to have host url:port"
      ],
      "metadata": {
        "id": "1eZl1oaVUNeC"
      }
    },
    {
      "cell_type": "code",
      "source": [
        "!pip -q install elasticsearch langchain"
      ],
      "metadata": {
        "id": "6dJxqebov4eU"
      },
      "execution_count": null,
      "outputs": []
    },
    {
      "cell_type": "code",
      "source": [
        "import elasticsearch\n",
        "from langchain.embeddings.elasticsearch import ElasticsearchEmbeddings"
      ],
      "metadata": {
        "id": "RV7C3DUmv4aq"
      },
      "execution_count": null,
      "outputs": []
    },
    {
      "cell_type": "code",
      "source": [
        "# Define the model ID\n",
        "model_id = 'your_model_id'"
      ],
      "metadata": {
        "id": "MrT3jplJvp09"
      },
      "execution_count": null,
      "outputs": []
    },
    {
      "cell_type": "markdown",
      "source": [
        "# Testing with `from_credentials`\n",
        "This required an Elastic Cloud `cloud_id`"
      ],
      "metadata": {
        "id": "j5F-nwLVS_Zu"
      }
    },
    {
      "cell_type": "code",
      "source": [
        "# Instantiate ElasticsearchEmbeddings using credentials\n",
        "embeddings = ElasticsearchEmbeddings.from_credentials(\n",
        "    model_id,\n",
        "    es_cloud_id='your_cloud_id', \n",
        "    es_user='your_user', \n",
        "    es_password='your_password'\n",
        ")\n"
      ],
      "metadata": {
        "id": "svtdnC-dvpxR"
      },
      "execution_count": null,
      "outputs": []
    },
    {
      "cell_type": "code",
      "source": [
        "# Create embeddings for multiple documents\n",
        "documents = [\n",
        "    'This is an example document.', \n",
        "    'Another example document to generate embeddings for.'\n",
        "]\n",
        "document_embeddings = embeddings.embed_documents(documents)\n"
      ],
      "metadata": {
        "id": "7DXZAK7Kvpth"
      },
      "execution_count": null,
      "outputs": []
    },
    {
      "cell_type": "code",
      "source": [
        "# Print document embeddings\n",
        "for i, embedding in enumerate(document_embeddings):\n",
        "    print(f\"Embedding for document {i+1}: {embedding}\")\n"
      ],
      "metadata": {
        "id": "K8ra75W_vpqy"
      },
      "execution_count": null,
      "outputs": []
    },
    {
      "cell_type": "code",
      "source": [
        "# Create an embedding for a single query\n",
        "query = 'This is a single query.'\n",
        "query_embedding = embeddings.embed_query(query)\n"
      ],
      "metadata": {
        "id": "V4Q5kQo9vpna"
      },
      "execution_count": null,
      "outputs": []
    },
    {
      "cell_type": "code",
      "source": [
        "# Print query embedding\n",
        "print(f\"Embedding for query: {query_embedding}\")\n"
      ],
      "metadata": {
        "id": "O0oQDzGKvpkz"
      },
      "execution_count": null,
      "outputs": []
    },
    {
      "cell_type": "markdown",
      "source": [
        "#Testing with Existing Elasticsearch client connection\n",
        "This can be used with any Elasticsearch deployment"
      ],
      "metadata": {
        "id": "rHN03yV6TJ5q"
      }
    },
    {
      "cell_type": "code",
      "source": [
        "# Create Elasticsearch connection\n",
        "es_connection = Elasticsearch(\n",
        "    hosts=['https://es_cluster_url:port'], \n",
        "    basic_auth=('user', 'password')\n",
        ")"
      ],
      "metadata": {
        "id": "GMQcJDwBTJFm"
      },
      "execution_count": null,
      "outputs": []
    },
    {
      "cell_type": "code",
      "source": [
        "# Instantiate ElasticsearchEmbeddings using es_connection\n",
        "embeddings = ElasticsearchEmbeddings.from_es_connection(\n",
        "  model_id,\n",
        "  es_connection,\n",
        ")"
      ],
      "metadata": {
        "id": "WTYIU4u3TJO1"
      },
      "execution_count": null,
      "outputs": []
    },
    {
      "cell_type": "code",
      "source": [
        "# Create embeddings for multiple documents\n",
        "documents = [\n",
        "    'This is an example document.', \n",
        "    'Another example document to generate embeddings for.'\n",
        "]\n",
        "document_embeddings = embeddings.embed_documents(documents)\n"
      ],
      "metadata": {
        "id": "4gdAUHwoTJO3"
      },
      "execution_count": null,
      "outputs": []
    },
    {
      "cell_type": "code",
      "source": [
        "# Print document embeddings\n",
        "for i, embedding in enumerate(document_embeddings):\n",
        "    print(f\"Embedding for document {i+1}: {embedding}\")\n"
      ],
      "metadata": {
        "id": "RC_-tov6TJO3"
      },
      "execution_count": null,
      "outputs": []
    },
    {
      "cell_type": "code",
      "source": [
        "# Create an embedding for a single query\n",
        "query = 'This is a single query.'\n",
        "query_embedding = embeddings.embed_query(query)\n"
      ],
      "metadata": {
        "id": "6GEnHBqETJO3"
      },
      "execution_count": null,
      "outputs": []
    },
    {
      "cell_type": "code",
      "source": [
        "# Print query embedding\n",
        "print(f\"Embedding for query: {query_embedding}\")\n"
      ],
      "metadata": {
        "id": "-kyUQAXDTJO4"
      },
      "execution_count": null,
      "outputs": []
    }
  ]
}