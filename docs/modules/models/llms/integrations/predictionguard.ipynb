{
  "nbformat": 4,
  "nbformat_minor": 0,
  "metadata": {
    "colab": {
      "provenance": []
    },
    "kernelspec": {
      "name": "python3",
      "display_name": "Python 3"
    },
    "language_info": {
      "name": "python"
    }
  },
  "cells": [
    {
      "cell_type": "code",
      "execution_count": null,
      "metadata": {
        "id": "3RqWPav7AtKL"
      },
      "outputs": [],
      "source": [
        "! pip install predictionguard langchain"
      ]
    },
    {
      "cell_type": "code",
      "source": [
        "import predictionguard as pg\n",
        "from langchain.llms import PredictionGuard"
      ],
      "metadata": {
        "id": "2xe8JEUwA7_y"
      },
      "execution_count": null,
      "outputs": []
    },
    {
      "cell_type": "markdown",
      "source": [
        "# Basic LLM usage\n",
        "\n"
      ],
      "metadata": {
        "id": "mesCTyhnJkNS"
      }
    },
    {
      "cell_type": "code",
      "source": [
        "pgllm = PredictionGuard(name=\"default-text-gen\", token=\"<your access token>\")"
      ],
      "metadata": {
        "id": "Ua7Mw1N4HcER"
      },
      "execution_count": null,
      "outputs": []
    },
    {
      "cell_type": "code",
      "source": [
        "pgllm(\"Tell me a joke\")"
      ],
      "metadata": {
        "id": "Qo2p5flLHxrB"
      },
      "execution_count": null,
      "outputs": []
    },
    {
      "cell_type": "markdown",
      "source": [
        "# Chaining"
      ],
      "metadata": {
        "id": "v3MzIUItJ8kV"
      }
    },
    {
      "cell_type": "code",
      "source": [
        "from langchain import PromptTemplate, LLMChain"
      ],
      "metadata": {
        "id": "pPegEZExILrT"
      },
      "execution_count": null,
      "outputs": []
    },
    {
      "cell_type": "code",
      "source": [
        "template = \"\"\"Question: {question}\n",
        "\n",
        "Answer: Let's think step by step.\"\"\"\n",
        "prompt = PromptTemplate(template=template, input_variables=[\"question\"])\n",
        "llm_chain = LLMChain(prompt=prompt, llm=pgllm, verbose=True)\n",
        "\n",
        "question = \"What NFL team won the Super Bowl in the year Justin Beiber was born?\"\n",
        "\n",
        "llm_chain.predict(question=question)"
      ],
      "metadata": {
        "id": "suxw62y-J-bg"
      },
      "execution_count": null,
      "outputs": []
    },
    {
      "cell_type": "code",
      "source": [
        "template = \"\"\"Write a {adjective} poem about {subject}.\"\"\"\n",
        "prompt = PromptTemplate(template=template, input_variables=[\"adjective\", \"subject\"])\n",
        "llm_chain = LLMChain(prompt=prompt, llm=pgllm, verbose=True)\n",
        "\n",
        "llm_chain.predict(adjective=\"sad\", subject=\"ducks\")"
      ],
      "metadata": {
        "id": "l2bc26KHKr7n"
      },
      "execution_count": null,
      "outputs": []
    },
    {
      "cell_type": "code",
      "source": [],
      "metadata": {
        "id": "I--eSa2PLGqq"
      },
      "execution_count": null,
      "outputs": []
    }
  ]
}