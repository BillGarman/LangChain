{
 "cells": [
  {
   "attachments": {},
   "cell_type": "markdown",
   "metadata": {},
   "source": [
    "# Local Huggingface Endpoint\n",
    "\n",
    "The idea of local HF endpoint is to interact with a LLM hosted on a cloud/personnal machine similarly to classical HF endpoints.\n",
    "\n",
    "This notebooks goes over how to use a local HF endpoint (setting up on the same hardware for the example)."
   ]
  },
  {
   "attachments": {},
   "cell_type": "markdown",
   "metadata": {},
   "source": [
    "## Simple HF endpoint\n",
    "\n",
    "Here is a simple HF endpoint set up with fastapi."
   ]
  },
  {
   "cell_type": "code",
   "execution_count": null,
   "metadata": {},
   "outputs": [],
   "source": [
    "!pip install fastapi\n",
    "!pip install uvicorn"
   ]
  },
  {
   "cell_type": "code",
   "execution_count": null,
   "metadata": {},
   "outputs": [],
   "source": [
    "RUN_API = False # You should run the code in a parallel script"
   ]
  },
  {
   "attachments": {},
   "cell_type": "markdown",
   "metadata": {},
   "source": [
    "### schema.py"
   ]
  },
  {
   "cell_type": "code",
   "execution_count": null,
   "metadata": {},
   "outputs": [],
   "source": [
    "\"\"\"\n",
    "Schemas for the Text API.\n",
    "\"\"\"\n",
    "\n",
    "from typing import Any, Dict, List, Optional, Union\n",
    "\n",
    "from pydantic import BaseModel\n",
    "\n",
    "\n",
    "class TextCompletionRequest(BaseModel):\n",
    "    \"\"\"\n",
    "    A text completion request.\n",
    "    \"\"\"\n",
    "    inputs: Union[str, List[str]]\n",
    "    model_kwargs: Optional[Dict[str, Any]] = {\n",
    "        \"max_new_tokens\": 50,\n",
    "        \"num_return_sequences\": 1,\n",
    "        \"temperature\": 1,\n",
    "        \"early_stopping\": True,\n",
    "    }"
   ]
  },
  {
   "attachments": {},
   "cell_type": "markdown",
   "metadata": {},
   "source": [
    "### main.py"
   ]
  },
  {
   "cell_type": "code",
   "execution_count": null,
   "metadata": {},
   "outputs": [],
   "source": [
    "import logging\n",
    "\n",
    "from fastapi import FastAPI, status\n",
    "from fastapi.exceptions import HTTPException\n",
    "from transformers import pipeline\n",
    "\n",
    "import uvicorn\n",
    "\n",
    "app = FastAPI()\n",
    "model = None\n",
    "\n",
    "@app.on_event(\"startup\")\n",
    "async def startup_event():\n",
    "    \"\"\"\n",
    "    Startup hook event.\n",
    "    \"\"\"\n",
    "    global model\n",
    "    logger = logging.getLogger(\"uvicorn\")\n",
    "    logger.info(\"Starting up...\")\n",
    "    logger.info(\"Loading model...\")\n",
    "    model = pipeline('text-generation', model='gpt2')\n",
    "    logger.info(\"Model loaded!\")\n",
    "\n",
    "@app.post(\n",
    "    \"/completion\",\n",
    "    status_code=status.HTTP_200_OK,\n",
    "    summary=\"Text completion\",\n",
    "    responses={\n",
    "        status.HTTP_500_INTERNAL_SERVER_ERROR: {\n",
    "            \"description\": \"Could not compute prediction\",\n",
    "        },\n",
    "    },\n",
    ")\n",
    "def completion(request: TextCompletionRequest):\n",
    "    try:\n",
    "        completion_response = model(\n",
    "            request.inputs,\n",
    "            **request.model_kwargs,\n",
    "        )\n",
    "    except Exception as e:\n",
    "        raise HTTPException(\n",
    "            status_code=status.HTTP_500_INTERNAL_SERVER_ERROR,\n",
    "            detail=f\"Could not compute prediction: {e}\",\n",
    "        )\n",
    "    return completion_response\n",
    "    \n",
    "\n",
    "if RUN_API:\n",
    "    uvicorn.run(app, host=\"0.0.0.0\", port=8000)"
   ]
  },
  {
   "attachments": {},
   "cell_type": "markdown",
   "metadata": {},
   "source": [
    "## Final use case"
   ]
  },
  {
   "cell_type": "code",
   "execution_count": null,
   "metadata": {},
   "outputs": [],
   "source": [
    "from langchain.llms import LocalHuggingFaceEndpoint\n",
    "\n",
    "endpoint_url = \"http://localhost:8000/completion\"\n",
    "llm = LocalHuggingFaceEndpoint(\n",
    "    endpoint_url=endpoint_url,\n",
    "    headers = {\"Content-Type\": \"application/json\"}\n",
    ")\n",
    "llm(\"Say 'hello':\")"
   ]
  }
 ],
 "metadata": {
  "kernelspec": {
   "display_name": "Python 3 (ipykernel)",
   "language": "python",
   "name": "python3"
  },
  "language_info": {
   "codemirror_mode": {
    "name": "ipython",
    "version": 3
   },
   "file_extension": ".py",
   "mimetype": "text/x-python",
   "name": "python",
   "nbconvert_exporter": "python",
   "pygments_lexer": "ipython3",
   "version": "3.11.3"
  },
  "vscode": {
   "interpreter": {
    "hash": "31f2aee4e71d21fbe5cf8b01ff0e069b9275f58929596ceb00d14d90e3e16cd6"
   }
  }
 },
 "nbformat": 4,
 "nbformat_minor": 4
}
