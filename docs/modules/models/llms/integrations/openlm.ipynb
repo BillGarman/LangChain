{
 "cells": [
  {
   "cell_type": "markdown",
   "metadata": {},
   "source": [
    "# OpenLM\n",
    "[OpenLM](https://github.com/r2d4/openlm) is a zero-dependency OpenAI-compatible LLM provider that can call different inference endpoints directly via HTTP. \n",
    "\n",
    "\n",
    "It implements the OpenAI Completion class so that it can be used as a drop-in replacement for the OpenAI API. This changeset utilizes BaseOpenAI for minimal added code.\n",
    "\n",
    "This examples goes over how to use LangChain to interact with both OpenAI and HuggingFace. You'll need API keys from both."
   ]
  },
  {
   "cell_type": "markdown",
   "metadata": {},
   "source": [
    "### Setup\n",
    "Install dependencies and set API keys."
   ]
  },
  {
   "cell_type": "code",
   "execution_count": null,
   "metadata": {},
   "outputs": [],
   "source": [
    "# Uncomment to install openlm and openai if you haven't already\n",
    "\n",
    "# !pip install openlm\n",
    "# !pip install openai"
   ]
  },
  {
   "cell_type": "code",
   "execution_count": null,
   "metadata": {},
   "outputs": [],
   "source": [
    "from getpass import getpass\n",
    "import os\n",
    "import subprocess\n",
    "\n",
    "\n",
    "# Check if OPENAI_API_KEY environment variable is set\n",
    "if \"OPENAI_API_KEY\" not in os.environ:\n",
    "    print(\"Enter your OpenAI API key:\")\n",
    "    os.environ[\"OPENAI_API_KEY\"] = getpass()\n",
    "\n",
    "# Check if HF_API_TOKEN environment variable is set\n",
    "if \"HF_API_TOKEN\" not in os.environ:\n",
    "    print(\"Enter your HuggingFace Hub API key:\")\n",
    "    os.environ[\"HF_API_TOKEN\"] = getpass()\n"
   ]
  },
  {
   "cell_type": "markdown",
   "metadata": {},
   "source": [
    "### Using LangChain with OpenLM\n",
    "\n",
    "Here we're going to call two models in an LLMChain, `text-davinci-003` from OpenAI and `gpt2` on HuggingFace."
   ]
  },
  {
   "cell_type": "code",
   "execution_count": null,
   "metadata": {},
   "outputs": [],
   "source": [
    "from langchain.llms import OpenLM\n",
    "from langchain import PromptTemplate, LLMChain"
   ]
  },
  {
   "cell_type": "code",
   "execution_count": 3,
   "metadata": {},
   "outputs": [
    {
     "name": "stdout",
     "output_type": "stream",
     "text": [
      "Choices [{'id': '13807ea7-c2f7-4f6a-a5bb-a21490d8622c', 'model_name': 'openai.com/text-davinci-003', 'created': 1684788067, 'text': ' First, what country are we looking for the capital of? France. The capital of France is Paris.', 'usage': {'prompt_tokens': 20, 'completion_tokens': 21, 'total_tokens': 41}, 'extra': {'id': 'cmpl-7J6cySQCqXIvWNhkeiaGEaezMfme3'}}]\n",
      "Model: text-davinci-003\n",
      "Result:  First, what country are we looking for the capital of? France. The capital of France is Paris.\n",
      "Choices [{'id': '5a824a67-4020-4a9b-b09b-b1f8ee61e907', 'model_name': 'huggingface.co/gpt2', 'created': 1684788067, 'text': \"Question: What is the capital of France?\\n\\nAnswer: Let's think step by step. I am not going to lie, this is a complicated issue, and I don't see any solutions to all this, but it is still far more\"}]\n",
      "Model: huggingface.co/gpt2\n",
      "Result: Question: What is the capital of France?\n",
      "\n",
      "Answer: Let's think step by step. I am not going to lie, this is a complicated issue, and I don't see any solutions to all this, but it is still far more\n"
     ]
    }
   ],
   "source": [
    "question = \"What is the capital of France?\"\n",
    "template = \"\"\"Question: {question}\n",
    "\n",
    "Answer: Let's think step by step.\"\"\"\n",
    "\n",
    "prompt = PromptTemplate(template=template, input_variables=[\"question\"])\n",
    "\n",
    "for model in [\"text-davinci-003\", \"huggingface.co/gpt2\"]:\n",
    "    llm = OpenLM(model=model)\n",
    "    llm_chain = LLMChain(prompt=prompt, llm=llm)\n",
    "    result = llm_chain.run(question)\n",
    "    print(\"\"\"Model: {}\n",
    "Result: {}\"\"\".format(model, result))"
   ]
  }
 ],
 "metadata": {
  "kernelspec": {
   "display_name": "Python 3 (ipykernel)",
   "language": "python",
   "name": "python3"
  },
  "language_info": {
   "codemirror_mode": {
    "name": "ipython",
    "version": 3
   },
   "file_extension": ".py",
   "mimetype": "text/x-python",
   "name": "python",
   "nbconvert_exporter": "python",
   "pygments_lexer": "ipython3",
   "version": "3.11.3"
  }
 },
 "nbformat": 4,
 "nbformat_minor": 2
}
