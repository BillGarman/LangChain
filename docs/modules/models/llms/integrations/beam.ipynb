{
  "nbformat": 4,
  "nbformat_minor": 0,
  "metadata": {
    "colab": {
      "private_outputs": true,
      "provenance": []
    },
    "kernelspec": {
      "name": "python3",
      "display_name": "Python 3"
    },
    "language_info": {
      "name": "python"
    },
    "gpuClass": "standard"
  },
  "cells": [
    {
      "cell_type": "markdown",
      "source": [
        "# Beam integration for langchain\n",
        "\n",
        "Calls the Beam API wrapper to deply and make subsequent calls to an instance of the gpt2 LLM in a cloud deployment. Requires installation of the Beam library and registration of Beam Client ID and Client Secret. By calling the wrapper an instance of the model is created and run, with returned text relating to the prompt. Additional calls can then be made by directly calling the Beam API.\n",
        "\n",
        "[Create an account](https://www.beam.cloud/), if you don't have one already. Grab your API keys from the [dashboard](https://www.beam.cloud/dashboard/settings/api-keys)."
      ],
      "metadata": {
        "id": "J-yvaDTmTTza"
      }
    },
    {
      "cell_type": "markdown",
      "source": [
        "Install the Beam CLI"
      ],
      "metadata": {
        "id": "CfTmesWtTfTS"
      }
    },
    {
      "cell_type": "code",
      "execution_count": null,
      "metadata": {
        "id": "G_tCCurqR7Ik"
      },
      "outputs": [],
      "source": [
        "!curl https://raw.githubusercontent.com/slai-labs/get-beam/main/get-beam.sh -sSfL | sh"
      ]
    },
    {
      "cell_type": "markdown",
      "source": [
        "Register API Keys and set your beam client id and secret environment variables:"
      ],
      "metadata": {
        "id": "jJkcNqOdThQ7"
      }
    },
    {
      "cell_type": "code",
      "source": [
        "import os\n",
        "import subprocess\n",
        "\n",
        "beam_client_id = \"<Your beam client id>\"\n",
        "beam_client_secret = \"<Your beam client secret>\"\n",
        "\n",
        "# Set the environment variables\n",
        "os.environ['BEAM_CLIENT_ID'] = beam_client_id\n",
        "os.environ['BEAM_CLIENT_SECRET'] = beam_client_secret\n",
        "\n",
        "# Run the beam configure command\n",
        "!beam configure --clientId={beam_client_id} --clientSecret={beam_client_secret}"
      ],
      "metadata": {
        "id": "7gQd6fszSEaH"
      },
      "execution_count": null,
      "outputs": []
    },
    {
      "cell_type": "markdown",
      "source": [
        "Install the Beam SDK:"
      ],
      "metadata": {
        "id": "c20rkK18TrK2"
      }
    },
    {
      "cell_type": "code",
      "source": [
        "!pip install beam-sdk"
      ],
      "metadata": {
        "id": "CH2Vop6ISNIf"
      },
      "execution_count": null,
      "outputs": []
    },
    {
      "cell_type": "markdown",
      "source": [
        "Install langchain"
      ],
      "metadata": {
        "id": "OHMfkvLETtvO"
      }
    },
    {
      "cell_type": "code",
      "source": [
        "!git clone https://github.com/NolanTrem/langchain.git\n",
        "!cd langchain && git checkout beam"
      ],
      "metadata": {
        "id": "Yb4aTwJySPQk"
      },
      "execution_count": null,
      "outputs": []
    },
    {
      "cell_type": "code",
      "source": [
        "import sys\n",
        "sys.path.append('/content/langchain/')\n",
        "!pip install /content/langchain/"
      ],
      "metadata": {
        "id": "8g8ZQBzYSRlD"
      },
      "execution_count": null,
      "outputs": []
    },
    {
      "cell_type": "markdown",
      "source": [
        "**Deploy and call Beam directly from langchain!**\n",
        "\n",
        "Note that a cold start might take a couple of minutes to return the response, but subsequent calls will be faster!"
      ],
      "metadata": {
        "id": "XflOsp3bTwl1"
      }
    },
    {
      "cell_type": "code",
      "source": [
        "from langchain.llms.beam import Beam\n",
        "\n",
        "llm = Beam(model_name=\"gpt2\",\n",
        "           name=\"langchain-gpt2-test\",\n",
        "           cpu=8,\n",
        "           memory=\"32Gi\",\n",
        "           gpu=\"A10G\",\n",
        "           python_version=\"python3.8\",\n",
        "           python_packages=[\n",
        "               \"diffusers[torch]>=0.10\",\n",
        "               \"transformers\",\n",
        "               \"torch\",\n",
        "               \"pillow\",\n",
        "               \"accelerate\",\n",
        "               \"safetensors\",\n",
        "               \"xformers\",],\n",
        "           max_length=\"50\",\n",
        "           verbose=False)\n",
        "\n",
        "app_id = llm._deploy()\n",
        "\n",
        "response = llm._call(prompt=\"Running machine learning on a remote GPU\", app_id=app_id)\n",
        "\n",
        "print(response)"
      ],
      "metadata": {
        "id": "KmaHxUqbSVnh"
      },
      "execution_count": null,
      "outputs": []
    }
  ]
}