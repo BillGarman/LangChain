{
 "cells": [
  {
   "cell_type": "markdown",
   "id": "026cc336",
   "metadata": {},
   "source": [
    "# OpenLLM\n",
    "\n",
    "Open-source LLM's that is supported by [OpenLLM](https://github.com/bentoml/OpenLLM) can be run via the `OpenLLM` class.\n",
    "\n",
    "OpenLLM is a platform for operating large language models(LLMs) in production. Fine-tune, serve, deploy, and monitor any LLMs with ease.\n",
    "\n",
    "LLM can be called from LangChain through a local [Runner](https://docs.bentoml.org/en/latest/concepts/runner.html) wrapper or by calling a remote endpoint running this LLM on [BentoCloud](https://www.bentoml.com/bento-cloud/)"
   ]
  },
  {
   "cell_type": "markdown",
   "id": "da0ddca1",
   "metadata": {},
   "source": [
    "To use this, make sure to install `openllm` through [PyPI](https://pypi.org/project/openllm/)"
   ]
  },
  {
   "cell_type": "code",
   "execution_count": null,
   "id": "6601c03b",
   "metadata": {},
   "outputs": [],
   "source": [
    "!pip install openllm &>/dev/null"
   ]
  },
  {
   "cell_type": "markdown",
   "id": "df8c7206",
   "metadata": {},
   "source": [
    "### Running local Runner"
   ]
  },
  {
   "cell_type": "code",
   "execution_count": 1,
   "id": "d0a4ba8f",
   "metadata": {},
   "outputs": [
    {
     "name": "stderr",
     "output_type": "stream",
     "text": [
      "/Users/aarnphm/.pyenv/versions/3.8.16/lib/python3.8/site-packages/tqdm/auto.py:21: TqdmWarning: IProgress not found. Please update jupyter and ipywidgets. See https://ipywidgets.readthedocs.io/en/stable/user_install.html\n",
      "  from .autonotebook import tqdm as notebook_tqdm\n"
     ]
    }
   ],
   "source": [
    "from langchain.llms import OpenLLM\n",
    "\n",
    "llm = OpenLLM.for_model(model_name='dolly-v2', model_id='databricks/dolly-v2-3b', temperature=0.94, repetition_penalty=1.2)"
   ]
  },
  {
   "cell_type": "markdown",
   "id": "90174fe3",
   "metadata": {},
   "source": [
    "### Running from remote server"
   ]
  },
  {
   "cell_type": "code",
   "execution_count": null,
   "id": "35b6bf60",
   "metadata": {},
   "outputs": [],
   "source": [
    "server_url=\"<REPLACE_WITH_HOSTED_URL>\"\n",
    "server_type=\"http\" # possible options: http, grpc"
   ]
  },
  {
   "cell_type": "code",
   "execution_count": null,
   "id": "26b8c3bc",
   "metadata": {},
   "outputs": [],
   "source": [
    "llm = OpenLLM.for_model(server_url=server_url, server_type=server_type)"
   ]
  },
  {
   "cell_type": "markdown",
   "id": "f15ebe0d",
   "metadata": {},
   "source": [
    "### Integrate with a LLMChain"
   ]
  },
  {
   "cell_type": "code",
   "execution_count": 2,
   "id": "8b02a97a",
   "metadata": {},
   "outputs": [],
   "source": [
    "from langchain import PromptTemplate,  LLMChain\n",
    "\n",
    "template = \"\"\"\n",
    "Explain the following topics for a 5-year-old.\n",
    "Question: {question}\n",
    "Answer: {topic} is\"\"\"\n",
    "\n",
    "prompt = PromptTemplate(template=template, input_variables=[\"question\", 'topic'])\n",
    "\n",
    "llm_chain = LLMChain(prompt=prompt, llm=llm)\n",
    "\n",
    "topic = 'nuclear fusion'\n",
    "question = f\"What is {topic}?\"\n",
    "\n",
    "generated = llm_chain.run(question=question, topic=topic)"
   ]
  },
  {
   "cell_type": "code",
   "execution_count": 3,
   "id": "99422b4e",
   "metadata": {},
   "outputs": [
    {
     "name": "stdout",
     "output_type": "stream",
     "text": [
      "When two atomic nuclei come together, they may fuse to become one larger nucleus or they may fission into smaller fragments. When these atomic nuclei touch (fusion happens) they exchange some of their particles—neutrons for protons and electrons for another kind of particle called a neutron—and release much more energy than either formed atom possesses alone. Nuclear fusion is then what occurs when many such fusing reactions take place in the nucleus of a nucleardinish. The process releases vast amounts of energy over many orders of magnitude greater than that produced by either atomic bombs or natural radioactivity. It also results in many new atoms being created as products. \n",
      "\n",
      "Nuclear fusion plays an important role in our world. For example, powering all modern electrical generators comes from nuclear fusion; the sun gives us light through this reaction, and solar panels harness its energy too. Fusion reactors designed at Oak Ridge National Laboratory (ORNL), work using just this phenomenon while generating much electricity safely.\n"
     ]
    }
   ],
   "source": [
    "print(generated)"
   ]
  }
 ],
 "metadata": {
  "kernelspec": {
   "display_name": "Python 3 (ipykernel)",
   "language": "python",
   "name": "python3"
  },
  "language_info": {
   "codemirror_mode": {
    "name": "ipython",
    "version": 3
   },
   "file_extension": ".py",
   "mimetype": "text/x-python",
   "name": "python",
   "nbconvert_exporter": "python",
   "pygments_lexer": "ipython3",
   "version": "3.8.16"
  }
 },
 "nbformat": 4,
 "nbformat_minor": 5
}
