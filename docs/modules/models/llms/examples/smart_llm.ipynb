{
 "cells": [
  {
   "attachments": {},
   "cell_type": "markdown",
   "id": "9e9b7651",
   "metadata": {},
   "source": [
    "# How to use SmartLLMs\n",
    "\n",
    "A SmartLLM is a wrapper for an LLM that instead of directly returning an output instead follows these steps to get a better output:\n",
    "1. Ideation: Pass the prompt n times through the LLM to get n output proposals (called \"ideas\"), where n is a parameter you can set \n",
    "2. Critique: The LLM critiques all ideas to find possible flaws and picks the best one \n",
    "3. Resolve: The LLM tries to improve upon the best idea (as chosen in the critique step) and outputs it. This is then the final output.\n",
    "\n",
    "SmartLLMs are based on the SmartGPT workflow proposed in https://youtu.be/wVzuvf9D9BU.\n",
    "\n",
    "Note that SmartLLMs\n",
    "- use more LLM passes (ie n +2 instead of just 1)\n",
    "- only work then the underlying LLM has the capability for reflection, whicher smaller models often don't\n",
    "- only work with underlying models that return exactly 1 output, not multiple\n",
    "\n",
    "This notebook demonstrates how to use SmartLLMs."
   ]
  },
  {
   "attachments": {},
   "cell_type": "markdown",
   "id": "714dede0",
   "metadata": {},
   "source": [
    "##### Same LLM for all steps"
   ]
  },
  {
   "cell_type": "code",
   "execution_count": 1,
   "id": "10e5ece6",
   "metadata": {},
   "outputs": [],
   "source": [
    "from langchain.prompts import PromptTemplate\n",
    "from langchain.llms import OpenAI\n",
    "from langchain.llms.base import SmartLLM"
   ]
  },
  {
   "attachments": {},
   "cell_type": "markdown",
   "id": "8049cecd",
   "metadata": {},
   "source": [
    "We first create an LLM"
   ]
  },
  {
   "cell_type": "code",
   "execution_count": 3,
   "id": "8b1a981c",
   "metadata": {},
   "outputs": [],
   "source": [
    "llm=OpenAI(temperature=0)"
   ]
  },
  {
   "attachments": {},
   "cell_type": "markdown",
   "id": "50b602e4",
   "metadata": {},
   "source": [
    "And can then wrap it in a SmartLLM"
   ]
  },
  {
   "cell_type": "code",
   "execution_count": 5,
   "id": "8cd49199",
   "metadata": {},
   "outputs": [],
   "source": [
    "smart_llm = SmartLLM(llm=llm)"
   ]
  },
  {
   "attachments": {},
   "cell_type": "markdown",
   "id": "6a72f276",
   "metadata": {},
   "source": [
    "Now we can use the SmartLLM as a drop-in replacement for our LLM. E.g.:"
   ]
  },
  {
   "cell_type": "code",
   "execution_count": null,
   "id": "074e5e75",
   "metadata": {},
   "outputs": [],
   "source": [
    "smart_llm(\"What would be a good company name for a company that makes colorful socks?\")"
   ]
  },
  {
   "attachments": {},
   "cell_type": "markdown",
   "id": "bbfebea1",
   "metadata": {},
   "source": [
    "##### Different LLM for different steps"
   ]
  },
  {
   "attachments": {},
   "cell_type": "markdown",
   "id": "5be6ec08",
   "metadata": {},
   "source": [
    "You can also use different LLMs for the different steps by passing `ideation_llm`, `critique_llm` and `resolve_llm`. You might want to do this to use a more creative (i.e., high-temperature) model for ideation and a more strict (i.e., low-temperature) model for critique and resolution."
   ]
  },
  {
   "cell_type": "code",
   "execution_count": 11,
   "id": "9c33fa19",
   "metadata": {},
   "outputs": [],
   "source": [
    "smart_llm = SmartLLM(\n",
    "    ideation_llm=OpenAI(temperature=0.9),\n",
    "    llm=OpenAI(temperature=0)   # will be used for critqiue and resolution as no specific llms are given \n",
    ")"
   ]
  },
  {
   "cell_type": "code",
   "execution_count": null,
   "id": "6dac3f47",
   "metadata": {},
   "outputs": [],
   "source": []
  }
 ],
 "metadata": {
  "kernelspec": {
   "display_name": "Python 3 (ipykernel)",
   "language": "python",
   "name": "python3"
  },
  "language_info": {
   "codemirror_mode": {
    "name": "ipython",
    "version": 3
   },
   "file_extension": ".py",
   "mimetype": "text/x-python",
   "name": "python",
   "nbconvert_exporter": "python",
   "pygments_lexer": "ipython3",
   "version": "3.11.0"
  }
 },
 "nbformat": 4,
 "nbformat_minor": 5
}
