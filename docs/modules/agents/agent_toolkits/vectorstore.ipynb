{
 "cells": [
  {
   "cell_type": "markdown",
   "id": "18ada398-dce6-4049-9b56-fc0ede63da9c",
   "metadata": {},
   "source": [
    "# Vectorstore Agent\n",
    "\n",
    "This notebook showcases an agent designed to retrieve information from one or more vectorstores, either with or without sources."
   ]
  },
  {
   "cell_type": "markdown",
   "id": "eecb683b-3a46-4b9d-81a3-7caefbfec1a1",
   "metadata": {},
   "source": [
    "## Create the Vectorstores"
   ]
  },
  {
   "cell_type": "code",
   "execution_count": 6,
   "id": "9bfd0ed8-a5eb-443e-8e92-90be8cabb0a7",
   "metadata": {
    "tags": []
   },
   "outputs": [],
   "source": [
    "from langchain.embeddings.openai import OpenAIEmbeddings\n",
    "from langchain.vectorstores import Chroma\n",
    "from langchain.text_splitter import CharacterTextSplitter\n",
    "from langchain import OpenAI, VectorDBQA\n",
    "llm = OpenAI(temperature=0)"
   ]
  },
  {
   "cell_type": "code",
   "execution_count": 7,
   "id": "345bb078-4ec1-4e3a-827b-cd238c49054d",
   "metadata": {
    "tags": []
   },
   "outputs": [
    {
     "name": "stdout",
     "output_type": "stream",
     "text": [
      "Running Chroma using direct local API.\n",
      "Using DuckDB in-memory for database. Data will be transient.\n"
     ]
    }
   ],
   "source": [
    "from langchain.document_loaders import TextLoader\n",
    "loader = TextLoader('../../state_of_the_union.txt')\n",
    "documents = loader.load()\n",
    "text_splitter = CharacterTextSplitter(chunk_size=1000, chunk_overlap=0)\n",
    "texts = text_splitter.split_documents(documents)\n",
    "\n",
    "embeddings = OpenAIEmbeddings()\n",
    "state_of_union_store = Chroma.from_documents(texts, embeddings, collection_name=\"state-of-union\")"
   ]
  },
  {
   "cell_type": "code",
   "execution_count": 8,
   "id": "5f50eb82-e1a5-4252-8306-8ec1b478d9b4",
   "metadata": {
    "tags": []
   },
   "outputs": [
    {
     "name": "stdout",
     "output_type": "stream",
     "text": [
      "Running Chroma using direct local API.\n",
      "Using DuckDB in-memory for database. Data will be transient.\n"
     ]
    }
   ],
   "source": [
    "from langchain.document_loaders import WebBaseLoader\n",
    "loader = WebBaseLoader(\"https://beta.ruff.rs/docs/faq/\")\n",
    "docs = loader.load()\n",
    "ruff_texts = text_splitter.split_documents(docs)\n",
    "ruff_store = Chroma.from_documents(ruff_texts, embeddings, collection_name=\"ruff\")"
   ]
  },
  {
   "cell_type": "markdown",
   "id": "f4814175-964d-42f1-aa9d-22801ce1e912",
   "metadata": {},
   "source": [
    "## Initalize Toolkit and Agent"
   ]
  },
  {
   "cell_type": "code",
   "execution_count": 9,
   "id": "815c4f39-308d-4949-b992-1361036e6e09",
   "metadata": {
    "tags": []
   },
   "outputs": [
    {
     "name": "stdout",
     "output_type": "stream",
     "text": [
      "Exiting: Cleaning up .chroma directory\n",
      "Exiting: Cleaning up .chroma directory\n"
     ]
    }
   ],
   "source": [
    "from langchain.agents.agent_toolkits import (\n",
    "    create_vectorstore_agent,\n",
    "    NamedVectorStore,\n",
    "    VectorStoreToolkit,\n",
    ")\n",
    "\n",
    "toolkit = VectorStoreToolkit(\n",
    "    vectorstores=[\n",
    "        NamedVectorStore(\n",
    "            name=\"state_of_union_address\",\n",
    "            vectorstore=state_of_union_store\n",
    "        ),\n",
    "        NamedVectorStore(\n",
    "            name=\"ruff_python_linter\",\n",
    "            vectorstore=ruff_store\n",
    "        ),\n",
    "    ],\n",
    "    llm=llm\n",
    ")\n",
    "agent_executor = create_vectorstore_agent(\n",
    "    llm=llm,\n",
    "    toolkit=toolkit,\n",
    "    verbose=True\n",
    ")"
   ]
  },
  {
   "cell_type": "markdown",
   "id": "71680984-edaf-4a63-90f5-94edbd263550",
   "metadata": {},
   "source": [
    "## Examples"
   ]
  },
  {
   "cell_type": "code",
   "execution_count": 10,
   "id": "3cd1bf3e-e3df-4e69-bbe1-71c64b1af947",
   "metadata": {
    "tags": []
   },
   "outputs": [
    {
     "name": "stdout",
     "output_type": "stream",
     "text": [
      "\n",
      "\n",
      "\u001b[1m> Entering new AgentExecutor chain...\u001b[0m\n",
      "\u001b[32;1m\u001b[1;3m I need to find the answer in the state of the union address\n",
      "Action: state_of_union_address\n",
      "Action Input: What did biden say about ketanji brown jackson\u001b[0m\n",
      "Observation: \u001b[36;1m\u001b[1;3m Biden said that Ketanji Brown Jackson is one of the nation's top legal minds and that she will continue Justice Breyer's legacy of excellence.\u001b[0m\n",
      "Thought:\u001b[32;1m\u001b[1;3m I now know the final answer\n",
      "Final Answer: Biden said that Ketanji Brown Jackson is one of the nation's top legal minds and that she will continue Justice Breyer's legacy of excellence.\u001b[0m\n",
      "\n",
      "\u001b[1m> Finished chain.\u001b[0m\n"
     ]
    },
    {
     "data": {
      "text/plain": [
       "\"Biden said that Ketanji Brown Jackson is one of the nation's top legal minds and that she will continue Justice Breyer's legacy of excellence.\""
      ]
     },
     "execution_count": 10,
     "metadata": {},
     "output_type": "execute_result"
    }
   ],
   "source": [
    "agent_executor.run(\"What did biden say about ketanji brown jackson is the state of the union address?\")"
   ]
  },
  {
   "cell_type": "code",
   "execution_count": 11,
   "id": "502fa2ad-8396-4438-a301-a45e7b03a8db",
   "metadata": {
    "tags": []
   },
   "outputs": [
    {
     "name": "stdout",
     "output_type": "stream",
     "text": [
      "\n",
      "\n",
      "\u001b[1m> Entering new AgentExecutor chain...\u001b[0m\n",
      "\u001b[32;1m\u001b[1;3m I need to use the state_of_union_address_with_sources tool to answer this question.\n",
      "Action: state_of_union_address_with_sources\n",
      "Action Input: What did biden say about ketanji brown jackson\u001b[0m\n",
      "Observation: \u001b[33;1m\u001b[1;3m{\"answer\": \" Biden said that he nominated Circuit Court of Appeals Judge Ketanji Brown Jackson, one of the nation's top legal minds, to continue Justice Breyer's legacy of excellence.\\n\", \"sources\": \"../../state_of_the_union.txt\"}\u001b[0m\n",
      "Thought:\u001b[32;1m\u001b[1;3m I now know the final answer\n",
      "Final Answer: Biden said that he nominated Circuit Court of Appeals Judge Ketanji Brown Jackson, one of the nation's top legal minds, to continue Justice Breyer's legacy of excellence. Source: ../../state_of_the_union.txt\u001b[0m\n",
      "\n",
      "\u001b[1m> Finished chain.\u001b[0m\n"
     ]
    },
    {
     "data": {
      "text/plain": [
       "\"Biden said that he nominated Circuit Court of Appeals Judge Ketanji Brown Jackson, one of the nation's top legal minds, to continue Justice Breyer's legacy of excellence. Source: ../../state_of_the_union.txt\""
      ]
     },
     "execution_count": 11,
     "metadata": {},
     "output_type": "execute_result"
    }
   ],
   "source": [
    "agent_executor.run(\"What did biden say about ketanji brown jackson is the state of the union address? List the source.\")"
   ]
  },
  {
   "cell_type": "code",
   "execution_count": 14,
   "id": "5ce92404-bcd8-4528-9c72-9bc49fba16ec",
   "metadata": {
    "tags": []
   },
   "outputs": [
    {
     "name": "stdout",
     "output_type": "stream",
     "text": [
      "\n",
      "\n",
      "\u001b[1m> Entering new AgentExecutor chain...\u001b[0m\n",
      "\u001b[32;1m\u001b[1;3m I need to use the ruff_python_linter_with_sources tool to answer this question.\n",
      "Action: ruff_python_linter_with_sources\n",
      "Action Input: Why use ruff over flake8?\u001b[0m\n",
      "Observation: \u001b[31;1m\u001b[1;3m{\"answer\": \" Ruff is a linter that can be used as a drop-in replacement for Flake8 when used with certain conditions. It implements a subset of the E and W rules from pycodestyle, and re-implements some of the most popular Flake8 plugins and related code quality tools natively.\\n\", \"sources\": \"https://beta.ruff.rs/docs/faq/\"}\u001b[0m\n",
      "Thought:\u001b[32;1m\u001b[1;3m I now know the final answer\n",
      "Final Answer: Ruff is a linter that can be used as a drop-in replacement for Flake8 when used with certain conditions. It implements a subset of the E and W rules from pycodestyle, and re-implements some of the most popular Flake8 plugins and related code quality tools natively. Sources: https://beta.ruff.rs/docs/faq/\u001b[0m\n",
      "\n",
      "\u001b[1m> Finished chain.\u001b[0m\n"
     ]
    },
    {
     "data": {
      "text/plain": [
       "'Ruff is a linter that can be used as a drop-in replacement for Flake8 when used with certain conditions. It implements a subset of the E and W rules from pycodestyle, and re-implements some of the most popular Flake8 plugins and related code quality tools natively. Sources: https://beta.ruff.rs/docs/faq/'"
      ]
     },
     "execution_count": 14,
     "metadata": {},
     "output_type": "execute_result"
    }
   ],
   "source": [
    "agent_executor.run(\"Why use ruff over flake8? List the source.\")"
   ]
  },
  {
   "cell_type": "code",
   "execution_count": 15,
   "id": "744e9b51-fbd9-4778-b594-ea957d0f3467",
   "metadata": {
    "tags": []
   },
   "outputs": [
    {
     "name": "stdout",
     "output_type": "stream",
     "text": [
      "\n",
      "\n",
      "\u001b[1m> Entering new AgentExecutor chain...\u001b[0m\n",
      "\u001b[32;1m\u001b[1;3m I need to answer a question about ruff and the state of the union.\n",
      "Action: ruff_python_linter\n",
      "Action Input: What tool does ruff use to run over Jupyter Notebooks?\u001b[0m\n",
      "Observation: \u001b[38;5;200m\u001b[1;3m Ruff is integrated into nbQA, a tool for running linters and code formatters over Jupyter Notebooks. After installing ruff and nbqa, you can run Ruff over a notebook like so: > nbqa ruff Untitled.ipynb\u001b[0m\n",
      "Thought:\u001b[32;1m\u001b[1;3m I need to check if the president mentioned this tool in the state of the union\n",
      "Action: state_of_union_address\n",
      "Action Input: Did the president mention nbQA in the state of the union?\u001b[0m\n",
      "Observation: \u001b[36;1m\u001b[1;3m No, the president did not mention nbQA in the state of the union.\u001b[0m\n",
      "Thought:\u001b[32;1m\u001b[1;3m I now know the final answer\n",
      "Final Answer: No, the president did not mention nbQA in the state of the union.\u001b[0m\n",
      "\n",
      "\u001b[1m> Finished chain.\u001b[0m\n"
     ]
    },
    {
     "data": {
      "text/plain": [
       "'No, the president did not mention nbQA in the state of the union.'"
      ]
     },
     "execution_count": 15,
     "metadata": {},
     "output_type": "execute_result"
    }
   ],
   "source": [
    "agent_executor.run(\"What tool does ruff use to run over Jupyter Notebooks? Did the president mention that tool in the state of the union?\")"
   ]
  },
  {
   "cell_type": "code",
   "execution_count": null,
   "id": "92203aa9-f63a-4ce1-b562-fadf4474ad9d",
   "metadata": {},
   "outputs": [],
   "source": []
  }
 ],
 "metadata": {
  "kernelspec": {
   "display_name": "Python 3 (ipykernel)",
   "language": "python",
   "name": "python3"
  },
  "language_info": {
   "codemirror_mode": {
    "name": "ipython",
    "version": 3
   },
   "file_extension": ".py",
   "mimetype": "text/x-python",
   "name": "python",
   "nbconvert_exporter": "python",
   "pygments_lexer": "ipython3",
   "version": "3.10.9"
  }
 },
 "nbformat": 4,
 "nbformat_minor": 5
}
