{
 "cells": [
  {
   "attachments": {},
   "cell_type": "markdown",
   "id": "5436020b",
   "metadata": {},
   "source": [
    "# Retries with Reflection\n",
    "\n",
    "Sometimes Agents will not succeed in their task. This might be e.g. if their reasoning was wrong (i.e., they made the wrong plan) or inefficient (i.e., they are taking too long to get to an answer). In this case, we can use the re-try method Reflection (from https://arxiv.org/abs/2303.11366).\n",
    "\n",
    "With Reflection, the Agent will think about why their plan failed and what it can do better next time. This reflection, along with the previous trial(s) will be available to the Agent in the next trial. This enables the Agent to solve harder problems.\n",
    "\n",
    "This notebook will shows you how to use Reflection."
   ]
  },
  {
   "attachments": {},
   "cell_type": "markdown",
   "id": "3899f708",
   "metadata": {},
   "source": [
    "**Caution:** Reflection can cause your context size to blow up, because previous trials are appended to the prompt. With each re-trial, the prompt increases in size. If you encounter this issue, lower `AgentExecutor.max_trials` or `Reflector.max_iterations_per_trial`"
   ]
  },
  {
   "attachments": {},
   "cell_type": "markdown",
   "id": "5a4d1b61",
   "metadata": {},
   "source": [
    "First, we import libraries and load an LLM and tools; just like we would for an Agent without Reflection."
   ]
  },
  {
   "cell_type": "code",
   "execution_count": 1,
   "id": "10db20b9",
   "metadata": {},
   "outputs": [],
   "source": [
    "import os\n",
    "os.environ[\"OPENAI_API_KEY\"] = \"...\""
   ]
  },
  {
   "cell_type": "code",
   "execution_count": 2,
   "id": "d01216c0",
   "metadata": {},
   "outputs": [],
   "source": [
    "from langchain.agents import load_tools, initialize_agent, AgentType\n",
    "from langchain.agents.reflexion.react import ReactReflector\n",
    "from langchain.llms import OpenAI"
   ]
  },
  {
   "cell_type": "code",
   "execution_count": 3,
   "id": "0728f0d9",
   "metadata": {},
   "outputs": [],
   "source": [
    "llm = OpenAI(temperature=0)"
   ]
  },
  {
   "cell_type": "code",
   "execution_count": 4,
   "id": "ba4e7618",
   "metadata": {},
   "outputs": [],
   "source": [
    "tools = load_tools([\"wikipedia\", \"llm-math\"], llm=llm)"
   ]
  },
  {
   "attachments": {},
   "cell_type": "markdown",
   "id": "5b75e62a",
   "metadata": {},
   "source": [
    "Next, we create a `Reflector` object. The default implementation is `ReactReflector`."
   ]
  },
  {
   "cell_type": "code",
   "execution_count": 5,
   "id": "57072c39",
   "metadata": {},
   "outputs": [],
   "source": [
    "reflector = ReactReflector.from_llm(\n",
    "    llm=llm,\n",
    "    max_iterations_per_trial=2\n",
    ")"
   ]
  },
  {
   "attachments": {},
   "cell_type": "markdown",
   "id": "cdf00e33",
   "metadata": {},
   "source": [
    "Reflection only kicks in, wenn the Reflector determines that the current trial failed. For this, we have to pass in conditions that specify when a trial failed.\n",
    "These can be:\n",
    "- `max_iterations_per_trial`: how many steps can the Agent take in a trial?\n",
    "- `max_execution_time_per_trial`: how much take can the Agent use in a trial?\n",
    "- `max_action_repetition`: how often is the Agent allowed to suggest the exact same Actions?"
   ]
  },
  {
   "attachments": {},
   "cell_type": "markdown",
   "id": "0b50fc9b",
   "metadata": {},
   "source": [
    "Finally, let's initialize an agent with the `tools`, the `llm`, the type of `Agent` we want to use and our `Reflector`."
   ]
  },
  {
   "cell_type": "code",
   "execution_count": 6,
   "id": "03208e2b",
   "metadata": {},
   "outputs": [],
   "source": [
    "agent = initialize_agent(\n",
    "    tools, llm, agent=AgentType.ZERO_SHOT_REACT_DESCRIPTION,\n",
    "    reflector=reflector,\n",
    "    max_trials=3,\n",
    "    verbose=True\n",
    ")"
   ]
  },
  {
   "attachments": {},
   "cell_type": "markdown",
   "id": "373361d5",
   "metadata": {},
   "source": [
    "Now let's test it out!"
   ]
  },
  {
   "cell_type": "code",
   "execution_count": null,
   "id": "5901695b",
   "metadata": {},
   "outputs": [],
   "source": [
    "question = \"At what age did the main character of One Piece set sail to find the One Piece?\"\n",
    "agent.run(question)"
   ]
  }
 ],
 "metadata": {
  "kernelspec": {
   "display_name": "Python 3 (ipykernel)",
   "language": "python",
   "name": "python3"
  },
  "language_info": {
   "codemirror_mode": {
    "name": "ipython",
    "version": 3
   },
   "file_extension": ".py",
   "mimetype": "text/x-python",
   "name": "python",
   "nbconvert_exporter": "python",
   "pygments_lexer": "ipython3",
   "version": "3.11.0"
  }
 },
 "nbformat": 4,
 "nbformat_minor": 5
}
