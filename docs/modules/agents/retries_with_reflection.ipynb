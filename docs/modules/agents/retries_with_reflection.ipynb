{
 "cells": [
  {
   "attachments": {},
   "cell_type": "markdown",
   "id": "5436020b",
   "metadata": {},
   "source": [
    "# Retries with Reflection\n",
    "\n",
    "Sometimes Agents will not succeed in their task. This might be e.g. if their reasoning was wrong (i.e., they made the wrong plan) or inefficient (i.e., they are taking too long to get to an answer). In this case, we can use the re-try method Reflection (from https://arxiv.org/abs/2303.11366).\n",
    "\n",
    "With Reflection, the Agent will think about why their plan failed and what it can do better next time. This reflection, along with the previous trial(s) will be available to the Agent in the next trial. This enables the Agent to solve harder problems.\n",
    "\n",
    "This notebook will shows you how to use Reflection."
   ]
  },
  {
   "attachments": {},
   "cell_type": "markdown",
   "id": "5a4d1b61",
   "metadata": {},
   "source": [
    "First, we import libraries and load an LLM and tools; just like we would for an Agent without Reflection."
   ]
  },
  {
   "cell_type": "code",
   "execution_count": 1,
   "id": "d01216c0",
   "metadata": {},
   "outputs": [],
   "source": [
    "from langchain.agents import load_tools, initialize_agent, AgentType\n",
    "from langchain.agents.reflexion.react import ReactReflector\n",
    "from langchain.llms import OpenAI\n",
    "from langchain.utilities import WikipediaAPIWrapper"
   ]
  },
  {
   "cell_type": "code",
   "execution_count": null,
   "id": "0728f0d9",
   "metadata": {},
   "outputs": [],
   "source": [
    "llm = OpenAI(temperature=0)"
   ]
  },
  {
   "cell_type": "code",
   "execution_count": null,
   "id": "ba4e7618",
   "metadata": {},
   "outputs": [],
   "source": [
    "tools = load_tools([\"wikipedia\", \"llm-math\"], llm=llm)"
   ]
  },
  {
   "attachments": {},
   "cell_type": "markdown",
   "id": "5b75e62a",
   "metadata": {},
   "source": [
    "Next, we create a `Reflector` object. The default implementation is `ReactReflector`."
   ]
  },
  {
   "cell_type": "code",
   "execution_count": null,
   "id": "57072c39",
   "metadata": {},
   "outputs": [],
   "source": [
    "reflector = ReactReflector.from_llm(\n",
    "    llm=llm,\n",
    "    max_iterations_per_trial=5\n",
    "    # =10.0,\n",
    "    # we    max_action_repetition=2\n",
    ")"
   ]
  },
  {
   "attachments": {},
   "cell_type": "markdown",
   "id": "cdf00e33",
   "metadata": {},
   "source": [
    "Reflection only kicks in, wenn the Reflector determines that the current trial failed. For this, we have to pass in conditions that specify when a trial failed.\n",
    "These can be:\n",
    "- `max_iterations_per_trial`: how many steps can the Agent take in a trial?\n",
    "- `max_execution_time_per_trial`: how much take can the Agent use in a trial?\n",
    "- `max_action_repetition`: how often is the Agent allowed to suggest the exact same Actions?"
   ]
  },
  {
   "attachments": {},
   "cell_type": "markdown",
   "id": "0b50fc9b",
   "metadata": {},
   "source": [
    "Finally, let's initialize an agent with the `tools`, the `llm`, the type of `Agent` we want to use and our `Reflector`."
   ]
  },
  {
   "cell_type": "code",
   "execution_count": 6,
   "id": "03208e2b",
   "metadata": {},
   "outputs": [],
   "source": [
    "agent = initialize_agent(\n",
    "    tools, llm, agent=AgentType.ZERO_SHOT_REACT_DESCRIPTION,\n",
    "    reflector=reflector,\n",
    "    verbose=True\n",
    "    # we could also pass: \n",
    "    # \n",
    ")"
   ]
  },
  {
   "attachments": {},
   "cell_type": "markdown",
   "id": "373361d5",
   "metadata": {},
   "source": [
    "Now let's test it out!"
   ]
  },
  {
   "cell_type": "code",
   "execution_count": 13,
   "id": "244ee75c",
   "metadata": {},
   "outputs": [
    {
     "name": "stdout",
     "output_type": "stream",
     "text": [
      "\n",
      "\n",
      "\u001b[1m> Entering new AgentExecutor chain...\u001b[0m\n",
      "\u001b[32;1m\u001b[1;3m I need to find out who Leo DiCaprio's girlfriend is and then calculate her age raised to the 0.43 power.\n",
      "Action: Search\n",
      "Action Input: \"Leo DiCaprio girlfriend\"\u001b[0m\n",
      "Observation: \u001b[36;1m\u001b[1;3mCamila Morrone\u001b[0m\n",
      "Thought:\u001b[32;1m\u001b[1;3m I need to find out Camila Morrone's age\n",
      "Action: Search\n",
      "Action Input: \"Camila Morrone age\"\u001b[0m\n",
      "Observation: \u001b[36;1m\u001b[1;3m25 years\u001b[0m\n",
      "Thought:\u001b[32;1m\u001b[1;3m I need to calculate 25 raised to the 0.43 power\n",
      "Action: Calculator\n",
      "Action Input: 25^0.43\u001b[0m\n",
      "Observation: \u001b[33;1m\u001b[1;3mAnswer: 3.991298452658078\n",
      "\u001b[0m\n",
      "Thought:\u001b[32;1m\u001b[1;3m I now know the final answer\n",
      "Final Answer: Camila Morrone is Leo DiCaprio's girlfriend and her current age raised to the 0.43 power is 3.991298452658078.\u001b[0m\n",
      "\n",
      "\u001b[1m> Finished chain.\u001b[0m\n"
     ]
    },
    {
     "data": {
      "text/plain": [
       "\"Camila Morrone is Leo DiCaprio's girlfriend and her current age raised to the 0.43 power is 3.991298452658078.\""
      ]
     },
     "execution_count": 13,
     "metadata": {},
     "output_type": "execute_result"
    }
   ],
   "source": [
    "question = \"Author David Chanoff has collaborated with a U.S. Navy admiral who served as the ambassador to the United Kingdom under which President?\"\n",
    "agent.run(question)"
   ]
  },
  {
   "cell_type": "code",
   "execution_count": null,
   "id": "5901695b",
   "metadata": {},
   "outputs": [],
   "source": []
  }
 ],
 "metadata": {
  "kernelspec": {
   "display_name": "Python 3 (ipykernel)",
   "language": "python",
   "name": "python3"
  },
  "language_info": {
   "codemirror_mode": {
    "name": "ipython",
    "version": 3
   },
   "file_extension": ".py",
   "mimetype": "text/x-python",
   "name": "python",
   "nbconvert_exporter": "python",
   "pygments_lexer": "ipython3",
   "version": "3.11.0"
  }
 },
 "nbformat": 4,
 "nbformat_minor": 5
}
