{
 "cells": [
  {
   "cell_type": "code",
   "execution_count": 35,
   "id": "6df39dc0",
   "metadata": {},
   "outputs": [
    {
     "name": "stdout",
     "output_type": "stream",
     "text": [
      "The autoreload extension is already loaded. To reload it, use:\n",
      "  %reload_ext autoreload\n"
     ]
    }
   ],
   "source": [
    "%load_ext autoreload\n",
    "%autoreload 2"
   ]
  },
  {
   "cell_type": "markdown",
   "id": "85fb2c03-ab88-4c8c-97e3-a7f2954555ab",
   "metadata": {},
   "source": [
    "# JSON Agent\n",
    "\n",
    "This notebook showcases an agent designed to interact with large JSON/dict objects. This is useful when you want to answer questions about a JSON blob that's too large to fit in the context window of an LLM. The agent is able to iteratively explore the blob to find what it needs to answer the user's question.\n",
    "\n",
    "In the below example, we are using the OpenAPI spec for the OpenAI API, which you can find [here](https://github.com/openai/openai-openapi/blob/master/openapi.yaml).\n",
    "\n",
    "We will use the JSON agent to answer some questions about the API spec."
   ]
  },
  {
   "cell_type": "markdown",
   "id": "893f90fd-f8f6-470a-a76d-1f200ba02e2f",
   "metadata": {},
   "source": [
    "## Initialization"
   ]
  },
  {
   "cell_type": "code",
   "execution_count": 56,
   "id": "ff988466-c389-4ec6-b6ac-14364a537fd5",
   "metadata": {
    "tags": []
   },
   "outputs": [],
   "source": [
    "import os\n",
    "import yaml\n",
    "\n",
    "from langchain.agents import (\n",
    "    create_json_agent,\n",
    "    AgentExecutor\n",
    ")\n",
    "from langchain.agents.agent_toolkits import JsonToolkit\n",
    "from langchain.chains import LLMChain\n",
    "from langchain.llms.openai import OpenAI\n",
    "from langchain.requests import TextRequestsWrapper\n",
    "from langchain.tools.json.tool import JsonSpec\n",
    "\n",
    "from langchain.agents.agent_types import AgentType\n",
    "from langchain.chat_models import ChatOpenAI"
   ]
  },
  {
   "cell_type": "code",
   "execution_count": 57,
   "id": "5761e0c9",
   "metadata": {},
   "outputs": [],
   "source": [
    "# agent_executor = create_python_agent(\n",
    "#     llm=ChatOpenAI(temperature=0, model=\"gpt-3.5-turbo-0613\"),\n",
    "#     tool=tool,\n",
    "#     verbose=True,\n",
    "#     agent_type=AgentType.OPENAI_FUNCTIONS\n",
    "# )"
   ]
  },
  {
   "cell_type": "code",
   "execution_count": 58,
   "id": "27a7c229",
   "metadata": {},
   "outputs": [],
   "source": [
    "# data['paths'].keys()"
   ]
  },
  {
   "cell_type": "code",
   "execution_count": 59,
   "id": "9c8bfdb2",
   "metadata": {},
   "outputs": [],
   "source": [
    "# with open(\"openai_openapi.yml\") as f:\n",
    "#     data = yaml.load(f, Loader=yaml.FullLoader)"
   ]
  },
  {
   "cell_type": "code",
   "execution_count": 74,
   "id": "f6fe33f7",
   "metadata": {},
   "outputs": [],
   "source": [
    "data = {\n",
    "    'contacts':\n",
    "    {\n",
    "      \"name\": \"John Doe\",\n",
    "      \"age\": 30,\n",
    "      \"email\": \"johndoe@example.com\",\n",
    "      \"address\": \n",
    "        {\n",
    "            \"main\": {\n",
    "            \"street\": \"123 Main St\",\n",
    "            \"city\": \"New York\",\n",
    "            \"state\": \"NY\",\n",
    "            \"zipcode\": \"10001\",\n",
    "            \"phone numbers\":\n",
    "                [\n",
    "                    '123456',\n",
    "                    '654321'\n",
    "                ]\n",
    "          },\n",
    "            \"secondary\": {\n",
    "            \"street\": \"456 Main St\",\n",
    "            \"city\": \"New York\",\n",
    "            \"state\": \"NY\",\n",
    "            \"zipcode\": \"10001\"  \n",
    "            },\n",
    "        },\n",
    "      \"phone_numbers\": [\n",
    "        {\n",
    "          \"type\": \"home\",\n",
    "          \"number\": \"555-1234\"\n",
    "        },\n",
    "        {\n",
    "          \"type\": \"work\",\n",
    "          \"number\": \"555-5678\"\n",
    "        }\n",
    "      ],\n",
    "      \"friends\": [\n",
    "        {\n",
    "          \"name\": \"Jane Smith\",\n",
    "          \"age\": 28,\n",
    "          \"email\": \"janesmith@example.com\"\n",
    "        },\n",
    "        {\n",
    "          \"name\": \"Tom Johnson\",\n",
    "          \"age\": 32,\n",
    "          \"email\": \"tomjohnson@example.com\"\n",
    "        }\n",
    "      ],\n",
    "    }\n",
    "}"
   ]
  },
  {
   "cell_type": "code",
   "execution_count": 75,
   "id": "9ecd1ba0-3937-4359-a41e-68605f0596a1",
   "metadata": {
    "tags": []
   },
   "outputs": [],
   "source": [
    "json_spec = JsonSpec(dict_=data, max_value_length=4000)\n",
    "json_toolkit = JsonToolkit(spec=json_spec)"
   ]
  },
  {
   "cell_type": "code",
   "execution_count": 76,
   "id": "1dd86ae6",
   "metadata": {},
   "outputs": [],
   "source": [
    "# json_toolkit.get_tools()[0](\"data['paths']\")"
   ]
  },
  {
   "cell_type": "markdown",
   "id": "05cfcb24-4389-4b8f-ad9e-466e3fca8db0",
   "metadata": {},
   "source": [
    "## Example: getting the required POST parameters for a request"
   ]
  },
  {
   "cell_type": "code",
   "execution_count": 77,
   "id": "84766977",
   "metadata": {},
   "outputs": [],
   "source": [
    "json_agent_executor = create_json_agent(\n",
    "    llm=ChatOpenAI(temperature=0, model=\"gpt-3.5-turbo-0613\"),\n",
    "    toolkit=json_toolkit,\n",
    "    verbose=True,\n",
    "    agent_type=AgentType.OPENAI_FUNCTIONS\n",
    ")"
   ]
  },
  {
   "cell_type": "code",
   "execution_count": 78,
   "id": "2892d323",
   "metadata": {
    "tags": []
   },
   "outputs": [
    {
     "name": "stderr",
     "output_type": "stream",
     "text": [
      "Error in on_chain_start callback: 'name'\n"
     ]
    },
    {
     "name": "stdout",
     "output_type": "stream",
     "text": [
      "\u001b[32;1m\u001b[1;3m\n",
      "Invoking: `json_spec_list_keys` with `data[\"contacts\"]`\n",
      "\n",
      "\n",
      "\u001b[0m\u001b[36;1m\u001b[1;3m['name', 'age', 'email', 'address', 'phone_numbers', 'friends']\u001b[0m\u001b[32;1m\u001b[1;3m\n",
      "Invoking: `json_spec_get_value` with `data[\"contacts\"][\"address\"][0]`\n",
      "\n",
      "\n",
      "\u001b[0m\u001b[33;1m\u001b[1;3mKeyError(0)\u001b[0m\u001b[32;1m\u001b[1;3m\n",
      "Invoking: `json_spec_get_value` with `data[\"contacts\"][\"address\"]`\n",
      "\n",
      "\n",
      "\u001b[0m\u001b[33;1m\u001b[1;3m{'main': {'street': '123 Main St', 'city': 'New York', 'state': 'NY', 'zipcode': '10001', 'phone numbers': ['123456', '654321']}, 'secondary': {'street': '456 Main St', 'city': 'New York', 'state': 'NY', 'zipcode': '10001'}}\u001b[0m\u001b[32;1m\u001b[1;3mJohn Doe's main address is 123 Main St, New York, NY, 10001. His phone numbers are 123456 and 654321.\u001b[0m\n",
      "\n",
      "\u001b[1m> Finished chain.\u001b[0m\n"
     ]
    },
    {
     "data": {
      "text/plain": [
       "\"John Doe's main address is 123 Main St, New York, NY, 10001. His phone numbers are 123456 and 654321.\""
      ]
     },
     "execution_count": 78,
     "metadata": {},
     "output_type": "execute_result"
    }
   ],
   "source": [
    "json_agent_executor.run(\"What are John Doe's main address and what are his phone numbers?\")"
   ]
  },
  {
   "cell_type": "code",
   "execution_count": 47,
   "id": "b0703628",
   "metadata": {
    "tags": []
   },
   "outputs": [
    {
     "name": "stderr",
     "output_type": "stream",
     "text": [
      "Error in on_chain_start callback: 'name'\n"
     ]
    },
    {
     "name": "stdout",
     "output_type": "stream",
     "text": [
      "Prompt [SystemMessage(content='You are an agent designed to interact with JSON.\\nYour goal is to return a final answer by interacting with the JSON.\\nYou have access to the following tools which help you learn more about the JSON you are interacting with.\\nOnly use the below tools. Only use the information returned by the below tools to construct your final answer.\\nDo not make up any information that is not contained in the JSON.\\nYour input to the tools should be in the form of `data[\"key\"][0]` where `data` is the JSON blob you are interacting with, and the syntax used is Python.\\nBe careful to always use double quotes to surround your keys, as in the example. \\nYou should only use keys that you know for a fact exist. You must validate that a key exists by seeing it previously when calling `json_spec_list_keys`. \\nIf you have not seen a key in one of those responses, you cannot use it.\\nYou should only add one key at a time to the path. You cannot add multiple keys at once.\\nIf you encounter a \"KeyError\", go back to the previous key, look at the available keys, and try again.\\n\\nIf the question does not seem to be related to the JSON, just return \"I don\\'t know\" as the answer.\\nAlways begin your interaction with the `json_spec_list_keys` tool with input \"data\" to see what keys exist in the JSON.\\n\\nNote that sometimes the value at a given path is large. In this case, you will get an error \"Value is a large dictionary, should explore its keys directly\".\\nIn this case, you should ALWAYS follow up by using the `json_spec_list_keys` tool to see what keys exist at that path.\\nDo not simply refer the user to the JSON or a section of the JSON, as this is not a valid answer. Keep digging until you find the answer and explicitly return it.\\n', additional_kwargs={}), HumanMessage(content='What are the required parameters in the request body to the /completions endpoint?', additional_kwargs={}, example=False)]\n",
      "{'__arg1': 'data[\"paths\"][\"/completions\"][\"post\"][\"requestBody\"][\"content\"][\"application/json\"][\"schema\"][\"required\"]'}\n",
      "Agent decision _FunctionsAgentAction(tool='json_spec_list_keys', tool_input='data[\"paths\"][\"/completions\"][\"post\"][\"requestBody\"][\"content\"][\"application/json\"][\"schema\"][\"required\"]', log='\\nInvoking: `json_spec_list_keys` with `data[\"paths\"][\"/completions\"][\"post\"][\"requestBody\"][\"content\"][\"application/json\"][\"schema\"][\"required\"]`\\n\\n\\n', message_log=[AIMessage(content='', additional_kwargs={'function_call': {'name': 'json_spec_list_keys', 'arguments': '{\\n  \"__arg1\": \"data[\\\\\"paths\\\\\"][\\\\\"/completions\\\\\"][\\\\\"post\\\\\"][\\\\\"requestBody\\\\\"][\\\\\"content\\\\\"][\\\\\"application/json\\\\\"][\\\\\"schema\\\\\"][\\\\\"required\\\\\"]\"\\n}'}}, example=False)])\n",
      "\u001b[32;1m\u001b[1;3m\n",
      "Invoking: `json_spec_list_keys` with `data[\"paths\"][\"/completions\"][\"post\"][\"requestBody\"][\"content\"][\"application/json\"][\"schema\"][\"required\"]`\n",
      "\n",
      "\n",
      "\u001b[0m\u001b[36;1m\u001b[1;3mKeyError('required')\u001b[0mPrompt [SystemMessage(content='You are an agent designed to interact with JSON.\\nYour goal is to return a final answer by interacting with the JSON.\\nYou have access to the following tools which help you learn more about the JSON you are interacting with.\\nOnly use the below tools. Only use the information returned by the below tools to construct your final answer.\\nDo not make up any information that is not contained in the JSON.\\nYour input to the tools should be in the form of `data[\"key\"][0]` where `data` is the JSON blob you are interacting with, and the syntax used is Python.\\nBe careful to always use double quotes to surround your keys, as in the example. \\nYou should only use keys that you know for a fact exist. You must validate that a key exists by seeing it previously when calling `json_spec_list_keys`. \\nIf you have not seen a key in one of those responses, you cannot use it.\\nYou should only add one key at a time to the path. You cannot add multiple keys at once.\\nIf you encounter a \"KeyError\", go back to the previous key, look at the available keys, and try again.\\n\\nIf the question does not seem to be related to the JSON, just return \"I don\\'t know\" as the answer.\\nAlways begin your interaction with the `json_spec_list_keys` tool with input \"data\" to see what keys exist in the JSON.\\n\\nNote that sometimes the value at a given path is large. In this case, you will get an error \"Value is a large dictionary, should explore its keys directly\".\\nIn this case, you should ALWAYS follow up by using the `json_spec_list_keys` tool to see what keys exist at that path.\\nDo not simply refer the user to the JSON or a section of the JSON, as this is not a valid answer. Keep digging until you find the answer and explicitly return it.\\n', additional_kwargs={}), HumanMessage(content='What are the required parameters in the request body to the /completions endpoint?', additional_kwargs={}, example=False), AIMessage(content='', additional_kwargs={'function_call': {'name': 'json_spec_list_keys', 'arguments': '{\\n  \"__arg1\": \"data[\\\\\"paths\\\\\"][\\\\\"/completions\\\\\"][\\\\\"post\\\\\"][\\\\\"requestBody\\\\\"][\\\\\"content\\\\\"][\\\\\"application/json\\\\\"][\\\\\"schema\\\\\"][\\\\\"required\\\\\"]\"\\n}'}}, example=False), FunctionMessage(content=\"KeyError('required')\", additional_kwargs={}, name='json_spec_list_keys')]\n",
      "{'__arg1': 'data[\"paths\"][\"/completions\"][\"post\"][\"requestBody\"][\"content\"][\"application/json\"][\"schema\"]'}\n",
      "Agent decision _FunctionsAgentAction(tool='json_spec_list_keys', tool_input='data[\"paths\"][\"/completions\"][\"post\"][\"requestBody\"][\"content\"][\"application/json\"][\"schema\"]', log='\\nInvoking: `json_spec_list_keys` with `data[\"paths\"][\"/completions\"][\"post\"][\"requestBody\"][\"content\"][\"application/json\"][\"schema\"]`\\n\\n\\n', message_log=[AIMessage(content='', additional_kwargs={'function_call': {'name': 'json_spec_list_keys', 'arguments': '{\\n  \"__arg1\": \"data[\\\\\"paths\\\\\"][\\\\\"/completions\\\\\"][\\\\\"post\\\\\"][\\\\\"requestBody\\\\\"][\\\\\"content\\\\\"][\\\\\"application/json\\\\\"][\\\\\"schema\\\\\"]\"\\n}'}}, example=False)])\n",
      "\u001b[32;1m\u001b[1;3m\n",
      "Invoking: `json_spec_list_keys` with `data[\"paths\"][\"/completions\"][\"post\"][\"requestBody\"][\"content\"][\"application/json\"][\"schema\"]`\n",
      "\n",
      "\n",
      "\u001b[0m\u001b[36;1m\u001b[1;3m['$ref']\u001b[0mPrompt [SystemMessage(content='You are an agent designed to interact with JSON.\\nYour goal is to return a final answer by interacting with the JSON.\\nYou have access to the following tools which help you learn more about the JSON you are interacting with.\\nOnly use the below tools. Only use the information returned by the below tools to construct your final answer.\\nDo not make up any information that is not contained in the JSON.\\nYour input to the tools should be in the form of `data[\"key\"][0]` where `data` is the JSON blob you are interacting with, and the syntax used is Python.\\nBe careful to always use double quotes to surround your keys, as in the example. \\nYou should only use keys that you know for a fact exist. You must validate that a key exists by seeing it previously when calling `json_spec_list_keys`. \\nIf you have not seen a key in one of those responses, you cannot use it.\\nYou should only add one key at a time to the path. You cannot add multiple keys at once.\\nIf you encounter a \"KeyError\", go back to the previous key, look at the available keys, and try again.\\n\\nIf the question does not seem to be related to the JSON, just return \"I don\\'t know\" as the answer.\\nAlways begin your interaction with the `json_spec_list_keys` tool with input \"data\" to see what keys exist in the JSON.\\n\\nNote that sometimes the value at a given path is large. In this case, you will get an error \"Value is a large dictionary, should explore its keys directly\".\\nIn this case, you should ALWAYS follow up by using the `json_spec_list_keys` tool to see what keys exist at that path.\\nDo not simply refer the user to the JSON or a section of the JSON, as this is not a valid answer. Keep digging until you find the answer and explicitly return it.\\n', additional_kwargs={}), HumanMessage(content='What are the required parameters in the request body to the /completions endpoint?', additional_kwargs={}, example=False), AIMessage(content='', additional_kwargs={'function_call': {'name': 'json_spec_list_keys', 'arguments': '{\\n  \"__arg1\": \"data[\\\\\"paths\\\\\"][\\\\\"/completions\\\\\"][\\\\\"post\\\\\"][\\\\\"requestBody\\\\\"][\\\\\"content\\\\\"][\\\\\"application/json\\\\\"][\\\\\"schema\\\\\"][\\\\\"required\\\\\"]\"\\n}'}}, example=False), FunctionMessage(content=\"KeyError('required')\", additional_kwargs={}, name='json_spec_list_keys'), AIMessage(content='', additional_kwargs={'function_call': {'name': 'json_spec_list_keys', 'arguments': '{\\n  \"__arg1\": \"data[\\\\\"paths\\\\\"][\\\\\"/completions\\\\\"][\\\\\"post\\\\\"][\\\\\"requestBody\\\\\"][\\\\\"content\\\\\"][\\\\\"application/json\\\\\"][\\\\\"schema\\\\\"]\"\\n}'}}, example=False), FunctionMessage(content=\"['$ref']\", additional_kwargs={}, name='json_spec_list_keys')]\n"
     ]
    },
    {
     "name": "stdout",
     "output_type": "stream",
     "text": [
      "{'__arg1': 'data[\"paths\"][\"/completions\"][\"post\"][\"requestBody\"][\"content\"][\"application/json\"][\"schema\"][\"$ref\"]'}\n",
      "Agent decision _FunctionsAgentAction(tool='json_spec_get_value', tool_input='data[\"paths\"][\"/completions\"][\"post\"][\"requestBody\"][\"content\"][\"application/json\"][\"schema\"][\"$ref\"]', log='\\nInvoking: `json_spec_get_value` with `data[\"paths\"][\"/completions\"][\"post\"][\"requestBody\"][\"content\"][\"application/json\"][\"schema\"][\"$ref\"]`\\n\\n\\n', message_log=[AIMessage(content='', additional_kwargs={'function_call': {'name': 'json_spec_get_value', 'arguments': '{\\n  \"__arg1\": \"data[\\\\\"paths\\\\\"][\\\\\"/completions\\\\\"][\\\\\"post\\\\\"][\\\\\"requestBody\\\\\"][\\\\\"content\\\\\"][\\\\\"application/json\\\\\"][\\\\\"schema\\\\\"][\\\\\"$ref\\\\\"]\"\\n}'}}, example=False)])\n",
      "\u001b[32;1m\u001b[1;3m\n",
      "Invoking: `json_spec_get_value` with `data[\"paths\"][\"/completions\"][\"post\"][\"requestBody\"][\"content\"][\"application/json\"][\"schema\"][\"$ref\"]`\n",
      "\n",
      "\n",
      "\u001b[0m\u001b[33;1m\u001b[1;3m#/components/schemas/CreateCompletionRequest\u001b[0mPrompt [SystemMessage(content='You are an agent designed to interact with JSON.\\nYour goal is to return a final answer by interacting with the JSON.\\nYou have access to the following tools which help you learn more about the JSON you are interacting with.\\nOnly use the below tools. Only use the information returned by the below tools to construct your final answer.\\nDo not make up any information that is not contained in the JSON.\\nYour input to the tools should be in the form of `data[\"key\"][0]` where `data` is the JSON blob you are interacting with, and the syntax used is Python.\\nBe careful to always use double quotes to surround your keys, as in the example. \\nYou should only use keys that you know for a fact exist. You must validate that a key exists by seeing it previously when calling `json_spec_list_keys`. \\nIf you have not seen a key in one of those responses, you cannot use it.\\nYou should only add one key at a time to the path. You cannot add multiple keys at once.\\nIf you encounter a \"KeyError\", go back to the previous key, look at the available keys, and try again.\\n\\nIf the question does not seem to be related to the JSON, just return \"I don\\'t know\" as the answer.\\nAlways begin your interaction with the `json_spec_list_keys` tool with input \"data\" to see what keys exist in the JSON.\\n\\nNote that sometimes the value at a given path is large. In this case, you will get an error \"Value is a large dictionary, should explore its keys directly\".\\nIn this case, you should ALWAYS follow up by using the `json_spec_list_keys` tool to see what keys exist at that path.\\nDo not simply refer the user to the JSON or a section of the JSON, as this is not a valid answer. Keep digging until you find the answer and explicitly return it.\\n', additional_kwargs={}), HumanMessage(content='What are the required parameters in the request body to the /completions endpoint?', additional_kwargs={}, example=False), AIMessage(content='', additional_kwargs={'function_call': {'name': 'json_spec_list_keys', 'arguments': '{\\n  \"__arg1\": \"data[\\\\\"paths\\\\\"][\\\\\"/completions\\\\\"][\\\\\"post\\\\\"][\\\\\"requestBody\\\\\"][\\\\\"content\\\\\"][\\\\\"application/json\\\\\"][\\\\\"schema\\\\\"][\\\\\"required\\\\\"]\"\\n}'}}, example=False), FunctionMessage(content=\"KeyError('required')\", additional_kwargs={}, name='json_spec_list_keys'), AIMessage(content='', additional_kwargs={'function_call': {'name': 'json_spec_list_keys', 'arguments': '{\\n  \"__arg1\": \"data[\\\\\"paths\\\\\"][\\\\\"/completions\\\\\"][\\\\\"post\\\\\"][\\\\\"requestBody\\\\\"][\\\\\"content\\\\\"][\\\\\"application/json\\\\\"][\\\\\"schema\\\\\"]\"\\n}'}}, example=False), FunctionMessage(content=\"['$ref']\", additional_kwargs={}, name='json_spec_list_keys'), AIMessage(content='', additional_kwargs={'function_call': {'name': 'json_spec_get_value', 'arguments': '{\\n  \"__arg1\": \"data[\\\\\"paths\\\\\"][\\\\\"/completions\\\\\"][\\\\\"post\\\\\"][\\\\\"requestBody\\\\\"][\\\\\"content\\\\\"][\\\\\"application/json\\\\\"][\\\\\"schema\\\\\"][\\\\\"$ref\\\\\"]\"\\n}'}}, example=False), FunctionMessage(content='#/components/schemas/CreateCompletionRequest', additional_kwargs={}, name='json_spec_get_value')]\n",
      "{'__arg1': 'data[\"components\"][\"schemas\"][\"CreateCompletionRequest\"][\"required\"]'}\n",
      "Agent decision _FunctionsAgentAction(tool='json_spec_list_keys', tool_input='data[\"components\"][\"schemas\"][\"CreateCompletionRequest\"][\"required\"]', log='\\nInvoking: `json_spec_list_keys` with `data[\"components\"][\"schemas\"][\"CreateCompletionRequest\"][\"required\"]`\\n\\n\\n', message_log=[AIMessage(content='', additional_kwargs={'function_call': {'name': 'json_spec_list_keys', 'arguments': '{\\n  \"__arg1\": \"data[\\\\\"components\\\\\"][\\\\\"schemas\\\\\"][\\\\\"CreateCompletionRequest\\\\\"][\\\\\"required\\\\\"]\"\\n}'}}, example=False)])\n",
      "\u001b[32;1m\u001b[1;3m\n",
      "Invoking: `json_spec_list_keys` with `data[\"components\"][\"schemas\"][\"CreateCompletionRequest\"][\"required\"]`\n",
      "\n",
      "\n",
      "\u001b[0m\u001b[36;1m\u001b[1;3mValueError('Value at path `data[\"components\"][\"schemas\"][\"CreateCompletionRequest\"][\"required\"]` is not a dict, get the value directly.')\u001b[0mPrompt [SystemMessage(content='You are an agent designed to interact with JSON.\\nYour goal is to return a final answer by interacting with the JSON.\\nYou have access to the following tools which help you learn more about the JSON you are interacting with.\\nOnly use the below tools. Only use the information returned by the below tools to construct your final answer.\\nDo not make up any information that is not contained in the JSON.\\nYour input to the tools should be in the form of `data[\"key\"][0]` where `data` is the JSON blob you are interacting with, and the syntax used is Python.\\nBe careful to always use double quotes to surround your keys, as in the example. \\nYou should only use keys that you know for a fact exist. You must validate that a key exists by seeing it previously when calling `json_spec_list_keys`. \\nIf you have not seen a key in one of those responses, you cannot use it.\\nYou should only add one key at a time to the path. You cannot add multiple keys at once.\\nIf you encounter a \"KeyError\", go back to the previous key, look at the available keys, and try again.\\n\\nIf the question does not seem to be related to the JSON, just return \"I don\\'t know\" as the answer.\\nAlways begin your interaction with the `json_spec_list_keys` tool with input \"data\" to see what keys exist in the JSON.\\n\\nNote that sometimes the value at a given path is large. In this case, you will get an error \"Value is a large dictionary, should explore its keys directly\".\\nIn this case, you should ALWAYS follow up by using the `json_spec_list_keys` tool to see what keys exist at that path.\\nDo not simply refer the user to the JSON or a section of the JSON, as this is not a valid answer. Keep digging until you find the answer and explicitly return it.\\n', additional_kwargs={}), HumanMessage(content='What are the required parameters in the request body to the /completions endpoint?', additional_kwargs={}, example=False), AIMessage(content='', additional_kwargs={'function_call': {'name': 'json_spec_list_keys', 'arguments': '{\\n  \"__arg1\": \"data[\\\\\"paths\\\\\"][\\\\\"/completions\\\\\"][\\\\\"post\\\\\"][\\\\\"requestBody\\\\\"][\\\\\"content\\\\\"][\\\\\"application/json\\\\\"][\\\\\"schema\\\\\"][\\\\\"required\\\\\"]\"\\n}'}}, example=False), FunctionMessage(content=\"KeyError('required')\", additional_kwargs={}, name='json_spec_list_keys'), AIMessage(content='', additional_kwargs={'function_call': {'name': 'json_spec_list_keys', 'arguments': '{\\n  \"__arg1\": \"data[\\\\\"paths\\\\\"][\\\\\"/completions\\\\\"][\\\\\"post\\\\\"][\\\\\"requestBody\\\\\"][\\\\\"content\\\\\"][\\\\\"application/json\\\\\"][\\\\\"schema\\\\\"]\"\\n}'}}, example=False), FunctionMessage(content=\"['$ref']\", additional_kwargs={}, name='json_spec_list_keys'), AIMessage(content='', additional_kwargs={'function_call': {'name': 'json_spec_get_value', 'arguments': '{\\n  \"__arg1\": \"data[\\\\\"paths\\\\\"][\\\\\"/completions\\\\\"][\\\\\"post\\\\\"][\\\\\"requestBody\\\\\"][\\\\\"content\\\\\"][\\\\\"application/json\\\\\"][\\\\\"schema\\\\\"][\\\\\"$ref\\\\\"]\"\\n}'}}, example=False), FunctionMessage(content='#/components/schemas/CreateCompletionRequest', additional_kwargs={}, name='json_spec_get_value'), AIMessage(content='', additional_kwargs={'function_call': {'name': 'json_spec_list_keys', 'arguments': '{\\n  \"__arg1\": \"data[\\\\\"components\\\\\"][\\\\\"schemas\\\\\"][\\\\\"CreateCompletionRequest\\\\\"][\\\\\"required\\\\\"]\"\\n}'}}, example=False), FunctionMessage(content='ValueError(\\'Value at path `data[\"components\"][\"schemas\"][\"CreateCompletionRequest\"][\"required\"]` is not a dict, get the value directly.\\')', additional_kwargs={}, name='json_spec_list_keys')]\n"
     ]
    },
    {
     "name": "stderr",
     "output_type": "stream",
     "text": [
      "\n",
      "KeyboardInterrupt\n",
      "\n"
     ]
    }
   ],
   "source": [
    "json_agent_executor.run(\"What are the required parameters in the request body to the /completions endpoint?\")"
   ]
  },
  {
   "cell_type": "code",
   "execution_count": null,
   "id": "6e3c7606",
   "metadata": {},
   "outputs": [],
   "source": []
  },
  {
   "cell_type": "code",
   "execution_count": 14,
   "id": "7d7201be",
   "metadata": {},
   "outputs": [],
   "source": [
    "json_agent_executor = create_json_agent(\n",
    "#     llm=ChatOpenAI(temperature=0, model=\"gpt-3.5-turbo-0613\"),\n",
    "    llm=OpenAI(),\n",
    "    toolkit=json_toolkit,\n",
    "    verbose=True)"
   ]
  },
  {
   "cell_type": "code",
   "execution_count": 18,
   "id": "faf13702-50f0-4d1b-b91f-48c750ccfd98",
   "metadata": {
    "tags": []
   },
   "outputs": [
    {
     "name": "stderr",
     "output_type": "stream",
     "text": [
      "Error in on_chain_start callback: 'name'\n"
     ]
    },
    {
     "name": "stdout",
     "output_type": "stream",
     "text": [
      "\u001b[32;1m\u001b[1;3mAction: json_spec_list_keys\n",
      "Action Input: data\u001b[0m\n",
      "Observation: \u001b[36;1m\u001b[1;3m['openapi', 'info', 'servers', 'tags', 'paths', 'components', 'x-oaiMeta']\u001b[0m\n",
      "Thought:\u001b[32;1m\u001b[1;3m I should look at the \"path\" key\n",
      "Action: json_spec_list_keys\n",
      "Action Input: data[\"paths\"]\u001b[0m\n",
      "Observation: \u001b[36;1m\u001b[1;3m['/engines', '/engines/{engine_id}', '/completions', '/edits', '/images/generations', '/images/edits', '/images/variations', '/embeddings', '/engines/{engine_id}/search', '/files', '/files/{file_id}', '/files/{file_id}/content', '/answers', '/classifications', '/fine-tunes', '/fine-tunes/{fine_tune_id}', '/fine-tunes/{fine_tune_id}/cancel', '/fine-tunes/{fine_tune_id}/events', '/models', '/models/{model}', '/moderations']\u001b[0m\n",
      "Thought:\u001b[32;1m\u001b[1;3m I should look at the \"/completions\" key\n",
      "Action: json_spec_list_keys\n",
      "Action Input: data[\"paths\"][\"/completions\"]\u001b[0m\n",
      "Observation: \u001b[36;1m\u001b[1;3m['post']\u001b[0m\n",
      "Thought:"
     ]
    },
    {
     "name": "stderr",
     "output_type": "stream",
     "text": [
      "\n",
      "KeyboardInterrupt\n",
      "\n"
     ]
    }
   ],
   "source": [
    "json_agent_executor.run(\"What are the required parameters in the request body to the /completions endpoint?\")"
   ]
  }
 ],
 "metadata": {
  "kernelspec": {
   "display_name": "general",
   "language": "python",
   "name": "general"
  },
  "language_info": {
   "codemirror_mode": {
    "name": "ipython",
    "version": 3
   },
   "file_extension": ".py",
   "mimetype": "text/x-python",
   "name": "python",
   "nbconvert_exporter": "python",
   "pygments_lexer": "ipython3",
   "version": "3.10.6"
  }
 },
 "nbformat": 4,
 "nbformat_minor": 5
}
