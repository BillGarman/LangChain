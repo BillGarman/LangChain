{
 "cells": [
  {
   "cell_type": "code",
   "execution_count": 1,
   "id": "6df39dc0",
   "metadata": {},
   "outputs": [],
   "source": [
    "%load_ext autoreload\n",
    "%autoreload 2"
   ]
  },
  {
   "cell_type": "markdown",
   "id": "85fb2c03-ab88-4c8c-97e3-a7f2954555ab",
   "metadata": {},
   "source": [
    "# JSON Agent\n",
    "\n",
    "This notebook showcases an agent designed to interact with large JSON/dict objects. This is useful when you want to answer questions about a JSON blob that's too large to fit in the context window of an LLM. The agent is able to iteratively explore the blob to find what it needs to answer the user's question.\n",
    "\n",
    "In the below example, we are using the OpenAPI spec for the OpenAI API, which you can find [here](https://github.com/openai/openai-openapi/blob/master/openapi.yaml).\n",
    "\n",
    "We will use the JSON agent to answer some questions about the API spec."
   ]
  },
  {
   "cell_type": "markdown",
   "id": "893f90fd-f8f6-470a-a76d-1f200ba02e2f",
   "metadata": {},
   "source": [
    "## Initialization"
   ]
  },
  {
   "cell_type": "code",
   "execution_count": 2,
   "id": "ff988466-c389-4ec6-b6ac-14364a537fd5",
   "metadata": {
    "tags": []
   },
   "outputs": [],
   "source": [
    "import os\n",
    "import yaml\n",
    "\n",
    "from langchain.agents import (\n",
    "    create_json_agent,\n",
    "    AgentExecutor\n",
    ")\n",
    "from langchain.agents.agent_toolkits import JsonToolkit\n",
    "from langchain.chains import LLMChain\n",
    "from langchain.llms.openai import OpenAI\n",
    "from langchain.requests import TextRequestsWrapper\n",
    "from langchain.tools.json.tool import JsonSpec\n",
    "\n",
    "from langchain.agents.agent_types import AgentType\n",
    "from langchain.chat_models import ChatOpenAI"
   ]
  },
  {
   "cell_type": "code",
   "execution_count": 3,
   "id": "5761e0c9",
   "metadata": {},
   "outputs": [],
   "source": [
    "# agent_executor = create_python_agent(\n",
    "#     llm=ChatOpenAI(temperature=0, model=\"gpt-3.5-turbo-0613\"),\n",
    "#     tool=tool,\n",
    "#     verbose=True,\n",
    "#     agent_type=AgentType.OPENAI_FUNCTIONS\n",
    "# )"
   ]
  },
  {
   "cell_type": "code",
   "execution_count": 4,
   "id": "27a7c229",
   "metadata": {},
   "outputs": [],
   "source": [
    "# data['paths'].keys()"
   ]
  },
  {
   "cell_type": "code",
   "execution_count": 5,
   "id": "9c8bfdb2",
   "metadata": {},
   "outputs": [],
   "source": [
    "# with open(\"openai_openapi.yml\") as f:\n",
    "#     data = yaml.load(f, Loader=yaml.FullLoader)"
   ]
  },
  {
   "cell_type": "code",
   "execution_count": 6,
   "id": "f6fe33f7",
   "metadata": {},
   "outputs": [],
   "source": [
    "data = {\n",
    "    'contacts':\n",
    "    {\n",
    "      \"name\": \"John Doe\",\n",
    "      \"age\": 30,\n",
    "      \"email\": \"johndoe@example.com\",\n",
    "      \"address\": \n",
    "        {\n",
    "            \"main\": {\n",
    "            \"street\": \"123 Main St\",\n",
    "            \"city\": \"New York\",\n",
    "            \"state\": \"NY\",\n",
    "            \"zipcode\": \"10001\",\n",
    "            \"phone numbers\":\n",
    "                [\n",
    "                    '123456',\n",
    "                    '654321'\n",
    "                ]\n",
    "          },\n",
    "            \"secondary\": {\n",
    "            \"street\": \"456 Main St\",\n",
    "            \"city\": \"New York\",\n",
    "            \"state\": \"NY\",\n",
    "            \"zipcode\": \"10001\"  \n",
    "            },\n",
    "        },\n",
    "      \"phone_numbers\": [\n",
    "        {\n",
    "          \"type\": \"home\",\n",
    "          \"number\": \"555-1234\"\n",
    "        },\n",
    "        {\n",
    "          \"type\": \"work\",\n",
    "          \"number\": \"555-5678\"\n",
    "        }\n",
    "      ],\n",
    "      \"friends\": [\n",
    "        {\n",
    "          \"name\": \"Jane Smith\",\n",
    "          \"age\": 28,\n",
    "          \"email\": \"janesmith@example.com\"\n",
    "        },\n",
    "        {\n",
    "          \"name\": \"Tom Johnson\",\n",
    "          \"age\": 32,\n",
    "          \"email\": \"tomjohnson@example.com\"\n",
    "        }\n",
    "      ],\n",
    "    }\n",
    "}"
   ]
  },
  {
   "cell_type": "code",
   "execution_count": 7,
   "id": "9ecd1ba0-3937-4359-a41e-68605f0596a1",
   "metadata": {
    "tags": []
   },
   "outputs": [],
   "source": [
    "json_spec = JsonSpec(dict_=data, max_value_length=4000)\n",
    "json_toolkit = JsonToolkit(spec=json_spec)"
   ]
  },
  {
   "cell_type": "code",
   "execution_count": 8,
   "id": "1dd86ae6",
   "metadata": {},
   "outputs": [],
   "source": [
    "# json_toolkit.get_tools()[0](\"data['paths']\")"
   ]
  },
  {
   "cell_type": "markdown",
   "id": "05cfcb24-4389-4b8f-ad9e-466e3fca8db0",
   "metadata": {},
   "source": [
    "## Example: getting the required POST parameters for a request"
   ]
  },
  {
   "cell_type": "code",
   "execution_count": 9,
   "id": "84766977",
   "metadata": {},
   "outputs": [],
   "source": [
    "json_agent_executor = create_json_agent(\n",
    "    llm=ChatOpenAI(temperature=0, model=\"gpt-3.5-turbo-0613\"),\n",
    "    toolkit=json_toolkit,\n",
    "    verbose=True,\n",
    "    agent_type=AgentType.OPENAI_FUNCTIONS\n",
    ")"
   ]
  },
  {
   "cell_type": "code",
   "execution_count": 10,
   "id": "fdfa7f18",
   "metadata": {},
   "outputs": [
    {
     "data": {
      "text/plain": [
       "{'name': 'John Doe',\n",
       " 'age': 30,\n",
       " 'email': 'johndoe@example.com',\n",
       " 'address': {'main': {'street': '123 Main St',\n",
       "   'city': 'New York',\n",
       "   'state': 'NY',\n",
       "   'zipcode': '10001',\n",
       "   'phone numbers': ['123456', '654321']},\n",
       "  'secondary': {'street': '456 Main St',\n",
       "   'city': 'New York',\n",
       "   'state': 'NY',\n",
       "   'zipcode': '10001'}},\n",
       " 'phone_numbers': [{'type': 'home', 'number': '555-1234'},\n",
       "  {'type': 'work', 'number': '555-5678'}],\n",
       " 'friends': [{'name': 'Jane Smith',\n",
       "   'age': 28,\n",
       "   'email': 'janesmith@example.com'},\n",
       "  {'name': 'Tom Johnson', 'age': 32, 'email': 'tomjohnson@example.com'}]}"
      ]
     },
     "execution_count": 10,
     "metadata": {},
     "output_type": "execute_result"
    }
   ],
   "source": [
    "data['contacts']"
   ]
  },
  {
   "cell_type": "code",
   "execution_count": 11,
   "id": "2892d323",
   "metadata": {
    "tags": []
   },
   "outputs": [
    {
     "name": "stderr",
     "output_type": "stream",
     "text": [
      "Error in on_chain_start callback: 'name'\n"
     ]
    },
    {
     "name": "stdout",
     "output_type": "stream",
     "text": [
      "\u001b[32;1m\u001b[1;3m\n",
      "Invoking: `json_spec_list_keys` with `data`\n",
      "\n",
      "\n",
      "\u001b[0m\u001b[36;1m\u001b[1;3m['contacts']\u001b[0m\u001b[32;1m\u001b[1;3m\n",
      "Invoking: `json_spec_list_keys` with `data['contacts'][0]`\n",
      "\n",
      "\n",
      "\u001b[0m\u001b[36;1m\u001b[1;3mKeyError(0)\u001b[0m\u001b[32;1m\u001b[1;3m\n",
      "Invoking: `json_spec_list_keys` with `data['contacts']`\n",
      "\n",
      "\n",
      "\u001b[0m\u001b[36;1m\u001b[1;3m['name', 'age', 'email', 'address', 'phone_numbers', 'friends']\u001b[0m\u001b[32;1m\u001b[1;3m\n",
      "Invoking: `json_spec_get_value` with `data['contacts'][0]['address']`\n",
      "\n",
      "\n",
      "\u001b[0m\u001b[33;1m\u001b[1;3mKeyError(0)\u001b[0m\u001b[32;1m\u001b[1;3m\n",
      "Invoking: `json_spec_get_value` with `data['contacts'][0]['phone_numbers']`\n",
      "\n",
      "\n",
      "\u001b[0m\u001b[33;1m\u001b[1;3mKeyError(0)\u001b[0m\u001b[32;1m\u001b[1;3m\n",
      "Invoking: `json_spec_get_value` with `data['contacts'][0]['name']`\n",
      "\n",
      "\n",
      "\u001b[0m\u001b[33;1m\u001b[1;3mKeyError(0)\u001b[0m\u001b[32;1m\u001b[1;3m\n",
      "Invoking: `json_spec_get_value` with `data['contacts'][0]['phone_numbers'][0]`\n",
      "\n",
      "\n",
      "\u001b[0m\u001b[33;1m\u001b[1;3mKeyError(0)\u001b[0m\u001b[32;1m\u001b[1;3m\n",
      "Invoking: `json_spec_get_value` with `data['contacts'][0]['phone_numbers']`\n",
      "\n",
      "\n",
      "\u001b[0m\u001b[33;1m\u001b[1;3mKeyError(0)\u001b[0m\u001b[32;1m\u001b[1;3m\n",
      "Invoking: `json_spec_get_value` with `data['contacts'][0]['phone_numbers']`\n",
      "\n",
      "\n",
      "\u001b[0m\u001b[33;1m\u001b[1;3mKeyError(0)\u001b[0m\u001b[32;1m\u001b[1;3m\n",
      "Invoking: `json_spec_get_value` with `data['contacts'][0]['phone_numbers']`\n",
      "\n",
      "\n",
      "\u001b[0m\u001b[33;1m\u001b[1;3mKeyError(0)\u001b[0m\u001b[32;1m\u001b[1;3m\n",
      "Invoking: `json_spec_get_value` with `data['contacts'][0]['phone_numbers']`\n",
      "\n",
      "\n",
      "\u001b[0m\u001b[33;1m\u001b[1;3mKeyError(0)\u001b[0m\u001b[32;1m\u001b[1;3m\n",
      "Invoking: `json_spec_get_value` with `data['contacts'][0]['phone_numbers']`\n",
      "\n",
      "\n",
      "\u001b[0m\u001b[33;1m\u001b[1;3mKeyError(0)\u001b[0m\u001b[32;1m\u001b[1;3m\n",
      "Invoking: `json_spec_get_value` with `data['contacts'][0]['phone_numbers']`\n",
      "\n",
      "\n",
      "\u001b[0m\u001b[33;1m\u001b[1;3mKeyError(0)\u001b[0m\u001b[32;1m\u001b[1;3m\n",
      "Invoking: `json_spec_get_value` with `data['contacts'][0]['phone_numbers']`\n",
      "\n",
      "\n",
      "\u001b[0m\u001b[33;1m\u001b[1;3mKeyError(0)\u001b[0m\u001b[32;1m\u001b[1;3m\n",
      "Invoking: `json_spec_get_value` with `data['contacts'][0]['phone_numbers']`\n",
      "\n",
      "\n",
      "\u001b[0m\u001b[33;1m\u001b[1;3mKeyError(0)\u001b[0m\u001b[32;1m\u001b[1;3m\u001b[0m\n",
      "\n",
      "\u001b[1m> Finished chain.\u001b[0m\n"
     ]
    },
    {
     "data": {
      "text/plain": [
       "'Agent stopped due to iteration limit or time limit.'"
      ]
     },
     "execution_count": 11,
     "metadata": {},
     "output_type": "execute_result"
    }
   ],
   "source": [
    "json_agent_executor.run(\"What are John Doe's main address and what are his phone numbers?\")"
   ]
  },
  {
   "cell_type": "code",
   "execution_count": 12,
   "id": "b0703628",
   "metadata": {
    "tags": []
   },
   "outputs": [
    {
     "name": "stderr",
     "output_type": "stream",
     "text": [
      "Error in on_chain_start callback: 'name'\n"
     ]
    },
    {
     "name": "stdout",
     "output_type": "stream",
     "text": [
      "\u001b[32;1m\u001b[1;3m\n",
      "Invoking: `json_spec_list_keys` with `data['paths']['/completions']['post']['requestBody']['content']['application/json']['schema']['required']`\n",
      "\n",
      "\n",
      "\u001b[0m\u001b[36;1m\u001b[1;3mKeyError('paths')\u001b[0m\u001b[32;1m\u001b[1;3m\n",
      "Invoking: `json_spec_list_keys` with `data['components']['schemas']['CompletionsRequest']['required']`\n",
      "\n",
      "\n",
      "\u001b[0m\u001b[36;1m\u001b[1;3mKeyError('components')\u001b[0m\u001b[32;1m\u001b[1;3mI don't know the required parameters in the request body to the /completions endpoint.\u001b[0m\n",
      "\n",
      "\u001b[1m> Finished chain.\u001b[0m\n"
     ]
    },
    {
     "data": {
      "text/plain": [
       "\"I don't know the required parameters in the request body to the /completions endpoint.\""
      ]
     },
     "execution_count": 12,
     "metadata": {},
     "output_type": "execute_result"
    }
   ],
   "source": [
    "json_agent_executor.run(\"What are the required parameters in the request body to the /completions endpoint?\")"
   ]
  },
  {
   "cell_type": "code",
   "execution_count": null,
   "id": "6e3c7606",
   "metadata": {},
   "outputs": [],
   "source": []
  },
  {
   "cell_type": "code",
   "execution_count": 13,
   "id": "7d7201be",
   "metadata": {},
   "outputs": [],
   "source": [
    "json_agent_executor = create_json_agent(\n",
    "#     llm=ChatOpenAI(temperature=0, model=\"gpt-3.5-turbo-0613\"),\n",
    "    llm=OpenAI(),\n",
    "    toolkit=json_toolkit,\n",
    "    verbose=True)"
   ]
  },
  {
   "cell_type": "code",
   "execution_count": 14,
   "id": "faf13702-50f0-4d1b-b91f-48c750ccfd98",
   "metadata": {
    "tags": []
   },
   "outputs": [
    {
     "name": "stderr",
     "output_type": "stream",
     "text": [
      "Error in on_chain_start callback: 'name'\n"
     ]
    },
    {
     "name": "stdout",
     "output_type": "stream",
     "text": [
      "\u001b[32;1m\u001b[1;3mAction: json_spec_list_keys\n",
      "Action Input: data\u001b[0m\n",
      "Observation: \u001b[36;1m\u001b[1;3m['contacts']\u001b[0m\n",
      "Thought:\u001b[32;1m\u001b[1;3m The contacts key looks promising, I should see what's inside\n",
      "Action: json_spec_list_keys\n",
      "Action Input: data[\"contacts\"][0]\u001b[0m\n",
      "Observation: \u001b[36;1m\u001b[1;3mKeyError(0)\u001b[0m\n",
      "Thought:\u001b[32;1m\u001b[1;3m I need to go back and see what other keys are present\n",
      "Action: json_spec_list_keys\n",
      "Action Input: data\u001b[0m\n",
      "Observation: \u001b[36;1m\u001b[1;3m['contacts']\u001b[0m\n",
      "Thought:"
     ]
    },
    {
     "name": "stderr",
     "output_type": "stream",
     "text": [
      "\n",
      "KeyboardInterrupt\n",
      "\n"
     ]
    }
   ],
   "source": [
    "json_agent_executor.run(\"What are the required parameters in the request body to the /completions endpoint?\")"
   ]
  }
 ],
 "metadata": {
  "kernelspec": {
   "display_name": "Python 3 (ipykernel)",
   "language": "python",
   "name": "python3"
  },
  "language_info": {
   "codemirror_mode": {
    "name": "ipython",
    "version": 3
   },
   "file_extension": ".py",
   "mimetype": "text/x-python",
   "name": "python",
   "nbconvert_exporter": "python",
   "pygments_lexer": "ipython3",
   "version": "3.9.1"
  }
 },
 "nbformat": 4,
 "nbformat_minor": 5
}
