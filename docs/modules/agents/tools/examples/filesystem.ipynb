{
 "cells": [
  {
   "cell_type": "markdown",
   "metadata": {},
   "source": [
    "# File System Tools\n",
    "\n",
    "LangChain provides tools for interacting with a local file system out of the box. This notebook walks through some of them.\n",
    "\n",
    "Note: these tools are not recommended for use outside a sandboxed environment! "
   ]
  },
  {
   "cell_type": "markdown",
   "metadata": {},
   "source": [
    "First, we'll import the tools."
   ]
  },
  {
   "cell_type": "code",
   "execution_count": 1,
   "metadata": {
    "tags": []
   },
   "outputs": [],
   "source": [
    "from langchain.tools.file_management import (\n",
    "    ReadFileTool,\n",
    "    CopyFileTool,\n",
    "    DeleteFileTool,\n",
    "    MoveFileTool,\n",
    "    WriteFileTool,\n",
    "    ListDirectoryTool,\n",
    "    FileManagementToolkit,\n",
    ")\n",
    "\n",
    "from pathlib import Path\n",
    "from tempfile import TemporaryDirectory\n",
    "\n",
    "# We'll make a temporary directory to avoid clutter\n",
    "working_directory = TemporaryDirectory()"
   ]
  },
  {
   "cell_type": "markdown",
   "metadata": {},
   "source": [
    "## The FileManagementToolkit\n",
    "\n",
    "If you want to provide all the file tooling to your agent, it's easy to do so with the toolkit. We'll pass the temporary directory in as a root directory as a workspace for the LLM.\n",
    "\n",
    "It's recommended to always pass in a root directory, since without one, it's easy for the LLM to pollute the working directory, and without one, there isn't any validation against\n",
    "straightforward prompt injection."
   ]
  },
  {
   "cell_type": "code",
   "execution_count": 2,
   "metadata": {
    "tags": []
   },
   "outputs": [
    {
     "data": {
      "text/plain": [
       "[CopyFileTool(name='copy_file', description='Create a copy of a file in a specified location', args_schema=<class 'langchain.tools.file_management.copy.FileCopyInput'>, return_direct=False, verbose=False, callback_manager=<langchain.callbacks.shared.SharedCallbackManager object at 0x7fc15d7f6670>, root_dir='/tmp/tmpqhyzrp4l'),\n",
       " DeleteFileTool(name='file_delete', description='Delete a file', args_schema=<class 'langchain.tools.file_management.delete.FileDeleteInput'>, return_direct=False, verbose=False, callback_manager=<langchain.callbacks.shared.SharedCallbackManager object at 0x7fc15d7f6670>, root_dir='/tmp/tmpqhyzrp4l'),\n",
       " FileSearchTool(name='file_search', description='Recursively search for files in a subdirectory that match the regex pattern', args_schema=<class 'langchain.tools.file_management.file_search.FileSearchInput'>, return_direct=False, verbose=False, callback_manager=<langchain.callbacks.shared.SharedCallbackManager object at 0x7fc15d7f6670>, root_dir='/tmp/tmpqhyzrp4l'),\n",
       " MoveFileTool(name='move_file', description='Move or rename a file from one location to another', args_schema=<class 'langchain.tools.file_management.move.FileMoveInput'>, return_direct=False, verbose=False, callback_manager=<langchain.callbacks.shared.SharedCallbackManager object at 0x7fc15d7f6670>, root_dir='/tmp/tmpqhyzrp4l'),\n",
       " ReadFileTool(name='read_file', description='Read file from disk', args_schema=<class 'langchain.tools.file_management.read.ReadFileInput'>, return_direct=False, verbose=False, callback_manager=<langchain.callbacks.shared.SharedCallbackManager object at 0x7fc15d7f6670>, root_dir='/tmp/tmpqhyzrp4l'),\n",
       " EditFileTool(name='edit_file', description='Edit file between line numbers (line numbers start at 0).', args_schema=<class 'langchain.tools.file_management.edit.EditFileInput'>, return_direct=False, verbose=False, callback_manager=<langchain.callbacks.shared.SharedCallbackManager object at 0x7fc15d7f6670>, root_dir='/tmp/tmpqhyzrp4l'),\n",
       " WriteFileTool(name='write_file', description='Write file to disk', args_schema=<class 'langchain.tools.file_management.write.WriteFileInput'>, return_direct=False, verbose=False, callback_manager=<langchain.callbacks.shared.SharedCallbackManager object at 0x7fc15d7f6670>, root_dir='/tmp/tmpqhyzrp4l'),\n",
       " ListDirectoryTool(name='list_directory', description='List files and directories in a specified folder', args_schema=<class 'langchain.tools.file_management.list_dir.DirectoryListingInput'>, return_direct=False, verbose=False, callback_manager=<langchain.callbacks.shared.SharedCallbackManager object at 0x7fc15d7f6670>, root_dir='/tmp/tmpqhyzrp4l')]"
      ]
     },
     "execution_count": 2,
     "metadata": {},
     "output_type": "execute_result"
    }
   ],
   "source": [
    "toolkit = FileManagementToolkit(root_dir=str(working_directory.name)) # If you don't provide a root_dir, operations will default to the current working directory\n",
    "toolkit.get_tools()"
   ]
  },
  {
   "cell_type": "markdown",
   "metadata": {},
   "source": [
    "### Selecting File System Tools\n",
    "\n",
    "If you only want to select certain tools, you can pass them in as arguments when initializing the toolkit, or you can individually initialize the desired tools."
   ]
  },
  {
   "cell_type": "code",
   "execution_count": 3,
   "metadata": {
    "tags": []
   },
   "outputs": [
    {
     "data": {
      "text/plain": [
       "[ReadFileTool(name='read_file', description='Read file from disk', args_schema=<class 'langchain.tools.file_management.read.ReadFileInput'>, return_direct=False, verbose=False, callback_manager=<langchain.callbacks.shared.SharedCallbackManager object at 0x7fc15d7f6670>, root_dir=\"<TemporaryDirectory '/tmp/tmpqhyzrp4l'>\"),\n",
       " ListDirectoryTool(name='list_directory', description='List files and directories in a specified folder', args_schema=<class 'langchain.tools.file_management.list_dir.DirectoryListingInput'>, return_direct=False, verbose=False, callback_manager=<langchain.callbacks.shared.SharedCallbackManager object at 0x7fc15d7f6670>, root_dir=\"<TemporaryDirectory '/tmp/tmpqhyzrp4l'>\")]"
      ]
     },
     "execution_count": 3,
     "metadata": {},
     "output_type": "execute_result"
    }
   ],
   "source": [
    "FileManagementToolkit(root_dir=str(working_directory), selected_tools=[\"read_file\", \"list_directory\"]).get_tools()"
   ]
  },
  {
   "cell_type": "markdown",
   "metadata": {},
   "source": [
    "### Connecting to an Agent\n",
    "\n",
    "\n",
    "These tools can be passed to any agent."
   ]
  },
  {
   "cell_type": "code",
   "execution_count": 4,
   "metadata": {
    "tags": []
   },
   "outputs": [],
   "source": [
    "import re\n",
    "from typing import Union\n",
    "from langchain import OpenAI\n",
    "from langchain.agents import initialize_agent, AgentType\n",
    "from langchain.agents.chat.output_parser import AgentAction, AgentFinish, ChatOutputParser, OutputParserException"
   ]
  },
  {
   "cell_type": "code",
   "execution_count": 5,
   "metadata": {
    "tags": []
   },
   "outputs": [],
   "source": [
    "tools = toolkit.get_tools()\n",
    "for tool in tools:\n",
    "    args_schema = re.sub(\"}\", \"}}\", re.sub(\"{\", \"{{\", str(tool.args)))\n",
    "    tool.description = tool.description + f\" Args Schema: {args_schema}\""
   ]
  },
  {
   "cell_type": "code",
   "execution_count": 6,
   "metadata": {
    "tags": []
   },
   "outputs": [],
   "source": [
    "llm = OpenAI(temperature=0)\n",
    "agent = initialize_agent(tools=tools, llm=llm, verbose=True, agent=AgentType.CHAT_ZERO_SHOT_REACT_DESCRIPTION)"
   ]
  },
  {
   "cell_type": "code",
   "execution_count": 7,
   "metadata": {
    "tags": []
   },
   "outputs": [
    {
     "name": "stdout",
     "output_type": "stream",
     "text": [
      "\n",
      "\n",
      "\u001b[1m> Entering new AgentExecutor chain...\u001b[0m\n",
      "\u001b[32;1m\u001b[1;3m\n",
      "Thought: I need to write a file\n",
      "Action:\n",
      "```\n",
      "{\n",
      "  \"action\": \"write_file\",\n",
      "  \"action_input\": {\n",
      "    \"file_path\": \"secret_poem.txt\",\n",
      "    \"text\": \"The parrot was so smart,\\nIt could fly and talk with art.\\nIt could solve puzzles and riddles,\\nAnd even do some fiddles.\\n\\nIt could read and write with ease,\\nAnd even count up to three.\\nIt could even do some math,\\nAnd make a funny quip with a laugh.\"\n",
      "  }\n",
      "}\n",
      "```\n",
      "\u001b[0m\n",
      "Observation: \u001b[38;5;200m\u001b[1;3mFile written successfully to secret_poem.txt.\u001b[0m\n",
      "Thought:\u001b[32;1m\u001b[1;3m I now know the final answer\n",
      "Final Answer: File written successfully to secret_poem.txt.\u001b[0m\n",
      "\n",
      "\u001b[1m> Finished chain.\u001b[0m\n"
     ]
    },
    {
     "data": {
      "text/plain": [
       "{'input': \"Write a secret poem (2 stanza long) about a super-intelligent parrot to 'secret_poem.txt'\",\n",
       " 'output': 'File written successfully to secret_poem.txt.'}"
      ]
     },
     "execution_count": 7,
     "metadata": {},
     "output_type": "execute_result"
    }
   ],
   "source": [
    "agent(\"Write a secret poem (2 stanza long) about a super-intelligent parrot to 'secret_poem.txt'\")"
   ]
  },
  {
   "cell_type": "code",
   "execution_count": 8,
   "metadata": {},
   "outputs": [
    {
     "name": "stdout",
     "output_type": "stream",
     "text": [
      "\n",
      "\n",
      "\u001b[1m> Entering new AgentExecutor chain...\u001b[0m\n",
      "\u001b[32;1m\u001b[1;3mThought: I need to read the poem, change the first paragraph, and then write the new version to the file.\n",
      "Action:\n",
      "```\n",
      "{\n",
      "  \"action\": \"read_file\",\n",
      "  \"action_input\": {\n",
      "    \"file_path\": \"secret_poem.txt\"\n",
      "  }\n",
      "}\n",
      "```\n",
      "\u001b[0m\n",
      "Observation: \u001b[36;1m\u001b[1;3mThe parrot was so smart,\n",
      "It could fly and talk with art.\n",
      "It could solve puzzles and riddles,\n",
      "And even do some fiddles.\n",
      "\n",
      "It could read and write with ease,\n",
      "And even count up to three.\n",
      "It could even do some math,\n",
      "And make a funny quip with a laugh.\u001b[0m\n",
      "Thought:\u001b[32;1m\u001b[1;3m I need to edit the first paragraph of the poem and write it to the file.\n",
      "Action:\n",
      "```\n",
      "{\n",
      "  \"action\": \"edit_file\",\n",
      "  \"action_input\": {\n",
      "    \"file_path\": \"secret_poem.txt\",\n",
      "    \"start_line\": 0,\n",
      "    \"end_line\": 3,\n",
      "    \"text\": \"The parrot was so wise,\\nIt could fly and talk with ease.\\nIt could solve puzzles and riddles,\\nAnd even do some fiddles.\"\n",
      "  }\n",
      "}\n",
      "```\n",
      "\n",
      "\u001b[0m\n",
      "Observation: \u001b[33;1m\u001b[1;3msecret_poem.txt changed successfully!\u001b[0m\n",
      "Thought:\u001b[32;1m\u001b[1;3m I now know the final answer\n",
      "Final Answer: secret_poem.txt changed successfully!\u001b[0m\n",
      "\n",
      "\u001b[1m> Finished chain.\u001b[0m\n"
     ]
    },
    {
     "data": {
      "text/plain": [
       "{'input': 'Read the poem for me, change the first paragraph and then edit `secret_poem.txt` to insert this',\n",
       " 'output': 'secret_poem.txt changed successfully!'}"
      ]
     },
     "execution_count": 8,
     "metadata": {},
     "output_type": "execute_result"
    }
   ],
   "source": [
    "agent(\"Read the poem for me, change the first paragraph and then edit `secret_poem.txt` to insert this\")"
   ]
  },
  {
   "cell_type": "code",
   "execution_count": 9,
   "metadata": {
    "tags": []
   },
   "outputs": [
    {
     "name": "stdout",
     "output_type": "stream",
     "text": [
      "\n",
      "\n",
      "\u001b[1m> Entering new AgentExecutor chain...\u001b[0m\n",
      "\u001b[32;1m\u001b[1;3m\n",
      "Thought: I need to read a file\n",
      "Action:\n",
      "```\n",
      "{\n",
      "  \"action\": \"read_file\",\n",
      "  \"action_input\": {\n",
      "    \"file_path\": \"secret_poem.txt\"\n",
      "  }\n",
      "}\n",
      "```\n",
      "\u001b[0m\n",
      "Observation: \u001b[36;1m\u001b[1;3mThe parrot was so wise,\n",
      "It could fly and talk with ease.\n",
      "It could solve puzzles and riddles,\n",
      "And even do some fiddles.\n",
      "And even do some fiddles.\n",
      "\n",
      "\n",
      "\n",
      "It could read and write with ease,\n",
      "\n",
      "And even count up to three.\n",
      "\n",
      "It could even do some math,\n",
      "\n",
      "And make a funny quip with a laugh.\u001b[0m\n",
      "Thought:\u001b[32;1m\u001b[1;3m I now know the final answer\n",
      "Final Answer: The parrot was so wise,\n",
      "It could fly and talk with ease.\n",
      "It could solve puzzles and riddles,\n",
      "And even do some fiddles.\n",
      "And even do some fiddles.\n",
      "It could read and write with ease,\n",
      "And even count up to three.\n",
      "It could even do some math,\n",
      "And make a funny quip with a laugh.\u001b[0m\n",
      "\n",
      "\u001b[1m> Finished chain.\u001b[0m\n"
     ]
    },
    {
     "data": {
      "text/plain": [
       "{'input': 'Read the secret poem for me.',\n",
       " 'output': 'The parrot was so wise,\\nIt could fly and talk with ease.\\nIt could solve puzzles and riddles,\\nAnd even do some fiddles.\\nAnd even do some fiddles.\\nIt could read and write with ease,\\nAnd even count up to three.\\nIt could even do some math,\\nAnd make a funny quip with a laugh.'}"
      ]
     },
     "execution_count": 9,
     "metadata": {},
     "output_type": "execute_result"
    }
   ],
   "source": [
    "# This agent has no memory, but it can search the file system to find the answer\n",
    "agent(\"Read the secret poem for me.\")"
   ]
  },
  {
   "cell_type": "code",
   "execution_count": 10,
   "metadata": {
    "tags": []
   },
   "outputs": [
    {
     "name": "stdout",
     "output_type": "stream",
     "text": [
      "\n",
      "\n",
      "\u001b[1m> Entering new AgentExecutor chain...\u001b[0m\n",
      "\u001b[32;1m\u001b[1;3m\n",
      "Thought: I need to move a file from one location to another\n",
      "Action:\n",
      "```\n",
      "{\n",
      "  \"action\": \"move_file\",\n",
      "  \"action_input\": {\n",
      "    \"source_path\": \"secret_poem.txt\",\n",
      "    \"destination_path\": \"todo_list.txt\"\n",
      "  }\n",
      "}\n",
      "```\n",
      "\u001b[0m\n",
      "Observation: \u001b[31;1m\u001b[1;3mFile moved successfully from secret_poem.txt to todo_list.txt.\u001b[0m\n",
      "Thought:\u001b[32;1m\u001b[1;3m I now know the final answer\n",
      "Final Answer: The secret poem has been moved to todo_list.txt.\u001b[0m\n",
      "\n",
      "\u001b[1m> Finished chain.\u001b[0m\n"
     ]
    },
    {
     "data": {
      "text/plain": [
       "{'input': \"Move the secret poem so people think it's just a todo list.\",\n",
       " 'output': 'The secret poem has been moved to todo_list.txt.'}"
      ]
     },
     "execution_count": 10,
     "metadata": {},
     "output_type": "execute_result"
    }
   ],
   "source": [
    "agent(\"Move the secret poem so people think it's just a todo list.\")"
   ]
  },
  {
   "cell_type": "code",
   "execution_count": 11,
   "metadata": {
    "tags": []
   },
   "outputs": [
    {
     "name": "stdout",
     "output_type": "stream",
     "text": [
      "\n",
      "\n",
      "\u001b[1m> Entering new AgentExecutor chain...\u001b[0m\n",
      "\u001b[32;1m\u001b[1;3m\n",
      "Thought: I need to copy a file\n",
      "Action:\n",
      "```\n",
      "{\n",
      "  \"action\": \"copy_file\",\n",
      "  \"action_input\": {\n",
      "    \"source_path\": \"todo_list.txt\",\n",
      "    \"destination_path\": \"copied_todo_list.txt\"\n",
      "  }\n",
      "}\n",
      "```\n",
      "\u001b[0m\n",
      "Observation: \u001b[36;1m\u001b[1;3mFile copied successfully from todo_list.txt to copied_todo_list.txt.\u001b[0m\n",
      "Thought:\u001b[32;1m\u001b[1;3m I now know the final answer\n",
      "Final Answer: The todo list has been successfully copied.\u001b[0m\n",
      "\n",
      "\u001b[1m> Finished chain.\u001b[0m\n"
     ]
    },
    {
     "data": {
      "text/plain": [
       "{'input': 'Copy the todo list  please.',\n",
       " 'output': 'The todo list has been successfully copied.'}"
      ]
     },
     "execution_count": 11,
     "metadata": {},
     "output_type": "execute_result"
    }
   ],
   "source": [
    "agent(\"Copy the todo list  please.\")"
   ]
  },
  {
   "cell_type": "code",
   "execution_count": 12,
   "metadata": {
    "tags": []
   },
   "outputs": [
    {
     "name": "stdout",
     "output_type": "stream",
     "text": [
      "\n",
      "\n",
      "\u001b[1m> Entering new AgentExecutor chain...\u001b[0m\n",
      "\u001b[32;1m\u001b[1;3m\n",
      "Thought: I need to delete a file\n",
      "Action:\n",
      "```\n",
      "{\n",
      "  \"action\": \"file_delete\",\n",
      "  \"action_input\": {\n",
      "    \"file_path\": \"todo_list.txt\"\n",
      "  }\n",
      "}\n",
      "```\n",
      "\u001b[0m\n",
      "Observation: \u001b[33;1m\u001b[1;3mFile deleted successfully: todo_list.txt.\u001b[0m\n",
      "Thought:\u001b[32;1m\u001b[1;3m I now know the final answer\n",
      "Final Answer: The original todo list file has been removed.\u001b[0m\n",
      "\n",
      "\u001b[1m> Finished chain.\u001b[0m\n"
     ]
    },
    {
     "data": {
      "text/plain": [
       "{'input': 'Remove the original todo list file, please',\n",
       " 'output': 'The original todo list file has been removed.'}"
      ]
     },
     "execution_count": 12,
     "metadata": {},
     "output_type": "execute_result"
    }
   ],
   "source": [
    "agent(\"Remove the original todo list file, please\")"
   ]
  },
  {
   "cell_type": "code",
   "execution_count": 13,
   "metadata": {
    "tags": []
   },
   "outputs": [
    {
     "data": {
      "text/plain": [
       "[PosixPath('/tmp/tmpqhyzrp4l/copied_todo_list.txt')]"
      ]
     },
     "execution_count": 13,
     "metadata": {},
     "output_type": "execute_result"
    }
   ],
   "source": [
    "# The agent has cleaned up the copies\n",
    "list(Path(working_directory.name).rglob('*.txt'))"
   ]
  },
  {
   "cell_type": "markdown",
   "metadata": {},
   "source": [
    "**Example searching for files in a directory**"
   ]
  },
  {
   "cell_type": "code",
   "execution_count": 14,
   "metadata": {
    "tags": []
   },
   "outputs": [],
   "source": [
    "from uuid import uuid4\n",
    "uuids = set()\n",
    "sub_dir = Path(working_directory.name) / str(uuid4()) / str(uuid4())\n",
    "sub_dir.mkdir(parents=True)\n",
    "with (sub_dir / 'some_file.py').open('w') as f:\n",
    "    f.write(\"print(42)\")"
   ]
  },
  {
   "cell_type": "code",
   "execution_count": 15,
   "metadata": {
    "tags": []
   },
   "outputs": [
    {
     "name": "stdout",
     "output_type": "stream",
     "text": [
      "\n",
      "\n",
      "\u001b[1m> Entering new AgentExecutor chain...\u001b[0m\n",
      "\u001b[32;1m\u001b[1;3mThought: I need to find a python file and read its contents\n",
      "Action:\n",
      "```\n",
      "{\n",
      "  \"action\": \"read_file\",\n",
      "  \"action_input\": {\n",
      "    \"file_path\": \"path/to/python/file.py\"\n",
      "  }\n",
      "}\n",
      "```\n",
      "\u001b[0m\n",
      "Observation: \u001b[36;1m\u001b[1;3mError: no such file or directory: path/to/python/file.py\u001b[0m\n",
      "Thought:\u001b[32;1m\u001b[1;3m I need to search for the python file\n",
      "Action:\n",
      "```\n",
      "{\n",
      "  \"action\": \"file_search\",\n",
      "  \"action_input\": {\n",
      "    \"dir_path\": \".\",\n",
      "    \"pattern\": \"*.py\"\n",
      "  }\n",
      "}\n",
      "```\n",
      "\n",
      "\u001b[0m\n",
      "Observation: \u001b[38;5;200m\u001b[1;3m206e04d7-64cf-419b-b00d-7eaf150e5d0d/b8ce367f-828c-40fb-a1dc-2b6a1534abda/some_file.py\u001b[0m\n",
      "Thought:\u001b[32;1m\u001b[1;3m I need to read the contents of the file\n",
      "Action:\n",
      "```\n",
      "{\n",
      "  \"action\": \"read_file\",\n",
      "  \"action_input\": {\n",
      "    \"file_path\": \"206e04d7-64cf-419b-b00d-7eaf150e5d0d/b8ce367f-828c-40fb-a1dc-2b6a1534abda/some_file.py\"\n",
      "  }\n",
      "}\n",
      "```\n",
      "\n",
      "\u001b[0m\n",
      "Observation: \u001b[36;1m\u001b[1;3mprint(42)\u001b[0m\n",
      "Thought:\u001b[32;1m\u001b[1;3m I now know the contents of the file\n",
      "Final Answer: The file contains the line \"print(42)\".\u001b[0m\n",
      "\n",
      "\u001b[1m> Finished chain.\u001b[0m\n"
     ]
    },
    {
     "data": {
      "text/plain": [
       "{'input': 'Find a python file and tell me what it says',\n",
       " 'output': 'The file contains the line \"print(42)\".'}"
      ]
     },
     "execution_count": 15,
     "metadata": {},
     "output_type": "execute_result"
    }
   ],
   "source": [
    "# It can search the file system t\n",
    "agent(\"Find a python file and tell me what it says\")"
   ]
  },
  {
   "cell_type": "code",
   "execution_count": null,
   "metadata": {},
   "outputs": [],
   "source": []
  }
 ],
 "metadata": {
  "kernelspec": {
   "display_name": "Python 3 (ipykernel)",
   "language": "python",
   "name": "python3"
  },
  "language_info": {
   "codemirror_mode": {
    "name": "ipython",
    "version": 3
   },
   "file_extension": ".py",
   "mimetype": "text/x-python",
   "name": "python",
   "nbconvert_exporter": "python",
   "pygments_lexer": "ipython3",
   "version": "3.9.16"
  }
 },
 "nbformat": 4,
 "nbformat_minor": 4
}
