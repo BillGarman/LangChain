{
 "cells": [
  {
   "attachments": {},
   "cell_type": "markdown",
   "id": "245a954a",
   "metadata": {},
   "source": [
    "# Jira\n",
    "\n",
    "This notebook goes over how to use the Jira tool.\n",
    "The Jira tool allows agents to interact with a given Jira instance, performing actions such as searching for issues and creating issues, the tool wraps the atlassian-python-api library, for more see: https://atlassian-python-api.readthedocs.io/jira.html\n",
    "\n",
    "To use this tool, you must first set as environment variables:\n",
    "    JIRA_API_TOKEN\n",
    "    JIRA_USERNAME\n",
    "    JIRA_INSTANCE_URL"
   ]
  },
  {
   "cell_type": "code",
   "execution_count": null,
   "id": "961b3689",
   "metadata": {
    "vscode": {
     "languageId": "shellscript"
    }
   },
   "outputs": [],
   "source": [
    "pip install atlassian-python-api\n",
    "pip install json"
   ]
  },
  {
   "cell_type": "code",
   "execution_count": 6,
   "id": "34bb5968",
   "metadata": {},
   "outputs": [],
   "source": [
    "from langchain.agents import AgentType\n",
    "from langchain.agents import initialize_agent\n",
    "from langchain.agents.agent_toolkits.jira.toolkit import JiraToolkit\n",
    "from langchain.llms import OpenAI\n",
    "from langchain.utilities.jira import JiraAPIWrapper\n",
    "\n",
    "os.environ[\"JIRA_API_TOKEN\"] = \"abc\"\n",
    "os.environ[\"JIRA_USERNAME\"] = \"123\"\n",
    "os.environ[\"JIRA_INSTANCE_URL\"] = \"https://jira.atlassian.com\""
   ]
  },
  {
   "cell_type": "code",
   "execution_count": 9,
   "id": "ac4910f8",
   "metadata": {},
   "outputs": [],
   "source": [
    "llm = OpenAI(temperature=0)\n",
    "jira = JiraAPIWrapper()\n",
    "toolkit = JiraToolkit.from_jira_api_wrapper(jira)\n",
    "agent = initialize_agent(\n",
    "    toolkit.get_tools(),\n",
    "    llm,\n",
    "    agent=AgentType.ZERO_SHOT_REACT_DESCRIPTION,\n",
    "    verbose=True\n",
    ")"
   ]
  }
 ],
 "metadata": {
  "kernelspec": {
   "display_name": ".venv",
   "language": "python",
   "name": "python3"
  },
  "language_info": {
   "codemirror_mode": {
    "name": "ipython",
    "version": 3
   },
   "file_extension": ".py",
   "mimetype": "text/x-python",
   "name": "python",
   "nbconvert_exporter": "python",
   "pygments_lexer": "ipython3",
   "version": "3.9.7"
  },
  "vscode": {
   "interpreter": {
    "hash": "53f3bc57609c7a84333bb558594977aa5b4026b1d6070b93987956689e367341"
   }
  }
 },
 "nbformat": 4,
 "nbformat_minor": 5
}
