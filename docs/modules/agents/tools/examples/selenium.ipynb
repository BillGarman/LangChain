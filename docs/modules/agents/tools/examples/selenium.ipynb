{
 "cells": [
  {
   "attachments": {},
   "cell_type": "markdown",
   "metadata": {},
   "source": [
    "# Selenium: Let AutoGPT Use Chrome Interactively\n",
    "\n",
    "This notebook goes over how to use the `selenium` tool. \n",
    "\n",
    "First, you need to install `selenium` python package."
   ]
  },
  {
   "cell_type": "code",
   "execution_count": null,
   "metadata": {
    "vscode": {
     "languageId": "shellscript"
    }
   },
   "outputs": [],
   "source": [
    "!pip install selenium"
   ]
  },
  {
   "cell_type": "code",
   "execution_count": 1,
   "metadata": {},
   "outputs": [],
   "source": [
    "from langchain.utilities import SeleniumWrapper"
   ]
  },
  {
   "cell_type": "code",
   "execution_count": 2,
   "metadata": {},
   "outputs": [],
   "source": [
    "selenium = SeleniumWrapper()"
   ]
  },
  {
   "cell_type": "code",
   "execution_count": 3,
   "metadata": {},
   "outputs": [
    {
     "data": {
      "text/plain": [
       "\"Heading Output: \\n\\nParagraph: \\n\\nInteractable Elements: Interactable Element: a, Text: About, Location: {'x': 21, 'y': 17}\\nInteractable Element: a, Text: Store, Location: {'x': 78, 'y': 17}\\nInteractable Element: a, Text: Gmail, Location: {'x': 1163, 'y': 18}\\nInteractable Element: a, Text: Images, Location: {'x': 1212, 'y': 18}\\nInteractable Element: a, Text: Sign in, Location: {'x': 1326, 'y': 12}\\nInteractable Element: a, Text: in your community, Location: {'x': 649, 'y': 411}\\nInteractable Element: a, Text: Advertising, Location: {'x': 20, 'y': 704}\\nInteractable Element: a, Text: Business, Location: {'x': 119, 'y': 704}\\nInteractable Element: a, Text: How Search works, Location: {'x': 206, 'y': 704}\\nInteractable Element: a, Text: Carbon neutral since 2007, Location: {'x': 614, 'y': 704}\\nInteractable Element: a, Text: Privacy, Location: {'x': 1195, 'y': 704}\\nInteractable Element: a, Text: Terms, Location: {'x': 1271, 'y': 704}\\n\""
      ]
     },
     "execution_count": 3,
     "metadata": {},
     "output_type": "execute_result"
    }
   ],
   "source": [
    "docs = selenium.describe_website(\"https://google.com\")\n",
    "docs"
   ]
  },
  {
   "cell_type": "code",
   "execution_count": 4,
   "metadata": {},
   "outputs": [
    {
     "data": {
      "text/plain": [
       "'Clicked interactable element with text: About\\n'"
      ]
     },
     "execution_count": 4,
     "metadata": {},
     "output_type": "execute_result"
    }
   ],
   "source": [
    "docs = selenium.click_button_by_text(\"About\")\n",
    "docs"
   ]
  },
  {
   "cell_type": "code",
   "execution_count": 5,
   "metadata": {},
   "outputs": [],
   "source": [
    "del selenium"
   ]
  }
 ],
 "metadata": {
  "kernelspec": {
   "display_name": ".venv",
   "language": "python",
   "name": "python3"
  },
  "language_info": {
   "codemirror_mode": {
    "name": "ipython",
    "version": 3
   },
   "file_extension": ".py",
   "mimetype": "text/x-python",
   "name": "python",
   "nbconvert_exporter": "python",
   "pygments_lexer": "ipython3",
   "version": "3.11.2"
  },
  "orig_nbformat": 4
 },
 "nbformat": 4,
 "nbformat_minor": 2
}
