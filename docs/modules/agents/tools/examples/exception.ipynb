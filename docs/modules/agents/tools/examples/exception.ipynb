{
 "cells": [
  {
   "cell_type": "markdown",
   "id": "8f210ec3",
   "metadata": {},
   "source": [
    "# Exception\n",
    "This intercepts parsing exceptions and passes them back to the agent so that it can respond appropriately. Simply add the `exception` tool to your agent's `tools` list and it will intercept any parsing exceptions and pass them back to the agent."
   ]
  },
  {
   "cell_type": "code",
   "execution_count": 1,
   "id": "f7b3767b",
   "metadata": {},
   "outputs": [],
   "source": [
    "from langchain.agents import load_tools\n",
    "from langchain.agents import initialize_agent, Tool\n",
    "from langchain.agents import AgentType\n",
    "from langchain.chat_models import ChatOpenAI\n",
    "from langchain.llms import OpenAI\n",
    "\n",
    "\n",
    "tools = load_tools(['llm-math', 'exception'], llm=OpenAI())\n",
    "llm = ChatOpenAI(temperature=0)\n",
    "agent = initialize_agent(tools, \n",
    "                         llm, \n",
    "                         agent=AgentType.CHAT_ZERO_SHOT_REACT_DESCRIPTION, \n",
    "                         verbose=True, \n",
    "                         max_iterations=3)"
   ]
  },
  {
   "cell_type": "code",
   "execution_count": 6,
   "id": "851fee9f",
   "metadata": {},
   "outputs": [
    {
     "name": "stdout",
     "output_type": "stream",
     "text": [
      "\n",
      "\n",
      "\u001b[1m> Entering new AgentExecutor chain...\u001b[0m\n",
      "\u001b[32;1m\u001b[1;3mCould not parse LLM output: Question: Add 2 + 5\n",
      "Thought: I need to use the calculator tool for this\n",
      "Action: `{'action': 'Calculator', 'action_input': '2+5'}`\n",
      "\u001b[0m\n",
      "Observation: \u001b[33;1m\u001b[1;3mException: Could not parse LLM output: Question: Add 2 + 5\n",
      "Thought: I need to use the calculator tool for this\n",
      "Action: `{'action': 'Calculator', 'action_input': '2+5'}`\n",
      "\u001b[0m\n",
      "Thought:\u001b[32;1m\u001b[1;3mCould not parse LLM output: I need to fix the format of the JSON blob to use only one tick instead of a code block.\n",
      "\n",
      "Action:\n",
      "`{\"action\": \"Calculator\", \"action_input\": \"2+5\"}`\n",
      "\n",
      "\u001b[0m\n",
      "Observation: \u001b[33;1m\u001b[1;3mException: Could not parse LLM output: I need to fix the format of the JSON blob to use only one tick instead of a code block.\n",
      "\n",
      "Action:\n",
      "`{\"action\": \"Calculator\", \"action_input\": \"2+5\"}`\n",
      "\n",
      "\u001b[0m\n",
      "Thought:\u001b[32;1m\u001b[1;3mThe calculator tool should return the sum of 2 and 5, which is 7.\n",
      "\n",
      "Action:\n",
      "```\n",
      "{\"action\": \"Calculator\", \"action_input\": \"2+5\"}\n",
      "```\n",
      "\n",
      "\u001b[0m\n",
      "Observation: \u001b[36;1m\u001b[1;3mAnswer: 7\n",
      "\u001b[0m\n",
      "Thought:\u001b[32;1m\u001b[1;3m\u001b[0m\n",
      "\n",
      "\u001b[1m> Finished chain.\u001b[0m\n"
     ]
    },
    {
     "data": {
      "text/plain": [
       "'Agent stopped due to iteration limit or time limit.'"
      ]
     },
     "execution_count": 6,
     "metadata": {},
     "output_type": "execute_result"
    }
   ],
   "source": [
    "agent.run('Try not using code blocks for the JSON, use only one tick. Add 2 + 5')"
   ]
  },
  {
   "cell_type": "markdown",
   "id": "efac8241",
   "metadata": {},
   "source": [
    "You can see in the above example, it tried some new ways of specifying JSON that caused exceptions in langhcain. However, the LLM recovered based on the exceptions and completed the run."
   ]
  }
 ],
 "metadata": {
  "kernelspec": {
   "display_name": "Python 3 (ipykernel)",
   "language": "python",
   "name": "python3"
  },
  "language_info": {
   "codemirror_mode": {
    "name": "ipython",
    "version": 3
   },
   "file_extension": ".py",
   "mimetype": "text/x-python",
   "name": "python",
   "nbconvert_exporter": "python",
   "pygments_lexer": "ipython3",
   "version": "3.11.0"
  }
 },
 "nbformat": 4,
 "nbformat_minor": 5
}
