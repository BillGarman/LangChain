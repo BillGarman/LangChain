{
 "cells": [
  {
   "cell_type": "markdown",
   "metadata": {},
   "source": [
    "# GraphQL\n",
    "\n",
    "GraphQL is a query language for APIs and a runtime for executing those queries against your data. \n",
    "GraphQL is designed to provide more flexibility and efficiency when requesting data from APIs, allowing clients to request only the data they need.\n",
    "\n",
    "First you need to install 'gql' python package.\n",
    "\n"
   ]
  },
  {
   "cell_type": "code",
   "execution_count": null,
   "metadata": {
    "vscode": {
     "languageId": "shellscript"
    }
   },
   "outputs": [],
   "source": [
    "!pip install gql"
   ]
  },
  {
   "cell_type": "code",
   "execution_count": 1,
   "metadata": {},
   "outputs": [],
   "source": [
    "from langchain.utilities import GraphQLAPIWrapper "
   ]
  },
  {
   "cell_type": "markdown",
   "metadata": {},
   "source": [
    "In this example, we are using a public GraphQL API with information about the Star Wars film series. The API is available at the following endpoint:\n",
    "\n",
    "`https://swapi-graphql.netlify.app/.netlify/functions/index`"
   ]
  },
  {
   "cell_type": "code",
   "execution_count": 6,
   "metadata": {},
   "outputs": [],
   "source": [
    "graphwrapper = GraphQLAPIWrapper(graphql_endpoint=\"https://swapi-graphql.netlify.app/.netlify/functions/index\")"
   ]
  },
  {
   "cell_type": "code",
   "execution_count": 9,
   "metadata": {},
   "outputs": [
    {
     "data": {
      "text/plain": [
       "'{\\n  \"allFilms\": {\\n    \"films\": [\\n      {\\n        \"title\": \"A New Hope\"\\n      },\\n      {\\n        \"title\": \"The Empire Strikes Back\"\\n      },\\n      {\\n        \"title\": \"Return of the Jedi\"\\n      },\\n      {\\n        \"title\": \"The Phantom Menace\"\\n      },\\n      {\\n        \"title\": \"Attack of the Clones\"\\n      },\\n      {\\n        \"title\": \"Revenge of the Sith\"\\n      }\\n    ]\\n  }\\n}'"
      ]
     },
     "execution_count": 9,
     "metadata": {},
     "output_type": "execute_result"
    }
   ],
   "source": [
    "query = \"\"\"\n",
    "{\n",
    "  allFilms {\n",
    "    films {\n",
    "      title\n",
    "    }\n",
    "  }\n",
    "}\n",
    "\"\"\"\n",
    "graphwrapper.run(query)"
   ]
  }
 ],
 "metadata": {
  "interpreter": {
   "hash": "f85209c3c4c190dca7367d6a1e623da50a9a4392fd53313a7cf9d4bda9c4b85b"
  },
  "kernelspec": {
   "display_name": "Python 3.9.16 ('langchain')",
   "language": "python",
   "name": "python3"
  },
  "language_info": {
   "codemirror_mode": {
    "name": "ipython",
    "version": 3
   },
   "file_extension": ".py",
   "mimetype": "text/x-python",
   "name": "python",
   "nbconvert_exporter": "python",
   "pygments_lexer": "ipython3",
   "version": "3.9.16"
  },
  "orig_nbformat": 4
 },
 "nbformat": 4,
 "nbformat_minor": 2
}
