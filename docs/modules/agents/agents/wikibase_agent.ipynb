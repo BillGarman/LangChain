{
 "cells": [
  {
   "cell_type": "markdown",
   "id": "c98fc3eb-c366-421f-b990-fa63d7afe1a4",
   "metadata": {
    "tags": []
   },
   "source": [
    "# Wikibase Agent\n",
    "\n",
    "This notebook demonstrates a simple wikibase agent that uses sparql generation."
   ]
  },
  {
   "cell_type": "markdown",
   "id": "07d42966-7e99-4157-90dc-6704977dcf1b",
   "metadata": {
    "tags": []
   },
   "source": [
    "## Preliminaries"
   ]
  },
  {
   "cell_type": "markdown",
   "id": "376d225f-6f76-4920-8c73-b20a69166a58",
   "metadata": {},
   "source": [
    "### Install the latest langchain"
   ]
  },
  {
   "cell_type": "code",
   "execution_count": 1,
   "id": "d8efd9ed-f3b0-432d-bd5d-00082159f1fb",
   "metadata": {
    "tags": []
   },
   "outputs": [
    {
     "name": "stdout",
     "output_type": "stream",
     "text": [
      "Looking in indexes: https://artifactory.concurtech.net/artifactory/api/pypi/pypi.python.org/simple, https://artifactory.concurtech.net/artifactory/api/pypi/ext-pypi-selfserve-local/simple\n",
      "Processing /Users/i857913/Downloads/langchain-0.0.131-py3-none-any.whl\n",
      "\u001b[33mWARNING: Retrying (Retry(total=4, connect=None, read=None, redirect=None, status=None)) after connection broken by 'NewConnectionError('<pip._vendor.urllib3.connection.HTTPSConnection object at 0x102a34610>: Failed to establish a new connection: [Errno 8] nodename nor servname provided, or not known')': /artifactory/api/pypi/pypi.python.org/simple/dataclasses-json/\u001b[0m\u001b[33m\n",
      "\u001b[0m\u001b[33mWARNING: Retrying (Retry(total=3, connect=None, read=None, redirect=None, status=None)) after connection broken by 'NewConnectionError('<pip._vendor.urllib3.connection.HTTPSConnection object at 0x102a34400>: Failed to establish a new connection: [Errno 8] nodename nor servname provided, or not known')': /artifactory/api/pypi/pypi.python.org/simple/dataclasses-json/\u001b[0m\u001b[33m\n",
      "\u001b[0m\u001b[33mWARNING: Retrying (Retry(total=2, connect=None, read=None, redirect=None, status=None)) after connection broken by 'NewConnectionError('<pip._vendor.urllib3.connection.HTTPSConnection object at 0x102a34d60>: Failed to establish a new connection: [Errno 8] nodename nor servname provided, or not known')': /artifactory/api/pypi/pypi.python.org/simple/dataclasses-json/\u001b[0m\u001b[33m\n",
      "\u001b[0m\u001b[33mWARNING: Retrying (Retry(total=1, connect=None, read=None, redirect=None, status=None)) after connection broken by 'NewConnectionError('<pip._vendor.urllib3.connection.HTTPSConnection object at 0x102a34c40>: Failed to establish a new connection: [Errno 8] nodename nor servname provided, or not known')': /artifactory/api/pypi/pypi.python.org/simple/dataclasses-json/\u001b[0m\u001b[33m\n",
      "\u001b[0m\u001b[33mWARNING: Retrying (Retry(total=0, connect=None, read=None, redirect=None, status=None)) after connection broken by 'NewConnectionError('<pip._vendor.urllib3.connection.HTTPSConnection object at 0x102a19460>: Failed to establish a new connection: [Errno 8] nodename nor servname provided, or not known')': /artifactory/api/pypi/pypi.python.org/simple/dataclasses-json/\u001b[0m\u001b[33m\n",
      "\u001b[0m\u001b[33mWARNING: Retrying (Retry(total=4, connect=None, read=None, redirect=None, status=None)) after connection broken by 'NewConnectionError('<pip._vendor.urllib3.connection.HTTPSConnection object at 0x102a3b160>: Failed to establish a new connection: [Errno 8] nodename nor servname provided, or not known')': /artifactory/api/pypi/ext-pypi-selfserve-local/simple/dataclasses-json/\u001b[0m\u001b[33m\n",
      "\u001b[0m\u001b[33mWARNING: Retrying (Retry(total=3, connect=None, read=None, redirect=None, status=None)) after connection broken by 'NewConnectionError('<pip._vendor.urllib3.connection.HTTPSConnection object at 0x102a3bfd0>: Failed to establish a new connection: [Errno 8] nodename nor servname provided, or not known')': /artifactory/api/pypi/ext-pypi-selfserve-local/simple/dataclasses-json/\u001b[0m\u001b[33m\n",
      "\u001b[0m\u001b[33mWARNING: Retrying (Retry(total=2, connect=None, read=None, redirect=None, status=None)) after connection broken by 'NewConnectionError('<pip._vendor.urllib3.connection.HTTPSConnection object at 0x102a47220>: Failed to establish a new connection: [Errno 8] nodename nor servname provided, or not known')': /artifactory/api/pypi/ext-pypi-selfserve-local/simple/dataclasses-json/\u001b[0m\u001b[33m\n",
      "\u001b[0m\u001b[33mWARNING: Retrying (Retry(total=1, connect=None, read=None, redirect=None, status=None)) after connection broken by 'NewConnectionError('<pip._vendor.urllib3.connection.HTTPSConnection object at 0x102a473d0>: Failed to establish a new connection: [Errno 8] nodename nor servname provided, or not known')': /artifactory/api/pypi/ext-pypi-selfserve-local/simple/dataclasses-json/\u001b[0m\u001b[33m\n",
      "\u001b[0m^C\n",
      "\u001b[31mERROR: Operation cancelled by user\u001b[0m\u001b[31m\n",
      "\u001b[0m\u001b[33mWARNING: There was an error checking the latest version of pip.\u001b[0m\u001b[33m\n",
      "\u001b[0m"
     ]
    }
   ],
   "source": [
    "!pip install /Users/i857913/Downloads/langchain-0.0.131-py3-none-any.whl"
   ]
  },
  {
   "cell_type": "markdown",
   "id": "db08d308-050a-4fc8-93c9-8de4ae977ac3",
   "metadata": {},
   "source": [
    "### Enable tracing if desired"
   ]
  },
  {
   "cell_type": "code",
   "execution_count": 1,
   "id": "77d2da08-fccd-4676-b77e-c0e89bf343cb",
   "metadata": {},
   "outputs": [],
   "source": [
    "import os\n",
    "#os.environ[\"LANGCHAIN_HANDLER\"] = \"langchain\"\n",
    "#os.environ[\"LANGCHAIN_SESSION\"] = \"default\" # Make sure this session actually exists. You can create a new session in the UI."
   ]
  },
  {
   "cell_type": "markdown",
   "id": "9132f093-c61e-4b8d-abef-91ebef3fc85f",
   "metadata": {
    "tags": []
   },
   "source": [
    "### API Keys"
   ]
  },
  {
   "cell_type": "code",
   "execution_count": 2,
   "id": "469eaf50-d0bd-4c1a-8048-28ca1a27d29f",
   "metadata": {
    "tags": []
   },
   "outputs": [],
   "source": [
    "import configparser\n",
    "config = configparser.ConfigParser()\n",
    "config.read('../training/secrets.ini')\n",
    "import os\n",
    "import openai\n",
    "os.environ.update({'OPENAI_API_KEY': config['OPENAI']['OPENAI_API_KEY']})\n",
    "openai.api_key = os.getenv('OPENAI_API_KEY')"
   ]
  },
  {
   "cell_type": "markdown",
   "id": "3dbc5bfc-48ce-4f90-873c-7336b21300c6",
   "metadata": {},
   "source": [
    "# Tools"
   ]
  },
  {
   "cell_type": "markdown",
   "id": "1f801b4e-6576-4914-aa4f-6f4c4e3c7924",
   "metadata": {
    "tags": []
   },
   "source": [
    "## Vocabulary lookup\n",
    "Vacabulary lookup uses an elastic search endpoint. Not all wikibase instances have it, but wikidata does, and that's where we'll start."
   ]
  },
  {
   "cell_type": "code",
   "execution_count": 3,
   "id": "45515367-c5fb-411e-9fb4-8e47dedcad3a",
   "metadata": {},
   "outputs": [],
   "source": [
    "from typing import Any, Dict, List, Optional, Union, Optional\n",
    "\n",
    "def get_nested_value(nested_dict: Dict[str, Any], path: List[str]) -> Optional[Any]:\n",
    "    current = nested_dict\n",
    "    for key in path:\n",
    "        if not isinstance(current, dict) or key not in current:\n",
    "            return None\n",
    "        current = current[key]\n",
    "    return current\n",
    "\n"
   ]
  },
  {
   "cell_type": "code",
   "execution_count": 4,
   "id": "42d23f0a-1c74-4c9c-85f2-d0e24204e96a",
   "metadata": {},
   "outputs": [],
   "source": [
    "import requests\n",
    "\n",
    "def vocab_lookup(search: str, entity_type: str = \"item\",\n",
    "                 item_tag: str = None, \n",
    "                 srqiprofile: str = \"classic_noboostlinks\") -> Optional[str]:\n",
    "    \n",
    "    if item_tag is not None:\n",
    "        if item_tag.startswith(\"q-\"):\n",
    "            entity_type = \"item\"\n",
    "        elif item_tag.startswith(\"p-\"):\n",
    "            entity_type = \"property\"   \n",
    "    \n",
    "    if entity_type == \"item\":\n",
    "        srnamespace = 0\n",
    "    elif entity_type == \"property\":\n",
    "        srnamespace = 120\n",
    "    else:\n",
    "        raise ValueError(\"entity_type must be either 'property' or 'item'\")      \n",
    "        \n",
    "    url = \"https://www.wikidata.org/w/api.php\"\n",
    "    params = {\n",
    "        \"action\": \"query\",\n",
    "        \"list\": \"search\",\n",
    "        \"srsearch\": search,\n",
    "        \"srnamespace\": srnamespace,\n",
    "        \"srlimit\": 5,\n",
    "        \"srqiprofile\": srqiprofile,\n",
    "        \"srwhat\": 'text',\n",
    "        \"format\": \"json\"\n",
    "    }\n",
    "    headers = {'Accept': 'application/json'}\n",
    "\n",
    "    response = requests.get(url, headers=headers, params=params)\n",
    "        \n",
    "    if response.status_code == 200:\n",
    "        results = get_nested_value(response.json(), ['query', 'search'])\n",
    "        if results and len(results) > 0:\n",
    "            # print(results)\n",
    "            title = results[0]['title']\n",
    "            # properties are returned with a prefix 'property:'\n",
    "            return results[0]['title'].split(':')[-1]\n",
    "        else:\n",
    "            print(f\"I couldn't find {entity_type} found for '{search}'. Please rephrase your request and try again\")\n",
    "            return \"\"\n",
    "    else:\n",
    "        # print(f\"Request failed with status code {response.status_code}\")\n",
    "        return \"Sorry, I got an error. Please try again.\""
   ]
  },
  {
   "cell_type": "code",
   "execution_count": 5,
   "id": "e52060fa-3614-43fb-894e-54e9b75d1e9f",
   "metadata": {},
   "outputs": [
    {
     "name": "stdout",
     "output_type": "stream",
     "text": [
      "Q4180017\n"
     ]
    }
   ],
   "source": [
    "print(vocab_lookup(\"Malin 1\"))"
   ]
  },
  {
   "cell_type": "markdown",
   "id": "78d66d8b-0e34-4d3f-a18d-c7284840ac76",
   "metadata": {},
   "source": [
    "## Query runner "
   ]
  },
  {
   "cell_type": "markdown",
   "id": "c6f60069-fbe0-4015-87fb-0e487cd914e7",
   "metadata": {},
   "source": [
    "This tool runs sparql - be default, wikidata is used."
   ]
  },
  {
   "cell_type": "code",
   "execution_count": 6,
   "id": "b5b97a4d-2a39-4993-88d9-e7818c0a2853",
   "metadata": {},
   "outputs": [],
   "source": [
    "import requests\n",
    "from typing import List, Dict, Any\n",
    "import json\n",
    "\n",
    "def run_sparql(query: str, url='https://query.wikidata.org/sparql',\n",
    "              llm_mode = True) -> List[Dict[str, Any]]:\n",
    "    headers = {\n",
    "        'Accept': 'application/json',\n",
    "        'User-Agent': 'AskwikiBot/1.0 (https://www.wikidata.org/wiki/User:What_Tottles_Meant)'\n",
    "    }\n",
    "\n",
    "    response = requests.get(url, headers=headers, params={'query': query, 'format': 'json'})\n",
    "\n",
    "    if response.status_code == 200:\n",
    "        results = response.json().get('results', {}).get('bindings', [])\n",
    "        return json.dumps(results)\n",
    "    if llm_mode:\n",
    "        return \"That query failed. Perhaps you could try a different one?\"\n",
    "    return None\n",
    "        "
   ]
  },
  {
   "cell_type": "code",
   "execution_count": 9,
   "id": "149722ec-8bc1-4d4f-892b-e4ddbe8444c1",
   "metadata": {},
   "outputs": [
    {
     "data": {
      "text/plain": [
       "'[{\"count\": {\"datatype\": \"http://www.w3.org/2001/XMLSchema#integer\", \"type\": \"literal\", \"value\": \"20\"}}]'"
      ]
     },
     "execution_count": 9,
     "metadata": {},
     "output_type": "execute_result"
    }
   ],
   "source": [
    "run_sparql(\"SELECT (COUNT(?children) as ?count) WHERE { wd:Q1339 wdt:P40 ?children . }\")"
   ]
  },
  {
   "cell_type": "markdown",
   "id": "0d8a0baa-7693-4bae-a43e-9e7807b7c2e3",
   "metadata": {},
   "source": [
    "## Find properties for a q item\n",
    "\n",
    "This tool is intended to be used to find the properties of an object, so the AI can decide which properties are most useful for a question. The tool is ok, but it returns too much junk to be usable."
   ]
  },
  {
   "cell_type": "code",
   "execution_count": 10,
   "id": "10ec4d8f-47ce-4550-8b5b-e73c8a560dd6",
   "metadata": {},
   "outputs": [],
   "source": [
    "def find_properties_for_qitem(qitem: str):\n",
    "    query = f\"\"\"\n",
    "SELECT DISTINCT ?aLabel ?propLabel \n",
    "WHERE\n",
    "{{\n",
    "  wd:{qitem}  ?a ?b.\n",
    "  SERVICE wikibase:label {{ bd:serviceParam wikibase:language \"en\". }}\n",
    "  ?prop wikibase:directClaim ?a \n",
    "}}\n",
    "\"\"\"\n",
    "    result = run_sparql(query)\n",
    "    if result is None:\n",
    "        return \"I'm sorry, that didn't work. Please try again\"\n",
    "    # save tokens!\n",
    "    # print(result)\n",
    "    response = [(get_nested_value(result, ['aLabel', 'value']).split('/')[-1],\n",
    "                 get_nested_value(result, ['propLabel', 'value'])) for result in eval(result)]\n",
    "\n",
    "    return json.dumps(response)\n"
   ]
  },
  {
   "cell_type": "code",
   "execution_count": 11,
   "id": "1ffb7d35-c7ff-4510-9192-46a7c5933b58",
   "metadata": {
    "tags": []
   },
   "outputs": [
    {
     "data": {
      "text/plain": [
       "'[[\"P27\", \"country of citizenship\"], [\"P25\", \"mother\"], [\"P53\", \"family\"], [\"P109\", \"signature\"], [\"P106\", \"occupation\"], [\"P135\", \"movement\"], [\"P136\", \"genre\"], [\"P39\", \"position held\"], [\"P40\", \"child\"], [\"P108\", \"employer\"], [\"P119\", \"place of burial\"], [\"P213\", \"ISNI\"], [\"P244\", \"Library of Congress authority ID\"], [\"P227\", \"GND ID\"], [\"P26\", \"spouse\"], [\"P103\", \"native language\"], [\"P69\", \"educated at\"], [\"P158\", \"seal image\"], [\"P31\", \"instance of\"], [\"P214\", \"VIAF ID\"], [\"P140\", \"religion or worldview\"], [\"P1017\", \"Vatican Library ID (former scheme)\"], [\"P1280\", \"CONOR.SI ID\"], [\"P1368\", \"National Library of Latvia ID\"], [\"P2342\", \"AGORHA person/institution ID\"], [\"P1299\", \"depicted by\"], [\"P1005\", \"Portuguese National Library author ID\"], [\"P989\", \"spoken text audio\"], [\"P1559\", \"name in native language\"], [\"P2163\", \"FAST ID\"], [\"P2089\", \"Library of Congress JukeBox ID (former scheme)\"], [\"P2188\", \"BiblioNet author ID\"], [\"P2338\", \"Musopen composer ID\"], [\"P2605\", \"\\\\u010cSFD person ID\"], [\"P2600\", \"Geni.com profile ID\"], [\"P1580\", \"University of Barcelona authority ID (former scheme)\"], [\"P1325\", \"external data available at URL\"], [\"P1050\", \"medical condition\"], [\"P1455\", \"list of works\"], [\"P1303\", \"instrument\"], [\"P950\", \"Biblioteca Nacional de Espa\\\\u00f1a ID\"], [\"P1006\", \"Nationale Thesaurus voor Auteurs ID\"], [\"P1066\", \"student of\"], [\"P1263\", \"NNDB people ID\"], [\"P1309\", \"EGAXA ID\"], [\"P1375\", \"NSK ID\"], [\"P1695\", \"NLP ID (old)\"], [\"P1971\", \"number of children\"], [\"P2538\", \"Nationalmuseum Sweden ID\"], [\"P1003\", \"National Library of Romania ID\"], [\"P1015\", \"NORAF ID\"], [\"P1902\", \"Spotify artist ID\"], [\"P1953\", \"Discogs artist ID\"], [\"P1977\", \"Les Archives du spectacle person ID\"], [\"P2011\", \"Cooper-Hewitt person ID\"], [\"P2397\", \"YouTube channel ID\"], [\"P1038\", \"relative\"], [\"P1207\", \"NUKAT ID\"], [\"P1315\", \"NLA Trove people ID\"], [\"P1636\", \"date of baptism in early childhood\"], [\"P1670\", \"Canadiana Authorities ID (former scheme)\"], [\"P1890\", \"CCAB ID\"], [\"P2168\", \"Swedish Film Database person ID\"], [\"P2469\", \"Theatricalia person ID\"], [\"P2581\", \"BabelNet ID\"], [\"P2639\", \"Filmportal ID\"], [\"P1472\", \"Commons Creator page\"], [\"P973\", \"described at URL\"], [\"P1185\", \"Rodovid ID\"], [\"P1220\", \"Internet Broadway Database person ID\"], [\"P1417\", \"Encyclop\\\\u00e6dia Britannica Online ID\"], [\"P1442\", \"image of grave\"], [\"P1728\", \"AllMusic artist ID\"], [\"P1741\", \"GTAA ID\"], [\"P2381\", \"Academic Tree ID\"], [\"P2510\", \"National Discography of Italian Song artist/group ID\"], [\"P1196\", \"manner of death\"], [\"P998\", \"Curlie ID\"], [\"P1273\", \"CANTIC ID (former scheme)\"], [\"P1711\", \"British Museum person or institution ID\"], [\"P1801\", \"plaque image\"], [\"P1828\", \"IPI name number\"], [\"P1899\", \"LibriVox author ID\"], [\"P1938\", \"Project Gutenberg author ID\"], [\"P1296\", \"Gran Enciclop\\\\u00e8dia Catalana ID\"], [\"P1343\", \"described by source\"], [\"P1412\", \"languages spoken, written or signed\"], [\"P1871\", \"CERL Thesaurus ID\"], [\"P1819\", \"genealogics.org person ID\"], [\"P1816\", \"National Portrait Gallery (London) person ID\"], [\"P2031\", \"work period (start)\"], [\"P271\", \"CiNii Books author ID\"], [\"P396\", \"SBN author ID\"], [\"P648\", \"Open Library ID\"], [\"P839\", \"IMSLP ID\"], [\"P734\", \"family name\"], [\"P735\", \"given name\"], [\"P358\", \"discography\"], [\"P937\", \"work location\"], [\"P373\", \"Commons category\"], [\"P443\", \"pronunciation audio\"], [\"P646\", \"Freebase ID\"], [\"P509\", \"cause of death\"], [\"P935\", \"Commons gallery\"], [\"P802\", \"student\"], [\"P269\", \"IdRef ID\"], [\"P485\", \"archives at\"], [\"P569\", \"date of birth\"], [\"P827\", \"BBC programme ID\"], [\"P949\", \"National Library of Israel ID (old)\"], [\"P910\", \"topic\\'s main category\"], [\"P268\", \"Biblioth\\\\u00e8que nationale de France ID\"], [\"P349\", \"NDL Authority ID\"], [\"P691\", \"NKCR AUT ID\"], [\"P701\", \"Dodis ID\"], [\"P800\", \"notable work\"], [\"P860\", \"e-archiv.li ID\"], [\"P570\", \"date of death\"], [\"P409\", \"Libraries Australia ID\"], [\"P434\", \"MusicBrainz artist ID\"], [\"P345\", \"IMDb ID\"], [\"P535\", \"Find a Grave memorial ID\"], [\"P737\", \"influenced by\"], [\"P865\", \"BMLO ID\"], [\"P906\", \"SELIBR ID\"], [\"P3430\", \"SNAC ARK ID\"], [\"P3674\", \"Mutopia composer ID\"], [\"P3987\", \"SHARE Catalogue author ID\"], [\"P4399\", \"Ita\\\\u00fa Cultural ID\"], [\"P4808\", \"Royal Academy new identifier\"], [\"P5287\", \"Songfacts artist ID\"], [\"P6379\", \"has works in the collection\"], [\"P7109\", \"Acharts.co artist ID\"], [\"P7208\", \"Liber Liber author ID\"], [\"P3221\", \"New York Times topic ID\"], [\"P3388\", \"LittleSis people ID\"], [\"P3417\", \"Quora topic ID\"], [\"P3478\", \"Songkick artist ID\"], [\"P3630\", \"Babelio author ID\"], [\"P3846\", \"DBC author ID\"], [\"P5731\", \"Angelicum ID\"], [\"P6091\", \"MGG Online ID\"], [\"P6298\", \"bgm.tv person ID\"], [\"P6573\", \"Klexikon article ID\"], [\"P6683\", \"Alexander Turnbull Library ID\"], [\"P7212\", \"LyricsTranslate ID\"], [\"P3065\", \"RERO ID (obsolete)\"], [\"P2924\", \"Great Russian Encyclopedia Online ID (old version)\"], [\"P3980\", \"Unifrance person ID\"], [\"P4104\", \"Carnegie Hall agent ID\"], [\"P4359\", \"gravsted.dk ID\"], [\"P4553\", \"RA Collections ID\"], [\"P4619\", \"National Library of Brazil ID\"], [\"P5008\", \"on focus list of Wikimedia project\"], [\"P5019\", \"Brockhaus Enzyklop\\\\u00e4die online ID\"], [\"P5587\", \"Libris-URI\"], [\"P5739\", \"Pontificia Universit\\\\u00e0 della Santa Croce ID\"], [\"P5821\", \"ArhivX LOD\"], [\"P6058\", \"Larousse ID\"], [\"P6844\", \"abART person ID\"], [\"P7024\", \"Flemish Public Libraries ID\"], [\"P2889\", \"FamilySearch person ID\"], [\"P3219\", \"Encyclop\\\\u00e6dia Universalis ID\"], [\"P3222\", \"NE.se ID\"], [\"P4159\", \"WeRelate person ID\"], [\"P4985\", \"TMDB person ID\"], [\"P5063\", \"Interlingual Index ID\"], [\"P6706\", \"De Agostini ID\"], [\"P6868\", \"Hoopla artist ID\"], [\"P4431\", \"Google Doodle\"], [\"P2734\", \"Unz Review author ID\"], [\"P3106\", \"Guardian topic ID\"], [\"P3154\", \"Runeberg author ID\"], [\"P3435\", \"VGMdb artist ID\"], [\"P3569\", \"Cultureel Woordenboek ID\"], [\"P4084\", \"MyAnimeList people ID\"], [\"P4200\", \"Christie\\'s creator ID\"], [\"P4342\", \"Store norske leksikon ID\"], [\"P5247\", \"Giant Bomb ID\"], [\"P5882\", \"Muziekweb performer ID\"], [\"P5905\", \"Comic Vine ID\"], [\"P6394\", \"ELNET ID\"], [\"P6412\", \"Gran Enciclop\\\\u00e8dia de la M\\\\u00fasica ID\"], [\"P3373\", \"sibling\"], [\"P2799\", \"BVMC person ID\"], [\"P3762\", \"openMLOL author ID\"], [\"P3788\", \"BNMM authority ID\"], [\"P3997\", \"Bait La Zemer Ha-Ivri artist ID\"], [\"P5504\", \"RISM ID\"], [\"P6403\", \"TheatreOnline ID\"], [\"P6900\", \"NicoNicoPedia ID\"], [\"P2977\", \"LBT person ID\"], [\"P3029\", \"UK National Archives ID\"], [\"P3192\", \"Last.fm ID\"], [\"P3280\", \"BAnQ author ID\"], [\"P3965\", \"Bridgeman artist ID\"], [\"P4457\", \"DAHR artist ID\"], [\"P5068\", \"Flanders Arts Institute person ID\"], [\"P5796\", \"Internet Game Database person ID\"], [\"P6300\", \"Hymnary author ID\"], [\"P6517\", \"WhoSampled artist ID\"], [\"P6870\", \"Latvian National Encyclopedia Online ID\"], [\"P6886\", \"writing language\"], [\"P7084\", \"related category\"], [\"P2850\", \"Apple Music artist ID (U.S. version)\"], [\"P2949\", \"WikiTree person ID\"], [\"P2966\", \"National Library of Wales Authority ID\"], [\"P3348\", \"National Library of Greece ID\"], [\"P4839\", \"Wolfram Language entity code\"], [\"P5034\", \"National Library of Korea ID\"], [\"P5617\", \"Evene ID\"], [\"P6327\", \"Goodreads character ID\"], [\"P6698\", \"Japan Search name ID\"], [\"P6925\", \"Musicalics composer ID\"], [\"P7029\", \"National Library of Russia ID\"], [\"P7293\", \"PLWABN ID\"], [\"P22\", \"father\"], [\"P19\", \"place of birth\"], [\"P21\", \"sex or gender\"], [\"P18\", \"image\"], [\"P20\", \"place of death\"], [\"P10832\", \"WorldCat Entities ID\"], [\"P7666\", \"Visuotin\\\\u0117 lietuvi\\\\u0173 enciklopedija ID\"], [\"P8179\", \"Canadiana Name Authority ID\"], [\"P8589\", \"Carl-Maria-von-Weber-Gesamtausgabe ID\"], [\"P8591\", \"Grove Music Online ID\"], [\"P7874\", \"EFIS person ID\"], [\"P7929\", \"Roglo person ID\"], [\"P8034\", \"Vatican Library VcBA ID\"], [\"P8080\", \"\\\\u00d6kumenisches Heiligenlexikon ID\"], [\"P8313\", \"Den Store Danske ID\"], [\"P8334\", \"MuseScore artist ID\"], [\"P8349\", \"Proleksis enciklopedija ID\"], [\"P9085\", \"Aracne author ID\"], [\"P9098\", \"BiblioLMC ID\"], [\"P9123\", \"Catalan Vikidia ID\"], [\"P9522\", \"Biblioteca di Santa Sabina ID\"], [\"P9594\", \"Bodleian Archives & Manuscripts person ID\"], [\"P9631\", \"armradioarchive.am person ID\"], [\"P9943\", \"Hill Museum & Manuscript Library ID\"], [\"P10141\", \"Academy of Athens authority ID\"], [\"P10242\", \"Lur Encyclopedic Dictionary ID\"], [\"P10780\", \"Radio France person ID\"], [\"P11686\", \"University of Barcelona authority ID\"], [\"P7700\", \"Slovak National Library (VIAF) ID\"], [\"P7502\", \"Golden ID\"], [\"P8168\", \"FactGrid item ID\"], [\"P8234\", \"LiederNet author ID\"], [\"P8235\", \"LiederNet composer ID\"], [\"P8636\", \"McClintock and Strong Biblical Cyclopedia ID\"], [\"P8687\", \"social media followers\"], [\"P8851\", \"CONOR.SR ID\"], [\"P8870\", \"Hyperion Records person ID\"], [\"P9113\", \"Patrinum ID\"], [\"P9918\", \"Kall\\\\u00edas ID\"], [\"P7520\", \"Filmov\\\\u00fd p\\\\u0159ehled person ID\"], [\"P7865\", \"CoBiS author ID\"], [\"P8041\", \"DR music artist ID\"], [\"P8290\", \"Archivio Storico Ricordi person ID\"], [\"P8440\", \"Personendatenbank Germania Sacra ID\"], [\"P8688\", \"CompositionToday composer ID\"], [\"P8947\", \"Museo Galileo authority ID\"], [\"P9037\", \"BHCL UUID\"], [\"P9226\", \"ARAE ID\"], [\"P7305\", \"Online PWN Encyclopedia ID\"], [\"P7763\", \"copyright status as a creator\"], [\"P7902\", \"Deutsche Biographie (GND) ID\"], [\"P8189\", \"National Library of Israel J9U ID\"], [\"P8826\", \"edition humboldt digital ID\"], [\"P8902\", \"Archives at Yale names ID\"], [\"P8980\", \"KANTO ID\"], [\"P9171\", \"RILM ID\"], [\"P9251\", \"Cyprus University of Technology ID\"], [\"P9965\", \"Musik-Sammler.de artist ID\"], [\"P10069\", \"Tabakalera ID\"], [\"P10227\", \"National Library of Ireland ID\"], [\"P10298\", \"Sceneweb artist ID\"], [\"P10527\", \"documentation files at\"], [\"P10553\", \"IxTheo authority ID\"], [\"P11185\", \"Levadia Library ID\"], [\"P7369\", \"National Library of Chile ID\"], [\"P7444\", \"Rijksmuseum Research Library authority ID\"], [\"P8385\", \"IDU person ID\"], [\"P8432\", \"\\\\u00d6sterreichisches Musiklexikon Online ID\"], [\"P8974\", \"SAPA ID\"], [\"P9164\", \"Svenska Institutet i Rom ID\"], [\"P9247\", \"Pontifical University of Salamanca ID\"], [\"P9807\", \"SNK ID\"], [\"P11155\", \"Municipal Library of Trikala ID\"], [\"P11239\", \"DFK Paris person ID\"], [\"P11496\", \"CiNii Research ID\"], [\"P7317\", \"iHeart artist ID\"], [\"P7699\", \"National Library of Lithuania ID\"], [\"P7859\", \"WorldCat Identities ID\"], [\"P7982\", \"Hrvatska enciklopedija ID\"], [\"P8094\", \"GeneaStar person ID\"], [\"P8238\", \"Bibliography of the History of Slovakia ID\"], [\"P8386\", \"Gramophone composer ID\"], [\"P8814\", \"WordNet 3.1 Synset ID\"], [\"P9575\", \"Australian Music Centre artist ID\"], [\"P9686\", \"Classical Archives composer ID\"], [\"P9984\", \"CANTIC ID\"], [\"P10302\", \"Film.ru person ID\"], [\"P7796\", \"BeWeb person ID\"], [\"P8125\", \"Fandango person ID\"], [\"P8750\", \"Unione Romana Biblioteche Scientifiche ID\"], [\"P8819\", \"Pitchfork artist ID\"], [\"P8849\", \"CONOR.BG ID\"], [\"P8971\", \"Cin\\\\u00e9math\\\\u00e8que qu\\\\u00e9b\\\\u00e9coise person ID\"]]'"
      ]
     },
     "execution_count": 11,
     "metadata": {},
     "output_type": "execute_result"
    }
   ],
   "source": [
    "find_properties_for_qitem(\"Q1339\")"
   ]
  },
  {
   "cell_type": "markdown",
   "id": "d5d71ddb-d435-4a00-8b64-097fce3de519",
   "metadata": {},
   "source": [
    "It would be nice to use something like this, but this doesn't work for now. \n"
   ]
  },
  {
   "cell_type": "markdown",
   "id": "9f0302fd-ba35-4acc-ba32-1d7c9295c898",
   "metadata": {},
   "source": [
    "# Sparql Translation Agent"
   ]
  },
  {
   "cell_type": "markdown",
   "id": "3122a961-9673-4a52-b1cd-7d62fbdf8d96",
   "metadata": {},
   "source": [
    "## Wrap the tools"
   ]
  },
  {
   "cell_type": "code",
   "execution_count": 26,
   "id": "cc41ae88-2e53-4363-9878-28b26430cb1e",
   "metadata": {},
   "outputs": [],
   "source": [
    "from langchain.agents import Tool, AgentExecutor, LLMSingleActionAgent, AgentOutputParser\n",
    "from langchain.prompts import StringPromptTemplate\n",
    "from langchain import OpenAI, SerpAPIWrapper, LLMChain\n",
    "from typing import List, Union\n",
    "from langchain.schema import AgentAction, AgentFinish\n",
    "import re"
   ]
  },
  {
   "cell_type": "code",
   "execution_count": 62,
   "id": "2810a3ce-b9c6-47ee-8068-12ca967cd0ea",
   "metadata": {},
   "outputs": [],
   "source": [
    "# Define which tools the agent can use to answer user queries\n",
    "tools = [\n",
    "    Tool(\n",
    "        name = \"ItemLookup\",\n",
    "        func=(lambda x: vocab_lookup(x, entity_type=\"item\")),\n",
    "        description=\"useful for when you need to know the q-number for an item\"\n",
    "    ),\n",
    "    Tool(\n",
    "        name = \"PropertyLookup\",\n",
    "        func=(lambda x: vocab_lookup(x, entity_type=\"property\")),\n",
    "        description=\"useful for when you need to know the p-number for a property\"\n",
    "    ),\n",
    "    Tool(\n",
    "        name = \"SparqlQueryRunner\",\n",
    "        func=run_sparql,\n",
    "        description=\"useful for getting results from a wikibase\"\n",
    "    )    \n",
    "]"
   ]
  },
  {
   "cell_type": "markdown",
   "id": "ab0f2778-a195-4a4a-a5b4-c1e809e1fb7b",
   "metadata": {},
   "source": [
    "## Prompts"
   ]
  },
  {
   "cell_type": "code",
   "execution_count": 63,
   "id": "7bd4ba4f-57d6-4ceb-b932-3cb0d0509a24",
   "metadata": {},
   "outputs": [],
   "source": [
    "# Set up the base template\n",
    "template = \"\"\"\n",
    "Answer the following questions by running a sparql query against a wikibase where the p and q items are \n",
    "completely unknown to you. You will need to discover the p and q items before you can generate the sparql.\n",
    "Do not assume you know the p and q items for any concepts. Always use tools to find all p and q items.\n",
    "After you generate the sparql, you should run it. The results will be returned in json. \n",
    "Summarize the json results in natural language.\n",
    "\n",
    "You may assume the following prefixes:\n",
    "PREFIX wd: <http://www.wikidata.org/entity/>\n",
    "PREFIX wdt: <http://www.wikidata.org/prop/direct/>\n",
    "PREFIX p: <http://www.wikidata.org/prop/>\n",
    "PREFIX ps: <http://www.wikidata.org/prop/statement/>\n",
    "\n",
    "You have access to the following tools:\n",
    "\n",
    "{tools}\n",
    "\n",
    "Use the following format:\n",
    "\n",
    "Question: the input question for which you must provide a natural language answer\n",
    "Thought: you should always think about what to do\n",
    "Action: the action to take, should be one of [{tool_names}]\n",
    "Action Input: the input to the action\n",
    "Observation: the result of the action\n",
    "... (this Thought/Action/Action Input/Observation can repeat N times)\n",
    "Thought: I now know the final answer\n",
    "Final Answer: the final answer to the original input question\n",
    "\n",
    "Question: {input}\n",
    "{agent_scratchpad}\"\"\"\n"
   ]
  },
  {
   "cell_type": "code",
   "execution_count": 64,
   "id": "7e8d771a-64bb-4ec8-b472-6a9a40c6dd38",
   "metadata": {},
   "outputs": [],
   "source": [
    "# Set up a prompt template\n",
    "class CustomPromptTemplate(StringPromptTemplate):\n",
    "    # The template to use\n",
    "    template: str\n",
    "    # The list of tools available\n",
    "    tools: List[Tool]\n",
    "    \n",
    "    def format(self, **kwargs) -> str:\n",
    "        # Get the intermediate steps (AgentAction, Observation tuples)\n",
    "        # Format them in a particular way\n",
    "        intermediate_steps = kwargs.pop(\"intermediate_steps\")\n",
    "        thoughts = \"\"\n",
    "        for action, observation in intermediate_steps:\n",
    "            thoughts += action.log\n",
    "            thoughts += f\"\\nObservation: {observation}\\nThought: \"\n",
    "        # Set the agent_scratchpad variable to that value\n",
    "        kwargs[\"agent_scratchpad\"] = thoughts\n",
    "        # Create a tools variable from the list of tools provided\n",
    "        kwargs[\"tools\"] = \"\\n\".join([f\"{tool.name}: {tool.description}\" for tool in self.tools])\n",
    "        # Create a list of tool names for the tools provided\n",
    "        kwargs[\"tool_names\"] = \", \".join([tool.name for tool in self.tools])\n",
    "        return self.template.format(**kwargs)"
   ]
  },
  {
   "cell_type": "code",
   "execution_count": 65,
   "id": "f97dca78-fdde-4a70-9137-e34a21d14e64",
   "metadata": {},
   "outputs": [],
   "source": [
    "prompt = CustomPromptTemplate(\n",
    "    template=template,\n",
    "    tools=tools,\n",
    "    # This omits the `agent_scratchpad`, `tools`, and `tool_names` variables because those are generated dynamically\n",
    "    # This includes the `intermediate_steps` variable because that is needed\n",
    "    input_variables=[\"input\", \"intermediate_steps\"]\n",
    ")"
   ]
  },
  {
   "cell_type": "markdown",
   "id": "12c57d77-3c1e-4cde-9a83-7d2134392479",
   "metadata": {},
   "source": [
    "## Output parser \n",
    "This is unchanged from langchain docs"
   ]
  },
  {
   "cell_type": "code",
   "execution_count": 66,
   "id": "42da05eb-c103-4649-9d20-7143a8880721",
   "metadata": {},
   "outputs": [],
   "source": [
    "class CustomOutputParser(AgentOutputParser):\n",
    "    \n",
    "    def parse(self, llm_output: str) -> Union[AgentAction, AgentFinish]:\n",
    "        # Check if agent should finish\n",
    "        if \"Final Answer:\" in llm_output:\n",
    "            return AgentFinish(\n",
    "                # Return values is generally always a dictionary with a single `output` key\n",
    "                # It is not recommended to try anything else at the moment :)\n",
    "                return_values={\"output\": llm_output.split(\"Final Answer:\")[-1].strip()},\n",
    "                log=llm_output,\n",
    "            )\n",
    "        # Parse out the action and action input\n",
    "        regex = r\"Action: (.*?)[\\n]*Action Input:[\\s]*(.*)\"\n",
    "        match = re.search(regex, llm_output, re.DOTALL)\n",
    "        if not match:\n",
    "            raise ValueError(f\"Could not parse LLM output: `{llm_output}`\")\n",
    "        action = match.group(1).strip()\n",
    "        action_input = match.group(2)\n",
    "        # Return the action and action input\n",
    "        return AgentAction(tool=action, tool_input=action_input.strip(\" \").strip('\"'), log=llm_output)"
   ]
  },
  {
   "cell_type": "code",
   "execution_count": 67,
   "id": "d2b4d710-8cc9-4040-9269-59cf6c5c22be",
   "metadata": {},
   "outputs": [],
   "source": [
    "output_parser = CustomOutputParser()"
   ]
  },
  {
   "cell_type": "markdown",
   "id": "48a758cb-93a7-4555-b69a-896d2d43c6f0",
   "metadata": {},
   "source": [
    "## Specify the LLM model"
   ]
  },
  {
   "cell_type": "code",
   "execution_count": 68,
   "id": "72988c79-8f60-4b0f-85ee-6af32e8de9c2",
   "metadata": {},
   "outputs": [],
   "source": [
    "#llm = ChatOpenAI(temperature=0)\n",
    "llm = OpenAI(temperature=0)"
   ]
  },
  {
   "cell_type": "markdown",
   "id": "95685d14-647a-4e24-ae2c-a8dd1e364921",
   "metadata": {},
   "source": [
    "## Agent and agent executor"
   ]
  },
  {
   "cell_type": "code",
   "execution_count": 69,
   "id": "13d55765-bfa1-43b3-b7cb-00f52ebe7747",
   "metadata": {},
   "outputs": [],
   "source": [
    "# LLM chain consisting of the LLM and a prompt\n",
    "llm_chain = LLMChain(llm=llm, prompt=prompt)"
   ]
  },
  {
   "cell_type": "code",
   "execution_count": 70,
   "id": "b3f7ac3c-398e-49f9-baed-554f49a191c3",
   "metadata": {},
   "outputs": [],
   "source": [
    "tool_names = [tool.name for tool in tools]\n",
    "agent = LLMSingleActionAgent(\n",
    "    llm_chain=llm_chain, \n",
    "    output_parser=output_parser,\n",
    "    stop=[\"\\nObservation:\"], \n",
    "    allowed_tools=tool_names\n",
    ")"
   ]
  },
  {
   "cell_type": "code",
   "execution_count": 71,
   "id": "65740577-272e-4853-8d47-b87784cfaba0",
   "metadata": {},
   "outputs": [],
   "source": [
    "agent_executor = AgentExecutor.from_agent_and_tools(agent=agent, tools=tools, verbose=True)"
   ]
  },
  {
   "cell_type": "markdown",
   "id": "66e3d13b-77cf-41d3-b541-b54535c14459",
   "metadata": {},
   "source": [
    "## Run it!"
   ]
  },
  {
   "cell_type": "code",
   "execution_count": 53,
   "id": "6e97a07c-d7bf-4a35-9ab2-b59ae865c62c",
   "metadata": {},
   "outputs": [],
   "source": [
    "# Double-secret verbose llm tracing!\n",
    "# agent_executor.agent.llm_chain.verbose = False"
   ]
  },
  {
   "cell_type": "code",
   "execution_count": 75,
   "id": "a11ca60d-f57b-4fe8-943e-a258e37463c7",
   "metadata": {},
   "outputs": [
    {
     "name": "stdout",
     "output_type": "stream",
     "text": [
      "\n",
      "\n",
      "\u001b[1m> Entering new AgentExecutor chain...\u001b[0m\n",
      "\u001b[32;1m\u001b[1;3mThought: I need to find the q-number for J.S. Bach and the p-number for the property \"number of children\".\n",
      "Action: ItemLookup\n",
      "Action Input: J.S. Bach\u001b[0m\n",
      "\n",
      "Observation:\u001b[36;1m\u001b[1;3mQ1339\u001b[0m\u001b[32;1m\u001b[1;3m I need to find the p-number for the property \"number of children\".\n",
      "Action: PropertyLookup\n",
      "Action Input: number of children\u001b[0m\n",
      "\n",
      "Observation:\u001b[33;1m\u001b[1;3mP1971\u001b[0m\u001b[32;1m\u001b[1;3m I need to run a sparql query to get the answer.\n",
      "Action: SparqlQueryRunner\n",
      "Action Input: \n",
      "SELECT ?children WHERE {\n",
      "  wd:Q1339 p:P1971 ?statement .\n",
      "  ?statement ps:P1971 ?children .\n",
      "}\u001b[0m\n",
      "\n",
      "Observation:\u001b[38;5;200m\u001b[1;3m[{\"children\": {\"datatype\": \"http://www.w3.org/2001/XMLSchema#decimal\", \"type\": \"literal\", \"value\": \"20\"}}]\u001b[0m\u001b[32;1m\u001b[1;3m I now know the final answer.\n",
      "Final Answer: J.S. Bach had 20 children.\u001b[0m\n",
      "\n",
      "\u001b[1m> Finished chain.\u001b[0m\n"
     ]
    },
    {
     "data": {
      "text/plain": [
       "'J.S. Bach had 20 children.'"
      ]
     },
     "execution_count": 75,
     "metadata": {},
     "output_type": "execute_result"
    }
   ],
   "source": [
    "agent_executor.run(\"How many children did J.S. Bach have?\")"
   ]
  },
  {
   "cell_type": "code",
   "execution_count": 58,
   "id": "b2acdc6a-0ca4-4f1a-92be-7bb15d2332c5",
   "metadata": {},
   "outputs": [
    {
     "data": {
      "text/plain": [
       "'[{\"children\": {\"datatype\": \"http://www.w3.org/2001/XMLSchema#decimal\", \"type\": \"literal\", \"value\": \"20\"}}]'"
      ]
     },
     "execution_count": 58,
     "metadata": {},
     "output_type": "execute_result"
    }
   ],
   "source": [
    "run_sparql(sparql)"
   ]
  },
  {
   "cell_type": "code",
   "execution_count": 59,
   "id": "d0b42a41-996b-4156-82e4-f0651a87ee34",
   "metadata": {},
   "outputs": [
    {
     "name": "stdout",
     "output_type": "stream",
     "text": [
      "\n",
      "\n",
      "\u001b[1m> Entering new AgentExecutor chain...\u001b[0m\n",
      "\u001b[32;1m\u001b[1;3mThought: I need to find the q-number for Hakeem Olajuwon\n",
      "Action: ItemLookup\n",
      "Action Input: Hakeem Olajuwon\u001b[0m\n",
      "\n",
      "Observation:\u001b[36;1m\u001b[1;3mQ273256\u001b[0m\u001b[32;1m\u001b[1;3m I need to find the p-number for Basketball-Reference.com NBA player ID\n",
      "Action: PropertyLookup\n",
      "Action Input: Basketball-Reference.com NBA player ID\u001b[0m\n",
      "\n",
      "Observation:\u001b[33;1m\u001b[1;3mP2685\u001b[0m\u001b[32;1m\u001b[1;3m I now know the final answer\n",
      "Final Answer: SELECT ?playerID WHERE {wd:Q273256 wdt:P2685 ?playerID}\u001b[0m\n",
      "\n",
      "\u001b[1m> Finished chain.\u001b[0m\n"
     ]
    },
    {
     "data": {
      "text/plain": [
       "'SELECT ?playerID WHERE {wd:Q273256 wdt:P2685 ?playerID}'"
      ]
     },
     "execution_count": 59,
     "metadata": {},
     "output_type": "execute_result"
    }
   ],
   "source": [
    "sparql = agent_executor.run(\"What is the Basketball-Reference.com NBA player ID of Hakeem Olajuwon?\")\n",
    "sparql"
   ]
  },
  {
   "cell_type": "code",
   "execution_count": 60,
   "id": "ce953927-cb09-4868-aa6e-c6e937807f59",
   "metadata": {},
   "outputs": [
    {
     "data": {
      "text/plain": [
       "'[{\"playerID\": {\"type\": \"literal\", \"value\": \"o/olajuha01\"}}]'"
      ]
     },
     "execution_count": 60,
     "metadata": {},
     "output_type": "execute_result"
    }
   ],
   "source": [
    "run_sparql(sparql)"
   ]
  },
  {
   "cell_type": "markdown",
   "id": "cd01df1a-bc8d-46d3-9e0a-1922cf1bee32",
   "metadata": {},
   "source": [
    "# Q/A Agent\n",
    "\n",
    "Add the sparql runner to the toolset and adjust the prompt accordingly."
   ]
  },
  {
   "cell_type": "code",
   "execution_count": 62,
   "id": "841a20c0",
   "metadata": {},
   "outputs": [],
   "source": [
    "# Define which tools the agent can use to answer user queries\n",
    "tools = [\n",
    "    Tool(\n",
    "        name = \"ItemLookup\",\n",
    "        func=(lambda x: vocab_lookup(x, entity_type=\"item\")),\n",
    "        description=\"useful for when you need to know the q-number for an item\"\n",
    "    ),\n",
    "    Tool(\n",
    "        name = \"PropertyLookup\",\n",
    "        func=(lambda x: vocab_lookup(x, entity_type=\"property\")),\n",
    "        description=\"useful for when you need to know the p-number for a property\"\n",
    "    ),\n",
    "    Tool(\n",
    "        name = \"SparqlQueryRunner\",\n",
    "        func=run_sparql,\n",
    "        description=\"useful for getting results from a wikibase\"\n",
    "    )    \n",
    "]"
   ]
  },
  {
   "cell_type": "code",
   "execution_count": 63,
   "id": "a0e3d07a",
   "metadata": {},
   "outputs": [],
   "source": [
    "# Set up the base template\n",
    "template = \"\"\"\n",
    "Answer the following questions by running a sparql query against a wikibase where the p and q items are \n",
    "completely unknown to you. You will need to discover the p and q items before you can generate the sparql.\n",
    "Do not assume you know the p and q items for any concepts. Always use tools to find all p and q items.\n",
    "After you generate the sparql, you should run it. The results will be returned in json. \n",
    "Summarize the json results in natural language.\n",
    "\n",
    "You may assume the following prefixes:\n",
    "PREFIX wd: <http://www.wikidata.org/entity/>\n",
    "PREFIX wdt: <http://www.wikidata.org/prop/direct/>\n",
    "PREFIX p: <http://www.wikidata.org/prop/>\n",
    "PREFIX ps: <http://www.wikidata.org/prop/statement/>\n",
    "\n",
    "You have access to the following tools:\n",
    "\n",
    "{tools}\n",
    "\n",
    "Use the following format:\n",
    "\n",
    "Question: the input question for which you must provide a natural language answer\n",
    "Thought: you should always think about what to do\n",
    "Action: the action to take, should be one of [{tool_names}]\n",
    "Action Input: the input to the action\n",
    "Observation: the result of the action\n",
    "... (this Thought/Action/Action Input/Observation can repeat N times)\n",
    "Thought: I now know the final answer\n",
    "Final Answer: the final answer to the original input question\n",
    "\n",
    "Question: {input}\n",
    "{agent_scratchpad}\"\"\"\n"
   ]
  },
  {
   "cell_type": "code",
   "execution_count": 64,
   "id": "d80691ef",
   "metadata": {},
   "outputs": [],
   "source": [
    "# Set up a prompt template\n",
    "class CustomPromptTemplate(StringPromptTemplate):\n",
    "    # The template to use\n",
    "    template: str\n",
    "    # The list of tools available\n",
    "    tools: List[Tool]\n",
    "    \n",
    "    def format(self, **kwargs) -> str:\n",
    "        # Get the intermediate steps (AgentAction, Observation tuples)\n",
    "        # Format them in a particular way\n",
    "        intermediate_steps = kwargs.pop(\"intermediate_steps\")\n",
    "        thoughts = \"\"\n",
    "        for action, observation in intermediate_steps:\n",
    "            thoughts += action.log\n",
    "            thoughts += f\"\\nObservation: {observation}\\nThought: \"\n",
    "        # Set the agent_scratchpad variable to that value\n",
    "        kwargs[\"agent_scratchpad\"] = thoughts\n",
    "        # Create a tools variable from the list of tools provided\n",
    "        kwargs[\"tools\"] = \"\\n\".join([f\"{tool.name}: {tool.description}\" for tool in self.tools])\n",
    "        # Create a list of tool names for the tools provided\n",
    "        kwargs[\"tool_names\"] = \", \".join([tool.name for tool in self.tools])\n",
    "        return self.template.format(**kwargs)"
   ]
  },
  {
   "cell_type": "code",
   "execution_count": 65,
   "id": "f00623bb",
   "metadata": {},
   "outputs": [],
   "source": [
    "prompt = CustomPromptTemplate(\n",
    "    template=template,\n",
    "    tools=tools,\n",
    "    # This omits the `agent_scratchpad`, `tools`, and `tool_names` variables because those are generated dynamically\n",
    "    # This includes the `intermediate_steps` variable because that is needed\n",
    "    input_variables=[\"input\", \"intermediate_steps\"]\n",
    ")"
   ]
  },
  {
   "cell_type": "code",
   "execution_count": 66,
   "id": "09b884fd",
   "metadata": {},
   "outputs": [],
   "source": [
    "class CustomOutputParser(AgentOutputParser):\n",
    "    \n",
    "    def parse(self, llm_output: str) -> Union[AgentAction, AgentFinish]:\n",
    "        # Check if agent should finish\n",
    "        if \"Final Answer:\" in llm_output:\n",
    "            return AgentFinish(\n",
    "                # Return values is generally always a dictionary with a single `output` key\n",
    "                # It is not recommended to try anything else at the moment :)\n",
    "                return_values={\"output\": llm_output.split(\"Final Answer:\")[-1].strip()},\n",
    "                log=llm_output,\n",
    "            )\n",
    "        # Parse out the action and action input\n",
    "        regex = r\"Action: (.*?)[\\n]*Action Input:[\\s]*(.*)\"\n",
    "        match = re.search(regex, llm_output, re.DOTALL)\n",
    "        if not match:\n",
    "            raise ValueError(f\"Could not parse LLM output: `{llm_output}`\")\n",
    "        action = match.group(1).strip()\n",
    "        action_input = match.group(2)\n",
    "        # Return the action and action input\n",
    "        return AgentAction(tool=action, tool_input=action_input.strip(\" \").strip('\"'), log=llm_output)"
   ]
  },
  {
   "cell_type": "code",
   "execution_count": 67,
   "id": "ecbab7b9",
   "metadata": {},
   "outputs": [],
   "source": [
    "output_parser = CustomOutputParser()"
   ]
  },
  {
   "cell_type": "code",
   "execution_count": 68,
   "id": "2b72ac2d",
   "metadata": {},
   "outputs": [],
   "source": [
    "#llm = ChatOpenAI(temperature=0)\n",
    "llm = OpenAI(temperature=0)"
   ]
  },
  {
   "cell_type": "code",
   "execution_count": 69,
   "id": "fbe796e3",
   "metadata": {},
   "outputs": [],
   "source": [
    "# LLM chain consisting of the LLM and a prompt\n",
    "llm_chain = LLMChain(llm=llm, prompt=prompt)"
   ]
  },
  {
   "cell_type": "code",
   "execution_count": 70,
   "id": "d2471510",
   "metadata": {},
   "outputs": [],
   "source": [
    "tool_names = [tool.name for tool in tools]\n",
    "agent = LLMSingleActionAgent(\n",
    "    llm_chain=llm_chain, \n",
    "    output_parser=output_parser,\n",
    "    stop=[\"\\nObservation:\"], \n",
    "    allowed_tools=tool_names\n",
    ")"
   ]
  },
  {
   "cell_type": "code",
   "execution_count": 71,
   "id": "81ad3b48",
   "metadata": {},
   "outputs": [],
   "source": [
    "agent_executor = AgentExecutor.from_agent_and_tools(agent=agent, tools=tools, verbose=True)"
   ]
  },
  {
   "cell_type": "markdown",
   "id": "9d7647a9-2bdf-4ed6-8f73-242fbc03aaeb",
   "metadata": {},
   "source": [
    "Note: the following cell sometimes fails, depending on what search terms the AI chooses for property lookup"
   ]
  },
  {
   "cell_type": "code",
   "execution_count": 75,
   "id": "e36337d5",
   "metadata": {},
   "outputs": [
    {
     "name": "stdout",
     "output_type": "stream",
     "text": [
      "\n",
      "\n",
      "\u001b[1m> Entering new AgentExecutor chain...\u001b[0m\n",
      "\u001b[32;1m\u001b[1;3mThought: I need to find the q-number for J.S. Bach and the p-number for the property \"number of children\".\n",
      "Action: ItemLookup\n",
      "Action Input: J.S. Bach\u001b[0m\n",
      "\n",
      "Observation:\u001b[36;1m\u001b[1;3mQ1339\u001b[0m\u001b[32;1m\u001b[1;3m I need to find the p-number for the property \"number of children\".\n",
      "Action: PropertyLookup\n",
      "Action Input: number of children\u001b[0m\n",
      "\n",
      "Observation:\u001b[33;1m\u001b[1;3mP1971\u001b[0m\u001b[32;1m\u001b[1;3m I need to run a sparql query to get the answer.\n",
      "Action: SparqlQueryRunner\n",
      "Action Input: \n",
      "SELECT ?children WHERE {\n",
      "  wd:Q1339 p:P1971 ?statement .\n",
      "  ?statement ps:P1971 ?children .\n",
      "}\u001b[0m\n",
      "\n",
      "Observation:\u001b[38;5;200m\u001b[1;3m[{\"children\": {\"datatype\": \"http://www.w3.org/2001/XMLSchema#decimal\", \"type\": \"literal\", \"value\": \"20\"}}]\u001b[0m\u001b[32;1m\u001b[1;3m I now know the final answer.\n",
      "Final Answer: J.S. Bach had 20 children.\u001b[0m\n",
      "\n",
      "\u001b[1m> Finished chain.\u001b[0m\n"
     ]
    },
    {
     "data": {
      "text/plain": [
       "'J.S. Bach had 20 children.'"
      ]
     },
     "execution_count": 75,
     "metadata": {},
     "output_type": "execute_result"
    }
   ],
   "source": [
    "agent_executor.run(\"How many children did J.S. Bach have?\")"
   ]
  },
  {
   "cell_type": "markdown",
   "id": "78f48c74-28a3-463a-af44-707d2a78b55d",
   "metadata": {},
   "source": [
    "Interesting to compare what the model itself thinks:"
   ]
  },
  {
   "cell_type": "code",
   "execution_count": 76,
   "id": "342c2e2f-2a6c-4eb7-aa31-6b6563413d72",
   "metadata": {},
   "outputs": [
    {
     "data": {
      "text/plain": [
       "'\\n\\nJ.S. Bach had seven children.'"
      ]
     },
     "execution_count": 76,
     "metadata": {},
     "output_type": "execute_result"
    }
   ],
   "source": [
    "llm(\"How many children did J.S. Bach have?\")\n"
   ]
  },
  {
   "cell_type": "code",
   "execution_count": null,
   "id": "0c4cb2cb-8faa-4d99-9001-11583b0d7a15",
   "metadata": {},
   "outputs": [],
   "source": []
  }
 ],
 "metadata": {
  "kernelspec": {
   "display_name": "conda210",
   "language": "python",
   "name": "conda210"
  },
  "language_info": {
   "codemirror_mode": {
    "name": "ipython",
    "version": 3
   },
   "file_extension": ".py",
   "mimetype": "text/x-python",
   "name": "python",
   "nbconvert_exporter": "python",
   "pygments_lexer": "ipython3",
   "version": "3.9.16"
  }
 },
 "nbformat": 4,
 "nbformat_minor": 5
}
