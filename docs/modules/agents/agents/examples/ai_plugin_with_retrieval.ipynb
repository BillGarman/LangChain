{
 "cells": [
  {
   "cell_type": "markdown",
   "id": "c7ad998d",
   "metadata": {},
   "source": [
    "# Tool Retrieval over AI Plugins\n",
    "\n",
    "This tutorial assumes familiarity with [Natural Language API Toolkits](../../toolkits/examples/openapi_nla.ipynb). NLAToolkits parse whole OpenAPI specs, which can be too large to reasonably fit into an agent's context. This tutorial walks through using a Retriever object to fetch tools.\n",
    "\n",
    "### First, import dependencies and load the LLM"
   ]
  },
  {
   "cell_type": "code",
   "execution_count": 1,
   "id": "6593f793",
   "metadata": {
    "tags": []
   },
   "outputs": [],
   "source": [
    "import re\n",
    "from typing import Callable, Union, Dict, List, Type\n",
    "\n",
    "from langchain import OpenAI, LLMChain\n",
    "from langchain.llms import BaseLLM\n",
    "from langchain.embeddings.base import Embeddings\n",
    "from langchain.prompts import StringPromptTemplate\n",
    "from langchain.requests import Requests\n",
    "from langchain.agents import AgentExecutor, AgentOutputParser, AgentType, initialize_agent, LLMSingleActionAgent\n",
    "from langchain.agents.agent_toolkits import NLAToolkit\n",
    "from langchain.schema import AgentAction, AgentFinish, BaseRetriever\n",
    "from langchain.tools.plugin import AIPlugin\n",
    "from langchain.vectorstores.base import VectorStore"
   ]
  },
  {
   "cell_type": "code",
   "execution_count": 2,
   "id": "dd720860",
   "metadata": {
    "tags": []
   },
   "outputs": [],
   "source": [
    "# Select the LLM to use. Here, we use text-davinci-003\n",
    "llm = OpenAI(temperature=0, max_tokens=700) # You can swap between different core LLM's here."
   ]
  },
  {
   "cell_type": "markdown",
   "id": "4cadac9d",
   "metadata": {
    "tags": []
   },
   "source": [
    "### Next, load the Natural Language API Toolkits"
   ]
  },
  {
   "cell_type": "code",
   "execution_count": 3,
   "id": "cba49a0b-aa50-4113-a076-feceb193e20f",
   "metadata": {
    "tags": []
   },
   "outputs": [],
   "source": [
    "urls = [\n",
    "    \"https://datasette.io/.well-known/ai-plugin.json\",\n",
    "    \"https://api.speak.com/.well-known/ai-plugin.json\",\n",
    "    \"https://www.wolframalpha.com/.well-known/ai-plugin.json\",\n",
    "    \"https://www.zapier.com/.well-known/ai-plugin.json\",\n",
    "    \"https://www.klarna.com/.well-known/ai-plugin.json\",\n",
    "    \"https://www.joinmilo.com/.well-known/ai-plugin.json\",\n",
    "    \"https://slack.com/.well-known/ai-plugin.json\",\n",
    "    \"https://schooldigger.com/.well-known/ai-plugin.json\",\n",
    "]\n",
    "\n",
    "AI_PLUGINS = [AIPlugin.from_url(url) for url in urls]"
   ]
  },
  {
   "cell_type": "markdown",
   "id": "e5dfc494",
   "metadata": {},
   "source": [
    "## Tool Retriever\n",
    "\n",
    "We will use a vectorstore to create embeddings for each tool description. Then, for an incoming query we can create embeddings for that query and do a similarity search for relevant tools."
   ]
  },
  {
   "cell_type": "code",
   "execution_count": 4,
   "id": "f7c29e82",
   "metadata": {
    "tags": []
   },
   "outputs": [],
   "source": [
    "from langchain.vectorstores import FAISS\n",
    "from langchain.embeddings import OpenAIEmbeddings\n",
    "from langchain.schema import Document"
   ]
  },
  {
   "cell_type": "code",
   "execution_count": 5,
   "id": "200fa896-c764-413f-a88a-080d2cdd1722",
   "metadata": {
    "tags": []
   },
   "outputs": [],
   "source": [
    "embeddings = OpenAIEmbeddings()"
   ]
  },
  {
   "cell_type": "code",
   "execution_count": 6,
   "id": "3d84c14d-c3eb-4381-8852-fd6175b02239",
   "metadata": {
    "tags": []
   },
   "outputs": [],
   "source": [
    "# Create the retriever object\n",
    "from langchain.tools.base import BaseTool\n",
    "\n",
    "class PluginRouter(BaseTool):\n",
    "    \n",
    "    llm: BaseLLM\n",
    "    retriever: BaseRetriever\n",
    "    toolkits: Dict[str, NLAToolkit]\n",
    "    verbose: bool\n",
    "    name = \"AIPluginDelegate\"\n",
    "    \n",
    "    def _run(self, tool_input: str) -> str:\n",
    "        \"\"\"Select the appropriate endpoint and route query there.\"\"\"\n",
    "        toolkits = self.retrieve_plugins(tool_input)\n",
    "        toolkit = toolkits[0]\n",
    "        agent = initialize_agent(toolkit.get_tools(), llm, verbose=self.verbose)\n",
    "        return agent.run(tool_input)\n",
    "    \n",
    "    async def _arun(self, tool_input: str) -> str:\n",
    "        raise NotImplementedError(\"Not implemented.\")\n",
    "        \n",
    "        \n",
    "    def retrieve_plugins(self, query: str):\n",
    "        docs = self.retriever.get_relevant_documents(query)\n",
    "        return [self.toolkits[d.metadata[\"plugin_name\"]] for d in docs]\n",
    "    \n",
    "    @classmethod\n",
    "    def from_plugins_and_vectorstore_cls(cls, \n",
    "                                   llm: BaseLLM,\n",
    "                                   plugins: List[AIPlugin],\n",
    "                                   embeddings: Embeddings,\n",
    "                                   vectorstore_cls: Type[VectorStore],\n",
    "                                   verbose: bool = True,\n",
    "                                  ) -> \"PluginRouter\":\n",
    "        docs = [\n",
    "            Document(page_content=plugin.description_for_model, \n",
    "                     metadata={\"plugin_name\": plugin.name_for_model}\n",
    "                    )\n",
    "            for plugin in plugins\n",
    "        ]\n",
    "        vector_store = vectorstore_cls.from_documents(docs, embeddings)\n",
    "        toolkits_dict = {plugin.name_for_model: \n",
    "                         NLAToolkit.from_llm_and_ai_plugin(llm, plugin) \n",
    "                         for plugin in plugins}\n",
    "        description = f\"Useful for completing a single task if it can be handled by an API I am connected to\"\n",
    "        return cls(\n",
    "            description=description,\n",
    "            llm=llm,\n",
    "            retriever=vector_store.as_retriever(),\n",
    "            toolkits=toolkits_dict,\n",
    "            verbose=verbose,\n",
    "        )"
   ]
  },
  {
   "cell_type": "code",
   "execution_count": 7,
   "id": "1cbd8bd7-9e38-41ff-b6c4-5cab6550626c",
   "metadata": {
    "tags": []
   },
   "outputs": [
    {
     "name": "stderr",
     "output_type": "stream",
     "text": [
      "Attempting to load an OpenAPI 3.0.1 spec.  This may result in degraded performance. Convert your OpenAPI spec to 3.1.* spec for better support.\n",
      "Attempting to load an OpenAPI 3.0.1 spec.  This may result in degraded performance. Convert your OpenAPI spec to 3.1.* spec for better support.\n",
      "Attempting to load an OpenAPI 3.0.1 spec.  This may result in degraded performance. Convert your OpenAPI spec to 3.1.* spec for better support.\n",
      "Attempting to load an OpenAPI 3.0.2 spec.  This may result in degraded performance. Convert your OpenAPI spec to 3.1.* spec for better support.\n",
      "Attempting to load an OpenAPI 3.0.1 spec.  This may result in degraded performance. Convert your OpenAPI spec to 3.1.* spec for better support.\n",
      "Attempting to load an OpenAPI 3.0.1 spec.  This may result in degraded performance. Convert your OpenAPI spec to 3.1.* spec for better support.\n",
      "Attempting to load an OpenAPI 3.0.1 spec.  This may result in degraded performance. Convert your OpenAPI spec to 3.1.* spec for better support.\n",
      "Attempting to load an OpenAPI 3.0.1 spec.  This may result in degraded performance. Convert your OpenAPI spec to 3.1.* spec for better support.\n",
      "Attempting to load a Swagger 2.0 spec.  This may result in degraded performance. Convert your OpenAPI spec to 3.1.* spec for better support.\n"
     ]
    }
   ],
   "source": [
    "router = PluginRouter.from_plugins_and_vectorstore_cls(llm,\n",
    "                                              AI_PLUGINS,\n",
    "                                              embeddings,\n",
    "                                              FAISS,\n",
    "                                             )"
   ]
  },
  {
   "cell_type": "code",
   "execution_count": 8,
   "id": "ee2b31bc-8b43-4267-9787-2097aaa312af",
   "metadata": {
    "tags": []
   },
   "outputs": [
    {
     "name": "stdout",
     "output_type": "stream",
     "text": [
      "\n",
      "\n",
      "\u001b[1m> Entering new AgentExecutor chain...\u001b[0m\n",
      "\u001b[32;1m\u001b[1;3m I should think of something fun and meaningful.\n",
      "Action: Milo.askMilo\n",
      "Action Input: What's magic today?\u001b[0m\n",
      "Observation: \u001b[36;1m\u001b[1;3mI'm sorry, I don't understand your query. Please try rephrasing your question or providing more information.\u001b[0m\n",
      "Thought:\u001b[32;1m\u001b[1;3m Maybe I should provide more information.\n",
      "Action: Milo.askMilo\n",
      "Action Input: What activities can I do with my child today?\u001b[0m\n",
      "Observation: \u001b[36;1m\u001b[1;3mToday, you can have a fun drawing activity with your child. Give each family member a piece of paper and some drawing supplies. Set a timer for 5 minutes and challenge everyone to draw something related to a chosen theme (e.g., favorite animal, dream vacation). Share and discuss your drawings afterward.\u001b[0m\n",
      "Thought:\u001b[32;1m\u001b[1;3m I now know the final answer.\n",
      "Final Answer: Today, you can have a fun drawing activity with your child. Give each family member a piece of paper and some drawing supplies. Set a timer for 5 minutes and challenge everyone to draw something related to a chosen theme (e.g., favorite animal, dream vacation). Share and discuss your drawings afterward.\u001b[0m\n",
      "\n",
      "\u001b[1m> Finished chain.\u001b[0m\n",
      "\u001b[32;1m\u001b[1;3mToday, you can have a fun drawing activity with your child. Give each family member a piece of paper and some drawing supplies. Set a timer for 5 minutes and challenge everyone to draw something related to a chosen theme (e.g., favorite animal, dream vacation). Share and discuss your drawings afterward.\u001b[0m"
     ]
    },
    {
     "data": {
      "text/plain": [
       "'Today, you can have a fun drawing activity with your child. Give each family member a piece of paper and some drawing supplies. Set a timer for 5 minutes and challenge everyone to draw something related to a chosen theme (e.g., favorite animal, dream vacation). Share and discuss your drawings afterward.'"
      ]
     },
     "execution_count": 8,
     "metadata": {},
     "output_type": "execute_result"
    }
   ],
   "source": [
    "router.run(\"What could I do today with my kiddo?\")"
   ]
  },
  {
   "cell_type": "markdown",
   "id": "16c7336f",
   "metadata": {},
   "source": [
    "### Create the Agent"
   ]
  },
  {
   "cell_type": "code",
   "execution_count": 9,
   "id": "369ff385-3a56-4d34-8688-e186745bfda4",
   "metadata": {
    "tags": []
   },
   "outputs": [],
   "source": [
    "from langchain.agents import load_tools\n",
    "\n",
    "# Load some other tools\n",
    "tools = load_tools([\"llm-math\"], llm=llm)\n",
    "tools += [router]"
   ]
  },
  {
   "cell_type": "code",
   "execution_count": 10,
   "id": "2dbecc7b-660e-4df0-b1fc-ff0807072828",
   "metadata": {
    "tags": []
   },
   "outputs": [],
   "source": [
    "agent = initialize_agent(tools, llm, verbose=True)"
   ]
  },
  {
   "cell_type": "code",
   "execution_count": 11,
   "id": "8e6deeb6-f378-49aa-8c21-819a764221a4",
   "metadata": {
    "tags": []
   },
   "outputs": [],
   "source": [
    "query = \"Help me purchase some Nike shoes. Be sure to price compare.\""
   ]
  },
  {
   "cell_type": "code",
   "execution_count": 12,
   "id": "2f36278e-ec09-4237-8b7f-c9859ccd12e0",
   "metadata": {
    "tags": []
   },
   "outputs": [
    {
     "name": "stdout",
     "output_type": "stream",
     "text": [
      "\n",
      "\n",
      "\u001b[1m> Entering new AgentExecutor chain...\u001b[0m\n",
      "\u001b[32;1m\u001b[1;3m I need to find the best deal on Nike shoes.\n",
      "Action: AIPluginDelegate\n",
      "Action Input: Search for Nike shoes\u001b[0m\n",
      "\n",
      "\u001b[1m> Entering new AgentExecutor chain...\u001b[0m\n",
      "\u001b[32;1m\u001b[1;3m I should use the Open_AI_Klarna_product_Api.productsUsingGET API to search for Nike shoes\n",
      "Action: Open_AI_Klarna_product_Api.productsUsingGET\n",
      "Action Input: Nike shoes\u001b[0m\n",
      "Observation: \u001b[36;1m\u001b[1;3mI found several Nike shoes in the API response. Here is a list of the names and prices: Nike Dunk Low M - Black/White ($82.00), Nike Air Jordan 4 Retro M - Midnight Navy ($284.00), Nike Air Force 1 '07 M - White ($74.00), Nike Dunk Low W - White/Black ($110.00), Nike Air Jordan 1 Retro High M - White/University Blue/Black ($129.00), Nike Air Jordan 11 Retro Cherry - White/Varsity Red/Black ($100.00), Nike Dunk High W - White/Black ($108.00), Nike Air Jordan 1 Retro High OG M - True Blue/Cement Grey/White ($85.00), Nike Air Jordan 5 Retro M - Black/Taxi/Aquatone ($124.00), Nike Court Legacy Lift W ($59.97).\u001b[0m\n",
      "Thought:\u001b[32;1m\u001b[1;3m I now know the final answer\n",
      "Final Answer: I found several Nike shoes in the API response. Here is a list of the names and prices: Nike Dunk Low M - Black/White ($82.00), Nike Air Jordan 4 Retro M - Midnight Navy ($284.00), Nike Air Force 1 '07 M - White ($74.00), Nike Dunk Low W - White/Black ($110.00), Nike Air Jordan 1 Retro High M - White/University Blue/Black ($129.00), Nike Air Jordan 11 Retro Cherry - White/Varsity Red/Black ($100.00), Nike Dunk High W - White/Black ($108.00), Nike Air Jordan 1 Retro High OG M - True Blue/Cement Grey/White ($85.00), Nike Air Jordan 5 Retro M - Black/Taxi/Aquatone ($124.00), Nike Court Legacy Lift W ($59.97).\u001b[0m\n",
      "\n",
      "\u001b[1m> Finished chain.\u001b[0m\n",
      "\n",
      "Observation: \u001b[33;1m\u001b[1;3mI found several Nike shoes in the API response. Here is a list of the names and prices: Nike Dunk Low M - Black/White ($82.00), Nike Air Jordan 4 Retro M - Midnight Navy ($284.00), Nike Air Force 1 '07 M - White ($74.00), Nike Dunk Low W - White/Black ($110.00), Nike Air Jordan 1 Retro High M - White/University Blue/Black ($129.00), Nike Air Jordan 11 Retro Cherry - White/Varsity Red/Black ($100.00), Nike Dunk High W - White/Black ($108.00), Nike Air Jordan 1 Retro High OG M - True Blue/Cement Grey/White ($85.00), Nike Air Jordan 5 Retro M - Black/Taxi/Aquatone ($124.00), Nike Court Legacy Lift W ($59.97).\u001b[0m\n",
      "Thought:\u001b[32;1m\u001b[1;3m I need to compare the prices to find the best deal.\n",
      "Action: Calculator\n",
      "Action Input: Compare the prices of the Nike shoes\u001b[0m\n",
      "Observation: \u001b[36;1m\u001b[1;3mAnswer: The second pair of shoes is more expensive.\n",
      "\u001b[0m\n",
      "Thought:\u001b[32;1m\u001b[1;3m I now know the best deal on Nike shoes.\n",
      "Final Answer: The best deal on Nike shoes is the Nike Air Force 1 '07 M - White ($74.00).\u001b[0m\n",
      "\n",
      "\u001b[1m> Finished chain.\u001b[0m\n"
     ]
    },
    {
     "data": {
      "text/plain": [
       "\"The best deal on Nike shoes is the Nike Air Force 1 '07 M - White ($74.00).\""
      ]
     },
     "execution_count": 12,
     "metadata": {},
     "output_type": "execute_result"
    }
   ],
   "source": [
    "agent.run(query)"
   ]
  },
  {
   "cell_type": "markdown",
   "id": "a2959462",
   "metadata": {},
   "source": [
    "## Thank you!"
   ]
  },
  {
   "cell_type": "code",
   "execution_count": null,
   "id": "ffc2384a-437e-485c-a354-c7be8155ea3f",
   "metadata": {},
   "outputs": [],
   "source": []
  }
 ],
 "metadata": {
  "kernelspec": {
   "display_name": "Python 3 (ipykernel)",
   "language": "python",
   "name": "python3"
  },
  "language_info": {
   "codemirror_mode": {
    "name": "ipython",
    "version": 3
   },
   "file_extension": ".py",
   "mimetype": "text/x-python",
   "name": "python",
   "nbconvert_exporter": "python",
   "pygments_lexer": "ipython3",
   "version": "3.11.2"
  }
 },
 "nbformat": 4,
 "nbformat_minor": 5
}
