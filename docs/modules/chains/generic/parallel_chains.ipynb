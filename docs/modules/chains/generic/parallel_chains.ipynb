{
 "cells": [
  {
   "cell_type": "markdown",
   "id": "70bcec34",
   "metadata": {},
   "source": [
    "# Parallel Chains"
   ]
  },
  {
   "cell_type": "markdown",
   "id": "5cbd2dfc",
   "metadata": {},
   "source": [
    "Similarly to how sequential chains connect chains in series, parallel chains connect chains in parallel. This is a useful abstraction when you want to independently process the same input with multiple different chains, possibly asynchronously.\n",
    "\n",
    "In the following examples, we wlll show:\n",
    "- how we can use `ParallelChain` to take a list of chains and apply each independently to the same input.\n",
    "- how we can nest `ParallelChain`s inside `ParallelChain`s"
   ]
  },
  {
   "cell_type": "code",
   "execution_count": 1,
   "id": "84407a86",
   "metadata": {},
   "outputs": [],
   "source": [
    "import pprint\n",
    "import time\n",
    "\n",
    "from langchain.llms import OpenAI\n",
    "from langchain.prompts import PromptTemplate\n",
    "from langchain.chains import LLMChain, ParallelChain"
   ]
  },
  {
   "cell_type": "markdown",
   "id": "68ff65f9",
   "metadata": {},
   "source": [
    "## Simple Example"
   ]
  },
  {
   "cell_type": "code",
   "execution_count": 2,
   "id": "162927f6",
   "metadata": {},
   "outputs": [],
   "source": [
    "llm = OpenAI(temperature=0.9)\n",
    "\n",
    "input_variables=['product']\n",
    "\n",
    "prompt_1 = PromptTemplate(\n",
    "    input_variables=input_variables,\n",
    "    template=\"What is a good name for a company that makes {product}?\",\n",
    ")\n",
    "chain_1 = LLMChain(llm=llm, prompt=prompt_1)\n",
    "\n",
    "prompt_2 = PromptTemplate(\n",
    "    input_variables=input_variables,\n",
    "    template=\"What is a good mission statement for a company that makes {product}?\",\n",
    ")\n",
    "chain_2 = LLMChain(llm=llm, prompt=prompt_2)\n",
    "\n",
    "prompt_3 = PromptTemplate(\n",
    "    input_variables=input_variables,\n",
    "    template=\"What is a good slogan for a company that makes {product}?\",\n",
    ")\n",
    "chain_3 = LLMChain(llm=llm, prompt=prompt_3)\n",
    "\n",
    "prompt_4 = PromptTemplate(\n",
    "    input_variables=input_variables,\n",
    "    template=\"What are some core values for a company that makes {product}?\",\n",
    ")\n",
    "chain_4 = LLMChain(llm=llm, prompt=prompt_4)"
   ]
  },
  {
   "cell_type": "markdown",
   "id": "59af5d99",
   "metadata": {},
   "source": [
    "When the `concurrent` flag is set to `True`, we can run the child chains concurrently. The `concurrent` flag is set to `True` by default."
   ]
  },
  {
   "cell_type": "code",
   "execution_count": 3,
   "id": "6d37f4f1",
   "metadata": {},
   "outputs": [
    {
     "name": "stdout",
     "output_type": "stream",
     "text": [
      "\n",
      "\n",
      "\u001b[1m> Entering new ParallelChain chain...\u001b[0m\n",
      "Child chain for key=\"name\" started.\n",
      "Child chain for key=\"mission\" started.\n",
      "Child chain for key=\"slogan\" started.\n",
      "Child chain for key=\"values\" started.\n"
     ]
    },
    {
     "name": "stderr",
     "output_type": "stream",
     "text": [
      "Retrying langchain.llms.openai.completion_with_retry.<locals>._completion_with_retry in 4.0 seconds as it raised RateLimitError: The server had an error while processing your request. Sorry about that!.\n",
      "Retrying langchain.llms.openai.completion_with_retry.<locals>._completion_with_retry in 4.0 seconds as it raised RateLimitError: The server had an error while processing your request. Sorry about that!.\n",
      "Retrying langchain.llms.openai.completion_with_retry.<locals>._completion_with_retry in 4.0 seconds as it raised RateLimitError: The server had an error while processing your request. Sorry about that!.\n"
     ]
    },
    {
     "name": "stdout",
     "output_type": "stream",
     "text": [
      "Child chain for key=\"slogan\" finished after 5.33 seconds.\n",
      "Child chain for key=\"name\" finished after 5.36 seconds.\n",
      "Child chain for key=\"mission\" finished after 6.80 seconds.\n",
      "Child chain for key=\"values\" finished after 8.01 seconds.\n",
      "\n",
      "\u001b[1m> Finished chain.\u001b[0m\n",
      "{'mission/text': '\\n'\n",
      "                 '\\n'\n",
      "                 'Our mission is to create comfortable and vibrant socks that '\n",
      "                 'bring joy and help people express themselves through '\n",
      "                 'fashion. We strive to provide quality socks that stand the '\n",
      "                 'test of time and offer a wide variety of colors and designs '\n",
      "                 'to fit any style.',\n",
      " 'name/text': '\\n\\nSockarooni.',\n",
      " 'product': 'colorful socks',\n",
      " 'slogan/text': '\\n\\n\"Step Into Color With Our Socks!\"',\n",
      " 'values/text': '\\n'\n",
      "                '\\n'\n",
      "                '1. Quality: Produce high quality socks that are designed to '\n",
      "                'last.\\n'\n",
      "                '2. Creativity: Design innovative socks that are enjoyable to '\n",
      "                'wear.\\n'\n",
      "                '3. Sustainability: Harness eco-friendly materials and '\n",
      "                'processes to minimize the environmental impact of sourcing '\n",
      "                'and production.\\n'\n",
      "                '4. Comfort: Ensure that each pair of socks is comfortable and '\n",
      "                'provides long-lasting wear.\\n'\n",
      "                '5. Diversity: Embrace diversity and promote inclusivity with '\n",
      "                'a variety of designs, colors, and styles.\\n'\n",
      "                '6. Transparency: Maintain an open dialogue between customers '\n",
      "                'and producers, providing clear information about materials '\n",
      "                'and processes.\\n'\n",
      "                '7. Customer Service: Provide unmatched customer service to '\n",
      "                'ensure customer satisfaction.'}\n",
      "\u001b[1mConcurrent executed in 8.02 seconds.\u001b[0m\n"
     ]
    }
   ],
   "source": [
    "parallel_chain = ParallelChain(\n",
    "    input_variables=input_variables,\n",
    "    chains={\n",
    "        'name': chain_1, \n",
    "        'mission': chain_2, \n",
    "        'slogan': chain_3,\n",
    "        'values': chain_4\n",
    "    },\n",
    "    verbose=True,\n",
    "    concurrent=True\n",
    ")\n",
    "s = time.perf_counter()\n",
    "output = parallel_chain(\"colorful socks\")\n",
    "pprint.pprint(output)\n",
    "print('\\033[1m' + f\"Concurrent executed in {time.perf_counter()-s:0.2f} seconds.\" + '\\033[0m')"
   ]
  },
  {
   "cell_type": "markdown",
   "id": "54a130e0",
   "metadata": {},
   "source": [
    "Setting the `concurrent` flag to `False` would run the child chains serially."
   ]
  },
  {
   "cell_type": "code",
   "execution_count": 4,
   "id": "1eb12581",
   "metadata": {},
   "outputs": [
    {
     "name": "stdout",
     "output_type": "stream",
     "text": [
      "\n",
      "\n",
      "\u001b[1m> Entering new ParallelChain chain...\u001b[0m\n",
      "Child chain for key=\"name\" started.\n"
     ]
    },
    {
     "name": "stderr",
     "output_type": "stream",
     "text": [
      "Retrying langchain.llms.openai.completion_with_retry.<locals>._completion_with_retry in 4.0 seconds as it raised RateLimitError: The server had an error while processing your request. Sorry about that!.\n",
      "Retrying langchain.llms.openai.completion_with_retry.<locals>._completion_with_retry in 4.0 seconds as it raised RateLimitError: The server had an error while processing your request. Sorry about that!.\n",
      "Retrying langchain.llms.openai.completion_with_retry.<locals>._completion_with_retry in 4.0 seconds as it raised RateLimitError: The server had an error while processing your request. Sorry about that!.\n",
      "Retrying langchain.llms.openai.completion_with_retry.<locals>._completion_with_retry in 8.0 seconds as it raised RateLimitError: The server had an error while processing your request. Sorry about that!.\n"
     ]
    },
    {
     "name": "stdout",
     "output_type": "stream",
     "text": [
      "Child chain for key=\"name\" finished after 23.66 seconds.\n",
      "Child chain for key=\"mission\" started.\n",
      "Child chain for key=\"mission\" finished after 3.05 seconds.\n",
      "Child chain for key=\"slogan\" started.\n",
      "Child chain for key=\"slogan\" finished after 1.34 seconds.\n",
      "Child chain for key=\"values\" started.\n",
      "Child chain for key=\"values\" finished after 6.15 seconds.\n",
      "\n",
      "\u001b[1m> Finished chain.\u001b[0m\n",
      "{'mission/text': '\\n'\n",
      "                 '\\n'\n",
      "                 'Our mission at [Company Name] is to bring color and joy to '\n",
      "                 'the world by creating a vibrant and comfortable collection '\n",
      "                 'of quality socks that make a bold statement and bring a '\n",
      "                 'smile to everyone who wears them.',\n",
      " 'name/text': '\\n\\nFancy Feet Socks.',\n",
      " 'product': 'colorful socks',\n",
      " 'slogan/text': '\\n\\n\"Step Out in Style with Our Colorful Socks!\"',\n",
      " 'values/text': '\\n'\n",
      "                '\\n'\n",
      "                '1. Quality – produce high quality and durable colorful '\n",
      "                'socks.\\n'\n",
      "                '2. Innovation – utilize the latest technology and design to '\n",
      "                'create unique socks.\\n'\n",
      "                '3. Creativity – design and create colorful and original socks '\n",
      "                'that are stylish and fashionable.\\n'\n",
      "                '4. Comfort – ensure maximum comfort and softness for the '\n",
      "                'wearer.\\n'\n",
      "                '5. Customer Service – provide excellent customer service with '\n",
      "                'prompt communication and satisfaction.\\n'\n",
      "                '6. Sustainability – reduce environmental impacts and build a '\n",
      "                'sustainable future through ethical practices.\\n'\n",
      "                '7. Integrity – act with integrity and honesty by providing '\n",
      "                'products with accurate sizing and descriptions.'}\n",
      "\u001b[1mSerial executed in 34.21 seconds.\u001b[0m\n"
     ]
    }
   ],
   "source": [
    "parallel_chain.concurrent=False\n",
    "s = time.perf_counter()\n",
    "output = parallel_chain(\"colorful socks\")\n",
    "pprint.pprint(output)\n",
    "print('\\033[1m' + f\"Serial executed in {time.perf_counter()-s:0.2f} seconds.\" + '\\033[0m')"
   ]
  },
  {
   "cell_type": "markdown",
   "id": "3c84b888",
   "metadata": {},
   "source": [
    "## Nesting `ParallelChain`s\n",
    "It is possible to nest `ParallelChain`s inside one another. Continuing from the previous example, we nest a concurrent `ParallelChain` inside the previous serial `ParallelChain`."
   ]
  },
  {
   "cell_type": "code",
   "execution_count": 5,
   "id": "416fd48c",
   "metadata": {},
   "outputs": [
    {
     "name": "stdout",
     "output_type": "stream",
     "text": [
      "\n",
      "\n",
      "\u001b[1m> Entering new ParallelChain chain...\u001b[0m\n",
      "Child chain for key=\"name\" started.\n",
      "Child chain for key=\"name\" finished after 0.89 seconds.\n",
      "Child chain for key=\"mission\" started.\n",
      "Child chain for key=\"mission\" finished after 3.07 seconds.\n",
      "Child chain for key=\"slogan\" started.\n",
      "Child chain for key=\"slogan\" finished after 1.12 seconds.\n",
      "Child chain for key=\"values\" started.\n",
      "Child chain for key=\"values\" finished after 6.59 seconds.\n",
      "Child chain for key=\"gift\" started.\n",
      "\n",
      "\n",
      "\u001b[1m> Entering new ParallelChain chain...\u001b[0m\n",
      "Child chain for key=\"good_gift\" started.\n",
      "Child chain for key=\"bad_gift\" started.\n",
      "Child chain for key=\"bad_gift\" finished after 0.79 seconds.\n",
      "Child chain for key=\"good_gift\" finished after 1.37 seconds.\n",
      "\n",
      "\u001b[1m> Finished chain.\u001b[0m\n",
      "Child chain for key=\"gift\" finished after 1.37 seconds.\n",
      "\n",
      "\u001b[1m> Finished chain.\u001b[0m\n",
      "{'gift/bad_gift/text': '\\n\\nA book of crossword puzzles.',\n",
      " 'gift/good_gift/text': '\\n'\n",
      "                        '\\n'\n",
      "                        'A colorful tie, a colorful scarf, a colorful hat, or '\n",
      "                        'a colorful pocket square.',\n",
      " 'mission/text': '\\n'\n",
      "                 '\\n'\n",
      "                 'Our mission is to provide fun and fashionable socks that '\n",
      "                 \"bring joy and excitement to people's lives. We aim to bring \"\n",
      "                 'comfort and accessibility to everyone, no matter their age, '\n",
      "                 'size, or style preference. Our socks are an expression of '\n",
      "                 'self-expression and a celebration of individuality.',\n",
      " 'name/text': '\\n\\nBrightSox.',\n",
      " 'product': 'colorful socks',\n",
      " 'slogan/text': '\\n\\n\"Step Out in Style with Colorful Socks!\"',\n",
      " 'values/text': '\\n'\n",
      "                '\\n'\n",
      "                '1. Quality: Ensuring that our socks are made with the highest '\n",
      "                'quality materials.\\n'\n",
      "                '2. Creativity: Celebrating the unique, bold designs of our '\n",
      "                'socks.\\n'\n",
      "                '3. Comfort: Making sure that our socks are comfortable to '\n",
      "                'wear.\\n'\n",
      "                '4. Inclusion: Offering colorful socks for everyone, '\n",
      "                'regardless of gender, age, size, or style.\\n'\n",
      "                '5. Sustainability: Creating socks with eco-friendly materials '\n",
      "                'and processes.\\n'\n",
      "                '6. Affordability: Keeping our prices competitive so everyone '\n",
      "                'can enjoy our socks.\\n'\n",
      "                '7. Innovation: Constantly striving to improve our products '\n",
      "                'with new ideas and technologies.'}\n"
     ]
    }
   ],
   "source": [
    "prompt_5_1 = PromptTemplate(\n",
    "    input_variables=input_variables,\n",
    "    template=\"Which gift would go well with {product}?\",\n",
    ")\n",
    "chain_5_1 = LLMChain(llm=llm, prompt=prompt_5_1)\n",
    "\n",
    "prompt_5_2 = PromptTemplate(\n",
    "    input_variables=input_variables,\n",
    "    template=\"What gift would not go well with {product}?\",\n",
    ")\n",
    "chain_5_2 = LLMChain(llm=llm, prompt=prompt_5_2)\n",
    "\n",
    "chain_5 = ParallelChain(\n",
    "    input_variables=input_variables,\n",
    "    chains={'good_gift': chain_5_1, 'bad_gift': chain_5_2},\n",
    "    verbose=True,\n",
    "    concurrent=True\n",
    ")\n",
    "\n",
    "parallel_chain.chains.update({'gift': chain_5})\n",
    "\n",
    "output = parallel_chain(\"colorful socks\")\n",
    "pprint.pprint(output)"
   ]
  },
  {
   "cell_type": "markdown",
   "id": "fc867449",
   "metadata": {},
   "source": [
    "We can now make the outer `ParallelChain` execute concurrently again by setting `parallel_chain.concurrent=True`. Executing this nested chain will result in executing a concurrent `ParallelChain` inside another concurrent `ParallelChain`."
   ]
  },
  {
   "cell_type": "code",
   "execution_count": 6,
   "id": "3a31d085",
   "metadata": {},
   "outputs": [
    {
     "name": "stdout",
     "output_type": "stream",
     "text": [
      "\n",
      "\n",
      "\u001b[1m> Entering new ParallelChain chain...\u001b[0m\n",
      "Child chain for key=\"name\" started.\n",
      "Child chain for key=\"mission\" started.\n",
      "Child chain for key=\"slogan\" started.\n",
      "Child chain for key=\"values\" started.\n",
      "Child chain for key=\"gift\" started.\n",
      "\n",
      "\n",
      "\u001b[1m> Entering new ParallelChain chain...\u001b[0m\n",
      "Child chain for key=\"good_gift\" started.\n",
      "Child chain for key=\"bad_gift\" started.\n",
      "Child chain for key=\"name\" finished after 0.75 seconds.\n",
      "Child chain for key=\"slogan\" finished after 1.10 seconds.\n",
      "Child chain for key=\"good_gift\" finished after 1.17 seconds.\n",
      "Child chain for key=\"bad_gift\" finished after 1.36 seconds.\n",
      "\n",
      "\u001b[1m> Finished chain.\u001b[0m\n",
      "Child chain for key=\"gift\" finished after 1.37 seconds.\n",
      "Child chain for key=\"mission\" finished after 3.51 seconds.\n",
      "Child chain for key=\"values\" finished after 6.58 seconds.\n",
      "\n",
      "\u001b[1m> Finished chain.\u001b[0m\n",
      "{'gift/bad_gift/text': '\\n'\n",
      "                       '\\n'\n",
      "                       'A gift card, as it does not have any physical material '\n",
      "                       'and is not related to clothing.',\n",
      " 'gift/good_gift/text': '\\n'\n",
      "                        '\\n'\n",
      "                        'A pair of equally colorful shoes would go well with '\n",
      "                        'colorful socks.',\n",
      " 'mission/text': '\\n'\n",
      "                 '\\n'\n",
      "                 'Our mission at Colorful Socks is to bring joy, style, and '\n",
      "                 'comfort to the everyday lives of our customers through '\n",
      "                 'innovative, fashion-forward designs and quality materials. '\n",
      "                 'We strive to create a unique and joyful experience for every '\n",
      "                 'customer, and to emphasize good vibes, positivity, and '\n",
      "                 'self-expression through our products.',\n",
      " 'name/text': '\\n\\nBrightFeet Socks.',\n",
      " 'product': 'colorful socks',\n",
      " 'slogan/text': '\\n\\n\"Put Some Color in Your Step!\"',\n",
      " 'values/text': '\\n'\n",
      "                '\\n'\n",
      "                '1. Respectful Creativity – approach all design challenges '\n",
      "                'with respect for the customer’s individual needs and '\n",
      "                'desires.\\n'\n",
      "                '\\n'\n",
      "                '2. Quality – ensure that the customer receives the best '\n",
      "                'quality product possible.\\n'\n",
      "                '\\n'\n",
      "                '3. Passion – infuse each design with energy and enthusiasm.\\n'\n",
      "                '\\n'\n",
      "                '4. Fun – create a fun and colorful atmosphere that is '\n",
      "                'inviting and appealing.\\n'\n",
      "                '\\n'\n",
      "                '5. Openness – be transparent in all communication and strive '\n",
      "                'for customer satisfaction.\\n'\n",
      "                '\\n'\n",
      "                '6. Integrity – stand behind our products and promise honest '\n",
      "                'dealings at all times.\\n'\n",
      "                '\\n'\n",
      "                '7. Innovation – stay ahead of the competition by continuously '\n",
      "                'seeking new designs and methods.\\n'\n",
      "                '\\n'\n",
      "                '8. Empowerment – empower employees and customers to tap into '\n",
      "                'their creative potential.'}\n"
     ]
    }
   ],
   "source": [
    "parallel_chain.concurrent=True\n",
    "output = parallel_chain(\"colorful socks\")\n",
    "pprint.pprint(output)"
   ]
  },
  {
   "cell_type": "code",
   "execution_count": null,
   "id": "22173618",
   "metadata": {},
   "outputs": [],
   "source": []
  }
 ],
 "metadata": {
  "kernelspec": {
   "display_name": "Python 3 (ipykernel)",
   "language": "python",
   "name": "python3"
  },
  "language_info": {
   "codemirror_mode": {
    "name": "ipython",
    "version": 3
   },
   "file_extension": ".py",
   "mimetype": "text/x-python",
   "name": "python",
   "nbconvert_exporter": "python",
   "pygments_lexer": "ipython3",
   "version": "3.9.16"
  }
 },
 "nbformat": 4,
 "nbformat_minor": 5
}
