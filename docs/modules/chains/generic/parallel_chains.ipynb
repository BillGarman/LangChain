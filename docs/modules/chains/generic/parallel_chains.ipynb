{
 "cells": [
  {
   "cell_type": "markdown",
   "id": "70bcec34",
   "metadata": {},
   "source": [
    "# Parallel Chains"
   ]
  },
  {
   "cell_type": "markdown",
   "id": "5cbd2dfc",
   "metadata": {},
   "source": [
    "Similarly to how sequential chains connect chains in series, parallel chains connect chains in parallel. This is a useful abstraction when you want to independently process the same input with multiple different chains, possibly asynchronously.\n",
    "\n",
    "In the following examples, we wlll show:\n",
    "- how we can use `SimpleParallelChain` to take a list of chains and apply each independently to the same input.\n",
    "- how we can nest `SimpleParallelChain`s inside `SimpleParallelChain`s"
   ]
  },
  {
   "cell_type": "code",
   "execution_count": 1,
   "id": "84407a86",
   "metadata": {},
   "outputs": [],
   "source": [
    "import pprint\n",
    "import time\n",
    "\n",
    "from langchain.llms import OpenAI\n",
    "from langchain.prompts import PromptTemplate\n",
    "from langchain.chains import LLMChain, SimpleParallelChain"
   ]
  },
  {
   "cell_type": "code",
   "execution_count": 2,
   "id": "da2b4d3e",
   "metadata": {},
   "outputs": [],
   "source": [
    "\"\"\"\n",
    "In Jupyter notebooks, the default event loop policy is set to asyncio.get_event_loop_policy().ipython_kernel, \n",
    "which is different from the default event loop policy used by the Python interpreter. \n",
    "This can cause issues if we're running code that assumes the default event loop policy is being used.\n",
    "\n",
    "To resolve this issue, we set the event loop policy in the Jupyter notebook to match the \n",
    "one used by the Python interpreter.\n",
    "\"\"\"\n",
    "import nest_asyncio\n",
    "\n",
    "# Set the event loop policy to the default used by the Python interpreter\n",
    "nest_asyncio.apply()"
   ]
  },
  {
   "cell_type": "markdown",
   "id": "be121fd1",
   "metadata": {},
   "source": [
    "## Simple Example"
   ]
  },
  {
   "cell_type": "code",
   "execution_count": 3,
   "id": "9fb75f9f",
   "metadata": {},
   "outputs": [],
   "source": [
    "llm = OpenAI(temperature=0.9)\n",
    "\n",
    "input_variables=['product']\n",
    "\n",
    "prompt_1 = PromptTemplate(\n",
    "    input_variables=input_variables,\n",
    "    template=\"What is a good name for a company that makes {product}?\",\n",
    ")\n",
    "chain_1 = LLMChain(llm=llm, prompt=prompt_1)\n",
    "\n",
    "prompt_2 = PromptTemplate(\n",
    "    input_variables=input_variables,\n",
    "    template=\"What is a good mission statement for a company that makes {product}?\",\n",
    ")\n",
    "chain_2 = LLMChain(llm=llm, prompt=prompt_2)\n",
    "\n",
    "prompt_3 = PromptTemplate(\n",
    "    input_variables=input_variables,\n",
    "    template=\"What is a good slogan for a company that makes {product}?\",\n",
    ")\n",
    "chain_3 = LLMChain(llm=llm, prompt=prompt_3)\n",
    "\n",
    "prompt_4 = PromptTemplate(\n",
    "    input_variables=input_variables,\n",
    "    template=\"What are some core values for a company that makes {product}?\",\n",
    ")\n",
    "chain_4 = LLMChain(llm=llm, prompt=prompt_4)"
   ]
  },
  {
   "cell_type": "markdown",
   "id": "72976f51",
   "metadata": {},
   "source": [
    "By setting the `concurrent` flag to `True`, we can run the child chains concurrently."
   ]
  },
  {
   "cell_type": "code",
   "execution_count": 4,
   "id": "6d37f4f1",
   "metadata": {},
   "outputs": [
    {
     "name": "stdout",
     "output_type": "stream",
     "text": [
      "\n",
      "\n",
      "\u001b[1m> Entering new SimpleParallelChain chain...\u001b[0m\n",
      "Child chain for key=\"name\" started.\n",
      "Child chain for key=\"mission\" started.\n",
      "Child chain for key=\"slogan\" started.\n",
      "Child chain for key=\"values\" started.\n",
      "Child chain for key=\"slogan\" finished after 0.83 seconds.\n",
      "Child chain for key=\"name\" finished after 1.20 seconds.\n",
      "Child chain for key=\"mission\" finished after 1.76 seconds.\n",
      "Child chain for key=\"values\" finished after 3.29 seconds.\n",
      "\n",
      "\u001b[1m> Finished chain.\u001b[0m\n",
      "{'mission/text': '\\n'\n",
      "                 '\\n'\n",
      "                 'Our mission at [Company Name] is to create delightfully fun '\n",
      "                 'and stylish socks that bring joy to everyone who wears them, '\n",
      "                 'connecting people to the world around them through vibrant '\n",
      "                 'colors, statement styles, and extraordinary comfort.',\n",
      " 'name/text': '\\n\\nSockacious.',\n",
      " 'product': 'colorful socks',\n",
      " 'slogan/text': '\\n\\n\"Life\\'s Too Short for Boring Socks!\"',\n",
      " 'values/text': '\\n'\n",
      "                '\\n'\n",
      "                '1. Quality: Ensuring that all socks produced are of superior '\n",
      "                'quality.\\n'\n",
      "                '2. Inclusivity: Emphasizing the importance of embracing '\n",
      "                'individual style and creativity with our products.\\n'\n",
      "                '3. Environmentally-friendly: Utilizing sustainable materials '\n",
      "                'and practices.\\n'\n",
      "                '4. Innovation: Developing and introducing new concepts and '\n",
      "                'designs.\\n'\n",
      "                '5. Collaboration: Creating meaningful relationships with '\n",
      "                'customers and partners.\\n'\n",
      "                '6. Fun: Maintaining a fun, positive atmosphere in the '\n",
      "                'workplace.\\n'\n",
      "                '7. Community: Supporting local and global communities through '\n",
      "                'charitable initiatives.'}\n",
      "\u001b[1mConcurrent executed in 3.30 seconds.\u001b[0m\n"
     ]
    }
   ],
   "source": [
    "parallel_chain = SimpleParallelChain(\n",
    "    input_variables=input_variables,\n",
    "    chains={\n",
    "        'name': chain_1, \n",
    "        'mission': chain_2, \n",
    "        'slogan': chain_3,\n",
    "        'values': chain_4\n",
    "    },\n",
    "    verbose=True,\n",
    "    concurrent=True\n",
    ")\n",
    "s = time.perf_counter()\n",
    "output = parallel_chain(\"colorful socks\")\n",
    "pprint.pprint(output)\n",
    "print('\\033[1m' + f\"Concurrent executed in {time.perf_counter()-s:0.2f} seconds.\" + '\\033[0m')"
   ]
  },
  {
   "cell_type": "markdown",
   "id": "f44901f6",
   "metadata": {},
   "source": [
    "Setting the `concurrent` flag to `False` would run the child chains serially."
   ]
  },
  {
   "cell_type": "code",
   "execution_count": 5,
   "id": "ea173a0b",
   "metadata": {},
   "outputs": [
    {
     "name": "stdout",
     "output_type": "stream",
     "text": [
      "\n",
      "\n",
      "\u001b[1m> Entering new SimpleParallelChain chain...\u001b[0m\n",
      "Child chain for key=\"name\" started.\n",
      "Child chain for key=\"name\" finished after 1.01 seconds.\n",
      "Child chain for key=\"mission\" started.\n",
      "Child chain for key=\"mission\" finished after 1.54 seconds.\n",
      "Child chain for key=\"slogan\" started.\n",
      "Child chain for key=\"slogan\" finished after 0.82 seconds.\n",
      "Child chain for key=\"values\" started.\n",
      "Child chain for key=\"values\" finished after 4.42 seconds.\n",
      "\n",
      "\u001b[1m> Finished chain.\u001b[0m\n",
      "{'mission/text': '\\n'\n",
      "                 '\\n'\n",
      "                 'Our mission is to create unique and vibrant socks that '\n",
      "                 'combine both creativity and comfort, bringing a spark of fun '\n",
      "                 'and life to everyday outfit choices. We believe in making a '\n",
      "                 'positive impact through thoughtful design and quality '\n",
      "                 'materials that bring joy.',\n",
      " 'name/text': '\\n\\nSockFiesta!',\n",
      " 'product': 'colorful socks',\n",
      " 'slogan/text': '\\n\\n\"Socks with Personality - Color Your World!\"',\n",
      " 'values/text': '\\n'\n",
      "                '\\n'\n",
      "                '1. Quality - Producing high-quality, durable products that '\n",
      "                'last.\\n'\n",
      "                '2. Accessibility - Offering an extensive range of bright and '\n",
      "                'vibrant socks to suit all consumers.\\n'\n",
      "                '3. Comfort - Creating comfortable and practical designs that '\n",
      "                'meet the needs of a modern lifestyle.\\n'\n",
      "                '4. Innovation - Constantly striving to create new and '\n",
      "                'improved designs that keep up with changing trends.\\n'\n",
      "                '5. Sustainability - Working towards sustainability by using '\n",
      "                'responsible practices such as responsible sourcing and '\n",
      "                'eco-friendly production.\\n'\n",
      "                '6. Inclusivity - Offering product ranges that are accessible '\n",
      "                'to all, irrespective of gender or size.\\n'\n",
      "                '7. Fun - Bringing light-heartedness and whimsy to the '\n",
      "                'everyday by creating stylish products that make people smile.'}\n",
      "\u001b[1mSerial executed in 7.79 seconds.\u001b[0m\n"
     ]
    }
   ],
   "source": [
    "parallel_chain.concurrent=False\n",
    "s = time.perf_counter()\n",
    "output = parallel_chain(\"colorful socks\")\n",
    "pprint.pprint(output)\n",
    "print('\\033[1m' + f\"Serial executed in {time.perf_counter()-s:0.2f} seconds.\" + '\\033[0m')"
   ]
  },
  {
   "cell_type": "markdown",
   "id": "84803bbf",
   "metadata": {},
   "source": [
    "## Nesting `ParallelChain`s\n",
    "It is possible to nest `ParallelChain`s inside one another. Continuing from the previous example, we nest a concurrent `ParallelChain` inside the previous serial `ParallelChain`."
   ]
  },
  {
   "cell_type": "code",
   "execution_count": 6,
   "id": "416fd48c",
   "metadata": {},
   "outputs": [
    {
     "name": "stdout",
     "output_type": "stream",
     "text": [
      "\n",
      "\n",
      "\u001b[1m> Entering new SimpleParallelChain chain...\u001b[0m\n",
      "Child chain for key=\"name\" started.\n",
      "Child chain for key=\"name\" finished after 0.80 seconds.\n",
      "Child chain for key=\"mission\" started.\n",
      "Child chain for key=\"mission\" finished after 1.51 seconds.\n",
      "Child chain for key=\"slogan\" started.\n",
      "Child chain for key=\"slogan\" finished after 0.64 seconds.\n",
      "Child chain for key=\"values\" started.\n",
      "Child chain for key=\"values\" finished after 3.34 seconds.\n",
      "Child chain for key=\"gift\" started.\n",
      "\n",
      "\n",
      "\u001b[1m> Entering new SimpleParallelChain chain...\u001b[0m\n",
      "Child chain for key=\"good_gift\" started.\n",
      "Child chain for key=\"bad_gift\" started.\n",
      "Child chain for key=\"bad_gift\" finished after 1.82 seconds.\n",
      "Child chain for key=\"good_gift\" finished after 2.70 seconds.\n",
      "\n",
      "\u001b[1m> Finished chain.\u001b[0m\n",
      "Child chain for key=\"gift\" finished after 2.70 seconds.\n",
      "\n",
      "\u001b[1m> Finished chain.\u001b[0m\n",
      "{'gift/bad_gift/text': '\\n\\nA book.',\n",
      " 'gift/good_gift/text': '\\n'\n",
      "                        '\\n'\n",
      "                        'A brightly colored t-shirt or tank top would make a '\n",
      "                        'great gift to go along with colorful socks.',\n",
      " 'mission/text': '\\n'\n",
      "                 '\\n'\n",
      "                 'Our mission at [Company Name] is to provide bright and '\n",
      "                 'comfortable socks that bring joy and style to the everyday '\n",
      "                 'wardrobe. We strive to ensure our products are of the '\n",
      "                 'highest quality, designed for maximum comfort, and created '\n",
      "                 'with a commitment to sustainability.',\n",
      " 'name/text': '\\n\\nSocktastic!',\n",
      " 'product': 'colorful socks',\n",
      " 'slogan/text': '\\n\\n\"Add Color to Your Life with Our Socks!\"',\n",
      " 'values/text': '\\n'\n",
      "                '\\n'\n",
      "                '1. Quality: Producing the highest quality product possible.\\n'\n",
      "                '2. Creativity: Expressing unique and innovative designs.\\n'\n",
      "                '3. Fun: Bringing a cheerful atmosphere to customers and '\n",
      "                'employees.\\n'\n",
      "                '4. Respect: Honouring the needs and wants of customers and '\n",
      "                'employees.\\n'\n",
      "                '5. Integrity: Conducting all business transactions in an '\n",
      "                'ethical and honest manner.\\n'\n",
      "                '6. Collaboration: Working cohesively and constructively with '\n",
      "                'others.\\n'\n",
      "                '7. Sustainability: Conserving resources and protecting the '\n",
      "                'environment.'}\n"
     ]
    }
   ],
   "source": [
    "prompt_5_1 = PromptTemplate(\n",
    "    input_variables=input_variables,\n",
    "    template=\"Which gift would go well with {product}?\",\n",
    ")\n",
    "chain_5_1 = LLMChain(llm=llm, prompt=prompt_5_1)\n",
    "\n",
    "prompt_5_2 = PromptTemplate(\n",
    "    input_variables=input_variables,\n",
    "    template=\"What gift would not go well with {product}?\",\n",
    ")\n",
    "chain_5_2 = LLMChain(llm=llm, prompt=prompt_5_2)\n",
    "\n",
    "chain_5 = SimpleParallelChain(\n",
    "    input_variables=input_variables,\n",
    "    chains={'good_gift': chain_5_1, 'bad_gift': chain_5_2},\n",
    "    verbose=True,\n",
    "    concurrent=True\n",
    ")\n",
    "\n",
    "parallel_chain.chains.update({'gift': chain_5})\n",
    "\n",
    "output = parallel_chain(\"colorful socks\")\n",
    "pprint.pprint(output)"
   ]
  },
  {
   "cell_type": "markdown",
   "id": "e24cb73a",
   "metadata": {},
   "source": [
    "Now we make the outer `ParallelChain` execute concurrently again. The following shows an example execution of a concurrent `ParallelChain` nested inside another concurrent `ParallelChain`."
   ]
  },
  {
   "cell_type": "code",
   "execution_count": 7,
   "id": "cb80fed2",
   "metadata": {},
   "outputs": [
    {
     "name": "stdout",
     "output_type": "stream",
     "text": [
      "\n",
      "\n",
      "\u001b[1m> Entering new SimpleParallelChain chain...\u001b[0m\n",
      "Child chain for key=\"name\" started.\n",
      "Child chain for key=\"mission\" started.\n",
      "Child chain for key=\"slogan\" started.\n",
      "Child chain for key=\"values\" started.\n",
      "Child chain for key=\"gift\" started.\n",
      "\n",
      "\n",
      "\u001b[1m> Entering new SimpleParallelChain chain...\u001b[0m\n",
      "Child chain for key=\"good_gift\" started.\n",
      "Child chain for key=\"bad_gift\" started.\n",
      "Child chain for key=\"name\" finished after 0.91 seconds.\n",
      "Child chain for key=\"bad_gift\" finished after 0.93 seconds.\n",
      "Child chain for key=\"slogan\" finished after 0.95 seconds.\n",
      "Child chain for key=\"good_gift\" finished after 0.95 seconds.\n",
      "\n",
      "\u001b[1m> Finished chain.\u001b[0m\n",
      "Child chain for key=\"gift\" finished after 0.96 seconds.\n",
      "Child chain for key=\"mission\" finished after 1.49 seconds.\n",
      "Child chain for key=\"values\" finished after 5.62 seconds.\n",
      "\n",
      "\u001b[1m> Finished chain.\u001b[0m\n",
      "{'gift/bad_gift/text': '\\n\\nA gift card would not go well with colorful socks.',\n",
      " 'gift/good_gift/text': '\\n\\nA pair of shoes to match the socks.',\n",
      " 'mission/text': '\\n'\n",
      "                 '\\n'\n",
      "                 'Our mission is to bring joy and comfort to the world by '\n",
      "                 'providing the highest quality and most vibrant socks that '\n",
      "                 'are stylish and imaginative. We strive to create unique, '\n",
      "                 'inspiring designs that make feet look and feel fantastic.',\n",
      " 'name/text': '\\n\\nFeet Festivities',\n",
      " 'product': 'colorful socks',\n",
      " 'slogan/text': '\\n\\n\"Put a Little Pizzazz in Your Step!\"',\n",
      " 'values/text': '\\n'\n",
      "                '\\n'\n",
      "                '1. Quality: Provide the highest quality socks to exceed '\n",
      "                'customer expectations.\\n'\n",
      "                '\\n'\n",
      "                '2. Creativity: Celebrate bold and creative design ideas to '\n",
      "                'keep the product fresh and exciting.\\n'\n",
      "                '\\n'\n",
      "                '3. Comfort: Committed to making socks that are comfortable '\n",
      "                'and durable.\\n'\n",
      "                '\\n'\n",
      "                '4. Inclusiveness: Create designs that are suitable for any '\n",
      "                'gender and age.\\n'\n",
      "                '\\n'\n",
      "                '5. Community: Dedicated to giving back to the community, '\n",
      "                'supporting charitable causes.\\n'\n",
      "                '\\n'\n",
      "                '6. Transparency: Promote transparency and honesty in all '\n",
      "                'aspects of the business.\\n'\n",
      "                '\\n'\n",
      "                '7. Sustainability: Aim to create a sustainable production '\n",
      "                'model for the long run.'}\n"
     ]
    }
   ],
   "source": [
    "parallel_chain.concurrent=True\n",
    "output = parallel_chain(\"colorful socks\")\n",
    "pprint.pprint(output)"
   ]
  }
 ],
 "metadata": {
  "kernelspec": {
   "display_name": "Python 3 (ipykernel)",
   "language": "python",
   "name": "python3"
  },
  "language_info": {
   "codemirror_mode": {
    "name": "ipython",
    "version": 3
   },
   "file_extension": ".py",
   "mimetype": "text/x-python",
   "name": "python",
   "nbconvert_exporter": "python",
   "pygments_lexer": "ipython3",
   "version": "3.9.16"
  }
 },
 "nbformat": 4,
 "nbformat_minor": 5
}
