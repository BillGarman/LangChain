{
 "cells": [
  {
   "cell_type": "markdown",
   "id": "70bcec34",
   "metadata": {},
   "source": [
    "# Parallel Chains"
   ]
  },
  {
   "cell_type": "markdown",
   "id": "5cbd2dfc",
   "metadata": {},
   "source": [
    "Similarly to how sequential chains connect chains in series, parallel chains connect chains in parallel. This is a useful abstraction when you want to independently process the same input with multiple different chains, possibly asynchronously.\n",
    "\n",
    "In the following examples, we wlll show:\n",
    "- how we can use `ParallelChain` to take a list of chains and apply each independently to the same input.\n",
    "- how we can nest `ParallelChain`s inside `ParallelChain`s"
   ]
  },
  {
   "cell_type": "code",
   "execution_count": 1,
   "id": "84407a86",
   "metadata": {},
   "outputs": [],
   "source": [
    "import pprint\n",
    "import time\n",
    "\n",
    "from langchain.llms import OpenAI\n",
    "from langchain.prompts import PromptTemplate\n",
    "from langchain.chains import LLMChain, ParallelChain"
   ]
  },
  {
   "cell_type": "code",
   "execution_count": 2,
   "id": "99a74fb0",
   "metadata": {},
   "outputs": [],
   "source": [
    "\"\"\"\n",
    "In Jupyter notebooks, the default event loop policy is set to asyncio.get_event_loop_policy().ipython_kernel, \n",
    "which is different from the default event loop policy used by the Python interpreter. \n",
    "This can cause issues if we're running code that assumes the default event loop policy is being used.\n",
    "\n",
    "To resolve this issue, we set the event loop policy in the Jupyter notebook to match the \n",
    "one used by the Python interpreter.\n",
    "\"\"\"\n",
    "import nest_asyncio\n",
    "\n",
    "# Set the event loop policy to the default used by the Python interpreter\n",
    "nest_asyncio.apply()"
   ]
  },
  {
   "cell_type": "markdown",
   "id": "68ff65f9",
   "metadata": {},
   "source": [
    "## Simple Example"
   ]
  },
  {
   "cell_type": "code",
   "execution_count": 3,
   "id": "162927f6",
   "metadata": {},
   "outputs": [],
   "source": [
    "llm = OpenAI(temperature=0.9)\n",
    "\n",
    "input_variables=['product']\n",
    "\n",
    "prompt_1 = PromptTemplate(\n",
    "    input_variables=input_variables,\n",
    "    template=\"What is a good name for a company that makes {product}?\",\n",
    ")\n",
    "chain_1 = LLMChain(llm=llm, prompt=prompt_1)\n",
    "\n",
    "prompt_2 = PromptTemplate(\n",
    "    input_variables=input_variables,\n",
    "    template=\"What is a good mission statement for a company that makes {product}?\",\n",
    ")\n",
    "chain_2 = LLMChain(llm=llm, prompt=prompt_2)\n",
    "\n",
    "prompt_3 = PromptTemplate(\n",
    "    input_variables=input_variables,\n",
    "    template=\"What is a good slogan for a company that makes {product}?\",\n",
    ")\n",
    "chain_3 = LLMChain(llm=llm, prompt=prompt_3)\n",
    "\n",
    "prompt_4 = PromptTemplate(\n",
    "    input_variables=input_variables,\n",
    "    template=\"What are some core values for a company that makes {product}?\",\n",
    ")\n",
    "chain_4 = LLMChain(llm=llm, prompt=prompt_4)"
   ]
  },
  {
   "cell_type": "markdown",
   "id": "59af5d99",
   "metadata": {},
   "source": [
    "By setting the `concurrent` flag to `True`, we can run the child chains concurrently."
   ]
  },
  {
   "cell_type": "code",
   "execution_count": 4,
   "id": "6d37f4f1",
   "metadata": {},
   "outputs": [
    {
     "name": "stdout",
     "output_type": "stream",
     "text": [
      "\n",
      "\n",
      "\u001b[1m> Entering new ParallelChain chain...\u001b[0m\n",
      "Child chain for key=\"name\" started.\n",
      "Child chain for key=\"mission\" started.\n",
      "Child chain for key=\"slogan\" started.\n",
      "Child chain for key=\"values\" started.\n",
      "Child chain for key=\"name\" finished after 0.71 seconds.\n",
      "Child chain for key=\"slogan\" finished after 0.84 seconds.\n",
      "Child chain for key=\"mission\" finished after 1.77 seconds.\n",
      "Child chain for key=\"values\" finished after 4.09 seconds.\n",
      "\n",
      "\u001b[1m> Finished chain.\u001b[0m\n",
      "{'mission/text': '\\n'\n",
      "                 '\\n'\n",
      "                 'Our mission at [Company Name] is to provide customers with '\n",
      "                 'distinctive and fashionable socks that match their '\n",
      "                 'individual style and personality. We strive to create '\n",
      "                 'quality products that bring joy and self-expression to '\n",
      "                 'everyday life.',\n",
      " 'name/text': '\\n\\nArgyle Appeal.',\n",
      " 'product': 'colorful socks',\n",
      " 'slogan/text': '\\n\\n\"Step into Color with Our Socks!\"',\n",
      " 'values/text': '\\n'\n",
      "                '\\n'\n",
      "                '1. Quality: Commitment to high-quality products and '\n",
      "                'craftsmanship.\\n'\n",
      "                '2. Comfort: Striving to provide comfortable and fashionable '\n",
      "                'products.\\n'\n",
      "                '3. Creativity: Embracing originality and experimentation when '\n",
      "                'designing new products.\\n'\n",
      "                '4. Innovation: Pursuit of improvement through new '\n",
      "                'technologies and processes.\\n'\n",
      "                '5. Community: Valuing the customer and the team behind the '\n",
      "                'product.\\n'\n",
      "                '6. Sustainability: Working to create sustainable, '\n",
      "                'long-lasting products.\\n'\n",
      "                '7. Fun: Uplifting customers with vibrant colors and designs.'}\n",
      "\u001b[1mConcurrent executed in 4.10 seconds.\u001b[0m\n"
     ]
    }
   ],
   "source": [
    "parallel_chain = ParallelChain(\n",
    "    input_variables=input_variables,\n",
    "    chains={\n",
    "        'name': chain_1, \n",
    "        'mission': chain_2, \n",
    "        'slogan': chain_3,\n",
    "        'values': chain_4\n",
    "    },\n",
    "    verbose=True,\n",
    "    concurrent=True\n",
    ")\n",
    "s = time.perf_counter()\n",
    "output = parallel_chain(\"colorful socks\")\n",
    "pprint.pprint(output)\n",
    "print('\\033[1m' + f\"Concurrent executed in {time.perf_counter()-s:0.2f} seconds.\" + '\\033[0m')"
   ]
  },
  {
   "cell_type": "markdown",
   "id": "54a130e0",
   "metadata": {},
   "source": [
    "Setting the `concurrent` flag to `False` would run the child chains serially."
   ]
  },
  {
   "cell_type": "code",
   "execution_count": 5,
   "id": "1eb12581",
   "metadata": {},
   "outputs": [
    {
     "name": "stdout",
     "output_type": "stream",
     "text": [
      "\n",
      "\n",
      "\u001b[1m> Entering new ParallelChain chain...\u001b[0m\n",
      "Child chain for key=\"name\" started.\n",
      "Child chain for key=\"name\" finished after 3.79 seconds.\n",
      "Child chain for key=\"mission\" started.\n",
      "Child chain for key=\"mission\" finished after 1.84 seconds.\n",
      "Child chain for key=\"slogan\" started.\n",
      "Child chain for key=\"slogan\" finished after 0.65 seconds.\n",
      "Child chain for key=\"values\" started.\n",
      "Child chain for key=\"values\" finished after 3.55 seconds.\n",
      "\n",
      "\u001b[1m> Finished chain.\u001b[0m\n",
      "{'mission/text': '\\n'\n",
      "                 '\\n'\n",
      "                 'Our mission at [Company Name] is to provide stylish, '\n",
      "                 'comfortable and quality socks that bring a smile to our '\n",
      "                 \"customers' faces. We strive to always be colorful, creative \"\n",
      "                 'and innovative in our designs and provide outstanding '\n",
      "                 'customer service.',\n",
      " 'name/text': '\\n\\nVivid Sockery.',\n",
      " 'product': 'colorful socks',\n",
      " 'slogan/text': '\\n\\n\"Step into a World of Color with Our Socks!\"',\n",
      " 'values/text': '\\n'\n",
      "                '\\n'\n",
      "                '1. Quality: Committing to providing exceptional quality '\n",
      "                'products to customers.\\n'\n",
      "                '2. Creativity: Innovating unique designs that stand out and '\n",
      "                'make a statement.\\n'\n",
      "                '3. Sustainability: Using materials and practices that are '\n",
      "                'kind to the environment.\\n'\n",
      "                '4. Comfort: Ensuring that all socks are comfortable to wear.\\n'\n",
      "                '5. Inclusivity: Offering a wide range of sizes and colors to '\n",
      "                'cater to all customers.\\n'\n",
      "                '6. Community: Supporting causes and organizations that are '\n",
      "                'important to the community.\\n'\n",
      "                '7. Fun: Making a fun, enjoyable shopping experience for all '\n",
      "                'customers.'}\n",
      "\u001b[1mSerial executed in 9.83 seconds.\u001b[0m\n"
     ]
    }
   ],
   "source": [
    "parallel_chain.concurrent=False\n",
    "s = time.perf_counter()\n",
    "output = parallel_chain(\"colorful socks\")\n",
    "pprint.pprint(output)\n",
    "print('\\033[1m' + f\"Serial executed in {time.perf_counter()-s:0.2f} seconds.\" + '\\033[0m')"
   ]
  },
  {
   "cell_type": "markdown",
   "id": "3c84b888",
   "metadata": {},
   "source": [
    "## Nesting `ParallelChain`s\n",
    "It is possible to nest `ParallelChain`s inside one another. Continuing from the previous example, we nest a concurrent `ParallelChain` inside the previous serial `ParallelChain`."
   ]
  },
  {
   "cell_type": "code",
   "execution_count": 6,
   "id": "416fd48c",
   "metadata": {},
   "outputs": [
    {
     "name": "stdout",
     "output_type": "stream",
     "text": [
      "\n",
      "\n",
      "\u001b[1m> Entering new ParallelChain chain...\u001b[0m\n",
      "Child chain for key=\"name\" started.\n",
      "Child chain for key=\"name\" finished after 0.50 seconds.\n",
      "Child chain for key=\"mission\" started.\n",
      "Child chain for key=\"mission\" finished after 1.77 seconds.\n",
      "Child chain for key=\"slogan\" started.\n",
      "Child chain for key=\"slogan\" finished after 0.61 seconds.\n",
      "Child chain for key=\"values\" started.\n",
      "Child chain for key=\"values\" finished after 4.32 seconds.\n",
      "Child chain for key=\"gift\" started.\n",
      "\n",
      "\n",
      "\u001b[1m> Entering new ParallelChain chain...\u001b[0m\n",
      "Child chain for key=\"good_gift\" started.\n",
      "Child chain for key=\"bad_gift\" started.\n",
      "Child chain for key=\"bad_gift\" finished after 0.47 seconds.\n",
      "Child chain for key=\"good_gift\" finished after 0.97 seconds.\n",
      "\n",
      "\u001b[1m> Finished chain.\u001b[0m\n",
      "Child chain for key=\"gift\" finished after 0.98 seconds.\n",
      "\n",
      "\u001b[1m> Finished chain.\u001b[0m\n",
      "{'gift/bad_gift/text': '\\n\\nA book.',\n",
      " 'gift/good_gift/text': '\\n'\n",
      "                        '\\n'\n",
      "                        'A pack of colorful shoe laces or a pack of colorful '\n",
      "                        'shoelaces with a pair of colorful sneakers.',\n",
      " 'mission/text': '\\n'\n",
      "                 '\\n'\n",
      "                 'Our mission at [COMPANY NAME] is to bring joy and comfort to '\n",
      "                 \"people's lives through our vibrant and unique socks that add \"\n",
      "                 'color and style to any wardrobe. We strive to create the '\n",
      "                 'highest quality products while providing exceptional '\n",
      "                 'customer service and satisfaction.',\n",
      " 'name/text': '\\n\\nDreamy Toes Socks',\n",
      " 'product': 'colorful socks',\n",
      " 'slogan/text': '\\n\\n\"Sock It Up with Colour!\"',\n",
      " 'values/text': '\\n'\n",
      "                '\\n'\n",
      "                '1. Quality: Producing well-made, high-quality socks that '\n",
      "                'bring joy to customers.\\n'\n",
      "                '2. Creativity: Developing unique, creative designs that stand '\n",
      "                'out.\\n'\n",
      "                '3. Fun: Creating a fun, vibrant atmosphere in the workplace.\\n'\n",
      "                '4. Inclusivity: Producing a range of sizes, colors, and '\n",
      "                'designs that appeal to all demographics.\\n'\n",
      "                '5. Consciousness: Investing in eco-friendly materials and '\n",
      "                'sustainable production methods.\\n'\n",
      "                '6. Customer Service: Going above and beyond to ensure the '\n",
      "                'satisfaction of customers.\\n'\n",
      "                '7. Accountability: Taking ownership and responsibility for '\n",
      "                'all of the company’s actions.'}\n"
     ]
    }
   ],
   "source": [
    "prompt_5_1 = PromptTemplate(\n",
    "    input_variables=input_variables,\n",
    "    template=\"Which gift would go well with {product}?\",\n",
    ")\n",
    "chain_5_1 = LLMChain(llm=llm, prompt=prompt_5_1)\n",
    "\n",
    "prompt_5_2 = PromptTemplate(\n",
    "    input_variables=input_variables,\n",
    "    template=\"What gift would not go well with {product}?\",\n",
    ")\n",
    "chain_5_2 = LLMChain(llm=llm, prompt=prompt_5_2)\n",
    "\n",
    "chain_5 = ParallelChain(\n",
    "    input_variables=input_variables,\n",
    "    chains={'good_gift': chain_5_1, 'bad_gift': chain_5_2},\n",
    "    verbose=True,\n",
    "    concurrent=True\n",
    ")\n",
    "\n",
    "parallel_chain.chains.update({'gift': chain_5})\n",
    "\n",
    "output = parallel_chain(\"colorful socks\")\n",
    "pprint.pprint(output)"
   ]
  },
  {
   "cell_type": "markdown",
   "id": "fc867449",
   "metadata": {},
   "source": [
    "Now we make the outer `ParallelChain` execute concurrently again. The following shows an example execution of a concurrent `ParallelChain` nested inside another concurrent `ParallelChain`."
   ]
  },
  {
   "cell_type": "code",
   "execution_count": 7,
   "id": "3a31d085",
   "metadata": {},
   "outputs": [
    {
     "name": "stdout",
     "output_type": "stream",
     "text": [
      "\n",
      "\n",
      "\u001b[1m> Entering new ParallelChain chain...\u001b[0m\n",
      "Child chain for key=\"name\" started.\n",
      "Child chain for key=\"mission\" started.\n",
      "Child chain for key=\"slogan\" started.\n",
      "Child chain for key=\"values\" started.\n",
      "Child chain for key=\"gift\" started.\n",
      "\n",
      "\n",
      "\u001b[1m> Entering new ParallelChain chain...\u001b[0m\n",
      "Child chain for key=\"good_gift\" started.\n",
      "Child chain for key=\"bad_gift\" started.\n",
      "Child chain for key=\"slogan\" finished after 0.70 seconds.Child chain for key=\"bad_gift\" finished after 0.70 seconds.\n",
      "\n",
      "Child chain for key=\"name\" finished after 0.71 seconds.\n",
      "Child chain for key=\"good_gift\" finished after 1.06 seconds.\n",
      "\n",
      "\u001b[1m> Finished chain.\u001b[0m\n",
      "Child chain for key=\"gift\" finished after 1.06 seconds.\n",
      "Child chain for key=\"mission\" finished after 1.83 seconds.\n",
      "Child chain for key=\"values\" finished after 4.89 seconds.\n",
      "\n",
      "\u001b[1m> Finished chain.\u001b[0m\n",
      "{'gift/bad_gift/text': '\\n\\nA book.',\n",
      " 'gift/good_gift/text': '\\n'\n",
      "                        '\\n'\n",
      "                        'A pair of brightly-colored slippers or sandals would '\n",
      "                        'go well with colorful socks.',\n",
      " 'mission/text': '\\n'\n",
      "                 '\\n'\n",
      "                 'Our mission is to bring joy and self-expression to our '\n",
      "                 'customers through our unique and vibrant sock designs. We '\n",
      "                 'strive to create products that empower our customers to '\n",
      "                 'express their individual style and promote a sense of fun '\n",
      "                 'and creativity.',\n",
      " 'name/text': '\\n\\nBrightSteps Sock Co.',\n",
      " 'product': 'colorful socks',\n",
      " 'slogan/text': '\\n\\n\"Put Some Color in Your Step!\"',\n",
      " 'values/text': '\\n'\n",
      "                '\\n'\n",
      "                '1. Quality: Strive to create high-quality products that are '\n",
      "                'both comfortable and stylish.\\n'\n",
      "                '2. Creativity: Innovate with bold colors, styles, and designs '\n",
      "                'to make a unique product.\\n'\n",
      "                '3. Sustainability: Care for the environment by using '\n",
      "                'ethically-sourced materials.\\n'\n",
      "                '4. Inclusivity: Cater to a wide range of sizes and styles to '\n",
      "                'ensure everyone can find a great pair of socks.\\n'\n",
      "                '5. Customer Service: Provide excellent customer service with '\n",
      "                'prompt responses to ensure customer satisfaction. \\n'\n",
      "                '6. Transparency: Be upfront with customers on the process, '\n",
      "                'materials, and sustainability of each product.'}\n"
     ]
    }
   ],
   "source": [
    "parallel_chain.concurrent=True\n",
    "output = parallel_chain(\"colorful socks\")\n",
    "pprint.pprint(output)"
   ]
  }
 ],
 "metadata": {
  "kernelspec": {
   "display_name": "Python 3 (ipykernel)",
   "language": "python",
   "name": "python3"
  },
  "language_info": {
   "codemirror_mode": {
    "name": "ipython",
    "version": 3
   },
   "file_extension": ".py",
   "mimetype": "text/x-python",
   "name": "python",
   "nbconvert_exporter": "python",
   "pygments_lexer": "ipython3",
   "version": "3.9.16"
  }
 },
 "nbformat": 4,
 "nbformat_minor": 5
}
