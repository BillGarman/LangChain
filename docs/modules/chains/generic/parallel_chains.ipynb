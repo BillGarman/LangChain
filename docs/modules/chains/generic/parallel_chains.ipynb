{
 "cells": [
  {
   "cell_type": "markdown",
   "id": "70bcec34",
   "metadata": {},
   "source": [
    "# Parallel Chains"
   ]
  },
  {
   "cell_type": "markdown",
   "id": "5cbd2dfc",
   "metadata": {},
   "source": [
    "Similarly to how sequential chains connect chains in series, parallel chains connect chains in parallel. This is a useful abstraction when you want to independently process the same input with multiple different chains, possibly asynchronously.\n",
    "\n",
    "In the following examples, we wlll show:\n",
    "- how we can use `ParallelChain` to take a list of chains and apply each independently to the same input.\n",
    "- how we can nest `ParallelChain`s inside `ParallelChain`s"
   ]
  },
  {
   "cell_type": "code",
   "execution_count": 1,
   "id": "84407a86",
   "metadata": {},
   "outputs": [],
   "source": [
    "import pprint\n",
    "import time\n",
    "\n",
    "from langchain.llms import OpenAI\n",
    "from langchain.prompts import PromptTemplate\n",
    "from langchain.chains import LLMChain, ParallelChain"
   ]
  },
  {
   "cell_type": "code",
   "execution_count": null,
   "id": "99a74fb0",
   "metadata": {},
   "outputs": [],
   "source": [
    "\"\"\"\n",
    "In Jupyter notebooks, the default event loop policy is set to asyncio.get_event_loop_policy().ipython_kernel, \n",
    "which is different from the default event loop policy used by the Python interpreter. \n",
    "This can cause issues if we're running code that assumes the default event loop policy is being used.\n",
    "\n",
    "To resolve this issue, we set the event loop policy in the Jupyter notebook to match the \n",
    "one used by the Python interpreter.\n",
    "\"\"\"\n",
    "import nest_asyncio\n",
    "\n",
    "# Set the event loop policy to the default used by the Python interpreter\n",
    "nest_asyncio.apply()"
   ]
  },
  {
   "cell_type": "markdown",
   "id": "68ff65f9",
   "metadata": {},
   "source": [
    "## Simple Example"
   ]
  },
  {
   "cell_type": "code",
   "execution_count": 2,
   "id": "162927f6",
   "metadata": {},
   "outputs": [],
   "source": [
    "llm = OpenAI(temperature=0.9)\n",
    "\n",
    "input_variables=['product']\n",
    "\n",
    "prompt_1 = PromptTemplate(\n",
    "    input_variables=input_variables,\n",
    "    template=\"What is a good name for a company that makes {product}?\",\n",
    ")\n",
    "chain_1 = LLMChain(llm=llm, prompt=prompt_1)\n",
    "\n",
    "prompt_2 = PromptTemplate(\n",
    "    input_variables=input_variables,\n",
    "    template=\"What is a good mission statement for a company that makes {product}?\",\n",
    ")\n",
    "chain_2 = LLMChain(llm=llm, prompt=prompt_2)\n",
    "\n",
    "prompt_3 = PromptTemplate(\n",
    "    input_variables=input_variables,\n",
    "    template=\"What is a good slogan for a company that makes {product}?\",\n",
    ")\n",
    "chain_3 = LLMChain(llm=llm, prompt=prompt_3)\n",
    "\n",
    "prompt_4 = PromptTemplate(\n",
    "    input_variables=input_variables,\n",
    "    template=\"What are some core values for a company that makes {product}?\",\n",
    ")\n",
    "chain_4 = LLMChain(llm=llm, prompt=prompt_4)"
   ]
  },
  {
   "cell_type": "markdown",
   "id": "59af5d99",
   "metadata": {},
   "source": [
    "When the `concurrent` flag is set to `True`, we can run the child chains concurrently. The `concurrent` flag is set to `True` by default."
   ]
  },
  {
   "cell_type": "code",
   "execution_count": 3,
   "id": "6d37f4f1",
   "metadata": {},
   "outputs": [
    {
     "name": "stdout",
     "output_type": "stream",
     "text": [
      "\n",
      "\n",
      "\u001b[1m> Entering new ParallelChain chain...\u001b[0m\n",
      "Child chain for key=\"name\" started.\n",
      "Child chain for key=\"mission\" started.\n",
      "Child chain for key=\"slogan\" started.\n",
      "Child chain for key=\"values\" started.\n",
      "Child chain for key=\"name\" finished after 0.72 seconds.\n",
      "Child chain for key=\"slogan\" finished after 1.45 seconds.\n",
      "Child chain for key=\"mission\" finished after 1.94 seconds.\n",
      "Child chain for key=\"values\" finished after 5.79 seconds.\n",
      "\n",
      "\u001b[1m> Finished chain.\u001b[0m\n",
      "{'mission/text': '\\n'\n",
      "                 '\\n'\n",
      "                 'Our mission is to bring joy, vibrancy and self-expression to '\n",
      "                 'everyday life by creating unique, colorful socks that make a '\n",
      "                 'statement.',\n",
      " 'name/text': '\\n\\nHappy Sock Co.',\n",
      " 'product': 'colorful socks',\n",
      " 'slogan/text': '\\n\\n\"Life\\'s Too Short to Wear Boring Socks!\"',\n",
      " 'values/text': '\\n'\n",
      "                '\\n'\n",
      "                '1. Quality: Producing high-quality, stylish, and durable '\n",
      "                'socks.\\n'\n",
      "                '2. Creativity: Striving to create unique, eye-catching '\n",
      "                'designs.\\n'\n",
      "                '3. Comfort: Ensuring all of our products are comfortable to '\n",
      "                'wear.\\n'\n",
      "                '4. Inclusivity: Offering socks for all genders, sizes, and '\n",
      "                'styles.\\n'\n",
      "                '5. Transparency: Always being honest and open with our '\n",
      "                'customers.\\n'\n",
      "                '6. Customer Service: Providing excellent customer service and '\n",
      "                'support.\\n'\n",
      "                '7. Innovation: Constantly striving to push the boundaries of '\n",
      "                'sock design.\\n'\n",
      "                '8. Environmentally Conscious: Making sure our products and '\n",
      "                'practices are kind to the environment.'}\n",
      "\u001b[1mConcurrent executed in 5.80 seconds.\u001b[0m\n"
     ]
    }
   ],
   "source": [
    "parallel_chain = ParallelChain(\n",
    "    input_variables=input_variables,\n",
    "    chains={\n",
    "        'name': chain_1, \n",
    "        'mission': chain_2, \n",
    "        'slogan': chain_3,\n",
    "        'values': chain_4\n",
    "    },\n",
    "    verbose=True,\n",
    "    concurrent=True\n",
    ")\n",
    "s = time.perf_counter()\n",
    "output = parallel_chain(\"colorful socks\")\n",
    "pprint.pprint(output)\n",
    "print('\\033[1m' + f\"Concurrent executed in {time.perf_counter()-s:0.2f} seconds.\" + '\\033[0m')"
   ]
  },
  {
   "cell_type": "markdown",
   "id": "54a130e0",
   "metadata": {},
   "source": [
    "Setting the `concurrent` flag to `False` would run the child chains serially."
   ]
  },
  {
   "cell_type": "code",
   "execution_count": 4,
   "id": "1eb12581",
   "metadata": {},
   "outputs": [
    {
     "name": "stdout",
     "output_type": "stream",
     "text": [
      "\n",
      "\n",
      "\u001b[1m> Entering new ParallelChain chain...\u001b[0m\n",
      "Child chain for key=\"name\" started.\n",
      "Child chain for key=\"name\" finished after 0.59 seconds.\n",
      "Child chain for key=\"mission\" started.\n",
      "Child chain for key=\"mission\" finished after 2.59 seconds.\n",
      "Child chain for key=\"slogan\" started.\n",
      "Child chain for key=\"slogan\" finished after 0.52 seconds.\n",
      "Child chain for key=\"values\" started.\n",
      "Child chain for key=\"values\" finished after 5.32 seconds.\n",
      "\n",
      "\u001b[1m> Finished chain.\u001b[0m\n",
      "{'mission/text': '\\n'\n",
      "                 '\\n'\n",
      "                 'Our mission at [Company Name] is to provide affordable, '\n",
      "                 'colorful, and quality socks that bring joy, comfort, and '\n",
      "                 'warmth to our customers. We believe in creating a fun and '\n",
      "                 'vibrant shopping experience for our customers, both online '\n",
      "                 'and in-store.',\n",
      " 'name/text': '\\n\\nSocktastic!',\n",
      " 'product': 'colorful socks',\n",
      " 'slogan/text': '\\n\\n\"Put Some Color Into Your Step!\"',\n",
      " 'values/text': ' \\n'\n",
      "                '\\n'\n",
      "                '1. Quality: Delivering superior quality in materials, '\n",
      "                'construction and design.\\n'\n",
      "                '2. Creativity: Striving for continual innovation and '\n",
      "                'improvement in designs and prints.\\n'\n",
      "                '3. Comfort: Focusing on creating comfortable and aesthetic '\n",
      "                'socks that people love to wear.\\n'\n",
      "                '4. Style: Bringing together bold and unique color '\n",
      "                'combinations, designs and styles.\\n'\n",
      "                '5. Inclusivity: Crafting socks for men, women and children of '\n",
      "                'all ages and sizes.\\n'\n",
      "                '6. Responsibility: Operating in a socially and '\n",
      "                'environmentally responsible way.\\n'\n",
      "                '7. Customer Service: Aiming to provide exceptional customer '\n",
      "                'service.\\n'\n",
      "                '8. Value: Offering quality products at a fair price.'}\n",
      "\u001b[1mSerial executed in 9.02 seconds.\u001b[0m\n"
     ]
    }
   ],
   "source": [
    "parallel_chain.concurrent=False\n",
    "s = time.perf_counter()\n",
    "output = parallel_chain(\"colorful socks\")\n",
    "pprint.pprint(output)\n",
    "print('\\033[1m' + f\"Serial executed in {time.perf_counter()-s:0.2f} seconds.\" + '\\033[0m')"
   ]
  },
  {
   "cell_type": "markdown",
   "id": "3c84b888",
   "metadata": {},
   "source": [
    "## Nesting `ParallelChain`s\n",
    "It is possible to nest `ParallelChain`s inside one another. Continuing from the previous example, we nest a concurrent `ParallelChain` inside the previous serial `ParallelChain`."
   ]
  },
  {
   "cell_type": "code",
   "execution_count": 5,
   "id": "416fd48c",
   "metadata": {},
   "outputs": [
    {
     "name": "stdout",
     "output_type": "stream",
     "text": [
      "\n",
      "\n",
      "\u001b[1m> Entering new ParallelChain chain...\u001b[0m\n",
      "Child chain for key=\"name\" started.\n",
      "Child chain for key=\"name\" finished after 0.62 seconds.\n",
      "Child chain for key=\"mission\" started.\n",
      "Child chain for key=\"mission\" finished after 1.83 seconds.\n",
      "Child chain for key=\"slogan\" started.\n",
      "Child chain for key=\"slogan\" finished after 1.20 seconds.\n",
      "Child chain for key=\"values\" started.\n",
      "Child chain for key=\"values\" finished after 2.17 seconds.\n",
      "Child chain for key=\"gift\" started.\n",
      "\n",
      "\n",
      "\u001b[1m> Entering new ParallelChain chain...\u001b[0m\n",
      "Child chain for key=\"good_gift\" started.\n",
      "Child chain for key=\"bad_gift\" started.\n",
      "Child chain for key=\"bad_gift\" finished after 1.10 seconds.\n",
      "Child chain for key=\"good_gift\" finished after 1.51 seconds.\n",
      "\n",
      "\u001b[1m> Finished chain.\u001b[0m\n",
      "Child chain for key=\"gift\" finished after 1.51 seconds.\n",
      "\n",
      "\u001b[1m> Finished chain.\u001b[0m\n",
      "{'gift/bad_gift/text': '\\n'\n",
      "                       '\\n'\n",
      "                       'Tools, such as a hammer or screwdriver, would not go '\n",
      "                       'well with colorful socks.',\n",
      " 'gift/good_gift/text': '\\n'\n",
      "                        '\\n'\n",
      "                        'A colorful hat or scarf would make a great '\n",
      "                        'accompaniment to colorful socks.',\n",
      " 'mission/text': '\\n'\n",
      "                 '\\n'\n",
      "                 'Our mission at [Company Name] is to spread joy and self '\n",
      "                 'expression through our unique and vibrant socks, so that our '\n",
      "                 'customers can feel bold, confident, and comfortable in their '\n",
      "                 'own individual style.',\n",
      " 'name/text': '\\n\\nRainbow Socks Co.',\n",
      " 'product': 'colorful socks',\n",
      " 'slogan/text': '\\n\\n\"Step up your sock game with Color Socks!\"',\n",
      " 'values/text': '\\n'\n",
      "                '\\n'\n",
      "                '1. Quality craftsmanship\\n'\n",
      "                '2. Creativity and innovation\\n'\n",
      "                '3. Commitment to customer service\\n'\n",
      "                '4. Respect for the environment\\n'\n",
      "                '5. Encouragement of individuality\\n'\n",
      "                '6. Support for diversity\\n'\n",
      "                '7. Dignity and respect for employees\\n'\n",
      "                '8. A passion for building lasting relationships'}\n"
     ]
    }
   ],
   "source": [
    "prompt_5_1 = PromptTemplate(\n",
    "    input_variables=input_variables,\n",
    "    template=\"Which gift would go well with {product}?\",\n",
    ")\n",
    "chain_5_1 = LLMChain(llm=llm, prompt=prompt_5_1)\n",
    "\n",
    "prompt_5_2 = PromptTemplate(\n",
    "    input_variables=input_variables,\n",
    "    template=\"What gift would not go well with {product}?\",\n",
    ")\n",
    "chain_5_2 = LLMChain(llm=llm, prompt=prompt_5_2)\n",
    "\n",
    "chain_5 = ParallelChain(\n",
    "    input_variables=input_variables,\n",
    "    chains={'good_gift': chain_5_1, 'bad_gift': chain_5_2},\n",
    "    verbose=True,\n",
    "    concurrent=True\n",
    ")\n",
    "\n",
    "parallel_chain.chains.update({'gift': chain_5})\n",
    "\n",
    "output = parallel_chain(\"colorful socks\")\n",
    "pprint.pprint(output)"
   ]
  },
  {
   "cell_type": "markdown",
   "id": "fc867449",
   "metadata": {},
   "source": [
    "We can now make the outer `ParallelChain` execute concurrently again by setting `parallel_chain.concurrent=True`. Executing this nested chain will result in executing a concurrent `ParallelChain` inside another concurrent `ParallelChain`."
   ]
  },
  {
   "cell_type": "code",
   "execution_count": 6,
   "id": "3a31d085",
   "metadata": {},
   "outputs": [
    {
     "name": "stdout",
     "output_type": "stream",
     "text": [
      "\n",
      "\n",
      "\u001b[1m> Entering new ParallelChain chain...\u001b[0m\n",
      "Child chain for key=\"name\" started.\n",
      "Child chain for key=\"mission\" started.\n",
      "Child chain for key=\"slogan\" started.\n",
      "Child chain for key=\"values\" started.\n",
      "Child chain for key=\"gift\" started.\n",
      "\n",
      "\n",
      "\u001b[1m> Entering new ParallelChain chain...\u001b[0m\n",
      "Child chain for key=\"good_gift\" started.\n",
      "Child chain for key=\"bad_gift\" started.\n",
      "Child chain for key=\"good_gift\" finished after 0.93 seconds.Child chain for key=\"name\" finished after 0.94 seconds.\n",
      "\n",
      "Child chain for key=\"bad_gift\" finished after 0.93 seconds.\n",
      "\n",
      "\u001b[1m> Finished chain.\u001b[0m\n",
      "Child chain for key=\"gift\" finished after 0.93 seconds.\n",
      "Child chain for key=\"slogan\" finished after 1.07 seconds.\n",
      "Child chain for key=\"mission\" finished after 2.37 seconds.\n",
      "Child chain for key=\"values\" finished after 5.71 seconds.\n",
      "\n",
      "\u001b[1m> Finished chain.\u001b[0m\n",
      "{'gift/bad_gift/text': '\\n\\nA vacuum cleaner.',\n",
      " 'gift/good_gift/text': '\\n'\n",
      "                        '\\n'\n",
      "                        'A pair of colorful sneakers would pair nicely with '\n",
      "                        'colorful socks.',\n",
      " 'mission/text': '\\n'\n",
      "                 '\\n'\n",
      "                 'Our mission at [Company Name] is to bring joy and style to '\n",
      "                 'our customers’ lives, one colorful sock at a time. We strive '\n",
      "                 'to create innovative, fun designs that make wearing socks '\n",
      "                 'enjoyable while still providing quality and value.',\n",
      " 'name/text': '\\n\\nRainbow Toes Co.',\n",
      " 'product': 'colorful socks',\n",
      " 'slogan/text': '\\n\\n\"Make a Statement with Colorful Socks!\"',\n",
      " 'values/text': '\\n'\n",
      "                '\\n'\n",
      "                '1. Quality: Commitment to delivering high-quality products '\n",
      "                'and services.\\n'\n",
      "                '2. Creativity: Embracing bold and innovative ideas.\\n'\n",
      "                '3. Diversity: Celebrating individual differences and '\n",
      "                'perspectives.\\n'\n",
      "                '4. Inclusivity: Offering a safe and comfortable environment '\n",
      "                'to foster creativity and collaboration.\\n'\n",
      "                '5. Integrity: A commitment to honesty and fairness.\\n'\n",
      "                '6. Excellence: Pursuing excellence in every action and '\n",
      "                'decision.\\n'\n",
      "                '7. Respect: Respecting others, their ideas, and their '\n",
      "                'contributions.\\n'\n",
      "                '8. Responsibility: Taking ownership of our actions and their '\n",
      "                'consequences.\\n'\n",
      "                '9. Customer Service: Dedication to providing exceptional '\n",
      "                'customer service.\\n'\n",
      "                '10. Fun: Uplifting spirits and creating joy through our '\n",
      "                'product and services.'}\n"
     ]
    }
   ],
   "source": [
    "parallel_chain.concurrent=True\n",
    "output = parallel_chain(\"colorful socks\")\n",
    "pprint.pprint(output)"
   ]
  },
  {
   "cell_type": "code",
   "execution_count": null,
   "id": "507ae82e",
   "metadata": {},
   "outputs": [],
   "source": []
  }
 ],
 "metadata": {
  "kernelspec": {
   "display_name": "Python 3 (ipykernel)",
   "language": "python",
   "name": "python3"
  },
  "language_info": {
   "codemirror_mode": {
    "name": "ipython",
    "version": 3
   },
   "file_extension": ".py",
   "mimetype": "text/x-python",
   "name": "python",
   "nbconvert_exporter": "python",
   "pygments_lexer": "ipython3",
   "version": "3.9.16"
  }
 },
 "nbformat": 4,
 "nbformat_minor": 5
}
