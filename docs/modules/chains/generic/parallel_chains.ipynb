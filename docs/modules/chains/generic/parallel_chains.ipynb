{
 "cells": [
  {
   "cell_type": "markdown",
   "id": "70bcec34",
   "metadata": {},
   "source": [
    "# Parallel Chains"
   ]
  },
  {
   "cell_type": "markdown",
   "id": "5cbd2dfc",
   "metadata": {},
   "source": [
    "Similarly to how sequential chains connect chains in series, parallel chains connect chains in parallel. This is a useful abstraction when you want to independently process the same input with multiple different chains, possibly asynchronously. \n",
    "\n",
    "In this notebook we will walk through an example for using `ParallelChain`, which takes a list of chains and applies each independently to the same input.\n",
    "\n",
    "Asynchronous execution of parallel chains is not yet supported."
   ]
  },
  {
   "cell_type": "code",
   "execution_count": 1,
   "id": "84407a86",
   "metadata": {},
   "outputs": [],
   "source": [
    "from langchain.llms import OpenAI\n",
    "from langchain.prompts import PromptTemplate\n",
    "from langchain.chains import LLMChain, SimpleParallelChain"
   ]
  },
  {
   "cell_type": "code",
   "execution_count": 2,
   "id": "6d37f4f1",
   "metadata": {},
   "outputs": [
    {
     "name": "stdout",
     "output_type": "stream",
     "text": [
      "\n",
      "\n",
      "\u001b[1m> Entering new SimpleParallelChain chain...\u001b[0m\n",
      "\n",
      "\u001b[1m> Finished chain.\u001b[0m\n",
      "Output:\n",
      "{'product': 'colorful socks', 'name': '\\n\\nLively Sockery.', 'slogan': '\\n\\n\"Step Into Color with Our Socks!\"'}\n"
     ]
    }
   ],
   "source": [
    "llm = OpenAI(temperature=0.9)\n",
    "\n",
    "prompt_1 = PromptTemplate(\n",
    "    input_variables=[\"product\"],\n",
    "    template=\"What is a good name for a company that makes {product}?\",\n",
    ")\n",
    "chain_1 = LLMChain(llm=llm, prompt=prompt_1)\n",
    "\n",
    "prompt_2 = PromptTemplate(\n",
    "    input_variables=[\"product\"],\n",
    "    template=\"What is a good slogan for a company that makes {product}?\",\n",
    ")\n",
    "chain_2 = LLMChain(llm=llm, prompt=prompt_2)\n",
    "\n",
    "parallel_chain = SimpleParallelChain(\n",
    "    chains=[chain_1, chain_2],\n",
    "    input_variables=['product'],\n",
    "    output_variables=['name', 'slogan'],\n",
    "    verbose=True\n",
    ")\n",
    "output = parallel_chain(\"colorful socks\")\n",
    "print(f\"Output:\\n{output}\")"
   ]
  },
  {
   "cell_type": "code",
   "execution_count": null,
   "id": "416fd48c",
   "metadata": {},
   "outputs": [],
   "source": []
  }
 ],
 "metadata": {
  "kernelspec": {
   "display_name": "Python 3 (ipykernel)",
   "language": "python",
   "name": "python3"
  },
  "language_info": {
   "codemirror_mode": {
    "name": "ipython",
    "version": 3
   },
   "file_extension": ".py",
   "mimetype": "text/x-python",
   "name": "python",
   "nbconvert_exporter": "python",
   "pygments_lexer": "ipython3",
   "version": "3.9.16"
  }
 },
 "nbformat": 4,
 "nbformat_minor": 5
}
