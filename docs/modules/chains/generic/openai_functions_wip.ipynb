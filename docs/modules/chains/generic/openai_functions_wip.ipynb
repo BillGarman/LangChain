{
 "cells": [
  {
   "cell_type": "code",
   "execution_count": 1,
   "id": "e2459cee",
   "metadata": {},
   "outputs": [],
   "source": [
    "%load_ext autoreload\n",
    "%autoreload 2"
   ]
  },
  {
   "cell_type": "code",
   "execution_count": 2,
   "id": "76ee428b",
   "metadata": {},
   "outputs": [],
   "source": [
    "from langchain.chat_models import ChatOpenAI\n",
    "from langchain.chains.openai_functions import create_extraction_chain, create_tagging_chain\n",
    "from langchain.prompts import ChatPromptTemplate"
   ]
  },
  {
   "cell_type": "code",
   "execution_count": 3,
   "id": "8be3011c",
   "metadata": {},
   "outputs": [],
   "source": [
    "llm=ChatOpenAI(temperature=0, \n",
    "                   model=\"gpt-3.5-turbo-0613\")"
   ]
  },
  {
   "cell_type": "markdown",
   "id": "0ac73131",
   "metadata": {},
   "source": [
    "## Tagging chain"
   ]
  },
  {
   "cell_type": "code",
   "execution_count": 4,
   "id": "9236f524",
   "metadata": {},
   "outputs": [],
   "source": [
    "schema = {\n",
    "      \"properties\": {\n",
    "          \"person_name\": {\"type\": [\"string\"]}, \n",
    "          \"person_height\":{\"type\": [\"integer\"]},\n",
    "          \"person_hair_color\": {\"type\": [\"string\"]},\n",
    "          \"dog_name\": {\"type\": [\"string\"]},\n",
    "          \"dog_breed\": {\"type\": [\"string\"]}\n",
    "              },\n",
    "        \"required\": [\"person_name\", \"height\"]\n",
    "    }"
   ]
  },
  {
   "cell_type": "code",
   "execution_count": 5,
   "id": "f43bf027",
   "metadata": {},
   "outputs": [],
   "source": [
    "chain = create_tagging_chain(schema=schema, llm=llm)"
   ]
  },
  {
   "cell_type": "code",
   "execution_count": 6,
   "id": "38286127",
   "metadata": {},
   "outputs": [],
   "source": [
    "user_inp = \"\"\"\n",
    "Alex is 5 feet long. Claudia is 4 feet than Alex and jumps higher than him. Claudia is a brunette and Alex is blonde.\n",
    "Alex's dog Frosty is a labrador and likes to play hide and seek.\n",
    "        \"\"\""
   ]
  },
  {
   "cell_type": "code",
   "execution_count": 7,
   "id": "8bbc958c",
   "metadata": {},
   "outputs": [
    {
     "data": {
      "text/plain": [
       "{'input': \"\\nAlex is 5 feet long. Claudia is 4 feet than Alex and jumps higher than him. Claudia is a brunette and Alex is blonde.\\nAlex's dog Frosty is a labrador and likes to play hide and seek.\\n        \",\n",
       " 'output': {'person_name': ['Alex', 'Claudia'],\n",
       "  'person_height': ['5 feet', '4 feet'],\n",
       "  'person_hair_color': ['blonde', 'brunette'],\n",
       "  'dog_name': ['Frosty'],\n",
       "  'dog_breed': ['labrador']}}"
      ]
     },
     "execution_count": 7,
     "metadata": {},
     "output_type": "execute_result"
    }
   ],
   "source": [
    "chain(user_inp)"
   ]
  },
  {
   "cell_type": "markdown",
   "id": "ac0630db",
   "metadata": {},
   "source": [
    "## Extracting chain"
   ]
  },
  {
   "cell_type": "markdown",
   "id": "ae045448",
   "metadata": {},
   "source": [
    "1. Establishing range and options"
   ]
  },
  {
   "cell_type": "code",
   "execution_count": 57,
   "id": "45b33ae9",
   "metadata": {},
   "outputs": [],
   "source": [
    "schema = {\n",
    "      \"properties\": {\n",
    "          \"sentiment\": {\"type\": \"string\", \"enum\": [\"happy\", \"neutral\", \"sad\"], \"description\": \"sentiment of the statement\"}, \n",
    "          \"aggressiveness\": {\"type\": \"integer\", \"enum\": [1,2,3,4,5]},\n",
    "          \"language\": {\"type\": \"string\"},\n",
    "              },\n",
    "        \"required\": []\n",
    "    }"
   ]
  },
  {
   "cell_type": "code",
   "execution_count": 58,
   "id": "5621adcb",
   "metadata": {},
   "outputs": [],
   "source": [
    "user_inp = \"\"\"\n",
    "Estoy tan contento de haberte conocido! Creo que seremos muy buenos amigos!\n",
    "        \"\"\""
   ]
  },
  {
   "cell_type": "code",
   "execution_count": 59,
   "id": "91325069",
   "metadata": {},
   "outputs": [],
   "source": [
    "chain = create_extraction_chain(schema=schema, llm=llm)"
   ]
  },
  {
   "cell_type": "code",
   "execution_count": 60,
   "id": "274861c9",
   "metadata": {},
   "outputs": [
    {
     "data": {
      "text/plain": [
       "{'input': '\\nEstoy tan contento de haberte conocido! Creo que seremos muy buenos amigos!\\n        ',\n",
       " 'output': {'sentiment': 'super happy',\n",
       "  'aggressiveness-0_to_10': 0,\n",
       "  'language': 'Spanish'}}"
      ]
     },
     "execution_count": 60,
     "metadata": {},
     "output_type": "execute_result"
    }
   ],
   "source": [
    "chain(user_inp)"
   ]
  },
  {
   "cell_type": "code",
   "execution_count": 61,
   "id": "46107561",
   "metadata": {},
   "outputs": [],
   "source": [
    "user_inp = \"\"\"\n",
    "Estoy muy enojado con vos! Te voy a dar tu merecido!\n",
    "\"\"\""
   ]
  },
  {
   "cell_type": "code",
   "execution_count": 62,
   "id": "509f9a37",
   "metadata": {},
   "outputs": [],
   "source": [
    "chain = create_extraction_chain(schema=schema, llm=llm)"
   ]
  },
  {
   "cell_type": "code",
   "execution_count": 63,
   "id": "84eb3651",
   "metadata": {},
   "outputs": [
    {
     "data": {
      "text/plain": [
       "{'input': '\\nEstoy muy enojado con vos! Te voy a dar tu merecido!\\n',\n",
       " 'output': {'sentiment': 'sad',\n",
       "  'aggressiveness-0_to_10': 8,\n",
       "  'language': 'Spanish'}}"
      ]
     },
     "execution_count": 63,
     "metadata": {},
     "output_type": "execute_result"
    }
   ],
   "source": [
    "chain(user_inp)"
   ]
  }
 ],
 "metadata": {
  "kernelspec": {
   "display_name": "general",
   "language": "python",
   "name": "general"
  },
  "language_info": {
   "codemirror_mode": {
    "name": "ipython",
    "version": 3
   },
   "file_extension": ".py",
   "mimetype": "text/x-python",
   "name": "python",
   "nbconvert_exporter": "python",
   "pygments_lexer": "ipython3",
   "version": "3.10.6"
  }
 },
 "nbformat": 4,
 "nbformat_minor": 5
}
