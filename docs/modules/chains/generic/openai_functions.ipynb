{
 "cells": [
  {
   "cell_type": "code",
   "execution_count": 1,
   "id": "e6aa8db8",
   "metadata": {},
   "outputs": [],
   "source": [
    "%load_ext autoreload\n",
    "%autoreload 2"
   ]
  },
  {
   "cell_type": "code",
   "execution_count": 2,
   "id": "76ee428b",
   "metadata": {},
   "outputs": [],
   "source": [
    "from langchain.chat_models import ChatOpenAI\n",
    "from langchain.chains.openai_functions import OpenAIFunctionsChain\n",
    "from langchain.prompts import ChatPromptTemplate"
   ]
  },
  {
   "cell_type": "code",
   "execution_count": 3,
   "id": "de0f246f",
   "metadata": {},
   "outputs": [],
   "source": [
    "prompt = ChatPromptTemplate.from_template(\"\"\"\n",
    "                                            Extract and save the relevant entities from the people mentioned in the following passage:\n",
    "                                          \n",
    "                                                Alex is tall and has blonde hair. Claudia is shorter than Alex and jumps higher than him.\n",
    "                                          \"\"\")"
   ]
  },
  {
   "cell_type": "code",
   "execution_count": 4,
   "id": "60c2429c",
   "metadata": {},
   "outputs": [],
   "source": [
    "chain = OpenAIFunctionsChain(\n",
    "    llm=ChatOpenAI(temperature=0, \n",
    "                   model=\"gpt-3.5-turbo-0613\"), \n",
    "    prompt=prompt)"
   ]
  },
  {
   "cell_type": "code",
   "execution_count": 5,
   "id": "1e294394",
   "metadata": {},
   "outputs": [],
   "source": [
    "# inputs = {\"entity_schema\": \n",
    "#     {\n",
    "#       \"entity_name\": \"person\",\n",
    "#       \"properties\": {\n",
    "#           \"person_name\": \"string\", \n",
    "#           \"height\": \"string\"\n",
    "#               },\n",
    "#         \"required\": [\"person_name\", \"height\"]\n",
    "#     }\n",
    "#          }"
   ]
  },
  {
   "cell_type": "code",
   "execution_count": 6,
   "id": "80c06bd5",
   "metadata": {},
   "outputs": [],
   "source": [
    "inputs = {\"entity_schema\": \n",
    "    {\n",
    "      \"entity_name\": \"person\",\n",
    "      \"properties\": {\n",
    "          \"person_names\": \"object\", \n",
    "          \"heights\": \"object\"\n",
    "              },\n",
    "#         \"required\": [\"person_names\", \"heights\"]\n",
    "    }\n",
    "         }"
   ]
  },
  {
   "cell_type": "code",
   "execution_count": null,
   "id": "ed17ce59",
   "metadata": {},
   "outputs": [],
   "source": [
    "chain(inputs)"
   ]
  },
  {
   "cell_type": "code",
   "execution_count": null,
   "id": "ba748872",
   "metadata": {},
   "outputs": [],
   "source": [
    "# chain({\"__tools__\": [\n",
    "#     {\n",
    "#       \"name\": \"get_height\",\n",
    "#       \"description\": \"Use this function to save the height of all the people that were mentioned in the passage\",\n",
    "#       \"parameters\": \n",
    "#           {\n",
    "#               \"properties\":{\n",
    "#                 \"person_name\": {\"title\": \"person_name\", \"type\": \"string\"},\n",
    "#                 \"height\": {\"title\": \"height\", \"type\": \"string\"},\n",
    "#               },\n",
    "#               \"required\": [\"height\"],\n",
    "#               \"type\": \"object\",\n",
    "#           },\n",
    "#     }\n",
    "# ]\n",
    "#       }\n",
    "#      )"
   ]
  },
  {
   "cell_type": "code",
   "execution_count": null,
   "id": "e4effa32",
   "metadata": {},
   "outputs": [],
   "source": []
  }
 ],
 "metadata": {
  "kernelspec": {
   "display_name": "general",
   "language": "python",
   "name": "general"
  },
  "language_info": {
   "codemirror_mode": {
    "name": "ipython",
    "version": 3
   },
   "file_extension": ".py",
   "mimetype": "text/x-python",
   "name": "python",
   "nbconvert_exporter": "python",
   "pygments_lexer": "ipython3",
   "version": "3.10.6"
  }
 },
 "nbformat": 4,
 "nbformat_minor": 5
}
