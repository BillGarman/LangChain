{
 "cells": [
  {
   "cell_type": "code",
   "execution_count": 29,
   "id": "de503929",
   "metadata": {},
   "outputs": [
    {
     "name": "stdout",
     "output_type": "stream",
     "text": [
      "The autoreload extension is already loaded. To reload it, use:\n",
      "  %reload_ext autoreload\n"
     ]
    }
   ],
   "source": [
    "%load_ext autoreload\n",
    "%autoreload 2"
   ]
  },
  {
   "cell_type": "code",
   "execution_count": 30,
   "id": "76ee428b",
   "metadata": {},
   "outputs": [],
   "source": [
    "from langchain.chat_models import ChatOpenAI\n",
    "from langchain.chains.openai_functions import OpenAIFunctionsChain\n",
    "from langchain.prompts import ChatPromptTemplate"
   ]
  },
  {
   "cell_type": "code",
   "execution_count": 31,
   "id": "de0f246f",
   "metadata": {},
   "outputs": [],
   "source": [
    "prompt = ChatPromptTemplate.from_template(\"Alex is tall and has blonde hair. Claudia is shorter than Alex and jumps higher than him.\")"
   ]
  },
  {
   "cell_type": "code",
   "execution_count": 32,
   "id": "60c2429c",
   "metadata": {},
   "outputs": [],
   "source": [
    "chain = OpenAIFunctionsChain(\n",
    "    llm=ChatOpenAI(temperature=0, \n",
    "                   model=\"gpt-3.5-turbo-0613\"), \n",
    "    prompt=prompt)"
   ]
  },
  {
   "cell_type": "code",
   "execution_count": 36,
   "id": "bf22956c",
   "metadata": {},
   "outputs": [],
   "source": [
    "inputs = {\"entity_schema\": \n",
    "    {\n",
    "      \"entity_name\": \"person\",\n",
    "      \"properties\": {\n",
    "          \"person_name\": \"string\", \n",
    "          \"height\": \"string\"\n",
    "              },\n",
    "        \"required\": [\"person_name\", \"height\"]\n",
    "    }\n",
    "         }"
   ]
  },
  {
   "cell_type": "code",
   "execution_count": 37,
   "id": "f62bd6bc",
   "metadata": {},
   "outputs": [],
   "source": [
    "# inputs = {\"entity_schema\": \n",
    "#     {\n",
    "#       \"entity_name\": \"person\",\n",
    "#       \"properties\": {\n",
    "#           \"person_names\": \"object\", \n",
    "#           \"heights\": \"object\"\n",
    "#               },\n",
    "#         \"required\": [\"person_names\", \"heights\"]\n",
    "#     }\n",
    "#          }"
   ]
  },
  {
   "cell_type": "code",
   "execution_count": 38,
   "id": "fc69ef0a",
   "metadata": {},
   "outputs": [
    {
     "data": {
      "text/plain": [
       "{'entity_schema': {'entity_name': 'person',\n",
       "  'properties': {'person_name': 'string', 'height': 'string'},\n",
       "  'required': ['person_name', 'height']},\n",
       " 'output': AIMessage(content='', additional_kwargs={'function_call': {'name': 'get_person_info', 'arguments': '{\\n  \"person_name\": \"Alex\",\\n  \"height\": \"tall\"\\n}'}}, example=False)}"
      ]
     },
     "execution_count": 38,
     "metadata": {},
     "output_type": "execute_result"
    }
   ],
   "source": [
    "chain(inputs)"
   ]
  },
  {
   "cell_type": "code",
   "execution_count": 28,
   "id": "ba748872",
   "metadata": {},
   "outputs": [],
   "source": [
    "# chain({\"__tools__\": [\n",
    "#     {\n",
    "#       \"name\": \"get_height\",\n",
    "#       \"description\": \"Use this function to save the height of all the people that were mentioned in the passage\",\n",
    "#       \"parameters\": \n",
    "#           {\n",
    "#               \"properties\":{\n",
    "#                 \"person_name\": {\"title\": \"person_name\", \"type\": \"string\"},\n",
    "#                 \"height\": {\"title\": \"height\", \"type\": \"string\"},\n",
    "#               },\n",
    "#               \"required\": [\"height\"],\n",
    "#               \"type\": \"object\",\n",
    "#           },\n",
    "#     }\n",
    "# ]\n",
    "#       }\n",
    "#      )"
   ]
  },
  {
   "cell_type": "code",
   "execution_count": null,
   "id": "3da49e85",
   "metadata": {},
   "outputs": [],
   "source": []
  }
 ],
 "metadata": {
  "kernelspec": {
   "display_name": "general",
   "language": "python",
   "name": "general"
  },
  "language_info": {
   "codemirror_mode": {
    "name": "ipython",
    "version": 3
   },
   "file_extension": ".py",
   "mimetype": "text/x-python",
   "name": "python",
   "nbconvert_exporter": "python",
   "pygments_lexer": "ipython3",
   "version": "3.10.6"
  }
 },
 "nbformat": 4,
 "nbformat_minor": 5
}
