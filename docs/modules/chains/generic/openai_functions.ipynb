{
 "cells": [
  {
   "cell_type": "code",
   "execution_count": 1,
   "id": "76ee428b",
   "metadata": {},
   "outputs": [],
   "source": [
    "from langchain.chat_models import ChatOpenAI\n",
    "from langchain.chains.openai_functions import OpenAIFunctionsChain\n",
    "from langchain.prompts import ChatPromptTemplate"
   ]
  },
  {
   "cell_type": "code",
   "execution_count": 2,
   "id": "de0f246f",
   "metadata": {},
   "outputs": [],
   "source": [
    "prompt = ChatPromptTemplate.from_template(\"tell me a joke about {subject}\")"
   ]
  },
  {
   "cell_type": "code",
   "execution_count": 3,
   "id": "60c2429c",
   "metadata": {},
   "outputs": [],
   "source": [
    "chain = OpenAIFunctionsChain(llm=ChatOpenAI(temperature=0, model=\"gpt-3.5-turbo-0613\"), prompt=prompt)"
   ]
  },
  {
   "cell_type": "code",
   "execution_count": 4,
   "id": "ba748872",
   "metadata": {},
   "outputs": [
    {
     "data": {
      "text/plain": [
       "{'subject': 'dogs',\n",
       " '__tools__': [{'name': 'get_current_weather',\n",
       "   'description': 'Get the current weather in a given location',\n",
       "   'parameters': {'type': 'object',\n",
       "    'properties': {'location': {'type': 'string',\n",
       "      'description': 'The city and state, e.g. San Francisco, CA'},\n",
       "     'unit': {'type': 'string', 'enum': ['celsius', 'fahrenheit']}},\n",
       "    'required': ['location']}}],\n",
       " 'output': AIMessage(content=\"Sure, here's a dog joke for you:\\n\\nWhy don't dogs make good dancers?\\n\\nBecause they have two left feet!\", additional_kwargs={}, example=False)}"
      ]
     },
     "execution_count": 4,
     "metadata": {},
     "output_type": "execute_result"
    }
   ],
   "source": [
    "chain({\"subject\": \"dogs\", \"__tools__\": [\n",
    "    {\n",
    "      \"name\": \"get_current_weather\",\n",
    "      \"description\": \"Get the current weather in a given location\",\n",
    "      \"parameters\": {\n",
    "        \"type\": \"object\",\n",
    "        \"properties\": {\n",
    "          \"location\": {\n",
    "            \"type\": \"string\",\n",
    "            \"description\": \"The city and state, e.g. San Francisco, CA\"\n",
    "          },\n",
    "          \"unit\": {\n",
    "            \"type\": \"string\",\n",
    "            \"enum\": [\"celsius\", \"fahrenheit\"]\n",
    "          }\n",
    "        },\n",
    "        \"required\": [\"location\"]\n",
    "      }\n",
    "    }\n",
    "  ]})"
   ]
  },
  {
   "cell_type": "code",
   "execution_count": null,
   "id": "a5f30ebc",
   "metadata": {},
   "outputs": [],
   "source": []
  }
 ],
 "metadata": {
  "kernelspec": {
   "display_name": "Python 3 (ipykernel)",
   "language": "python",
   "name": "python3"
  },
  "language_info": {
   "codemirror_mode": {
    "name": "ipython",
    "version": 3
   },
   "file_extension": ".py",
   "mimetype": "text/x-python",
   "name": "python",
   "nbconvert_exporter": "python",
   "pygments_lexer": "ipython3",
   "version": "3.9.1"
  }
 },
 "nbformat": 4,
 "nbformat_minor": 5
}
