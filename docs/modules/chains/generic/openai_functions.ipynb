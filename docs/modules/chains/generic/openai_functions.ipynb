{
 "cells": [
  {
   "cell_type": "code",
   "execution_count": 1,
   "id": "e2459cee",
   "metadata": {},
   "outputs": [],
   "source": [
    "%load_ext autoreload\n",
    "%autoreload 2"
   ]
  },
  {
   "cell_type": "code",
   "execution_count": 2,
   "id": "76ee428b",
   "metadata": {},
   "outputs": [],
   "source": [
    "from langchain.chat_models import ChatOpenAI\n",
    "from langchain.chains.openai_functions import OpenAIFunctionsChain\n",
    "from langchain.prompts import ChatPromptTemplate"
   ]
  },
  {
   "cell_type": "code",
   "execution_count": 179,
   "id": "f755473e",
   "metadata": {},
   "outputs": [],
   "source": [
    "llm = ChatOpenAI(temperature=0, \n",
    "                   model=\"gpt-3.5-turbo-0613\")"
   ]
  },
  {
   "cell_type": "code",
   "execution_count": 218,
   "id": "d7457a1b",
   "metadata": {},
   "outputs": [],
   "source": [
    "def create_extraction_chain(schema, llm, prompt):\n",
    "    chain = OpenAIFunctionsChain(llm=llm, prompt=prompt, entity_schema=schema, tagging=False)\n",
    "    return chain\n",
    "\n",
    "def create_tagging_chain(schema, llm, prompt):\n",
    "    chain = OpenAIFunctionsChain(llm=llm, prompt=prompt, entity_schema=schema, tagging=True)\n",
    "    return chain"
   ]
  },
  {
   "cell_type": "code",
   "execution_count": 219,
   "id": "995e9822",
   "metadata": {},
   "outputs": [],
   "source": [
    "prompt = ChatPromptTemplate.from_template(\"\"\"\n",
    "                                            Extract and save the relevant entities mentioned in the following passage together with their properties.\n",
    "                                            \n",
    "                                            Passage:\n",
    "                                            {input}\n",
    "                                          \"\"\")"
   ]
  },
  {
   "cell_type": "code",
   "execution_count": 225,
   "id": "6473bb94",
   "metadata": {},
   "outputs": [],
   "source": [
    "entity_schema = {\n",
    "      \"properties\": {\n",
    "          \"person-name\": \"string\", \n",
    "          \"person-height\": \"integer\",\n",
    "          \"person-hair_color\": \"string\",\n",
    "          \"dog-name\": \"string\",\n",
    "          \"dog-breed\": \"string\"\n",
    "              },\n",
    "    \"required\" : []\n",
    "    }"
   ]
  },
  {
   "cell_type": "code",
   "execution_count": 226,
   "id": "46625e96",
   "metadata": {},
   "outputs": [],
   "source": [
    "inp = \"\"\"\n",
    "Alex is 5 feet long. Claudia is 4 feet than Alex and jumps higher than him. Claudia is a brunette and Alex is blonde.\n",
    "Alex's dog Frosty is a labrador and likes to play hide and seek.\n",
    "        \"\"\""
   ]
  },
  {
   "cell_type": "code",
   "execution_count": 227,
   "id": "7cdbd40a",
   "metadata": {},
   "outputs": [
    {
     "data": {
      "text/plain": [
       "{'input': \"\\nAlex is 5 feet long. Claudia is 4 feet than Alex and jumps higher than him. Claudia is a brunette and Alex is blonde.\\nAlex's dog Frosty is a labrador and likes to play hide and seek.\\n        \",\n",
       " 'output': AIMessage(content='', additional_kwargs={'function_call': {'name': 'entity_tagging', 'arguments': '{\\n  \"person-name\": [\"Alex\", \"Claudia\"],\\n  \"person-height\": [\"5 feet\", \"4 feet\"],\\n  \"person-hair_color\": [\"blonde\", \"brunette\"],\\n  \"dog-name\": [\"Frosty\"],\\n  \"dog-breed\": [\"labrador\"]\\n}'}}, example=False)}"
      ]
     },
     "execution_count": 227,
     "metadata": {},
     "output_type": "execute_result"
    }
   ],
   "source": [
    "chain = create_tagging_chain(entity_schema, llm, prompt)\n",
    "\n",
    "chain({'input':inp})"
   ]
  },
  {
   "cell_type": "code",
   "execution_count": 217,
   "id": "8c96bbdb",
   "metadata": {},
   "outputs": [],
   "source": [
    "prompt = ChatPromptTemplate.from_template(\"\"\"\n",
    "                                            Extract the desired information from the following passage.\n",
    "                                            \n",
    "                                            Passage:\n",
    "                                            {input}\n",
    "                                          \"\"\")"
   ]
  },
  {
   "cell_type": "code",
   "execution_count": 211,
   "id": "2f9044fe",
   "metadata": {},
   "outputs": [],
   "source": [
    "entity_schema = {\n",
    "      \"properties\": {\n",
    "          \"sentiment\": \"string\", \n",
    "          \"tone\": \"string\",\n",
    "          \"language\": \"string\",\n",
    "              },\n",
    "    \"required\": ['tone']\n",
    "    }"
   ]
  },
  {
   "cell_type": "code",
   "execution_count": 213,
   "id": "79c2c09b",
   "metadata": {},
   "outputs": [],
   "source": [
    "inp = \"\"\"\n",
    "Estoy increiblemente contento de haberte conocido! Creo que seremos muy buenos amigos! \n",
    "        \"\"\""
   ]
  },
  {
   "cell_type": "code",
   "execution_count": 214,
   "id": "5625335a",
   "metadata": {},
   "outputs": [
    {
     "data": {
      "text/plain": [
       "{'input': '\\nEstoy increiblemente contento de haberte conocido! Creo que seremos muy buenos amigos! \\n        ',\n",
       " 'output': AIMessage(content='', additional_kwargs={'function_call': {'name': 'information_extraction', 'arguments': '{\\n  \"tone\": \"positive\",\\n  \"language\": \"Spanish\"\\n}'}}, example=False)}"
      ]
     },
     "execution_count": 214,
     "metadata": {},
     "output_type": "execute_result"
    }
   ],
   "source": [
    "chain = create_extraction_chain(entity_schema, llm, prompt)\n",
    "\n",
    "chain({'input':inp})"
   ]
  }
 ],
 "metadata": {
  "kernelspec": {
   "display_name": "general",
   "language": "python",
   "name": "general"
  },
  "language_info": {
   "codemirror_mode": {
    "name": "ipython",
    "version": 3
   },
   "file_extension": ".py",
   "mimetype": "text/x-python",
   "name": "python",
   "nbconvert_exporter": "python",
   "pygments_lexer": "ipython3",
   "version": "3.10.6"
  }
 },
 "nbformat": 4,
 "nbformat_minor": 5
}
