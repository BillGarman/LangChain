{
 "cells": [
  {
   "cell_type": "code",
   "execution_count": 1,
   "id": "a7888f4a",
   "metadata": {},
   "outputs": [],
   "source": [
    "import re\n",
    "\n",
    "import numpy as np\n",
    "\n",
    "from langchain.schema import BaseRetriever\n",
    "from langchain.utilities import GoogleSerperAPIWrapper, DuckDuckGoSearchAPIWrapper\n",
    "from langchain.retrievers import ContextualCompressionRetriever\n",
    "from langchain.retrievers.document_compressors import EmbeddingsFilter, DocumentCompressorPipeline\n",
    "from langchain.document_transformers import EmbeddingsRedundantFilter\n",
    "from langchain.text_splitter import CharacterTextSplitter\n",
    "from langchain.embeddings import OpenAIEmbeddings\n",
    "from langchain.llms import OpenAI\n",
    "from langchain.schema import Document"
   ]
  },
  {
   "cell_type": "code",
   "execution_count": 2,
   "id": "59c7d875",
   "metadata": {},
   "outputs": [],
   "source": [
    "class SearchRetriever(BaseRetriever):\n",
    "    def __init__(self, search):\n",
    "        self.search = search\n",
    "    \n",
    "    def get_relevant_documents(self, query: str):\n",
    "        snippets = self.search.get_snippets(query)\n",
    "        return [Document(page_content=s) for s in snippets]\n",
    "    \n",
    "    async def aget_relevant_documents(self, query: str):\n",
    "        raise NotImplemented\n",
    "        \n",
    "        \n",
    "base_retriever = SearchRetriever(DuckDuckGoSearchAPIWrapper())\n",
    "splitter = CharacterTextSplitter(chunk_size=500, chunk_overlap=0, separator=\". \")\n",
    "redundant_filter = EmbeddingsRedundantFilter(embeddings=OpenAIEmbeddings())\n",
    "relevant_filter = EmbeddingsFilter(embeddings=OpenAIEmbeddings(), similarity_threshold=0.7)\n",
    "pipeline_compressor = DocumentCompressorPipeline(\n",
    "    transformers=[splitter, redundant_filter, relevant_filter]\n",
    ")\n",
    "retriever = ContextualCompressionRetriever(\n",
    "    base_retriever=base_retriever, base_compressor=pipeline_compressor\n",
    ")"
   ]
  },
  {
   "cell_type": "code",
   "execution_count": 3,
   "id": "4b1bfa8c",
   "metadata": {},
   "outputs": [
    {
     "name": "stdout",
     "output_type": "stream",
     "text": [
      "\n",
      "\n",
      "\u001b[1m> Entering new FlareChain chain...\u001b[0m\n",
      "Prompt after formatting:\n",
      "\u001b[32;1m\u001b[1;3mRespond to the user message using any relevant context. Once you're done responding return FINISHED.\n",
      "\n",
      "USER INPUT: Given me a very detailed explanation of the California Budget Act of 2022\n",
      "CONTEXT: \n",
      "RESPONSE: \u001b[0m\n",
      "Prompt after formatting:\n",
      "\u001b[32;1m\u001b[1;3mRespond to the user message using any relevant context. Once you're done responding return FINISHED.\n",
      "\n",
      "USER INPUT: Given me a very detailed explanation of the California Budget Act of 2022\n",
      "CONTEXT: \n",
      "RESPONSE: The Budget Act of 2022 includes a $9.5 billion General Fund for a one‑time tax refund payment, the Better for Families Refund, also known as the Middle Class Tax Refund. It also includes $300 million ongoing General Fund to improve public health infrastructure, with about $200 million earmarked for\u001b[0m\n",
      "Prompt after formatting:\n",
      "\u001b[32;1m\u001b[1;3mRespond to the user message using any relevant context. Once you're done responding return FINISHED.\n",
      "\n",
      "USER INPUT: Given me a very detailed explanation of the California Budget Act of 2022\n",
      "CONTEXT: \n",
      "RESPONSE: The Budget Act of 2022 includes a $9.5 billion General Fund for a one‑time tax refund payment, the Better for Families Refund, also known as the Middle Class Tax Refund. It also includes $300 million ongoing General Fund to improve public health infrastructure, with about $200 million earmarked forcommunity development projects, technical assistance, and a variety of programs and activities to fund air and pollution monitoring and low- and zero-emission technologies. In addition, the bill will extend critical rural Medicare programs, telehealth flexibilities and the Acute Hospital Care at Home program, and prevent the Statutory Pay-As\u001b[0m\n",
      "\n",
      "\u001b[1m> Finished chain.\u001b[0m\n"
     ]
    },
    {
     "data": {
      "text/plain": [
       "'The Budget Act of 2022 includes a $9.5 billion General Fund for a one‑time tax refund payment, the Better for Families Refund, also known as the Middle Class Tax Refund. It also includes $300 million ongoing General Fund to improve public health infrastructure, with about $200 million earmarked forcommunity development projects, technical assistance, and a variety of programs and activities to fund air and pollution monitoring and low- and zero-emission technologies. In addition, the bill will extend critical rural Medicare programs, telehealth flexibilities and the Acute Hospital Care at Home program, and prevent the Statutory Pay-As-You-Go (PAYGO) deficits from 2020-21 and 2021-22 from being carried forward into 2022-23. .'"
      ]
     },
     "execution_count": 3,
     "metadata": {},
     "output_type": "execute_result"
    }
   ],
   "source": [
    "from langchain.chains.flare.base import FlareChain\n",
    "\n",
    "flare = FlareChain.from_llm(OpenAI(), retriever=retriever, verbose=True)\n",
    "flare.run(\"Given me a very detailed explanation of the California Budget Act of 2022\")"
   ]
  },
  {
   "cell_type": "code",
   "execution_count": 4,
   "id": "7bed8944",
   "metadata": {},
   "outputs": [
    {
     "data": {
      "text/plain": [
       "'\\n\\nThe California Budget Act of 2022 is a piece of legislation passed by the state of California in order to establish a budget for the fiscal year of 2022. This act sets the framework for how the state will allocate funds and resources in order to ensure that its citizens have access to essential services and programs.\\n\\nThe act includes several key components, the first of which is a total spending limit. This spending limit is determined by the state legislature and is implemented to ensure that the state is not overspending in any given fiscal year. Once the spending limit is set, the state legislature then allocates funds to various departments and programs.\\n\\nThe act also includes provisions that outline how much money each department and program receives. This allows the state to ensure that each department and program is receiving the necessary funds to operate effectively. Additionally, the act sets parameters for any new spending initiatives, such as tax increases or cuts, that must be approved by the legislature before being implemented.\\n\\nFinally, the act outlines a comprehensive review process for the state budget. This review process is designed to ensure that the state is spending its funds appropriately and that any changes that are made are in the best interests of the citizens of California.\\n\\nOverall, the California Budget Act of 2022 is'"
      ]
     },
     "execution_count": 4,
     "metadata": {},
     "output_type": "execute_result"
    }
   ],
   "source": [
    "OpenAI()(\"Given me a very detailed explanation of the California Budget Act of 2022\")"
   ]
  }
 ],
 "metadata": {
  "kernelspec": {
   "display_name": "venv",
   "language": "python",
   "name": "venv"
  },
  "language_info": {
   "codemirror_mode": {
    "name": "ipython",
    "version": 3
   },
   "file_extension": ".py",
   "mimetype": "text/x-python",
   "name": "python",
   "nbconvert_exporter": "python",
   "pygments_lexer": "ipython3",
   "version": "3.11.3"
  }
 },
 "nbformat": 4,
 "nbformat_minor": 5
}
