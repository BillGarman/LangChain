{
 "cells": [
  {
   "cell_type": "code",
   "execution_count": 1,
   "metadata": {},
   "outputs": [],
   "source": [
    "import os\n",
    "from langchain.chat_models import AzureChatOpenAI\n",
    "from langchain.chains import SelfReflectionChain"
   ]
  },
  {
   "cell_type": "code",
   "execution_count": 2,
   "metadata": {},
   "outputs": [],
   "source": [
    "llm = AzureChatOpenAI(\n",
    "    deployment_name=\"GPT35Turbo\",\n",
    "    openai_api_base=os.getenv(\"OPENAI_API_BASE\"),\n",
    "    openai_api_version=\"2023-03-15-preview\",\n",
    "    openai_api_key=os.getenv(\"OPENAI_API_KEY\"),\n",
    "    openai_api_type=\"azure\",\n",
    "    temperature=0,\n",
    ")"
   ]
  },
  {
   "cell_type": "code",
   "execution_count": 5,
   "metadata": {},
   "outputs": [],
   "source": [
    "reflect = SelfReflectionChain(llm=llm, return_intermediate_steps=True)"
   ]
  },
  {
   "cell_type": "code",
   "execution_count": 6,
   "metadata": {},
   "outputs": [
    {
     "data": {
      "text/plain": [
       "{'question': 'Solve for x in 2x+2=13.5',\n",
       " 'text': 'To solve for x in 2x+2=13.5, we need to isolate x on one side of the equation. We can do this by subtracting 2 from both sides:\\n\\n2x + 2 - 2 = 13.5 - 2\\n\\nSimplifying the left side of the equation, we get:\\n\\n2x = 11.5\\n\\nFinally, we can solve for x by dividing both sides by 2:\\n\\nx = 11.5/2\\n\\nSimplifying the right side of the equation, we get:\\n\\nx = 5.75\\n\\nTherefore, the solution to 2x+2=13.5 is x = 5.75.',\n",
       " 'intermediate_steps': {'agent_hypothetical_response': 'x = 5.25',\n",
       "  'agent_reflection_response': 'The response provided is correct, but it would be helpful to show the steps taken to arrive at the solution. This would make it easier for the user to understand the process and apply it to similar problems in the future. \\n\\nA revised response could be: \\n\\nTo solve for x in 2x+2=13.5, we first need to isolate x on one side of the equation. We can do this by subtracting 2 from both sides: \\n\\n2x + 2 - 2 = 13.5 - 2 \\n\\n2x = 11.5 \\n\\nFinally, we can solve for x by dividing both sides by 2: \\n\\nx = 5.75 \\n\\nTherefore, the solution to 2x+2=13.5 is x = 5.75.'}}"
      ]
     },
     "execution_count": 6,
     "metadata": {},
     "output_type": "execute_result"
    }
   ],
   "source": [
    "reflect({\"question\": \"Solve for x in 2x+2=13.5\"})"
   ]
  }
 ],
 "metadata": {
  "kernelspec": {
   "display_name": "langchain",
   "language": "python",
   "name": "python3"
  },
  "language_info": {
   "codemirror_mode": {
    "name": "ipython",
    "version": 3
   },
   "file_extension": ".py",
   "mimetype": "text/x-python",
   "name": "python",
   "nbconvert_exporter": "python",
   "pygments_lexer": "ipython3",
   "version": "3.9.16"
  },
  "orig_nbformat": 4
 },
 "nbformat": 4,
 "nbformat_minor": 2
}
