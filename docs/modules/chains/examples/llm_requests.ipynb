{
 "cells": [
  {
   "cell_type": "markdown",
   "id": "dd7ec7af",
   "metadata": {},
   "source": [
    "# LLMRequestsChain\n",
    "\n",
    "Using the request library to get HTML results from a URL and then an LLM to parse results"
   ]
  },
  {
   "cell_type": "code",
   "execution_count": 1,
   "id": "dd8eae75",
   "metadata": {},
   "outputs": [],
   "source": [
    "from langchain.llms import OpenAI\n",
    "from langchain.chains import LLMRequestsChain, LLMChain"
   ]
  },
  {
   "cell_type": "code",
   "execution_count": 2,
   "id": "65bf324e",
   "metadata": {},
   "outputs": [],
   "source": [
    "from langchain.prompts import PromptTemplate\n",
    "\n",
    "template = \"\"\"Between >>> and <<< is a result summarizing a webpage.\n",
    "Extract the answer to the question '{query}' or say \"not found\" if the information is not contained.\n",
    "Use the format\n",
    "Extracted:<answer or \"not found\">\n",
    ">>> {requests_result} <<<\n",
    "Extracted:\"\"\"\n",
    "\n",
    "PROMPT = PromptTemplate(\n",
    "    input_variables=[\"query\", \"requests_result\"],\n",
    "    template=template,\n",
    ")"
   ]
  },
  {
   "cell_type": "code",
   "execution_count": 4,
   "id": "f36ae0d8",
   "metadata": {},
   "outputs": [],
   "source": [
    "chain = LLMRequestsChain(llm_chain = LLMChain(llm=OpenAI(temperature=0), prompt=PROMPT), recursively_summarize=True)"
   ]
  },
  {
   "cell_type": "code",
   "execution_count": 5,
   "id": "b5d22d9d",
   "metadata": {},
   "outputs": [],
   "source": [
    "question = \"Where did Fulvia die?\"\n",
    "inputs = {\n",
    "    \"query\": question,\n",
    "    \"url\": \"http://shakespeare.mit.edu/cleopatra/cleopatra.1.2.html\"\n",
    "}"
   ]
  },
  {
   "cell_type": "code",
   "execution_count": 6,
   "id": "2ea81168",
   "metadata": {},
   "outputs": [
    {
     "data": {
      "text/plain": [
       "{'query': 'Where did Fulvia die?',\n",
       " 'url': 'http://shakespeare.mit.edu/cleopatra/cleopatra.1.2.html',\n",
       " 'output': ' Sicyon'}"
      ]
     },
     "execution_count": 6,
     "metadata": {},
     "output_type": "execute_result"
    }
   ],
   "source": [
    "chain(inputs)"
   ]
  },
  {
   "cell_type": "code",
   "execution_count": 8,
   "id": "943eb668",
   "metadata": {},
   "outputs": [
    {
     "data": {
      "text/plain": [
       "{'query': 'Where did Fulvia die?',\n",
       " 'url': 'http://shakespeare.mit.edu/cleopatra/cleopatra.1.2.html',\n",
       " 'output': ' Not found'}"
      ]
     },
     "execution_count": 8,
     "metadata": {},
     "output_type": "execute_result"
    }
   ],
   "source": [
    "chain = LLMRequestsChain(llm_chain = LLMChain(llm=OpenAI(temperature=0), prompt=PROMPT), recursively_summarize=False)\n",
    "chain(inputs)"
   ]
  },
  {
   "cell_type": "code",
   "execution_count": null,
   "id": "db8f2b6d",
   "metadata": {},
   "outputs": [],
   "source": []
  }
 ],
 "metadata": {
  "kernelspec": {
   "display_name": "myname",
   "language": "python",
   "name": "myname"
  },
  "language_info": {
   "codemirror_mode": {
    "name": "ipython",
    "version": 3
   },
   "file_extension": ".py",
   "mimetype": "text/x-python",
   "name": "python",
   "nbconvert_exporter": "python",
   "pygments_lexer": "ipython3",
   "version": "3.8.10"
  }
 },
 "nbformat": 4,
 "nbformat_minor": 5
}
