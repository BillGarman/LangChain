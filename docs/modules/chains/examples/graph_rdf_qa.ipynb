{
 "cells": [
  {
   "attachments": {},
   "cell_type": "markdown",
   "id": "c94240f5",
   "metadata": {},
   "source": [
    "# GraphRDFQAChain\n",
    "\n",
    "This notebook shows how to use LLMs to provide a natural language interface to an RDF graph database you can query with the SPARQL query language."
   ]
  },
  {
   "attachments": {},
   "cell_type": "markdown",
   "id": "dbc0ee68",
   "metadata": {},
   "source": [
    "You may start with an external RDF store, a public SPARQL http end point or a serialized RDF file. If neither is provided, an in-memory RDF graph will be created for you. In theory, you may use any RDF stores that support the [W3C SPARQL 1.1 standard](https://www.w3.org/TR/sparql11-query/). An (incomplete) list of RDF store products can be found on this Wikipedia page: https://www.w3.org/wiki/LargeTripleStores\n"
   ]
  },
  {
   "cell_type": "code",
   "execution_count": 33,
   "id": "62812aad",
   "metadata": {},
   "outputs": [],
   "source": [
    "from langchain.chat_models import ChatOpenAI\n",
    "from langchain.chains import GraphRDFQAChain\n",
    "from langchain.graphs import RDFGraph"
   ]
  },
  {
   "cell_type": "code",
   "execution_count": 34,
   "id": "0928915d",
   "metadata": {},
   "outputs": [],
   "source": [
    "graph = RDFGraph()\n",
    "# graph = RDFGraph('path/to/graph.ttl')\n",
    "# graph = RDFGraph('http://localhost:9999/blazegraph/namespace/kb/sparql') # Blazegraph"
   ]
  },
  {
   "attachments": {},
   "cell_type": "markdown",
   "id": "995ea9b9",
   "metadata": {},
   "source": [
    "## Seeding the database\n",
    "\n",
    "Assuming your database is empty, you can populate it using SPARQL query language. The following SPARQL UPDATE statement is idempotent, which means the database information will be the same if you run it one or multiple times."
   ]
  },
  {
   "cell_type": "code",
   "execution_count": 35,
   "id": "fedd26b9",
   "metadata": {},
   "outputs": [],
   "source": [
    "graph.update(\"\"\"\n",
    "PREFIX : <http://example.org/>\n",
    "PREFIX schema: <http://schema.org/>\n",
    "PREFIX rdfs: <http://www.w3.org/2000/01/rdf-schema#>\n",
    "PREFIX xsd: <http://www.w3.org/2001/XMLSchema#>\n",
    "\n",
    "INSERT DATA {\n",
    "  schema:Person a rdfs:Class ;\n",
    "      rdfs:label \"Person\" .\n",
    "      \n",
    "  schema:Movie a rdfs:Class ;\n",
    "      rdfs:label \"Movie\" .\n",
    "\n",
    "  :TomCruise a schema:Person ;\n",
    "      schema:name \"Tom Cruise\" .\n",
    "  :ValKilmer a schema:Person ;\n",
    "      schema:name \"Val Kilmer\" .\n",
    "  :KellyMcGillis a schema:Person ;\n",
    "      schema:name \"Kelly McGillis\" .\n",
    "  :JenniferConnelly a schema:Person ;\n",
    "      schema:name \"Jennifer Connelly\" .\n",
    "\n",
    "  :TopGun a schema:Movie ;\n",
    "      schema:name \"Top Gun\" ;\n",
    "      schema:datePublished \"1986-05-16\"^^xsd:date ;\n",
    "      schema:actor :TomCruise, :ValKilmer, :KellyMcGillis .\n",
    "  :TopGunMaverick a schema:Movie ;\n",
    "      schema:name \"Top Gun: Maverick\" ;\n",
    "      schema:datePublished \"2022-05-27\"^^xsd:date ;\n",
    "      schema:actor :TomCruise, :ValKilmer, :JenniferConnelly .\n",
    "}\n",
    "\"\"\")"
   ]
  },
  {
   "cell_type": "markdown",
   "id": "58c1a8ea",
   "metadata": {},
   "source": [
    "## Refresh graph schema information\n",
    "If the schema of database changes, you can refresh the schema information needed to generate Cypher statements."
   ]
  },
  {
   "cell_type": "code",
   "execution_count": 36,
   "id": "4e3de44f",
   "metadata": {},
   "outputs": [],
   "source": [
    "graph.refresh_schema()"
   ]
  },
  {
   "cell_type": "code",
   "execution_count": 37,
   "id": "1fe76ccd",
   "metadata": {},
   "outputs": [
    {
     "name": "stdout",
     "output_type": "stream",
     "text": [
      "@prefix rdf: <http://www.w3.org/1999/02/22-rdf-syntax-ns#> .\n",
      "@prefix rdfs: <http://www.w3.org/2000/01/rdf-schema#> .\n",
      "@prefix xsd: <http://www.w3.org/2001/XMLSchema#> .\n",
      "\n",
      "<http://schema.org/Movie> a rdfs:Class .\n",
      "\n",
      "<http://schema.org/Person> a rdfs:Class .\n",
      "\n",
      "rdfs:Class a rdfs:Class .\n",
      "\n",
      "<http://schema.org/actor> a rdf:Property ;\n",
      "    rdfs:domain <http://schema.org/Movie> ;\n",
      "    rdfs:range <http://schema.org/Person> .\n",
      "\n",
      "<http://schema.org/datePublished> a rdf:Property ;\n",
      "    rdfs:domain <http://schema.org/Movie> ;\n",
      "    rdfs:range xsd:date .\n",
      "\n",
      "<http://schema.org/name> a rdf:Property ;\n",
      "    rdfs:domain <http://schema.org/Movie>,\n",
      "        <http://schema.org/Person> ;\n",
      "    rdfs:range xsd:string .\n",
      "\n",
      "rdf:type a rdf:Property ;\n",
      "    rdfs:domain <http://schema.org/Movie>,\n",
      "        <http://schema.org/Person> ;\n",
      "    rdfs:range rdfs:Class .\n",
      "\n",
      "rdfs:label a rdf:Property ;\n",
      "    rdfs:domain rdfs:Class ;\n",
      "    rdfs:range xsd:string .\n",
      "\n",
      "\n"
     ]
    }
   ],
   "source": [
    "print(graph.get_schema)"
   ]
  },
  {
   "attachments": {},
   "cell_type": "markdown",
   "id": "68a3c677",
   "metadata": {},
   "source": [
    "## Querying the graph\n",
    "\n",
    "We can now use the graph RDF QA chain to ask question of the graph"
   ]
  },
  {
   "cell_type": "code",
   "execution_count": 38,
   "id": "7476ce98",
   "metadata": {},
   "outputs": [],
   "source": [
    "chain = GraphRDFQAChain.from_llm(\n",
    "    ChatOpenAI(temperature=0), graph=graph, verbose=True\n",
    ")"
   ]
  },
  {
   "cell_type": "code",
   "execution_count": 39,
   "id": "ef8ee27b",
   "metadata": {},
   "outputs": [
    {
     "name": "stdout",
     "output_type": "stream",
     "text": [
      "\n",
      "\n",
      "\u001b[1m> Entering new GraphRDFQAChain chain...\u001b[0m\n",
      "Generated RDF SPARQL:\n",
      "\u001b[32;1m\u001b[1;3mSELECT ?actorName\n",
      "WHERE {\n",
      "  ?movie rdf:type <http://schema.org/Movie> .\n",
      "  ?movie <http://schema.org/name> \"Top Gun\" .\n",
      "  ?movie <http://schema.org/actor> ?actor .\n",
      "  ?actor <http://schema.org/name> ?actorName .\n",
      "}\u001b[0m\n",
      "Full Context:\n",
      "\u001b[32;1m\u001b[1;3m[(rdflib.term.Literal('Kelly McGillis'),), (rdflib.term.Literal('Tom Cruise'),), (rdflib.term.Literal('Val Kilmer'),)]\u001b[0m\n",
      "\n",
      "\u001b[1m> Finished chain.\u001b[0m\n"
     ]
    },
    {
     "data": {
      "text/plain": [
       "'Kelly McGillis, Tom Cruise, and Val Kilmer played in Top Gun.'"
      ]
     },
     "execution_count": 39,
     "metadata": {},
     "output_type": "execute_result"
    }
   ],
   "source": [
    "chain.run(\"Who played in Top Gun?\")"
   ]
  },
  {
   "cell_type": "code",
   "execution_count": 40,
   "id": "1bda25e0",
   "metadata": {},
   "outputs": [
    {
     "name": "stdout",
     "output_type": "stream",
     "text": [
      "\n",
      "\n",
      "\u001b[1m> Entering new GraphRDFQAChain chain...\u001b[0m\n",
      "Generated RDF SPARQL:\n",
      "\u001b[32;1m\u001b[1;3mSELECT ?actorName WHERE {\n",
      "  ?movie1 rdf:type <http://schema.org/Movie> ;\n",
      "          <http://schema.org/name> \"Top Gun\" .\n",
      "  ?movie2 rdf:type <http://schema.org/Movie> ;\n",
      "          <http://schema.org/name> \"Top Gun: Maverick\" .\n",
      "  ?movie1 <http://schema.org/actor> ?actor .\n",
      "  ?movie2 <http://schema.org/actor> ?actor .\n",
      "  ?actor <http://schema.org/name> ?actorName .\n",
      "}\u001b[0m\n",
      "Full Context:\n",
      "\u001b[32;1m\u001b[1;3m[(rdflib.term.Literal('Tom Cruise'),), (rdflib.term.Literal('Val Kilmer'),)]\u001b[0m\n",
      "\n",
      "\u001b[1m> Finished chain.\u001b[0m\n"
     ]
    },
    {
     "data": {
      "text/plain": [
       "'Tom Cruise and Val Kilmer played in both Top Gun and Top Gun: Maverick.'"
      ]
     },
     "execution_count": 40,
     "metadata": {},
     "output_type": "execute_result"
    }
   ],
   "source": [
    "chain.run(\"Who played in Top Gun and Top Gun: Maverick?\")"
   ]
  },
  {
   "cell_type": "code",
   "execution_count": 41,
   "id": "3f77940f",
   "metadata": {},
   "outputs": [
    {
     "name": "stdout",
     "output_type": "stream",
     "text": [
      "\n",
      "\n",
      "\u001b[1m> Entering new GraphRDFQAChain chain...\u001b[0m\n",
      "Generated RDF SPARQL:\n",
      "\u001b[32;1m\u001b[1;3mPREFIX rdf: <http://www.w3.org/1999/02/22-rdf-syntax-ns#>\n",
      "PREFIX schema: <http://schema.org/>\n",
      "SELECT ?actorName\n",
      "WHERE {\n",
      "  ?topGun schema:name \"Top Gun\" .\n",
      "  ?topGun schema:actor ?actor .\n",
      "  ?actor schema:name ?actorName .\n",
      "  FILTER NOT EXISTS {\n",
      "    ?topGunMaverick schema:name \"Top Gun: Maverick\" .\n",
      "    ?topGunMaverick schema:actor ?actor .\n",
      "  }\n",
      "}\u001b[0m\n",
      "Full Context:\n",
      "\u001b[32;1m\u001b[1;3m[(rdflib.term.Literal('Kelly McGillis'),)]\u001b[0m\n",
      "\n",
      "\u001b[1m> Finished chain.\u001b[0m\n"
     ]
    },
    {
     "data": {
      "text/plain": [
       "'Kelly McGillis played in Top Gun but not Top Gun: Maverick.'"
      ]
     },
     "execution_count": 41,
     "metadata": {},
     "output_type": "execute_result"
    }
   ],
   "source": [
    "chain.run(\"Who played in Top Gun but not Top Gun: Maverick?\")"
   ]
  },
  {
   "cell_type": "markdown",
   "id": "2d28c4df",
   "metadata": {},
   "source": [
    "## Limit the number of results\n",
    "You can limit the number of results from the Cypher QA Chain using the `top_k` parameter.\n",
    "The default is 10."
   ]
  },
  {
   "cell_type": "code",
   "execution_count": 42,
   "id": "df230946",
   "metadata": {},
   "outputs": [],
   "source": [
    "chain = GraphRDFQAChain.from_llm(\n",
    "    ChatOpenAI(temperature=0), graph=graph, verbose=True, top_k=2\n",
    ")"
   ]
  },
  {
   "cell_type": "code",
   "execution_count": 43,
   "id": "3f1600ee",
   "metadata": {},
   "outputs": [
    {
     "name": "stdout",
     "output_type": "stream",
     "text": [
      "\n",
      "\n",
      "\u001b[1m> Entering new GraphRDFQAChain chain...\u001b[0m\n",
      "Generated RDF SPARQL:\n",
      "\u001b[32;1m\u001b[1;3mSELECT ?actorName\n",
      "WHERE {\n",
      "  ?movie rdf:type <http://schema.org/Movie> .\n",
      "  ?movie <http://schema.org/name> \"Top Gun\" .\n",
      "  ?movie <http://schema.org/actor> ?actor .\n",
      "  ?actor <http://schema.org/name> ?actorName .\n",
      "}\u001b[0m\n",
      "Full Context:\n",
      "\u001b[32;1m\u001b[1;3m[(rdflib.term.Literal('Kelly McGillis'),), (rdflib.term.Literal('Tom Cruise'),)]\u001b[0m\n",
      "\n",
      "\u001b[1m> Finished chain.\u001b[0m\n"
     ]
    },
    {
     "data": {
      "text/plain": [
       "'Kelly McGillis and Tom Cruise played in Top Gun.'"
      ]
     },
     "execution_count": 43,
     "metadata": {},
     "output_type": "execute_result"
    }
   ],
   "source": [
    "chain.run(\"Who played in Top Gun?\")"
   ]
  },
  {
   "cell_type": "markdown",
   "id": "88c16206",
   "metadata": {},
   "source": [
    "## Return intermediate results\n",
    "You can return intermediate steps from the Cypher QA Chain using the `return_intermediate_steps` parameter"
   ]
  },
  {
   "cell_type": "code",
   "execution_count": 44,
   "id": "e412f36b",
   "metadata": {},
   "outputs": [],
   "source": [
    "chain = GraphRDFQAChain.from_llm(\n",
    "    ChatOpenAI(temperature=0), graph=graph, verbose=True, return_intermediate_steps=True\n",
    ")"
   ]
  },
  {
   "cell_type": "code",
   "execution_count": 45,
   "id": "4f4699dc",
   "metadata": {},
   "outputs": [
    {
     "name": "stdout",
     "output_type": "stream",
     "text": [
      "\n",
      "\n",
      "\u001b[1m> Entering new GraphRDFQAChain chain...\u001b[0m\n",
      "Generated RDF SPARQL:\n",
      "\u001b[32;1m\u001b[1;3mSELECT ?actorName\n",
      "WHERE {\n",
      "  ?movie rdf:type <http://schema.org/Movie> .\n",
      "  ?movie <http://schema.org/name> \"Top Gun\" .\n",
      "  ?movie <http://schema.org/actor> ?actor .\n",
      "  ?actor <http://schema.org/name> ?actorName .\n",
      "}\u001b[0m\n",
      "Full Context:\n",
      "\u001b[32;1m\u001b[1;3m[(rdflib.term.Literal('Kelly McGillis'),), (rdflib.term.Literal('Tom Cruise'),), (rdflib.term.Literal('Val Kilmer'),)]\u001b[0m\n",
      "\n",
      "\u001b[1m> Finished chain.\u001b[0m\n",
      "Intermediate steps: [{'query': 'SELECT ?actorName\\nWHERE {\\n  ?movie rdf:type <http://schema.org/Movie> .\\n  ?movie <http://schema.org/name> \"Top Gun\" .\\n  ?movie <http://schema.org/actor> ?actor .\\n  ?actor <http://schema.org/name> ?actorName .\\n}'}, {'context': [(rdflib.term.Literal('Kelly McGillis'),), (rdflib.term.Literal('Tom Cruise'),), (rdflib.term.Literal('Val Kilmer'),)]}]\n",
      "Final answer: Kelly McGillis, Tom Cruise, and Val Kilmer played in Top Gun.\n"
     ]
    }
   ],
   "source": [
    "result = chain(\"Who played in Top Gun?\")\n",
    "print(f\"Intermediate steps: {result['intermediate_steps']}\")\n",
    "print(f\"Final answer: {result['result']}\")"
   ]
  },
  {
   "cell_type": "markdown",
   "id": "d6e1b054",
   "metadata": {},
   "source": [
    "## Return direct results\n",
    "You can return direct results from the Cypher QA Chain using the `return_direct` parameter"
   ]
  },
  {
   "cell_type": "code",
   "execution_count": 46,
   "id": "2d3acf10",
   "metadata": {},
   "outputs": [],
   "source": [
    "chain = GraphRDFQAChain.from_llm(\n",
    "    ChatOpenAI(temperature=0), graph=graph, verbose=True, return_direct=True\n",
    ")"
   ]
  },
  {
   "cell_type": "code",
   "execution_count": 47,
   "id": "b0a9d143",
   "metadata": {},
   "outputs": [
    {
     "name": "stdout",
     "output_type": "stream",
     "text": [
      "\n",
      "\n",
      "\u001b[1m> Entering new GraphRDFQAChain chain...\u001b[0m\n",
      "Generated RDF SPARQL:\n",
      "\u001b[32;1m\u001b[1;3mSELECT ?actorName\n",
      "WHERE {\n",
      "  ?movie rdf:type <http://schema.org/Movie> .\n",
      "  ?movie <http://schema.org/name> \"Top Gun\" .\n",
      "  ?movie <http://schema.org/actor> ?actor .\n",
      "  ?actor <http://schema.org/name> ?actorName .\n",
      "}\u001b[0m\n",
      "\n",
      "\u001b[1m> Finished chain.\u001b[0m\n"
     ]
    },
    {
     "data": {
      "text/plain": [
       "[(rdflib.term.Literal('Kelly McGillis'),),\n",
       " (rdflib.term.Literal('Tom Cruise'),),\n",
       " (rdflib.term.Literal('Val Kilmer'),)]"
      ]
     },
     "execution_count": 47,
     "metadata": {},
     "output_type": "execute_result"
    }
   ],
   "source": [
    "results = chain.run(\"Who played in Top Gun?\")\n",
    "results"
   ]
  },
  {
   "cell_type": "code",
   "execution_count": 48,
   "id": "74d0a36f",
   "metadata": {},
   "outputs": [
    {
     "data": {
      "text/plain": [
       "'[[\"Kelly McGillis\"], [\"Tom Cruise\"], [\"Val Kilmer\"]]'"
      ]
     },
     "execution_count": 48,
     "metadata": {},
     "output_type": "execute_result"
    }
   ],
   "source": [
    "import json\n",
    "json.dumps(results)"
   ]
  }
 ],
 "metadata": {
  "kernelspec": {
   "display_name": "Python 3 (ipykernel)",
   "language": "python",
   "name": "python3"
  },
  "language_info": {
   "codemirror_mode": {
    "name": "ipython",
    "version": 3
   },
   "file_extension": ".py",
   "mimetype": "text/x-python",
   "name": "python",
   "nbconvert_exporter": "python",
   "pygments_lexer": "ipython3",
   "version": "3.10.6"
  }
 },
 "nbformat": 4,
 "nbformat_minor": 5
}
