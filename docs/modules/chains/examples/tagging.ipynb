{
 "cells": [
  {
   "cell_type": "markdown",
   "id": "a13ea924",
   "metadata": {},
   "source": [
    "# Tagging\n",
    "\n",
    "The tagging chain uses the OpenAI `functions` parameter to specify a schema to tag a document with."
   ]
  },
  {
   "cell_type": "code",
   "execution_count": 1,
   "id": "bafb496a",
   "metadata": {},
   "outputs": [],
   "source": [
    "from langchain.chat_models import ChatOpenAI\n",
    "from langchain.chains import create_tagging_chain\n",
    "from langchain.prompts import ChatPromptTemplate"
   ]
  },
  {
   "cell_type": "code",
   "execution_count": 2,
   "id": "39f3ce3e",
   "metadata": {},
   "outputs": [],
   "source": [
    "llm = ChatOpenAI(temperature=0, \n",
    "                   model=\"gpt-3.5-turbo-0613\")"
   ]
  },
  {
   "cell_type": "code",
   "execution_count": 3,
   "id": "d026e665",
   "metadata": {},
   "outputs": [],
   "source": [
    "schema = {\n",
    "      \"properties\": {\n",
    "          \"sentiment\": \"string\", \n",
    "          \"tone\": \"string\",\n",
    "          \"language\": \"string\",\n",
    "              },\n",
    "    \"required\": ['tone']\n",
    "    }"
   ]
  },
  {
   "cell_type": "code",
   "execution_count": 4,
   "id": "6146ae70",
   "metadata": {},
   "outputs": [],
   "source": [
    "chain = create_tagging_chain(schema, llm)"
   ]
  },
  {
   "cell_type": "code",
   "execution_count": 5,
   "id": "5509b6a6",
   "metadata": {},
   "outputs": [],
   "source": [
    "inp = \"Estoy increiblemente contento de haberte conocido! Creo que seremos muy buenos amigos!\""
   ]
  },
  {
   "cell_type": "code",
   "execution_count": 6,
   "id": "f24db183",
   "metadata": {},
   "outputs": [
    {
     "data": {
      "text/plain": [
       "{'tone': 'positive', 'language': 'Spanish'}"
      ]
     },
     "execution_count": 6,
     "metadata": {},
     "output_type": "execute_result"
    }
   ],
   "source": [
    "chain.run(inp)"
   ]
  }
 ],
 "metadata": {
  "kernelspec": {
   "display_name": "Python 3 (ipykernel)",
   "language": "python",
   "name": "python3"
  },
  "language_info": {
   "codemirror_mode": {
    "name": "ipython",
    "version": 3
   },
   "file_extension": ".py",
   "mimetype": "text/x-python",
   "name": "python",
   "nbconvert_exporter": "python",
   "pygments_lexer": "ipython3",
   "version": "3.9.1"
  }
 },
 "nbformat": 4,
 "nbformat_minor": 5
}
