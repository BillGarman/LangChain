{
 "cells": [
  {
   "cell_type": "markdown",
   "id": "782ffcf1",
   "metadata": {},
   "source": [
    "# Router Chains: Selecting from multiple prompts with MultiRetrievalQAChain\n",
    "\n",
    "This notebook demonstrates how to use the `RouterChain` paradigm to create a chain that dynamically selects which Retrieval system to use. Specifically we show how to use the `MultiRetrievalQAChain` to create a question-answering chain that selects the retrieval QA chain which is most relevant for a given question, and then answers the question using it."
   ]
  },
  {
   "cell_type": "code",
   "execution_count": 1,
   "id": "b6aeec07",
   "metadata": {},
   "outputs": [],
   "source": [
    "from langchain.chains.router import MultiRetrievalQAChain\n",
    "from langchain.llms import OpenAI"
   ]
  },
  {
   "cell_type": "code",
   "execution_count": 2,
   "id": "3c42f051",
   "metadata": {},
   "outputs": [],
   "source": [
    "from langchain.embeddings import OpenAIEmbeddings\n",
    "from langchain.document_loaders import TextLoader\n",
    "from langchain.vectorstores import FAISS\n",
    "\n",
    "sou_docs = TextLoader('../../state_of_the_union.txt').load_and_split()\n",
    "sou_retriever = FAISS.from_documents(sou_docs, OpenAIEmbeddings()).as_retriever()\n",
    "\n",
    "pg_docs = TextLoader('../../paul_graham_essay.txt').load_and_split()\n",
    "pg_retriever = FAISS.from_documents(pg_docs, OpenAIEmbeddings()).as_retriever()\n",
    "\n",
    "personal_texts = [\n",
    "    \"I love apple pie\",\n",
    "    \"My favorite color is fuchsia\",\n",
    "    \"My dream is to become a professional dancer\",\n",
    "    \"I broke my arm when I was 12\",\n",
    "    \"My parents are from Peru\",\n",
    "]\n",
    "personal_retriever = FAISS.from_texts(personal_texts, OpenAIEmbeddings()).as_retriever()\n"
   ]
  },
  {
   "cell_type": "code",
   "execution_count": 3,
   "id": "5b671ac5",
   "metadata": {},
   "outputs": [],
   "source": [
    "retriever_infos = [\n",
    "    (\"state of the union\", \"Good for answering questions about the 2023 State of the Union address\", sou_retriever),\n",
    "    (\"pg essay\", \"Good for answer quesitons about Paul Graham's essay on his career\", pg_retriever),\n",
    "    (\"personal\", \"Good for answering questions about me\", personal_retriever)\n",
    "]\n",
    "chain = MultiRetrievalQAChain.from_retrievers(OpenAI(), *zip(*retriever_infos), verbose=True)"
   ]
  },
  {
   "cell_type": "code",
   "execution_count": 4,
   "id": "7db5814f",
   "metadata": {},
   "outputs": [
    {
     "name": "stdout",
     "output_type": "stream",
     "text": [
      "\n",
      "\n",
      "\u001b[1m> Entering new MultiRetrievalQAChain chain...\u001b[0m\n",
      "state of the union: {'query': 'What did the president say about the economy in the 2023 State of the Union address?'}\n",
      "\u001b[1m> Finished chain.\u001b[0m\n",
      " The president said that the economy was growing, that it had created more jobs in one year than ever before in the history of America, and that it had the strongest growth in nearly 40 years. He also discussed his economic vision for America, his plan to fight inflation, and his plan to lower costs for families.\n"
     ]
    }
   ],
   "source": [
    "print(chain.run(\"What did the president say about the economy?\"))"
   ]
  },
  {
   "cell_type": "code",
   "execution_count": 7,
   "id": "96196d44",
   "metadata": {},
   "outputs": [
    {
     "name": "stdout",
     "output_type": "stream",
     "text": [
      "\n",
      "\n",
      "\u001b[1m> Entering new MultiRetrievalQAChain chain...\u001b[0m\n",
      "pg essay: {'query': 'What is something Paul Graham regrets about his work?'}\n",
      "\u001b[1m> Finished chain.\u001b[0m\n",
      " Paul Graham regrets that working on Hacker News was the biggest source of stress in his work.\n"
     ]
    }
   ],
   "source": [
    "print(chain.run(\"What is something Paul Graham regrets about his work?\"))"
   ]
  },
  {
   "cell_type": "code",
   "execution_count": 8,
   "id": "09c75032",
   "metadata": {},
   "outputs": [
    {
     "name": "stdout",
     "output_type": "stream",
     "text": [
      "\n",
      "\n",
      "\u001b[1m> Entering new MultiRetrievalQAChain chain...\u001b[0m\n",
      "personal: {'query': 'What is my background?'}\n",
      "\u001b[1m> Finished chain.\u001b[0m\n",
      " Your background is Peruvian.\n"
     ]
    }
   ],
   "source": [
    "print(chain.run(\"What is my background?\"))"
   ]
  },
  {
   "cell_type": "code",
   "execution_count": 9,
   "id": "d070fd5a",
   "metadata": {},
   "outputs": [
    {
     "name": "stdout",
     "output_type": "stream",
     "text": [
      "\n",
      "\n",
      "\u001b[1m> Entering new MultiRetrievalQAChain chain...\u001b[0m\n",
      "DEFAULT: {'query': 'What year was the Internet created in?'}\n",
      "\u001b[1m> Finished chain.\u001b[0m\n",
      "The Internet was created in the late 1960s. However, it wasn't until the 1980s that it became widely available for public use. The first successful message transmission over the Internet occurred in October 1969 between two computers located at UCLA and the Stanford Research Institute. The development of the World Wide Web in the early 1990s helped to popularize the Internet and make it more accessible to the general public.\n"
     ]
    }
   ],
   "source": [
    "print(chain.run(\"What year was the Internet created in?\"))"
   ]
  },
  {
   "cell_type": "code",
   "execution_count": null,
   "id": "f4d515cc",
   "metadata": {},
   "outputs": [],
   "source": []
  }
 ],
 "metadata": {
  "kernelspec": {
   "display_name": "venv",
   "language": "python",
   "name": "venv"
  },
  "language_info": {
   "codemirror_mode": {
    "name": "ipython",
    "version": 3
   },
   "file_extension": ".py",
   "mimetype": "text/x-python",
   "name": "python",
   "nbconvert_exporter": "python",
   "pygments_lexer": "ipython3",
   "version": "3.11.3"
  }
 },
 "nbformat": 4,
 "nbformat_minor": 5
}
