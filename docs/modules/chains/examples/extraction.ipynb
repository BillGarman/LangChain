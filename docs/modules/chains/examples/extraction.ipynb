{
 "cells": [
  {
   "cell_type": "code",
   "execution_count": 1,
   "id": "09ad4623",
   "metadata": {},
   "outputs": [],
   "source": [
    "%load_ext autoreload\n",
    "%autoreload 2"
   ]
  },
  {
   "cell_type": "markdown",
   "id": "6605e7f7",
   "metadata": {},
   "source": [
    "# Extraction\n",
    "\n",
    "The tagging chain uses the OpenAI `functions` parameter to specify a schema to extract entities from a document."
   ]
  },
  {
   "cell_type": "code",
   "execution_count": 2,
   "id": "73a02a82",
   "metadata": {},
   "outputs": [],
   "source": [
    "from langchain.chains.openai_functions import create_extraction_chain_pydantic"
   ]
  },
  {
   "cell_type": "code",
   "execution_count": 3,
   "id": "34f04daf",
   "metadata": {},
   "outputs": [],
   "source": [
    "from langchain.chat_models import ChatOpenAI\n",
    "from langchain.chains import create_extraction_chain\n",
    "from langchain.prompts import ChatPromptTemplate"
   ]
  },
  {
   "cell_type": "code",
   "execution_count": 4,
   "id": "a2648974",
   "metadata": {},
   "outputs": [],
   "source": [
    "llm = ChatOpenAI(temperature=0, \n",
    "                   model=\"gpt-3.5-turbo-0613\")"
   ]
  },
  {
   "cell_type": "code",
   "execution_count": 5,
   "id": "4ac43eba",
   "metadata": {},
   "outputs": [],
   "source": [
    "schema = {\n",
    "      \"properties\": {\n",
    "          \"person_name\": {\"type\": \"string\"}, \n",
    "          \"person_height\":{\"type\": \"integer\"},\n",
    "          \"person_hair_color\": {\"type\": \"string\"},\n",
    "          \"dog_name\": {\"type\": \"string\"},\n",
    "          \"dog_breed\": {\"type\": \"string\"}\n",
    "              },\n",
    "        \"required\": [\"person_name\", \"height\"]\n",
    "    }"
   ]
  },
  {
   "cell_type": "code",
   "execution_count": 6,
   "id": "640bd005",
   "metadata": {},
   "outputs": [],
   "source": [
    "inp = \"\"\"\n",
    "Alex is 5 feet tall. Claudia is 4 feet taller Alex and jumps higher than him. Claudia is a brunette and Alex is blonde.\n",
    "Alex's dog Frosty is a labrador and likes to play hide and seek.\n",
    "        \"\"\""
   ]
  },
  {
   "cell_type": "code",
   "execution_count": 7,
   "id": "64313214",
   "metadata": {},
   "outputs": [],
   "source": [
    "chain = create_extraction_chain(schema, llm)"
   ]
  },
  {
   "cell_type": "code",
   "execution_count": 8,
   "id": "cc5436ed",
   "metadata": {},
   "outputs": [
    {
     "data": {
      "text/plain": [
       "[{'person_name': 'Alex',\n",
       "  'person_height': 5,\n",
       "  'person_hair_color': 'blonde',\n",
       "  'dog_name': 'Frosty',\n",
       "  'dog_breed': 'labrador'},\n",
       " {'person_name': 'Claudia',\n",
       "  'person_height': 9,\n",
       "  'person_hair_color': 'brunette',\n",
       "  'dog_name': '',\n",
       "  'dog_breed': ''}]"
      ]
     },
     "execution_count": 8,
     "metadata": {},
     "output_type": "execute_result"
    }
   ],
   "source": [
    "chain.run(inp)"
   ]
  },
  {
   "cell_type": "code",
   "execution_count": null,
   "id": "9ea61842",
   "metadata": {},
   "outputs": [],
   "source": []
  },
  {
   "cell_type": "code",
   "execution_count": null,
   "id": "1d81b6aa",
   "metadata": {},
   "outputs": [],
   "source": []
  },
  {
   "cell_type": "code",
   "execution_count": 55,
   "id": "83ca17d5",
   "metadata": {},
   "outputs": [],
   "source": [
    "from typing import Optional, List\n",
    "from pydantic import BaseModel, Field"
   ]
  },
  {
   "cell_type": "code",
   "execution_count": 59,
   "id": "dbcb868f",
   "metadata": {},
   "outputs": [],
   "source": [
    "class Items(BaseModel):\n",
    "    person_name: str\n",
    "    person_height: str\n",
    "    person_hair_color: str\n",
    "    dog_breed: Optional[str]\n",
    "    dog_name: Optional[str]\n",
    "\n",
    "class PydanticSchema(BaseModel):\n",
    "    info: List[Items]"
   ]
  },
  {
   "cell_type": "code",
   "execution_count": 60,
   "id": "4209991e",
   "metadata": {},
   "outputs": [
    {
     "name": "stdout",
     "output_type": "stream",
     "text": [
      "[{'name': 'information_extraction', 'description': 'Extracts the relevant information from the passage.', 'parameters': {'type': 'object', 'properties': {'info': {'type': 'array', 'items': {'type': 'object', 'properties': {'info': {'title': 'Info', 'type': 'array', 'items': {'title': 'Items', 'type': 'object', 'properties': {'person_name': {'title': 'Person Name', 'type': 'string'}, 'person_height': {'title': 'Person Height', 'type': 'string'}, 'person_hair_color': {'title': 'Person Hair Color', 'type': 'string'}, 'dog_breed': {'title': 'Dog Breed', 'type': 'string'}, 'dog_name': {'title': 'Dog Name', 'type': 'string'}}, 'required': ['person_name', 'person_height', 'person_hair_color']}}}, 'required': ['info']}}}, 'required': ['info']}}]\n"
     ]
    }
   ],
   "source": [
    "chain = create_extraction_chain_pydantic(pydantic_schema=PydanticSchema, llm=llm)"
   ]
  },
  {
   "cell_type": "code",
   "execution_count": 61,
   "id": "8738cf2a",
   "metadata": {
    "scrolled": false
   },
   "outputs": [
    {
     "name": "stdout",
     "output_type": "stream",
     "text": [
      "{\n",
      "  \"info\": [\n",
      "    {\n",
      "      \"person_name\": \"Alex\",\n",
      "      \"person_height\": \"5 feet\",\n",
      "      \"person_hair_color\": \"blonde\",\n",
      "      \"dog_breed\": \"labrador\",\n",
      "      \"dog_name\": \"Frosty\"\n",
      "    },\n",
      "    {\n",
      "      \"person_name\": \"Claudia\",\n",
      "      \"person_height\": \"4 feet taller Alex\",\n",
      "      \"person_hair_color\": \"brunette\"\n",
      "    }\n",
      "  ]\n",
      "}\n"
     ]
    },
    {
     "data": {
      "text/plain": [
       "PydanticSchema(info=[Items(person_name='Alex', person_height='5 feet', person_hair_color='blonde', dog_breed='labrador', dog_name='Frosty'), Items(person_name='Claudia', person_height='4 feet taller Alex', person_hair_color='brunette', dog_breed=None, dog_name=None)])"
      ]
     },
     "execution_count": 61,
     "metadata": {},
     "output_type": "execute_result"
    }
   ],
   "source": [
    "inp = \"\"\"\n",
    "Alex is 5 feet tall. Claudia is 4 feet taller Alex and jumps higher than him. Claudia is a brunette and Alex is blonde.\n",
    "Alex's dog Frosty is a labrador and likes to play hide and seek.\n",
    "        \"\"\"\n",
    "\n",
    "chain.run(inp)"
   ]
  }
 ],
 "metadata": {
  "kernelspec": {
   "display_name": "general",
   "language": "python",
   "name": "general"
  },
  "language_info": {
   "codemirror_mode": {
    "name": "ipython",
    "version": 3
   },
   "file_extension": ".py",
   "mimetype": "text/x-python",
   "name": "python",
   "nbconvert_exporter": "python",
   "pygments_lexer": "ipython3",
   "version": "3.10.6"
  }
 },
 "nbformat": 4,
 "nbformat_minor": 5
}
