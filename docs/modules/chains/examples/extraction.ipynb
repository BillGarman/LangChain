{
 "cells": [
  {
   "cell_type": "markdown",
   "id": "6605e7f7",
   "metadata": {},
   "source": [
    "# Extraction\n",
    "\n",
    "The tagging chain uses the OpenAI `functions` parameter to specify a schema to extract entities from a document."
   ]
  },
  {
   "cell_type": "code",
   "execution_count": 1,
   "id": "34f04daf",
   "metadata": {},
   "outputs": [],
   "source": [
    "from langchain.chat_models import ChatOpenAI\n",
    "from langchain.chains import create_extraction_chain\n",
    "from langchain.prompts import ChatPromptTemplate"
   ]
  },
  {
   "cell_type": "code",
   "execution_count": 2,
   "id": "a2648974",
   "metadata": {},
   "outputs": [],
   "source": [
    "llm = ChatOpenAI(temperature=0, \n",
    "                   model=\"gpt-3.5-turbo-0613\")"
   ]
  },
  {
   "cell_type": "code",
   "execution_count": 3,
   "id": "4ac43eba",
   "metadata": {},
   "outputs": [],
   "source": [
    "entity_schema = {\n",
    "      \"properties\": {\n",
    "          \"person-name\": \"string\", \n",
    "          \"person-height\": \"integer\",\n",
    "          \"person-hair_color\": \"string\",\n",
    "          \"dog-name\": \"string\",\n",
    "          \"dog-breed\": \"string\"\n",
    "              },\n",
    "    \"required\" : []\n",
    "    }"
   ]
  },
  {
   "cell_type": "code",
   "execution_count": 4,
   "id": "640bd005",
   "metadata": {},
   "outputs": [],
   "source": [
    "inp = \"\"\"\n",
    "Alex is 5 feet tall. Claudia is 4 feet taller Alex and jumps higher than him. Claudia is a brunette and Alex is blonde.\n",
    "Alex's dog Frosty is a labrador and likes to play hide and seek.\n",
    "        \"\"\""
   ]
  },
  {
   "cell_type": "code",
   "execution_count": 5,
   "id": "64313214",
   "metadata": {},
   "outputs": [],
   "source": [
    "chain = create_extraction_chain(entity_schema, llm)"
   ]
  },
  {
   "cell_type": "code",
   "execution_count": 6,
   "id": "cc5436ed",
   "metadata": {},
   "outputs": [
    {
     "data": {
      "text/plain": [
       "[{'person-name': 'Alex',\n",
       "  'person-height': 5,\n",
       "  'person-hair_color': 'blonde',\n",
       "  'dog-name': 'Frosty',\n",
       "  'dog-breed': 'labrador'},\n",
       " {'person-name': 'Claudia',\n",
       "  'person-height': 9,\n",
       "  'person-hair_color': 'brunette'}]"
      ]
     },
     "execution_count": 6,
     "metadata": {},
     "output_type": "execute_result"
    }
   ],
   "source": [
    "chain.run(inp)"
   ]
  },
  {
   "cell_type": "code",
   "execution_count": null,
   "id": "1b7d9fa6",
   "metadata": {},
   "outputs": [],
   "source": []
  }
 ],
 "metadata": {
  "kernelspec": {
   "display_name": "Python 3 (ipykernel)",
   "language": "python",
   "name": "python3"
  },
  "language_info": {
   "codemirror_mode": {
    "name": "ipython",
    "version": 3
   },
   "file_extension": ".py",
   "mimetype": "text/x-python",
   "name": "python",
   "nbconvert_exporter": "python",
   "pygments_lexer": "ipython3",
   "version": "3.9.1"
  }
 },
 "nbformat": 4,
 "nbformat_minor": 5
}
