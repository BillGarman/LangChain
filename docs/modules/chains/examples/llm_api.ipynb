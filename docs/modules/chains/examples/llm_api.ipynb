{
 "cells": [
  {
   "attachments": {},
   "cell_type": "markdown",
   "metadata": {},
   "source": [
    "# LLMAPIChain\n",
    "This notebook showcases using the LLM to perform requests against an API."
   ]
  },
  {
   "cell_type": "code",
   "execution_count": null,
   "metadata": {},
   "outputs": [],
   "source": [
    "from langchain.chains.llm_api.base import LLMAPIChain\n",
    "from langchain.llms import OpenAI\n",
    "\n",
    "llm = OpenAI(temperature=0)"
   ]
  },
  {
   "attachments": {},
   "cell_type": "markdown",
   "metadata": {},
   "source": [
    "You can initialize the chain with the URL of the OpenAPI specification file. You can also include any special parameters that you want the LLM to know about (for example, an API key, or an account id that it should use in its requests)."
   ]
  },
  {
   "cell_type": "code",
   "execution_count": null,
   "metadata": {},
   "outputs": [],
   "source": [
    "parameters = {\n",
    "    \"open_api_url\": \"https://petstore.swagger.io/v2/swagger.json\",\n",
    "    \"api_key\": \"special-key\"\n",
    "}\n",
    "\n",
    "llm_api_chain = LLMAPIChain(\n",
    "    llm=llm, \n",
    "    parameters=parameters,\n",
    "    verbose=True\n",
    "  )\n",
    "\n",
    "response = llm_api_chain(\"List all the active pets\")\n",
    "\n",
    "print(response)\n",
    "\n",
    "response = llm_api_chain(\"Add a pet named Fluffy\")\n",
    "\n",
    "print(response)"
   ]
  },
  {
   "attachments": {},
   "cell_type": "markdown",
   "metadata": {},
   "source": [
    "Alternatively, you can with a list of documentation URLs. The LLM will use these to try to understand how the API works and generate a correct request. The class also takes a `retries` argument, which is the number of times the LLM should retry a request if it fails."
   ]
  },
  {
   "cell_type": "code",
   "execution_count": null,
   "metadata": {},
   "outputs": [],
   "source": [
    "parameters = {\n",
    "    \"documentation_urls\": [\"https://frink.readme.io/reference/search\"]\n",
    "}\n",
    "\n",
    "llm_api_chain = LLMAPIChain(\n",
    "    llm=llm, \n",
    "    parameters=parameters,\n",
    "    verbose=True\n",
    "  )\n",
    "\n",
    "response = llm_api_chain(\"Find the screencap of 'Lisa Needs Braces'\")\n",
    "\n",
    "print(response)\n"
   ]
  }
 ],
 "metadata": {
  "kernelspec": {
   "display_name": "Python 3 (ipykernel)",
   "language": "python",
   "name": "python3"
  },
  "language_info": {
   "codemirror_mode": {
    "name": "ipython",
    "version": 3
   },
   "file_extension": ".py",
   "mimetype": "text/x-python",
   "name": "python",
   "nbconvert_exporter": "python",
   "pygments_lexer": "ipython3",
   "version": "3.10.8"
  }
 },
 "nbformat": 4,
 "nbformat_minor": 4
}