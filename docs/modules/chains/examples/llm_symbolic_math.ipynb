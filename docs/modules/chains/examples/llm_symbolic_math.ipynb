{
 "cells": [
  {
   "cell_type": "markdown",
   "metadata": {},
   "source": [
    "# LLM Symbolic Math \n",
    "This notebook showcases using LLMs and Python to Solve Algebraic Equations."
   ]
  },
  {
   "cell_type": "markdown",
   "metadata": {},
   "source": [
    "### Calculating the limit of an equation"
   ]
  },
  {
   "cell_type": "code",
   "execution_count": null,
   "metadata": {},
   "outputs": [],
   "source": [
    "from langchain import OpenAI, LLMSymbolicMathChain\n",
    "\n",
    "llm = OpenAI(temperature=0)\n",
    "llm_symbolic_math = LLMSymbolicMathChain.from_llm(llm, verbose=True)\n",
    "\n",
    "llm__symbolic_math.run(\"What is the limit of sin(x) / x as x goes to 0?\")"
   ]
  },
  {
   "cell_type": "markdown",
   "metadata": {},
   "source": [
    "### Calculating an integral"
   ]
  },
  {
   "cell_type": "code",
   "execution_count": null,
   "metadata": {},
   "outputs": [],
   "source": [
    "llm_symbolic_math.run(\"What is the integral of e^-x from 0 to infinity?\")"
   ]
  },
  {
   "cell_type": "markdown",
   "metadata": {},
   "source": [
    "### Calculating an algebraic equation"
   ]
  },
  {
   "cell_type": "code",
   "execution_count": null,
   "metadata": {},
   "outputs": [],
   "source": [
    "llm_symbolic_math.run(\"What are the solutions to this equation x**2 - x?\")"
   ]
  }
 ],
 "metadata": {
  "language_info": {
   "name": "python"
  },
  "orig_nbformat": 4
 },
 "nbformat": 4,
 "nbformat_minor": 2
}
