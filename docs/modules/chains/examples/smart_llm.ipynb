{
 "cells": [
  {
   "attachments": {},
   "cell_type": "markdown",
   "id": "9e9b7651",
   "metadata": {},
   "source": [
    "# How to use a SmartLLMChain\n",
    "\n",
    "A SmartLLMChain is a form of self-critique chain that can help you if have particularly complex questions to answer. Instead of doing a single LLM pass, it instead performs these 3 steps:\n",
    "1. Ideation: Pass the user prompt n times through the LLM to get n output proposals (called \"ideas\"), where n is a parameter you can set \n",
    "2. Critique: The LLM critiques all ideas to find possible flaws and picks the best one \n",
    "3. Resolve: The LLM tries to improve upon the best idea (as chosen in the critique step) and outputs it. This is then the final output.\n",
    "\n",
    "SmartLLMChains are based on the SmartGPT workflow proposed in https://youtu.be/wVzuvf9D9BU.\n",
    "\n",
    "Note that SmartLLMChains\n",
    "- use more LLM passes (ie n+2 instead of just 1)\n",
    "- only work then the underlying LLM has the capability for reflection, whicher smaller models often don't\n",
    "- only work with underlying models that return exactly 1 output, not multiple\n",
    "\n",
    "This notebook demonstrates how to use a SmartLLMChain."
   ]
  },
  {
   "attachments": {},
   "cell_type": "markdown",
   "id": "714dede0",
   "metadata": {},
   "source": [
    "##### Same LLM for all steps"
   ]
  },
  {
   "cell_type": "code",
   "execution_count": 2,
   "id": "10e5ece6",
   "metadata": {},
   "outputs": [],
   "source": [
    "from langchain.prompts import PromptTemplate\n",
    "from langchain.llms import OpenAI\n",
    "from langchain.chains import SmartLLMChain"
   ]
  },
  {
   "attachments": {},
   "cell_type": "markdown",
   "id": "8049cecd",
   "metadata": {},
   "source": [
    "We first create an LLM and prompt template"
   ]
  },
  {
   "cell_type": "code",
   "execution_count": 3,
   "id": "8b1a981c",
   "metadata": {},
   "outputs": [],
   "source": [
    "llm=OpenAI(temperature=0)\n",
    "prompt = PromptTemplate(\n",
    "    input_variables=[\"product\"],\n",
    "    template=\"What is a good name for a company that makes {product}?\",\n",
    ")"
   ]
  },
  {
   "attachments": {},
   "cell_type": "markdown",
   "id": "50b602e4",
   "metadata": {},
   "source": [
    "Now we can create a SmartLLMChain"
   ]
  },
  {
   "cell_type": "code",
   "execution_count": 4,
   "id": "8cd49199",
   "metadata": {},
   "outputs": [],
   "source": [
    "chain = SmartLLMChain(llm=llm, prompt=prompt, n_ideas=3, verbose=True)"
   ]
  },
  {
   "attachments": {},
   "cell_type": "markdown",
   "id": "6a72f276",
   "metadata": {},
   "source": [
    "Now we can use the SmartLLM as a drop-in replacement for our LLM. E.g.:"
   ]
  },
  {
   "cell_type": "code",
   "execution_count": null,
   "id": "074e5e75",
   "metadata": {},
   "outputs": [],
   "source": [
    "chain.run(\"colorful socks\")"
   ]
  },
  {
   "attachments": {},
   "cell_type": "markdown",
   "id": "bbfebea1",
   "metadata": {},
   "source": [
    "##### Different LLM for different steps"
   ]
  },
  {
   "attachments": {},
   "cell_type": "markdown",
   "id": "5be6ec08",
   "metadata": {},
   "source": [
    "You can also use different LLMs for the different steps by passing `ideation_llm`, `critique_llm` and `resolve_llm`. You might want to do this to use a more creative (i.e., high-temperature) model for ideation and a more strict (i.e., low-temperature) model for critique and resolution."
   ]
  },
  {
   "cell_type": "code",
   "execution_count": 8,
   "id": "9c33fa19",
   "metadata": {},
   "outputs": [],
   "source": [
    "chain = SmartLLMChain(\n",
    "    ideation_llm=OpenAI(temperature=0.9),\n",
    "    llm=OpenAI(temperature=0),  # will be used for critqiue and resolution as no specific llms are given \n",
    "    prompt=prompt,\n",
    "    n_ideas=3,\n",
    "    verbose=True\n",
    ")"
   ]
  },
  {
   "attachments": {},
   "cell_type": "markdown",
   "id": "e5f3c119",
   "metadata": {},
   "source": [
    "#### Use with ChatModel "
   ]
  },
  {
   "attachments": {},
   "cell_type": "markdown",
   "id": "5c28a4de",
   "metadata": {},
   "source": [
    "SmartLLMs also work with ChatModels"
   ]
  },
  {
   "cell_type": "code",
   "execution_count": 5,
   "id": "67e8757f",
   "metadata": {},
   "outputs": [],
   "source": [
    "from langchain.chat_models import ChatOpenAI"
   ]
  },
  {
   "cell_type": "code",
   "execution_count": 6,
   "id": "342bda7f",
   "metadata": {},
   "outputs": [],
   "source": [
    "chain = SmartLLMChain(llm=ChatOpenAI(temperature=0), prompt=prompt, verbose=True)"
   ]
  },
  {
   "cell_type": "code",
   "execution_count": null,
   "id": "886c1cc1",
   "metadata": {},
   "outputs": [],
   "source": []
  }
 ],
 "metadata": {
  "kernelspec": {
   "display_name": "Python 3 (ipykernel)",
   "language": "python",
   "name": "python3"
  },
  "language_info": {
   "codemirror_mode": {
    "name": "ipython",
    "version": 3
   },
   "file_extension": ".py",
   "mimetype": "text/x-python",
   "name": "python",
   "nbconvert_exporter": "python",
   "pygments_lexer": "ipython3",
   "version": "3.11.0"
  }
 },
 "nbformat": 4,
 "nbformat_minor": 5
}
