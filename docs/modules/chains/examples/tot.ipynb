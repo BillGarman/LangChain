{
 "cells": [
  {
   "attachments": {},
   "cell_type": "markdown",
   "metadata": {},
   "source": [
    "# Tree of Thouht (ToT) example\n",
    "\n",
    "The Tree of Thought is chain that allows you to query a LLM model using a tree of partial solutions."
   ]
  },
  {
   "cell_type": "code",
   "execution_count": 104,
   "metadata": {},
   "outputs": [],
   "source": [
    "from langchain.llms import OpenAI\n",
    "\n",
    "llm = OpenAI(temperature=1, max_tokens=200, verbose=True)"
   ]
  },
  {
   "cell_type": "code",
   "execution_count": 96,
   "metadata": {},
   "outputs": [
    {
     "name": "stdout",
     "output_type": "stream",
     "text": [
      "\n",
      "Please solve this 4x4 Sudoku puzzle \"3,*,*,2|1,*,3,*|*,1,*,3|4,*,*,1\" where *\n",
      "represents a cell to be filled. \n",
      "\n",
      "Additional Instructions:\n",
      "\n",
      "- Use digits 1-4.\n",
      "- Output the <next_step> in the same format.\n",
      "- Fill only one cell at each step.\n",
      "- A partial but correct solution is preferable to a full but incorrect one.\n",
      "\n"
     ]
    }
   ],
   "source": [
    "sudoku_puzzle =   \"3,*,*,2|1,*,3,*|*,1,*,3|4,*,*,1\"\n",
    "sudoku_solution = \"3,4,1,2|1,2,3,4|2,1,4,3|4,3,2,1\"\n",
    "problem_description = f\"\"\"\n",
    "Please solve this 4x4 Sudoku puzzle \\\"{sudoku_puzzle}\\\" where *\n",
    "represents a cell to be filled. \n",
    "\n",
    "Additional Instructions:\n",
    "\n",
    "- Use digits 1-4.\n",
    "- Output the <next_step> in the same format.\n",
    "- Fill only one cell at each step.\n",
    "- A partial but correct solution is preferable to a full but incorrect one.\n",
    "\"\"\"\n",
    "print(problem_description)"
   ]
  },
  {
   "cell_type": "code",
   "execution_count": 97,
   "metadata": {},
   "outputs": [],
   "source": [
    "from langchain.chains.tot.base import ToTChecker, SolutionType\n",
    "import re\n",
    "\n",
    "class MyChecker(ToTChecker):\n",
    "    def evaluate(self, problem_description: str, solution: str) -> SolutionType:\n",
    "        clean_solution = solution.replace(\" \", \"\")\n",
    "        regex_solution = clean_solution.replace(\"*\", \".\").replace(\"|\", \"\\\\|\")\n",
    "        if sudoku_solution in clean_solution:\n",
    "            return SolutionType.VALID_FINAL\n",
    "        elif re.search(regex_solution, sudoku_solution):\n",
    "            return SolutionType.VALID_INTERMEDIATE\n",
    "        else:\n",
    "            return SolutionType.INVALID\n",
    "\n",
    "checker = MyChecker()\n",
    "\n",
    "assert checker.evaluate(\"\", \"3,*,*,2|1,*,3,*|*,1,*,3|4,*,*,1\") == SolutionType.VALID_INTERMEDIATE\n",
    "assert checker.evaluate(\"\", \"3,4,1,2|1,2,3,4|2,1,4,3|4,3,2,1\") == SolutionType.VALID_FINAL\n",
    "assert checker.evaluate(\"\", \"3,4,1,2|1,2,3,4|2,1,4,3|4,3,*,1\") == SolutionType.VALID_INTERMEDIATE\n",
    "assert checker.evaluate(\"\", \"3,4,1,2|1,2,3,4|2,1,4,3|4,*,3,1\") == SolutionType.INVALID\n",
    "\n"
   ]
  },
  {
   "cell_type": "code",
   "execution_count": 105,
   "metadata": {},
   "outputs": [
    {
     "name": "stdout",
     "output_type": "stream",
     "text": [
      "\n",
      "\n",
      "\u001b[1m> Entering new ToTChain chain...\u001b[0m\n",
      "Starting the ToT solve procedure.\n",
      "\u001b[32;1m\u001b[1;3mToT Request >>>\n",
      "\n",
      "For the given problem:\n",
      "\n",
      "\n",
      "Please solve this 4x4 Sudoku puzzle \"3,*,*,2|1,*,3,*|*,1,*,3|4,*,*,1\" where *\n",
      "represents a cell to be filled. \n",
      "\n",
      "Additional Instructions:\n",
      "\n",
      "- Use digits 1-4.\n",
      "- Output the <next_step> in the same format.\n",
      "- Fill only one cell at each step.\n",
      "- A partial but correct solution is preferable to a full but incorrect one.\n",
      "\n",
      "\n",
      "Please derive the first step, and return the step in the following JSON\n",
      "format {\"next_step\": \"<next_step>\"}\n",
      "\n",
      "\n",
      "\u001b[0mparser  '\\n{\"next_step\": \"3,4,1,2|1,2,3,4|2,1,4,3|4,3,2,1\"}'\n",
      "\u001b[33;1m\u001b[1;3mToT Response >>>\n",
      "3,4,1,2|1,2,3,4|2,1,4,3|4,3,2,1\n",
      "\n",
      "\u001b[0m\n",
      "\u001b[1m> Finished chain.\u001b[0m\n"
     ]
    },
    {
     "data": {
      "text/plain": [
       "'3,4,1,2|1,2,3,4|2,1,4,3|4,3,2,1'"
      ]
     },
     "execution_count": 105,
     "metadata": {},
     "output_type": "execute_result"
    }
   ],
   "source": [
    "from langchain.chains.tot.base import ToTChain\n",
    "\n",
    "tot_chain = ToTChain(llm=llm, checker=MyChecker(), k=10, verbose=True)\n",
    "\n",
    "tot_chain.run({\"problem_description\": problem_description})"
   ]
  }
 ],
 "metadata": {
  "kernelspec": {
   "display_name": "Python 3",
   "language": "python",
   "name": "python3"
  },
  "language_info": {
   "codemirror_mode": {
    "name": "ipython",
    "version": 3
   },
   "file_extension": ".py",
   "mimetype": "text/x-python",
   "name": "python",
   "nbconvert_exporter": "python",
   "pygments_lexer": "ipython3",
   "version": "3.11.1"
  },
  "orig_nbformat": 4
 },
 "nbformat": 4,
 "nbformat_minor": 2
}
