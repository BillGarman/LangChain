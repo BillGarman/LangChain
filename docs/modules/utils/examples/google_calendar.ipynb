{
 "cells": [
  {
   "attachments": {},
   "cell_type": "markdown",
   "id": "245a954a",
   "metadata": {},
   "source": [
    "# Google Calendar\n",
    "\n",
    "This notebook goes over how to use the google search component.\n",
    "\n",
    "Most of the setup can be found instructions can be found [here](https://developers.google.com/calendar/api/quickstart/python).\n",
    "\n",
    "- Install requirements with `pip install --upgrade google-api-python-client google-auth-httplib2 google-auth-oauthlib`\n",
    "\n",
    "- Download the `credentials.json` file and save it in the root of your project"
   ]
  },
  {
   "cell_type": "code",
   "execution_count": null,
   "id": "ac4910f8",
   "metadata": {},
   "outputs": [],
   "source": [
    "from langchain.utilities import GoogleCalendarAPIWrapper"
   ]
  },
  {
   "cell_type": "code",
   "execution_count": null,
   "id": "84b8f773",
   "metadata": {},
   "outputs": [],
   "source": [
    "calendar = GoogleCalendarAPIWrapper()"
   ]
  },
  {
   "cell_type": "code",
   "execution_count": null,
   "id": "068991a6",
   "metadata": {},
   "outputs": [],
   "source": [
    "calendar.run(\"Schedule a birthday party for 2pm tomorrow\")"
   ]
  },
  {
   "cell_type": "code",
   "execution_count": null,
   "id": "028f4cba",
   "metadata": {},
   "outputs": [],
   "source": []
  }
 ],
 "metadata": {
  "kernelspec": {
   "display_name": ".venv",
   "language": "python",
   "name": "python3"
  },
  "language_info": {
   "codemirror_mode": {
    "name": "ipython",
    "version": 3
   },
   "file_extension": ".py",
   "mimetype": "text/x-python",
   "name": "python",
   "nbconvert_exporter": "python",
   "pygments_lexer": "ipython3",
   "version": "3.9.7 (default, Sep 16 2021, 08:50:36) \n[Clang 10.0.0 ]"
  },
  "vscode": {
   "interpreter": {
    "hash": "53f3bc57609c7a84333bb558594977aa5b4026b1d6070b93987956689e367341"
   }
  }
 },
 "nbformat": 4,
 "nbformat_minor": 5
}
