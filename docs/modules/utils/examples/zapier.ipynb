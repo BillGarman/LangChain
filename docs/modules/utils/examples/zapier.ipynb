{
 "cells": [
  {
   "cell_type": "markdown",
   "id": "16763ed3",
   "metadata": {},
   "source": [
    "## Zapier Natural Language Actions API\n",
    "\\\n",
    "Full docs here: https://nla.zapier.com/api/v1/dynamic/docs\n",
    "\n",
    "**Zapier Natural Language Actions** gives you access to the 5k+ apps, 20k+ actions on Zapier's platform through a natural language API interface.\n",
    "\n",
    "NLA supports apps like Gmail, Salesforce, Trello, Slack, Asana, HubSpot, Google Sheets, Microsoft Teams, and thousands more apps: https://zapier.com/apps\n",
    "\n",
    "Zapier NLA handles ALL the underlying API auth and translation from natural language --> underlying API call --> return simplified output for LLMs. The key idea is you, or your users, expose a set of actions via an oauth-like setup window, which you can then query and execute via a REST API.\n",
    "\n",
    "NLA offers both API Key and OAuth for signing NLA API requests.\n",
    "\n",
    "1. Server-side (API Key): for quickly getting started, testing, and production scenarios where LangChain will only use actions exposed in the developer's Zapier account (and will use the developer's connected accounts on Zapier.com)\n",
    "\n",
    "2. User-facing (Oauth): for production scenarios where you are deploying an end-user facing application and LangChain needs access to end-user's exposed actions and connected accounts on Zapier.com\n",
    "\n",
    "This quick start will focus on the server-side use case for brevity. Review [full docs](https://nla.zapier.com/api/v1/dynamic/docs) or reach out to nla@zapier.com for user-facing oauth developer support.\n",
    "\n",
    "This example goes over how to use the Zapier integration with a `SimpleSequentialChain`, then an `Agent`.\n",
    "In code, below:"
   ]
  },
  {
   "cell_type": "code",
   "execution_count": 1,
   "id": "a363309c",
   "metadata": {
    "tags": []
   },
   "outputs": [],
   "source": [
    "%load_ext autoreload\n",
    "%autoreload 2"
   ]
  },
  {
   "cell_type": "code",
   "execution_count": null,
   "id": "5cf33377",
   "metadata": {},
   "outputs": [],
   "source": [
    "import os\n",
    "\n",
    "# get from https://platform.openai.com/\n",
    "os.environ[\"OPENAI_API_KEY\"] = \"\"\n",
    "\n",
    "# get from https://nla.zapier.com/demo/provider/debug (under User Information, after logging in): \n",
    "os.environ[\"ZAPIER_NLA_API_KEY\"] = \"\""
   ]
  },
  {
   "cell_type": "code",
   "execution_count": 1,
   "id": "10a46e7e",
   "metadata": {
    "tags": []
   },
   "outputs": [],
   "source": [
    "from langchain.llms import OpenAI\n",
    "from langchain.chains import LLMChain, TransformChain, SimpleSequentialChain\n",
    "from langchain.prompts import PromptTemplate\n",
    "from langchain.tools.zapier import ZapierNLAListActions, ZapierNLARunAction\n",
    "from langchain.utilities.zapier import ZapierNLAWrapper"
   ]
  },
  {
   "cell_type": "code",
   "execution_count": 3,
   "id": "b9358048",
   "metadata": {
    "tags": []
   },
   "outputs": [],
   "source": [
    "## step 0. expose gmail 'find email' and slack 'send channel message' actions\n",
    "\n",
    "# first go here, log in, expose (enable) the two actions: https://nla.zapier.com/demo/start -- for this example, can leave all fields \"Have AI guess\"\n",
    "# in an oauth scenario, you'd get your own <provider> id (instead of 'demo') which you route your users through first\n",
    "\n",
    "actions = ZapierNLAWrapper().list()"
   ]
  },
  {
   "cell_type": "code",
   "execution_count": null,
   "id": "4e80f461",
   "metadata": {},
   "outputs": [],
   "source": [
    "## step 1. gmail find email\n",
    "\n",
    "GMAIL_SEARCH_INSTRUCTIONS = \"Grab the latest email from Bryan Helmig\"\n",
    "\n",
    "def nla_gmail(inputs):\n",
    "    action = next((a for a in actions if a[\"description\"].startswith(\"Gmail: Find Email\")), None)\n",
    "    return {\"email_data\": ZapierNLARunAction(action_id=action[\"id\"]).run(inputs[\"instructions\"])}\n",
    "gmail_chain = TransformChain(input_variables=[\"instructions\"], output_variables=[\"email_data\"], transform=nla_gmail)"
   ]
  },
  {
   "cell_type": "code",
   "execution_count": null,
   "id": "46893233",
   "metadata": {},
   "outputs": [],
   "source": [
    "## step 2. generate draft reply\n",
    "\n",
    "template = \"\"\"You are an assisstant who drafts replies to an incoming email. Output draft reply in plain text (not JSON).\n",
    "\n",
    "Incoming email:\n",
    "{email_data}\n",
    "\n",
    "Draft email reply:\"\"\"\n",
    "\n",
    "prompt_template = PromptTemplate(input_variables=[\"email_data\"], template=template)\n",
    "reply_chain = LLMChain(llm=OpenAI(temperature=.7), prompt=prompt_template)"
   ]
  },
  {
   "cell_type": "code",
   "execution_count": null,
   "id": "cd85c4f8",
   "metadata": {},
   "outputs": [],
   "source": [
    "## step 3. send draft reply via a slack direct message\n",
    "\n",
    "SLACK_HANDLE = \"@knoop\"\n",
    "\n",
    "def nla_slack(inputs):\n",
    "    action = next((a for a in actions if a[\"description\"].startswith(\"Slack: Send Direct Message\")), None)\n",
    "    instructions = f'Send this to {SLACK_HANDLE} in Slack: {inputs[\"draft_reply\"]}'\n",
    "    return {\"slack_data\": ZapierNLARunAction(action_id=action[\"id\"]).run(instructions)}\n",
    "slack_chain = TransformChain(input_variables=[\"draft_reply\"], output_variables=[\"slack_data\"], transform=nla_slack)"
   ]
  },
  {
   "cell_type": "code",
   "execution_count": null,
   "id": "4829cab4",
   "metadata": {},
   "outputs": [],
   "source": [
    "## finally, execute\n",
    "\n",
    "overall_chain = SimpleSequentialChain(chains=[gmail_chain, reply_chain, slack_chain], verbose=True)\n",
    "overall_chain.run(GMAIL_SEARCH_INSTRUCTIONS)"
   ]
  },
  {
   "cell_type": "markdown",
   "id": "4881b484-1b97-478f-b206-aec407ceff66",
   "metadata": {},
   "source": [
    "## Example with Agent\n",
    "Zapier tools can also be run with an agent. See the example below."
   ]
  },
  {
   "cell_type": "code",
   "execution_count": 3,
   "id": "b2044b17-c941-4ffb-8a03-027a35e2df81",
   "metadata": {
    "tags": []
   },
   "outputs": [],
   "source": [
    "from langchain.agents import initialize_agent\n",
    "from langchain.agents.agent_toolkits import ZapierToolkit"
   ]
  },
  {
   "cell_type": "code",
   "execution_count": 4,
   "id": "cab18227-c232-4214-9256-bb8dd352266c",
   "metadata": {
    "tags": []
   },
   "outputs": [],
   "source": [
    "llm = OpenAI(temperature=0)\n",
    "zapier = ZapierNLAWrapper()\n",
    "toolkit = ZapierToolkit.from_zapier_nla_wrapper(zapier)\n",
    "agent = initialize_agent(toolkit.get_tools(), llm, agent=\"zero-shot-react-description\", verbose=True)"
   ]
  },
  {
   "cell_type": "code",
   "execution_count": 6,
   "id": "f94713de-b64d-465f-a087-00288b5f80ec",
   "metadata": {
    "tags": []
   },
   "outputs": [
    {
     "name": "stdout",
     "output_type": "stream",
     "text": [
      "\n",
      "\n",
      "\u001b[1m> Entering new AgentExecutor chain...\u001b[0m\n",
      "\u001b[32;1m\u001b[1;3m I need to find the email and summarize it.\n",
      "Action: Gmail: Find Email\n",
      "Action Input: \"Find the last email from Silicon Valley Bank\"\u001b[0m\n",
      "Observation: \u001b[31;1m\u001b[1;3m{\"from__name\": \"Silicon Valley Bank, N.A.\", \"subject\": \"Silicon Valley Bank \\u2013 Open for business\", \"from__email\": \"sreply@svb.com\", \"body_plain\": \"Dear Clients: Silicon Valley Bank, N.A. is open & conducting business as usual. I'm the new CEO starting today & recognize the past few days have been challenging. The FDIC transferred all deposits & assets to a bridge bank to protect depositors. All deposits are protected & new deposits are too. Wire payments entered on 3/9-10 have been cancelled, so reinitiate them. We're conducting business in the US & expect to resume cross-border soon. We appreciate your patience as we serve you. I come with experience in similar situations & an appreciation for the innovation economy. We look to restore your confidence & support you & your companies. Thank you & best regards, Tim Mayopoulos, CEO, Silicon Valley Bank, N.A.\", \"reply_to__email\": \"sreply@svb.com\", \"date\": \"Mon, 13 Mar 2023 17:28:49 -0500 (CDT)\", \"attachment_count\": \"0\", \"to__emails\": \"ankush@langchain.dev\"}\u001b[0m\n",
      "Thought:\u001b[32;1m\u001b[1;3m I need to summarize the email and send it to the #general Slack channel.\n",
      "Action: Slack: Send Channel Message\n",
      "Action Input: \"Silicon Valley Bank, N.A. is open & conducting business as usual. All deposits are protected & new deposits are too. Wire payments entered on 3/9-10 have been cancelled, so reinitiate them. We're conducting business in the US & expect to resume cross-border soon.\"\u001b[0m\n",
      "Observation: \u001b[36;1m\u001b[1;3m{\"message__text\": \"Silicon Valley Bank, N.A. is open &amp; conducting business as usual. All deposits are protected &amp; new deposits are too. Wire payments entered on 3/9-10 have been cancelled, so reinitiate them. We're conducting business in the US &amp; expect to resume cross-border soon.\", \"channel\": \"C04LV96152S\", \"ts\": \"1678774783.100019\", \"message__permalink\": \"https://langchain.slack.com/archives/C04LV96152S/p1678774783100019\", \"message__bot_profile__deleted\": \"false\", \"ts_time\": \"2023-03-14T06:19:43Z\", \"message__bot_id\": \"B04TRV4R74K\", \"message__team\": \"T04F8K3FZB5\", \"message__bot_profile__name\": \"Zapier\", \"message__bot_profile__app_id\": \"A024R9PQM\", \"message__blocks[]block_id\": \"DIDmY\", \"message__blocks[]elements[]elements[]type\": \"[['text']]\"}\u001b[0m\n",
      "Thought:\u001b[32;1m\u001b[1;3m I now know the final answer.\n",
      "Final Answer: I have sent a summary of the last email from Silicon Valley Bank, N.A. to the #general Slack channel.\u001b[0m\n",
      "\n",
      "\u001b[1m> Finished chain.\u001b[0m\n"
     ]
    },
    {
     "data": {
      "text/plain": [
       "'I have sent a summary of the last email from Silicon Valley Bank, N.A. to the #general Slack channel.'"
      ]
     },
     "execution_count": 6,
     "metadata": {},
     "output_type": "execute_result"
    }
   ],
   "source": [
    "agent.run(\"Summarize the last email I received regarding Silicon Valley Bank. Send the summary to the #general Slack channel.\")"
   ]
  },
  {
   "cell_type": "code",
   "execution_count": null,
   "id": "320a4812-b37f-4819-85a8-b27db045343b",
   "metadata": {},
   "outputs": [],
   "source": []
  }
 ],
 "metadata": {
  "kernelspec": {
   "display_name": "Python 3 (ipykernel)",
   "language": "python",
   "name": "python3"
  },
  "language_info": {
   "codemirror_mode": {
    "name": "ipython",
    "version": 3
   },
   "file_extension": ".py",
   "mimetype": "text/x-python",
   "name": "python",
   "nbconvert_exporter": "python",
   "pygments_lexer": "ipython3",
   "version": "3.10.9"
  }
 },
 "nbformat": 4,
 "nbformat_minor": 5
}
