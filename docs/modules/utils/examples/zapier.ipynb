{
 "cells": [
  {
   "cell_type": "markdown",
   "id": "16763ed3",
   "metadata": {},
   "source": [
    "## Zapier Natural Language Actions API\n",
    "\\\n",
    "Full docs here: https://nla.zapier.com/api/v1/dynamic/docs\n",
    "\n",
    "**Zapier Natural Language Actions** gives you access to the 5k+ apps, 20k+ actions on Zapier's platform through a natural language API interface.\n",
    "\n",
    "NLA supports apps like Gmail, Salesforce, Trello, Slack, Asana, HubSpot, Google Sheets, Microsoft Teams, and thousands more apps: https://zapier.com/apps\n",
    "\n",
    "Zapier NLA handles ALL the underlying API auth and translation from natural language --> underlying API call --> return simplified output for LLMs. The key idea is you, or your users, expose a set of actions via an oauth-like setup window, which you can then query and execute via a REST API.\n",
    "\n",
    "NLA offers both API Key and OAuth for signing NLA API requests.\n",
    "\n",
    "1. Server-side (API Key): for quickly getting started, testing, and production scenarios where LangChain will only use actions exposed in the developer's Zapier account (and will use the developer's connected accounts on Zapier.com)\n",
    "\n",
    "2. User-facing (Oauth): for production scenarios where you are deploying an end-user facing application and LangChain needs access to end-user's exposed actions and connected accounts on Zapier.com\n",
    "\n",
    "This quick start will focus on the server-side use case for brevity. Review [full docs](https://nla.zapier.com/api/v1/dynamic/docs) or reach out to nla@zapier.com for user-facing oauth developer support.\n",
    "\n",
    "This example goes over how to use the Zapier integration with a `SimpleSequentialChain`, then an `Agent`.\n",
    "In code, below:"
   ]
  },
  {
   "cell_type": "code",
   "execution_count": 1,
   "id": "a363309c",
   "metadata": {
    "tags": []
   },
   "outputs": [],
   "source": [
    "%load_ext autoreload\n",
    "%autoreload 2"
   ]
  },
  {
   "cell_type": "code",
   "execution_count": null,
   "id": "5cf33377",
   "metadata": {},
   "outputs": [],
   "source": [
    "import os\n",
    "\n",
    "# get from https://platform.openai.com/\n",
    "os.environ[\"OPENAI_API_KEY\"] = \"\"\n",
    "\n",
    "# get from https://nla.zapier.com/demo/provider/debug (under User Information, after logging in): \n",
    "os.environ[\"ZAPIER_NLA_API_KEY\"] = \"\""
   ]
  },
  {
   "cell_type": "code",
   "execution_count": 2,
   "id": "10a46e7e",
   "metadata": {
    "tags": []
   },
   "outputs": [],
   "source": [
    "from langchain.llms import OpenAI\n",
    "from langchain.chains import LLMChain, TransformChain, SimpleSequentialChain\n",
    "from langchain.prompts import PromptTemplate\n",
    "from langchain.tools.zapier.tool import ZapierNLARunAction\n",
    "from langchain.utilities.zapier import ZapierNLAWrapper"
   ]
  },
  {
   "cell_type": "code",
   "execution_count": 3,
   "id": "b9358048",
   "metadata": {
    "tags": []
   },
   "outputs": [],
   "source": [
    "## step 0. expose gmail 'find email' and slack 'send channel message' actions\n",
    "\n",
    "# first go here, log in, expose (enable) the two actions: https://nla.zapier.com/demo/start -- for this example, can leave all fields \"Have AI guess\"\n",
    "# in an oauth scenario, you'd get your own <provider> id (instead of 'demo') which you route your users through first\n",
    "\n",
    "actions = ZapierNLAWrapper().list()"
   ]
  },
  {
   "cell_type": "code",
   "execution_count": null,
   "id": "4e80f461",
   "metadata": {},
   "outputs": [],
   "source": [
    "## step 1. gmail find email\n",
    "\n",
    "GMAIL_SEARCH_INSTRUCTIONS = \"Grab the latest email from Bryan Helmig\"\n",
    "\n",
    "def nla_gmail(inputs):\n",
    "    action = next((a for a in actions if a[\"description\"].startswith(\"Gmail: Find Email\")), None)\n",
    "    return {\"email_data\": ZapierNLARunAction(action_id=action[\"id\"]).run(inputs[\"instructions\"])}\n",
    "gmail_chain = TransformChain(input_variables=[\"instructions\"], output_variables=[\"email_data\"], transform=nla_gmail)"
   ]
  },
  {
   "cell_type": "code",
   "execution_count": null,
   "id": "46893233",
   "metadata": {},
   "outputs": [],
   "source": [
    "## step 2. generate draft reply\n",
    "\n",
    "template = \"\"\"You are an assisstant who drafts replies to an incoming email. Output draft reply in plain text (not JSON).\n",
    "\n",
    "Incoming email:\n",
    "{email_data}\n",
    "\n",
    "Draft email reply:\"\"\"\n",
    "\n",
    "prompt_template = PromptTemplate(input_variables=[\"email_data\"], template=template)\n",
    "reply_chain = LLMChain(llm=OpenAI(temperature=.7), prompt=prompt_template)"
   ]
  },
  {
   "cell_type": "code",
   "execution_count": null,
   "id": "cd85c4f8",
   "metadata": {},
   "outputs": [],
   "source": [
    "## step 3. send draft reply via a slack direct message\n",
    "\n",
    "SLACK_HANDLE = \"@knoop\"\n",
    "\n",
    "def nla_slack(inputs):\n",
    "    action = next((a for a in actions if a[\"description\"].startswith(\"Slack: Send Direct Message\")), None)\n",
    "    instructions = f'Send this to {SLACK_HANDLE} in Slack: {inputs[\"draft_reply\"]}'\n",
    "    return {\"slack_data\": ZapierNLARunAction(action_id=action[\"id\"]).run(instructions)}\n",
    "slack_chain = TransformChain(input_variables=[\"draft_reply\"], output_variables=[\"slack_data\"], transform=nla_slack)"
   ]
  },
  {
   "cell_type": "code",
   "execution_count": null,
   "id": "4829cab4",
   "metadata": {},
   "outputs": [],
   "source": [
    "## finally, execute\n",
    "\n",
    "overall_chain = SimpleSequentialChain(chains=[gmail_chain, reply_chain, slack_chain], verbose=True)\n",
    "overall_chain.run(GMAIL_SEARCH_INSTRUCTIONS)"
   ]
  },
  {
   "cell_type": "markdown",
   "id": "4881b484-1b97-478f-b206-aec407ceff66",
   "metadata": {},
   "source": [
    "## Example with Agent\n",
    "Zapier tools can also be run with an agent. See the example below."
   ]
  },
  {
   "cell_type": "code",
   "execution_count": 3,
   "id": "b2044b17-c941-4ffb-8a03-027a35e2df81",
   "metadata": {
    "tags": []
   },
   "outputs": [],
   "source": [
    "from langchain.agents import initialize_agent\n",
    "from langchain.agents.agent_toolkits import ZapierToolkit"
   ]
  },
  {
   "cell_type": "code",
   "execution_count": 4,
   "id": "cab18227-c232-4214-9256-bb8dd352266c",
   "metadata": {
    "tags": []
   },
   "outputs": [],
   "source": [
    "llm = OpenAI(temperature=0)\n",
    "zapier = ZapierNLAWrapper()\n",
    "toolkit = ZapierToolkit.from_zapier_nla_wrapper(zapier)\n",
    "agent = initialize_agent(toolkit.get_tools(), llm, agent=\"zero-shot-react-description\", verbose=True)"
   ]
  },
  {
   "cell_type": "code",
   "execution_count": 5,
   "id": "f94713de-b64d-465f-a087-00288b5f80ec",
   "metadata": {
    "tags": []
   },
   "outputs": [
    {
     "name": "stdout",
     "output_type": "stream",
     "text": [
      "\n",
      "\n",
      "\u001b[1m> Entering new AgentExecutor chain...\u001b[0m\n",
      "\u001b[32;1m\u001b[1;3m I need to find the email and summarize it.\n",
      "Action: Gmail: Find Email\n",
      "Action Input: Find the latest email from Silicon Valley Bank\u001b[0m\n",
      "Observation: \u001b[31;1m\u001b[1;3m{\"from__name\": \"Silicon Valley Bank, N.A.\", \"from__email\": \"sreply@svb.com\", \"subject\": \"Update from Silicon Valley Bridge Bank CEO\", \"body_plain\": \"Dear Clients: Yesterday I was appointed CEO of SVB Bank. We're doing all we can to rebuild, win back your confidence & support the innovation economy. We appreciate your patience. We're open for business & working to bring systems & solutions back online. #1 thing you can do is help us rebuild our deposit base. Depositors have full access to their money & deposits are fully protected by FDIC. Consider moving some funds back as part of a secure deposit diversification strategy. We're open for new customers & actively opening new accounts & making new loans. Reach out to your SVB team with any questions. We'll share more updates. Thank you. Tim Mayopoulos, CEO, SVB Bank.\", \"reply_to__email\": \"sreply@svb.com\", \"date\": \"Tue, 14 Mar 2023 11:32:25 -0500 (CDT)\", \"attachment_count\": \"0\", \"to__emails\": \"ankush@langchain.dev\", \"raw__internalDate\": \"1678811545000\"}\u001b[0m\n",
      "Thought:\u001b[32;1m\u001b[1;3m I have the email, now I need to summarize it.\n",
      "Action: Slack: Send Channel Message\n",
      "Action Input: Send a slack message to the #test-zapier channel with the text Silicon Valley Bank has appointed a new CEO and is actively opening new accounts and making new loans. Depositors have full access to their money and deposits are fully protected by FDIC.\u001b[0m\n",
      "Observation: \u001b[36;1m\u001b[1;3m{\"message__text\": \"Silicon Valley Bank has appointed a new CEO and is actively opening new accounts and making new loans. Depositors have full access to their money and deposits are fully protected by FDIC.\", \"message__permalink\": \"https://langchain.slack.com/archives/C04TSGU0RA7/p1678853202967379\", \"message__bot_profile__name\": \"Zapier\", \"channel\": \"C04TSGU0RA7\", \"message__team\": \"T04F8K3FZB5\", \"message__bot_profile__deleted\": \"false\", \"message__bot_id\": \"B04TRV4R74K\", \"message__bot_profile__app_id\": \"A024R9PQM\", \"ts_time\": \"2023-03-15T04:06:42Z\", \"message__bot_profile__icons__image_36\": \"https://avatars.slack-edge.com/2022-08-02/3888649620612_f864dc1bb794cf7d82b0_36.png\", \"message__blocks[]block_id\": \"rA6up\"}\u001b[0m\n",
      "Thought:\u001b[32;1m\u001b[1;3m I now know the final answer\n",
      "Final Answer: Silicon Valley Bank has appointed a new CEO and is actively opening new accounts and making new loans. Depositors have full access to their money and deposits are fully protected by FDIC.\u001b[0m\n",
      "\n",
      "\u001b[1m> Finished chain.\u001b[0m\n"
     ]
    },
    {
     "data": {
      "text/plain": [
       "'Silicon Valley Bank has appointed a new CEO and is actively opening new accounts and making new loans. Depositors have full access to their money and deposits are fully protected by FDIC.'"
      ]
     },
     "execution_count": 5,
     "metadata": {},
     "output_type": "execute_result"
    }
   ],
   "source": [
    "agent.run(\"Summarize the last email I received regarding Silicon Valley Bank. Send the summary to the #test-zapier slack channel.\")"
   ]
  }
 ],
 "metadata": {
  "kernelspec": {
   "display_name": "Python 3 (ipykernel)",
   "language": "python",
   "name": "python3"
  },
  "language_info": {
   "codemirror_mode": {
    "name": "ipython",
    "version": 3
   },
   "file_extension": ".py",
   "mimetype": "text/x-python",
   "name": "python",
   "nbconvert_exporter": "python",
   "pygments_lexer": "ipython3",
   "version": "3.10.9"
  }
 },
 "nbformat": 4,
 "nbformat_minor": 5
}
