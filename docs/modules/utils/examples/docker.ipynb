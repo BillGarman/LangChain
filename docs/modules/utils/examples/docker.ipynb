{
  "cells": [
    {
      "cell_type": "code",
      "metadata": {
        "jukit_cell_id": "O4HPx3boF0"
      },
      "source": [],
      "outputs": [],
      "execution_count": null
    },
    {
      "cell_type": "markdown",
      "metadata": {
        "jukit_cell_id": "hqQkbPEwTJ"
      },
      "source": [
        "# Using the DockerWrapper utility"
      ]
    },
    {
      "cell_type": "code",
      "metadata": {
        "jukit_cell_id": "vCepuypaFH"
      },
      "source": [
        "from langchain.utilities.docker import DockerWrapper, DockerSocket"
      ],
      "outputs": [],
      "execution_count": null
    },
    {
      "cell_type": "code",
      "metadata": {
        "jukit_cell_id": "BtYVqy2YtO"
      },
      "source": [
        "d = DockerWrapper()\n",
        "query = \"\"\"\n",
        "for i in $(seq 1 10)\n",
        "do\n",
        "    echo $i\n",
        "done\n",
        "\"\"\""
      ],
      "outputs": [],
      "execution_count": null
    },
    {
      "cell_type": "code",
      "metadata": {
        "jukit_cell_id": "ELWWm03ptQ"
      },
      "source": [
        "print(d.exec_run(query, \"alpine\"))"
      ],
      "outputs": [
        {
          "output_type": "stream",
          "name": "stdout",
          "text": "[header] blocking IO\n{'stdout': '1\\n2\\n3\\n4\\n5\\n6\\n7\\n8\\n9\\n10\\n'}\n1\n2\n3\n4\n5\n6\n7\n8\n9\n10\n\n"
        }
      ],
      "execution_count": 1
    }
  ],
  "metadata": {
    "anaconda-cloud": {},
    "kernelspec": {
      "display_name": "python",
      "language": "python",
      "name": "python3"
    }
  },
  "nbformat": 4,
  "nbformat_minor": 4
}