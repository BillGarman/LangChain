{
 "cells": [
  {
   "cell_type": "markdown",
   "id": "2562bcac-2501-4cfa-a197-76867cba4860",
   "metadata": {},
   "source": [
    "# DocArrayRetriever: Usage\n",
    "\n",
    "[DocArray](https://github.com/docarray/docarray) is a versatile, open-source tool for managing your multi-modal data. It lets you shape your data however you want, and offers the flexibility to store and search it using various document index backends. Plus, it gets even better - you can utilize your DocArray document index to create a DocArrayRetriever, and build awesome Langchain apps!\n",
    "\n",
    "This notebook will use HnswDocumentIndex backend and guide you on how to create and use a DocArrayRetriever with it. If you want to explore more about different backends we support, check out this notebook:\n",
    "https://python.langchain.com/en/latest/modules/indexes/retrievers/examples/docarray_backends.html"
   ]
  },
  {
   "cell_type": "code",
   "execution_count": 1,
   "id": "3c9240d8-19af-4c28-a982-0ca0f6710b6f",
   "metadata": {
    "tags": []
   },
   "outputs": [],
   "source": [
    "movies = [\n",
    "    {\n",
    "        \"title\": \"Inception\",\n",
    "        \"description\": \"A thief who steals corporate secrets through the use of dream-sharing technology is given the task of planting an idea into the mind of a CEO.\",\n",
    "        \"director\": \"Christopher Nolan\",\n",
    "        \"rating\": 8.8,\n",
    "    },\n",
    "    {\n",
    "        \"title\": \"The Dark Knight\",\n",
    "        \"description\": \"When the menace known as the Joker wreaks havoc and chaos on the people of Gotham, Batman must accept one of the greatest psychological and physical tests of his ability to fight injustice.\",\n",
    "        \"director\": \"Christopher Nolan\",\n",
    "        \"rating\": 9.0,\n",
    "    },\n",
    "    {\n",
    "        \"title\": \"Interstellar\",\n",
    "        \"description\": \"Interstellar explores the boundaries of human exploration as a group of astronauts venture through a wormhole in space. In their quest to ensure the survival of humanity, they confront the vastness of space-time and grapple with love and sacrifice.\",\n",
    "        \"director\": \"Christopher Nolan\",\n",
    "        \"rating\": 8.6,\n",
    "    },\n",
    "    {\n",
    "        \"title\": \"Pulp Fiction\",\n",
    "        \"description\": \"The lives of two mob hitmen, a boxer, a gangster's wife, and a pair of diner bandits intertwine in four tales of violence and redemption.\",\n",
    "        \"director\": \"Quentin Tarantino\",\n",
    "        \"rating\": 8.9,\n",
    "    },\n",
    "    {\n",
    "        \"title\": \"Reservoir Dogs\",\n",
    "        \"description\": \"When a simple jewelry heist goes horribly wrong, the surviving criminals begin to suspect that one of them is a police informant.\",\n",
    "        \"director\": \"Quentin Tarantino\",\n",
    "        \"rating\": 8.3,\n",
    "    },\n",
    "    {\n",
    "        \"title\": \"The Godfather\",\n",
    "        \"description\": \"An aging patriarch of an organized crime dynasty transfers control of his empire to his reluctant son.\",\n",
    "        \"director\": \"Francis Ford Coppola\",\n",
    "        \"rating\": 9.2,\n",
    "    },\n",
    "]\n"
   ]
  },
  {
   "cell_type": "code",
   "execution_count": 2,
   "id": "692ae7d9-5401-4209-a5f6-ee3fdbbf9bbb",
   "metadata": {
    "tags": []
   },
   "outputs": [
    {
     "name": "stdin",
     "output_type": "stream",
     "text": [
      "OpenAI API Key: ········\n"
     ]
    }
   ],
   "source": [
    "import getpass\n",
    "import os \n",
    "\n",
    "os.environ['OPENAI_API_KEY'] = getpass.getpass('OpenAI API Key:')"
   ]
  },
  {
   "cell_type": "code",
   "execution_count": 3,
   "id": "7847329f-3330-4560-b21a-9eb90bb8f4e2",
   "metadata": {
    "tags": []
   },
   "outputs": [
    {
     "name": "stderr",
     "output_type": "stream",
     "text": [
      "/Users/jinaai/Desktop/langchain/venv/lib/python3.9/site-packages/tqdm/auto.py:21: TqdmWarning: IProgress not found. Please update jupyter and ipywidgets. See https://ipywidgets.readthedocs.io/en/stable/user_install.html\n",
      "  from .autonotebook import tqdm as notebook_tqdm\n"
     ]
    }
   ],
   "source": [
    "from docarray import BaseDoc, DocList\n",
    "from docarray.typing import NdArray\n",
    "from langchain.embeddings.openai import OpenAIEmbeddings\n",
    "\n",
    "# define schema for your movie documents\n",
    "class MyDoc(BaseDoc):\n",
    "    title: str\n",
    "    description: str\n",
    "    description_embedding: NdArray[1536]\n",
    "    rating: float\n",
    "    director: str\n",
    "    \n",
    "\n",
    "embeddings = OpenAIEmbeddings()\n",
    "\n",
    "\n",
    "# get \"description\" embeddings, and create documents\n",
    "docs = DocList[MyDoc](\n",
    "    [\n",
    "        MyDoc(\n",
    "            description_embedding=embeddings.embed_query(movie[\"description\"]), **movie\n",
    "        )\n",
    "        for movie in movies\n",
    "    ]\n",
    ")"
   ]
  },
  {
   "cell_type": "code",
   "execution_count": 4,
   "id": "16008774-799e-45ad-b6df-9370a1ff39cf",
   "metadata": {
    "tags": []
   },
   "outputs": [],
   "source": [
    "from docarray.index import HnswDocumentIndex\n",
    "\n",
    "# initialize the index\n",
    "db = HnswDocumentIndex[MyDoc](work_dir='movie_search')\n",
    "\n",
    "# add data\n",
    "db.index(docs)"
   ]
  },
  {
   "cell_type": "markdown",
   "id": "503896b6-57c9-46a5-a934-4e089311f3e9",
   "metadata": {},
   "source": [
    "## Normal Retriever"
   ]
  },
  {
   "cell_type": "code",
   "execution_count": 5,
   "id": "0e8c52a9-0302-44d1-8f63-36a271581a7d",
   "metadata": {
    "tags": []
   },
   "outputs": [
    {
     "name": "stdout",
     "output_type": "stream",
     "text": [
      "[Document(page_content='A thief who steals corporate secrets through the use of dream-sharing technology is given the task of planting an idea into the mind of a CEO.', metadata={'id': '50c0be61c9a36dba01c3d4d840c829f7', 'title': 'Inception', 'rating': 8.8, 'director': 'Christopher Nolan'})]\n"
     ]
    }
   ],
   "source": [
    "from langchain.retrievers import DocArrayRetriever\n",
    "\n",
    "# create a retriever\n",
    "retriever = DocArrayRetriever(\n",
    "    index=db, \n",
    "    embeddings=embeddings, \n",
    "    search_field='description_embedding', \n",
    "    content_field='description'\n",
    ")\n",
    "\n",
    "# find the relevant document\n",
    "doc = retriever.get_relevant_documents('movie about dreams')\n",
    "print(doc)"
   ]
  },
  {
   "cell_type": "markdown",
   "id": "6e897c17-9dc9-42c2-a1c7-8f3c622257fd",
   "metadata": {},
   "source": [
    "## Retriever with Filters"
   ]
  },
  {
   "cell_type": "code",
   "execution_count": 6,
   "id": "64fdf6e5-7f60-47f7-b241-50a2976266e0",
   "metadata": {
    "tags": []
   },
   "outputs": [
    {
     "name": "stdout",
     "output_type": "stream",
     "text": [
      "[Document(page_content='Interstellar explores the boundaries of human exploration as a group of astronauts venture through a wormhole in space. In their quest to ensure the survival of humanity, they confront the vastness of space-time and grapple with love and sacrifice.', metadata={'id': '6ff65e170c32f15b2250f2fc06f63112', 'title': 'Interstellar', 'rating': 8.6, 'director': 'Christopher Nolan'}), Document(page_content='A thief who steals corporate secrets through the use of dream-sharing technology is given the task of planting an idea into the mind of a CEO.', metadata={'id': '50c0be61c9a36dba01c3d4d840c829f7', 'title': 'Inception', 'rating': 8.8, 'director': 'Christopher Nolan'})]\n"
     ]
    }
   ],
   "source": [
    "from langchain.retrievers import DocArrayRetriever\n",
    "\n",
    "# create a retriever\n",
    "retriever = DocArrayRetriever(\n",
    "    index=db, \n",
    "    embeddings=embeddings, \n",
    "    search_field='description_embedding', \n",
    "    content_field='description',\n",
    "    filters={'director': {'$eq': 'Christopher Nolan'}},\n",
    "    top_k=2,\n",
    ")\n",
    "\n",
    "# find relevant documents\n",
    "docs = retriever.get_relevant_documents('space travel')\n",
    "print(docs)"
   ]
  },
  {
   "cell_type": "markdown",
   "id": "32301589-79e7-463c-b3cb-e3e82df0f54e",
   "metadata": {},
   "source": [
    "## Retriever with MMR search"
   ]
  },
  {
   "cell_type": "code",
   "execution_count": 7,
   "id": "d3dee988-13cc-4e81-a3bd-5528f92f2f19",
   "metadata": {
    "tags": []
   },
   "outputs": [
    {
     "name": "stdout",
     "output_type": "stream",
     "text": [
      "[Document(page_content=\"The lives of two mob hitmen, a boxer, a gangster's wife, and a pair of diner bandits intertwine in four tales of violence and redemption.\", metadata={'id': '69e7bebffc153fa1d8878e6bdf4675ee', 'title': 'Pulp Fiction', 'rating': 8.9, 'director': 'Quentin Tarantino'}), Document(page_content='A thief who steals corporate secrets through the use of dream-sharing technology is given the task of planting an idea into the mind of a CEO.', metadata={'id': '50c0be61c9a36dba01c3d4d840c829f7', 'title': 'Inception', 'rating': 8.8, 'director': 'Christopher Nolan'}), Document(page_content='When the menace known as the Joker wreaks havoc and chaos on the people of Gotham, Batman must accept one of the greatest psychological and physical tests of his ability to fight injustice.', metadata={'id': 'ac2e0a0bdf98c27796cad47a4cb19c7d', 'title': 'The Dark Knight', 'rating': 9.0, 'director': 'Christopher Nolan'})]\n"
     ]
    }
   ],
   "source": [
    "from langchain.retrievers import DocArrayRetriever\n",
    "\n",
    "# create a retriever\n",
    "retriever = DocArrayRetriever(\n",
    "    index=db, \n",
    "    embeddings=embeddings, \n",
    "    search_field='description_embedding', \n",
    "    content_field='description',\n",
    "    filters={'rating': {'$gte': 8.7}},\n",
    "    search_type='mmr',\n",
    "    top_k=3,\n",
    ")\n",
    "\n",
    "# find relevant documents\n",
    "docs = retriever.get_relevant_documents('action movies')\n",
    "print(docs)"
   ]
  },
  {
   "cell_type": "code",
   "execution_count": null,
   "id": "6340464a-7422-4d1d-88f0-d6952d63eb94",
   "metadata": {},
   "outputs": [],
   "source": []
  }
 ],
 "metadata": {
  "kernelspec": {
   "display_name": "Python 3 (ipykernel)",
   "language": "python",
   "name": "python3"
  },
  "language_info": {
   "codemirror_mode": {
    "name": "ipython",
    "version": 3
   },
   "file_extension": ".py",
   "mimetype": "text/x-python",
   "name": "python",
   "nbconvert_exporter": "python",
   "pygments_lexer": "ipython3",
   "version": "3.9.16"
  }
 },
 "nbformat": 4,
 "nbformat_minor": 5
}
