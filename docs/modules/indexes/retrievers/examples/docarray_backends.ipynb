{
 "cells": [
  {
   "cell_type": "markdown",
   "id": "a0eb506a-f52e-4a92-9204-63233c3eb5bd",
   "metadata": {},
   "source": [
    "# DocArrayRetriever: Backends\n",
    "\n",
    "[DocArray](https://github.com/docarray/docarray) is a versatile, open-source tool for managing your multi-modal data. It lets you shape your data however you want, and offers the flexibility to store and search it using various document index backends. Plus, it gets even better - you can utilize your DocArray document index to create a DocArrayRetriever, and build awesome Langchain apps!\n",
    "\n",
    "Right now, DocArray works with five kinds of document index backends:\n",
    "\n",
    "1. [InMemoryExactNNIndex](#InMemoryExactNNIndex)\n",
    "2. [HnswDocumentIndex](#HnswDocumentIndex)\n",
    "3. [WeaviateDocumentIndex](#WeaviateDocumentIndex)\n",
    "4. [ElasticDocIndex](#ElasticDocIndex)\n",
    "5. [QdrantDocumentIndex](#QdrantDocumentIndex)\n",
    "\n",
    "This notebook is mainly about introducing the backends. You'll see how to set up and index each backend, and how to create a DocArrayRetriever to search for relevant documents.\n",
    "\n",
    "However, if you want to learn more about using the DocArrayRetriever in general, check out this other notebook: https://python.langchain.com/en/latest/modules/indexes/retrievers/examples/docarray_usage.html\n",
    "\n",
    "\n",
    "\n",
    "\n"
   ]
  },
  {
   "cell_type": "code",
   "execution_count": 1,
   "id": "b72a4512-6318-4572-adf2-12b06b2d2e72",
   "metadata": {
    "tags": []
   },
   "outputs": [
    {
     "name": "stderr",
     "output_type": "stream",
     "text": [
      "/Users/jinaai/Desktop/langchain/venv/lib/python3.9/site-packages/tqdm/auto.py:21: TqdmWarning: IProgress not found. Please update jupyter and ipywidgets. See https://ipywidgets.readthedocs.io/en/stable/user_install.html\n",
      "  from .autonotebook import tqdm as notebook_tqdm\n"
     ]
    }
   ],
   "source": [
    "from langchain.retrievers import DocArrayRetriever\n",
    "from docarray import BaseDoc\n",
    "from docarray.typing import NdArray\n",
    "import numpy as np\n",
    "from langchain.embeddings import FakeEmbeddings\n",
    "import random\n",
    "\n",
    "embeddings = FakeEmbeddings(size=32)"
   ]
  },
  {
   "cell_type": "markdown",
   "id": "bdac41b4-67a1-483f-b3d6-fe662b7bdacd",
   "metadata": {},
   "source": [
    "Before you start building the index, it's important define your document schema. This determines what fields your documents will have and what type of data each field will hold.\n",
    "\n",
    "For this demonstration, we'll create a somewhat random schema containing 'title' (str), 'title_embedding' (numpy array), 'year' (int), and 'color' (str)"
   ]
  },
  {
   "cell_type": "code",
   "execution_count": 2,
   "id": "8a97c56a-63a0-405c-929f-35e1ded79489",
   "metadata": {
    "tags": []
   },
   "outputs": [],
   "source": [
    "class MyDoc(BaseDoc):\n",
    "    title: str\n",
    "    title_embedding: NdArray[32]\n",
    "    year: int\n",
    "    color: str"
   ]
  },
  {
   "cell_type": "markdown",
   "id": "297bfdb5-6bfe-47ce-90e7-feefc4c160b7",
   "metadata": {
    "tags": []
   },
   "source": [
    "## InMemoryExactNNIndex\n",
    "\n",
    "InMemoryExactNNIndex stores all Documentsin memory. It is a great starting point for small datasets, where you may not want to launch a database server.\n",
    "\n",
    "Learn more here: https://docs.docarray.org/user_guide/storing/index_in_memory/"
   ]
  },
  {
   "cell_type": "code",
   "execution_count": 3,
   "id": "8b6e6343-88c2-4206-92fd-5a634d39da09",
   "metadata": {
    "tags": []
   },
   "outputs": [],
   "source": [
    "from docarray.index import InMemoryExactNNIndex\n",
    "\n",
    "\n",
    "# initialize the index\n",
    "db = InMemoryExactNNIndex[MyDoc]()\n",
    "# index data\n",
    "db.index(\n",
    "    [\n",
    "        MyDoc(\n",
    "            title=f'My document {i}',\n",
    "            title_embedding=embeddings.embed_query(f'query {i}'),\n",
    "            year=i,\n",
    "            color=random.choice(['red', 'green', 'blue']),\n",
    "        )\n",
    "        for i in range(100)\n",
    "    ]\n",
    ")\n",
    "# optionally, you can create a filter query\n",
    "filter_query = {\"year\": {\"$lte\": 90}}"
   ]
  },
  {
   "cell_type": "code",
   "execution_count": 4,
   "id": "142060e5-3e0c-4fa2-9f69-8c91f53617f4",
   "metadata": {
    "tags": []
   },
   "outputs": [
    {
     "name": "stdout",
     "output_type": "stream",
     "text": [
      "[Document(page_content='My document 48', metadata={'id': '50d3db418c6e70749c1d72045fd591c6', 'year': 48, 'color': 'red'})]\n"
     ]
    }
   ],
   "source": [
    "# create a retriever\n",
    "retriever = DocArrayRetriever(\n",
    "    index=db, \n",
    "    embeddings=embeddings, \n",
    "    search_field='title_embedding', \n",
    "    content_field='title',\n",
    "    filters=filter_query,\n",
    ")\n",
    "\n",
    "# find the relevant document\n",
    "doc = retriever.get_relevant_documents('some query')\n",
    "print(doc)"
   ]
  },
  {
   "cell_type": "markdown",
   "id": "a9daf2c4-6568-4a49-ba6e-21687962d2c1",
   "metadata": {},
   "source": [
    "## HnswDocumentIndex\n",
    "\n",
    "HnswDocumentIndex is a lightweight Document Index implementation that runs fully locally and is best suited for small- to medium-sized datasets. It stores vectors on disk in [hnswlib](https://github.com/nmslib/hnswlib), and stores all other data in [SQLite](https://www.sqlite.org/index.html).\n",
    "\n",
    "Learn more here: https://docs.docarray.org/user_guide/storing/index_hnswlib/"
   ]
  },
  {
   "cell_type": "code",
   "execution_count": 5,
   "id": "e0be3c00-470f-4448-92cc-3985f5b05809",
   "metadata": {
    "tags": []
   },
   "outputs": [],
   "source": [
    "from docarray.index import HnswDocumentIndex\n",
    "\n",
    "\n",
    "# initialize the index\n",
    "db = HnswDocumentIndex[MyDoc](work_dir='hnsw_index')\n",
    "\n",
    "# index data\n",
    "db.index(\n",
    "    [\n",
    "        MyDoc(\n",
    "            title=f'My document {i}',\n",
    "            title_embedding=embeddings.embed_query(f'query {i}'),\n",
    "            year=i,\n",
    "            color=random.choice(['red', 'green', 'blue']),\n",
    "        )\n",
    "        for i in range(100)\n",
    "    ]\n",
    ")\n",
    "# optionally, you can create a filter query\n",
    "filter_query = {\"year\": {\"$lte\": 90}}"
   ]
  },
  {
   "cell_type": "code",
   "execution_count": 6,
   "id": "ea9eb5a0-a8f2-465b-81e2-52fb773466cf",
   "metadata": {
    "tags": []
   },
   "outputs": [
    {
     "name": "stdout",
     "output_type": "stream",
     "text": [
      "[Document(page_content='My document 7', metadata={'id': '00840c63e5db617570db773ad0248800', 'year': 7, 'color': 'red'})]\n"
     ]
    }
   ],
   "source": [
    "# create a retriever\n",
    "retriever = DocArrayRetriever(\n",
    "    index=db, \n",
    "    embeddings=embeddings, \n",
    "    search_field='title_embedding', \n",
    "    content_field='title',\n",
    "    filters=filter_query,\n",
    ")\n",
    "\n",
    "# find the relevant document\n",
    "doc = retriever.get_relevant_documents('some query')\n",
    "print(doc)"
   ]
  },
  {
   "cell_type": "markdown",
   "id": "7177442e-3fd3-4f3d-ab22-cd8265b35112",
   "metadata": {},
   "source": [
    "## WeaviateDocumentIndex\n",
    "\n",
    "WeaviateDocumentIndex is a document index that is built upon [Weaviate](https://weaviate.io/) vector database.\n",
    "\n",
    "Learn more here: https://docs.docarray.org/user_guide/storing/index_weaviate/"
   ]
  },
  {
   "cell_type": "code",
   "execution_count": 7,
   "id": "8bcf17ba-8dce-4413-ab4e-61d9baee50e7",
   "metadata": {
    "tags": []
   },
   "outputs": [],
   "source": [
    "# There's a small difference with the Weaviate backend compared to the others. \n",
    "# Here, you need to 'mark' the field used for vector search with 'is_embedding=True'. \n",
    "# So, let's create a new schema for Weaviate that takes care of this requirement.\n",
    "\n",
    "from pydantic import Field \n",
    "\n",
    "class WeaviateDoc(BaseDoc):\n",
    "    title: str\n",
    "    title_embedding: NdArray[32] = Field(is_embedding=True)\n",
    "    year: int\n",
    "    color: str"
   ]
  },
  {
   "cell_type": "code",
   "execution_count": 8,
   "id": "4065dced-3e7e-43d3-8518-b31df1e74383",
   "metadata": {
    "tags": []
   },
   "outputs": [],
   "source": [
    "from docarray.index import WeaviateDocumentIndex\n",
    "\n",
    "\n",
    "# initialize the index\n",
    "dbconfig = WeaviateDocumentIndex.DBConfig(\n",
    "    host=\"http://localhost:8080\"\n",
    ")\n",
    "db = WeaviateDocumentIndex[WeaviateDoc](db_config=dbconfig)\n",
    "\n",
    "# index data\n",
    "db.index(\n",
    "    [\n",
    "        MyDoc(\n",
    "            title=f'My document {i}',\n",
    "            title_embedding=embeddings.embed_query(f'query {i}'),\n",
    "            year=i,\n",
    "            color=random.choice(['red', 'green', 'blue']),\n",
    "        )\n",
    "        for i in range(100)\n",
    "    ]\n",
    ")\n",
    "# optionally, you can create a filter query\n",
    "filter_query = {\"path\": [\"year\"], \"operator\": \"LessThanEqual\", \"valueInt\": \"90\"}"
   ]
  },
  {
   "cell_type": "code",
   "execution_count": 9,
   "id": "4e21d124-0f3c-445b-b9fc-dc7c8d6b3d2b",
   "metadata": {
    "tags": []
   },
   "outputs": [
    {
     "name": "stdout",
     "output_type": "stream",
     "text": [
      "[Document(page_content='My document 43', metadata={'id': '6c6a94aef580bb862426c703d7293219', 'year': 43, 'color': 'green'})]\n"
     ]
    }
   ],
   "source": [
    "# create a retriever\n",
    "retriever = DocArrayRetriever(\n",
    "    index=db, \n",
    "    embeddings=embeddings, \n",
    "    search_field='title_embedding', \n",
    "    content_field='title',\n",
    "    filters=filter_query,\n",
    ")\n",
    "\n",
    "# find the relevant document\n",
    "doc = retriever.get_relevant_documents('some query')\n",
    "print(doc)"
   ]
  },
  {
   "cell_type": "markdown",
   "id": "6ee8f920-9297-4b0a-a353-053a86947d10",
   "metadata": {},
   "source": [
    "## ElasticDocIndex\n",
    "\n",
    "ElasticDocIndex is a document index that is built upon [ElasticSearch](https://github.com/elastic/elasticsearch)\n",
    "\n",
    "Learn more here: https://docs.docarray.org/user_guide/storing/index_elastic/"
   ]
  },
  {
   "cell_type": "code",
   "execution_count": 10,
   "id": "92980ead-e4dc-4eef-8618-1c0583f76d7a",
   "metadata": {
    "tags": []
   },
   "outputs": [],
   "source": [
    "from docarray.index import ElasticDocIndex\n",
    "\n",
    "\n",
    "# initialize the index\n",
    "db = ElasticDocIndex[MyDoc](\n",
    "    hosts=\"http://localhost:9200\", \n",
    "    index_name=\"docarray_retriever\"\n",
    ")\n",
    "\n",
    "# index data\n",
    "db.index(\n",
    "    [\n",
    "        MyDoc(\n",
    "            title=f'My document {i}',\n",
    "            title_embedding=embeddings.embed_query(f'query {i}'),\n",
    "            year=i,\n",
    "            color=random.choice(['red', 'green', 'blue']),\n",
    "        )\n",
    "        for i in range(100)\n",
    "    ]\n",
    ")\n",
    "# optionally, you can create a filter query\n",
    "filter_query = {\"range\": {\"year\": {\"lte\": 90}}}"
   ]
  },
  {
   "cell_type": "code",
   "execution_count": 11,
   "id": "8a8e97f3-c3a1-4c7f-b776-363c5e7dd69d",
   "metadata": {
    "tags": []
   },
   "outputs": [
    {
     "name": "stdout",
     "output_type": "stream",
     "text": [
      "[Document(page_content='My document 56', metadata={'id': '87df6ea12aa3d09ebd2a1a42ac6b4947', 'year': 56, 'color': 'blue'})]\n"
     ]
    }
   ],
   "source": [
    "# create a retriever\n",
    "retriever = DocArrayRetriever(\n",
    "    index=db, \n",
    "    embeddings=embeddings, \n",
    "    search_field='title_embedding', \n",
    "    content_field='title',\n",
    "    filters=filter_query,\n",
    ")\n",
    "\n",
    "# find the relevant document\n",
    "doc = retriever.get_relevant_documents('some query')\n",
    "print(doc)"
   ]
  },
  {
   "cell_type": "markdown",
   "id": "281432f8-87a5-4f22-a582-9d5dac33d158",
   "metadata": {},
   "source": [
    "## QdrantDocumentIndex\n",
    "\n",
    "QdrantDocumentIndex is a document index that is build upon [Qdrant](https://qdrant.tech/) vector database\n",
    "\n",
    "Learn more here: https://docs.docarray.org/user_guide/storing/index_qdrant/"
   ]
  },
  {
   "cell_type": "code",
   "execution_count": 12,
   "id": "b6fd91d0-630a-4974-bdf1-6dfa4d1a68f5",
   "metadata": {
    "tags": []
   },
   "outputs": [
    {
     "name": "stderr",
     "output_type": "stream",
     "text": [
      "WARNING:root:Payload indexes have no effect in the local Qdrant. Please use server Qdrant if you need payload indexes.\n"
     ]
    }
   ],
   "source": [
    "from docarray.index import QdrantDocumentIndex\n",
    "from qdrant_client.http import models as rest\n",
    "\n",
    "\n",
    "# initialize the index\n",
    "qdrant_config = QdrantDocumentIndex.DBConfig(path=\":memory:\")\n",
    "db = QdrantDocumentIndex[MyDoc](qdrant_config)\n",
    "\n",
    "# index data\n",
    "db.index(\n",
    "    [\n",
    "        MyDoc(\n",
    "            title=f'My document {i}',\n",
    "            title_embedding=embeddings.embed_query(f'query {i}'),\n",
    "            year=i,\n",
    "            color=random.choice(['red', 'green', 'blue']),\n",
    "        )\n",
    "        for i in range(100)\n",
    "    ]\n",
    ")\n",
    "# optionally, you can create a filter query\n",
    "filter_query = rest.Filter(\n",
    "    must=[\n",
    "        rest.FieldCondition(\n",
    "            key=\"year\",\n",
    "            range=rest.Range(\n",
    "                gte=10,\n",
    "                lt=90,\n",
    "            ),\n",
    "        )\n",
    "    ]\n",
    ")"
   ]
  },
  {
   "cell_type": "code",
   "execution_count": 13,
   "id": "a6dd6460-7175-48ee-8cfb-9a0abf35ec13",
   "metadata": {
    "tags": []
   },
   "outputs": [
    {
     "name": "stdout",
     "output_type": "stream",
     "text": [
      "[Document(page_content='My document 50', metadata={'id': 'f63f8581ba4107d998afcc0f47ed776b', 'year': 50, 'color': 'red'})]\n"
     ]
    }
   ],
   "source": [
    "# create a retriever\n",
    "retriever = DocArrayRetriever(\n",
    "    index=db, \n",
    "    embeddings=embeddings, \n",
    "    search_field='title_embedding', \n",
    "    content_field='title',\n",
    "    filters=filter_query,\n",
    ")\n",
    "\n",
    "# find the relevant document\n",
    "doc = retriever.get_relevant_documents('some query')\n",
    "print(doc)"
   ]
  },
  {
   "cell_type": "code",
   "execution_count": null,
   "id": "45dce183-7911-4326-bfb1-0b3a436f67f8",
   "metadata": {},
   "outputs": [],
   "source": []
  }
 ],
 "metadata": {
  "kernelspec": {
   "display_name": "Python 3 (ipykernel)",
   "language": "python",
   "name": "python3"
  },
  "language_info": {
   "codemirror_mode": {
    "name": "ipython",
    "version": 3
   },
   "file_extension": ".py",
   "mimetype": "text/x-python",
   "name": "python",
   "nbconvert_exporter": "python",
   "pygments_lexer": "ipython3",
   "version": "3.9.16"
  }
 },
 "nbformat": 4,
 "nbformat_minor": 5
}
