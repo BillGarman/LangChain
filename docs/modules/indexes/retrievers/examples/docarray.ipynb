{
 "cells": [
  {
   "cell_type": "code",
   "execution_count": 30,
   "id": "973d2db7-0e5d-4d2b-b437-55d02e31ebe0",
   "metadata": {
    "tags": []
   },
   "outputs": [],
   "source": [
    "from langchain.retrievers import DocArrayRetriever\n",
    "from docarray import BaseDoc\n",
    "from docarray.index import HnswDocumentIndex\n",
    "from docarray.typing import NdArray\n",
    "import numpy as np\n",
    "from langchain.embeddings import FakeEmbeddings\n"
   ]
  },
  {
   "cell_type": "code",
   "execution_count": 31,
   "id": "afb24cb0-6de5-46c8-a206-94c8cb2c6a71",
   "metadata": {
    "tags": []
   },
   "outputs": [],
   "source": [
    "embeddings = FakeEmbeddings(size=768)\n",
    "\n",
    "class MyDoc(BaseDoc):\n",
    "    title: str\n",
    "    title_embedding: NdArray[768]\n",
    "    other_emb: NdArray[768]\n",
    "    some_int: int\n",
    "\n",
    "# initialize docarray index (in this case hnsw, but will work for any backend)\n",
    "db = HnswDocumentIndex[MyDoc](work_dir='workdir')\n",
    "# index data\n",
    "db.index(\n",
    "    [\n",
    "        MyDoc(\n",
    "            title=f\"My document {i}\",\n",
    "            title_embedding=embeddings.embed_query('zd'),\n",
    "            other_emb=embeddings.embed_query('all'),\n",
    "            some_int=i,\n",
    "        )\n",
    "        for i in range(100)\n",
    "    ]\n",
    ")"
   ]
  },
  {
   "cell_type": "code",
   "execution_count": 32,
   "id": "f98b08b1-e9ba-4b97-88b4-f6e69e410573",
   "metadata": {
    "tags": []
   },
   "outputs": [],
   "source": [
    "retriever = DocArrayRetriever(index=db, embeddings=embeddings, search_field='title_embedding', content_field='title')\n"
   ]
  },
  {
   "cell_type": "code",
   "execution_count": 33,
   "id": "b9c075f7-b56b-4f5b-9426-71e130ede184",
   "metadata": {
    "tags": []
   },
   "outputs": [],
   "source": [
    "doc = retriever.get_relevant_documents('s2')"
   ]
  },
  {
   "cell_type": "code",
   "execution_count": 34,
   "id": "461d3785-bb75-4f8d-a0d5-deedaa1ea04a",
   "metadata": {
    "tags": []
   },
   "outputs": [
    {
     "data": {
      "text/plain": [
       "[Document(page_content='My document 33', metadata={'id': 'a2757924e639bc8b7dd4d4928ee4d9dc', 'some_int': 33})]"
      ]
     },
     "execution_count": 34,
     "metadata": {},
     "output_type": "execute_result"
    }
   ],
   "source": [
    "doc"
   ]
  },
  {
   "cell_type": "code",
   "execution_count": null,
   "id": "82df8309-735b-41b2-98f9-467d0af434e0",
   "metadata": {},
   "outputs": [],
   "source": []
  }
 ],
 "metadata": {
  "kernelspec": {
   "display_name": "Python 3 (ipykernel)",
   "language": "python",
   "name": "python3"
  },
  "language_info": {
   "codemirror_mode": {
    "name": "ipython",
    "version": 3
   },
   "file_extension": ".py",
   "mimetype": "text/x-python",
   "name": "python",
   "nbconvert_exporter": "python",
   "pygments_lexer": "ipython3",
   "version": "3.9.16"
  }
 },
 "nbformat": 4,
 "nbformat_minor": 5
}
