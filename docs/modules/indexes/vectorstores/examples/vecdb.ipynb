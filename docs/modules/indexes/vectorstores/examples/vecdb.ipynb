{
 "cells": [
  {
   "attachments": {},
   "cell_type": "markdown",
   "id": "683953b3",
   "metadata": {},
   "source": [
    "# VecDB\n",
    "\n",
    ">Exploring [VecDB](https://github.com/RelevanceAI/vecdb): A Vector Database for Efficient Storage and Retrieval in Large Language Models.\n",
    "\n",
    "This notebook demonstrates how to utilize features associated with the `VecDB` vector database."
   ]
  },
  {
   "cell_type": "code",
   "execution_count": null,
   "id": "0825fa4a-d950-4e78-8bba-20cfcc347765",
   "metadata": {
    "tags": []
   },
   "outputs": [],
   "source": [
    "!pip install vecdb"
   ]
  },
  {
   "cell_type": "code",
   "execution_count": 6,
   "id": "42080f37-8fd1-4cec-acd9-15d2b03b2f4d",
   "metadata": {
    "tags": []
   },
   "outputs": [],
   "source": [
    "from getpass import getpass\n",
    "\n",
    "VECDB_API_KEY = getpass('VecDB API Key:')"
   ]
  },
  {
   "cell_type": "code",
   "execution_count": 7,
   "id": "aac9563e",
   "metadata": {
    "tags": []
   },
   "outputs": [],
   "source": [
    "from langchain.vectorstores import VecDB"
   ]
  },
  {
   "cell_type": "code",
   "execution_count": 8,
   "id": "a3c3999a",
   "metadata": {
    "tags": []
   },
   "outputs": [],
   "source": [
    "with open(\"../../../../../statement.txt\", encoding=\"utf-8\") as f:\n",
    "    state_of_the_union = f.read()\n",
    "\n",
    "texts = [t for t in state_of_the_union.split(\"\\n\") if t]"
   ]
  },
  {
   "cell_type": "code",
   "execution_count": 1,
   "id": "f64943c9",
   "metadata": {},
   "outputs": [
    {
     "data": {
      "text/plain": [
       "['The United States Capitol',\n",
       " 'Mr. Speaker. Madam Vice President. Our First Lady and Second Gentleman.',\n",
       " 'Members of Congress and the Cabinet. Leaders of our military.',\n",
       " 'Mr. Chief Justice, Associate Justices, and retired Justices of the Supreme Court.',\n",
       " 'And you, my fellow Americans.',\n",
       " 'I start tonight by congratulating the members of the 118th Congress and the new Speaker of the House, Kevin McCarthy.',\n",
       " 'Mr. Speaker, I look forward to working together.',\n",
       " 'I also want to congratulate the new leader of the House Democrats and the first Black House Minority Leader in history, Hakeem Jeffries.',\n",
       " 'Congratulations to the longest serving Senate Leader in history, Mitch McConnell.',\n",
       " 'And congratulations to Chuck Schumer for another term as Senate Majority Leader, this time with an even bigger majority.']"
      ]
     },
     "execution_count": 1,
     "metadata": {},
     "output_type": "execute_result"
    }
   ],
   "source": [
    "texts"
   ]
  },
  {
   "cell_type": "code",
   "execution_count": 10,
   "id": "2948cddb",
   "metadata": {},
   "outputs": [],
   "source": [
    "import vecdb \n",
    "\n",
    "# initialize vecdb\n",
    "vecdb.init(\n",
    "    api_key=VECDB_API_KEY,  # find at https://cloud.relevance.ai/sdk/api/\n",
    ")"
   ]
  },
  {
   "cell_type": "code",
   "execution_count": 11,
   "id": "5eabdb75",
   "metadata": {
    "tags": []
   },
   "outputs": [
    {
     "name": "stdout",
     "output_type": "stream",
     "text": [
      "Welcome to VecDB, RelevanceAI's Vector Database.\n",
      "Logged in as 276e21e4e3f0-40a8-a4c9-c0f5977ae28f.\n"
     ]
    }
   ],
   "source": [
    "dataset_id = \"statements\"\n",
    "docsearch = VecDB.from_texts(dataset_id, texts[:50])  # small docs to reduce time\n",
    "\n",
    "query = \"What happened in 2020?\"\n",
    "docs = docsearch.similarity_search(query)"
   ]
  },
  {
   "cell_type": "code",
   "execution_count": 13,
   "id": "4b172de8",
   "metadata": {},
   "outputs": [
    {
     "data": {
      "text/plain": [
       "{'documents': [   {   '_id': '1d49d9e5-9453-41ec-bec2-8391dbf9c5cd',\n",
       "         'insert_date_': '2023-05-04T00:17:03.215Z',\n",
       "         'text': 'Two years ago, COVID '\n",
       "                 'had shut down our '\n",
       "                 'businesses, closed '\n",
       "                 'our schools, and '\n",
       "                 'robbed us of so '\n",
       "                 'much.'},\n",
       "     {   '_id': '41185046-c49c-413b-b69d-bfc16a31d55b',\n",
       "         'insert_date_': '2023-05-04T00:17:03.215Z',\n",
       "         'text': 'Two years ago, our '\n",
       "                 'economy was reeling.'},\n",
       "     {   '_id': '6c1fa1af-bcf2-4575-b0cb-6bf52fb568c7',\n",
       "         'insert_date_': '2023-05-04T00:17:03.215Z',\n",
       "         'text': 'Came together to pass '\n",
       "                 'a '\n",
       "                 'once-in-a-generation '\n",
       "                 'infrastructure law, '\n",
       "                 'building bridges to '\n",
       "                 'connect our nation '\n",
       "                 'and people.'},\n",
       "     {   '_id': 'de31c07b-1546-407f-940a-c0d664622da1',\n",
       "         'insert_date_': '2023-05-04T00:17:03.215Z',\n",
       "         'text': 'And two years ago, '\n",
       "                 'our democracy faced '\n",
       "                 'its greatest threat '\n",
       "                 'since the Civil War.'}],\n",
       " 'count': 50,\n",
       " 'after_id': [0.38199103, 'de31c07b-1546-407f-940a-c0d664622da1']}"
      ]
     },
     "execution_count": 13,
     "metadata": {},
     "output_type": "execute_result"
    }
   ],
   "source": [
    "docs"
   ]
  }
 ],
 "metadata": {
  "kernelspec": {
   "display_name": "Python 3 (ipykernel)",
   "language": "python",
   "name": "python3"
  },
  "language_info": {
   "codemirror_mode": {
    "name": "ipython",
    "version": 3
   },
   "file_extension": ".py",
   "mimetype": "text/x-python",
   "name": "python",
   "nbconvert_exporter": "python",
   "pygments_lexer": "ipython3",
   "version": "3.9.12"
  }
 },
 "nbformat": 4,
 "nbformat_minor": 5
}
