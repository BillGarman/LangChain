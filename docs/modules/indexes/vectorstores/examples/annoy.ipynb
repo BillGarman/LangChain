{
 "cells": [
  {
   "attachments": {},
   "cell_type": "markdown",
   "id": "683953b3",
   "metadata": {},
   "source": [
    "# Annoy\n",
    "\n",
    "This notebook shows how to use functionality related to the Annoy vector database.\n",
    "\n",
    "> \"Annoy (Approximate Nearest Neighbors Oh Yeah) is a C++ library with Python bindings to search for points in space that are close to a given query point. It also creates large read-only file-based data structures that are mmapped into memory so that many processes may share the same data.\"\n",
    "\n",
    "via https://github.com/spotify/annoy\n"
   ]
  },
  {
   "attachments": {},
   "cell_type": "markdown",
   "id": "81669dc3",
   "metadata": {},
   "source": [
    "```{note}\n",
    "Annoy is read-only - once the index is built you cannot add any more emebddings!\n",
    "If you want to progressively add to your VectorStore then better choose an alternative!\n",
    "```"
   ]
  },
  {
   "cell_type": "markdown",
   "id": "6613d222",
   "metadata": {},
   "source": [
    "## Quickstart"
   ]
  },
  {
   "cell_type": "code",
   "execution_count": 1,
   "id": "dc7351b5",
   "metadata": {},
   "outputs": [],
   "source": [
    "from langchain.embeddings import HuggingFaceEmbeddings\n",
    "from langchain.vectorstores import Annoy\n",
    "\n",
    "embeddings_func = HuggingFaceEmbeddings()"
   ]
  },
  {
   "cell_type": "code",
   "execution_count": 2,
   "id": "d2cb5f7d",
   "metadata": {},
   "outputs": [],
   "source": [
    "texts = [\"pizza is great\", \"I love salad\", \"my car\", \"a dog\"]\n",
    "\n",
    "vector_store = Annoy.from_texts(texts, embeddings_func)"
   ]
  },
  {
   "cell_type": "code",
   "execution_count": 3,
   "id": "8ada534a",
   "metadata": {},
   "outputs": [
    {
     "data": {
      "text/plain": [
       "[Document(page_content='pizza is great', metadata={}),\n",
       " Document(page_content='I love salad', metadata={}),\n",
       " Document(page_content='my car', metadata={})]"
      ]
     },
     "execution_count": 3,
     "metadata": {},
     "output_type": "execute_result"
    }
   ],
   "source": [
    "vector_store.similarity_search(\"food\", k=3)"
   ]
  },
  {
   "cell_type": "code",
   "execution_count": 4,
   "id": "0470c5c8",
   "metadata": {},
   "outputs": [
    {
     "data": {
      "text/plain": [
       "[(Document(page_content='pizza is great', metadata={}), 1.0944390296936035),\n",
       " (Document(page_content='I love salad', metadata={}), 1.1273186206817627),\n",
       " (Document(page_content='my car', metadata={}), 1.1580758094787598)]"
      ]
     },
     "execution_count": 4,
     "metadata": {},
     "output_type": "execute_result"
    }
   ],
   "source": [
    "# the score is a distance metric, so lower is better\n",
    "vector_store.similarity_search_with_score(\"food\", k=3)"
   ]
  },
  {
   "attachments": {},
   "cell_type": "markdown",
   "id": "341390c2",
   "metadata": {},
   "source": [
    "## Search via embeddings"
   ]
  },
  {
   "cell_type": "code",
   "execution_count": 5,
   "id": "b9bce06d",
   "metadata": {},
   "outputs": [],
   "source": [
    "motorbike_emb = embeddings_func.embed_query(\"motorbike\")"
   ]
  },
  {
   "cell_type": "code",
   "execution_count": 6,
   "id": "af2552c9",
   "metadata": {},
   "outputs": [
    {
     "data": {
      "text/plain": [
       "[Document(page_content='my car', metadata={}),\n",
       " Document(page_content='a dog', metadata={}),\n",
       " Document(page_content='pizza is great', metadata={})]"
      ]
     },
     "execution_count": 6,
     "metadata": {},
     "output_type": "execute_result"
    }
   ],
   "source": [
    "vector_store.similarity_search_by_vector(motorbike_emb, k=3)"
   ]
  },
  {
   "cell_type": "code",
   "execution_count": 7,
   "id": "c7a1a924",
   "metadata": {},
   "outputs": [
    {
     "data": {
      "text/plain": [
       "[(Document(page_content='my car', metadata={}), 1.0870471000671387),\n",
       " (Document(page_content='a dog', metadata={}), 1.2095637321472168),\n",
       " (Document(page_content='pizza is great', metadata={}), 1.3254905939102173)]"
      ]
     },
     "execution_count": 7,
     "metadata": {},
     "output_type": "execute_result"
    }
   ],
   "source": [
    "vector_store.similarity_search_with_score_by_vector(motorbike_emb, k=3)"
   ]
  },
  {
   "cell_type": "markdown",
   "id": "4b77be77",
   "metadata": {},
   "source": [
    "## Search via docstore id"
   ]
  },
  {
   "cell_type": "code",
   "execution_count": 8,
   "id": "bbd971f0",
   "metadata": {},
   "outputs": [
    {
     "data": {
      "text/plain": [
       "{0: '21109f80-38d0-4944-9b3e-9fe17fba87ba',\n",
       " 1: '67d9de18-a93d-46a5-af11-00c05922f9a5',\n",
       " 2: '17effa8f-0603-4a5e-9572-f3570e5eff67',\n",
       " 3: 'fb25ef58-0226-423b-8267-ba925258768f'}"
      ]
     },
     "execution_count": 8,
     "metadata": {},
     "output_type": "execute_result"
    }
   ],
   "source": [
    "vector_store.index_to_docstore_id"
   ]
  },
  {
   "cell_type": "code",
   "execution_count": 9,
   "id": "6dbf3365",
   "metadata": {},
   "outputs": [
    {
     "data": {
      "text/plain": [
       "Document(page_content='pizza is great', metadata={})"
      ]
     },
     "execution_count": 9,
     "metadata": {},
     "output_type": "execute_result"
    }
   ],
   "source": [
    "some_docstore_id = 0 # texts[0]\n",
    "\n",
    "vector_store.docstore._dict[vector_store.index_to_docstore_id[some_docstore_id]]"
   ]
  },
  {
   "cell_type": "code",
   "execution_count": 10,
   "id": "98b27172",
   "metadata": {},
   "outputs": [
    {
     "data": {
      "text/plain": [
       "[(Document(page_content='pizza is great', metadata={}), 0.0),\n",
       " (Document(page_content='I love salad', metadata={}), 1.0734446048736572),\n",
       " (Document(page_content='my car', metadata={}), 1.2895267009735107)]"
      ]
     },
     "execution_count": 10,
     "metadata": {},
     "output_type": "execute_result"
    }
   ],
   "source": [
    "# same document has distance 0\n",
    "vector_store.similarity_search_with_score_by_index(some_docstore_id, k=3)"
   ]
  },
  {
   "cell_type": "markdown",
   "id": "6f570f69",
   "metadata": {},
   "source": [
    "## save and load"
   ]
  },
  {
   "cell_type": "code",
   "execution_count": 11,
   "id": "ef91cc69",
   "metadata": {},
   "outputs": [],
   "source": [
    "vector_store.save_local(\"my_annoy_index_and_docstore\")"
   ]
  },
  {
   "cell_type": "code",
   "execution_count": 12,
   "id": "7a9d2fce",
   "metadata": {},
   "outputs": [],
   "source": [
    "loaded_vector_store = Annoy.load_local(\"my_annoy_index_and_docstore\", embeddings=embeddings_func)"
   ]
  },
  {
   "cell_type": "code",
   "execution_count": 13,
   "id": "bba77cae",
   "metadata": {},
   "outputs": [
    {
     "data": {
      "text/plain": [
       "[(Document(page_content='pizza is great', metadata={}), 0.0),\n",
       " (Document(page_content='I love salad', metadata={}), 1.0734446048736572),\n",
       " (Document(page_content='my car', metadata={}), 1.2895267009735107)]"
      ]
     },
     "execution_count": 13,
     "metadata": {},
     "output_type": "execute_result"
    }
   ],
   "source": [
    "# same document has distance 0\n",
    "loaded_vector_store.similarity_search_with_score_by_index(some_docstore_id, k=3)"
   ]
  },
  {
   "attachments": {},
   "cell_type": "markdown",
   "id": "df4beb83",
   "metadata": {},
   "source": [
    "## Construct from scratch"
   ]
  },
  {
   "cell_type": "code",
   "execution_count": 14,
   "id": "26fcf742",
   "metadata": {},
   "outputs": [],
   "source": [
    "import uuid\n",
    "from annoy import AnnoyIndex\n",
    "from langchain.docstore.document import Document\n",
    "from langchain.docstore.in_memory import InMemoryDocstore\n",
    "\n",
    "metadatas = [{\"x\": \"food\"}, {\"x\": \"food\"}, {\"x\": \"stuff\"}, {\"x\": \"animal\"}]\n",
    "\n",
    "# embeddings\n",
    "embeddings = embeddings_func.embed_documents(texts)\n",
    "\n",
    "# embedding dim\n",
    "f = len(embeddings[0])\n",
    "\n",
    "# index\n",
    "index = AnnoyIndex(f, metric=\"angular\")\n",
    "for i, emb in enumerate(embeddings):\n",
    "    index.add_item(i, emb)\n",
    "index.build(10)\n",
    "\n",
    "# docstore\n",
    "documents = []\n",
    "for i, text in enumerate(texts):\n",
    "    metadata = metadatas[i] if metadatas else {}\n",
    "    documents.append(Document(page_content=text, metadata=metadata))\n",
    "index_to_docstore_id = {i: str(uuid.uuid4()) for i in range(len(documents))}\n",
    "docstore = InMemoryDocstore(\n",
    "    {index_to_docstore_id[i]: doc for i, doc in enumerate(documents)}\n",
    ")\n",
    "\n",
    "db_manually = Annoy(embeddings_func.embed_query, index, docstore, index_to_docstore_id)"
   ]
  },
  {
   "cell_type": "code",
   "execution_count": 17,
   "id": "2b3f6f5c",
   "metadata": {},
   "outputs": [
    {
     "data": {
      "text/plain": [
       "[(Document(page_content='pizza is great', metadata={'x': 'food'}),\n",
       "  1.1314140558242798),\n",
       " (Document(page_content='I love salad', metadata={'x': 'food'}),\n",
       "  1.1668788194656372),\n",
       " (Document(page_content='my car', metadata={'x': 'stuff'}), 1.226445198059082)]"
      ]
     },
     "execution_count": 17,
     "metadata": {},
     "output_type": "execute_result"
    }
   ],
   "source": [
    "db_manually.similarity_search_with_score(\"eating!\", k=3)"
   ]
  }
 ],
 "metadata": {
  "kernelspec": {
   "display_name": "Python 3 (ipykernel)",
   "language": "python",
   "name": "python3"
  },
  "language_info": {
   "codemirror_mode": {
    "name": "ipython",
    "version": 3
   },
   "file_extension": ".py",
   "mimetype": "text/x-python",
   "name": "python",
   "nbconvert_exporter": "python",
   "pygments_lexer": "ipython3",
   "version": "3.9.16"
  }
 },
 "nbformat": 4,
 "nbformat_minor": 5
}
