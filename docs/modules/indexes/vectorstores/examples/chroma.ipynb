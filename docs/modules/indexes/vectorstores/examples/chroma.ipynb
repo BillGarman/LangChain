{
 "cells": [
  {
   "cell_type": "markdown",
   "id": "683953b3",
   "metadata": {},
   "source": [
    "# Chroma\n",
    "\n",
    "This notebook shows how to use functionality related to the Chroma vector database."
   ]
  },
  {
   "cell_type": "code",
   "execution_count": 1,
   "id": "51c38cad",
   "metadata": {
    "ExecuteTime": {
     "end_time": "2023-04-14T09:31:41.777361Z",
     "start_time": "2023-04-14T09:31:41.729381Z"
    },
    "pycharm": {
     "is_executing": true
    }
   },
   "outputs": [],
   "source": [
    "from langchain.embeddings.openai import OpenAIEmbeddings\n",
    "from langchain.text_splitter import CharacterTextSplitter\n",
    "from langchain.vectorstores import Chroma"
   ]
  },
  {
   "cell_type": "code",
   "execution_count": 2,
   "id": "a3c3999a",
   "metadata": {
    "ExecuteTime": {
     "end_time": "2023-04-14T09:31:41.786362Z",
     "start_time": "2023-04-14T09:31:41.737375Z"
    },
    "pycharm": {
     "is_executing": true
    }
   },
   "outputs": [],
   "source": [
    "from langchain.document_loaders import TextLoader\n",
    "import os\n",
    "\n",
    "# Load the text file and split it into chunks\n",
    "# Set the file path and encoding for the text file\n",
    "loader = TextLoader(file_path='../../../state_of_the_union.txt', encoding=\"utf-8\")\n",
    "\n",
    "# Load the text file into a list of documents\n",
    "documents = loader.load()\n",
    "\n",
    "# Create a CharacterTextSplitter to split the text into chunks\n",
    "text_splitter = CharacterTextSplitter(chunk_size=1000, chunk_overlap=0)\n",
    "\n",
    "# Split the documents into chunks\n",
    "docs = text_splitter.split_documents(documents)\n",
    "\n",
    "# Check that the OPENAI_API_KEY environment variable is set\n",
    "if os.environ.get('OPENAI_API_KEY') is None:\n",
    "    # Raise an error if the variable is not set\n",
    "    raise ValueError(\"Please set OPENAI_API_KEY environment variable\")\n",
    "\n",
    "# Create an instance of OpenAIEmbeddings\n",
    "embeddings = OpenAIEmbeddings()\n"
   ]
  },
  {
   "cell_type": "code",
   "execution_count": 3,
   "id": "5eabdb75",
   "metadata": {
    "ExecuteTime": {
     "end_time": "2023-04-14T09:31:43.415474Z",
     "start_time": "2023-04-14T09:31:41.745368Z"
    },
    "pycharm": {
     "is_executing": true
    }
   },
   "outputs": [
    {
     "name": "stderr",
     "output_type": "stream",
     "text": [
      "Using embedded DuckDB without persistence: data will be transient\n"
     ]
    }
   ],
   "source": [
    "# Create a Chroma object from the docs and embeddings\n",
    "db = Chroma.from_documents(docs, embeddings)\n",
    "\n",
    "# Set the search query\n",
    "query = \"What did the president say about Ketanji Brown Jackson\"\n",
    "# Search for documents that are similar to the query\n",
    "docs = db.similarity_search(query)"
   ]
  },
  {
   "cell_type": "code",
   "execution_count": 4,
   "id": "4b172de8",
   "metadata": {
    "ExecuteTime": {
     "end_time": "2023-04-14T09:31:43.425478Z",
     "start_time": "2023-04-14T09:31:43.420475Z"
    },
    "pycharm": {
     "is_executing": true
    }
   },
   "outputs": [
    {
     "name": "stdout",
     "output_type": "stream",
     "text": [
      "Tonight. I call on the Senate to: Pass the Freedom to Vote Act. Pass the John Lewis Voting Rights Act. And while you’re at it, pass the Disclose Act so Americans can know who is funding our elections. \n",
      "\n",
      "Tonight, I’d like to honor someone who has dedicated his life to serve this country: Justice Stephen Breyer—an Army veteran, Constitutional scholar, and retiring Justice of the United States Supreme Court. Justice Breyer, thank you for your service. \n",
      "\n",
      "One of the most serious constitutional responsibilities a President has is nominating someone to serve on the United States Supreme Court. \n",
      "\n",
      "And I did that 4 days ago, when I nominated Circuit Court of Appeals Judge Ketanji Brown Jackson. One of our nation’s top legal minds, who will continue Justice Breyer’s legacy of excellence.\n"
     ]
    }
   ],
   "source": [
    "print(docs[0].page_content)"
   ]
  },
  {
   "cell_type": "markdown",
   "id": "18152965",
   "metadata": {},
   "source": [
    "## Similarity search with score"
   ]
  },
  {
   "cell_type": "code",
   "execution_count": 5,
   "id": "72aaa9c8",
   "metadata": {
    "ExecuteTime": {
     "end_time": "2023-04-14T09:32:28.591086Z",
     "start_time": "2023-04-14T09:32:28.279501Z"
    },
    "pycharm": {
     "is_executing": true
    }
   },
   "outputs": [],
   "source": [
    "# Similarity search with score returns the score along with the document\n",
    "output = db.similarity_search_with_score(query)"
   ]
  },
  {
   "cell_type": "code",
   "execution_count": 6,
   "id": "d88e958e",
   "metadata": {
    "ExecuteTime": {
     "end_time": "2023-04-14T09:31:43.692228Z",
     "start_time": "2023-04-14T09:31:43.682229Z"
    },
    "pycharm": {
     "is_executing": true
    }
   },
   "outputs": [
    {
     "data": {
      "text/plain": [
       "(Document(page_content='Tonight. I call on the Senate to: Pass the Freedom to Vote Act. Pass the John Lewis Voting Rights Act. And while you’re at it, pass the Disclose Act so Americans can know who is funding our elections. \\n\\nTonight, I’d like to honor someone who has dedicated his life to serve this country: Justice Stephen Breyer—an Army veteran, Constitutional scholar, and retiring Justice of the United States Supreme Court. Justice Breyer, thank you for your service. \\n\\nOne of the most serious constitutional responsibilities a President has is nominating someone to serve on the United States Supreme Court. \\n\\nAnd I did that 4 days ago, when I nominated Circuit Court of Appeals Judge Ketanji Brown Jackson. One of our nation’s top legal minds, who will continue Justice Breyer’s legacy of excellence.', metadata={'source': '../../../state_of_the_union.txt'}),\n",
       " 0.3949804902076721)"
      ]
     },
     "execution_count": 6,
     "metadata": {},
     "output_type": "execute_result"
    }
   ],
   "source": [
    "output[0]"
   ]
  },
  {
   "cell_type": "markdown",
   "id": "8061454b",
   "metadata": {},
   "source": [
    "## Persistence\n",
    "\n",
    "The below steps cover how to persist a ChromaDB instance"
   ]
  },
  {
   "cell_type": "markdown",
   "id": "2b76db26",
   "metadata": {},
   "source": [
    "### Initialize Persistent ChromaDB\n",
    "Create embeddings for each chunk and insert into the Chroma vector database. The persist_directory argument tells ChromaDB where to store the database when it's persisted.\n",
    "\n"
   ]
  },
  {
   "cell_type": "code",
   "execution_count": 7,
   "id": "cdb86e0d",
   "metadata": {
    "ExecuteTime": {
     "end_time": "2023-04-14T09:31:44.444686Z",
     "start_time": "2023-04-14T09:31:43.698228Z"
    },
    "pycharm": {
     "is_executing": true
    }
   },
   "outputs": [
    {
     "name": "stderr",
     "output_type": "stream",
     "text": [
      "Using embedded DuckDB with persistence: data will be stored in: C:\\Users\\ADMINI~1\\AppData\\Local\\Temp\\2\\db\n"
     ]
    },
    {
     "name": "stdout",
     "output_type": "stream",
     "text": [
      "Persist directory:  C:\\Users\\ADMINI~1\\AppData\\Local\\Temp\\2\\db\n"
     ]
    }
   ],
   "source": [
    "import os\n",
    "import tempfile\n",
    "\n",
    "# Set up a persist_directory to store the embeddings on disk in a temporary directory\n",
    "persist_directory = os.path.join(tempfile.gettempdir(), \"db\")\n",
    "if not os.path.exists(persist_directory):\n",
    "    os.makedirs(persist_directory)\n",
    "\n",
    "# Print the directory where embeddings will be stored\n",
    "print(\"Persist directory: \", persist_directory)\n",
    "\n",
    "# Create an instance of OpenAIEmbeddings and use it to create a Chroma vector database\n",
    "embedding = OpenAIEmbeddings()\n",
    "vectordb = Chroma.from_documents(documents=docs, embedding=embedding, persist_directory=persist_directory)"
   ]
  },
  {
   "cell_type": "markdown",
   "id": "f568a322",
   "metadata": {},
   "source": [
    "### Persist the Database\n",
    "We should call persist() to ensure the embeddings are written to disk."
   ]
  },
  {
   "cell_type": "code",
   "execution_count": 8,
   "id": "74b08cb4",
   "metadata": {
    "ExecuteTime": {
     "end_time": "2023-04-14T09:31:44.471681Z",
     "start_time": "2023-04-14T09:31:44.449685Z"
    },
    "pycharm": {
     "is_executing": true
    }
   },
   "outputs": [],
   "source": [
    "# Save the database to disk\n",
    "vectordb.persist()\n",
    "\n",
    "# Delete the database object to ensure it is closed\n",
    "del vectordb"
   ]
  },
  {
   "cell_type": "markdown",
   "id": "cc9ed900",
   "metadata": {},
   "source": [
    "### Load the Database from disk, and create the chain\n",
    "Be sure to pass the same persist_directory and embedding_function as you did when you instantiated the database. Initialize the chain we will use for question answering."
   ]
  },
  {
   "cell_type": "code",
   "execution_count": 9,
   "id": "31fecfe9",
   "metadata": {
    "ExecuteTime": {
     "end_time": "2023-04-14T09:31:44.794072Z",
     "start_time": "2023-04-14T09:31:44.473682Z"
    },
    "pycharm": {
     "is_executing": true
    }
   },
   "outputs": [
    {
     "name": "stderr",
     "output_type": "stream",
     "text": [
      "Using embedded DuckDB with persistence: data will be stored in: C:\\Users\\ADMINI~1\\AppData\\Local\\Temp\\2\\db\n"
     ]
    },
    {
     "name": "stdout",
     "output_type": "stream",
     "text": [
      "(Document(page_content='Tonight. I call on the Senate to: Pass the Freedom to Vote Act. Pass the John Lewis Voting Rights Act. And while you’re at it, pass the Disclose Act so Americans can know who is funding our elections. \\n\\nTonight, I’d like to honor someone who has dedicated his life to serve this country: Justice Stephen Breyer—an Army veteran, Constitutional scholar, and retiring Justice of the United States Supreme Court. Justice Breyer, thank you for your service. \\n\\nOne of the most serious constitutional responsibilities a President has is nominating someone to serve on the United States Supreme Court. \\n\\nAnd I did that 4 days ago, when I nominated Circuit Court of Appeals Judge Ketanji Brown Jackson. One of our nation’s top legal minds, who will continue Justice Breyer’s legacy of excellence.', metadata={'source': '../../../state_of_the_union.txt'}), 0.3951101303100586)\n"
     ]
    }
   ],
   "source": [
    "# Load the persisted database from disk\n",
    "vectordb = Chroma(persist_directory=persist_directory, embedding_function=embedding)\n",
    "\n",
    "# Find similar documents to the query, with similarity scores\n",
    "output = db.similarity_search_with_score(query)\n",
    "\n",
    "# Print the top result\n",
    "print(output[0])"
   ]
  },
  {
   "cell_type": "markdown",
   "id": "794a7552",
   "metadata": {},
   "source": [
    "## Retriever options\n",
    "\n",
    "This section goes over different options for how to use Chroma as a retriever.\n",
    "\n",
    "### MMR\n",
    "\n",
    "In addition to using similarity search in the retriever object, you can also use `mmr`."
   ]
  },
  {
   "cell_type": "code",
   "execution_count": 10,
   "id": "96ff911a",
   "metadata": {
    "ExecuteTime": {
     "end_time": "2023-04-14T09:31:44.803081Z",
     "start_time": "2023-04-14T09:31:44.800079Z"
    },
    "pycharm": {
     "is_executing": true
    }
   },
   "outputs": [],
   "source": [
    "retriever = db.as_retriever(search_type=\"mmr\")"
   ]
  },
  {
   "cell_type": "code",
   "execution_count": 11,
   "id": "f00be6d0",
   "metadata": {
    "ExecuteTime": {
     "end_time": "2023-04-14T09:31:45.188001Z",
     "start_time": "2023-04-14T09:31:44.807075Z"
    },
    "pycharm": {
     "is_executing": true
    }
   },
   "outputs": [
    {
     "data": {
      "text/plain": [
       "Document(page_content='Tonight. I call on the Senate to: Pass the Freedom to Vote Act. Pass the John Lewis Voting Rights Act. And while you’re at it, pass the Disclose Act so Americans can know who is funding our elections. \\n\\nTonight, I’d like to honor someone who has dedicated his life to serve this country: Justice Stephen Breyer—an Army veteran, Constitutional scholar, and retiring Justice of the United States Supreme Court. Justice Breyer, thank you for your service. \\n\\nOne of the most serious constitutional responsibilities a President has is nominating someone to serve on the United States Supreme Court. \\n\\nAnd I did that 4 days ago, when I nominated Circuit Court of Appeals Judge Ketanji Brown Jackson. One of our nation’s top legal minds, who will continue Justice Breyer’s legacy of excellence.', metadata={'source': '../../../state_of_the_union.txt'})"
      ]
     },
     "execution_count": 11,
     "metadata": {},
     "output_type": "execute_result"
    }
   ],
   "source": [
    "retriever.get_relevant_documents(query)[0]"
   ]
  }
 ],
 "metadata": {
  "kernelspec": {
   "display_name": "Python 3 (ipykernel)",
   "language": "python",
   "name": "python3"
  },
  "language_info": {
   "codemirror_mode": {
    "name": "ipython",
    "version": 3
   },
   "file_extension": ".py",
   "mimetype": "text/x-python",
   "name": "python",
   "nbconvert_exporter": "python",
   "pygments_lexer": "ipython3",
   "version": "3.10.11"
  }
 },
 "nbformat": 4,
 "nbformat_minor": 5
}
