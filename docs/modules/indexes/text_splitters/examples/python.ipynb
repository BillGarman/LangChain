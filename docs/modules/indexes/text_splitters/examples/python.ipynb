{
 "cells": [
  {
   "cell_type": "markdown",
   "id": "c350765d",
   "metadata": {},
   "source": [
    "# Python Code\n",
    "\n",
    "`PythonCodeTextSplitter` splits text along python class and method definitions. It's implemented as a simple subclass of `RecursiveCharacterSplitter` with Python-specific separators. See the source code to see the Python syntax expected by default.\n",
    "\n",
    "1. How the text is split: by list of python specific separators\n",
    "2. How the chunk size is measured: by number of characters"
   ]
  },
  {
   "cell_type": "code",
   "execution_count": 1,
   "id": "1703463f",
   "metadata": {
    "tags": []
   },
   "outputs": [],
   "source": [
    "from langchain.text_splitter import PythonCodeTextSplitter"
   ]
  },
  {
   "cell_type": "code",
   "execution_count": 2,
   "id": "f17a1854",
   "metadata": {
    "tags": []
   },
   "outputs": [],
   "source": [
    "python_text = \"\"\"\n",
    "class Foo:\n",
    "\n",
    "    def bar():\n",
    "    \n",
    "    \n",
    "def foo():\n",
    "\n",
    "def testing_func():\n",
    "\n",
    "def bar():\n",
    "\"\"\"\n",
    "python_splitter = PythonCodeTextSplitter(chunk_size=30, chunk_overlap=0)"
   ]
  },
  {
   "cell_type": "code",
   "execution_count": 3,
   "id": "6cdc55f3",
   "metadata": {},
   "outputs": [
    {
     "name": "stdout",
     "output_type": "stream",
     "text": [
      "['\\n', 'c', 'l', 'a', 's', 's', ' ', 'Foo:\\n', '\\n', ' ', ' ', ' ', ' ', 'def ', 'ba', 'r():\\n', ' ', ' ', ' ', ' ', '\\n', ' ', ' ', ' ', ' ', '\\n', 'def ', 'foo():\\n', '\\n', 'def ', 'tes', 'ting_func', '():\\n', '\\n', 'def ', 'ba', 'r():\\n', '']\n",
      "\n",
      "class \n"
     ]
    }
   ],
   "source": [
    "docs = python_splitter.create_documents([python_text])"
   ]
  },
  {
   "cell_type": "code",
   "execution_count": 5,
   "id": "0eff8b27",
   "metadata": {},
   "outputs": [],
   "source": [
    "import re\n",
    "def _split_text(text: str, separator: str):\n",
    "    # Now that we have the separator, split the text\n",
    "    if separator:\n",
    "        # The parentheses in the pattern keep the delimiters in the result.\n",
    "        _splits = re.split(f'([{separator}])', text)\n",
    "        splits = [_splits[i] + _splits[i + 1] for i in range(0, len(_splits) - 1, 2)]\n",
    "        if len(_splits) % 2 == 1:\n",
    "            splits += _splits[-1:]\n",
    "    else:\n",
    "        splits = list(text)\n",
    "    return splits"
   ]
  },
  {
   "cell_type": "code",
   "execution_count": 6,
   "id": "62b81618",
   "metadata": {},
   "outputs": [
    {
     "data": {
      "text/plain": [
       "['\\nc',\n",
       " 'l',\n",
       " 'a',\n",
       " 's',\n",
       " 's',\n",
       " ' Foo:\\n\\n    def ba',\n",
       " 'r():\\n    \\n    \\ndef foo():\\n\\ndef tes',\n",
       " 'ting_func',\n",
       " '():\\n\\ndef ba',\n",
       " 'r():\\n']"
      ]
     },
     "execution_count": 6,
     "metadata": {},
     "output_type": "execute_result"
    }
   ],
   "source": [
    "_split_text(python_text, \"class\")"
   ]
  },
  {
   "cell_type": "code",
   "execution_count": 4,
   "id": "8cc33770",
   "metadata": {},
   "outputs": [
    {
     "data": {
      "text/plain": [
       "[Document(page_content='class Foo:\\n\\n    def bar():', metadata={}),\n",
       " Document(page_content='def foo():\\n\\ndef tes', metadata={}),\n",
       " Document(page_content='ting_func():\\n\\ndef bar():', metadata={})]"
      ]
     },
     "execution_count": 4,
     "metadata": {},
     "output_type": "execute_result"
    }
   ],
   "source": [
    "docs"
   ]
  },
  {
   "cell_type": "code",
   "execution_count": 3,
   "id": "de625e08-c440-489d-beed-020b6c53bf69",
   "metadata": {
    "tags": []
   },
   "outputs": [
    {
     "data": {
      "text/plain": [
       "['Foo:\\n\\n    def bar():', 'foo():\\n\\ndef testing_func():', 'bar():']"
      ]
     },
     "execution_count": 3,
     "metadata": {},
     "output_type": "execute_result"
    }
   ],
   "source": [
    "python_splitter.split_text(python_text)"
   ]
  },
  {
   "cell_type": "code",
   "execution_count": 8,
   "id": "55aadd84-75ca-48ae-9b84-b39c368488ed",
   "metadata": {},
   "outputs": [
    {
     "data": {
      "text/plain": [
       "['foo', 'bar']"
      ]
     },
     "execution_count": 8,
     "metadata": {},
     "output_type": "execute_result"
    }
   ],
   "source": [
    ".split(\" \", 1)"
   ]
  },
  {
   "cell_type": "code",
   "execution_count": 10,
   "id": "93c3197a",
   "metadata": {},
   "outputs": [],
   "source": [
    "d = \" \"\n",
    "s =  [e+d for e in \"foo bar\".split(d) if e]"
   ]
  },
  {
   "cell_type": "code",
   "execution_count": 23,
   "id": "fb39afca",
   "metadata": {},
   "outputs": [
    {
     "data": {
      "text/plain": [
       "0"
      ]
     },
     "execution_count": 23,
     "metadata": {},
     "output_type": "execute_result"
    }
   ],
   "source": [
    "def _split_text(text: str, separator: str, keep_separator: bool = False):\n",
    "    # Now that we have the separator, split the text\n",
    "    if separator:\n",
    "        if keep_separator:\n",
    "            # The parentheses in the pattern keep the delimiters in the result.\n",
    "            _splits = re.split(f'([{separator}])', text)\n",
    "            splits = [_splits[i] + _splits[i + 1] for i in range(0, len(_splits) - 1, 2)]\n",
    "            if len(_splits) % 2 == 1:\n",
    "                splits += _splits[-1:]\n",
    "        else:\n",
    "            splits = text.split(separator)\n",
    "    else:\n",
    "        splits = list(text)\n",
    "    return splits"
   ]
  },
  {
   "cell_type": "code",
   "execution_count": 28,
   "id": "363d050c",
   "metadata": {},
   "outputs": [
    {
     "name": "stdout",
     "output_type": "stream",
     "text": [
      "['', ' ', 'This', ' ', 'is', ' ', 'an', ' ', 'example.', ' ', 'Another', ' ', 'example!', ' ', 'And', ' ', 'a', ' ', 'question', ' ', '?']\n"
     ]
    }
   ],
   "source": [
    "import re\n",
    "\n",
    "text = \" This is an example. Another example! And a question ?\"\n",
    "\n",
    "# The parentheses in the pattern keep the delimiters in the result.\n",
    "splits = re.split(f'([{\" \"}])', text)\n",
    "\n",
    "print(splits)\n",
    "\n",
    "splits = [splits[i] + splits[i + 1] for i in range(0, len(splits)-1, 2)]\n"
   ]
  },
  {
   "cell_type": "code",
   "execution_count": 27,
   "id": "d6faa51f",
   "metadata": {},
   "outputs": [
    {
     "data": {
      "text/plain": [
       "[' ',\n",
       " 'This ',\n",
       " 'is ',\n",
       " 'an ',\n",
       " 'example. ',\n",
       " 'Another ',\n",
       " 'example! ',\n",
       " 'And ',\n",
       " 'a ',\n",
       " 'question ',\n",
       " '? ']"
      ]
     },
     "execution_count": 27,
     "metadata": {},
     "output_type": "execute_result"
    }
   ],
   "source": [
    "splits"
   ]
  },
  {
   "cell_type": "code",
   "execution_count": null,
   "id": "f5f70775",
   "metadata": {},
   "outputs": [],
   "source": []
  }
 ],
 "metadata": {
  "kernelspec": {
   "display_name": "Python 3 (ipykernel)",
   "language": "python",
   "name": "python3"
  },
  "language_info": {
   "codemirror_mode": {
    "name": "ipython",
    "version": 3
   },
   "file_extension": ".py",
   "mimetype": "text/x-python",
   "name": "python",
   "nbconvert_exporter": "python",
   "pygments_lexer": "ipython3",
   "version": "3.9.1"
  },
  "vscode": {
   "interpreter": {
    "hash": "aee8b7b246df8f9039afb4144a1f6fd8d2ca17a180786b69acc140d282b71a49"
   }
  }
 },
 "nbformat": 4,
 "nbformat_minor": 5
}
