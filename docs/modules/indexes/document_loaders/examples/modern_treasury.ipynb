{
 "cells": [
  {
   "cell_type": "markdown",
   "metadata": {},
   "source": [
    "# Modern Treasury\n",
    "\n",
    "This notebook covers how to load data from the Modern Treasury REST API into a format that can be ingested into LangChain, along with example usage for vectorization."
   ]
  },
  {
   "cell_type": "code",
   "execution_count": 1,
   "metadata": {},
   "outputs": [],
   "source": [
    "import os\n",
    "\n",
    "\n",
    "from langchain.document_loaders import ModernTreasuryLoader\n",
    "from langchain.indexes import VectorstoreIndexCreator"
   ]
  },
  {
   "cell_type": "markdown",
   "metadata": {},
   "source": [
    "The Modern Treasury API requires an organization ID and API key, which can be found in the Modern Treasury dashboard within developer settings.\n",
    "\n",
    "This document loader also requires a `resource` option which defines what data you want to load.\n",
    "\n",
    "Following resources are available:\n",
    "\n",
    "`payment_orders` [Documentation](https://app.moderntreasury.com/api/payment_orders)\n",
    "\n",
    "`expected_payments` [Documentation](https://app.moderntreasury.com/api/expected_payments)\n",
    "\n",
    "`returns` [Documentation](https://app.moderntreasury.com/api/returns)\n",
    "\n",
    "`incoming_payment_details` [Documentation](https://app.moderntreasury.com/api/incoming_payment_details)\n",
    "\n",
    "`counterparties` [Documentation](https://app.moderntreasury.com/api/counterparties)\n",
    "\n",
    "`internal_accounts` [Documentation](https://app.moderntreasury.com/api/internal_accounts)\n",
    "\n",
    "`external_accounts` [Documentation](https://app.moderntreasury.com/api/external_accounts)\n",
    "\n",
    "`transactions` [Documentation](https://app.moderntreasury.com/api/transactions)\n",
    "\n",
    "`ledgers` [Documentation](https://app.moderntreasury.com/api/ledgers)\n",
    "\n",
    "`ledger_accounts` [Documentation](https://app.moderntreasury.com/api/ledger_accounts)\n",
    "\n",
    "`ledger_transactions` [Documentation](https://app.moderntreasury.com/api/ledger_transactions)\n",
    "\n",
    "`events` [Documentation](https://app.moderntreasury.com/api/events)\n",
    "\n",
    "`invoices` [Documentation](https://app.moderntreasury.com/api/invoices)\n"
   ]
  },
  {
   "cell_type": "code",
   "execution_count": null,
   "metadata": {},
   "outputs": [],
   "source": [
    "modern_treasury_loader = ModernTreasuryLoader(os.environ[\"MODERN_TREASURY_ORGANIZATION_ID\"], os.environ[\"MODERN_TREASURY_API_KEY\"], \"payment_orders\")"
   ]
  },
  {
   "cell_type": "code",
   "execution_count": null,
   "metadata": {},
   "outputs": [],
   "source": [
    "# Create a vectorstore retriver from the loader\n",
    "# see https://python.langchain.com/en/latest/modules/indexes/getting_started.html for more details\n",
    "\n",
    "index = VectorstoreIndexCreator().from_loaders([modern_treasury_loader])\n",
    "modern_treasury_doc_retriever = index.vectorstore.as_retriever()"
   ]
  }
 ],
 "metadata": {
  "kernelspec": {
   "display_name": "Python 3 (ipykernel)",
   "language": "python",
   "name": "python3"
  },
  "language_info": {
   "codemirror_mode": {
    "name": "ipython",
    "version": 3
   },
   "file_extension": ".py",
   "mimetype": "text/x-python",
   "name": "python",
   "nbconvert_exporter": "python",
   "pygments_lexer": "ipython3",
   "version": "3.9.1"
  }
 },
 "nbformat": 4,
 "nbformat_minor": 2
}
