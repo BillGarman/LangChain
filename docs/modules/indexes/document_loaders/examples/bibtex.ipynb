{
 "cells": [
  {
   "cell_type": "markdown",
   "id": "bda1f3f5",
   "metadata": {},
   "source": [
    "# BibTeX\n",
    "\n",
    "> BibTeX is a file format and reference management system commonly used in conjunction with LaTeX typesetting. It serves as a way to organize and store bibliographic information for academic and research documents.\n",
    "\n",
    "BibTeX files have a .bib extension and consist of plain text entries representing references to various publications, such as books, articles, conference papers, theses, and more. Each BibTeX entry follows a specific structure and contains fields for different bibliographic details like author names, publication title, journal or book title, year of publication, page numbers, and more.\n",
    "\n",
    "Bibtex files can also store the path to documents, such as `.pdf` files that can be retrieved."
   ]
  },
  {
   "cell_type": "markdown",
   "id": "1b7a1eef-7bf7-4e7d-8bfc-c4e27c9488cb",
   "metadata": {},
   "source": [
    "## Installation"
   ]
  },
  {
   "cell_type": "markdown",
   "id": "2abd5578-aa3d-46b9-99af-8b262f0b3df8",
   "metadata": {},
   "source": [
    "First, you need to install `bibtexparser` python package."
   ]
  },
  {
   "cell_type": "code",
   "execution_count": 1,
   "id": "b674aaea-ed3a-4541-8414-260a8f67f623",
   "metadata": {
    "tags": []
   },
   "outputs": [],
   "source": [
    "#!pip install bibtexparser"
   ]
  },
  {
   "cell_type": "markdown",
   "id": "094b5f13-7e54-4354-9d83-26d6926ecaa0",
   "metadata": {
    "tags": []
   },
   "source": [
    "Second, you need to install `PyMuPDF` python package which transform local PDF files referenced in the bibtex entries into the text format."
   ]
  },
  {
   "cell_type": "code",
   "execution_count": 2,
   "id": "7cd91121-2e96-43ba-af50-319853695f86",
   "metadata": {
    "tags": []
   },
   "outputs": [],
   "source": [
    "#!pip install pymupdf"
   ]
  },
  {
   "cell_type": "markdown",
   "id": "95f05e1c-195e-4e2b-ae8e-8d6637f15be6",
   "metadata": {},
   "source": [
    "## Examples"
   ]
  },
  {
   "cell_type": "markdown",
   "id": "e29b954c-1407-4797-ae21-6ba8937156be",
   "metadata": {},
   "source": [
    "`BibtexLoader` has these arguments:\n",
    "- `file_path`: the path the the `.bib` bibtex file\n",
    "- optional `load_max_docs`: default=-1, i.e. not limit. Use it to limit number of recovered documents.\n",
    "- optional `load_all_additional_meta`: default=False. By default only the most important fields from the bibtex entries: `Published` (publication year), `Title`, `Authors`, `Summary`, `Journal`, `Keywords`, and `URL`. If True, it will also try to load return `entry_id`, `note`, `doi`, and `links` fields. \n",
    "- optional `pdf_pattern`. Regex pattern to find `pdf` files in the `file` entry. Default pattern `r'[^:]+\\.pdf'` supports `Zotero` flavour bibtex style and bare file path."
   ]
  },
  {
   "cell_type": "code",
   "execution_count": 3,
   "id": "9bfd5e46",
   "metadata": {
    "tags": []
   },
   "outputs": [],
   "source": [
    "from langchain.document_loaders import BibtexLoader"
   ]
  },
  {
   "cell_type": "code",
   "execution_count": null,
   "id": "700e4ef2",
   "metadata": {},
   "outputs": [],
   "source": [
    "docs = BibtexLoader(\"./biblio.bib\").load()\n",
    "len(docs)"
   ]
  },
  {
   "cell_type": "code",
   "execution_count": null,
   "id": "2631f46b",
   "metadata": {},
   "outputs": [
    {
     "name": "stdout",
     "output_type": "stream",
     "text": [
      "Running bibtexparser wrapper LOADER\n"
     ]
    },
    {
     "data": {
      "text/plain": [
       "2"
      ]
     },
     "execution_count": null,
     "metadata": {},
     "output_type": "execute_result"
    }
   ],
   "source": [
    "bibtex_text = \"\"\"\n",
    "    @article{einstein1915,\n",
    "        title={Die Feldgleichungen der Gravitation},\n",
    "        abstract={Die Grundgleichungen der Gravitation, die ich hier entwickeln werde, wurden von mir in einer Abhandlung: ,,Die formale Grundlage der allgemeinen Relativit{\\\"a}tstheorie`` in den Sitzungsberichten der Preu{\\ss}ischen Akademie der Wissenschaften 1915 ver{\\\"o}ffentlicht.},\n",
    "        author={Einstein, Albert},\n",
    "        journal={Sitzungsberichte der K{\\\"o}niglich Preu{\\ss}ischen Akademie der Wissenschaften},\n",
    "        volume={1915},\n",
    "        number={1},\n",
    "        pages={844--847},\n",
    "        year={1915},\n",
    "        doi={10.1002/andp.19163540702},\n",
    "        link={https://onlinelibrary.wiley.com/doi/abs/10.1002/andp.19163540702},\n",
    "        file={./einstein1915.pdf}\n",
    "    }\n",
    "\n",
    "    @article{einstein1905,\n",
    "        title={Zur Elektrodynamik bewegter K{\\\"o}rper},\n",
    "        author={Einstein, Albert},\n",
    "        journal={Annalen der Physik},\n",
    "        volume={322},\n",
    "        number={10},\n",
    "        pages={891--921},\n",
    "        year={1905},\n",
    "        doi={10.1002/andp.19053221004},\n",
    "        link={https://onlinelibrary.wiley.com/doi/abs/10.1002/andp.19053221004},\n",
    "        file={./einstein1905.pdf}\n",
    "    }\n",
    "    \"\"\"\n",
    "# save bibtex_text to biblio.bib file\n",
    "with open(\"./biblio.bib\", \"w\") as file:\n",
    "    file.write(bibtex_text)\n",
    "docs = BibtexLoader(\"./biblio.bib\").load()\n",
    "len(docs)"
   ]
  },
  {
   "cell_type": "code",
   "execution_count": null,
   "id": "33ef1fb2",
   "metadata": {},
   "outputs": [
    {
     "data": {
      "text/plain": [
       "{'ID': 'einstein1915',\n",
       " 'Published': '1915',\n",
       " 'Title': 'Die Feldgleichungen der Gravitation',\n",
       " 'Publication': 'Sitzungsberichte der K{\"o}niglich Preu{\\\\ss}ischen Akademie der Wissenschaften',\n",
       " 'Authors': 'Einstein, Albert',\n",
       " 'Summary': 'Die Grundgleichungen der Gravitation, die ich hier entwickeln werde, wurden von mir in einer Abhandlung: ,,Die formale Grundlage der allgemeinen Relativit{\"a}tstheorie`` in den Sitzungsberichten der Preu{\\\\ss}ischen Akademie der Wissenschaften 1915 ver{\"o}ffentlicht.',\n",
       " 'URL': 'https://doi.org/10.1002/andp.19163540702',\n",
       " 'Journal': 'Sitzungsberichte der K{\"o}niglich Preu{\\\\ss}ischen Akademie der Wissenschaften',\n",
       " 'Doi': '10.1002/andp.19163540702'}"
      ]
     },
     "execution_count": null,
     "metadata": {},
     "output_type": "execute_result"
    }
   ],
   "source": [
    "docs[0].metadata"
   ]
  },
  {
   "cell_type": "code",
   "execution_count": null,
   "id": "46969806-45a9-4c4d-a61b-cfb9658fc9de",
   "metadata": {
    "tags": []
   },
   "outputs": [
    {
     "data": {
      "text/plain": [
       "\"1916. \\nANNALEN DER PHYSIK. x 7. \\nVIERTE FOME. BAND49. \\n.- \\n1. Die GrurtdZage \\ndsr allgerndnm ReZat4&t&t8theor&; \\nvon A. EinsteBn. \\nDie im nachfolgenden dargelegte Theorie bildet die denk- \\nbar weitgehenclste Verallgemeherung der heute allgemein als \\n. ,Rela tivi ta ts t heorie ' ' bezeichne ten Theorie ; die le tztere nenne \\nich im folgenden zur Unterscheidnng von der ersteren ,,spezielle \\nRelativ\""
      ]
     },
     "execution_count": null,
     "metadata": {},
     "output_type": "execute_result"
    }
   ],
   "source": [
    "docs[0].page_content[:400]  # all pages of the pdf content"
   ]
  }
 ],
 "metadata": {
  "kernelspec": {
   "display_name": "Python 3 (ipykernel)",
   "language": "python",
   "name": "python3"
  },
  "language_info": {
   "codemirror_mode": {
    "name": "ipython",
    "version": 3
   },
   "file_extension": ".py",
   "mimetype": "text/x-python",
   "name": "python",
   "nbconvert_exporter": "python",
   "pygments_lexer": "ipython3",
   "version": "3.9.10"
  }
 },
 "nbformat": 4,
 "nbformat_minor": 5
}
