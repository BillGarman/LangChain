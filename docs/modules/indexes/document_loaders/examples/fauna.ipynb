{
 "cells": [
  {
   "attachments": {},
   "cell_type": "markdown",
   "metadata": {},
   "source": [
    "# Fauna\n",
    "\n",
    ">[Fauna](https://fauna.com/) is a Document Database.\n",
    "\n",
    "Query `Fauna` documents"
   ]
  },
  {
   "cell_type": "code",
   "execution_count": null,
   "metadata": {},
   "outputs": [],
   "source": [
    "#!pip install fauna"
   ]
  },
  {
   "attachments": {},
   "cell_type": "markdown",
   "metadata": {},
   "source": [
    "## Query data example"
   ]
  },
  {
   "cell_type": "code",
   "execution_count": null,
   "metadata": {},
   "outputs": [],
   "source": [
    "from langchain.document_loaders.fauna import FaunaLoader\n",
    "\n",
    "secret = \"<enter-valid-fauna-secret>\"\n",
    "query = \"Item.all()\" # Fauna query. Assumes that the collection is called \"Item\"\n",
    "field = \"text\" # The field that contains the page content. Assumes that the field is called \"text\"\n",
    "\n",
    "loader = FaunaLoader(query, field, secret)\n",
    "docs = loader.load()\n",
    "\n",
    "print(docs)"
   ]
  }
 ],
 "metadata": {
  "language_info": {
   "name": "python"
  },
  "orig_nbformat": 4
 },
 "nbformat": 4,
 "nbformat_minor": 2
}
