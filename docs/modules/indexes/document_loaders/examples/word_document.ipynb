{
 "cells": [
  {
   "cell_type": "markdown",
   "id": "39af9ecd",
   "metadata": {},
   "source": [
    "# Word Documents\n",
    "\n",
    "This covers how to load Word documents into a document format that we can use downstream."
   ]
  },
  {
   "cell_type": "markdown",
   "id": "9438686b",
   "metadata": {},
   "source": [
    "## Using Docx2txt\n",
    "\n",
    "Load .docx using `Docx2txt` into a document."
   ]
  },
  {
   "cell_type": "code",
   "execution_count": null,
   "id": "7b80ea89",
   "metadata": {},
   "outputs": [],
   "source": [
    "from langchain.document_loaders import Docx2txtLoader"
   ]
  },
  {
   "cell_type": "code",
   "execution_count": null,
   "id": "99a12031",
   "metadata": {},
   "outputs": [],
   "source": [
    "loader = Doc2txtLoader(\"example_data/fake.docx\")"
   ]
  },
  {
   "cell_type": "code",
   "execution_count": null,
   "id": "b92f68b0",
   "metadata": {},
   "outputs": [],
   "source": [
    "data = loader.load()"
   ]
  },
  {
   "cell_type": "code",
   "execution_count": null,
   "id": "d83dd755",
   "metadata": {},
   "outputs": [],
   "source": [
    "data"
   ]
  },
  {
   "cell_type": "markdown",
   "id": "8d40727d",
   "metadata": {},
   "source": [
    "## Using Unstructured"
   ]
  },
  {
   "cell_type": "code",
   "execution_count": 3,
   "id": "721c48aa",
   "metadata": {},
   "outputs": [
    {
     "ename": "ModuleNotFoundError",
     "evalue": "No module named 'langchain'",
     "output_type": "error",
     "traceback": [
      "\u001b[1;31m---------------------------------------------------------------------------\u001b[0m",
      "\u001b[1;31mModuleNotFoundError\u001b[0m                       Traceback (most recent call last)",
      "Cell \u001b[1;32mIn[3], line 1\u001b[0m\n\u001b[1;32m----> 1\u001b[0m \u001b[38;5;28;01mfrom\u001b[39;00m \u001b[38;5;21;01mlangchain\u001b[39;00m\u001b[38;5;21;01m.\u001b[39;00m\u001b[38;5;21;01mdocument_loaders\u001b[39;00m \u001b[38;5;28;01mimport\u001b[39;00m UnstructuredWordDocumentLoader\n",
      "\u001b[1;31mModuleNotFoundError\u001b[0m: No module named 'langchain'"
     ]
    }
   ],
   "source": [
    "from langchain.document_loaders import UnstructuredWordDocumentLoader"
   ]
  },
  {
   "cell_type": "code",
   "execution_count": 2,
   "id": "9d3d0e35",
   "metadata": {},
   "outputs": [],
   "source": [
    "loader = UnstructuredWordDocumentLoader(\"example_data/fake.docx\")"
   ]
  },
  {
   "cell_type": "code",
   "execution_count": 3,
   "id": "06073f91",
   "metadata": {},
   "outputs": [],
   "source": [
    "data = loader.load()"
   ]
  },
  {
   "cell_type": "code",
   "execution_count": 4,
   "id": "c9adc5cb",
   "metadata": {},
   "outputs": [
    {
     "data": {
      "text/plain": [
       "[Document(page_content='Lorem ipsum dolor sit amet.', lookup_str='', metadata={'source': 'fake.docx'}, lookup_index=0)]"
      ]
     },
     "execution_count": 4,
     "metadata": {},
     "output_type": "execute_result"
    }
   ],
   "source": [
    "data"
   ]
  },
  {
   "cell_type": "markdown",
   "id": "525d6b67",
   "metadata": {},
   "source": [
    "## Retain Elements\n",
    "\n",
    "Under the hood, Unstructured creates different \"elements\" for different chunks of text. By default we combine those together, but you can easily keep that separation by specifying `mode=\"elements\"`."
   ]
  },
  {
   "cell_type": "code",
   "execution_count": 5,
   "id": "064f9162",
   "metadata": {},
   "outputs": [],
   "source": [
    "loader = UnstructuredWordDocumentLoader(\"example_data/fake.docx\", mode=\"elements\")"
   ]
  },
  {
   "cell_type": "code",
   "execution_count": 6,
   "id": "abefbbdb",
   "metadata": {},
   "outputs": [],
   "source": [
    "data = loader.load()"
   ]
  },
  {
   "cell_type": "code",
   "execution_count": 7,
   "id": "a547c534",
   "metadata": {},
   "outputs": [
    {
     "data": {
      "text/plain": [
       "Document(page_content='Lorem ipsum dolor sit amet.', lookup_str='', metadata={'source': 'fake.docx', 'filename': 'fake.docx', 'category': 'Title'}, lookup_index=0)"
      ]
     },
     "execution_count": 7,
     "metadata": {},
     "output_type": "execute_result"
    }
   ],
   "source": [
    "data[0]"
   ]
  }
 ],
 "metadata": {
  "kernelspec": {
   "display_name": "Python 3 (ipykernel)",
   "language": "python",
   "name": "python3"
  },
  "language_info": {
   "codemirror_mode": {
    "name": "ipython",
    "version": 3
   },
   "file_extension": ".py",
   "mimetype": "text/x-python",
   "name": "python",
   "nbconvert_exporter": "python",
   "pygments_lexer": "ipython3",
   "version": "3.10.10"
  }
 },
 "nbformat": 4,
 "nbformat_minor": 5
}
