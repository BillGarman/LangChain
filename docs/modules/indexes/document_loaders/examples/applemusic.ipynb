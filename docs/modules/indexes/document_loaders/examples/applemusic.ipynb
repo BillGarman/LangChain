{
 "cells": [
  {
   "attachments": {},
   "cell_type": "markdown",
   "id": "66a7777e",
   "metadata": {},
   "source": [
    "# Apple Music\n",
    "\n",
    ">[Apple Music](https://musc.apple.com/) is a music, audio and video streaming service developed by Apple Inc.\n",
    "\n",
    "This notebook covers how to load data from the [Apple Music API](https://developer.apple.com/documentation/applemusicapi) into a format that can be ingested into LangChain, along with example usage for vectorization."
   ]
  },
  {
   "cell_type": "code",
   "execution_count": null,
   "id": "43128d8d",
   "metadata": {
    "tags": []
   },
   "outputs": [],
   "source": [
    "import os\n",
    "\n",
    "from langchain.document_loaders import AppleMusicLoader\n",
    "from langchain.indexes import VectorstoreIndexCreator"
   ]
  },
  {
   "cell_type": "code",
   "execution_count": 13,
   "id": "35d6809a",
   "metadata": {
    "pycharm": {
     "name": "#%%\n"
    }
   },
   "outputs": [],
   "source": [
    "apple_music_loader = AppleMusicLoader(\"library\")"
   ]
  },
  {
   "cell_type": "code",
   "execution_count": null,
   "id": "3470dadf",
   "metadata": {
    "collapsed": false,
    "jupyter": {
     "outputs_hidden": false
    },
    "pycharm": {
     "name": "#%%\n"
    }
   },
   "outputs": [],
   "source": [
    "# Create a vectorstore retriver from the loader\n",
    "# see https://python.langchain.com/en/latest/modules/indexes/getting_started.html for more details\n",
    "\n",
    "index = VectorstoreIndexCreator().from_loaders([apple_music_loader])\n",
    "apple_music_doc_retriever = index.vectorstore.as_retriever()"
   ]
  }
 ],
 "metadata": {
  "kernelspec": {
   "display_name": "Python 3 (ipykernel)",
   "language": "python",
   "name": "python3"
  },
  "language_info": {
   "codemirror_mode": {
    "name": "ipython",
    "version": 3
   },
   "file_extension": ".py",
   "mimetype": "text/x-python",
   "name": "python",
   "nbconvert_exporter": "python",
   "pygments_lexer": "ipython3",
   "version": "3.10.6"
  }
 },
 "nbformat": 4,
 "nbformat_minor": 5
}
