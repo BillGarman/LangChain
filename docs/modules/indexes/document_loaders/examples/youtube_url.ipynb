{
 "cells": [
  {
   "cell_type": "code",
   "execution_count": 2,
   "id": "2523f362",
   "metadata": {},
   "outputs": [],
   "source": [
    "from langchain.document_loaders.blob_loaders.youtube_audio import YoutubeAudioLoader"
   ]
  },
  {
   "cell_type": "code",
   "execution_count": 3,
   "id": "e9102500",
   "metadata": {},
   "outputs": [],
   "source": [
    "url = \"https://www.youtube.com/watch?v=VMj-3S1tku0&list=UUXUPKJO5MZQN11PqgIvyuvQ&index=10&pp=iAQB\"\n",
    "save_dir = \"/Users/31treehaus/Desktop/AI/langchain-fork/\"\n",
    "loader = YoutubeAudioLoader([url],save_dir)"
   ]
  },
  {
   "cell_type": "code",
   "execution_count": 4,
   "id": "e05c60d3",
   "metadata": {},
   "outputs": [
    {
     "name": "stdout",
     "output_type": "stream",
     "text": [
      "[youtube:tab] Extracting URL: https://www.youtube.com/watch?v=VMj-3S1tku0&list=UUXUPKJO5MZQN11PqgIvyuvQ&index=10&pp=iAQB\n",
      "[youtube:tab] Downloading just the video VMj-3S1tku0 because of --no-playlist\n",
      "[youtube] Extracting URL: https://www.youtube.com/watch?v=VMj-3S1tku0\n",
      "[youtube] VMj-3S1tku0: Downloading webpage\n",
      "[youtube] VMj-3S1tku0: Downloading android player API JSON\n",
      "Writing file: The spelled-out intro to neural networks and backpropagation: building micrograd to /Users/31treehaus/Desktop/AI/langchain-fork/\n",
      "[youtube:tab] Extracting URL: https://www.youtube.com/watch?v=VMj-3S1tku0&list=UUXUPKJO5MZQN11PqgIvyuvQ&index=10&pp=iAQB\n",
      "[youtube:tab] Downloading just the video VMj-3S1tku0 because of --no-playlist\n",
      "[youtube] Extracting URL: https://www.youtube.com/watch?v=VMj-3S1tku0\n",
      "[youtube] VMj-3S1tku0: Downloading webpage\n",
      "[youtube] VMj-3S1tku0: Downloading android player API JSON\n",
      "[info] VMj-3S1tku0: Downloading 1 format(s): 140\n",
      "[download] /Users/31treehaus/Desktop/AI/langchain-fork//The spelled-out intro to neural networks and backpropagation： building micrograd.m4a has already been downloaded\n",
      "[download] 100% of  134.98MiB\n",
      "[ExtractAudio] Not converting audio /Users/31treehaus/Desktop/AI/langchain-fork//The spelled-out intro to neural networks and backpropagation： building micrograd.m4a; file is already in target format m4a\n",
      "data=None mimetype='audio/mp4a-latm' encoding='utf-8' path=PosixPath('/Users/31treehaus/Desktop/AI/langchain-fork/The spelled-out intro to neural networks and backpropagation： building micrograd.m4a')\n"
     ]
    }
   ],
   "source": [
    "for blob in loader.yield_blobs():\n",
    "    print(blob)"
   ]
  },
  {
   "cell_type": "code",
   "execution_count": 5,
   "id": "60e4dbb7",
   "metadata": {},
   "outputs": [
    {
     "name": "stdout",
     "output_type": "stream",
     "text": [
      "data=None mimetype='audio/mp4a-latm' encoding='utf-8' path=PosixPath('/Users/31treehaus/Desktop/AI/langchain-fork/The spelled-out intro to neural networks and backpropagation： building micrograd.m4a')\n"
     ]
    }
   ],
   "source": [
    "print(blob)"
   ]
  }
 ],
 "metadata": {
  "kernelspec": {
   "display_name": "Python 3 (ipykernel)",
   "language": "python",
   "name": "python3"
  },
  "language_info": {
   "codemirror_mode": {
    "name": "ipython",
    "version": 3
   },
   "file_extension": ".py",
   "mimetype": "text/x-python",
   "name": "python",
   "nbconvert_exporter": "python",
   "pygments_lexer": "ipython3",
   "version": "3.9.16"
  }
 },
 "nbformat": 4,
 "nbformat_minor": 5
}
