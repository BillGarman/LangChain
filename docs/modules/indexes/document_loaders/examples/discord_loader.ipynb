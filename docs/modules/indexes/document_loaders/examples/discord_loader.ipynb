{
 "cells": [
  {
   "cell_type": "code",
   "execution_count": null,
   "metadata": {},
   "outputs": [],
   "source": [
    "import pandas as pd\n",
    "import os"
   ]
  },
  {
   "cell_type": "code",
   "execution_count": null,
   "metadata": {},
   "outputs": [],
   "source": [
    "path = input(\"Please enter the path to the contents of the Discord \\\"messages\\\" folder: \")\n",
    "li = []\n",
    "for f in os.listdir(path):\n",
    "    expected_csv_path = os.path.join(path, f, 'messages.csv')\n",
    "    csv_exists = os.path.isfile(expected_csv_path)\n",
    "    if csv_exists:\n",
    "        df = pd.read_csv(expected_csv_path, index_col=None, header=0)\n",
    "        li.append(df)\n",
    "\n",
    "df = pd.concat(li, axis=0, ignore_index=True, sort=False)"
   ]
  },
  {
   "cell_type": "code",
   "execution_count": null,
   "metadata": {},
   "outputs": [],
   "source": [
    "from langchain.document_loaders.discord import DiscordChatLoader"
   ]
  },
  {
   "cell_type": "code",
   "execution_count": null,
   "metadata": {},
   "outputs": [],
   "source": [
    "loader = DiscordChatLoader(df, user_id_col=\"ID\")\n",
    "print(loader.load())"
   ]
  }
 ],
 "metadata": {
  "language_info": {
   "name": "python"
  },
  "orig_nbformat": 4
 },
 "nbformat": 4,
 "nbformat_minor": 2
}
