{
 "cells": [
  {
   "cell_type": "code",
   "execution_count": 2,
   "metadata": {},
   "outputs": [
    {
     "name": "stdout",
     "output_type": "stream",
     "text": [
      "Requirement already satisfied: ...",
      "Note: you may need to restart the kernel to use updated packages.\n"
     ]
    }
   ],
   "source": [
    "pip install snowflake-connector-python"
   ]
  },
  {
   "cell_type": "code",
   "execution_count": 1,
   "metadata": {},
   "outputs": [
    {
     "name": "stdout",
     "output_type": "stream",
     "text": [
      "[Document(page_content='text: yoel nos ha tratado super bien\\nsurvey_id: 737541', metadata={}), Document(page_content='text: me ha encantado el trato recibido por yoel, es un encanto.\\nsurvey_id: 737541', metadata={}), Document(page_content='text: buen servicio\\nsurvey_id: 739505', metadata={}), Document(page_content='text: cazzo\\nsurvey_id: 739505', metadata={}), Document(page_content='text: muy liento el servicio\\nsurvey_id: 739505', metadata={}), Document(page_content='text: mmm\\nsurvey_id: 739505', metadata={}), Document(page_content='text: guay\\nsurvey_id: 739505', metadata={}), Document(page_content='text: mmm\\nsurvey_id: 739505', metadata={}), Document(page_content='text: qweemrm!t t rtttyuuuiiooppñ!mnnnbvcxzaas*xcvvbnnm!?? mn vcxzzjlñ?nbczzcf\\n!ngyuio\\n?ñ\\n\\n\\npppiwqqeyioppyyyyhuuyy🤢\\nsurvey_id: 739505', metadata={}), Document(page_content='text: wqwwerrrtuutyipppaassddffghklo\\n\\n wsssfghjkl!ñ\\ncghjllññ?ñññññ\\n\\nsaadfchjjkm!lññññ??gyuipñ\\n!kmjjhggfddsfjkñ\\n. bvcfdcdsszzxvhjnk!!!fxzzaaazm?nbvcdxfdedghtttyyyyhnyyyyyyyyyyyuuiiioortyhuiiop\\n!gfredfxcgfg  jnjunuil!.. bhunjjk!! .?!\\nll  ?lñ\\np\\no\\n!?!😄😄😄🤩\\nsurvey_id: 739505', metadata={})]\n"
     ]
    }
   ],
   "source": [
    "from snowflakeLoader import SnowflakeLoader\n",
    "import settings as s\n",
    "QUERY = \"select text, survey_id from CLOUD_DATA_SOLUTIONS.HAPPY_OR_NOT.OPEN_FEEDBACK limit 10\"\n",
    "snowflake_loader = SnowflakeLoader(\n",
    "    query=QUERY,\n",
    "    user=s.SNOWFLAKE_USER,\n",
    "    password=s.SNOWFLAKE_PASS,\n",
    "    account=s.SNOWFLAKE_ACCOUNT,\n",
    "    warehouse=s.SNOWFLAKE_WAREHOUSE,\n",
    "    role=s.SNOWFLAKE_ROLE,\n",
    "    database=s.SNOWFLAKE_DATABASE,\n",
    "    schema=s.SNOWFLAKE_SCHEMA\n",
    ")\n",
    "snowflake_documents = snowflake_loader.load()\n",
    "print(snowflake_documents)"
   ]
  },
  {
   "cell_type": "code",
   "execution_count": 2,
   "metadata": {},
   "outputs": [
    {
     "name": "stdout",
     "output_type": "stream",
     "text": [
      "[Document(page_content='text: o\\nsource: 720361', metadata={'source': '720361'}), Document(page_content='text: muy buena tienda\\nsource: 720361', metadata={'source': '720361'}), Document(page_content='text: bastante bien todo\\nsource: 720361', metadata={'source': '720361'}), Document(page_content='text: me gusta mucho\\nsource: 720361', metadata={'source': '720361'}), Document(page_content='text: ggjl\\nsource: 720361', metadata={'source': '720361'}), Document(page_content='text: fgyi\\nsource: 720361', metadata={'source': '720361'}), Document(page_content='text: los quiero\\nsource: 720361', metadata={'source': '720361'}), Document(page_content='text: putos\\nsource: 720361', metadata={'source': '720361'}), Document(page_content='text: j\\nsource: 720361', metadata={'source': '720361'}), Document(page_content='text: muy majos\\nsource: 720361', metadata={'source': '720361'})]\n"
     ]
    }
   ],
   "source": [
    "from snowflakeLoader import SnowflakeLoader\n",
    "import settings as s\n",
    "QUERY = \"select text, survey_id as source from CLOUD_DATA_SOLUTIONS.HAPPY_OR_NOT.OPEN_FEEDBACK limit 10\"\n",
    "snowflake_loader = SnowflakeLoader(\n",
    "    query=QUERY,\n",
    "    user=s.SNOWFLAKE_USER,\n",
    "    password=s.SNOWFLAKE_PASS,\n",
    "    account=s.SNOWFLAKE_ACCOUNT,\n",
    "    warehouse=s.SNOWFLAKE_WAREHOUSE,\n",
    "    role=s.SNOWFLAKE_ROLE,\n",
    "    database=s.SNOWFLAKE_DATABASE,\n",
    "    schema=s.SNOWFLAKE_SCHEMA,\n",
    "    metadata_columns=['source']\n",
    ")\n",
    "snowflake_documents = snowflake_loader.load()\n",
    "print(snowflake_documents)"
   ]
  }
 ],
 "metadata": {
  "kernelspec": {
   "display_name": "LangchainGPT-env",
   "language": "python",
   "name": "python3"
  },
  "language_info": {
   "codemirror_mode": {
    "name": "ipython",
    "version": 3
   },
   "file_extension": ".py",
   "mimetype": "text/x-python",
   "name": "python",
   "nbconvert_exporter": "python",
   "pygments_lexer": "ipython3",
   "version": "3.8.10"
  },
  "orig_nbformat": 4
 },
 "nbformat": 4,
 "nbformat_minor": 2
}
