{
 "cells": [
  {
   "attachments": {},
   "cell_type": "markdown",
   "id": "66a7777e",
   "metadata": {},
   "source": [
    "# Spotify\n",
    "\n",
    ">[Spotify](https://spotify.com/) is a an audio streaming and media services provider\n",
    "\n",
    "This notebook covers how to load data from the [Spotify API](https://developer.spotify.com/documentation/web-api) into a format that can be ingested into LangChain, along with example usage for vectorization."
   ]
  },
  {
   "cell_type": "code",
   "execution_count": null,
   "id": "43128d8d",
   "metadata": {
    "tags": []
   },
   "outputs": [],
   "source": [
    "import os\n",
    "\n",
    "from langchain.document_loaders import SpotifyMusicLoader\n",
    "from langchain.indexes import VectorstoreIndexCreator"
   ]
  },
  {
   "attachments": {},
   "cell_type": "markdown",
   "id": "77b635f9",
   "metadata": {},
   "source": [
    "Use of the Spotify API requires an access token. Learn more about generating [Access Tokens](https://developer.spotify.com/documentation/web-api/concepts/access-token)"
   ]
  },
  {
   "cell_type": "code",
   "execution_count": 13,
   "id": "35d6809a",
   "metadata": {
    "pycharm": {
     "name": "#%%\n"
    }
   },
   "outputs": [],
   "source": [
    "spotify_loader = SpotifyMusicLoader(\"tracks\")"
   ]
  },
  {
   "cell_type": "code",
   "execution_count": null,
   "id": "3470dadf",
   "metadata": {
    "collapsed": false,
    "jupyter": {
     "outputs_hidden": false
    },
    "pycharm": {
     "name": "#%%\n"
    }
   },
   "outputs": [],
   "source": [
    "# Create a vectorstore retriver from the loader\n",
    "# see https://python.langchain.com/en/latest/modules/indexes/getting_started.html for more details\n",
    "\n",
    "index = VectorstoreIndexCreator().from_loaders([spotify_loader])\n",
    "spotify_doc_retriever = index.vectorstore.as_retriever()"
   ]
  }
 ],
 "metadata": {
  "kernelspec": {
   "display_name": "Python 3 (ipykernel)",
   "language": "python",
   "name": "python3"
  },
  "language_info": {
   "codemirror_mode": {
    "name": "ipython",
    "version": 3
   },
   "file_extension": ".py",
   "mimetype": "text/x-python",
   "name": "python",
   "nbconvert_exporter": "python",
   "pygments_lexer": "ipython3",
   "version": "3.10.6"
  }
 },
 "nbformat": 4,
 "nbformat_minor": 5
}
