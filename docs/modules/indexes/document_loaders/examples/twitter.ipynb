{
 "cells": [
  {
   "cell_type": "markdown",
   "id": "66a7777e",
   "metadata": {},
   "source": [
    "# Twitter\n",
    "\n",
    "This loader fetches the text from the Tweets of a list of Twitter users, using the `tweepy` Python package.\n",
    "You must initialize the loader with your Twitter API token, and you need to pass in the Twitter username you want to extract."
   ]
  },
  {
   "cell_type": "code",
   "execution_count": 11,
   "id": "9ec8a3b3",
   "metadata": {},
   "outputs": [],
   "source": [
    "from langchain.document_loaders import TwitterTweetLoader"
   ]
  },
  {
   "cell_type": "code",
   "execution_count": 12,
   "id": "43128d8d",
   "metadata": {},
   "outputs": [],
   "source": [
    "#!pip install tweepy"
   ]
  },
  {
   "cell_type": "code",
   "execution_count": 13,
   "id": "35d6809a",
   "metadata": {
    "pycharm": {
     "name": "#%%\n"
    }
   },
   "outputs": [],
   "source": [
    "loader = TwitterTweetLoader(\n",
    "    access_token='YOUR ACCESS TOKEN',\n",
    "    access_token_secret='YOUR ACCESS TOKEN SECRET',\n",
    "    consumer_key='YOUR CONSUMER KEY',\n",
    "    consumer_secret='YOUR CONSUMER SECRET',\n",
    "    twitter_users=['elonmusk'],\n",
    "    number_tweets=50,  # Default value is 100\n",
    ")"
   ]
  },
  {
   "cell_type": "code",
   "execution_count": null,
   "outputs": [],
   "source": [
    "loader.load()"
   ],
   "metadata": {
    "collapsed": false,
    "pycharm": {
     "name": "#%%\n"
    }
   }
  }
 ],
 "metadata": {
  "kernelspec": {
   "display_name": "Python 3 (ipykernel)",
   "language": "python",
   "name": "python3"
  },
  "language_info": {
   "codemirror_mode": {
    "name": "ipython",
    "version": 3
   },
   "file_extension": ".py",
   "mimetype": "text/x-python",
   "name": "python",
   "nbconvert_exporter": "python",
   "pygments_lexer": "ipython3",
   "version": "3.10.9"
  }
 },
 "nbformat": 4,
 "nbformat_minor": 5
}