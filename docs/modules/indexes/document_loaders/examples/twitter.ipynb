{
 "cells": [
  {
   "cell_type": "markdown",
   "id": "66a7777e",
   "metadata": {},
   "source": [
    "# Twitter\n",
    "\n",
    "This loader fetches the text from the Tweets of a list of Twitter users, using the `tweepy` Python package.\n",
    "You must initialize the loader with your Twitter API token, and you need to pass in the Twitter username you want to extract."
   ]
  },
  {
   "cell_type": "code",
   "execution_count": 1,
   "id": "9ec8a3b3",
   "metadata": {},
   "outputs": [],
   "source": [
    "from langchain.document_loaders import TwitterTweetLoader"
   ]
  },
  {
   "cell_type": "code",
   "execution_count": 2,
   "id": "43128d8d",
   "metadata": {},
   "outputs": [],
   "source": [
    "#!pip install tweepy"
   ]
  },
  {
   "cell_type": "code",
   "execution_count": 3,
   "id": "35d6809a",
   "metadata": {
    "pycharm": {
     "name": "#%%\n"
    }
   },
   "outputs": [],
   "source": [
    "loader = TwitterTweetLoader.from_bearer_token(\n",
    "    oauth2_bearer_token=\"YOUR BEARER TOKEN\",\n",
    "    twitter_users=['elonmusk'],\n",
    "    number_tweets=50,  # Default value is 100\n",
    ")\n",
    "\n",
    "# Or load from access token and consumer keys\n",
    "# loader = TwitterTweetLoader.from_secrets(\n",
    "#     access_token='YOUR ACCESS TOKEN',\n",
    "#     access_token_secret='YOUR ACCESS TOKEN SECRET',\n",
    "#     consumer_key='YOUR CONSUMER KEY',\n",
    "#     consumer_secret='YOUR CONSUMER SECRET',\n",
    "#     twitter_users=['elonmusk'],\n",
    "#     number_tweets=50,\n",
    "# )"
   ]
  },
  {
   "cell_type": "code",
   "execution_count": 4,
   "metadata": {
    "collapsed": false,
    "pycharm": {
     "name": "#%%\n"
    }
   },
   "outputs": [
    {
     "data": {
      "text/plain": [
       "[Document(page_content=\"Created At:Tue Apr 18 03:37:17 +0000 2023,Content:@KanekoaTheGreat The Golden Rule\\nCreated At:Tue Apr 18 03:35:48 +0000 2023,Content:@KanekoaTheGreat 🧐\\nCreated At:Tue Apr 18 03:32:17 +0000 2023,Content:@TRHLofficial What’s he talking about and why is it sponsored by Erik’s son?\\nCreated At:Tue Apr 18 03:28:54 +0000 2023,Content:@greg_price11 Umm … no\\nCreated At:Tue Apr 18 03:10:54 +0000 2023,Content:@alifarhat79 😳\\nCreated At:Tue Apr 18 03:10:16 +0000 2023,Content:@SpaceX Perhaps inevitable\\nCreated At:Tue Apr 18 02:44:41 +0000 2023,Content:Fun times 🤩\\nCreated At:Tue Apr 18 02:43:04 +0000 2023,Content:@teslaownersSV This will be great. Coming soon. Maximum protection for users.\\nCreated At:Tue Apr 18 02:40:55 +0000 2023,Content:@Anc_Aesthetics Sorry about this. Yes, subscribe now via web or wait a few days for Apple to approve. \\n\\nNote: creat… https://t.co/ltA1UgAUg4\\nCreated At:Tue Apr 18 02:35:58 +0000 2023,Content:@cb_doge Yup\\nCreated At:Tue Apr 18 02:07:31 +0000 2023,Content:@stevenmarkryan Takes a few days for Apple to approve subscriptions, iOS lags web subscriptions by a few days\\nCreated At:Tue Apr 18 02:02:17 +0000 2023,Content:@TimSweeneyEpic @GMatrixGames 💯\\nCreated At:Tue Apr 18 01:52:05 +0000 2023,Content:@TheRabbitHole84 Population collapse is a massive threat to civilization\\nCreated At:Tue Apr 18 01:26:28 +0000 2023,Content:Canadian Broadcasting Corp said they’re “less than 70% government-funded”, so we corrected the label https://t.co/lU1EWf76Zu\\nCreated At:Tue Apr 18 00:58:23 +0000 2023,Content:@alx Fundamentally important\\nCreated At:Tue Apr 18 00:46:26 +0000 2023,Content:@itsALLrisky @TitterDaily @CBC Good point, generosity is always the right move. 69% it is!\\nCreated At:Tue Apr 18 00:35:03 +0000 2023,Content:@TitterDaily @CBC Their concern has been addressed https://t.co/pSm6KotlZL\\nCreated At:Mon Apr 17 23:59:15 +0000 2023,Content:Mini Starship with flame!\\nhttps://t.co/VGKHyaikTd\\nCreated At:Mon Apr 17 23:39:58 +0000 2023,Content:@TitterDaily @CBC Just trying to be accurate. Would they be ok if we said 70% govt funded?\\nCreated At:Mon Apr 17 22:54:29 +0000 2023,Content:RT @SpaceX: Teams are working towards Thursday, April 20 for the first flight test of a fully integrated Starship and Super Heavy rocket →…\\nCreated At:Mon Apr 17 16:45:13 +0000 2023,Content:RT @TwitterSafety: We will continue to remove illegal content and suspend bad actors from our platform. We’re committed to increasing trans…\\nCreated At:Mon Apr 17 16:45:11 +0000 2023,Content:RT @TwitterSafety: We may get it wrong occasionally, so authors will be able to submit feedback on the label if they think we incorrectly l…\\nCreated At:Mon Apr 17 16:45:07 +0000 2023,Content:RT @TwitterSafety: These actions will be taken at a tweet level only and will not affect a user’s account. Restricting the reach of Tweets…\\nCreated At:Mon Apr 17 16:45:03 +0000 2023,Content:RT @TwitterSafety: We’re adding more transparency to the enforcement actions we take on Tweets. As a first step, soon you’ll start to see l…\\nCreated At:Mon Apr 17 15:32:09 +0000 2023,Content:@Investingcom Was alerted this weekend. Looking into it.\\nCreated At:Mon Apr 17 15:19:03 +0000 2023,Content:@__SeriousGemini Fate\\nCreated At:Mon Apr 17 13:29:01 +0000 2023,Content:Learned a lot today, now offloading propellant, retrying in a few days …\\nCreated At:Mon Apr 17 13:11:17 +0000 2023,Content:A pressurant valve appears to be frozen, so unless it starts operating soon, no launch today\\nCreated At:Mon Apr 17 12:18:42 +0000 2023,Content:Cryogenic propellant load of Starship is underway, liftoff in T minus 1 hour\\nCreated At:Mon Apr 17 11:53:11 +0000 2023,Content:RT @SpaceX: As we venture into new territory, we continue to appreciate all of the support and encouragement we have received from those wh…\\nCreated At:Mon Apr 17 11:53:07 +0000 2023,Content:RT @SpaceX: The Starship team is go for prop load. Now targeting 8:20 a.m. CT→ https://t.co/bJFjLCiTbK https://t.co/8oRkmzwRRf\\nCreated At:Mon Apr 17 05:46:06 +0000 2023,Content:Starship launch attempt in ~7 hours\\nCreated At:Mon Apr 17 05:44:50 +0000 2023,Content:@KobeissiLetter Treasury is (obviously) correct\\nCreated At:Mon Apr 17 04:31:29 +0000 2023,Content:@TrungTPhan @BillyM2k Same\\nCreated At:Mon Apr 17 01:38:23 +0000 2023,Content:@johnkrausphotos An implausible rocket on the beach\\nCreated At:Mon Apr 17 01:30:34 +0000 2023,Content:@GailAlfarATX @SpaceX Yes\\nCreated At:Mon Apr 17 01:29:54 +0000 2023,Content:@DurantQuotesBot Low birthrate is under-appreciated as causal in the fall of civilizations. Rome was having birth r… https://t.co/WTJyAiju9H\\nCreated At:Mon Apr 17 01:25:09 +0000 2023,Content:@unusual_whales Thanks for the subtitles 🤣🤣\\nCreated At:Mon Apr 17 01:12:05 +0000 2023,Content:RT @SpaceX: T-12 hours until the first flight test of a fully integrated Starship and Super Heavy rocket; targeting ~8:00 a.m. CT for lifto…\\nCreated At:Mon Apr 17 00:42:16 +0000 2023,Content:@DurantQuotesBot So it goes …\\nCreated At:Mon Apr 17 00:21:15 +0000 2023,Content:@WallStreetSilv Exactly\\nCreated At:Sun Apr 16 22:58:28 +0000 2023,Content:@waitbutwhy @SpaceX We will try\\nCreated At:Sun Apr 16 22:51:20 +0000 2023,Content:@GailAlfarATX Yeah\\nCreated At:Sun Apr 16 22:23:56 +0000 2023,Content:RT @SpaceX: Starship's flight test window opens at 7:00 a.m. CT tomorrow; a live webcast will begin ~45 minutes before liftoff → https://t.…\\nCreated At:Sun Apr 16 16:32:01 +0000 2023,Content:@robbystarbuck @USNavy !\\nCreated At:Sun Apr 16 16:30:32 +0000 2023,Content:@DrLoupis In any event, good manners require using the person’s name, not their pronoun, when referring to them\\nCreated At:Sun Apr 16 16:18:14 +0000 2023,Content:@SawyerMerritt I subscribed\\nCreated At:Sun Apr 16 15:53:46 +0000 2023,Content:@alifarhat79 You’re welcome, now if only you were the actual head of the Fed!\\n\", metadata={'id': 44196397, 'id_str': '44196397', 'name': 'Elon Musk', 'screen_name': 'elonmusk', 'location': 'A Shortfall of Gravitas', 'profile_location': None, 'description': 'nothing', 'url': None, 'entities': {'description': {'urls': []}}, 'protected': False, 'followers_count': 135526913, 'friends_count': 220, 'listed_count': 120477, 'created_at': 'Tue Jun 02 20:12:29 +0000 2009', 'favourites_count': 21284, 'utc_offset': None, 'time_zone': None, 'geo_enabled': False, 'verified': False, 'statuses_count': 24793, 'lang': None, 'status': {'created_at': 'Tue Apr 18 03:37:17 +0000 2023', 'id': 1648168796199215105, 'id_str': '1648168796199215105', 'text': '@KanekoaTheGreat The Golden Rule', 'truncated': False, 'entities': {'hashtags': [], 'symbols': [], 'user_mentions': [{'screen_name': 'KanekoaTheGreat', 'name': 'KanekoaTheGreat', 'id': 1085225533623783424, 'id_str': '1085225533623783424', 'indices': [0, 16]}], 'urls': []}, 'source': '<a href=\"http://twitter.com/download/iphone\" rel=\"nofollow\">Twitter for iPhone</a>', 'in_reply_to_status_id': 1648160045690138624, 'in_reply_to_status_id_str': '1648160045690138624', 'in_reply_to_user_id': 1085225533623783424, 'in_reply_to_user_id_str': '1085225533623783424', 'in_reply_to_screen_name': 'KanekoaTheGreat', 'geo': None, 'coordinates': None, 'place': None, 'contributors': None, 'is_quote_status': False, 'retweet_count': 25, 'favorite_count': 215, 'favorited': False, 'retweeted': False, 'lang': 'en'}, 'contributors_enabled': False, 'is_translator': False, 'is_translation_enabled': False, 'profile_background_color': 'C0DEED', 'profile_background_image_url': 'http://abs.twimg.com/images/themes/theme1/bg.png', 'profile_background_image_url_https': 'https://abs.twimg.com/images/themes/theme1/bg.png', 'profile_background_tile': False, 'profile_image_url': 'http://pbs.twimg.com/profile_images/1590968738358079488/IY9Gx6Ok_normal.jpg', 'profile_image_url_https': 'https://pbs.twimg.com/profile_images/1590968738358079488/IY9Gx6Ok_normal.jpg', 'profile_banner_url': 'https://pbs.twimg.com/profile_banners/44196397/1576183471', 'profile_link_color': '0084B4', 'profile_sidebar_border_color': 'C0DEED', 'profile_sidebar_fill_color': 'DDEEF6', 'profile_text_color': '333333', 'profile_use_background_image': True, 'has_extended_profile': True, 'default_profile': False, 'default_profile_image': False, 'following': None, 'follow_request_sent': None, 'notifications': None, 'translator_type': 'none', 'withheld_in_countries': []})]"
      ]
     },
     "execution_count": 4,
     "metadata": {},
     "output_type": "execute_result"
    }
   ],
   "source": [
    "loader.load()"
   ]
  },
  {
   "cell_type": "code",
   "execution_count": null,
   "id": "156f6001",
   "metadata": {},
   "outputs": [],
   "source": []
  }
 ],
 "metadata": {
  "kernelspec": {
   "display_name": "Python 3 (ipykernel)",
   "language": "python",
   "name": "python3"
  },
  "language_info": {
   "codemirror_mode": {
    "name": "ipython",
    "version": 3
   },
   "file_extension": ".py",
   "mimetype": "text/x-python",
   "name": "python",
   "nbconvert_exporter": "python",
   "pygments_lexer": "ipython3",
   "version": "3.11.2"
  }
 },
 "nbformat": 4,
 "nbformat_minor": 5
}
