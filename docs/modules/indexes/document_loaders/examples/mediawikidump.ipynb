{
 "cells": [
  {
   "cell_type": "markdown",
   "metadata": {},
   "source": [
    "# MediaWikiDump\n",
    "\n",
    "This covers how to load a MediaWiki XML dump file into a document format that we can use downstream.\n",
    "\n",
    "It uses mwxml from mediawiki-utilities to dump and mwparserfromhell from earwig to parse MediaWiki wikicode.\n",
    "\n",
    "Dump files can be obtained with dumpBackup.php or on the Special:Statistics page of the Wiki."
   ]
  },
  {
   "cell_type": "code",
   "execution_count": null,
   "metadata": {
    "id": "IXigDil0pANf"
   },
   "outputs": [],
   "source": [
    "#mediawiki-utilities supports XML schema 0.11 in unmerged branches\n",
    "!pip install -qU git+https://github.com/mediawiki-utilities/python-mwtypes@updates_schema_0.11\n",
    "#mediawiki-utilities mwxml has a bug, fix PR pending\n",
    "!pip install -qU git+https://github.com/gdedrouas/python-mwxml@xml_format_0.11\n",
    "!pip install -qU mwparserfromhell"
   ]
  },
  {
   "cell_type": "code",
   "execution_count": null,
   "metadata": {
    "id": "8-vB5XGHsE85"
   },
   "outputs": [],
   "source": [
    "from langchain.document_loaders.mediawikidump import MWDumpLoader\n",
    "from langchain.docstore.document import Document"
   ]
  },
  {
   "cell_type": "code",
   "execution_count": null,
   "metadata": {
    "id": "i6e42MSkqEeH"
   },
   "outputs": [],
   "source": [
    "loader = MWDumpLoader(\"example_data/testmw_pages_current.xml\", encoding=\"utf8\")\n",
    "documents = loader.load()\n",
    "print (f'You have {len(documents)} document(s) in your data ')"
   ]
  },
  {
   "cell_type": "code",
   "execution_count": null,
   "metadata": {
    "id": "C2qbBVrjFK_H"
   },
   "outputs": [],
   "source": [
    "documents"
   ]
  }
 ],
 "metadata": {
  "colab": {
   "provenance": [],
   "toc_visible": true
  },
  "kernelspec": {
   "display_name": "Python 3 (ipykernel)",
   "language": "python",
   "name": "python3"
  },
  "language_info": {
   "codemirror_mode": {
    "name": "ipython",
    "version": 3
   },
   "file_extension": ".py",
   "mimetype": "text/x-python",
   "name": "python",
   "nbconvert_exporter": "python",
   "pygments_lexer": "ipython3",
   "version": "3.9.13"
  }
 },
 "nbformat": 4,
 "nbformat_minor": 1
}
