{
 "cells": [
  {
   "cell_type": "markdown",
   "id": "04c9fdc5",
   "metadata": {},
   "source": [
    "# HuggingFace dataset loader \n",
    "\n",
    "This notebook shows how to load Hugging Face Hub datasets to LangChain.\n",
    "\n",
    "The Hugging Face Hub hosts a large number of community-curated datasets for a diverse range of tasks such as translation, automatic speech recognition, and image classification.\n"
   ]
  },
  {
   "cell_type": "code",
   "execution_count": 17,
   "id": "1815c866",
   "metadata": {},
   "outputs": [],
   "source": [
    "from langchain.document_loaders import HuggingFaceDatasetLoader"
   ]
  },
  {
   "cell_type": "code",
   "execution_count": 7,
   "id": "3611e092",
   "metadata": {},
   "outputs": [],
   "source": [
    "dataset_name=\"imdb\"\n",
    "page_content_column=\"text\"\n",
    "\n",
    "\n",
    "loader=HuggingFaceDatasetLoader(dataset_name,page_content_column)"
   ]
  },
  {
   "cell_type": "code",
   "execution_count": null,
   "id": "5e903ebc",
   "metadata": {},
   "outputs": [],
   "source": [
    "data = loader.load()"
   ]
  },
  {
   "cell_type": "code",
   "execution_count": 10,
   "id": "e8559946",
   "metadata": {},
   "outputs": [
    {
     "data": {
      "text/plain": [
       "[Document(page_content='I rented I AM CURIOUS-YELLOW from my video store because of all the controversy that surrounded it when it was first released in 1967. I also heard that at first it was seized by U.S. customs if it ever tried to enter this country, therefore being a fan of films considered \"controversial\" I really had to see this for myself.<br /><br />The plot is centered around a young Swedish drama student named Lena who wants to learn everything she can about life. In particular she wants to focus her attentions to making some sort of documentary on what the average Swede thought about certain political issues such as the Vietnam War and race issues in the United States. In between asking politicians and ordinary denizens of Stockholm about their opinions on politics, she has sex with her drama teacher, classmates, and married men.<br /><br />What kills me about I AM CURIOUS-YELLOW is that 40 years ago, this was considered pornographic. Really, the sex and nudity scenes are few and far between, even then it\\'s not shot like some cheaply made porno. While my countrymen mind find it shocking, in reality sex and nudity are a major staple in Swedish cinema. Even Ingmar Bergman, arguably their answer to good old boy John Ford, had sex scenes in his films.<br /><br />I do commend the filmmakers for the fact that any sex shown in the film is shown for artistic purposes rather than just to shock people and make money to be shown in pornographic theaters in America. I AM CURIOUS-YELLOW is a good film for anyone wanting to study the meat and potatoes (no pun intended) of Swedish cinema. But really, this film doesn\\'t have much of a plot.', metadata={'label': 0}),\n",
       " Document(page_content='\"I Am Curious: Yellow\" is a risible and pretentious steaming pile. It doesn\\'t matter what one\\'s political views are because this film can hardly be taken seriously on any level. As for the claim that frontal male nudity is an automatic NC-17, that isn\\'t true. I\\'ve seen R-rated films with male nudity. Granted, they only offer some fleeting views, but where are the R-rated films with gaping vulvas and flapping labia? Nowhere, because they don\\'t exist. The same goes for those crappy cable shows: schlongs swinging in the breeze but not a clitoris in sight. And those pretentious indie movies like The Brown Bunny, in which we\\'re treated to the site of Vincent Gallo\\'s throbbing johnson, but not a trace of pink visible on Chloe Sevigny. Before crying (or implying) \"double-standard\" in matters of nudity, the mentally obtuse should take into account one unavoidably obvious anatomical difference between men and women: there are no genitals on display when actresses appears nude, and the same cannot be said for a man. In fact, you generally won\\'t see female genitals in an American film in anything short of porn or explicit erotica. This alleged double-standard is less a double standard than an admittedly depressing ability to come to terms culturally with the insides of women\\'s bodies.', metadata={'label': 0}),\n",
       " Document(page_content=\"If only to avoid making this type of film in the future. This film is interesting as an experiment but tells no cogent story.<br /><br />One might feel virtuous for sitting thru it because it touches on so many IMPORTANT issues but it does so without any discernable motive. The viewer comes away with no new perspectives (unless one comes up with one while one's mind wanders, as it will invariably do during this pointless film).<br /><br />One might better spend one's time staring out a window at a tree growing.<br /><br />\", metadata={'label': 0})]"
      ]
     },
     "execution_count": 10,
     "metadata": {},
     "output_type": "execute_result"
    }
   ],
   "source": [
    "data[:3]"
   ]
  },
  {
   "cell_type": "markdown",
   "id": "021bc377",
   "metadata": {},
   "source": [
    "## Example \n",
    "In this example, we use data from a dataset to answer a question"
   ]
  },
  {
   "cell_type": "code",
   "execution_count": 8,
   "id": "d924885c",
   "metadata": {},
   "outputs": [],
   "source": [
    "from langchain.indexes import VectorstoreIndexCreator\n",
    "from langchain.document_loaders.hugging_face_dataset import HuggingFaceDatasetLoader"
   ]
  },
  {
   "cell_type": "code",
   "execution_count": 24,
   "id": "f94ce6a3",
   "metadata": {},
   "outputs": [],
   "source": [
    "dataset_name=\"tweet_eval\"\n",
    "page_content_column=\"text\"\n",
    "name=\"stance_climate\"\n",
    "\n",
    "\n",
    "loader=HuggingFaceDatasetLoader(dataset_name,page_content_column,name)"
   ]
  },
  {
   "cell_type": "code",
   "execution_count": 26,
   "id": "abb51899",
   "metadata": {},
   "outputs": [
    {
     "name": "stderr",
     "output_type": "stream",
     "text": [
      "Found cached dataset tweet_eval\n"
     ]
    },
    {
     "data": {
      "application/vnd.jupyter.widget-view+json": {
       "model_id": "4b10969d08df4e6792eaafc6d41fe366",
       "version_major": 2,
       "version_minor": 0
      },
      "text/plain": [
       "  0%|          | 0/3 [00:00<?, ?it/s]"
      ]
     },
     "metadata": {},
     "output_type": "display_data"
    },
    {
     "name": "stderr",
     "output_type": "stream",
     "text": [
      "Using embedded DuckDB without persistence: data will be transient\n"
     ]
    }
   ],
   "source": [
    "index = VectorstoreIndexCreator().from_loaders([loader])"
   ]
  },
  {
   "cell_type": "code",
   "execution_count": 29,
   "id": "c0108277",
   "metadata": {},
   "outputs": [],
   "source": [
    "query = \"What are the most used hashtag?\"\n",
    "result = index.query(query)"
   ]
  },
  {
   "cell_type": "code",
   "execution_count": 30,
   "id": "548b6e56",
   "metadata": {},
   "outputs": [
    {
     "data": {
      "text/plain": [
       "' The most used hashtags in this context are #UKClimate2015, #Sustainability, #TakeDownTheFlag, #LoveWins, #CSOTA, #ClimateSummitoftheAmericas, #SM, and #SocialMedia.'"
      ]
     },
     "execution_count": 30,
     "metadata": {},
     "output_type": "execute_result"
    }
   ],
   "source": [
    "result"
   ]
  },
  {
   "cell_type": "markdown",
   "id": "06d6bb82",
   "metadata": {},
   "source": [
    "## Dataset streaming \n",
    "\n",
    "Dataset streaming lets you work with a dataset without downloading it. The data is streamed as you iterate over the dataset. This is especially helpful when:\n",
    "\n",
    "You don’t want to wait for an extremely large dataset to download.\n",
    "\n",
    "The dataset size exceeds the amount of available disk space on your computer.\n",
    "\n",
    "You want to quickly explore just a few samples of a dataset."
   ]
  },
  {
   "cell_type": "code",
   "execution_count": 12,
   "id": "18d5c9dc",
   "metadata": {},
   "outputs": [],
   "source": [
    "\n",
    "path=\"glue\"\n",
    "name=\"qnli\"\n",
    "batch_size=5 ## by default its 10\n",
    "page_content_column=\"sentence\"\n",
    "\n",
    "\n",
    "loader=HuggingFaceDatasetLoader(path=dataset_name,name=name,page_content_column=page_content_column,batch_size=batch_size,streaming=True)\n",
    "\n"
   ]
  },
  {
   "cell_type": "markdown",
   "id": "74c7727e",
   "metadata": {},
   "source": [
    "### Stream first 5 element"
   ]
  },
  {
   "cell_type": "code",
   "execution_count": 13,
   "id": "449201f4",
   "metadata": {},
   "outputs": [
    {
     "name": "stderr",
     "output_type": "stream",
     "text": [
      "Downloading builder script: 100%|█████████████████████████████████| 28.8k/28.8k [00:00<00:00, 3.80MB/s]\n",
      "Downloading metadata: 100%|███████████████████████████████████████| 28.7k/28.7k [00:00<00:00, 4.27MB/s]\n",
      "Downloading readme: 100%|█████████████████████████████████████████| 27.9k/27.9k [00:00<00:00, 3.76MB/s]\n"
     ]
    },
    {
     "data": {
      "text/plain": [
       "[Document(page_content='Unlike the two seasons before it and most of the seasons that followed, Digimon Tamers takes a darker and more realistic approach to its story featuring Digimon who do not reincarnate after their deaths and more complex character development in the original Japanese.', metadata={'question': 'When did the third Digimon series begin?', 'label': 1, 'idx': 0}),\n",
       " Document(page_content='When MANPADS is operated by specialists, batteries may have several dozen teams deploying separately in small sections; self-propelled air defence guns may deploy in pairs.', metadata={'question': 'Which missile batteries often have individual launchers several kilometres from one another?', 'label': 1, 'idx': 1}),\n",
       " Document(page_content='He bases this interpretation on the fact that examples such as the one described above refer to two things: assertions and the facts to which they refer.', metadata={'question': \"What two things does Popper argue Tarski's theory involves in an evaluation of truth?\", 'label': 0, 'idx': 2}),\n",
       " Document(page_content='On 31 December 1853, the Ottoman forces at Calafat moved against the Russian force at Chetatea or Cetate, a small village nine miles north of Calafat, and engaged them on 6 January 1854.', metadata={'question': 'What is the name of the village 9 miles north of Calafat where the Ottoman forces attacked the Russians?', 'label': 0, 'idx': 3}),\n",
       " Document(page_content=\"London contains four World Heritage Sites: the Tower of London; Kew Gardens; the site comprising the Palace of Westminster, Westminster Abbey, and St Margaret's Church; and the historic settlement of Greenwich (in which the Royal Observatory, Greenwich marks the Prime Meridian, 0° longitude, and GMT).\", metadata={'question': 'What famous palace is located in London?', 'label': 1, 'idx': 4})]"
      ]
     },
     "execution_count": 13,
     "metadata": {},
     "output_type": "execute_result"
    }
   ],
   "source": [
    "loader.load()"
   ]
  },
  {
   "cell_type": "markdown",
   "id": "2112f147",
   "metadata": {},
   "source": [
    "### Stream next 5 element"
   ]
  },
  {
   "cell_type": "code",
   "execution_count": 14,
   "id": "d48533cf",
   "metadata": {},
   "outputs": [
    {
     "data": {
      "text/plain": [
       "[Document(page_content='When talking about the German language, the term German dialects is only used for the traditional regional varieties.', metadata={'question': \"When is the term 'German dialects' used in regard to the German language?\", 'label': 0, 'idx': 5}),\n",
       " Document(page_content='At the end of the Second Anglo-Dutch War, the English gained New Amsterdam (New York) in North America in exchange for Dutch control of Run, an Indonesian island.', metadata={'question': 'What was the name of the island the English traded to the Dutch in return for New Amsterdam?', 'label': 0, 'idx': 6}),\n",
       " Document(page_content='From the 1720s onward, the kingdom was beset with repeated Meithei raids into Upper Myanmar and a nagging rebellion in Lan Na.', metadata={'question': 'How were the Portuguese expelled from Myanmar?', 'label': 1, 'idx': 7}),\n",
       " Document(page_content='The bill also required rotation of principal maintenance inspectors and stipulated that the word \"customer\" properly applies to the flying public, not those entities regulated by the FAA.', metadata={'question': \"What does the word 'customer' properly apply to?\", 'label': 0, 'idx': 8}),\n",
       " Document(page_content='Arsenal then competed in three consecutive FA Cup finals between 1978 and 1980 wearing their \"lucky\" yellow and blue strip, which remained the club\\'s away strip until the release of a green and navy away kit in 1982–83.', metadata={'question': 'What did Arsenal consider the yellow and blue colors to be after losing a FA Cup final wearing red and white?', 'label': 0, 'idx': 9})]"
      ]
     },
     "execution_count": 14,
     "metadata": {},
     "output_type": "execute_result"
    }
   ],
   "source": [
    "loader.load()"
   ]
  },
  {
   "cell_type": "code",
   "execution_count": null,
   "id": "9843f4f6",
   "metadata": {},
   "outputs": [],
   "source": []
  }
 ],
 "metadata": {
  "kernelspec": {
   "display_name": "Python 3 (ipykernel)",
   "language": "python",
   "name": "python3"
  },
  "language_info": {
   "codemirror_mode": {
    "name": "ipython",
    "version": 3
   },
   "file_extension": ".py",
   "mimetype": "text/x-python",
   "name": "python",
   "nbconvert_exporter": "python",
   "pygments_lexer": "ipython3",
   "version": "3.8.12"
  }
 },
 "nbformat": 4,
 "nbformat_minor": 5
}
