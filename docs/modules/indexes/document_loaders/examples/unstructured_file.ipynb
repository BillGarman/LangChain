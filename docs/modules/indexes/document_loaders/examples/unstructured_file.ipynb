{
 "cells": [
  {
   "attachments": {},
   "cell_type": "markdown",
   "id": "20deed05",
   "metadata": {},
   "source": [
    "# Unstructured File\n",
    "\n",
    "This notebook covers how to use `Unstructured` package to load files of many types. `Unstructured` currently supports loading of text files, powerpoints, html, pdfs, images, and more."
   ]
  },
  {
   "cell_type": "code",
   "execution_count": null,
   "id": "2886982e",
   "metadata": {},
   "outputs": [],
   "source": [
    "# # Install package\n",
    "!pip install \"unstructured[local-inference]\"\n",
    "!pip install \"detectron2@git+https://github.com/facebookresearch/detectron2.git@v0.6#egg=detectron2\"\n",
    "!pip install layoutparser[layoutmodels,tesseract]"
   ]
  },
  {
   "cell_type": "code",
   "execution_count": 2,
   "id": "54d62efd",
   "metadata": {},
   "outputs": [],
   "source": [
    "# # Install other dependencies\n",
    "# # https://github.com/Unstructured-IO/unstructured/blob/main/docs/source/installing.rst\n",
    "# !brew install libmagic\n",
    "# !brew install poppler\n",
    "# !brew install tesseract\n",
    "# # If parsing xml / html documents:\n",
    "# !brew install libxml2\n",
    "# !brew install libxslt"
   ]
  },
  {
   "cell_type": "code",
   "execution_count": 3,
   "id": "af6a64f5",
   "metadata": {},
   "outputs": [],
   "source": [
    "# import nltk\n",
    "# nltk.download('punkt')"
   ]
  },
  {
   "cell_type": "code",
   "execution_count": 4,
   "id": "79d3e549",
   "metadata": {},
   "outputs": [],
   "source": [
    "from langchain.document_loaders import UnstructuredFileLoader"
   ]
  },
  {
   "cell_type": "code",
   "execution_count": 5,
   "id": "2593d1dc",
   "metadata": {},
   "outputs": [],
   "source": [
    "loader = UnstructuredFileLoader(\"./example_data/whatsapp_chat.txt\")"
   ]
  },
  {
   "cell_type": "code",
   "execution_count": 6,
   "id": "fe34e941",
   "metadata": {},
   "outputs": [],
   "source": [
    "docs = loader.load()"
   ]
  },
  {
   "cell_type": "code",
   "execution_count": 7,
   "id": "ee449788",
   "metadata": {},
   "outputs": [
    {
     "data": {
      "text/plain": [
       "'1/22/23, 6:30 PM - User 1: Hi! Im interested in your bag. Im offering $50. Let me know if you are interested. Thanks! 1/22/23, 8:24 PM - User 2: Goodmorning! $50 is too low. 1/23/23, 2:59 AM - User 1: How much do you want? 1/23/23, 3:00 AM - User 2: Online is at least $100 1/23/23, 3:01 AM - User 2: Here is $129 1/23/23, 3:01 AM - User 2: <Media omitted> 1/23/23, 3:01 AM - User 1: Im not intereste'"
      ]
     },
     "execution_count": 7,
     "metadata": {},
     "output_type": "execute_result"
    }
   ],
   "source": [
    "docs[0].page_content[:400]"
   ]
  },
  {
   "attachments": {},
   "cell_type": "markdown",
   "id": "7874d01d",
   "metadata": {},
   "source": [
    "## Retain Elements\n",
    "\n",
    "Under the hood, Unstructured creates different \"elements\" for different chunks of text. By default we combine those together, but you can easily keep that separation by specifying `mode=\"elements\"`."
   ]
  },
  {
   "cell_type": "code",
   "execution_count": 8,
   "id": "ff5b616d",
   "metadata": {},
   "outputs": [],
   "source": [
    "loader = UnstructuredFileLoader(\"./example_data/whatsapp_chat.txt\", mode=\"elements\")"
   ]
  },
  {
   "cell_type": "code",
   "execution_count": 9,
   "id": "feca3b6c",
   "metadata": {},
   "outputs": [],
   "source": [
    "docs = loader.load()"
   ]
  },
  {
   "cell_type": "code",
   "execution_count": 10,
   "id": "fec5bbac",
   "metadata": {},
   "outputs": [
    {
     "data": {
      "text/plain": [
       "[Document(page_content='1/22/23, 6:30 PM - User 1: Hi! Im interested in your bag. Im offering $50. Let me know if you are interested. Thanks! 1/22/23, 8:24 PM - User 2: Goodmorning! $50 is too low. 1/23/23, 2:59 AM - User 1: How much do you want? 1/23/23, 3:00 AM - User 2: Online is at least $100 1/23/23, 3:01 AM - User 2: Here is $129 1/23/23, 3:01 AM - User 2: <Media omitted> 1/23/23, 3:01 AM - User 1: Im not interested in this bag. Im interested in the blue one! 1/23/23, 3:02 AM - User 1: I thought you were selling the blue one! 1/23/23, 3:18 AM - User 2: No Im sorry it was my mistake, the blue one is not for sale 1/23/23, 3:19 AM - User 1: Oh no worries! Bye 1/23/23, 3:19 AM - User 2: Bye! 1/23/23, 3:22_AM - User 1: And let me know if anything changes', metadata={'source': './example_data/whatsapp_chat.txt', 'filetype': 'TXT', 'file_mod_date': '2023-05-10 02:39:59', 'file_create_date': '2023-05-10 02:39:59', 'filename': './example_data/whatsapp_chat.txt', 'category': 'NarrativeText'})]"
      ]
     },
     "execution_count": 10,
     "metadata": {},
     "output_type": "execute_result"
    }
   ],
   "source": [
    "docs[:5]"
   ]
  },
  {
   "attachments": {},
   "cell_type": "markdown",
   "id": "672733fd",
   "metadata": {},
   "source": [
    "## Define a Partitioning Strategy\n",
    "\n",
    "Unstructured document loader allow users to pass in a `strategy` parameter that lets `unstructured` know how to partition the document. Currently supported strategies are `\"hi_res\"` (the default) and `\"fast\"`. Hi res partitioning strategies are more accurate, but take longer to process. Fast strategies partition the document more quickly, but trade-off accuracy. Not all document types have separate hi res and fast partitioning strategies. For those document types, the `strategy` kwarg is ignored. In some cases, the high res strategy will fallback to fast if there is a dependency missing (i.e. a model for document partitioning). You can see how to apply a strategy to an `UnstructuredFileLoader` below."
   ]
  },
  {
   "cell_type": "code",
   "execution_count": 1,
   "id": "767238a4",
   "metadata": {},
   "outputs": [],
   "source": [
    "from langchain.document_loaders import UnstructuredFileLoader"
   ]
  },
  {
   "cell_type": "code",
   "execution_count": 12,
   "id": "9518b425",
   "metadata": {},
   "outputs": [],
   "source": [
    "loader = UnstructuredFileLoader(\"./example_data/layout-parser-paper.pdf\", strategy=\"fast\", mode=\"elements\")"
   ]
  },
  {
   "cell_type": "code",
   "execution_count": 13,
   "id": "645f29e9",
   "metadata": {},
   "outputs": [],
   "source": [
    "docs = loader.load()"
   ]
  },
  {
   "cell_type": "code",
   "execution_count": 14,
   "id": "60685353",
   "metadata": {},
   "outputs": [
    {
     "data": {
      "text/plain": [
       "[Document(page_content='1 2 0 2', metadata={'source': './example_data/layout-parser-paper.pdf', 'filetype': 'PDF', 'file_mod_date': '2023-05-10 02:39:59', 'file_create_date': '2023-05-10 02:39:59', 'filename': './example_data/layout-parser-paper.pdf', 'page_number': 1, 'category': 'UncategorizedText'}),\n",
       " Document(page_content='n u J', metadata={'source': './example_data/layout-parser-paper.pdf', 'filetype': 'PDF', 'file_mod_date': '2023-05-10 02:39:59', 'file_create_date': '2023-05-10 02:39:59', 'filename': './example_data/layout-parser-paper.pdf', 'page_number': 1, 'category': 'Title'}),\n",
       " Document(page_content='1 2', metadata={'source': './example_data/layout-parser-paper.pdf', 'filetype': 'PDF', 'file_mod_date': '2023-05-10 02:39:59', 'file_create_date': '2023-05-10 02:39:59', 'filename': './example_data/layout-parser-paper.pdf', 'page_number': 1, 'category': 'UncategorizedText'}),\n",
       " Document(page_content=']', metadata={'source': './example_data/layout-parser-paper.pdf', 'filetype': 'PDF', 'file_mod_date': '2023-05-10 02:39:59', 'file_create_date': '2023-05-10 02:39:59', 'filename': './example_data/layout-parser-paper.pdf', 'page_number': 1, 'category': 'UncategorizedText'}),\n",
       " Document(page_content='V C . s c [', metadata={'source': './example_data/layout-parser-paper.pdf', 'filetype': 'PDF', 'file_mod_date': '2023-05-10 02:39:59', 'file_create_date': '2023-05-10 02:39:59', 'filename': './example_data/layout-parser-paper.pdf', 'page_number': 1, 'category': 'Title'})]"
      ]
     },
     "execution_count": 14,
     "metadata": {},
     "output_type": "execute_result"
    }
   ],
   "source": [
    "docs[:5]"
   ]
  },
  {
   "attachments": {},
   "cell_type": "markdown",
   "id": "8de9ef16",
   "metadata": {},
   "source": [
    "## PDF Example\n",
    "\n",
    "Processing PDF documents works exactly the same way. Unstructured detects the file type and extracts the same types of `elements`. "
   ]
  },
  {
   "cell_type": "code",
   "execution_count": null,
   "id": "8ca8a648",
   "metadata": {},
   "outputs": [],
   "source": [
    "!wget  https://raw.githubusercontent.com/Unstructured-IO/unstructured/main/example-docs/layout-parser-paper.pdf -P \"../../\""
   ]
  },
  {
   "cell_type": "code",
   "execution_count": 3,
   "id": "686e5eb4",
   "metadata": {},
   "outputs": [],
   "source": [
    "loader = UnstructuredFileLoader(\"./example_data/layout-parser-paper.pdf\", mode=\"elements\")"
   ]
  },
  {
   "cell_type": "code",
   "execution_count": null,
   "id": "c90f0e94",
   "metadata": {},
   "outputs": [],
   "source": [
    "docs = loader.load()"
   ]
  },
  {
   "cell_type": "code",
   "execution_count": 5,
   "id": "6ec859d8",
   "metadata": {},
   "outputs": [
    {
     "data": {
      "text/plain": [
       "[Document(page_content='2103.15348v2 [cs.CV] 21 Jun 2021', metadata={'source': './example_data/layout-parser-paper.pdf', 'filetype': 'PDF', 'file_mod_date': '2023-05-10 02:39:59', 'file_create_date': '2023-05-10 02:39:59', 'filename': './example_data/layout-parser-paper.pdf', 'page_number': 1, 'category': 'UncategorizedText'}),\n",
       " Document(page_content='arXiv', metadata={'source': './example_data/layout-parser-paper.pdf', 'filetype': 'PDF', 'file_mod_date': '2023-05-10 02:39:59', 'file_create_date': '2023-05-10 02:39:59', 'filename': './example_data/layout-parser-paper.pdf', 'page_number': 1, 'category': 'Title'}),\n",
       " Document(page_content='LayoutParser: A Unified Toolkit for Deep Learning Based Document Image Analysis', metadata={'source': './example_data/layout-parser-paper.pdf', 'filetype': 'PDF', 'file_mod_date': '2023-05-10 02:39:59', 'file_create_date': '2023-05-10 02:39:59', 'filename': './example_data/layout-parser-paper.pdf', 'page_number': 1, 'category': 'Title'}),\n",
       " Document(page_content='Zejiang Shen! (4), Ruochen Zhang”, Melissa Dell?, Benjamin Charles Germain Lee*, Jacob Carlson’, and Weining Li®', metadata={'source': './example_data/layout-parser-paper.pdf', 'filetype': 'PDF', 'file_mod_date': '2023-05-10 02:39:59', 'file_create_date': '2023-05-10 02:39:59', 'filename': './example_data/layout-parser-paper.pdf', 'page_number': 1, 'category': 'UncategorizedText'}),\n",
       " Document(page_content='1 Allen Institute for AI shannons@allenai.org ? Brown University ruochen_zhang@brown.edu 3 Harvard University {melissadell, jacob_carlson}@fas.harvard.edu * University of Washington begl@cs.washington. edu © University of Waterloo w4221i@uwaterloo.ca', metadata={'source': './example_data/layout-parser-paper.pdf', 'filetype': 'PDF', 'file_mod_date': '2023-05-10 02:39:59', 'file_create_date': '2023-05-10 02:39:59', 'filename': './example_data/layout-parser-paper.pdf', 'page_number': 1, 'category': 'NarrativeText'})]"
      ]
     },
     "execution_count": 5,
     "metadata": {},
     "output_type": "execute_result"
    }
   ],
   "source": [
    "docs[:5]"
   ]
  },
  {
   "cell_type": "code",
   "execution_count": null,
   "id": "f52b04cb",
   "metadata": {},
   "outputs": [],
   "source": []
  }
 ],
 "metadata": {
  "kernelspec": {
   "display_name": "Python 3 (ipykernel)",
   "language": "python",
   "name": "python3"
  },
  "language_info": {
   "codemirror_mode": {
    "name": "ipython",
    "version": 3
   },
   "file_extension": ".py",
   "mimetype": "text/x-python",
   "name": "python",
   "nbconvert_exporter": "python",
   "pygments_lexer": "ipython3",
   "version": "3.10.4"
  }
 },
 "nbformat": 4,
 "nbformat_minor": 5
}
