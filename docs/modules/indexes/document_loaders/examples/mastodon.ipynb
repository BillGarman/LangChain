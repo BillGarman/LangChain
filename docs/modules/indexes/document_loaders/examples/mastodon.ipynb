{
 "cells": [
  {
   "cell_type": "markdown",
   "id": "66a7777e",
   "metadata": {},
   "source": [
    "# Mastodon\n",
    "\n",
    ">[Mastodon](https://joinmastodon.org/) is a federated social media and social networking service.\n",
    "\n",
    "This loader fetches the text from the \"toots\" of a list of `Mastodon` accounts, using the `Mastodon.py` Python package.\n",
    "\n",
    "Public accounts can the queried by default without any authentication. If non-public accounts or instances are queried, you have to register an application for your account which gets you an access token, and set that token and your account's API base URL.\n",
    "\n",
    "Then you need to pass in the Mastodon account names you want to extract, in the `@account@instance` format."
   ]
  },
  {
   "cell_type": "code",
   "execution_count": 1,
   "id": "9ec8a3b3",
   "metadata": {},
   "outputs": [],
   "source": [
    "from langchain.document_loaders import MastodonTootsLoader"
   ]
  },
  {
   "cell_type": "code",
   "execution_count": 2,
   "id": "43128d8d",
   "metadata": {},
   "outputs": [],
   "source": [
    "#!pip install Mastodon.py"
   ]
  },
  {
   "cell_type": "code",
   "execution_count": 3,
   "id": "35d6809a",
   "metadata": {
    "pycharm": {
     "name": "#%%\n"
    }
   },
   "outputs": [],
   "source": [
    "loader = MastodonTootsLoader(\n",
    "    mastodon_accounts=[\"@Gargron@mastodon.social\"],\n",
    "    number_toots=50,  # Default value is 100\n",
    ")\n",
    "\n",
    "# Or set up access information to use a Mastodon app.\n",
    "# loader = MastodonTootsLoader(\n",
    "#     access_token=\"<ACCESS TOKEN OF MASTODON APP>\",\n",
    "#     api_base_url=\"<API BASE URL OF MASTODON APP INSTANCE>\",\n",
    "#     mastodon_accounts=[\"@Gargron@mastodon.social\"],\n",
    "#     number_toots=50,  # Default value is 100\n",
    "# )"
   ]
  },
  {
   "cell_type": "code",
   "execution_count": 4,
   "id": "05fe33b9",
   "metadata": {
    "pycharm": {
     "name": "#%%\n"
    }
   },
   "outputs": [
    {
     "data": {
      "text/plain": [
       "[Document(page_content='<p>Fulfilled the dream of watching Porco Rosso while on the Adriatic 🙂</p>', metadata={'created_at': datetime.datetime(2023, 5, 18, 15, 29, 51, 520000, tzinfo=tzutc()), 'user_info': {'id': 1, 'username': 'Gargron', 'acct': 'Gargron', 'display_name': 'Eugen Rochko', 'locked': False, 'bot': False, 'discoverable': True, 'group': False, 'created_at': datetime.datetime(2016, 3, 16, 0, 0, tzinfo=tzutc()), 'note': '<p>Founder, CEO and lead developer <span class=\"h-card\"><a href=\"https://mastodon.social/@Mastodon\" class=\"u-url mention\">@<span>Mastodon</span></a></span>, Germany.</p>', 'url': 'https://mastodon.social/@Gargron', 'avatar': 'https://files.mastodon.social/accounts/avatars/000/000/001/original/dc4286ceb8fab734.jpg', 'avatar_static': 'https://files.mastodon.social/accounts/avatars/000/000/001/original/dc4286ceb8fab734.jpg', 'header': 'https://files.mastodon.social/accounts/headers/000/000/001/original/3b91c9965d00888b.jpeg', 'header_static': 'https://files.mastodon.social/accounts/headers/000/000/001/original/3b91c9965d00888b.jpeg', 'followers_count': 313680, 'following_count': 401, 'statuses_count': 73636, 'last_status_at': datetime.datetime(2023, 5, 18, 0, 0), 'noindex': False, 'emojis': [], 'roles': [], 'fields': [{'name': 'Patreon', 'value': '<a href=\"https://www.patreon.com/mastodon\" target=\"_blank\" rel=\"nofollow noopener noreferrer me\"><span class=\"invisible\">https://www.</span><span class=\"\">patreon.com/mastodon</span><span class=\"invisible\"></span></a>', 'verified_at': None}, {'name': 'GitHub', 'value': '<a href=\"https://github.com/Gargron\" target=\"_blank\" rel=\"nofollow noopener noreferrer me\"><span class=\"invisible\">https://</span><span class=\"\">github.com/Gargron</span><span class=\"invisible\"></span></a>', 'verified_at': '2023-02-07T23:24:40.347+00:00'}]}, 'is_reply': False}),\n",
       " Document(page_content='<p>Another evening away from everything. Hope everything is going well while I’m on my honeymoon!</p>', metadata={'created_at': datetime.datetime(2023, 5, 17, 17, 52, 12, 233000, tzinfo=tzutc()), 'user_info': {'id': 1, 'username': 'Gargron', 'acct': 'Gargron', 'display_name': 'Eugen Rochko', 'locked': False, 'bot': False, 'discoverable': True, 'group': False, 'created_at': datetime.datetime(2016, 3, 16, 0, 0, tzinfo=tzutc()), 'note': '<p>Founder, CEO and lead developer <span class=\"h-card\"><a href=\"https://mastodon.social/@Mastodon\" class=\"u-url mention\">@<span>Mastodon</span></a></span>, Germany.</p>', 'url': 'https://mastodon.social/@Gargron', 'avatar': 'https://files.mastodon.social/accounts/avatars/000/000/001/original/dc4286ceb8fab734.jpg', 'avatar_static': 'https://files.mastodon.social/accounts/avatars/000/000/001/original/dc4286ceb8fab734.jpg', 'header': 'https://files.mastodon.social/accounts/headers/000/000/001/original/3b91c9965d00888b.jpeg', 'header_static': 'https://files.mastodon.social/accounts/headers/000/000/001/original/3b91c9965d00888b.jpeg', 'followers_count': 313680, 'following_count': 401, 'statuses_count': 73636, 'last_status_at': datetime.datetime(2023, 5, 18, 0, 0), 'noindex': False, 'emojis': [], 'roles': [], 'fields': [{'name': 'Patreon', 'value': '<a href=\"https://www.patreon.com/mastodon\" target=\"_blank\" rel=\"nofollow noopener noreferrer me\"><span class=\"invisible\">https://www.</span><span class=\"\">patreon.com/mastodon</span><span class=\"invisible\"></span></a>', 'verified_at': None}, {'name': 'GitHub', 'value': '<a href=\"https://github.com/Gargron\" target=\"_blank\" rel=\"nofollow noopener noreferrer me\"><span class=\"invisible\">https://</span><span class=\"\">github.com/Gargron</span><span class=\"invisible\"></span></a>', 'verified_at': '2023-02-07T23:24:40.347+00:00'}]}, 'is_reply': False}),\n",
       " Document(page_content='<p>This seagull has a whole island just to himself</p>', metadata={'created_at': datetime.datetime(2023, 5, 16, 11, 50, 47, 521000, tzinfo=tzutc()), 'user_info': {'id': 1, 'username': 'Gargron', 'acct': 'Gargron', 'display_name': 'Eugen Rochko', 'locked': False, 'bot': False, 'discoverable': True, 'group': False, 'created_at': datetime.datetime(2016, 3, 16, 0, 0, tzinfo=tzutc()), 'note': '<p>Founder, CEO and lead developer <span class=\"h-card\"><a href=\"https://mastodon.social/@Mastodon\" class=\"u-url mention\">@<span>Mastodon</span></a></span>, Germany.</p>', 'url': 'https://mastodon.social/@Gargron', 'avatar': 'https://files.mastodon.social/accounts/avatars/000/000/001/original/dc4286ceb8fab734.jpg', 'avatar_static': 'https://files.mastodon.social/accounts/avatars/000/000/001/original/dc4286ceb8fab734.jpg', 'header': 'https://files.mastodon.social/accounts/headers/000/000/001/original/3b91c9965d00888b.jpeg', 'header_static': 'https://files.mastodon.social/accounts/headers/000/000/001/original/3b91c9965d00888b.jpeg', 'followers_count': 313680, 'following_count': 401, 'statuses_count': 73636, 'last_status_at': datetime.datetime(2023, 5, 18, 0, 0), 'noindex': False, 'emojis': [], 'roles': [], 'fields': [{'name': 'Patreon', 'value': '<a href=\"https://www.patreon.com/mastodon\" target=\"_blank\" rel=\"nofollow noopener noreferrer me\"><span class=\"invisible\">https://www.</span><span class=\"\">patreon.com/mastodon</span><span class=\"invisible\"></span></a>', 'verified_at': None}, {'name': 'GitHub', 'value': '<a href=\"https://github.com/Gargron\" target=\"_blank\" rel=\"nofollow noopener noreferrer me\"><span class=\"invisible\">https://</span><span class=\"\">github.com/Gargron</span><span class=\"invisible\"></span></a>', 'verified_at': '2023-02-07T23:24:40.347+00:00'}]}, 'is_reply': False}),\n",
       " Document(page_content='<p>First day of the honeymoon! Still adjusting to not checking work channels, definitely feeling some withdrawals. It was raining all day, but we still went out. The area is beautiful and the air fresh.</p>', metadata={'created_at': datetime.datetime(2023, 5, 15, 20, 37, 6, 549000, tzinfo=tzutc()), 'user_info': {'id': 1, 'username': 'Gargron', 'acct': 'Gargron', 'display_name': 'Eugen Rochko', 'locked': False, 'bot': False, 'discoverable': True, 'group': False, 'created_at': datetime.datetime(2016, 3, 16, 0, 0, tzinfo=tzutc()), 'note': '<p>Founder, CEO and lead developer <span class=\"h-card\"><a href=\"https://mastodon.social/@Mastodon\" class=\"u-url mention\">@<span>Mastodon</span></a></span>, Germany.</p>', 'url': 'https://mastodon.social/@Gargron', 'avatar': 'https://files.mastodon.social/accounts/avatars/000/000/001/original/dc4286ceb8fab734.jpg', 'avatar_static': 'https://files.mastodon.social/accounts/avatars/000/000/001/original/dc4286ceb8fab734.jpg', 'header': 'https://files.mastodon.social/accounts/headers/000/000/001/original/3b91c9965d00888b.jpeg', 'header_static': 'https://files.mastodon.social/accounts/headers/000/000/001/original/3b91c9965d00888b.jpeg', 'followers_count': 313680, 'following_count': 401, 'statuses_count': 73636, 'last_status_at': datetime.datetime(2023, 5, 18, 0, 0), 'noindex': False, 'emojis': [], 'roles': [], 'fields': [{'name': 'Patreon', 'value': '<a href=\"https://www.patreon.com/mastodon\" target=\"_blank\" rel=\"nofollow noopener noreferrer me\"><span class=\"invisible\">https://www.</span><span class=\"\">patreon.com/mastodon</span><span class=\"invisible\"></span></a>', 'verified_at': None}, {'name': 'GitHub', 'value': '<a href=\"https://github.com/Gargron\" target=\"_blank\" rel=\"nofollow noopener noreferrer me\"><span class=\"invisible\">https://</span><span class=\"\">github.com/Gargron</span><span class=\"invisible\"></span></a>', 'verified_at': '2023-02-07T23:24:40.347+00:00'}]}, 'is_reply': False}),\n",
       " Document(page_content='<p>Rough estimate 24K posts on the different <a href=\"https://mastodon.social/tags/eurovision\" class=\"mention hashtag\" rel=\"tag\">#<span>eurovision</span></a> tags so far today.</p>', metadata={'created_at': datetime.datetime(2023, 5, 13, 21, 26, 21, 282000, tzinfo=tzutc()), 'user_info': {'id': 1, 'username': 'Gargron', 'acct': 'Gargron', 'display_name': 'Eugen Rochko', 'locked': False, 'bot': False, 'discoverable': True, 'group': False, 'created_at': datetime.datetime(2016, 3, 16, 0, 0, tzinfo=tzutc()), 'note': '<p>Founder, CEO and lead developer <span class=\"h-card\"><a href=\"https://mastodon.social/@Mastodon\" class=\"u-url mention\">@<span>Mastodon</span></a></span>, Germany.</p>', 'url': 'https://mastodon.social/@Gargron', 'avatar': 'https://files.mastodon.social/accounts/avatars/000/000/001/original/dc4286ceb8fab734.jpg', 'avatar_static': 'https://files.mastodon.social/accounts/avatars/000/000/001/original/dc4286ceb8fab734.jpg', 'header': 'https://files.mastodon.social/accounts/headers/000/000/001/original/3b91c9965d00888b.jpeg', 'header_static': 'https://files.mastodon.social/accounts/headers/000/000/001/original/3b91c9965d00888b.jpeg', 'followers_count': 313680, 'following_count': 401, 'statuses_count': 73636, 'last_status_at': datetime.datetime(2023, 5, 18, 0, 0), 'noindex': False, 'emojis': [], 'roles': [], 'fields': [{'name': 'Patreon', 'value': '<a href=\"https://www.patreon.com/mastodon\" target=\"_blank\" rel=\"nofollow noopener noreferrer me\"><span class=\"invisible\">https://www.</span><span class=\"\">patreon.com/mastodon</span><span class=\"invisible\"></span></a>', 'verified_at': None}, {'name': 'GitHub', 'value': '<a href=\"https://github.com/Gargron\" target=\"_blank\" rel=\"nofollow noopener noreferrer me\"><span class=\"invisible\">https://</span><span class=\"\">github.com/Gargron</span><span class=\"invisible\"></span></a>', 'verified_at': '2023-02-07T23:24:40.347+00:00'}]}, 'is_reply': True})]"
      ]
     },
     "execution_count": 4,
     "metadata": {},
     "output_type": "execute_result"
    }
   ],
   "source": [
    "documents = loader.load()\n",
    "documents[:5]"
   ]
  },
  {
   "cell_type": "markdown",
   "id": "322bb6a1",
   "metadata": {},
   "source": [
    "The toot texts (the documents' `page_content`) is by default HTML as returned by the Mastodon API."
   ]
  }
 ],
 "metadata": {
  "kernelspec": {
   "display_name": "Python 3 (ipykernel)",
   "language": "python",
   "name": "python3"
  },
  "language_info": {
   "codemirror_mode": {
    "name": "ipython",
    "version": 3
   },
   "file_extension": ".py",
   "mimetype": "text/x-python",
   "name": "python",
   "nbconvert_exporter": "python",
   "pygments_lexer": "ipython3",
   "version": "3.11.3"
  }
 },
 "nbformat": 4,
 "nbformat_minor": 5
}
