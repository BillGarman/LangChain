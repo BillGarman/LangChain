{
 "cells": [
  {
   "attachments": {},
   "cell_type": "markdown",
   "metadata": {},
   "source": [
    "# Reddit\n",
    "\n",
    "This loader fetches the text from the Posts of a list of Subreddits or a list of Reddit users, using the `praw` Python package.\n",
    "Steps to use:\n",
    "Make a Reddit Application from https://www.reddit.com/prefs/apps/ and initialize the loader with with your Reddit API credentials. \n",
    "You must initialize the loader with your Reddit API credentials, and you need to pass in the Twitter username you want to extract."
   ]
  },
  {
   "cell_type": "code",
   "execution_count": null,
   "metadata": {},
   "outputs": [],
   "source": []
  }
 ],
 "metadata": {
  "language_info": {
   "name": "python"
  },
  "orig_nbformat": 4
 },
 "nbformat": 4,
 "nbformat_minor": 2
}
