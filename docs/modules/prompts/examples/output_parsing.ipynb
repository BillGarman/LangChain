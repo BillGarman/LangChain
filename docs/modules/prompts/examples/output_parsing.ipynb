{
 "cells": [
  {
   "cell_type": "code",
   "execution_count": 118,
   "id": "a0cbf417-8007-43f2-9e0b-cd5b2d138311",
   "metadata": {
    "tags": []
   },
   "outputs": [],
   "source": [
    "%autoreload 2"
   ]
  },
  {
   "cell_type": "code",
   "execution_count": 119,
   "id": "b492997a",
   "metadata": {
    "tags": []
   },
   "outputs": [],
   "source": [
    "from langchain.output_parsers.pydantic import PydanticOutputParser, parse_json_schema_to_typescript\n",
    "from pydantic import BaseModel, Field"
   ]
  },
  {
   "cell_type": "code",
   "execution_count": 146,
   "id": "0ed75b4e",
   "metadata": {
    "tags": []
   },
   "outputs": [],
   "source": [
    "from pydantic import BaseModel, Field\n",
    "from typing import Optional, Union\n",
    "from enum import Enum\n",
    "from datetime import datetime\n",
    "\n",
    "\n",
    "class CityTier(Enum):\n",
    "    SMALL = \"small\"\n",
    "    MEDIUM = \"medium\"\n",
    "    LARGE = \"large\"\n",
    "    \n",
    "class NumberedEnum(Enum):\n",
    "    ONE = 1\n",
    "    TWO = 2\n",
    "    THREE = 3\n",
    "    FOUR = 4\n",
    "    FIVE = 5\n",
    "    SIX = 6\n",
    "    \n",
    "\n",
    "class PopulationInformation(BaseModel):\n",
    "    average_age: Optional[int] = Field(None, description=\"Average age of the location.\")\n",
    "    description: Optional[str] = Field(None, description=\"A unique description here\")\n",
    "    tier: Optional[CityTier] = Field(None)\n",
    "    which_number: Optional[NumberedEnum] = Field(None)\n",
    "    # date_founded: Optional[datetime] = Field(None, description=\"The date the city was founded.\")\n",
    "    \n",
    "class AnimalPopulations(BaseModel):\n",
    "    modal_breed: Optional[str] = Field(None, description=\"The modal breed of the animal.\")\n",
    "    reproductive_age: Optional[int] = Field(None, description=\"The reproductive age of the animal.\")\n",
    "    disease: Optional[str] = Field(None, description=\"The disease of the animal.\")\n",
    "\n",
    "class Response(BaseModel):\n",
    "    answer: str = Field(description=\"answer to the user's question\")\n",
    "    source: str = Field(description=\"source used to answer the user's question, should be a website.\")\n",
    "    # population_information: Optional[Union[PopulationInformation, dict]] = Field(description=\"Information about the city.\")\n",
    "    population_information: Optional[Union[PopulationInformation, AnimalPopulations, NumberedEnum]] = Field(description=\"Information about the city.\")"
   ]
  },
  {
   "cell_type": "code",
   "execution_count": 147,
   "id": "346208e9-6c2b-41b8-a946-824158ec4790",
   "metadata": {
    "tags": []
   },
   "outputs": [],
   "source": [
    "output_parser = PydanticOutputParser(response_schema=Response)"
   ]
  },
  {
   "cell_type": "code",
   "execution_count": 148,
   "id": "dc2c9935-ffc1-4bb1-a7eb-2c3510e95845",
   "metadata": {
    "tags": []
   },
   "outputs": [
    {
     "name": "stdout",
     "output_type": "stream",
     "text": [
      "The output should be a markdown code snippet formatted in the following schema.\n",
      "\n",
      "```json\n",
      "{\n",
      "\t// answer to the user's question\n",
      "\t\"answer\": string\n",
      "\t// source used to answer the user's question, should be a website.\n",
      "\t\"source\": string\n",
      "\t\"population_information\": {\n",
      "\t\t// Average age of the location.\n",
      "\t\t\"average_age\": integer\n",
      "\t\t// A unique description here\n",
      "\t\t\"description\": string\n",
      "\t\t// An enumeration.\n",
      "\t\t\"tier\": \"small\" | \"medium\" | \"large\" \n",
      "\t\t// An enumeration.\n",
      "\t\t\"which_number\": 1 | 2 | 3 | 4 | 5 | 6 \n",
      "\n",
      "\t} | \t{\n",
      "\t\t// The modal breed of the animal.\n",
      "\t\t\"modal_breed\": string\n",
      "\t\t// The reproductive age of the animal.\n",
      "\t\t\"reproductive_age\": integer\n",
      "\t\t// The disease of the animal.\n",
      "\t\t\"disease\": string\n",
      "\n",
      "\t} | \t// An enumeration.\n",
      "\t1 | 2 | 3 | 4 | 5 | 6 \n",
      "\n",
      "}\n",
      "```\n",
      "Do not include comments in the resulting code snippet.\n",
      "\n",
      "\n",
      "\n",
      "\n"
     ]
    }
   ],
   "source": [
    "print(output_parser.get_format_instructions())"
   ]
  },
  {
   "cell_type": "code",
   "execution_count": 149,
   "id": "d2cae388-c4f9-421a-988a-17de4501bb82",
   "metadata": {
    "tags": []
   },
   "outputs": [],
   "source": [
    "# print(parse_json_schema_to_typescript(Response.schema()))"
   ]
  },
  {
   "cell_type": "code",
   "execution_count": 106,
   "id": "ffb7fc57",
   "metadata": {
    "tags": []
   },
   "outputs": [],
   "source": [
    "from langchain.prompts import PromptTemplate"
   ]
  },
  {
   "cell_type": "code",
   "execution_count": 107,
   "id": "9e1bde6d-7c22-4b94-a85e-90c64dcebd2a",
   "metadata": {
    "tags": []
   },
   "outputs": [],
   "source": [
    "# line_template = \"\"\"\"{name}\": {type}\"\"\"\n",
    "\n",
    "# MAX_DEPTH = 6\n",
    "\n",
    "# def _get_description_from_prop(prop: dict, depth: int) -> str:\n",
    "#     \"\"\"Return the optional description of a property.\"\"\"\n",
    "#     indent = \"\\t\" * depth\n",
    "#     return f\"{indent}// {prop['description']}\\n\" if \"description\" in prop else \"\"\n",
    "\n",
    "\n",
    "# def _get_code_line(name: str, type: str, depth: int) -> str:\n",
    "#     \"\"\"Return the code line for a property.\"\"\"\n",
    "#     indent = \"\\t\" * depth\n",
    "#     return f\"{indent}{line_template.format(name=name, type=type)}\"\n",
    "\n",
    "\n",
    "# def _get_sub_string(k: str, v: dict, depth: int) -> str:\n",
    "#     \"\"\"Return the sub-string for a property.\"\"\"\n",
    "#     description = _get_description_from_prop(v, depth)\n",
    "#     if \"type\" not in v:\n",
    "#         print(k, v, depth)\n",
    "#     code = _get_code_line(k, v[\"type\"], depth)\n",
    "#     return description + code\n",
    "\n",
    "\n",
    "# def resolve_reference(ref: str, definitions: dict) -> dict:\n",
    "#     \"\"\"Resolve a reference to a definition.\"\"\"\n",
    "#     if not ref.startswith(\"#/definitions/\"):\n",
    "#         # Arbitrary JSON-schema references not yet supported.\n",
    "#         raise ValueError(f\"Unsupported $ref: {ref}\")\n",
    "#     ref = ref[len(\"#/definitions/\") :]\n",
    "#     if ref in definitions:\n",
    "#         return definitions[ref]\n",
    "#     else:\n",
    "#         raise ValueError(f\"Unknown reference: {ref}\")\n",
    "\n",
    "\n",
    "# def process_reference(k: str, v: dict, depth: int, definitions: dict) -> str:\n",
    "#     \"\"\"Return the code line for a referred property.\"\"\"\n",
    "#     resolved = resolve_reference(v[\"$ref\"], definitions)\n",
    "#     nested_type = get_nested_schema_str(resolved, depth + 1)\n",
    "#     return _get_sub_string(k, resolved, depth) + nested_type\n",
    "\n",
    "\n",
    "# def get_nested_schema_str(schema: dict, depth: int = 1) -> str:\n",
    "#     \"\"\"Return the string representation of schema.\"\"\"\n",
    "#     if depth > MAX_DEPTH:\n",
    "#         logger.error(f\"Max depth exceeded: {depth}\")\n",
    "#         return \"\"\n",
    "#     properties = schema.get(\"properties\", {})\n",
    "#     definitions = schema.get(\"definitions\", {})\n",
    "#     result = \"{\\n\"\n",
    "#     for k, v in properties.items():\n",
    "#         if \"$ref\" in v:\n",
    "#             result += process_reference(k, v, depth, definitions)\n",
    "#         elif \"allOf\" in v:\n",
    "#             # Nested subschema are emitted as an anyOf\n",
    "#             for sub_schema in v[\"allOf\"]:\n",
    "#                 if \"$ref\" in sub_schema:\n",
    "#                     result += process_reference(\n",
    "#                         k, definitions[sub_schema[\"$ref\"]], depth, definitions\n",
    "#                     )\n",
    "#                 elif \"type\" in sub_schema:\n",
    "#                     result += _get_code_line(k, sub_schema[\"type\"], depth)\n",
    "#                 else:\n",
    "#                     raise ValueError(f\"Unknown type: {sub_schema}\")\n",
    "#         elif \"anyOf\" in v:\n",
    "#             raise NotImplementedError(f\"Union types not yet supported: {v}\")\n",
    "#         else:\n",
    "#             arg_str = _get_sub_string(k, v, depth)\n",
    "#             result += f\"{arg_str}\\n\"\n",
    "#     final_indent = \"\\t\" * (depth - 1)\n",
    "#     result += f\"{final_indent}}}\"\n",
    "#     return result"
   ]
  },
  {
   "cell_type": "code",
   "execution_count": 108,
   "id": "5b3ced79-23a4-41c6-93e7-65f031f087af",
   "metadata": {
    "tags": []
   },
   "outputs": [],
   "source": [
    "# get_nested_schema_str(Response.schema())"
   ]
  },
  {
   "cell_type": "code",
   "execution_count": null,
   "id": "393490bd-defd-4d4f-b15d-06ec06ee3c5f",
   "metadata": {
    "tags": []
   },
   "outputs": [],
   "source": [
    "# import os\n",
    "# import json\n",
    "# from tempfile import TemporaryDirectory\n",
    "# # import subprocess\n",
    "# import subprocess\n",
    "# def parse_json_schema_to_typescript(schema: dict) -> str:\n",
    "#     \"\"\"Return the string representation of schema.\"\"\"\n",
    "#     with TemporaryDirectory() as tmpdir:\n",
    "#         with open(os.path.join(tmpdir, \"schema.json\"), \"w\") as f:\n",
    "#             json.dump(schema, f)\n",
    "#         schema_str = subprocess.check_output(\n",
    "#             [\"json2ts\", \"-i\", \"schema.json\"], cwd=tmpdir\n",
    "#         ).decode(\"utf-8\")\n",
    "#     return schema_str"
   ]
  },
  {
   "cell_type": "code",
   "execution_count": null,
   "id": "432ac44a",
   "metadata": {
    "tags": []
   },
   "outputs": [],
   "source": []
  },
  {
   "cell_type": "code",
   "execution_count": null,
   "id": "3b50a359-5821-41bf-b17d-4ecb1e20cfee",
   "metadata": {
    "tags": []
   },
   "outputs": [],
   "source": [
    "# output_parser.get_format_instructions()"
   ]
  },
  {
   "cell_type": "code",
   "execution_count": null,
   "id": "e5217fca-3ff3-46bc-830e-6634a7a080cb",
   "metadata": {
    "tags": []
   },
   "outputs": [],
   "source": [
    "# import importlib\n",
    "\n",
    "# model_file = \"/Users/whinthorn/code/openapi-python-generator/src/openapi_python_generator/models.py\"\n",
    "# # Use util to load model_file from the absolute path specified above\n",
    "# spec = importlib.util.spec_from_file_location(\"models\", model_file)\n",
    "# models = importlib.util.module_from_spec(spec)\n",
    "# spec.loader.exec_module(models)"
   ]
  },
  {
   "cell_type": "code",
   "execution_count": 150,
   "id": "593cfc25",
   "metadata": {
    "tags": []
   },
   "outputs": [],
   "source": [
    "prompt = PromptTemplate(\n",
    "    template=\"Answer the users question as best as possible.\\n{format_instructions}\\n{question}\",\n",
    "    input_variables=[\"question\"],\n",
    "    partial_variables={\"format_instructions\": output_parser.get_format_instructions()}\n",
    ")"
   ]
  },
  {
   "cell_type": "code",
   "execution_count": 151,
   "id": "6e181646",
   "metadata": {
    "tags": []
   },
   "outputs": [],
   "source": [
    "from langchain.llms import OpenAI"
   ]
  },
  {
   "cell_type": "code",
   "execution_count": 152,
   "id": "106f1ba6",
   "metadata": {
    "tags": []
   },
   "outputs": [],
   "source": [
    "model = OpenAI(temperature=0)"
   ]
  },
  {
   "cell_type": "code",
   "execution_count": 153,
   "id": "8b3624d6-43a8-46e4-a5fa-137ad7dc1678",
   "metadata": {
    "tags": []
   },
   "outputs": [
    {
     "name": "stdout",
     "output_type": "stream",
     "text": [
      "Answer the users question as best as possible.\n",
      "The output should be a markdown code snippet formatted in the following schema.\n",
      "\n",
      "```json\n",
      "{\n",
      "\t// answer to the user's question\n",
      "\t\"answer\": string\n",
      "\t// source used to answer the user's question, should be a website.\n",
      "\t\"source\": string\n",
      "\t\"population_information\": {\n",
      "\t\t// Average age of the location.\n",
      "\t\t\"average_age\": integer\n",
      "\t\t// A unique description here\n",
      "\t\t\"description\": string\n",
      "\t\t// An enumeration.\n",
      "\t\t\"tier\": \"small\" | \"medium\" | \"large\" \n",
      "\t\t// An enumeration.\n",
      "\t\t\"which_number\": 1 | 2 | 3 | 4 | 5 | 6 \n",
      "\n",
      "\t} | \t{\n",
      "\t\t// The modal breed of the animal.\n",
      "\t\t\"modal_breed\": string\n",
      "\t\t// The reproductive age of the animal.\n",
      "\t\t\"reproductive_age\": integer\n",
      "\t\t// The disease of the animal.\n",
      "\t\t\"disease\": string\n",
      "\n",
      "\t} | \t// An enumeration.\n",
      "\t1 | 2 | 3 | 4 | 5 | 6 \n",
      "\n",
      "}\n",
      "```\n",
      "Do not include comments in the resulting code snippet.\n",
      "\n",
      "\n",
      "\n",
      "\n",
      "what's the capital of paris\n"
     ]
    }
   ],
   "source": [
    "print(prompt.format(question=\"what's the capital of paris\"))"
   ]
  },
  {
   "cell_type": "code",
   "execution_count": 157,
   "id": "b3241e58-276b-4410-be4f-758781c1654a",
   "metadata": {
    "tags": []
   },
   "outputs": [],
   "source": [
    "foo = model(prompt.format(question=\"When did cats first arrive to the British Isles?\"))"
   ]
  },
  {
   "cell_type": "code",
   "execution_count": 158,
   "id": "83939ef1-0354-460d-a051-aa96e903e949",
   "metadata": {
    "tags": []
   },
   "outputs": [
    {
     "name": "stdout",
     "output_type": "stream",
     "text": [
      "\n",
      "\n",
      "```json\n",
      "{\n",
      "\t\"answer\": \"Cats were believed to have arrived to the British Isles around the 1st century AD.\",\n",
      "\t\"source\": \"https://www.historyextra.com/period/roman/cats-in-the-roman-world-and-the-british-isles/\",\n",
      "\t\"population_information\": {\n",
      "\t\t\"average_age\": 10,\n",
      "\t\t\"description\": \"Domestic cats\",\n",
      "\t\t\"tier\": \"small\",\n",
      "\t\t\"which_number\": 1\n",
      "\t}\n",
      "}\n",
      "``\n"
     ]
    }
   ],
   "source": [
    "print(foo)"
   ]
  },
  {
   "cell_type": "code",
   "execution_count": 159,
   "id": "956bdc99",
   "metadata": {
    "tags": []
   },
   "outputs": [
    {
     "data": {
      "text/plain": [
       "Response(answer='Cats were believed to have arrived to the British Isles around the 1st century AD.', source='https://www.historyextra.com/period/roman/cats-in-the-roman-world-and-the-british-isles/', population_information=PopulationInformation(average_age=10, description='Domestic cats', tier=<CityTier.SMALL: 'small'>, which_number=<NumberedEnum.ONE: 1>))"
      ]
     },
     "execution_count": 159,
     "metadata": {},
     "output_type": "execute_result"
    }
   ],
   "source": [
    "output_parser.parse(foo)"
   ]
  },
  {
   "cell_type": "code",
   "execution_count": 100,
   "id": "3c642cd0",
   "metadata": {
    "tags": []
   },
   "outputs": [],
   "source": [
    "# from langchain.prompts import load_prompt\n",
    "\n",
    "# prompt = load_prompt(\"lc://prompts/conversation/prompt.json\")"
   ]
  },
  {
   "cell_type": "code",
   "execution_count": null,
   "id": "c4f288f9",
   "metadata": {},
   "outputs": [],
   "source": []
  }
 ],
 "metadata": {
  "kernelspec": {
   "display_name": "Python 3 (ipykernel)",
   "language": "python",
   "name": "python3"
  },
  "language_info": {
   "codemirror_mode": {
    "name": "ipython",
    "version": 3
   },
   "file_extension": ".py",
   "mimetype": "text/x-python",
   "name": "python",
   "nbconvert_exporter": "python",
   "pygments_lexer": "ipython3",
   "version": "3.10.0"
  }
 },
 "nbformat": 4,
 "nbformat_minor": 5
}
