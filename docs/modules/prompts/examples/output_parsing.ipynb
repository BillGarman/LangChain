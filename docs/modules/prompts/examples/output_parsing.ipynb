{
 "cells": [
  {
   "cell_type": "code",
   "execution_count": 1,
   "id": "590b6d5c",
   "metadata": {},
   "outputs": [],
   "source": [
    "from langchain.output_parsers.pydantic import PydanticOutputParser\n",
    "from pydantic import BaseModel, Field"
   ]
  },
  {
   "cell_type": "code",
   "execution_count": 2,
   "id": "77c32299",
   "metadata": {},
   "outputs": [],
   "source": [
    "class Response(BaseModel):\n",
    "    answer: str = Field(description=\"answer to the user's question\")\n",
    "    source: str = Field(description=\"source used to answer the user's question, should be a website.\")"
   ]
  },
  {
   "cell_type": "code",
   "execution_count": 3,
   "id": "2461b05f",
   "metadata": {},
   "outputs": [],
   "source": [
    "from langchain.prompts import PromptTemplate"
   ]
  },
  {
   "cell_type": "code",
   "execution_count": 4,
   "id": "b4124f08",
   "metadata": {},
   "outputs": [],
   "source": [
    "output_parser = PydanticOutputParser(response_schema=Response)"
   ]
  },
  {
   "cell_type": "code",
   "execution_count": 5,
   "id": "2d19b2c7",
   "metadata": {},
   "outputs": [],
   "source": [
    "prompt = PromptTemplate(\n",
    "    template=\"answer the users question as best as possible.\\n{format_instructions}\\n{question}\",\n",
    "    input_variables=[\"question\"],\n",
    "    partial_variables={\"format_instructions\": output_parser.get_format_instructions()}\n",
    ")"
   ]
  },
  {
   "cell_type": "code",
   "execution_count": 6,
   "id": "c37e7e9a",
   "metadata": {},
   "outputs": [],
   "source": [
    "from langchain.llms import OpenAI"
   ]
  },
  {
   "cell_type": "code",
   "execution_count": 7,
   "id": "c26f5727",
   "metadata": {},
   "outputs": [],
   "source": [
    "model = OpenAI(temperature=0)"
   ]
  },
  {
   "cell_type": "code",
   "execution_count": 10,
   "id": "01aba758",
   "metadata": {},
   "outputs": [],
   "source": [
    "foo = model(prompt.format(question=\"what's the capital of paris\"))"
   ]
  },
  {
   "cell_type": "code",
   "execution_count": 12,
   "id": "7d6c964c",
   "metadata": {},
   "outputs": [
    {
     "data": {
      "text/plain": [
       "Response(answer='Paris is the capital of France.', source='https://www.worldatlas.com/articles/what-is-the-capital-of-france.html')"
      ]
     },
     "execution_count": 12,
     "metadata": {},
     "output_type": "execute_result"
    }
   ],
   "source": [
    "output_parser.parse(foo)"
   ]
  },
  {
   "cell_type": "code",
   "execution_count": null,
   "id": "4b41b836",
   "metadata": {},
   "outputs": [],
   "source": []
  }
 ],
 "metadata": {
  "kernelspec": {
   "display_name": "Python 3 (ipykernel)",
   "language": "python",
   "name": "python3"
  },
  "language_info": {
   "codemirror_mode": {
    "name": "ipython",
    "version": 3
   },
   "file_extension": ".py",
   "mimetype": "text/x-python",
   "name": "python",
   "nbconvert_exporter": "python",
   "pygments_lexer": "ipython3",
   "version": "3.9.1"
  }
 },
 "nbformat": 4,
 "nbformat_minor": 5
}
