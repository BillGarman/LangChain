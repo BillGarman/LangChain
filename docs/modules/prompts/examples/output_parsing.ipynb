{
 "cells": [
  {
   "cell_type": "code",
   "execution_count": 1,
   "id": "b492997a",
   "metadata": {
    "tags": []
   },
   "outputs": [],
   "source": [
    "from langchain.output_parsers.pydantic import PydanticOutputParser\n",
    "from pydantic import BaseModel, Field"
   ]
  },
  {
   "cell_type": "code",
   "execution_count": 9,
   "id": "0ed75b4e",
   "metadata": {
    "tags": []
   },
   "outputs": [],
   "source": [
    "from pydantic import BaseModel, Field\n",
    "from typing import Optional, Union\n",
    "from enum import Enum\n",
    "from datetime import datetime\n",
    "\n",
    "\n",
    "class CityTier(Enum):\n",
    "    SMALL = \"small\"\n",
    "    MEDIUM = \"medium\"\n",
    "    LARGE = \"large\"\n",
    "    \n",
    "\n",
    "class PopulationInformation(BaseModel):\n",
    "    average_age: Optional[int] = Field(None, description=\"Average age of the location.\")\n",
    "    description: Optional[str] = Field(None, description=\"A unique description here\")\n",
    "    tier: Optional[CityTier] = Field(None)\n",
    "    date_founded: Optional[datetime] = Field(None, description=\"The date the city was founded.\")\n",
    "\n",
    "class Response(BaseModel):\n",
    "    answer: str = Field(description=\"answer to the user's question\")\n",
    "    source: str = Field(description=\"source used to answer the user's question, should be a website.\")\n",
    "    population_information: Optional[Union[PopulationInformation, dict]] = Field(description=\"Information about the city.\")"
   ]
  },
  {
   "cell_type": "code",
   "execution_count": 6,
   "id": "ffb7fc57",
   "metadata": {
    "tags": []
   },
   "outputs": [],
   "source": [
    "from langchain.prompts import PromptTemplate"
   ]
  },
  {
   "cell_type": "code",
   "execution_count": 14,
   "id": "9e1bde6d-7c22-4b94-a85e-90c64dcebd2a",
   "metadata": {
    "tags": []
   },
   "outputs": [],
   "source": [
    "line_template = \"\"\"\"{name}\": {type}\"\"\"\n",
    "\n",
    "MAX_DEPTH = 6\n",
    "\n",
    "def _get_description_from_prop(prop: dict, depth: int) -> str:\n",
    "    \"\"\"Return the optional description of a property.\"\"\"\n",
    "    indent = \"\\t\" * depth\n",
    "    return f\"{indent}// {prop['description']}\\n\" if \"description\" in prop else \"\"\n",
    "\n",
    "\n",
    "def _get_code_line(name: str, type: str, depth: int) -> str:\n",
    "    \"\"\"Return the code line for a property.\"\"\"\n",
    "    indent = \"\\t\" * depth\n",
    "    return f\"{indent}{line_template.format(name=name, type=type)}\"\n",
    "\n",
    "\n",
    "def _get_sub_string(k: str, v: dict, depth: int) -> str:\n",
    "    \"\"\"Return the sub-string for a property.\"\"\"\n",
    "    description = _get_description_from_prop(v, depth)\n",
    "    if \"type\" not in v:\n",
    "        print(k, v, depth)\n",
    "    code = _get_code_line(k, v[\"type\"], depth)\n",
    "    return description + code\n",
    "\n",
    "\n",
    "def resolve_reference(ref: str, definitions: dict) -> dict:\n",
    "    \"\"\"Resolve a reference to a definition.\"\"\"\n",
    "    if not ref.startswith(\"#/definitions/\"):\n",
    "        # Arbitrary JSON-schema references not yet supported.\n",
    "        raise ValueError(f\"Unsupported $ref: {ref}\")\n",
    "    ref = ref[len(\"#/definitions/\") :]\n",
    "    if ref in definitions:\n",
    "        return definitions[ref]\n",
    "    else:\n",
    "        raise ValueError(f\"Unknown reference: {ref}\")\n",
    "\n",
    "\n",
    "def process_reference(k: str, v: dict, depth: int, definitions: dict) -> str:\n",
    "    \"\"\"Return the code line for a referred property.\"\"\"\n",
    "    resolved = resolve_reference(v[\"$ref\"], definitions)\n",
    "    nested_type = get_nested_schema_str(resolved, depth + 1)\n",
    "    return _get_sub_string(k, resolved, depth) + nested_type\n",
    "\n",
    "\n",
    "def get_nested_schema_str(schema: dict, depth: int = 1) -> str:\n",
    "    \"\"\"Return the string representation of schema.\"\"\"\n",
    "    if depth > MAX_DEPTH:\n",
    "        logger.error(f\"Max depth exceeded: {depth}\")\n",
    "        return \"\"\n",
    "    properties = schema.get(\"properties\", {})\n",
    "    definitions = schema.get(\"definitions\", {})\n",
    "    result = \"{\\n\"\n",
    "    for k, v in properties.items():\n",
    "        if \"$ref\" in v:\n",
    "            result += process_reference(k, v, depth, definitions)\n",
    "        elif \"allOf\" in v:\n",
    "            # Nested subschema are emitted as an anyOf\n",
    "            for sub_schema in v[\"allOf\"]:\n",
    "                if \"$ref\" in sub_schema:\n",
    "                    result += process_reference(\n",
    "                        k, definitions[sub_schema[\"$ref\"]], depth, definitions\n",
    "                    )\n",
    "                elif \"type\" in sub_schema:\n",
    "                    result += _get_code_line(k, sub_schema[\"type\"], depth)\n",
    "                else:\n",
    "                    raise ValueError(f\"Unknown type: {sub_schema}\")\n",
    "        elif \"anyOf\" in v:\n",
    "            raise NotImplementedError(f\"Union types not yet supported: {v}\")\n",
    "        else:\n",
    "            arg_str = _get_sub_string(k, v, depth)\n",
    "            result += f\"{arg_str}\\n\"\n",
    "    final_indent = \"\\t\" * (depth - 1)\n",
    "    result += f\"{final_indent}}}\"\n",
    "    return result"
   ]
  },
  {
   "cell_type": "code",
   "execution_count": 25,
   "id": "393490bd-defd-4d4f-b15d-06ec06ee3c5f",
   "metadata": {
    "tags": []
   },
   "outputs": [],
   "source": [
    "import os\n",
    "import json\n",
    "from tempfile import TemporaryDirectory\n",
    "# import subprocess\n",
    "import subprocess\n",
    "def parse_json_schema_to_typescript(schema: dict) -> str:\n",
    "    \"\"\"Return the string representation of schema.\"\"\"\n",
    "    with TemporaryDirectory() as tmpdir:\n",
    "        with open(os.path.join(tmpdir, \"schema.json\"), \"w\") as f:\n",
    "            json.dump(schema, f)\n",
    "        schema_str = subprocess.check_output(\n",
    "            [\"json2ts\", \"-i\", \"schema.json\"], cwd=tmpdir\n",
    "        ).decode(\"utf-8\")\n",
    "    return schema_str"
   ]
  },
  {
   "cell_type": "code",
   "execution_count": 27,
   "id": "3a44802a-0dca-4e7a-a067-c1fd7e66fd88",
   "metadata": {
    "tags": []
   },
   "outputs": [
    {
     "name": "stdout",
     "output_type": "stream",
     "text": [
      "/* eslint-disable */\n",
      "/**\n",
      " * This file was automatically generated by json-schema-to-typescript.\n",
      " * DO NOT MODIFY IT BY HAND. Instead, modify the source JSONSchema file,\n",
      " * and run json-schema-to-typescript to regenerate this file.\n",
      " */\n",
      "\n",
      "/**\n",
      " * answer to the user's question\n",
      " */\n",
      "export type Answer = string;\n",
      "/**\n",
      " * source used to answer the user's question, should be a website.\n",
      " */\n",
      "export type Source = string;\n",
      "/**\n",
      " * Information about the city.\n",
      " */\n",
      "export type PopulationInformation =\n",
      "  | PopulationInformation1\n",
      "  | {\n",
      "      [k: string]: unknown;\n",
      "    };\n",
      "/**\n",
      " * Average age of the location.\n",
      " */\n",
      "export type AverageAge = number;\n",
      "/**\n",
      " * A unique description here\n",
      " */\n",
      "export type Description = string;\n",
      "/**\n",
      " * An enumeration.\n",
      " */\n",
      "export type CityTier = \"small\" | \"medium\" | \"large\";\n",
      "/**\n",
      " * The date the city was founded.\n",
      " */\n",
      "export type DateFounded = string;\n",
      "\n",
      "export interface Response {\n",
      "  answer: Answer;\n",
      "  source: Source;\n",
      "  population_information?: PopulationInformation;\n",
      "  [k: string]: unknown;\n",
      "}\n",
      "export interface PopulationInformation1 {\n",
      "  average_age?: AverageAge;\n",
      "  description?: Description;\n",
      "  tier?: CityTier;\n",
      "  date_founded?: DateFounded;\n",
      "  [k: string]: unknown;\n",
      "}\n",
      "\n"
     ]
    }
   ],
   "source": [
    "print(parse_json_schema_to_typescript(Response.schema()))"
   ]
  },
  {
   "cell_type": "code",
   "execution_count": 15,
   "id": "5eb61d46-5187-4313-b597-8907b763163b",
   "metadata": {
    "tags": []
   },
   "outputs": [
    {
     "ename": "NotImplementedError",
     "evalue": "Union types not yet supported: {'title': 'Population Information', 'description': 'Information about the city.', 'anyOf': [{'$ref': '#/definitions/PopulationInformation'}, {'type': 'object'}]}",
     "output_type": "error",
     "traceback": [
      "\u001b[0;31m---------------------------------------------------------------------------\u001b[0m",
      "\u001b[0;31mNotImplementedError\u001b[0m                       Traceback (most recent call last)",
      "Cell \u001b[0;32mIn[15], line 1\u001b[0m\n\u001b[0;32m----> 1\u001b[0m \u001b[43mget_nested_schema_str\u001b[49m\u001b[43m(\u001b[49m\u001b[43mResponse\u001b[49m\u001b[38;5;241;43m.\u001b[39;49m\u001b[43mschema\u001b[49m\u001b[43m(\u001b[49m\u001b[43m)\u001b[49m\u001b[43m)\u001b[49m\n",
      "Cell \u001b[0;32mIn[14], line 68\u001b[0m, in \u001b[0;36mget_nested_schema_str\u001b[0;34m(schema, depth)\u001b[0m\n\u001b[1;32m     66\u001b[0m             \u001b[38;5;28;01mraise\u001b[39;00m \u001b[38;5;167;01mValueError\u001b[39;00m(\u001b[38;5;124mf\u001b[39m\u001b[38;5;124m\"\u001b[39m\u001b[38;5;124mUnknown type: \u001b[39m\u001b[38;5;132;01m{\u001b[39;00msub_schema\u001b[38;5;132;01m}\u001b[39;00m\u001b[38;5;124m\"\u001b[39m)\n\u001b[1;32m     67\u001b[0m \u001b[38;5;28;01melif\u001b[39;00m \u001b[38;5;124m\"\u001b[39m\u001b[38;5;124manyOf\u001b[39m\u001b[38;5;124m\"\u001b[39m \u001b[38;5;129;01min\u001b[39;00m v:\n\u001b[0;32m---> 68\u001b[0m     \u001b[38;5;28;01mraise\u001b[39;00m \u001b[38;5;167;01mNotImplementedError\u001b[39;00m(\u001b[38;5;124mf\u001b[39m\u001b[38;5;124m\"\u001b[39m\u001b[38;5;124mUnion types not yet supported: \u001b[39m\u001b[38;5;132;01m{\u001b[39;00mv\u001b[38;5;132;01m}\u001b[39;00m\u001b[38;5;124m\"\u001b[39m)\n\u001b[1;32m     69\u001b[0m \u001b[38;5;28;01melse\u001b[39;00m:\n\u001b[1;32m     70\u001b[0m     arg_str \u001b[38;5;241m=\u001b[39m _get_sub_string(k, v, depth)\n",
      "\u001b[0;31mNotImplementedError\u001b[0m: Union types not yet supported: {'title': 'Population Information', 'description': 'Information about the city.', 'anyOf': [{'$ref': '#/definitions/PopulationInformation'}, {'type': 'object'}]}"
     ]
    }
   ],
   "source": [
    "get_nested_schema_str(Response.schema())"
   ]
  },
  {
   "cell_type": "code",
   "execution_count": 7,
   "id": "432ac44a",
   "metadata": {
    "tags": []
   },
   "outputs": [],
   "source": [
    "output_parser = PydanticOutputParser(response_schema=Response)"
   ]
  },
  {
   "cell_type": "code",
   "execution_count": 8,
   "id": "3b50a359-5821-41bf-b17d-4ecb1e20cfee",
   "metadata": {
    "tags": []
   },
   "outputs": [
    {
     "ename": "NotImplementedError",
     "evalue": "Union types not yet supported: {'title': 'Population Information', 'description': 'Information about the city.', 'anyOf': [{'$ref': '#/definitions/PopulationInformation'}, {'type': 'object'}]}",
     "output_type": "error",
     "traceback": [
      "\u001b[0;31m---------------------------------------------------------------------------\u001b[0m",
      "\u001b[0;31mNotImplementedError\u001b[0m                       Traceback (most recent call last)",
      "Cell \u001b[0;32mIn[8], line 1\u001b[0m\n\u001b[0;32m----> 1\u001b[0m \u001b[43moutput_parser\u001b[49m\u001b[38;5;241;43m.\u001b[39;49m\u001b[43mget_format_instructions\u001b[49m\u001b[43m(\u001b[49m\u001b[43m)\u001b[49m\n",
      "File \u001b[0;32m~/code/lckg/langchain/output_parsers/pydantic.py:85\u001b[0m, in \u001b[0;36mPydanticOutputParser.get_format_instructions\u001b[0;34m(self)\u001b[0m\n\u001b[1;32m     83\u001b[0m \u001b[38;5;28;01mdef\u001b[39;00m \u001b[38;5;21mget_format_instructions\u001b[39m(\u001b[38;5;28mself\u001b[39m) \u001b[38;5;241m-\u001b[39m\u001b[38;5;241m>\u001b[39m \u001b[38;5;28mstr\u001b[39m:\n\u001b[1;32m     84\u001b[0m     schema \u001b[38;5;241m=\u001b[39m \u001b[38;5;28mself\u001b[39m\u001b[38;5;241m.\u001b[39mresponse_schema\u001b[38;5;241m.\u001b[39mschema()\n\u001b[0;32m---> 85\u001b[0m     schema_str \u001b[38;5;241m=\u001b[39m \u001b[43mget_nested_schema_str\u001b[49m\u001b[43m(\u001b[49m\u001b[43mschema\u001b[49m\u001b[43m)\u001b[49m\n\u001b[1;32m     86\u001b[0m     \u001b[38;5;28;01mreturn\u001b[39;00m format_instructions\u001b[38;5;241m.\u001b[39mformat(\u001b[38;5;28mformat\u001b[39m\u001b[38;5;241m=\u001b[39mschema_str)\n",
      "File \u001b[0;32m~/code/lckg/langchain/output_parsers/pydantic.py:71\u001b[0m, in \u001b[0;36mget_nested_schema_str\u001b[0;34m(schema, depth)\u001b[0m\n\u001b[1;32m     69\u001b[0m             \u001b[38;5;28;01mraise\u001b[39;00m \u001b[38;5;167;01mValueError\u001b[39;00m(\u001b[38;5;124mf\u001b[39m\u001b[38;5;124m\"\u001b[39m\u001b[38;5;124mUnknown type: \u001b[39m\u001b[38;5;132;01m{\u001b[39;00msub_schema\u001b[38;5;132;01m}\u001b[39;00m\u001b[38;5;124m\"\u001b[39m)\n\u001b[1;32m     70\u001b[0m \u001b[38;5;28;01melif\u001b[39;00m \u001b[38;5;124m\"\u001b[39m\u001b[38;5;124manyOf\u001b[39m\u001b[38;5;124m\"\u001b[39m \u001b[38;5;129;01min\u001b[39;00m v:\n\u001b[0;32m---> 71\u001b[0m     \u001b[38;5;28;01mraise\u001b[39;00m \u001b[38;5;167;01mNotImplementedError\u001b[39;00m(\u001b[38;5;124mf\u001b[39m\u001b[38;5;124m\"\u001b[39m\u001b[38;5;124mUnion types not yet supported: \u001b[39m\u001b[38;5;132;01m{\u001b[39;00mv\u001b[38;5;132;01m}\u001b[39;00m\u001b[38;5;124m\"\u001b[39m)\n\u001b[1;32m     72\u001b[0m \u001b[38;5;28;01melse\u001b[39;00m:\n\u001b[1;32m     73\u001b[0m     arg_str \u001b[38;5;241m=\u001b[39m _get_sub_string(k, v, depth)\n",
      "\u001b[0;31mNotImplementedError\u001b[0m: Union types not yet supported: {'title': 'Population Information', 'description': 'Information about the city.', 'anyOf': [{'$ref': '#/definitions/PopulationInformation'}, {'type': 'object'}]}"
     ]
    }
   ],
   "source": [
    "output_parser.get_format_instructions()"
   ]
  },
  {
   "cell_type": "code",
   "execution_count": null,
   "id": "e5217fca-3ff3-46bc-830e-6634a7a080cb",
   "metadata": {
    "tags": []
   },
   "outputs": [],
   "source": [
    "# import importlib\n",
    "\n",
    "# model_file = \"/Users/whinthorn/code/openapi-python-generator/src/openapi_python_generator/models.py\"\n",
    "# # Use util to load model_file from the absolute path specified above\n",
    "# spec = importlib.util.spec_from_file_location(\"models\", model_file)\n",
    "# models = importlib.util.module_from_spec(spec)\n",
    "# spec.loader.exec_module(models)"
   ]
  },
  {
   "cell_type": "code",
   "execution_count": null,
   "id": "d238bbbc-3a24-4534-a165-078b924a67ce",
   "metadata": {},
   "outputs": [],
   "source": []
  },
  {
   "cell_type": "code",
   "execution_count": null,
   "id": "593cfc25",
   "metadata": {
    "tags": []
   },
   "outputs": [],
   "source": [
    "prompt = PromptTemplate(\n",
    "    template=\"answer the users question as best as possible.\\n{format_instructions}\\n{question}\",\n",
    "    input_variables=[\"question\"],\n",
    "    partial_variables={\"format_instructions\": output_parser.get_format_instructions()}\n",
    ")"
   ]
  },
  {
   "cell_type": "code",
   "execution_count": null,
   "id": "6e181646",
   "metadata": {
    "tags": []
   },
   "outputs": [],
   "source": [
    "from langchain.llms import OpenAI"
   ]
  },
  {
   "cell_type": "code",
   "execution_count": null,
   "id": "106f1ba6",
   "metadata": {
    "tags": []
   },
   "outputs": [],
   "source": [
    "model = OpenAI(temperature=0)"
   ]
  },
  {
   "cell_type": "code",
   "execution_count": null,
   "id": "86d9d24f",
   "metadata": {
    "tags": []
   },
   "outputs": [],
   "source": [
    "foo = model(prompt.format(question=\"what's the capital of paris\"))\n",
    "print(foo)"
   ]
  },
  {
   "cell_type": "code",
   "execution_count": null,
   "id": "956bdc99",
   "metadata": {
    "tags": []
   },
   "outputs": [],
   "source": [
    "output_parser.parse(foo)"
   ]
  },
  {
   "cell_type": "code",
   "execution_count": null,
   "id": "3c642cd0",
   "metadata": {},
   "outputs": [],
   "source": [
    "from langchain.prompts import load_prompt\n",
    "\n",
    "prompt = load_prompt(\"lc://prompts/conversation/prompt.json\")"
   ]
  },
  {
   "cell_type": "code",
   "execution_count": null,
   "id": "c4f288f9",
   "metadata": {},
   "outputs": [],
   "source": []
  }
 ],
 "metadata": {
  "kernelspec": {
   "display_name": "Python 3 (ipykernel)",
   "language": "python",
   "name": "python3"
  },
  "language_info": {
   "codemirror_mode": {
    "name": "ipython",
    "version": 3
   },
   "file_extension": ".py",
   "mimetype": "text/x-python",
   "name": "python",
   "nbconvert_exporter": "python",
   "pygments_lexer": "ipython3",
   "version": "3.10.0"
  }
 },
 "nbformat": 4,
 "nbformat_minor": 5
}
