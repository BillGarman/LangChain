{
 "cells": [
  {
   "cell_type": "markdown",
   "metadata": {},
   "source": [
    "# Infino - Using langchain callbacks for LLM Monitoring Example\n",
    "\n",
    "This example shows how one can track the following while calling OpenAI models via API:\n",
    "* prompt input,\n",
    "* response from chatgpt or any other OpenAI model,\n",
    "* latency,\n",
    "* errors,\n",
    "* number of tokens consumed"
   ]
  },
  {
   "cell_type": "code",
   "execution_count": 4,
   "metadata": {},
   "outputs": [
    {
     "name": "stdout",
     "output_type": "stream",
     "text": [
      "Requirement already satisfied: infinopy in /Users/naman/.pyenv/versions/3.9.4/lib/python3.9/site-packages (0.0.1)\r\n",
      "Requirement already satisfied: docker in /Users/naman/.pyenv/versions/3.9.4/lib/python3.9/site-packages (from infinopy) (6.1.3)\r\n",
      "Requirement already satisfied: requests in /Users/naman/.pyenv/versions/3.9.4/lib/python3.9/site-packages (from infinopy) (2.31.0)\r\n",
      "Requirement already satisfied: packaging>=14.0 in /Users/naman/.pyenv/versions/3.9.4/lib/python3.9/site-packages (from docker->infinopy) (23.1)\r\n",
      "Requirement already satisfied: urllib3>=1.26.0 in /Users/naman/.pyenv/versions/3.9.4/lib/python3.9/site-packages (from docker->infinopy) (1.26.16)\r\n",
      "Requirement already satisfied: websocket-client>=0.32.0 in /Users/naman/.pyenv/versions/3.9.4/lib/python3.9/site-packages (from docker->infinopy) (1.5.3)\r\n",
      "Requirement already satisfied: charset-normalizer<4,>=2 in /Users/naman/.pyenv/versions/3.9.4/lib/python3.9/site-packages (from requests->infinopy) (3.1.0)\r\n",
      "Requirement already satisfied: idna<4,>=2.5 in /Users/naman/.pyenv/versions/3.9.4/lib/python3.9/site-packages (from requests->infinopy) (3.4)\r\n",
      "Requirement already satisfied: certifi>=2017.4.17 in /Users/naman/.pyenv/versions/3.9.4/lib/python3.9/site-packages (from requests->infinopy) (2023.5.7)\r\n"
     ]
    }
   ],
   "source": [
    "#installing Infino Python client\n",
    "!pip install infinopy"
   ]
  },
  {
   "cell_type": "code",
   "execution_count": null,
   "metadata": {},
   "outputs": [],
   "source": []
  }
 ],
 "metadata": {
  "kernelspec": {
   "display_name": "Python 3 (ipykernel)",
   "language": "python",
   "name": "python3"
  },
  "language_info": {
   "codemirror_mode": {
    "name": "ipython",
    "version": 3
   },
   "file_extension": ".py",
   "mimetype": "text/x-python",
   "name": "python",
   "nbconvert_exporter": "python",
   "pygments_lexer": "ipython3",
   "version": "3.9.4"
  }
 },
 "nbformat": 4,
 "nbformat_minor": 2
}
