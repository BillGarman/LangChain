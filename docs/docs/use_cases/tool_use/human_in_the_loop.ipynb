{
 "cells": [
  {
   "cell_type": "markdown",
   "id": "b09b745d-f006-4ecc-8772-afa266c43605",
   "metadata": {},
   "source": [
    "# Human-in-the-loop\n",
    "\n",
    "There are certain tools that we don't trust a model to execute on its own. One thing we can do in such situations is require human approval before the tool is invoked."
   ]
  },
  {
   "cell_type": "markdown",
   "id": "09178c30-a633-4d7b-88ea-092316f14b6f",
   "metadata": {},
   "source": [
    "## Setup\n",
    "\n",
    "We'll need to install the following packages:"
   ]
  },
  {
   "cell_type": "code",
   "execution_count": null,
   "id": "e44bec05-9aa4-47b1-a660-c0a183533598",
   "metadata": {},
   "outputs": [],
   "source": [
    "%pip install --upgrade --quiet langchain langchain-openai"
   ]
  },
  {
   "cell_type": "markdown",
   "id": "f09629b6-7f62-4879-a791-464739ca6b6b",
   "metadata": {},
   "source": [
    "And set these environment variables:"
   ]
  },
  {
   "cell_type": "code",
   "execution_count": null,
   "id": "2bed0ccf-20cc-4fd3-9947-55471dd8c4da",
   "metadata": {},
   "outputs": [],
   "source": [
    "import getpass\n",
    "import os\n",
    "\n",
    "os.environ[\"OPENAI_API_KEY\"] = getpass.getpass()\n",
    "\n",
    "# If you'd like to use LangSmith, uncomment the below:\n",
    "# os.environ[\"LANGCHAIN_TRACING_V2\"] = \"true\"\n",
    "# os.environ[\"LANGCHAIN_API_KEY\"] = getpass.getpass()"
   ]
  },
  {
   "cell_type": "markdown",
   "id": "43721981-4595-4721-bea0-5c67696426d3",
   "metadata": {},
   "source": [
    "## Chain\n",
    "\n",
    "Suppose we have the following (dummy) tools and tool-calling chain:"
   ]
  },
  {
   "cell_type": "code",
   "execution_count": 11,
   "id": "0221fdfd-2a18-4449-a123-e6b0b15bb3d9",
   "metadata": {},
   "outputs": [
    {
     "data": {
      "text/plain": [
       "10"
      ]
     },
     "execution_count": 11,
     "metadata": {},
     "output_type": "execute_result"
    }
   ],
   "source": [
    "from operator import itemgetter\n",
    "\n",
    "from langchain.output_parsers.openai_functions import JsonOutputFunctionsParser\n",
    "from langchain_community.tools.convert_to_openai import format_tool_to_openai_function\n",
    "from langchain_core.runnables import Runnable\n",
    "from langchain_core.tools import tool\n",
    "from langchain_openai import ChatOpenAI\n",
    "\n",
    "\n",
    "@tool\n",
    "def count_emails(last_n_days: int) -> int:\n",
    "    \"\"\"Multiply two integers together.\"\"\"\n",
    "    return last_n_days * 2\n",
    "\n",
    "\n",
    "@tool\n",
    "def send_email(message: str, recipient: str) -> str:\n",
    "    \"Add two integers.\"\n",
    "    return f\"Successfully sent email to {recipient}.\"\n",
    "\n",
    "\n",
    "tools = [count_emails, send_email]\n",
    "model = ChatOpenAI(model=\"gpt-3.5-turbo\", temperature=0).bind(\n",
    "    functions=[format_tool_to_openai_function(t) for t in tools]\n",
    ")\n",
    "\n",
    "\n",
    "def tool_chain(function_api_output: dict) -> Runnable:\n",
    "    tool_map = {tool.name: tool for tool in tools}\n",
    "    chosen = tool_map[function_api_output[\"name\"]]\n",
    "    return itemgetter(\"arguments\") | chosen\n",
    "\n",
    "\n",
    "chain = model | JsonOutputFunctionsParser(args_only=False) | tool_chain\n",
    "chain.invoke(\"how many emails did i get in the last 5 days?\")"
   ]
  },
  {
   "cell_type": "markdown",
   "id": "258c1c7b-a765-4558-93fe-d0defbc29223",
   "metadata": {},
   "source": [
    "## Adding human approval\n",
    "\n",
    "We can add a simple human approval step to our tool_chain function:"
   ]
  },
  {
   "cell_type": "code",
   "execution_count": 18,
   "id": "341fb055-0315-47bc-8f72-ed6103d2981f",
   "metadata": {},
   "outputs": [],
   "source": [
    "def tool_chain(function_api_output: dict) -> Runnable:\n",
    "    msg = (\n",
    "        f\"Do you approve of the following input to the `{function_api_output['name']}` tool?\\n\\n{function_api_output['arguments']}\\n\\n\"\n",
    "        \"Anything except 'Y'/'Yes' (case-insensitive) will be treated as a no.\"\n",
    "    )\n",
    "    resp = input(msg)\n",
    "    approved = resp.lower() in (\"yes\", \"y\")\n",
    "    if not approved:\n",
    "        return f\"Tool use not approved. Invoked tool {function_api_output['name']} with arguments {function_api_output['arguments']}\"\n",
    "    tool_map = {tool.name: tool for tool in tools}\n",
    "    chosen = tool_map[function_api_output[\"name\"]]\n",
    "    return itemgetter(\"arguments\") | chosen"
   ]
  },
  {
   "cell_type": "code",
   "execution_count": 19,
   "id": "25dca07b-56ca-4b94-9955-d4f3e9895e03",
   "metadata": {},
   "outputs": [
    {
     "name": "stdin",
     "output_type": "stream",
     "text": [
      "Do you approve of the following input to the `count_emails` tool?\n",
      "\n",
      "{'last_n_days': 5}\n",
      "\n",
      "Anything except 'Y'/'Yes' (case-insensitive) will be treated as a no. Y\n"
     ]
    },
    {
     "data": {
      "text/plain": [
       "10"
      ]
     },
     "execution_count": 19,
     "metadata": {},
     "output_type": "execute_result"
    }
   ],
   "source": [
    "chain = model | JsonOutputFunctionsParser(args_only=False) | tool_chain\n",
    "chain.invoke(\"how many emails did i get in the last 5 days?\")"
   ]
  },
  {
   "cell_type": "code",
   "execution_count": 20,
   "id": "f558f2cd-847b-4ef9-a770-3961082b540c",
   "metadata": {},
   "outputs": [
    {
     "name": "stdin",
     "output_type": "stream",
     "text": [
      "Do you approve of the following input to the `send_email` tool?\n",
      "\n",
      "{'message': \"What's up homie\", 'recipient': 'sally@gmail.com'}\n",
      "\n",
      "Anything except 'Y'/'Yes' (case-insensitive) will be treated as a no. n\n"
     ]
    },
    {
     "data": {
      "text/plain": [
       "'Tool use not approved. Invoked tool send_email with arguments {\\'message\\': \"What\\'s up homie\", \\'recipient\\': \\'sally@gmail.com\\'}'"
      ]
     },
     "execution_count": 20,
     "metadata": {},
     "output_type": "execute_result"
    }
   ],
   "source": [
    "chain.invoke(\"Send sally@gmail.com an email saying 'What's up homie'\")"
   ]
  }
 ],
 "metadata": {
  "kernelspec": {
   "display_name": "poetry-venv",
   "language": "python",
   "name": "poetry-venv"
  },
  "language_info": {
   "codemirror_mode": {
    "name": "ipython",
    "version": 3
   },
   "file_extension": ".py",
   "mimetype": "text/x-python",
   "name": "python",
   "nbconvert_exporter": "python",
   "pygments_lexer": "ipython3",
   "version": "3.9.1"
  }
 },
 "nbformat": 4,
 "nbformat_minor": 5
}
