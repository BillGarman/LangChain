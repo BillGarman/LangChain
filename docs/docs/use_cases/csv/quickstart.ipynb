{
 "cells": [
  {
   "cell_type": "raw",
   "id": "41f833d5-5696-4a89-b439-d448f859f2e0",
   "metadata": {},
   "source": [
    "---\n",
    "sidebar_position: 0\n",
    "---"
   ]
  },
  {
   "cell_type": "markdown",
   "id": "661b3e06-b7c4-4eec-9039-302bcf4a57c6",
   "metadata": {},
   "source": [
    "# Quickstart\n",
    "\n",
    "In this guide we'll go over the basic ways to build chains and agents that can answer questions about CSV files."
   ]
  },
  {
   "cell_type": "markdown",
   "id": "11a7669a-0b39-4838-a7f0-3c81307a9194",
   "metadata": {},
   "source": [
    "## Setup"
   ]
  },
  {
   "cell_type": "code",
   "execution_count": null,
   "id": "ea9fef41-bdb2-4c1f-81fe-a5a8b3b1e99e",
   "metadata": {},
   "outputs": [],
   "source": []
  }
 ],
 "metadata": {
  "kernelspec": {
   "display_name": "poetry-venv",
   "language": "python",
   "name": "poetry-venv"
  },
  "language_info": {
   "codemirror_mode": {
    "name": "ipython",
    "version": 3
   },
   "file_extension": ".py",
   "mimetype": "text/x-python",
   "name": "python",
   "nbconvert_exporter": "python",
   "pygments_lexer": "ipython3",
   "version": "3.9.1"
  }
 },
 "nbformat": 4,
 "nbformat_minor": 5
}
