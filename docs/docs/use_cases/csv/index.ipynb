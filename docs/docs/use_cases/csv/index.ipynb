{
 "cells": [
  {
   "cell_type": "raw",
   "id": "d00a802f-a27e-43a5-af1e-500d4bb70859",
   "metadata": {},
   "source": [
    "---\n",
    "sidebar_position: 0.3\n",
    "---"
   ]
  },
  {
   "cell_type": "markdown",
   "id": "674a0d41-e3e3-4423-a995-25d40128c518",
   "metadata": {},
   "source": [
    "# CSV\n",
    "\n",
    "LLMs are great for building question-answering systems over various types of data sources. In this section we'll go over how to build Q&A systems over data stored in a CSV file. This will have a lot of similarities to our Q&A over [SQL](/docs/use_cases/sql/) databases guide, and in fact one of the approaches we can use for CSV files is to convert them to a SQL db first, and then use the built-in SQL agents and chains."
   ]
  },
  {
   "cell_type": "code",
   "execution_count": null,
   "id": "e2e46b56-a5e9-44cd-bf78-37b1db1758e3",
   "metadata": {},
   "outputs": [],
   "source": []
  }
 ],
 "metadata": {
  "kernelspec": {
   "display_name": "poetry-venv",
   "language": "python",
   "name": "poetry-venv"
  },
  "language_info": {
   "codemirror_mode": {
    "name": "ipython",
    "version": 3
   },
   "file_extension": ".py",
   "mimetype": "text/x-python",
   "name": "python",
   "nbconvert_exporter": "python",
   "pygments_lexer": "ipython3",
   "version": "3.9.1"
  }
 },
 "nbformat": 4,
 "nbformat_minor": 5
}
