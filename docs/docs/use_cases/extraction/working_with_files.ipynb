{
 "cells": [
  {
   "cell_type": "raw",
   "id": "8371e5d6-eb65-4c97-aac2-05037356c2c1",
   "metadata": {},
   "source": [
    "---\n",
    "title: Working with Files\n",
    "---"
   ]
  },
  {
   "cell_type": "code",
   "execution_count": null,
   "id": "fd929b4a-28e5-4dad-906e-3197d4151aa7",
   "metadata": {},
   "outputs": [],
   "source": [
    "### Binary Files\n",
    "\n",
    "Besides raw text data, you may wish to extract information from other file types such as powerpoints or pdfs. To do so, we can use the Blob object along with a PDF parser.\n",
    "\n",
    "A code example is below:\n",
    "\n",
    "from langchain.document_loaders.parsers import PDFMinerParser\n",
    "from langchain_community.document_loaders import Blob\n",
    "\n",
    "with open(r\"./test.pdf\", \"rb\") as fp:\n",
    "    file_data = fp.read()\n",
    "\n",
    "blob = Blob.from_data(\n",
    "    data=file_data,\n",
    "    mime_type=\"application/pdf\",\n",
    ")\n",
    "\n",
    "parser = PDFMinerParser()\n",
    "parsed_data = parser.parse(blob=blob)\n",
    "text = parsed_data[0].page_content.strip()\n",
    "\n",
    "runnable = create_structured_output_runnable(People, llm, mode=\"openai-tools\")\n",
    "runnable.invoke(text)\n",
    "\n",
    "### Mime Type Based Parsing\n",
    "\n",
    "In addition, you can choose to not specify the file and parser type directly, instead letting the code infer it from the file it gets passed.\n",
    "\n",
    "A code example of this is below:\n",
    "\n",
    "import magic\n",
    "from langchain.document_loaders.parsers import BS4HTMLParser, PDFMinerParser\n",
    "from langchain.document_loaders.parsers.generic import MimeTypeBasedParser\n",
    "from langchain.document_loaders.parsers.txt import TextParser\n",
    "\n",
    "HANDLERS = {\n",
    "    \"application/pdf\": PDFMinerParser(),\n",
    "    \"text/plain\": TextParser(),\n",
    "    \"text/html\": BS4HTMLParser(),\n",
    "}\n",
    "\n",
    "MIMETYPE_BASED_PARSER = MimeTypeBasedParser(\n",
    "    handlers=HANDLERS,\n",
    "    fallback_parser=None,\n",
    ")\n",
    "\n",
    "with open(r\"./test.html\", \"rb\") as fp:\n",
    "    file_data = fp.read()\n",
    "\n",
    "mime = magic.Magic(mime=True)\n",
    "mime_type = mime.from_buffer(file_data)\n",
    "\n",
    "blob = Blob.from_data(\n",
    "    data=file_data,\n",
    "    mime_type=mime_type,\n",
    ")\n",
    "\n",
    "parser = HANDLERS[mime_type]\n",
    "parsed_data = parser.parse(blob=blob)\n",
    "runnable.invoke(parsed_data[0].page_content)"
   ]
  }
 ],
 "metadata": {
  "kernelspec": {
   "display_name": "Python 3 (ipykernel)",
   "language": "python",
   "name": "python3"
  },
  "language_info": {
   "codemirror_mode": {
    "name": "ipython",
    "version": 3
   },
   "file_extension": ".py",
   "mimetype": "text/x-python",
   "name": "python",
   "nbconvert_exporter": "python",
   "pygments_lexer": "ipython3",
   "version": "3.11.2"
  }
 },
 "nbformat": 4,
 "nbformat_minor": 5
}
