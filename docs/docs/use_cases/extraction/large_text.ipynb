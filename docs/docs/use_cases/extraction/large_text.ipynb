{
 "cells": [
  {
   "cell_type": "raw",
   "id": "913dd5a2-24d1-4f8e-bc15-ab518483eef9",
   "metadata": {},
   "source": [
    "---\n",
    "title: Large Text\n",
    "---"
   ]
  },
  {
   "attachments": {},
   "cell_type": "markdown",
   "id": "9e161a8a-fcf0-4d55-933e-da271ce28d7e",
   "metadata": {},
   "source": [
    "# Working With Large Text\n",
    "\n",
    "When working with files, like PDFs, you might encounter text that exceeds your language model's context window. To process this text, consider these strategies:\n",
    "\n",
    "1. **Change LLM** Choose a different LLM that supports a larger context window.\n",
    "2. **Brute Force** Chunk the document, and extract content from each chunk.\n",
    "3. **RAG** Chunk the document, index the chunks, and only extract content from a subset of chunks that look \"relevant\"."
   ]
  },
  {
   "cell_type": "markdown",
   "id": "13aebafb-26b5-42b2-ae8e-9c05cd56e5c5",
   "metadata": {},
   "source": [
    "## Brute-Force"
   ]
  },
  {
   "cell_type": "code",
   "execution_count": null,
   "id": "f943bd66-24f0-4a0a-a85f-8868227328d2",
   "metadata": {},
   "outputs": [],
   "source": [
    "from langchain_openai.chat_models import ChatOpenAI\n",
    "from langchain.text_splitter import TokenTextSplitter\n",
    "\n",
    "model = ChatOpenAI()\n",
    "\n",
    "with open(r\"./test.txt\", \"r\") as fp:\n",
    "    doc_content = fp.read().strip()\n",
    "\n",
    "runnable = create_structured_output_runnable(People, llm, mode=\"openai-tools\")\n",
    "\n",
    "text_splitter = TokenTextSplitter(\n",
    "    chunk_size=1000,\n",
    "    chunk_overlap=20,\n",
    ")\n",
    "\n",
    "texts = text_splitter.split_text(doc_content)\n",
    "extract_responses = runnable.batch(texts)\n",
    "dedup_responses = []\n",
    "for response in extract_responses:\n",
    "    for person in response.people:\n",
    "        if person not in dedup_responses:\n",
    "            dedup_responses.append(person)"
   ]
  },
  {
   "cell_type": "markdown",
   "id": "48afd4a7-abcd-48b4-8ff1-6ca485f529e3",
   "metadata": {},
   "source": [
    "## RAG"
   ]
  }
 ],
 "metadata": {
  "kernelspec": {
   "display_name": "Python 3 (ipykernel)",
   "language": "python",
   "name": "python3"
  },
  "language_info": {
   "codemirror_mode": {
    "name": "ipython",
    "version": 3
   },
   "file_extension": ".py",
   "mimetype": "text/x-python",
   "name": "python",
   "nbconvert_exporter": "python",
   "pygments_lexer": "ipython3",
   "version": "3.11.2"
  }
 },
 "nbformat": 4,
 "nbformat_minor": 5
}
