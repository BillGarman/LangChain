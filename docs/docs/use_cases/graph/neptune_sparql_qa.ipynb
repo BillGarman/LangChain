{
 "cells": [
  {
   "cell_type": "markdown",
   "metadata": {},
   "source": [
    "# SPARQL Langchain with Amazon Neptune\n",
    "\n",
    "This notebook shows use of LLM to query RDF graph in Amazon Neptune. It uses Langchain.\n",
    "\n",
    "* Create RDFGraph object that connects to Neptune and introspects its schema\n",
    "* Create chain using LLM and RDFGraph. LLM used here is Anthropic Claude 2 via Bedrock\n",
    "* Ask questions to LLM. LLM consults schema and calls RDFGraph to execute SPARQL query\n",
    "\n",
    "Requirements:\n",
    "- Neptune 1.2.x cluster accessible from this notebook\n",
    "- Python 3.9 or higher kernet\n",
    "- For Bedrock access, ensure IAM role has\n",
    "\n",
    "{\n",
    "        \"Action\": [\n",
    "            \"bedrock:ListFoundationModels\",\n",
    "            \"bedrock:InvokeModel\"\n",
    "        ],\n",
    "        \"Resource\": \"*\",\n",
    "        \"Effect\": \"Allow\"\n",
    "}\n",
    "\n",
    "- S3 bucket for staging in same account/region as Neptune"
   ]
  },
  {
   "cell_type": "markdown",
   "metadata": {},
   "source": [
    "## Seed W3C organizational data\n",
    "W3C org ontology plus some instances. \n",
    "\n",
    "You will need an S3 bucket in the same region and account. Set STAGE_BUCKET to name of that bucket."
   ]
  },
  {
   "cell_type": "code",
   "execution_count": null,
   "metadata": {},
   "outputs": [],
   "source": [
    "STAGE_BUCKET='<enter your bucket name>'"
   ]
  },
  {
   "cell_type": "code",
   "execution_count": null,
   "metadata": {},
   "outputs": [],
   "source": [
    "%%bash  -s \"$STAGE_BUCKET\"\n",
    "\n",
    "rm -rf data\n",
    "mkdir -p data\n",
    "cd data\n",
    "echo getting org ontology and sample org instances\n",
    "wget http://www.w3.org/ns/org.ttl \n",
    "wget https://raw.githubusercontent.com/aws-samples/amazon-neptune-ontology-example-blog/main/data/example_org.ttl \n",
    "\n",
    "echo Copying org ttl to S3\n",
    "aws s3 cp org.ttl s3://$1/org.ttl\n",
    "aws s3 cp example_org.ttl s3://$1/example_org.ttl\n"
   ]
  },
  {
   "cell_type": "markdown",
   "metadata": {},
   "source": [
    "Bulk-load the org ttl - both ontology and instances"
   ]
  },
  {
   "cell_type": "code",
   "execution_count": null,
   "metadata": {},
   "outputs": [],
   "source": [
    "%load -s s3://{STAGE_BUCKET} -f turtle --store-to loadres --run"
   ]
  },
  {
   "cell_type": "code",
   "execution_count": null,
   "metadata": {},
   "outputs": [],
   "source": [
    "%load_status {loadres['payload']['loadId']} --errors --details"
   ]
  },
  {
   "cell_type": "markdown",
   "metadata": {},
   "source": [
    "## Setup Chain"
   ]
  },
  {
   "cell_type": "code",
   "execution_count": null,
   "metadata": {},
   "outputs": [],
   "source": [
    "EXAMPLES=\"\"\"\n",
    "\n",
    "<question>\n",
    "Find organizations.\n",
    "</question>\n",
    "\n",
    "<sparql>\n",
    "PREFIX rdf: <http://www.w3.org/1999/02/22-rdf-syntax-ns#> \n",
    "PREFIX rdfs: <http://www.w3.org/2000/01/rdf-schema#> \n",
    "PREFIX org: <http://www.w3.org/ns/org#> \n",
    "\n",
    "select ?org ?orgName where {{\n",
    "    ?org rdfs:label ?orgName .\n",
    "}} \n",
    "</sparql>\n",
    "\n",
    "<question>\n",
    "Find sites of an organization\n",
    "</question>\n",
    "\n",
    "<sparql>\n",
    "PREFIX rdf: <http://www.w3.org/1999/02/22-rdf-syntax-ns#> \n",
    "PREFIX rdfs: <http://www.w3.org/2000/01/rdf-schema#> \n",
    "PREFIX org: <http://www.w3.org/ns/org#> \n",
    "\n",
    "select ?org ?orgName ?siteName where {{\n",
    "    ?org rdfs:label ?orgName .\n",
    "    ?org org:hasSite/rdfs:label ?siteName . \n",
    "}} \n",
    "</sparql>\n",
    "\n",
    "<question>\n",
    "Find suborganizations of an organization\n",
    "</question>\n",
    "\n",
    "<sparql>\n",
    "PREFIX rdf: <http://www.w3.org/1999/02/22-rdf-syntax-ns#> \n",
    "PREFIX rdfs: <http://www.w3.org/2000/01/rdf-schema#> \n",
    "PREFIX org: <http://www.w3.org/ns/org#> \n",
    "\n",
    "select ?org ?orgName ?subName where {{\n",
    "    ?org rdfs:label ?orgName .\n",
    "    ?org org:hasSubOrganization/rdfs:label ?subName  .\n",
    "}} \n",
    "</sparql>\n",
    "\n",
    "<question>\n",
    "Find organizational units of an organization\n",
    "</question>\n",
    "\n",
    "<sparql>\n",
    "PREFIX rdf: <http://www.w3.org/1999/02/22-rdf-syntax-ns#> \n",
    "PREFIX rdfs: <http://www.w3.org/2000/01/rdf-schema#> \n",
    "PREFIX org: <http://www.w3.org/ns/org#> \n",
    "\n",
    "select ?org ?orgName ?unitName where {{\n",
    "    ?org rdfs:label ?orgName .\n",
    "    ?org org:hasUnit/rdfs:label ?unitName . \n",
    "}} \n",
    "</sparql>\n",
    "\n",
    "<question>\n",
    "Find members of an organization. Also find their manager, or the member they report to.\n",
    "</question>\n",
    "\n",
    "<sparql>\n",
    "PREFIX org: <http://www.w3.org/ns/org#> \n",
    "PREFIX foaf: <http://xmlns.com/foaf/0.1/> \n",
    "\n",
    "select * where {{\n",
    "    ?person rdf:type foaf:Person .\n",
    "    ?person  org:memberOf ?org .\n",
    "    OPTIONAL {{ ?person foaf:firstName ?firstName . }}\n",
    "    OPTIONAL {{ ?person foaf:family_name ?lastName . }}\n",
    "    OPTIONAL {{ ?person  org:reportsTo ??manager }} .\n",
    "}}\n",
    "</sparql>\n",
    "\n",
    "\n",
    "<question>\n",
    "Find change events, such as mergers and acquisitions, of an organization\n",
    "</question>\n",
    "\n",
    "<sparql>\n",
    "PREFIX org: <http://www.w3.org/ns/org#> \n",
    "\n",
    "select ?event ?prop ?obj where {{\n",
    "    ?org rdfs:label ?orgName .\n",
    "    ?event rdf:type org:ChangeEvent .\n",
    "    ?event org:originalOrganization ?origOrg .\n",
    "    ?event org:resultingOrganization ?resultingOrg .\n",
    "}}\n",
    "</sparql>\n",
    "\n",
    "\"\"\""
   ]
  },
  {
   "cell_type": "code",
   "execution_count": null,
   "metadata": {},
   "outputs": [],
   "source": [
    "import boto3\n",
    "from langchain.chains.graph_qa.neptune_sparql import NeptuneSparqlQAChain\n",
    "from langchain_community.graphs import NeptuneRdfGraph\n",
    "from langchain.chat_models import BedrockChat\n",
    "from langchain.llms import Bedrock\n",
    "\n",
    "nep_host = \"<enter your neptune host>\"\n",
    "nep_port = \"<enter your neptune port>\"\n",
    "nep_region = 'us-east-1' # enter your region\n",
    "nep_ep = f\"https://{nep_host}:{nep_port}/sparql\"\n",
    "\n",
    "graph = None\n",
    "graph = NeptuneRdfGraph(\n",
    "    query_endpoint=nep_ep,\n",
    "    use_iam_auth=True,\n",
    "    region_name=nep_region,\n",
    "    hide_comments=True\n",
    ")\n",
    "\n",
    "elems = graph.get_schema_elements\n",
    "# change elems ...\n",
    "graph.load_from_schema_elements(elems)\n",
    "\n",
    "bedrock_client = boto3.client('bedrock-runtime')\n",
    "llm = BedrockChat(\n",
    "    model_id = \"anthropic.claude-v2\",\n",
    "    client = bedrock_client\n",
    ")\n",
    "\n",
    "chain = NeptuneSparqlQAChain.from_llm(\n",
    "    llm=llm, graph=graph, examples=EXAMPLES, verbose=True, top_K=10, return_intermediate_steps=True, return_direct=False)\n"
   ]
  },
  {
   "cell_type": "code",
   "execution_count": null,
   "metadata": {},
   "outputs": [],
   "source": [
    "graph.get_schema"
   ]
  },
  {
   "cell_type": "code",
   "execution_count": null,
   "metadata": {},
   "outputs": [],
   "source": [
    "graph.get_schema_elements"
   ]
  },
  {
   "cell_type": "code",
   "execution_count": null,
   "metadata": {},
   "outputs": [],
   "source": [
    "chain"
   ]
  },
  {
   "cell_type": "markdown",
   "metadata": {},
   "source": [
    "## Ask questions\n",
    "Depends on the data we ingested above"
   ]
  },
  {
   "cell_type": "code",
   "execution_count": null,
   "metadata": {},
   "outputs": [],
   "source": [
    "chain.invoke('''How many organizations are in the graph''')"
   ]
  },
  {
   "cell_type": "code",
   "execution_count": null,
   "metadata": {},
   "outputs": [],
   "source": [
    "chain.invoke('''Are there any mergers or acquisitions''')"
   ]
  },
  {
   "cell_type": "code",
   "execution_count": null,
   "metadata": {},
   "outputs": [],
   "source": [
    "chain.invoke('''Find organizations''')"
   ]
  },
  {
   "cell_type": "code",
   "execution_count": null,
   "metadata": {},
   "outputs": [],
   "source": [
    "chain.invoke('''Find sites of MegaSystems or MegaFinancial''')"
   ]
  },
  {
   "cell_type": "code",
   "execution_count": null,
   "metadata": {},
   "outputs": [],
   "source": [
    "%%time\n",
    "chain.invoke('''Find a member who is manager of one or more members.''')"
   ]
  },
  {
   "cell_type": "code",
   "execution_count": null,
   "metadata": {},
   "outputs": [],
   "source": [
    "chain.invoke('''Find five members and who their manager is.''')"
   ]
  },
  {
   "cell_type": "code",
   "execution_count": null,
   "metadata": {},
   "outputs": [],
   "source": [
    "%%time\n",
    "chain.invoke('''Find org units or suborganizations of The Mega Group. What are the sites of those units?''')"
   ]
  }
 ],
 "metadata": {
  "kernelspec": {
   "display_name": "Python 3",
   "language": "python",
   "name": "python3"
  },
  "language_info": {
   "codemirror_mode": {
    "name": "ipython",
    "version": 3
   },
   "file_extension": ".py",
   "mimetype": "text/x-python",
   "name": "python",
   "nbconvert_exporter": "python",
   "pygments_lexer": "ipython3",
   "version": "3.10.8"
  }
 },
 "nbformat": 4,
 "nbformat_minor": 2
}
