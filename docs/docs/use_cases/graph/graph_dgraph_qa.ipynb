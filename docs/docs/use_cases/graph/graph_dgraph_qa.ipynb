{
 "cells": [
  {
   "cell_type": "markdown",
   "metadata": {},
   "source": [
    "# DGraph QA chain\n",
    "\n",
    "This notebook shows how to use LLMs to provide a natural language interface to a [DGraph](https://dgraph.io/) database."
   ]
  },
  {
   "cell_type": "markdown",
   "metadata": {},
   "source": [
    "# Running a DGraph instance\n",
    "\n",
    "### Local Installation\n",
    "You can get a local docker instance running with the DGraph Docker Image:\n",
    "\n",
    "```\n",
    "docker run --name dgraph -d -p \"8080:8080\" -p \"9080:9080\" -v <DATA_PATH>:/dgraph dgraph/standalone:latest\n",
    "```\n",
    "Where <DATA_PATH> is a directory on your local machine where you want to store the DGraph data.\n",
    "Example:\n",
    "```\n",
    "docker run --name dgraph -d -p \"8080:8080\" -p \"9080:9080\" -v C:/dgraph dgraph/standalone:latest\n",
    "```\n",
    "\n",
    "### Cloud Installation\n",
    "Alternatively you can run a DGraph instance on the cloud. For example, you can use the [DGraph Cloud](https://cloud.dgraph.io/pricing?type=free&zo=us-east-1) service.\n"
   ]
  },
  {
   "cell_type": "markdown",
   "metadata": {},
   "source": [
    "# Instantiate a DGraph Object"
   ]
  },
  {
   "cell_type": "code",
   "execution_count": null,
   "metadata": {
    "vscode": {
     "languageId": "powershell"
    }
   },
   "outputs": [],
   "source": [
    "# Install pydgraph dependency\n",
    "pip install pydgraph"
   ]
  },
  {
   "cell_type": "code",
   "execution_count": 1,
   "metadata": {},
   "outputs": [],
   "source": [
    "from langchain.graphs import DGraph\n",
    "graph = DGraph(clientUrl=\"localhost:9080\")\n",
    "# if you have a namespace in your local instance\n",
    "#graph = DGraph(clientUrl=\"localhost:8080\", namespace=\"NAMESPACE\", username=\"USERNAME\", password=\"PASSWORD\")\n",
    "\n",
    "# Or if you have a cloud instance\n",
    "#graph = DGraph(clientUrl=\"YOUR_CLOUD_INSTANCE_URL\", apiToken=\"API_TOKEN\")\n",
    "\n",
    "# If you have namespaces in your cloud instance\n",
    "#graph = DGraph(clientUrl=\"CLIENT_URL\", apiToken=\"API_TOKEN\", namespace=\"NAMESPACE\", username=\"USERNAME\", password=\"PASSWORD\")"
   ]
  },
  {
   "cell_type": "code",
   "execution_count": 3,
   "metadata": {},
   "outputs": [],
   "source": [
    "# Some sample data into the DGraph instance\n",
    "schema = \"\"\"\n",
    "<age>: int .\n",
    "<cast>: [uid] @reverse .\n",
    "<name>: string @index(hash) .\n",
    "<year>: string @index(exact) .\n",
    "type <Movie> {\n",
    "\tcast\n",
    "\tname\n",
    "\tyear\n",
    "}\n",
    "type <Actor> {\n",
    "\tname\n",
    "\tage\n",
    "}\n",
    "\"\"\"\n",
    "\n",
    "actorsRDF = \"\"\"\n",
    "_:tom <name> \"Tom Hanks\" .\n",
    "_:tom <age> \"63\" .\n",
    "_:tom <dgraph.type> \"Actor\" .\n",
    "\n",
    "_:jennifer <name> \"Jennifer Lawrence\" .\n",
    "_:jennifer <age> \"33\" .\n",
    "_:jennifer <dgraph.type> \"Actor\" .\n",
    "\n",
    "\n",
    "_:porom <name> \"Porom Kamal\" .\n",
    "_:porom <age> \"21\" .\n",
    "_:porom <dgraph.type> \"Actor\" .\n",
    "\n",
    "_:forrest <name> \"Forrest Gump\" .\n",
    "_:forrest <year> \"1994\" .\n",
    "_:forrest <dgraph.type> \"Movie\" .\n",
    "_:forrest <cast> _:tom .\n",
    "\n",
    "_:terminal <name> \"The Terminal\" .\n",
    "_:terminal <year> \"2004\" .\n",
    "_:terminal <dgraph.type> \"Movie\" .\n",
    "_:terminal <cast> _:tom .\n",
    "_:terminal <cast> _:porom .\n",
    "\n",
    "_:hunger <name> \"The Hunger Games\" .\n",
    "_:hunger <year> \"2012\" .\n",
    "_:hunger <dgraph.type> \"Movie\" .\n",
    "_:hunger <cast> _:jennifer .\n",
    "\"\"\""
   ]
  },
  {
   "cell_type": "code",
   "execution_count": 4,
   "metadata": {},
   "outputs": [],
   "source": [
    "graph.drop_all()\n",
    "graph.add_schema(schema)\n",
    "graph.add_node_rdf(actorsRDF)"
   ]
  },
  {
   "cell_type": "markdown",
   "metadata": {},
   "source": [
    "# Instantiate a DGraphQAChain Object"
   ]
  },
  {
   "cell_type": "code",
   "execution_count": 8,
   "metadata": {},
   "outputs": [],
   "source": [
    "from langchain.chains import DGraphQAChain\n",
    "from langchain.chat_models import ChatOpenAI\n",
    "import os\n",
    "os.environ[\"OPENAI_API_KEY\"] = \"YOUR_OPENAI_API_KEY\"\n",
    "\n",
    "chain = DGraphQAChain.from_llm(\n",
    "    ChatOpenAI(temperature=0), graph=graph, verbose=True\n",
    ")"
   ]
  },
  {
   "cell_type": "code",
   "execution_count": null,
   "metadata": {},
   "outputs": [],
   "source": [
    "chain.run(\"How old is Tom Hanks?\")"
   ]
  },
  {
   "cell_type": "code",
   "execution_count": null,
   "metadata": {},
   "outputs": [],
   "source": [
    "chain.run(\"Who acted in the movie The Terminal?\")"
   ]
  },
  {
   "cell_type": "code",
   "execution_count": null,
   "metadata": {},
   "outputs": [],
   "source": [
    "chain.run(\"Did Jennifer Lawrence act in a movie that was released in 2012?\")"
   ]
  },
  {
   "cell_type": "markdown",
   "metadata": {},
   "source": [
    "## Chain Modifiers\n",
    "You can alter the values of the following `DGraphQAChain` class variables to modify the behaviour of your chain results\n"
   ]
  },
  {
   "cell_type": "code",
   "execution_count": null,
   "metadata": {},
   "outputs": [],
   "source": [
    "# Specify the maximum amount of DQL Generation attempts that should be made\n",
    "chain.max_generation_attempts = 5\n",
    "\n",
    "# Specify a set of DQL Query Examples, which are passed to\n",
    "# the DQL Generation Prompt Template to promote few-shot-learning.\n",
    "# Defaults to an empty string.\n",
    "chain.dql_examples = \"\"\"\n",
    "Question: Find all movies that were released after 2016\n",
    "DQL Query: \n",
    "{\n",
    "  find_movies(func: type(Movie)) @filter(gt(year, \"2016\")){\n",
    "    expand(_all_)\n",
    "  }\n",
    "}\n",
    "\"\"\"\n",
    "\n",
    "# Specify whether to use a list of generic DQL Query Examples\n",
    "chain.use_generic_query_examples = True\n",
    "\n",
    "# Enable experimental DQL Syntax Injection, which inserts DQL Syntax notes\n",
    "# into the DQL Generation Prompt Template.\n",
    "chain.experimental_dql_syntax_injection = True"
   ]
  }
 ],
 "metadata": {
  "kernelspec": {
   "display_name": "langchain",
   "language": "python",
   "name": "python3"
  },
  "language_info": {
   "codemirror_mode": {
    "name": "ipython",
    "version": 3
   },
   "file_extension": ".py",
   "mimetype": "text/x-python",
   "name": "python",
   "nbconvert_exporter": "python",
   "pygments_lexer": "ipython3",
   "version": "3.9.18"
  }
 },
 "nbformat": 4,
 "nbformat_minor": 2
}
