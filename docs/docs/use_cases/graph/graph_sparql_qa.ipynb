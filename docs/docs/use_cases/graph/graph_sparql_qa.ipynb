{
 "cells": [
  {
   "cell_type": "markdown",
   "id": "c94240f5",
   "metadata": {},
   "source": [
    "# GraphSparqlQAChain\n",
    "\n",
    "Graph databases are an excellent choice for applications based on network-like models. To standardize the syntax and semantics of such graphs, the W3C recommends Semantic Web Technologies, cp. [Semantic Web](https://www.w3.org/standards/semanticweb/). [SPARQL](https://www.w3.org/TR/sparql11-query/) serves as a query language analogously to SQL or Cypher for these graphs. This notebook demonstrates the application of LLMs as a natural language interface to a graph database by generating SPARQL.\\\n",
    "Disclaimer: To date, SPARQL query generation via LLMs is still a bit unstable. Be especially careful with UPDATE queries, which alter the graph."
   ]
  },
  {
   "cell_type": "markdown",
   "id": "dbc0ee68",
   "metadata": {},
   "source": [
    "There are several sources you can run queries against, including files on the web, files you have available locally, SPARQL endpoints, e.g., [Wikidata](https://www.wikidata.org/wiki/Wikidata:Main_Page), and [triple stores](https://www.w3.org/wiki/LargeTripleStores)."
   ]
  },
  {
   "cell_type": "code",
   "execution_count": 1,
   "id": "62812aad",
   "metadata": {
    "pycharm": {
     "is_executing": true
    }
   },
   "outputs": [],
   "source": [
    "from langchain.chains import GraphSparqlQAChain\n",
    "from langchain.chat_models import ChatOpenAI\n",
    "from langchain.graphs import RdfGraph"
   ]
  },
  {
   "cell_type": "markdown",
   "id": "1a705f5b",
   "metadata": {},
   "source": [
    "## Load some RDF data"
   ]
  },
  {
   "cell_type": "code",
   "execution_count": 2,
   "id": "0928915d",
   "metadata": {
    "pycharm": {
     "is_executing": true
    }
   },
   "outputs": [],
   "source": [
    "graph = RdfGraph(\n",
    "    source_file=\"http://www.w3.org/People/Berners-Lee/card\",\n",
    "    standard=\"rdf\",\n",
    "    local_copy=\"test.ttl\",\n",
    ")"
   ]
  },
  {
   "cell_type": "markdown",
   "id": "7af596b5",
   "metadata": {},
   "source": [
    "Note that providing a `local_file` is necessary for storing changes locally if the source is read-only."
   ]
  },
  {
   "cell_type": "markdown",
   "id": "58c1a8ea",
   "metadata": {},
   "source": [
    "## Refresh graph schema information\n",
    "If the schema of the database changes, you can refresh the schema information needed to generate SPARQL queries."
   ]
  },
  {
   "cell_type": "code",
   "execution_count": 3,
   "id": "4e3de44f",
   "metadata": {
    "pycharm": {
     "is_executing": true
    }
   },
   "outputs": [],
   "source": [
    "graph.load_schema()"
   ]
  },
  {
   "cell_type": "code",
   "execution_count": 4,
   "id": "1fe76ccd",
   "metadata": {},
   "outputs": [
    {
     "data": {
      "text/plain": [
       "'In the following, each IRI is followed by the local name and optionally its label and its description in parentheses. \\nThe RDF graph supports the following node types:\\n<http://xmlns.com/foaf/0.1/PersonalProfileDocument> (PersonalProfileDocument, None, None), <http://www.w3.org/ns/auth/cert#RSAPublicKey> (RSAPublicKey, None, None), <http://www.w3.org/2000/10/swap/pim/contact#Male> (Male, None, None), <http://xmlns.com/foaf/0.1/Person> (Person, None, None), <http://www.w3.org/2006/vcard/ns#Work> (Work, None, None)\\nThe RDF graph supports the following relationships:\\n<http://xmlns.com/foaf/0.1/name> (name, None, None), <http://xmlns.com/foaf/0.1/based_near> (based_near, None, None), <http://www.w3.org/2000/01/rdf-schema#seeAlso> (seeAlso, None, None), <http://www.w3.org/ns/pim/space#storage> (storage, None, None), <http://usefulinc.com/ns/doap#developer> (developer, None, None), <http://xmlns.com/foaf/0.1/nick> (nick, None, None), <http://xmlns.com/foaf/0.1/title> (title, None, None), <http://www.w3.org/ns/pim/space#preferencesFile> (preferencesFile, None, None), <http://xmlns.com/foaf/0.1/account> (account, None, None), <http://www.w3.org/2000/10/swap/pim/contact#homePage> (homePage, None, None), <http://www.w3.org/ns/solid/terms#oidcIssuer> (oidcIssuer, None, None), <http://www.w3.org/2000/10/swap/pim/contact#publicHomePage> (publicHomePage, None, None), <http://www.w3.org/2003/01/geo/wgs84_pos#long> (long, None, None), <http://xmlns.com/foaf/0.1/workplaceHomepage> (workplaceHomepage, None, None), <http://www.w3.org/ns/ldp#inbox> (inbox, None, None), <http://xmlns.com/foaf/0.1/mbox_sha1sum> (mbox_sha1sum, None, None), <http://www.w3.org/2006/vcard/ns#street-address> (street-address, None, None), <http://xmlns.com/foaf/0.1/maker> (maker, None, None), <http://xmlns.com/foaf/0.1/primaryTopic> (primaryTopic, None, None), <http://www.w3.org/2000/10/swap/pim/contact#street2> (street2, None, None), <http://creativecommons.org/ns#license> (license, None, None), <http://purl.org/dc/elements/1.1/title> (title, None, None), <http://www.w3.org/2006/vcard/ns#locality> (locality, None, None), <http://www.w3.org/2000/10/swap/pim/contact#city> (city, None, None), <http://xmlns.com/foaf/0.1/img> (img, None, None), <http://www.w3.org/ns/solid/terms#profileHighlightColor> (profileHighlightColor, None, None), <http://www.w3.org/ns/auth/cert#modulus> (modulus, None, None), <http://xmlns.com/foaf/0.1/member> (member, None, None), <http://www.w3.org/2003/01/geo/wgs84_pos#location> (location, None, None), <http://www.w3.org/1999/02/22-rdf-syntax-ns#type> (type, None, None), <http://xmlns.com/foaf/0.1/family_name> (family_name, None, None), <http://www.w3.org/2000/10/swap/pim/contact#street> (street, None, None), <http://www.w3.org/ns/auth/cert#key> (key, None, None), <http://www.w3.org/2000/10/swap/pim/contact#address> (address, None, None), <http://xmlns.com/foaf/0.1/openid> (openid, None, None), <http://purl.org/dc/terms/title> (title, None, None), <http://xmlns.com/foaf/0.1/mbox> (mbox, None, None), <http://www.w3.org/2006/vcard/ns#region> (region, None, None), <http://www.w3.org/2006/vcard/ns#hasAddress> (hasAddress, None, None), <http://www.w3.org/ns/solid/terms#editableProfile> (editableProfile, None, None), <http://rdfs.org/sioc/ns#avatar> (avatar, None, None), <http://www.w3.org/2000/10/swap/pim/contact#office> (office, None, None), <http://www.w3.org/2000/10/swap/pim/contact#participant> (participant, None, None), <http://www.w3.org/2006/vcard/ns#fn> (fn, None, None), <http://xmlns.com/foaf/0.1/givenname> (givenname, None, None), <http://www.w3.org/2006/vcard/ns#postal-code> (postal-code, None, None), <http://xmlns.com/foaf/0.1/homepage> (homepage, None, None), <http://www.w3.org/2003/01/geo/wgs84_pos#lat> (lat, None, None), <http://schema.org/owns> (owns, None, None), <http://xmlns.com/foaf/0.1/weblog> (weblog, None, None), <http://www.w3.org/2000/10/swap/pim/contact#country> (country, None, None), <http://www.w3.org/ns/solid/terms#publicTypeIndex> (publicTypeIndex, None, None), <http://www.w3.org/2000/01/rdf-schema#label> (label, None, None), <http://www.w3.org/ns/auth/cert#exponent> (exponent, None, None), <http://www.w3.org/2000/10/swap/pim/contact#preferredURI> (preferredURI, None, None), <http://www.w3.org/2000/10/swap/pim/contact#postalCode> (postalCode, None, None), <http://www.w3.org/ns/solid/terms#profileBackgroundColor> (profileBackgroundColor, None, None), <http://www.w3.org/2000/10/swap/pim/contact#assistant> (assistant, None, None)\\n'"
      ]
     },
     "execution_count": 4,
     "metadata": {},
     "output_type": "execute_result"
    }
   ],
   "source": [
    "graph.get_schema"
   ]
  },
  {
   "cell_type": "markdown",
   "id": "68a3c677",
   "metadata": {},
   "source": [
    "## Querying the graph\n",
    "\n",
    "Now, you can use the graph SPARQL QA chain to ask questions about the graph."
   ]
  },
  {
   "cell_type": "code",
   "execution_count": 5,
   "id": "7476ce98",
   "metadata": {
    "pycharm": {
     "is_executing": true
    }
   },
   "outputs": [],
   "source": [
    "chain = GraphSparqlQAChain.from_llm(\n",
    "    ChatOpenAI(temperature=0), graph=graph, verbose=True\n",
    ")"
   ]
  },
  {
   "cell_type": "code",
   "execution_count": 6,
   "id": "ef8ee27b",
   "metadata": {
    "pycharm": {
     "is_executing": true
    }
   },
   "outputs": [
    {
     "name": "stdout",
     "output_type": "stream",
     "text": [
      "\n",
      "\n",
      "\u001b[1m> Entering new GraphSparqlQAChain chain...\u001b[0m\n",
      "Identified intent:\n",
      "\u001b[32;1m\u001b[1;3mSELECT\u001b[0m\n",
      "Generated SPARQL:\n",
      "\u001b[32;1m\u001b[1;3mPREFIX foaf: <http://xmlns.com/foaf/0.1/>\n",
      "SELECT ?workHomepage\n",
      "WHERE {\n",
      "    ?person foaf:name \"Timothy Berners-Lee\" .\n",
      "    ?person foaf:workplaceHomepage ?workHomepage .\n",
      "}\u001b[0m\n",
      "Full Context:\n",
      "\u001b[32;1m\u001b[1;3m[(rdflib.term.URIRef('https://www.w3.org/'),)]\u001b[0m\n",
      "\n",
      "\u001b[1m> Finished chain.\u001b[0m\n"
     ]
    },
    {
     "data": {
      "text/plain": [
       "\"Timothy Berners-Lee's work homepage is https://www.w3.org/.\""
      ]
     },
     "execution_count": 6,
     "metadata": {},
     "output_type": "execute_result"
    }
   ],
   "source": [
    "chain.run(\"What is Timothy Berners-Lee's work homepage?\")"
   ]
  },
  {
   "cell_type": "markdown",
   "id": "af4b3294",
   "metadata": {},
   "source": [
    "## Updating the graph\n",
    "\n",
    "Analogously, you can update the graph, i.e., insert triples, using natural language."
   ]
  },
  {
   "cell_type": "code",
   "execution_count": 7,
   "id": "fdf38841",
   "metadata": {
    "pycharm": {
     "is_executing": true
    }
   },
   "outputs": [
    {
     "name": "stdout",
     "output_type": "stream",
     "text": [
      "\n",
      "\n",
      "\u001b[1m> Entering new GraphSparqlQAChain chain...\u001b[0m\n",
      "Identified intent:\n",
      "\u001b[32;1m\u001b[1;3mUPDATE\u001b[0m\n",
      "Generated SPARQL:\n",
      "\u001b[32;1m\u001b[1;3mPREFIX foaf: <http://xmlns.com/foaf/0.1/>\n",
      "INSERT {\n",
      "    ?person foaf:workplaceHomepage <http://www.w3.org/foo/bar/> .\n",
      "}\n",
      "WHERE {\n",
      "    ?person foaf:name \"Timothy Berners-Lee\" .\n",
      "}\u001b[0m\n",
      "\n",
      "\u001b[1m> Finished chain.\u001b[0m\n"
     ]
    },
    {
     "data": {
      "text/plain": [
       "'Successfully inserted triples into the graph.'"
      ]
     },
     "execution_count": 7,
     "metadata": {},
     "output_type": "execute_result"
    }
   ],
   "source": [
    "chain.run(\n",
    "    \"Save that the person with the name 'Timothy Berners-Lee' has a work homepage at 'http://www.w3.org/foo/bar/'\"\n",
    ")"
   ]
  },
  {
   "cell_type": "markdown",
   "id": "5e0f7fc1",
   "metadata": {},
   "source": [
    "Let's verify the results:"
   ]
  },
  {
   "cell_type": "code",
   "execution_count": 8,
   "id": "f874171b",
   "metadata": {},
   "outputs": [
    {
     "data": {
      "text/plain": [
       "[(rdflib.term.URIRef('https://www.w3.org/'),),\n",
       " (rdflib.term.URIRef('http://www.w3.org/foo/bar/'),)]"
      ]
     },
     "execution_count": 8,
     "metadata": {},
     "output_type": "execute_result"
    }
   ],
   "source": [
    "query = \"\"\"\\\n",
    "PREFIX foaf: <http://xmlns.com/foaf/0.1/>\n",
    "SELECT ?hp\n",
    "WHERE {\n",
    "    ?person foaf:name \"Timothy Berners-Lee\" . \n",
    "    ?person foaf:workplaceHomepage ?hp . \n",
    "}\n",
    "\"\"\"\n",
    "graph.query(query)"
   ]
  },
  {
   "cell_type": "markdown",
   "id": "379544f4",
   "metadata": {},
   "source": [
    "## Now for an OWL ontology\n",
    "Let's use data from a local file `graph_sparql_qa_local_input.ttl`.\n",
    "The TBox provides notions for describing an actor, including their age.\n",
    "The ABox includes a node for Tom Cruise and a triple stating his age to be 40.\n",
    "Note that this deviates from what a vanilla LLM would return based on its training data."
   ]
  },
  {
   "cell_type": "code",
   "execution_count": 9,
   "id": "fd7f197f",
   "metadata": {},
   "outputs": [],
   "source": [
    "graph = RdfGraph(\n",
    "    source_file=\"graph_sparql_qa_local_input.ttl\",\n",
    "    standard=\"owl\",\n",
    "    language=\"en\",\n",
    ")"
   ]
  },
  {
   "cell_type": "code",
   "execution_count": 10,
   "id": "5ff21155",
   "metadata": {},
   "outputs": [],
   "source": [
    "graph.load_schema()"
   ]
  },
  {
   "cell_type": "code",
   "execution_count": 11,
   "id": "01da94de",
   "metadata": {},
   "outputs": [
    {
     "data": {
      "text/plain": [
       "'In the following, each IRI is followed by the local name and optionally its label and its description in parentheses. \\nThe OWL graph supports the following node types:\\n<http://example.org/example/Actor> (Actor, actor, An actor or actress is a person who acts in a dramatic production and who works in film, television, theatre, or radio in that capacity.), <http://example.org/example/AdministrativeRegion> (AdministrativeRegion, administrative region, A PopulatedPlace under the jurisdiction of an administrative body. This body may administer either a whole region or one or more adjacent Settlements (town administration)), <http://example.org/example/Animal> (Animal, animal, Kingdom of multicellular eukaryotic organisms.), <http://example.org/example/Person> (Person, person, Being that has certain capacities or attributes constituting personhood.), <http://example.org/example/Place> (Place, place, A small area known by a geographical name.)\\nThe OWL graph supports the following object properties, i.e., relationships between objects:\\n<http://example.org/example/birthPlace> (birthPlace, birth place, where the person was born)\\nThe OWL graph supports the following data properties, i.e., relationships between objects and literals:\\n<http://example.org/example/dp1> (dp1, age, age), <http://example.org/example/name> (name, name, name)\\n'"
      ]
     },
     "execution_count": 11,
     "metadata": {},
     "output_type": "execute_result"
    }
   ],
   "source": [
    "graph.get_schema"
   ]
  },
  {
   "cell_type": "code",
   "execution_count": 12,
   "id": "72409930",
   "metadata": {},
   "outputs": [],
   "source": [
    "chain = GraphSparqlQAChain.from_llm(\n",
    "    ChatOpenAI(temperature=0), graph=graph, verbose=True\n",
    ")"
   ]
  },
  {
   "cell_type": "code",
   "execution_count": 13,
   "id": "63021a00",
   "metadata": {},
   "outputs": [
    {
     "name": "stdout",
     "output_type": "stream",
     "text": [
      "\n",
      "\n",
      "\u001b[1m> Entering new GraphSparqlQAChain chain...\u001b[0m\n",
      "Identified intent:\n",
      "\u001b[32;1m\u001b[1;3mSELECT\u001b[0m\n",
      "Generated SPARQL:\n",
      "\u001b[32;1m\u001b[1;3mPREFIX example: <http://example.org/example/>\n",
      "SELECT ?age\n",
      "WHERE {\n",
      "    ?person example:name \"Tom Cruise\" .\n",
      "    ?person example:dp1 ?age .\n",
      "}\u001b[0m\n",
      "Full Context:\n",
      "\u001b[32;1m\u001b[1;3m[(rdflib.term.Literal('40', datatype=rdflib.term.URIRef('http://www.w3.org/2001/XMLSchema#integer')),)]\u001b[0m\n",
      "\n",
      "\u001b[1m> Finished chain.\u001b[0m\n"
     ]
    },
    {
     "data": {
      "text/plain": [
       "'Tom Cruise is 40 years old.'"
      ]
     },
     "execution_count": 13,
     "metadata": {},
     "output_type": "execute_result"
    }
   ],
   "source": [
    "chain.run(\"How old is Tom Cruise?\")"
   ]
  },
  {
   "cell_type": "markdown",
   "id": "2e1a7f6d",
   "metadata": {},
   "source": [
    "## Customization\n",
    "\n",
    "The GraphSparqlQAChain relies on four prompts:\n",
    "* `SPARQL_INTENT_PROMPT`: Identify the intent of the query, i.e., whether it is a SELECT or an UPDATE query \n",
    "* `SPARQL_GENERATION_SELECT_PROMPT`: Generate a SPARQL SELECT query\n",
    "* `SPARQL_GENERATION_UPDATE_PROMPT`: Generate a SPARQL UPDATE query\n",
    "* `SPARQL_QA_PROMPT`: Generate a natural language answer from the query results\n",
    "\n",
    "The default prompts were designed using OpenAI models, especially gpt-3.5-turbo and newer, but they have also been shown to work well with other LLMs, such as StarCoder and GPT Neo. \\\n",
    "However, other models may work better using slightly adapted prompts.\n",
    "You can override the default prompts as follows."
   ]
  },
  {
   "cell_type": "markdown",
   "id": "b34c141e",
   "metadata": {},
   "source": [
    "For instance, this is the default `SPARQL_GENERATION_SELECT_TEMPLATE`:"
   ]
  },
  {
   "cell_type": "code",
   "execution_count": 14,
   "id": "eb597c51",
   "metadata": {},
   "outputs": [
    {
     "data": {
      "text/plain": [
       "'Task: Generate a SPARQL SELECT statement for querying a graph database.\\nFor instance, to find all email addresses of John Doe, the following query in backticks would be suitable:\\n```\\nPREFIX foaf: <http://xmlns.com/foaf/0.1/>\\nSELECT ?email\\nWHERE {{\\n    ?person foaf:name \"John Doe\" .\\n    ?person foaf:mbox ?email .\\n}}\\n```\\nInstructions:\\nUse only the node types and properties provided in the schema.\\nDo not use any node types and properties that are not explicitly provided.\\nInclude all necessary prefixes.\\nSchema:\\n{schema}\\nNote: Be as concise as possible.\\nDo not include any explanations or apologies in your responses.\\nDo not respond to any questions that ask for anything else than for you to construct a SPARQL query.\\nDo not include any text except the SPARQL query generated.\\n\\nThe question is:\\n{prompt}'"
      ]
     },
     "execution_count": 14,
     "metadata": {},
     "output_type": "execute_result"
    }
   ],
   "source": [
    "from langchain.chains.graph_qa.prompts import SPARQL_GENERATION_SELECT_TEMPLATE\n",
    "\n",
    "\n",
    "SPARQL_GENERATION_SELECT_TEMPLATE"
   ]
  },
  {
   "cell_type": "markdown",
   "id": "460cec28",
   "metadata": {},
   "source": [
    "It may be beneficial to adapt the SPARQL example to the ontology of interest.\n",
    "You can define a custom prompt template and pass it to the GraphSparqlQAChain upon initialization like so:"
   ]
  },
  {
   "cell_type": "code",
   "execution_count": 15,
   "id": "67de663b",
   "metadata": {},
   "outputs": [
    {
     "data": {
      "text/plain": [
       "PromptTemplate(input_variables=['prompt', 'schema'], template='Task: Generate a SPARQL SELECT statement for querying a graph database.\\nFor instance, to find all email addresses of John Doe, the following query in backticks would be suitable:\\n```\\nPREFIX foaf: <http://xmlns.com/foaf/0.1/>\\nSELECT ?email\\nWHERE {{\\n    ?person foaf:name \"John Doe\" .\\n    ?person foaf:mbox ?email .\\n}}\\n```\\nInstructions:\\nUse only the node types and properties provided in the schema.\\nDo not use any node types and properties that are not explicitly provided.\\nInclude all necessary prefixes.\\nSchema:\\n{schema}\\nNote: Be as concise as possible.\\nDo not include any explanations or apologies in your responses.\\nDo not respond to any questions that ask for anything else than for you to construct a SPARQL query.\\nDo not include any text except the SPARQL query generated.\\n\\nThe question is:\\n{prompt}')"
      ]
     },
     "execution_count": 15,
     "metadata": {},
     "output_type": "execute_result"
    }
   ],
   "source": [
    "from langchain.prompts.prompt import PromptTemplate\n",
    "\n",
    "\n",
    "CUSTOM_SPARQL_GENERATION_SELECT_TEMPLATE = \"\"\"Task: Generate a SPARQL SELECT statement for querying a graph database.\n",
    "For instance, to find all people who are at least 30 years old and have a friend called \"Sam Altman\", the following query in backticks would be suitable:\n",
    "```\n",
    "PREFIX custom: <http://example.org/custom/>\n",
    "SELECT ?person\n",
    "WHERE {{\n",
    "    ?person custom:age ?age .\n",
    "    ?person custom:friend ?friend .\n",
    "    ?friend custom:name \"Sam Altman\" .\n",
    "    FILTER (?age >= 30)\n",
    "}}\n",
    "```\n",
    "Instructions:\n",
    "Use only the node types and properties provided in the schema.\n",
    "Do not use any node types and properties that are not explicitly provided.\n",
    "Include all necessary prefixes.\n",
    "Schema:\n",
    "{schema}\n",
    "Note: Be as concise as possible.\n",
    "Do not include any explanations or apologies in your responses.\n",
    "Do not respond to any questions that ask for anything else than for you to construct a SPARQL query.\n",
    "Do not include any text except the SPARQL query generated.\n",
    "\n",
    "The question is:\n",
    "{prompt}\"\"\"\n",
    "CUSTOM_SPARQL_GENERATION_SELECT_PROMPT = PromptTemplate(\n",
    "    input_variables=[\"schema\", \"prompt\"], template=SPARQL_GENERATION_SELECT_TEMPLATE\n",
    ")\n",
    "\n",
    "CUSTOM_SPARQL_GENERATION_SELECT_PROMPT"
   ]
  },
  {
   "cell_type": "code",
   "execution_count": 16,
   "id": "e9364632",
   "metadata": {},
   "outputs": [],
   "source": [
    "custom_chain = GraphSparqlQAChain.from_llm(\n",
    "    ChatOpenAI(temperature=0),\n",
    "    graph=graph,\n",
    "    verbose=True,\n",
    "    sparql_select_prompt=CUSTOM_SPARQL_GENERATION_SELECT_PROMPT\n",
    ")"
   ]
  },
  {
   "cell_type": "code",
   "execution_count": null,
   "id": "55691a1c",
   "metadata": {},
   "outputs": [],
   "source": []
  }
 ],
 "metadata": {
  "kernelspec": {
   "display_name": "lcgh",
   "language": "python",
   "name": "lcgh"
  },
  "language_info": {
   "codemirror_mode": {
    "name": "ipython",
    "version": 3
   },
   "file_extension": ".py",
   "mimetype": "text/x-python",
   "name": "python",
   "nbconvert_exporter": "python",
   "pygments_lexer": "ipython3",
   "version": "3.11.6"
  }
 },
 "nbformat": 4,
 "nbformat_minor": 5
}
