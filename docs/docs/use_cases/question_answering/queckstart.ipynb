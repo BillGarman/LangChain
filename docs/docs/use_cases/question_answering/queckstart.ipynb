{
 "cells": [
  {
   "cell_type": "markdown",
   "id": "86fc5bb2-017f-434e-8cd6-53ab214a5604",
   "metadata": {},
   "source": [
    "# Quickstart"
   ]
  },
  {
   "cell_type": "markdown",
   "id": "5151afed",
   "metadata": {},
   "source": [
    "## Overview\n",
    "\n",
    "LangChain has a number of components designed to help build\n",
    "question-answering applications, and RAG applications more generally. To\n",
    "familiarize ourselves with these, we’ll build a simple Q&A application\n",
    "over a text data source. Along the way we’ll go over a typical Q&A\n",
    "architecture, discuss the relevant LangChain components, and highlight\n",
    "additional resources for more advanced Q&A techniques. We’ll also see\n",
    "how LangSmith can help us trace and understand our application.\n",
    "LangSmith will become increasingly helpful as our application grows in\n",
    "complexity."
   ]
  },
  {
   "cell_type": "markdown",
   "source": [
    "## Architecture\n",
    "\n",
    "We’ll create a typical RAG application as outlined in the [Q&A\n",
    "introduction](../../../docs/use_cases/question_answering/), which has\n",
    "two main components:\n",
    "\n",
    "**Indexing**: a pipeline for ingesting data from a source and indexing\n",
    "it. *This usually happens offline.*\n",
    "\n",
    "**Retrieval and generation**: the actual RAG chain, which takes the user\n",
    "query at run time and retrieves the relevant data from the index, then\n",
    "passes that to the model.\n",
    "\n",
    "The full sequence from raw data to answer will look like:"
   ],
   "metadata": {
    "collapsed": false
   },
   "id": "24dc8d29fe922471"
  },
  {
   "cell_type": "markdown",
   "source": [
    "#### Indexing\n",
    "\n",
    "1.  **Load**: First we need to load our data. We’ll use\n",
    "    [DocumentLoaders](../../../docs/modules/data_connection/document_loaders/)\n",
    "    for this.\n",
    "2.  **Split**: [Text\n",
    "    splitters](../../../docs/modules/data_connection/document_transformers/)\n",
    "    break large `Documents` into smaller chunks. This is useful both for\n",
    "    indexing data and for passing it in to a model, since large chunks\n",
    "    are harder to search over and won’t fit in a model’s finite context\n",
    "    window.\n",
    "3.  **Store**: We need somewhere to store and index our splits, so that\n",
    "    they can later be searched over. This is often done using a\n",
    "    [VectorStore](../../../docs/modules/data_connection/vectorstores/)\n",
    "    and\n",
    "    [Embeddings](../../../docs/modules/data_connection/text_embedding/)\n",
    "    model."
   ],
   "metadata": {
    "collapsed": false
   },
   "id": "d3e337ca7d575032"
  },
  {
   "cell_type": "markdown",
   "source": [
    "#### Retrieval and generation\n",
    "\n",
    "1.  **Retrieve**: Given a user input, relevant splits are retrieved from\n",
    "    storage using a\n",
    "    [Retriever](../../../docs/modules/data_connection/retrievers/).\n",
    "2.  **Generate**: A [ChatModel](../../../docs/modules/model_io/chat/) /\n",
    "    [LLM](../../../docs/modules/model_io/llms/) produces an answer using\n",
    "    a prompt that includes the question and the retrieved data"
   ],
   "metadata": {
    "collapsed": false
   },
   "id": "32ebbf6ce3fd77f4"
  },
  {
   "cell_type": "markdown",
   "source": [
    "## Setup"
   ],
   "metadata": {
    "collapsed": false
   },
   "id": "31f67060e3bfb33d"
  },
  {
   "cell_type": "markdown",
   "source": [
    "### Dependencies\n",
    "\n",
    "We’ll use an OpenAI chat model and embeddings and a Chroma vector store\n",
    "in this walkthrough, but everything shown here works with any\n",
    "[ChatModel](../../../docs/modules/model_io/chat/) or\n",
    "[LLM](../../../docs/modules/model_io/llms/),\n",
    "[Embeddings](../../../docs/modules/data_connection/text_embedding/), and\n",
    "[VectorStore](../../../docs/modules/data_connection/vectorstores/) or\n",
    "[Retriever](../../../docs/modules/data_connection/retrievers/).\n",
    "\n",
    "We’ll use the following packages:"
   ],
   "metadata": {
    "collapsed": false
   },
   "id": "ab2e6209b89db67b"
  },
  {
   "cell_type": "code",
   "execution_count": null,
   "outputs": [],
   "source": [
    "%pip install --upgrade --quiet  langchain langchain-community langchainhub langchain-openai chromadb bs4"
   ],
   "metadata": {
    "collapsed": false
   },
   "id": "6dcfe0d2e883a9b8"
  },
  {
   "cell_type": "markdown",
   "source": [
    "We need to set environment variable `OPENAI_API_KEY`, which can be done\n",
    "directly or loaded from a `.env` file like so:"
   ],
   "metadata": {
    "collapsed": false
   },
   "id": "4466758aae7eb720"
  },
  {
   "cell_type": "code",
   "execution_count": null,
   "outputs": [],
   "source": [
    "import getpass\n",
    "import os\n",
    "\n",
    "os.environ[\"OPENAI_API_KEY\"] = getpass.getpass()\n",
    "\n",
    "# import dotenv\n",
    "\n",
    "# dotenv.load_dotenv()"
   ],
   "metadata": {
    "collapsed": false
   },
   "id": "b46c462277adb553"
  },
  {
   "cell_type": "markdown",
   "source": [
    "### LangSmith\n",
    "\n",
    "Many of the applications you build with LangChain will contain multiple\n",
    "steps with multiple invocations of LLM calls. As these applications get\n",
    "more and more complex, it becomes crucial to be able to inspect what\n",
    "exactly is going on inside your chain or agent. The best way to do this\n",
    "is with [LangSmith](https://smith.langchain.com).\n",
    "\n",
    "Note that LangSmith is not needed, but it is helpful. If you do want to\n",
    "use LangSmith, after you sign up at the link above, makesure to set\n",
    "your environment variables to start logging traces:"
   ],
   "metadata": {
    "collapsed": false
   },
   "id": "ff06b7006b31dc40"
  },
  {
   "cell_type": "code",
   "execution_count": null,
   "outputs": [],
   "source": [
    "os.environ[\"LANGCHAIN_TRACING_V2\"] = \"true\"\n",
    "os.environ[\"LANGCHAIN_API_KEY\"] = getpass.getpass()"
   ],
   "metadata": {
    "collapsed": false
   },
   "id": "3b4e7239126286ea"
  },
  {
   "cell_type": "markdown",
   "source": [
    "## Preview\n",
    "\n",
    "In this guide we’ll build a QA app over the [LLM Powered Autonomous\n",
    "Agents](https://lilianweng.github.io/posts/2023-06-23-agent/) blog post\n",
    "by Lilian Weng, which allows us to ask questions about the contents of\n",
    "the post.\n",
    "\n",
    "We can create a simple indexing pipeline and RAG chain to do this in ~20\n",
    "lines of code:"
   ],
   "metadata": {
    "collapsed": false
   },
   "id": "1fbcc109f9758c33"
  },
  {
   "cell_type": "code",
   "execution_count": null,
   "outputs": [],
   "source": [
    "import bs4\n",
    "from langchain import hub\n",
    "from langchain_community.document_loaders import WebBaseLoader\n",
    "from langchain_community.vectorstores import Chroma\n",
    "from langchain_core.output_parsers import StrOutputParser\n",
    "from langchain_core.runnables import RunnablePassthrough\n",
    "from langchain_openai import ChatOpenAI, OpenAIEmbeddings\n",
    "from langchain_text_splitters import RecursiveCharacterTextSplitter"
   ],
   "metadata": {
    "collapsed": false
   },
   "id": "9836e34ad46197a9"
  },
  {
   "cell_type": "code",
   "execution_count": null,
   "outputs": [],
   "source": [
    "# Load, chunk and index the contents of the blog.\n",
    "loader = WebBaseLoader(\n",
    "    web_paths=(\"https://lilianweng.github.io/posts/2023-06-23-agent/\",),\n",
    "    bs_kwargs=dict(\n",
    "        parse_only=bs4.SoupStrainer(\n",
    "            class_=(\"post-content\", \"post-title\", \"post-header\")\n",
    "        )\n",
    "    ),\n",
    ")\n",
    "docs = loader.load()\n",
    "\n",
    "text_splitter = RecursiveCharacterTextSplitter(chunk_size=1000, chunk_overlap=200)\n",
    "splits = text_splitter.split_documents(docs)\n",
    "vectorstore = Chroma.from_documents(documents=splits, embedding=OpenAIEmbeddings())\n",
    "\n",
    "# Retrieve and generate using the relevant snippets of the blog.\n",
    "retriever = vectorstore.as_retriever()\n",
    "prompt = hub.pull(\"rlm/rag-prompt\")\n",
    "llm = ChatOpenAI(model_name=\"gpt-3.5-turbo\", temperature=0)\n",
    "\n",
    "\n",
    "def format_docs(docs):\n",
    "    return \"\\n\\n\".join(doc.page_content for doc in docs)\n",
    "\n",
    "\n",
    "rag_chain = (\n",
    "    {\"context\": retriever | format_docs, \"question\": RunnablePassthrough()}\n",
    "    | prompt\n",
    "    | llm\n",
    "    | StrOutputParser()\n",
    ")"
   ],
   "metadata": {
    "collapsed": false
   },
   "id": "fca89c9fa9ad8a53"
  },
  {
   "cell_type": "code",
   "execution_count": null,
   "outputs": [],
   "source": [
    "rag_chain.invoke(\"What is Task Decomposition?\")"
   ],
   "metadata": {
    "collapsed": false
   },
   "id": "3e92e268b8b2f128"
  },
  {
   "cell_type": "code",
   "execution_count": null,
   "outputs": [],
   "source": [
    "# cleanup\n",
    "vectorstore.delete_collection()"
   ],
   "metadata": {
    "collapsed": false
   },
   "id": "f912c2f24e74b5b2"
  },
  {
   "cell_type": "markdown",
   "source": [
    "Check out the [LangSmith\n",
    "trace](https://smith.langchain.com/public/1c6ca97e-445b-4d00-84b4-c7befcbc59fe/r)"
   ],
   "metadata": {
    "collapsed": false
   },
   "id": "9dce334c23c28334"
  },
  {
   "cell_type": "markdown",
   "source": [
    "## Detailed walkthrough\n",
    "\n",
    "Let’s go through the above code step-by-step to really understand what’s\n",
    "going on.\n",
    "\n",
    "## 1. Indexing: Load {#indexing-load}\n",
    "\n",
    "We need to first load the blog post contents. We can use\n",
    "[DocumentLoaders](../../../docs/modules/data_connection/document_loaders/)\n",
    "for this, which are objects that load in data from a source and return a\n",
    "list of\n",
    "[Documents](https://api.python.langchain.com/en/latest/documents/langchain_core.documents.base.Document.html).\n",
    "A `Document` is an object with some `page_content` (str) and `metadata`\n",
    "(dict).\n",
    "\n",
    "In this case we’ll use the\n",
    "[WebBaseLoader](../../../docs/integrations/document_loaders/web_base),\n",
    "which uses `urllib` to load HTML from web URLs and `BeautifulSoup` to\n",
    "parse it to text. We can customize the HTML -\\> text parsing by passing\n",
    "in parameters to the `BeautifulSoup` parser via `bs_kwargs` (see\n",
    "[BeautifulSoup\n",
    "docs](https://beautiful-soup-4.readthedocs.io/en/latest/#beautifulsoup)).\n",
    "In this case only HTML tags with class “post-content”, “post-title”, or\n",
    "“post-header” are relevant, so we’ll remove all others."
   ],
   "metadata": {
    "collapsed": false
   },
   "id": "4c7ea9ab4e4b9cb7"
  },
  {
   "cell_type": "code",
   "execution_count": null,
   "outputs": [],
   "source": [
    "import bs4\n",
    "from langchain_community.document_loaders import WebBaseLoader\n",
    "\n",
    "# Only keep post title, headers, and content from the full HTML.\n",
    "bs4_strainer = bs4.SoupStrainer(class_=(\"post-title\", \"post-header\", \"post-content\"))\n",
    "loader = WebBaseLoader(\n",
    "    web_paths=(\"https://lilianweng.github.io/posts/2023-06-23-agent/\",),\n",
    "    bs_kwargs={\"parse_only\": bs4_strainer},\n",
    ")\n",
    "docs = loader.load()"
   ],
   "metadata": {
    "collapsed": false
   },
   "id": "6a4551c962475f9e"
  },
  {
   "cell_type": "code",
   "execution_count": null,
   "outputs": [],
   "source": [
    "len(docs[0].page_content)"
   ],
   "metadata": {
    "collapsed": false
   },
   "id": "e0a96d4e2423e27b"
  },
  {
   "cell_type": "code",
   "execution_count": null,
   "outputs": [],
   "source": [
    "print(docs[0].page_content[:500])"
   ],
   "metadata": {
    "collapsed": false
   },
   "id": "f061f68829bf8360"
  },
  {
   "cell_type": "markdown",
   "source": [
    "### Go deeper\n",
    "\n",
    "`DocumentLoader`: Object that loads data from a source as list of\n",
    "`Documents`. \n",
    "- [Docs](../../../docs/modules/data_connection/document_loaders/):\n",
    "Detailed documentation on how to use `DocumentLoaders`. \n",
    "- [Integrations](../../../docs/integrations/document_loaders/): 160+\n",
    "integrations to choose from. \n",
    "- [Interface](https://api.python.langchain.com/en/latest/document_loaders/langchain_core.document_loaders.base.BaseLoader.html):\n",
    "API reference  for the base interface.\n",
    "\n",
    "## 2. Indexing: Split {#indexing-split}\n",
    "\n",
    "Our loaded document is over 42k characters long. This is too long to fit\n",
    "in the context window of many models. Even for those models that could\n",
    "fit the full post in their context window, models can struggle to find\n",
    "information in very long inputs.\n",
    "\n",
    "To handle this we’ll split the `Document` into chunks for embedding and\n",
    "vector storage. This should help us retrieve only the most relevant bits\n",
    "of the blog post at run time.\n",
    "\n",
    "In this case we’ll split our documents into chunks of 1000 characters\n",
    "with 200 characters of overlap between chunks. The overlap helps\n",
    "mitigate the possibility of separating a statement from important\n",
    "context related to it. We use the\n",
    "[RecursiveCharacterTextSplitter](../../../docs/modules/data_connection/document_transformers/recursive_text_splitter),\n",
    "which will recursively split the document using common separators like\n",
    "new lines until each chunk is the appropriate size. This is the\n",
    "recommended text splitter for generic text use cases.\n",
    "\n",
    "We set `add_start_index=True` so that the character index at which each\n",
    "split Document starts within the initial Document is preserved as\n",
    "metadata attribute “start_index”."
   ],
   "metadata": {
    "collapsed": false
   },
   "id": "1035c5ac21bfb491"
  },
  {
   "cell_type": "code",
   "execution_count": null,
   "outputs": [],
   "source": [
    "from langchain_text_splitters import RecursiveCharacterTextSplitter\n",
    "\n",
    "text_splitter = RecursiveCharacterTextSplitter(\n",
    "    chunk_size=1000, chunk_overlap=200, add_start_index=True\n",
    ")\n",
    "all_splits = text_splitter.split_documents(docs)"
   ],
   "metadata": {
    "collapsed": false
   },
   "id": "23207c7f201bcb41"
  },
  {
   "cell_type": "code",
   "execution_count": null,
   "outputs": [],
   "source": [
    "len(all_splits)"
   ],
   "metadata": {
    "collapsed": false
   },
   "id": "953ff8f281793627"
  },
  {
   "cell_type": "code",
   "execution_count": null,
   "outputs": [],
   "source": [
    "len(all_splits[0].page_content)"
   ],
   "metadata": {
    "collapsed": false
   },
   "id": "b688d0e90505e407"
  },
  {
   "cell_type": "code",
   "execution_count": null,
   "outputs": [],
   "source": [
    "all_splits[10].metadata"
   ],
   "metadata": {
    "collapsed": false
   },
   "id": "c00280c7852cdc07"
  },
  {
   "cell_type": "markdown",
   "source": [
    "### Go deeper\n",
    "\n",
    "`TextSplitter`: Object that splits a list of `Document`s into smaller\n",
    "chunks. Subclass of `DocumentTransformer`s. \n",
    "- Explore `Context-aware splitters`, which keep the location (“context”) of each\n",
    "split in the original `Document`: - [Markdown\n",
    "files](../../../docs/modules/data_connection/document_transformers/markdown_header_metadata) \n",
    "- [Code (py or js)](../../../docs/integrations/document_loaders/source_code) \n",
    "- [Scientific papers](../../../docs/integrations/document_loaders/grobid) \n",
    "- [Interface](https://api.python.langchain.com/en/latest/base/langchain_text_splitters.base.TextSplitter.html): API reference for the base interface.\n",
    "\n",
    "`DocumentTransformer`: Object that performs a transformation on a list\n",
    "of `Document`s. \n",
    "- [Docs](../../../docs/modules/data_connection/document_transformers/): Detailed documentation on how to use `DocumentTransformers` \n",
    "- [Integrations](../../../docs/integrations/document_transformers/) \n",
    "- [Interface](https://api.python.langchain.com/en/latest/documents/langchain_core.documents.transformers.BaseDocumentTransformer.html): API reference for the base interface.\n",
    "\n",
    "## 3. Indexing: Store {#indexing-store}\n",
    "\n",
    "Now we need to index our 66 text chunks so that we can search over them\n",
    "at runtime. The most common way to do this is to embed the contents of\n",
    "each document split and insert these embeddings into a vector database\n",
    "(or vector store). When we want to search over our splits, we take a\n",
    "text search query, embed it, and perform some sort of “similarity”\n",
    "search to identify the stored splits with the most similar embeddings to\n",
    "our query embedding. The simplest similarity measure is cosine\n",
    "similarity — we measure the cosine of the angle between each pair of\n",
    "embeddings (which are high dimensional vectors).\n",
    "\n",
    "We can embed and store all of our document splits in a single command\n",
    "using the [Chroma](../../../docs/integrations/vectorstores/chroma)\n",
    "vector store and\n",
    "[OpenAIEmbeddings](../../../docs/integrations/text_embedding/openai)\n",
    "model."
   ],
   "metadata": {
    "collapsed": false
   },
   "id": "d27037c52d8d1289"
  },
  {
   "cell_type": "code",
   "execution_count": null,
   "outputs": [],
   "source": [
    "from langchain_community.vectorstores import Chroma\n",
    "from langchain_openai import OpenAIEmbeddings\n",
    "\n",
    "vectorstore = Chroma.from_documents(documents=all_splits, embedding=OpenAIEmbeddings())"
   ],
   "metadata": {
    "collapsed": false
   },
   "id": "a2b6fc21f7c58540"
  },
  {
   "cell_type": "markdown",
   "source": [
    "### Go deeper\n",
    "\n",
    "`Embeddings`: Wrapper around a text embedding model, used for converting\n",
    "text to embeddings. \n",
    "- [Docs](../../../docs/modules/data_connection/text_embedding): Detailed documentation on how to use embeddings. \n",
    "- [Integrations](../../../docs/integrations/text_embedding/): 30+ integrations to choose from. \n",
    "- [Interface](https://api.python.langchain.com/en/latest/embeddings/langchain_core.embeddings.Embeddings.html): API reference for the base interface.\n",
    "\n",
    "`VectorStore`: Wrapper around a vector database, used for storing and\n",
    "querying embeddings. \n",
    "- [Docs](../../../docs/modules/data_connection/vectorstores/): Detailed documentation on how to use vector stores. \n",
    "- [Integrations](../../../docs/integrations/vectorstores/): 40+ integrations to choose from. \n",
    "- [Interface](https://api.python.langchain.com/en/latest/vectorstores/langchain_core.vectorstores.VectorStore.html): API reference for the base interface.\n",
    "\n",
    "This completes the **Indexing** portion of the pipeline. At this point\n",
    "we have a query-able vector store containing the chunked contents of our\n",
    "blog post. Given a user question, we should ideally be able to return\n",
    "the snippets of the blog post that answer the question.\n",
    "\n",
    "## 4. Retrieval and Generation: Retrieve {#retrieval-and-generation-retrieve}\n",
    "\n",
    "Now let’s write the actual application logic. We want to create a simple\n",
    "application that takes a user question, searches for documents relevant\n",
    "to that question, passes the retrieved documents and initial question to\n",
    "a model, and returns an answer.\n",
    "\n",
    "First we need to define our logic for searching over documents.\n",
    "LangChain defines a\n",
    "[Retriever](../../../docs/modules/data_connection/retrievers/) interface\n",
    "which wraps an index that can return relevant `Documents` given a string\n",
    "query.\n",
    "\n",
    "The most common type of `Retriever` is the\n",
    "[VectorStoreRetriever](../../../docs/modules/data_connection/retrievers/vectorstore),\n",
    "which uses the similarity search capabilities of a vector store to\n",
    "facilitate retrieval. Any `VectorStore` can easily be turned into a\n",
    "`Retriever` with `VectorStore.as_retriever()`:"
   ],
   "metadata": {
    "collapsed": false
   },
   "id": "6b2c0e416a6a5515"
  },
  {
   "cell_type": "code",
   "execution_count": null,
   "outputs": [],
   "source": [
    "retriever = vectorstore.as_retriever(search_type=\"similarity\", search_kwargs={\"k\": 6})"
   ],
   "metadata": {
    "collapsed": false
   },
   "id": "9846e31d2eca4b20"
  },
  {
   "cell_type": "code",
   "execution_count": null,
   "outputs": [],
   "source": [
    "retrieved_docs = retriever.invoke(\"What are the approaches to Task Decomposition?\")"
   ],
   "metadata": {
    "collapsed": false
   },
   "id": "bf5cf6e2ffd79ac2"
  },
  {
   "cell_type": "code",
   "execution_count": null,
   "outputs": [],
   "source": [
    "len(retrieved_docs)"
   ],
   "metadata": {
    "collapsed": false
   },
   "id": "19c62ce4b94126c7"
  },
  {
   "cell_type": "code",
   "execution_count": null,
   "outputs": [],
   "source": [
    "print(retrieved_docs[0].page_content)"
   ],
   "metadata": {
    "collapsed": false
   },
   "id": "92f861ad11b97cf"
  },
  {
   "cell_type": "markdown",
   "source": [
    "### Go deeper\n",
    "\n",
    "Vector stores are commonly used for retrieval, but there are other ways\n",
    "to do retrieval, too.\n",
    "\n",
    "`Retriever`: An object that returns `Document`s given a text query\n",
    "\n",
    "-   [Docs](../../../docs/modules/data_connection/retrievers/): Further\n",
    "    documentation on the interface and built-in retrieval techniques.\n",
    "    Some of which include:\n",
    "    -   `MultiQueryRetriever` [generates variants of the input\n",
    "        question](../../../docs/modules/data_connection/retrievers/MultiQueryRetriever)\n",
    "        to improve retrieval hit rate.\n",
    "    -   `MultiVectorRetriever` (diagram below) instead generates\n",
    "        [variants of the\n",
    "        embeddings](../../../docs/modules/data_connection/retrievers/multi_vector),\n",
    "        also in order to improve retrieval hit rate.\n",
    "    -   `Max marginal relevance` selects for [relevance and\n",
    "        diversity](https://www.cs.cmu.edu/~jgc/publication/The_Use_MMR_Diversity_Based_LTMIR_1998.pdf)\n",
    "        among the retrieved documents to avoid passing in duplicate\n",
    "        context.\n",
    "    -   Documents can be filtered during vector store retrieval using\n",
    "        metadata filters, such as with a [Self Query\n",
    "        Retriever](../../../docs/modules/data_connection/retrievers/self_query).\n",
    "-   [Integrations](../../../docs/integrations/retrievers/): Integrations\n",
    "    with retrieval services.\n",
    "-   [Interface](https://api.python.langchain.com/en/latest/retrievers/langchain_core.retrievers.BaseRetriever.html):\n",
    "    API reference for the base interface."
   ],
   "metadata": {
    "collapsed": false
   },
   "id": "a65ffc12d0a0dcc3"
  },
  {
   "cell_type": "markdown",
   "source": [
    "## 5. Retrieval and Generation: Generate {#retrieval-and-generation-generate}\n",
    "\n",
    "Let’s put it all together into a chain that takes a question, retrieves\n",
    "relevant documents, constructs a prompt, passes that to a model, and\n",
    "parses the output.\n",
    "\n",
    "We’ll use the gpt-3.5-turbo OpenAI chat model, but any LangChain `LLM`\n",
    "or `ChatModel` could be substituted in."
   ],
   "metadata": {
    "collapsed": false
   },
   "id": "c680083f9badf585"
  },
  {
   "cell_type": "markdown",
   "source": [
    "import Tabs from '@theme/Tabs';\n",
    "import TabItem from '@theme/TabItem';\n",
    "\n",
    "<Tabs>\n",
    "<TabItem value=\"openai\" label=\"OpenAI\" default>\n",
    "\n",
    "```python\n",
    "from langchain_openai import ChatOpenAI\n",
    "\n",
    "llm = ChatOpenAI(model_name=\"gpt-3.5-turbo-0125\", temperature=0)\n",
    "```\n",
    "\n",
    "</TabItem>\n",
    "<TabItem value=\"local\" label=\"Anthropic\">\n",
    "\n",
    "```python\n",
    "%pip install -qU langchain-anthropic\n",
    "```\n",
    "\n",
    "\n",
    "```python\n",
    "from langchain_anthropic import ChatAnthropic\n",
    "\n",
    "llm = ChatAnthropic(model=\"claude-3-sonnet-20240229\", temperature=0.2, max_tokens=1024)\n",
    "```\n",
    "\n",
    "</TabItem>\n",
    "</Tabs>"
   ],
   "metadata": {
    "collapsed": false
   },
   "id": "10b3dfc7a02b3a62"
  },
  {
   "cell_type": "markdown",
   "source": [
    "We’ll use a prompt for RAG that is checked into the LangChain prompt hub\n",
    "([here](https://smith.langchain.com/hub/rlm/rag-prompt))."
   ],
   "metadata": {
    "collapsed": false
   },
   "id": "80adfdf32a2a0aa3"
  },
  {
   "cell_type": "code",
   "execution_count": null,
   "outputs": [],
   "source": [
    "from langchain import hub\n",
    "\n",
    "prompt = hub.pull(\"rlm/rag-prompt\")"
   ],
   "metadata": {
    "collapsed": false
   },
   "id": "dd2338b10e15953b"
  },
  {
   "cell_type": "code",
   "execution_count": null,
   "outputs": [],
   "source": [
    "example_messages = prompt.invoke(\n",
    "    {\"context\": \"filler context\", \"question\": \"filler question\"}\n",
    ").to_messages()\n",
    "example_messages"
   ],
   "metadata": {
    "collapsed": false
   },
   "id": "fe1510a170647680"
  },
  {
   "cell_type": "code",
   "execution_count": null,
   "outputs": [],
   "source": [
    "print(example_messages[0].content)"
   ],
   "metadata": {
    "collapsed": false
   },
   "id": "f59f4e9fa458272e"
  },
  {
   "cell_type": "markdown",
   "source": [
    "We’ll use the [LCEL Runnable](../../../docs/expression_language/)\n",
    "protocol to define the chain, allowing us to - pipe together components\n",
    "and functions in a transparent way - automatically trace our chain in\n",
    "LangSmith - get streaming, async, and batched calling out of the box"
   ],
   "metadata": {
    "collapsed": false
   },
   "id": "68bab94cd8e98f71"
  },
  {
   "cell_type": "code",
   "execution_count": null,
   "outputs": [],
   "source": [
    "from langchain_core.output_parsers import StrOutputParser\n",
    "from langchain_core.runnables import RunnablePassthrough\n",
    "\n",
    "\n",
    "def format_docs(docs):\n",
    "    return \"\\n\\n\".join(doc.page_content for doc in docs)\n",
    "\n",
    "\n",
    "rag_chain = (\n",
    "    {\"context\": retriever | format_docs, \"question\": RunnablePassthrough()}\n",
    "    | prompt\n",
    "    | llm\n",
    "    | StrOutputParser()\n",
    ")"
   ],
   "metadata": {
    "collapsed": false
   },
   "id": "bcb3a69a0abdbe90"
  },
  {
   "cell_type": "code",
   "execution_count": null,
   "outputs": [],
   "source": [
    "for chunk in rag_chain.stream(\"What is Task Decomposition?\"):\n",
    "    print(chunk, end=\"\", flush=True)"
   ],
   "metadata": {
    "collapsed": false
   },
   "id": "790e0af478152eb6"
  },
  {
   "cell_type": "markdown",
   "source": [
    "Check out the [LangSmith\n",
    "trace](https://smith.langchain.com/public/1799e8db-8a6d-4eb2-84d5-46e8d7d5a99b/r)"
   ],
   "metadata": {
    "collapsed": false
   },
   "id": "4bbff4b4e016dac4"
  },
  {
   "cell_type": "markdown",
   "source": [
    "### Go deeper\n",
    "\n",
    "#### Choosing a model\n",
    "\n",
    "`ChatModel`: An LLM-backed chat model. Takes in a sequence of messages\n",
    "and returns a message. \n",
    "- [Docs](../../../docs/modules/model_io/chat/)\n",
    "- [Integrations](../../../docs/integrations/chat/): 25+ integrations to choose from. \n",
    "- [Interface](https://api.python.langchain.com/en/latest/language_models/langchain_core.language_models.chat_models.BaseChatModel.html): API reference for the base interface.\n",
    "\n",
    "`LLM`: A text-in-text-out LLM. Takes in a string and returns a string. \n",
    "- [Docs](../../../docs/modules/model_io/llms) \n",
    "- [Integrations](../../../docs/integrations/llms): 75+ integrations to choose from. \n",
    "- [Interface](https://api.python.langchain.com/en/latest/language_models/langchain_core.language_models.llms.BaseLLM.html): API reference for the base interface.\n",
    "\n",
    "See a guide on RAG with locally-running models\n",
    "[here](../../../docs/use_cases/question_answering/local_retrieval_qa).\n",
    "\n",
    "#### Customizing the prompt\n",
    "\n",
    "As shown above, we can load prompts (e.g., [this RAG\n",
    "prompt](https://smith.langchain.com/hub/rlm/rag-prompt)) from the prompt\n",
    "hub. The prompt can also be easily customized:\n"
   ],
   "metadata": {
    "collapsed": false
   },
   "id": "4777ab58235ba6c0"
  },
  {
   "cell_type": "code",
   "execution_count": null,
   "outputs": [],
   "source": [
    "from langchain_core.prompts import PromptTemplate\n",
    "\n",
    "template = \"\"\"Use the following pieces of context to answer the question at the end.\n",
    "If you don't know the answer, just say that you don't know, don't try to make up an answer.\n",
    "Use three sentences maximum and keep the answer as concise as possible.\n",
    "Always say \"thanks for asking!\" at the end of the answer.\n",
    "\n",
    "{context}\n",
    "\n",
    "Question: {question}\n",
    "\n",
    "Helpful Answer:\"\"\"\n",
    "custom_rag_prompt = PromptTemplate.from_template(template)\n",
    "\n",
    "rag_chain = (\n",
    "    {\"context\": retriever | format_docs, \"question\": RunnablePassthrough()}\n",
    "    | custom_rag_prompt\n",
    "    | llm\n",
    "    | StrOutputParser()\n",
    ")\n",
    "\n",
    "rag_chain.invoke(\"What is Task Decomposition?\")"
   ],
   "metadata": {
    "collapsed": false
   },
   "id": "c4ad6e1fde6a43ad"
  },
  {
   "cell_type": "markdown",
   "source": [
    "Check out the [LangSmith\n",
    "trace](https://smith.langchain.com/public/da23c4d8-3b33-47fd-84df-a3a582eedf84/r)"
   ],
   "metadata": {
    "collapsed": false
   },
   "id": "3076ba4ce71bffe"
  },
  {
   "cell_type": "markdown",
   "source": [
    "## Next steps\n",
    "\n",
    "That’s a lot of content we’ve covered in a short amount of time. There’s\n",
    "plenty of features, integrations, and extensions to explore in each of\n",
    "the above sections. Along from the **Go deeper** sources mentioned\n",
    "above, good next steps include:\n",
    "\n",
    "-   [Return\n",
    "    sources](../../../docs/use_cases/question_answering/sources): Learn\n",
    "    how to return source documents\n",
    "-   [Streaming](../../../docs/use_cases/question_answering/streaming):\n",
    "    Learn how to stream outputs and intermediate steps\n",
    "-   [Add chat\n",
    "    history](../../../docs/use_cases/question_answering/chat_history):\n",
    "    Learn how to add chat history to your app"
   ],
   "metadata": {
    "collapsed": false
   },
   "id": "bda62390c9966027"
  }
 ],
 "metadata": {
  "kernelspec": {
   "display_name": "Python 3 (ipykernel)",
   "language": "python",
   "name": "python3"
  },
  "language_info": {
   "codemirror_mode": {
    "name": "ipython",
    "version": 3
   },
   "file_extension": ".py",
   "mimetype": "text/x-python",
   "name": "python",
   "nbconvert_exporter": "python",
   "pygments_lexer": "ipython3",
   "version": "3.9.1"
  }
 },
 "nbformat": 4,
 "nbformat_minor": 5
}
