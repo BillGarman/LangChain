{
 "cells": [
  {
   "cell_type": "raw",
   "id": "b2788654-3f62-4e2a-ab00-471922cc54df",
   "metadata": {},
   "source": [
    "---\n",
    "sidebar_position: 4\n",
    "---"
   ]
  },
  {
   "cell_type": "markdown",
   "id": "6751831d-9b08-434f-829b-d0052a3b119f",
   "metadata": {},
   "source": [
    "# Many tables, wide tables, high-cardinality features, ...\n",
    "\n",
    "In order to write valid queries against a database, we need to feed the model the tables, table schemas, and feature values for it to query over. When there are many tables, table columns, and/or high-cardinality columns, it becomes impossible for us to dump the full information about our database in every prompt. Instead, we must find ways to dynamically insert into the prompt only the most relevant information. Let's take a look at some techniques for doing this.\n",
    "\n",
    "## Dealing with many tables"
   ]
  },
  {
   "cell_type": "markdown",
   "id": "92e04db9-355a-4d94-828a-53afbf0918ee",
   "metadata": {},
   "source": [
    "## Dealing with many columns"
   ]
  },
  {
   "cell_type": "markdown",
   "id": "cb9e54fd-64ca-4ed5-847c-afc635aae4f5",
   "metadata": {},
   "source": [
    "## Dealing with high-cardinality columns"
   ]
  }
 ],
 "metadata": {
  "kernelspec": {
   "display_name": "Python 3 (ipykernel)",
   "language": "python",
   "name": "python3"
  },
  "language_info": {
   "codemirror_mode": {
    "name": "ipython",
    "version": 3
   },
   "file_extension": ".py",
   "mimetype": "text/x-python",
   "name": "python",
   "nbconvert_exporter": "python",
   "pygments_lexer": "ipython3",
   "version": "3.9.1"
  }
 },
 "nbformat": 4,
 "nbformat_minor": 5
}
