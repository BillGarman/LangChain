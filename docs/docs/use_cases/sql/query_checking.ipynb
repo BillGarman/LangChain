{
 "cells": [
  {
   "cell_type": "raw",
   "id": "494149c1-9a1a-4b75-8982-6bb19cc5e14e",
   "metadata": {},
   "source": [
    "---\n",
    "sidebar_position: 3\n",
    "---"
   ]
  },
  {
   "cell_type": "markdown",
   "id": "4da7ae91-4973-4e97-a570-fa24024ec65d",
   "metadata": {},
   "source": [
    "# Validating queries and handling errors\n",
    "\n"
   ]
  },
  {
   "cell_type": "code",
   "execution_count": 1,
   "id": "16686750-d8ee-4c60-8d67-b28281cb6164",
   "metadata": {},
   "outputs": [],
   "source": [
    "QUERY_CHECKER = \"\"\"\n",
    "{query}\n",
    "Double check the {dialect} query above for common mistakes, including:\n",
    "- Using NOT IN with NULL values\n",
    "- Using UNION when UNION ALL should have been used\n",
    "- Using BETWEEN for exclusive ranges\n",
    "- Data type mismatch in predicates\n",
    "- Properly quoting identifiers\n",
    "- Using the correct number of arguments for functions\n",
    "- Casting to the correct data type\n",
    "- Using the proper columns for joins\n",
    "\n",
    "If there are any of the above mistakes, rewrite the query. If there are no mistakes, just reproduce the original query.\n",
    "\n",
    "Output the final SQL query only.\n",
    "\n",
    "SQL Query: \"\"\""
   ]
  },
  {
   "cell_type": "code",
   "execution_count": null,
   "id": "f8a57367-5c3f-40cf-b13b-49ed00eb777f",
   "metadata": {},
   "outputs": [],
   "source": []
  }
 ],
 "metadata": {
  "kernelspec": {
   "display_name": "Python 3 (ipykernel)",
   "language": "python",
   "name": "python3"
  },
  "language_info": {
   "codemirror_mode": {
    "name": "ipython",
    "version": 3
   },
   "file_extension": ".py",
   "mimetype": "text/x-python",
   "name": "python",
   "nbconvert_exporter": "python",
   "pygments_lexer": "ipython3",
   "version": "3.9.1"
  }
 },
 "nbformat": 4,
 "nbformat_minor": 5
}
