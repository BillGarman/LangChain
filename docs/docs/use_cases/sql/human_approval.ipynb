{
 "cells": [
  {
   "cell_type": "raw",
   "id": "1af00167-0465-4e20-80d6-cebb7c3a15c3",
   "metadata": {},
   "source": [
    "---\n",
    "sidebar_position: 7\n",
    "---"
   ]
  },
  {
   "cell_type": "markdown",
   "id": "2e7c5d59-221c-4bb8-be66-1a01fc46f167",
   "metadata": {},
   "source": [
    "# Human-in-the-loop\n",
    "\n",
    "In this guide we'll go over how to include a human approval step in any SQL-executing chain or agent."
   ]
  }
 ],
 "metadata": {
  "kernelspec": {
   "display_name": "Python 3 (ipykernel)",
   "language": "python",
   "name": "python3"
  },
  "language_info": {
   "codemirror_mode": {
    "name": "ipython",
    "version": 3
   },
   "file_extension": ".py",
   "mimetype": "text/x-python",
   "name": "python",
   "nbconvert_exporter": "python",
   "pygments_lexer": "ipython3",
   "version": "3.9.1"
  }
 },
 "nbformat": 4,
 "nbformat_minor": 5
}
