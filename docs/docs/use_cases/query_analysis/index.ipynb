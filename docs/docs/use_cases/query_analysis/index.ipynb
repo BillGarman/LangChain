{
 "cells": [
  {
   "cell_type": "raw",
   "id": "a47da0d0-0927-4adb-93e6-99a434f732cf",
   "metadata": {},
   "source": [
    "---\n",
    "sidebar_position: 0.3\n",
    "---"
   ]
  },
  {
   "cell_type": "markdown",
   "id": "f2195672-0cab-4967-ba8a-c6544635547d",
   "metadata": {},
   "source": [
    "# Query analysis\n",
    "\n",
    "## Problem\n",
    "In any question answering application we need to search for, or retrieve, information based on a user question. To do this we create an index(es) of the relevant information that allows us to search over it by text. In the simplest case, we can search on the user input directly. This approach has a few common failure modes:\n",
    "\n",
    "* The index supports searches and filters against specific fields of the data, and user input could be referring to any of these fields,\n",
    "* The user input contains multiple distinct questions in it,\n",
    "* To get the relevant information multiple queries are needed,\n",
    "* Search quality is sensitive to phrasing,\n",
    "* There are multiple indexes that could be searched over, and the user input could be reffering to any of them.\n",
    "\n",
    "To handle these, we can do **query analysis** to translate the raw user question into a query or queries optimized for our indexes.\n",
    "\n",
    ":::{.callout-note} \n",
    "This guide assumes familiarity with the basic building blocks of a simple RAG application outlined in the [Q&A with RAG Quickstart](/docs/use_cases/question_answering/quickstart).\n",
    ":::\n",
    "\n",
    ":::{.callout-note}\n",
    "We focus here on retrieval, but query analysis is useful wherever unstructured user input needs to routed, structured, or otherwise optimized for downstream use.\n",
    ":::\n",
    "\n",
    "## Techniques\n",
    "\n",
    "Query analysis is the process of transforming a user input into a query optimized for your indexes or tools. This can involve any of the folowing techniques:\n",
    "\n",
    "* [Query decomposition](/docs/use_cases/query_analysis/techniques/decomposition): If a user input contains multiple distinct questions, we can decompose the input into separate queries that will each be executed independently.\n",
    "* [Query expansion](/docs/use_cases/query_analysis/techniques/expansion): If an index is sensitive to query phrasing, we can generate multiple paraphrased versions of the user question to increase our chances of retrieving a relevant result.\n",
    "* [Hypothetical document embedding (HyDE)](/docs/use_cases/query_analysis/techniques/hyde): If we're working with a similarity search-based index, like a vector store, then searching on raw questions may not work well because their embeddings may not be very similar to those of the relevant documents. Instead it might help to have the model generate a hypothetical relevant document, and then use that to perform similarity search.\n",
    "* [Step back prompting](/docs/use_cases/query_analysis/techniques/step_back): Sometimes search quality and model generations can be tripped up by the specifics of a question. One way to handle this is to first generate a more abstract, \"step back\" question and to query based on both the original and step back question.\n",
    "* [Query structuring](/docs/use_cases/query_analysis/techniques/structuring): If our documents have multiple searchable/filterable attributes, we can infer from any raw user question which specific attributes should be searched/filtered over. For example, when a user input specific something about video publication date, that should become a filter on the `publish_date` attribute of each document.\n",
    "* [Routing](/docs/use_cases/query_analysis/techniques/routing): If we have multiple indexes and only a subset are useful for any given user input, we can route the input to only retrieve results from the relevant ones.\n",
    "\n",
    "We can think of each of these techniques as taking in a string or list of Messages corresponding to the current conversation, and returning one or more query objects. At it's simplest, with something like HyDE for example, the returned query might just be a rewritten search string. As we incorporate more of these techniques our query objects will have not just a search string but also filters, the specific indexes to run the search over, multiple versions of the search string, etc.\n",
    "\n",
    "## End-to-end example\n",
    "\n",
    "Head to the [end-to-end example](/docs/use_cases/query_analysis/e2e) to see how to put together different techniques and use them to actually retrieve documents"
   ]
  },
  {
   "cell_type": "code",
   "execution_count": null,
   "id": "39c16252-9127-4c78-b5d0-c688146f17bd",
   "metadata": {},
   "outputs": [],
   "source": []
  }
 ],
 "metadata": {
  "kernelspec": {
   "display_name": "poetry-venv-2",
   "language": "python",
   "name": "poetry-venv-2"
  },
  "language_info": {
   "codemirror_mode": {
    "name": "ipython",
    "version": 3
   },
   "file_extension": ".py",
   "mimetype": "text/x-python",
   "name": "python",
   "nbconvert_exporter": "python",
   "pygments_lexer": "ipython3",
   "version": "3.9.1"
  }
 },
 "nbformat": 4,
 "nbformat_minor": 5
}
