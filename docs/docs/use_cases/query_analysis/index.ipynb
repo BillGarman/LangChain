{
 "cells": [
  {
   "cell_type": "raw",
   "id": "a47da0d0-0927-4adb-93e6-99a434f732cf",
   "metadata": {},
   "source": [
    "---\n",
    "sidebar_position: 0.3\n",
    "---"
   ]
  },
  {
   "cell_type": "markdown",
   "id": "f2195672-0cab-4967-ba8a-c6544635547d",
   "metadata": {},
   "source": [
    "# Query analysis\n",
    "\n",
    "## Problem\n",
    "In any question answering application we need to search for, or retrieve, information based on a user question. In the simplest case, we can search on the user input directly. This approach has a few common failure modes:\n",
    "\n",
    "* The data has multiple attributes that a user input could be referring to,\n",
    "* The user input contains multiple distinct questions in it,\n",
    "* Search quality is sensitive to phrasing.\n",
    "\n",
    "To handle these, we can do **query analysis** to translate the raw user question into a query or queries optimized for our indexes and tools. \n",
    "\n",
    ":::{.callout-note} \n",
    "This guide assumes familiarity with the basic building blocks of a simple RAG application outlined in the [Quickstart](/docs/use_cases/question_answering/quickstart).\n",
    ":::\n",
    "\n",
    ":::{.callout-note}\n",
    "We focus here on retrieval, but query analysis is useful wherever unstructured user input needs to routed, structured, or otherwise optimized for downstream use.\n",
    ":::\n",
    "\n",
    "## Solution\n",
    "\n",
    "Query analysis is the process of transforming a user input into a query optimized for your indexes or tools. This can involve any of the folowing steps:\n",
    "\n",
    "* [Query decomposition](/docs/use_cases/query_analysis/decomposition): If a user input contains multiple distinct questions, we can decompose the input into separate queries that will each be executed independently.\n",
    "* [Query expansion](/docs/use_cases/query_analysis/expansion): If an index is sensitive to query phrasing, we can multiple paraphrased versions of the user question to increase our chances of retrieving a relevant result.\n",
    "* [Query structuring](/docs/use_cases/query_analysis/structuring): If our documents have multiple searchable/filterable attributes, we can infer from any raw user question which specific attributes should be searched/filtered over. For example, when a user input specific something about video publication date, that should become a filter on the `publish_date` attribute of each document.\n",
    "* [Routing](/docs/use_cases/query_analysis/routing): If we have multiple indexes and only a subset are useful for any given user input, we can route the input to only retrieve results from the relevant ones.|\n",
    "\n",
    "## Get started\n",
    "\n",
    "Head to the [Quickstart](/docs/use_cases/query_analysis/quickstart) to get started with an overview of the main techniques as well as how to combine query analysis with retrieval and generation."
   ]
  }
 ],
 "metadata": {
  "kernelspec": {
   "display_name": "poetry-venv-2",
   "language": "python",
   "name": "poetry-venv-2"
  },
  "language_info": {
   "codemirror_mode": {
    "name": "ipython",
    "version": 3
   },
   "file_extension": ".py",
   "mimetype": "text/x-python",
   "name": "python",
   "nbconvert_exporter": "python",
   "pygments_lexer": "ipython3",
   "version": "3.9.1"
  }
 },
 "nbformat": 4,
 "nbformat_minor": 5
}
