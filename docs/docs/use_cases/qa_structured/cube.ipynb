{
 "cells": [
  {
   "cell_type": "markdown",
   "metadata": {},
   "source": [
    "# Cube Semantic Layer\n",
    "\n",
    "SQL Chains and Agents support building and running SQL queries based on natural language prompts. \n",
    "However, when faced with complex queries, they may not perform well in producing results.\n",
    "Now, I'm providing a Cube Semantic Layer Agent, which can better support complex queries. \n",
    "A Cube data model is used to transform raw data into meaningful business definitions and pre-aggregate data for optimal results.\n",
    "\n",
    "They enable use cases such as:\n",
    "\n",
    "- Generating queries that will be run based on natural language questions\n",
    "- Creating chatbots that can answer questions based on database data\n",
    "- Building custom dashboards based on insights a user wants to analyze\n",
    "\n",
    "## Overview\n",
    "\n",
    "LangChain provides tools to interact with Cube:\n",
    "\n",
    "1. `Build Cube queries` based on natural language user questions\n",
    "2. `Query a Cube` using chains for query creation and execution\n",
    "3. `Interact with a Cube` using agents for robust and flexible querying \n",
    "\n",
    "![cube_semantic_layer_agent.png](/img/cube_semantic_layer_agent.png)\n",
    "\n",
    "## Quickstart\n",
    "\n",
    "First, get required packages and set environment variables:"
   ]
  },
  {
   "cell_type": "code",
   "execution_count": 2,
   "metadata": {},
   "outputs": [],
   "source": [
    "! pip install langchain openai\n",
    "\n",
    "# Set env var OPENAI_API_KEY or load from a .env file\n",
    "# import dotenv\n",
    "\n",
    "# dotenv.load_dotenv()"
   ]
  },
  {
   "cell_type": "markdown",
   "metadata": {},
   "source": [
    "Sample data for this notebook is sourced from the Cube examples, available at [active-users-example](https://github.com/cube-js/cube/tree/master/examples/recipes/active-users).\n",
    " \n",
    "* Clone the repo [https://github.com/cube-js/cube](https://github.com/cube-js/cube)\n",
    "* Go to the `examples/recipes/active-users` directory\n",
    "* Run `docker-compose up`\n",
    "\n",
    "Let's create a `create_cube_agent` to create and execute Cube queries."
   ]
  },
  {
   "cell_type": "code",
   "execution_count": 3,
   "metadata": {
    "ExecuteTime": {
     "end_time": "2023-10-26T03:33:54.151058Z",
     "start_time": "2023-10-26T03:33:54.109685Z"
    }
   },
   "outputs": [],
   "source": [
    "from pydantic.v1 import SecretStr\n",
    "\n",
    "from langchain.agents import create_cube_agent\n",
    "from langchain.agents.agent_toolkits import CubeToolkit\n",
    "from langchain.chat_models import ChatOpenAI\n",
    "from langchain.utilities.cube import Cube\n",
    "\n",
    "# create Cube client\n",
    "cube = Cube(\n",
    "    cube_api_url=\"http://localhost:4000/cubejs-api/v1\",\n",
    "    cube_api_token=SecretStr(\"CUBE_API_TOKEN\"),\n",
    ")\n",
    "\n",
    "# create Cube Toolkit\n",
    "toolkit = CubeToolkit(\n",
    "    cube=cube,\n",
    "    llm=ChatOpenAI(temperature=0, verbose=True),\n",
    ")\n",
    "\n",
    "# create cube agent\n",
    "agent_executor = create_cube_agent(\n",
    "    llm=ChatOpenAI(verbose=True),\n",
    "    toolkit=toolkit,\n",
    "    verbose=True,\n",
    ")"
   ]
  },
  {
   "cell_type": "code",
   "execution_count": 4,
   "metadata": {
    "scrolled": true,
    "ExecuteTime": {
     "end_time": "2023-10-26T03:34:01.372592Z",
     "start_time": "2023-10-26T03:33:56.803470Z"
    }
   },
   "outputs": [
    {
     "name": "stdout",
     "output_type": "stream",
     "text": [
      "\n",
      "\n",
      "\u001b[1m> Entering new AgentExecutor chain...\u001b[0m\n",
      "\u001b[32;1m\u001b[1;3mAction: list_models_cube\n",
      "Action Input: \"\"\u001b[0m\n",
      "Observation: \u001b[38;5;200m\u001b[1;3m| Model | Description |\n",
      "| --- | --- |\n",
      "| ActiveUsers | Active Users |\n",
      "\u001b[0m\n",
      "Thought:\u001b[32;1m\u001b[1;3mThe ActiveUsers model seems relevant. I should query the meta-information of this model to see what columns are available.\n",
      "Action: meta_information_cube\n",
      "Action Input: \"ActiveUsers\"\u001b[0m\n",
      "Observation: \u001b[33;1m\u001b[1;3m## Model: ActiveUsers\n",
      "\n",
      "### Measures:\n",
      "| Title | Description | Column | Type |\n",
      "| --- | --- | --- | --- |\n",
      "| Monthly Active Users |  | ActiveUsers.monthlyActiveUsers | number |\n",
      "| Weekly Active Users |  | ActiveUsers.weeklyActiveUsers | number |\n",
      "| Daily Active Users |  | ActiveUsers.dailyActiveUsers | number |\n",
      "| WAU to MAU |  | ActiveUsers.wauToMau | number |\n",
      "\n",
      "### Dimensions:\n",
      "| Title | Description | Column | Type |\n",
      "| --- | --- | --- | --- |\n",
      "| Created at |  | ActiveUsers.createdAt | time |\n",
      "\u001b[0m\n",
      "Thought:\u001b[32;1m\u001b[1;3mI can query the ActiveUsers model to get the data on daily, weekly, and monthly active users. I will include the measures \"Daily Active Users\", \"Weekly Active Users\", and \"Monthly Active Users\" in my query.\n",
      "Action: load_cube\n",
      "Action Input: \n",
      "```json\n",
      "{\n",
      "  \"measures\": [\"ActiveUsers.dailyActiveUsers\", \"ActiveUsers.weeklyActiveUsers\", \"ActiveUsers.monthlyActiveUsers\"],\n",
      "  \"limit\": 10,\n",
      "  \"order\": {}\n",
      "}\n",
      "```\u001b[0m\n",
      "Observation: \u001b[36;1m\u001b[1;3m[{\"ActiveUsers.dailyActiveUsers\": \"700\", \"ActiveUsers.weeklyActiveUsers\": \"700\", \"ActiveUsers.monthlyActiveUsers\": \"700\"}]\u001b[0m\n",
      "Thought:\u001b[32;1m\u001b[1;3mThe query returned the data on daily, weekly, and monthly active users. The values for all three measures are 700.\n",
      "Final Answer: The daily, weekly, and monthly active users are all 700.\u001b[0m\n",
      "\n",
      "\u001b[1m> Finished chain.\u001b[0m\n"
     ]
    },
    {
     "data": {
      "text/plain": "'The daily, weekly, and monthly active users are all 700.'"
     },
     "execution_count": 4,
     "metadata": {},
     "output_type": "execute_result"
    }
   ],
   "source": [
    "agent_executor.run(\n",
    "    \"I'd like to get the data on our daily, weekly, and monthly active users.\"\n",
    ")"
   ]
  },
  {
   "cell_type": "markdown",
   "metadata": {},
   "source": [
    "## Text-to-Cube query\n"
   ]
  },
  {
   "cell_type": "code",
   "execution_count": 3,
   "metadata": {
    "ExecuteTime": {
     "end_time": "2023-10-25T16:31:45.990629Z",
     "start_time": "2023-10-25T16:31:45.974142Z"
    }
   },
   "outputs": [],
   "source": [
    "from langchain.chains import create_cube_query_chain"
   ]
  },
  {
   "cell_type": "markdown",
   "metadata": {},
   "source": [
    "Let's create the chain that will build the Cube Query:\n"
   ]
  },
  {
   "cell_type": "code",
   "execution_count": 4,
   "metadata": {
    "ExecuteTime": {
     "end_time": "2023-10-25T16:31:54.797612Z",
     "start_time": "2023-10-25T16:31:48.667846Z"
    }
   },
   "outputs": [
    {
     "name": "stdout",
     "output_type": "stream",
     "text": [
      "{\n",
      "  \"measures\": [\n",
      "    \"ActiveUsers.wauToMau\"\n",
      "  ],\n",
      "  \"limit\": 5\n",
      "}\n"
     ]
    }
   ],
   "source": [
    "chain = create_cube_query_chain(ChatOpenAI(temperature=0), cube)\n",
    "response = chain.invoke({\"question\": \"Get WAU to MAU active users.\"})\n",
    "print(response.json(indent=2, exclude_unset=True))"
   ]
  },
  {
   "cell_type": "markdown",
   "metadata": {},
   "source": [
    "After building the Cube query based on a user question, we can execute the load:"
   ]
  },
  {
   "cell_type": "code",
   "execution_count": 5,
   "metadata": {
    "ExecuteTime": {
     "end_time": "2023-10-25T16:32:04.343967Z",
     "start_time": "2023-10-25T16:32:04.266884Z"
    }
   },
   "outputs": [
    {
     "data": {
      "text/plain": "{'query': {'measures': ['ActiveUsers.wauToMau'],\n  'limit': 5,\n  'rowLimit': 5,\n  'timezone': 'UTC',\n  'order': [],\n  'filters': [],\n  'dimensions': [],\n  'timeDimensions': []},\n 'data': [{'ActiveUsers.wauToMau': '100.0000000000000000'}],\n 'lastRefreshTime': '2023-10-25T15:55:51.204Z',\n 'refreshKeyValues': [],\n 'usedPreAggregations': {},\n 'transformedQuery': {'sortedDimensions': [],\n  'sortedTimeDimensions': [],\n  'timeDimensions': [],\n  'measures': ['ActiveUsers.wauToMau'],\n  'leafMeasureAdditive': False,\n  'leafMeasures': ['ActiveUsers.weeklyActiveUsers',\n   'ActiveUsers.monthlyActiveUsers'],\n  'hasNoTimeDimensionsWithoutGranularity': True,\n  'allFiltersWithinSelectedDimensions': True,\n  'isAdditive': False,\n  'granularityHierarchies': {'year': ['year',\n    'quarter',\n    'month',\n    'month',\n    'day',\n    'hour',\n    'minute',\n    'second'],\n   'quarter': ['quarter', 'month', 'day', 'hour', 'minute', 'second'],\n   'month': ['month', 'day', 'hour', 'minute', 'second'],\n   'week': ['week', 'day', 'hour', 'minute', 'second'],\n   'day': ['day', 'hour', 'minute', 'second'],\n   'hour': ['hour', 'minute', 'second'],\n   'minute': ['minute', 'second'],\n   'second': ['second']},\n  'hasMultipliedMeasures': False,\n  'hasCumulativeMeasures': True,\n  'windowGranularity': 'day',\n  'filterDimensionsSingleValueEqual': {}},\n 'requestId': 'd1ecedf5-d6f1-4dc2-b876-2c274088358c-span-1',\n 'annotation': {'measures': {'ActiveUsers.wauToMau': {'title': 'Active Users WAU to MAU',\n    'shortTitle': 'WAU to MAU',\n    'type': 'number',\n    'format': 'percent',\n    'drillMembers': [],\n    'drillMembersGrouped': {'measures': [], 'dimensions': []}}},\n  'dimensions': {},\n  'segments': {},\n  'timeDimensions': {}},\n 'dataSource': 'default',\n 'dbType': 'postgres',\n 'extDbType': 'cubestore',\n 'external': False,\n 'slowQuery': False}"
     },
     "execution_count": 5,
     "metadata": {},
     "output_type": "execute_result"
    }
   ],
   "source": [
    "cube.load(response)"
   ]
  },
  {
   "cell_type": "markdown",
   "metadata": {},
   "source": [
    "As we can see, the Cube Query Builder chain **only created** the query, and we handled the **query execution separately**."
   ]
  },
  {
   "cell_type": "markdown",
   "source": [
    "Get the SQL Code generated by Cube to be executed in the database."
   ],
   "metadata": {
    "collapsed": false
   }
  },
  {
   "cell_type": "code",
   "execution_count": 6,
   "outputs": [
    {
     "data": {
      "text/plain": "{'external': False,\n 'sql': ['SELECT 100.000 * \"active_users__weekly_active_users\" / NULLIF(\"active_users__monthly_active_users\", 0) \"active_users__wau_to_mau\" FROM (SELECT count(distinct \"active_users_weekly_active_users_cumulative___active_users\".user_id) \"active_users__weekly_active_users\" FROM (SELECT user_id, created_at FROM public.orders) AS \"active_users_weekly_active_users_cumulative___active_users\" ) as q_0 , (SELECT count(distinct \"active_users_monthly_active_users_cumulative___active_users\".user_id) \"active_users__monthly_active_users\" FROM (SELECT user_id, created_at FROM public.orders) AS \"active_users_monthly_active_users_cumulative___active_users\" ) as q_1 LIMIT 5',\n  []],\n 'order': {},\n 'cacheKeyQueries': [['SELECT FLOOR((UNIX_TIMESTAMP()) / 10) as refresh_key',\n   [],\n   {'external': True, 'renewalThreshold': 10}]],\n 'preAggregations': [],\n 'dataSource': 'default',\n 'aliasNameToMember': {'active_users__wau_to_mau': 'ActiveUsers.wauToMau'},\n 'rollupMatchResults': [],\n 'canUseTransformedQuery': {'sortedDimensions': [],\n  'sortedTimeDimensions': [],\n  'timeDimensions': [],\n  'measures': ['ActiveUsers.wauToMau'],\n  'leafMeasureAdditive': False,\n  'leafMeasures': ['ActiveUsers.weeklyActiveUsers',\n   'ActiveUsers.monthlyActiveUsers'],\n  'hasNoTimeDimensionsWithoutGranularity': True,\n  'allFiltersWithinSelectedDimensions': True,\n  'isAdditive': False,\n  'granularityHierarchies': {'year': ['year',\n    'quarter',\n    'month',\n    'month',\n    'day',\n    'hour',\n    'minute',\n    'second'],\n   'quarter': ['quarter', 'month', 'day', 'hour', 'minute', 'second'],\n   'month': ['month', 'day', 'hour', 'minute', 'second'],\n   'week': ['week', 'day', 'hour', 'minute', 'second'],\n   'day': ['day', 'hour', 'minute', 'second'],\n   'hour': ['hour', 'minute', 'second'],\n   'minute': ['minute', 'second'],\n   'second': ['second']},\n  'hasMultipliedMeasures': False,\n  'hasCumulativeMeasures': True,\n  'windowGranularity': 'day',\n  'filterDimensionsSingleValueEqual': {}}}"
     },
     "execution_count": 6,
     "metadata": {},
     "output_type": "execute_result"
    }
   ],
   "source": [
    "cube.sql(response)"
   ],
   "metadata": {
    "collapsed": false,
    "ExecuteTime": {
     "end_time": "2023-10-25T16:32:10.528940Z",
     "start_time": "2023-10-25T16:32:10.469689Z"
    }
   }
  },
  {
   "cell_type": "code",
   "execution_count": null,
   "outputs": [],
   "source": [],
   "metadata": {
    "collapsed": false
   }
  }
 ],
 "metadata": {
  "kernelspec": {
   "display_name": "Python 3 (ipykernel)",
   "language": "python",
   "name": "python3"
  },
  "language_info": {
   "codemirror_mode": {
    "name": "ipython",
    "version": 3
   },
   "file_extension": ".py",
   "mimetype": "text/x-python",
   "name": "python",
   "nbconvert_exporter": "python",
   "pygments_lexer": "ipython3",
   "version": "3.9.1"
  }
 },
 "nbformat": 4,
 "nbformat_minor": 4
}
