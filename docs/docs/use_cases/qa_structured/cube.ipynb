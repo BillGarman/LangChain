{
 "cells": [
  {
   "cell_type": "markdown",
   "metadata": {},
   "source": [
    "# Cube Semantic Layer\n",
    "\n",
    "SQL Chains and Agents support building and running SQL queries based on natural language prompts. \n",
    "However, when faced with complex queries, they may not perform well in producing results.\n",
    "Now, I'm providing a Cube Semantic Layer Agent, which can better support complex queries. \n",
    "A Cube data model is used to transform raw data into meaningful business definitions and pre-aggregate data for optimal results.\n",
    "\n",
    "They enable use cases such as:\n",
    "\n",
    "- Generating queries that will be run based on natural language questions\n",
    "- Creating chatbots that can answer questions based on database data\n",
    "- Building custom dashboards based on insights a user wants to analyze\n",
    "\n",
    "## Overview\n",
    "\n",
    "LangChain provides tools to interact with Cube:\n",
    "\n",
    "1. `Build Cube queries` based on natural language user questions\n",
    "2. `Query a Cube` using chains for query creation and execution\n",
    "3. `Interact with a Cube` using agents for robust and flexible querying \n",
    "\n",
    "![cube_semantic_layer_agent.png](../../../static/img/cube_semantic_layer_agent.png)\n",
    "\n",
    "## Note\n",
    "- Uses rest API to interact with the data [https://cube.dev/docs/reference/rest-api](https://cube.dev/docs/reference/rest-api)\n",
    "- Cube FAQs, Tips and Tricks [https://cube.dev/docs/product/faqs/tips-and-tricks](https://cube.dev/docs/product/faqs/tips-and-tricks)\n",
    "\n",
    "## Quickstart\n",
    "\n",
    "First, get required packages and set environment variables:"
   ]
  },
  {
   "cell_type": "code",
   "execution_count": null,
   "metadata": {},
   "outputs": [],
   "source": [
    "! pip install langchain openai\n",
    "\n",
    "# Set env var OPENAI_API_KEY or load from a .env file\n",
    "# import dotenv\n",
    "\n",
    "# dotenv.load_dotenv()"
   ]
  },
  {
   "cell_type": "markdown",
   "metadata": {},
   "source": [
    "Sample data for this notebook is sourced from the Cube examples, available at [active-users-example](https://github.com/cube-js/cube/tree/master/examples/recipes/active-users).\n",
    " \n",
    "* Clone the repo [https://github.com/cube-js/cube](https://github.com/cube-js/cube)\n",
    "* Go to the `examples/recipes/active-users` directory\n",
    "* Run `docker-compose up`\n",
    "\n",
    "Let's create a `create_cube_agent` to create and execute Cube queries.\n",
    "\n",
    "## Note\n",
    "\n",
    "`CubeToolkit` relies on Cube's `/v1/load` and `/v1/meta` API.\n",
    "\n",
    "- `/v1/load` retrieves data through Cube queries [https://cube.dev/docs/reference/rest-api#v1load](https://cube.dev/docs/reference/rest-api#v1load)\n",
    "- `/v1/meta` is used to get the Cube model meta-information [https://cube.dev/docs/reference/rest-api#v1meta](https://cube.dev/docs/reference/rest-api#v1meta)"
   ]
  },
  {
   "cell_type": "code",
   "execution_count": 17,
   "metadata": {
    "ExecuteTime": {
     "end_time": "2023-11-09T09:23:38.453737Z",
     "start_time": "2023-11-09T09:23:38.423427Z"
    }
   },
   "outputs": [],
   "source": [
    "from langchain.agents import create_cube_agent\n",
    "from langchain.agents.agent_toolkits import CubeToolkit\n",
    "from langchain.chat_models import ChatOpenAI\n",
    "from langchain.pydantic_v1 import SecretStr\n",
    "from langchain.utilities.cube import Cube\n",
    "\n",
    "# create Cube client\n",
    "cube = Cube(\n",
    "    cube_api_url=\"http://localhost:4000/cubejs-api/v1\",\n",
    "    cube_api_token=SecretStr(\"CUBE_API_TOKEN\"),\n",
    ")\n",
    "\n",
    "# create Cube Toolkit\n",
    "toolkit = CubeToolkit(\n",
    "    cube=cube,\n",
    "    llm=ChatOpenAI(temperature=0, verbose=True, model=\"gpt-4-1106-preview\"),\n",
    ")\n",
    "\n",
    "# create cube agent\n",
    "agent_executor = create_cube_agent(\n",
    "    llm=ChatOpenAI(verbose=True, model=\"gpt-4-1106-preview\"),\n",
    "    toolkit=toolkit,\n",
    "    verbose=True,\n",
    ")"
   ]
  },
  {
   "cell_type": "code",
   "execution_count": 21,
   "metadata": {
    "ExecuteTime": {
     "end_time": "2023-11-09T09:27:35.103525Z",
     "start_time": "2023-11-09T09:27:20.298846Z"
    },
    "scrolled": true
   },
   "outputs": [
    {
     "name": "stdout",
     "output_type": "stream",
     "text": [
      "\n",
      "\n",
      "\u001B[1m> Entering new AgentExecutor chain...\u001B[0m\n",
      "\u001B[32;1m\u001B[1;3mAction: list_models_cube\n",
      "Action Input: \"\"\u001B[0m\n",
      "Observation: \u001B[38;5;200m\u001B[1;3m| Model | Description |\n",
      "| --- | --- |\n",
      "| ActiveUsers | Active Users |\n",
      "\u001B[0m\n",
      "Thought:\u001B[32;1m\u001B[1;3mNow that I know there is an \"ActiveUsers\" model, I need to get the meta-information for this model to understand which dimensions and measures I can query.\n",
      "Action: meta_information_cube\n",
      "Action Input: \"ActiveUsers\"\u001B[0m\n",
      "Observation: \u001B[33;1m\u001B[1;3m## Model: ActiveUsers\n",
      "\n",
      "### Measures:\n",
      "| Title | Description | Column | Type |\n",
      "| --- | --- | --- | --- |\n",
      "| Monthly Active Users |  | ActiveUsers.monthlyActiveUsers | number |\n",
      "| Weekly Active Users |  | ActiveUsers.weeklyActiveUsers | number |\n",
      "| Daily Active Users |  | ActiveUsers.dailyActiveUsers | number |\n",
      "| WAU to MAU |  | ActiveUsers.wauToMau | number |\n",
      "\n",
      "### Dimensions:\n",
      "| Title | Description | Column | Type |\n",
      "| --- | --- | --- | --- |\n",
      "| Created at |  | ActiveUsers.createdAt | time |\n",
      "\u001B[0m\n",
      "Thought:\u001B[32;1m\u001B[1;3mSince the user wants data about daily, weekly, and monthly active users for this year, I need to construct a Cube query. I need to use the \"createdAt\" dimension to filter the data for this year and include the measures for daily, weekly, and monthly active users. Since the current date is 2023-11-09, \"this year\" would refer to 2023.\n",
      "\n",
      "Action: load_cube\n",
      "Action Input: \n",
      "```json\n",
      "{\n",
      "  \"measures\": [\n",
      "    \"ActiveUsers.dailyActiveUsers\", \n",
      "    \"ActiveUsers.weeklyActiveUsers\", \n",
      "    \"ActiveUsers.monthlyActiveUsers\"\n",
      "  ],\n",
      "  \"timeDimensions\": [\n",
      "    {\n",
      "      \"dimension\": \"ActiveUsers.createdAt\",\n",
      "      \"dateRange\": [\"2023-01-01\", \"2023-11-09\"]\n",
      "    }\n",
      "  ],\n",
      "  \"limit\": 10\n",
      "}\n",
      "```\u001B[0m\n",
      "Observation: \u001B[36;1m\u001B[1;3m[{\"ActiveUsers.dailyActiveUsers\": \"4\", \"ActiveUsers.weeklyActiveUsers\": \"35\", \"ActiveUsers.monthlyActiveUsers\": \"147\"}]\u001B[0m\n",
      "Thought:\u001B[32;1m\u001B[1;3mI now have the data which includes daily, weekly, and monthly active users for the year 2023 up until the current date.\n",
      "Final Answer: As of today, the data for 2023 shows that there are 4 daily active users, 35 weekly active users, and 147 monthly active users.\u001B[0m\n",
      "\n",
      "\u001B[1m> Finished chain.\u001B[0m\n"
     ]
    },
    {
     "data": {
      "text/plain": "'As of today, the data for 2023 shows that there are 4 daily active users, 35 weekly active users, and 147 monthly active users.'"
     },
     "execution_count": 21,
     "metadata": {},
     "output_type": "execute_result"
    }
   ],
   "source": [
    "agent_executor.run(\n",
    "    \"I'd like to obtain this year specific data about our daily, weekly, and monthly active users.\"\n",
    ")"
   ]
  },
  {
   "cell_type": "markdown",
   "metadata": {},
   "source": [
    "## Text-to-Cube query\n"
   ]
  },
  {
   "cell_type": "code",
   "execution_count": 11,
   "metadata": {
    "ExecuteTime": {
     "end_time": "2023-11-09T09:14:20.584833Z",
     "start_time": "2023-11-09T09:14:20.550132Z"
    }
   },
   "outputs": [],
   "source": [
    "from langchain.chains import create_cube_query_chain"
   ]
  },
  {
   "cell_type": "markdown",
   "metadata": {},
   "source": [
    "Let's create the chain that will build the Cube Query:\n"
   ]
  },
  {
   "cell_type": "code",
   "execution_count": 16,
   "metadata": {
    "ExecuteTime": {
     "end_time": "2023-11-09T09:15:13.795587Z",
     "start_time": "2023-11-09T09:15:11.696895Z"
    }
   },
   "outputs": [
    {
     "name": "stdout",
     "output_type": "stream",
     "text": [
      "{\n",
      "  \"measures\": [\n",
      "    \"ActiveUsers.wauToMau\"\n",
      "  ],\n",
      "  \"limit\": 5,\n",
      "  \"order\": {\n",
      "    \"ActiveUsers.wauToMau\": \"desc\"\n",
      "  }\n",
      "}\n"
     ]
    }
   ],
   "source": [
    "chain = create_cube_query_chain(ChatOpenAI(temperature=0), cube)\n",
    "response = chain.invoke({\"question\": \"Get WAU to MAU active users.\"})\n",
    "print(response.json(indent=2, exclude_unset=True))"
   ]
  },
  {
   "cell_type": "markdown",
   "metadata": {},
   "source": [
    "After building the Cube query based on a user question, we can execute the load:"
   ]
  },
  {
   "cell_type": "code",
   "execution_count": 13,
   "metadata": {
    "ExecuteTime": {
     "end_time": "2023-11-09T09:14:23.865167Z",
     "start_time": "2023-11-09T09:14:23.072519Z"
    }
   },
   "outputs": [
    {
     "data": {
      "text/plain": "{'query': {'measures': ['ActiveUsers.wauToMau'],\n  'limit': 5,\n  'order': [{'id': 'ActiveUsers.wauToMau', 'desc': True}],\n  'rowLimit': 5,\n  'timezone': 'UTC',\n  'filters': [],\n  'dimensions': [],\n  'timeDimensions': []},\n 'data': [{'ActiveUsers.wauToMau': '100.0000000000000000'}],\n 'lastRefreshTime': '2023-11-09T09:11:43.571Z',\n 'refreshKeyValues': [],\n 'usedPreAggregations': {},\n 'transformedQuery': {'sortedDimensions': [],\n  'sortedTimeDimensions': [],\n  'timeDimensions': [],\n  'measures': ['ActiveUsers.wauToMau'],\n  'leafMeasureAdditive': False,\n  'leafMeasures': ['ActiveUsers.weeklyActiveUsers',\n   'ActiveUsers.monthlyActiveUsers'],\n  'hasNoTimeDimensionsWithoutGranularity': True,\n  'allFiltersWithinSelectedDimensions': True,\n  'isAdditive': False,\n  'granularityHierarchies': {'year': ['year',\n    'quarter',\n    'month',\n    'month',\n    'day',\n    'hour',\n    'minute',\n    'second'],\n   'quarter': ['quarter', 'month', 'day', 'hour', 'minute', 'second'],\n   'month': ['month', 'day', 'hour', 'minute', 'second'],\n   'week': ['week', 'day', 'hour', 'minute', 'second'],\n   'day': ['day', 'hour', 'minute', 'second'],\n   'hour': ['hour', 'minute', 'second'],\n   'minute': ['minute', 'second'],\n   'second': ['second']},\n  'hasMultipliedMeasures': False,\n  'hasCumulativeMeasures': True,\n  'windowGranularity': 'day',\n  'filterDimensionsSingleValueEqual': {}},\n 'requestId': 'd4592364-3a73-4419-ba0e-adccb9e18c7a-span-1',\n 'annotation': {'measures': {'ActiveUsers.wauToMau': {'title': 'Active Users WAU to MAU',\n    'shortTitle': 'WAU to MAU',\n    'type': 'number',\n    'format': 'percent',\n    'drillMembers': [],\n    'drillMembersGrouped': {'measures': [], 'dimensions': []}}},\n  'dimensions': {},\n  'segments': {},\n  'timeDimensions': {}},\n 'dataSource': 'default',\n 'dbType': 'postgres',\n 'extDbType': 'cubestore',\n 'external': False,\n 'slowQuery': False}"
     },
     "execution_count": 13,
     "metadata": {},
     "output_type": "execute_result"
    }
   ],
   "source": [
    "cube.load(response)"
   ]
  },
  {
   "cell_type": "markdown",
   "metadata": {},
   "source": [
    "As we can see, the Cube Query Builder chain **only created** the query, and we handled the **query execution separately**."
   ]
  },
  {
   "cell_type": "markdown",
   "metadata": {
    "collapsed": false
   },
   "source": [
    "Get the SQL Code generated by Cube to be executed in the database.\n",
    "\n",
    "## Note\n",
    "\n",
    "`cube.sql` relies on Cube's `/v1/sql` API.\n",
    "\n",
    "- `/v1/sql` retrieves sql information through Cube queries [https://cube.dev/docs/reference/rest-api#v1sql](https://cube.dev/docs/reference/rest-api#v1sql)"
   ]
  },
  {
   "cell_type": "code",
   "execution_count": 14,
   "metadata": {
    "ExecuteTime": {
     "end_time": "2023-11-09T09:14:23.879582Z",
     "start_time": "2023-11-09T09:14:23.858999Z"
    },
    "collapsed": false
   },
   "outputs": [
    {
     "data": {
      "text/plain": "{'external': False,\n 'sql': ['SELECT 100.000 * \"active_users__weekly_active_users\" / NULLIF(\"active_users__monthly_active_users\", 0) \"active_users__wau_to_mau\" FROM (SELECT count(distinct \"active_users_weekly_active_users_cumulative___active_users\".user_id) \"active_users__weekly_active_users\" FROM (SELECT user_id, created_at FROM public.orders) AS \"active_users_weekly_active_users_cumulative___active_users\" ) as q_0 , (SELECT count(distinct \"active_users_monthly_active_users_cumulative___active_users\".user_id) \"active_users__monthly_active_users\" FROM (SELECT user_id, created_at FROM public.orders) AS \"active_users_monthly_active_users_cumulative___active_users\" ) as q_1 ORDER BY 1 DESC LIMIT 5',\n  []],\n 'order': {'ActiveUsers.wauToMau': 'desc'},\n 'cacheKeyQueries': [['SELECT FLOOR((UNIX_TIMESTAMP()) / 10) as refresh_key',\n   [],\n   {'external': True, 'renewalThreshold': 10}]],\n 'preAggregations': [],\n 'dataSource': 'default',\n 'aliasNameToMember': {'active_users__wau_to_mau': 'ActiveUsers.wauToMau'},\n 'rollupMatchResults': [],\n 'canUseTransformedQuery': {'sortedDimensions': [],\n  'sortedTimeDimensions': [],\n  'timeDimensions': [],\n  'measures': ['ActiveUsers.wauToMau'],\n  'leafMeasureAdditive': False,\n  'leafMeasures': ['ActiveUsers.weeklyActiveUsers',\n   'ActiveUsers.monthlyActiveUsers'],\n  'hasNoTimeDimensionsWithoutGranularity': True,\n  'allFiltersWithinSelectedDimensions': True,\n  'isAdditive': False,\n  'granularityHierarchies': {'year': ['year',\n    'quarter',\n    'month',\n    'month',\n    'day',\n    'hour',\n    'minute',\n    'second'],\n   'quarter': ['quarter', 'month', 'day', 'hour', 'minute', 'second'],\n   'month': ['month', 'day', 'hour', 'minute', 'second'],\n   'week': ['week', 'day', 'hour', 'minute', 'second'],\n   'day': ['day', 'hour', 'minute', 'second'],\n   'hour': ['hour', 'minute', 'second'],\n   'minute': ['minute', 'second'],\n   'second': ['second']},\n  'hasMultipliedMeasures': False,\n  'hasCumulativeMeasures': True,\n  'windowGranularity': 'day',\n  'filterDimensionsSingleValueEqual': {}}}"
     },
     "execution_count": 14,
     "metadata": {},
     "output_type": "execute_result"
    }
   ],
   "source": [
    "cube.sql(response)"
   ]
  },
  {
   "cell_type": "code",
   "execution_count": 14,
   "metadata": {
    "ExecuteTime": {
     "end_time": "2023-11-09T09:14:23.879813Z",
     "start_time": "2023-11-09T09:14:23.877245Z"
    },
    "collapsed": false
   },
   "outputs": [],
   "source": []
  }
 ],
 "metadata": {
  "kernelspec": {
   "display_name": "Python 3 (ipykernel)",
   "language": "python",
   "name": "python3"
  },
  "language_info": {
   "codemirror_mode": {
    "name": "ipython",
    "version": 3
   },
   "file_extension": ".py",
   "mimetype": "text/x-python",
   "name": "python",
   "nbconvert_exporter": "python",
   "pygments_lexer": "ipython3",
   "version": "3.9.1"
  }
 },
 "nbformat": 4,
 "nbformat_minor": 4
}
