{
 "cells": [
  {
   "cell_type": "raw",
   "id": "59fb10b9-75b5-496a-b134-38a6fa8043ee",
   "metadata": {},
   "source": [
    "---\n",
    "sidebar_position: 1\n",
    "---"
   ]
  },
  {
   "cell_type": "markdown",
   "id": "55735f65-8561-4ac2-9dc1-69ce3d836128",
   "metadata": {},
   "source": [
    "# Q&A over structured data\n",
    "\n",
    "In the [Q&A with RAG](/docs/use_cases/question_answering/) section we went over how to build question-answering systems over freeform text sources — notes, articles, blogs, documents, etc. Basically anything you'd think to put in a Word document. The general approach there is to index the source text in chunks and try to retrieve the most relevant bits given a question, and insert that into the prompt. This relies on being able to detect semantic similarity between the question and the relevant parts of the source data.\n",
    "\n",
    "A related but distinct type of system is a question-answering application over structured data — basically anything you'd think to put in an Excel sheet. While the user interface is similar (text question in, text answer out), under the hood these two types of systems are very different. If we asked something like \"What is the average of Column A where Column B is less than 20?\", it wouldn't do us any good to have semantically indexed chunks of our table. Instead, we'll want to store our data in a database that can be queried with code or its own query language. Then, given a user question, we can prompt our model to convert that to code or a query against the database, execute this query, and ask the model to parse the query output into a text answer.\n",
    "\n",
    "## Architecture\n",
    "\n"
   ]
  }
 ],
 "metadata": {
  "kernelspec": {
   "display_name": "Python 3 (ipykernel)",
   "language": "python",
   "name": "python3"
  },
  "language_info": {
   "codemirror_mode": {
    "name": "ipython",
    "version": 3
   },
   "file_extension": ".py",
   "mimetype": "text/x-python",
   "name": "python",
   "nbconvert_exporter": "python",
   "pygments_lexer": "ipython3",
   "version": "3.9.1"
  }
 },
 "nbformat": 4,
 "nbformat_minor": 5
}
