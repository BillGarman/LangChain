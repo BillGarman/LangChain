{
 "cells": [
  {
   "cell_type": "code",
   "execution_count": null,
   "metadata": {
    "id": "6dJxqebov4eU"
   },
   "outputs": [],
   "source": [
    "!pip -q install elasticsearch langchain"
   ]
  },
  {
   "cell_type": "code",
   "execution_count": null,
   "metadata": {
    "id": "RV7C3DUmv4aq"
   },
   "outputs": [],
   "source": [
    "import elasticsearch\n",
    "from langchain.embeddings.elasticsearch import ElasticsearchEmbeddings"
   ]
  },
  {
   "cell_type": "code",
   "execution_count": null,
   "metadata": {
    "id": "MrT3jplJvp09"
   },
   "outputs": [],
   "source": [
    "# Define the model ID\n",
    "model_id = 'your_model_id'"
   ]
  },
  {
   "cell_type": "code",
   "execution_count": null,
   "metadata": {
    "id": "svtdnC-dvpxR"
   },
   "outputs": [],
   "source": [
    "# Instantiate ElasticsearchEmbeddings using credentials\n",
    "embeddings = ElasticsearchEmbeddings.from_credentials(\n",
    "    model_id,\n",
    "    es_cloud_id='your_cloud_id', \n",
    "    es_user='your_user', \n",
    "    es_password='your_password'\n",
    ")\n"
   ]
  },
  {
   "cell_type": "code",
   "execution_count": null,
   "metadata": {
    "id": "7DXZAK7Kvpth"
   },
   "outputs": [],
   "source": [
    "# Create embeddings for multiple documents\n",
    "documents = [\n",
    "    'This is an example document.', \n",
    "    'Another example document to generate embeddings for.'\n",
    "]\n",
    "document_embeddings = embeddings.embed_documents(documents)\n"
   ]
  },
  {
   "cell_type": "code",
   "execution_count": null,
   "metadata": {
    "id": "K8ra75W_vpqy"
   },
   "outputs": [],
   "source": [
    "# Print document embeddings\n",
    "for i, embedding in enumerate(document_embeddings):\n",
    "    print(f\"Embedding for document {i+1}: {embedding}\")\n"
   ]
  },
  {
   "cell_type": "code",
   "execution_count": null,
   "metadata": {
    "id": "V4Q5kQo9vpna"
   },
   "outputs": [],
   "source": [
    "# Create an embedding for a single query\n",
    "query = 'This is a single query.'\n",
    "query_embedding = embeddings.embed_query(query)\n"
   ]
  },
  {
   "cell_type": "code",
   "execution_count": null,
   "metadata": {
    "id": "O0oQDzGKvpkz"
   },
   "outputs": [],
   "source": [
    "# Print query embedding\n",
    "print(f\"Embedding for query: {query_embedding}\")\n"
   ]
  }
 ],
 "metadata": {
  "colab": {
   "provenance": []
  },
  "kernelspec": {
   "display_name": "Python 3",
   "name": "python3"
  },
  "language_info": {
   "name": "python"
  }
 },
 "nbformat": 4,
 "nbformat_minor": 0
}