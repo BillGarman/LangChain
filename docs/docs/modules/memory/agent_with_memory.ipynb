{
 "cells": [
  {
   "cell_type": "markdown",
   "id": "fa6802ac",
   "metadata": {},
   "source": [
    "# Memory in Agent\n",
    "\n",
    "This notebook goes over adding memory to an Agent. Before going through this notebook, please walkthrough the following notebooks, as this will build on top of both of them:\n",
    "\n",
    "- [Memory in LLMChain](/docs/modules/memory/adding_memory)\n",
    "- [Custom Agents](/docs/modules/agents/how_to/custom_agent)\n",
    "\n",
    "In order to add a memory to an agent we are going to perform the following steps:\n",
    "\n",
    "1. We are going to create an `LLMChain` with memory.\n",
    "2. We are going to use that `LLMChain` to create a custom Agent.\n",
    "\n",
    "For the purposes of this exercise, we are going to create a simple custom Agent that has access to a search tool and utilizes the `ConversationBufferMemory` class."
   ]
  },
  {
   "cell_type": "code",
   "execution_count": 4,
   "id": "8db95912",
   "metadata": {
    "ExecuteTime": {
     "end_time": "2024-04-10T13:53:37.919770Z",
     "start_time": "2024-04-10T13:53:37.912308Z"
    }
   },
   "outputs": [],
   "source": [
    "import os\n",
    "\n",
    "from langchain.agents import Tool\n",
    "from langchain_community.utilities import GoogleSearchAPIWrapper"
   ]
  },
  {
   "cell_type": "code",
   "execution_count": 5,
   "id": "97ad8467",
   "metadata": {
    "ExecuteTime": {
     "end_time": "2024-04-10T13:53:39.294868Z",
     "start_time": "2024-04-10T13:53:39.226890Z"
    }
   },
   "outputs": [],
   "source": [
    "os.environ[\"GOOGLE_API_KEY\"] = \"GOOGLE_API_KEY\"\n",
    "os.environ[\"GOOGLE_CSE_ID\"] = \"GOOGLE_CSE_ID\"\n",
    "os.environ[\"OPENAI_API_KEY\"] = \"OPENAI_API_KEY\"\n",
    "search = GoogleSearchAPIWrapper()\n",
    "tools = [\n",
    "    Tool(\n",
    "        name=\"Search\",\n",
    "        func=search.run,\n",
    "        description=\"useful for when you need to answer questions about current events\",\n",
    "    )\n",
    "]"
   ]
  },
  {
   "cell_type": "markdown",
   "id": "4ad2e708",
   "metadata": {},
   "source": [
    "Notice the usage of the `chat_history` variable in the `PromptTemplate`, which matches up with the dynamic key name in the `ConversationBufferMemory`."
   ]
  },
  {
   "cell_type": "code",
   "execution_count": 3,
   "id": "e3439cd6",
   "metadata": {
    "ExecuteTime": {
     "end_time": "2024-04-10T13:53:33.124398Z",
     "start_time": "2024-04-10T13:53:29.696027Z"
    }
   },
   "outputs": [],
   "source": [
    "from langchain import hub\n",
    "from langchain.agents import AgentExecutor, create_react_agent\n",
    "from langchain.memory import ChatMessageHistory\n",
    "\n",
    "prompt = hub.pull(\"hwchase17/react\")\n",
    "\n",
    "memory = ChatMessageHistory(session_id=\"test-session\")"
   ]
  },
  {
   "cell_type": "markdown",
   "id": "0021675b",
   "metadata": {},
   "source": []
  },
  {
   "cell_type": "code",
   "execution_count": 6,
   "id": "c56a0e73",
   "metadata": {
    "ExecuteTime": {
     "end_time": "2024-04-10T13:53:43.304163Z",
     "start_time": "2024-04-10T13:53:43.076534Z"
    }
   },
   "outputs": [],
   "source": [
    "from langchain_core.runnables.history import RunnableWithMessageHistory\n",
    "from langchain_openai import OpenAI\n",
    "\n",
    "llm = OpenAI(temperature=0)\n",
    "agent = create_react_agent(llm, tools, prompt)\n",
    "agent_executor = AgentExecutor(agent=agent, tools=tools)\n",
    "\n",
    "agent_with_chat_history = RunnableWithMessageHistory(\n",
    "    agent_executor,\n",
    "    # This is needed because in most real world scenarios, a session id is needed\n",
    "    # It isn't really used here because we are using a simple in memory ChatMessageHistory\n",
    "    lambda session_id: memory,\n",
    "    input_messages_key=\"input\",\n",
    "    history_messages_key=\"chat_history\",\n",
    ")"
   ]
  },
  {
   "cell_type": "code",
   "execution_count": 9,
   "id": "ca4bc1fb",
   "metadata": {
    "ExecuteTime": {
     "end_time": "2024-04-10T13:54:25.176535Z",
     "start_time": "2024-04-10T13:53:59.188606Z"
    }
   },
   "outputs": [
    {
     "data": {
      "text/plain": "{'input': 'How many people live in canada?',\n 'chat_history': [],\n 'output': 'The current population of Canada is 39,032,811 as of Tuesday, April 9, 2024.'}"
     },
     "execution_count": 9,
     "metadata": {},
     "output_type": "execute_result"
    }
   ],
   "source": [
    "agent_with_chat_history.invoke(\n",
    "    {\"input\": \"How many people live in canada?\"},\n",
    "    config={\"configurable\": {\"session_id\": \"<foo>\"}},\n",
    ")"
   ]
  },
  {
   "cell_type": "markdown",
   "id": "45627664",
   "metadata": {},
   "source": [
    "To test the memory of this agent, we can ask a followup question that relies on information in the previous exchange to be answered correctly."
   ]
  },
  {
   "cell_type": "code",
   "execution_count": 11,
   "id": "eecc0462",
   "metadata": {
    "ExecuteTime": {
     "end_time": "2024-04-10T13:54:59.059401Z",
     "start_time": "2024-04-10T13:54:56.598539Z"
    }
   },
   "outputs": [
    {
     "data": {
      "text/plain": "{'input': 'what is their national anthem called?',\n 'chat_history': [HumanMessage(content='How many people live in canada?'),\n  AIMessage(content='The current population of Canada is 39,032,811 as of Tuesday, April 9, 2024.')],\n 'output': 'The national anthem of a country can be found by searching for the country\\'s name and \"national anthem\".'}"
     },
     "execution_count": 11,
     "metadata": {},
     "output_type": "execute_result"
    }
   ],
   "source": [
    "agent_with_chat_history.invoke(\n",
    "    {\"input\": \"what is their national anthem called?\"},\n",
    "    config={\"configurable\": {\"session_id\": \"<foo>\"}},\n",
    ")"
   ]
  },
  {
   "cell_type": "markdown",
   "id": "cc3d0aa4",
   "metadata": {},
   "source": [
    "We can see that the agent remembered that the previous question was about Canada, and properly asked Google Search what the name of Canada's national anthem was.\n",
    "\n",
    "For fun, let's compare this to an agent that does NOT have memory."
   ]
  },
  {
   "cell_type": "code",
   "execution_count": 12,
   "id": "3359d043",
   "metadata": {
    "ExecuteTime": {
     "end_time": "2024-04-10T13:57:59.627328Z",
     "start_time": "2024-04-10T13:57:59.626306Z"
    }
   },
   "outputs": [],
   "source": [
    "agent = create_react_agent(llm, tools, prompt)\n",
    "agent_executor_without_memory = AgentExecutor(agent=agent, tools=tools)"
   ]
  },
  {
   "cell_type": "code",
   "execution_count": 15,
   "id": "970d23df",
   "metadata": {
    "ExecuteTime": {
     "end_time": "2024-04-10T13:58:11.432723Z",
     "start_time": "2024-04-10T13:58:09.003957Z"
    }
   },
   "outputs": [
    {
     "data": {
      "text/plain": "{'input': 'How many people live in canada?',\n 'output': 'The current population of Canada is 39,032,811 as of Tuesday, April 9, 2024.'}"
     },
     "execution_count": 15,
     "metadata": {},
     "output_type": "execute_result"
    }
   ],
   "source": [
    "agent_executor_without_memory.invoke({\"input\": \"How many people live in canada?\"})"
   ]
  },
  {
   "cell_type": "code",
   "execution_count": 18,
   "id": "d9ea82f0",
   "metadata": {
    "ExecuteTime": {
     "end_time": "2024-04-10T13:59:53.345398Z",
     "start_time": "2024-04-10T13:59:50.421964Z"
    }
   },
   "outputs": [
    {
     "data": {
      "text/plain": "{'input': 'what is their national anthem called?',\n 'output': 'The national anthem of a country can be found by searching for the country\\'s name and \"national anthem\".'}"
     },
     "execution_count": 18,
     "metadata": {},
     "output_type": "execute_result"
    }
   ],
   "source": [
    "agent_executor_without_memory.invoke({\"input\": \"what is their national anthem called?\"})"
   ]
  },
  {
   "cell_type": "code",
   "execution_count": null,
   "id": "5b1f9223",
   "metadata": {},
   "outputs": [],
   "source": []
  }
 ],
 "metadata": {
  "kernelspec": {
   "display_name": "Python 3 (ipykernel)",
   "language": "python",
   "name": "python3"
  },
  "language_info": {
   "codemirror_mode": {
    "name": "ipython",
    "version": 3
   },
   "file_extension": ".py",
   "mimetype": "text/x-python",
   "name": "python",
   "nbconvert_exporter": "python",
   "pygments_lexer": "ipython3",
   "version": "3.10.1"
  }
 },
 "nbformat": 4,
 "nbformat_minor": 5
}
