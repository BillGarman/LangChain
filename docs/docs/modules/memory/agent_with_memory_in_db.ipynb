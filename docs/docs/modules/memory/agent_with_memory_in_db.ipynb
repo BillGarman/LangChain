{
 "cells": [
  {
   "cell_type": "markdown",
   "id": "fa6802ac",
   "metadata": {},
   "source": [
    "# Message Memory in Agent backed by a database\n",
    "\n",
    "This notebook goes over adding memory to an Agent where the memory uses an external message store. Before going through this notebook, please walkthrough the following notebooks, as this will build on top of both of them:\n",
    "\n",
    "- [Memory in LLMChain](/docs/modules/memory/adding_memory)\n",
    "- [Custom Agents](/docs/modules/agents/how_to/custom_agent)\n",
    "- [Memory in Agent](/docs/modules/memory/agent_with_memory)\n",
    "\n",
    "In order to add a memory with an external message store to an agent we are going to do the following steps:\n",
    "\n",
    "1. We are going to create a `RedisChatMessageHistory` to connect to an external database to store the messages in.\n",
    "2. We are going to create an `LLMChain` using that chat history as memory.\n",
    "3. We are going to use that `LLMChain` to create a custom Agent.\n",
    "\n",
    "For the purposes of this exercise, we are going to create a simple custom Agent that has access to a search tool and utilizes the `ConversationBufferMemory` class."
   ]
  },
  {
   "cell_type": "code",
   "execution_count": 70,
   "id": "8db95912",
   "metadata": {
    "pycharm": {
     "is_executing": true
    },
    "ExecuteTime": {
     "end_time": "2024-04-10T10:31:34.166685Z",
     "start_time": "2024-04-10T10:31:34.154201Z"
    }
   },
   "outputs": [],
   "source": [
    "from langchain import hub\n",
    "from langchain.agents import AgentExecutor, Tool\n",
    "from langchain_core.runnables.history import RunnableWithMessageHistory\n",
    "from langchain_community.chat_message_histories import RedisChatMessageHistory\n",
    "from langchain_community.utilities import GoogleSearchAPIWrapper\n",
    "from langchain_openai import OpenAI\n",
    "import os"
   ]
  },
  {
   "cell_type": "code",
   "execution_count": 71,
   "id": "97ad8467",
   "metadata": {
    "ExecuteTime": {
     "end_time": "2024-04-10T10:31:36.434769Z",
     "start_time": "2024-04-10T10:31:36.378251Z"
    }
   },
   "outputs": [],
   "source": [
    "os.environ[\"GOOGLE_API_KEY\"] = \"GOOGLE_API_KEY\"\n",
    "os.environ[\"GOOGLE_CSE_ID\"] = \"GOOGLE_CSE_ID\"\n",
    "os.environ[\"OPENAI_API_KEY\"] = \"OPENAI_API_KEY\"\n",
    "    \n",
    "search = GoogleSearchAPIWrapper()\n",
    "tools = [\n",
    "    Tool(\n",
    "        name=\"Search\",\n",
    "        func=search.run,\n",
    "        description=\"useful for when you need to answer questions about current events\",\n",
    "    )\n",
    "]"
   ]
  },
  {
   "cell_type": "markdown",
   "id": "4ad2e708",
   "metadata": {},
   "source": [
    "Notice the usage of the `chat_history` variable in the `PromptTemplate`, which matches up with the dynamic key name in the `ConversationBufferMemory`."
   ]
  },
  {
   "cell_type": "code",
   "execution_count": 72,
   "id": "e3439cd6",
   "metadata": {
    "ExecuteTime": {
     "end_time": "2024-04-10T10:31:43.767838Z",
     "start_time": "2024-04-10T10:31:39.911116Z"
    }
   },
   "outputs": [],
   "source": [
    "prompt = hub.pull(\"hwchase17/react\")"
   ]
  },
  {
   "cell_type": "markdown",
   "id": "6d60bbd5",
   "metadata": {},
   "source": [
    "Now we can create the `RedisChatMessageHistory` backed by the database."
   ]
  },
  {
   "cell_type": "code",
   "execution_count": 73,
   "id": "17638dc7",
   "metadata": {
    "ExecuteTime": {
     "end_time": "2024-04-10T10:31:47.131626Z",
     "start_time": "2024-04-10T10:31:47.111247Z"
    }
   },
   "outputs": [],
   "source": [
    "message_history = RedisChatMessageHistory(\n",
    "    url=\"redis://127.0.0.1:6379/0\", ttl=600, session_id=\"my-session\"\n",
    ")"
   ]
  },
  {
   "cell_type": "markdown",
   "id": "0021675b",
   "metadata": {},
   "source": [
    "We can now construct the `LLMChain`, with the Memory object, and then create the agent."
   ]
  },
  {
   "cell_type": "code",
   "execution_count": 74,
   "id": "c56a0e73",
   "metadata": {
    "ExecuteTime": {
     "end_time": "2024-04-10T10:31:50.259094Z",
     "start_time": "2024-04-10T10:31:50.032236Z"
    }
   },
   "outputs": [],
   "source": [
    "from langchain.agents import create_react_agent\n",
    "\n",
    "model = OpenAI()\n",
    "agent = create_react_agent(model, tools, prompt)\n",
    "agent_executor = AgentExecutor(agent=agent, tools=tools)"
   ]
  },
  {
   "cell_type": "code",
   "execution_count": 75,
   "id": "ca4bc1fb",
   "metadata": {
    "ExecuteTime": {
     "end_time": "2024-04-10T10:32:19.911389Z",
     "start_time": "2024-04-10T10:31:52.213034Z"
    }
   },
   "outputs": [
    {
     "data": {
      "text/plain": "{'input': 'How many people live in canada?',\n 'chat_history': [],\n 'output': \"The average population of Canada is 39,032,811 as of Tuesday, April 9, 2024, based on Worldometer elaboration of the latest United Nations data 1. · Canada 2023\\xa0... It is a sparsely inhabited country of 40 million people, the vast majority residing south of the 55th parallel in urban areas. Canada's capital is Ottawa and\\xa0... Index to the latest information from the Census of Population. This survey conducted by Statistics Canada provides a statistical portrait of Canada and its\\xa0... Mar 12, 2024 ... Indicators, data and detailed analysis related to Canadian demographics, from a wide set of data sources including population estimates and\\xa0... total: 35.34 million (2021 est.) percent of population: 93% (2021 est.) comparison ranking: total 28 · Broadband - fixed subscriptions. total:\\xa0... Quarterly population estimate - Canada (Note) (January 1, 2024). 40,769,890. 0.6% increase · Consumer Price Index - Canada (February 2024). 2.8% increase. (12-\\xa0... Population, total - Canada from The World\"}"
     },
     "execution_count": 75,
     "metadata": {},
     "output_type": "execute_result"
    }
   ],
   "source": [
    "agent_with_chat_history = RunnableWithMessageHistory(\n",
    "    agent_executor,\n",
    "    # This is needed because in most real world scenarios, a session id is needed\n",
    "    # It isn't really used here because we are using a simple in memory ChatMessageHistory\n",
    "    lambda session_id: message_history,\n",
    "    input_messages_key=\"input\",\n",
    "    history_messages_key=\"chat_history\",\n",
    ")\n",
    "\n",
    "agent_with_chat_history.invoke({\"input\": \"How many people live in canada?\"},config={\"configurable\": {\"session_id\": \"<foo>\"}})"
   ]
  },
  {
   "cell_type": "markdown",
   "id": "45627664",
   "metadata": {},
   "source": [
    "To test the memory of this agent, we can ask a followup question that relies on information in the previous exchange to be answered correctly."
   ]
  },
  {
   "cell_type": "code",
   "execution_count": 76,
   "id": "eecc0462",
   "metadata": {
    "ExecuteTime": {
     "end_time": "2024-04-10T10:33:22.867086Z",
     "start_time": "2024-04-10T10:32:58.177882Z"
    }
   },
   "outputs": [
    {
     "data": {
      "text/plain": "{'input': 'what is their national anthem called?',\n 'chat_history': [HumanMessage(content='How many people live in canada?'),\n  AIMessage(content=\"The average population of Canada is 39,032,811 as of Tuesday, April 9, 2024, based on Worldometer elaboration of the latest United Nations data 1. · Canada 2023\\xa0... It is a sparsely inhabited country of 40 million people, the vast majority residing south of the 55th parallel in urban areas. Canada's capital is Ottawa and\\xa0... Index to the latest information from the Census of Population. This survey conducted by Statistics Canada provides a statistical portrait of Canada and its\\xa0... Mar 12, 2024 ... Indicators, data and detailed analysis related to Canadian demographics, from a wide set of data sources including population estimates and\\xa0... total: 35.34 million (2021 est.) percent of population: 93% (2021 est.) comparison ranking: total 28 · Broadband - fixed subscriptions. total:\\xa0... Quarterly population estimate - Canada (Note) (January 1, 2024). 40,769,890. 0.6% increase · Consumer Price Index - Canada (February 2024). 2.8% increase. (12-\\xa0... Population, total - Canada from The World\")],\n 'output': 'The national anthem of Canada is called \"O Canada.\"'}"
     },
     "execution_count": 76,
     "metadata": {},
     "output_type": "execute_result"
    }
   ],
   "source": [
    "agent_with_chat_history.invoke({\"input\": \"what is their national anthem called?\"},config={\"configurable\": {\"session_id\": \"<foo>\"}})"
   ]
  },
  {
   "cell_type": "markdown",
   "id": "cc3d0aa4",
   "metadata": {},
   "source": [
    "We can see that the agent remembered that the previous question was about Canada, and properly asked Google Search what the name of Canada's national anthem was.\n",
    "\n",
    "For fun, let's compare this to an agent that does NOT have memory."
   ]
  },
  {
   "cell_type": "code",
   "execution_count": 77,
   "id": "3359d043",
   "metadata": {
    "ExecuteTime": {
     "end_time": "2024-04-10T10:34:52.175496Z",
     "start_time": "2024-04-10T10:34:52.166009Z"
    }
   },
   "outputs": [],
   "source": [
    "agent = create_react_agent(model, tools, prompt)\n",
    "agent_executor__without_memory = AgentExecutor(agent=agent, tools=tools)"
   ]
  },
  {
   "cell_type": "code",
   "execution_count": 78,
   "id": "970d23df",
   "metadata": {
    "ExecuteTime": {
     "end_time": "2024-04-10T10:35:21.199602Z",
     "start_time": "2024-04-10T10:34:54.699375Z"
    }
   },
   "outputs": [
    {
     "data": {
      "text/plain": "{'input': 'How many people live in canada?',\n 'output': 'The estimated population of Canada in 2022 is approximately 39 million people.'}"
     },
     "execution_count": 78,
     "metadata": {},
     "output_type": "execute_result"
    }
   ],
   "source": [
    "agent_executor__without_memory.invoke({\"input\": \"How many people live in canada?\"})"
   ]
  },
  {
   "cell_type": "code",
   "execution_count": 81,
   "id": "d9ea82f0",
   "metadata": {
    "ExecuteTime": {
     "end_time": "2024-04-10T10:36:38.939339Z",
     "start_time": "2024-04-10T10:36:16.337292Z"
    }
   },
   "outputs": [
    {
     "data": {
      "text/plain": "{'input': 'what is their national anthem called?',\n 'output': 'The national anthem of a country can be found by searching \"national anthem [country name].\"'}"
     },
     "execution_count": 81,
     "metadata": {},
     "output_type": "execute_result"
    }
   ],
   "source": [
    "agent_executor__without_memory.invoke({\"input\": \"what is their national anthem called?\"})"
   ]
  },
  {
   "cell_type": "code",
   "execution_count": null,
   "id": "5b1f9223",
   "metadata": {},
   "outputs": [],
   "source": []
  }
 ],
 "metadata": {
  "kernelspec": {
   "display_name": "Python 3 (ipykernel)",
   "language": "python",
   "name": "python3"
  },
  "language_info": {
   "codemirror_mode": {
    "name": "ipython",
    "version": 3
   },
   "file_extension": ".py",
   "mimetype": "text/x-python",
   "name": "python",
   "nbconvert_exporter": "python",
   "pygments_lexer": "ipython3",
   "version": "3.10.1"
  }
 },
 "nbformat": 4,
 "nbformat_minor": 5
}
