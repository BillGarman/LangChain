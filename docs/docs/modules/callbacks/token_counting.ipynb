{
 "cells": [
  {
   "cell_type": "markdown",
   "id": "5b0a26fc",
   "metadata": {},
   "source": [
    "# Token counting\n",
    "LangChain offers a context manager that allows you to count tokens."
   ]
  },
  {
   "cell_type": "markdown",
   "source": [
    "## OpenAI example"
   ],
   "metadata": {
    "collapsed": false
   },
   "id": "302dd324308e938f"
  },
  {
   "cell_type": "code",
   "execution_count": 3,
   "id": "195fd686",
   "metadata": {},
   "outputs": [],
   "source": [
    "import asyncio\n",
    "\n",
    "from langchain.callbacks import get_openai_callback\n",
    "from langchain_openai import OpenAI\n",
    "\n",
    "llm = OpenAI(temperature=0)\n",
    "with get_openai_callback() as cb:\n",
    "    llm(\"What is the square root of 4?\")\n",
    "\n",
    "total_tokens = cb.total_tokens\n",
    "assert total_tokens > 0\n",
    "\n",
    "with get_openai_callback() as cb:\n",
    "    llm(\"What is the square root of 4?\")\n",
    "    llm(\"What is the square root of 4?\")\n",
    "\n",
    "assert cb.total_tokens == total_tokens * 2\n",
    "\n",
    "# You can kick off concurrent runs from within the context manager\n",
    "with get_openai_callback() as cb:\n",
    "    await asyncio.gather(\n",
    "        *[llm.agenerate([\"What is the square root of 4?\"]) for _ in range(3)]\n",
    "    )\n",
    "\n",
    "assert cb.total_tokens == total_tokens * 3\n",
    "\n",
    "# The context manager is concurrency safe\n",
    "task = asyncio.create_task(llm.agenerate([\"What is the square root of 4?\"]))\n",
    "with get_openai_callback() as cb:\n",
    "    await llm.agenerate([\"What is the square root of 4?\"])\n",
    "\n",
    "await task\n",
    "assert cb.total_tokens == total_tokens"
   ]
  },
  {
   "cell_type": "markdown",
   "source": [
    "## Bedrock example"
   ],
   "metadata": {
    "collapsed": false
   },
   "id": "33d65bc49485d5da"
  },
  {
   "cell_type": "code",
   "execution_count": 4,
   "outputs": [],
   "source": [
    "from langchain.callbacks import get_bedrock_token_count_callback\n",
    "from langchain.llms import Bedrock\n",
    "import anthropic"
   ],
   "metadata": {
    "collapsed": false
   },
   "id": "2cb4600d0e40aeaa"
  },
  {
   "cell_type": "code",
   "execution_count": 5,
   "outputs": [],
   "source": [
    "llm = Bedrock(\n",
    "    model_id=\"anthropic.claude-v2:1\",\n",
    "    region_name=\"us-east-1\",\n",
    "    model_kwargs={\"temperature\": 0.0},\n",
    ")"
   ],
   "metadata": {
    "collapsed": false
   },
   "id": "e98ebf435af176d7"
  },
  {
   "cell_type": "code",
   "execution_count": 6,
   "outputs": [
    {
     "name": "stdout",
     "output_type": "stream",
     "text": [
      " The square root of 4 is 2.\n",
      " The square root of 4 is 2.\n",
      "58 34 24\n"
     ]
    }
   ],
   "source": [
    "with get_bedrock_token_count_callback() as cb:\n",
    "    text = \"\\n\\nHuman: What is the square root of 4?\\n\\nAssistant: \"\n",
    "    answer = llm(text)\n",
    "    print(answer)  # check if invocations return same response\n",
    "    answer = llm(text)\n",
    "    print(answer)  # check if invocations return same response\n",
    "\n",
    "    total_tokens = cb.total_tokens\n",
    "    print(cb.total_tokens, cb.prompt_tokens, cb.completion_tokens)\n",
    "    client = anthropic.Anthropic()  # check count with Anthropic's\n",
    "    assert cb.prompt_tokens == client.count_tokens(text) * 2\n",
    "\n",
    "    # to check total token count we need to include\n",
    "    # generation stop sequence that is not included in answers\n",
    "    full_text = text + \"The square root of 4 is 2.\" + \"\\n\\nHuman: \"\n",
    "    total_token_count = client.count_tokens(full_text) * 2"
   ],
   "metadata": {
    "collapsed": false
   },
   "id": "ffea7713e6b657a0"
  }
 ],
 "metadata": {
  "kernelspec": {
   "name": "python3",
   "language": "python",
   "display_name": "Python 3 (ipykernel)"
  },
  "language_info": {
   "codemirror_mode": {
    "name": "ipython",
    "version": 3
   },
   "file_extension": ".py",
   "mimetype": "text/x-python",
   "name": "python",
   "nbconvert_exporter": "python",
   "pygments_lexer": "ipython3",
   "version": "3.11.3"
  }
 },
 "nbformat": 4,
 "nbformat_minor": 5
}
