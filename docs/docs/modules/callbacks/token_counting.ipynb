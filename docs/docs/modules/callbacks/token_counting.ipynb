{
 "cells": [
  {
   "cell_type": "markdown",
   "id": "5b0a26fc",
   "metadata": {},
   "source": [
    "# Token counting\n",
    "LangChain offers callback and a context manager that allows you to count tokens when using OpenAI models."
   ]
  },
  {
   "cell_type": "markdown",
   "source": [
    "### Using the context manager"
   ],
   "metadata": {
    "collapsed": false
   },
   "id": "d1e7aedb690437aa"
  },
  {
   "cell_type": "code",
   "execution_count": 2,
   "id": "195fd686",
   "metadata": {
    "ExecuteTime": {
     "end_time": "2023-10-20T10:28:13.030762Z",
     "start_time": "2023-10-20T10:28:09.149740Z"
    }
   },
   "outputs": [],
   "source": [
    "from langchain.schema import HumanMessage\n",
    "import asyncio\n",
    "\n",
    "from langchain.callbacks import get_openai_callback\n",
    "from langchain.chat_models import ChatOpenAI\n",
    "\n",
    "llm = ChatOpenAI(temperature=0)\n",
    "with get_openai_callback() as cb:\n",
    "    llm([HumanMessage(content=\"What is the square root of 4?\")])\n",
    "\n",
    "total_tokens = cb.total_tokens\n",
    "assert total_tokens > 0\n",
    "\n",
    "with get_openai_callback() as cb:\n",
    "    llm([HumanMessage(content=\"What is the square root of 4?\")])\n",
    "    llm([HumanMessage(content=\"What is the square root of 4?\")])\n",
    "\n",
    "assert cb.total_tokens == total_tokens * 2\n",
    "\n",
    "# You can kick off concurrent runs from within the context manager\n",
    "with get_openai_callback() as cb:\n",
    "    await asyncio.gather(\n",
    "        *[llm.agenerate([[HumanMessage(content=\"What is the square root of 4?\")]]) for _ in range(3)]\n",
    "    )\n",
    "\n",
    "assert cb.total_tokens == total_tokens * 3\n",
    "\n",
    "# The context manager is concurrency safe\n",
    "task = asyncio.create_task(llm.agenerate([[HumanMessage(content=\"What is the square root of 4?\")]]))\n",
    "with get_openai_callback() as cb:\n",
    "    await llm.agenerate([[HumanMessage(content=\"What is the square root of 4?\")]])\n",
    "\n",
    "await task\n",
    "assert cb.total_tokens == total_tokens"
   ]
  },
  {
   "cell_type": "markdown",
   "source": [
    "### Using the callback"
   ],
   "metadata": {
    "collapsed": false
   },
   "id": "6267c55f1d5e284"
  },
  {
   "cell_type": "code",
   "execution_count": 3,
   "id": "5e94e0d3",
   "metadata": {
    "ExecuteTime": {
     "end_time": "2023-10-20T10:28:13.546038Z",
     "start_time": "2023-10-20T10:28:13.033124Z"
    }
   },
   "outputs": [
    {
     "data": {
      "text/plain": "OpenAI Token Usage:\ngpt-3.5-turbo:\n\tPrompt tokens: 16\n\tCompletion tokens: 10\nTotal cost (USD): $4.4e-05"
     },
     "execution_count": 3,
     "metadata": {},
     "output_type": "execute_result"
    }
   ],
   "source": [
    "from langchain.schema import HumanMessage\n",
    "\n",
    "from langchain.callbacks import OpenAICallbackHandler\n",
    "from langchain.chat_models import ChatOpenAI\n",
    "\n",
    "cb = OpenAICallbackHandler()\n",
    "llm = ChatOpenAI(temperature=0, callbacks=[cb])\n",
    "llm([HumanMessage(content=\"What is the square root of 4?\")])\n",
    "\n",
    "cb"
   ]
  },
  {
   "cell_type": "markdown",
   "source": [
    "### Using multiple models"
   ],
   "metadata": {
    "collapsed": false
   },
   "id": "c54c6871b642f7a5"
  },
  {
   "cell_type": "code",
   "execution_count": 4,
   "outputs": [
    {
     "data": {
      "text/plain": "OpenAI Token Usage:\ngpt-3.5-turbo:\n\tPrompt tokens: 16\n\tCompletion tokens: 10\ngpt-4:\n\tPrompt tokens: 16\n\tCompletion tokens: 1\nTotal cost (USD): $0.0005840000000000001"
     },
     "execution_count": 4,
     "metadata": {},
     "output_type": "execute_result"
    }
   ],
   "source": [
    "from langchain.schema import HumanMessage\n",
    "\n",
    "from langchain.callbacks import OpenAICallbackHandler\n",
    "from langchain.chat_models import ChatOpenAI\n",
    "\n",
    "cb = OpenAICallbackHandler()\n",
    "llm = ChatOpenAI(temperature=0, callbacks=[cb])\n",
    "llm2 = ChatOpenAI(model_name=\"gpt-4\", temperature=0, callbacks=[cb])\n",
    "llm([HumanMessage(content=\"What is the square root of 4?\")])\n",
    "llm2([HumanMessage(content=\"What is the square root of 4?\")])\n",
    "\n",
    "cb"
   ],
   "metadata": {
    "collapsed": false,
    "ExecuteTime": {
     "end_time": "2023-10-20T10:28:14.732831Z",
     "start_time": "2023-10-20T10:28:13.543478Z"
    }
   },
   "id": "c03db29132a09cb3"
  },
  {
   "cell_type": "markdown",
   "source": [
    "### Using the callback with streaming models"
   ],
   "metadata": {
    "collapsed": false
   },
   "id": "99b474eb14fe2d94"
  },
  {
   "cell_type": "code",
   "execution_count": 5,
   "outputs": [
    {
     "data": {
      "text/plain": "OpenAI Token Usage:\ngpt-3.5-turbo:\n\tPrompt tokens: 16\n\tCompletion tokens: 10\nTotal cost (USD): $4.4e-05"
     },
     "execution_count": 5,
     "metadata": {},
     "output_type": "execute_result"
    }
   ],
   "source": [
    "from langchain.schema import HumanMessage\n",
    "\n",
    "from langchain.callbacks import OpenAICallbackHandler\n",
    "from langchain.chat_models import ChatOpenAI\n",
    "\n",
    "cb = OpenAICallbackHandler()\n",
    "llm = ChatOpenAI(temperature=0, streaming=True, callbacks=[cb])\n",
    "llm([HumanMessage(content=\"What is the square root of 4?\")])\n",
    "\n",
    "cb"
   ],
   "metadata": {
    "collapsed": false,
    "ExecuteTime": {
     "end_time": "2023-10-20T10:28:15.321452Z",
     "start_time": "2023-10-20T10:28:14.731571Z"
    }
   },
   "id": "fcfe5f74d422f3ec"
  }
 ],
 "metadata": {
  "kernelspec": {
   "name": "python3",
   "language": "python",
   "display_name": "Python 3 (ipykernel)"
  },
  "language_info": {
   "codemirror_mode": {
    "name": "ipython",
    "version": 3
   },
   "file_extension": ".py",
   "mimetype": "text/x-python",
   "name": "python",
   "nbconvert_exporter": "python",
   "pygments_lexer": "ipython3",
   "version": "3.11.3"
  }
 },
 "nbformat": 4,
 "nbformat_minor": 5
}
