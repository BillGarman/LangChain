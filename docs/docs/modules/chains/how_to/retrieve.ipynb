{
 "cells": [
  {
   "cell_type": "code",
   "execution_count": 1,
   "metadata": {},
   "outputs": [],
   "source": [
    "# !pip install gigachain faiss-cpu sentence-transformers sentencepiece rank_bm25 datasets --quiet"
   ]
  },
  {
   "cell_type": "code",
   "execution_count": 2,
   "metadata": {},
   "outputs": [
    {
     "name": "stderr",
     "output_type": "stream",
     "text": [
      "/Users/19814197/Documents/gigachain/venv/lib/python3.11/site-packages/tqdm/auto.py:21: TqdmWarning: IProgress not found. Please update jupyter and ipywidgets. See https://ipywidgets.readthedocs.io/en/stable/user_install.html\n",
      "  from .autonotebook import tqdm as notebook_tqdm\n"
     ]
    }
   ],
   "source": [
    "import datasets\n",
    "from langchain.docstore.base import Document\n",
    "from langchain.vectorstores.faiss import FAISS\n",
    "from langchain.embeddings import HuggingFaceEmbeddings\n",
    "from langchain.retrievers import EnsembleRetriever, BM25Retriever"
   ]
  },
  {
   "attachments": {},
   "cell_type": "markdown",
   "metadata": {},
   "source": [
    "## Данные"
   ]
  },
  {
   "cell_type": "code",
   "execution_count": 3,
   "metadata": {},
   "outputs": [
    {
     "data": {
      "text/plain": [
       "{'id': 62310,\n",
       " 'title': 'SberChallenge',\n",
       " 'context': 'В протерозойских отложениях органические остатки встречаются намного чаще, чем в архейских. Они представлены известковыми выделениями сине-зелёных водорослей, ходами червей, остатками кишечнополостных. Кроме известковых водорослей, к числу древнейших растительных остатков относятся скопления графито-углистого вещества, образовавшегося в результате разложения Corycium enigmaticum. В кремнистых сланцах железорудной формации Канады найдены нитевидные водоросли, грибные нити и формы, близкие современным кокколитофоридам. В железистых кварцитах Северной Америки и Сибири обнаружены железистые продукты жизнедеятельности бактерий.',\n",
       " 'question': 'чем представлены органические остатки?',\n",
       " 'answers': {'text': ['известковыми выделениями сине-зелёных водорослей'],\n",
       "  'answer_start': [109]}}"
      ]
     },
     "execution_count": 3,
     "metadata": {},
     "output_type": "execute_result"
    }
   ],
   "source": [
    "ds = datasets.load_dataset(\"sberquad\")\n",
    "ds[\"train\"][0]"
   ]
  },
  {
   "cell_type": "code",
   "execution_count": 4,
   "metadata": {},
   "outputs": [],
   "source": [
    "validation_ds = ds[\"validation\"]\n",
    "documents = [\n",
    "    Document(page_content=context)\n",
    "    for context in set(validation_ds[\"context\"])\n",
    "]"
   ]
  },
  {
   "attachments": {},
   "cell_type": "markdown",
   "metadata": {},
   "source": [
    "## Ретривал"
   ]
  },
  {
   "attachments": {},
   "cell_type": "markdown",
   "metadata": {},
   "source": [
    "### Эмбеддинг модель"
   ]
  },
  {
   "cell_type": "code",
   "execution_count": 5,
   "metadata": {},
   "outputs": [],
   "source": [
    "from typing import List, Coroutine, Any\n",
    "\n",
    "\n",
    "class HuggingFaceE5Embeddings(HuggingFaceEmbeddings):\n",
    "    def embed_query(self, text: str) -> List[float]:\n",
    "        text = f\"query: {text}\"\n",
    "        return super().embed_query(text)\n",
    "\n",
    "    def embed_documents(self, texts: List[str]) -> List[List[float]]:\n",
    "        texts = [f\"passage: {text}\" for text in texts]\n",
    "        return super().embed_documents(texts)\n",
    "\n",
    "    async def aembed_query(self, text: str) -> Coroutine[Any, Any, List[float]]:\n",
    "        text = f\"query: {text}\"\n",
    "        return await super().aembed_query(text)\n",
    "\n",
    "    async def aembed_documents(self, texts: List[str]) -> Coroutine[Any, Any, List[List[float]]]:\n",
    "        texts = [f\"passage: {text}\" for text in texts]\n",
    "        return await super().aembed_documents(texts)"
   ]
  },
  {
   "cell_type": "code",
   "execution_count": 6,
   "metadata": {},
   "outputs": [],
   "source": [
    "embedding = HuggingFaceE5Embeddings(model_name=\"intfloat/multilingual-e5-base\")"
   ]
  },
  {
   "cell_type": "code",
   "execution_count": 7,
   "metadata": {},
   "outputs": [],
   "source": [
    "faiss_db = FAISS.from_documents(documents, embedding=embedding)"
   ]
  },
  {
   "cell_type": "code",
   "execution_count": 8,
   "metadata": {},
   "outputs": [],
   "source": [
    "embedding_retriever = faiss_db.as_retriever(search_kwargs={\"k\": 5})"
   ]
  },
  {
   "cell_type": "code",
   "execution_count": 9,
   "metadata": {},
   "outputs": [
    {
     "name": "stderr",
     "output_type": "stream",
     "text": [
      "Map: 100%|██████████| 5036/5036 [08:19<00:00, 10.09 examples/s]\n"
     ]
    },
    {
     "data": {
      "text/plain": [
       "Dataset({\n",
       "    features: ['id', 'title', 'context', 'question', 'answers', 'embedding_retrieved'],\n",
       "    num_rows: 5036\n",
       "})"
      ]
     },
     "execution_count": 9,
     "metadata": {},
     "output_type": "execute_result"
    }
   ],
   "source": [
    "validation_ds = validation_ds.map(\n",
    "    lambda x: {\n",
    "        \"embedding_retrieved\": [\n",
    "            passage.page_content\n",
    "            for passage in embedding_retriever.get_relevant_documents(x[\"question\"])\n",
    "        ]\n",
    "    }\n",
    ")\n",
    "validation_ds"
   ]
  },
  {
   "cell_type": "code",
   "execution_count": 10,
   "metadata": {},
   "outputs": [],
   "source": [
    "def acc_top(dataset: datasets.Dataset, right_column: str, answer_column: str) -> float:\n",
    "    temp_dataset = dataset.map(\n",
    "        lambda x: {\n",
    "            \"is_right_retrieved\": x[right_column] in x[answer_column]\n",
    "        }\n",
    "    )\n",
    "    return sum(temp_dataset[\"is_right_retrieved\"]) / len(temp_dataset)"
   ]
  },
  {
   "cell_type": "code",
   "execution_count": 11,
   "metadata": {},
   "outputs": [
    {
     "name": "stderr",
     "output_type": "stream",
     "text": [
      "Map: 100%|██████████| 5036/5036 [00:01<00:00, 3633.59 examples/s]\n"
     ]
    },
    {
     "data": {
      "text/plain": [
       "0.9116362192216044"
      ]
     },
     "execution_count": 11,
     "metadata": {},
     "output_type": "execute_result"
    }
   ],
   "source": [
    "acc_top(validation_ds, \"context\", \"embedding_retrieved\")"
   ]
  },
  {
   "attachments": {},
   "cell_type": "markdown",
   "metadata": {},
   "source": [
    "### BM25"
   ]
  },
  {
   "cell_type": "code",
   "execution_count": 12,
   "metadata": {},
   "outputs": [],
   "source": [
    "import string\n",
    "\n",
    "\n",
    "def tokenize(s: str) -> list[str]:\n",
    "    return s.lower().translate(str.maketrans(\"\", \"\", string.punctuation)).split(\" \")"
   ]
  },
  {
   "cell_type": "code",
   "execution_count": 13,
   "metadata": {},
   "outputs": [],
   "source": [
    "bm25_retriever = BM25Retriever.from_documents(\n",
    "    documents=documents,\n",
    "    preprocess_func=tokenize,\n",
    "    k=5,\n",
    ")"
   ]
  },
  {
   "cell_type": "code",
   "execution_count": 14,
   "metadata": {},
   "outputs": [
    {
     "name": "stderr",
     "output_type": "stream",
     "text": [
      "Map: 100%|██████████| 5036/5036 [06:27<00:00, 12.99 examples/s]\n"
     ]
    },
    {
     "data": {
      "text/plain": [
       "Dataset({\n",
       "    features: ['id', 'title', 'context', 'question', 'answers', 'embedding_retrieved', 'bm25_retrieved'],\n",
       "    num_rows: 5036\n",
       "})"
      ]
     },
     "execution_count": 14,
     "metadata": {},
     "output_type": "execute_result"
    }
   ],
   "source": [
    "validation_ds = validation_ds.map(\n",
    "    lambda x: {\n",
    "        \"bm25_retrieved\": [\n",
    "            passage.page_content\n",
    "            for passage in bm25_retriever.get_relevant_documents(x[\"question\"])\n",
    "        ]\n",
    "    }\n",
    ")\n",
    "validation_ds"
   ]
  },
  {
   "cell_type": "code",
   "execution_count": 15,
   "metadata": {},
   "outputs": [
    {
     "name": "stderr",
     "output_type": "stream",
     "text": [
      "Map: 100%|██████████| 5036/5036 [00:01<00:00, 2714.89 examples/s]\n"
     ]
    },
    {
     "data": {
      "text/plain": [
       "0.9197776012708498"
      ]
     },
     "execution_count": 15,
     "metadata": {},
     "output_type": "execute_result"
    }
   ],
   "source": [
    "acc_top(validation_ds, \"context\", \"bm25_retrieved\")"
   ]
  },
  {
   "cell_type": "code",
   "execution_count": null,
   "metadata": {},
   "outputs": [],
   "source": []
  },
  {
   "attachments": {},
   "cell_type": "markdown",
   "metadata": {},
   "source": [
    "### Ансамбль"
   ]
  },
  {
   "cell_type": "code",
   "execution_count": 16,
   "metadata": {},
   "outputs": [],
   "source": [
    "embedding_retriever = faiss_db.as_retriever(search_kwargs={\"k\": 2})\n",
    "bm25_retriever = BM25Retriever.from_documents(\n",
    "    documents=documents,\n",
    "    preprocess_func=tokenize,\n",
    "    k=3,\n",
    ")"
   ]
  },
  {
   "cell_type": "code",
   "execution_count": 17,
   "metadata": {},
   "outputs": [],
   "source": [
    "ensemble_retriever = EnsembleRetriever(\n",
    "    retrievers=[embedding_retriever, bm25_retriever],\n",
    "    weights=[0.4, 0.6],\n",
    ")"
   ]
  },
  {
   "cell_type": "code",
   "execution_count": 18,
   "metadata": {},
   "outputs": [
    {
     "name": "stderr",
     "output_type": "stream",
     "text": [
      "Map: 100%|██████████| 5036/5036 [21:30<00:00,  3.90 examples/s] \n"
     ]
    },
    {
     "data": {
      "text/plain": [
       "Dataset({\n",
       "    features: ['id', 'title', 'context', 'question', 'answers', 'embedding_retrieved', 'bm25_retrieved', 'retrieved'],\n",
       "    num_rows: 5036\n",
       "})"
      ]
     },
     "execution_count": 18,
     "metadata": {},
     "output_type": "execute_result"
    }
   ],
   "source": [
    "validation_ds = validation_ds.map(\n",
    "    lambda x: {\n",
    "        \"retrieved\": [\n",
    "            passage.page_content\n",
    "            for passage in ensemble_retriever.get_relevant_documents(x[\"question\"])\n",
    "        ]\n",
    "    }\n",
    ")\n",
    "validation_ds"
   ]
  },
  {
   "cell_type": "code",
   "execution_count": 19,
   "metadata": {},
   "outputs": [
    {
     "name": "stderr",
     "output_type": "stream",
     "text": [
      "Map: 100%|██████████| 5036/5036 [00:01<00:00, 2806.17 examples/s]\n"
     ]
    },
    {
     "data": {
      "text/plain": [
       "0.9692216044479746"
      ]
     },
     "execution_count": 19,
     "metadata": {},
     "output_type": "execute_result"
    }
   ],
   "source": [
    "acc_top(validation_ds, \"context\", \"retrieved\")"
   ]
  },
  {
   "attachments": {},
   "cell_type": "markdown",
   "metadata": {},
   "source": [
    "## E2E решение"
   ]
  },
  {
   "cell_type": "code",
   "execution_count": 20,
   "metadata": {},
   "outputs": [],
   "source": [
    "from langchain.chains import RetrievalQA\n",
    "from langchain.llms.gigachat import GigaChat"
   ]
  },
  {
   "cell_type": "code",
   "execution_count": 33,
   "metadata": {},
   "outputs": [],
   "source": [
    "llm = GigaChat(credentials=...)"
   ]
  },
  {
   "cell_type": "code",
   "execution_count": 36,
   "metadata": {},
   "outputs": [],
   "source": [
    "qa = RetrievalQA.from_chain_type(\n",
    "    llm=llm,\n",
    "    chain_type=\"stuff\",\n",
    "    retriever=ensemble_retriever,\n",
    "    return_source_documents=True,\n",
    ")"
   ]
  },
  {
   "cell_type": "code",
   "execution_count": 37,
   "metadata": {},
   "outputs": [
    {
     "data": {
      "text/plain": [
       "{'query': 'Что такое вода?',\n",
       " 'result': 'Вода — это бинарное неорганическое соединение, состоящее из двух атомов водорода и одного атома кислорода, соединенных ковалентной связью. Она является прозрачной жидкостью без цвета, запаха и вкуса при нормальных условиях. Вода может существовать в различных состояниях, включая жидкое, твердое и газообразное. Она играет важную роль в жизни на Земле и составляет примерно 0,05% ее массы.',\n",
       " 'source_documents': [Document(page_content='На самом деле из-за низкого давления вода не может существовать в жидком состоянии на большей части (около 70 %) поверхности Марса. Вода в состоянии льда была обнаружена в марсианском грунте космическим аппаратом НАСА Феникс . В то же время собранные марсоходами Спирит и Opportunity геологические данные позволяют предположить, что в далёком прошлом вода покрывала значительную часть поверхности Марса. Наблюдения в течение последнего десятилетия позволили обнаружить в некоторых местах на поверхности Марса слабую гейзерную активность. По наблюдениям с космического аппарата Mars Global Surveyor , некоторые части южной полярной шапки Марса постепенно отступают.'),\n",
       "  Document(page_content='Оптические свойства воды оцениваются по её прозрачности, которая в свою очередь зависит от длины волны излучения, проходящего через воду. Вследствие поглощения оранжевых и красных компонентов света вода приобретает голубоватую окраску. Вода прозрачна только для видимого света и сильно поглощает инфракрасное излучение, поэтому на инфракрасных фотографиях водная поверхность всегда получается чёрной. Ультрафиолетовые лучи легко проходят через воду, поэтому растительные организмы способны развиваться в толще воды и на дне водоёмов, инфракрасные лучи проникают только в поверхностный слой. Вода отражает 5 % солнечных лучей, в то время как снег — около 85 %. Под лёд океана проникает только 2 % солнечного света.'),\n",
       "  Document(page_content='Концентрация инертных газов, аргона, криптона и ксенона, превышает их количество на Солнце (см. таблицу), а концентрация неона явно меньше. Присутствует незначительное количество простых углеводородов: этана, ацетилена и диацетилена, — которые формируются под воздействием солнечной ультрафиолетовой радиации и заряженных частиц, прибывающих из магнитосферы Юпитера. Диоксид углерода, моноксид углерода и вода в верхней части атмосферы, как полагают, своим присутствием обязаны столкновениям с атмосферой Юпитера комет, таких, например, как комета Шумейкеров-Леви 9. Вода не может прибывать из тропосферы, потому что тропопауза, действующая как холодная ловушка, эффективно препятствует поднятию воды до уровня стратосферы.'),\n",
       "  Document(page_content='Вода́ (оксид водорода) — бинарное неорганическое соединение с химической формулой Н2O. Молекула воды состоит из двух атомов водорода и одного — кислорода, которые соединены между собой ковалентной связью. При нормальных условиях представляет собой прозрачную жидкость, не имеющую цвета (при малой толщине слоя), запаха и вкуса. В твёрдом состоянии называется льдом (кристаллы льда могут образовывать снег или иней), а в газообразном — водяным паром. Вода также может существовать в виде жидких кристаллов (на гидрофильных поверхностях). Составляет приблизительно около 0,05 % массы Земли.'),\n",
       "  Document(page_content='друг другу; друг (о, в) друге; один (у, за, на, из, из-под, для) другого; друг (у, за, перед) дружкой; друг (у, за, на, из, из-под, для) друга; друг (с, за, над, под, перед) другом; друг (о, в) друге; один (у, за, на, из, для) другого; один (в, за, на) один; один к одному (другому); один (в, за, на) один; друг (с, за, под, перед) дружкой; друг (у, из, из-под) дружки; друг на дружке; раз за (на) раз[ом]; от раза к разу; раз к разу; от случая к случаю; каждый (у, за, на, из, для) каждого; каждый за (над, под, перед) каждым. каждый в каждом; тот (у, в, за, на, из, из-под, для) [э]того; от того к [э]тому; в конце концов; от начала к началу; от первого ко второму; от противного к противному;')]}"
      ]
     },
     "execution_count": 37,
     "metadata": {},
     "output_type": "execute_result"
    }
   ],
   "source": [
    "qa.invoke({\"query\": \"Что такое вода?\"})"
   ]
  },
  {
   "cell_type": "code",
   "execution_count": null,
   "metadata": {},
   "outputs": [],
   "source": []
  }
 ],
 "metadata": {
  "kernelspec": {
   "display_name": "Python 3",
   "language": "python",
   "name": "python3"
  },
  "language_info": {
   "codemirror_mode": {
    "name": "ipython",
    "version": 3
   },
   "file_extension": ".py",
   "mimetype": "text/x-python",
   "name": "python",
   "nbconvert_exporter": "python",
   "pygments_lexer": "ipython3",
   "version": "3.11.5"
  },
  "orig_nbformat": 4
 },
 "nbformat": 4,
 "nbformat_minor": 2
}
