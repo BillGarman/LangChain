{
 "cells": [
  {
   "cell_type": "markdown",
   "id": "78b45321-7740-4399-b2ad-459811131de3",
   "metadata": {},
   "source": [
    "# Get log probs\n",
    "\n",
    "Certain chat models can be configured to return token-level log probabilities. This guide walks through how to get logprobs for a number of models."
   ]
  },
  {
   "cell_type": "code",
   "execution_count": 1,
   "id": "fe5143fe-84d3-4a91-bae8-629807bbe2cb",
   "metadata": {},
   "outputs": [
    {
     "name": "stdout",
     "output_type": "stream",
     "text": [
      "Note: you may need to restart the kernel to use updated packages.\n"
     ]
    }
   ],
   "source": [
    "%pip install -qU langchain-openai"
   ]
  },
  {
   "cell_type": "code",
   "execution_count": 1,
   "id": "d1bf0a9a-e402-4931-ab53-32899f8e0326",
   "metadata": {},
   "outputs": [],
   "source": [
    "from langchain_openai import ChatOpenAI\n",
    "\n",
    "# For the OpenAI API to return log probabilities we need to configure the `logprobs` param\n",
    "llm = ChatOpenAI(model=\"gpt-3.5-turbo-0125\").bind(logprobs=True)\n",
    "\n",
    "msg = llm.invoke((\"human\", \"how are you today\"))"
   ]
  },
  {
   "cell_type": "code",
   "execution_count": 2,
   "id": "e3e17872-62df-4b17-a8d4-4cae713a301b",
   "metadata": {},
   "outputs": [
    {
     "data": {
      "text/plain": [
       "[{'token': 'I', 'bytes': [73], 'logprob': -0.21393852, 'top_logprobs': []},\n",
       " {'token': \"'m\",\n",
       "  'bytes': [39, 109],\n",
       "  'logprob': -0.3048596,\n",
       "  'top_logprobs': []},\n",
       " {'token': ' just',\n",
       "  'bytes': [32, 106, 117, 115, 116],\n",
       "  'logprob': -0.23057781,\n",
       "  'top_logprobs': []},\n",
       " {'token': ' a',\n",
       "  'bytes': [32, 97],\n",
       "  'logprob': -0.0018863997,\n",
       "  'top_logprobs': []},\n",
       " {'token': ' computer',\n",
       "  'bytes': [32, 99, 111, 109, 112, 117, 116, 101, 114],\n",
       "  'logprob': -0.049347106,\n",
       "  'top_logprobs': []}]"
      ]
     },
     "execution_count": 2,
     "metadata": {},
     "output_type": "execute_result"
    }
   ],
   "source": [
    "msg.additional_kwargs[\"logprobs\"][\"content\"][:5]"
   ]
  },
  {
   "cell_type": "code",
   "execution_count": 3,
   "id": "4bfaf309-3b23-43b7-b333-01fc4848992d",
   "metadata": {},
   "outputs": [
    {
     "name": "stdout",
     "output_type": "stream",
     "text": [
      "[]\n",
      "[{'token': 'I', 'bytes': [73], 'logprob': -0.21393852, 'top_logprobs': []}]\n",
      "[{'token': 'I', 'bytes': [73], 'logprob': -0.21393852, 'top_logprobs': []}, {'token': \"'m\", 'bytes': [39, 109], 'logprob': -0.34287196, 'top_logprobs': []}]\n",
      "[{'token': 'I', 'bytes': [73], 'logprob': -0.21393852, 'top_logprobs': []}, {'token': \"'m\", 'bytes': [39, 109], 'logprob': -0.34287196, 'top_logprobs': []}, {'token': ' an', 'bytes': [32, 97, 110], 'logprob': -2.468603, 'top_logprobs': []}]\n",
      "[{'token': 'I', 'bytes': [73], 'logprob': -0.21393852, 'top_logprobs': []}, {'token': \"'m\", 'bytes': [39, 109], 'logprob': -0.34287196, 'top_logprobs': []}, {'token': ' an', 'bytes': [32, 97, 110], 'logprob': -2.468603, 'top_logprobs': []}, {'token': ' AI', 'bytes': [32, 65, 73], 'logprob': -0.016838558, 'top_logprobs': []}]\n"
     ]
    }
   ],
   "source": [
    "ct = 0\n",
    "full = None\n",
    "for chunk in llm.stream((\"human\", \"how are you today\")):\n",
    "    if ct < 5:\n",
    "        full = chunk if full is None else full + chunk\n",
    "        print(full.additional_kwargs[\"logprobs\"][\"content\"])\n",
    "    else:\n",
    "        break\n",
    "    ct += 1"
   ]
  },
  {
   "cell_type": "code",
   "execution_count": 17,
   "id": "a70f5c5f-04b8-4be2-9c5a-664b6a38dc8f",
   "metadata": {},
   "outputs": [
    {
     "name": "stdout",
     "output_type": "stream",
     "text": [
      "content='' additional_kwargs={'tool_calls': [{'index': 0, 'id': 'call_huirg8sWQiT0AR1wqmgs5sqE', 'function': {'arguments': '', 'name': 'multiply'}, 'type': 'function'}]}\n",
      "content='' additional_kwargs={'tool_calls': [{'index': 0, 'id': None, 'function': {'arguments': '{\"', 'name': None}, 'type': None}]}\n",
      "content='' additional_kwargs={'tool_calls': [{'index': 0, 'id': None, 'function': {'arguments': 'a', 'name': None}, 'type': None}]}\n",
      "content='' additional_kwargs={'tool_calls': [{'index': 0, 'id': None, 'function': {'arguments': '\":', 'name': None}, 'type': None}]}\n",
      "content='' additional_kwargs={'tool_calls': [{'index': 0, 'id': None, 'function': {'arguments': '3', 'name': None}, 'type': None}]}\n",
      "content='' additional_kwargs={'tool_calls': [{'index': 0, 'id': None, 'function': {'arguments': ',\"', 'name': None}, 'type': None}]}\n",
      "content='' additional_kwargs={'tool_calls': [{'index': 0, 'id': None, 'function': {'arguments': 'b', 'name': None}, 'type': None}]}\n",
      "content='' additional_kwargs={'tool_calls': [{'index': 0, 'id': None, 'function': {'arguments': '\":', 'name': None}, 'type': None}]}\n",
      "content='' additional_kwargs={'tool_calls': [{'index': 0, 'id': None, 'function': {'arguments': '5', 'name': None}, 'type': None}]}\n",
      "content='' additional_kwargs={'tool_calls': [{'index': 0, 'id': None, 'function': {'arguments': '}', 'name': None}, 'type': None}]}\n",
      "content='' additional_kwargs={'finish_reason': 'tool_calls'}\n"
     ]
    }
   ],
   "source": [
    "def multiply(a: int, b: int) -> int:\n",
    "    \"\"\"mulitply\"\"\"\n",
    "    return a * b\n",
    "\n",
    "\n",
    "full = None\n",
    "chunks = []\n",
    "for chunk in (\n",
    "    ChatOpenAI(model=\"gpt-3.5-turbo-0125\").bind_tools([multiply]).stream(\"what's 3 * 5\")\n",
    "):\n",
    "    full = chunk if full is None else full + chunk\n",
    "    print(chunk)\n",
    "    # print(full)"
   ]
  },
  {
   "cell_type": "code",
   "execution_count": 6,
   "id": "7e371910-12da-48e5-a2e3-d0f50b7a2036",
   "metadata": {},
   "outputs": [
    {
     "data": {
      "text/plain": [
       "AIMessageChunk(content='', additional_kwargs={'tool_calls': [{'index': 0, 'id': 'call_LQXQMkkgUVr9FNJpgCXfeHhI', 'function': {'arguments': '{\"aa\":\":33,\",\"bb\":\":55}}', 'name': 'multiply'}, 'type': 'function'}], 'finish_reason': 'tool_calls'})"
      ]
     },
     "execution_count": 6,
     "metadata": {},
     "output_type": "execute_result"
    }
   ],
   "source": [
    "full"
   ]
  },
  {
   "cell_type": "code",
   "execution_count": 7,
   "id": "d5ec0d33-4ba9-4b39-8ad0-9ded1c1c54a1",
   "metadata": {},
   "outputs": [
    {
     "data": {
      "text/plain": [
       "{'tool_calls': [{'index': 0,\n",
       "   'id': 'call_LQXQMkkgUVr9FNJpgCXfeHhI',\n",
       "   'function': {'arguments': '{\"a', 'name': 'multiply'},\n",
       "   'type': 'function'}]}"
      ]
     },
     "execution_count": 7,
     "metadata": {},
     "output_type": "execute_result"
    }
   ],
   "source": [
    "from langchain_core.utils._merge import merge_dicts\n",
    "\n",
    "merge_dicts(\n",
    "    {\n",
    "        \"tool_calls\": [\n",
    "            {\n",
    "                \"index\": 0,\n",
    "                \"id\": \"call_LQXQMkkgUVr9FNJpgCXfeHhI\",\n",
    "                \"function\": {\"arguments\": '{\"', \"name\": \"multiply\"},\n",
    "                \"type\": \"function\",\n",
    "            }\n",
    "        ]\n",
    "    },\n",
    "    {\n",
    "        \"tool_calls\": [\n",
    "            {\n",
    "                \"index\": 0,\n",
    "                \"id\": None,\n",
    "                \"function\": {\"arguments\": \"a\", \"name\": None},\n",
    "                \"type\": None,\n",
    "            }\n",
    "        ]\n",
    "    },\n",
    ")"
   ]
  },
  {
   "cell_type": "code",
   "execution_count": 8,
   "id": "33481855-ff34-4a56-9845-20c0d2b8e18a",
   "metadata": {},
   "outputs": [
    {
     "data": {
      "text/plain": [
       "{'tool_calls': [{'index': 0,\n",
       "   'id': 'call_LQXQMkkgUVr9FNJpgCXfeHhI',\n",
       "   'function': {'arguments': '{\"a\":', 'name': 'multiply'},\n",
       "   'type': 'function'}]}"
      ]
     },
     "execution_count": 8,
     "metadata": {},
     "output_type": "execute_result"
    }
   ],
   "source": [
    "merge_dicts(\n",
    "    {\n",
    "        \"tool_calls\": [\n",
    "            {\n",
    "                \"index\": 0,\n",
    "                \"id\": \"call_LQXQMkkgUVr9FNJpgCXfeHhI\",\n",
    "                \"function\": {\"arguments\": '{\"a', \"name\": \"multiply\"},\n",
    "                \"type\": \"function\",\n",
    "            }\n",
    "        ]\n",
    "    },\n",
    "    {\n",
    "        \"tool_calls\": [\n",
    "            {\n",
    "                \"index\": 0,\n",
    "                \"id\": None,\n",
    "                \"function\": {\"arguments\": '\":', \"name\": None},\n",
    "                \"type\": None,\n",
    "            }\n",
    "        ]\n",
    "    },\n",
    ")"
   ]
  },
  {
   "cell_type": "code",
   "execution_count": 12,
   "id": "3e4c8dad-e305-41cf-9062-a33c17a8c14a",
   "metadata": {},
   "outputs": [
    {
     "data": {
      "text/plain": [
       "AIMessageChunk(content='', additional_kwargs={'tool_calls': [{'index': 0, 'id': 'call_LQXQMkkgUVr9FNJpgCXfeHhI', 'function': {'arguments': '{\"a\":', 'name': 'multiply'}, 'type': 'function'}]})"
      ]
     },
     "execution_count": 12,
     "metadata": {},
     "output_type": "execute_result"
    }
   ],
   "source": [
    "from langchain_core.messages import AIMessageChunk\n",
    "\n",
    "(\n",
    "    AIMessageChunk(\n",
    "        \"\",\n",
    "        additional_kwargs={\n",
    "            \"tool_calls\": [\n",
    "                {\n",
    "                    \"index\": 0,\n",
    "                    \"id\": \"call_LQXQMkkgUVr9FNJpgCXfeHhI\",\n",
    "                    \"function\": {\"arguments\": '{\"a', \"name\": \"multiply\"},\n",
    "                    \"type\": \"function\",\n",
    "                }\n",
    "            ]\n",
    "        },\n",
    "    )\n",
    "    + AIMessageChunk(\n",
    "        \"\",\n",
    "        additional_kwargs={\n",
    "            \"tool_calls\": [\n",
    "                {\n",
    "                    \"index\": 0,\n",
    "                    \"id\": None,\n",
    "                    \"function\": {\"arguments\": '\":', \"name\": None},\n",
    "                    \"type\": None,\n",
    "                }\n",
    "            ]\n",
    "        },\n",
    "    )\n",
    ")"
   ]
  },
  {
   "cell_type": "code",
   "execution_count": 19,
   "id": "7aae1391-49e4-4813-9632-13c29d541b2a",
   "metadata": {},
   "outputs": [],
   "source": []
  },
  {
   "cell_type": "code",
   "execution_count": 21,
   "id": "c1ccb869-674a-442e-946a-833498f917ed",
   "metadata": {},
   "outputs": [
    {
     "name": "stdout",
     "output_type": "stream",
     "text": [
      "content=''\n",
      "content='' additional_kwargs={'tool_calls': [{'index': 0, 'id': 'call_ditdM856HaUDKioBsVuMk7iq', 'function': {'arguments': '', 'name': 'multiply'}, 'type': 'function'}]}\n",
      "content='' additional_kwargs={'tool_calls': [{'index': 0, 'id': None, 'function': {'arguments': '{\"a\"', 'name': None}, 'type': None}]}\n",
      "content='' additional_kwargs={'tool_calls': [{'index': 0, 'id': None, 'function': {'arguments': ': 3, ', 'name': None}, 'type': None}]}\n",
      "content='' additional_kwargs={'tool_calls': [{'index': 0, 'id': None, 'function': {'arguments': '\"b\": 5', 'name': None}, 'type': None}]}\n",
      "content='' additional_kwargs={'tool_calls': [{'index': 0, 'id': None, 'function': {'arguments': '}', 'name': None}, 'type': None}]}\n",
      "content='' additional_kwargs={'finish_reason': 'tool_calls'}\n"
     ]
    }
   ],
   "source": [
    "for chunk in (\n",
    "    ChatOpenAI(model=\"gpt-3.5-turbo-0125\").bind_tools([multiply]).stream(\"what's 3 * 5\")\n",
    "):\n",
    "    print(chunk)"
   ]
  },
  {
   "cell_type": "code",
   "execution_count": 22,
   "id": "aa118dcd-eb09-4c85-afcf-4c761635d48c",
   "metadata": {},
   "outputs": [
    {
     "data": {
      "text/plain": [
       "[AIMessageChunk(content='', additional_kwargs={'tool_calls': [{'index': 0, 'id': 'call_h9NhPi6irvmQAxOXLGw7CF7d', 'function': {'arguments': '{\"a\":3,\"b\":5}', 'name': 'multiply'}, 'type': 'function'}]}),\n",
       " AIMessageChunk(content='', additional_kwargs={'tool_calls': [{'index': 0, 'id': None, 'function': {'arguments': '{\"', 'name': None}, 'type': None}]}),\n",
       " AIMessageChunk(content='', additional_kwargs={'tool_calls': [{'index': 0, 'id': None, 'function': {'arguments': 'a', 'name': None}, 'type': None}]}),\n",
       " AIMessageChunk(content='', additional_kwargs={'tool_calls': [{'index': 0, 'id': None, 'function': {'arguments': '\":', 'name': None}, 'type': None}]}),\n",
       " AIMessageChunk(content='', additional_kwargs={'tool_calls': [{'index': 0, 'id': None, 'function': {'arguments': '3', 'name': None}, 'type': None}]}),\n",
       " AIMessageChunk(content='', additional_kwargs={'tool_calls': [{'index': 0, 'id': None, 'function': {'arguments': ',\"', 'name': None}, 'type': None}]}),\n",
       " AIMessageChunk(content='', additional_kwargs={'tool_calls': [{'index': 0, 'id': None, 'function': {'arguments': 'b', 'name': None}, 'type': None}]}),\n",
       " AIMessageChunk(content='', additional_kwargs={'tool_calls': [{'index': 0, 'id': None, 'function': {'arguments': '\":', 'name': None}, 'type': None}]}),\n",
       " AIMessageChunk(content='', additional_kwargs={'tool_calls': [{'index': 0, 'id': None, 'function': {'arguments': '5', 'name': None}, 'type': None}]}),\n",
       " AIMessageChunk(content='', additional_kwargs={'tool_calls': [{'index': 0, 'id': None, 'function': {'arguments': '}', 'name': None}, 'type': None}]}),\n",
       " AIMessageChunk(content='', additional_kwargs={'finish_reason': 'tool_calls'})]"
      ]
     },
     "execution_count": 22,
     "metadata": {},
     "output_type": "execute_result"
    }
   ],
   "source": [
    "chunks = list(\n",
    "    ChatOpenAI(model=\"gpt-3.5-turbo-0125\").bind_tools([multiply]).stream(\"what's 3 * 5\")\n",
    ")\n",
    "chunks"
   ]
  },
  {
   "cell_type": "code",
   "execution_count": 24,
   "id": "23fb8493-b74a-429b-8de4-3b8b0edc6731",
   "metadata": {},
   "outputs": [
    {
     "data": {
      "text/plain": [
       "AIMessageChunk(content='', additional_kwargs={'tool_calls': [{'index': 0, 'id': None, 'function': {'arguments': '{\"aa\":', 'name': None}, 'type': None}]})"
      ]
     },
     "execution_count": 24,
     "metadata": {},
     "output_type": "execute_result"
    }
   ],
   "source": [
    "chunks[1] + chunks[2] + chunks[3]"
   ]
  }
 ],
 "metadata": {
  "kernelspec": {
   "display_name": "poetry-venv-2",
   "language": "python",
   "name": "poetry-venv-2"
  },
  "language_info": {
   "codemirror_mode": {
    "name": "ipython",
    "version": 3
   },
   "file_extension": ".py",
   "mimetype": "text/x-python",
   "name": "python",
   "nbconvert_exporter": "python",
   "pygments_lexer": "ipython3",
   "version": "3.9.1"
  }
 },
 "nbformat": 4,
 "nbformat_minor": 5
}
