{
 "cells": [
  {
   "cell_type": "markdown",
   "id": "78b45321-7740-4399-b2ad-459811131de3",
   "metadata": {},
   "source": [
    "# Get log probs\n",
    "\n",
    "Certain chat models can be configured to return token-level log probabilities. This guide walks through how to get logprobs for a number of models."
   ]
  },
  {
   "cell_type": "code",
   "execution_count": 1,
   "id": "fe5143fe-84d3-4a91-bae8-629807bbe2cb",
   "metadata": {},
   "outputs": [
    {
     "name": "stdout",
     "output_type": "stream",
     "text": [
      "Note: you may need to restart the kernel to use updated packages.\n"
     ]
    }
   ],
   "source": [
    "%pip install -qU langchain-openai"
   ]
  },
  {
   "cell_type": "code",
   "execution_count": 1,
   "id": "d1bf0a9a-e402-4931-ab53-32899f8e0326",
   "metadata": {},
   "outputs": [],
   "source": [
    "from langchain_openai import ChatOpenAI\n",
    "\n",
    "# For the OpenAI API to return log probabilities we need to configure the `logprobs` param\n",
    "llm = ChatOpenAI(model=\"gpt-3.5-turbo-0125\").bind(logprobs=True)\n",
    "\n",
    "msg = llm.invoke((\"human\", \"how are you today\"))"
   ]
  },
  {
   "cell_type": "code",
   "execution_count": 2,
   "id": "e3e17872-62df-4b17-a8d4-4cae713a301b",
   "metadata": {},
   "outputs": [
    {
     "data": {
      "text/plain": [
       "[{'token': 'I', 'bytes': [73], 'logprob': -0.21393852, 'top_logprobs': []},\n",
       " {'token': \"'m\",\n",
       "  'bytes': [39, 109],\n",
       "  'logprob': -0.34835616,\n",
       "  'top_logprobs': []},\n",
       " {'token': ' just',\n",
       "  'bytes': [32, 106, 117, 115, 116],\n",
       "  'logprob': -0.19935185,\n",
       "  'top_logprobs': []},\n",
       " {'token': ' a',\n",
       "  'bytes': [32, 97],\n",
       "  'logprob': -0.001974669,\n",
       "  'top_logprobs': []},\n",
       " {'token': ' computer',\n",
       "  'bytes': [32, 99, 111, 109, 112, 117, 116, 101, 114],\n",
       "  'logprob': -0.05223269,\n",
       "  'top_logprobs': []}]"
      ]
     },
     "execution_count": 2,
     "metadata": {},
     "output_type": "execute_result"
    }
   ],
   "source": [
    "msg.additional_kwargs[\"logprobs\"][\"content\"][:5]"
   ]
  },
  {
   "cell_type": "code",
   "execution_count": 3,
   "id": "4bfaf309-3b23-43b7-b333-01fc4848992d",
   "metadata": {},
   "outputs": [
    {
     "name": "stdout",
     "output_type": "stream",
     "text": [
      "[]\n",
      "[{'token': 'I', 'bytes': [73], 'logprob': -0.21393852, 'top_logprobs': []}]\n",
      "[{'token': 'I', 'bytes': [73], 'logprob': -0.21393852, 'top_logprobs': []}, {'token': \"'m\", 'bytes': [39, 109], 'logprob': -0.34287196, 'top_logprobs': []}]\n",
      "[{'token': 'I', 'bytes': [73], 'logprob': -0.21393852, 'top_logprobs': []}, {'token': \"'m\", 'bytes': [39, 109], 'logprob': -0.34287196, 'top_logprobs': []}, {'token': ' just', 'bytes': [32, 106, 117, 115, 116], 'logprob': -0.18108529, 'top_logprobs': []}]\n",
      "[{'token': 'I', 'bytes': [73], 'logprob': -0.21393852, 'top_logprobs': []}, {'token': \"'m\", 'bytes': [39, 109], 'logprob': -0.34287196, 'top_logprobs': []}, {'token': ' just', 'bytes': [32, 106, 117, 115, 116], 'logprob': -0.18108529, 'top_logprobs': []}, {'token': ' a', 'bytes': [32, 97], 'logprob': -0.001870452, 'top_logprobs': []}]\n"
     ]
    }
   ],
   "source": [
    "ct = 0\n",
    "full = None\n",
    "for chunk in llm.stream((\"human\", \"how are you today\")):\n",
    "    if ct < 5:\n",
    "        full = chunk if full is None else full + chunk\n",
    "        print(full.additional_kwargs[\"logprobs\"][\"content\"])\n",
    "    else:\n",
    "        break\n",
    "    ct += 1"
   ]
  },
  {
   "cell_type": "code",
   "execution_count": 5,
   "id": "a70f5c5f-04b8-4be2-9c5a-664b6a38dc8f",
   "metadata": {},
   "outputs": [
    {
     "name": "stdout",
     "output_type": "stream",
     "text": [
      "0: before\n",
      "None\n",
      "1: before\n",
      "{'tool_calls': [{'index': 0, 'id': 'call_dlDKDSkuHREHH3KHJI5gYrRr', 'function': {'arguments': '', 'name': 'multiply'}, 'type': 'function'}]}\n",
      "1: during\n",
      "{'tool_calls': [{'index': 0, 'id': 'call_dlDKDSkuHREHH3KHJI5gYrRr', 'function': {'arguments': '', 'name': 'multiply'}, 'type': 'function'}]} {'tool_calls': [{'index': 0, 'id': None, 'function': {'arguments': '{\"', 'name': None}, 'type': None}]}\n",
      "1: after\n",
      "{'tool_calls': [{'index': 0, 'id': 'call_dlDKDSkuHREHH3KHJI5gYrRr', 'function': {'arguments': '{\"', 'name': 'multiply'}, 'type': 'function'}]}\n",
      "2: before\n",
      "{'tool_calls': [{'index': 0, 'id': 'call_dlDKDSkuHREHH3KHJI5gYrRr', 'function': {'arguments': '{\"{\"', 'name': 'multiply'}, 'type': 'function'}]}\n",
      "2: during\n",
      "{'tool_calls': [{'index': 0, 'id': 'call_dlDKDSkuHREHH3KHJI5gYrRr', 'function': {'arguments': '{\"{\"', 'name': 'multiply'}, 'type': 'function'}]} {'tool_calls': [{'index': 0, 'id': None, 'function': {'arguments': 'a', 'name': None}, 'type': None}]}\n",
      "2: after\n",
      "{'tool_calls': [{'index': 0, 'id': 'call_dlDKDSkuHREHH3KHJI5gYrRr', 'function': {'arguments': '{\"{\"a', 'name': 'multiply'}, 'type': 'function'}]}\n",
      "3: before\n",
      "{'tool_calls': [{'index': 0, 'id': 'call_dlDKDSkuHREHH3KHJI5gYrRr', 'function': {'arguments': '{\"{\"aa', 'name': 'multiply'}, 'type': 'function'}]}\n",
      "3: during\n",
      "{'tool_calls': [{'index': 0, 'id': 'call_dlDKDSkuHREHH3KHJI5gYrRr', 'function': {'arguments': '{\"{\"aa', 'name': 'multiply'}, 'type': 'function'}]} {'tool_calls': [{'index': 0, 'id': None, 'function': {'arguments': '\":', 'name': None}, 'type': None}]}\n",
      "3: after\n",
      "{'tool_calls': [{'index': 0, 'id': 'call_dlDKDSkuHREHH3KHJI5gYrRr', 'function': {'arguments': '{\"{\"aa\":', 'name': 'multiply'}, 'type': 'function'}]}\n",
      "4: before\n",
      "{'tool_calls': [{'index': 0, 'id': 'call_dlDKDSkuHREHH3KHJI5gYrRr', 'function': {'arguments': '{\"{\"aa\":\":', 'name': 'multiply'}, 'type': 'function'}]}\n",
      "4: during\n",
      "{'tool_calls': [{'index': 0, 'id': 'call_dlDKDSkuHREHH3KHJI5gYrRr', 'function': {'arguments': '{\"{\"aa\":\":', 'name': 'multiply'}, 'type': 'function'}]} {'tool_calls': [{'index': 0, 'id': None, 'function': {'arguments': '3', 'name': None}, 'type': None}]}\n",
      "4: after\n",
      "{'tool_calls': [{'index': 0, 'id': 'call_dlDKDSkuHREHH3KHJI5gYrRr', 'function': {'arguments': '{\"{\"aa\":\":3', 'name': 'multiply'}, 'type': 'function'}]}\n",
      "5: before\n",
      "{'tool_calls': [{'index': 0, 'id': 'call_dlDKDSkuHREHH3KHJI5gYrRr', 'function': {'arguments': '{\"{\"aa\":\":33', 'name': 'multiply'}, 'type': 'function'}]}\n",
      "5: during\n",
      "{'tool_calls': [{'index': 0, 'id': 'call_dlDKDSkuHREHH3KHJI5gYrRr', 'function': {'arguments': '{\"{\"aa\":\":33', 'name': 'multiply'}, 'type': 'function'}]} {'tool_calls': [{'index': 0, 'id': None, 'function': {'arguments': ',\"', 'name': None}, 'type': None}]}\n",
      "5: after\n",
      "{'tool_calls': [{'index': 0, 'id': 'call_dlDKDSkuHREHH3KHJI5gYrRr', 'function': {'arguments': '{\"{\"aa\":\":33,\"', 'name': 'multiply'}, 'type': 'function'}]}\n",
      "6: before\n",
      "{'tool_calls': [{'index': 0, 'id': 'call_dlDKDSkuHREHH3KHJI5gYrRr', 'function': {'arguments': '{\"{\"aa\":\":33,\",\"', 'name': 'multiply'}, 'type': 'function'}]}\n",
      "6: during\n",
      "{'tool_calls': [{'index': 0, 'id': 'call_dlDKDSkuHREHH3KHJI5gYrRr', 'function': {'arguments': '{\"{\"aa\":\":33,\",\"', 'name': 'multiply'}, 'type': 'function'}]} {'tool_calls': [{'index': 0, 'id': None, 'function': {'arguments': 'b', 'name': None}, 'type': None}]}\n",
      "6: after\n",
      "{'tool_calls': [{'index': 0, 'id': 'call_dlDKDSkuHREHH3KHJI5gYrRr', 'function': {'arguments': '{\"{\"aa\":\":33,\",\"b', 'name': 'multiply'}, 'type': 'function'}]}\n",
      "7: before\n",
      "{'tool_calls': [{'index': 0, 'id': 'call_dlDKDSkuHREHH3KHJI5gYrRr', 'function': {'arguments': '{\"{\"aa\":\":33,\",\"bb', 'name': 'multiply'}, 'type': 'function'}]}\n",
      "7: during\n",
      "{'tool_calls': [{'index': 0, 'id': 'call_dlDKDSkuHREHH3KHJI5gYrRr', 'function': {'arguments': '{\"{\"aa\":\":33,\",\"bb', 'name': 'multiply'}, 'type': 'function'}]} {'tool_calls': [{'index': 0, 'id': None, 'function': {'arguments': '\":', 'name': None}, 'type': None}]}\n",
      "7: after\n",
      "{'tool_calls': [{'index': 0, 'id': 'call_dlDKDSkuHREHH3KHJI5gYrRr', 'function': {'arguments': '{\"{\"aa\":\":33,\",\"bb\":', 'name': 'multiply'}, 'type': 'function'}]}\n",
      "8: before\n",
      "{'tool_calls': [{'index': 0, 'id': 'call_dlDKDSkuHREHH3KHJI5gYrRr', 'function': {'arguments': '{\"{\"aa\":\":33,\",\"bb\":\":', 'name': 'multiply'}, 'type': 'function'}]}\n",
      "8: during\n",
      "{'tool_calls': [{'index': 0, 'id': 'call_dlDKDSkuHREHH3KHJI5gYrRr', 'function': {'arguments': '{\"{\"aa\":\":33,\",\"bb\":\":', 'name': 'multiply'}, 'type': 'function'}]} {'tool_calls': [{'index': 0, 'id': None, 'function': {'arguments': '5', 'name': None}, 'type': None}]}\n",
      "8: after\n",
      "{'tool_calls': [{'index': 0, 'id': 'call_dlDKDSkuHREHH3KHJI5gYrRr', 'function': {'arguments': '{\"{\"aa\":\":33,\",\"bb\":\":5', 'name': 'multiply'}, 'type': 'function'}]}\n",
      "9: before\n",
      "{'tool_calls': [{'index': 0, 'id': 'call_dlDKDSkuHREHH3KHJI5gYrRr', 'function': {'arguments': '{\"{\"aa\":\":33,\",\"bb\":\":55', 'name': 'multiply'}, 'type': 'function'}]}\n",
      "9: during\n",
      "{'tool_calls': [{'index': 0, 'id': 'call_dlDKDSkuHREHH3KHJI5gYrRr', 'function': {'arguments': '{\"{\"aa\":\":33,\",\"bb\":\":55', 'name': 'multiply'}, 'type': 'function'}]} {'tool_calls': [{'index': 0, 'id': None, 'function': {'arguments': '}', 'name': None}, 'type': None}]}\n",
      "9: after\n",
      "{'tool_calls': [{'index': 0, 'id': 'call_dlDKDSkuHREHH3KHJI5gYrRr', 'function': {'arguments': '{\"{\"aa\":\":33,\",\"bb\":\":55}', 'name': 'multiply'}, 'type': 'function'}]}\n",
      "10: before\n",
      "{'tool_calls': [{'index': 0, 'id': 'call_dlDKDSkuHREHH3KHJI5gYrRr', 'function': {'arguments': '{\"{\"aa\":\":33,\",\"bb\":\":55}}', 'name': 'multiply'}, 'type': 'function'}]}\n",
      "10: during\n",
      "{'tool_calls': [{'index': 0, 'id': 'call_dlDKDSkuHREHH3KHJI5gYrRr', 'function': {'arguments': '{\"{\"aa\":\":33,\",\"bb\":\":55}}', 'name': 'multiply'}, 'type': 'function'}]} {'finish_reason': 'tool_calls'}\n",
      "10: after\n",
      "{'tool_calls': [{'index': 0, 'id': 'call_dlDKDSkuHREHH3KHJI5gYrRr', 'function': {'arguments': '{\"{\"aa\":\":33,\",\"bb\":\":55}}', 'name': 'multiply'}, 'type': 'function'}], 'finish_reason': 'tool_calls'}\n"
     ]
    }
   ],
   "source": [
    "def multiply(a: int, b: int) -> int:\n",
    "    \"\"\"mulitply\"\"\"\n",
    "    return a * b\n",
    "\n",
    "\n",
    "full = None\n",
    "llm_with_tools = ChatOpenAI(model=\"gpt-3.5-turbo-0125\").bind_tools([multiply])\n",
    "i = 0\n",
    "for chunk in llm_with_tools.stream(\"what's 3 * 5\"):\n",
    "    print(f\"{i}: before\")\n",
    "    print(full.additional_kwargs if full else None)\n",
    "    if full is None:\n",
    "        full = chunk\n",
    "    else:\n",
    "        print(f\"{i}: during\")\n",
    "        print(full.additional_kwargs, chunk.additional_kwargs)\n",
    "\n",
    "        full += chunk.copy()\n",
    "        print(f\"{i}: after\")\n",
    "        print(full.additional_kwargs)\n",
    "\n",
    "    # full = chunk if full is None else full + chunk\n",
    "    # print(chunk)\n",
    "    # print(full)\n",
    "    i += 1"
   ]
  },
  {
   "cell_type": "code",
   "execution_count": 7,
   "id": "c1ccb869-674a-442e-946a-833498f917ed",
   "metadata": {},
   "outputs": [
    {
     "name": "stdout",
     "output_type": "stream",
     "text": [
      "content='' additional_kwargs={'tool_calls': [{'index': 0, 'id': 'call_WHQtpoFThe9DNqknMLLzf4mb', 'function': {'arguments': '', 'name': 'multiply'}, 'type': 'function'}]}\n",
      "content='' additional_kwargs={'tool_calls': [{'index': 0, 'id': None, 'function': {'arguments': '{\"', 'name': None}, 'type': None}]}\n",
      "content='' additional_kwargs={'tool_calls': [{'index': 0, 'id': None, 'function': {'arguments': 'a', 'name': None}, 'type': None}]}\n",
      "content='' additional_kwargs={'tool_calls': [{'index': 0, 'id': None, 'function': {'arguments': '\":', 'name': None}, 'type': None}]}\n",
      "content='' additional_kwargs={'tool_calls': [{'index': 0, 'id': None, 'function': {'arguments': '3', 'name': None}, 'type': None}]}\n",
      "content='' additional_kwargs={'tool_calls': [{'index': 0, 'id': None, 'function': {'arguments': ',\"', 'name': None}, 'type': None}]}\n",
      "content='' additional_kwargs={'tool_calls': [{'index': 0, 'id': None, 'function': {'arguments': 'b', 'name': None}, 'type': None}]}\n",
      "content='' additional_kwargs={'tool_calls': [{'index': 0, 'id': None, 'function': {'arguments': '\":', 'name': None}, 'type': None}]}\n",
      "content='' additional_kwargs={'tool_calls': [{'index': 0, 'id': None, 'function': {'arguments': '5', 'name': None}, 'type': None}]}\n",
      "content='' additional_kwargs={'tool_calls': [{'index': 0, 'id': None, 'function': {'arguments': '}', 'name': None}, 'type': None}]}\n",
      "content='' additional_kwargs={'finish_reason': 'tool_calls'}\n"
     ]
    }
   ],
   "source": [
    "first_chunk = None\n",
    "full = None\n",
    "for chunk in (\n",
    "    ChatOpenAI(model=\"gpt-3.5-turbo-0125\").bind_tools([multiply]).stream(\"what's 3 * 5\")\n",
    "):\n",
    "    first_chunk = chunk if first_chunk is None else first_chunk\n",
    "    print(chunk)\n",
    "    full = chunk if full is None else full + chunk"
   ]
  },
  {
   "cell_type": "code",
   "execution_count": 10,
   "id": "316d6282-6def-49d7-9ff1-b4c74b3c84d6",
   "metadata": {},
   "outputs": [
    {
     "data": {
      "text/plain": [
       "AIMessageChunk(content='', additional_kwargs={'tool_calls': [{'index': 0, 'id': 'call_WHQtpoFThe9DNqknMLLzf4mb', 'function': {'arguments': '{\"{\"aa\":\":33,\",\"bb\":\":55}}', 'name': 'multiply'}, 'type': 'function'}]})"
      ]
     },
     "execution_count": 10,
     "metadata": {},
     "output_type": "execute_result"
    }
   ],
   "source": [
    "first_chunk"
   ]
  },
  {
   "cell_type": "code",
   "execution_count": 18,
   "id": "8660cc4f-e70d-4615-ac2f-7d04721c7a26",
   "metadata": {},
   "outputs": [
    {
     "data": {
      "text/plain": [
       "{'tool_calls': [{'index': 0,\n",
       "   'id': 'call_WHQtpoFThe9DNqknMLLzf4mb',\n",
       "   'function': {'arguments': '{\"{\"aa\":\":33,\",\"bb\":\":55}}', 'name': 'multiply'},\n",
       "   'type': 'function'}]}"
      ]
     },
     "execution_count": 18,
     "metadata": {},
     "output_type": "execute_result"
    }
   ],
   "source": [
    "first_chunk.additional_kwargs"
   ]
  },
  {
   "cell_type": "code",
   "execution_count": 16,
   "id": "c5a38f42-7448-4d6d-9e04-c6baa6e59f5a",
   "metadata": {},
   "outputs": [
    {
     "data": {
      "text/plain": [
       "{'tool_calls': [{'index': 0,\n",
       "   'id': 'call_WHQtpoFThe9DNqknMLLzf4mb',\n",
       "   'function': {'arguments': '{\"{\"aa\":\":33,\",\"bb\":\":55}}', 'name': 'multiply'},\n",
       "   'type': 'function'}],\n",
       " 'finish_reason': 'tool_calls'}"
      ]
     },
     "execution_count": 16,
     "metadata": {},
     "output_type": "execute_result"
    }
   ],
   "source": [
    "full.additional_kwargs"
   ]
  }
 ],
 "metadata": {
  "kernelspec": {
   "display_name": "poetry-venv-2",
   "language": "python",
   "name": "poetry-venv-2"
  },
  "language_info": {
   "codemirror_mode": {
    "name": "ipython",
    "version": 3
   },
   "file_extension": ".py",
   "mimetype": "text/x-python",
   "name": "python",
   "nbconvert_exporter": "python",
   "pygments_lexer": "ipython3",
   "version": "3.9.1"
  }
 },
 "nbformat": 4,
 "nbformat_minor": 5
}
