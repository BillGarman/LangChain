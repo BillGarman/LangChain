{
 "cells": [
  {
   "cell_type": "raw",
   "id": "c7a67d03-07ec-4c56-a5d6-8df8773e42b0",
   "metadata": {},
   "source": [
    "---\n",
    "sidebar_position: 1\n",
    "title: Chat models\n",
    "---"
   ]
  },
  {
   "cell_type": "markdown",
   "id": "a1a454a9-f963-417b-8be0-e60317cd328c",
   "metadata": {},
   "source": [
    ":::info\n",
    "Head to [Integrations](/docs/integrations/chat/) for documentation on built-in integrations with chat model providers.\n",
    ":::\n",
    "\n",
    "Chat models are a variation on language models.\n",
    "While chat models use language models under the hood, the interface they use is a bit different.\n",
    "Rather than using a \"text in, text out\" API, they use an interface where \"chat messages\" are the inputs and outputs.\n",
    "\n",
    "Chat model APIs are fairly new, so we are still figuring out the correct abstractions.\n",
    "\n",
    "## Get started\n",
    "\n",
    "### Setup\n",
    "\n",
    "To start we'll need to install the OpenAI Python package:\n",
    "\n",
    "```bash\n",
    "pip install openai\n",
    "```\n",
    "\n",
    "Accessing the API requires an API key, which you can get by creating an account and heading [here](https://platform.openai.com/account/api-keys). Once we have a key we'll want to set it as an environment variable by running:\n",
    "\n",
    "```bash\n",
    "export OPENAI_API_KEY=\"...\"\n",
    "```\n",
    "If you'd prefer not to set an environment variable you can pass the key in directly via the `openai_api_key` named parameter when initiating the OpenAI LLM class:\n"
   ]
  },
  {
   "cell_type": "code",
   "execution_count": null,
   "id": "e230abb2-bc84-438b-b9ff-dd124acb1375",
   "metadata": {},
   "outputs": [],
   "source": [
    "from langchain.chat_models import ChatOpenAI\n",
    "\n",
    "chat = ChatOpenAI(openai_api_key=\"...\")"
   ]
  },
  {
   "cell_type": "markdown",
   "id": "609bbd5c-e5a1-4166-89e1-d6c52054860d",
   "metadata": {},
   "source": [
    "Otherwise you can initialize without any params:"
   ]
  },
  {
   "cell_type": "code",
   "execution_count": 1,
   "id": "3d9dbf70-2397-4d6b-87ec-3e6d4699f3df",
   "metadata": {},
   "outputs": [],
   "source": [
    "from langchain.chat_models import ChatOpenAI\n",
    "\n",
    "chat = ChatOpenAI()"
   ]
  },
  {
   "cell_type": "markdown",
   "id": "4ca3a777-8641-42fb-9e02-a7770a633d29",
   "metadata": {},
   "source": [
    "### Messages\n",
    "\n",
    "The chat model interface is based around messages rather than raw text.\n",
    "The types of messages currently supported in LangChain are `AIMessage`, `HumanMessage`, `SystemMessage`, and `ChatMessage` -- `ChatMessage` takes in an arbitrary role parameter. Most of the time, you'll just be dealing with `HumanMessage`, `AIMessage`, and `SystemMessage`\n"
   ]
  },
  {
   "cell_type": "markdown",
   "id": "54e5088f-98dd-437e-bac8-99b750946b29",
   "metadata": {},
   "source": [
    "### LCEL\n",
    "\n",
    "Chat models implement the `Runnable` interface, the basic building block of the [LangChain Expression Language (LCEL)](/docs/expression_language/). This means they support `invoke`, `ainvoke`, `stream`, `astream`, `batch`, and `abatch` calls."
   ]
  },
  {
   "cell_type": "markdown",
   "id": "7b289727-3983-43f7-a8b2-dd5582d49b6a",
   "metadata": {},
   "source": [
    "### `__call__`\n",
    "#### Messages in -> message out\n",
    "\n",
    "You can get chat completions by passing one or more messages to the chat model. The response will be a message."
   ]
  },
  {
   "cell_type": "code",
   "execution_count": 2,
   "id": "e3d59f6f-176c-4d63-9b0e-8f3018810ecd",
   "metadata": {},
   "outputs": [
    {
     "data": {
      "text/plain": [
       "AIMessage(content=\"J'adore la programmation.\")"
      ]
     },
     "execution_count": 2,
     "metadata": {},
     "output_type": "execute_result"
    }
   ],
   "source": [
    "from langchain.schema import (\n",
    "    AIMessage,\n",
    "    HumanMessage,\n",
    "    SystemMessage\n",
    ")\n",
    "\n",
    "chat([HumanMessage(content=\"Translate this sentence from English to French: I love programming.\")])"
   ]
  },
  {
   "cell_type": "markdown",
   "id": "ffa2968e-3a7e-4139-a13f-5364e6525d2a",
   "metadata": {},
   "source": [
    "OpenAI's chat model supports multiple messages as input. See [here](https://platform.openai.com/docs/guides/chat/chat-vs-completions) for more information. Here is an example of sending a system and user message to the chat model:"
   ]
  },
  {
   "cell_type": "code",
   "execution_count": 3,
   "id": "89227e01-8d59-4aa2-8530-c1b28a5c4beb",
   "metadata": {},
   "outputs": [
    {
     "data": {
      "text/plain": [
       "AIMessage(content=\"J'adore la programmation.\")"
      ]
     },
     "execution_count": 3,
     "metadata": {},
     "output_type": "execute_result"
    }
   ],
   "source": [
    "messages = [\n",
    "    SystemMessage(content=\"You are a helpful assistant that translates English to French.\"),\n",
    "    HumanMessage(content=\"I love programming.\")\n",
    "]\n",
    "chat(messages)\n"
   ]
  },
  {
   "cell_type": "markdown",
   "id": "2b996c69-fd5d-4889-af4a-19dfd2833021",
   "metadata": {},
   "source": [
    "### `generate`\n",
    "#### Batch calls, richer outputs\n",
    "\n",
    "You can go one step further and generate completions for multiple sets of messages using `generate`. This returns an `LLMResult` with an additional `message` parameter."
   ]
  },
  {
   "cell_type": "code",
   "execution_count": 4,
   "id": "9b610194-5ccd-4c41-8125-24aa7d50ed38",
   "metadata": {},
   "outputs": [
    {
     "data": {
      "text/plain": [
       "LLMResult(generations=[[ChatGeneration(text=\"J'adore programmer.\", generation_info={'finish_reason': 'stop'}, message=AIMessage(content=\"J'adore programmer.\"))], [ChatGeneration(text=\"J'adore l'intelligence artificielle.\", generation_info={'finish_reason': 'stop'}, message=AIMessage(content=\"J'adore l'intelligence artificielle.\"))]], llm_output={'token_usage': {'prompt_tokens': 53, 'completion_tokens': 18, 'total_tokens': 71}, 'model_name': 'gpt-3.5-turbo'}, run=[RunInfo(run_id=UUID('077917a9-026c-47c4-b308-77b37c3a3bfa')), RunInfo(run_id=UUID('0a70a0bf-c599-4f51-932a-c7d42202c984'))])"
      ]
     },
     "execution_count": 4,
     "metadata": {},
     "output_type": "execute_result"
    }
   ],
   "source": [
    "batch_messages = [\n",
    "    [\n",
    "        SystemMessage(content=\"You are a helpful assistant that translates English to French.\"),\n",
    "        HumanMessage(content=\"I love programming.\")\n",
    "    ],\n",
    "    [\n",
    "        SystemMessage(content=\"You are a helpful assistant that translates English to French.\"),\n",
    "        HumanMessage(content=\"I love artificial intelligence.\")\n",
    "    ],\n",
    "]\n",
    "result = chat.generate(batch_messages)\n",
    "result"
   ]
  },
  {
   "cell_type": "markdown",
   "id": "c3c289a4-9e1b-483c-a7f8-7f430da74b1e",
   "metadata": {},
   "source": [
    "You can recover things like token usage from this LLMResult:"
   ]
  },
  {
   "cell_type": "code",
   "execution_count": 5,
   "id": "2ecf2c7e-935f-42c8-9c5f-9ca08e214f40",
   "metadata": {},
   "outputs": [
    {
     "data": {
      "text/plain": [
       "{'token_usage': {'prompt_tokens': 53,\n",
       "  'completion_tokens': 18,\n",
       "  'total_tokens': 71},\n",
       " 'model_name': 'gpt-3.5-turbo'}"
      ]
     },
     "execution_count": 5,
     "metadata": {},
     "output_type": "execute_result"
    }
   ],
   "source": [
    "result.llm_output"
   ]
  }
 ],
 "metadata": {
  "kernelspec": {
   "display_name": "poetry-venv",
   "language": "python",
   "name": "poetry-venv"
  },
  "language_info": {
   "codemirror_mode": {
    "name": "ipython",
    "version": 3
   },
   "file_extension": ".py",
   "mimetype": "text/x-python",
   "name": "python",
   "nbconvert_exporter": "python",
   "pygments_lexer": "ipython3",
   "version": "3.9.1"
  }
 },
 "nbformat": 4,
 "nbformat_minor": 5
}
