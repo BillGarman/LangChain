{
 "cells": [
  {
   "cell_type": "markdown",
   "metadata": {},
   "source": [
    "# Validate template"
   ]
  },
  {
   "cell_type": "markdown",
   "metadata": {},
   "source": [
    "## \n",
    "By default, the validate_template parameter in the Prompt_Template is set to False. The PromptTemplate does not validate the input_variables with the variables inside the template.\n",
    "If you want to enable validation, you can set the parameter, validate_template = True."
   ]
  },
  {
   "cell_type": "code",
   "execution_count": 1,
   "metadata": {},
   "outputs": [],
   "source": [
    "from langchain.prompts import PromptTemplate\n",
    "template = \"I am learning langchain because of {reason}.\"\n",
    "prompt_template = PromptTemplate(template=template,\n",
    "                                 input_variables=[\"reason\", \"foo\"],\n",
    "                                 validate_template=True) # throws an error since validation is being done."
   ]
  },
  {
   "cell_type": "code",
   "execution_count": 7,
   "metadata": {},
   "outputs": [],
   "source": [
    "prompt_template = PromptTemplate(template=template,\n",
    "                                 input_variables=[\"reason\", \"foo\"]) # No error since the validate_template is set to False (default)"
   ]
  },
  {
   "cell_type": "code",
   "execution_count": 8,
   "metadata": {},
   "outputs": [],
   "source": [
    "prompt_template = PromptTemplate(template=template,\n",
    "                                 input_variables=[\"reason\", \"foo\"],\n",
    "                                 validate_template=False) # No error since the validate_template is set to False (default)"
   ]
  },
  {
   "cell_type": "code",
   "execution_count": 12,
   "metadata": {},
   "outputs": [
    {
     "name": "stdout",
     "output_type": "stream",
     "text": [
      "I am learning langchain because of high demand.\n"
     ]
    }
   ],
   "source": [
    "print(prompt_template.format(reason=\"high demand\"))"
   ]
  },
  {
   "cell_type": "code",
   "execution_count": null,
   "metadata": {},
   "outputs": [],
   "source": []
  }
 ],
 "metadata": {
  "kernelspec": {
   "display_name": "base",
   "language": "python",
   "name": "python3"
  },
  "language_info": {
   "codemirror_mode": {
    "name": "ipython",
    "version": 3
   },
   "file_extension": ".py",
   "mimetype": "text/x-python",
   "name": "python",
   "nbconvert_exporter": "python",
   "pygments_lexer": "ipython3",
   "version": "3.11.5"
  }
 },
 "nbformat": 4,
 "nbformat_minor": 2
}
