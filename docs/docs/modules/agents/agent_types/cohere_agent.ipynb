{
 "cells": [
  {
   "cell_type": "raw",
   "metadata": {},
   "source": [
    "---\n",
    "sidebar_position: 0\n",
    "---"
   ]
  },
  {
   "cell_type": "markdown",
   "metadata": {},
   "source": [
    "# Cohere Tools\n",
    "\n",
    "The following notebook goes over how to use the Cohere tools agent:"
   ]
  },
  {
   "cell_type": "markdown",
   "metadata": {},
   "source": [
    "Prerequisites for this notebook:"
   ]
  },
  {
   "cell_type": "code",
   "execution_count": 1,
   "metadata": {},
   "outputs": [
    {
     "name": "stdout",
     "output_type": "stream",
     "text": [
      "Requirement already satisfied: langchain-cohere in /Users/beatrix/Repos/langchain-1/.venv/lib/python3.11/site-packages (0.0.1)\n",
      "Requirement already satisfied: cohere==5.1.1 in /Users/beatrix/Repos/langchain-1/.venv/lib/python3.11/site-packages (from langchain-cohere) (5.1.1)\n",
      "Requirement already satisfied: langchain-core>=0.0.12 in /Users/beatrix/Repos/langchain-1/.venv/lib/python3.11/site-packages (from langchain-cohere) (0.1.33)\n",
      "Requirement already satisfied: httpx>=0.21.2 in /Users/beatrix/Repos/langchain-1/.venv/lib/python3.11/site-packages (from cohere==5.1.1->langchain-cohere) (0.27.0)\n",
      "Requirement already satisfied: pydantic>=1.9.2 in /Users/beatrix/Repos/langchain-1/.venv/lib/python3.11/site-packages (from cohere==5.1.1->langchain-cohere) (2.6.4)\n",
      "Requirement already satisfied: typing_extensions>=4.0.0 in /Users/beatrix/Repos/langchain-1/.venv/lib/python3.11/site-packages (from cohere==5.1.1->langchain-cohere) (4.10.0)\n",
      "Requirement already satisfied: PyYAML>=5.3 in /Users/beatrix/Repos/langchain-1/.venv/lib/python3.11/site-packages (from langchain-core>=0.0.12->langchain-cohere) (6.0.1)\n",
      "Requirement already satisfied: anyio<5,>=3 in /Users/beatrix/Repos/langchain-1/.venv/lib/python3.11/site-packages (from langchain-core>=0.0.12->langchain-cohere) (4.3.0)\n",
      "Requirement already satisfied: jsonpatch<2.0,>=1.33 in /Users/beatrix/Repos/langchain-1/.venv/lib/python3.11/site-packages (from langchain-core>=0.0.12->langchain-cohere) (1.33)\n",
      "Requirement already satisfied: langsmith<0.2.0,>=0.1.0 in /Users/beatrix/Repos/langchain-1/.venv/lib/python3.11/site-packages (from langchain-core>=0.0.12->langchain-cohere) (0.1.24)\n",
      "Requirement already satisfied: packaging<24.0,>=23.2 in /Users/beatrix/Repos/langchain-1/.venv/lib/python3.11/site-packages (from langchain-core>=0.0.12->langchain-cohere) (23.2)\n",
      "Requirement already satisfied: requests<3,>=2 in /Users/beatrix/Repos/langchain-1/.venv/lib/python3.11/site-packages (from langchain-core>=0.0.12->langchain-cohere) (2.31.0)\n",
      "Requirement already satisfied: tenacity<9.0.0,>=8.1.0 in /Users/beatrix/Repos/langchain-1/.venv/lib/python3.11/site-packages (from langchain-core>=0.0.12->langchain-cohere) (8.2.3)\n",
      "Requirement already satisfied: idna>=2.8 in /Users/beatrix/Repos/langchain-1/.venv/lib/python3.11/site-packages (from anyio<5,>=3->langchain-core>=0.0.12->langchain-cohere) (3.6)\n",
      "Requirement already satisfied: sniffio>=1.1 in /Users/beatrix/Repos/langchain-1/.venv/lib/python3.11/site-packages (from anyio<5,>=3->langchain-core>=0.0.12->langchain-cohere) (1.3.1)\n",
      "Requirement already satisfied: certifi in /Users/beatrix/Repos/langchain-1/.venv/lib/python3.11/site-packages (from httpx>=0.21.2->cohere==5.1.1->langchain-cohere) (2024.2.2)\n",
      "Requirement already satisfied: httpcore==1.* in /Users/beatrix/Repos/langchain-1/.venv/lib/python3.11/site-packages (from httpx>=0.21.2->cohere==5.1.1->langchain-cohere) (1.0.4)\n",
      "Requirement already satisfied: h11<0.15,>=0.13 in /Users/beatrix/Repos/langchain-1/.venv/lib/python3.11/site-packages (from httpcore==1.*->httpx>=0.21.2->cohere==5.1.1->langchain-cohere) (0.14.0)\n",
      "Requirement already satisfied: jsonpointer>=1.9 in /Users/beatrix/Repos/langchain-1/.venv/lib/python3.11/site-packages (from jsonpatch<2.0,>=1.33->langchain-core>=0.0.12->langchain-cohere) (2.4)\n",
      "Requirement already satisfied: orjson<4.0.0,>=3.9.14 in /Users/beatrix/Repos/langchain-1/.venv/lib/python3.11/site-packages (from langsmith<0.2.0,>=0.1.0->langchain-core>=0.0.12->langchain-cohere) (3.9.15)\n",
      "Requirement already satisfied: annotated-types>=0.4.0 in /Users/beatrix/Repos/langchain-1/.venv/lib/python3.11/site-packages (from pydantic>=1.9.2->cohere==5.1.1->langchain-cohere) (0.6.0)\n",
      "Requirement already satisfied: pydantic-core==2.16.3 in /Users/beatrix/Repos/langchain-1/.venv/lib/python3.11/site-packages (from pydantic>=1.9.2->cohere==5.1.1->langchain-cohere) (2.16.3)\n",
      "Requirement already satisfied: charset-normalizer<4,>=2 in /Users/beatrix/Repos/langchain-1/.venv/lib/python3.11/site-packages (from requests<3,>=2->langchain-core>=0.0.12->langchain-cohere) (3.3.2)\n",
      "Requirement already satisfied: urllib3<3,>=1.21.1 in /Users/beatrix/Repos/langchain-1/.venv/lib/python3.11/site-packages (from requests<3,>=2->langchain-core>=0.0.12->langchain-cohere) (2.2.1)\n",
      "Requirement already satisfied: wikipedia in /Users/beatrix/Repos/langchain-1/.venv/lib/python3.11/site-packages (1.4.0)\n",
      "Requirement already satisfied: beautifulsoup4 in /Users/beatrix/Repos/langchain-1/.venv/lib/python3.11/site-packages (from wikipedia) (4.12.3)\n",
      "Requirement already satisfied: requests<3.0.0,>=2.0.0 in /Users/beatrix/Repos/langchain-1/.venv/lib/python3.11/site-packages (from wikipedia) (2.31.0)\n",
      "Requirement already satisfied: charset-normalizer<4,>=2 in /Users/beatrix/Repos/langchain-1/.venv/lib/python3.11/site-packages (from requests<3.0.0,>=2.0.0->wikipedia) (3.3.2)\n",
      "Requirement already satisfied: idna<4,>=2.5 in /Users/beatrix/Repos/langchain-1/.venv/lib/python3.11/site-packages (from requests<3.0.0,>=2.0.0->wikipedia) (3.6)\n",
      "Requirement already satisfied: urllib3<3,>=1.21.1 in /Users/beatrix/Repos/langchain-1/.venv/lib/python3.11/site-packages (from requests<3.0.0,>=2.0.0->wikipedia) (2.2.1)\n",
      "Requirement already satisfied: certifi>=2017.4.17 in /Users/beatrix/Repos/langchain-1/.venv/lib/python3.11/site-packages (from requests<3.0.0,>=2.0.0->wikipedia) (2024.2.2)\n",
      "Requirement already satisfied: soupsieve>1.2 in /Users/beatrix/Repos/langchain-1/.venv/lib/python3.11/site-packages (from beautifulsoup4->wikipedia) (2.5)\n",
      "Note: you may need to restart the kernel to use updated packages.\n"
     ]
    }
   ],
   "source": [
    "# install package\n",
    "!pip install -U langchain-cohere\n",
    "%pip install wikipedia"
   ]
  },
  {
   "cell_type": "code",
   "execution_count": 6,
   "metadata": {},
   "outputs": [],
   "source": [
    "from langchain.agents import AgentExecutor\n",
    "from langchain_cohere import create_cohere_tools_agent\n",
    "from langchain.retrievers import WikipediaRetriever\n",
    "from langchain.tools.retriever import create_retriever_tool\n",
    "from langchain_cohere.chat_models import ChatCohere\n",
    "from langchain_core.prompts import ChatPromptTemplate"
   ]
  },
  {
   "cell_type": "markdown",
   "metadata": {},
   "source": [
    "Next we create the prompt template and cohere model"
   ]
  },
  {
   "cell_type": "code",
   "execution_count": 7,
   "metadata": {},
   "outputs": [],
   "source": [
    "# Create the prompt\n",
    "prompt = ChatPromptTemplate.from_template(\n",
    "    \"Write all output in capital letters. {input}\"\n",
    ")\n",
    "\n",
    "# Create the Cohere chat model\n",
    "chat = ChatCohere(cohere_api_key=\"API_KEY\", model=\"command-r\")"
   ]
  },
  {
   "cell_type": "markdown",
   "metadata": {},
   "source": [
    "In this example we use a Wikipedia retrieval tool "
   ]
  },
  {
   "cell_type": "code",
   "execution_count": 8,
   "metadata": {},
   "outputs": [],
   "source": [
    "retriever = WikipediaRetriever()\n",
    "retriever_tool = create_retriever_tool(\n",
    "    retriever,\n",
    "    \"wikipedia\",\n",
    "    \"Search for information on Wikipedia\",\n",
    ")"
   ]
  },
  {
   "cell_type": "markdown",
   "metadata": {},
   "source": [
    "Next, create the cohere tool agent and call with the input"
   ]
  },
  {
   "cell_type": "code",
   "execution_count": 9,
   "metadata": {},
   "outputs": [
    {
     "name": "stdout",
     "output_type": "stream",
     "text": [
      "\n",
      "\n",
      "\u001b[1m> Entering new AgentExecutor chain...\u001b[0m\n",
      "\u001b[32;1m\u001b[1;3mwikipedia\u001b[0m\u001b[36;1m\u001b[1;3mCohere is a Canadian multinational technology company focused on artificial intelligence for the enterprise, specializing in large language models. Cohere was founded in 2019 by Aidan Gomez, Ivan Zhang, and Nick Frosst, and is headquartered in Toronto and San Francisco, with offices in Palo Alto and London.\n",
      "\n",
      "\n",
      "== History ==\n",
      "In 2017, a team of researchers at Google Brain introduced the transformer machine learning architecture in \"Attention Is All You Need,\" which demonstrated state-of-the-art performance on a variety of natural language processing tasks. In 2019, Aiden Gomez, one of its co-authors, along with Nick Frosst, another researcher at Google Brain, founded Cohere with Ivan Zhang, with whom Gomez had done research at FOR.ai. All of the co-founders attended University of Toronto.Gomez is the company's CEO. In December 2022, Martin Kon, the former CFO of YouTube, became president and COO.In November 2021, Google Cloud announced that they would help power Cohere's platform using their robust infrastructure, and Cloud's TPUs would be used by Cohere for the development and deployment of their products.In June 2022, Cohere launched Cohere For AI, a nonprofit research lab and community dedicated to contributing open-source, fundamental machine learning research. It is led by Sara Hooker, a former research scientist at Google Brain.In December 2022, Cohere released a multilingual model for understanding text that would work with over 100 languages, to help users search for documents by meaning instead of with keywords. This type of process was not previously widely available in languages other than English.On June 13, 2023, Oracle announced a partnership with Cohere to provide generative AI services to help organizations automate end-to-end business processes. As a result, Cohere's technology is integrated into Oracle's business applications, including Oracle Fusion Cloud, Oracle NetSuite, and Oracle industry-specific applications. On July 18, 2023, McKinsey announced a collaboration with Cohere, to help organizations integrate generative AI into their operations. In 2023, Cohere collaborated with software company LivePerson to offer customized large language models for businesses.On September 12, 2023, it was announced that Cohere had become one of 15 tech companies to agree to voluntary White House measures on testing, reporting, and research on the risks of AI. On September 27, 2023, it was announced that Cohere had also signed Canada's voluntary code of conduct for AI, to promote the responsible development and management of advanced generative AI systems.\n",
      "\n",
      "\n",
      "== Products ==\n",
      "Considered an alternative to OpenAI, Cohere is focused on generative AI for the enterprise, building technology that businesses can use to deploy chatbots, search engines, copywriting, summarization, and other AI-driven products. Cohere specializes in large language models: AI trained to digest text from an enterprises' internal data or publicly available sources like the internet to understand how to process and respond to prompts with increasing sophistication.The Cohere platform is available through API as a managed service, through platforms such as Amazon SageMaker and Google's Vertex AI. It can be used for tasks such as writing copy, moderating content, classifying data, and extracting information. It is cloud agnostic and not tied to a particular cloud service.Cohere's generative AI technology is embedded into several Oracle products, and its chat capabilities are embedded into Salesforce products.\n",
      "\n",
      "\n",
      "== Funding ==\n",
      "On September 7, 2021, Cohere announced that they had raised $40 million in Series A funding led by Index Ventures; Index Ventures partner Mike Volpi also joined Cohere's board. The round also included Radical Ventures, Section 32, and AI-experts Geoffrey Hinton, Fei-Fei Li, Pieter Abbeel, and Raquel Urtasun.In February 2022, Cohere announced they had raised $125 million in series B funding led by Tiger Global. In June 2023, Cohere raised \n",
      "\n",
      "Aidan Gomez is a British-Canadian computer scientist working in the field of artificial intelligence, with a focus on natural language processing. He is the co-founder and CEO of the technology company Cohere.\n",
      "\n",
      "\n",
      "== Early life and education ==\n",
      "Gomez grew up in Brighton, Ontario. He graduated from the University of Toronto with a bachelor's degree in computer science and mathematics. He was pursuing a PhD in computer science from the University of Oxford. He dropped out to create Cohere.\n",
      "\n",
      "\n",
      "== Career ==\n",
      "In 2017, as a 20 year-old intern at Google Brain, Gomez was one of eight authors of the research paper \"Attention Is All You Need\", which is credited with changing the AI industry and helping lead to the creation of ChatGPT. The paper proposed a novel deep learning architecture called the transformer, that enables machine learning models to analyze large amounts of data for patterns, and then use those patterns to make predictions.  It has been commonly adopted for training large language models and in the development of generative AI. In 2017, Gomez founded FOR.ai, a program to help researchers learn machine learning techniques in a collaborative format, which later became Cohere For AI.As a PhD student, Gomez worked as a machine learning researcher at Google Brain. At that time, he co-authored the paper \"One Model to Learn Them All\" about multi-task learning by a single neural network.In 2019, Gomez left Google Brain to launch Cohere, an enterprise-focused company that helps businesses implement AI into chatbots, search engines, and other products. He is CEO of the company, which has been valued at over $2 billion.Gomez was named to the 2023 Time 100/AI list of the most influential people in the field of artificial intelligence. He and his fellow Cohere founders Ivan Zhang and Nick Frosst were named number 1 on 2023 Maclean's AI Trailblazers Power List.\n",
      "\n",
      "\n",
      "== References ==\n",
      "\n",
      "Cohere Technologies is a telecoms software company based in San Jose, California that develops technology for boosting the network performance of 4G and 5G spectrum in wireless networks. Cohere holds the patents for the Orthogonal Time Frequency Space (OTFS) 2D modulation technique used to improve the performance of 4G and 5G networks and is being considered as a waveform for the future 6G wireless standard.\n",
      "\n",
      "\n",
      "== History ==\n",
      "Cohere Technologies was founded in 2011 by Shlomo Rakib, a serial entrepreneur, and Ronny Hadani, an associate professor of mathematics at the University of Texas, Austin. The pair patented the OTFS waveform in 2010.Ray Dolan, co-founder of Flarion Technologies (acquired by Qualcomm in 2006), joined Cohere Technologies as the company's chairman and CEO in October 2018.Cohere Technologies'  first trials of OFTS with a carrier took place at Telefónica in 2018.In 2018, the company changed its focus to the use of Delay-Doppler-based channel detection, estimation and prediction, as well as precoding software to improve 4G and 5G wireless systems with its Universal Spectrum Multiplier software.In 2020, Cohere Technologies won a GSMA GLOMO award for \"Best Network Software Breakthrough,\" and was also shortlisted for the award in 2023.In February 2023, Cohere announced a collaboration with telecommunications company Mavenir. Cohere will assist Mavenir in its transition to open RAN technology, including OTFS.Cohere co-announced the Multi-G O-RAN initiative in April 2023 in collaboration with Intel, Juniper Networks, Mavenir and VMware. The initiative will provide frameworks and interfaces to support the  coexistence of 4G, 5G, and other waveforms in the future. Carriers supporting the initiative include Vodafone, Telstra, and Bell Canada.Cohere currently holds more than 300 patents relating to 4G, 5G, and OTFS.Co-founder Shlomo Rakib currently serves as Cohere's CTO.\n",
      "\n",
      "\n",
      "== Products ==\n",
      "Announced in 2021, Cohere's  Universal Spectrum Multiplier (USM) software is designed to boost the performance of  4G and 5G FDD or TDD networks and can be integrated by network equipment suppliers in the radio access network (RAN) or as an xApp/RIC in the telco cloud. This technology has been tested by mobile operators such as Vodafone, Deutsche Telekom, and Telstra.Cohere also announced the  Dynamic Network Alignment (DNA) tool  in 2023, which is an automated MU-MIMO beamforming solution for calibrating 4G and 5G networks using existing network and spectrum assets.\n",
      "\n",
      "\n",
      "== References ==\u001b[0m\u001b[32;1m\u001b[1;3m\u001b[0m\n",
      "\n",
      "\u001b[1m> Finished chain.\u001b[0m\n"
     ]
    },
    {
     "data": {
      "text/plain": [
       "{'input': 'Who founded Cohere?',\n",
       " 'text': 'COHERE WAS FOUNDED BY AIDAN GOMEZ, IVAN ZHANG AND NICKFROST.',\n",
       " 'additional_info': {'documents': [{'answer': 'Cohere is a Canadian multinational technology company focused on artificial intelligence for the enterprise, specializing in large language models. Cohere was founded in 2019 by Aidan Gomez, Ivan Zhang, and Nick Frosst, and is headquartered in Toronto and San Francisco, with offices in Palo Alto and London.\\n\\n\\n== History ==\\nIn 2017, a team of researchers at Google Brain introduced the transformer machine learning architecture in \"Attention Is All You Need,\" which demonstrated state-of-the-art performance on a variety of natural language processing tasks. In 2019, Aiden Gomez, one of its co-authors, along with Nick Frosst, another researcher at Google Brain, founded Cohere with Ivan Zhang, with whom Gomez had done research at FOR.ai. All of the co-founders attended University of Toronto.Gomez is the company\\'s CEO. In December 2022, Martin Kon, the former CFO of YouTube, became president and COO.In November 2021, Google Cloud announced that they would help power Cohere\\'s platform using their robust infrastructure, and Cloud\\'s TPUs would be used by Cohere for the development and deployment of their products.In June 2022, Cohere launched Cohere For AI, a nonprofit research lab and community dedicated to contributing open-source, fundamental machine learning research. It is led by Sara Hooker, a former research scientist at Google Brain.In December 2022, Cohere released a multilingual model for understanding text that would work with over 100 languages, to help users search for documents by meaning instead of with keywords. This type of process was not previously widely available in languages other than English.On June 13, 2023, Oracle announced a partnership with Cohere to provide generative AI services to help organizations automate end-to-end business processes. As a result, Cohere\\'s technology is integrated into Oracle\\'s business applications, including Oracle Fusion Cloud, Oracle NetSuite, and Oracle industry-specific applications. On July 18, 2023, McKinsey announced a collaboration with Cohere, to help organizations integrate generative AI into their operations. In 2023, Cohere collaborated with software company LivePerson to offer customized large language models for businesses.On September 12, 2023, it was announced that Cohere had become one of 15 tech companies to agree to voluntary White House measures on testing, reporting, and research on the risks of AI. On September 27, 2023, it was announced that Cohere had also signed Canada\\'s voluntary code of conduct for AI, to promote the responsible development and management of advanced generative AI systems.\\n\\n\\n== Products ==\\nConsidered an alternative to OpenAI, Cohere is focused on generative AI for the enterprise, building technology that businesses can use to deploy chatbots, search engines, copywriting, summarization, and other AI-driven products. Cohere specializes in large language models: AI trained to digest text from an enterprises\\' internal data or publicly available sources like the internet to understand how to process and respond to prompts with increasing sophistication.The Cohere platform is available through API as a managed service, through platforms such as Amazon SageMaker and Google\\'s Vertex AI. It can be used for tasks such as writing copy, moderating content, classifying data, and extracting information. It is cloud agnostic and not tied to a particular cloud service.Cohere\\'s generative AI technology is embedded into several Oracle products, and its chat capabilities are embedded into Salesforce products.\\n\\n\\n== Funding ==\\nOn September 7, 2021, Cohere announced that they had raised $40 million in Series A funding led by Index Ventures; Index Ventures partner Mike Volpi also joined Cohere\\'s board. The round also included Radical Ventures, Section 32, and AI-experts Geoffrey Hinton, Fei-Fei Li, Pieter Abbeel, and Raquel Urtasun.In February 2022, Cohere announced they had raised $125 million in series B funding led by Tiger Global. In June 2023, Cohere raised \\n\\nAidan Gomez is a British-Canadian computer scientist working in the field of artificial intelligence, with a focus on natural language processing. He is the co-founder and CEO of the technology company Cohere.\\n\\n\\n== Early life and education ==\\nGomez grew up in Brighton, Ontario. He graduated from the University of Toronto with a bachelor\\'s degree in computer science and mathematics. He was pursuing a PhD in computer science from the University of Oxford. He dropped out to create Cohere.\\n\\n\\n== Career ==\\nIn 2017, as a 20 year-old intern at Google Brain, Gomez was one of eight authors of the research paper \"Attention Is All You Need\", which is credited with changing the AI industry and helping lead to the creation of ChatGPT. The paper proposed a novel deep learning architecture called the transformer, that enables machine learning models to analyze large amounts of data for patterns, and then use those patterns to make predictions.  It has been commonly adopted for training large language models and in the development of generative AI. In 2017, Gomez founded FOR.ai, a program to help researchers learn machine learning techniques in a collaborative format, which later became Cohere For AI.As a PhD student, Gomez worked as a machine learning researcher at Google Brain. At that time, he co-authored the paper \"One Model to Learn Them All\" about multi-task learning by a single neural network.In 2019, Gomez left Google Brain to launch Cohere, an enterprise-focused company that helps businesses implement AI into chatbots, search engines, and other products. He is CEO of the company, which has been valued at over $2 billion.Gomez was named to the 2023 Time 100/AI list of the most influential people in the field of artificial intelligence. He and his fellow Cohere founders Ivan Zhang and Nick Frosst were named number 1 on 2023 Maclean\\'s AI Trailblazers Power List.\\n\\n\\n== References ==\\n\\nCohere Technologies is a telecoms software company based in San Jose, California that develops technology for boosting the network performance of 4G and 5G spectrum in wireless networks. Cohere holds the patents for the Orthogonal Time Frequency Space (OTFS) 2D modulation technique used to improve the performance of 4G and 5G networks and is being considered as a waveform for the future 6G wireless standard.\\n\\n\\n== History ==\\nCohere Technologies was founded in 2011 by Shlomo Rakib, a serial entrepreneur, and Ronny Hadani, an associate professor of mathematics at the University of Texas, Austin. The pair patented the OTFS waveform in 2010.Ray Dolan, co-founder of Flarion Technologies (acquired by Qualcomm in 2006), joined Cohere Technologies as the company\\'s chairman and CEO in October 2018.Cohere Technologies\\'  first trials of OFTS with a carrier took place at Telefónica in 2018.In 2018, the company changed its focus to the use of Delay-Doppler-based channel detection, estimation and prediction, as well as precoding software to improve 4G and 5G wireless systems with its Universal Spectrum Multiplier software.In 2020, Cohere Technologies won a GSMA GLOMO award for \"Best Network Software Breakthrough,\" and was also shortlisted for the award in 2023.In February 2023, Cohere announced a collaboration with telecommunications company Mavenir. Cohere will assist Mavenir in its transition to open RAN technology, including OTFS.Cohere co-announced the Multi-G O-RAN initiative in April 2023 in collaboration with Intel, Juniper Networks, Mavenir and VMware. The initiative will provide frameworks and interfaces to support the  coexistence of 4G, 5G, and other waveforms in the future. Carriers supporting the initiative include Vodafone, Telstra, and Bell Canada.Cohere currently holds more than 300 patents relating to 4G, 5G, and OTFS.Co-founder Shlomo Rakib currently serves as Cohere\\'s CTO.\\n\\n\\n== Products ==\\nAnnounced in 2021, Cohere\\'s  Universal Spectrum Multiplier (USM) software is designed to boost the performance of  4G and 5G FDD or TDD networks and can be integrated by network equipment suppliers in the radio access network (RAN) or as an xApp/RIC in the telco cloud. This technology has been tested by mobile operators such as Vodafone, Deutsche Telekom, and Telstra.Cohere also announced the  Dynamic Network Alignment (DNA) tool  in 2023, which is an automated MU-MIMO beamforming solution for calibrating 4G and 5G networks using existing network and spectrum assets.\\n\\n\\n== References ==',\n",
       "    'id': 'wikipedia:0:0',\n",
       "    'tool_name': 'wikipedia'}],\n",
       "  'citations': [ChatCitation(start=22, end=33, text='AIDAN GOMEZ', document_ids=['wikipedia:0:0']),\n",
       "   ChatCitation(start=35, end=45, text='IVAN ZHANG', document_ids=['wikipedia:0:0']),\n",
       "   ChatCitation(start=50, end=60, text='NICKFROST.', document_ids=['wikipedia:0:0'])],\n",
       "  'search_results': None,\n",
       "  'search_queries': None,\n",
       "  'is_search_required': None,\n",
       "  'generation_id': '1d0186a0-3d2b-441b-ad2d-b4529440f1f4',\n",
       "  'tool_calls': None,\n",
       "  'token_count': None}}"
      ]
     },
     "execution_count": 9,
     "metadata": {},
     "output_type": "execute_result"
    }
   ],
   "source": [
    "agent = create_cohere_tools_agent(\n",
    "    llm=chat,\n",
    "    tools=[retriever_tool],\n",
    "    prompt=prompt,\n",
    ")\n",
    "agent_executor = AgentExecutor(agent=agent, tools=[retriever_tool], verbose=True)\n",
    "agent_executor.invoke({\"input\": \"Who founded Cohere?\"})"
   ]
  },
  {
   "cell_type": "code",
   "execution_count": null,
   "metadata": {},
   "outputs": [],
   "source": []
  }
 ],
 "metadata": {
  "kernelspec": {
   "display_name": "Python 3 (ipykernel)",
   "language": "python",
   "name": "python3"
  },
  "language_info": {
   "codemirror_mode": {
    "name": "ipython",
    "version": 3
   },
   "file_extension": ".py",
   "mimetype": "text/x-python",
   "name": "python",
   "nbconvert_exporter": "python",
   "pygments_lexer": "ipython3",
   "version": "3.11.7"
  }
 },
 "nbformat": 4,
 "nbformat_minor": 4
}
