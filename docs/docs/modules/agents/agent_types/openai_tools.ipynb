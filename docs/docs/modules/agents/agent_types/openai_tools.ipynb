{
 "cells": [
  {
   "cell_type": "markdown",
   "id": "e10aa932",
   "metadata": {},
   "source": [
    "# OpenAI tools\n"
   ]
  },
  {
   "cell_type": "code",
   "execution_count": 1,
   "id": "ec89be68",
   "metadata": {},
   "outputs": [],
   "source": [
    "# ! pip install -U openai duckduckgo-search"
   ]
  },
  {
   "cell_type": "markdown",
   "id": "82787d8d",
   "metadata": {},
   "source": [
    "## Initialize tools\n",
    "\n",
    "We will first create some tools we can use"
   ]
  },
  {
   "cell_type": "code",
   "execution_count": 2,
   "id": "b812b982",
   "metadata": {},
   "outputs": [],
   "source": [
    "from langchain.agents import initialize_agent, AgentType, Tool\n",
    "from langchain.agents.format_scratchpad.openai_tools import format_to_openai_tool_messages\n",
    "from langchain.agents.output_parsers.openai_tools import OpenAIToolsAgentOutputParser\n",
    "from langchain.chat_models import ChatOpenAI\n",
    "from langchain.llms import OpenAI\n",
    "from langchain.prompts import ChatPromptTemplate, MessagesPlaceholder\n",
    "from langchain.tools import DuckDuckGoSearchRun\n",
    "from langchain.tools.render import format_tool_to_openai_function\n",
    "\n"
   ]
  },
  {
   "cell_type": "code",
   "execution_count": 3,
   "id": "23fc0aa6",
   "metadata": {},
   "outputs": [],
   "source": [
    "llm = ChatOpenAI(temperature=0, model=\"gpt-3.5-turbo-1106\")\n",
    "tools = [DuckDuckGoSearchRun()]"
   ]
  },
  {
   "cell_type": "markdown",
   "id": "39c3ba21",
   "metadata": {},
   "source": [
    "## Using LCEL\n",
    "\n",
    "We will first use LangChain Expression Language to create this agent"
   ]
  },
  {
   "cell_type": "code",
   "execution_count": 4,
   "id": "55292bed",
   "metadata": {},
   "outputs": [],
   "source": [
    "prompt = ChatPromptTemplate.from_messages(\n",
    "    [\n",
    "        (\"system\", \"You are a helpful assistant\"),\n",
    "        (\"user\", \"{input}\"),\n",
    "        MessagesPlaceholder(variable_name=\"agent_scratchpad\"),\n",
    "    ]\n",
    ")"
   ]
  },
  {
   "cell_type": "code",
   "execution_count": 5,
   "id": "552421b3",
   "metadata": {},
   "outputs": [],
   "source": [
    "llm_with_tools = llm.bind(tools=[{\"type\": \"function\", \"function\": format_tool_to_openai_function(t)} for t in tools])"
   ]
  },
  {
   "cell_type": "code",
   "execution_count": 6,
   "id": "bf514eb4",
   "metadata": {},
   "outputs": [],
   "source": [
    "agent = (\n",
    "    {\n",
    "        \"input\": lambda x: x[\"input\"],\n",
    "        \"agent_scratchpad\": lambda x: format_to_openai_tool_messages(\n",
    "            x[\"intermediate_steps\"]\n",
    "        ),\n",
    "    }\n",
    "    | prompt\n",
    "    | llm_with_tools\n",
    "    | OpenAIToolsAgentOutputParser()\n",
    ")"
   ]
  },
  {
   "cell_type": "code",
   "execution_count": 7,
   "id": "5125573e",
   "metadata": {},
   "outputs": [],
   "source": [
    "from langchain.agents import AgentExecutor"
   ]
  },
  {
   "cell_type": "code",
   "execution_count": 8,
   "id": "bdc7e506",
   "metadata": {},
   "outputs": [],
   "source": [
    "agent_executor = AgentExecutor(agent=agent, tools=tools, verbose=True)"
   ]
  },
  {
   "cell_type": "code",
   "execution_count": 9,
   "id": "2cd65218",
   "metadata": {},
   "outputs": [
    {
     "name": "stdout",
     "output_type": "stream",
     "text": [
      "\n",
      "\n",
      "\u001b[1m> Entering new AgentExecutor chain...\u001b[0m\n",
      "\u001b[32;1m\u001b[1;3m\n",
      "Invoking: `duckduckgo_search` with `weather in Los Angeles today`\n",
      "\n",
      "\n",
      "\u001b[0m\u001b[36;1m\u001b[1;3mLos Angeles Weather Forecasts. Weather Underground provides local & long-range weather forecasts, weatherreports, maps & tropical weather conditions for the Los Angeles area. NEWS. NWS News; Events; Pubs/Brochures/Booklets ; NWS Media Contacts; SEARCH. Search For. NWS All NOAA. ABOUT. About NWS; Organization; Strategic Plan; ... National Weather Service Los Angeles, CA 520 North Elevar Street Oxnard, CA 93030 805-988-6610 Comments? Questions? Please Contact Us. Disclaimer Information Quality Help Glossary. LOS ANGELES (KABC) -- Southern California will see mostly clear skies and mild temperatures on Monday. Los Angeles and Orange counties will see a few clouds in the morning, but they'll clear up in ... Get Los Angeles's latest local news on crime, entertainment, weather, schools, COVID, cost of living and more. Here's your go-to source for today's LA news. Downtown Los Angeles 6 hours ago Get Los Angeles's latest local news on crime, entertainment, weather, schools, COVID, cost of living and more. Here's your go-to source for today's LA news. Downtown Los Angeles 8 hours ago\u001b[0m\u001b[32;1m\u001b[1;3m\n",
      "Invoking: `duckduckgo_search` with `weather in New York City today`\n",
      "\n",
      "\n",
      "\u001b[0m\u001b[36;1m\u001b[1;3mToday Hourly 10-Day Calendar History Wundermap access_time 11:38 PM EDT on October 31, 2023 (GMT -4) | Updated 22 hours ago --° | 49° 56 °F like 56° Rain Shower N 5 Gusts 7mph Radar Satellite... 49°F 9°C More Information: Local Forecast Office More Local Wx 3 Day History Mobile Weather Hourly Weather Forecast Extended Forecast for New York NY Similar City Names Overnight Mostly Cloudy Low: 48 °F Saturday Partly Sunny High: 58 °F Saturday Night Mostly Cloudy Low: 48 °F Sunday Mostly Sunny High: 64 °F Sunday Night Mostly Clear Low: 45 °F 13°C Get Detailed info Tonight Partly Cloudy Low: 47°F Sunday Mostly Sunny High: 62°F change location New York, NY Weather Forecast Office NWS Forecast Office New York, NY Weather.gov > New York, NY Current Hazards Current Conditions Radar Forecasts Rivers and Lakes Climate and Past Weather Local Programs The weather today in New York City will be comfortable with temperatures around 68°F. During the evening and night time the temperatures will drop to 48 ° F. For deep dive information check out our hourly weather forecast for today down the page. Temperature. 68 ° / 48 °. Chance of rain. 0. %. Today's Weather - New York, NY Nov 02, 2023 3:32 AM Churchill School -- Feels like -- Hi -- Lo -- -- Live Radar Weather Radar Map WEATHER DETAILS New York, NY Windchill -- Daily Rain -- Dew Point -- Monthly Rain -- Humidity -- Avg. Wind -- Pressure -- Wind Gust -- Sunrise -- Moon -- Sunset -- UV Index Low WEATHER FORECAST New York, NY\u001b[0m\u001b[32;1m\u001b[1;3m\n",
      "Invoking: `duckduckgo_search` with `weather in San Francisco today`\n",
      "\n",
      "\n",
      "\u001b[0m\u001b[36;1m\u001b[1;3m60 °F like 60° Partly Cloudy N 0 Tomorrow's temperature is forecast to be MUCH COOLER than today. Radar Satellite WunderMap |Nexrad Tonight Mon 11/06 Low 53 °F 4% Precip. / 0.00 in Partly cloudy.... Radar Forecasts Rivers and Lakes Climate and Past Weather Local Programs Click a location below for detailed forecast. Last Map Update: Wed, Nov. 8, 2023 at 5:03:31 am PST Watches, Warnings & Advisories Zoom Out Small Craft Advisory Frost Advisory Text Product Selector (Selected product opens in current window) Today's and tonight's San Francisco, CA weather forecast, weather conditions and Doppler radar from The Weather Channel and Weather.com San Francisco, CA Weather Forecast and... Current Conditions Radar Forecasts Rivers and Lakes Climate and Past Weather Local Programs Rain Continues Monday Show Caption Click a location below for detailed forecast. Last Map Update: Tue, Nov. 7, 2023 at 1:05:27 am PST Watches, Warnings & Advisories Zoom Out Winter Weather Advisory Small Craft Advisory Gale Watch The National Weather Service forecast for the greater San Francisco Bay Area on Monday calls for moderate to high chances of rain all day throughout the region. According to forecasters, a pair of ...\u001b[0m\u001b[32;1m\u001b[1;3mHere's the weather for today in Los Angeles, New York City, and San Francisco:\n",
      "\n",
      "- Los Angeles: Mostly clear skies and mild temperatures with a few clouds in the morning. Temperatures are around 56°F.\n",
      "- New York City: Comfortable temperatures around 68°F during the day, dropping to 48°F in the evening and night.\n",
      "- San Francisco: Moderate to high chances of rain all day with temperatures around 60°F.\n",
      "\n",
      "If you need more detailed information, feel free to ask!\u001b[0m\n",
      "\n",
      "\u001b[1m> Finished chain.\u001b[0m\n"
     ]
    },
    {
     "data": {
      "text/plain": [
       "{'input': \"What's the weather in LA, NYC, and SF today\",\n",
       " 'output': \"Here's the weather for today in Los Angeles, New York City, and San Francisco:\\n\\n- Los Angeles: Mostly clear skies and mild temperatures with a few clouds in the morning. Temperatures are around 56°F.\\n- New York City: Comfortable temperatures around 68°F during the day, dropping to 48°F in the evening and night.\\n- San Francisco: Moderate to high chances of rain all day with temperatures around 60°F.\\n\\nIf you need more detailed information, feel free to ask!\"}"
      ]
     },
     "execution_count": 9,
     "metadata": {},
     "output_type": "execute_result"
    }
   ],
   "source": [
    "agent_executor.invoke(\n",
    "    {\n",
    "        \"input\": \"What's the weather in LA, NYC, and SF today\"\n",
    "    }\n",
    ")"
   ]
  },
  {
   "cell_type": "code",
   "execution_count": null,
   "id": "c750177f-af6c-4617-b2aa-69e3f1153a3e",
   "metadata": {},
   "outputs": [],
   "source": []
  }
 ],
 "metadata": {
  "kernelspec": {
   "display_name": "Python 3 (ipykernel)",
   "language": "python",
   "name": "python3"
  },
  "language_info": {
   "codemirror_mode": {
    "name": "ipython",
    "version": 3
   },
   "file_extension": ".py",
   "mimetype": "text/x-python",
   "name": "python",
   "nbconvert_exporter": "python",
   "pygments_lexer": "ipython3",
   "version": "3.9.1"
  }
 },
 "nbformat": 4,
 "nbformat_minor": 5
}
