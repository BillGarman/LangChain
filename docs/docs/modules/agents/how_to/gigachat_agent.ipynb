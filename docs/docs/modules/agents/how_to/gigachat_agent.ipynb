{
 "cells": [
  {
   "cell_type": "markdown",
   "metadata": {},
   "source": [
    "# Создание агента с функциями на базе GigaChat\n",
    "## Инициализация GigaChat\n",
    "Для работы агента нам понадобиться экземпляр класса GigaChat и доступ к модели, которая поддерживает работу с функциями. На данный момент не все модели поддерживают такой функционал."
   ]
  },
  {
   "cell_type": "code",
   "execution_count": 9,
   "metadata": {},
   "outputs": [],
   "source": [
    "from langchain.chat_models.gigachat import GigaChat\n",
    "\n",
    "giga = GigaChat(credentials=..., model=...)"
   ]
  },
  {
   "cell_type": "markdown",
   "metadata": {},
   "source": [
    "## Создание списка функций\n",
    "Функции - это инструменты, доступные модели в прцоессе решения задачи. Модель сама принимает решение о том, когда и какой инструмент нужно использовать.\n",
    "При обращении к инструменту он выполняется на на стороне клиента.\n",
    "\n",
    "Для начала мы будем использовать только один инструмент - адаптер к поисковику [DuckDuckGo](https://www.duckduckgo.com)."
   ]
  },
  {
   "cell_type": "code",
   "execution_count": 10,
   "metadata": {},
   "outputs": [],
   "source": [
    "from langchain_community.tools import DuckDuckGoSearchRun\n",
    "\n",
    "search_tool = DuckDuckGoSearchRun()\n",
    "tools = [search_tool]"
   ]
  },
  {
   "cell_type": "markdown",
   "metadata": {},
   "source": [
    "## Инициализация агента GigaChat\n",
    "Теперь мы можем создать агента, который будет решать задачи с использованием доступных ему функций и срезу выполнения для этого агента."
   ]
  },
  {
   "cell_type": "code",
   "execution_count": 11,
   "metadata": {},
   "outputs": [],
   "source": [
    "from langchain.agents import AgentExecutor, create_gigachat_functions_agent\n",
    "\n",
    "agent = create_gigachat_functions_agent(giga, tools)\n",
    "\n",
    "agent_executor = AgentExecutor(\n",
    "    agent=agent,\n",
    "    tools=tools,\n",
    "    verbose=True,\n",
    ")"
   ]
  },
  {
   "cell_type": "markdown",
   "metadata": {},
   "source": [
    "## Запуск агента"
   ]
  },
  {
   "cell_type": "code",
   "execution_count": 4,
   "metadata": {},
   "outputs": [
    {
     "name": "stdout",
     "output_type": "stream",
     "text": [
      "\n",
      "\n",
      "\u001b[1m> Entering new AgentExecutor chain...\u001b[0m\n",
      "\u001b[32;1m\u001b[1;3m\n",
      "Invoking: `duckduckgo_search` with `{'query': 'current bitcoin price'}`\n",
      "\n",
      "\n",
      "\u001b[0m\u001b[36;1m\u001b[1;3mBinance provides live Bitcoin price (BTC) in USD, with a current market cap of $882.53B USD and a 24-hour trading volume of $31.83B USD. Learn about Bitcoin's history, volatility, supply, and future halving event. The current price of Bitcoin is $46,652.86 per BTC, according to Coinbase. You can use the BTC to USD calculator to convert any amount of BTC to USD or vice versa. See the market cap, volume, circulating supply and historical data of Bitcoin and other crypto assets. Jan 23, 2024 - 7:46 NY Time Price 0.00 USD 0.00 (0.00%) Market Cap 0.00 Volume 0.00 The Kitco Bitcoin price index provides the latest Bitcoin price in US Dollars using an average from the world's leading exchanges. Get the latest Bitcoin price, live chart, and news on Blockchain.com, the world's most popular crypto wallet. Learn about Bitcoin's history, mining, supply, and features, and compare it with other cryptocurrencies. Find the current price of Bitcoin (BTC) in USD and other currencies, as well as the latest news and historical data on its performance and market cap. Compare different exchanges and see how the price of Bitcoin has changed over time.\u001b[0m\u001b[32;1m\u001b[1;3m46,652.86\u001b[0m\n",
      "\n",
      "\u001b[1m> Finished chain.\u001b[0m\n"
     ]
    },
    {
     "data": {
      "text/plain": [
       "'46,652.86'"
      ]
     },
     "execution_count": 4,
     "metadata": {},
     "output_type": "execute_result"
    }
   ],
   "source": [
    "agent_executor.invoke(\n",
    "    {\"input\": \"Найди текущий курс биткоина и напечатай только число\"}\n",
    ")[\"output\"]"
   ]
  },
  {
   "cell_type": "markdown",
   "metadata": {},
   "source": [
    "## Агент с несколькими функциями\n",
    "Для демонстрации работы агентов, которые умеют использовать несколько инструментов, добавим ещё одну функцию - вывод крупного текста с использованием ASCII графики. Для этого нам понадобится библиотека pyfidget."
   ]
  },
  {
   "cell_type": "code",
   "execution_count": 12,
   "metadata": {},
   "outputs": [
    {
     "name": "stdout",
     "output_type": "stream",
     "text": [
      "          _______  _        _        _______  _ \n",
      "|\\     /|(  ____ \\( \\      ( \\      (  ___  )( )\n",
      "| )   ( || (    \\/| (      | (      | (   ) || |\n",
      "| (___) || (__    | |      | |      | |   | || |\n",
      "|  ___  ||  __)   | |      | |      | |   | || |\n",
      "| (   ) || (      | |      | |      | |   | |(_)\n",
      "| )   ( || (____/\\| (____/\\| (____/\\| (___) | _ \n",
      "|/     \\|(_______/(_______/(_______/(_______)(_)\n",
      "                                                \n",
      "\n"
     ]
    }
   ],
   "source": [
    "# %pip install pyfiglet\n",
    "import pyfiglet\n",
    "\n",
    "pyfiglet.print_figlet(\"Hello!\", font=\"epic\")"
   ]
  },
  {
   "cell_type": "markdown",
   "metadata": {},
   "source": [
    "## Создание собственных функций\n",
    "Для быстрого создания функций из python кода можно использовать декоратор @tool, который превращает любую функцию python в тул, доступный для вызова из модели.\n",
    "\n",
    "> Обратите внимание! Модель будет ориентироваться на название, описание функции, а также описание и типы аргументов и возвращаемого значения. Если эти значения не указаны явно, то модель может \"не понять\", как следует использовать функцию."
   ]
  },
  {
   "cell_type": "code",
   "execution_count": 13,
   "metadata": {},
   "outputs": [],
   "source": [
    "from langchain.tools import tool\n",
    "\n",
    "\n",
    "@tool\n",
    "def draw_bunner(number: str) -> None:\n",
    "    \"\"\"Рисует баннер с текстом\n",
    "\n",
    "    Args:\n",
    "        number (str): Число, который нужно нарисовать на баннере\n",
    "    \"\"\"\n",
    "    pyfiglet.print_figlet(number, font=\"epic\")\n",
    "\n",
    "\n",
    "new_tools = [search_tool, draw_bunner]\n",
    "agent = create_gigachat_functions_agent(giga, new_tools)"
   ]
  },
  {
   "cell_type": "markdown",
   "metadata": {},
   "source": [
    "Теперь запустим агента. Попросим его сначала найти нужное значение, а потом распечатать его в крупном формате."
   ]
  },
  {
   "cell_type": "code",
   "execution_count": 64,
   "metadata": {},
   "outputs": [
    {
     "name": "stdout",
     "output_type": "stream",
     "text": [
      "\n",
      "\n",
      "\u001b[1m> Entering new AgentExecutor chain...\u001b[0m\n",
      "\u001b[32;1m\u001b[1;3m\n",
      "Invoking: `duckduckgo_search` with `{'query': 'курс биткоина в долларах'}`\n",
      "\n",
      "\n",
      "\u001b[0m\u001b[36;1m\u001b[1;3mМаксимальная цена Биткоина - 68,770.00 USD (пик был достигнут 10 ноября 2021 года). ЧИТАЙТЕ: История Биткоина с Самого Начала: Создание криптовалют [2008-2021] и что влияло на цены исторически Довольно простой метод, который подойдет всем, и особенно новичкам - воспользоваться обменником \" Матби \". 1 BTC = 41 575,74 USD по курсу на 21.01.2024. Стоимость 1 биткоина в долларах США на сегодня составляет 41 575,74 $ по данным ЦБ РФ, по сравнению со вчерашним днём курс валюты уменьшился на -0,42% (на -172,92 $). Курс биткоина по отношению к доллару США на графике, таблица динамики стоимости в процентах за день, неделю, месяц и год. Конвертер валют Узнайте курс биткоина в долларах в разных банках и обменниках, а также динамику их изменений за месяц и год. Сравните курсы биткоина в долларах с другими валютами и посмотрите средние курсы в банках, Межбанке, НБУ, Visa и Mastercard. График курса Биткоина к Доллару США (btc/usd) в реальном времени. Динамика цены Биткоина на сегодня в режиме онлайн. 45,005.31 USD Курс: 45005.3106 +1471.02 Курс закрытия: 43534.2876 Обратный курс: 1.00 USD = 0.000020 BTC 🕒 Курс валют обновлен: Tue, 02 Jan 2024 15:00:00 Доллар США: 🚀 валюта выросла на 3.38% (+1471.02) по отношению к Биткоин в сравнении с предыдущим закрытым курсом. Попробуйте конвертировать в обратном порядке: Доллар США в Биткоин.\u001b[0m\u001b[32;1m\u001b[1;3m\n",
      "Invoking: `draw_bunner` with `{'number': '41,575.74'}`\n",
      "\n",
      "\n",
      "\u001b[0m    ___  __       _______ ______   _______   ______    ___   \n",
      "   /   )/  \\     (  ____ Y ___  \\ (  ____ \\ / ___  \\  /   )  \n",
      "  / /) |\\/) )    | (    \\|/   )  )| (    \\/ \\/   )  )/ /) |  \n",
      " / (_) (_ | |    | (____     /  / | (____       /  // (_) (_ \n",
      "(____   _)| |    (_____ \\   /  /  (_____ \\     /  /(____   _)\n",
      "     ) (  | |          ) ) /  /         ) )   /  /      ) (  \n",
      "     | |__) (_ _ /\\____) )/  /    /\\____) )_ /  /       | |  \n",
      "     (_)\\____/( )\\______/ \\_/     \\______/(_)\\_/        (_)  \n",
      "              |/                                             \n",
      "\n",
      "\u001b[33;1m\u001b[1;3mNone\u001b[0m\u001b[32;1m\u001b[1;3m\u001b[0m\n",
      "\n",
      "\u001b[1m> Finished chain.\u001b[0m\n"
     ]
    },
    {
     "data": {
      "text/plain": [
       "''"
      ]
     },
     "execution_count": 64,
     "metadata": {},
     "output_type": "execute_result"
    }
   ],
   "source": [
    "agent_executor = AgentExecutor(\n",
    "    agent=agent,\n",
    "    tools=new_tools,\n",
    "    verbose=True,\n",
    ")\n",
    "\n",
    "agent_executor.invoke(\n",
    "    {\"input\": \"Найди курс биткоина в долларах и нарисуй это число на банере.\"}\n",
    ")[\"output\"]"
   ]
  },
  {
   "cell_type": "markdown",
   "metadata": {},
   "source": [
    "# Добавляем память\n",
    "Созданый нами агент не имеет состояния. Это означает, что он не помнит предыдущие взаимодействия. Чтобы предоставить ему память, нам нужно передать предыдущую `chat_history`. Примечание: имя `chat_history` используется, потому что оно явно задано в промпте. Если вы хотите использовать свой промпт, то сможете задать другое название переменной."
   ]
  },
  {
   "cell_type": "code",
   "execution_count": 20,
   "metadata": {},
   "outputs": [
    {
     "data": {
      "text/plain": [
       "{'chat_history': [HumanMessage(content='Привет! Запомни трех животных - слон, жираф, крокодил'),\n",
       "  AIMessage(content='Привет! Хорошо, я запомнил.')],\n",
       " 'input': 'Что я просил тебя запомнить?',\n",
       " 'output': 'Вы просили меня запомнить трех животных: слон, жираф и крокодил.'}"
      ]
     },
     "execution_count": 20,
     "metadata": {},
     "output_type": "execute_result"
    }
   ],
   "source": [
    "from langchain_core.messages import AIMessage, HumanMessage\n",
    "\n",
    "agent_executor = AgentExecutor(\n",
    "    agent=agent,\n",
    "    tools=new_tools,\n",
    "    verbose=False,\n",
    ")\n",
    "\n",
    "agent_executor.invoke(\n",
    "    {\n",
    "        \"chat_history\": [\n",
    "            HumanMessage(\n",
    "                content=\"Привет! Запомни трех животных - слон, жираф, крокодил\"\n",
    "            ),\n",
    "            AIMessage(content=\"Привет! Хорошо, я запомнил.\"),\n",
    "        ],\n",
    "        \"input\": \"Что я просил тебя запомнить?\",\n",
    "    }\n",
    ")"
   ]
  },
  {
   "cell_type": "markdown",
   "metadata": {},
   "source": [
    "## Чат с агентом\n",
    "Вы можете реализовать взаимодействие агента и пользователя в режиме чата с сохранением истории общения и промежуточных результатов."
   ]
  },
  {
   "cell_type": "code",
   "execution_count": 21,
   "metadata": {},
   "outputs": [
    {
     "name": "stdout",
     "output_type": "stream",
     "text": [
      "User: Привет\n",
      "Bot: Здравствуйте! Могу ли я помочь Вам с чем-то?\n",
      "User: Найди возраст Илона Маска\n",
      "Bot: Илон Маск родился 28 июня 1971 года, поэтому на текущий момент (2022 год) ему 50 лет.\n",
      "User: Выведи его возраст на банер\n",
      " _______  _______ \n",
      "(  ____ \\(  __   )\n",
      "| (    \\/| (  )  |\n",
      "| (____  | | /   |\n",
      "(_____ \\ | (/ /) |\n",
      "      ) )|   / | |\n",
      "/\\____) )|  (__) |\n",
      "\\______/ (_______)\n",
      "                  \n",
      "\n",
      "Bot: Возраст Илона Маска - 50 лет.\n",
      "User: \n"
     ]
    }
   ],
   "source": [
    "chat_history = []\n",
    "while True:\n",
    "    user_input = input(\"Вы: \")\n",
    "    print(f\"User: {user_input}\")\n",
    "    if user_input == \"\":\n",
    "        break\n",
    "    result = agent_executor.invoke(\n",
    "        {\n",
    "            \"chat_history\": chat_history,\n",
    "            \"input\": user_input,\n",
    "        }\n",
    "    )\n",
    "    chat_history.append(HumanMessage(content=user_input))\n",
    "    chat_history.append(AIMessage(content=result[\"output\"]))\n",
    "    print(f\"Bot: {result['output']}\")"
   ]
  }
 ],
 "metadata": {
  "kernelspec": {
   "display_name": "venv",
   "language": "python",
   "name": "python3"
  },
  "language_info": {
   "codemirror_mode": {
    "name": "ipython",
    "version": 3
   },
   "file_extension": ".py",
   "mimetype": "text/x-python",
   "name": "python",
   "nbconvert_exporter": "python",
   "pygments_lexer": "ipython3",
   "version": "3.10.13"
  }
 },
 "nbformat": 4,
 "nbformat_minor": 2
}
