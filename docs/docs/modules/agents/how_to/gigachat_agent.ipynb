{
 "cells": [
  {
   "cell_type": "markdown",
   "metadata": {},
   "source": [
    "# Создание агента с функциями на базе GigaChat\n",
    "\n",
    "С помощью [нейросетевой модели GigaChat](https://developers.sber.ru/docs/ru/gigachat/overview) вы можете вызывать различные функции — инструменты, которые будет использовать модель для решения поставленной задачи.\n",
    "Модель самостоятельно решает, когда и какой инструмент нужно использовать. \n",
    "Вызванные функции выполняются на стороне клиента.\n",
    "Вы можете использовать функции как разработанные самостоятельно, так и доступные в GigaChain и сторонних библиотеках.\n",
    "\n",
    "Для использования функций нужно создать агента с помощью модуля [`gigachat_functions_agent`](/libs/langchain/langchain/agents/gigachat_functions_agent/base.py).\n",
    "\n",
    "Раздел содержит пример агента, который задает вопрос в поисковом сервисе DuckDuckGo и рисует ответ с помощью Ascii-графики. Итоговый агент не только умеет работать с разными инструментами, но и обладает памятью.\n",
    "\n",
    "## Агент с одной функцией\n",
    "\n",
    "Для создания агента с функцией обращения к поисковому сервису DuckDuckGo:\n",
    "\n",
    "1. Инициализируйте GigaChat.\n",
    "2. Добавьте функцию поиска в массив инструментов доступных модели.\n",
    "3. Передайте агенту модель и массив инструментов.\n",
    "\n",
    "### Инициализация GigaChat\n",
    "\n",
    "Для работы агента создайте экземпляр класса GigaChat.\n",
    "В классе укажите модель, поддерживающую работу с функциями:"
   ]
  },
  {
   "cell_type": "code",
   "execution_count": null,
   "metadata": {},
   "outputs": [],
   "source": [
    "from langchain.chat_models.gigachat import GigaChat\n",
    "\n",
    "giga = GigaChat(credentials=<авторизационные_данные>, model=<модель_с_поддержкой_функций>)"
   ]
  },
  {
   "cell_type": "markdown",
   "metadata": {},
   "source": [
    "Для авторизации запросов к GigaChat используйте данные, полученные при [создании проекта GigaChat API](https://developers.sber.ru/docs/ru/gigachat/api/integration).\n",
    "\n",
    "Список и описание доступных моделей — в разделе [Модели GigaChat](https://developers.sber.ru/docs/ru/gigachat/models).\n",
    "\n",
    "### Добавление функции поиска\n",
    "\n",
    "Добавьте адаптер поискового сервиса [DuckDuckGo](https://www.duckduckgo.com) в список инструментов, которые будет использовать модель.\n",
    "\n",
    "Для этого импортируйте класс `DuckDuckGoSearchRun` и добавьте функцию `DuckDuckGoSearchRun()` в массив `tools`:\n",
    "\n"
   ]
  },
  {
   "cell_type": "code",
   "execution_count": 10,
   "metadata": {},
   "outputs": [],
   "source": [
    "from langchain_community.tools import DuckDuckGoSearchRun\n",
    "\n",
    "search_tool = DuckDuckGoSearchRun()\n",
    "tools = [search_tool]"
   ]
  },
  {
   "cell_type": "markdown",
   "metadata": {},
   "source": [
    "### Создание и запуск агента\n",
    "\n",
    "Инициализируйте агента. Передайте ему модель, которая будет вызывать функции, и массив доступных ей инструментов `tools`:"
   ]
  },
  {
   "cell_type": "code",
   "execution_count": 11,
   "metadata": {},
   "outputs": [],
   "source": [
    "from langchain.agents import AgentExecutor, create_gigachat_functions_agent\n",
    "\n",
    "agent = create_gigachat_functions_agent(giga, tools)\n",
    "\n",
    "#AgentExecutor создает среду, в которой будет работать агент\n",
    "agent_executor = AgentExecutor(\n",
    "    agent=agent,\n",
    "    tools=tools,\n",
    "    verbose=True,\n",
    ")"
   ]
  },
  {
   "cell_type": "markdown",
   "metadata": {},
   "source": [
    "Запустите агента с помощью функции `invoke()`:"
   ]
  },
  {
   "cell_type": "code",
   "execution_count": 4,
   "metadata": {},
   "outputs": [
    {
     "name": "stdout",
     "output_type": "stream",
     "text": [
      "\n",
      "\n",
      "\u001b[1m> Entering new AgentExecutor chain...\u001b[0m\n",
      "\u001b[32;1m\u001b[1;3m\n",
      "Invoking: `duckduckgo_search` with `{'query': 'current bitcoin price'}`\n",
      "\n",
      "\n",
      "\u001b[0m\u001b[36;1m\u001b[1;3mBinance provides live Bitcoin price (BTC) in USD, with a current market cap of $882.53B USD and a 24-hour trading volume of $31.83B USD. Learn about Bitcoin's history, volatility, supply, and future halving event. The current price of Bitcoin is $46,652.86 per BTC, according to Coinbase. You can use the BTC to USD calculator to convert any amount of BTC to USD or vice versa. See the market cap, volume, circulating supply and historical data of Bitcoin and other crypto assets. Jan 23, 2024 - 7:46 NY Time Price 0.00 USD 0.00 (0.00%) Market Cap 0.00 Volume 0.00 The Kitco Bitcoin price index provides the latest Bitcoin price in US Dollars using an average from the world's leading exchanges. Get the latest Bitcoin price, live chart, and news on Blockchain.com, the world's most popular crypto wallet. Learn about Bitcoin's history, mining, supply, and features, and compare it with other cryptocurrencies. Find the current price of Bitcoin (BTC) in USD and other currencies, as well as the latest news and historical data on its performance and market cap. Compare different exchanges and see how the price of Bitcoin has changed over time.\u001b[0m\u001b[32;1m\u001b[1;3m46,652.86\u001b[0m\n",
      "\n",
      "\u001b[1m> Finished chain.\u001b[0m\n"
     ]
    },
    {
     "data": {
      "text/plain": [
       "'46,652.86'"
      ]
     },
     "execution_count": 4,
     "metadata": {},
     "output_type": "execute_result"
    }
   ],
   "source": [
    "agent_executor.invoke(\n",
    "    {\"input\": \"Найди текущий курс биткоина и напечатай только число\"}\n",
    ")[\"output\"]"
   ]
  },
  {
   "cell_type": "markdown",
   "metadata": {},
   "source": [
    "## Агент с несколькими функциями\n",
    "\n",
    "Для создания агента, который кроме поиска будет возвращать текст в виде Ascii-графики, вам потребуется библиотека pyfiglet.\n",
    "Вы можете установить ее с помощью команды:\n",
    "\n",
    "```sh\n",
    "pip install pyfiglet\n",
    "```\n",
    "\n",
    "Библиотека умеет работать только с латинскими символами и цифрами.\n",
    "\n",
    "Пример работы pyfiglet:"
   ]
  },
  {
   "cell_type": "code",
   "execution_count": 12,
   "metadata": {},
   "outputs": [
    {
     "name": "stdout",
     "output_type": "stream",
     "text": [
      "          _______  _        _        _______  _ \n",
      "|\\     /|(  ____ \\( \\      ( \\      (  ___  )( )\n",
      "| )   ( || (    \\/| (      | (      | (   ) || |\n",
      "| (___) || (__    | |      | |      | |   | || |\n",
      "|  ___  ||  __)   | |      | |      | |   | || |\n",
      "| (   ) || (      | |      | |      | |   | |(_)\n",
      "| )   ( || (____/\\| (____/\\| (____/\\| (___) | _ \n",
      "|/     \\|(_______/(_______/(_______/(_______)(_)\n",
      "                                                \n",
      "\n"
     ]
    }
   ],
   "source": [
    "import pyfiglet\n",
    "\n",
    "pyfiglet.print_figlet(\"Hello!\", font=\"epic\")"
   ]
  },
  {
   "cell_type": "markdown",
   "metadata": {},
   "source": [
    "### Использование нескольких функций\n",
    "\n",
    "Чтобы упростить создание функций из python-кода, используйте декоратор `@tool`.\n",
    "Он преобразует любую функцию в инструмент, доступный модели для вызова.\n",
    "\n",
    ":::note\n",
    "\n",
    "Модель ориентируется как на название и описание функции, так и на описание и типы аргументов возвращаемого значения.\n",
    "Чтобы модель правильно понимала, как нужно использовать инструмент, все значения функции нужно явно указать.\n",
    "\n",
    ":::\n",
    "\n",
    "Создайте функцию `draw_banner()`, которая будет возвращать результат поиска в виде Ascii-графики, и добавьте ее в новый массив инструментов `new_tools`:"
   ]
  },
  {
   "cell_type": "code",
   "execution_count": 13,
   "metadata": {},
   "outputs": [],
   "source": [
    "from langchain.tools import tool\n",
    "\n",
    "\n",
    "@tool\n",
    "def draw_banner(number: str) -> None:\n",
    "    \"\"\"Рисует баннер с текстом результатов кода в виде Ascii-графики\n",
    "\n",
    "    Args:\n",
    "        number (str): Число, которое нужно нарисовать на баннере\n",
    "    \"\"\"\n",
    "    pyfiglet.print_figlet(number, font=\"epic\")\n",
    "\n",
    "new_tools = [search_tool, draw_banner]\n"
   ]
  },
  {
   "cell_type": "markdown",
   "metadata": {},
   "source": [
    "Инициализируйте и запустите агента с просьбой найти нужное значение и нарисовать его на баннере:"
   ]
  },
  {
   "cell_type": "code",
   "execution_count": 64,
   "metadata": {},
   "outputs": [
    {
     "name": "stdout",
     "output_type": "stream",
     "text": [
      "\n",
      "\n",
      "\u001b[1m> Entering new AgentExecutor chain...\u001b[0m\n",
      "\u001b[32;1m\u001b[1;3m\n",
      "Invoking: `duckduckgo_search` with `{'query': 'курс биткоина в долларах'}`\n",
      "\n",
      "\n",
      "\u001b[0m\u001b[36;1m\u001b[1;3mМаксимальная цена Биткоина - 68,770.00 USD (пик был достигнут 10 ноября 2021 года). ЧИТАЙТЕ: История Биткоина с Самого Начала: Создание криптовалют [2008-2021] и что влияло на цены исторически Довольно простой метод, который подойдет всем, и особенно новичкам - воспользоваться обменником \" Матби \". 1 BTC = 41 575,74 USD по курсу на 21.01.2024. Стоимость 1 биткоина в долларах США на сегодня составляет 41 575,74 $ по данным ЦБ РФ, по сравнению со вчерашним днём курс валюты уменьшился на -0,42% (на -172,92 $). Курс биткоина по отношению к доллару США на графике, таблица динамики стоимости в процентах за день, неделю, месяц и год. Конвертер валют Узнайте курс биткоина в долларах в разных банках и обменниках, а также динамику их изменений за месяц и год. Сравните курсы биткоина в долларах с другими валютами и посмотрите средние курсы в банках, Межбанке, НБУ, Visa и Mastercard. График курса Биткоина к Доллару США (btc/usd) в реальном времени. Динамика цены Биткоина на сегодня в режиме онлайн. 45,005.31 USD Курс: 45005.3106 +1471.02 Курс закрытия: 43534.2876 Обратный курс: 1.00 USD = 0.000020 BTC 🕒 Курс валют обновлен: Tue, 02 Jan 2024 15:00:00 Доллар США: 🚀 валюта выросла на 3.38% (+1471.02) по отношению к Биткоин в сравнении с предыдущим закрытым курсом. Попробуйте конвертировать в обратном порядке: Доллар США в Биткоин.\u001b[0m\u001b[32;1m\u001b[1;3m\n",
      "Invoking: `draw_bunner` with `{'number': '41,575.74'}`\n",
      "\n",
      "\n",
      "\u001b[0m    ___  __       _______ ______   _______   ______    ___   \n",
      "   /   )/  \\     (  ____ Y ___  \\ (  ____ \\ / ___  \\  /   )  \n",
      "  / /) |\\/) )    | (    \\|/   )  )| (    \\/ \\/   )  )/ /) |  \n",
      " / (_) (_ | |    | (____     /  / | (____       /  // (_) (_ \n",
      "(____   _)| |    (_____ \\   /  /  (_____ \\     /  /(____   _)\n",
      "     ) (  | |          ) ) /  /         ) )   /  /      ) (  \n",
      "     | |__) (_ _ /\\____) )/  /    /\\____) )_ /  /       | |  \n",
      "     (_)\\____/( )\\______/ \\_/     \\______/(_)\\_/        (_)  \n",
      "              |/                                             \n",
      "\n",
      "\u001b[33;1m\u001b[1;3mNone\u001b[0m\u001b[32;1m\u001b[1;3m\u001b[0m\n",
      "\n",
      "\u001b[1m> Finished chain.\u001b[0m\n"
     ]
    },
    {
     "data": {
      "text/plain": [
       "''"
      ]
     },
     "execution_count": 64,
     "metadata": {},
     "output_type": "execute_result"
    }
   ],
   "source": [
    "agent = create_gigachat_functions_agent(giga, new_tools)\n",
    "\n",
    "agent_executor = AgentExecutor(\n",
    "    agent=agent,\n",
    "    tools=new_tools,\n",
    "    verbose=True,\n",
    ")\n",
    "\n",
    "agent_executor.invoke(\n",
    "    {\"input\": \"Найди курс биткоина в долларах и нарисуй это число на банере.\"}\n",
    ")[\"output\"]"
   ]
  },
  {
   "cell_type": "markdown",
   "metadata": {},
   "source": [
    "## Добавление памяти\n",
    "\n",
    "В созданном агенте отсутствуют данные о состоянии, таким образом, он не помнит предыдущие взаимодействия с пользователем.\n",
    "\n",
    "Чтобы агент помнил, о чем пользователь разговаривал с ним, передайте историю сообщений в переменной `chat_history`:"
   ]
  },
  {
   "cell_type": "code",
   "execution_count": 20,
   "metadata": {},
   "outputs": [
    {
     "data": {
      "text/plain": [
       "{'chat_history': [HumanMessage(content='Привет! Запомни трех животных - слон, жираф, крокодил'),\n",
       "  AIMessage(content='Привет! Хорошо, я запомнил.')],\n",
       " 'input': 'Что я просил тебя запомнить?',\n",
       " 'output': 'Вы просили меня запомнить трех животных: слон, жираф и крокодил.'}"
      ]
     },
     "execution_count": 20,
     "metadata": {},
     "output_type": "execute_result"
    }
   ],
   "source": [
    "from langchain_core.messages import AIMessage, HumanMessage\n",
    "\n",
    "agent_executor = AgentExecutor(\n",
    "    agent=agent,\n",
    "    tools=new_tools,\n",
    "    verbose=False,\n",
    ")\n",
    "\n",
    "agent_executor.invoke(\n",
    "    {\n",
    "        \"chat_history\": [\n",
    "            HumanMessage(\n",
    "                content=\"Привет! Запомни трех животных - слон, жираф, крокодил\"\n",
    "            ),\n",
    "            AIMessage(content=\"Привет! Хорошо, я запомнил.\"),\n",
    "        ],\n",
    "        \"input\": \"Что я просил тебя запомнить?\",\n",
    "    }\n",
    ")"
   ]
  },
  {
   "cell_type": "markdown",
   "metadata": {},
   "source": [
    "### Использование памяти в чате с агентом\n",
    "\n",
    "Вы можете использовать память для сохранения истории и промежуточных результатов общения пользователя с агентом:"
   ]
  },
  {
   "cell_type": "code",
   "execution_count": 21,
   "metadata": {},
   "outputs": [
    {
     "name": "stdout",
     "output_type": "stream",
     "text": [
      "User: Привет\n",
      "Bot: Здравствуйте! Могу ли я помочь Вам с чем-то?\n",
      "User: Найди возраст Илона Маска\n",
      "Bot: Илон Маск родился 28 июня 1971 года, поэтому на текущий момент (2022 год) ему 50 лет.\n",
      "User: Выведи его возраст на банер\n",
      " _______  _______ \n",
      "(  ____ \\(  __   )\n",
      "| (    \\/| (  )  |\n",
      "| (____  | | /   |\n",
      "(_____ \\ | (/ /) |\n",
      "      ) )|   / | |\n",
      "/\\____) )|  (__) |\n",
      "\\______/ (_______)\n",
      "                  \n",
      "\n",
      "Bot: Возраст Илона Маска - 50 лет.\n",
      "User: \n"
     ]
    }
   ],
   "source": [
    "chat_history = []\n",
    "while True:\n",
    "    user_input = input(\"Вы: \")\n",
    "    print(f\"Пользователь: {user_input}\")\n",
    "    if user_input == \"\":\n",
    "        break\n",
    "    result = agent_executor.invoke(\n",
    "        {\n",
    "            \"chat_history\": chat_history,\n",
    "            \"input\": user_input,\n",
    "        }\n",
    "    )\n",
    "    chat_history.append(HumanMessage(content=user_input))\n",
    "    chat_history.append(AIMessage(content=result[\"output\"]))\n",
    "    print(f\"Агент: {result['output']}\")"
   ]
  }
 ],
 "metadata": {
  "kernelspec": {
   "display_name": "venv",
   "language": "python",
   "name": "python3"
  },
  "language_info": {
   "codemirror_mode": {
    "name": "ipython",
    "version": 3
   },
   "file_extension": ".py",
   "mimetype": "text/x-python",
   "name": "python",
   "nbconvert_exporter": "python",
   "pygments_lexer": "ipython3",
   "version": "3.11.6"
  }
 },
 "nbformat": 4,
 "nbformat_minor": 2
}
