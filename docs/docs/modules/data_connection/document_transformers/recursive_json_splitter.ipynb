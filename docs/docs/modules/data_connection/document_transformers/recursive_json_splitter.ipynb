{
 "cells": [
  {
   "cell_type": "markdown",
   "id": "a678d550",
   "metadata": {},
   "source": [
    "# Recursively split JSON\n",
    "\n",
    "This json splitter traverses json data depth first and builds smaller json chunks. It attempts to keep nested json objects whole but will split them if needed to keep chunks between a min_chunk_size and the max_chunk_size. If the value is not a nested json, but rather a very large string the string will not be split. If you need a hard cap on the chunk size considder following this with a Recursive Text splitter on those chunks. There is an optional pre-processing step to split lists, by first converting them to json (dict) and then splitting them as such.\n",
    "\n",
    "1. How the text is split: json value.\n",
    "2. How the chunk size is measured: by number of characters."
   ]
  },
  {
   "cell_type": "code",
   "execution_count": null,
   "id": "a504e1e7",
   "metadata": {},
   "outputs": [],
   "source": [
    "import json\n",
    "\n",
    "import requests"
   ]
  },
  {
   "cell_type": "code",
   "execution_count": null,
   "id": "3390ae1d",
   "metadata": {},
   "outputs": [],
   "source": [
    "# This is a large nested json object and will be loaded as a python dict\n",
    "json_data = requests.get(\"https://api.smith.langchain.com/openapi.json\").json()"
   ]
  },
  {
   "cell_type": "code",
   "execution_count": null,
   "id": "7bfe2c1e",
   "metadata": {},
   "outputs": [],
   "source": [
    "from langchain.text_splitter import RecursiveJsonSplitter"
   ]
  },
  {
   "cell_type": "code",
   "execution_count": null,
   "id": "2833c409",
   "metadata": {
    "scrolled": true
   },
   "outputs": [],
   "source": [
    "splitter = RecursiveJsonSplitter(max_chunk_size=300)"
   ]
  },
  {
   "cell_type": "code",
   "execution_count": null,
   "id": "f941aa56",
   "metadata": {
    "scrolled": false
   },
   "outputs": [],
   "source": [
    "# Recursively split json data - If you need to access/manipulate the smaller json chunks\n",
    "json_chunks = splitter.split_json(json_data=json_data)"
   ]
  },
  {
   "cell_type": "code",
   "execution_count": null,
   "id": "0839f4f0",
   "metadata": {},
   "outputs": [],
   "source": [
    "# The splitter can also output documents\n",
    "docs = splitter.create_documents(texts=[json_data])\n",
    "\n",
    "# or a list of strings\n",
    "texts = splitter.split_text(json_data=json_data)\n",
    "\n",
    "print(texts[0])\n",
    "print(texts[1])"
   ]
  },
  {
   "cell_type": "code",
   "execution_count": null,
   "id": "96e27780",
   "metadata": {},
   "outputs": [],
   "source": [
    "# We can also look at the documents\n",
    "docs[0]"
   ]
  },
  {
   "cell_type": "code",
   "execution_count": null,
   "id": "c34b1f7f",
   "metadata": {},
   "outputs": [],
   "source": [
    "# Let's look at the size of the chunks\n",
    "print([len(text) for text in texts][:10])"
   ]
  },
  {
   "cell_type": "code",
   "execution_count": null,
   "id": "992477c2",
   "metadata": {
    "scrolled": false
   },
   "outputs": [],
   "source": [
    "# The json splitter by default splits lists\n",
    "# it will preprocess the json and convert list to dict with index:item as key:val pairs\n",
    "# If we don't want this for some reason it can be dissabled and lists will not be split\n",
    "texts = splitter.split_text(json_data=json_data, convert_lists=False)"
   ]
  },
  {
   "cell_type": "code",
   "execution_count": null,
   "id": "2d23b3aa",
   "metadata": {},
   "outputs": [],
   "source": [
    "# Let's look at the size of the chunks. Now we see one of them is bigger than the max\n",
    "print([len(text) for text in texts][:10])"
   ]
  },
  {
   "cell_type": "code",
   "execution_count": null,
   "id": "d2c2773e",
   "metadata": {},
   "outputs": [],
   "source": [
    "# This includes a list, which has not been converted to a dict and so it doesn't get split\n",
    "print(texts[1])"
   ]
  }
 ],
 "metadata": {
  "kernelspec": {
   "display_name": "Python 3 (ipykernel)",
   "language": "python",
   "name": "python3"
  },
  "language_info": {
   "codemirror_mode": {
    "name": "ipython",
    "version": 3
   },
   "file_extension": ".py",
   "mimetype": "text/x-python",
   "name": "python",
   "nbconvert_exporter": "python",
   "pygments_lexer": "ipython3",
   "version": "3.10.12"
  }
 },
 "nbformat": 4,
 "nbformat_minor": 5
}
