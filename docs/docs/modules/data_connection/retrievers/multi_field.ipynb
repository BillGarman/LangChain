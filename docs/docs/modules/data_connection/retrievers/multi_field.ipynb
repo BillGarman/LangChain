{
 "cells": [
  {
   "cell_type": "markdown",
   "metadata": {},
   "source": [
    "# Multi Field Retriever\n",
    "\n",
    "The `MultiFieldRetriever` class is a search tool designed to extend the capabilities of a standard document retriever, such as a `TFIDFRetriever`. It allows users to perform searches not only on the content of documents but also on various metadata fields associated with those documents. This functionality is particularly useful when the relevance of a document to a search query depends on more than just the content of the document itself.\n",
    "\n",
    "## Features\n",
    "\n",
    "- **Multi-Field Search**: The class can search across multiple fields, including both the document content and specified metadata fields.\n",
    "- **Flexible Metadata Inclusion**: Users can specify which metadata fields should be included in the search index, allowing for customized search experiences.\n",
    "- **Compatibility with any Retrievers**: `MultiFieldRetriever` works with any retriever that extends from `BaseRetriever`, making it a versatile tool for various search scenarios.\n",
    "\n",
    "## How To Use it\n"
   ]
  },
  {
   "cell_type": "markdown",
   "metadata": {},
   "source": [
    "To use `MultiFieldRetriever`, we need to pass the base retriever name to it. And other parameters can be same as the base retriever."
   ]
  },
  {
   "cell_type": "code",
   "execution_count": null,
   "metadata": {},
   "outputs": [],
   "source": [
    "from langchain.retrievers import MultiFieldRetriever, TFIDFRetriever\n",
    "from langchain.schema.document import Document\n",
    "\n",
    "# create some documents\n",
    "documents = [\n",
    "    Document(\n",
    "        page_content=\"This Japanese Sake is good\",\n",
    "        metadata={\"production year\": 1991, \"brand\": \"Yamazaki\", \"doc_id\": 1},\n",
    "    ),\n",
    "    Document(\n",
    "        page_content=\"This is a well-known brand of sake, which is a Japanese rice wine.\",\n",
    "        metadata={\"production year\": 1981, \"brand\": \"Dassai\", \"doc_id\": 2},\n",
    "    ),\n",
    "    Document(\n",
    "        page_content=\"This wine is good\",\n",
    "        metadata={\"production year\": 1920, \"doc_id\": 3},\n",
    "    ),\n",
    "    Document(\n",
    "        page_content=\"This is a very old brand wine\",\n",
    "        metadata={\"production year\": 1930, \"doc_id\": 4},\n",
    "    ),\n",
    "]\n",
    "\n",
    "# let's create a vanilla tfidf retriever\n",
    "tfidf = TFIDFRetriever.from_documents(documents)\n",
    "\n",
    "# to use the MultiFieldRetriever, we need to pass the base retriever name to it\n",
    "tfidf_multi_field = MultiFieldRetriever.from_documents(\n",
    "    retriever=TFIDFRetriever,\n",
    "    documents=documents,\n",
    ")"
   ]
  },
  {
   "cell_type": "markdown",
   "metadata": {},
   "source": [
    "We can see that multi field retriever returns the result that considers the metadata fields."
   ]
  },
  {
   "cell_type": "code",
   "execution_count": 2,
   "metadata": {},
   "outputs": [
    {
     "name": "stdout",
     "output_type": "stream",
     "text": [
      "This Japanese Sake is good\n",
      "{'production year': 1991, 'brand': 'Yamazaki', 'doc_id': 1}\n"
     ]
    }
   ],
   "source": [
    "result = tfidf.get_relevant_documents(\"Japanese Sake, Dassai\")[0]\n",
    "print(result.page_content)\n",
    "print(result.metadata)"
   ]
  },
  {
   "cell_type": "code",
   "execution_count": 3,
   "metadata": {},
   "outputs": [
    {
     "name": "stdout",
     "output_type": "stream",
     "text": [
      "This is a well-known brand of sake, which is a Japanese rice wine.\n",
      "{'production year': 1981, 'brand': 'Dassai', 'doc_id': 2}\n"
     ]
    }
   ],
   "source": [
    "result = tfidf_multi_field.get_relevant_documents(\"Japanese Sake, Dassai\")[0]\n",
    "print(result.page_content)\n",
    "print(result.metadata)"
   ]
  },
  {
   "cell_type": "markdown",
   "metadata": {},
   "source": [
    "You can set the metadata fields to be included in the search index. If you do not specify any metadata fields, it will search across all metadata fields.\n",
    "From the following example, we can see by setting the `procudtion year` to be included in the search index, other metadata fields was not included in the search index, so the first example failed but the second example succeeded."
   ]
  },
  {
   "cell_type": "code",
   "execution_count": 7,
   "metadata": {},
   "outputs": [
    {
     "name": "stdout",
     "output_type": "stream",
     "text": [
      "This Japanese Sake is good\n",
      "{'production year': 1991, 'brand': 'Yamazaki', 'doc_id': 1}\n"
     ]
    }
   ],
   "source": [
    "tfidf_with_year = MultiFieldRetriever.from_documents(\n",
    "    TFIDFRetriever, documents, meta_data_keys=[\"production year\"]\n",
    ")\n",
    "result_1 = tfidf_with_year.get_relevant_documents(\"Japanese Sake, Dassai\")[0]\n",
    "print(result_1.page_content)\n",
    "print(result_1.metadata)"
   ]
  },
  {
   "cell_type": "code",
   "execution_count": 8,
   "metadata": {},
   "outputs": [
    {
     "name": "stdout",
     "output_type": "stream",
     "text": [
      "This is a very old brand wine\n",
      "{'production year': 1930, 'doc_id': 4}\n"
     ]
    }
   ],
   "source": [
    "result_2 = tfidf_with_year.get_relevant_documents(\"Wine that was produced in 1930 \")[0]\n",
    "print(result_2.page_content)\n",
    "print(result_2.metadata)"
   ]
  },
  {
   "cell_type": "markdown",
   "metadata": {},
   "source": [
    "The `MultiFieldRetriever` constructs an internal retriever that searches the text containing both the document content and the specified metadata fields. "
   ]
  },
  {
   "cell_type": "code",
   "execution_count": 12,
   "metadata": {},
   "outputs": [
    {
     "name": "stdout",
     "output_type": "stream",
     "text": [
      "===\n",
      "production year: 1930\n",
      "===\n",
      "content: This is a very old brand wine\n"
     ]
    }
   ],
   "source": [
    "internal_result = tfidf_with_year.retriever.get_relevant_documents(\n",
    "    \"Wine that was produced in 1930 \"\n",
    ")[0]\n",
    "print(internal_result.page_content)"
   ]
  },
  {
   "cell_type": "markdown",
   "metadata": {},
   "source": [
    "By default, it uses the `_get_relevant_documents` function, but you can pass your own function to the `from_documents` method when creating the `MultiFieldRetriever`. This function should take two arguments, `doc` and `meta_data_keys`, and return a string of formatted text.   \n",
    "Here is an example:"
   ]
  },
  {
   "cell_type": "code",
   "execution_count": 15,
   "metadata": {},
   "outputs": [
    {
     "name": "stdout",
     "output_type": "stream",
     "text": [
      "---\n",
      "production year: 1930\n",
      "---\n",
      "content: This is a very old brand wine\n"
     ]
    }
   ],
   "source": [
    "def format_string(doc, meta_data_keys):\n",
    "    if len(meta_data_keys) == 0:\n",
    "        meta_data = doc.metadata\n",
    "    else:\n",
    "        meta_data = {k: v for k, v in doc.metadata.items() if k in meta_data_keys}\n",
    "    meta_data_str = \"\\n\".join([f\"---\\n{k}: {v}\" for k, v in meta_data.items()])\n",
    "    return f\"{meta_data_str}\\n---\\ncontent: {doc.page_content}\"\n",
    "\n",
    "\n",
    "tfidf_year_custom = MultiFieldRetriever.from_documents(\n",
    "    TFIDFRetriever,\n",
    "    documents,\n",
    "    meta_data_keys=[\"production year\"],\n",
    "    str_concat_func=format_string,\n",
    ")\n",
    "internal_result = tfidf_year_custom.retriever.get_relevant_documents(\n",
    "    \"Wine that was produced in 1930 \"\n",
    ")[0]\n",
    "print(internal_result.page_content)  # we can see the `===` part changed to `---`"
   ]
  },
  {
   "cell_type": "markdown",
   "metadata": {},
   "source": [
    "If you want to use a vector store and set the search parameters in the retriever, you can pass `search_kwargs` to the `from_documents` method.  \n",
    "Here is an example that set the `k` parameter to be 1 in the search process:"
   ]
  },
  {
   "cell_type": "code",
   "execution_count": 23,
   "metadata": {},
   "outputs": [],
   "source": [
    "from langchain.embeddings import OpenAIEmbeddings\n",
    "from langchain.vectorstores import FAISS\n",
    "\n",
    "embedding = OpenAIEmbeddings()\n",
    "faiss_multi_field = MultiFieldRetriever.from_documents(\n",
    "    retriever=FAISS,\n",
    "    documents=documents,\n",
    "    embedding=embedding,\n",
    "    search_kwargs={\"k\": 1},\n",
    ")"
   ]
  },
  {
   "cell_type": "code",
   "execution_count": 24,
   "metadata": {},
   "outputs": [
    {
     "data": {
      "text/plain": [
       "[Document(page_content='This is a very old brand wine', metadata={'production year': 1930, 'doc_id': 4})]"
      ]
     },
     "execution_count": 24,
     "metadata": {},
     "output_type": "execute_result"
    }
   ],
   "source": [
    "faiss_multi_field.get_relevant_documents(\"Wine that was produced in 1930 \")"
   ]
  }
 ],
 "metadata": {
  "kernelspec": {
   "display_name": "notion-db",
   "language": "python",
   "name": "python3"
  },
  "language_info": {
   "codemirror_mode": {
    "name": "ipython",
    "version": 3
   },
   "file_extension": ".py",
   "mimetype": "text/x-python",
   "name": "python",
   "nbconvert_exporter": "python",
   "pygments_lexer": "ipython3",
   "version": "3.9.0"
  }
 },
 "nbformat": 4,
 "nbformat_minor": 2
}
