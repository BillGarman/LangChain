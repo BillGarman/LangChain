{
 "cells": [
  {
   "cell_type": "raw",
   "id": "b5fc1fc7-c4c5-418f-99da-006c604a7ea6",
   "metadata": {},
   "source": [
    "---\n",
    "title: Custom Retriever\n",
    "sidebar_position: 10\n",
    "---"
   ]
  },
  {
   "cell_type": "markdown",
   "id": "ff6f3c79-0848-4956-9115-54f6b2134587",
   "metadata": {},
   "source": [
    "# Custom Retriever\n",
    "\n",
    "## Overview\n",
    "\n",
    "Many LLM applications involve retrieving information from external data sources using a `Retriever`. \n",
    "\n",
    "The responsibility of a retriever is to return a list of the most relevant `Documents` that correspond to a given user `query`.\n",
    "\n",
    "Downstream `Document` objects are often formatted into prompts that are fed into an LLM, allowing the LLM to use the information in the `Document` to generate a desired response (e.g., answering a user question).\n",
    "\n",
    "## Interface\n",
    "\n",
    "To create your own retriever, you need to extend the `BaseRetriever` class and implement the following methods:\n",
    "\n",
    "| Method                         | Description                                      | Required/Optional |\n",
    "|--------------------------------|--------------------------------------------------|-------------------|\n",
    "| `_get_relevant_documents`      | Get documents relevant to a query.               | Required          |\n",
    "| `_aget_relevant_documents`     | Implement to provide async native support.       | Optional          |\n",
    "\n",
    "\n",
    "The logic inside of `_get_relevant_documents` can involve arbitrary calls to a database or to the web using requests.\n",
    "\n",
    "By inherting from `BaseRetriever`, your retriever will automatically become a `LangChain` Runnable and will gain some of the standard `Runnable` functionality out of the box.\n",
    "\n",
    ":::{.callout-tip}\n",
    "\n",
    "If you wish, you can use a `RunnableLambda` or `RunnableGenerator` to implement a retriever as well.\n",
    "\n",
    "The main benefit of using a `BaseRetriever` is that:\n",
    "1) It's a well known entity in LangChain, so some integrations may implement specialized behavior for retrievers.\n",
    "2) It'll appear as a retriever in monitoring applications (e.g., LangSmith)\n",
    "3) It'll appear explicitly as a retriever in some APIs; e.g., it'll yield `on_retriever_[x]` events rather than `on_chain_[x]` events with `astream_events`.\n",
    ":::"
   ]
  },
  {
   "cell_type": "markdown",
   "id": "2be9fe82-0757-41d1-a647-15bed11fd3bf",
   "metadata": {},
   "source": [
    "## Example\n",
    "\n",
    "Let's implement a toy retriever that returns documents that contain the user query."
   ]
  },
  {
   "cell_type": "code",
   "execution_count": 1,
   "id": "791f6b21-d7a7-4f1a-af95-c4cc932122d6",
   "metadata": {},
   "outputs": [],
   "source": [
    "from typing import List\n",
    "\n",
    "from langchain_core.retrievers import BaseRetriever\n",
    "from langchain_core.callbacks import CallbackManagerForRetrieverRun\n",
    "from langchain_core.documents import Document\n",
    "\n",
    "\n",
    "class ToyRetriever(BaseRetriever):\n",
    "    documents: List[Document]\n",
    "    \"\"\"List of documents to retrieve from.\"\"\"\n",
    "    k: int\n",
    "    \"\"\"Number of top results to return\"\"\"\n",
    "    \n",
    "    def _get_relevant_documents(\n",
    "        self, query: str, *, run_manager: CallbackManagerForRetrieverRun\n",
    "    ) -> List[Document]:\n",
    "        \"\"\"Sync implementations for retriever.\"\"\"\n",
    "        matching_documents = []\n",
    "        for document in documents:\n",
    "            if len(matching_documents) > self.k:\n",
    "                return matching_documents\n",
    "\n",
    "            if query.lower() in document.page_content.lower():\n",
    "                matching_documents.append(document)\n",
    "        return matching_documents\n",
    "\n",
    "\n",
    "    # Optional: Provide a more efficient native implementation by overriding \n",
    "    # _aget_relevant_documents\n",
    "    # async def _aget_relevant_documents(\n",
    "    #     self, query: str, *, run_manager: AsyncCallbackManagerForRetrieverRun\n",
    "    # ) -> List[Document]:\n",
    "    #     \"\"\"Asynchronously get documents relevant to a query.\n",
    "        \n",
    "    #     Args:\n",
    "    #         query: String to find relevant documents for\n",
    "    #         run_manager: The callbacks handler to use\n",
    "            \n",
    "    #     Returns:\n",
    "    #         List of relevant documents\n",
    "    #     \"\"\"\n",
    "\n",
    "\n",
    "# Creating 10 sample Document objects about pets\n",
    "documents = [\n",
    "    Document(page_content=\"Dogs are great companions, known for their loyalty and friendliness.\", metadata={\"type\": \"dog\", \"trait\": \"loyalty\"}),\n",
    "    Document(page_content=\"Cats are independent pets that often enjoy their own space.\", metadata={\"type\": \"cat\", \"trait\": \"independence\"}),\n",
    "    Document(page_content=\"Goldfish are popular pets for beginners, requiring relatively simple care.\", metadata={\"type\": \"fish\", \"trait\": \"low maintenance\"}),\n",
    "    Document(page_content=\"Parrots are intelligent birds capable of mimicking human speech.\", metadata={\"type\": \"bird\", \"trait\": \"intelligence\"}),\n",
    "    Document(page_content=\"Rabbits are social animals that need plenty of space to hop around.\", metadata={\"type\": \"rabbit\", \"trait\": \"social\"}),\n",
    "    Document(page_content=\"Hamsters are nocturnal animals, making them active during the night.\", metadata={\"type\": \"hamster\", \"trait\": \"nocturnal\"}),\n",
    "    Document(page_content=\"Turtles are known for their long lifespan, making them a long-term commitment as pets.\", metadata={\"type\": \"turtle\", \"trait\": \"longevity\"}),\n",
    "    Document(page_content=\"Snakes can be fascinating pets, but they require specific care and handling.\", metadata={\"type\": \"snake\", \"trait\": \"unique care\"}),\n",
    "    Document(page_content=\"Guinea pigs are friendly and easy to handle, making them great pets for children.\", metadata={\"type\": \"guinea pig\", \"trait\": \"friendly\"}),\n",
    "    Document(page_content=\"Horses require a lot of space and care, but they can form strong bonds with their owners.\", metadata={\"type\": \"horse\", \"trait\": \"strong bonding\"}),\n",
    "]"
   ]
  },
  {
   "cell_type": "markdown",
   "id": "2eac1f28-29c1-4888-b3aa-b4fa70c73b4c",
   "metadata": {},
   "source": [
    "## Test it 🧪"
   ]
  },
  {
   "cell_type": "code",
   "execution_count": 2,
   "id": "8656768b-1cca-4fb6-b9a2-3eec93d8e609",
   "metadata": {},
   "outputs": [
    {
     "data": {
      "text/plain": [
       "[Document(page_content='Cats are independent pets that often enjoy their own space.', metadata={'type': 'cat', 'trait': 'independence'}),\n",
       " Document(page_content='Rabbits are social animals that need plenty of space to hop around.', metadata={'type': 'rabbit', 'trait': 'social'})]"
      ]
     },
     "execution_count": 2,
     "metadata": {},
     "output_type": "execute_result"
    }
   ],
   "source": [
    "retriever = ToyRetriever(documents=documents, k=3)\n",
    "retriever.invoke(\"that\")"
   ]
  },
  {
   "cell_type": "markdown",
   "id": "13f76f6e-cf2b-4f67-859b-0ef8be98abbe",
   "metadata": {},
   "source": [
    "But it's a runnable so it'll benefit from the standard Runnable Interface! 🤩"
   ]
  },
  {
   "cell_type": "code",
   "execution_count": 3,
   "id": "3672e9fe-4365-4628-9d25-31924cfaf784",
   "metadata": {},
   "outputs": [
    {
     "data": {
      "text/plain": [
       "[Document(page_content='Cats are independent pets that often enjoy their own space.', metadata={'type': 'cat', 'trait': 'independence'}),\n",
       " Document(page_content='Rabbits are social animals that need plenty of space to hop around.', metadata={'type': 'rabbit', 'trait': 'social'})]"
      ]
     },
     "execution_count": 3,
     "metadata": {},
     "output_type": "execute_result"
    }
   ],
   "source": [
    "await retriever.ainvoke('that')"
   ]
  },
  {
   "cell_type": "code",
   "execution_count": 4,
   "id": "e2c96eed-6813-421c-acf2-6554839840ee",
   "metadata": {},
   "outputs": [
    {
     "data": {
      "text/plain": [
       "[[Document(page_content='Dogs are great companions, known for their loyalty and friendliness.', metadata={'type': 'dog', 'trait': 'loyalty'})],\n",
       " [Document(page_content='Cats are independent pets that often enjoy their own space.', metadata={'type': 'cat', 'trait': 'independence'})]]"
      ]
     },
     "execution_count": 4,
     "metadata": {},
     "output_type": "execute_result"
    }
   ],
   "source": [
    "retriever.batch(['dog', 'cat'])"
   ]
  },
  {
   "cell_type": "code",
   "execution_count": 5,
   "id": "978b6636-bf36-42c2-969c-207718f084cf",
   "metadata": {},
   "outputs": [
    {
     "name": "stdout",
     "output_type": "stream",
     "text": [
      "{'event': 'on_retriever_start', 'run_id': '5acd4b11-45d9-4984-806d-7c35b1774108', 'name': 'ToyRetriever', 'tags': [], 'metadata': {}, 'data': {'input': 'bar'}}\n",
      "{'event': 'on_retriever_stream', 'run_id': '5acd4b11-45d9-4984-806d-7c35b1774108', 'tags': [], 'metadata': {}, 'name': 'ToyRetriever', 'data': {'chunk': []}}\n",
      "{'event': 'on_retriever_end', 'name': 'ToyRetriever', 'run_id': '5acd4b11-45d9-4984-806d-7c35b1774108', 'tags': [], 'metadata': {}, 'data': {'output': []}}\n"
     ]
    },
    {
     "name": "stderr",
     "output_type": "stream",
     "text": [
      "/home/eugene/.pyenv/versions/3.11.4/envs/langchain_3_11_4/lib/python3.11/site-packages/langchain_core/_api/beta_decorator.py:87: LangChainBetaWarning: This API is in beta and may change in the future.\n",
      "  warn_beta(\n"
     ]
    }
   ],
   "source": [
    "async for event in retriever.astream_events('bar', version='v1'):\n",
    "    print(event)"
   ]
  },
  {
   "cell_type": "markdown",
   "id": "7b45c404-37bf-4370-bb7c-26556777ff46",
   "metadata": {},
   "source": [
    "## Contributing\n",
    "\n",
    "We appreciate contributions for retrievers!\n",
    "\n",
    "Here's a checklist to help make sure your contribution gets added to LangChain:\n",
    "\n",
    "Documentation:\n",
    "\n",
    "* The retriever contains doc-strings for all initialization arguments, as these will be surfaced in the [API Reference](https://api.python.langchain.com/en/stable/langchain_api_reference.html).\n",
    "* The class doc-string for the model contains a link to any relevant APIs used for the retriever (e.g., if the retriever is retrieving from wikipedia, it'll be good to link to the wikipedia API!)\n",
    "\n",
    "Tests:\n",
    "\n",
    "* [ ] Add unit or integration tests to verify that `invoke` and `ainvoke` work.\n",
    "\n",
    "Optimizations:\n",
    "\n",
    "If the retriever is connecting to external data sources (e.g., an API or a file), it'll almost certainly benefit from an async native optimization!\n",
    " \n",
    "* [ ] Provide a native async implementation of `_aget_relevant_documents` (used by `ainvoke`)"
   ]
  }
 ],
 "metadata": {
  "kernelspec": {
   "display_name": "Python 3 (ipykernel)",
   "language": "python",
   "name": "python3"
  },
  "language_info": {
   "codemirror_mode": {
    "name": "ipython",
    "version": 3
   },
   "file_extension": ".py",
   "mimetype": "text/x-python",
   "name": "python",
   "nbconvert_exporter": "python",
   "pygments_lexer": "ipython3",
   "version": "3.11.4"
  }
 },
 "nbformat": 4,
 "nbformat_minor": 5
}
