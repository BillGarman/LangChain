{
 "cells": [
  {
   "cell_type": "markdown",
   "id": "9597802c",
   "metadata": {},
   "source": [
    "# AI21\n",
    "\n",
    "[AI21 Studio](https://docs.ai21.com/) provides API access to `Jurassic-2` large language models.\n",
    "\n",
    "This example goes over how to use LangChain to interact with [AI21 models](https://docs.ai21.com/docs/jurassic-2-models)."
   ]
  },
  {
   "cell_type": "code",
   "execution_count": 1,
   "id": "02be122d-04e8-4ec6-84d1-f1d8961d6828",
   "metadata": {
    "tags": []
   },
   "outputs": [
    {
     "name": "stdout",
     "output_type": "stream",
     "text": [
      "Note: you may need to restart the kernel to use updated packages.\n"
     ]
    }
   ],
   "source": [
    "# install the package:\n",
    "%pip install --upgrade --quiet  ai21"
   ]
  },
  {
   "cell_type": "code",
   "execution_count": 1,
   "id": "4229227e-6ca2-41ad-a3c3-5f29e3559091",
   "metadata": {
    "tags": []
   },
   "outputs": [],
   "source": [
    "# get AI21_API_KEY. Use https://studio.ai21.com/account/account\n",
    "\n",
    "from getpass import getpass\n",
    "\n",
    "AI21_API_KEY = getpass()"
   ]
  },
  {
   "cell_type": "code",
   "execution_count": 3,
   "id": "6fb585dd",
   "metadata": {
    "tags": []
   },
   "outputs": [],
   "source": [
    "from langchain.chains import LLMChain\n",
    "from langchain.prompts import PromptTemplate\n",
    "from langchain_community.llms import AI21"
   ]
  },
  {
   "cell_type": "code",
   "execution_count": 4,
   "id": "035dea0f",
   "metadata": {
    "tags": []
   },
   "outputs": [],
   "source": [
    "template = \"\"\"Question: {question}\n",
    "\n",
    "Answer: Let's think step by step.\"\"\"\n",
    "\n",
    "prompt = PromptTemplate(template=template, input_variables=[\"question\"])"
   ]
  },
  {
   "cell_type": "code",
   "execution_count": 5,
   "id": "3f3458d9",
   "metadata": {
    "tags": []
   },
   "outputs": [],
   "source": [
    "llm = AI21(ai21_api_key=AI21_API_KEY)"
   ]
  },
  {
   "cell_type": "code",
   "execution_count": 6,
   "id": "a641dbd9",
   "metadata": {
    "tags": []
   },
   "outputs": [],
   "source": [
    "llm_chain = LLMChain(prompt=prompt, llm=llm)"
   ]
  },
  {
   "cell_type": "code",
   "execution_count": 8,
   "id": "9f0b1960",
   "metadata": {
    "tags": []
   },
   "outputs": [
    {
     "data": {
      "text/plain": [
       "{'question': 'What NFL team won the Super Bowl in the year Justin Beiber was born?',\n",
       " 'text': \"\\nThe Super Bowl is the annual championship game of the National Football League (NFL), a professional American football league.\\n\\nTake away NFL from the phrase and we are left with Bowl.\\nBowl is a word used for trophies.\\n\\nSince there is no trophy called Super Bowl, let's try to find the team that won a Bowl in the year Justin Beiber was born.\\n\\nLet's find that out.\\nIn the year 1994, the 27th of May, Justin Beiber was born.\\n\\nLet's find which team won a Bowl in the year 1994.\\n\\nResearching now.\\n\\nIn the year 1994, the 27th of May, 1994, the 68th edition of NFL championship was played, won by the Dallas Cowboys.\\n\\nFinal answer: Dallas Cowboys\"}"
      ]
     },
     "execution_count": 8,
     "metadata": {},
     "output_type": "execute_result"
    }
   ],
   "source": [
    "question = \"What NFL team won the Super Bowl in the year Justin Beiber was born?\"\n",
    "\n",
    "llm_chain.invoke(question)"
   ]
  },
  {
   "cell_type": "code",
   "execution_count": null,
   "id": "22bce013",
   "metadata": {},
   "outputs": [],
   "source": []
  }
 ],
 "metadata": {
  "kernelspec": {
   "display_name": "Python 3 (ipykernel)",
   "language": "python",
   "name": "python3"
  },
  "language_info": {
   "codemirror_mode": {
    "name": "ipython",
    "version": 3
   },
   "file_extension": ".py",
   "mimetype": "text/x-python",
   "name": "python",
   "nbconvert_exporter": "python",
   "pygments_lexer": "ipython3",
   "version": "3.10.13"
  }
 },
 "nbformat": 4,
 "nbformat_minor": 5
}
