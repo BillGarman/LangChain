{
 "cells": [
  {
   "cell_type": "markdown",
   "source": [
    "# Yuan2.0\n",
    "\n",
    "[Yuan2.0](https://github.com/IEIT-Yuan/Yuan-2.0) Yuan2.0 is a new generation Fundamental Large Language Model developed by IEIT System. We have published all three models, Yuan 2.0-102B, Yuan 2.0-51B, and Yuan 2.0-2B. And we provide relevant scripts for pretraining, fine-tuning, and inference services for other developers. Yuan2.0 is based on Yuan1.0, utilizing a wider range of high-quality pre training data and instruction fine-tuning datasets to enhance the model's understanding of semantics, mathematics, reasoning, code, knowledge, and other aspects.\n",
    "\n",
    "This example goes over how to use LangChain to interact with `Yuan2.0`(2B/51B/102B) Inference for text generation.\n",
    "\n",
    "Yuan2.0 set up an inference service so user just need request the inference api to get result, which is introduced in [Yuan2.0 Inference-Server](https://github.com/IEIT-Yuan/Yuan-2.0/blob/main/docs/inference_server.md)."
   ],
   "metadata": {
    "collapsed": false
   }
  },
  {
   "cell_type": "code",
   "execution_count": null,
   "metadata": {},
   "outputs": [],
   "source": [
    "from langchain.chains import LLMChain\n",
    "from langchain.llms import Yuan2"
   ]
  },
  {
   "cell_type": "code",
   "execution_count": 4,
   "metadata": {},
   "outputs": [
    {
     "ename": "NameError",
     "evalue": "name 'Yuan2' is not defined",
     "output_type": "error",
     "traceback": [
      "\u001B[1;31m---------------------------------------------------------------------------\u001B[0m",
      "\u001B[1;31mNameError\u001B[0m                                 Traceback (most recent call last)",
      "Cell \u001B[1;32mIn[4], line 8\u001B[0m\n\u001B[0;32m      2\u001B[0m infer_api \u001B[38;5;241m=\u001B[39m \u001B[38;5;124m\"\u001B[39m\u001B[38;5;124mhttp://127.0.0.1:8000\u001B[39m\u001B[38;5;124m\"\u001B[39m\n\u001B[0;32m      4\u001B[0m \u001B[38;5;66;03m# direct access endpoint in a proxied environment\u001B[39;00m\n\u001B[0;32m      5\u001B[0m \u001B[38;5;66;03m# import os\u001B[39;00m\n\u001B[0;32m      6\u001B[0m \u001B[38;5;66;03m# os.environ[\"no_proxy\"]=\"localhost,127.0.0.1,::1\"\u001B[39;00m\n\u001B[1;32m----> 8\u001B[0m yuan_llm \u001B[38;5;241m=\u001B[39m \u001B[43mYuan2\u001B[49m(\n\u001B[0;32m      9\u001B[0m     infer_api\u001B[38;5;241m=\u001B[39m\u001B[38;5;124m\"\u001B[39m\u001B[38;5;124mhttp://127.0.0.1:8000/yuan\u001B[39m\u001B[38;5;124m\"\u001B[39m,\n\u001B[0;32m     10\u001B[0m     max_tokens\u001B[38;5;241m=\u001B[39m\u001B[38;5;241m2048\u001B[39m,\n\u001B[0;32m     11\u001B[0m     temp\u001B[38;5;241m=\u001B[39m\u001B[38;5;241m1.0\u001B[39m,\n\u001B[0;32m     12\u001B[0m     top_p\u001B[38;5;241m=\u001B[39m\u001B[38;5;241m0.9\u001B[39m,\n\u001B[0;32m     13\u001B[0m     top_k\u001B[38;5;241m=\u001B[39m\u001B[38;5;241m40\u001B[39m,\n\u001B[0;32m     14\u001B[0m     use_history\u001B[38;5;241m=\u001B[39m\u001B[38;5;28;01mFalse\u001B[39;00m)\n\u001B[0;32m     16\u001B[0m \u001B[38;5;66;03m# turn on use_history only when you want the Yuan2.0 to keep track of the conversation history\u001B[39;00m\n\u001B[0;32m     17\u001B[0m \u001B[38;5;66;03m# and send the accumulated context to the backend model api, which make it stateful. By default it is stateless.\u001B[39;00m\n\u001B[0;32m     18\u001B[0m \u001B[38;5;66;03m# llm.use_history = True\u001B[39;00m\n",
      "\u001B[1;31mNameError\u001B[0m: name 'Yuan2' is not defined"
     ]
    }
   ],
   "source": [
    "# default infer_api for a local deployed Yuan2.0 inference server\n",
    "infer_api = \"http://127.0.0.1:8000\"\n",
    "\n",
    "# direct access endpoint in a proxied environment\n",
    "# import os\n",
    "# os.environ[\"no_proxy\"]=\"localhost,127.0.0.1,::1\"\n",
    "\n",
    "yuan_llm = Yuan2(\n",
    "    infer_api=\"http://127.0.0.1:8000/yuan\",\n",
    "    max_tokens=2048,\n",
    "    temp=1.0,\n",
    "    top_p=0.9,\n",
    "    top_k=40,\n",
    "    use_history=False)\n",
    "\n",
    "# turn on use_history only when you want the Yuan2.0 to keep track of the conversation history\n",
    "# and send the accumulated context to the backend model api, which make it stateful. By default it is stateless.\n",
    "# llm.use_history = True"
   ]
  },
  {
   "cell_type": "code",
   "execution_count": 24,
   "metadata": {},
   "outputs": [],
   "source": [
    "question = \"请介绍一下中国？\""
   ]
  },
  {
   "cell_type": "code",
   "execution_count": null,
   "metadata": {
    "pycharm": {
     "is_executing": true
    }
   },
   "outputs": [],
   "source": [
    "print(yuan_llm(question))"
   ]
  }
 ],
 "metadata": {
  "kernelspec": {
   "display_name": "langchain-dev",
   "language": "python",
   "name": "python3"
  },
  "language_info": {
   "codemirror_mode": {
    "name": "ipython",
    "version": 3
   },
   "file_extension": ".py",
   "mimetype": "text/x-python",
   "name": "python",
   "nbconvert_exporter": "python",
   "pygments_lexer": "ipython3",
   "version": "3.10.12"
  }
 },
 "nbformat": 4,
 "nbformat_minor": 2
}
