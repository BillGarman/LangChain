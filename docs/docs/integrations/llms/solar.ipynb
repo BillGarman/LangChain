{
 "cells": [
  {
   "cell_type": "markdown",
   "id": "c845c1c0-f03d-4e23-a7cf-eecd3c3192ad",
   "metadata": {},
   "source": [
    "# Solar\n",
    "[Solar](https://developers.upstage.ai/product-guides/solar) 10.7B is a large language model (LLM) with 10.7 billion parameters, demonstrating superior performance in various natural language processing (NLP) tasks.\n",
    "Our APIs provide a broad spectrum of capabilities, enabling you to harness the power of advanced AI to meet your project's needs.\n",
    "\n",
    "* Chat: Generate natural, engaging text automatically. Ideal for chatbots, content creation, and any application requiring high-quality written content.\n",
    "* Translation: Break down language barriers with high-fidelity translations, making your applications accessible to a global audience.\n",
    "* Summarization: Convert lengthy documents into concise, easy-to-understand summaries, perfect for quick insights and information retrieval.\n",
    "* Answer Verification: Enhance the reliability of automated responses by verifying their accuracy within given contexts.\n",
    "* Function Calling: Simplify complex coding tasks by executing code with natural language commands, streamlining development processes.\n",
    "* Embeddings: Transform textual data into numerical vectors, enabling machines to understand and process language for tasks like semantic analysis and document classification."
   ]
  },
  {
   "cell_type": "markdown",
   "id": "3eaadb10-f495-4de1-959e-05834ecceaa4",
   "metadata": {},
   "source": [
    "## Prerequisite\n",
    "- Get Solar's api_key [Solar API Console](https://console.upstage.ai/services/solar) (for more info, see [Solar Intro](https://developers.upstage.ai/docs/getting-started/introduction) ), then set environment variables `SOLAR_API_KEY` or pass parameters when creating `Solar` as the demo above."
   ]
  },
  {
   "cell_type": "markdown",
   "id": "98883849-6c1d-4d98-aeef-650a8dc90190",
   "metadata": {},
   "source": [
    "### Using Solar as LLM"
   ]
  },
  {
   "cell_type": "code",
   "execution_count": 5,
   "id": "2ff00e23-1a90-4a39-b220-83ebfffd96d6",
   "metadata": {
    "execution": {
     "iopub.execute_input": "2024-03-31T15:57:03.714082Z",
     "iopub.status.busy": "2024-03-31T15:57:03.713437Z",
     "iopub.status.idle": "2024-03-31T15:57:08.882219Z",
     "shell.execute_reply": "2024-03-31T15:57:08.881170Z",
     "shell.execute_reply.started": "2024-03-31T15:57:03.713969Z"
    }
   },
   "outputs": [
    {
     "name": "stdout",
     "output_type": "stream",
     "text": [
      "Once upon a time, in a faraway land, there was a young girl named Lily. Lily was a kind and curious girl who loved to explore the world around her. One day, while wandering through the forest, she came across a small, hidden path that she had never seen before.\n",
      "\n",
      "Curiosity getting the better of her, Lily decided to follow the path. As she walked, the trees grew taller and the path became narrower. Soon, Lily found herself in a clearing filled with the most beautiful flowers she had ever seen.\n",
      "\n",
      "In the center of the clearing stood a tall, ancient tree. As Lily approached the tree, she heard a soft whispering sound coming from its leaves. She looked up and saw a group of fairies fluttering around the tree, their wings glimmering in the sunlight.\n",
      "\n",
      "The fairies welcomed Lily to their home and invited her to stay for a while. Lily was thrilled and spent the day playing with the fairies, learning about their magical world.\n",
      "\n",
      "As the sun began to set, the fairies told Lily that it was time for her to go home. They gave her a small bag of magic dust and told her to sprinkle it on her window sill before she went to bed.\n",
      "\n",
      "Lily thanked the fairies and made her way back through the forest. When she got home, she sprinkled the magic dust on her window sill and went to bed.\n",
      "\n",
      "To her surprise, when she woke up the next morning, she found herself back in the fairy clearing. The fairies welcomed her back and told her that she was now one of them. Lily was overjoyed and spent many happy days and nights with her new fairy friends, exploring their magical world.\n",
      "\n",
      "From that day on, Lily would visit the fairies whenever she wanted, simply by sprinkling the magic dust on her window sill. She would return to her normal life the next morning, but the memories of her adventures with the fairies would stay with her forever.\n"
     ]
    }
   ],
   "source": [
    "import os\n",
    "\n",
    "from langchain_community.llms.solar import Solar\n",
    "\n",
    "os.environ[\"SOLAR_API_KEY\"] = \"SOLAR_API_KEY\"\n",
    "llm = Solar()\n",
    "response = llm.invoke(\"tell me a story?\")\n",
    "print(response)"
   ]
  },
  {
   "cell_type": "markdown",
   "id": "95ff0209-f889-40dc-b3fb-2dcabc4c1dcd",
   "metadata": {},
   "source": [
    "### Using Solar as LLMChain"
   ]
  },
  {
   "cell_type": "code",
   "execution_count": 6,
   "id": "67fa1711-f08f-43fa-a3bd-75ae5bc6b988",
   "metadata": {
    "execution": {
     "iopub.execute_input": "2024-03-31T15:57:26.378463Z",
     "iopub.status.busy": "2024-03-31T15:57:26.376600Z",
     "iopub.status.idle": "2024-03-31T15:57:27.822937Z",
     "shell.execute_reply": "2024-03-31T15:57:27.820642Z",
     "shell.execute_reply.started": "2024-03-31T15:57:26.378310Z"
    }
   },
   "outputs": [
    {
     "name": "stdout",
     "output_type": "stream",
     "text": [
      "Justin Beiber was born on March 1, 1994.\n",
      "The Super Bowl was played on January 30, 1994.\n",
      "The team that won the Super Bowl in 1994 was the Dallas Cowboys.\n",
      "So, the answer is Dallas Cowboys.\n"
     ]
    }
   ],
   "source": [
    "from langchain.chains import LLMChain\n",
    "from langchain.prompts import PromptTemplate\n",
    "from langchain_community.llms.solar import Solar\n",
    "\n",
    "template = \"\"\"Question: {question}\n",
    "\n",
    "Answer: Let's think step by step.\"\"\"\n",
    "\n",
    "prompt = PromptTemplate.from_template(template)\n",
    "\n",
    "llm = Solar()\n",
    "llm_chain = LLMChain(prompt=prompt, llm=llm)\n",
    "\n",
    "question = \"What NFL team won the Super Bowl in the year Justin Beiber was born?\"\n",
    "\n",
    "response = llm_chain.run(question)\n",
    "print(response)"
   ]
  },
  {
   "cell_type": "code",
   "execution_count": null,
   "id": "9ebaf1f7-2330-4862-9d55-4078691da945",
   "metadata": {},
   "outputs": [],
   "source": []
  }
 ],
 "metadata": {
  "kernelspec": {
   "display_name": "Python 3 (ipykernel)",
   "language": "python",
   "name": "python3"
  },
  "language_info": {
   "codemirror_mode": {
    "name": "ipython",
    "version": 3
   },
   "file_extension": ".py",
   "mimetype": "text/x-python",
   "name": "python",
   "nbconvert_exporter": "python",
   "pygments_lexer": "ipython3",
   "version": "3.9.0"
  }
 },
 "nbformat": 4,
 "nbformat_minor": 5
}
