{
 "cells": [
  {
   "cell_type": "markdown",
   "id": "c845c1c0-f03d-4e23-a7cf-eecd3c3192ad",
   "metadata": {},
   "source": [
    "# Solar\n",
    "[Solar](https://developers.upstage.ai/product-guides/solar) 10.7B is a large language model (LLM) with 10.7 billion parameters, demonstrating superior performance in various natural language processing (NLP) tasks.\n",
    "Our APIs provide a broad spectrum of capabilities, enabling you to harness the power of advanced AI to meet your project's needs.\n",
    "\n",
    "* Chat: Generate natural, engaging text automatically. Ideal for chatbots, content creation, and any application requiring high-quality written content.\n",
    "* Translation: Break down language barriers with high-fidelity translations, making your applications accessible to a global audience.\n",
    "* Summarization: Convert lengthy documents into concise, easy-to-understand summaries, perfect for quick insights and information retrieval.\n",
    "* Answer Verification: Enhance the reliability of automated responses by verifying their accuracy within given contexts.\n",
    "* Function Calling: Simplify complex coding tasks by executing code with natural language commands, streamlining development processes.\n",
    "* Embeddings: Transform textual data into numerical vectors, enabling machines to understand and process language for tasks like semantic analysis and document classification."
   ]
  },
  {
   "cell_type": "markdown",
   "id": "3eaadb10-f495-4de1-959e-05834ecceaa4",
   "metadata": {},
   "source": [
    "## Prerequisite\n",
    "- Get Solar's api_key [Solar API Console](https://console.upstage.ai/services/solar) (for more info, see [Solar Intro](https://developers.upstage.ai/docs/getting-started/introduction) ), then set environment variables `SOLAR_API_KEY` or pass parameters when creating `Solar` as the demo above."
   ]
  },
  {
   "cell_type": "markdown",
   "id": "98883849-6c1d-4d98-aeef-650a8dc90190",
   "metadata": {},
   "source": [
    "### Using Solar as LLM"
   ]
  },
  {
   "cell_type": "code",
   "execution_count": 1,
   "id": "2ff00e23-1a90-4a39-b220-83ebfffd96d6",
   "metadata": {
    "execution": {
     "iopub.execute_input": "2024-03-30T13:04:41.239059Z",
     "iopub.status.busy": "2024-03-30T13:04:41.235250Z",
     "iopub.status.idle": "2024-03-30T13:04:51.528636Z",
     "shell.execute_reply": "2024-03-30T13:04:51.527484Z",
     "shell.execute_reply.started": "2024-03-30T13:04:41.238921Z"
    }
   },
   "outputs": [
    {
     "data": {
      "text/plain": [
       "'Once upon a time, in a small village nestled in the mountains, there lived a young girl named Lily. Lily was a kind and adventurous girl who loved exploring the forests and meadows surrounding her village. She had long, golden hair and bright, emerald green eyes that sparkled with curiosity and wonder.\\n\\nOne day, while exploring the forest, Lily stumbled upon a hidden clearing. In the center of the clearing stood a beautiful, old tree. The tree was covered in vibrant, colorful leaves and was home to many birds and animals. Lily was fascinated by the tree and decided to sit underneath it to rest.\\n\\nAs she sat there, she heard a soft whispering sound coming from the tree. She leaned in closer and heard a voice saying, \"Lily, Lily, can you hear me?\" Surprised, Lily replied, \"Yes, I can hear you!\"\\n\\nThe voice then said, \"I am the guardian of this forest, and I need your help. The forest is in danger, and only you can save it.\" Lily was determined to help and asked the guardian what she could do.\\n\\nThe guardian told Lily that there was a powerful witch living in the village who wanted to cut down the trees in the forest to build more houses. The witch was using her magic to control the villagers and convince them that it was for their own good.\\n\\nLily knew that she had to stop the witch and protect the forest. She gathered her courage and went to the witch\\'s house. The witch was surprised to see such a young girl standing in front of her, but Lily was not afraid. She told the witch that she would not let her harm the forest and its creatures.\\n\\nThe witch laughed and said, \"You are just a child, what can you do?\" But Lily was determined, and with the help of the guardian, she used her kind and compassionate heart to break the witch\\'s spell. The villagers woke up and realized what the witch had been doing to them.\\n\\nThe villagers thanked Lily for saving the forest, and the guardian rewarded her with a magical seed. Lily planted the seed, and it grew into a beautiful, blooming tree that would protect the forest for generations to come.\\n\\nFrom that day on, Lily was known as the hero of the forest, and she continued to explore and protect the natural world around her. She taught others the importance of kindness, compassion, and the power of nature. And the forest and its creatures lived happily ever after, thanks to Lily\\'s bravery and determination.'"
      ]
     },
     "execution_count": 1,
     "metadata": {},
     "output_type": "execute_result"
    }
   ],
   "source": [
    "import os\n",
    "\n",
    "from langchain_community.llms.solar import Solar\n",
    "\n",
    "os.environ[\"SOLAR_API_KEY\"] = \"SOLAR_API_KEY\"\n",
    "llm = Solar()\n",
    "llm.invoke(\"tell me a story?\")"
   ]
  },
  {
   "cell_type": "markdown",
   "id": "95ff0209-f889-40dc-b3fb-2dcabc4c1dcd",
   "metadata": {},
   "source": [
    "### Using Solar as LLMChain"
   ]
  },
  {
   "cell_type": "code",
   "execution_count": 3,
   "id": "67fa1711-f08f-43fa-a3bd-75ae5bc6b988",
   "metadata": {
    "execution": {
     "iopub.execute_input": "2024-03-30T13:05:01.548767Z",
     "iopub.status.busy": "2024-03-30T13:05:01.547043Z",
     "iopub.status.idle": "2024-03-30T13:05:03.875893Z",
     "shell.execute_reply": "2024-03-30T13:05:03.875208Z",
     "shell.execute_reply.started": "2024-03-30T13:05:01.548705Z"
    }
   },
   "outputs": [
    {
     "data": {
      "text/plain": [
       "'Step 1: Find the year Justin Bieber was born.\\nJustin Bieber was born on March 1, 1994.\\n\\nStep 2: Determine the Super Bowl that took place in 1994.\\nSuper Bowl XXVIII was played in 1994.\\n\\nStep 3: Identify the winning team of Super Bowl XXVIII.\\nSuper Bowl XXVIII was won by the Dallas Cowboys.\\n\\nAnswer: The Dallas Cowboys won the Super Bowl in the year Justin Bieber was born.'"
      ]
     },
     "execution_count": 3,
     "metadata": {},
     "output_type": "execute_result"
    }
   ],
   "source": [
    "from langchain.chains import LLMChain\n",
    "from langchain.prompts import PromptTemplate\n",
    "from langchain_community.llms.solar import Solar\n",
    "\n",
    "template = \"\"\"Question: {question}\n",
    "\n",
    "Answer: Let's think step by step.\"\"\"\n",
    "\n",
    "prompt = PromptTemplate.from_template(template)\n",
    "\n",
    "llm = Solar()\n",
    "llm_chain = LLMChain(prompt=prompt, llm=llm)\n",
    "\n",
    "question = \"What NFL team won the Super Bowl in the year Justin Beiber was born?\"\n",
    "\n",
    "llm_chain.run(question)"
   ]
  }
 ],
 "metadata": {
  "kernelspec": {
   "display_name": "Python 3 (ipykernel)",
   "language": "python",
   "name": "python3"
  },
  "language_info": {
   "codemirror_mode": {
    "name": "ipython",
    "version": 3
   },
   "file_extension": ".py",
   "mimetype": "text/x-python",
   "name": "python",
   "nbconvert_exporter": "python",
   "pygments_lexer": "ipython3",
   "version": "3.9.0"
  }
 },
 "nbformat": 4,
 "nbformat_minor": 5
}
