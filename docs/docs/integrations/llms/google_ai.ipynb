{
 "cells": [
  {
   "cell_type": "markdown",
   "id": "7aZWXpbf0Eph",
   "metadata": {
    "id": "7aZWXpbf0Eph"
   },
   "source": [
    "# Google AI\n"
   ]
  },
  {
   "cell_type": "markdown",
   "metadata": {},
   "source": [
    "A guide on using [Google Generative AI](https://developers.generativeai.google/) models with Langchain. Note: It's separate from Google Cloud Vertex AI [integration](https://python.langchain.com/docs/integrations/llms/google_vertex_ai_palm)."
   ]
  },
  {
   "cell_type": "markdown",
   "id": "H4AjsqTswBCE",
   "metadata": {
    "id": "H4AjsqTswBCE"
   },
   "source": [
    "## Setting up\n"
   ]
  },
  {
   "cell_type": "markdown",
   "id": "EFHNUieMwJrl",
   "metadata": {
    "id": "EFHNUieMwJrl"
   },
   "source": [
    "To use Google Generative AI you must install the `google-generativeai` Python package and generate an API key. [Read more details](https://developers.generativeai.google/)."
   ]
  },
  {
   "cell_type": "code",
   "execution_count": null,
   "id": "8Qzm6SqKwgak",
   "metadata": {},
   "outputs": [],
   "source": [
    "# !pip install langchain google-generativeai"
   ]
  },
  {
   "cell_type": "code",
   "execution_count": null,
   "id": "7ONb7ZtOwjbo",
   "metadata": {},
   "outputs": [],
   "source": [
    "from langhchain.llms import GoogleGenerativeAI"
   ]
  },
  {
   "cell_type": "code",
   "execution_count": 3,
   "id": "X3pjCW0i22gm",
   "metadata": {},
   "outputs": [],
   "source": [
    "api_key = \"PUT_YOUR_API_KEY_HERE\""
   ]
  },
  {
   "cell_type": "code",
   "execution_count": 5,
   "id": "GT50LgFP0j-w",
   "metadata": {},
   "outputs": [
    {
     "name": "stdout",
     "output_type": "stream",
     "text": [
      "**Pros of Python**\n",
      "\n",
      "* **Easy to learn:** Python is a very easy-to-learn programming language, even for beginners. The syntax is simple and straightforward, and there are a lot of resources available to help you get started.\n",
      "* **Versatile:** Python can be used for a wide variety of tasks, including web development, data science, and machine learning. It is also a popular choice for scripting and system administration.\n",
      "* **High-level:** Python is a high-level programming language, which means that it is closer to human language than low-level languages like C++ or Java. This makes it easier to read and write code, and it also means that Python programs are often more portable than programs written in lower-level languages.\n",
      "* **Open source:** Python is an open-source programming language, which means that it is free to use and distribute. This also means that there is a large community of Python developers who are constantly contributing to the language and making it better.\n",
      "* **Fast:** Python is a fast programming language, especially when compared to interpreted languages like JavaScript. However, it is not as fast as compiled languages like C++ or Java.\n",
      "\n",
      "**Cons of Python**\n",
      "\n",
      "* **Slow:** Python is a slower programming language than compiled languages like C++ or Java. This is because Python is interpreted, which means that the code is converted into machine code at runtime.\n",
      "* **Not as performant:** Python is not as performant as compiled languages like C++ or Java. This is because Python is a dynamically typed language, which means that the type of a variable can change during runtime. This can make it difficult to optimize Python code for performance.\n",
      "* **Less memory efficient:** Python is less memory efficient than compiled languages like C++ or Java. This is because Python is a dynamically typed language, which means that the type of a variable can change during runtime. This can make it difficult to optimize Python code for memory usage.\n",
      "\n",
      "**Overall, Python is a very good programming language for beginners and experienced developers alike. It is easy to learn, versatile, and has a large community of support. However, it is not as performant as compiled languages like C++ or Java.**\n"
     ]
    }
   ],
   "source": [
    "llm = GoogleGenerativeAI(model_name=\"models/text-bison-001\", google_api_key=api_key)\n",
    "print(llm(\"What are some of the pros and cons of Python as a programming language?\"))"
   ]
  },
  {
   "cell_type": "code",
   "execution_count": 6,
   "id": "TSGdxkJtwl8-",
   "metadata": {},
   "outputs": [
    {
     "name": "stdout",
     "output_type": "stream",
     "text": [
      "Pros:\n",
      "\n",
      "1. **Simplicity and Readability**: Python's syntax is straightforward and easy to learn. It uses English-like keywords and simple indentation rules, making it beginner-friendly and readable, even for non-programmers.\n",
      "\n",
      "2. **Versatility**: Python is a versatile language used in various domains, including web development, data science, machine learning, automation, and scripting. It has a vast ecosystem of libraries and frameworks that support specific tasks and industries.\n",
      "\n",
      "3. **Libraries and Frameworks**: Python boasts a massive collection of open-source libraries and frameworks. These pre-built modules provide extensive functionality, allowing developers to quickly build complex applications without starting from scratch.\n",
      "\n",
      "4. **Cross-Platform Support**: Python is cross-platform compatible, meaning it can run on multiple operating systems, including Windows, macOS, and Linux. This allows developers to write code that works consistently across different platforms.\n",
      "\n",
      "5. **Community Support**: Python has a vibrant and active community of developers and enthusiasts. This community provides extensive documentation, tutorials, forums, and resources to help newcomers learn and experienced developers solve problems.\n",
      "\n",
      "Cons:\n",
      "\n",
      "1. **Speed and Performance**: Compared to compiled languages like C or C++, Python is generally slower in execution speed. Its dynamic nature and extensive use of interpretation can lead to performance bottlenecks in certain scenarios.\n",
      "\n",
      "2. **Memory Usage**: Python is known to consume more memory compared to some other languages. This can be a concern for applications that require efficient memory management or run on resource-constrained systems.\n",
      "\n",
      "3. **Lack of Type Safety**: Python is a dynamically typed language, which means it does not enforce strict type checking at compile time. This flexibility can lead to runtime errors and unexpected behavior if data types are not handled correctly.\n",
      "\n",
      "4. **Error Handling**: Python's error handling mechanism can be challenging for beginners to understand. It uses exceptions to handle errors, which can require a different mindset compared to other languages that use traditional error codes.\n",
      "\n",
      "5. **GIL (Global Interpreter Lock)**: Python uses a Global Interpreter Lock (GIL) in its implementation. This lock prevents multiple threads from executing Python bytecode simultaneously, which can limit parallelism and scalability in multithreaded applications.\n"
     ]
    }
   ],
   "source": [
    "llm = GoogleGenerativeAI(model_name=\"gemini-pro\", google_api_key=api_key)\n",
    "print(llm(\"What are some of the pros and cons of Python as a programming language?\"))"
   ]
  },
  {
   "cell_type": "markdown",
   "id": "OQ_SlL0K1Cw6",
   "metadata": {
    "id": "OQ_SlL0K1Cw6"
   },
   "source": [
    "## Using in a chain"
   ]
  },
  {
   "cell_type": "code",
   "execution_count": 7,
   "id": "Nwc9P5_ry79W",
   "metadata": {},
   "outputs": [],
   "source": [
    "from langchain.prompts import PromptTemplate"
   ]
  },
  {
   "cell_type": "code",
   "execution_count": 13,
   "id": "35856bf2-aa5e-436b-977a-9e5725b1a595",
   "metadata": {},
   "outputs": [
    {
     "name": "stdout",
     "output_type": "stream",
     "text": [
      "The answer to 2+2 is 4.\n",
      "\n",
      "To solve this problem, we can use the basic arithmetic operation of addition. We start with the number 2 and add 2 to it, which gives us 4.\n",
      "\n",
      "Therefore, the answer to 2+2 is 4.\n"
     ]
    }
   ],
   "source": [
    "template = \"\"\"Question: {question}\n",
    "\n",
    "Answer: Let's think step by step.\"\"\"\n",
    "prompt = PromptTemplate.from_template(template)\n",
    "\n",
    "chain = prompt | llm\n",
    "\n",
    "question = \"How much is 2+2?\"\n",
    "print(chain.invoke({\"question\": question}))"
   ]
  },
  {
   "cell_type": "markdown",
   "id": "ueAin0xQzCqq",
   "metadata": {
    "id": "ueAin0xQzCqq"
   },
   "source": [
    "## Streaming calls"
   ]
  },
  {
   "cell_type": "code",
   "execution_count": 15,
   "id": "WftL7x0A0hlF",
   "metadata": {},
   "outputs": [
    {
     "name": "stdout",
     "output_type": "stream",
     "text": [
      "Softly falling, white and pure,\n",
      "Snowflakes dance in winter's air.\n",
      "A blanket of pristine beauty,\n",
      "Covering the world in its tender care.\n",
      "\n",
      "Trees and houses, rooftops and streets,\n",
      "All are adorned in a snowy sheet.\n",
      "The silence is broken only by the sound\n",
      "Of snowflakes whispering on the ground.\n",
      "\n",
      "Nature's canvas painted in shades of white,\n",
      "Snow transforms the world into a winter's delight.\n",
      "A season of magic, mystery and cheer,\n",
      "Snow brings joy to hearts far and near.\n",
      "\n",
      "So let us embrace the winter's embrace,\n",
      "And revel in the beauty of this snowy grace.\n",
      "For in the stillness of a snowy night,\n",
      "We find peace and wonder in its gentle light."
     ]
    }
   ],
   "source": [
    "import sys\n",
    "\n",
    "for chunk in llm.stream(\"Tell me a short poem about snow\"):\n",
    "    sys.stdout.write(chunk)\n",
    "    sys.stdout.flush()"
   ]
  }
 ],
 "metadata": {
  "language_info": {
   "name": "python"
  }
 },
 "nbformat": 4,
 "nbformat_minor": 5
}
