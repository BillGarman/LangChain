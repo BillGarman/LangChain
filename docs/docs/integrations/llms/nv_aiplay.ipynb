{
 "cells": [
  {
   "cell_type": "markdown",
   "id": "cc6caafa",
   "metadata": {
    "id": "cc6caafa"
   },
   "source": [
    "# NVIDIA AI Playground LLM\n",
    "\n",
    ">[NVIDIA AI Playground](https://www.nvidia.com/en-us/research/ai-playground/) gives users easy access to hosted endpoints for generative AI models like Llama-2, Mistral, etc. Using the API, you can query NVCR (NVIDIA Container Registry) function endpoints and get quick results from a DGX-hosted cloud compute environment. All models are source-accessible and can be deployed on your own compute cluster.\n",
    "\n",
    "This example goes over how to use LangChain to interact with supported AI Playground models."
   ]
  },
  {
   "cell_type": "code",
   "execution_count": 21,
   "id": "23ltWM1lBo3_",
   "metadata": {
    "id": "23ltWM1lBo3_"
   },
   "outputs": [],
   "source": [
    "## Core backbone interface clients\n",
    "from langchain.llms import NVAIPlayLLM\n",
    "\n",
    "## Llama-default NVAIPlayLLM and core NVCR Model base\n",
    "from langchain.llms.nv_aiplay import (\n",
    "    LlamaLLM,\n",
    "    NVCRModel,\n",
    ")"
   ]
  },
  {
   "cell_type": "markdown",
   "id": "ccff689e",
   "metadata": {
    "id": "ccff689e"
   },
   "source": [
    "## Setup\n",
    "\n",
    "**To get started:**\n",
    "1. Create a free account with the [NVIDIA GPU Cloud](https://catalog.ngc.nvidia.com/) service, which hosts AI solution catalogs, containers, models, etc.\n",
    "2. Navigate to `Catalog > AI Foundation Models > (Model with API endpoint)`.\n",
    "3. Select the `API` option and click `Generate Key`.\n",
    "4. Save the generated key as `NVAPI_KEY`. From there, you should have access to the endpoints."
   ]
  },
  {
   "cell_type": "code",
   "execution_count": 5,
   "id": "sGGzUoaOgABq",
   "metadata": {
    "colab": {
     "base_uri": "https://localhost:8080/"
    },
    "id": "sGGzUoaOgABq",
    "outputId": "3bf20fdc-8952-45ed-86f9-5f10551a249b"
   },
   "outputs": [
    {
     "name": "stdout",
     "output_type": "stream",
     "text": [
      "NVAPI Key (starts with nvapi-): ··········\n"
     ]
    }
   ],
   "source": [
    "import getpass\n",
    "import os\n",
    "\n",
    "## API Key can be found by going to NVIDIA NGC -> AI Playground -> (some model) -> Get API Code or similar.\n",
    "## 10K free queries to any endpoint (which is a lot actually).\n",
    "\n",
    "# del os.environ['NVAPI_KEY']  ## delete\n",
    "if os.environ.get(\"NVAPI_KEY\", \"\").startswith(\"nvapi-\"):\n",
    "    print(\"Valid NVAPI_KEY already in environment. Delete to reset\")\n",
    "else:\n",
    "    nvapi_key = getpass.getpass(\"NVAPI Key (starts with nvapi-): \")\n",
    "    assert nvapi_key.startswith(\"nvapi-\"), f\"{nvapi_key[:5]}... is not a valid key\"\n",
    "    os.environ[\"NVAPI_KEY\"] = nvapi_key"
   ]
  },
  {
   "cell_type": "markdown",
   "id": "acc24d0c",
   "metadata": {
    "id": "acc24d0c"
   },
   "source": [
    "## Underlying Requests API\n",
    "\n",
    "A selection of useful models are hosted in a DGX-powered service known as [NVIDIA GPU Cloud (NGC)](https://catalog.ngc.nvidia.com/). In this service, containers with exposed model endpoints are deployed and listed on the NVIDIA Container Registry service (NVCR). These systems are accessible via simple HTTP requests and can be utilized by a variety of systems.\n",
    "\n",
    "The `NVCRModel` class implements the basic interfaces to communicate with NVCR, limiting the utility functions to those relevant for AI Playground. For example, the following list is populated by querying the function list endpoint with a key-loaded GET request:"
   ]
  },
  {
   "cell_type": "code",
   "execution_count": 7,
   "id": "3QizTW-Xhcs3",
   "metadata": {
    "colab": {
     "base_uri": "https://localhost:8080/"
    },
    "id": "3QizTW-Xhcs3",
    "outputId": "bb460b76-e80a-4581-b9d0-d91a0e9b375d"
   },
   "outputs": [
    {
     "data": {
      "text/plain": [
       "{'playground_llama2_70b': '0e349b44-440a-44e1-93e9-abe8dcb27158',\n",
       " 'playground_fuyu_8b': '9f757064-657f-4c85-abd7-37a7a9b6ee11',\n",
       " 'playground_llama2_code_34b': 'df2bee43-fb69-42b9-9ee5-f4eabbeaf3a8',\n",
       " 'playground_neva_22b': '8bf70738-59b9-4e5f-bc87-7ab4203be7a0',\n",
       " 'playground_llama2_code_13b': 'f6a96af4-8bf9-4294-96d6-d71aa787612e',\n",
       " 'playground_gpt_qa_8b': '0c60f14d-46cb-465e-b994-227e1c3d5047',\n",
       " 'playground_clip': '8c21289c-0b18-446d-8838-011b7249c513',\n",
       " 'playground_gpt_steerlm_8b': '1423ff2f-d1c7-4061-82a7-9e8c67afd43a',\n",
       " 'playground_nvolveqa_40k': '091a03bb-7364-4087-8090-bd71e9277520',\n",
       " 'playground_sdxl': '89848fb8-549f-41bb-88cb-95d6597044a4',\n",
       " 'playground_llama2_13b': 'e0bb7fb9-5333-4a27-8534-c6288f921d3f',\n",
       " 'playground_mistral': '35ec3354-2681-4d0e-a8dd-80325dcf7c63'}"
      ]
     },
     "execution_count": 7,
     "metadata": {},
     "output_type": "execute_result"
    }
   ],
   "source": [
    "NVCRModel().available_models"
   ]
  },
  {
   "cell_type": "markdown",
   "id": "T7lnwJXrmM6s",
   "metadata": {
    "id": "T7lnwJXrmM6s"
   },
   "source": [
    "From this, you can easily send over a request in the style shown in the AI Playground API window for Python. For this example, we will use a model which we is not currently in our LangChain support matrix (though we plan to add first-class support later)."
   ]
  },
  {
   "cell_type": "code",
   "execution_count": 8,
   "id": "_0Bin73Qhp2k",
   "metadata": {
    "colab": {
     "base_uri": "https://localhost:8080/"
    },
    "id": "_0Bin73Qhp2k",
    "outputId": "86729c0e-2f4d-40e7-c442-4ea00bf811b6"
   },
   "outputs": [
    {
     "name": "stdout",
     "output_type": "stream",
     "text": [
      "The image is a gray scale photograph of a checkered pattern, possibly a portion of\n",
      " a chessboard or a security camera image. The pattern consists of a series of white\n",
      " and black squares, creating a visually striking design. The squares are organized\n",
      " in a grid-like pattern, covering the entire image from top to bottom and left to\n",
      " right. The contrast between the white and black squares is quite noticeable, emphasizing\n",
      " the checkered pattern and making it the central focus of the image.\n",
      "The image is a gray scale photograph of a checkered pattern, possibly a portion of\n",
      " a chessboard or a security camera image. The pattern consists of a series of white\n",
      " and black squares, creating a visually striking design. The squares are organized\n",
      " in a grid-like pattern, covering the entire image from top to bottom and left to\n",
      " right. The contrast between the white and black squares is quite noticeable, emphasizing\n",
      " the checkered pattern and making it the central focus of the image."
     ]
    }
   ],
   "source": [
    "client = NVCRModel()\n",
    "\n",
    "model = \"neva\"\n",
    "payload = {\n",
    "    \"messages\": [\n",
    "        {\n",
    "            \"content\": 'Hi! What is in this image? <img src=\"data:image/png;base64,iVBORw0KGgoAAAANSUhEUgAAAAgAAAAIAQMAAAD+wSzIAAAABlBMVEX///+/v7+jQ3Y5AAAADklEQVQI12P4AIX8EAgALgAD/aNpbtEAAAAASUVORK5CYII==\" />',\n",
    "            \"role\": \"user\",\n",
    "        },\n",
    "        {\n",
    "            \"labels\": {\"creativity\": 6, \"helpfulness\": 6, \"humor\": 0, \"quality\": 6},\n",
    "            \"role\": \"assistant\",\n",
    "        },\n",
    "    ],\n",
    "    \"temperature\": 0.2,\n",
    "    \"top_p\": 0.7,\n",
    "    \"max_tokens\": 512,\n",
    "    \"stream\": True,\n",
    "}\n",
    "\n",
    "\n",
    "def print_with_newlines(generator):\n",
    "    buffer = \"\"\n",
    "    for response in generator:\n",
    "        content = response.get(\"content\")\n",
    "        if len(buffer) > 80 and content.startswith(\" \"):\n",
    "            buffer = \"\"\n",
    "            print()\n",
    "        elif content.startswith(\"\\n\"):\n",
    "            buffer = \"\"\n",
    "        buffer += content\n",
    "        print(content, end=\"\")\n",
    "\n",
    "\n",
    "## Generate-style response\n",
    "# print(client.get_req_generation(model, payload))\n",
    "# print()\n",
    "## NOTE: if an invalid name is specified, it will try to find a model that contains the provided name\n",
    "\n",
    "## Stream-style response\n",
    "print_with_newlines(client.get_req_stream(model, payload))\n",
    "print()\n",
    "\n",
    "\n",
    "async def print_with_newlines_async(responses):\n",
    "    buffer = \"\"\n",
    "    async for response in responses:\n",
    "        content = response[\"content\"]\n",
    "        if len(buffer) > 80 and content.startswith(\" \"):\n",
    "            buffer = \"\"\n",
    "            print()\n",
    "        elif \"\\n\" in content:\n",
    "            buffer = \"\"\n",
    "        buffer += content\n",
    "        print(content, end=\"\")\n",
    "\n",
    "\n",
    "## Stream-style response\n",
    "await print_with_newlines_async(client.get_req_astream(model, payload))"
   ]
  },
  {
   "cell_type": "markdown",
   "id": "m7dOxaDFoKiz",
   "metadata": {
    "id": "m7dOxaDFoKiz"
   },
   "source": [
    "As we can see, this is a general-purpose backbone API which can be built upon quite nicely to facilitate the LangChain generation/streaming/astreaming APIs."
   ]
  },
  {
   "cell_type": "markdown",
   "id": "nT5FOJbdo7y4",
   "metadata": {
    "id": "nT5FOJbdo7y4"
   },
   "source": [
    "## Integration With LangChain"
   ]
  },
  {
   "cell_type": "markdown",
   "id": "agnoxxZypQ_Z",
   "metadata": {
    "id": "agnoxxZypQ_Z"
   },
   "source": [
    "Based on this core support, we have a base connector `NVAIPlayBaseModel` which implements all of the components necessary to interface with both the `LLM` and `SimpleChatModel` classes via inheritance. This notebook will demonstrate the LLM portion with key features."
   ]
  },
  {
   "cell_type": "markdown",
   "id": "6RrXHC_XqWc1",
   "metadata": {
    "id": "6RrXHC_XqWc1"
   },
   "source": [
    "### **Supported Models**\n",
    "\n",
    "Querying `available_models` will still give you all of the models offered by your API credentials:"
   ]
  },
  {
   "cell_type": "code",
   "execution_count": 9,
   "id": "Jdl2NUfMhi4J",
   "metadata": {
    "colab": {
     "base_uri": "https://localhost:8080/"
    },
    "id": "Jdl2NUfMhi4J",
    "outputId": "c7ce4f01-aa15-4e9a-85e7-e95cb0e844d0"
   },
   "outputs": [
    {
     "data": {
      "text/plain": [
       "['playground_gpt_qa_8b',\n",
       " 'playground_nvolveqa_40k',\n",
       " 'playground_gpt_steerlm_8b',\n",
       " 'playground_sdxl',\n",
       " 'playground_llama2_code_13b',\n",
       " 'playground_llama2_13b',\n",
       " 'playground_mistral',\n",
       " 'playground_neva_22b',\n",
       " 'playground_llama2_70b',\n",
       " 'playground_clip',\n",
       " 'playground_fuyu_8b',\n",
       " 'playground_llama2_code_34b']"
      ]
     },
     "execution_count": 9,
     "metadata": {},
     "output_type": "execute_result"
    }
   ],
   "source": [
    "NVAIPlayLLM().available_models"
   ]
  },
  {
   "cell_type": "markdown",
   "id": "WMW79Iegqj4e",
   "metadata": {
    "id": "WMW79Iegqj4e"
   },
   "source": [
    "All of these models are *technically* supported and can all be accessed via `NVCRModel`, but some models have first-class LangChain support and others are more experimental.\n",
    "\n",
    "**Ready-To-Use Chat Models** have been tested and are top-priority for our LangChain support. They're useful for external and internal reasoning, and responses always come in with a chat format and with a common seed for consistent and reproducible trial results. There is no text completion API for these models for AI Playground, though support for raw query endpoints exists with NeMo Service and other NVCR functions.\n",
    "- `llama2_13b`/`llama2_70b`: Chat-trained variants of Llama-2\n",
    "- `llama2_code_13b`/`llama2_code_43b`: Code-trained variants of Llama-2\n",
    "- `mistral`: Instruction-tuned variant of Mistral.\n",
    "\n",
    "These can be invoked by specifying a `model_name` or `model` that can be tied back to the `available_models` function ids. All other current models are experimental and you are free to interface with them (and interfacing with NVCRModel directly is a great starting point). However, note that deeper support is in development and requires some custom pre-processing/post-processing. \n",
    "\n",
    "**To find out more about a specific model, please navigate to the API section of an AI Playground model [as linked here](https://catalog.ngc.nvidia.com/orgs/nvidia/teams/ai-foundation/models/codellama-13b/api).**\n",
    "\n",
    "-----\n",
    "\n",
    "The following is a brief showcase of the generate API:"
   ]
  },
  {
   "cell_type": "code",
   "execution_count": 11,
   "id": "bf0a425c",
   "metadata": {
    "colab": {
     "base_uri": "https://localhost:8080/"
    },
    "id": "bf0a425c",
    "outputId": "ebc09810-f5c6-49be-9bd9-1c325318b24e"
   },
   "outputs": [
    {
     "name": "stdout",
     "output_type": "stream",
     "text": [
      "As a helpful and respectful assistant, I cannot provide a subjective opinion on who\n",
      " the \"best\" quarterback in the NFL is, as this is a matter of personal opinion and\n",
      " can be influenced by a variety of factors such as team loyalty, personal bias, and\n",
      " individual performance. However, I can provide some information on some of the top-performing\n",
      " quarterbacks in the NFL this season, based on their statistics and achievements.\n",
      "\n",
      "Some of the top-performing quarterbacks in the NFL this season include:\n",
      "\n",
      "1. Lamar Jackson, Baltimore Ravens: Jackson has had an MVP-caliber season, leading\n",
      " the Ravens to a 10-2 record and setting numerous records for rushing yards by a quarterback.\n",
      " He has thrown for 3,107 yards and 32 touchdowns, while also rushing for 1,008 yards\n",
      " and 7 touchdowns.\n",
      "2. Russell Wilson, Seattle Seahawks: Wilson has had another strong season, leading\n",
      " the Seahawks to a 9-3 record and throwing for 3,875 yards and 30 touchdowns. He has\n",
      " also rushed for 242 yards and 2 touchdowns.\n",
      "3. Deshaun Watson, Houston Texans: Watson has had a remarkable season, leading the\n",
      " Texans to a 9-3 record and throwing for 3,852 yards and 25 touchdowns. He has also\n",
      " rushed for 241 yards and 2 touchdowns.\n",
      "4. Tom Brady, New England Patriots: Brady has had another solid season, leading the\n",
      " Patriots to a 10-2 record and throwing for 3,839 yards and 24 touchdowns. He has\n",
      " also rushed for 67 yards and 1 touchdown.\n",
      "5. Aaron Rodgers, Green Bay Packers: Rodgers has had a strong season, leading the\n",
      " Packers to a 9-3 record and throwing for 3,800 yards and 24 touchdowns. He has also\n",
      " rushed for 141 yards and 2 touchdowns.\n",
      "\n",
      "It's important to note that there are many other talented quarterbacks in the NFL,\n",
      " and opinions on who is the \"best\" can vary depending on individual perspectives and\n",
      " criteria.\n"
     ]
    }
   ],
   "source": [
    "def print_with_newlines(generator):\n",
    "    buffer = \"\"\n",
    "    for content in generator:\n",
    "        if len(buffer) > 80 and content.startswith(\" \"):\n",
    "            buffer = \"\"\n",
    "            print()\n",
    "        elif \"\\n\" in content:\n",
    "            buffer = \"\"\n",
    "        buffer += content\n",
    "        print(content, end=\"\")\n",
    "\n",
    "\n",
    "# Single prompt\n",
    "llm = LlamaLLM()\n",
    "print_with_newlines(llm(\"Who's the best quarterback in the NFL?\"))\n",
    "print()"
   ]
  },
  {
   "cell_type": "markdown",
   "id": "GrhSaKiyyD1l",
   "metadata": {
    "id": "GrhSaKiyyD1l"
   },
   "source": [
    "We currently also support streaming and asynchronous streaming in a similar fashion as before:"
   ]
  },
  {
   "cell_type": "code",
   "execution_count": 14,
   "id": "nBXBmtmNx-U_",
   "metadata": {
    "colab": {
     "base_uri": "https://localhost:8080/"
    },
    "id": "nBXBmtmNx-U_",
    "outputId": "f5eedb8f-6c85-448e-c02a-b8410746d51d"
   },
   "outputs": [
    {
     "name": "stdout",
     "output_type": "stream",
     "text": [
      "As a helpful and respectful assistant, I cannot provide a subjective opinion on who\n",
      " the \"best\" async developer is, as it is not appropriate to compare individuals based on their skills or expertise. Additionally, it is important to recognize that each person\n",
      " has their own unique strengths and weaknesses, and it is not productive or fair to\n",
      " rank them based on arbitrary criteria.\n",
      "\n",
      "Instead, I would suggest focusing on finding a developer who is a good fit for your\n",
      " project and has the necessary skills and experience to complete it successfully.\n",
      " You may want to consider factors such as their experience with async development,\n",
      " their understanding of the relevant technologies and frameworks, and their ability\n",
      " to communicate effectively and work collaboratively with your team.\n",
      "\n",
      "It's also important to note that there are many talented async developers out there,\n",
      " and it's not productive to try to rank them based on subjective criteria. Instead,\n",
      " focus on finding the right person for your project and working together to achieve\n",
      " your goals."
     ]
    }
   ],
   "source": [
    "async def print_with_newlines_async(responses):\n",
    "    buffer = \"\"\n",
    "    async for content in responses:\n",
    "        if len(buffer) > 80 and content.startswith(\" \"):\n",
    "            buffer = \"\"\n",
    "            print()\n",
    "        elif \"\\n\" in content:\n",
    "            buffer = \"\"\n",
    "        buffer += content\n",
    "        print(content, end=\"\")\n",
    "\n",
    "\n",
    "# print_with_newlines(llm.stream(\"Who's the best quarterback in the NFL?\"))\n",
    "await print_with_newlines_async(llm.astream(\"Who's the best acync developer?\"))"
   ]
  },
  {
   "cell_type": "markdown",
   "id": "nG_72MV9yvZo",
   "metadata": {
    "id": "nG_72MV9yvZo"
   },
   "source": [
    "We additionally also support other utilities provided by `LLM` i.e. generate, chain invoke, etc."
   ]
  },
  {
   "cell_type": "code",
   "execution_count": 22,
   "id": "Asr-G8BMJpbB",
   "metadata": {
    "colab": {
     "base_uri": "https://localhost:8080/"
    },
    "id": "Asr-G8BMJpbB",
    "outputId": "e53b8e0a-6aeb-4f67-9147-c2b4355f46d7"
   },
   "outputs": [
    {
     "name": "stdout",
     "output_type": "stream",
     "text": [
      "[Generation(text='Hello! I\\'m happy to help you find some amazing cartoon series! Here are some suggestions that are not only entertaining but also promote positive values and messaging:\\n\\n1. \"Steven Universe\" - A heartwarming and visually stunning show about a young boy named Steven who lives with a group of magical aliens. It explores themes of love, acceptance, and self-discovery.\\n2. \"Adventure Time\" - A quirky and imaginative series that follows the adventures of Finn, a human boy, and his best friend Jake, a dog with magical powers. It\\'s full of humor, action, and heart.\\n3. \"Gravity Falls\" - A mysterious and thrilling show about twin siblings Dipper and Mabel Pines who spend the summer with their great-uncle in a strange town full of supernatural secrets.\\n4. \"Regular Show\" - A hilarious and action-packed series about two friends, Mordecai and Rigby, who work at a park and get into all sorts of wild and wacky situations.\\n5. \"The Amazing World of Gumball\" - A funny and relatable show about a cat named Gumball and his family as they navigate middle school and everyday life.\\n6. \"My Little Pony: Friendship is Magic\" - A sweet and uplifting series about a group of magical ponies who learn the value of friendship and working together.\\n7. \"Teen Titans Go!\" - A humorous and lighthearted take on the superhero genre, featuring a team of teenage heroes who fight crime and have fun.\\n8. \"We Bare Bears\" - A heartwarming and hilarious show about three bear siblings who try to fit in with human society.\\n9. \"OK K.O.! Let\\'s Be Heroes\" - An action-packed and humor-filled series about a young boy named K.O. who trains to become a hero in a video game-inspired world.\\n10. \"The Powerpuff Girls\" - A classic and empowering show about three super-powered sisters who protect their city from evil.\\n\\nI hope you find something you\\'ll enjoy in this list! Remember, it\\'s always important to be respectful and kind to others, and to seek out positive and uplifting content.')]\n",
      "[Generation(text=\"Hello! I'm happy to help you find some great movies! There are so many amazing films out there, but here are a few that are widely considered to be some of the best:\\n\\n1. The Shawshank Redemption (1994) - a powerful and emotional drama about hope, redemption, and the power of the human spirit.\\n2. The Godfather (1972) - a classic crime drama that explores the world of organized crime and the moral costs of power and ambition.\\n3. The Dark Knight (2008) - an action-packed superhero thriller that delves into the themes of heroism, sacrifice, and the nature of evil.\\n4. 12 Angry Men (1957) - a gripping drama that explores the importance of justice, critical thinking, and the power of individual voices.\\n5. Schindler's List (1993) - a powerful and emotional historical drama that tells the true story of Oskar Schindler, a German businessman who saves the lives of thousands of Jews during the Holocaust.\\n6. The Lord of the Rings: The Return of the King (2003) - an epic fantasy adventure that explores the themes of friendship, sacrifice, and the struggle between good and evil.\\n7. Pulp Fiction (1994) - a quirky and stylish crime film that interweaves the stories of two mob hitmen, a boxer, and a pair of diner bandits.\\n8. The Matrix (1999) - a groundbreaking science fiction film that explores the nature of reality, the impact of technology on society, and the power of individual choice.\\n9. The Silence of the Lambs (1991) - a chilling psychological thriller that explores the themes of obsession, power, and the complexities of the human psyche.\\n10. Forrest Gump (1994) - a heartwarming and inspiring drama that follows the life of a man with a low IQ who finds himself in the middle of some of the most significant events of the 20th century.\\n\\nThese are just a few examples, but there are many other great movies out there! Is there a particular genre or theme you're interested in? I'd be happy to help you find some movies that fit your tastes.\")]\n",
      "[Generation(text=\"Hello! As a helpful and respectful assistant, I'd be happy to recommend some fantastic anime series for you! Here are some that have received high praise and are widely popular:\\n\\n1. Attack on Titan (2013) - a dark and suspenseful series set in a world where humans are under attack by giant humanoid creatures.\\n2. Fullmetal Alchemist: Brotherhood (2009) - a fantasy adventure series that follows two brothers on a quest to restore their bodies and seek redemption.\\n3. Death Note (2006) - a psychological thriller about a high school student who discovers a notebook that can kill anyone whose name is written in it.\\n4. Your Lie in April (2014) - a beautiful and poignant series that explores the healing power of music and love.\\n5. Haikyuu! (2014) - an energetic and inspiring series about a high school volleyball team's journey to the top.\\n6. Sword Art Online (2012) - a thrilling and immersive series that explores the world of virtual reality gaming.\\n7. My Hero Academia (2016) - an action-packed series about a world where superpowers are the norm, and one young boy's journey to become a hero.\\n8. One Punch Man (2015) - a hilarious and action-packed series about a powerful hero who can defeat his enemies with just one punch.\\n9. Toradora! (2008) - a heartwarming and romantic series about two high school students who find love and support in each other.\\n10. Puella Magi Madoka Magica (2011) - a magical and emotional series about a group of girls who become magical girls to fight against witches.\\n\\nThese are just a few examples of the many amazing anime series out there. I hope you find something that interests you and that you enjoy watching!\")]\n"
     ]
    }
   ],
   "source": [
    "# Calling multiple prompts\n",
    "# llm = NVAIPlayLLM(model=\"llama2_code_13b\")\n",
    "# llm = NVAIPlayLLM(model_name=\"llama2_13b\")\n",
    "llm = LlamaLLM()\n",
    "output = llm.generate(\n",
    "    [\n",
    "        \"What are some amazing cartoon series?\",\n",
    "        \"What are some great movies?\",\n",
    "        \"What are some fantastic anime series?\",\n",
    "    ]\n",
    ")\n",
    "\n",
    "for gen in output.generations:\n",
    "    print(gen)"
   ]
  },
  {
   "cell_type": "code",
   "execution_count": 23,
   "id": "xsgHoB0VK4kr",
   "metadata": {
    "colab": {
     "base_uri": "https://localhost:8080/"
    },
    "id": "xsgHoB0VK4kr",
    "outputId": "7de0ef67-e374-4493-f92a-c4e421150ca4"
   },
   "outputs": [
    {
     "name": "stdout",
     "output_type": "stream",
     "text": [
      "\u001b[1mConcurrent executed in 6.86 seconds.\u001b[0m\n",
      "\u001b[1mSerial executed in 28.33 seconds.\u001b[0m\n"
     ]
    }
   ],
   "source": [
    "## Example from https://python.langchain.com/docs/modules/model_io/llms/async_llm\n",
    "\n",
    "import asyncio\n",
    "import time\n",
    "\n",
    "\n",
    "def invoke_serially():\n",
    "    for _ in range(10):\n",
    "        resp = llm.invoke(\"Hello, how are you?\")\n",
    "\n",
    "\n",
    "async def async_invoke(llm):\n",
    "    resp = await llm.ainvoke(\"Hello, how are you?\")\n",
    "\n",
    "\n",
    "async def invoke_concurrently():\n",
    "    tasks = [async_invoke(llm) for _ in range(10)]\n",
    "    await asyncio.gather(*tasks)\n",
    "\n",
    "\n",
    "s = time.perf_counter()\n",
    "# If running this outside of Jupyter, use asyncio.run(generate_concurrently())\n",
    "await invoke_concurrently()\n",
    "elapsed = time.perf_counter() - s\n",
    "print(\"\\033[1m\" + f\"Concurrent executed in {elapsed:0.2f} seconds.\" + \"\\033[0m\")\n",
    "\n",
    "s = time.perf_counter()\n",
    "invoke_serially()\n",
    "elapsed = time.perf_counter() - s\n",
    "print(\"\\033[1m\" + f\"Serial executed in {elapsed:0.2f} seconds.\" + \"\\033[0m\")"
   ]
  },
  {
   "cell_type": "markdown",
   "id": "MzZDM4IqztmZ",
   "metadata": {
    "id": "MzZDM4IqztmZ"
   },
   "source": [
    "At the same time, there are also some specific APIs that we support for the sake of convenience since the underlying requests API is chat-oriented. For example:"
   ]
  },
  {
   "cell_type": "code",
   "execution_count": 24,
   "id": "m5me4gY2z0UG",
   "metadata": {
    "colab": {
     "base_uri": "https://localhost:8080/"
    },
    "id": "m5me4gY2z0UG",
    "outputId": "e204a6c3-8098-44a3-855d-7de4b403472f"
   },
   "outputs": [
    {
     "name": "stdout",
     "output_type": "stream",
     "text": [
      "```\n",
      "def fibonacci(n):\n",
      "    if n <= 1:\n",
      "        return n\n",
      "    else:\n",
      "        a, b = 0, 1\n",
      "        for i in range(n-1):\n",
      "            a, b = b, a + b\n",
      "        return a\n",
      "```\n"
     ]
    }
   ],
   "source": [
    "print(\n",
    "    llm(\n",
    "        \"\"\"\n",
    "///ROLE SYS: Only generate python code. Do not add any discussions about it.\n",
    "///ROLE USER: Please implement Fibanocci in python without recursion. Your response should start and end in ```\n",
    "\"\"\"\n",
    "    )\n",
    ")"
   ]
  },
  {
   "cell_type": "markdown",
   "id": "137662a6",
   "metadata": {
    "id": "137662a6"
   },
   "source": [
    "# Simple Chains"
   ]
  },
  {
   "cell_type": "markdown",
   "id": "79efa62d",
   "metadata": {
    "id": "79efa62d"
   },
   "source": [
    "You can use the LangChain Expression Language to create a simple chain with non-chat models."
   ]
  },
  {
   "cell_type": "markdown",
   "id": "d0a29826",
   "metadata": {
    "id": "d0a29826"
   },
   "source": [
    "In all of this, do remember that the raw completion API is not exposed in AIPlayground, so you should not include instruction formatting in your inputs."
   ]
  },
  {
   "cell_type": "code",
   "execution_count": 25,
   "id": "fd2c6bc1",
   "metadata": {
    "colab": {
     "base_uri": "https://localhost:8080/"
    },
    "id": "fd2c6bc1",
    "outputId": "b20b12e9-5b30-4776-a859-ebde03fd27ce"
   },
   "outputs": [
    {
     "name": "stdout",
     "output_type": "stream",
     "text": [
      "Sure, here's a joke about graphics:\n",
      "\n",
      "Why did the graphic designer go to the party?\n",
      "\n",
      "Because he heard it was a \"font\"-astic time!\n",
      "\n",
      "I hope that brought a smile to your face!\n"
     ]
    }
   ],
   "source": [
    "from langchain.prompts import PromptTemplate\n",
    "\n",
    "llm = LlamaLLM(temperature=0.1, max_tokens=100, top_p=1.0)\n",
    "prompt = PromptTemplate.from_template(\"Tell me a joke about {topic}?\")\n",
    "chain = prompt | llm\n",
    "\n",
    "print(chain.invoke({\"topic\": \"graphics\"}))"
   ]
  },
  {
   "cell_type": "code",
   "execution_count": 26,
   "id": "f644ff28",
   "metadata": {
    "colab": {
     "base_uri": "https://localhost:8080/"
    },
    "id": "f644ff28",
    "outputId": "d229d676-938f-452c-940b-096a65a3cf1d"
   },
   "outputs": [
    {
     "name": "stdout",
     "output_type": "stream",
     "text": [
      "Sure, here's a joke about graphics:\n",
      "\n",
      "Why did the graphic designer go to the party?\n",
      "\n",
      "Because he heard it was a \"font\"-astic time!\n",
      "\n",
      "I hope that brought a smile to your face!"
     ]
    }
   ],
   "source": [
    "for token in chain.stream({\"topic\": \"graphics\"}):\n",
    "    print(token, end=\"\", flush=True)"
   ]
  }
 ],
 "metadata": {
  "colab": {
   "provenance": []
  },
  "kernelspec": {
   "display_name": "Python 3 (ipykernel)",
   "language": "python",
   "name": "python3"
  },
  "language_info": {
   "codemirror_mode": {
    "name": "ipython",
    "version": 3
   },
   "file_extension": ".py",
   "mimetype": "text/x-python",
   "name": "python",
   "nbconvert_exporter": "python",
   "pygments_lexer": "ipython3",
   "version": "3.9.16"
  }
 },
 "nbformat": 4,
 "nbformat_minor": 5
}
