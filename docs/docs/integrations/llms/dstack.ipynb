{
 "cells": [
  {
   "cell_type": "markdown",
   "id": "3f090f0b-cf50-4993-b256-87b4dac96410",
   "metadata": {},
   "source": [
    "# dstack\n",
    "\n",
    "This notebook goes over how to use Langchain with models deployed as a [dstack](https://dstack.ai/docs/guides/text-generation/) service.\n",
    "\n",
    "To use chat templates, you should have the `transformers` python package installed."
   ]
  },
  {
   "cell_type": "code",
   "execution_count": null,
   "id": "7fbfa514-efb3-4af1-bde1-3314affc39d2",
   "metadata": {},
   "outputs": [],
   "source": [
    "%pip install transformers"
   ]
  },
  {
   "cell_type": "markdown",
   "id": "563dbd56-1808-4b29-bd69-e37e8250959f",
   "metadata": {},
   "source": [
    "First, you have to setup dstack server/project and launch your chat model.\n",
    "\n",
    "Next, you can specify your token as a constructor parameter `api_token` or in an environmental variable `DSTACK_API_TOKEN`. Specify dstack server details and `run_name`."
   ]
  },
  {
   "cell_type": "code",
   "execution_count": 1,
   "id": "3dc17bf6-55ab-4615-bca5-cb615bc0c30f",
   "metadata": {},
   "outputs": [],
   "source": [
    "from langchain.chains import LLMChain\n",
    "from langchain.llms import Dstack\n",
    "from langchain.prompts import PromptTemplate"
   ]
  },
  {
   "cell_type": "code",
   "execution_count": 2,
   "id": "d7d62a63-030f-467b-9b84-4b742d64c87e",
   "metadata": {},
   "outputs": [],
   "source": [
    "template = \"What is the capital of {country}?\"\n",
    "prompt = PromptTemplate(template=template, input_variables=[\"country\"])"
   ]
  },
  {
   "cell_type": "code",
   "execution_count": 4,
   "id": "f8cba336-7b2d-4528-9afc-d2b535d8045e",
   "metadata": {},
   "outputs": [],
   "source": [
    "llm = Dstack(\n",
    "    run_name=\"mistral-7b-gptq\",\n",
    "    project=\"main\",\n",
    "    api_base_url=\"http://localhost:3000\",\n",
    ")"
   ]
  },
  {
   "cell_type": "code",
   "execution_count": 5,
   "id": "5ffeceab-ade9-4a49-9e58-c3085f6df23f",
   "metadata": {},
   "outputs": [],
   "source": [
    "llm_chain = LLMChain(prompt=prompt, llm=llm)"
   ]
  },
  {
   "cell_type": "code",
   "execution_count": 6,
   "id": "a4e9844f-25e1-40af-89eb-dea8dd574242",
   "metadata": {},
   "outputs": [
    {
     "data": {
      "text/plain": [
       "' The capital of Russia is Moscow.'"
      ]
     },
     "execution_count": 6,
     "metadata": {},
     "output_type": "execute_result"
    }
   ],
   "source": [
    "country = \"Russia\"\n",
    "\n",
    "llm_chain.run(country)"
   ]
  }
 ],
 "metadata": {
  "kernelspec": {
   "display_name": "Python 3 (ipykernel)",
   "language": "python",
   "name": "python3"
  },
  "language_info": {
   "codemirror_mode": {
    "name": "ipython",
    "version": 3
   },
   "file_extension": ".py",
   "mimetype": "text/x-python",
   "name": "python",
   "nbconvert_exporter": "python",
   "pygments_lexer": "ipython3",
   "version": "3.11.3"
  }
 },
 "nbformat": 4,
 "nbformat_minor": 5
}
