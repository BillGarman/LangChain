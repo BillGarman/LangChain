{
 "cells": [
  {
   "cell_type": "markdown",
   "id": "2970dd75-8ebf-4b51-8282-9b454b8f356d",
   "metadata": {},
   "source": [
    "# Together AI\n",
    "\n",
    "> The Together API makes it easy to fine-tune or run leading open-source models with a couple lines of code. We have integrated the world’s leading open-source models, including Llama-2, RedPajama, Falcon, Alpaca, Stable Diffusion XL, and more. Read more: https://together.ai\n",
    "\n",
    "To use, you'll need an API key which you can find here:\n",
    "https://api.together.xyz/settings/api-keys. This can be passed in as init param\n",
    "``together_api_key`` or set as environment variable ``TOGETHER_API_KEY``.\n",
    "\n",
    "Together API reference: https://docs.together.ai/reference/inference"
   ]
  },
  {
   "cell_type": "code",
   "execution_count": 1,
   "id": "e7b7170d-d7c5-4890-9714-a37238343805",
   "metadata": {},
   "outputs": [
    {
     "name": "stdout",
     "output_type": "stream",
     "text": [
      "\n",
      "\n",
      "A: A large language model is a neural network that is trained on a large amount of text data. It is able to generate text that is similar to the training data, and can be used for tasks such as language translation, question answering, and text summarization.\n",
      "\n",
      "A: A large language model is a neural network that is trained on a large amount of text data. It is able to generate text that is similar to the training data, and can be used for tasks such as language translation, question answering, and text summarization.\n",
      "\n",
      "A: A large language model is a neural network that is trained on\n"
     ]
    }
   ],
   "source": [
    "from langchain.llms import Together\n",
    "\n",
    "llm = Together(\n",
    "    model=\"togethercomputer/RedPajama-INCITE-7B-Base\",\n",
    "    temperature=0.7,\n",
    "    max_tokens=128,\n",
    "    top_k=1,\n",
    "    together_api_key=\"...\"\n",
    ")\n",
    "\n",
    "input_ = \"\"\"You are a teacher with a deep knowledge of machine learning and AI. \\\n",
    "You provide succinct and accurate answers. Answer the following question: \n",
    "\n",
    "What is a large language model?\"\"\"\n",
    "print(llm(input_))"
   ]
  },
  {
   "cell_type": "markdown",
   "id": "2e36080e-f7f8-47c9-bcbb-fb46b42ce15b",
   "metadata": {},
   "source": [
    "# Streaming Response\n",
    "You can optionally stream the response as it is produced, which is helpful to show interactivity to users for time-consuming generations. See detailed docs on Streaming for more information."
   ]
  },
  {
   "cell_type": "code",
   "execution_count": 2,
   "id": "a6c5865d-15cc-472a-bf93-427808fc1dcd",
   "metadata": {},
   "outputs": [
    {
     "name": "stdout",
     "output_type": "stream",
     "text": [
      "\n",
      " ### Response:\n",
      "A large language model is a type of AI system designed to process and generate human language. These models are typically built using deep learning techniques, such as neural networks, and are trained on vast amounts of text data to understand patterns in language and generate coherent responses. Large language models can be used for various tasks, including text generation, language translation, chatbots, and text classification. Some well-known large language models include GPT-3, BERT, and T5.\n"
     ]
    }
   ],
   "source": [
    "from langchain.callbacks.streaming_stdout import StreamingStdOutCallbackHandler\n",
    "\n",
    "llm = Together(\n",
    "    streaming=True,\n",
    "    callbacks=[StreamingStdOutCallbackHandler()],\n",
    "    model=\"togethercomputer/StripedHyena-Nous-7B\",\n",
    "    temperature= 0.75,\n",
    "    max_tokens= 500,\n",
    "    together_api_key=\"...\"\n",
    ")\n",
    "\n",
    "prompt = \"\"\"You are a teacher with a deep knowledge of machine learning and AI. \\\n",
    "You provide succinct and accurate answers. Answer the following question: \n",
    "\n",
    "What is a large language model?\"\"\"\n",
    "_ = llm(prompt, stop=['</s>'])"
   ]
  }
 ],
 "metadata": {
  "kernelspec": {
   "display_name": "Python 3 (ipykernel)",
   "language": "python",
   "name": "python3"
  },
  "language_info": {
   "codemirror_mode": {
    "name": "ipython",
    "version": 3
   },
   "file_extension": ".py",
   "mimetype": "text/x-python",
   "name": "python",
   "nbconvert_exporter": "python",
   "pygments_lexer": "ipython3",
   "version": "3.10.12"
  }
 },
 "nbformat": 4,
 "nbformat_minor": 5
}
