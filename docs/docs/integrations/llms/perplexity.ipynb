{
 "cells": [
  {
   "cell_type": "markdown",
   "id": "9597802c",
   "metadata": {},
   "source": [
    "# Perplexity\n",
    "\n",
    "This example goes over how to use LangChain to interact with `Perplexity` [models](https://docs.perplexity.ai/docs/model-cards).\n",
    "\n",
    "The code provided assumes that your PPLX_API_KEY is set in your environment variables. If you would like to manually specify your API key and also choose a different model, you can use the following code:\n",
    "\n",
    "```python\n",
    "llm = PerplexityLLM(model=\"pplx-70b-online\", pplx_api_key=\"YOUR_API_KEY\")\n",
    "```\n",
    "\n",
    "For reproducibility, we can set the API key dynamically by taking it as an input in this notebook."
   ]
  },
  {
   "cell_type": "code",
   "execution_count": 1,
   "id": "5472a7cd-af26-48ca-ae9b-5f6ae73c74d2",
   "metadata": {
    "tags": []
   },
   "outputs": [],
   "source": [
    "import os\n",
    "from getpass import getpass\n",
    "\n",
    "PPLX_API_KEY = getpass()\n",
    "os.environ[\"PPLX_API_KEY\"] = PPLX_API_KEY"
   ]
  },
  {
   "cell_type": "code",
   "execution_count": 2,
   "id": "6fb585dd",
   "metadata": {
    "tags": []
   },
   "outputs": [],
   "source": [
    "from langchain.chains import LLMChain\n",
    "from langchain.prompts import PromptTemplate\n",
    "from langchain_community.llms.perplexity import PerplexityLLM"
   ]
  },
  {
   "cell_type": "code",
   "execution_count": 3,
   "id": "035dea0f",
   "metadata": {
    "tags": []
   },
   "outputs": [],
   "source": [
    "template = \"\"\"Question: {question}\n",
    "\n",
    "Answer: Let's think step by step.\"\"\"\n",
    "\n",
    "prompt = PromptTemplate(template=template, input_variables=[\"question\"])"
   ]
  },
  {
   "cell_type": "code",
   "execution_count": 4,
   "id": "3f3458d9",
   "metadata": {
    "tags": []
   },
   "outputs": [],
   "source": [
    "llm = PerplexityLLM(model=\"pplx-70b-online\")"
   ]
  },
  {
   "cell_type": "code",
   "execution_count": 5,
   "id": "a641dbd9",
   "metadata": {
    "tags": []
   },
   "outputs": [],
   "source": [
    "llm_chain = LLMChain(prompt=prompt, llm=llm)"
   ]
  },
  {
   "cell_type": "code",
   "execution_count": 7,
   "id": "9f844993",
   "metadata": {
    "tags": []
   },
   "outputs": [
    {
     "data": {
      "text/plain": [
       "'Justin Bieber was born on March 1, 1994. The Super Bowl that took place in the year Justin Bieber was born was Super Bowl XXVIII. The game was played on January 30, 1994, and it was between the Dallas Cowboys and the Buffalo Bills. The Dallas Cowboys won the game with a score of 30-13, and their wide receiver, Michael Irvin, was named the MVP (Most Valuable Player) of the game.\\n'"
      ]
     },
     "execution_count": 7,
     "metadata": {},
     "output_type": "execute_result"
    }
   ],
   "source": [
    "question = \"What NFL team won the Super Bowl in the year Justin Beiber was born?\"\n",
    "\n",
    "llm_chain.run(question)"
   ]
  }
 ],
 "metadata": {
  "kernelspec": {
   "display_name": "Python 3.11.1 64-bit",
   "language": "python",
   "name": "python3"
  },
  "language_info": {
   "codemirror_mode": {
    "name": "ipython",
    "version": 3
   },
   "file_extension": ".py",
   "mimetype": "text/x-python",
   "name": "python",
   "nbconvert_exporter": "python",
   "pygments_lexer": "ipython3",
   "version": "3.9.18"
  },
  "vscode": {
   "interpreter": {
    "hash": "e971737741ff4ec9aff7dc6155a1060a59a8a6d52c757dbbe66bf8ee389494b1"
   }
  }
 },
 "nbformat": 4,
 "nbformat_minor": 5
}
