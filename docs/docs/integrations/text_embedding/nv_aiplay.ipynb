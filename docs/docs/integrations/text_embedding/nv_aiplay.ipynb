{
  "cells": [
    {
      "cell_type": "markdown",
      "metadata": {
        "id": "GDDVue_1cq6d"
      },
      "source": [
        "# NVIDIA AI Playground Embedding Models\n",
        "\n",
        ">[NVIDIA AI Playground](https://www.nvidia.com/en-us/research/ai-playground/) gives users easy access to hosted endpoints for generative AI models like Llama-2, SteerLM, Mistral, etc. Using the API, you can query NVCR (NVIDIA Container Registry) function endpoints and get quick results from a DGX-hosted cloud compute environment. All models are source-accessible and can be deployed on your own compute cluster.\n",
        "\n",
        "This example goes over how to use LangChain to interact with supported the NVOLVE question-answer embedding model [(NGC AI Playground entry in NGC)](https://catalog.ngc.nvidia.com/orgs/nvidia/teams/ai-foundation/models/nvolve-29k)"
      ]
    },
    {
      "cell_type": "markdown",
      "metadata": {
        "id": "qKcxQMFTcwWi"
      },
      "source": [
        "## Setup\n",
        "\n",
        "**To get started:**\n",
        "1. Create a free account with the [NVIDIA GPU Cloud](https://catalog.ngc.nvidia.com/) service, which hosts AI solution catalogs, containers, models, etc.\n",
        "2. Navigate to `Catalog > AI Foundation Models > (Model with API endpoint)`.\n",
        "3. Select the `API` option and click `Generate Key`.\n",
        "4. Save the generated key as `NVAPI_KEY`. From there, you should have access to the endpoints."
      ]
    },
    {
      "cell_type": "code",
      "execution_count": 1,
      "metadata": {
        "colab": {
          "base_uri": "https://localhost:8080/"
        },
        "id": "hoF41-tNczS3",
        "outputId": "7f2833dc-191c-4d73-b823-7b2745a93a2f"
      },
      "outputs": [],
      "source": [
        "import getpass\n",
        "import os\n",
        "\n",
        "## API Key can be found by going to NVIDIA NGC -> AI Playground -> (some model) -> Get API Code or similar.\n",
        "## 10K free queries to any endpoint (which is a lot actually).\n",
        "\n",
        "# del os.environ['NVAPI_KEY']  ## delete key and reset\n",
        "if os.environ.get(\"NVAPI_KEY\", \"\").startswith(\"nvapi-\"):\n",
        "    print(\"Valid NVAPI_KEY already in environment. Delete to reset\")\n",
        "else:\n",
        "    nvapi_key = getpass.getpass(\"NVAPI Key (starts with nvapi-): \")\n",
        "    assert nvapi_key.startswith(\"nvapi-\"), f\"{nvapi_key[:5]}... is not a valid key\"\n",
        "    os.environ[\"NVAPI_KEY\"] = nvapi_key"
      ]
    },
    {
      "cell_type": "markdown",
      "metadata": {
        "id": "9Sog5h7tcz-S"
      },
      "source": [
        "## Underlying Requests API\n",
        "\n",
        "A selection of useful models are hosted in a DGX-powered service known as [NVIDIA GPU Cloud (NGC)](https://catalog.ngc.nvidia.com/). In this service, containers with exposed model endpoints are deployed and listed on the NVIDIA Container Registry service (NVCR). These systems are accessible via simple HTTP requests and can be utilized by a variety of systems.\n",
        "\n",
        "The `NVCRModel` class implements the basic interfaces to communicate with NVCR, limiting the utility functions to those relevant for AI Playground. For example, the following list is populated by querying the function list endpoint with a key-loaded GET request:"
      ]
    },
    {
      "cell_type": "code",
      "execution_count": 2,
      "metadata": {
        "colab": {
          "base_uri": "https://localhost:8080/"
        },
        "id": "N_nmFrUyc6V4",
        "outputId": "4cdcb961-2963-473d-b377-7e4dd6aa8b73"
      },
      "outputs": [
        {
          "data": {
            "text/plain": [
              "['playground_llama2_code_34b',\n",
              " 'playground_llama2_code_13b',\n",
              " 'playground_fuyu_8b',\n",
              " 'playground_nvolveqa_40k',\n",
              " 'playground_gpt_steerlm_8b',\n",
              " 'playground_gpt_qa_8b',\n",
              " 'playground_sdxl',\n",
              " 'playground_llama2_70b',\n",
              " 'playground_clip',\n",
              " 'playground_llama2_13b',\n",
              " 'playground_neva_22b',\n",
              " 'playground_mistral',\n",
              " 'playground_llama2_steerlm_70b']"
            ]
          },
          "execution_count": 2,
          "metadata": {},
          "output_type": "execute_result"
        }
      ],
      "source": [
        "from langchain.llms import NVAIPlayLLM\n",
        "\n",
        "NVAIPlayLLM().available_models"
      ]
    },
    {
      "cell_type": "markdown",
      "metadata": {
        "id": "l185et2kc8pS"
      },
      "source": [
        "We should be able to see an embedding model among that list which can be used in conjunction with an LLM for effective RAG solutions. We can interface with this model pretty easily with the help of the `NVAIEmbeddings` model."
      ]
    },
    {
      "cell_type": "code",
      "execution_count": 3,
      "metadata": {
        "id": "hbXmJssPdIPX"
      },
      "outputs": [],
      "source": [
        "from langchain.embeddings import NVAIPlayEmbeddings\n",
        "\n",
        "embedder = NVAIPlayEmbeddings()\n",
        "# embedder = NVAIPlayEmbeddings(model=\"nvolve\")  ## Possible option"
      ]
    },
    {
      "cell_type": "markdown",
      "metadata": {
        "id": "SvQijbCwdLXB"
      },
      "source": [
        "This model is a fine-tuned E5-large model which supports the expected `Embeddings`` methods including:\n",
        "- `embed_query`: Generate query embedding for a query sample.\n",
        "- `embed_documents`: Generate passage embeddings for a list of documents which you would like to search over.\n",
        "- `aembed_queries`/`embed_documents`: Asynchronous versions of the above.\n",
        "\n",
        "Additionally, it also implements several convenience methods:\n",
        "- `aembed_batch_query`/`aembed_batch_documents`: Calls the above async methods such that each entry of the input list is generated asynchronously."
      ]
    },
    {
      "cell_type": "markdown",
      "metadata": {
        "id": "pcDu3v4CbmWk"
      },
      "source": [
        "### **Similarity/Speed Test**\n",
        "\n",
        "The following is a quick test of the methods in terms of usage, format, and speed for the use case of embedding the following data points:\n",
        "\n",
        "**Queries:**\n",
        "- What's the weather like in Komchatka?\n",
        "- What kinds of food is Italy known for?\n",
        "- What's my name? I bet you don't remember...\n",
        "- What's the point of life anyways?\n",
        "- The point of life is to have fun :D\n",
        "\n",
        "**Documents:**\n",
        "- Komchatka's weather is cold, with long, severe winters.\n",
        "- Italy is famous for pasta, pizza, gelato, and espresso.\n",
        "- I can't recall personal names, only provide information.\n",
        "- Life's purpose varies, often seen as personal fulfillment.\n",
        "- Enjoying life's moments is indeed a wonderful approach."
      ]
    },
    {
      "cell_type": "markdown",
      "metadata": {
        "id": "xrmtRzgXdhMF"
      },
      "source": [
        "### Query Embedding"
      ]
    },
    {
      "cell_type": "code",
      "execution_count": 4,
      "metadata": {
        "colab": {
          "base_uri": "https://localhost:8080/"
        },
        "id": "bUQM6OoObM_C",
        "outputId": "afbb1ea0-4f14-46b0-da42-25c5ae8eab2e"
      },
      "outputs": [
        {
          "name": "stdout",
          "output_type": "stream",
          "text": [
            "Single Query Embedding: \n",
            "\u001b[1mExecuted in 0.71 seconds.\u001b[0m\n",
            "Shape: (1024,)\n",
            "\n",
            "Batch Query Embedding: \n",
            "\u001b[1mExecuted in 2.97 seconds.\u001b[0m\n",
            "Shape: (5, 1024)\n",
            "\n",
            "Async Batch Query Embedding: \n",
            "\u001b[1mExecuted in 0.63 seconds.\u001b[0m\n",
            "Shape: (5, 1024)\n"
          ]
        }
      ],
      "source": [
        "import time\n",
        "\n",
        "print(\"Single Query Embedding: \")\n",
        "s = time.perf_counter()\n",
        "q_embedding = embedder.embed_query(\"What's the weather like in Komchatka?\")\n",
        "elapsed = time.perf_counter() - s\n",
        "print(\"\\033[1m\" + f\"Executed in {elapsed:0.2f} seconds.\" + \"\\033[0m\")\n",
        "print(\"Shape:\", (len(q_embedding),))\n",
        "\n",
        "print(\"\\nBatch Query Embedding: \")\n",
        "s = time.perf_counter()\n",
        "q_embeddings = [\n",
        "    embedder.embed_query(\"What's the weather like in Komchatka?\"),\n",
        "    embedder.embed_query(\"What kinds of food is Italy known for?\"),\n",
        "    embedder.embed_query(\"What's my name? I bet you don't remember...\"),\n",
        "    embedder.embed_query(\"What's the point of life anyways?\"),\n",
        "    embedder.embed_query(\"The point of life is to have fun :D\"),\n",
        "]\n",
        "elapsed = time.perf_counter() - s\n",
        "print(\"\\033[1m\" + f\"Executed in {elapsed:0.2f} seconds.\" + \"\\033[0m\")\n",
        "print(\"Shape:\", (len(q_embeddings), len(q_embeddings[0])))\n",
        "\n",
        "print(\"\\nAsync Batch Query Embedding: \")\n",
        "s = time.perf_counter()\n",
        "# queries = [\n",
        "#     embedder.aembed_query(\"What's the weather like in Komchatka?\"),\n",
        "#     embedder.aembed_query(\"What kinds of food is Italy known for?\"),\n",
        "#     embedder.aembed_query(\"What's my name? I bet you don't remember...\"),\n",
        "#     embedder.aembed_query(\"What's the point of life anyways?\"),\n",
        "#     embedder.aembed_query(\"The point of life is to have fun :D\"),\n",
        "# ]\n",
        "# q_embeddings = await asyncio.gather(*queries)\n",
        "q_embeddings = await embedder.aembed_batch_queries(\n",
        "    [\n",
        "        \"What's the weather like in Komchatka?\",\n",
        "        \"What kinds of food is Italy known for?\",\n",
        "        \"What's my name? I bet you don't remember...\",\n",
        "        \"What's the point of life anyways?\",\n",
        "        \"The point of life is to have fun :D\",\n",
        "    ]\n",
        ")\n",
        "elapsed = time.perf_counter() - s\n",
        "print(\"\\033[1m\" + f\"Executed in {elapsed:0.2f} seconds.\" + \"\\033[0m\")\n",
        "print(\"Shape:\", (len(q_embeddings), len(q_embeddings[0])))"
      ]
    },
    {
      "cell_type": "markdown",
      "metadata": {
        "id": "SfX00xRdbKDw"
      },
      "source": [
        "### Document Embedding"
      ]
    },
    {
      "cell_type": "code",
      "execution_count": 5,
      "metadata": {
        "colab": {
          "base_uri": "https://localhost:8080/"
        },
        "id": "o1vKyTx-O_vZ",
        "outputId": "a8d864a8-01e8-4431-ee8a-b466d8348bef"
      },
      "outputs": [
        {
          "name": "stdout",
          "output_type": "stream",
          "text": [
            "Single Document Embedding: \n",
            "\u001b[1mExecuted in 0.70 seconds.\u001b[0m\n",
            "Shape: (1024,)\n",
            "\n",
            "Batch Document Embedding: \n",
            "\u001b[1mExecuted in 2.97 seconds.\u001b[0m\n",
            "Shape: (5, 1024)\n",
            "\n",
            "Async Batch Document Embedding: \n",
            "\u001b[1mExecuted in 0.66 seconds.\u001b[0m\n",
            "Shape: (5, 1024)\n"
          ]
        }
      ],
      "source": [
        "import time\n",
        "\n",
        "print(\"Single Document Embedding: \")\n",
        "s = time.perf_counter()\n",
        "d_embeddings = embedder.embed_documents(\n",
        "    [\n",
        "        \"Komchatka's weather is cold, with long, severe winters.\",\n",
        "    ]\n",
        ")\n",
        "elapsed = time.perf_counter() - s\n",
        "print(\"\\033[1m\" + f\"Executed in {elapsed:0.2f} seconds.\" + \"\\033[0m\")\n",
        "print(\"Shape:\", (len(q_embedding),))\n",
        "\n",
        "print(\"\\nBatch Document Embedding: \")\n",
        "s = time.perf_counter()\n",
        "d_embeddings = embedder.embed_documents(\n",
        "    [\n",
        "        \"Komchatka's weather is cold, with long, severe winters.\",\n",
        "        \"Italy is famous for pasta, pizza, gelato, and espresso.\",\n",
        "        \"I can't recall personal names, only provide information.\",\n",
        "        \"Life's purpose varies, often seen as personal fulfillment.\",\n",
        "        \"Enjoying life's moments is indeed a wonderful approach.\",\n",
        "    ]\n",
        ")\n",
        "elapsed = time.perf_counter() - s\n",
        "print(\"\\033[1m\" + f\"Executed in {elapsed:0.2f} seconds.\" + \"\\033[0m\")\n",
        "print(\"Shape:\", (len(q_embeddings), len(q_embeddings[0])))\n",
        "\n",
        "print(\"\\nAsync Batch Document Embedding: \")\n",
        "s = time.perf_counter()\n",
        "d_embeddings = await embedder.aembed_batch_documents(\n",
        "    [\n",
        "        \"Komchatka's weather is cold, with long, severe winters.\",\n",
        "        \"Italy is famous for pasta, pizza, gelato, and espresso.\",\n",
        "        \"I can't recall personal names, only provide information.\",\n",
        "        \"Life's purpose varies, often seen as personal fulfillment.\",\n",
        "        \"Enjoying life's moments is indeed a wonderful approach.\",\n",
        "    ]\n",
        ")\n",
        "elapsed = time.perf_counter() - s\n",
        "print(\"\\033[1m\" + f\"Executed in {elapsed:0.2f} seconds.\" + \"\\033[0m\")\n",
        "print(\"Shape:\", (len(q_embeddings), len(q_embeddings[0])))"
      ]
    },
    {
      "cell_type": "markdown",
      "metadata": {
        "id": "E6AilXxjdm1I"
      },
      "source": [
        "Now that we've generated out embeddings, we can do a simple similarity check on the results to see which documents would have triggered as reasonable answers in a retrieval task:"
      ]
    },
    {
      "cell_type": "code",
      "execution_count": 6,
      "metadata": {
        "colab": {
          "base_uri": "https://localhost:8080/",
          "height": 564
        },
        "id": "7szaiBBYCHQ-",
        "outputId": "86b6d2c4-6bee-4324-f7b1-3fcf2b940763"
      },
      "outputs": [
        {
          "data": {
            "image/png": "[encoded data removed]",
            "text/plain": [
              "<Figure size 800x600 with 2 Axes>"
            ]
          },
          "metadata": {},
          "output_type": "display_data"
        }
      ],
      "source": [
        "import matplotlib.pyplot as plt\n",
        "import numpy as np\n",
        "from sklearn.metrics.pairwise import cosine_similarity\n",
        "\n",
        "# Assuming embeddings1 and embeddings2 are your two sets of vectors\n",
        "# Compute the similarity matrix between embeddings1 and embeddings2\n",
        "cross_similarity_matrix = cosine_similarity(\n",
        "    np.array(q_embeddings),\n",
        "    np.array(d_embeddings),\n",
        ")\n",
        "\n",
        "# Plotting the cross-similarity matrix\n",
        "plt.figure(figsize=(8, 6))\n",
        "plt.imshow(cross_similarity_matrix, cmap=\"Greens\", interpolation=\"nearest\")\n",
        "plt.colorbar()\n",
        "plt.title(\"Cross-Similarity Matrix\")\n",
        "plt.xlabel(\"Query Embeddings\")\n",
        "plt.ylabel(\"Document Embeddings\")\n",
        "plt.grid(True)\n",
        "plt.show()"
      ]
    },
    {
      "cell_type": "markdown",
      "metadata": {
        "id": "K5sLkHWZcRF2"
      },
      "source": [
        "As a reminder, the queries and documents sent to our system were:\n",
        "\n",
        "**Queries:**\n",
        "- What's the weather like in Komchatka?\n",
        "- What kinds of food is Italy known for?\n",
        "- What's my name? I bet you don't remember...\n",
        "- What's the point of life anyways?\n",
        "- The point of life is to have fun :D\n",
        "\n",
        "**Documents:**\n",
        "- Komchatka's weather is cold, with long, severe winters.\n",
        "- Italy is famous for pasta, pizza, gelato, and espresso.\n",
        "- I can't recall personal names, only provide information.\n",
        "- Life's purpose varies, often seen as personal fulfillment.\n",
        "- Enjoying life's moments is indeed a wonderful approach."
      ]
    },
    {
      "cell_type": "markdown",
      "metadata": {
        "id": "RNIeY4N96v3B"
      },
      "source": [
        "## RAG Retrieval:\n",
        "\n",
        "The following is a repurposing of the initial example of the [LangChain Expression Language Retrieval Cookbook entry](\n",
        "https://python.langchain.com/docs/expression_language/cookbook/retrieval), but executed with NVIDIA AI Playground's [Mistral 7B Instruct](https://catalog.ngc.nvidia.com/orgs/nvidia/teams/ai-foundation/models/mistral-7b-instruct) and [NVOLVE Retrieval QA Embedding](https://catalog.ngc.nvidia.com/orgs/nvidia/teams/ai-foundation/models/nvolve-29k) models. The subsequent examples in the cookbook also run as expected, and we encourage you to explore with these options.\n",
        "\n",
        "**TIP:** We would recommend using Mistral for internal reasoning (i.e. instruction following for data extraction, tool selection, etc.) and Llama-Chat for a single final \"wrap-up by making a simple response that works for this user based on the history and context\" response."
      ]
    },
    {
      "cell_type": "code",
      "execution_count": 7,
      "metadata": {
        "id": "zn_zeRGP64DJ"
      },
      "outputs": [],
      "source": [
        "!pip install langchain faiss-cpu tiktoken -q\n",
        "\n",
        "from operator import itemgetter\n",
        "\n",
        "from langchain.chat_models.nv_aiplay import GeneralChat, InstructChat\n",
        "from langchain.prompts import ChatPromptTemplate\n",
        "from langchain.schema.output_parser import StrOutputParser\n",
        "from langchain.schema.runnable import RunnablePassthrough\n",
        "from langchain.vectorstores import FAISS"
      ]
    },
    {
      "cell_type": "code",
      "execution_count": 8,
      "metadata": {
        "colab": {
          "base_uri": "https://localhost:8080/",
          "height": 36
        },
        "id": "zIXyr9Vd7CED",
        "outputId": "a8d36812-c3e0-4fd4-804a-4b5ba43948e5"
      },
      "outputs": [
        {
          "data": {
            "text/plain": [
              "'Based on the provided document and its page content, Harrison worked at Kensho.'"
            ]
          },
          "execution_count": 8,
          "metadata": {},
          "output_type": "execute_result"
        }
      ],
      "source": [
        "vectorstore = FAISS.from_texts(\n",
        "    [\"harrison worked at kensho\"],\n",
        "    embedding=NVAIPlayEmbeddings(),\n",
        ")\n",
        "retriever = vectorstore.as_retriever()\n",
        "\n",
        "template = \"\"\"Answer the question based only on the following context:\n",
        "{context}\n",
        "\n",
        "Question: {question}\n",
        "\"\"\"\n",
        "prompt = ChatPromptTemplate.from_template(template)\n",
        "\n",
        "# model = GeneralChat()\n",
        "model = InstructChat()\n",
        "\n",
        "chain = (\n",
        "    {\"context\": retriever, \"question\": RunnablePassthrough()}\n",
        "    | prompt\n",
        "    | model\n",
        "    | StrOutputParser()\n",
        ")\n",
        "\n",
        "chain.invoke(\"where did harrison work?\")"
      ]
    },
    {
      "cell_type": "code",
      "execution_count": 9,
      "metadata": {
        "colab": {
          "base_uri": "https://localhost:8080/",
          "height": 36
        },
        "id": "OuY62kJ28oNK",
        "outputId": "672ff6df-64d8-442b-9143-f69dbc09f763"
      },
      "outputs": [
        {
          "data": {
            "text/plain": [
              "'Harrison lavorò a Kensho.'"
            ]
          },
          "execution_count": 9,
          "metadata": {},
          "output_type": "execute_result"
        }
      ],
      "source": [
        "template = \"\"\"Answer the question based only on the following context:\n",
        "{context}\n",
        "\n",
        "Question: {question}\n",
        "\n",
        "Answer in the following language: {language}\n",
        "\"\"\"\n",
        "prompt = ChatPromptTemplate.from_template(template)\n",
        "\n",
        "chain = (\n",
        "    {\n",
        "        \"context\": itemgetter(\"question\") | retriever,\n",
        "        \"question\": itemgetter(\"question\"),\n",
        "        \"language\": itemgetter(\"language\"),\n",
        "    }\n",
        "    | prompt\n",
        "    | model\n",
        "    | StrOutputParser()\n",
        ")\n",
        "\n",
        "chain.invoke({\"question\": \"where did harrison work\", \"language\": \"italian\"})"
      ]
    }
  ],
  "metadata": {
    "colab": {
      "provenance": []
    },
    "kernelspec": {
      "display_name": "Python 3",
      "name": "python3"
    },
    "language_info": {
      "codemirror_mode": {
        "name": "ipython",
        "version": 3
      },
      "file_extension": ".py",
      "mimetype": "text/x-python",
      "name": "python",
      "nbconvert_exporter": "python",
      "pygments_lexer": "ipython3",
      "version": "3.9.18"
    }
  },
  "nbformat": 4,
  "nbformat_minor": 0
}
