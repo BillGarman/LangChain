{
 "cells": [
  {
   "cell_type": "markdown",
   "id": "b14a24db",
   "metadata": {},
   "source": [
    "# FireworksEmbeddings\n",
    "\n",
    "This notebook explains how to use Fireworks Embeddings, which is included in the langchain_fireworks package, to embed texts in langchain. We use the default nomic-ai v1.5 model in this example."
   ]
  },
  {
   "cell_type": "code",
   "execution_count": null,
   "id": "0ab948fc",
   "metadata": {},
   "outputs": [],
   "source": [
    "%pip install fireworks_langchain"
   ]
  },
  {
   "cell_type": "markdown",
   "id": "67c637ca",
   "metadata": {},
   "source": [
    "## import the library"
   ]
  },
  {
   "cell_type": "code",
   "execution_count": null,
   "id": "5709b030",
   "metadata": {},
   "outputs": [],
   "source": [
    "from langchain_fireworks import FireworksEmbeddings"
   ]
  },
  {
   "cell_type": "code",
   "execution_count": null,
   "id": "3d81e58c",
   "metadata": {},
   "outputs": [],
   "source": [
    "import getpass\n",
    "import os\n",
    "\n",
    "if \"FIREWORKS_API_KEY\" not in os.environ:\n",
    "    os.environ[\"FIREWORKS_API_KEY\"] = getpass.getpass(\"Fireworks API Key:\")"
   ]
  },
  {
   "cell_type": "code",
   "execution_count": null,
   "id": "1756b1ba",
   "metadata": {},
   "outputs": [],
   "source": [
    "embedding = FireworksEmbeddings()"
   ]
  },
  {
   "cell_type": "markdown",
   "id": "4a2a098d",
   "metadata": {},
   "source": [
    "# Using the Embedding Model\n",
    "With `FireworksEmbeddings`, you can directly use the default model 'nomic-ai/nomic-embed-text-v1.5', or set a different one if available."
   ]
  },
  {
   "cell_type": "code",
   "execution_count": null,
   "id": "584b9af5",
   "metadata": {},
   "outputs": [],
   "source": [
    "embedding.model = (\n",
    "    \"nomic-ai/nomic-embed-text-v1.5\"  # or your preferred model if available\n",
    ")"
   ]
  },
  {
   "cell_type": "code",
   "execution_count": null,
   "id": "be18b873",
   "metadata": {},
   "outputs": [],
   "source": [
    "res_query = embedding.embed_query(\"The test information\")\n",
    "res_document = embedding.embed_documents([\"test1\", \"another test\"])\n",
    "print(res_query)\n",
    "print(res_document)"
   ]
  },
  {
   "cell_type": "markdown",
   "id": "a955e866",
   "metadata": {},
   "source": [
    "TODO: support Matryoshka embeddings through the LangChain code"
   ]
  }
 ],
 "metadata": {
  "kernelspec": {
   "display_name": "Python 3 (ipykernel)",
   "language": "python",
   "name": "python3"
  },
  "language_info": {
   "codemirror_mode": {
    "name": "ipython",
    "version": 3
   },
   "file_extension": ".py",
   "mimetype": "text/x-python",
   "name": "python",
   "nbconvert_exporter": "python",
   "pygments_lexer": "ipython3",
   "version": "3.9.6"
  }
 },
 "nbformat": 4,
 "nbformat_minor": 5
}
