{
 "cells": [
  {
   "cell_type": "markdown",
   "execution_count": null,
   "outputs": [],
   "source": [
    "# Bookend AI\n",
    "\n",
    "Let's load the Bookend AI Embeddings class."
   ],
   "metadata": {
    "collapsed": false
   },
   "id": "2c591a6a42ac7f0"
  },
  {
   "cell_type": "code",
   "execution_count": 2,
   "id": "d94c62b4",
   "metadata": {},
   "outputs": [],
   "source": [
    "from langchain.embeddings import BookendEmbeddings"
   ]
  },
  {
   "cell_type": "code",
   "execution_count": null,
   "id": "523a09e3",
   "metadata": {},
   "outputs": [],
   "source": [
    "embeddings = BookendEmbeddings(domain=\"your_domain\", api_token=\"your_api_token\", model_id=\"your_embeddings_model_id\")"
   ]
  },
  {
   "cell_type": "code",
   "execution_count": null,
   "id": "b212bd5a",
   "metadata": {},
   "outputs": [],
   "source": [
    "text = \"This is a test document.\""
   ]
  },
  {
   "cell_type": "code",
   "execution_count": null,
   "id": "57db66bd",
   "metadata": {},
   "outputs": [],
   "source": [
    "query_result = embeddings.embed_query(text)"
   ]
  },
  {
   "cell_type": "code",
   "execution_count": null,
   "id": "b790fd09",
   "metadata": {},
   "outputs": [],
   "source": [
    "doc_result = embeddings.embed_documents([text])"
   ]
  }
 ],
 "metadata": {
  "kernelspec": {
   "display_name": "Python 3 (ipykernel)",
   "language": "python",
   "name": "python3"
  },
  "language_info": {
   "codemirror_mode": {
    "name": "ipython",
    "version": 3
   },
   "file_extension": ".py",
   "mimetype": "text/x-python",
   "name": "python",
   "nbconvert_exporter": "python",
   "pygments_lexer": "ipython3",
   "version": "3.9.1"
  }
 },
 "nbformat": 4,
 "nbformat_minor": 5
}
