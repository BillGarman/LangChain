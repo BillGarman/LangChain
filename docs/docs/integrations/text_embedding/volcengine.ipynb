{
 "cells": [
  {
   "cell_type": "markdown",
   "metadata": {
    "collapsed": false,
    "jupyter": {
     "outputs_hidden": false
    }
   },
   "source": [
    "# Volc Engine\n",
    "\n",
    "This notebook provides you with a guide on how to load the Volcano Embedding class.\n",
    "\n",
    "\n",
    "## API Initialization\n",
    "\n",
    "To use the LLM services based on [VolcEngine](https://www.volcengine.com/docs/82379/1099455), you have to initialize these parameters:\n",
    "\n",
    "You could either choose to init the AK,SK in environment variables or init params:\n",
    "\n",
    "```base\n",
    "export VOLC_ACCESSKEY=XXX\n",
    "export VOLC_SECRETKEY=XXX\n",
    "```"
   ]
  },
  {
   "cell_type": "code",
   "execution_count": null,
   "metadata": {
    "ExecuteTime": {
     "start_time": "2023-12-14T03:05:29.857798Z"
    }
   },
   "outputs": [],
   "source": [
    "\"\"\"For basic init and call\"\"\"\n",
    "import os\n",
    "\n",
    "from langchain.embeddings import VolcanoEmbeddings\n",
    "\n",
    "os.environ[\"VOLC_ACCESSKEY\"] = \"\"\n",
    "os.environ[\"VOLC_SECRETKEY\"] = \"\"\n",
    "\n",
    "embed = VolcanoEmbeddings(\n",
    "    # volcano_ak='xxx',\n",
    "    # volcano_sk='xxx'\n",
    ")\n",
    "\n",
    "print(\"embed_documents result:\")\n",
    "res1 = embed.embed_documents([\"foo\", \"bar\"])\n",
    "for r in res1:\n",
    "    print(\"\", r[:8])"
   ]
  },
  {
   "cell_type": "code",
   "execution_count": null,
   "metadata": {
    "ExecuteTime": {
     "start_time": "2023-12-14T03:05:29.859276Z"
    }
   },
   "outputs": [],
   "source": [
    "print(\"embed_query result:\")\n",
    "res2 = embed.embed_query(\"foo\")\n",
    "print(\"\", r[:8])"
   ]
  },
  {
   "cell_type": "code",
   "execution_count": null,
   "metadata": {
    "ExecuteTime": {
     "start_time": "2023-12-14T03:05:29.860282Z"
    }
   },
   "outputs": [],
   "source": []
  }
 ],
 "metadata": {
  "kernelspec": {
   "display_name": "Python 3 (ipykernel)",
   "language": "python",
   "name": "python3"
  },
  "language_info": {
   "codemirror_mode": {
    "name": "ipython",
    "version": 3
   },
   "file_extension": ".py",
   "mimetype": "text/x-python",
   "name": "python",
   "nbconvert_exporter": "python",
   "pygments_lexer": "ipython3",
   "version": "3.9.18"
  },
  "vscode": {
   "interpreter": {
    "hash": "6fa70026b407ae751a5c9e6bd7f7d482379da8ad616f98512780b705c84ee157"
   }
  }
 },
 "nbformat": 4,
 "nbformat_minor": 4
}
