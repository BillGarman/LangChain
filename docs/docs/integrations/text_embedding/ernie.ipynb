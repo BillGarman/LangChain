{
 "cells": [
  {
   "cell_type": "markdown",
   "id": "278b6c63",
   "metadata": {},
   "source": [
    "# ERNIE\n",
    "\n",
    "This notebook covers how to get started with ERNIE text embedding models."
   ]
  },
  {
   "cell_type": "markdown",
   "id": "d44df902",
   "metadata": {},
   "source": [
    "## Dependencies\n",
    "\n",
    "First we'll need to install the `erniebot` Python package:"
   ]
  },
  {
   "cell_type": "code",
   "execution_count": null,
   "id": "954a4447",
   "metadata": {},
   "outputs": [],
   "source": [
    "!pip install erniebot==0.5.1"
   ]
  },
  {
   "cell_type": "markdown",
   "id": "fc2dad26",
   "metadata": {},
   "source": [
    "## Access token configuration\n",
    "\n",
    "To use ERNIE text embedding models, you should have an [AI Studio](https://aistudio.baidu.com/index) account and an access token. [Check here](https://aistudio.baidu.com/usercenter/token) to get or manage the access tokens of your AI Studio account.\n",
    "\n",
    "You can set the access token as an environment variable:"
   ]
  },
  {
   "cell_type": "code",
   "execution_count": null,
   "id": "2f9b3c2c",
   "metadata": {},
   "outputs": [],
   "source": [
    "import os\n",
    "\n",
    "os.environ[\"AISTUDIO_ACCESS_TOKEN\"] = \"{YOUR-ACCESS-TOKEN}\""
   ]
  },
  {
   "cell_type": "markdown",
   "id": "0b4530d3",
   "metadata": {},
   "source": [
    "Or, you can pass the token in directly via the `aistudio_access_token` parameter when instantiating the `langchain_community.embeddings.ErnieEmbeddings` class. \n",
    "\n",
    "For example:\n",
    "\n",
    "```python\n",
    "from langchain_community.embeddings import ErnieEmbeddings\n",
    "\n",
    "embeddings = ErnieEmbeddings(aistudio_access_token=\"{YOUR-ACCESS-TOKEN}\")\n",
    "```"
   ]
  },
  {
   "cell_type": "markdown",
   "id": "09b64517",
   "metadata": {},
   "source": [
    "## Example"
   ]
  },
  {
   "cell_type": "code",
   "execution_count": 1,
   "id": "c0b072cc",
   "metadata": {},
   "outputs": [],
   "source": [
    "from langchain_community.embeddings import ErnieEmbeddings"
   ]
  },
  {
   "cell_type": "code",
   "execution_count": null,
   "id": "0e59da22",
   "metadata": {},
   "outputs": [],
   "source": [
    "embeddings = ErnieEmbeddings()"
   ]
  },
  {
   "cell_type": "code",
   "execution_count": null,
   "id": "f23065dd",
   "metadata": {},
   "outputs": [],
   "source": [
    "text = \"This is a test document.\"\n",
    "\n",
    "query_result = embeddings.embed_query(text)\n",
    "print(len(query_result))"
   ]
  },
  {
   "cell_type": "code",
   "execution_count": null,
   "id": "03270010",
   "metadata": {},
   "outputs": [],
   "source": [
    "texts = [\"doc1\", \"doc2\"]\n",
    "\n",
    "docs_result = embeddings.embed_documents(texts)\n",
    "print(len(docs_result))\n",
    "for res in docs_result:\n",
    "    print(len(res))"
   ]
  }
 ],
 "metadata": {
  "kernelspec": {
   "display_name": "Python 3.9.18 ('langchain')",
   "language": "python",
   "name": "python3"
  },
  "language_info": {
   "codemirror_mode": {
    "name": "ipython",
    "version": 3
   },
   "file_extension": ".py",
   "mimetype": "text/x-python",
   "name": "python",
   "nbconvert_exporter": "python",
   "pygments_lexer": "ipython3",
   "version": "3.11.5"
  },
  "vscode": {
   "interpreter": {
    "hash": "8b27f8d187b3aeb02225dbf7258288e436f3e05f3f87e803cced6d97b886ed77"
   }
  }
 },
 "nbformat": 4,
 "nbformat_minor": 5
}
