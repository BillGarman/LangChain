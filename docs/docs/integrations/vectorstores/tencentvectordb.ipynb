{
 "cells": [
  {
   "cell_type": "markdown",
   "metadata": {
    "collapsed": true
   },
   "source": [
    "# Tencent Cloud VectorDB\n",
    "\n",
    ">[Tencent Cloud VectorDB](https://cloud.tencent.com/document/product/1709) is a fully managed, self-developed, enterprise-level distributed database service designed for storing, retrieving, and analyzing multi-dimensional vector data. The database supports multiple index types and similarity calculation methods. A single index can support a vector scale of up to 1 billion and can support millions of QPS and millisecond-level query latency. Tencent Cloud Vector Database can not only provide an external knowledge base for large models to improve the accuracy of large model responses but can also be widely used in AI fields such as recommendation systems, NLP services, computer vision, and intelligent customer service.\n",
    "\n",
    "This notebook shows how to use functionality related to the Tencent vector database.\n",
    "\n",
    "To run, you should have a [Database instance.](https://cloud.tencent.com/document/product/1709/95101).\n",
    "\n",
    "## Basic Usage\n"
   ]
  },
  {
   "cell_type": "code",
   "execution_count": null,
   "metadata": {},
   "outputs": [],
   "source": [
    "!pip3 install tcvectordb"
   ]
  },
  {
   "cell_type": "code",
   "execution_count": 4,
   "metadata": {
    "ExecuteTime": {
     "end_time": "2024-03-27T10:15:08.594144Z",
     "start_time": "2024-03-27T10:15:08.588985Z"
    }
   },
   "outputs": [],
   "source": [
    "from langchain_community.document_loaders import TextLoader\n",
    "from langchain_community.embeddings.fake import FakeEmbeddings\n",
    "from langchain_community.vectorstores import TencentVectorDB\n",
    "from langchain_community.vectorstores.tencentvectordb import ConnectionParams\n",
    "from langchain_text_splitters import CharacterTextSplitter"
   ]
  },
  {
   "cell_type": "markdown",
   "source": [
    "load the documents, split them into chunks."
   ],
   "metadata": {
    "collapsed": false
   }
  },
  {
   "cell_type": "code",
   "execution_count": 5,
   "metadata": {
    "ExecuteTime": {
     "end_time": "2024-03-27T10:15:11.824060Z",
     "start_time": "2024-03-27T10:15:11.819351Z"
    }
   },
   "outputs": [],
   "source": [
    "loader = TextLoader(\"../../modules/state_of_the_union.txt\")\n",
    "documents = loader.load()\n",
    "text_splitter = CharacterTextSplitter(chunk_size=1000, chunk_overlap=0)\n",
    "docs = text_splitter.split_documents(documents)"
   ]
  },
  {
   "cell_type": "markdown",
   "source": [
    "we support two ways to embed the documents:\n",
    "- Use any Embeddings models compatible with Langchain Embeddings.\n",
    "- Specify the Embedding model name of the Tencent VectorStore DB, choices are:\n",
    "    - `bge-base-zh`, dimension: 768\n",
    "    - `m3e-base`, dimension: 768\n",
    "    - `text2vec-large-chinese`, dimension: 1024\n",
    "    - `e5-large-v2`, dimension: 1024\n",
    "    - `multilingual-e5-base`, dimension: 768 \n",
    "\n",
    "flowing code shows both ways to embed the documents, you can choose one of them by commenting the other:"
   ],
   "metadata": {
    "collapsed": false
   }
  },
  {
   "cell_type": "code",
   "outputs": [],
   "source": [
    "##  you can use a Langchain Embeddings model, like OpenAIEmbeddings:\n",
    "\n",
    "# from langchain_community.embeddings.openai import OpenAIEmbeddings\n",
    "# \n",
    "# embeddings = OpenAIEmbeddings()\n",
    "# t_vdb_embedding = None\n",
    "\n",
    "## Or you can use a Tencent Embedding model, like `bge-base-zh`:\n",
    "\n",
    "t_vdb_embedding = \"bge-base-zh\"  # bge-base-zh is the default model\n",
    "embeddings = None"
   ],
   "metadata": {
    "collapsed": false,
    "ExecuteTime": {
     "end_time": "2024-03-27T10:15:14.949218Z",
     "start_time": "2024-03-27T10:15:14.946314Z"
    }
   },
   "execution_count": 6
  },
  {
   "cell_type": "markdown",
   "source": [
    "now we can create a TencentVectorDB instance, you must provide at least one of the `embeddings` or `t_vdb_embedding` parameters. if both are provided, the `embeddings` parameter will be used:"
   ],
   "metadata": {
    "collapsed": false
   }
  },
  {
   "cell_type": "code",
   "execution_count": 7,
   "metadata": {
    "ExecuteTime": {
     "end_time": "2024-03-27T10:15:22.954428Z",
     "start_time": "2024-03-27T10:15:19.069173Z"
    }
   },
   "outputs": [],
   "source": [
    "conn_params = ConnectionParams(\n",
    "    url=\"http://10.0.X.X\",\n",
    "    key=\"eC4bLRy2va******************************\",\n",
    "    username=\"root\",\n",
    "    timeout=20,\n",
    ")\n",
    "\n",
    "vector_db = TencentVectorDB.from_documents(\n",
    "    docs,\n",
    "    embeddings,\n",
    "    connection_params=conn_params,\n",
    "    t_vdb_embedding=t_vdb_embedding\n",
    ")"
   ]
  },
  {
   "cell_type": "code",
   "execution_count": 8,
   "metadata": {
    "ExecuteTime": {
     "end_time": "2024-03-27T10:15:27.030880Z",
     "start_time": "2024-03-27T10:15:26.996104Z"
    }
   },
   "outputs": [
    {
     "data": {
      "text/plain": "'Tonight. I call on the Senate to: Pass the Freedom to Vote Act. Pass the John Lewis Voting Rights Act. And while you’re at it, pass the Disclose Act so Americans can know who is funding our elections. \\n\\nTonight, I’d like to honor someone who has dedicated his life to serve this country: Justice Stephen Breyer—an Army veteran, Constitutional scholar, and retiring Justice of the United States Supreme Court. Justice Breyer, thank you for your service. \\n\\nOne of the most serious constitutional responsibilities a President has is nominating someone to serve on the United States Supreme Court. \\n\\nAnd I did that 4 days ago, when I nominated Circuit Court of Appeals Judge Ketanji Brown Jackson. One of our nation’s top legal minds, who will continue Justice Breyer’s legacy of excellence.'"
     },
     "execution_count": 8,
     "metadata": {},
     "output_type": "execute_result"
    }
   ],
   "source": [
    "query = \"What did the president say about Ketanji Brown Jackson\"\n",
    "docs = vector_db.similarity_search(query)\n",
    "docs[0].page_content"
   ]
  },
  {
   "cell_type": "code",
   "execution_count": 9,
   "metadata": {
    "ExecuteTime": {
     "end_time": "2024-03-27T10:15:47.229114Z",
     "start_time": "2024-03-27T10:15:47.084162Z"
    }
   },
   "outputs": [
    {
     "data": {
      "text/plain": "'Ankush went to Princeton'"
     },
     "execution_count": 9,
     "metadata": {},
     "output_type": "execute_result"
    }
   ],
   "source": [
    "vector_db = TencentVectorDB(embeddings, conn_params)\n",
    "\n",
    "vector_db.add_texts([\"Ankush went to Princeton\"])\n",
    "query = \"Where did Ankush go to college?\"\n",
    "docs = vector_db.max_marginal_relevance_search(query)\n",
    "docs[0].page_content"
   ]
  },
  {
   "cell_type": "markdown",
   "source": [
    "## Metadata and filtering\n",
    "\n",
    "Tencent VectorDB supports metadata and [filtering](https://cloud.tencent.com/document/product/1709/95099#c6f6d3a3-02c5-4891-b0a1-30fe4daf18d8). You can add metadata to the documents and filter the search results based on the metadata.\n",
    "\n",
    "now we will create a new TencentVectorDB collection with metadata and demonstrate how to filter the search results based on the metadata:"
   ],
   "metadata": {
    "collapsed": false
   }
  },
  {
   "cell_type": "code",
   "outputs": [
    {
     "data": {
      "text/plain": "[Document(page_content='The Dark Knight is a 2008 superhero film directed by Christopher Nolan.', metadata={'year': 2008, 'rating': '9.0', 'genre': 'superhero', 'director': 'Christopher Nolan'}),\n Document(page_content='Inception is a 2010 science fiction action film written and directed by Christopher Nolan.', metadata={'year': 2010, 'rating': '8.8', 'genre': 'science fiction', 'director': 'Christopher Nolan'})]"
     },
     "execution_count": 2,
     "metadata": {},
     "output_type": "execute_result"
    }
   ],
   "source": [
    "from langchain_core.documents import Document\n",
    "from langchain_community.vectorstores.tencentvectordb import TencentVectorDB, MetaField, ConnectionParams, FieldType\n",
    "\n",
    "meta_fields = [\n",
    "    MetaField(name=\"year\", data_type=FieldType.Uint64, index=True),\n",
    "    MetaField(name=\"rating\", data_type=FieldType.String, index=False),\n",
    "    MetaField(name=\"genre\", data_type=FieldType.String, index=True),\n",
    "    MetaField(name=\"director\", data_type=FieldType.String, index=True),\n",
    "]\n",
    "\n",
    "docs = [\n",
    "    Document(\n",
    "        page_content=\"The Shawshank Redemption is a 1994 American drama film written and directed by Frank Darabont.\",\n",
    "        metadata={\"year\": 1994, \"rating\": \"9.3\", \"genre\": \"drama\", \"director\": \"Frank Darabont\"}\n",
    "    ),\n",
    "    Document(\n",
    "        page_content=\"The Godfather is a 1972 American crime film directed by Francis Ford Coppola.\",\n",
    "        metadata={\"year\": 1972, \"rating\": \"9.2\", \"genre\": \"crime\", \"director\": \"Francis Ford Coppola\"}\n",
    "    ),\n",
    "    Document(\n",
    "        page_content=\"The Dark Knight is a 2008 superhero film directed by Christopher Nolan.\",\n",
    "        metadata={\"year\": 2008, \"rating\": \"9.0\", \"genre\": \"superhero\", \"director\": \"Christopher Nolan\"}\n",
    "    ),\n",
    "    Document(\n",
    "        page_content=\"Inception is a 2010 science fiction action film written and directed by Christopher Nolan.\",\n",
    "        metadata={\"year\": 2010, \"rating\": \"8.8\", \"genre\": \"science fiction\", \"director\": \"Christopher Nolan\"}\n",
    "    )\n",
    "]\n",
    "\n",
    "vector_db = TencentVectorDB.from_documents(\n",
    "    docs,\n",
    "    None,\n",
    "    connection_params=ConnectionParams(\n",
    "        url=\"http://10.0.X.X\",\n",
    "        key=\"eC4bLRy2va******************************\",\n",
    "        username=\"root\",\n",
    "        timeout=20,\n",
    "    ),\n",
    "    collection_name=\"movies\",\n",
    "    meta_fields=meta_fields,\n",
    ")\n",
    "\n",
    "query = \"film about dream by Christopher Nolan\"\n",
    "\n",
    "# you can use the tencentvectordb filtering syntax with the `expr` parameter:\n",
    "result = vector_db.similarity_search(query, expr='director=\"Christopher Nolan\"')\n",
    "\n",
    "# you can either use the langchain filtering syntax with the `filter` parameter:\n",
    "# result = vector_db.similarity_search(query, filter='eq(\"director\", \"Christopher Nolan\")')\n",
    "\n",
    "result"
   ],
   "metadata": {
    "collapsed": false,
    "ExecuteTime": {
     "end_time": "2024-03-27T10:14:24.113163Z",
     "start_time": "2024-03-27T10:14:23.286197Z"
    }
   },
   "execution_count": 2
  }
 ],
 "metadata": {
  "kernelspec": {
   "display_name": "Python 3 (ipykernel)",
   "language": "python",
   "name": "python3"
  },
  "language_info": {
   "codemirror_mode": {
    "name": "ipython",
    "version": 3
   },
   "file_extension": ".py",
   "mimetype": "text/x-python",
   "name": "python",
   "nbconvert_exporter": "python",
   "pygments_lexer": "ipython3",
   "version": "3.9.1"
  }
 },
 "nbformat": 4,
 "nbformat_minor": 4
}
