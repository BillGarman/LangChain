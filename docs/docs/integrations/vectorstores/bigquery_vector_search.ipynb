{
  "cells": [
    {
      "cell_type": "markdown",
      "metadata": {
        "id": "E_RJy7C1bpCT"
      },
      "source": [
        "# BigQueryVectorSearch\n",
        ">[BigQueryVectorSearch](https://drive.google.com/file/d/1lIoTV_ytBWZRODairaAasyzf6ZXDaX9U/view?resourcekey=0-6C4l_L3aWAJXfgvHh8dfCg):\n",
        "BigQuery vector search lets you use GoogleSQL to do semantic search, using vector indexes for fast but approximate results, or using brute force for exact results.\n",
        "\n",
        "\n",
        "This tutorial illustrates how to work with an end-to-end data and embedding management system in LangChain, and provide scalable semantic search in BigQuery."
      ]
    },
    {
      "cell_type": "markdown",
      "metadata": {
        "id": "EmPJkpOCckyh"
      },
      "source": [
        "## Getting started\n"
      ]
    },
    {
      "cell_type": "markdown",
      "metadata": {
        "id": "IR54BmgvdHT_"
      },
      "source": [
        "### Install the library"
      ]
    },
    {
      "cell_type": "code",
      "execution_count": null,
      "metadata": {
        "colab": {
          "base_uri": "https://localhost:8080/",
          "height": 1000
        },
        "id": "0ZITIDE160OD",
        "outputId": "e184bc0d-6541-4e0a-82d2-1e216db00a2d"
      },
      "outputs": [],
      "source": [
        "! pip install google-cloud-aiplatform langchain==0.0.316 google-cloud-bigquery pydantic==1.10.8 typing-inspect==0.8.0 typing_extensions==4.5.0 pandas openai==0.28.1 tiktoken datasets google-api-python-client pypdf faiss-cpu transformers config --upgrade --user"
      ]
    },
    {
      "cell_type": "markdown",
      "metadata": {
        "id": "v40bB_GMcr9f"
      },
      "source": [
        "**Colab only:** Uncomment the following cell to restart the kernel or use the button to restart the kernel. For Vertex AI Workbench you can restart the terminal using the button on top."
      ]
    },
    {
      "cell_type": "code",
      "execution_count": null,
      "metadata": {
        "id": "6o0iGVIdDD6K"
      },
      "outputs": [],
      "source": [
        "# Automatically restart kernel after installs so that your environment can access the new packages\n",
        "import IPython\n",
        "\n",
        "app = IPython.Application.instance()\n",
        "app.kernel.do_shutdown(True)"
      ]
    },
    {
      "cell_type": "markdown",
      "metadata": {},
      "source": [
        "## Before you begin"
      ]
    },
    {
      "cell_type": "markdown",
      "metadata": {},
      "source": [
        "#### Set your project ID\n",
        "\n",
        "If you don't know your project ID, try the following:\n",
        "* Run `gcloud config list`.\n",
        "* Run `gcloud projects list`.\n",
        "* See the support page: [Locate the project ID](https://support.google.com/googleapi/answer/7014113)."
      ]
    },
    {
      "cell_type": "code",
      "execution_count": null,
      "metadata": {},
      "outputs": [],
      "source": [
        "PROJECT_ID = \"\"  # @param {type:\"string\"}\n",
        "\n",
        "# Set the project id\n",
        "! gcloud config set project {PROJECT_ID}"
      ]
    },
    {
      "cell_type": "markdown",
      "metadata": {},
      "source": [
        "#### Set the region\n",
        "\n",
        "You can also change the `REGION` variable used by BigQuery. Learn more about [BigQuery regions](https://cloud.google.com/bigquery/docs/locations#supported_locations)."
      ]
    },
    {
      "cell_type": "code",
      "execution_count": null,
      "metadata": {},
      "outputs": [],
      "source": [
        "REGION = \"US\"  # @param {type: \"string\"}"
      ]
    },
    {
      "cell_type": "markdown",
      "metadata": {},
      "source": [
        "### Authenticating your notebook environment\n",
        "\n",
        "- If you are using **Colab** to run this notebook, uncomment the cell below and continue.\n",
        "- If you are using **Vertex AI Workbench**, check out the setup instructions [here](https://github.com/GoogleCloudPlatform/generative-ai/tree/main/setup-env)."
      ]
    },
    {
      "cell_type": "code",
      "execution_count": null,
      "metadata": {},
      "outputs": [],
      "source": [
        "from google.colab import auth as google_auth\n",
        "google_auth.authenticate_user()"
      ]
    },
    {
      "cell_type": "markdown",
      "metadata": {
        "id": "AD3yG49BdLlr"
      },
      "source": [
        "## Demo: BigQueryVectorSearch"
      ]
    },
    {
      "cell_type": "code",
      "execution_count": null,
      "metadata": {
        "colab": {
          "base_uri": "https://localhost:8080/"
        },
        "id": "Vb2RJocV9_LQ",
        "outputId": "37f5dc74-2512-47b2-c135-f34c10afdcf4"
      },
      "outputs": [],
      "source": [
        "from langchain.embeddings.openai import OpenAIEmbeddings\n",
        "import os\n",
        "import getpass\n",
        "\n",
        "# We want to use OpenAIEmbeddings so we have to get the OpenAI API Key.\n",
        "os.environ[\"OPENAI_API_KEY\"] = getpass.getpass(\"OpenAI API Key:\")"
      ]
    },
    {
      "cell_type": "code",
      "execution_count": null,
      "metadata": {
        "id": "z0Ksm9Tk_xhq"
      },
      "outputs": [],
      "source": [
        "embeddings = OpenAIEmbeddings()"
      ]
    },
    {
      "cell_type": "code",
      "execution_count": null,
      "metadata": {
        "colab": {
          "base_uri": "https://localhost:8080/"
        },
        "id": "a__71yhV9cXS",
        "outputId": "6a66e52d-05db-4240-c13b-4052ac9331b7"
      },
      "outputs": [],
      "source": [
        "from langchain.vectorstores.bigquery_vector_search import BigQueryVectorSearch\n",
        "from langchain.vectorstores.utils import DistanceStrategy\n",
        "\n",
        "DEFAULT_DISTANCE_STRATEGY = DistanceStrategy.EUCLIDEAN_DISTANCE\n",
        "\n",
        "bq_vector_search = BigQueryVectorSearch(\n",
        "                                project_id=PROJECT_ID,\n",
        "                                dataset_name=\"your_dataset\",\n",
        "                                table_name=\"your_table\",\n",
        "                                content_field=\"text_content_column\",\n",
        "                                vector_field=\"embedding_column\",\n",
        "                                embedding=embeddings,\n",
        "                                distance_strategy=DEFAULT_DISTANCE_STRATEGY,\n",
        "                                location=REGION)"
      ]
    },
    {
      "cell_type": "code",
      "execution_count": null,
      "metadata": {
        "colab": {
          "base_uri": "https://localhost:8080/"
        },
        "id": "eGNf5A35E_si",
        "outputId": "c3be2242-76aa-42dd-b106-e4304385fec5"
      },
      "outputs": [],
      "source": [
        "publication_number_to_add = \"WO-03025453-B1\"\n",
        "bq_vector_search.add_texts(publication_number_to_add)"
      ]
    },
    {
      "cell_type": "code",
      "execution_count": null,
      "metadata": {
        "colab": {
          "base_uri": "https://localhost:8080/"
        },
        "id": "FFg7TBaYGJJS",
        "outputId": "1e53182b-3a5b-4986-d272-4b78ca401eb5"
      },
      "outputs": [],
      "source": [
        "publication_number_as_query = \"PL-346047-A1\"\n",
        "bq_vector_search.similarity_search_with_score(publication_number_as_query, k=2)"
      ]
    },
    {
      "cell_type": "code",
      "execution_count": null,
      "metadata": {
        "colab": {
          "base_uri": "https://localhost:8080/"
        },
        "id": "wDL_WnRNZ_hk",
        "outputId": "69bdf48a-34ed-4fb4-d24e-7105bc7ce3bd"
      },
      "outputs": [],
      "source": [
        "bq_vector_search.similarity_search(publication_number_as_query, k=2)"
      ]
    }
  ],
  "metadata": {
    "colab": {
      "provenance": [],
      "toc_visible": true
    },
    "kernelspec": {
      "display_name": "Python 3",
      "name": "python3"
    },
    "language_info": {
      "name": "python"
    }
  },
  "nbformat": 4,
  "nbformat_minor": 0
}
