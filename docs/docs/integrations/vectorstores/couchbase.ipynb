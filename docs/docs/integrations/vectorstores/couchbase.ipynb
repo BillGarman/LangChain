{
 "cells": [
  {
   "cell_type": "markdown",
   "id": "f63dfcf9-fd9d-4ac1-a0b3-c02d4dce7faf",
   "metadata": {},
   "source": [
    "# Couchbase \n",
    "[Couchbase](http://couchbase.com/) Couchbase is an award-winning distributed NoSQL cloud database that delivers unmatched versatility, performance, scalability, and financial value for all of your cloud, mobile, AI, and edge computing applications. Couchbase embraces AI with coding assistance for developers and vector search for their applications.\n",
    "\n",
    "Vector search is a part of the [Full Text Service](https://docs.couchbase.com/server/current/learn/services-and-indexes/services/search-service.html)(FTS) in Couchbase.\n",
    "\n",
    "This tutorial explains how to use vector search in Couchbase. You can work with both [Couchbase Capella](https://www.couchbase.com/products/capella/) and your self-managed Couchbase server."
   ]
  },
  {
   "cell_type": "markdown",
   "id": "43326be4-4433-4de2-ad42-6eb91a722bad",
   "metadata": {},
   "source": [
    "## Installation"
   ]
  },
  {
   "cell_type": "code",
   "execution_count": 1,
   "id": "bec8d532-fec7-4dc7-9be3-020aa7bdb01f",
   "metadata": {},
   "outputs": [
    {
     "name": "stdout",
     "output_type": "stream",
     "text": [
      "Note: you may need to restart the kernel to use updated packages.\n"
     ]
    }
   ],
   "source": [
    "%pip install --upgrade --quiet langchain langchain-openai couchbase"
   ]
  },
  {
   "cell_type": "markdown",
   "id": "efbac6ff-c2ac-4443-9250-7cc88061346b",
   "metadata": {},
   "source": [
    "For this tutorial, we will use OpenAI embeddings"
   ]
  },
  {
   "cell_type": "code",
   "execution_count": 2,
   "id": "4a972cbc-bf59-46eb-9b50-e5dc3a69dcf0",
   "metadata": {},
   "outputs": [
    {
     "name": "stdin",
     "output_type": "stream",
     "text": [
      "OpenAI API Key: ········\n"
     ]
    }
   ],
   "source": [
    "import getpass\n",
    "import os\n",
    "\n",
    "os.environ[\"OPENAI_API_KEY\"] = getpass.getpass(\"OpenAI API Key:\")"
   ]
  },
  {
   "cell_type": "code",
   "execution_count": 3,
   "id": "23ce45ab-bfd2-42e1-b681-514a550f0232",
   "metadata": {},
   "outputs": [],
   "source": [
    "from langchain_community.vectorstores import CouchbaseVectorStore\n",
    "from langchain_openai import OpenAIEmbeddings"
   ]
  },
  {
   "cell_type": "markdown",
   "id": "3144ba02-1eaa-4449-853e-f034ca5706bf",
   "metadata": {},
   "source": [
    "## Create Couchbase Connection Object\n",
    "We create a connection to the Couchbase cluster initially and then pass the cluster object to the Vector Store. Here, we are connecting using the username and password. You can also connect using any other supported way to your cluster. \n",
    "\n",
    "For more information on connecting to the Couchbase cluster, please check the [Python SDK documentation](https://docs.couchbase.com/python-sdk/current/hello-world/start-using-sdk.html#connect)"
   ]
  },
  {
   "cell_type": "code",
   "execution_count": 4,
   "id": "52fe583a-12db-4dc2-9281-1174bf1d4e5c",
   "metadata": {},
   "outputs": [],
   "source": [
    "COUCHBASE_CONNECTION_STRING = \"couchbase://localhost\"\n",
    "DB_USERNAME = \"Administrator\"\n",
    "DB_PASSWORD = \"Password\""
   ]
  },
  {
   "cell_type": "code",
   "execution_count": 5,
   "id": "9986c6b9",
   "metadata": {},
   "outputs": [],
   "source": [
    "from datetime import timedelta\n",
    "\n",
    "from couchbase.auth import PasswordAuthenticator\n",
    "from couchbase.cluster import Cluster\n",
    "from couchbase.options import ClusterOptions\n",
    "\n",
    "auth = PasswordAuthenticator(DB_USERNAME, DB_PASSWORD)\n",
    "options = ClusterOptions(auth)\n",
    "cluster = Cluster(COUCHBASE_CONNECTION_STRING, options)\n",
    "\n",
    "# Wait until the cluster is ready for use.\n",
    "cluster.wait_until_ready(timedelta(seconds=5))"
   ]
  },
  {
   "cell_type": "markdown",
   "id": "90c5dec9-f6cb-41eb-9f30-13cab7b107db",
   "metadata": {},
   "source": [
    "We will now set the bucket, scope and collection names in the Couchbase cluster that we want to use for vector search. For this example, we are using the default scope & collections."
   ]
  },
  {
   "cell_type": "code",
   "execution_count": 6,
   "id": "1b1d0a26-e9d4-4823-9800-9549d24d3d16",
   "metadata": {},
   "outputs": [],
   "source": [
    "BUCKET_NAME = \"testing\"\n",
    "SCOPE_NAME = \"_default\"\n",
    "COLLECTION_NAME = \"_default\""
   ]
  },
  {
   "cell_type": "code",
   "execution_count": 7,
   "id": "69d8cfda-ca2f-425e-a9df-97b7a8e7869f",
   "metadata": {},
   "outputs": [],
   "source": [
    "VECTOR_INDEX_NAME = \"vector-index\""
   ]
  },
  {
   "cell_type": "code",
   "execution_count": 8,
   "id": "87625579-86d7-4de4-8a4d-cee674a6b676",
   "metadata": {},
   "outputs": [],
   "source": [
    "embeddings = OpenAIEmbeddings()"
   ]
  },
  {
   "cell_type": "markdown",
   "id": "2767aa1a-9001-4da3-8a77-432f24a6a327",
   "metadata": {},
   "source": [
    "## Create the Vector Index\n",
    "Currently, the vector index needs to be created from the Couchbase Capella or Server UI or using the REST interface. \n",
    "\n",
    "Let us define a vector index with the name `vector-index` on the testing bucket\n",
    "\n",
    "For this example, let us use the Import Index feature on the Full Text Search on the UI. \n",
    "We are defining an index on the `testing` bucket's `_default` scope on the `_default` collection with the vector field set to `embedding` and text field set to `text`. We are also indexing and storing all the fields under `metadata` in the document dynamically. The similarity metric is set to `dot_product`.\n",
    "\n",
    "How to Import an Index to the Full Text Search service?\n",
    " - [Couchbase Capella](https://docs.couchbase.com/cloud/search/import-search-index.html)\n",
    " - Couchbase Server: Click on Search -> Add Index -> Import\n",
    " - Copy the following Index definition in the Import screen\n",
    "```\n",
    "{\n",
    " \"name\": \"vector-index\",\n",
    " \"type\": \"fulltext-index\",\n",
    " \"params\": {\n",
    "  \"doc_config\": {\n",
    "   \"docid_prefix_delim\": \"\",\n",
    "   \"docid_regexp\": \"\",\n",
    "   \"mode\": \"type_field\",\n",
    "   \"type_field\": \"type\"\n",
    "  },\n",
    "  \"mapping\": {\n",
    "   \"default_analyzer\": \"standard\",\n",
    "   \"default_datetime_parser\": \"dateTimeOptional\",\n",
    "   \"default_field\": \"_all\",\n",
    "   \"default_mapping\": {\n",
    "    \"dynamic\": true,\n",
    "    \"enabled\": true,\n",
    "    \"properties\": {\n",
    "     \"metadata\": {\n",
    "      \"dynamic\": true,\n",
    "      \"enabled\": true\n",
    "     },\n",
    "     \"embedding\": {\n",
    "      \"enabled\": true,\n",
    "      \"dynamic\": false,\n",
    "      \"fields\": [\n",
    "       {\n",
    "        \"dims\": 1536,\n",
    "        \"index\": true,\n",
    "        \"name\": \"embedding\",\n",
    "        \"similarity\": \"dot_product\",\n",
    "        \"type\": \"vector\",\n",
    "        \"vector_index_optimized_for\": \"recall\"\n",
    "       }\n",
    "      ]\n",
    "     },\n",
    "     \"text\": {\n",
    "      \"enabled\": true,\n",
    "      \"dynamic\": false,\n",
    "      \"fields\": [\n",
    "       {\n",
    "        \"index\": true,\n",
    "        \"name\": \"text\",\n",
    "        \"store\": true,\n",
    "        \"type\": \"text\"\n",
    "       }\n",
    "      ]\n",
    "     }\n",
    "    }\n",
    "   },\n",
    "   \"default_type\": \"_default\",\n",
    "   \"docvalues_dynamic\": false,\n",
    "   \"index_dynamic\": true,\n",
    "   \"store_dynamic\": true,\n",
    "   \"type_field\": \"_type\"\n",
    "  },\n",
    "  \"store\": {\n",
    "   \"indexType\": \"scorch\",\n",
    "   \"segmentVersion\": 16\n",
    "  }\n",
    " },\n",
    " \"sourceType\": \"gocbcore\",\n",
    " \"sourceName\": \"testing\",\n",
    " \"sourceUUID\": \"e496e6dfb4cde8d781206646d8ea6b8c\",\n",
    " \"sourceParams\": {},\n",
    " \"planParams\": {\n",
    "  \"maxPartitionsPerPIndex\": 103,\n",
    "  \"indexPartitions\": 10,\n",
    "  \"numReplicas\": 0\n",
    " },\n",
    " \"uuid\": \"7de64670e14399ee\"\n",
    "}\n",
    "```\n",
    "\n",
    "- Click on Create Index to create the index.\n",
    "\n",
    "For more details on how to create an FTS index with support for Vector fields, please refer to the documentation:\n",
    " - [Couchbase Capella](https://docs.couchbase.com/cloud/search/create-search-indexes.html)\n",
    " - [Couchbase Server](https://docs.couchbase.com/server/current/search/create-search-indexes.html)"
   ]
  },
  {
   "cell_type": "markdown",
   "id": "75f4037d-e509-4de7-a8d1-63a05de24e9d",
   "metadata": {},
   "source": [
    "## Create Vector Store\n",
    "We create the vector store object with the cluster information and the vector index name."
   ]
  },
  {
   "cell_type": "code",
   "execution_count": 9,
   "id": "33db4670-76c5-49ba-94d6-a8fa35583058",
   "metadata": {},
   "outputs": [],
   "source": [
    "vector_store = CouchbaseVectorStore(\n",
    "    cluster=cluster,\n",
    "    bucket_name=BUCKET_NAME,\n",
    "    scope_name=SCOPE_NAME,\n",
    "    collection_name=COLLECTION_NAME,\n",
    "    embedding=embeddings,\n",
    "    index_name=VECTOR_INDEX_NAME,\n",
    ")"
   ]
  },
  {
   "cell_type": "markdown",
   "id": "0aa98793-5ac2-4f76-bbba-2d40856c2d58",
   "metadata": {},
   "source": [
    "### Specify the Text & Embeddings Field\n",
    "You can optionally specify the text & embeddings field for the document using the `text_key` and `embedding_key` fields.\n",
    "```\n",
    "vector_store = CouchbaseVectorStore(\n",
    "    cluster=cluster,\n",
    "    bucket_name=BUCKET_NAME,\n",
    "    scope_name=SCOPE_NAME,\n",
    "    collection_name=COLLECTION_NAME,\n",
    "    embedding=embeddings,\n",
    "    index_name=VECTOR_INDEX_NAME,\n",
    "    text_key=\"text\",\n",
    "    embedding_key=\"embedding\",\n",
    ")\n",
    "```"
   ]
  },
  {
   "cell_type": "markdown",
   "id": "790dc1ac-0ab8-4cb5-989d-31ca7c241068",
   "metadata": {},
   "source": [
    "## Basic Example\n",
    "For this example, we are going to load the \"state_of_the_union.txt\" file via the TextLoader, chunk the text into 500 character chunks with no overlaps and index all these chunks into Couchbase.\n",
    "\n",
    "After the data is indexed, we perform a simple query to find the top 4 chunks that are similar to the query \"What did president say about Ketanji Brown Jackson\"\n"
   ]
  },
  {
   "cell_type": "code",
   "execution_count": 10,
   "id": "440350df-cbc6-48f7-8009-2e783be18306",
   "metadata": {},
   "outputs": [],
   "source": [
    "from langchain.text_splitter import CharacterTextSplitter\n",
    "from langchain_community.document_loaders import TextLoader\n",
    "\n",
    "loader = TextLoader(\"../../modules/state_of_the_union.txt\")\n",
    "documents = loader.load()\n",
    "text_splitter = CharacterTextSplitter(chunk_size=500, chunk_overlap=0)\n",
    "docs = text_splitter.split_documents(documents)"
   ]
  },
  {
   "cell_type": "code",
   "execution_count": 11,
   "id": "9d3b4c7c-abd6-4dfa-ad63-470f16661319",
   "metadata": {},
   "outputs": [],
   "source": [
    "vector_store = CouchbaseVectorStore.from_documents(\n",
    "    documents=docs,\n",
    "    embedding=embeddings,\n",
    "    cluster=cluster,\n",
    "    bucket_name=BUCKET_NAME,\n",
    "    scope_name=SCOPE_NAME,\n",
    "    collection_name=COLLECTION_NAME,\n",
    "    index_name=VECTOR_INDEX_NAME,\n",
    ")"
   ]
  },
  {
   "cell_type": "code",
   "execution_count": 12,
   "id": "91fdce6c-8f7c-4060-865a-2fd742846664",
   "metadata": {},
   "outputs": [
    {
     "name": "stdout",
     "output_type": "stream",
     "text": [
      "page_content='One of the most serious constitutional responsibilities a President has is nominating someone to serve on the United States Supreme Court. \\n\\nAnd I did that 4 days ago, when I nominated Circuit Court of Appeals Judge Ketanji Brown Jackson. One of our nation’s top legal minds, who will continue Justice Breyer’s legacy of excellence.' metadata={'source': '../../modules/state_of_the_union.txt'}\n"
     ]
    }
   ],
   "source": [
    "query = \"What did president say about Ketanji Brown Jackson\"\n",
    "results = vector_store.similarity_search(query)\n",
    "print(results[0])"
   ]
  },
  {
   "cell_type": "markdown",
   "id": "d9b46c93-65f6-4e4f-87a2-5cebea3b7a6b",
   "metadata": {},
   "source": [
    "## Similarity Search with Score\n",
    "You can fetch the scores for the results by calling the `similarity_search_with_score` method"
   ]
  },
  {
   "cell_type": "code",
   "execution_count": 13,
   "id": "24b146b2-55a2-4fe8-8659-3649032f5dc7",
   "metadata": {},
   "outputs": [
    {
     "name": "stdout",
     "output_type": "stream",
     "text": [
      "page_content='One of the most serious constitutional responsibilities a President has is nominating someone to serve on the United States Supreme Court. \\n\\nAnd I did that 4 days ago, when I nominated Circuit Court of Appeals Judge Ketanji Brown Jackson. One of our nation’s top legal minds, who will continue Justice Breyer’s legacy of excellence.' metadata={'source': '../../modules/state_of_the_union.txt'}\n",
      "Score: 0.8211871385574341\n"
     ]
    }
   ],
   "source": [
    "query = \"What did president say about Ketanji Brown Jackson\"\n",
    "results = vector_store.similarity_search_with_score(query)\n",
    "document, score = results[0]\n",
    "print(document)\n",
    "print(f\"Score: {score}\")"
   ]
  },
  {
   "cell_type": "markdown",
   "id": "9983e83d-efd0-4b75-80db-150e0694e822",
   "metadata": {},
   "source": [
    "## Specifying Fields to Return\n",
    "You can specify the fields to return from the document using `fields` parameter in the searches. These fields are returned as part of the `metadata` object. You can fetch any field that is stored in the index.\n",
    "\n",
    "If you do not specify any fields to be fetched, all the fields stored in the index are returned.\n",
    "\n",
    "If you want to fetch one of the fields in the metadata, you need to specify it using `.`\n",
    "\n",
    "For example, to fetch the `source` field in the metadata, you need to use `metadata.source`.\n"
   ]
  },
  {
   "cell_type": "code",
   "execution_count": 14,
   "id": "ffa743dc-4e89-405b-ad71-7390338889e6",
   "metadata": {},
   "outputs": [
    {
     "name": "stdout",
     "output_type": "stream",
     "text": [
      "page_content='One of the most serious constitutional responsibilities a President has is nominating someone to serve on the United States Supreme Court. \\n\\nAnd I did that 4 days ago, when I nominated Circuit Court of Appeals Judge Ketanji Brown Jackson. One of our nation’s top legal minds, who will continue Justice Breyer’s legacy of excellence.' metadata={'source': '../../modules/state_of_the_union.txt'}\n"
     ]
    }
   ],
   "source": [
    "query = \"What did president say about Ketanji Brown Jackson\"\n",
    "results = vector_store.similarity_search(query, fields=[\"metadata.source\"])\n",
    "print(results[0])"
   ]
  },
  {
   "cell_type": "markdown",
   "id": "a5e45eb2-aa97-45df-bcc5-410e9626e506",
   "metadata": {},
   "source": [
    "## Hybrid Search\n",
    "Couchbase allows you to do hybrid searches by combining vector search results with searches on non-vector fields of the document like the `metadata` object. \n",
    "\n",
    "The results will be based on the combination of the results from both vector search and the searches supported by full text search service. The scores of each of the component searches are added up to get the total score of the result.\n",
    "\n",
    "To perform hybrid searches, there is an optional parameter, `search_options` that can be passed to all the similarity searches.  \n",
    "The different search/query possibilities for the `search_options` can be found [here](https://docs.couchbase.com/server/current/search/search-request-params.html#query-object)."
   ]
  },
  {
   "cell_type": "markdown",
   "id": "a5db3685-1918-4c63-8148-0bb3a71ea677",
   "metadata": {},
   "source": [
    "### Create Diverse Metadata for Hybrid Search\n",
    "In order to simulate hybrid search, let us create some random metadata from the existing documents. \n",
    "We uniformly add three fields to the metadata, `date` between 2010 & 2020, `rating` between 1 & 5 and `author` set to either John Doe or Jane Doe. "
   ]
  },
  {
   "cell_type": "code",
   "execution_count": 15,
   "id": "7d2e607d-6bbc-4cef-83e3-b6a28bb269ea",
   "metadata": {},
   "outputs": [
    {
     "name": "stdout",
     "output_type": "stream",
     "text": [
      "{'author': 'John Doe', 'date': '2016-01-01', 'rating': 2, 'source': '../../modules/state_of_the_union.txt'}\n"
     ]
    }
   ],
   "source": [
    "# Adding metadata to documents\n",
    "for i, doc in enumerate(docs):\n",
    "    doc.metadata[\"date\"] = f\"{range(2010, 2020)[i % 10]}-01-01\"\n",
    "    doc.metadata[\"rating\"] = range(1, 6)[i % 5]\n",
    "    doc.metadata[\"author\"] = [\"John Doe\", \"Jane Doe\"][i % 2]\n",
    "\n",
    "vector_store.add_documents(docs)\n",
    "\n",
    "query = \"What did the president say about Ketanji Brown Jackson\"\n",
    "results = vector_store.similarity_search(query)\n",
    "print(results[0].metadata)"
   ]
  },
  {
   "cell_type": "markdown",
   "id": "6cad893b-3977-4556-ab1d-d12bce68b306",
   "metadata": {},
   "source": [
    "### Example: Search by Exact Value\n",
    "We can search for exact matches on a textual field like the author in the `metadata` object."
   ]
  },
  {
   "cell_type": "code",
   "execution_count": 16,
   "id": "dc06ba4a-8a6b-4c55-bb69-95cd92db273f",
   "metadata": {},
   "outputs": [
    {
     "name": "stdout",
     "output_type": "stream",
     "text": [
      "page_content='One of the most serious constitutional responsibilities a President has is nominating someone to serve on the United States Supreme Court. \\n\\nAnd I did that 4 days ago, when I nominated Circuit Court of Appeals Judge Ketanji Brown Jackson. One of our nation’s top legal minds, who will continue Justice Breyer’s legacy of excellence.' metadata={'author': 'John Doe'}\n"
     ]
    }
   ],
   "source": [
    "query = \"What did the president say about Ketanji Brown Jackson\"\n",
    "results = vector_store.similarity_search(\n",
    "    query,\n",
    "    search_options={\"query\": {\"field\": \"metadata.author\", \"match\": \"John Doe\"}},\n",
    "    fields=[\"metadata.author\"],\n",
    ")\n",
    "print(results[0])"
   ]
  },
  {
   "cell_type": "markdown",
   "id": "9106b594-b41e-4329-b98c-9b9f8a34d6f7",
   "metadata": {},
   "source": [
    "### Example: Search by Partial Match\n",
    "We can search for partial matches by specifying a fuzziness for the search. This is useful when you want to search for slight variations or misspellings of a search query.\n",
    "\n",
    "Here, \"Jae\" is close (fuzziness of 1) to \"Jane\"."
   ]
  },
  {
   "cell_type": "code",
   "execution_count": 17,
   "id": "fd4749e6-ef4f-4cb5-95ff-37c4fa8283d8",
   "metadata": {},
   "outputs": [
    {
     "name": "stdout",
     "output_type": "stream",
     "text": [
      "page_content='A former top litigator in private practice. A former federal public defender. And from a family of public school educators and police officers. A consensus builder. Since she’s been nominated, she’s received a broad range of support—from the Fraternal Order of Police to former judges appointed by Democrats and Republicans. \\n\\nAnd if we are to advance liberty and justice, we need to secure the Border and fix the immigration system.' metadata={'author': 'Jane Doe'}\n"
     ]
    }
   ],
   "source": [
    "query = \"What did the president say about Ketanji Brown Jackson\"\n",
    "results = vector_store.similarity_search(\n",
    "    query,\n",
    "    search_options={\n",
    "        \"query\": {\"field\": \"metadata.author\", \"match\": \"Jae\", \"fuzziness\": 1}\n",
    "    },\n",
    "    fields=[\"metadata.author\"],\n",
    ")\n",
    "print(results[0])"
   ]
  },
  {
   "cell_type": "markdown",
   "id": "1bbf9449-6e30-4bd1-9eeb-f3b60952fcab",
   "metadata": {},
   "source": [
    "### Example: Search by Date Range Query\n",
    "We can search for documents that are within a date range query on a date field like `metadata.date`."
   ]
  },
  {
   "cell_type": "code",
   "execution_count": 18,
   "id": "b7b47e7d-c32f-4999-bce9-3c3c3cebffd0",
   "metadata": {},
   "outputs": [
    {
     "name": "stdout",
     "output_type": "stream",
     "text": [
      "page_content='He will never extinguish their love of freedom. He will never weaken the resolve of the free world. \\n\\nWe meet tonight in an America that has lived through two of the hardest years this nation has ever faced. \\n\\nThe pandemic has been punishing. \\n\\nAnd so many families are living paycheck to paycheck, struggling to keep up with the rising cost of food, gas, housing, and so much more. \\n\\nI understand.' metadata={'author': 'Jane Doe', 'date': '2017-01-01', 'rating': 3, 'source': '../../modules/state_of_the_union.txt'}\n"
     ]
    }
   ],
   "source": [
    "query = \"Any mention about independence?\"\n",
    "results = vector_store.similarity_search(\n",
    "    query,\n",
    "    search_options={\n",
    "        \"query\": {\"start\": \"2015-01-01\", \"end\": \"2018-01-01\", \"field\": \"metadata.date\"}\n",
    "    },\n",
    ")\n",
    "print(results[0])"
   ]
  },
  {
   "cell_type": "markdown",
   "id": "a18d4ea2-bfab-4f15-9839-674faf1c6f0d",
   "metadata": {},
   "source": [
    "### Example: Search by Numeric Range Query\n",
    "We can search for documents that are within a range for a numeric field like `metadata.rating`."
   ]
  },
  {
   "cell_type": "code",
   "execution_count": 19,
   "id": "7e8bf7c5-07d1-4c3f-86d7-1fa3a454dc7f",
   "metadata": {},
   "outputs": [
    {
     "name": "stdout",
     "output_type": "stream",
     "text": [
      "(Document(page_content='In this Capitol, generation after generation, Americans have debated great questions amid great strife, and have done great things. \\n\\nWe have fought for freedom, expanded liberty, defeated totalitarianism and terror. \\n\\nAnd built the strongest, freest, and most prosperous nation the world has ever known. \\n\\nNow is the hour. \\n\\nOur moment of responsibility. \\n\\nOur test of resolve and conscience, of history itself.', metadata={'author': 'John Doe', 'date': '2014-01-01', 'rating': 5, 'source': '../../modules/state_of_the_union.txt'}), 0.88807499983634)\n"
     ]
    }
   ],
   "source": [
    "query = \"Any mention about independence?\"\n",
    "results = vector_store.similarity_search_with_score(\n",
    "    query,\n",
    "    search_options={\n",
    "        \"query\": {\"min\": 3, \"max\": 5, \"inclusive_max\": True, \"field\": \"metadata.rating\"}\n",
    "    },\n",
    ")\n",
    "print(results[0])"
   ]
  },
  {
   "cell_type": "markdown",
   "id": "0f16bf86-f01c-4a77-8406-275f7313f493",
   "metadata": {},
   "source": [
    "### Example: Combining Multiple Search Conditions\n",
    "Different queries can by combined using AND (conjuncts) or OR (disjuncts). \n",
    "\n",
    "In this example, we are checking for documents with a rating between 3 & 4 and dated between 2015 & 2018."
   ]
  },
  {
   "cell_type": "code",
   "execution_count": 20,
   "id": "dd0fe7f1-aa40-4c6f-889b-99ad5efcd88b",
   "metadata": {},
   "outputs": [
    {
     "name": "stdout",
     "output_type": "stream",
     "text": [
      "(Document(page_content='He will never extinguish their love of freedom. He will never weaken the resolve of the free world. \\n\\nWe meet tonight in an America that has lived through two of the hardest years this nation has ever faced. \\n\\nThe pandemic has been punishing. \\n\\nAnd so many families are living paycheck to paycheck, struggling to keep up with the rising cost of food, gas, housing, and so much more. \\n\\nI understand.', metadata={'author': 'Jane Doe', 'date': '2017-01-01', 'rating': 3, 'source': '../../modules/state_of_the_union.txt'}), 1.0145023754985187)\n"
     ]
    }
   ],
   "source": [
    "query = \"Any mention about independence?\"\n",
    "results = vector_store.similarity_search_with_score(\n",
    "    query,\n",
    "    search_options={\n",
    "        \"query\": {\n",
    "            \"conjuncts\": [\n",
    "                {\"min\": 3, \"max\": 4, \"inclusive_max\": True, \"field\": \"metadata.rating\"},\n",
    "                {\"start\": \"2015-01-01\", \"end\": \"2018-01-01\", \"field\": \"metadata.date\"},\n",
    "            ]\n",
    "        }\n",
    "    },\n",
    ")\n",
    "print(results[0])"
   ]
  },
  {
   "cell_type": "markdown",
   "id": "39258571-3233-45c3-a6ad-5c3c90ea2b1c",
   "metadata": {},
   "source": [
    "### Other Queries\n",
    "Similarly, you can use any of the supported Query methods like Geo Distance, Polygon Search, Wildcard, Regular Expressions, etc in the `search_options` parameter. Please refer to the documentation for more details on the available query methods and their syntax.\n",
    "- [Couchbase Capella](https://docs.couchbase.com/cloud/search/search-request-params.html#query-object)\n",
    "- [Couchbase Server](https://docs.couchbase.com/server/current/search/search-request-params.html#query-object)"
   ]
  },
  {
   "cell_type": "markdown",
   "id": "80958c2b-6a67-45e6-b7f0-fd2461d75e0f",
   "metadata": {},
   "source": [
    "# Frequently Asked Questions"
   ]
  },
  {
   "cell_type": "markdown",
   "id": "4f7f9838-cc20-44bc-a72d-06f2cb6c3fca",
   "metadata": {},
   "source": [
    "## Question: Should I create the FTS index before creating the CouchbaseVectorStore object?\n",
    "Yes, currently you need to create the FTS index before creating the `CouchbaseVectoreStore` object.\n"
   ]
  },
  {
   "cell_type": "markdown",
   "id": "3f0dbc1b-9e82-4ec3-9330-6b54de00661e",
   "metadata": {},
   "source": [
    "## Question: I am not seeing all the fields that I specified in my search results. \n",
    "\n",
    "In Couchbase, we can only return the fields that are stored in the FTS index. Please ensure that the field that you are trying to access in the search results is part of the doucment.\n",
    "\n",
    "One way to handle this is to store all the fields of a document dynamically in the index. To do that, you need select `Store Dynamic Fields` in the Advanced Settings of the FTS index. \n",
    "\n",
    "Similarly, if you want to search on dynamic fields, you need to index those fields by selecting the option `Index Dynamic Fields` in the FTS index settings.\n",
    "\n",
    "Note that these options will increase the size of the index."
   ]
  },
  {
   "cell_type": "markdown",
   "id": "3702977a-2e25-48b6-b662-edd5cb94cdec",
   "metadata": {},
   "source": [
    "## Question: I am unable to see the metadata object in my search results. \n",
    "This is most likely due to the `metadata` field in the document not being indexed by the Couchbase FTS index. In order to index the `metadata` field in the document, you need to add it to the index as a mapping. \n",
    "\n",
    "If you select to map all the fields in the mapping, you will be able to search by all metadata fields. Alternatively, you can select the specific fields inside `metadata` object to be indexed. You can refer to the docs to learn more about indexing child mappings.\n",
    "* [Couchbase Capella](https://docs.couchbase.com/cloud/search/create-child-mapping.html)\n",
    "* [Couchbase Server](https://docs.couchbase.com/server/current/fts/fts-creating-index-from-UI-classic-editor-dynamic.html) "
   ]
  }
 ],
 "metadata": {
  "kernelspec": {
   "display_name": "Python 3 (ipykernel)",
   "language": "python",
   "name": "python3"
  },
  "language_info": {
   "codemirror_mode": {
    "name": "ipython",
    "version": 3
   },
   "file_extension": ".py",
   "mimetype": "text/x-python",
   "name": "python",
   "nbconvert_exporter": "python",
   "pygments_lexer": "ipython3",
   "version": "3.10.13"
  }
 },
 "nbformat": 4,
 "nbformat_minor": 5
}
