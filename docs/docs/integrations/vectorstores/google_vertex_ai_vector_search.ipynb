{
 "cells": [
  {
   "cell_type": "markdown",
   "id": "655b8f55-2089-4733-8b09-35dea9580695",
   "metadata": {},
   "source": [
    "# Google Vertex AI Vector Search\n",
    "\n",
    "This notebook shows how to use functionality related to the `Google Cloud Vertex AI Vector Search` vector database.\n",
    "\n",
    "> [Google Vertex AI Vector Search](https://cloud.google.com/vertex-ai/docs/vector-search/overview), formerly known as Vertex AI Matching Engine, provides the industry's leading high-scale low latency vector database. These vector databases are commonly referred to as vector similarity-matching or an approximate nearest neighbor (ANN) service.\n",
    "\n",
    "**Note**: Langchain API expects an endpoint and deployed index already created.Index creation time can take upto one hour. <br>\n",
    "> To see how to create an index refer to the section [Create Index and deploy it to an Endpoint](#create-index-and-deploy-it-to-an-endpoint)<br>\n",
    "> If you already have an index deployed , skip to [Create VectorStore from texts](#create-vector-store-from-texts)"
   ]
  },
  {
   "cell_type": "markdown",
   "id": "aca99382",
   "metadata": {},
   "source": [
    "## Create Index and deploy it to an Endpoint\n",
    "- This section demonstrates creating a new index and deploying it to an endpoint"
   ]
  },
  {
   "cell_type": "code",
   "execution_count": null,
   "id": "35b5f3c5",
   "metadata": {},
   "outputs": [],
   "source": [
    "# TODO : Set values as per your requirements\n",
    "# Project and Storage Constants\n",
    "PROJECT_ID = \"<my_project_id>\"\n",
    "REGION = \"<my_region>\"\n",
    "BUCKET = \"<my_gcs_bucket>\"\n",
    "BUCKET_URI = f\"gs://{BUCKET}\"\n",
    "\n",
    "# The number of dimensions for the textembedding-gecko@003 is 768\n",
    "# If other embedder is used, the dimensions would probably need to change.\n",
    "DIMENSIONS = 768\n",
    "\n",
    "# Index Constants\n",
    "DISPLAY_NAME = \"<my_matching_engine_index_id>\"\n",
    "DEPLOYED_INDEX_ID = \"<my_matching_engine_endpoint_id>\""
   ]
  },
  {
   "cell_type": "code",
   "execution_count": null,
   "id": "ce74ea7e",
   "metadata": {},
   "outputs": [],
   "source": [
    "# Create a bucket.\n",
    "! gsutil mb -l $REGION -p $PROJECT_ID $BUCKET_URI"
   ]
  },
  {
   "cell_type": "markdown",
   "id": "28d93078",
   "metadata": {},
   "source": [
    "### Use [VertexAIEmbeddings](https://python.langchain.com/docs/integrations/text_embedding/google_vertex_ai_palm/) as the embeddings model"
   ]
  },
  {
   "cell_type": "code",
   "execution_count": null,
   "id": "dfa92a08",
   "metadata": {},
   "outputs": [],
   "source": [
    "from google.cloud import aiplatform\n",
    "from langchain_google_vertexai import VertexAIEmbeddings"
   ]
  },
  {
   "cell_type": "code",
   "execution_count": null,
   "id": "58e5c762",
   "metadata": {},
   "outputs": [],
   "source": [
    "aiplatform.init(project=PROJECT_ID, location=REGION, staging_bucket=BUCKET_URI)"
   ]
  },
  {
   "cell_type": "code",
   "execution_count": null,
   "id": "c795913e",
   "metadata": {},
   "outputs": [],
   "source": [
    "embedding_model = VertexAIEmbeddings(model_name=\"textembedding-gecko@003\")"
   ]
  },
  {
   "cell_type": "markdown",
   "id": "73c2e7b5",
   "metadata": {},
   "source": [
    "### Create an empty Index "
   ]
  },
  {
   "cell_type": "markdown",
   "id": "5b347e21",
   "metadata": {},
   "source": [
    "**Note :** While creating an index you should specify an \"index_update_method\" from either a \"BATCH_UPDATE\" or \"STREAM_UPDATE\"\n",
    "> A batch index is for when you want to update your index in a batch, with data which has been stored over a set amount of time, like systems which are processed weekly or monthly. A streaming index is when you want index data to be updated as new data is added to your datastore, for instance, if you have a bookstore and want to show new inventory online as soon as possible. Which type you choose is important, since setup and requirements are different.\n",
    "\n",
    "Refer [Official Documentation](https://cloud.google.com/vertex-ai/docs/vector-search/create-manage-index#create-index-batch) for more details on configuring indexes\n"
   ]
  },
  {
   "cell_type": "code",
   "execution_count": null,
   "id": "37fdc7f1",
   "metadata": {},
   "outputs": [],
   "source": [
    "# NOTE : This operation can take upto 30 seconds\n",
    "my_index = aiplatform.MatchingEngineIndex.create_tree_ah_index(\n",
    "    display_name=DISPLAY_NAME,\n",
    "    dimensions=DIMENSIONS,\n",
    "    approximate_neighbors_count=150,\n",
    "    distance_measure_type=\"DOT_PRODUCT_DISTANCE\",\n",
    "    index_update_method=\"STREAM_UPDATE\",  # allowed values BATCH_UPDATE , STREAM_UPDATE\n",
    ")"
   ]
  },
  {
   "cell_type": "markdown",
   "id": "1723d40a",
   "metadata": {},
   "source": [
    "### Create an Endpoint"
   ]
  },
  {
   "cell_type": "code",
   "execution_count": null,
   "id": "f4059888",
   "metadata": {},
   "outputs": [],
   "source": [
    "# Create an endpoint\n",
    "my_index_endpoint = aiplatform.MatchingEngineIndexEndpoint.create(\n",
    "    display_name=f\"{DISPLAY_NAME}-endpoint\", public_endpoint_enabled=True\n",
    ")"
   ]
  },
  {
   "cell_type": "markdown",
   "id": "43a85682",
   "metadata": {},
   "source": [
    "### Deploy Index to the Endpoint"
   ]
  },
  {
   "cell_type": "code",
   "execution_count": null,
   "id": "a6582ec1",
   "metadata": {},
   "outputs": [],
   "source": [
    "# NOTE : This operation can take upto 20 minutes\n",
    "my_index_endpoint = my_index_endpoint.deploy_index(\n",
    "    index=my_index, deployed_index_id=DEPLOYED_INDEX_ID\n",
    ")\n",
    "\n",
    "my_index_endpoint.deployed_indexes"
   ]
  },
  {
   "cell_type": "markdown",
   "id": "a9971578-0ae9-4809-9e80-e5f9d3dcc98a",
   "metadata": {},
   "source": [
    "## Create Vector Store from texts"
   ]
  },
  {
   "cell_type": "code",
   "execution_count": null,
   "id": "f7c96da4-8d97-4f69-8c13-d2fcafc03b05",
   "metadata": {},
   "outputs": [],
   "source": [
    "from langchain_google_vertexai import (\n",
    "    VectorSearchVectorStore,\n",
    "    VectorSearchVectorStoreDatastore,\n",
    ")"
   ]
  },
  {
   "cell_type": "markdown",
   "id": "97ac49ae",
   "metadata": {},
   "source": [
    "### Create simple vectorstore ( without filters)"
   ]
  },
  {
   "cell_type": "code",
   "execution_count": null,
   "id": "58b70880-edd9-46f3-b769-f26c2bcc8395",
   "metadata": {},
   "outputs": [],
   "source": [
    "# Input texts\n",
    "texts = [\n",
    "    \"The cat sat on\",\n",
    "    \"the mat.\",\n",
    "    \"I like to\",\n",
    "    \"eat pizza for\",\n",
    "    \"dinner.\",\n",
    "    \"The sun sets\",\n",
    "    \"in the west.\",\n",
    "]\n",
    "\n",
    "# Create a Vector Store\n",
    "vector_store = VectorSearchVectorStore.from_components(\n",
    "    project_id=PROJECT_ID,\n",
    "    region=REGION,\n",
    "    gcs_bucket_name=BUCKET,\n",
    "    index_id=my_index.name,\n",
    "    endpoint_id=my_index_endpoint.name,\n",
    "    embedding=embedding_model,\n",
    "    stream_update=True,\n",
    ")\n",
    "\n",
    "# Add vectors and mapped text chunks to your vectore store\n",
    "vector_store.add_texts(texts=texts)"
   ]
  },
  {
   "cell_type": "markdown",
   "id": "080cbbdc",
   "metadata": {},
   "source": [
    "### OPTIONAL : You can also create vectore and store chunks in a Datastore "
   ]
  },
  {
   "cell_type": "code",
   "execution_count": null,
   "id": "97ef5dfd",
   "metadata": {},
   "outputs": [],
   "source": [
    "# NOTE : This operation can take upto 20 mins\n",
    "vector_store = VectorSearchVectorStoreDatastore.from_components(\n",
    "    project_id=PROJECT_ID,\n",
    "    region=REGION,\n",
    "    index_id=my_index.name,\n",
    "    endpoint_id=my_index_endpoint.name,\n",
    "    embedding=embedding_model,\n",
    "    stream_update=True,\n",
    ")\n",
    "\n",
    "vector_store.add_texts(texts=texts, is_complete_overwrite=True)"
   ]
  },
  {
   "cell_type": "code",
   "execution_count": null,
   "id": "b7c65716",
   "metadata": {},
   "outputs": [],
   "source": [
    "# Try running a simialarity search\n",
    "vector_store.similarity_search(\"pizza\")"
   ]
  },
  {
   "cell_type": "markdown",
   "id": "65d92635",
   "metadata": {},
   "source": [
    "### Create vectorstore with metadata filters"
   ]
  },
  {
   "cell_type": "code",
   "execution_count": null,
   "id": "986951f7",
   "metadata": {},
   "outputs": [],
   "source": [
    "# Input text with metadata\n",
    "record_data = [\n",
    "    {\n",
    "        \"description\": \"A versatile pair of dark-wash denim jeans.\"\n",
    "        \"Made from durable cotton with a classic straight-leg cut, these jeans\"\n",
    "        \" transition easily from casual days to dressier occasions.\",\n",
    "        \"price\": 65.00,\n",
    "        \"color\": \"blue\",\n",
    "        \"season\": [\"fall\", \"winter\", \"spring\"],\n",
    "    },\n",
    "    {\n",
    "        \"description\": \"A lightweight linen button-down shirt in a crisp white.\"\n",
    "        \" Perfect for keeping cool with breathable fabric and a relaxed fit.\",\n",
    "        \"price\": 34.99,\n",
    "        \"color\": \"white\",\n",
    "        \"season\": [\"summer\", \"spring\"],\n",
    "    },\n",
    "    {\n",
    "        \"description\": \"A soft, chunky knit sweater in a vibrant forest green. \"\n",
    "        \"The oversized fit and cozy wool blend make this ideal for staying warm \"\n",
    "        \"when the temperature drops.\",\n",
    "        \"price\": 89.99,\n",
    "        \"color\": \"green\",\n",
    "        \"season\": [\"fall\", \"winter\"],\n",
    "    },\n",
    "    {\n",
    "        \"description\": \"A classic crewneck t-shirt in a soft, heathered blue. \"\n",
    "        \"Made from comfortable cotton jersey, this t-shirt is a wardrobe essential \"\n",
    "        \"that works for every season.\",\n",
    "        \"price\": 19.99,\n",
    "        \"color\": \"blue\",\n",
    "        \"season\": [\"fall\", \"winter\", \"summer\", \"spring\"],\n",
    "    },\n",
    "    {\n",
    "        \"description\": \"A flowing midi-skirt in a delicate floral print. \"\n",
    "        \"Lightweight and airy, this skirt adds a touch of feminine style \"\n",
    "        \"to warmer days.\",\n",
    "        \"price\": 45.00,\n",
    "        \"color\": \"white\",\n",
    "        \"season\": [\"spring\", \"summer\"],\n",
    "    },\n",
    "]"
   ]
  },
  {
   "cell_type": "code",
   "execution_count": null,
   "id": "6cd5fba1",
   "metadata": {},
   "outputs": [],
   "source": [
    "# Parse and prepare input data\n",
    "\n",
    "texts = []\n",
    "metadatas = []\n",
    "for record in record_data:\n",
    "    record = record.copy()\n",
    "    page_content = record.pop(\"description\")\n",
    "    texts.append(page_content)\n",
    "    if isinstance(page_content, str):\n",
    "        metadata = {**record}\n",
    "        metadatas.append(metadata)"
   ]
  },
  {
   "cell_type": "code",
   "execution_count": null,
   "id": "eb993e1a",
   "metadata": {},
   "outputs": [],
   "source": [
    "# NOTE : This operation can take upto 20 mins\n",
    "vector_store = VectorSearchVectorStore.from_components(\n",
    "    project_id=PROJECT_ID,\n",
    "    region=REGION,\n",
    "    gcs_bucket_name=BUCKET,\n",
    "    index_id=my_index.name,\n",
    "    endpoint_id=my_index_endpoint.name,\n",
    "    embedding=embedding_model,\n",
    ")\n",
    "\n",
    "vector_store.add_texts(texts=texts, metadatas=metadatas, is_complete_overwrite=True)"
   ]
  },
  {
   "cell_type": "code",
   "execution_count": null,
   "id": "dac171b9",
   "metadata": {},
   "outputs": [],
   "source": [
    "from google.cloud.aiplatform.matching_engine.matching_engine_index_endpoint import (\n",
    "    Namespace,\n",
    "    NumericNamespace,\n",
    ")"
   ]
  },
  {
   "cell_type": "code",
   "execution_count": null,
   "id": "03ed6710",
   "metadata": {},
   "outputs": [],
   "source": [
    "# Try running a similarity search\n",
    "\n",
    "# Below code should return 5 results\n",
    "vector_store.similarity_search(\"shirt\", k=5)"
   ]
  },
  {
   "cell_type": "code",
   "execution_count": null,
   "id": "d084f0e7",
   "metadata": {},
   "outputs": [],
   "source": [
    "# Try running a similarity search with text filter\n",
    "filters = [Namespace(name=\"season\", allow_tokens=[\"spring\"])]\n",
    "\n",
    "# Below code should return 4 results now\n",
    "vector_store.similarity_search(\"shirt\", k=5, filter=filters)"
   ]
  },
  {
   "cell_type": "code",
   "execution_count": null,
   "id": "3eb3206e",
   "metadata": {},
   "outputs": [],
   "source": [
    "# Try running a similarity search with combination of text and numeric filter\n",
    "filters = [Namespace(name=\"season\", allow_tokens=[\"spring\"])]\n",
    "numeric_filters = [NumericNamespace(name=\"price\", value_float=40.0, op=\"LESS\")]\n",
    "\n",
    "# Below code should return 2 result now\n",
    "vector_store.similarity_search(\n",
    "    \"shirt\", k=5, filter=filters, numeric_filter=numeric_filters\n",
    ")"
   ]
  }
 ],
 "metadata": {
  "environment": {
   "kernel": "python3",
   "name": "common-cpu.m107",
   "type": "gcloud",
   "uri": "gcr.io/deeplearning-platform-release/base-cpu:m107"
  },
  "kernelspec": {
   "display_name": "Python 3 (ipykernel)",
   "language": "python",
   "name": "python3"
  },
  "language_info": {
   "codemirror_mode": {
    "name": "ipython",
    "version": 3
   },
   "file_extension": ".py",
   "mimetype": "text/x-python",
   "name": "python",
   "nbconvert_exporter": "python",
   "pygments_lexer": "ipython3"
  }
 },
 "nbformat": 4,
 "nbformat_minor": 5
}
