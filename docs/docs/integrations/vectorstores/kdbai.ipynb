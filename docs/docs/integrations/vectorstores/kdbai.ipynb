{
 "cells": [
  {
   "cell_type": "code",
   "execution_count": 1,
   "id": "2704194d-c42d-463d-b162-fb95262e052c",
   "metadata": {},
   "outputs": [],
   "source": [
    "from getpass import getpass\n",
    "import os\n",
    "import time\n",
    "\n",
    "import pandas as pd\n",
    "import requests\n",
    "\n",
    "import kdbai_client as kdbai\n",
    "\n",
    "from langchain.chains import RetrievalQA\n",
    "from langchain.document_loaders import PyPDFLoader\n",
    "from langchain_community.vectorstores import KDBAI\n",
    "from langchain_openai import ChatOpenAI, OpenAIEmbeddings"
   ]
  },
  {
   "cell_type": "code",
   "execution_count": 2,
   "id": "04848fcf-e128-4d63-af6c-b3991531d62e",
   "metadata": {},
   "outputs": [
    {
     "name": "stdin",
     "output_type": "stream",
     "text": [
      "KDB.AI endpoint:  https://ui.qa.cld.kx.com/instance/pcnvlmi860\n",
      "KDB.AI API key:  ········\n",
      "OpenAI API Key:  ········\n"
     ]
    }
   ],
   "source": [
    "KDBAI_ENDPOINT = input('KDB.AI endpoint: ')\n",
    "KDBAI_API_KEY = getpass('KDB.AI API key: ')\n",
    "os.environ['OPENAI_API_KEY'] = getpass('OpenAI API Key: ')"
   ]
  },
  {
   "cell_type": "code",
   "execution_count": 3,
   "id": "d08a1468-6bff-4a65-8b4a-9835cfa997ad",
   "metadata": {},
   "outputs": [],
   "source": [
    "TEMP = 0.0\n",
    "K = 3"
   ]
  },
  {
   "cell_type": "code",
   "execution_count": 4,
   "id": "9ffe4fee-2dc3-4943-917b-28adc3a69472",
   "metadata": {},
   "outputs": [
    {
     "name": "stdout",
     "output_type": "stream",
     "text": [
      "Create KDB.AI session...\n"
     ]
    }
   ],
   "source": [
    "print('Create KDB.AI session...')\n",
    "session = kdbai.Session(endpoint=KDBAI_ENDPOINT, api_key=KDBAI_API_KEY)"
   ]
  },
  {
   "cell_type": "code",
   "execution_count": 5,
   "id": "da27f31c-890e-46c0-8e01-1b8474ee3a70",
   "metadata": {},
   "outputs": [
    {
     "name": "stdout",
     "output_type": "stream",
     "text": [
      "Create table \"documents\"...\n"
     ]
    }
   ],
   "source": [
    "print('Create table \"documents\"...')\n",
    "schema = {'columns': [{'name': 'id', 'pytype': 'str'},\n",
    "                      {'name': 'text', 'pytype': 'bytes'},\n",
    "                      {'name': 'embeddings',\n",
    "                               'pytype': 'float32',\n",
    "                               'vectorIndex': {'dims': 1536, 'metric': 'L2', 'type': 'hnsw'}},\n",
    "                      {'name': 'tag', 'pytype': 'str'},\n",
    "                      {'name': 'title', 'pytype': 'bytes'}]}\n",
    "table = session.create_table('documents', schema)"
   ]
  },
  {
   "cell_type": "code",
   "execution_count": 6,
   "id": "930ba64a-1cf9-4892-9335-8745c830497c",
   "metadata": {},
   "outputs": [
    {
     "name": "stdout",
     "output_type": "stream",
     "text": [
      "CPU times: user 46.9 ms, sys: 6.82 ms, total: 53.8 ms\n",
      "Wall time: 223 ms\n"
     ]
    },
    {
     "data": {
      "text/plain": [
       "562978"
      ]
     },
     "execution_count": 6,
     "metadata": {},
     "output_type": "execute_result"
    }
   ],
   "source": [
    "%%time\n",
    "URL = 'https://www.conseil-constitutionnel.fr/node/3850/pdf'\n",
    "PDF = 'Déclaration_des_droits_de_l_homme_et_du_citoyen.pdf'\n",
    "open(PDF, 'wb').write(requests.get(URL).content)"
   ]
  },
  {
   "cell_type": "code",
   "execution_count": 7,
   "id": "00873e6b-f204-4dca-b82b-1c45d0b83ee5",
   "metadata": {},
   "outputs": [
    {
     "name": "stdout",
     "output_type": "stream",
     "text": [
      "Read PDF...\n",
      "CPU times: user 162 ms, sys: 12.1 ms, total: 174 ms\n",
      "Wall time: 175 ms\n"
     ]
    },
    {
     "data": {
      "text/plain": [
       "3"
      ]
     },
     "execution_count": 7,
     "metadata": {},
     "output_type": "execute_result"
    }
   ],
   "source": [
    "%%time\n",
    "print('Read PDF...')\n",
    "loader = PyPDFLoader(PDF)\n",
    "pages = loader.load_and_split()\n",
    "len(pages)"
   ]
  },
  {
   "cell_type": "code",
   "execution_count": 8,
   "id": "b06d4a96-c3d5-426b-9e22-12925b14e5e6",
   "metadata": {},
   "outputs": [
    {
     "name": "stdout",
     "output_type": "stream",
     "text": [
      "Create Vector DB from PDF text...\n",
      "CPU times: user 226 ms, sys: 21.6 ms, total: 247 ms\n",
      "Wall time: 2.46 s\n"
     ]
    },
    {
     "data": {
      "text/plain": [
       "['cb264350-5465-485c-876e-7618ec44b65e',\n",
       " '5bb3fe36-1447-4c7c-9c8b-faee35a74fe0',\n",
       " 'c9e5a6d4-8c1d-4ba5-94aa-6c03e4a9f148']"
      ]
     },
     "execution_count": 8,
     "metadata": {},
     "output_type": "execute_result"
    }
   ],
   "source": [
    "%%time\n",
    "print('Create Vector DB from PDF text...')\n",
    "embeddings = OpenAIEmbeddings(model='text-embedding-ada-002')\n",
    "texts = [p.page_content for p in pages]\n",
    "metadata = pd.DataFrame(index=list(range(len(texts))))\n",
    "metadata['tag'] = 'law'\n",
    "metadata['title'] = 'Déclaration des Droits de l\\'Homme et du Citoyen de 1789'.encode('utf-8')\n",
    "vectordb = KDBAI(table, embeddings)\n",
    "vectordb.add_texts(texts=texts, metadatas=metadata)"
   ]
  },
  {
   "cell_type": "code",
   "execution_count": 9,
   "id": "6d848577-1192-4bb0-b721-37f52be5d9d0",
   "metadata": {},
   "outputs": [
    {
     "name": "stdout",
     "output_type": "stream",
     "text": [
      "Create LangChain pipeline...\n",
      "CPU times: user 41.4 ms, sys: 4.51 ms, total: 45.9 ms\n",
      "Wall time: 45.3 ms\n"
     ]
    }
   ],
   "source": [
    "%%time\n",
    "print('Create LangChain pipeline...')\n",
    "qabot = RetrievalQA.from_chain_type(chain_type='stuff',\n",
    "                                    llm=ChatOpenAI(model='gpt-3.5-turbo-16k', temperature=TEMP), \n",
    "                                    retriever=vectordb.as_retriever(search_kwargs=dict(k=K)),\n",
    "                                    return_source_documents=True)"
   ]
  },
  {
   "cell_type": "code",
   "execution_count": 10,
   "id": "81668f8f-a416-4b58-93d2-8e0924ceca23",
   "metadata": {},
   "outputs": [
    {
     "name": "stdout",
     "output_type": "stream",
     "text": [
      "\n",
      "\n",
      "Summarize the document in English:\n",
      "\n",
      "The document is the Declaration of the Rights of Man and of the Citizen of 1789. It was written by the representatives of the French people and aims to declare the natural, inalienable, and sacred rights of every individual. These rights include freedom, property, security, and resistance to oppression. The document emphasizes the importance of equality and the principle that sovereignty resides in the nation. It also highlights the role of law in protecting individual rights and ensuring the common good. The document asserts the right to freedom of thought, expression, and religion, as long as it does not disturb public order. It emphasizes the need for a public force to guarantee the rights of all citizens and the importance of a fair and equal distribution of public contributions. The document also recognizes the right of citizens to hold public officials accountable and states that any society without the guarantee of rights and separation of powers does not have a constitution. Finally, it affirms the inviolable and sacred nature of property, stating that it can only be taken away for public necessity and with just compensation.\n",
      "CPU times: user 152 ms, sys: 49.1 ms, total: 201 ms\n",
      "Wall time: 15.3 s\n"
     ]
    }
   ],
   "source": [
    "%%time\n",
    "Q = 'Summarize the document in English:'\n",
    "print(f'\\n\\n{Q}\\n')\n",
    "print(qabot.invoke(dict(query=Q))['result'])"
   ]
  },
  {
   "cell_type": "code",
   "execution_count": 11,
   "id": "e02a7acb-99ac-48f8-b93c-d95a8f9e87d4",
   "metadata": {},
   "outputs": [
    {
     "name": "stdout",
     "output_type": "stream",
     "text": [
      "\n",
      "\n",
      "Is it a fair law and why ?\n",
      "\n",
      "As an AI language model, I don't have personal opinions. However, I can provide some analysis based on the given context. The text provided is an excerpt from the Declaration of the Rights of Man and of the Citizen of 1789, which is considered a foundational document in the history of human rights. It outlines the natural and inalienable rights of individuals, such as freedom, property, and resistance to oppression. \n",
      "\n",
      "Whether or not this law is considered fair is subjective and can vary depending on individual perspectives and societal norms. However, many people view the principles outlined in this declaration as fundamental to the concept of fairness and justice. It emphasizes the equality of all individuals, the importance of protecting individual rights, and the need for a just and accountable government. \n",
      "\n",
      "It is worth noting that this declaration was written in a specific historical and cultural context, and interpretations of fairness may differ across time and societies.\n",
      "CPU times: user 89.3 ms, sys: 5.87 ms, total: 95.1 ms\n",
      "Wall time: 4.69 s\n"
     ]
    }
   ],
   "source": [
    "%%time\n",
    "Q = 'Is it a fair law and why ?'\n",
    "print(f'\\n\\n{Q}\\n')\n",
    "print(qabot.invoke(dict(query=Q))['result'])"
   ]
  },
  {
   "cell_type": "code",
   "execution_count": 12,
   "id": "24dc85bd-cd35-4fb3-9d01-e00a896fd9a1",
   "metadata": {},
   "outputs": [
    {
     "name": "stdout",
     "output_type": "stream",
     "text": [
      "\n",
      "\n",
      "What are the rights and duties of the man, the citizen and the society ?\n",
      "\n",
      "According to the Declaration of the Rights of Man and of the Citizen of 1789, the rights and duties of man, citizen, and society are as follows:\n",
      "\n",
      "Rights of Man:\n",
      "1. Men are born and remain free and equal in rights. Social distinctions can only be based on common utility.\n",
      "2. The purpose of political association is to protect the natural and imprescriptible rights of man, which include liberty, property, security, and resistance to oppression.\n",
      "3. Sovereignty resides essentially in the nation, and no individual or group can exercise authority that does not come from the nation.\n",
      "4. Freedom consists of being able to do anything that does not harm others. The exercise of natural rights is only limited by the law.\n",
      "5. The law can only prohibit actions that are harmful to society. Anything that is not prohibited by law cannot be prevented, and no one can be compelled to do what the law does not require.\n",
      "6. The law is the expression of the general will. All citizens have the right to participate personally or through their representatives in its formation. It must be the same for everyone, whether it protects or punishes. All citizens are equal in the eyes of the law and have equal access to public positions and employment based on their abilities and virtues.\n",
      "7. No one can be accused, arrested, or detained except in cases determined by law and according to the prescribed procedures. Those who solicit, expedite, execute, or enforce arbitrary orders must be punished. However, any citizen called or seized under the law must obey immediately, and resistance is considered a crime.\n",
      "8. The law should only establish punishments that are strictly and obviously necessary, and no one can be punished except in accordance with a law established and promulgated prior to the offense.\n",
      "9. Every person is presumed innocent until proven guilty. If it is deemed necessary to arrest someone, any unnecessary harshness that is not required to secure their person must be severely punished by law.\n",
      "10. No one should be disturbed for their opinions, even religious ones, as long as their expression does not disturb the established public order.\n",
      "11. The free communication of thoughts and opinions is one of the most precious rights of man. Therefore, every citizen has the right to speak, write, and print freely, with the responsibility for any abuse of this freedom determined by law.\n",
      "12. The guarantee of the rights of man and citizen requires a public force, which is established for the benefit of all and not for the particular advantage of those to whom it is entrusted.\n",
      "13. For the maintenance of public force and administrative expenses, a common contribution is necessary and should be equally distributed among all citizens according to their abilities.\n",
      "14. All citizens have the right to personally or through their representatives determine the necessity of public contribution, consent to it freely, follow its use, and determine its amount, basis, collection, and duration.\n",
      "15. Society has the right to hold any public agent accountable for their administration.\n",
      "16. Any society in which the guarantee of rights is not assured and the separation of powers is not determined has no constitution.\n",
      "17. Property is an inviolable and sacred right, and no one can be deprived of it except when the public necessity, legally established, clearly requires it, and under the condition of just and prior compensation.\n",
      "CPU times: user 77.5 ms, sys: 4.92 ms, total: 82.4 ms\n",
      "Wall time: 11.2 s\n"
     ]
    }
   ],
   "source": [
    "%%time\n",
    "Q = 'What are the rights and duties of the man, the citizen and the society ?'\n",
    "print(f'\\n\\n{Q}\\n')\n",
    "print(qabot.invoke(dict(query=Q))['result'])"
   ]
  },
  {
   "cell_type": "code",
   "execution_count": 13,
   "id": "d55b7980-a3d3-45d7-a310-99492edb098b",
   "metadata": {},
   "outputs": [
    {
     "name": "stdout",
     "output_type": "stream",
     "text": [
      "\n",
      "\n",
      "Is this law practical ?\n",
      "\n",
      "As an AI language model, I cannot provide personal opinions or subjective judgments on whether a law is practical or not. The provided text consists of articles from the French Declaration of the Rights of Man and of the Citizen of 1789, which is a foundational document in French constitutional law. It outlines fundamental rights and principles that are considered important in a democratic society. The practicality of a law is often a matter of interpretation and can vary depending on the context and specific circumstances. It is ultimately up to legal experts, lawmakers, and the judiciary to determine the practicality and application of a law.\n",
      "CPU times: user 84.5 ms, sys: 5.42 ms, total: 89.9 ms\n",
      "Wall time: 11.2 s\n"
     ]
    }
   ],
   "source": [
    "%%time\n",
    "Q = 'Is this law practical ?'\n",
    "print(f'\\n\\n{Q}\\n')\n",
    "print(qabot.invoke(dict(query=Q))['result'])"
   ]
  },
  {
   "cell_type": "code",
   "execution_count": 14,
   "id": "cdddda29-e28d-423f-b1c6-f77d39acc3dd",
   "metadata": {},
   "outputs": [
    {
     "data": {
      "text/plain": [
       "True"
      ]
     },
     "execution_count": 14,
     "metadata": {},
     "output_type": "execute_result"
    }
   ],
   "source": [
    "# Clean up KDB.AI \"documents\" table and index for similarity search\n",
    "# so this notebook could be played again and again\n",
    "session.table('documents').drop()"
   ]
  },
  {
   "cell_type": "code",
   "execution_count": null,
   "id": "23cb1359-f32c-4b47-a885-cbf3cbae5b14",
   "metadata": {},
   "outputs": [],
   "source": []
  }
 ],
 "metadata": {
  "kernelspec": {
   "display_name": "Python 3 (ipykernel)",
   "language": "python",
   "name": "python3"
  },
  "language_info": {
   "codemirror_mode": {
    "name": "ipython",
    "version": 3
   },
   "file_extension": ".py",
   "mimetype": "text/x-python",
   "name": "python",
   "nbconvert_exporter": "python",
   "pygments_lexer": "ipython3",
   "version": "3.10.12"
  }
 },
 "nbformat": 4,
 "nbformat_minor": 5
}
