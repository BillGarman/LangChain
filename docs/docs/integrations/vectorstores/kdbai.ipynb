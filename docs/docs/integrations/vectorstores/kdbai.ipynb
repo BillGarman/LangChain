{
 "cells": [
  {
   "cell_type": "markdown",
   "id": "08b3f3a3-7542-4d39-a9a1-f66e50ec3c0f",
   "metadata": {},
   "source": [
    "# KDB.AI\n",
    "\n",
    "> [KDB.AI](https://kdb.ai/) is a powerful knowledge-based vector database and search engine that allows you to build scalable, reliable AI applications, using real-time data, by providing advanced search, recommendation and personalization.\n",
    "\n",
    "[This example](https://github.com/KxSystems/kdbai-samples/blob/main/document_search/document_search.ipynb) demonstrates how to use KDB.AI to run semantic search on unstructured text documents.\n",
    "\n",
    "To access to your end point and API keys, [sign up to KDB.AI here](https://kdb.ai/get-started/).\n",
    "\n",
    "To set up your development environment, follow the instructions on the [KDB.AI pre-requisites page](https://code.kx.com/kdbai/pre-requisites.html).\n",
    "\n",
    "The following examples demonstrate some of the ways you can interact with KDB.AI through LangChain.\n",
    "\n",
    "## Import required packages"
   ]
  },
  {
   "cell_type": "code",
   "execution_count": 1,
   "id": "2704194d-c42d-463d-b162-fb95262e052c",
   "metadata": {},
   "outputs": [],
   "source": [
    "from getpass import getpass\n",
    "import os\n",
    "import time\n",
    "\n",
    "import pandas as pd\n",
    "import requests\n",
    "\n",
    "import kdbai_client as kdbai\n",
    "\n",
    "from langchain.chains import RetrievalQA\n",
    "from langchain.document_loaders import PyPDFLoader\n",
    "from langchain_community.vectorstores import KDBAI\n",
    "from langchain_openai import ChatOpenAI, OpenAIEmbeddings"
   ]
  },
  {
   "cell_type": "code",
   "execution_count": 2,
   "id": "04848fcf-e128-4d63-af6c-b3991531d62e",
   "metadata": {},
   "outputs": [
    {
     "name": "stdin",
     "output_type": "stream",
     "text": [
      "KDB.AI endpoint:  https://ui.qa.cld.kx.com/instance/pcnvlmi860\n",
      "KDB.AI API key:  ········\n",
      "OpenAI API Key:  ········\n"
     ]
    }
   ],
   "source": [
    "KDBAI_ENDPOINT = input('KDB.AI endpoint: ')\n",
    "KDBAI_API_KEY = getpass('KDB.AI API key: ')\n",
    "os.environ['OPENAI_API_KEY'] = getpass('OpenAI API Key: ')"
   ]
  },
  {
   "cell_type": "code",
   "execution_count": 3,
   "id": "d08a1468-6bff-4a65-8b4a-9835cfa997ad",
   "metadata": {},
   "outputs": [],
   "source": [
    "TEMP = 0.0\n",
    "K = 3"
   ]
  },
  {
   "cell_type": "markdown",
   "id": "63a111d8-2422-4d33-85c0-bc95d25e330a",
   "metadata": {},
   "source": [
    "## Create a KBD.AI Session"
   ]
  },
  {
   "cell_type": "code",
   "execution_count": 4,
   "id": "9ffe4fee-2dc3-4943-917b-28adc3a69472",
   "metadata": {},
   "outputs": [
    {
     "name": "stdout",
     "output_type": "stream",
     "text": [
      "Create KDB.AI session...\n"
     ]
    }
   ],
   "source": [
    "print('Create KDB.AI session...')\n",
    "session = kdbai.Session(endpoint=KDBAI_ENDPOINT, api_key=KDBAI_API_KEY)"
   ]
  },
  {
   "cell_type": "markdown",
   "id": "a2ea7e87-f65c-43d9-bc67-be7bda86def2",
   "metadata": {},
   "source": [
    "## Create a table"
   ]
  },
  {
   "cell_type": "code",
   "execution_count": 5,
   "id": "da27f31c-890e-46c0-8e01-1b8474ee3a70",
   "metadata": {},
   "outputs": [
    {
     "name": "stdout",
     "output_type": "stream",
     "text": [
      "Create table \"documents\"...\n"
     ]
    }
   ],
   "source": [
    "print('Create table \"documents\"...')\n",
    "schema = {'columns': [{'name': 'id', 'pytype': 'str'},\n",
    "                      {'name': 'text', 'pytype': 'bytes'},\n",
    "                      {'name': 'embeddings',\n",
    "                               'pytype': 'float32',\n",
    "                               'vectorIndex': {'dims': 1536, 'metric': 'L2', 'type': 'hnsw'}},\n",
    "                      {'name': 'tag', 'pytype': 'str'},\n",
    "                      {'name': 'title', 'pytype': 'bytes'}]}\n",
    "table = session.create_table('documents', schema)"
   ]
  },
  {
   "cell_type": "code",
   "execution_count": 6,
   "id": "930ba64a-1cf9-4892-9335-8745c830497c",
   "metadata": {},
   "outputs": [
    {
     "name": "stdout",
     "output_type": "stream",
     "text": [
      "CPU times: user 42.2 ms, sys: 5.97 ms, total: 48.2 ms\n",
      "Wall time: 206 ms\n"
     ]
    },
    {
     "data": {
      "text/plain": [
       "562978"
      ]
     },
     "execution_count": 6,
     "metadata": {},
     "output_type": "execute_result"
    }
   ],
   "source": [
    "%%time\n",
    "URL = 'https://www.conseil-constitutionnel.fr/node/3850/pdf'\n",
    "PDF = 'Déclaration_des_droits_de_l_homme_et_du_citoyen.pdf'\n",
    "open(PDF, 'wb').write(requests.get(URL).content)"
   ]
  },
  {
   "cell_type": "markdown",
   "id": "0f7da153-e7d4-4a4c-b044-ad7b4d893c7f",
   "metadata": {},
   "source": [
    "## Read a PDF"
   ]
  },
  {
   "cell_type": "code",
   "execution_count": 7,
   "id": "00873e6b-f204-4dca-b82b-1c45d0b83ee5",
   "metadata": {},
   "outputs": [
    {
     "name": "stdout",
     "output_type": "stream",
     "text": [
      "Read PDF...\n",
      "CPU times: user 161 ms, sys: 10.9 ms, total: 172 ms\n",
      "Wall time: 178 ms\n"
     ]
    },
    {
     "data": {
      "text/plain": [
       "3"
      ]
     },
     "execution_count": 7,
     "metadata": {},
     "output_type": "execute_result"
    }
   ],
   "source": [
    "%%time\n",
    "print('Read PDF...')\n",
    "loader = PyPDFLoader(PDF)\n",
    "pages = loader.load_and_split()\n",
    "len(pages)"
   ]
  },
  {
   "cell_type": "markdown",
   "id": "3536c7db-0db7-446a-b61e-149fd3c2d1d8",
   "metadata": {},
   "source": [
    "## Create a Vector Database from PDF Text"
   ]
  },
  {
   "cell_type": "code",
   "execution_count": 8,
   "id": "b06d4a96-c3d5-426b-9e22-12925b14e5e6",
   "metadata": {},
   "outputs": [
    {
     "name": "stdout",
     "output_type": "stream",
     "text": [
      "Create a Vector Database from PDF text...\n",
      "CPU times: user 227 ms, sys: 20.1 ms, total: 247 ms\n",
      "Wall time: 2.27 s\n"
     ]
    },
    {
     "data": {
      "text/plain": [
       "['338c0e2e-9058-4fec-ae91-ff2f6c24ec08',\n",
       " '8e1a8fba-a456-4a5a-a8d7-582f385120d7',\n",
       " '9afd1fd5-323a-42bb-84f3-5a6800595519']"
      ]
     },
     "execution_count": 8,
     "metadata": {},
     "output_type": "execute_result"
    }
   ],
   "source": [
    "%%time\n",
    "print('Create a Vector Database from PDF text...')\n",
    "embeddings = OpenAIEmbeddings(model='text-embedding-ada-002')\n",
    "texts = [p.page_content for p in pages]\n",
    "metadata = pd.DataFrame(index=list(range(len(texts))))\n",
    "metadata['tag'] = 'law'\n",
    "metadata['title'] = 'Déclaration des Droits de l\\'Homme et du Citoyen de 1789'.encode('utf-8')\n",
    "vectordb = KDBAI(table, embeddings)\n",
    "vectordb.add_texts(texts=texts, metadatas=metadata)"
   ]
  },
  {
   "cell_type": "markdown",
   "id": "3b658f9a-61dd-4a88-9bcb-4651992f610d",
   "metadata": {},
   "source": [
    "## Create LangChain Pipeline"
   ]
  },
  {
   "cell_type": "code",
   "execution_count": 9,
   "id": "6d848577-1192-4bb0-b721-37f52be5d9d0",
   "metadata": {},
   "outputs": [
    {
     "name": "stdout",
     "output_type": "stream",
     "text": [
      "Create LangChain pipeline...\n",
      "CPU times: user 39.6 ms, sys: 3.96 ms, total: 43.6 ms\n",
      "Wall time: 43 ms\n"
     ]
    }
   ],
   "source": [
    "%%time\n",
    "print('Create LangChain pipeline...')\n",
    "qabot = RetrievalQA.from_chain_type(chain_type='stuff',\n",
    "                                    llm=ChatOpenAI(model='gpt-3.5-turbo-16k', temperature=TEMP), \n",
    "                                    retriever=vectordb.as_retriever(search_kwargs=dict(k=K)),\n",
    "                                    return_source_documents=True)"
   ]
  },
  {
   "cell_type": "markdown",
   "id": "21113a5e-d72d-4a44-9714-6b23ec95b755",
   "metadata": {},
   "source": [
    "## Summarize the document in English"
   ]
  },
  {
   "cell_type": "code",
   "execution_count": 10,
   "id": "81668f8f-a416-4b58-93d2-8e0924ceca23",
   "metadata": {},
   "outputs": [
    {
     "name": "stdout",
     "output_type": "stream",
     "text": [
      "\n",
      "\n",
      "Summarize the document in English:\n",
      "\n",
      "The document is the Declaration of the Rights of Man and of the Citizen of 1789. It was written by the representatives of the French people and aims to declare the natural, inalienable, and sacred rights of every individual. These rights include freedom, property, security, and resistance to oppression. The document emphasizes the importance of equality and the principle that sovereignty resides in the nation. It also highlights the role of law in protecting individual rights and ensuring the common good. The document asserts the right to freedom of thought, expression, and religion, as long as it does not disturb public order. It emphasizes the need for a public force to guarantee the rights of all citizens and the importance of a fair and equal distribution of public contributions. The document also recognizes the right of citizens to hold public officials accountable and states that any society without the guarantee of rights and separation of powers does not have a constitution. Finally, it affirms the inviolable and sacred nature of property, stating that it can only be taken away for public necessity and with just compensation.\n",
      "CPU times: user 152 ms, sys: 50.2 ms, total: 202 ms\n",
      "Wall time: 4.58 s\n"
     ]
    }
   ],
   "source": [
    "%%time\n",
    "Q = 'Summarize the document in English:'\n",
    "print(f'\\n\\n{Q}\\n')\n",
    "print(qabot.invoke(dict(query=Q))['result'])"
   ]
  },
  {
   "cell_type": "markdown",
   "id": "9ce7667e-8c89-466c-8040-9ba62f3e57ec",
   "metadata": {},
   "source": [
    "## Query the Data"
   ]
  },
  {
   "cell_type": "code",
   "execution_count": 11,
   "id": "e02a7acb-99ac-48f8-b93c-d95a8f9e87d4",
   "metadata": {},
   "outputs": [
    {
     "name": "stdout",
     "output_type": "stream",
     "text": [
      "\n",
      "\n",
      "Is it a fair law and why ?\n",
      "\n",
      "As an AI language model, I don't have personal opinions. However, I can provide some analysis based on the given context. The text provided is an excerpt from the Declaration of the Rights of Man and of the Citizen of 1789, which is considered a foundational document in the history of human rights. It outlines the natural and inalienable rights of individuals, such as freedom, property, security, and resistance to oppression. It also emphasizes the principles of equality, the rule of law, and the separation of powers. \n",
      "\n",
      "Whether or not this law is considered fair is subjective and can vary depending on individual perspectives and societal norms. However, many consider the principles and rights outlined in this declaration to be fundamental and just. It is important to note that this declaration was a significant step towards establishing principles of equality and individual rights in France and has influenced subsequent human rights documents worldwide.\n",
      "CPU times: user 76.3 ms, sys: 5.01 ms, total: 81.3 ms\n",
      "Wall time: 3.23 s\n"
     ]
    }
   ],
   "source": [
    "%%time\n",
    "Q = 'Is it a fair law and why ?'\n",
    "print(f'\\n\\n{Q}\\n')\n",
    "print(qabot.invoke(dict(query=Q))['result'])"
   ]
  },
  {
   "cell_type": "code",
   "execution_count": 12,
   "id": "24dc85bd-cd35-4fb3-9d01-e00a896fd9a1",
   "metadata": {},
   "outputs": [
    {
     "name": "stdout",
     "output_type": "stream",
     "text": [
      "\n",
      "\n",
      "What are the rights and duties of the man, the citizen and the society ?\n",
      "\n",
      "According to the Declaration of the Rights of Man and of the Citizen of 1789, the rights and duties of man, citizen, and society are as follows:\n",
      "\n",
      "Rights of Man:\n",
      "1. Men are born and remain free and equal in rights. Social distinctions can only be based on common utility.\n",
      "2. The purpose of political association is to protect the natural and imprescriptible rights of man, which include liberty, property, security, and resistance to oppression.\n",
      "3. Sovereignty resides essentially in the nation, and no individual or group can exercise authority that does not come from the nation.\n",
      "4. Freedom consists of being able to do anything that does not harm others. The exercise of natural rights is only limited by the law.\n",
      "5. The law can only prohibit actions that are harmful to society. Anything that is not prohibited by law cannot be prevented, and no one can be compelled to do what the law does not require.\n",
      "6. The law is the expression of the general will. All citizens have the right to participate personally or through their representatives in its formation. It must be the same for everyone, whether it protects or punishes. All citizens are equal in the eyes of the law and have equal access to public positions and employment based on their abilities and virtues.\n",
      "7. No one can be accused, arrested, or detained except in cases determined by law and according to the prescribed procedures. Those who solicit, expedite, execute, or enforce arbitrary orders must be punished. However, any citizen called or seized under the law must obey immediately, and resistance is considered a crime.\n",
      "8. The law should only establish punishments that are strictly and obviously necessary, and no one can be punished except in accordance with a law established and promulgated prior to the offense.\n",
      "9. Every person is presumed innocent until proven guilty. If it is deemed necessary to arrest someone, any unnecessary harshness that is not required to secure their person must be severely punished by law.\n",
      "10. No one should be disturbed for their opinions, even religious ones, as long as their expression does not disturb the established public order.\n",
      "11. The free communication of thoughts and opinions is one of the most precious rights of man. Therefore, every citizen has the right to speak, write, and print freely, with the responsibility for any abuse of this freedom determined by law.\n",
      "12. The guarantee of the rights of man and citizen requires a public force, which is established for the benefit of all and not for the particular advantage of those to whom it is entrusted.\n",
      "13. For the maintenance of public force and administrative expenses, a common contribution is necessary and should be equally distributed among all citizens according to their abilities.\n",
      "14. All citizens have the right to personally or through their representatives determine the necessity of public contribution, consent to it freely, follow its use, and determine its amount, basis, collection, and duration.\n",
      "15. Society has the right to hold any public agent accountable for their administration.\n",
      "16. Any society in which the guarantee of rights is not assured and the separation of powers is not determined has no constitution.\n",
      "17. Property is an inviolable and sacred right, and no one can be deprived of it except when the public necessity, legally established, clearly requires it, and under the condition of just and prior compensation.\n",
      "CPU times: user 88.7 ms, sys: 5.32 ms, total: 94 ms\n",
      "Wall time: 10.3 s\n"
     ]
    }
   ],
   "source": [
    "%%time\n",
    "Q = 'What are the rights and duties of the man, the citizen and the society ?'\n",
    "print(f'\\n\\n{Q}\\n')\n",
    "print(qabot.invoke(dict(query=Q))['result'])"
   ]
  },
  {
   "cell_type": "code",
   "execution_count": 13,
   "id": "d55b7980-a3d3-45d7-a310-99492edb098b",
   "metadata": {},
   "outputs": [
    {
     "name": "stdout",
     "output_type": "stream",
     "text": [
      "\n",
      "\n",
      "Is this law practical ?\n",
      "\n",
      "As an AI language model, I cannot provide personal opinions or subjective judgments on whether a law is practical or not. The texts provided are excerpts from the French Constitution and the Declaration of the Rights of Man and of the Citizen of 1789. These texts outline fundamental rights and principles that form the basis of the French legal system. The practicality of a law is often a matter of interpretation and can vary depending on the context and specific circumstances. It is ultimately up to legal experts, lawmakers, and the judiciary to determine the practicality and application of these laws in specific cases.\n",
      "CPU times: user 94.6 ms, sys: 5.98 ms, total: 101 ms\n",
      "Wall time: 2.96 s\n"
     ]
    }
   ],
   "source": [
    "%%time\n",
    "Q = 'Is this law practical ?'\n",
    "print(f'\\n\\n{Q}\\n')\n",
    "print(qabot.invoke(dict(query=Q))['result'])"
   ]
  },
  {
   "cell_type": "markdown",
   "id": "5f9d0a3c-4941-4f65-b6b8-aefe4f6abd14",
   "metadata": {},
   "source": [
    "## Clean up the Documents table"
   ]
  },
  {
   "cell_type": "code",
   "execution_count": 14,
   "id": "cdddda29-e28d-423f-b1c6-f77d39acc3dd",
   "metadata": {},
   "outputs": [
    {
     "data": {
      "text/plain": [
       "True"
      ]
     },
     "execution_count": 14,
     "metadata": {},
     "output_type": "execute_result"
    }
   ],
   "source": [
    "# Clean up KDB.AI \"documents\" table and index for similarity search\n",
    "# so this notebook could be played again and again\n",
    "session.table('documents').drop()"
   ]
  },
  {
   "cell_type": "code",
   "execution_count": null,
   "id": "23cb1359-f32c-4b47-a885-cbf3cbae5b14",
   "metadata": {},
   "outputs": [],
   "source": []
  }
 ],
 "metadata": {
  "kernelspec": {
   "display_name": "Python 3 (ipykernel)",
   "language": "python",
   "name": "python3"
  },
  "language_info": {
   "codemirror_mode": {
    "name": "ipython",
    "version": 3
   },
   "file_extension": ".py",
   "mimetype": "text/x-python",
   "name": "python",
   "nbconvert_exporter": "python",
   "pygments_lexer": "ipython3",
   "version": "3.10.12"
  }
 },
 "nbformat": 4,
 "nbformat_minor": 5
}
