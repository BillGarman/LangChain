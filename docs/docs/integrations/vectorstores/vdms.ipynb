{
 "cells": [
  {
   "cell_type": "markdown",
   "id": "683953b3",
   "metadata": {},
   "source": [
    "# Visual Data Management System (VDMS)\n",
    "\n",
    ">[VDMS](https://github.com/IntelLabs/vdms) is a storage solution for efficient access of big-”visual”-data that aims to achieve cloud scale by searching for relevant visual data via visual metadata stored as a graph and enabling machine friendly enhancements to visual data for faster access. VDMS is licensed under MIT.\n",
    "\n",
    "It supports:\n",
    "- K nearest neighbor search\n",
    "- Euclidean distance (L2) and inner product (IP)\n",
    "- Vector and metadata searches\n",
    "\n",
    "See the [installation instructions](https://github.com/IntelLabs/vdms/blob/master/INSTALL.md) and [docker image](https://hub.docker.com/r/intellabs/vdms).\n",
    "\n",
    "This notebook shows how to use VDMS as a vector store (`VDMSVectorSearch`) using the docker image.\n",
    "\n",
    "\n",
    "Install Python packages for VDMS client and Sentence Transformers:"
   ]
  },
  {
   "cell_type": "code",
   "execution_count": 1,
   "metadata": {},
   "outputs": [
    {
     "name": "stdout",
     "output_type": "stream",
     "text": [
      "Note: you may need to restart the kernel to use updated packages.\n",
      "Note: you may need to restart the kernel to use updated packages.\n",
      "Note: you may need to restart the kernel to use updated packages.\n"
     ]
    }
   ],
   "source": [
    "# Pip install necessary package\n",
    "%pip install --upgrade --quiet pip\n",
    "%pip install --upgrade --quiet vdms\n",
    "%pip install --upgrade --quiet sentence-transformers"
   ]
  },
  {
   "cell_type": "markdown",
   "id": "2b5ffbf8",
   "metadata": {},
   "source": [
    "## Basic Example (using the Docker Container)\n",
    "\n",
    "In this basic example, we take the most recent State of the Union Address, split it into chunks, embed it using an open-source embedding model, load it into VDMS, and then query it.\n",
    "\n",
    "You can run the VDMS Server in a Docker container separately to use with LangChain. \n",
    "\n",
    "VDMS has the ability to handle multiple `Collections` of documents, but the LangChain interface expects one, so we need to specify the collection (DescriptorSet) name. The default collection (DescriptorSet) name used by LangChain is \"langchain\".\n",
    "\n",
    "\n",
    "### Load Document and Obtain Embedding Function"
   ]
  },
  {
   "cell_type": "code",
   "execution_count": 2,
   "metadata": {},
   "outputs": [],
   "source": [
    "from langchain.document_loaders import TextLoader\n",
    "from langchain.text_splitter import CharacterTextSplitter\n",
    "from langchain.vectorstores.vdms import VDMSVectorSearch\n",
    "from langchain.embeddings.sentence_transformer import SentenceTransformerEmbeddings\n",
    "import time\n",
    "\n",
    "# load the document and split it into chunks\n",
    "document_path = \"../../modules/state_of_the_union.txt\"\n",
    "raw_documents = TextLoader(document_path).load()\n",
    "\n",
    "# split it into chunks\n",
    "text_splitter = CharacterTextSplitter(chunk_size=1000, chunk_overlap=0)\n",
    "docs = text_splitter.split_documents(raw_documents)\n",
    "\n",
    "# create the open-source embedding function\n",
    "embedding_function = SentenceTransformerEmbeddings(model_name=\"all-MiniLM-L6-v2\") #384 dimensions\n",
    "emb_dim = 384\n",
    "collection_name=\"my_collection\"\n",
    "\n",
    "# Configurations\n",
    "db_host = \"localhost\"\n",
    "db_port = 55555\n",
    "connection_args={\"host\": db_host, \"port\": db_port}\n",
    "collection_name = \"my_collection\"\n",
    "distance_strategy = \"L2\"\n",
    "engine = \"FaissFlat\""
   ]
  },
  {
   "cell_type": "markdown",
   "metadata": {},
   "source": [
    "### Start VDMS Server\n",
    "Here we start the VDMS server with default port 55555."
   ]
  },
  {
   "cell_type": "code",
   "execution_count": 3,
   "metadata": {},
   "outputs": [
    {
     "name": "stdout",
     "output_type": "stream",
     "text": [
      "d1ee8f09a6eb915f1982bda2b8c35f37a7dc8ccfe402563b3d7a557b7518761c\n"
     ]
    }
   ],
   "source": [
    "!docker run ${DOCKER_PROXY_RUN_ARGS} --rm -d -p 55555:55555 --name vdms_vs_nb intellabs/vdms:latest\n",
    "time.sleep(5)\n"
   ]
  },
  {
   "cell_type": "markdown",
   "metadata": {},
   "source": [
    "## Similarity Search using Faiss Flat and Euclidean Distance (Default)\n",
    "\n",
    "Here we add the documents to VDMS and query it."
   ]
  },
  {
   "cell_type": "code",
   "execution_count": 4,
   "id": "74aee70e",
   "metadata": {},
   "outputs": [
    {
     "name": "stdout",
     "output_type": "stream",
     "text": [
      "--------------------------------------------------\n",
      "Score:  1.1972054243087769\n",
      "\n",
      "Content: \n",
      "Tonight. I call on the Senate to: Pass the Freedom to Vote Act. Pass the John Lewis Voting Rights Act. And while you’re at it, pass the Disclose Act so Americans can know who is funding our elections. \n",
      "\n",
      "Tonight, I’d like to honor someone who has dedicated his life to serve this country: Justice Stephen Breyer—an Army veteran, Constitutional scholar, and retiring Justice of the United States Supreme Court. Justice Breyer, thank you for your service. \n",
      "\n",
      "One of the most serious constitutional responsibilities a President has is nominating someone to serve on the United States Supreme Court. \n",
      "\n",
      "And I did that 4 days ago, when I nominated Circuit Court of Appeals Judge Ketanji Brown Jackson. One of our nation’s top legal minds, who will continue Justice Breyer’s legacy of excellence.\n",
      "--------------------------------------------------\n",
      "Score:  1.6471163034439087\n",
      "\n",
      "Content: \n",
      "Madam Speaker, Madam Vice President, our First Lady and Second Gentleman. Members of Congress and the Cabinet. Justices of the Supreme Court. My fellow Americans.  \n",
      "\n",
      "Last year COVID-19 kept us apart. This year we are finally together again. \n",
      "\n",
      "Tonight, we meet as Democrats Republicans and Independents. But most importantly as Americans. \n",
      "\n",
      "With a duty to one another to the American people to the Constitution. \n",
      "\n",
      "And with an unwavering resolve that freedom will always triumph over tyranny. \n",
      "\n",
      "Six days ago, Russia’s Vladimir Putin sought to shake the foundations of the free world thinking he could make it bend to his menacing ways. But he badly miscalculated. \n",
      "\n",
      "He thought he could roll into Ukraine and the world would roll over. Instead he met a wall of strength he never imagined. \n",
      "\n",
      "He met the Ukrainian people. \n",
      "\n",
      "From President Zelenskyy to every Ukrainian, their fearlessness, their courage, their determination, inspires the world.\n",
      "--------------------------------------------------\n",
      "Score:  1.6858736276626587\n",
      "\n",
      "Content: \n",
      "A former top litigator in private practice. A former federal public defender. And from a family of public school educators and police officers. A consensus builder. Since she’s been nominated, she’s received a broad range of support—from the Fraternal Order of Police to former judges appointed by Democrats and Republicans. \n",
      "\n",
      "And if we are to advance liberty and justice, we need to secure the Border and fix the immigration system. \n",
      "\n",
      "We can do both. At our border, we’ve installed new technology like cutting-edge scanners to better detect drug smuggling.  \n",
      "\n",
      "We’ve set up joint patrols with Mexico and Guatemala to catch more human traffickers.  \n",
      "\n",
      "We’re putting in place dedicated immigration judges so families fleeing persecution and violence can have their cases heard faster. \n",
      "\n",
      "We’re securing commitments and supporting partners in South and Central America to host more refugees and secure their own borders.\n",
      "--------------------------------------------------\n"
     ]
    }
   ],
   "source": [
    "db = VDMSVectorSearch.from_documents(\n",
    "    docs,\n",
    "    collection_name=collection_name,\n",
    "    embedding_function=embedding_function,\n",
    "    engine=engine,\n",
    "    distance_strategy=distance_strategy,\n",
    "    connection_args=connection_args,\n",
    ")\n",
    "\n",
    "# Query\n",
    "k = 3\n",
    "query = \"What did the president say about Ketanji Brown Jackson\"\n",
    "docs_with_score = db.similarity_search_with_score(query, k, filter=None)\n",
    "print(\"-\" * 50)\n",
    "for doc, score in docs_with_score:\n",
    "    print(\"Score: \", score)\n",
    "    print(f\"\\nContent: \\n{doc.page_content}\")\n",
    "    print(\"-\" * 50)"
   ]
  },
  {
   "cell_type": "markdown",
   "id": "9ed3ec50",
   "metadata": {},
   "source": [
    "## Update and Delete\n",
    "\n",
    "While building toward a real application, you want to go beyond adding data, and also update and delete data. \n",
    "\n",
    "VDMS allows users to provide `ids` to simplify the bookkeeping here. `ids` can be the name of the file, or a combined has like `filename_paragraphNumber`, etc.\n",
    "\n",
    "VDMS supports deletion of collections/descriptors but does not support updating this type of data.  To update a collection, we must find it, delete it, then add it again with new values.\n",
    "\n",
    "Here is a basic example showing how to do various operations:"
   ]
  },
  {
   "cell_type": "code",
   "execution_count": 5,
   "id": "81a02810",
   "metadata": {},
   "outputs": [
    {
     "name": "stdout",
     "output_type": "stream",
     "text": [
      "original metadata: {'source': '../../modules/state_of_the_union.txt'}\n"
     ]
    }
   ],
   "source": [
    "# create simple ids\n",
    "ids = [str(i) for i in range(1, len(docs) + 1)]\n",
    "\n",
    "# add data\n",
    "db.from_documents(\n",
    "    docs,\n",
    "    embedding_function=embedding_function,\n",
    "    ids=ids,\n",
    "    collection_name=collection_name,\n",
    "    engine=engine,\n",
    "    distance_strategy=distance_strategy,\n",
    "    connection_args=connection_args,\n",
    ")\n",
    "docs = db.similarity_search(query)\n",
    "print(f\"original metadata: {docs[0].metadata}\")"
   ]
  },
  {
   "cell_type": "markdown",
   "id": "77bf8fb8",
   "metadata": {},
   "source": [
    "Now update the metadata for the first document and delete the last document"
   ]
  },
  {
   "cell_type": "code",
   "execution_count": 6,
   "id": "3bc55d33",
   "metadata": {},
   "outputs": [
    {
     "name": "stdout",
     "output_type": "stream",
     "text": [
      "new metadata: {'source': '../../modules/state_of_the_union.txt', 'new_value': 'hello world'}\n",
      "\n",
      "Returned entry:\n",
      "content: Tonight. I call on the Senate to: Pass the Freedom to Vote Act. Pass the John Lewis Voting Rights Act. And while you’re at it, pass the Disclose Act so Americans can know who is funding our elections. \n",
      "\n",
      "Tonight, I’d like to honor someone who has dedicated his life to serve this country: Justice Stephen Breyer—an Army veteran, Constitutional scholar, and retiring Justice of the United States Supreme Court. Justice Breyer, thank you for your service. \n",
      "\n",
      "One of the most serious constitutional responsibilities a President has is nominating someone to serve on the United States Supreme Court. \n",
      "\n",
      "And I did that 4 days ago, when I nominated Circuit Court of Appeals Judge Ketanji Brown Jackson. One of our nation’s top legal minds, who will continue Justice Breyer’s legacy of excellence.\n",
      "id: 1\n",
      "new_value: hello world\n",
      "source: ../../modules/state_of_the_union.txt\n",
      "\n",
      "Count before deletion:  84\n",
      "Count after removing id 42:  83\n"
     ]
    }
   ],
   "source": [
    "# update the metadata for a document\n",
    "docs[0].metadata = {\n",
    "    \"source\": document_path,\n",
    "    \"new_value\": \"hello world\",\n",
    "}\n",
    "print(f\"new metadata: {docs[0].metadata}\\n\")\n",
    "\n",
    "# Update document in VDMS\n",
    "db.update_document(collection_name, ids[0], docs[0])\n",
    "response, response_array = db.get(collection_name, constraints={\"id\": [\"==\", ids[0]]})\n",
    "print(f\"Returned entry:\")\n",
    "for key, value in response[0]['FindDescriptor']['entities'][0].items():\n",
    "    if value != 'Missing property':\n",
    "        print(f\"{key}: {value}\")\n",
    "\n",
    "# delete the last document\n",
    "print(\"\\nCount before deletion: \", db.count(collection_name))\n",
    "id_to_remove = ids[-1]\n",
    "db.delete_collection(collection_name, ids=[id_to_remove])\n",
    "print(f\"Count after removing id {id_to_remove}: \", db.count(collection_name))\n"
   ]
  },
  {
   "cell_type": "markdown",
   "id": "6d9c28ad",
   "metadata": {},
   "source": [
    "***\n",
    "\n",
    "## Other Information"
   ]
  },
  {
   "cell_type": "markdown",
   "id": "18152965",
   "metadata": {},
   "source": [
    "### Similarity search by vector"
   ]
  },
  {
   "cell_type": "code",
   "execution_count": 7,
   "metadata": {},
   "outputs": [
    {
     "name": "stdout",
     "output_type": "stream",
     "text": [
      "Tonight. I call on the Senate to: Pass the Freedom to Vote Act. Pass the John Lewis Voting Rights Act. And while you’re at it, pass the Disclose Act so Americans can know who is funding our elections. \n",
      "\n",
      "Tonight, I’d like to honor someone who has dedicated his life to serve this country: Justice Stephen Breyer—an Army veteran, Constitutional scholar, and retiring Justice of the United States Supreme Court. Justice Breyer, thank you for your service. \n",
      "\n",
      "One of the most serious constitutional responsibilities a President has is nominating someone to serve on the United States Supreme Court. \n",
      "\n",
      "And I did that 4 days ago, when I nominated Circuit Court of Appeals Judge Ketanji Brown Jackson. One of our nation’s top legal minds, who will continue Justice Breyer’s legacy of excellence.\n"
     ]
    }
   ],
   "source": [
    "# Similarity search by vector\n",
    "embedding_vector = embedding_function.embed_query(query)\n",
    "docs = db.similarity_search_by_vector(embedding_vector)\n",
    "\n",
    "# Print Results\n",
    "print(docs[0].page_content)"
   ]
  },
  {
   "cell_type": "markdown",
   "metadata": {},
   "source": [
    "### Similarity search with score"
   ]
  },
  {
   "cell_type": "markdown",
   "id": "346347d7",
   "metadata": {},
   "source": [
    "The returned distance score is cosine distance. Therefore, a lower score is better."
   ]
  },
  {
   "cell_type": "code",
   "execution_count": 8,
   "id": "72aaa9c8",
   "metadata": {
    "tags": []
   },
   "outputs": [
    {
     "name": "stdout",
     "output_type": "stream",
     "text": [
      "--------------------------------------------------\n",
      "Score:  1.1972054243087769\n",
      "\n",
      "Content: \n",
      "Tonight. I call on the Senate to: Pass the Freedom to Vote Act. Pass the John Lewis Voting Rights Act. And while you’re at it, pass the Disclose Act so Americans can know who is funding our elections. \n",
      "\n",
      "Tonight, I’d like to honor someone who has dedicated his life to serve this country: Justice Stephen Breyer—an Army veteran, Constitutional scholar, and retiring Justice of the United States Supreme Court. Justice Breyer, thank you for your service. \n",
      "\n",
      "One of the most serious constitutional responsibilities a President has is nominating someone to serve on the United States Supreme Court. \n",
      "\n",
      "And I did that 4 days ago, when I nominated Circuit Court of Appeals Judge Ketanji Brown Jackson. One of our nation’s top legal minds, who will continue Justice Breyer’s legacy of excellence.\n",
      "--------------------------------------------------\n",
      "Score:  1.6471163034439087\n",
      "\n",
      "Content: \n",
      "Madam Speaker, Madam Vice President, our First Lady and Second Gentleman. Members of Congress and the Cabinet. Justices of the Supreme Court. My fellow Americans.  \n",
      "\n",
      "Last year COVID-19 kept us apart. This year we are finally together again. \n",
      "\n",
      "Tonight, we meet as Democrats Republicans and Independents. But most importantly as Americans. \n",
      "\n",
      "With a duty to one another to the American people to the Constitution. \n",
      "\n",
      "And with an unwavering resolve that freedom will always triumph over tyranny. \n",
      "\n",
      "Six days ago, Russia’s Vladimir Putin sought to shake the foundations of the free world thinking he could make it bend to his menacing ways. But he badly miscalculated. \n",
      "\n",
      "He thought he could roll into Ukraine and the world would roll over. Instead he met a wall of strength he never imagined. \n",
      "\n",
      "He met the Ukrainian people. \n",
      "\n",
      "From President Zelenskyy to every Ukrainian, their fearlessness, their courage, their determination, inspires the world.\n",
      "--------------------------------------------------\n",
      "Score:  1.6858736276626587\n",
      "\n",
      "Content: \n",
      "A former top litigator in private practice. A former federal public defender. And from a family of public school educators and police officers. A consensus builder. Since she’s been nominated, she’s received a broad range of support—from the Fraternal Order of Police to former judges appointed by Democrats and Republicans. \n",
      "\n",
      "And if we are to advance liberty and justice, we need to secure the Border and fix the immigration system. \n",
      "\n",
      "We can do both. At our border, we’ve installed new technology like cutting-edge scanners to better detect drug smuggling.  \n",
      "\n",
      "We’ve set up joint patrols with Mexico and Guatemala to catch more human traffickers.  \n",
      "\n",
      "We’re putting in place dedicated immigration judges so families fleeing persecution and violence can have their cases heard faster. \n",
      "\n",
      "We’re securing commitments and supporting partners in South and Central America to host more refugees and secure their own borders.\n",
      "--------------------------------------------------\n"
     ]
    }
   ],
   "source": [
    "# Similarity ssearch with score\n",
    "docs_and_scores = db.similarity_search_with_score(query)\n",
    "print(\"-\" * 50)\n",
    "for doc, score in docs_with_score:\n",
    "    print(\"Score: \", score)\n",
    "    print(f\"\\nContent: \\n{doc.page_content}\")\n",
    "    print(\"-\" * 50)"
   ]
  },
  {
   "cell_type": "markdown",
   "id": "1dee8bf1",
   "metadata": {},
   "source": [
    "### Filtering on metadata\n",
    "\n",
    "It can be helpful to narrow down the collection before working with it.\n",
    "\n",
    "For example, collections can be filtered on metadata using the get method."
   ]
  },
  {
   "cell_type": "code",
   "execution_count": 9,
   "id": "6c712c26",
   "metadata": {},
   "outputs": [
    {
     "name": "stdout",
     "output_type": "stream",
     "text": [
      "Returned entry:\n",
      "content: Groups of citizens blocking tanks with their bodies. Everyone from students to retirees teachers turned soldiers defending their homeland. \n",
      "\n",
      "In this struggle as President Zelenskyy said in his speech to the European Parliament “Light will win over darkness.” The Ukrainian Ambassador to the United States is here tonight. \n",
      "\n",
      "Let each of us here tonight in this Chamber send an unmistakable signal to Ukraine and to the world. \n",
      "\n",
      "Please rise if you are able and show that, Yes, we the United States of America stand with the Ukrainian people. \n",
      "\n",
      "Throughout our history we’ve learned this lesson when dictators do not pay a price for their aggression they cause more chaos.   \n",
      "\n",
      "They keep moving.   \n",
      "\n",
      "And the costs and the threats to America and the world keep rising.   \n",
      "\n",
      "That’s why the NATO Alliance was created to secure peace and stability in Europe after World War 2. \n",
      "\n",
      "The United States is a member along with 29 other nations. \n",
      "\n",
      "It matters. American diplomacy matters. American resolve matters.\n",
      "id: 2\n",
      "source: ../../modules/state_of_the_union.txt\n"
     ]
    }
   ],
   "source": [
    "# filter collection for id\n",
    "response, response_array = db.get(collection_name,\n",
    "                                  limit=1,\n",
    "                                  constraints={\"id\": [\"==\", \"2\"]}\n",
    ")\n",
    "\n",
    "print(f\"Returned entry:\")\n",
    "for key, value in response[0]['FindDescriptor']['entities'][0].items():\n",
    "    if value != 'Missing property':\n",
    "        print(f\"{key}: {value}\")"
   ]
  },
  {
   "cell_type": "markdown",
   "id": "794a7552",
   "metadata": {},
   "source": [
    "### Retriever options\n",
    "\n",
    "This section goes over different options for how to use VDMS as a retriever.\n",
    "\n",
    "\n",
    "#### Simiarity Search\n",
    "\n",
    "Here we use similarity search in the retriever object.\n"
   ]
  },
  {
   "cell_type": "code",
   "execution_count": 10,
   "id": "09300c11",
   "metadata": {},
   "outputs": [
    {
     "name": "stdout",
     "output_type": "stream",
     "text": [
      "Content: \n",
      "Tonight. I call on the Senate to: Pass the Freedom to Vote Act. Pass the John Lewis Voting Rights Act. And while you’re at it, pass the Disclose Act so Americans can know who is funding our elections. \n",
      "\n",
      "Tonight, I’d like to honor someone who has dedicated his life to serve this country: Justice Stephen Breyer—an Army veteran, Constitutional scholar, and retiring Justice of the United States Supreme Court. Justice Breyer, thank you for your service. \n",
      "\n",
      "One of the most serious constitutional responsibilities a President has is nominating someone to serve on the United States Supreme Court. \n",
      "\n",
      "And I did that 4 days ago, when I nominated Circuit Court of Appeals Judge Ketanji Brown Jackson. One of our nation’s top legal minds, who will continue Justice Breyer’s legacy of excellence.\n",
      "\n",
      "Metadata: \n",
      "{'new_value': 'hello world', 'source': '../../modules/state_of_the_union.txt'}\n"
     ]
    }
   ],
   "source": [
    "retriever = db.as_retriever()\n",
    "relevant_docs = retriever.get_relevant_documents(query)[0]\n",
    "\n",
    "print(f\"Content: \\n{relevant_docs.page_content}\")\n",
    "print(f\"\\nMetadata: \\n{relevant_docs.metadata}\")"
   ]
  },
  {
   "cell_type": "markdown",
   "id": "b6b5d960",
   "metadata": {},
   "source": [
    "#### MMR\n",
    "\n",
    "In addition to using similarity search in the retriever object, you can also use `mmr`."
   ]
  },
  {
   "cell_type": "code",
   "execution_count": 11,
   "id": "f00be6d0",
   "metadata": {},
   "outputs": [
    {
     "name": "stdout",
     "output_type": "stream",
     "text": [
      "Content: \n",
      "Tonight. I call on the Senate to: Pass the Freedom to Vote Act. Pass the John Lewis Voting Rights Act. And while you’re at it, pass the Disclose Act so Americans can know who is funding our elections. \n",
      "\n",
      "Tonight, I’d like to honor someone who has dedicated his life to serve this country: Justice Stephen Breyer—an Army veteran, Constitutional scholar, and retiring Justice of the United States Supreme Court. Justice Breyer, thank you for your service. \n",
      "\n",
      "One of the most serious constitutional responsibilities a President has is nominating someone to serve on the United States Supreme Court. \n",
      "\n",
      "And I did that 4 days ago, when I nominated Circuit Court of Appeals Judge Ketanji Brown Jackson. One of our nation’s top legal minds, who will continue Justice Breyer’s legacy of excellence.\n",
      "\n",
      "Metadata: \n",
      "{'source': '../../modules/state_of_the_union.txt'}\n"
     ]
    }
   ],
   "source": [
    "# Maximal Marginal Relevance Search (MMR)\n",
    "retriever = db.as_retriever(search_type=\"mmr\")\n",
    "relevant_docs = retriever.get_relevant_documents(query)[0]\n",
    "\n",
    "print(f\"Content: \\n{relevant_docs.page_content}\")\n",
    "print(f\"\\nMetadata: \\n{relevant_docs.metadata}\")"
   ]
  },
  {
   "cell_type": "markdown",
   "id": "03c62ead",
   "metadata": {},
   "source": [
    "We can also use MMR directly."
   ]
  },
  {
   "cell_type": "code",
   "execution_count": 12,
   "metadata": {},
   "outputs": [
    {
     "name": "stdout",
     "output_type": "stream",
     "text": [
      "--------------------------------------------------\n",
      "Score:  1.1972054243087769\n",
      "\n",
      "Content: \n",
      "Tonight. I call on the Senate to: Pass the Freedom to Vote Act. Pass the John Lewis Voting Rights Act. And while you’re at it, pass the Disclose Act so Americans can know who is funding our elections. \n",
      "\n",
      "Tonight, I’d like to honor someone who has dedicated his life to serve this country: Justice Stephen Breyer—an Army veteran, Constitutional scholar, and retiring Justice of the United States Supreme Court. Justice Breyer, thank you for your service. \n",
      "\n",
      "One of the most serious constitutional responsibilities a President has is nominating someone to serve on the United States Supreme Court. \n",
      "\n",
      "And I did that 4 days ago, when I nominated Circuit Court of Appeals Judge Ketanji Brown Jackson. One of our nation’s top legal minds, who will continue Justice Breyer’s legacy of excellence.\n",
      "\n",
      "Metadata: \n",
      "{'source': '../../modules/state_of_the_union.txt'}\n",
      "--------------------------------------------------\n",
      "Score:  1.6941266059875488\n",
      "\n",
      "Content: \n",
      "As Ohio Senator Sherrod Brown says, “It’s time to bury the label “Rust Belt.” \n",
      "\n",
      "It’s time. \n",
      "\n",
      "But with all the bright spots in our economy, record job growth and higher wages, too many families are struggling to keep up with the bills.  \n",
      "\n",
      "Inflation is robbing them of the gains they might otherwise feel. \n",
      "\n",
      "I get it. That’s why my top priority is getting prices under control. \n",
      "\n",
      "Look, our economy roared back faster than most predicted, but the pandemic meant that businesses had a hard time hiring enough workers to keep up production in their factories. \n",
      "\n",
      "The pandemic also disrupted global supply chains. \n",
      "\n",
      "When factories close, it takes longer to make goods and get them from the warehouse to the store, and prices go up. \n",
      "\n",
      "Look at cars. \n",
      "\n",
      "Last year, there weren’t enough semiconductors to make all the cars that people wanted to buy. \n",
      "\n",
      "And guess what, prices of automobiles went up. \n",
      "\n",
      "So—we have a choice. \n",
      "\n",
      "One way to fight inflation is to drive down wages and make Americans poorer.\n",
      "\n",
      "Metadata: \n",
      "{'source': '../../modules/state_of_the_union.txt'}\n",
      "--------------------------------------------------\n"
     ]
    }
   ],
   "source": [
    "\n",
    "# Use max_marginal_relevance_search directly\n",
    "mmr_resp = db.max_marginal_relevance_search_with_score(query, k=2, fetch_k=10)\n",
    "print(\"-\" * 50)\n",
    "for doc, score in mmr_resp:\n",
    "    print(\"Score: \", score)\n",
    "    print(f\"\\nContent: \\n{doc.page_content}\")\n",
    "    print(f\"\\nMetadata: \\n{doc.metadata}\")\n",
    "    print(\"-\" * 50)\n"
   ]
  },
  {
   "cell_type": "markdown",
   "id": "dbc6a35b",
   "metadata": {},
   "source": [
    "## Question Answering with Sources\n",
    "\n",
    "This section goes over how to do question-answering with sources over an Index. It does this by using the `RetrievalQAWithSourcesChain`, which does the lookup of the documents from an Index. "
   ]
  },
  {
   "cell_type": "code",
   "execution_count": 13,
   "id": "9cf7d962",
   "metadata": {},
   "outputs": [],
   "source": [
    "# from langchain.chains import RetrievalQAWithSourcesChain\n",
    "# from langchain_openai import ChatOpenAI\n",
    "\n",
    "# retriever = db.as_retriever()\n",
    "# chain = RetrievalQAWithSourcesChain.from_chain_type(\n",
    "#     ChatOpenAI(temperature=0), chain_type=\"stuff\", retriever=retriever\n",
    "# )\n",
    "# chain(\n",
    "#     {\"question\": \"What did the president say about Justice Breyer\"},\n",
    "#     return_only_outputs=True,\n",
    "# )"
   ]
  },
  {
   "cell_type": "markdown",
   "id": "cdc9418c",
   "metadata": {},
   "source": [
    "### Stop VDMS Server"
   ]
  },
  {
   "cell_type": "code",
   "execution_count": 14,
   "metadata": {},
   "outputs": [
    {
     "name": "stderr",
     "output_type": "stream",
     "text": [
      "huggingface/tokenizers: The current process just got forked, after parallelism has already been used. Disabling parallelism to avoid deadlocks...\n",
      "To disable this warning, you can either:\n",
      "\t- Avoid using `tokenizers` before the fork if possible\n",
      "\t- Explicitly set the environment variable TOKENIZERS_PARALLELISM=(true | false)\n"
     ]
    },
    {
     "name": "stdout",
     "output_type": "stream",
     "text": [
      "vdms_vs_nb\n"
     ]
    }
   ],
   "source": [
    "!docker kill vdms_vs_nb"
   ]
  }
 ],
 "metadata": {
  "kernelspec": {
   "display_name": "Python 3 (ipykernel)",
   "language": "python",
   "name": "python3"
  },
  "language_info": {
   "codemirror_mode": {
    "name": "ipython",
    "version": 3
   },
   "file_extension": ".py",
   "mimetype": "text/x-python",
   "name": "python",
   "nbconvert_exporter": "python",
   "pygments_lexer": "ipython3",
   "version": "3.9.18"
  }
 },
 "nbformat": 4,
 "nbformat_minor": 5
}
