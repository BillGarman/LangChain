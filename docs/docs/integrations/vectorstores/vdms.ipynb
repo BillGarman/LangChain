{
 "cells": [
  {
   "cell_type": "markdown",
   "id": "683953b3",
   "metadata": {},
   "source": [
    "# Visual Data Management System (VDMS)\n",
    "\n",
    ">[VDMS](https://github.com/IntelLabs/vdms) is a storage solution for efficient access of big-”visual”-data that aims to achieve cloud scale by searching for relevant visual data via visual metadata stored as a graph and enabling machine friendly enhancements to visual data for faster access. VDMS is licensed under MIT.\n",
    "\n",
    "It supports:\n",
    "- K nearest neighbor search\n",
    "- Euclidean distance (L2) and inner product (IP)\n",
    "- Vector and metadata searches\n",
    "\n",
    "See the [installation instructions](https://github.com/IntelLabs/vdms/blob/master/INSTALL.md) and [docker image](https://hub.docker.com/r/intellabs/vdms).\n",
    "\n",
    "This notebook shows how to use VDMS as a vector store using the docker image.\n",
    "\n",
    "\n",
    "Install Python packages for VDMS client and Sentence Transformers:"
   ]
  },
  {
   "cell_type": "code",
   "execution_count": 1,
   "id": "2167badd",
   "metadata": {},
   "outputs": [
    {
     "name": "stdout",
     "output_type": "stream",
     "text": [
      "Note: you may need to restart the kernel to use updated packages.\n"
     ]
    }
   ],
   "source": [
    "# Pip install necessary package\n",
    "%pip install --upgrade --quiet pip sentence-transformers vdms"
   ]
  },
  {
   "cell_type": "markdown",
   "id": "af2b4512",
   "metadata": {},
   "source": [
    "## Start VDMS Server\n",
    "Here we start the VDMS server with port 55555."
   ]
  },
  {
   "cell_type": "code",
   "execution_count": 2,
   "id": "4b1537c7",
   "metadata": {},
   "outputs": [
    {
     "name": "stdout",
     "output_type": "stream",
     "text": [
      "a115b72998c9368f679d49acdb4bd834de9d1a7c464189c2da3befa3a5c10a61\n"
     ]
    }
   ],
   "source": [
    "!docker run --rm -d -p 55555:55555 --name vdms_vs_test_nb intellabs/vdms:latest"
   ]
  },
  {
   "cell_type": "markdown",
   "id": "2b5ffbf8",
   "metadata": {},
   "source": [
    "## Basic Example (using the Docker Container)\n",
    "\n",
    "In this basic example, we demonstrate adding documents into VDMS and using it as a vector database.\n",
    "\n",
    "You can run the VDMS Server in a Docker container separately to use with LangChain. \n",
    "\n",
    "VDMS has the ability to handle multiple collections of documents, but the LangChain interface expects one, so we need to specify the name of the collection . The default collection name used by LangChain is \"langchain\".\n"
   ]
  },
  {
   "cell_type": "code",
   "execution_count": 3,
   "id": "5201ba0c",
   "metadata": {},
   "outputs": [],
   "source": [
    "from langchain_community.document_loaders import TextLoader\n",
    "from langchain.text_splitter import CharacterTextSplitter\n",
    "from langchain_community.vectorstores.vdms import VDMS\n",
    "from langchain_community.embeddings import HuggingFaceEmbeddings\n",
    "\n",
    "import time\n",
    "time.sleep(2)\n",
    "DELIMITER = \"-\" * 50\n",
    "\n",
    "# Configurations\n",
    "connection_args={\"host\": \"localhost\", \"port\": 55555}"
   ]
  },
  {
   "cell_type": "markdown",
   "id": "935069bc",
   "metadata": {},
   "source": [
    "Here are some helper functions for printing results."
   ]
  },
  {
   "cell_type": "code",
   "execution_count": 4,
   "id": "e78814eb",
   "metadata": {},
   "outputs": [],
   "source": [
    "def print_document_details(doc):\n",
    "    print(f\"Content:\\n\\t{doc.page_content}\\n\")\n",
    "    print(f\"Metadata:\")\n",
    "    for key, value in doc.metadata.items():\n",
    "        if value != 'Missing property':\n",
    "            print(f\"\\t{key}:\\t{value}\")\n",
    "\n",
    "def print_results(similarity_results, score=True):\n",
    "    print(f\"{DELIMITER}\\n\")\n",
    "    if score:\n",
    "        for doc, score in similarity_results:\n",
    "            print(f\"Score:\\t{score}\\n\")\n",
    "            print_document_details(doc)\n",
    "            print(f\"{DELIMITER}\\n\")\n",
    "    else:\n",
    "        for doc in similarity_results:\n",
    "            print_document_details(doc)\n",
    "            print(f\"{DELIMITER}\\n\")\n",
    "\n",
    "def print_response(list_of_entities):\n",
    "    for ent in list_of_entities:\n",
    "        for key, value in ent.items():\n",
    "            if value != 'Missing property':\n",
    "                print(f\"\\n{key}:\\n\\t{value}\")\n",
    "        print(f\"{DELIMITER}\\n\")"
   ]
  },
  {
   "cell_type": "markdown",
   "id": "88229867",
   "metadata": {},
   "source": [
    "### Load Document and Obtain Embedding Function\n",
    "Here we load the most recent State of the Union Address and split the document into chunks.  We also specify the embedding model to be used."
   ]
  },
  {
   "cell_type": "code",
   "execution_count": 5,
   "id": "2ebfc16c",
   "metadata": {},
   "outputs": [
    {
     "name": "stdout",
     "output_type": "stream",
     "text": [
      "# Documents: 42\n",
      "# Embedding Dimensions: 768\n"
     ]
    }
   ],
   "source": [
    "# load the document and split it into chunks\n",
    "document_path = \"../../modules/state_of_the_union.txt\"\n",
    "raw_documents = TextLoader(document_path).load()\n",
    "\n",
    "# split it into chunks\n",
    "text_splitter = CharacterTextSplitter(chunk_size=1000, chunk_overlap=0)\n",
    "docs = text_splitter.split_documents(raw_documents)\n",
    "print(f\"# Documents: {len(docs)}\")\n",
    "\n",
    "# create the open-source embedding function\n",
    "embedding_function = HuggingFaceEmbeddings()\n",
    "print(\n",
    "    f\"# Embedding Dimensions: {len(embedding_function.embed_query('This is a test document.'))}\"\n",
    ")"
   ]
  },
  {
   "cell_type": "markdown",
   "id": "d6760491",
   "metadata": {},
   "source": [
    "### Similarity Search using Flinng and Inner Product\n",
    "\n",
    "In this section, we add the documents to VDMS using FLINNG indexing and Inner Product as the distance metric for similarity search. We search for one document (`k=1`) related to the query `What did the president say about Ketanji Brown Jackson` and also return the score along with the document.\n",
    "\n",
    "LangChain vector stores use a string/keyword `id` for bookkeeping documents. By default, `id` is a uuid but here we're defining it as an integer cast as a string."
   ]
  },
  {
   "cell_type": "code",
   "execution_count": 6,
   "id": "811b06fd",
   "metadata": {},
   "outputs": [
    {
     "name": "stdout",
     "output_type": "stream",
     "text": [
      "--------------------------------------------------\n",
      "\n",
      "Score:\t0.0\n",
      "\n",
      "Content:\n",
      "\tMadam Speaker, Madam Vice President, our First Lady and Second Gentleman. Members of Congress and the Cabinet. Justices of the Supreme Court. My fellow Americans.  \n",
      "\n",
      "Last year COVID-19 kept us apart. This year we are finally together again. \n",
      "\n",
      "Tonight, we meet as Democrats Republicans and Independents. But most importantly as Americans. \n",
      "\n",
      "With a duty to one another to the American people to the Constitution. \n",
      "\n",
      "And with an unwavering resolve that freedom will always triumph over tyranny. \n",
      "\n",
      "Six days ago, Russia’s Vladimir Putin sought to shake the foundations of the free world thinking he could make it bend to his menacing ways. But he badly miscalculated. \n",
      "\n",
      "He thought he could roll into Ukraine and the world would roll over. Instead he met a wall of strength he never imagined. \n",
      "\n",
      "He met the Ukrainian people. \n",
      "\n",
      "From President Zelenskyy to every Ukrainian, their fearlessness, their courage, their determination, inspires the world.\n",
      "\n",
      "Metadata:\n",
      "\tid:\t1\n",
      "\tsource:\t../../modules/state_of_the_union.txt\n",
      "--------------------------------------------------\n",
      "\n"
     ]
    }
   ],
   "source": [
    "db_flinng = VDMS.from_documents(\n",
    "    docs,\n",
    "    ids=[str(i) for i in range(1, len(docs) + 1)],\n",
    "    collection_name=\"my_collection_flinng_IP\",\n",
    "    embedding_function=embedding_function,\n",
    "    engine=\"Flinng\",\n",
    "    distance_strategy=\"IP\",\n",
    "    connection_args=connection_args,\n",
    ")\n",
    "\n",
    "# Query\n",
    "k = 1\n",
    "query = \"What did the president say about Ketanji Brown Jackson\"\n",
    "docs_with_score = db_flinng.similarity_search_with_score(query, k, filter=None)\n",
    "print_results(docs_with_score)"
   ]
  },
  {
   "cell_type": "markdown",
   "id": "d4169644",
   "metadata": {},
   "source": [
    "### Similarity Search using Faiss Flat and Euclidean Distance (Default)\n",
    "\n",
    "In this section, we add the documents to VDMS using FAISS Flat indexing (default) and Euclidena distance (default) as the distance metric for simiarity search. We search for three documents (`k=3`) related to the query `What did the president say about Ketanji Brown Jackson`."
   ]
  },
  {
   "cell_type": "code",
   "execution_count": 7,
   "id": "6686e2c1",
   "metadata": {},
   "outputs": [
    {
     "name": "stdout",
     "output_type": "stream",
     "text": [
      "--------------------------------------------------\n",
      "\n",
      "Content:\n",
      "\tTonight. I call on the Senate to: Pass the Freedom to Vote Act. Pass the John Lewis Voting Rights Act. And while you’re at it, pass the Disclose Act so Americans can know who is funding our elections. \n",
      "\n",
      "Tonight, I’d like to honor someone who has dedicated his life to serve this country: Justice Stephen Breyer—an Army veteran, Constitutional scholar, and retiring Justice of the United States Supreme Court. Justice Breyer, thank you for your service. \n",
      "\n",
      "One of the most serious constitutional responsibilities a President has is nominating someone to serve on the United States Supreme Court. \n",
      "\n",
      "And I did that 4 days ago, when I nominated Circuit Court of Appeals Judge Ketanji Brown Jackson. One of our nation’s top legal minds, who will continue Justice Breyer’s legacy of excellence.\n",
      "\n",
      "Metadata:\n",
      "\tid:\t32\n",
      "\tsource:\t../../modules/state_of_the_union.txt\n",
      "--------------------------------------------------\n",
      "\n",
      "Content:\n",
      "\tAs Frances Haugen, who is here with us tonight, has shown, we must hold social media platforms accountable for the national experiment they’re conducting on our children for profit. \n",
      "\n",
      "It’s time to strengthen privacy protections, ban targeted advertising to children, demand tech companies stop collecting personal data on our children. \n",
      "\n",
      "And let’s get all Americans the mental health services they need. More people they can turn to for help, and full parity between physical and mental health care. \n",
      "\n",
      "Third, support our veterans. \n",
      "\n",
      "Veterans are the best of us. \n",
      "\n",
      "I’ve always believed that we have a sacred obligation to equip all those we send to war and care for them and their families when they come home. \n",
      "\n",
      "My administration is providing assistance with job training and housing, and now helping lower-income veterans get VA care debt-free.  \n",
      "\n",
      "Our troops in Iraq and Afghanistan faced many dangers.\n",
      "\n",
      "Metadata:\n",
      "\tid:\t37\n",
      "\tsource:\t../../modules/state_of_the_union.txt\n",
      "--------------------------------------------------\n",
      "\n",
      "Content:\n",
      "\tA former top litigator in private practice. A former federal public defender. And from a family of public school educators and police officers. A consensus builder. Since she’s been nominated, she’s received a broad range of support—from the Fraternal Order of Police to former judges appointed by Democrats and Republicans. \n",
      "\n",
      "And if we are to advance liberty and justice, we need to secure the Border and fix the immigration system. \n",
      "\n",
      "We can do both. At our border, we’ve installed new technology like cutting-edge scanners to better detect drug smuggling.  \n",
      "\n",
      "We’ve set up joint patrols with Mexico and Guatemala to catch more human traffickers.  \n",
      "\n",
      "We’re putting in place dedicated immigration judges so families fleeing persecution and violence can have their cases heard faster. \n",
      "\n",
      "We’re securing commitments and supporting partners in South and Central America to host more refugees and secure their own borders.\n",
      "\n",
      "Metadata:\n",
      "\tid:\t33\n",
      "\tsource:\t../../modules/state_of_the_union.txt\n",
      "--------------------------------------------------\n",
      "\n"
     ]
    }
   ],
   "source": [
    "# create simple ids\n",
    "ids = [str(i) for i in range(1, len(docs) + 1)]\n",
    "\n",
    "# add data\n",
    "collection_name=\"my_collection_faiss_L2\"\n",
    "db = VDMS.from_documents(\n",
    "    docs,\n",
    "    ids=ids,\n",
    "    collection_name=collection_name,\n",
    "    embedding_function=embedding_function,\n",
    "    connection_args=connection_args,\n",
    ")\n",
    "\n",
    "# Query\n",
    "k = 3\n",
    "query = \"What did the president say about Ketanji Brown Jackson\"\n",
    "docs = db.similarity_search(query)\n",
    "print_results(docs, score=False)"
   ]
  },
  {
   "cell_type": "markdown",
   "id": "9ed3ec50",
   "metadata": {},
   "source": [
    "### Update and Delete\n",
    "\n",
    "While building toward a real application, you want to go beyond adding data, and also update and delete data.\n",
    "\n",
    "Here is a basic example showing how to do so.  First we will update the metadata for the document most relevant to the query."
   ]
  },
  {
   "cell_type": "code",
   "execution_count": 8,
   "id": "81a02810",
   "metadata": {},
   "outputs": [
    {
     "name": "stdout",
     "output_type": "stream",
     "text": [
      "Original metadata: \n",
      "\t{'id': '32', 'source': '../../modules/state_of_the_union.txt'}\n",
      "new metadata: \n",
      "\t{'id': '32', 'source': '../../modules/state_of_the_union.txt', 'new_value': 'hello world'}\n",
      "--------------------------------------------------\n",
      "\n",
      "UPDATED ENTRY (id=32):\n",
      "\n",
      "content:\n",
      "\tTonight. I call on the Senate to: Pass the Freedom to Vote Act. Pass the John Lewis Voting Rights Act. And while you’re at it, pass the Disclose Act so Americans can know who is funding our elections. \n",
      "\n",
      "Tonight, I’d like to honor someone who has dedicated his life to serve this country: Justice Stephen Breyer—an Army veteran, Constitutional scholar, and retiring Justice of the United States Supreme Court. Justice Breyer, thank you for your service. \n",
      "\n",
      "One of the most serious constitutional responsibilities a President has is nominating someone to serve on the United States Supreme Court. \n",
      "\n",
      "And I did that 4 days ago, when I nominated Circuit Court of Appeals Judge Ketanji Brown Jackson. One of our nation’s top legal minds, who will continue Justice Breyer’s legacy of excellence.\n",
      "\n",
      "id:\n",
      "\t32\n",
      "\n",
      "new_value:\n",
      "\thello world\n",
      "\n",
      "source:\n",
      "\t../../modules/state_of_the_union.txt\n",
      "--------------------------------------------------\n",
      "\n"
     ]
    }
   ],
   "source": [
    "doc = db.similarity_search(query)[0]\n",
    "print(f\"Original metadata: \\n\\t{doc.metadata}\")\n",
    "\n",
    "# update the metadata for a document\n",
    "doc.metadata[\"new_value\"] = \"hello world\"\n",
    "print(f\"new metadata: \\n\\t{doc.metadata}\")\n",
    "print(f\"{DELIMITER}\\n\")\n",
    "\n",
    "# Update document in VDMS\n",
    "id_to_update = doc.metadata[\"id\"]\n",
    "db.update_document(collection_name, id_to_update, doc)\n",
    "response, response_array = db.get(collection_name, constraints={\"id\": [\"==\", id_to_update]})\n",
    "\n",
    "# Display Results\n",
    "print(f\"UPDATED ENTRY (id={id_to_update}):\")\n",
    "print_response([response[0]['FindDescriptor']['entities'][0]])"
   ]
  },
  {
   "cell_type": "markdown",
   "id": "872a7dff",
   "metadata": {},
   "source": [
    "Next we will delete the last document by ID (id=42)."
   ]
  },
  {
   "cell_type": "code",
   "execution_count": 9,
   "id": "95537fe8",
   "metadata": {},
   "outputs": [
    {
     "name": "stdout",
     "output_type": "stream",
     "text": [
      "Documents before deletion:  42\n",
      "Documents after deletion (id=42):  41\n"
     ]
    }
   ],
   "source": [
    "print(\"Documents before deletion: \", db.count(collection_name))\n",
    "\n",
    "id_to_remove = ids[-1]\n",
    "db.delete(collection_name=collection_name, ids=[id_to_remove])\n",
    "print(f\"Documents after deletion (id={id_to_remove}): \", db.count(collection_name))"
   ]
  },
  {
   "cell_type": "markdown",
   "id": "18152965",
   "metadata": {},
   "source": [
    "## Other Information\n",
    "### Similarity search by vector\n",
    "Instead of searching by string query, you can also search by embedding/vector."
   ]
  },
  {
   "cell_type": "code",
   "execution_count": 10,
   "id": "1db4d6ed",
   "metadata": {},
   "outputs": [
    {
     "name": "stdout",
     "output_type": "stream",
     "text": [
      "Content:\n",
      "\tTonight. I call on the Senate to: Pass the Freedom to Vote Act. Pass the John Lewis Voting Rights Act. And while you’re at it, pass the Disclose Act so Americans can know who is funding our elections. \n",
      "\n",
      "Tonight, I’d like to honor someone who has dedicated his life to serve this country: Justice Stephen Breyer—an Army veteran, Constitutional scholar, and retiring Justice of the United States Supreme Court. Justice Breyer, thank you for your service. \n",
      "\n",
      "One of the most serious constitutional responsibilities a President has is nominating someone to serve on the United States Supreme Court. \n",
      "\n",
      "And I did that 4 days ago, when I nominated Circuit Court of Appeals Judge Ketanji Brown Jackson. One of our nation’s top legal minds, who will continue Justice Breyer’s legacy of excellence.\n",
      "\n",
      "Metadata:\n",
      "\tid:\t32\n",
      "\tnew_value:\thello world\n",
      "\tsource:\t../../modules/state_of_the_union.txt\n"
     ]
    }
   ],
   "source": [
    "embedding_vector = embedding_function.embed_query(query)\n",
    "docs = db.similarity_search_by_vector(embedding_vector)\n",
    "\n",
    "# Print Results\n",
    "print_document_details(docs[0])"
   ]
  },
  {
   "cell_type": "markdown",
   "id": "daf718b2",
   "metadata": {},
   "source": [
    "### Filtering on metadata\n",
    "\n",
    "It can be helpful to narrow down the collection before working with it.\n",
    "\n",
    "For example, collections can be filtered on metadata using the get method.  Here we retrieve the document where `id = 2`."
   ]
  },
  {
   "cell_type": "code",
   "execution_count": 11,
   "id": "2bc0313b",
   "metadata": {},
   "outputs": [
    {
     "name": "stdout",
     "output_type": "stream",
     "text": [
      "Returned entry:\n",
      "\n",
      "content:\n",
      "\tGroups of citizens blocking tanks with their bodies. Everyone from students to retirees teachers turned soldiers defending their homeland. \n",
      "\n",
      "In this struggle as President Zelenskyy said in his speech to the European Parliament “Light will win over darkness.” The Ukrainian Ambassador to the United States is here tonight. \n",
      "\n",
      "Let each of us here tonight in this Chamber send an unmistakable signal to Ukraine and to the world. \n",
      "\n",
      "Please rise if you are able and show that, Yes, we the United States of America stand with the Ukrainian people. \n",
      "\n",
      "Throughout our history we’ve learned this lesson when dictators do not pay a price for their aggression they cause more chaos.   \n",
      "\n",
      "They keep moving.   \n",
      "\n",
      "And the costs and the threats to America and the world keep rising.   \n",
      "\n",
      "That’s why the NATO Alliance was created to secure peace and stability in Europe after World War 2. \n",
      "\n",
      "The United States is a member along with 29 other nations. \n",
      "\n",
      "It matters. American diplomacy matters. American resolve matters.\n",
      "\n",
      "id:\n",
      "\t2\n",
      "\n",
      "source:\n",
      "\t../../modules/state_of_the_union.txt\n",
      "--------------------------------------------------\n",
      "\n"
     ]
    }
   ],
   "source": [
    "response, response_array = db.get(collection_name,\n",
    "                                  limit=1,\n",
    "                                  constraints={\"id\": [\"==\", \"2\"]}\n",
    ")\n",
    "\n",
    "print(f\"Returned entry:\")\n",
    "print_response([response[0]['FindDescriptor']['entities'][0]])"
   ]
  },
  {
   "cell_type": "markdown",
   "id": "794a7552",
   "metadata": {},
   "source": [
    "### Retriever options\n",
    "\n",
    "This section goes over different options for how to use VDMS as a retriever.\n",
    "\n",
    "\n",
    "#### Simiarity Search\n",
    "\n",
    "Here we use similarity search in the retriever object.\n"
   ]
  },
  {
   "cell_type": "code",
   "execution_count": 12,
   "id": "120f55eb",
   "metadata": {},
   "outputs": [
    {
     "name": "stdout",
     "output_type": "stream",
     "text": [
      "Content:\n",
      "\tTonight. I call on the Senate to: Pass the Freedom to Vote Act. Pass the John Lewis Voting Rights Act. And while you’re at it, pass the Disclose Act so Americans can know who is funding our elections. \n",
      "\n",
      "Tonight, I’d like to honor someone who has dedicated his life to serve this country: Justice Stephen Breyer—an Army veteran, Constitutional scholar, and retiring Justice of the United States Supreme Court. Justice Breyer, thank you for your service. \n",
      "\n",
      "One of the most serious constitutional responsibilities a President has is nominating someone to serve on the United States Supreme Court. \n",
      "\n",
      "And I did that 4 days ago, when I nominated Circuit Court of Appeals Judge Ketanji Brown Jackson. One of our nation’s top legal minds, who will continue Justice Breyer’s legacy of excellence.\n",
      "\n",
      "Metadata:\n",
      "\tid:\t32\n",
      "\tnew_value:\thello world\n",
      "\tsource:\t../../modules/state_of_the_union.txt\n"
     ]
    }
   ],
   "source": [
    "retriever = db.as_retriever()\n",
    "relevant_docs = retriever.get_relevant_documents(query)[0]\n",
    "\n",
    "print_document_details(relevant_docs)"
   ]
  },
  {
   "cell_type": "markdown",
   "id": "e8c0fb24",
   "metadata": {},
   "source": [
    "#### Maximal Marginal Relevance Search (MMR)\n",
    "\n",
    "In addition to using similarity search in the retriever object, you can also use `mmr`."
   ]
  },
  {
   "cell_type": "code",
   "execution_count": 13,
   "id": "f00be6d0",
   "metadata": {},
   "outputs": [
    {
     "name": "stdout",
     "output_type": "stream",
     "text": [
      "Content:\n",
      "\tTonight. I call on the Senate to: Pass the Freedom to Vote Act. Pass the John Lewis Voting Rights Act. And while you’re at it, pass the Disclose Act so Americans can know who is funding our elections. \n",
      "\n",
      "Tonight, I’d like to honor someone who has dedicated his life to serve this country: Justice Stephen Breyer—an Army veteran, Constitutional scholar, and retiring Justice of the United States Supreme Court. Justice Breyer, thank you for your service. \n",
      "\n",
      "One of the most serious constitutional responsibilities a President has is nominating someone to serve on the United States Supreme Court. \n",
      "\n",
      "And I did that 4 days ago, when I nominated Circuit Court of Appeals Judge Ketanji Brown Jackson. One of our nation’s top legal minds, who will continue Justice Breyer’s legacy of excellence.\n",
      "\n",
      "Metadata:\n",
      "\tid:\t32\n",
      "\tnew_value:\thello world\n",
      "\tsource:\t../../modules/state_of_the_union.txt\n"
     ]
    }
   ],
   "source": [
    "retriever = db.as_retriever(search_type=\"mmr\")\n",
    "relevant_docs = retriever.get_relevant_documents(query)[0]\n",
    "\n",
    "print_document_details(relevant_docs)"
   ]
  },
  {
   "cell_type": "markdown",
   "id": "ffadbafc",
   "metadata": {},
   "source": [
    "We can also use MMR directly."
   ]
  },
  {
   "cell_type": "code",
   "execution_count": 14,
   "id": "ab911470",
   "metadata": {},
   "outputs": [
    {
     "name": "stdout",
     "output_type": "stream",
     "text": [
      "--------------------------------------------------\n",
      "\n",
      "Score:\t1.2032092809677124\n",
      "\n",
      "Content:\n",
      "\tTonight. I call on the Senate to: Pass the Freedom to Vote Act. Pass the John Lewis Voting Rights Act. And while you’re at it, pass the Disclose Act so Americans can know who is funding our elections. \n",
      "\n",
      "Tonight, I’d like to honor someone who has dedicated his life to serve this country: Justice Stephen Breyer—an Army veteran, Constitutional scholar, and retiring Justice of the United States Supreme Court. Justice Breyer, thank you for your service. \n",
      "\n",
      "One of the most serious constitutional responsibilities a President has is nominating someone to serve on the United States Supreme Court. \n",
      "\n",
      "And I did that 4 days ago, when I nominated Circuit Court of Appeals Judge Ketanji Brown Jackson. One of our nation’s top legal minds, who will continue Justice Breyer’s legacy of excellence.\n",
      "\n",
      "Metadata:\n",
      "\tid:\t32\n",
      "\tnew_value:\thello world\n",
      "\tsource:\t../../modules/state_of_the_union.txt\n",
      "--------------------------------------------------\n",
      "\n",
      "Score:\t1.507053256034851\n",
      "\n",
      "Content:\n",
      "\tBut cancer from prolonged exposure to burn pits ravaged Heath’s lungs and body. \n",
      "\n",
      "Danielle says Heath was a fighter to the very end. \n",
      "\n",
      "He didn’t know how to stop fighting, and neither did she. \n",
      "\n",
      "Through her pain she found purpose to demand we do better. \n",
      "\n",
      "Tonight, Danielle—we are. \n",
      "\n",
      "The VA is pioneering new ways of linking toxic exposures to diseases, already helping more veterans get benefits. \n",
      "\n",
      "And tonight, I’m announcing we’re expanding eligibility to veterans suffering from nine respiratory cancers. \n",
      "\n",
      "I’m also calling on Congress: pass a law to make sure veterans devastated by toxic exposures in Iraq and Afghanistan finally get the benefits and comprehensive health care they deserve. \n",
      "\n",
      "And fourth, let’s end cancer as we know it. \n",
      "\n",
      "This is personal to me and Jill, to Kamala, and to so many of you. \n",
      "\n",
      "Cancer is the #2 cause of death in America–second only to heart disease.\n",
      "\n",
      "Metadata:\n",
      "\tid:\t39\n",
      "\tsource:\t../../modules/state_of_the_union.txt\n",
      "--------------------------------------------------\n",
      "\n"
     ]
    }
   ],
   "source": [
    "mmr_resp = db.max_marginal_relevance_search_with_score(query, k=2, fetch_k=10)\n",
    "print_results(mmr_resp)"
   ]
  },
  {
   "cell_type": "markdown",
   "id": "190bc4b5",
   "metadata": {},
   "source": [
    "### Delete collection\n",
    "Previously, we removed documents using ID. Here, all documents are removed since no ID is provided."
   ]
  },
  {
   "cell_type": "code",
   "execution_count": 15,
   "id": "874e7af9",
   "metadata": {},
   "outputs": [
    {
     "name": "stdout",
     "output_type": "stream",
     "text": [
      "Documents before deletion:  41\n",
      "Documents after deletion:  0\n"
     ]
    }
   ],
   "source": [
    "print(\"Documents before deletion: \", db.count(collection_name))\n",
    "\n",
    "db.delete(collection_name=collection_name)\n",
    "\n",
    "print(f\"Documents after deletion: \", db.count(collection_name))"
   ]
  },
  {
   "cell_type": "markdown",
   "id": "68b7a400",
   "metadata": {},
   "source": [
    "## Stop VDMS Server"
   ]
  },
  {
   "cell_type": "code",
   "execution_count": 16,
   "id": "08931796",
   "metadata": {},
   "outputs": [
    {
     "name": "stderr",
     "output_type": "stream",
     "text": [
      "huggingface/tokenizers: The current process just got forked, after parallelism has already been used. Disabling parallelism to avoid deadlocks...\n",
      "To disable this warning, you can either:\n",
      "\t- Avoid using `tokenizers` before the fork if possible\n",
      "\t- Explicitly set the environment variable TOKENIZERS_PARALLELISM=(true | false)\n"
     ]
    },
    {
     "name": "stdout",
     "output_type": "stream",
     "text": [
      "vdms_vs_test_nb\n"
     ]
    }
   ],
   "source": [
    "!docker kill vdms_vs_test_nb"
   ]
  }
 ],
 "metadata": {
  "kernelspec": {
   "display_name": "Python 3 (ipykernel)",
   "language": "python",
   "name": "python3"
  },
  "language_info": {
   "codemirror_mode": {
    "name": "ipython",
    "version": 3
   },
   "file_extension": ".py",
   "mimetype": "text/x-python",
   "name": "python",
   "nbconvert_exporter": "python",
   "pygments_lexer": "ipython3",
   "version": "3.10.13"
  }
 },
 "nbformat": 4,
 "nbformat_minor": 5
}
