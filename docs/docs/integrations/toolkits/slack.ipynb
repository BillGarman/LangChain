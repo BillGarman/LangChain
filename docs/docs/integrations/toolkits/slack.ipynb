{
 "cells": [
  {
   "cell_type": "code",
   "execution_count": 1,
   "metadata": {},
   "outputs": [],
   "source": [
    "# !pip install slack_sdk\n",
    "# get slack token: https://api.slack.com/tutorials/tracks/getting-a-token\n",
    "import os\n",
    "os.environ[\"OPENAI_API_KEY\"] = \"\"\n",
    "os.environ[\"SLACK_BOT_TOKEN\"]= \"\"\n",
    "os.environ[\"SLACK_USER_TOKEN\"]= \"\""
   ]
  },
  {
   "cell_type": "code",
   "execution_count": 3,
   "metadata": {},
   "outputs": [
    {
     "data": {
      "text/plain": [
       "[SlackSendMessage(client=<slack_sdk.web.client.WebClient object at 0x7fec0c353310>),\n",
       " SlackGetChannel(client=<slack_sdk.web.client.WebClient object at 0x7fec0c353610>),\n",
       " SlackGetMessage(client=<slack_sdk.web.client.WebClient object at 0x7febddd12fd0>)]"
      ]
     },
     "execution_count": 3,
     "metadata": {},
     "output_type": "execute_result"
    }
   ],
   "source": [
    "from langchain.agents.agent_toolkits import SlackToolkit\n",
    "toolkit = SlackToolkit()\n",
    "tools = toolkit.get_tools()\n",
    "tools\n"
   ]
  },
  {
   "cell_type": "code",
   "execution_count": 4,
   "metadata": {},
   "outputs": [],
   "source": [
    "from langchain.tools.slack.send_message import SlackSendMessage\n",
    "tool = SlackSendMessage()\n",
    "output = tool._run(message= \"hi tool run\", channel=\"C0659C2D43F\" )"
   ]
  },
  {
   "cell_type": "code",
   "execution_count": 7,
   "metadata": {},
   "outputs": [],
   "source": [
    "from langchain.tools.slack.get_channel import SlackGetChannel\n",
    "tool = SlackGetChannel()\n",
    "output = tool._run()"
   ]
  },
  {
   "cell_type": "code",
   "execution_count": 8,
   "metadata": {},
   "outputs": [],
   "source": [
    "from langchain.tools.slack.get_message import SlackGetMessage\n",
    "tool = SlackGetMessage()\n",
    "output = tool._run(channel_id=\"C0659C2D43F\")"
   ]
  },
  {
   "cell_type": "code",
   "execution_count": 9,
   "metadata": {},
   "outputs": [],
   "source": [
    "# init an agent to use the slack toolkit\n",
    "from langchain.llms import OpenAI\n",
    "from langchain.agents import initialize_agent, AgentType\n",
    "\n",
    "llm = OpenAI(temperature=0)\n",
    "agent = initialize_agent(\n",
    "    tools=toolkit.get_tools(),\n",
    "    llm=llm,\n",
    "    verbose=False,\n",
    "    agent=AgentType.STRUCTURED_CHAT_ZERO_SHOT_REACT_DESCRIPTION,\n",
    ")"
   ]
  },
  {
   "cell_type": "code",
   "execution_count": 12,
   "metadata": {},
   "outputs": [
    {
     "data": {
      "text/plain": [
       "\"The message 'hithere' was successfully sent to the channel 'joytest'.\""
      ]
     },
     "execution_count": 12,
     "metadata": {},
     "output_type": "execute_result"
    }
   ],
   "source": [
    "# send message to channel\n",
    "agent.run(\"send message 'hithere' to channel with name 'joytest'\")"
   ]
  },
  {
   "cell_type": "code",
   "execution_count": 14,
   "metadata": {},
   "outputs": [
    {
     "data": {
      "text/plain": [
       "\"There are 6 channels: 'wilson_test_channel', 'random', 'dueoct19identifyingissue', 'general', 'joytest', and 'jerrytest'. The earliest created channel is 'general', which has 5 members.\""
      ]
     },
     "execution_count": 14,
     "metadata": {},
     "output_type": "execute_result"
    }
   ],
   "source": [
    "# admin\n",
    "agent.run(\"how many channels are there? what are their names? which one was created earliest? How many members are in each\")"
   ]
  },
  {
   "cell_type": "code",
   "execution_count": 8,
   "metadata": {},
   "outputs": [
    {
     "data": {
      "text/plain": [
       "\"There are 28 messages in channel 'C0659C2D43F'.\""
      ]
     },
     "execution_count": 8,
     "metadata": {},
     "output_type": "execute_result"
    }
   ],
   "source": [
    "# get message history of channel\n",
    "agent.run(\"how many messages are there in channel 'general' ?\")"
   ]
  }
 ],
 "metadata": {
  "kernelspec": {
   "display_name": "Python 3 (ipykernel)",
   "language": "python",
   "name": "python3"
  },
  "language_info": {
   "codemirror_mode": {
    "name": "ipython",
    "version": 3
   },
   "file_extension": ".py",
   "mimetype": "text/x-python",
   "name": "python",
   "nbconvert_exporter": "python",
   "pygments_lexer": "ipython3",
   "version": "3.11.4"
  }
 },
 "nbformat": 4,
 "nbformat_minor": 4
}
