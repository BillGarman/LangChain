{
 "cells": [
  {
   "cell_type": "markdown",
   "metadata": {},
   "source": [
    "# Slack\n",
    "\n",
    "This notebook walks through connecting LangChain to your `Slack` account.\n",
    "\n",
    "To use this toolkit, you will need to get a token explained in the [Slack API docs](https://api.slack.com/tutorials/tracks/getting-a-token). Once you've received a SLACK_USER_TOKEN, you can input it as an environmental variable below."
   ]
  },
  {
   "cell_type": "code",
   "execution_count": 8,
   "metadata": {},
   "outputs": [
    {
     "name": "stdout",
     "output_type": "stream",
     "text": [
      "\n",
      "\u001B[1m[\u001B[0m\u001B[34;49mnotice\u001B[0m\u001B[1;39;49m]\u001B[0m\u001B[39;49m A new release of pip is available: \u001B[0m\u001B[31;49m23.2.1\u001B[0m\u001B[39;49m -> \u001B[0m\u001B[32;49m23.3.2\u001B[0m\n",
      "\u001B[1m[\u001B[0m\u001B[34;49mnotice\u001B[0m\u001B[1;39;49m]\u001B[0m\u001B[39;49m To update, run: \u001B[0m\u001B[32;49mpip install --upgrade pip\u001B[0m\n",
      "Note: you may need to restart the kernel to use updated packages.\n",
      "\n",
      "\u001B[1m[\u001B[0m\u001B[34;49mnotice\u001B[0m\u001B[1;39;49m]\u001B[0m\u001B[39;49m A new release of pip is available: \u001B[0m\u001B[31;49m23.2.1\u001B[0m\u001B[39;49m -> \u001B[0m\u001B[32;49m23.3.2\u001B[0m\n",
      "\u001B[1m[\u001B[0m\u001B[34;49mnotice\u001B[0m\u001B[1;39;49m]\u001B[0m\u001B[39;49m To update, run: \u001B[0m\u001B[32;49mpip install --upgrade pip\u001B[0m\n",
      "Note: you may need to restart the kernel to use updated packages.\n",
      "\n",
      "\u001B[1m[\u001B[0m\u001B[34;49mnotice\u001B[0m\u001B[1;39;49m]\u001B[0m\u001B[39;49m A new release of pip is available: \u001B[0m\u001B[31;49m23.2.1\u001B[0m\u001B[39;49m -> \u001B[0m\u001B[32;49m23.3.2\u001B[0m\n",
      "\u001B[1m[\u001B[0m\u001B[34;49mnotice\u001B[0m\u001B[1;39;49m]\u001B[0m\u001B[39;49m To update, run: \u001B[0m\u001B[32;49mpip install --upgrade pip\u001B[0m\n",
      "Note: you may need to restart the kernel to use updated packages.\n"
     ]
    }
   ],
   "source": [
    "%pip install --upgrade --quiet  slack_sdk > /dev/null\n",
    "%pip install --upgrade --quiet  beautifulsoup4 > /dev/null # This is optional but is useful for parsing HTML messages\n",
    "%pip install --upgrade --quiet  python-dotenv > /dev/null # This is for loading environmental variables from a .env file"
   ]
  },
  {
   "cell_type": "markdown",
   "metadata": {},
   "source": [
    "## Set Environmental Variables\n",
    "\n",
    "The toolkit will read the SLACK_USER_TOKEN environmental variable to authenticate the user so you need to set them here. You will also need to set your OPENAI_API_KEY to use the agent later."
   ]
  },
  {
   "cell_type": "code",
   "execution_count": 9,
   "metadata": {},
   "outputs": [
    {
     "data": {
      "text/plain": [
       "True"
      ]
     },
     "execution_count": 9,
     "metadata": {},
     "output_type": "execute_result"
    }
   ],
   "source": [
    "# Set environmental variables here\n",
    "# In this example, you set environmental variables by loading a .env file.\n",
    "import dotenv\n",
    "\n",
    "dotenv.load_dotenv()"
   ]
  },
  {
   "cell_type": "markdown",
   "metadata": {},
   "source": [
    "## Create the Toolkit and Get Tools\n",
    "\n",
    "To start, you need to create the toolkit, so you can access its tools later."
   ]
  },
  {
   "cell_type": "code",
   "execution_count": 1,
   "metadata": {
    "ExecuteTime": {
     "end_time": "2024-03-19T13:22:14.465609Z",
     "start_time": "2024-03-19T13:22:14.263422Z"
    }
   },
   "outputs": [
    {
     "data": {
      "text/plain": "[SlackGetChannel(client=<slack_sdk.web.client.WebClient object at 0x10891b950>),\n SlackGetMessage(client=<slack_sdk.web.client.WebClient object at 0x10891b990>),\n SlackScheduleMessage(client=<slack_sdk.web.client.WebClient object at 0x108930fd0>),\n SlackSendMessage(client=<slack_sdk.web.client.WebClient object at 0x1089311d0>)]"
     },
     "execution_count": 1,
     "metadata": {},
     "output_type": "execute_result"
    }
   ],
   "source": [
    "from langchain_community.agent_toolkits import SlackToolkit\n",
    "\n",
    "toolkit = SlackToolkit()\n",
    "tools = toolkit.get_tools()\n",
    "tools"
   ]
  },
  {
   "cell_type": "markdown",
   "metadata": {},
   "source": [
    "## Use within an OpenAI Tools Agent"
   ]
  },
  {
   "cell_type": "code",
   "execution_count": 2,
   "metadata": {
    "ExecuteTime": {
     "end_time": "2024-03-19T13:23:01.675093Z",
     "start_time": "2024-03-19T13:23:00.794691Z"
    }
   },
   "outputs": [],
   "source": [
    "from langchain import hub\n",
    "from langchain.agents import AgentExecutor, create_openai_tools_agent\n",
    "from langchain_openai import ChatOpenAI"
   ]
  },
  {
   "cell_type": "code",
   "execution_count": 3,
   "metadata": {
    "ExecuteTime": {
     "end_time": "2024-03-19T13:23:14.947199Z",
     "start_time": "2024-03-19T13:23:11.495652Z"
    }
   },
   "outputs": [],
   "source": [
    "llm = ChatOpenAI(temperature=0, model=\"gpt-4\")\n",
    "prompt = hub.pull(\"hwchase17/openai-tools-agent\")\n",
    "agent = create_openai_tools_agent(\n",
    "    tools=toolkit.get_tools(),\n",
    "    llm=llm,\n",
    "    prompt=prompt,\n",
    ")\n",
    "agent_executor = AgentExecutor(agent=agent, tools=tools, verbose=True)"
   ]
  },
  {
   "cell_type": "code",
   "execution_count": 4,
   "metadata": {
    "ExecuteTime": {
     "end_time": "2024-03-19T13:23:39.376033Z",
     "start_time": "2024-03-19T13:23:19.731058Z"
    }
   },
   "outputs": [
    {
     "name": "stdout",
     "output_type": "stream",
     "text": [
      "\n",
      "\n",
      "\u001B[1m> Entering new AgentExecutor chain...\u001B[0m\n",
      "\u001B[32;1m\u001B[1;3m\n",
      "Invoking: `get_channelid_name_dict` with `{}`\n",
      "\n",
      "\n",
      "\u001B[0m\u001B[36;1m\u001B[1;3m[{\"id\": \"C05L9P6HA8N\", \"name\": \"随机\", \"created\": 1691248496, \"num_members\": 1}, {\"id\": \"C05LDF54S21\", \"name\": \"general\", \"created\": 1691248563, \"num_members\": 2}, {\"id\": \"C05M6441QU8\", \"name\": \"全体\", \"created\": 1691248496, \"num_members\": 1}]\u001B[0m\u001B[32;1m\u001B[1;3m\n",
      "Invoking: `send_message` with `{'message': \"Hello everyone, hope you're having a great day!\", 'channel': 'C05LDF54S21'}`\n",
      "\n",
      "\n",
      "\u001B[0m\u001B[36;1m\u001B[1;3mMessage sent: {'ok': True, 'channel': 'C05LDF54S21', 'ts': '1710854616.151859', 'message': {'user': 'U06QASVJT6D', 'type': 'message', 'ts': '1710854616.151859', 'bot_id': 'B06PV9X1ANR', 'app_id': 'A06PY7L4FMG', 'text': \"Hello everyone, hope you're having a great day!\", 'team': 'T05LDF3K01K', 'bot_profile': {'id': 'B06PV9X1ANR', 'app_id': 'A06PY7L4FMG', 'name': 'my-powerful-app', 'icons': {'image_36': 'https://a.slack-edge.com/80588/img/plugins/app/bot_36.png', 'image_48': 'https://a.slack-edge.com/80588/img/plugins/app/bot_48.png', 'image_72': 'https://a.slack-edge.com/80588/img/plugins/app/service_72.png'}, 'deleted': False, 'updated': 1710700040, 'team_id': 'T05LDF3K01K'}, 'blocks': [{'type': 'rich_text', 'block_id': 'ZjR', 'elements': [{'type': 'rich_text_section', 'elements': [{'type': 'text', 'text': \"Hello everyone, hope you're having a great day!\"}]}]}]}}\u001B[0m\u001B[32;1m\u001B[1;3mI have sent a greeting message to your coworkers in the #general channel.\u001B[0m\n",
      "\n",
      "\u001B[1m> Finished chain.\u001B[0m\n"
     ]
    },
    {
     "data": {
      "text/plain": "{'input': 'Send a greeting to my coworkers in the #general channel. Note use `channel` as key of channel id, and `message` as key of content to sent in the channel.',\n 'output': 'I have sent a greeting message to your coworkers in the #general channel.'}"
     },
     "execution_count": 4,
     "metadata": {},
     "output_type": "execute_result"
    }
   ],
   "source": [
    "agent_executor.invoke(\n",
    "    {\n",
    "        \"input\": \"Send a greeting to my coworkers in the #general channel. Note use `channel` as key of channel id, and `message` as key of content to sent in the channel.\"\n",
    "    }\n",
    ")"
   ]
  },
  {
   "cell_type": "code",
   "execution_count": 5,
   "metadata": {
    "ExecuteTime": {
     "end_time": "2024-03-19T13:25:20.941212Z",
     "start_time": "2024-03-19T13:25:09.867556Z"
    }
   },
   "outputs": [
    {
     "name": "stdout",
     "output_type": "stream",
     "text": [
      "\n",
      "\n",
      "\u001B[1m> Entering new AgentExecutor chain...\u001B[0m\n",
      "\u001B[32;1m\u001B[1;3m\n",
      "Invoking: `get_channelid_name_dict` with `{}`\n",
      "\n",
      "\n",
      "\u001B[0m\u001B[36;1m\u001B[1;3m[{\"id\": \"C05L9P6HA8N\", \"name\": \"随机\", \"created\": 1691248496, \"num_members\": 1}, {\"id\": \"C05LDF54S21\", \"name\": \"general\", \"created\": 1691248563, \"num_members\": 2}, {\"id\": \"C05M6441QU8\", \"name\": \"全体\", \"created\": 1691248496, \"num_members\": 1}]\u001B[0m\u001B[32;1m\u001B[1;3mThere are 3 channels in the workspace. Their names are:\n",
      "\n",
      "1. 随机\n",
      "2. general\n",
      "3. 全体\u001B[0m\n",
      "\n",
      "\u001B[1m> Finished chain.\u001B[0m\n"
     ]
    },
    {
     "data": {
      "text/plain": "{'input': 'How many channels are in the workspace? Please list out their names.',\n 'output': 'There are 3 channels in the workspace. Their names are:\\n\\n1. 随机\\n2. general\\n3. 全体'}"
     },
     "execution_count": 5,
     "metadata": {},
     "output_type": "execute_result"
    }
   ],
   "source": [
    "agent_executor.invoke(\n",
    "    {\n",
    "        \"input\": \"How many channels are in the workspace? Please list out their names.\"\n",
    "    }\n",
    ")"
   ]
  },
  {
   "cell_type": "code",
   "execution_count": 6,
   "metadata": {
    "ExecuteTime": {
     "end_time": "2024-03-19T13:26:42.298901Z",
     "start_time": "2024-03-19T13:25:27.937881Z"
    }
   },
   "outputs": [
    {
     "name": "stdout",
     "output_type": "stream",
     "text": [
      "\n",
      "\n",
      "\u001B[1m> Entering new AgentExecutor chain...\u001B[0m\n",
      "\u001B[32;1m\u001B[1;3m\n",
      "Invoking: `get_channelid_name_dict` with `{}`\n",
      "\n",
      "\n",
      "\u001B[0m\u001B[36;1m\u001B[1;3m[{\"id\": \"C05L9P6HA8N\", \"name\": \"随机\", \"created\": 1691248496, \"num_members\": 1}, {\"id\": \"C05LDF54S21\", \"name\": \"general\", \"created\": 1691248563, \"num_members\": 2}, {\"id\": \"C05M6441QU8\", \"name\": \"全体\", \"created\": 1691248496, \"num_members\": 1}]\u001B[0m\u001B[32;1m\u001B[1;3mI'm sorry, but I couldn't find a channel named #introductions. The available channels are #随机, #general, and #全体.\u001B[0m\n",
      "\n",
      "\u001B[1m> Finished chain.\u001B[0m\n"
     ]
    },
    {
     "data": {
      "text/plain": "{'input': 'Tell me the number of messages sent in the #introductions channel from the past month.',\n 'output': \"I'm sorry, but I couldn't find a channel named #introductions. The available channels are #随机, #general, and #全体.\"}"
     },
     "execution_count": 6,
     "metadata": {},
     "output_type": "execute_result"
    }
   ],
   "source": [
    "agent_executor.invoke(\n",
    "    {\n",
    "        \"input\": \"Tell me the number of messages sent in the #introductions channel from the past month.\"\n",
    "    }\n",
    ")"
   ]
  },
  {
   "cell_type": "code",
   "execution_count": null,
   "metadata": {},
   "outputs": [],
   "source": []
  }
 ],
 "metadata": {
  "kernelspec": {
   "display_name": "Python 3 (ipykernel)",
   "language": "python",
   "name": "python3"
  },
  "language_info": {
   "codemirror_mode": {
    "name": "ipython",
    "version": 3
   },
   "file_extension": ".py",
   "mimetype": "text/x-python",
   "name": "python",
   "nbconvert_exporter": "python",
   "pygments_lexer": "ipython3",
   "version": "3.9.6"
  }
 },
 "nbformat": 4,
 "nbformat_minor": 4
}
