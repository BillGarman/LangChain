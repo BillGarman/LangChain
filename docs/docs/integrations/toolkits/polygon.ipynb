{
 "cells": [
  {
   "cell_type": "markdown",
   "id": "e6fd05db-21c2-4227-9900-0840bc62cb31",
   "metadata": {},
   "source": [
    "# Polygon IO Toolkit\n",
    "\n",
    "This notebook shows how to use agents to interact with the Polygon IO toolkit. The toolkit provides access to Polygon's Stock Market Data API."
   ]
  },
  {
   "cell_type": "markdown",
   "id": "7d93e6bd-03d7-4d3c-b915-8b73164e2ad8",
   "metadata": {},
   "source": [
    "## Example Use:\n",
    "---\n",
    "### Initializing the agent"
   ]
  },
  {
   "cell_type": "code",
   "execution_count": null,
   "id": "648a2cb2-308e-4b2e-9b73-37109be4e258",
   "metadata": {
    "is_executing": true
   },
   "outputs": [],
   "source": [
    "from langchain import hub\n",
    "from langchain.agents import AgentExecutor, create_openai_functions_agent\n",
    "from langchain_openai import ChatOpenAI\n",
    "from langchain_community.agent_toolkits.polygon.toolkit import PolygonToolkit\n",
    "from langchain_community.utilities.polygon import PolygonAPIWrapper\n",
    "\n",
    "llm = ChatOpenAI(temperature=0)\n",
    "\n",
    "instructions = \"\"\"You are an assistant.\"\"\"\n",
    "base_prompt = hub.pull(\"langchain-ai/openai-functions-template\")\n",
    "prompt = base_prompt.partia(instructions=instructions)"
   ]
  },
  {
   "cell_type": "code",
   "execution_count": null,
   "outputs": [],
   "source": [
    "polygon = PolygonAPIWrapper()\n",
    "toolkit = PolygonToolkit.from_polygon_api_wrapper(polygon)\n",
    "agent = create_openai_functions_agent(llm, toolkit.get_tools(), prompt)"
   ],
   "metadata": {
    "collapsed": false
   }
  },
  {
   "cell_type": "code",
   "execution_count": null,
   "outputs": [],
   "source": [
    "agent_executor = AgentExecutor(\n",
    "    agent=agent,\n",
    "    tools=toolkit.get_tools(),\n",
    "    verbose=False,\n",
    ")"
   ],
   "metadata": {
    "collapsed": false
   }
  },
  {
   "cell_type": "markdown",
   "id": "71f05fc9-d80d-4614-b9a3-e0a5e43cbbbb",
   "metadata": {},
   "source": [
    "### Get the last price quote for a stock"
   ]
  },
  {
   "cell_type": "code",
   "execution_count": null,
   "id": "b97409f3-dc87-425d-b555-406cf8466a28",
   "metadata": {},
   "outputs": [],
   "source": [
    "agent_executor.invoke(\n",
    "    {\"input\": \"What is the latest stock price for AAPL?\"}\n",
    ")"
   ]
  }
 ],
 "metadata": {
  "kernelspec": {
   "display_name": "Python 3 (ipykernel)",
   "language": "python",
   "name": "python3"
  },
  "language_info": {
   "codemirror_mode": {
    "name": "ipython",
    "version": 3
   },
   "file_extension": ".py",
   "mimetype": "text/x-python",
   "name": "python",
   "nbconvert_exporter": "python",
   "pygments_lexer": "ipython3",
   "version": "3.11.5"
  }
 },
 "nbformat": 4,
 "nbformat_minor": 5
}
