{
 "cells": [
  {
   "cell_type": "code",
   "execution_count": 15,
   "metadata": {},
   "outputs": [
    {
     "name": "stdout",
     "output_type": "stream",
     "text": [
      "['/Users/yangshence/Desktop/langchain/docs/docs/integrations/toolkits', '/Library/Developer/CommandLineTools/Library/Frameworks/Python3.framework/Versions/3.9/lib/python39.zip', '/Library/Developer/CommandLineTools/Library/Frameworks/Python3.framework/Versions/3.9/lib/python3.9', '/Library/Developer/CommandLineTools/Library/Frameworks/Python3.framework/Versions/3.9/lib/python3.9/lib-dynload', '', '/Users/yangshence/Library/Python/3.9/lib/python/site-packages', '/Library/Developer/CommandLineTools/Library/Frameworks/Python3.framework/Versions/3.9/lib/python3.9/site-packages', '/Users/yangshence/Desktop/langchain/libs/langchain/langchain/agents/agent_toolkits/steam/toolkit.py', '/Users/yangshence/Desktop/langchain/libs/langchain/langchain/agents/agent_toolkits/steam/toolkit.py', '/Users/yangshence/Desktop/langchain/libs/langchain/langchain/agents/agent_toolkits/steam/toolkit.py', 'langchain/libs/langchain/langchain/agents/agent_toolkits/steam/toolkit.py', 'libs/langchain/langchain/agents/agent_toolkits/steam/toolkit.py', 'libs/langchain/langchain/agents/agent_toolkits/steam/toolkit.py']\n"
     ]
    }
   ],
   "source": [
    "import os\n",
    "\n",
    "from langchain.agents import AgentType, initialize_agent\n",
    "\n",
    "import sys\n",
    "print(sys.path)\n",
    "from langchain.agents.agent_toolkits.steam.toolkit import SteamToolkit\n",
    "from langchain.utilities.steam import SteamWebAPIWrapper\n",
    "from langchain.llms import OpenAI\n"
   ]
  },
  {
   "cell_type": "markdown",
   "metadata": {},
   "source": [
    "os.environ[\"STEAM_KEY\"] = \"abc\"\n",
    "os.environ[\"STEAM_ID\"] = \"123\"\n",
    "os.environ[\"OPENAI_API_KEY\"] = \"xyz\"\n"
   ]
  },
  {
   "cell_type": "code",
   "execution_count": null,
   "metadata": {},
   "outputs": [],
   "source": [
    "llm = OpenAI(temperature=0)\n",
    "Steam= SteamWebAPIWrapper()\n",
    "toolkit =SteamToolkit.from_steam_api_wrapper(Steam)\n",
    "agent = initialize_agent(\n",
    "    toolkit.get_tools(), llm, agent=AgentType.ZERO_SHOT_REACT_DESCRIPTION, verbose=True\n",
    ")"
   ]
  },
  {
   "cell_type": "markdown",
   "metadata": {},
   "source": [
    "agent.run(\"can you recommand some games for me and shows the descriptions of the games\")"
   ]
  }
 ],
 "metadata": {
  "kernelspec": {
   "display_name": "Python 3",
   "language": "python",
   "name": "python3"
  },
  "language_info": {
   "codemirror_mode": {
    "name": "ipython",
    "version": 3
   },
   "file_extension": ".py",
   "mimetype": "text/x-python",
   "name": "python",
   "nbconvert_exporter": "python",
   "pygments_lexer": "ipython3",
   "version": "3.9.6"
  }
 },
 "nbformat": 4,
 "nbformat_minor": 2
}
