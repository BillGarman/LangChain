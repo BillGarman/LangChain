{
 "cells": [
  {
   "cell_type": "markdown",
   "id": "9363398d",
   "metadata": {},
   "source": [
    "# Cube Semantic Layer\n",
    "\n",
    "This notebook showcases an agent interacting with a Cube Semantic Layer. The agent is answering more general questions about a Cube Semantic Layer, as well as recover from errors.\n",
    "\n",
    "Note that, as this agent is in active development, all answers might not be correct.\n",
    "\n",
    "Sample data for this notebook is sourced from the Cube examples, available at [active-users-example](https://github.com/cube-js/cube/tree/master/examples/recipes/active-users)."
   ]
  },
  {
   "cell_type": "markdown",
   "source": [
    "## Initialization"
   ],
   "metadata": {
    "collapsed": false
   },
   "id": "cf0f05d46400d1f3"
  },
  {
   "cell_type": "code",
   "execution_count": 7,
   "id": "c82f33e9",
   "metadata": {
    "tags": [],
    "ExecuteTime": {
     "end_time": "2023-10-25T09:44:32.863531Z",
     "start_time": "2023-10-25T09:44:32.853724Z"
    }
   },
   "outputs": [],
   "source": [
    "from langchain.agents.agent_toolkits import CubeToolkit\n",
    "from langchain.agents.agent_toolkits import create_cube_agent\n",
    "from langchain.chat_models import ErnieBotChat\n",
    "from langchain.llms.openai import OpenAI\n",
    "from langchain.pydantic_v1 import SecretStr\n",
    "from langchain.utilities.cube import Cube"
   ]
  },
  {
   "cell_type": "code",
   "execution_count": null,
   "outputs": [],
   "source": [
    "openai = OpenAI(\n",
    "    temperature=0,\n",
    "    verbose=True,\n",
    ")\n",
    "\n",
    "ernie = ErnieBotChat(\n",
    "    temperature=0.5,\n",
    "    model_name=\"ERNIE-Bot-4\",\n",
    "    verbose=True,\n",
    ")"
   ],
   "metadata": {
    "collapsed": false
   },
   "id": "3dee87ce61338d36"
  },
  {
   "cell_type": "markdown",
   "source": [
    "## Create the Cube Toolkit"
   ],
   "metadata": {
    "collapsed": false
   },
   "id": "e9455cc8c8dbdf6d"
  },
  {
   "cell_type": "code",
   "execution_count": null,
   "outputs": [],
   "source": [
    "cube = Cube(\n",
    "    cube_api_url=\"http://localhost:4000/cubejs-api/v1\",\n",
    "    cube_api_token=SecretStr(\"CUBE_API_TOKEN\")\n",
    ")\n",
    "\n",
    "toolkit = CubeToolkit(\n",
    "    cube=cube,\n",
    "    llm=ernie,\n",
    ")"
   ],
   "metadata": {
    "collapsed": false
   },
   "id": "ef0ad2c9eb63e7e0"
  },
  {
   "cell_type": "markdown",
   "source": [
    "## Use within a Cube Agent"
   ],
   "metadata": {
    "collapsed": false
   },
   "id": "353f9c10e57e39a2"
  },
  {
   "cell_type": "code",
   "execution_count": 8,
   "id": "0b2c5853",
   "metadata": {
    "tags": [],
    "ExecuteTime": {
     "end_time": "2023-10-25T09:44:32.911222Z",
     "start_time": "2023-10-25T09:44:32.861007Z"
    }
   },
   "outputs": [],
   "source": [
    "agent_executor = create_cube_agent(\n",
    "    llm=openai,\n",
    "    toolkit=toolkit,\n",
    "    verbose=True,\n",
    ")"
   ]
  },
  {
   "cell_type": "markdown",
   "source": [
    "## Example: Daily, Weekly, Monthly Active Users (DAU, WAU, MAU)"
   ],
   "metadata": {
    "collapsed": false
   },
   "id": "79c78e4f4cb05bde"
  },
  {
   "cell_type": "code",
   "execution_count": 9,
   "id": "90f236cb",
   "metadata": {
    "tags": [],
    "ExecuteTime": {
     "end_time": "2023-10-25T09:45:22.826585Z",
     "start_time": "2023-10-25T09:44:32.911795Z"
    }
   },
   "outputs": [
    {
     "name": "stdout",
     "output_type": "stream",
     "text": [
      "\n",
      "\n",
      "\u001B[1m> Entering new AgentExecutor chain...\u001B[0m\n",
      "\u001B[32;1m\u001B[1;3mAction: list_models_cube\n",
      "Action Input: \"\"\u001B[0m\n",
      "Observation: \u001B[38;5;200m\u001B[1;3m| Model | Description |\n",
      "| --- | --- |\n",
      "| ActiveUsers | None |\n",
      "\u001B[0m\n",
      "Thought:\u001B[32;1m\u001B[1;3m I should query the metadata of the ActiveUsers model to see what columns I can use.\n",
      "Action: mate_information_cube\n",
      "Action Input: \"ActiveUsers\"\u001B[0m\n",
      "Observation: \u001B[33;1m\u001B[1;3m## Model: ActiveUsers\n",
      "\n",
      "### Measures:\n",
      "| Title | Description | Column | Type |\n",
      "| --- | --- | --- | --- |\n",
      "| Active Users Monthly Active Users | None | ActiveUsers.monthlyActiveUsers | number |\n",
      "| Active Users Weekly Active Users | None | ActiveUsers.weeklyActiveUsers | number |\n",
      "| Active Users Daily Active Users | None | ActiveUsers.dailyActiveUsers | number |\n",
      "| Active Users WAU to MAU | None | ActiveUsers.wauToMau | number |\n",
      "\n",
      "### Dimensions:\n",
      "| Title | Description | Column | Type |\n",
      "| --- | --- | --- | --- |\n",
      "| Active Users Created at | None | ActiveUsers.createdAt | time |\n",
      "\u001B[0m\n",
      "Thought:\u001B[32;1m\u001B[1;3m I should query the ActiveUsers model for the relevant columns.\n",
      "Action: load_cube\n",
      "Action Input: \n",
      "```\n",
      "{\n",
      "    \"measures\": [\"ActiveUsers.monthlyActiveUsers\", \"ActiveUsers.weeklyActiveUsers\", \"ActiveUsers.dailyActiveUsers\", \"ActiveUsers.wauToMau\"],\n",
      "    \"dimensions\": [\"ActiveUsers.createdAt\"],\n",
      "    \"timeDimensions\": [{\n",
      "        \"dimension\": \"ActiveUsers.createdAt\",\n",
      "        \"dateRange\": [\"2020-01-01\", \"2020-12-31\"],\n",
      "        \"granularity\": \"month\"\n",
      "    }],\n",
      "    \"limit\": 10,\n",
      "    \"order\": {\n",
      "        \"ActiveUsers.createdAt\": \"asc\"\n",
      "    }\n",
      "}\n",
      "```\u001B[0m\n",
      "Observation: \u001B[36;1m\u001B[1;3m[{\"ActiveUsers.createdAt\": \"2019-12-31T00:00:00.000\", \"ActiveUsers.createdAt.month\": \"2020-01-01T00:00:00.000\", \"ActiveUsers.monthlyActiveUsers\": \"4\", \"ActiveUsers.weeklyActiveUsers\": \"4\", \"ActiveUsers.dailyActiveUsers\": \"4\", \"ActiveUsers.wauToMau\": \"100.0000000000000000\"}, {\"ActiveUsers.createdAt\": \"2020-01-31T00:00:00.000\", \"ActiveUsers.createdAt.month\": \"2020-02-01T00:00:00.000\", \"ActiveUsers.monthlyActiveUsers\": \"1\", \"ActiveUsers.weeklyActiveUsers\": \"1\", \"ActiveUsers.dailyActiveUsers\": \"1\", \"ActiveUsers.wauToMau\": \"100.0000000000000000\"}, {\"ActiveUsers.createdAt\": \"2020-02-29T00:00:00.000\", \"ActiveUsers.createdAt.month\": \"2020-03-01T00:00:00.000\", \"ActiveUsers.monthlyActiveUsers\": \"6\", \"ActiveUsers.weeklyActiveUsers\": \"6\", \"ActiveUsers.dailyActiveUsers\": \"6\", \"ActiveUsers.wauToMau\": \"100.0000000000000000\"}, {\"ActiveUsers.createdAt\": \"2020-03-31T00:00:00.000\", \"ActiveUsers.createdAt.month\": \"2020-04-01T00:00:00.000\", \"ActiveUsers.monthlyActiveUsers\": \"14\", \"ActiveUsers.weeklyActiveUsers\": \"14\", \"ActiveUsers.dailyActiveUsers\": \"14\", \"ActiveUsers.wauToMau\": \"100.0000000000000000\"}, {\"ActiveUsers.createdAt\": \"2020-04-30T00:00:00.000\", \"ActiveUsers.createdAt.month\": \"2020-05-01T00:00:00.000\", \"ActiveUsers.monthlyActiveUsers\": \"1\", \"ActiveUsers.weeklyActiveUsers\": \"1\", \"ActiveUsers.dailyActiveUsers\": \"1\", \"ActiveUsers.wauToMau\": \"100.0000000000000000\"}, {\"ActiveUsers.createdAt\": \"2020-05-31T00:00:00.000\", \"ActiveUsers.createdAt.month\": \"2020-06-01T00:00:00.000\", \"ActiveUsers.monthlyActiveUsers\": \"4\", \"ActiveUsers.weeklyActiveUsers\": \"4\", \"ActiveUsers.dailyActiveUsers\": \"4\", \"ActiveUsers.wauToMau\": \"100.0000000000000000\"}, {\"ActiveUsers.createdAt\": \"2020-06-30T00:00:00.000\", \"ActiveUsers.createdAt.month\": \"2020-07-01T00:00:00.000\", \"ActiveUsers.monthlyActiveUsers\": \"2\", \"ActiveUsers.weeklyActiveUsers\": \"2\", \"ActiveUsers.dailyActiveUsers\": \"2\", \"ActiveUsers.wauToMau\": \"100.0000000000000000\"}, {\"ActiveUsers.createdAt\": \"2020-07-31T00:00:00.000\", \"ActiveUsers.createdAt.month\": \"2020-08-01T00:00:00.000\", \"ActiveUsers.monthlyActiveUsers\": \"5\", \"ActiveUsers.weeklyActiveUsers\": \"5\", \"ActiveUsers.dailyActiveUsers\": \"5\", \"ActiveUsers.wauToMau\": \"100.0000000000000000\"}, {\"ActiveUsers.createdAt\": \"2020-08-31T00:00:00.000\", \"ActiveUsers.createdAt.month\": \"2020-09-01T00:00:00.000\", \"ActiveUsers.monthlyActiveUsers\": \"8\", \"ActiveUsers.weeklyActiveUsers\": \"8\", \"ActiveUsers.dailyActiveUsers\": \"8\", \"ActiveUsers.wauToMau\": \"100.0000000000000000\"}, {\"ActiveUsers.createdAt\": \"2020-09-30T00:00:00.000\", \"ActiveUsers.createdAt.month\": \"2020-10-01T00:00:00.000\", \"ActiveUsers.monthlyActiveUsers\": \"2\", \"ActiveUsers.weeklyActiveUsers\": \"2\", \"ActiveUsers.dailyActiveUsers\": \"2\", \"ActiveUsers.wauToMau\": \"100.0000000000000000\"}]\u001B[0m\n",
      "Thought:\u001B[32;1m\u001B[1;3m I now know the final answer.\n",
      "Final Answer: \n",
      "\n",
      "| Date | Monthly Active Users | Weekly Active Users | Daily Active Users | WAU to MAU |\n",
      "| --- | --- | --- | --- | --- |\n",
      "| 2020-01-01 | 4 | 4 | 4 | 100.00 |\n",
      "| 2020-02-01 | 1 | 1 | 1 | 100.00 |\n",
      "| 2020-03-01 | 6 | 6 | 6 | 100.00 |\n",
      "| 2020-04-01 | 14 | 14 | 14 | 100.00 |\n",
      "| 2020-05-01 | 1 | 1 | 1 | 100.00 |\n",
      "| 2020-06-01 | 4 | 4 | 4 | 100.00 |\n",
      "| 2020-07-01 | 2 | 2 | 2 | 100.00 |\n",
      "| 2020-08-01 | 5 | 5 | 5 | 100.00 |\n",
      "| 2020-09-01 | 8 | 8 | 8 | 100.00 |\n",
      "| 2020-10-01 | 2 | 2 | 2 | 100.00 |\u001B[0m\n",
      "\n",
      "\u001B[1m> Finished chain.\u001B[0m\n"
     ]
    }
   ],
   "source": [
    "result = agent_executor.run(\n",
    "    \"Obtain this 2020 year's data for daily, weekly, monthly, and WAU to MAU active users. Use a Markdown table to present this data.\")"
   ]
  }
 ],
 "metadata": {
  "interpreter": {
   "hash": "397704579725e15f5c7cb49fe5f0341eb7531c82d19f2c29d197e8b64ab5776b"
  },
  "kernelspec": {
   "display_name": "Python 3 (ipykernel)",
   "language": "python",
   "name": "python3"
  },
  "language_info": {
   "codemirror_mode": {
    "name": "ipython",
    "version": 3
   },
   "file_extension": ".py",
   "mimetype": "text/x-python",
   "name": "python",
   "nbconvert_exporter": "python",
   "pygments_lexer": "ipython3",
   "version": "3.11.4"
  }
 },
 "nbformat": 4,
 "nbformat_minor": 5
}
