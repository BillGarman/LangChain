{
 "cells": [
  {
   "cell_type": "markdown",
   "metadata": {},
   "source": [
    "# IMDb\n",
    "\n",
    "This toolkit connects Langchain to IMDb using the Cinemagoer API.\n",
    "\n",
    "This tool requires the Cinemagoer package, which can be installed as follows:"
   ]
  },
  {
   "cell_type": "code",
   "execution_count": null,
   "metadata": {
    "vscode": {
     "languageId": "shellscript"
    }
   },
   "outputs": [],
   "source": [
    "!pip install git+https://github.com/cinemagoer/cinemagoer"
   ]
  },
  {
   "cell_type": "markdown",
   "metadata": {},
   "source": [
    "An agent can now be created like so:"
   ]
  },
  {
   "cell_type": "code",
   "execution_count": 2,
   "metadata": {},
   "outputs": [],
   "source": [
    "from langchain.agents.agent_toolkits import IMDbToolkit\n",
    "from langchain.chat_models import ChatOpenAI\n",
    "from langchain.agents import initialize_agent, AgentType\n",
    "\n",
    "toolkit = IMDbToolkit()\n",
    "llm = ChatOpenAI(temperature=0, openai_api_key=\"your openai api key here\")\n",
    "tools = toolkit.get_tools()\n",
    "agent = initialize_agent(\n",
    "    tools=tools,\n",
    "    llm=llm,\n",
    "    verbose=True,\n",
    "    agent=AgentType.ZERO_SHOT_REACT_DESCRIPTION,\n",
    ")"
   ]
  },
  {
   "cell_type": "code",
   "execution_count": 5,
   "metadata": {},
   "outputs": [
    {
     "name": "stdout",
     "output_type": "stream",
     "text": [
      "\n",
      "\n",
      "\u001b[1m> Entering new AgentExecutor chain...\u001b[0m\n",
      "\u001b[32;1m\u001b[1;3mI need to find the movie ID for Oppenheimer first.\n",
      "Action: imdb_search_movie\n",
      "Action Input: Oppenheimer\u001b[0m\n",
      "Observation: \u001b[33;1m\u001b[1;3m[{\"title\": \"Oppenheimer (2023)\", \"id\": \"15398776\"}, {\"title\": \"\\\"Oppenheimer\\\" (1980) (mini)\", \"id\": \"0078037\"}, {\"title\": \"Oppenheimer: The Real Story (2023)\", \"id\": \"27192512\"}, {\"title\": \"Oppenheimer (2023)\", \"id\": \"29466107\"}, {\"title\": \"To End All War: Oppenheimer & the Atomic Bomb (2023)\", \"id\": \"28240284\"}, {\"title\": \"Oppenheimer After Trinity (2023)\", \"id\": \"28017314\"}, {\"title\": \"The Trials of J. Robert Oppenheimer (2008)\", \"id\": \"1559008\"}, {\"title\": \"The Real Oppenheimer (2023)\", \"id\": \"28655290\"}, {\"title\": \"\\\"Oppenheimer presenta\\\" (2003)\", \"id\": \"0400005\"}, {\"title\": \"Oppenheimer Barbie (2023)\", \"id\": \"28454751\"}, {\"title\": \"Oppenheimer (2014)\", \"id\": \"3695394\"}, {\"title\": \"Inside Christopher Nolan's Oppenheimer (2023)\", \"id\": \"28522133\"}, {\"title\": \"Norman (2016)\", \"id\": \"4191702\"}, {\"title\": \"RadioActive Soldiers - The Oppenheimer Aftermath (2023)\", \"id\": \"29080313\"}, {\"title\": \"The LEGO Oppenheimer Movie (None)\", \"id\": \"28249545\"}, {\"title\": \"In der Sache J. Robert Oppenheimer (1964) (TV)\", \"id\": \"0058228\"}, {\"title\": \"The Case of Oppenheimer (1967) (TV)\", \"id\": \"0443178\"}, {\"title\": \"The Ballad of Oppenheimer Park (2016)\", \"id\": \"5136682\"}, {\"title\": \"Oppenheimer (2011)\", \"id\": \"2241393\"}, {\"title\": \"The Rags of Time: J. Robert Oppenheimer (2020)\", \"id\": \"13046592\"}]\u001b[0m\n",
      "Thought:\u001b[32;1m\u001b[1;3mThe movie ID for Oppenheimer is 15398776.\n",
      "Action: imdb_get_movie_crew\n",
      "Action Input: 15398776\u001b[0m\n",
      "Observation: \u001b[33;1m\u001b[1;3m{\"director\": [{\"name\": \"Christopher Nolan\", \"id\": \"0634240\"}], \"writer\": [{\"name\": \"Christopher Nolan\", \"id\": \"0634240\"}, {\"name\": \"Kai Bird\", \"id\": \"3284831\"}, {\"name\": \"Martin Sherwin\", \"id\": \"2452558\"}], \"producer\": [{\"name\": \"Thomas Hayslip\", \"id\": \"0371669\"}, {\"name\": \"Helen Medrano\", \"id\": \"0749781\"}, {\"name\": \"Christopher Nolan\", \"id\": \"0634240\"}, {\"name\": \"Charles Roven\", \"id\": \"0746273\"}, {\"name\": \"Emma Thomas\", \"id\": \"0858799\"}, {\"name\": \"Andy Thompson\", \"id\": \"3379670\"}, {\"name\": \"J. David Wargo\", \"id\": \"11356994\"}, {\"name\": \"James Woods\", \"id\": \"0000249\"}], \"cinematographer\": [{\"name\": \"Hoyte Van Hoytema\", \"id\": \"0887227\"}], \"editor\": [{\"name\": \"Jennifer Lame\", \"id\": \"2352780\"}], \"composer\": [{\"name\": \"Ludwig G\\u00f6ransson\", \"id\": \"3234869\"}]}\u001b[0m\n",
      "Thought:\u001b[32;1m\u001b[1;3mThe movie crew for Oppenheimer includes:\n",
      "- Director: Christopher Nolan\n",
      "- Writers: Christopher Nolan, Kai Bird, Martin Sherwin\n",
      "- Producers: Thomas Hayslip, Helen Medrano, Christopher Nolan, Charles Roven, Emma Thomas, Andy Thompson, J. David Wargo, James Woods\n",
      "- Cinematographer: Hoyte Van Hoytema\n",
      "- Editor: Jennifer Lame\n",
      "- Composer: Ludwig Göransson\n",
      "\n",
      "Final Answer: The movie crew for Oppenheimer includes Christopher Nolan as the director, Christopher Nolan, Kai Bird, and Martin Sherwin as the writers, Thomas Hayslip, Helen Medrano, Christopher Nolan, Charles Roven, Emma Thomas, Andy Thompson, J. David Wargo, and James Woods as the producers, Hoyte Van Hoytema as the cinematographer, Jennifer Lame as the editor, and Ludwig Göransson as the composer.\u001b[0m\n",
      "\n",
      "\u001b[1m> Finished chain.\u001b[0m\n"
     ]
    },
    {
     "data": {
      "text/plain": [
       "'The movie crew for Oppenheimer includes Christopher Nolan as the director, Christopher Nolan, Kai Bird, and Martin Sherwin as the writers, Thomas Hayslip, Helen Medrano, Christopher Nolan, Charles Roven, Emma Thomas, Andy Thompson, J. David Wargo, and James Woods as the producers, Hoyte Van Hoytema as the cinematographer, Jennifer Lame as the editor, and Ludwig Göransson as the composer.'"
      ]
     },
     "execution_count": 5,
     "metadata": {},
     "output_type": "execute_result"
    }
   ],
   "source": [
    "agent.run(\"Who was the movie crew for Oppenheimer?\")"
   ]
  }
 ],
 "metadata": {
  "kernelspec": {
   "display_name": ".venv",
   "language": "python",
   "name": "python3"
  },
  "language_info": {
   "codemirror_mode": {
    "name": "ipython",
    "version": 3
   },
   "file_extension": ".py",
   "mimetype": "text/x-python",
   "name": "python",
   "nbconvert_exporter": "python",
   "pygments_lexer": "ipython3",
   "version": "3.8.10"
  }
 },
 "nbformat": 4,
 "nbformat_minor": 2
}
