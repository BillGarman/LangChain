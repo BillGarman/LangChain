{
 "cells": [
  {
   "cell_type": "markdown",
   "id": "dc23c48e",
   "metadata": {},
   "source": [
    "# SerpApi\n",
    "\n",
    "This notebook goes over how to use the SerpApi component to search the web."
   ]
  },
  {
   "cell_type": "code",
   "execution_count": 1,
   "id": "54bf5afd",
   "metadata": {},
   "outputs": [],
   "source": [
    "from langchain.utilities import SerpAPIWrapper"
   ]
  },
  {
   "cell_type": "code",
   "execution_count": 2,
   "id": "31f8f382",
   "metadata": {},
   "outputs": [],
   "source": [
    "search = SerpAPIWrapper()"
   ]
  },
  {
   "cell_type": "code",
   "execution_count": 3,
   "id": "25ce0225",
   "metadata": {},
   "outputs": [
    {
     "data": {
      "text/plain": [
       "'Barack Hussein Obama II'"
      ]
     },
     "execution_count": 3,
     "metadata": {},
     "output_type": "execute_result"
    }
   ],
   "source": [
    "search.run(\"Obama's first name?\")"
   ]
  },
  {
   "cell_type": "markdown",
   "id": "fe3ee213",
   "metadata": {},
   "source": [
    "## Custom Parameters\n",
    "You can also customize the SerpApi wrapper with arbitrary parameters. For example, in the below example we will use `bing` instead of `google`."
   ]
  },
  {
   "cell_type": "code",
   "execution_count": 2,
   "id": "deffcc8b",
   "metadata": {},
   "outputs": [],
   "source": [
    "params = {\n",
    "    \"engine\": \"bing\",\n",
    "    \"gl\": \"us\",\n",
    "    \"hl\": \"en\",\n",
    "}\n",
    "search = SerpAPIWrapper(params=params)"
   ]
  },
  {
   "cell_type": "code",
   "execution_count": 3,
   "id": "2c752d08",
   "metadata": {},
   "outputs": [
    {
     "data": {
      "text/plain": [
       "'Barack Hussein Obama II is an American politician who served as the 44th president of the United States from 2009 to 2017. A member of the Democratic Party, Obama was the first African-American presi…New content will be added above the current area of focus upon selectionBarack Hussein Obama II is an American politician who served as the 44th president of the United States from 2009 to 2017. A member of the Democratic Party, Obama was the first African-American president of the United States. He previously served as a U.S. senator from Illinois from 2005 to 2008 and as an Illinois state senator from 1997 to 2004, and previously worked as a civil rights lawyer before entering politics.Wikipediabarackobama.com'"
      ]
     },
     "execution_count": 3,
     "metadata": {},
     "output_type": "execute_result"
    }
   ],
   "source": [
    "search.run(\"Obama's first name?\")"
   ]
  },
  {
   "cell_type": "code",
   "execution_count": null,
   "id": "e0a1dc1c",
   "metadata": {},
   "outputs": [],
   "source": [
    "from langchain.agents import Tool\n",
    "\n",
    "# You can create the tool to pass to an agent\n",
    "repl_tool = Tool(\n",
    "    name=\"python_repl\",\n",
    "    description=\"A Python shell. Use this to execute python commands. Input should be a valid python command. If you want to see the output of a value, you should print it out with `print(...)`.\",\n",
    "    func=search.run,\n",
    ")"
   ]
  },
  {
   "cell_type": "markdown",
   "id": "fe3ee213",
   "metadata": {},
   "source": [
    "## LCEL\n",
    "You can also use the SerpApi tool following the [LangChain Expression Language (LCEL)](/docs/expression_language/)."
   ]
  },
  {
   "cell_type": "code",
   "execution_count": null,
   "id": "be115825",
   "metadata": {},
   "outputs": [],
   "source": [
    "!pip install google-search-results\n",
    "!pip install openai"
   ]
  },
  {
   "cell_type": "code",
   "execution_count": null,
   "id": "ea075e34",
   "metadata": {},
   "outputs": [],
   "source": [
    "from langchain.chat_models import ChatOpenAI\n",
    "from langchain.prompts import ChatPromptTemplate\n",
    "from langchain.schema.output_parser import StrOutputParser\n",
    "from langchain.tools import SerpApiRun"
   ]
  },
  {
   "cell_type": "code",
   "execution_count": 22,
   "id": "73724dfd",
   "metadata": {},
   "outputs": [],
   "source": [
    "search = SerpApiRun()"
   ]
  },
  {
   "cell_type": "code",
   "execution_count": 23,
   "id": "c6b96e45",
   "metadata": {},
   "outputs": [],
   "source": [
    "template = \"\"\"turn the following user input into a search query for a search engine:\n",
    "\n",
    "{input}\"\"\"\n",
    "prompt = ChatPromptTemplate.from_template(template)\n",
    "\n",
    "model = ChatOpenAI()"
   ]
  },
  {
   "cell_type": "code",
   "execution_count": 34,
   "id": "32988807",
   "metadata": {},
   "outputs": [],
   "source": [
    "chain = prompt | model | StrOutputParser() | search"
   ]
  },
  {
   "cell_type": "code",
   "execution_count": 35,
   "id": "42318054",
   "metadata": {},
   "outputs": [
    {
     "data": {
      "text/plain": [
       "'[{\\'title\\': \\'What NBA games are on tonight? Time, TV channel, schedule for ESPN national TV slate\\', \\'link\\': \\'https://www.sportingnews.com/us/nba/news/nba-games-tonight-time-tv-channel-schedule-espn/b263ddf04a70daee0d176a6b\\', \\'source\\': \\'Sporting News\\', \\'date\\': \\'16 hours ago\\', \\'thumbnail\\': \\'https://serpapi.com/searches/65435e524d443dcf851588f1/images/74795ddf1358c0f0ecb00b4bc92524010283791435ae4cc5.jpeg\\'}, {\\'title\\': \\'Ryan O\\\\\\'Reilly Celebrates 1000 Career NHL Games Tonight: \"I Still Have A Lot of Hockey Left to Play\"\\', \\'link\\': \\'https://thehockeynews.com/nhl/nashville-predators/news/ryan-oreilly-celebrates-1000-career-nhl-games-tonight-i-still-have-a-lot-of-hockey-left-to-play\\', \\'source\\': \\'The Hockey News\\', \\'date\\': \\'1 day ago\\', \\'thumbnail\\': \\'https://serpapi.com/searches/65435e524d443dcf851588f1/images/74795ddf1358c0f05a266068d4b180944cb239ee3a6bf139.jpeg\\'}, {\\'title\\': \\'NHL Odds, Preview, Prediction: Best Bets for All 4 Games Tonight (Wednesday, November 1)\\', \\'link\\': \\'https://www.actionnetwork.com/nhl/nhl-odds-preview-prediction-best-bets-wednesday-november-1\\', \\'source\\': \\'Action Network\\', \\'date\\': \\'12 hours ago\\', \\'thumbnail\\': \\'https://serpapi.com/searches/65435e524d443dcf851588f1/images/74795ddf1358c0f062b16115ac91e54645ebe5e3f7be7b63.jpeg\\'}]'"
      ]
     },
     "execution_count": 35,
     "metadata": {},
     "output_type": "execute_result"
    }
   ],
   "source": [
    "chain.invoke({\"input\": \"I'd like to figure out what games are tonight\"})"
   ]
  }
 ],
 "metadata": {
  "kernelspec": {
   "display_name": "Python 3 (ipykernel)",
   "language": "python",
   "name": "python3"
  },
  "language_info": {
   "codemirror_mode": {
    "name": "ipython",
    "version": 3
   },
   "file_extension": ".py",
   "mimetype": "text/x-python",
   "name": "python",
   "nbconvert_exporter": "python",
   "pygments_lexer": "ipython3",
   "version": "3.10.9"
  }
 },
 "nbformat": 4,
 "nbformat_minor": 5
}
