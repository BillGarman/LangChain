{
 "cells": [
  {
   "cell_type": "markdown",
   "metadata": {},
   "source": [
    "# Semantic Scholar API Tool\n",
    "\n",
    "This notebook demos how to use the semantic scholar tool with an agent."
   ]
  },
  {
   "cell_type": "code",
   "execution_count": null,
   "metadata": {},
   "outputs": [],
   "source": [
    "# start by installing semanticscholar api\n",
    "!pip install semanticscholar"
   ]
  },
  {
   "cell_type": "code",
   "execution_count": 4,
   "metadata": {},
   "outputs": [],
   "source": [
    "from langchain.agents import AgentType, initialize_agent, load_tools\n",
    "from langchain.chat_models import ChatOpenAI\n",
    "\n",
    "llm = ChatOpenAI(temperature=0.0)\n",
    "tools = load_tools(\n",
    "    [\"semanticscholar\"],\n",
    ")\n",
    "\n",
    "agent_chain = initialize_agent(\n",
    "    tools,\n",
    "    llm,\n",
    "    agent=AgentType.ZERO_SHOT_REACT_DESCRIPTION,\n",
    "    verbose=True,\n",
    "    handle_parsing_errors=True,\n",
    ")\n",
    "\n",
    "agent_chain.handle_parsing_errors = True"
   ]
  },
  {
   "cell_type": "code",
   "execution_count": 5,
   "metadata": {},
   "outputs": [
    {
     "name": "stdout",
     "output_type": "stream",
     "text": [
      "\n",
      "\n",
      "\u001b[1m> Entering new AgentExecutor chain...\u001b[0m\n",
      "\u001b[32;1m\u001b[1;3mI should use semanticscholar to find research papers on the efficacy of the Moderna vaccine against COVID-19.\n",
      "Action: semanticscholar\n",
      "Action Input: \"efficacy of Moderna vaccine against COVID-19\"\u001b[0m\n",
      "Observation: \u001b[36;1m\u001b[1;3mPublished year: 2021\n",
      "Title: In high-risk adults, the Moderna vaccine had 94% efficacy against COVID-19 ≥14 d after the 2nd dose\n",
      "Authors: Z. Chagla\n",
      "Astract: SOURCE CITATION\n",
      "Voysey M, Clemens SA, Madhi SA, et al. Safety and efficacy of the ChAdOx1 nCoV-19 vaccine (AZD1222) against SARS-CoV-2: an interim analysis of four randomised controlled trials in Brazil, South Africa, and the UK. Lancet. 2021;397:99-111. 33306989.\n",
      "\n",
      "\n",
      "Published year: 2020\n",
      "Title: Covid-19: Moderna applies for US and EU approval as vaccine trial reports 94.1% efficacy\n",
      "Authors: Elisabeth Mahase\n",
      "Astract: The drug company Moderna has applied for emergency use authorisation from the US Food and Drug Administration and conditional approval from the European Medicines Agency for its covid-19 vaccine.\n",
      "\n",
      "The move comes after new results were released from its phase III trial, showing vaccine efficacy of 94.1% based on 196 covid-19 cases, of which 185 were in the placebo group.\n",
      "\n",
      "The company expects an FDA meeting to take place on 17 December to review the safety and efficacy data. It also plans to submit the phase III data to a peer reviewed publication.\n",
      "\n",
      "By the end of 2020 an estimated 20 million doses of the vaccine should be available in the US, and 500 million to a billion doses …\n",
      "\n",
      "\n",
      "Published year: 2021\n",
      "Title: Immune correlates analysis of the mRNA-1273 COVID-19 vaccine efficacy clinical trial\n",
      "Authors: P. Gilbert, D. Montefiori, A. McDermott, Y. Fong, D. Benkeser, Wei-zhi Deng, Honghong Zhou, C. Houchens, Karen Martins, L. Jayashankar, F. Castellino, B. Flach, Bob C. Lin, S. O'connell, C. McDanal, Amanda Eaton, M. Sarzotti-Kelsoe, Yiwen Lu, Chenchen Yu, Bhavesh Borate, Lars van der Laan, N. Hejazi, C. Huynh, Jacqueline Miller, H. E. El Sahly, L. Baden, Mira Baron, Luis de la Cruz, C. Gay, Spyros A. Kalams, Colleen F. Kelley, M. Andrasik, J. Kublin, L. Corey, K. Neuzil, Lindsay N. Carpp, R. Pajon, D. Follmann, R. Donis, R. Koup\n",
      "Astract: Description Antibody levels predict vaccine efficacy Symptomatic COVID-19 infection can be prevented by severe acute respiratory syndrome coronavirus 2 (SARS-CoV-2) vaccines. A “correlate of protection” is a molecular biomarker to measure how much immunity is needed to fight infection and is key for successful global immunization programs. Gilbert et al. determined that antibodies are the correlate of protection in vaccinated individuals enrolled in the Moderna COVE phase 3 clinical trial (see the Perspective by Openshaw). By measuring binding and neutralizing antibodies against the viral spike protein, the authors found that the levels of both antibodies correlated with the degree of vaccine efficacy. The higher the antibody level, the greater the protection afforded by the messenger RNA (mRNA) vaccine. Antibody levels that predict mRNA vaccine efficacy can therefore be used to guide vaccine regimen modifications and support regulatory approvals for a broader spectrum of the population. —PNK SARS-CoV-2 binding and neutralizing antibodies correlate with the degree of vaccine efficacy and protection for the Moderna mRNA COVID-19 vaccine. In the coronavirus efficacy (COVE) phase 3 clinical trial, vaccine recipients were assessed for neutralizing and binding antibodies as correlates of risk for COVID-19 disease and as correlates of protection. These immune markers were measured at the time of second vaccination and 4 weeks later, with values reported in standardized World Health Organization international units. All markers were inversely associated with COVID-19 risk and directly associated with vaccine efficacy. Vaccine recipients with postvaccination 50% neutralization titers 10, 100, and 1000 had estimated vaccine efficacies of 78% (95% confidence interval, 54 to 89%), 91% (87 to 94%), and 96% (94 to 98%), respectively. These results help define immune marker correlates of protection and may guide approval decisions for messenger RNA (mRNA) COVID-19 vaccines and other COVID-19 vaccines.\n",
      "\n",
      "\n",
      "Published year: 2021\n",
      "Title: Review of COVID-19\u001b[0m\n",
      "Thought:\u001b[32;1m\u001b[1;3mI now know the final answer\n",
      "Final Answer: The Moderna vaccine has shown an efficacy of 94% against COVID-19 in high-risk adults, ≥14 days after the second dose.\u001b[0m\n",
      "\n",
      "\u001b[1m> Finished chain.\u001b[0m\n"
     ]
    },
    {
     "data": {
      "text/plain": [
       "'The Moderna vaccine has shown an efficacy of 94% against COVID-19 in high-risk adults, ≥14 days after the second dose.'"
      ]
     },
     "execution_count": 5,
     "metadata": {},
     "output_type": "execute_result"
    }
   ],
   "source": [
    "agent_chain.run(\n",
    "    \"what is the efficacy of moderna vaccine against covid-19?\",\n",
    ")"
   ]
  }
 ],
 "metadata": {
  "kernelspec": {
   "display_name": "Python 3",
   "language": "python",
   "name": "python3"
  },
  "language_info": {
   "codemirror_mode": {
    "name": "ipython",
    "version": 3
   },
   "file_extension": ".py",
   "mimetype": "text/x-python",
   "name": "python",
   "nbconvert_exporter": "python",
   "pygments_lexer": "ipython3",
   "version": "3.10.13"
  }
 },
 "nbformat": 4,
 "nbformat_minor": 2
}
