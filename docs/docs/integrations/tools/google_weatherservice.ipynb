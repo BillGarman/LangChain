{
 "cells": [
  {
   "cell_type": "markdown",
   "metadata": {},
   "source": [
    "# GoogleNationalWeatherAPI\n",
    "\n",
    "This notebook goes over how to use the `GoogleNationalWeatherAPI` class to get weather information.\n",
    "\n",
    "NOTE: This only works for in the USA, because of the integration with the US National Weather Service.\n",
    "\n",
    "First, you need to sign up for a Google API key. The best way to do this, as far as I know, is through a GCP account.\n",
    "1. https://developers.google.com/maps/documentation/embed/get-api-key\n",
    "2. `pip install googlemaps`\n",
    "\n",
    "You will need to save the API key to an environment variable named `GOOGLE_API_KEY`. I recommend using a `.env` file, and loading the key with the py-dotenv package, `load_dotenv` function."
   ]
  },
  {
   "cell_type": "markdown",
   "metadata": {},
   "source": [
    "## Use the wrapper"
   ]
  },
  {
   "cell_type": "code",
   "execution_count": 14,
   "metadata": {},
   "outputs": [],
   "source": [
    "import os\n",
    "\n",
    "from langchain_community.utilities import GoogleNationalWeatherAPI\n",
    "\n",
    "os.environ[\"GOOGLE_API_KEY\"] = \"\"\n",
    "\n",
    "weather = GoogleNationalWeatherAPI()"
   ]
  },
  {
   "cell_type": "code",
   "execution_count": 16,
   "metadata": {},
   "outputs": [
    {
     "data": {
      "text/plain": [
       "'33 Fahrenheit'"
      ]
     },
     "execution_count": 16,
     "metadata": {},
     "output_type": "execute_result"
    }
   ],
   "source": [
    "weather._run(\"chicago\")"
   ]
  }
 ],
 "metadata": {
  "kernelspec": {
   "display_name": "google-weather-service-api",
   "language": "python",
   "name": "python3"
  },
  "language_info": {
   "codemirror_mode": {
    "name": "ipython",
    "version": 3
   },
   "file_extension": ".py",
   "mimetype": "text/x-python",
   "name": "python",
   "nbconvert_exporter": "python",
   "pygments_lexer": "ipython3",
   "version": "3.12.2"
  }
 },
 "nbformat": 4,
 "nbformat_minor": 2
}
