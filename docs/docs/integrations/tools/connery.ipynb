{
 "cells": [
  {
   "cell_type": "markdown",
   "metadata": {},
   "source": [
    "# Connery Action Tool\n",
    "\n",
    "Using this tool, you can integrate individual Connery Action into your LangChain agents and chains.\n",
    "\n",
    "If you want to use several Connery Actions in your agent,\n",
    "check out the [Connery Toolkit](/docs/integrations/toolkits/connery) documentation.\n",
    "\n",
    "## What is Connery?\n",
    "\n",
    "Connery is an open-source plugin infrastructure for AI.\n",
    "\n",
    "With Connery, you can easily create a custom plugin with a set of actions and seamlessly integrate them into your LangChain agents and chains.\n",
    "Connery will handle the rest: runtime, authorization, secret management, access management, audit logs, and other vital features.\n",
    "Additionally, Connery and our community offer a wide range of ready-to-use open-source plugins for your convenience.\n",
    "\n",
    "Learn more about Connery:\n",
    "\n",
    "- GitHub: https://github.com/connery-io/connery-platform\n",
    "- Documentation: https://docs.connery.io\n",
    "\n",
    "## Prerequisites\n",
    "\n",
    "To use Connery Actions in your LangChain agents, you need to do some preparation:\n",
    "\n",
    "1. Set up the Connery runner using the [Quickstart](https://docs.connery.io/docs/platform/quick-start/) guide.\n",
    "2. Install all the plugins with the actions you want to use in your agent.\n",
    "3. Set environment variables `CONNERY_RUNNER_URL` and `CONNERY_RUNNER_API_KEY` so the toolkit can communicate with the Connery Runner.\n",
    "\n",
    "## Example\n",
    "\n",
    "In the example below, we fetch action by its ID from the Connery Runner and then call it with the specified parameters.\n",
    "Here, we use the ID of the **Send email** action from the [Gmail](https://github.com/connery-io/gmail) plugin.\n",
    "You can find action IDs in the Connery Runner.\n",
    "\n",
    "NOTE: Connery Action is a structured tool, so you can only use it in the agents supporting structured tools."
   ]
  },
  {
   "cell_type": "code",
   "execution_count": 4,
   "metadata": {},
   "outputs": [],
   "source": [
    "import os\n",
    "\n",
    "from langchain.agents import AgentType, initialize_agent\n",
    "from langchain.chat_models import ChatOpenAI\n",
    "from langchain.tools.connery import ConneryService\n",
    "\n",
    "# Specify your Connery Runner credentials.\n",
    "os.environ[\"CONNERY_RUNNER_URL\"] = \"\"\n",
    "os.environ[\"CONNERY_RUNNER_API_KEY\"] = \"\"\n",
    "\n",
    "# Specify OpenAI API key.\n",
    "os.environ[\"OPENAI_API_KEY\"] = \"\"\n",
    "\n",
    "# Specify your email address to receive the emails from examples below.\n",
    "recepient_email = \"test@example.com\"\n",
    "\n",
    "connery_service = ConneryService()\n",
    "send_email_action = connery_service.get_action(\"CABC80BB79C15067CA983495324AE709\")"
   ]
  },
  {
   "cell_type": "code",
   "execution_count": 5,
   "metadata": {},
   "outputs": [
    {
     "name": "stdout",
     "output_type": "stream",
     "text": [
      "{\n",
      "  \"title\": \"InputSchema\",\n",
      "  \"type\": \"object\",\n",
      "  \"properties\": {\n",
      "    \"recipient\": {\n",
      "      \"title\": \"Email Recipient\",\n",
      "      \"description\": \"Email Recipient: Email address of the email recipient.\",\n",
      "      \"type\": \"string\"\n",
      "    },\n",
      "    \"subject\": {\n",
      "      \"title\": \"Email Subject\",\n",
      "      \"description\": \"Email Subject: Subject of the email.\",\n",
      "      \"type\": \"string\"\n",
      "    },\n",
      "    \"body\": {\n",
      "      \"title\": \"Email Body\",\n",
      "      \"description\": \"Email Body: Body of the email.\",\n",
      "      \"type\": \"string\"\n",
      "    }\n",
      "  },\n",
      "  \"required\": [\n",
      "    \"recipient\",\n",
      "    \"subject\",\n",
      "    \"body\"\n",
      "  ]\n",
      "}\n"
     ]
    }
   ],
   "source": [
    "# Check the action's input schema.\n",
    "print(send_email_action.get_schema_json())"
   ]
  },
  {
   "cell_type": "markdown",
   "metadata": {},
   "source": [
    "Run the action manually:"
   ]
  },
  {
   "cell_type": "code",
   "execution_count": null,
   "metadata": {},
   "outputs": [],
   "source": [
    "send_email_action.run(\n",
    "    {\n",
    "        \"recipient\": recepient_email,\n",
    "        \"subject\": \"Test email\",\n",
    "        \"body\": \"This is a test email sent from Connery.\",\n",
    "    }\n",
    ")"
   ]
  },
  {
   "cell_type": "markdown",
   "metadata": {},
   "source": [
    "Run the action using the OpenAI Functions agent:"
   ]
  },
  {
   "cell_type": "code",
   "execution_count": 8,
   "metadata": {},
   "outputs": [
    {
     "name": "stdout",
     "output_type": "stream",
     "text": [
      "\n",
      "\n",
      "\u001b[1m> Entering new AgentExecutor chain...\u001b[0m\n",
      "\u001b[32;1m\u001b[1;3m\n",
      "Invoking: `CABC80BB79C15067CA983495324AE709` with `{'recipient': 'test@example.com', 'subject': 'Late for Meeting', 'body': 'Dear Team,\\n\\nI wanted to inform you that I will be late for the meeting today. I apologize for any inconvenience caused. Please proceed with the meeting without me and I will join as soon as I can.\\n\\nBest regards,\\n[Your Name]'}`\n",
      "\n",
      "\n",
      "\u001b[0m\u001b[36;1m\u001b[1;3m{'messageId': '<74441e82-43a3-322b-d41a-0f96357201e9@gmail.com>'}\u001b[0m\u001b[32;1m\u001b[1;3mI have sent an email to test@example.com with the subject \"Late for Meeting\" and the following message:\n",
      "\n",
      "Dear Team,\n",
      "\n",
      "I wanted to inform you that I will be late for the meeting today. I apologize for any inconvenience caused. Please proceed with the meeting without me and I will join as soon as I can.\n",
      "\n",
      "Best regards,\n",
      "[Your Name]\u001b[0m\n",
      "\n",
      "\u001b[1m> Finished chain.\u001b[0m\n"
     ]
    },
    {
     "data": {
      "text/plain": [
       "'I have sent an email to test@example.com with the subject \"Late for Meeting\" and the following message:\\n\\nDear Team,\\n\\nI wanted to inform you that I will be late for the meeting today. I apologize for any inconvenience caused. Please proceed with the meeting without me and I will join as soon as I can.\\n\\nBest regards,\\n[Your Name]'"
      ]
     },
     "execution_count": 8,
     "metadata": {},
     "output_type": "execute_result"
    }
   ],
   "source": [
    "llm = ChatOpenAI(temperature=0)\n",
    "agent = initialize_agent(\n",
    "    [send_email_action], llm, AgentType.OPENAI_FUNCTIONS, verbose=True\n",
    ")\n",
    "\n",
    "agent.run(\n",
    "    f\"Send an email to the {recepient_email} and say that I will be late for the meeting.\"\n",
    ")"
   ]
  }
 ],
 "metadata": {
  "kernelspec": {
   "display_name": "Python 3",
   "language": "python",
   "name": "python3"
  },
  "language_info": {
   "codemirror_mode": {
    "name": "ipython",
    "version": 3
   },
   "file_extension": ".py",
   "mimetype": "text/x-python",
   "name": "python",
   "nbconvert_exporter": "python",
   "pygments_lexer": "ipython3",
   "version": "3.10.13"
  }
 },
 "nbformat": 4,
 "nbformat_minor": 2
}
