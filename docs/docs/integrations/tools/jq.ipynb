{
 "cells": [
  {
   "cell_type": "markdown",
   "metadata": {},
   "source": [
    "## JQ Tool\n",
    "\n",
    "At times, manipulating JSON data involves more than just retrieving keys or values; it can be a complex process of transformation or filtering. The following example demonstrates how the JQ tool can be used for such advanced JSON manipulations."
   ]
  },
  {
   "cell_type": "code",
   "execution_count": 33,
   "metadata": {},
   "outputs": [],
   "source": [
    "from langchain_community.tools.requests.tool import RequestsGetTool, TextRequestsWrapper\n",
    "from langchain_community.tools.jq.tool import JQ\n",
    "\n",
    "\n",
    "request_get = RequestsGetTool(requests_wrapper=TextRequestsWrapper()) \n",
    "jq = JQ(query_expression='.age+5', return_type='first')\n"
   ]
  },
  {
   "cell_type": "code",
   "execution_count": 34,
   "metadata": {},
   "outputs": [],
   "source": [
    "from langchain_core.runnables import RunnablePassthrough\n",
    "\n",
    "\n",
    "chain = RunnablePassthrough.assign(response=request_get) | RunnablePassthrough.assign(output=lambda x: jq(x['response']))"
   ]
  },
  {
   "cell_type": "code",
   "execution_count": 35,
   "metadata": {},
   "outputs": [
    {
     "name": "stdout",
     "output_type": "stream",
     "text": [
      "{\"count\":5707,\"name\":\"jackson\",\"age\":38}\n"
     ]
    },
    {
     "data": {
      "text/plain": [
       "{'url': 'https://api.agify.io/?name=jackson',\n",
       " 'response': '{\"count\":5707,\"name\":\"jackson\",\"age\":38}',\n",
       " 'output': '43'}"
      ]
     },
     "execution_count": 35,
     "metadata": {},
     "output_type": "execute_result"
    }
   ],
   "source": [
    "chain.invoke({'url': \"https://api.agify.io/?name=jackson\"})"
   ]
  },
  {
   "cell_type": "code",
   "execution_count": null,
   "metadata": {},
   "outputs": [],
   "source": []
  }
 ],
 "metadata": {
  "kernelspec": {
   "display_name": "langchain",
   "language": "python",
   "name": "python3"
  },
  "language_info": {
   "codemirror_mode": {
    "name": "ipython",
    "version": 3
   },
   "file_extension": ".py",
   "mimetype": "text/x-python",
   "name": "python",
   "nbconvert_exporter": "python",
   "pygments_lexer": "ipython3",
   "version": "3.10.13"
  }
 },
 "nbformat": 4,
 "nbformat_minor": 2
}
