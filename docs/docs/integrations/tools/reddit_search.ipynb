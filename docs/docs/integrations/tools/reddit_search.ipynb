{
 "cells": [
  {
   "cell_type": "markdown",
   "metadata": {},
   "source": [
    "# Reddit Search \n",
    "\n",
    "In this notebook, we learn how the reddit search tool works.  \n",
    "First make sure that you have installed praw with the command below:  "
   ]
  },
  {
   "cell_type": "code",
   "execution_count": null,
   "metadata": {
    "vscode": {
     "languageId": "shellscript"
    }
   },
   "outputs": [],
   "source": [
    "!pip install praw"
   ]
  },
  {
   "cell_type": "markdown",
   "metadata": {},
   "source": [
    "Then you need to set you need to set up the proper API keys and environment variables. You would need to create a reddit user account and get credentials. So, create a reddit user account by going to https://www.reddit.com  and signing up.  \n",
    "Then get your credentials by going to https://www.reddit.com/prefs/apps and creating an app.  \n",
    "You should have your client_id and secret from creating the app. Now, you can paste those strings in client_id and client_secret variable.  \n",
    "Note: You can put any string for user_agent  "
   ]
  },
  {
   "cell_type": "code",
   "execution_count": 1,
   "metadata": {},
   "outputs": [],
   "source": [
    "client_id=\"\"\n",
    "client_secret=\"\"\n",
    "user_agent=\"\""
   ]
  },
  {
   "cell_type": "code",
   "execution_count": null,
   "metadata": {},
   "outputs": [],
   "source": [
    "from langchain.tools.reddit_search.tool import RedditSearchRun\n",
    "from langchain.utilities.reddit_search import RedditSearchAPIWrapper\n",
    "\n",
    "search = RedditSearchRun(\n",
    "    api_wrapper= RedditSearchAPIWrapper(\n",
    "    reddit_client_id=client_id, \n",
    "    reddit_client_secret=client_secret, \n",
    "    reddit_user_agent=user_agent\n",
    "))"
   ]
  },
  {
   "cell_type": "markdown",
   "metadata": {},
   "source": [
    "You can then set your queries for example, what subreddit you want to query, how many posts you want to be returned, how you would like the result to be sorted etc."
   ]
  },
  {
   "cell_type": "code",
   "execution_count": null,
   "metadata": {},
   "outputs": [],
   "source": [
    "from langchain.tools.reddit_search.tool import RedditSearchSchema\n",
    "\n",
    "search_params = RedditSearchSchema(\n",
    "    query=\"beginner\",\n",
    "    sort=\"new\",\n",
    "    time_filter=\"week\",\n",
    "    subreddit=\"python\",\n",
    "    limit=\"5\"\n",
    ")"
   ]
  },
  {
   "cell_type": "markdown",
   "metadata": {},
   "source": [
    "Finally run the search and get your results"
   ]
  },
  {
   "cell_type": "code",
   "execution_count": null,
   "metadata": {},
   "outputs": [],
   "source": [
    "result = search.run(tool_input=search_params.dict())"
   ]
  },
  {
   "cell_type": "code",
   "execution_count": null,
   "metadata": {},
   "outputs": [],
   "source": [
    "print(result)"
   ]
  },
  {
   "cell_type": "markdown",
   "metadata": {},
   "source": [
    "Here is an example of printing the result.  \n",
    "Note: You may get different output depending on the newest post in the subreddit but the formatting should be similar."
   ]
  },
  {
   "cell_type": "markdown",
   "metadata": {},
   "source": [
    "\n",
    "> Searching r/python found 2 posts:\n",
    "> Post Title: 'Setup Github Copilot in Visual Studio Code'\n",
    "> User: Feisty-Recording-715\n",
    "> Subreddit: r/Python:\n",
    ">                     Text body: 🛠️ This tutorial is perfect for beginners looking to strengthen their understanding of version control or for experienced developers seeking a quick reference for GitHub setup in Visual Studio Code.\n",
    ">\n",
    ">🎓 By the end of this video, you'll be equipped with the skills to confidently manage your codebase, collaborate with others, and contribute to open-source projects on GitHub.\n",
    ">\n",
    ">\n",
    ">Video link: https://youtu.be/IdT1BhrSfdo?si=mV7xVpiyuhlD8Zrw\n",
    ">\n",
    ">Your feedback is welcome\n",
    ">                     Post URL: https://www.reddit.com/r/Python/comments/1823wr7/setup_github_copilot_in_visual_studio_code/\n",
    ">                     Post Category: N/A.\n",
    ">                     Score: 0\n",
    ">\n",
    ">Post Title: 'A Chinese Checkers game made with pygame and PySide6, with custom bots support'\n",
    ">User: HenryChess\n",
    ">Subreddit: r/Python:\n",
    ">                     Text body: GitHub link: https://github.com/henrychess/pygame-chinese-checkers\n",
    ">\n",
    ">I'm not sure if this counts as beginner or intermediate. I think I'm still in the beginner zone, so I flair it as beginner.\n",
    ">\n",
    ">This is a Chinese Checkers (aka Sternhalma) game for 2 to 3 players. The bots I wrote are easy to beat, as they're mainly for debugging the game logic part of the code. However, you can write up your own custom bots. There is a guide at the github page.\n",
    ">                     Post URL: https://www.reddit.com/r/Python/comments/181xq0u/a_chinese_checkers_game_made_with_pygame_and/\n",
    ">                     Post Category: N/A.\n",
    " >                    Score: 1\n",
    "\n"
   ]
  }
 ],
 "metadata": {
  "kernelspec": {
   "display_name": "Python 3",
   "language": "python",
   "name": "python3"
  },
  "language_info": {
   "codemirror_mode": {
    "name": "ipython",
    "version": 3
   },
   "file_extension": ".py",
   "mimetype": "text/x-python",
   "name": "python",
   "nbconvert_exporter": "python",
   "pygments_lexer": "ipython3",
   "version": "3.11.5"
  }
 },
 "nbformat": 4,
 "nbformat_minor": 2
}
