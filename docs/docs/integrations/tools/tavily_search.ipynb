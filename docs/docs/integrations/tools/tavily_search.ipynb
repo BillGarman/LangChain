{
 "cells": [
  {
   "cell_type": "markdown",
   "id": "a6f91f20",
   "metadata": {},
   "source": [
    "# Tavily Search"
   ]
  },
  {
   "cell_type": "markdown",
   "id": "5e24a889",
   "metadata": {},
   "source": [
    "[Tavily's Search API](https://tavily.com) is a search engine built specifically for AI agents (LLMs), delivering real-time, accurate, and factual results at speed.\n",
    "\n",
    "## Setup\n",
    "\n",
    "The integration lives in the `langchain-community` package. We also need to install the `tavily-python` package itself.\n",
    "\n",
    "```bash\n",
    "pip install -U langchain-community tavily-python\n",
    "```\n",
    "\n",
    "We also need to set our Tavily API key."
   ]
  },
  {
   "cell_type": "code",
   "execution_count": null,
   "id": "e0b178a2-8816-40ca-b57c-ccdd86dde9c9",
   "metadata": {},
   "outputs": [],
   "source": [
    "import getpass\n",
    "import os\n",
    "\n",
    "os.environ[\"TAVILY_API_KEY\"] = getpass.getpass()"
   ]
  },
  {
   "cell_type": "markdown",
   "id": "b50d6c92",
   "metadata": {},
   "source": [
    "## Usage\n",
    "\n",
    "We show here how to use it as part of an [agent](/docs/modules/agents). We use the OpenAI Functions Agent, so we will need to setup and install the required dependencies for that. We will also use [LangSmith Hub](https://smith.langchain.com/hub) to pull the prompt from, so we will need to install that.\n",
    "\n",
    "```bash\n",
    "pip install -U openai langchainhub\n",
    "```"
   ]
  },
  {
   "cell_type": "code",
   "execution_count": null,
   "id": "a1c8ea19-7100-407d-8e8c-f037f9317255",
   "metadata": {},
   "outputs": [],
   "source": [
    "import getpass\n",
    "import os\n",
    "\n",
    "os.environ[\"OPENAI_API_KEY\"] = getpass.getpass()"
   ]
  },
  {
   "cell_type": "code",
   "execution_count": 1,
   "id": "520767b8-9e61-4485-840a-d16f1da5eb3a",
   "metadata": {
    "ExecuteTime": {
     "end_time": "2023-10-21T13:15:37.974229Z",
     "start_time": "2023-10-21T13:15:10.007898Z"
    }
   },
   "outputs": [
    {
     "ename": "NameError",
     "evalue": "name 'TavilySearchAPIWrapper' is not defined",
     "output_type": "error",
     "traceback": [
      "\u001b[0;31m---------------------------------------------------------------------------\u001b[0m",
      "\u001b[0;31mNameError\u001b[0m                                 Traceback (most recent call last)",
      "Cell \u001b[0;32mIn[1], line 8\u001b[0m\n\u001b[1;32m      6\u001b[0m prompt \u001b[38;5;241m=\u001b[39m base_prompt\u001b[38;5;241m.\u001b[39mpartial(instructions\u001b[38;5;241m=\u001b[39minstructions)\n\u001b[1;32m      7\u001b[0m llm \u001b[38;5;241m=\u001b[39m ChatOpenAI(temperature\u001b[38;5;241m=\u001b[39m\u001b[38;5;241m0\u001b[39m)\n\u001b[0;32m----> 8\u001b[0m search \u001b[38;5;241m=\u001b[39m \u001b[43mTavilySearchAPIWrapper\u001b[49m()\n\u001b[1;32m      9\u001b[0m tavily_tool \u001b[38;5;241m=\u001b[39m TavilySearchResults(api_wrapper\u001b[38;5;241m=\u001b[39msearch)\n\u001b[1;32m     10\u001b[0m tools \u001b[38;5;241m=\u001b[39m [tavily_tool]\n",
      "\u001b[0;31mNameError\u001b[0m: name 'TavilySearchAPIWrapper' is not defined"
     ]
    }
   ],
   "source": [
    "from langchain import hub\n",
    "from langchain.agents import AgentExecutor, create_openai_functions_agent\n",
    "from langchain_community.chat_models import ChatOpenAI\n",
    "instructions = \"\"\"You are an assistant.\"\"\"\n",
    "base_prompt = hub.pull(\"langchain-ai/openai-functions-template\")\n",
    "prompt = base_prompt.partial(instructions=instructions)\n",
    "llm = ChatOpenAI(temperature=0)\n",
    "search = TavilySearchAPIWrapper()\n",
    "tavily_tool = TavilySearchResults(api_wrapper=search)\n",
    "tools = [tavily_tool]\n",
    "agent = create_openai_functions_agent(llm, tools, prompt)\n",
    "agent_executor = AgentExecutor(\n",
    "    agent=agent,\n",
    "    tools=tools,\n",
    "    verbose=True,\n",
    ")"
   ]
  },
  {
   "cell_type": "code",
   "execution_count": null,
   "id": "e9303451-3853-47ce-93c9-1898436a6472",
   "metadata": {
    "ExecuteTime": {
     "end_time": "2023-10-21T13:15:37.974229Z",
     "start_time": "2023-10-21T13:15:10.007898Z"
    }
   },
   "outputs": [],
   "source": [
    "agent_executor.run(\n",
    "    \"What happened in the latest burning man floods?\",\n",
    ")"
   ]
  },
  {
   "cell_type": "code",
   "execution_count": null,
   "id": "86cd0a02",
   "metadata": {},
   "outputs": [],
   "source": []
  }
 ],
 "metadata": {
  "kernelspec": {
   "display_name": "Python 3 (ipykernel)",
   "language": "python",
   "name": "python3"
  },
  "language_info": {
   "codemirror_mode": {
    "name": "ipython",
    "version": 3
   },
   "file_extension": ".py",
   "mimetype": "text/x-python",
   "name": "python",
   "nbconvert_exporter": "python",
   "pygments_lexer": "ipython3",
   "version": "3.11.1"
  }
 },
 "nbformat": 4,
 "nbformat_minor": 5
}
