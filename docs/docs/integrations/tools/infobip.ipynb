{
 "cells": [
  {
   "cell_type": "markdown",
   "metadata": {},
   "source": [
    "# Infobip\n",
    "This notebook that shows how to use [Infobip](https://www.infobip.com/) API wrapper to send SMS messages, emails or validate emails.\n",
    "\n",
    "Infobip provides many services, but this notebook will focus on SMS and email services. You can find more information about the API and other channels [here](https://www.infobip.com/docs/api)."
   ]
  },
  {
   "cell_type": "markdown",
   "metadata": {},
   "source": [
    "## Setup\n",
    "\n",
    "To use this tool you need to have an Infobip account. You can create [free trial account](https://www.infobip.com/docs/essentials/free-trial).\n",
    "\n",
    "\n",
    "`InfobipAPIWrapper` uses name parameters where you can provide credentials:\n",
    "- `infobip_api_key` - API key that you can find in your [developer tools](https://portal.infobip.com/dev/api-keys)\n",
    "- `infobip_base_url` - base URL for Infobip API. You can use default value `https://api.infobip.com/`.\n",
    "\n",
    "You can also provide `infobip_api_key` and `infobip_base_url` as environment variables `INFOBIP_API_KEY` and `INFOBIP_BASE_URL`."
   ]
  },
  {
   "cell_type": "markdown",
   "metadata": {},
   "source": [
    "## Sending a SMS"
   ]
  },
  {
   "cell_type": "code",
   "execution_count": null,
   "metadata": {
    "vscode": {
     "languageId": "plaintext"
    }
   },
   "outputs": [],
   "source": [
    "from langchain_community.utilities.infobip import InfobipAPIWrapper\n",
    "\n",
    "infobip: InfobipAPIWrapper = InfobipAPIWrapper()\n",
    "\n",
    "infobip.run(\n",
    "    to=\"+821012345678\",\n",
    "    text=\"Hello, World!\",\n",
    "    sender=\"Langchain\",\n",
    "    channel=\"sms\",\n",
    ")"
   ]
  },
  {
   "cell_type": "markdown",
   "metadata": {},
   "source": [
    "## Sending a email"
   ]
  },
  {
   "cell_type": "code",
   "execution_count": null,
   "metadata": {
    "vscode": {
     "languageId": "plaintext"
    }
   },
   "outputs": [],
   "source": [
    "from langchain_community.utilities.infobip import InfobipAPIWrapper\n",
    "\n",
    "infobip: InfobipAPIWrapper = InfobipAPIWrapper()\n",
    "\n",
    "infobip.run(\n",
    "    to=\"test@test.com\",\n",
    "    sender=\"test@test.com\",\n",
    "    subject=\"example\",\n",
    "    body=\"example\",\n",
    "    channel=\"email\",\n",
    ")"
   ]
  },
  {
   "cell_type": "markdown",
   "metadata": {},
   "source": [
    "## Validate email"
   ]
  },
  {
   "cell_type": "code",
   "execution_count": null,
   "metadata": {
    "vscode": {
     "languageId": "plaintext"
    }
   },
   "outputs": [],
   "source": [
    "from langchain_community.utilities.infobip import InfobipAPIWrapper\n",
    "\n",
    "infobip: InfobipAPIWrapper = InfobipAPIWrapper()\n",
    "\n",
    "infobip.run(\n",
    "    to=\"test@test.com\",\n",
    "    channel=\"email-validation\",\n",
    ")"
   ]
  },
  {
   "cell_type": "markdown",
   "metadata": {},
   "source": [
    "# How to use it inside an Agent "
   ]
  },
  {
   "cell_type": "code",
   "execution_count": null,
   "metadata": {
    "vscode": {
     "languageId": "plaintext"
    }
   },
   "outputs": [],
   "source": [
    "from langchain import hub\n",
    "from langchain.agents import AgentExecutor, Tool, create_openai_functions_agent\n",
    "from langchain.pydantic_v1 import BaseModel, Field\n",
    "from langchain_community.utilities.infobip import InfobipAPIWrapper\n",
    "from langchain_openai import ChatOpenAI\n",
    "\n",
    "instructions = \"\"\"\n",
    "You are a communication agent. You are talking to a customer who wants to know about the product.\n",
    "The customer asks you about the product. You answer the customer's question via email if you have a offer.\n",
    "\"\"\"\n",
    "base_prompt = hub.pull(\"langchain-ai/openai-functions-template\")\n",
    "prompt = base_prompt.partial(instructions=instructions)\n",
    "llm = ChatOpenAI(temperature=0)\n",
    "\n",
    "\n",
    "class EmailInput(BaseModel):\n",
    "    body: str = Field(description=\"Email body text\")\n",
    "    to: int = Field(description=\"Email address to send to\")\n",
    "    sender: str = Field(description=\"Email address to send from\")\n",
    "    subject: str = Field(description=\"Email subject\")\n",
    "    channel: str = Field(\n",
    "        description=\"Channel type (email, sms, email-validation) (default: email)\"\n",
    "    )\n",
    "\n",
    "\n",
    "infobip_api_wrapper: InfobipAPIWrapper = InfobipAPIWrapper()\n",
    "infobip_tool = Tool(\n",
    "    name=\"infobip_sms\",\n",
    "    description=\"Send SMS via Infobip. If you need to send email, use infobip_email\",\n",
    "    func=infobip_api_wrapper.run,\n",
    ")\n",
    "tools = [infobip_tool]\n",
    "\n",
    "agent = create_openai_functions_agent(llm, tools, prompt)\n",
    "agent_executor = AgentExecutor(\n",
    "    agent=agent,\n",
    "    tools=tools,\n",
    "    verbose=True,\n",
    ")\n",
    "\n",
    "agent_executor.invoke(\n",
    "    {\"input\": \"Which products are usable inside langchain community?\"}\n",
    ")"
   ]
  }
 ],
 "metadata": {
  "language_info": {
   "name": "python"
  }
 },
 "nbformat": 4,
 "nbformat_minor": 2
}
