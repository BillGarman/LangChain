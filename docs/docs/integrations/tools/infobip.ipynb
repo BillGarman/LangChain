{
 "cells": [
  {
   "cell_type": "markdown",
   "metadata": {},
   "source": [
    "# Infobip\n",
    "This notebook that shows how to use [Infobip](https://www.infobip.com/) API wrapper to send SMS messages, emails or validate emails.\n",
    "\n",
    "Infobip provides many services, but this notebook will focus on SMS and email services. You can find more information about the API and other channels [here](https://www.infobip.com/docs/api)."
   ]
  },
  {
   "cell_type": "markdown",
   "metadata": {},
   "source": [
    "## Setup\n",
    "\n",
    "To use this tool you need to have an Infobip account. You can create [free trial account](https://www.infobip.com/docs/essentials/free-trial).\n",
    "\n",
    "\n",
    "`InfobipAPIWrapper` uses name parameters where you can provide credentials:\n",
    "- `infobip_api_key` - API key that you can find in your [developer tools](https://portal.infobip.com/dev/api-keys)\n",
    "- `infobip_base_url` - base URL for Infobip API. You can use default value `https://api.infobip.com/`.\n",
    "\n",
    "You can also provide `infobip_api_key` and `infobip_base_url` as environment variables `INFOBIP_API_KEY` and `INFOBIP_BASE_URL`."
   ]
  },
  {
   "cell_type": "markdown",
   "metadata": {},
   "source": [
    "## Sending a SMS"
   ]
  },
  {
   "cell_type": "code",
   "execution_count": null,
   "metadata": {
    "vscode": {
     "languageId": "plaintext"
    }
   },
   "outputs": [],
   "source": [
    "from langchain_community.utilities.infobip import InfobipAPIWrapper\n",
    "\n",
    "infobip: InfobipAPIWrapper = InfobipAPIWrapper()\n",
    "\n",
    "infobip.run(\n",
    "    to=\"+821012345678\",\n",
    "    text=\"Hello, World!\",\n",
    "    sender=\"Langchain\",\n",
    "    channel=\"sms\",\n",
    ")"
   ]
  },
  {
   "cell_type": "markdown",
   "metadata": {},
   "source": [
    "## Sending a email"
   ]
  },
  {
   "cell_type": "code",
   "execution_count": null,
   "metadata": {
    "vscode": {
     "languageId": "plaintext"
    }
   },
   "outputs": [],
   "source": [
    "from langchain_community.utilities.infobip import InfobipAPIWrapper\n",
    "\n",
    "infobip: InfobipAPIWrapper = InfobipAPIWrapper()\n",
    "\n",
    "infobip.run(\n",
    "    to=\"test@test.com\",\n",
    "    sender=\"test@test.com\",\n",
    "    subject=\"example\",\n",
    "    body=\"example\",\n",
    "    channel=\"email\",\n",
    ")"
   ]
  },
  {
   "cell_type": "markdown",
   "metadata": {},
   "source": [
    "## Validate email"
   ]
  },
  {
   "cell_type": "code",
   "execution_count": null,
   "metadata": {
    "vscode": {
     "languageId": "plaintext"
    }
   },
   "outputs": [],
   "source": [
    "from langchain_community.utilities.infobip import InfobipAPIWrapper\n",
    "\n",
    "infobip: InfobipAPIWrapper = InfobipAPIWrapper()\n",
    "\n",
    "infobip.run(\n",
    "    to=\"test@test.com\",\n",
    "    channel=\"email-validation\",\n",
    ")"
   ]
  }
 ],
 "metadata": {
  "language_info": {
   "name": "python"
  }
 },
 "nbformat": 4,
 "nbformat_minor": 2
}
