{
 "cells": [
  {
   "attachments": {},
   "cell_type": "markdown",
   "id": "dc23c48e",
   "metadata": {},
   "source": [
    "# Infobip\n",
    "\n",
    "This notebook show how to use the [Infobip](https://www.infobip.com/) API wrapper to send SMS or Email messages via [Infobip API](https://www.infobip.com/docs/api).\n",
    "\n",
    "Infobip API enables you to send SMS and Email messages to your customers. You can send SMS messages or Emails to your customers in almost any country in the world."
   ]
  },
  {
   "attachments": {},
   "cell_type": "markdown",
   "id": "c1a33b13",
   "metadata": {},
   "source": [
    "## Setup\n",
    "\n",
    "To use this tool you need to install the Python Infobip SDK package `infobip-api-python-sdk`"
   ]
  },
  {
   "cell_type": "code",
   "execution_count": 1,
   "id": "98b544b9",
   "metadata": {},
   "outputs": [],
   "source": [
    "%pip install --upgrade --quiet  infobip-api-python-sdk"
   ]
  },
  {
   "attachments": {},
   "cell_type": "markdown",
   "id": "f7e883ae",
   "metadata": {},
   "source": [
    "You will also need to setup an Infobip account and get your credentials. You can [sign up for a free trial account](https://www.infobip.com/docs/essentials/free-trial).\n",
    "\n",
    "Named parameters for `InfobipAPIWrapper`:\n",
    "- `api_key` - API key\n",
    "- `base_url` - Base URL for the API (default: `https://api.infobip.com/`)\n",
    "\n",
    "Environment variables can also be used:\n",
    "- `INFOBIP_API_KEY` - API key\n",
    "- `INFOBIP_BASE_URL` - Base URL for the API (default: `https://api.infobip.com/`)\n",
    "- `INFOBIP_FROM_EMAIL` - From email address for email messages\n"
   ]
  },
  {
   "attachments": {},
   "cell_type": "markdown",
   "id": "36c133be",
   "metadata": {},
   "source": [
    "## Sending an Message"
   ]
  },
  {
   "cell_type": "code",
   "execution_count": 1,
   "id": "54bf5afd",
   "metadata": {},
   "outputs": [],
   "source": [
    "from langchain_community.utilities.infobip import InfobipAPIWrapper"
   ]
  },
  {
   "cell_type": "code",
   "execution_count": 2,
   "id": "31f8f382",
   "metadata": {},
   "outputs": [],
   "source": [
    "infobip = InfobipAPIWrapper(\n",
    "    api_key=\"**********\",\n",
    "    base_url=\"https://api.infobip.com\",\n",
    "    from_email=\"test@example.com\",  # optional\n",
    ")"
   ]
  },
  {
   "cell_type": "code",
   "execution_count": null,
   "id": "5009d763",
   "metadata": {},
   "outputs": [],
   "source": [
    "# Sending SMS\n",
    "infobip.run(message=\"Hello via SMS\", to=\"+17706762438\")\n",
    "\n",
    "# Sending Email\n",
    "infobip.run(message=\"Hello via Email\", to=\"test@example.com\", subject=\"Hello\")"
   ]
  },
  {
   "cell_type": "markdown",
   "id": "5af52bdf",
   "metadata": {},
   "source": [
    "## Integration with Langchain Agents\n",
    "\n",
    "To integrate this tool with Langchain Agents you need to import `Tool` class from `langchain.agents` package and create a new instance of the tool which integrats with `InfobipAPIWrapper`."
   ]
  },
  {
   "cell_type": "code",
   "execution_count": null,
   "id": "b1beec3c",
   "metadata": {},
   "outputs": [],
   "source": [
    "from langchain import hub\n",
    "from langchain.agents import AgentExecutor, create_openai_functions_agent\n",
    "\n",
    "from langchain_community.utilities.infobip import InfobipAPIWrapper\n",
    "from langchain_community.tools.infobip.tool import InfobipTool\n",
    "\n",
    "from langchain_openai import ChatOpenAI\n",
    "\n",
    "\n",
    "infobip_tool: InfobipTool = InfobipTool(api_wrapper=InfobipAPIWrapper())\n",
    "tools = [infobip_tool]\n",
    "\n",
    "llm = ChatOpenAI(model=\"gpt-4\", temperature=0.1)\n",
    "\n",
    "prompt = hub.pull(\"hwchase17/openai-functions-agent\")\n",
    "agent = create_openai_functions_agent(llm, tools, prompt)\n",
    "agent_executor = AgentExecutor(agent=agent, tools=tools, verbose=True)\n",
    "\n",
    "agent_executor.invoke(\n",
    "    {\n",
    "        \"input\": \"Hello, can send me some links how to use Langchain to my email address test@test.com\"\n",
    "    }\n",
    ")"
   ]
  }
 ],
 "metadata": {
  "kernelspec": {
   "display_name": "Python 3 (ipykernel)",
   "language": "python",
   "name": "python3"
  },
  "language_info": {
   "codemirror_mode": {
    "name": "ipython",
    "version": 3
   },
   "file_extension": ".py",
   "mimetype": "text/x-python",
   "name": "python",
   "nbconvert_exporter": "python",
   "pygments_lexer": "ipython3",
   "version": "3.11.3"
  }
 },
 "nbformat": 4,
 "nbformat_minor": 5
}
