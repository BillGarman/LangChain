{
 "cells": [
  {
   "cell_type": "markdown",
   "metadata": {},
   "source": [
    "<header>\n",
    "   <p  style='font-size:36px;font-family:Arial; padding-left: 20pt; padding-top: 20pt;padding-bottom: 10pt; padding-right: 20pt;'>\n",
    "      Teradata Document Loader\n",
    "</header>"
   ]
  },
  {
   "cell_type": "code",
   "execution_count": null,
   "metadata": {},
   "outputs": [],
   "source": [
    "# !pip install teradatasql"
   ]
  },
  {
   "cell_type": "code",
   "execution_count": null,
   "metadata": {},
   "outputs": [],
   "source": [
    "from langchain_community.document_loaders.teradata import TeradataLoader"
   ]
  },
  {
   "cell_type": "code",
   "execution_count": null,
   "metadata": {},
   "outputs": [],
   "source": [
    "loader = TeradataLoader(\n",
    "    query=\"SELECT comment_id, customer_id, comment_summary FROM DEMO_Retail.Web_Comment\",\n",
    "    db_url=\"host_url\",\n",
    "    user=\"demo_user\",\n",
    "    password=\"password\",\n",
    "    page_content_columns=[\"comment_summary\"],\n",
    "    metadata_columns=[\"customer_id\"]\n",
    ")"
   ]
  },
  {
   "cell_type": "code",
   "execution_count": null,
   "metadata": {},
   "outputs": [],
   "source": [
    "teradata_documents = list(loader.lazy_load())\n",
    "print(teradata_documents)\n",
    "# for document in teradata_documents:\n",
    "#     print(document)\n",
    "\n",
    "# # for metadata in teradata_documents:\n",
    "# #     print(metadata)"
   ]
  }
 ],
 "metadata": {
  "kernelspec": {
   "display_name": "Python 3",
   "language": "python",
   "name": "python3"
  },
  "language_info": {
   "name": "python",
   "version": "3.12.2"
  }
 },
 "nbformat": 4,
 "nbformat_minor": 2
}
