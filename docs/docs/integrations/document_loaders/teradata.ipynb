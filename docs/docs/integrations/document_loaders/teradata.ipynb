{
 "cells": [
  {
   "cell_type": "markdown",
   "metadata": {},
   "source": [
    "<header>\n",
    "   <p  style='font-size:36px;font-family:Arial; padding-left: 20pt; padding-top: 20pt;padding-bottom: 10pt; padding-right: 20pt;'>\n",
    "      Teradata Document Loader\n",
    "</header>"
   ]
  },
  {
   "cell_type": "code",
   "execution_count": null,
   "metadata": {},
   "outputs": [],
   "source": [
    "# !pip install teradatasql"
   ]
  },
  {
   "cell_type": "code",
   "execution_count": null,
   "metadata": {},
   "outputs": [],
   "source": [
    "from langchain_community.document_loaders.teradata import TeradataLoader"
   ]
  },
  {
   "cell_type": "code",
   "execution_count": null,
   "metadata": {},
   "outputs": [],
   "source": [
    "loader = TeradataLoader(\n",
    "    query=\"SELECT * FROM DEMO_MarketingCamp_db.Retail_Marketing\",\n",
    "    db_url=\"<HOST_URL>\",\n",
    "    user=\"demo_user\",\n",
    "    password=\"password\",\n",
    "    page_content_columns=[\"age\", \"profession\", \"marital\", \"education\", \"city\", \"gender\"],\n",
    "    metadata_columns=[\"customer_id\"],\n",
    ")"
   ]
  },
  {
   "cell_type": "code",
   "execution_count": null,
   "metadata": {},
   "outputs": [],
   "source": [
    "teradata_documents = loader.load()\n",
    "print(teradata_documents)"
   ]
  }
 ],
 "metadata": {
  "kernelspec": {
   "display_name": "Python 3",
   "language": "python",
   "name": "python3"
  },
  "language_info": {
   "name": "python",
   "version": "3.12.2"
  }
 },
 "nbformat": 4,
 "nbformat_minor": 2
}
