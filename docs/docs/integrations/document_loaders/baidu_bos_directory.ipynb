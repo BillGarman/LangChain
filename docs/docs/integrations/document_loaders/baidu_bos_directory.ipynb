{
 "cells": [
  {
   "attachments": {},
   "cell_type": "markdown",
   "metadata": {},
   "source": [
    "# Baidu BOS Directory\n",
    ">[Baidu Object Storage](https://cloud.baidu.com/doc/BOS/index.html) provides a stable, safe, efficient, and scalable cloud storage service.\n",
    "\n",
    "This covers how to load document objects from a `Baidu BOS Directory`."
   ]
  },
  {
   "cell_type": "code",
   "execution_count": null,
   "metadata": {},
   "outputs": [],
   "source": [
    "#! pip install bce-python-sdk"
   ]
  },
  {
   "cell_type": "code",
   "execution_count": null,
   "metadata": {},
   "outputs": [],
   "source": [
    "from baidubce.bce_client_configuration import BceClientConfiguration\n",
    "from baidubce.auth.bce_credentials import BceCredentials\n",
    "\n",
    "bos_host = \"${BOS_ENDPOINT}\"\n",
    "access_key_id = \"${AK}\"\n",
    "secret_access_key = \"${SK}\""
   ]
  },
  {
   "cell_type": "code",
   "execution_count": null,
   "metadata": {},
   "outputs": [],
   "source": [
    "from langchain.document_loaders.baiducloud_bos_directory import BaiduBOSDirectoryLoader\n",
    "\n",
    "loader = BaiduBOSDirectoryLoader(conf=config, bucket=\"${BUCKET}\")\n",
    "documents = loader.load()"
   ]
  },
  {
   "attachments": {},
   "cell_type": "markdown",
   "metadata": {},
   "source": [
    "You can also specify a prefix for more finegrained control over what files to load."
   ]
  },
  {
   "cell_type": "code",
   "execution_count": null,
   "metadata": {},
   "outputs": [],
   "source": [
    "loader = BaiduBOSDirectoryLoader(conf=config, bucket=\"${BUCKET}\", prefix=\"${PREFIX}\")\n",
    "documents = loader.load()"
   ]
  }
 ],
 "metadata": {
  "kernelspec": {
   "display_name": "Python 3",
   "language": "python",
   "name": "python3"
  },
  "language_info": {
   "name": "python",
   "version": "3.9.17"
  },
  "orig_nbformat": 4,
  "vscode": {
   "interpreter": {
    "hash": "aee8b7b246df8f9039afb4144a1f6fd8d2ca17a180786b69acc140d282b71a49"
   }
  }
 },
 "nbformat": 4,
 "nbformat_minor": 2
}
