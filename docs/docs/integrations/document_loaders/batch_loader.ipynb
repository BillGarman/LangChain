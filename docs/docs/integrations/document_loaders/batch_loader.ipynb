{
 "cells": [
  {
   "cell_type": "markdown",
   "metadata": {},
   "source": [
    "# Batch Loader"
   ]
  },
  {
   "cell_type": "markdown",
   "metadata": {},
   "source": [
    "The `BatchLoader` is a Meta Loader that allows you to load multiple datasources at once. Loaders are designed to load a single data by using the `load` method and loading multiple datasources at once requires a bit of boilerplate code. The `BatchLoader` is designed to make this process easier.\n",
    "\n",
    "Usually, loading multiple data can be can be optimized by loading them in parallel. With the `BatchLoader` you can either load them using [multiprocessing](https://docs.python.org/3/library/multiprocessing.html), [multithreading](https://docs.python.org/3/library/threading.html), [asyncio](https://docs.python.org/3/library/asyncio.html) or sequentially.\n",
    "\n",
    "Each method is best suited for different use cases:\n",
    "- **Multiprocessing**: When loading data from different sources and the process is CPU bound. Multiprocessing creates heavy weight processes that run in parallel. It is useful when the process is CPU bound and you want to take advantage of multiple cores.\n",
    "- **Multithreading**: Using multithreading makes your OS create real threads, but the GIL prevents them from running in parallel. However, when the process is IO bound, the threads will be waiting for the IO to complete, so the GIL will not be a problem.\n",
    "- **Asyncio**: When loading data from different sources and the process is IO bound. Asyncio is a single threaded event loop that allows you to run multiple tasks concurrently. Asyncio can create a infinite number of coroutines that are scheduled by the event loop. This is useful when calling APIs or loading data from the internet.\n",
    "- **Sequentially**: classic sequential loading. Nothing special."
   ]
  },
  {
   "cell_type": "markdown",
   "metadata": {},
   "source": [
    "### Load data from an API call"
   ]
  },
  {
   "cell_type": "code",
   "execution_count": 28,
   "metadata": {},
   "outputs": [],
   "source": [
    "from langchain_community.document_loaders import BatchLoader, YoutubeLoader"
   ]
  },
  {
   "cell_type": "code",
   "execution_count": 11,
   "metadata": {},
   "outputs": [],
   "source": [
    "# Simulate a list of 20 youtube videos\n",
    "youtube_videos = [\"https://www.youtube.com/watch?v=3vbziEu2aO0\"] * 20\n",
    "\n",
    "# You can instantiate a batch loader using a callable that returns\n",
    "# a Loader instance (e.g. YoutubeLoader.from_youtube_url)\n",
    "sequential_loader_youtube = BatchLoader(\n",
    "    YoutubeLoader.from_youtube_url,\n",
    "    {\"youtube_url\": youtube_videos},\n",
    "    show_progress=True,\n",
    ")\n",
    "\n",
    "threaded_loader_youtube = BatchLoader(\n",
    "    YoutubeLoader.from_youtube_url,\n",
    "    {\"youtube_url\": youtube_videos},\n",
    "    show_progress=True,\n",
    "    method=\"thread\",\n",
    "    max_workers=2,\n",
    ")\n",
    "\n",
    "processed_loader_youtube = BatchLoader(\n",
    "    YoutubeLoader.from_youtube_url,\n",
    "    {\"youtube_url\": youtube_videos},\n",
    "    show_progress=True,\n",
    "    method=\"process\",\n",
    "    max_workers=2,\n",
    ")\n",
    "\n",
    "async_loader_youtube = BatchLoader(\n",
    "    YoutubeLoader.from_youtube_url,\n",
    "    {\"youtube_url\": youtube_videos},\n",
    "    show_progress=True,\n",
    "    method=\"async\",\n",
    ")"
   ]
  },
  {
   "cell_type": "code",
   "execution_count": 16,
   "metadata": {},
   "outputs": [
    {
     "name": "stderr",
     "output_type": "stream",
     "text": [
      "100%|██████████| 20/20 [00:13<00:00,  1.49it/s]\n"
     ]
    }
   ],
   "source": [
    "sequential_loader_youtube.load(); # load sequential"
   ]
  },
  {
   "cell_type": "code",
   "execution_count": 17,
   "metadata": {},
   "outputs": [
    {
     "name": "stderr",
     "output_type": "stream",
     "text": [
      "100%|██████████| 20/20 [00:05<00:00,  3.69it/s]\n"
     ]
    }
   ],
   "source": [
    "threaded_loader_youtube.load(); # launch with 2 threads"
   ]
  },
  {
   "cell_type": "code",
   "execution_count": 22,
   "metadata": {},
   "outputs": [
    {
     "name": "stderr",
     "output_type": "stream",
     "text": [
      "100%|██████████| 20/20 [00:05<00:00,  3.35it/s]\n"
     ]
    }
   ],
   "source": [
    "processed_loader_youtube.load(); # launch with 2 processes"
   ]
  },
  {
   "cell_type": "code",
   "execution_count": 27,
   "metadata": {},
   "outputs": [
    {
     "name": "stderr",
     "output_type": "stream",
     "text": [
      "100%|██████████| 20/20 [00:01<00:00, 16.00it/s]\n"
     ]
    }
   ],
   "source": [
    "await async_loader_youtube.aload(); # launch with asyncio"
   ]
  },
  {
   "cell_type": "markdown",
   "metadata": {},
   "source": [
    "As you can see in the above example, `async` method is best suited for loading data from an API call (16 iterations/s !!). Now it's time to choose the best method for your use case. 🤗"
   ]
  }
 ],
 "metadata": {
  "kernelspec": {
   "display_name": "langchain",
   "language": "python",
   "name": "python3"
  },
  "language_info": {
   "codemirror_mode": {
    "name": "ipython",
    "version": 3
   },
   "file_extension": ".py",
   "mimetype": "text/x-python",
   "name": "python",
   "nbconvert_exporter": "python",
   "pygments_lexer": "ipython3",
   "version": "3.9.0"
  },
  "orig_nbformat": 4
 },
 "nbformat": 4,
 "nbformat_minor": 2
}
