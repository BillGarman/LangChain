{
 "cells": [
  {
   "cell_type": "markdown",
   "metadata": {},
   "source": [
    "# DirectoryLoader"
   ]
  },
  {
   "cell_type": "code",
   "execution_count": 1,
   "metadata": {},
   "outputs": [],
   "source": [
    "from langchain_community.document_loaders.directory import DirectoryLoader"
   ]
  },
  {
   "cell_type": "markdown",
   "metadata": {},
   "source": [
    "Load all .csv files in a directory:"
   ]
  },
  {
   "cell_type": "code",
   "execution_count": 2,
   "metadata": {},
   "outputs": [
    {
     "data": {
      "text/plain": [
       "[Document(page_content='\\n\\n\\nTeam\\n\"Payroll (millions)\"\\n\"Wins\"\\n\\n\\nNationals\\n81.34\\n98\\n\\n\\nReds\\n82.20\\n97\\n\\n\\nYankees\\n197.96\\n95\\n\\n\\nGiants\\n117.62\\n94\\n\\n\\nBraves\\n83.31\\n94\\n\\n\\nAthletics\\n55.37\\n94\\n\\n\\nRangers\\n120.51\\n93\\n\\n\\nOrioles\\n81.43\\n93\\n\\n\\nRays\\n64.17\\n90\\n\\n\\nAngels\\n154.49\\n89\\n\\n\\nTigers\\n132.30\\n88\\n\\n\\nCardinals\\n110.30\\n88\\n\\n\\nDodgers\\n95.14\\n86\\n\\n\\nWhite Sox\\n96.92\\n85\\n\\n\\nBrewers\\n97.65\\n83\\n\\n\\nPhillies\\n174.54\\n81\\n\\n\\nDiamondbacks\\n74.28\\n81\\n\\n\\nPirates\\n63.43\\n79\\n\\n\\nPadres\\n55.24\\n76\\n\\n\\nMariners\\n81.97\\n75\\n\\n\\nMets\\n93.35\\n74\\n\\n\\nBlue Jays\\n75.48\\n73\\n\\n\\nRoyals\\n60.91\\n72\\n\\n\\nMarlins\\n118.07\\n69\\n\\n\\nRed Sox\\n173.18\\n69\\n\\n\\nIndians\\n78.43\\n68\\n\\n\\nTwins\\n94.08\\n66\\n\\n\\nRockies\\n78.06\\n64\\n\\n\\nCubs\\n88.19\\n61\\n\\n\\nAstros\\n60.65\\n55\\n\\n\\n', metadata={'source': 'example_data\\\\mlb_teams_2012.csv'})]"
      ]
     },
     "execution_count": 2,
     "metadata": {},
     "output_type": "execute_result"
    }
   ],
   "source": [
    "loader = DirectoryLoader(\"./example_data\", glob=\"*.csv\")\n",
    "\n",
    "data = loader.load()\n",
    "data"
   ]
  },
  {
   "cell_type": "markdown",
   "metadata": {},
   "source": [
    "Recursively search for files:"
   ]
  },
  {
   "cell_type": "code",
   "execution_count": 3,
   "metadata": {},
   "outputs": [
    {
     "data": {
      "text/plain": [
       "[Document(page_content='\\n\\n\\nTeam\\n\"Payroll (millions)\"\\n\"Wins\"\\n\\n\\nNationals\\n81.34\\n98\\n\\n\\nReds\\n82.20\\n97\\n\\n\\nYankees\\n197.96\\n95\\n\\n\\nGiants\\n117.62\\n94\\n\\n\\nBraves\\n83.31\\n94\\n\\n\\nAthletics\\n55.37\\n94\\n\\n\\nRangers\\n120.51\\n93\\n\\n\\nOrioles\\n81.43\\n93\\n\\n\\nRays\\n64.17\\n90\\n\\n\\nAngels\\n154.49\\n89\\n\\n\\nTigers\\n132.30\\n88\\n\\n\\nCardinals\\n110.30\\n88\\n\\n\\nDodgers\\n95.14\\n86\\n\\n\\nWhite Sox\\n96.92\\n85\\n\\n\\nBrewers\\n97.65\\n83\\n\\n\\nPhillies\\n174.54\\n81\\n\\n\\nDiamondbacks\\n74.28\\n81\\n\\n\\nPirates\\n63.43\\n79\\n\\n\\nPadres\\n55.24\\n76\\n\\n\\nMariners\\n81.97\\n75\\n\\n\\nMets\\n93.35\\n74\\n\\n\\nBlue Jays\\n75.48\\n73\\n\\n\\nRoyals\\n60.91\\n72\\n\\n\\nMarlins\\n118.07\\n69\\n\\n\\nRed Sox\\n173.18\\n69\\n\\n\\nIndians\\n78.43\\n68\\n\\n\\nTwins\\n94.08\\n66\\n\\n\\nRockies\\n78.06\\n64\\n\\n\\nCubs\\n88.19\\n61\\n\\n\\nAstros\\n60.65\\n55\\n\\n\\n', metadata={'source': 'example_data\\\\mlb_teams_2012.csv'}),\n",
       " Document(page_content='\\n\\n\\nID\\nTimestamp\\nContents\\nAttachments\\n\\n\\n7.73264E+18\\n2023-04-19T15:14:45.904819+00:00\\nlaocgfgbxyqfigvtyyygjzypxininrybgqopjhkyocn fxizft\\n\\n\\n\\n1.99429E+18\\n2023-04-19T15:14:45.904819+00:00\\nm azzxnhpcdkj  deabrzkpklhhxrup viigcolsdwvgquosgs\\n\\n\\n\\n5.46657E+18\\n2023-04-19T15:14:45.904819+00:00\\npnoyrpfbpgzqzlcmnygxpeninagmhcuvwcfkstv v wimoqbjl\\n\\n\\n\\n2.52945E+18\\n2023-04-19T15:14:45.904819+00:00\\nzyamxydlcnvffutsrzybrjgdweksdavidcmqjuqhnyj zplsbf\\n\\n\\n\\n1.00972E+18\\n2023-04-19T15:14:45.904819+00:00\\nrqcraobyubce qtxyiekooxbagcrwnpuekpzpwb vbzg vxug\\n\\n\\n\\n3.40036E+18\\n2023-04-19T15:14:45.904819+00:00\\najobxzq fmyi pwllwibzchbbc pi pl xmgbkomjeuwxtvcec\\n\\n\\n\\n1.458E+18\\n2023-04-19T15:14:45.904819+00:00\\nwwtgiqwnjgoaxfmzsmiuaxffpdtrluizcrd vborgbakllp\\n\\n\\n\\n2.63376E+18\\n2023-04-19T15:14:45.904819+00:00\\nmmixphkhxocrm rzhplafjdvaginiatvfwzaurcskst bzm pq\\n\\n\\n\\n1.24759E+18\\n2023-04-19T15:14:45.904819+00:00\\nmxovpytofnyattthirmujcnfyhuhxpdpugnsuklumhfjlsxrmd\\n\\n\\n\\n6.65128E+18\\n2023-04-19T15:14:45.904819+00:00\\nqmcrsmpwvfcwxnmxywiwbjqawyihhtoimvtd xapneudhqsgzb\\n\\n\\n\\n1.87212E+18\\n2023-04-19T15:14:45.904819+00:00\\npvioh tufobtsrypvbvkfziiosxpbndbikxtjpxnrsekjnnqln\\n\\n\\n\\n3.20698E+18\\n2023-04-19T15:14:45.904819+00:00\\nvqckuxkwuvbnrmyxkcknavugo as tsuarsgpt ofqnypcnooo\\n\\n\\n\\n1.64922E+18\\n2023-04-19T15:14:45.904819+00:00\\nlhuiygxfyyplmavhmh xekrqzkoynukkwytwscqvtwfkofgpob\\n\\n\\n\\n2.41786E+18\\n2023-04-19T15:14:45.904819+00:00\\nw tiwiazlpcdzkq dllkkssuvfgp veejpwbcrgwcrlhammasb\\n\\n\\n\\n4.85078E+18\\n2023-04-19T15:14:45.904819+00:00\\nhxdqifrvhjmjcqubcxdjbyxvvrcbqukocesbsnjwvrsunhjtgy\\n\\n\\n\\n9.67192E+18\\n2023-04-19T15:14:45.904819+00:00\\nlvopnufjxinbnjj vuctgmfbzpbcctgtcguqyicrzhtxuyaraz\\n\\n\\n\\n1.36832E+18\\n2023-04-19T15:14:45.904819+00:00\\neoqae kpjrar oyohjxvtracan rhawxndcjzdtuihnvpspofl\\n\\n\\n\\n8.49915E+18\\n2023-04-19T15:14:45.904819+00:00\\nnenoiwnthlff bpnkushjauygeayczympzldynnmtxcwgwxs i\\n\\n\\n\\n2.77678E+18\\n2023-04-19T15:14:45.904819+00:00\\nsgyqsohwfzvcweipxqeobypcsvtwegatpoylnewmraxhuuydyj\\n\\n\\n\\n4.92832E+18\\n2023-04-19T15:14:45.904819+00:00\\nrbdufatb purkhyohcnfnimmukbywmuzwu gclhrkjtccwjdlz\\n\\n\\n\\n7.23162E+18\\n2023-04-19T15:14:45.904819+00:00\\neoyqrvfzmx zzeieycroxgbtcywra h ewwqyyledeyifbqpgc\\n\\n\\n\\n6.45453E+18\\n2023-04-19T15:14:45.904819+00:00\\nmeedxdm lqiwaoihp vxkdpeky xpbqul ntagpsvatctvlndm\\n\\n\\n\\n8.27908E+18\\n2023-04-19T15:14:45.904819+00:00\\nrduzlmcdatuqfqj ffmd y ohtnzeljqtbqgnaqovlkgltqd c\\n\\n\\n\\n2.93854E+18\\n2023-04-19T15:14:45.904819+00:00\\ncnbjvqkktq fstvagcrlqje kuwtokyzefkyyjqfsklpisvgtq\\n\\n\\n\\n1.04768E+18\\n2023-04-19T15:14:45.904819+00:00\\nqlgprkrujrsgqbalgcqphgjxivi krmsxjdasrrkibvloepxkj\\n\\n\\n\\n', metadata={'source': 'example_data\\\\fake_discord_data\\\\package\\\\messages\\\\c105765859191975936\\\\messages.csv'}),\n",
       " Document(page_content='\\n\\n\\nID\\nTimestamp\\nContents\\nAttachments\\n\\n\\n1.47809E+18\\n2023-04-19T15:14:45.904819+00:00\\nuzcnkwihjpgebzbyoawjmdjgbkklkftcyuh foquydvtmstcfu\\n\\n\\n\\n4.00581E+18\\n2023-04-19T15:14:45.904819+00:00\\nrynkekmyjjtzggaljqcittebsnjycdmtwcru azydhspjaxnyt\\n\\n\\n\\n1.36534E+18\\n2023-04-19T15:14:45.904819+00:00\\nmniilaaixnyilcxwqpt nlhhiznxqfzmop gxnvxdwfmmascnu\\n\\n\\n\\n3.1629E+18\\n2023-04-19T15:14:45.904819+00:00\\ntojvfcfwzutrigubyumjgrrlgqzzbpfxkoizeouiqvarorlwku\\n\\n\\n\\n2.68425E+18\\n2023-04-19T15:14:45.904819+00:00\\na kcnmdoihlhhxcxu bstaripbwfpzpymdlwlis wlafdnoyjz\\n\\n\\n\\n1.79263E+18\\n2023-04-19T15:14:45.904819+00:00\\nbwulzntrjwdqrwxupzqkcymucsoudavgjsl bsyhemlkqfxmtu\\n\\n\\n\\n2.5596E+18\\n2023-04-19T15:14:45.904819+00:00\\nlrqrqrjjmdztdb luvjohqwdhccvpvkvsezguljcznotdhmewb\\n\\n\\n\\n7.80319E+18\\n2023-04-19T15:14:45.904819+00:00\\nyyxvqa racggimihbqpnpbmvqrjystz bbcrbvrfpzfpwylor\\n\\n\\n\\n2.87859E+18\\n2023-04-19T15:14:45.904819+00:00\\nsldlvbsvsjydyssx szubtxepedpexkjxelpbahtbhsgqnubts\\n\\n\\n\\n3.35071E+18\\n2023-04-19T15:14:45.904819+00:00\\ni dykkzyyh rzjxvqhflwiggdjmj nxpylnylyfrsflevudndi\\n\\n\\n\\n1.77492E+18\\n2023-04-19T15:14:45.904819+00:00\\ncipadtwyfcqedxyeqtgkuaxuyfhzen xeskxdffdsmvxgvw iw\\n\\n\\n\\n3.04212E+18\\n2023-04-19T15:14:45.904819+00:00\\ngqtsvofcquaqyacuiptjmcdnugnq hjbuauorsvycovkbqipmq\\n\\n\\n\\n2.65597E+18\\n2023-04-19T15:14:45.904819+00:00\\nv qwodtiyatoshmetelpraicqumykpyizfedjyoaadkzktcmsm\\n\\n\\n\\n2.19468E+18\\n2023-04-19T15:14:45.904819+00:00\\nzxgxnsnuppffkrrsxjtyqpngwacbfimtdsofujkxbxxarvbvko\\n\\n\\n\\n1.91541E+18\\n2023-04-19T15:14:45.904819+00:00\\nhovfcfagrhutkyodmmzhatxauxdjkgybpwqvphfnkzw sgypum\\n\\n\\n\\n1.75751E+18\\n2023-04-19T15:14:45.904819+00:00\\nplwjdvafiuhrtvcdrtgqokcnjhmpsqzifegtqprkxlivpsbpwi\\n\\n\\n\\n3.2122E+18\\n2023-04-19T15:14:45.904819+00:00\\nczgx  irpgzhzgbeppdilordvkwmsqambmftgykaiaecqpjrax\\n\\n\\n\\n2.15895E+18\\n2023-04-19T15:14:45.904819+00:00\\nzjxrajtgztenabm etzctpjycssmnqdqasqjutzpbdkahoyihe\\n\\n\\n\\n3.37031E+18\\n2023-04-19T15:14:45.904819+00:00\\ndiydwqhmbwtgjadktdmpxsirkfebthszqzondcnolwmv  ymok\\n\\n\\n\\n2.55075E+18\\n2023-04-19T15:14:45.904819+00:00\\nnytfrlqtildomd awxfoiiam mkzoluaielunfdfmqqlagfurl\\n\\n\\n\\n9.51223E+18\\n2023-04-19T15:14:45.904819+00:00\\nsjpngdyjpvmwygrfhinuyifqaoxxmqqh gwuwwm  bjogbkyay\\n\\n\\n\\n1.94921E+18\\n2023-04-19T15:14:45.904819+00:00\\npx ymxfdxqgxjtbqqqegakvrrjxcvvakctfysdhklmwyewlwbb\\n\\n\\n\\n2.36906E+18\\n2023-04-19T15:14:45.904819+00:00\\nyqidtvcw  gdkfynaapjuicujgsbjptzytbnbjeyqcjx jyedb\\n\\n\\n\\n', metadata={'source': 'example_data\\\\fake_discord_data\\\\package\\\\messages\\\\c278566343836565505\\\\messages.csv'}),\n",
       " Document(page_content='\\n\\n\\nID\\nTimestamp\\nContents\\nAttachments\\n\\n\\n1.73378E+18\\n2023-04-19T15:14:45.904819+00:00\\nonxspdnegnuurahqni oeitwykfj ugtzshspflmbmknsnlk l\\n\\n\\n\\n1.20231E+18\\n2023-04-19T15:14:45.904819+00:00\\nnwkhdxnbakfknkteenlxbxsyoppazuqmexwbzcbsdyoiwmuvka\\n\\n\\n\\n2.65947E+18\\n2023-04-19T15:14:45.904819+00:00\\nojptvfkxlbjvcvsupu ffmplreedjihyvfdscbukvzehnt vtw\\n\\n\\n\\n2.06963E+18\\n2023-04-19T15:14:45.904819+00:00\\nvmtfbchpmgkhxztqaaip vfqxa cbczcngjw rqvv rjyzi jq\\n\\n\\n\\n3.63729E+18\\n2023-04-19T15:14:45.904819+00:00\\nbzu rbzscuxbns pzdhxljtjeeycrkxawnkfijejeiacreaohv\\n\\n\\n\\n3.02184E+18\\n2023-04-19T15:14:45.904819+00:00\\nhykp f ymloqerbrqw dmjnaidmrtiptddwklgiq tnchvhend\\n\\n\\n\\n5.24553E+18\\n2023-04-19T15:14:45.904819+00:00\\nvdqzdwlbqftcdwujb lmpxpvpkfwrhqtimsillbjhmqajiishq\\n\\n\\n\\n1.65527E+18\\n2023-04-19T15:14:45.904819+00:00\\nbfxqasdgvwvlxwcicwubkswglvkgxfsl zgixcjxsijgxehjiz\\n\\n\\n\\n2.20821E+18\\n2023-04-19T15:14:45.904819+00:00\\nebdzopyggwozhltkgcemokweqwetwixbbiirbdrrcfh cnjepo\\n\\n\\n\\n3.16844E+18\\n2023-04-19T15:14:45.904819+00:00\\nkvzkkctyfkbwbzld rvyc futqqy btzdrhzgupewnypqfpaeg\\n\\n\\n\\n1.61396E+18\\n2023-04-19T15:14:45.904819+00:00\\nknvdgz mbtffhkkkpialwuv daopeizmduqspmbcwxnnbhlwha\\n\\n\\n\\n2.81571E+18\\n2023-04-19T15:14:45.904819+00:00\\njersivpwzdkeojlgoatabkylwkakvc bdgfbwxdptbkjzz ggr\\n\\n\\n\\n3.40391E+18\\n2023-04-19T15:14:45.904819+00:00\\nyfqxvtwgtx od edrjecmlkzff tpjwomslqfazbontudinuwd\\n\\n\\n\\n3.28846E+18\\n2023-04-19T15:14:45.904819+00:00\\niicbtmyyduzkelxhkjzcbmgmvymdrxrgmalqmmkgbiebjxfupk\\n\\n\\n\\n3.07483E+18\\n2023-04-19T15:14:45.904819+00:00\\ndshzluvbws sqlkiolbcgkpyyjfgygebvtbwrikphbolinhfgb\\n\\n\\n\\n1.02645E+18\\n2023-04-19T15:14:45.904819+00:00\\nazavhzs lqmyywuazktjnfoueodnifmabwncutonxobagezcdc\\n\\n\\n\\n1.47806E+18\\n2023-04-19T15:14:45.904819+00:00\\ny avjaztlvnhndvtetlggacqcqqqeoirsegxvvt hzvzbxyz k\\n\\n\\n\\n3.21892E+18\\n2023-04-19T15:14:45.904819+00:00\\nqirrzbfauh qhnmectgzhklbsqtczpdbkfllkfsyvqibdbdzwl\\n\\n\\n\\n8.5125E+18\\n2023-04-19T15:14:45.904819+00:00\\nrppotdjzhunsleitmkacb ayahzsdcvonkbcraupptgbzprxpw\\n\\n\\n\\n1.68082E+18\\n2023-04-19T15:14:45.904819+00:00\\nfmi yzzpjahjsglugqsr ftnfenecusvxlgibriab hhixi sn\\n\\n\\n\\n2.71383E+18\\n2023-04-19T15:14:45.904819+00:00\\niiipytktiwfncwhpaomaiggbkplljwanz aooetlxdmptnrldd\\n\\n\\n\\n5.41415E+18\\n2023-04-19T15:14:45.904819+00:00\\nhzktxuzbbohewniuvmfwozvjspbcwjopckxqhtsfzkfvlcfkhb\\n\\n\\n\\n1.03761E+18\\n2023-04-19T15:14:45.904819+00:00\\nsoxiekgwgmcmkdlkkahy hwklijxui svjtvtrvqynyab kboo\\n\\n\\n\\n3.46004E+18\\n2023-04-19T15:14:45.904819+00:00\\nutqftetseeoeqyxziun wmmeeeqfsrjsdjeavqxaynjlt ylwa\\n\\n\\n\\n3.11829E+18\\n2023-04-19T15:14:45.904819+00:00\\nmlvfhewkgyujwvkgcxfkqdvhzbamnicbixfr bmeqrupjqzodc\\n\\n\\n\\n1.49917E+18\\n2023-04-19T15:14:45.904819+00:00\\nshiqajrwvnnlswfumpuklbcmvwxlzwsqbtkemtgxftzawcasp\\n\\n\\n\\n1.66646E+18\\n2023-04-19T15:14:45.904819+00:00\\nfvqhkbeyfgdskwtmvxaevseludcbexrmuexutxslcrurpnzvgq\\n\\n\\n\\n2.30657E+18\\n2023-04-19T15:14:45.904819+00:00\\naybugszvsiulaiwsrhsfhlxzbvhkzycrguacvkfldqljeabbac\\n\\n\\n\\n2.97167E+18\\n2023-04-19T15:14:45.904819+00:00\\nhygdjbntfldfvekmibiishgsenqmxktzxlifyobiaobmlorzac\\n\\n\\n\\n5.1492E+18\\n2023-04-19T15:14:45.904819+00:00\\nhqj lumbkmcpxiveavnskdwcezlbhgtsrqfuzlujzchtgbtbpr\\n\\n\\n\\n2.79248E+18\\n2023-04-19T15:14:45.904819+00:00\\nxnfcwkcacjsyiilhofciwqtia bmoyqijqqgyywqchroyvkjpw\\n\\n\\n\\n4.81233E+18\\n2023-04-19T15:14:45.904819+00:00\\njorqswywqxweporcylafryeqszwhhlltdpzyl rgok xqwiqrs\\n\\n\\n\\n1.40105E+18\\n2023-04-19T15:14:45.904819+00:00\\nwdixo pwtkncjcysjlqxizfszswebtpmxqnexwfsmyigsmcxlx\\n\\n\\n\\n8.2921E+18\\n2023-04-19T15:14:45.904819+00:00\\nezjizizvhszejvireuikhdakdzinmvyikcmmgczsuiyhngn o\\n\\n\\n\\n1.0653E+18\\n2023-04-19T15:14:45.904819+00:00\\nwnr gijmotnliwiiekohcpinqouapsovzvjopgpnloplowpao\\n\\n\\n\\n4.52542E+18\\n2023-04-19T15:14:45.904819+00:00\\nbbjfmtjlkynuqkknloihfefvrleyxghzjhuscpucizbkeucukx\\n\\n\\n\\n2.04423E+18\\n2023-04-19T15:14:45.904819+00:00\\nayummlirgdcmdkjwxvnvzzsrsiptfbmofdsrzhb bnar ujwoo\\n\\n\\n\\n1.68893E+18\\n2023-04-19T15:14:45.904819+00:00\\nluoquyxohllzphpy cczgu t czcsydxrqzkvellptwuptwqp\\n\\n\\n\\n6.04148E+18\\n2023-04-19T15:14:45.904819+00:00\\nztscfhjmwxae matehymiylitkeznbkc ilefzcvwhctiyvpay\\n\\n\\n\\n8.3099E+18\\n2023-04-19T15:14:45.904819+00:00\\ndpnchtfgcvramkpyrz ebgmxmqmmhddhhbljligcozkifi qhg\\n\\n\\n\\n3.14567E+18\\n2023-04-19T15:14:45.904819+00:00\\nlqrjodxueugzwytktyhwcwbjbspamtdmslkdbsjpmwqzaxqmyx\\n\\n\\n\\n2.00435E+18\\n2023-04-19T15:14:45.904819+00:00\\nnbrsffcvhcwylekehvdqxuagulgobbxdrbuaaqvlsedauljcob\\n\\n\\n\\n2.72827E+18\\n2023-04-19T15:14:45.904819+00:00\\neujuyr epmiaqdfjtzqqtixadpuitxzvupltyikigol exjdbg\\n\\n\\n\\n1.7177E+18\\n2023-04-19T15:14:45.904819+00:00\\ncqnzjkkerbtppocttzpyubfastswsuwavbnqqanaysaoxa ddz\\n\\n\\n\\n2.30855E+18\\n2023-04-19T15:14:45.904819+00:00\\nfqidr kcmltwfnzejuigwpalgwzhbfnolokvmfxzhbofaofior\\n\\n\\n\\n1.86142E+18\\n2023-04-19T15:14:45.904819+00:00\\nolathpeoblzhejswcvmbxtvjeepyfjjobqrhwcxrqbunjoeddc\\n\\n\\n\\n2.88792E+18\\n2023-04-19T15:14:45.904819+00:00\\nuf jljvcrbtnkrcebwfuvxey knnjabarpjacypegnqpmzhrff\\n\\n\\n\\n', metadata={'source': 'example_data\\\\fake_discord_data\\\\package\\\\messages\\\\c279692806442844161\\\\messages.csv'}),\n",
       " Document(page_content='\\n\\n\\nID\\nTimestamp\\nContents\\nAttachments\\n\\n\\n2.79079E+18\\n2023-04-19T15:14:45.904819+00:00\\ncl iqaczcrrlprzvbdtvpmduzrdlmtquejjhjfjnt zdsqyksh\\n\\n\\n\\n1.51164E+18\\n2023-04-19T15:14:45.904819+00:00\\nywvnjmtybk f ghdagriyswf exupccijgl calztfvujxhujt\\n\\n\\n\\n1.66032E+18\\n2023-04-19T15:14:45.904819+00:00\\ntrxcvlcersrdnqzqzfvrrzehmpekrsdtkbovvagsdlcwqokckq\\n\\n\\n\\n2.86805E+18\\n2023-04-19T15:14:45.904819+00:00\\nqnkkqjwmwtiqggfko hxzufqnrvpionnglpppuncyswnjibdda\\n\\n\\n\\n3.04157E+18\\n2023-04-19T15:14:45.904819+00:00\\nnn vitqoscgsiauiezyyficcbgnjyhaujvthdydmoeistkyskl\\n\\n\\n\\n', metadata={'source': 'example_data\\\\fake_discord_data\\\\package\\\\messages\\\\c280973436971515906\\\\messages.csv'})]"
      ]
     },
     "execution_count": 3,
     "metadata": {},
     "output_type": "execute_result"
    }
   ],
   "source": [
    "loader = DirectoryLoader(\"./example_data\", glob=\"*.csv\", recursive=True)\n",
    "\n",
    "data = loader.load()\n",
    "data"
   ]
  },
  {
   "cell_type": "markdown",
   "metadata": {},
   "source": [
    "By default, `DirectoryLoader` uses the `UnstructuredFileLoader` to load a file. You can specify another loader class with the `loader_cls` argument. You can pass keyword arguments to the `loader_cls` via the optional `loader_kwargs` argument."
   ]
  },
  {
   "cell_type": "code",
   "execution_count": 4,
   "metadata": {},
   "outputs": [
    {
     "name": "stdout",
     "output_type": "stream",
     "text": [
      "30\n"
     ]
    },
    {
     "data": {
      "text/plain": [
       "[Document(page_content='Team: Nationals\\n\"Payroll (millions)\": 81.34\\n\"Wins\": 98', metadata={'source': 'example_data\\\\mlb_teams_2012.csv', 'row': 0}),\n",
       " Document(page_content='Team: Reds\\n\"Payroll (millions)\": 82.20\\n\"Wins\": 97', metadata={'source': 'example_data\\\\mlb_teams_2012.csv', 'row': 1}),\n",
       " Document(page_content='Team: Yankees\\n\"Payroll (millions)\": 197.96\\n\"Wins\": 95', metadata={'source': 'example_data\\\\mlb_teams_2012.csv', 'row': 2}),\n",
       " Document(page_content='Team: Giants\\n\"Payroll (millions)\": 117.62\\n\"Wins\": 94', metadata={'source': 'example_data\\\\mlb_teams_2012.csv', 'row': 3}),\n",
       " Document(page_content='Team: Braves\\n\"Payroll (millions)\": 83.31\\n\"Wins\": 94', metadata={'source': 'example_data\\\\mlb_teams_2012.csv', 'row': 4}),\n",
       " Document(page_content='Team: Athletics\\n\"Payroll (millions)\": 55.37\\n\"Wins\": 94', metadata={'source': 'example_data\\\\mlb_teams_2012.csv', 'row': 5}),\n",
       " Document(page_content='Team: Rangers\\n\"Payroll (millions)\": 120.51\\n\"Wins\": 93', metadata={'source': 'example_data\\\\mlb_teams_2012.csv', 'row': 6}),\n",
       " Document(page_content='Team: Orioles\\n\"Payroll (millions)\": 81.43\\n\"Wins\": 93', metadata={'source': 'example_data\\\\mlb_teams_2012.csv', 'row': 7}),\n",
       " Document(page_content='Team: Rays\\n\"Payroll (millions)\": 64.17\\n\"Wins\": 90', metadata={'source': 'example_data\\\\mlb_teams_2012.csv', 'row': 8}),\n",
       " Document(page_content='Team: Angels\\n\"Payroll (millions)\": 154.49\\n\"Wins\": 89', metadata={'source': 'example_data\\\\mlb_teams_2012.csv', 'row': 9})]"
      ]
     },
     "execution_count": 4,
     "metadata": {},
     "output_type": "execute_result"
    }
   ],
   "source": [
    "from langchain_community.document_loaders.csv_loader import CSVLoader\n",
    "\n",
    "loader = DirectoryLoader(\"./example_data\", glob=\"*.csv\", loader_cls=CSVLoader)\n",
    "\n",
    "data = loader.load()\n",
    "print(len(data))\n",
    "data[:10]"
   ]
  },
  {
   "cell_type": "markdown",
   "metadata": {},
   "source": [
    "If there are too many documents to load at once, you may want to load each document separately. You can use the `lazy_load` function for that:"
   ]
  },
  {
   "cell_type": "code",
   "execution_count": 5,
   "metadata": {},
   "outputs": [
    {
     "name": "stdout",
     "output_type": "stream",
     "text": [
      "page_content='Team: Nationals\\n\"Payroll (millions)\": 81.34\\n\"Wins\": 98' metadata={'source': 'example_data\\\\mlb_teams_2012.csv', 'row': 0}\n",
      "page_content='Team: Reds\\n\"Payroll (millions)\": 82.20\\n\"Wins\": 97' metadata={'source': 'example_data\\\\mlb_teams_2012.csv', 'row': 1}\n",
      "page_content='Team: Yankees\\n\"Payroll (millions)\": 197.96\\n\"Wins\": 95' metadata={'source': 'example_data\\\\mlb_teams_2012.csv', 'row': 2}\n",
      "page_content='Team: Giants\\n\"Payroll (millions)\": 117.62\\n\"Wins\": 94' metadata={'source': 'example_data\\\\mlb_teams_2012.csv', 'row': 3}\n",
      "page_content='Team: Braves\\n\"Payroll (millions)\": 83.31\\n\"Wins\": 94' metadata={'source': 'example_data\\\\mlb_teams_2012.csv', 'row': 4}\n",
      "page_content='Team: Athletics\\n\"Payroll (millions)\": 55.37\\n\"Wins\": 94' metadata={'source': 'example_data\\\\mlb_teams_2012.csv', 'row': 5}\n",
      "page_content='Team: Rangers\\n\"Payroll (millions)\": 120.51\\n\"Wins\": 93' metadata={'source': 'example_data\\\\mlb_teams_2012.csv', 'row': 6}\n",
      "page_content='Team: Orioles\\n\"Payroll (millions)\": 81.43\\n\"Wins\": 93' metadata={'source': 'example_data\\\\mlb_teams_2012.csv', 'row': 7}\n",
      "page_content='Team: Rays\\n\"Payroll (millions)\": 64.17\\n\"Wins\": 90' metadata={'source': 'example_data\\\\mlb_teams_2012.csv', 'row': 8}\n",
      "page_content='Team: Angels\\n\"Payroll (millions)\": 154.49\\n\"Wins\": 89' metadata={'source': 'example_data\\\\mlb_teams_2012.csv', 'row': 9}\n"
     ]
    }
   ],
   "source": [
    "loader = DirectoryLoader(\"./example_data\", glob=\"*.csv\", loader_cls=CSVLoader)\n",
    "\n",
    "for i, doc in enumerate(loader.lazy_load()):\n",
    "    if i == 10:\n",
    "        break\n",
    "    print(doc)"
   ]
  }
 ],
 "metadata": {
  "kernelspec": {
   "display_name": "langchain",
   "language": "python",
   "name": "python3"
  },
  "language_info": {
   "codemirror_mode": {
    "name": "ipython",
    "version": 3
   },
   "file_extension": ".py",
   "mimetype": "text/x-python",
   "name": "python",
   "nbconvert_exporter": "python",
   "pygments_lexer": "ipython3",
   "version": "3.9.19"
  }
 },
 "nbformat": 4,
 "nbformat_minor": 2
}
