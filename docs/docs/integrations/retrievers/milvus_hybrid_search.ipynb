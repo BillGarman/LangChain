{
 "cells": [
  {
   "attachments": {},
   "cell_type": "markdown",
   "id": "9fc6205b",
   "metadata": {},
   "source": [
    "# Milvus Hybrid Search\n",
    "\n",
    "TODO"
   ]
  },
  {
   "cell_type": "markdown",
   "id": "51489529-5dcd-4b86-bda6-de0a39d8ffd1",
   "metadata": {},
   "source": [
    "## Installation"
   ]
  },
  {
   "attachments": {},
   "cell_type": "markdown",
   "id": "1435c804-069d-4ade-9a7b-006b97b767c1",
   "metadata": {},
   "source": [
    "First, you need to install `pymilvus` python package."
   ]
  },
  {
   "cell_type": "code",
   "execution_count": null,
   "id": "1a737220",
   "metadata": {
    "tags": []
   },
   "outputs": [],
   "source": [
    "%pip install --upgrade --quiet pymilvus>=2.4.0"
   ]
  },
  {
   "cell_type": "markdown",
   "id": "ae3c3d16",
   "metadata": {},
   "source": [
    "## Examples"
   ]
  },
  {
   "cell_type": "code",
   "execution_count": 1,
   "id": "0109a976",
   "metadata": {},
   "outputs": [],
   "source": [
    "from typing import Dict, List\n",
    "import random\n",
    "\n",
    "from langchain_core.embeddings import Embeddings\n",
    "from langchain_community.retrievers.milvus_hybrid_search import MilvusHybridSearchRetriever, SparseEmbeddings\n",
    "\n",
    "\n",
    "\n",
    "class FakeDenseEmbeddings(Embeddings):\n",
    "    def embed_documents(self, texts: List[str]) -> List[List[float]]:\n",
    "        return [[random.random() for i in range(3)] for text in texts]\n",
    "    \n",
    "    def embed_query(self, text: str) -> List[float]:\n",
    "        return self.embed_documents([text])[0]\n",
    "\n",
    "class FakeSparseEmbeddings(SparseEmbeddings):\n",
    "    def embed_documents(self, texts: List[str]) -> List[Dict[int, float]]:\n",
    "        n = 100\n",
    "        sparse_vectors = []\n",
    "        for text in texts:\n",
    "            vector_dict = {}\n",
    "            k = random.randint(0, 4)\n",
    "            for i in range(k):\n",
    "                vector_dict[random.randint(0, n)] = random.random()\n",
    "            # hack: This maybe Mivus's Bug\n",
    "            if not vector_dict:\n",
    "                vector_dict = {0: 0.000001}\n",
    "            sparse_vectors.append(vector_dict)\n",
    "        return sparse_vectors\n",
    "    def embed_query(self, text: str) -> List[float]:\n",
    "        return self.embed_documents([text])[0]"
   ]
  },
  {
   "cell_type": "code",
   "execution_count": 2,
   "id": "ef94739b",
   "metadata": {},
   "outputs": [],
   "source": [
    "retriever = MilvusHybridSearchRetriever(\n",
    "    embedding_functions={\n",
    "        \"dense_1\": FakeDenseEmbeddings(),\n",
    "        \"dense_2\": FakeDenseEmbeddings(),\n",
    "    },\n",
    "    sparse_embedding_functions={\n",
    "        \"sparse_1\": FakeSparseEmbeddings(),\n",
    "        \"sparse_2\": FakeSparseEmbeddings()\n",
    "    },\n",
    "    drop_old=True\n",
    ")"
   ]
  },
  {
   "cell_type": "code",
   "execution_count": 3,
   "id": "6f2c180f",
   "metadata": {},
   "outputs": [
    {
     "data": {
      "text/plain": [
       "['id_a', 'id_b', 'id_c', 'id_d', 'id_e']"
      ]
     },
     "execution_count": 3,
     "metadata": {},
     "output_type": "execute_result"
    }
   ],
   "source": [
    "retriever.add_texts(\n",
    "    [\"a\", \"b\", \"c\", \"d\", \"e\"],\n",
    "    ids=[\"id_a\", \"id_b\", \"id_c\", \"id_d\", \"id_e\"]\n",
    ")"
   ]
  },
  {
   "cell_type": "code",
   "execution_count": 4,
   "id": "38c687ec",
   "metadata": {},
   "outputs": [],
   "source": [
    "docs = retriever.get_relevant_documents(query=\"d\", k=3)"
   ]
  },
  {
   "cell_type": "code",
   "execution_count": 5,
   "id": "b0330b85",
   "metadata": {},
   "outputs": [
    {
     "data": {
      "text/plain": [
       "[Document(page_content='d'),\n",
       " Document(page_content='b'),\n",
       " Document(page_content='a')]"
      ]
     },
     "execution_count": 5,
     "metadata": {},
     "output_type": "execute_result"
    }
   ],
   "source": [
    "docs"
   ]
  }
 ],
 "metadata": {
  "kernelspec": {
   "display_name": "Python 3 (ipykernel)",
   "language": "python",
   "name": "python3"
  },
  "language_info": {
   "codemirror_mode": {
    "name": "ipython",
    "version": 3
   },
   "file_extension": ".py",
   "mimetype": "text/x-python",
   "name": "python",
   "nbconvert_exporter": "python",
   "pygments_lexer": "ipython3",
   "version": "3.9.16"
  }
 },
 "nbformat": 4,
 "nbformat_minor": 5
}
