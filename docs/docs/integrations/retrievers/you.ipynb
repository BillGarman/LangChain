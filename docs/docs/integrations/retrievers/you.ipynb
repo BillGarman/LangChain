{
 "cells": [
  {
   "cell_type": "markdown",
   "id": "818fc023",
   "metadata": {},
   "source": [
    "# You.com Retriever\n",
    "\n",
    "The [you.com API](https://api.you.com) is a suite of tools designed to help developers ground the output of LLMs in the most recent, most accurate, most relevant information that may not have been included in their training dataset."
   ]
  },
  {
   "cell_type": "markdown",
   "id": "02335552",
   "metadata": {},
   "source": [
    "## Setup"
   ]
  },
  {
   "cell_type": "markdown",
   "id": "c5c53f28",
   "metadata": {},
   "source": [
    "The retriever lives in the `langchain-community` package.\n",
    "\n",
    "You also need to set your you.com API key."
   ]
  },
  {
   "cell_type": "code",
   "execution_count": null,
   "id": "6d091ccb",
   "metadata": {},
   "outputs": [],
   "source": [
    "%pip install --upgrade --quiet langchain-community"
   ]
  },
  {
   "cell_type": "code",
   "execution_count": null,
   "id": "f43dd867",
   "metadata": {},
   "outputs": [],
   "source": [
    "import os\n",
    "\n",
    "os.environ[\"YDC_API_KEY\"] = \"\"\n",
    "\n",
    "# For use in Chaining section\n",
    "os.environ[\"OPENAI_API_KEY\"] = \"\"\n",
    "\n",
    "## ALTERNATIVE: load YDC_API_KEY from a .env file\n",
    "\n",
    "# !pip install --quiet -U python-dotenv\n",
    "# import dotenv\n",
    "# dotenv.load_dotenv()"
   ]
  },
  {
   "cell_type": "markdown",
   "id": "17e70216",
   "metadata": {},
   "source": [
    "It's also helpful (but not needed) to set up [LangSmith](https://smith.langchain.com/) for best-in-class observability"
   ]
  },
  {
   "cell_type": "code",
   "execution_count": null,
   "id": "ce49fa4c",
   "metadata": {},
   "outputs": [],
   "source": [
    "# os.environ[\"LANGCHAIN_TRACING_V2\"] = \"true\"\n",
    "# os.environ[\"LANGCHAIN_API_KEY\"] = getpass.getpass()"
   ]
  },
  {
   "cell_type": "markdown",
   "id": "2278de15",
   "metadata": {},
   "source": [
    "## Utility Usage"
   ]
  },
  {
   "cell_type": "code",
   "execution_count": null,
   "id": "ab11b2e0",
   "metadata": {},
   "outputs": [],
   "source": [
    "from langchain_community.utilities.you import YouSearchAPIWrapper\n",
    "\n",
    "utility = YouSearchAPIWrapper(num_web_results=1)\n",
    "\n",
    "utility"
   ]
  },
  {
   "cell_type": "code",
   "execution_count": null,
   "id": "2656a45d",
   "metadata": {},
   "outputs": [],
   "source": [
    "# .raw_results returns the unaltered response from the API\n",
    "response = utility.raw_results(query=\"What is the weather in NY\")\n",
    "\n",
    "# API returns an object with a `hits` key containing a list of hits\n",
    "hits = response['hits']\n",
    "\n",
    "# with `num_web_results=1`, `hits` should be len of 1\n",
    "print(len(hits))\n",
    "\n",
    "print(response)"
   ]
  },
  {
   "cell_type": "code",
   "execution_count": null,
   "id": "c8f5689f",
   "metadata": {},
   "outputs": [],
   "source": [
    "# .results returns parsed results with each snippet in a Document\n",
    "response = utility.results(query=\"What is the weather in NY\")\n",
    "\n",
    "# .results should have a Document for each `snippet`\n",
    "print(len(response))\n",
    "\n",
    "print(response)"
   ]
  },
  {
   "cell_type": "markdown",
   "id": "190ed085",
   "metadata": {},
   "source": [
    "## Retriever Usage"
   ]
  },
  {
   "cell_type": "code",
   "execution_count": null,
   "id": "1367af5c",
   "metadata": {},
   "outputs": [],
   "source": [
    "from langchain_community.retrievers.you import YouRetriever\n",
    "\n",
    "retriever = YouRetriever(num_web_results=1)\n",
    "\n",
    "retriever"
   ]
  },
  {
   "cell_type": "code",
   "execution_count": null,
   "id": "a90d61d4",
   "metadata": {},
   "outputs": [],
   "source": [
    "# .invoke wraps utility.results\n",
    "response = retriever.invoke(\"What is the weather in NY\")\n",
    "\n",
    "# .invoke should have a Document for each `snippet`\n",
    "print(len(response))\n",
    "\n",
    "print(response)"
   ]
  },
  {
   "cell_type": "markdown",
   "id": "aac4a1f9",
   "metadata": {},
   "source": [
    "## Chaining"
   ]
  },
  {
   "cell_type": "code",
   "execution_count": null,
   "id": "21559e10",
   "metadata": {},
   "outputs": [],
   "source": [
    "# you need a model to use in the chain\n",
    "!pip install --upgrade --quiet langchain-openai"
   ]
  },
  {
   "cell_type": "code",
   "execution_count": null,
   "metadata": {},
   "outputs": [],
   "source": [
    "from langchain_core.output_parsers import StrOutputParser\n",
    "from langchain_community.retrievers.you import YouRetriever\n",
    "from langchain_core.runnables import RunnablePassthrough\n",
    "from langchain_openai import ChatOpenAI\n",
    "from langchain_core.prompts import ChatPromptTemplate\n",
    "\n",
    "# set up runnable\n",
    "runnable = RunnablePassthrough\n",
    "\n",
    "# set up retriever, limit sources to one\n",
    "retriever = YouRetriever(num_web_results=1)\n",
    "\n",
    "# set up model\n",
    "model = ChatOpenAI(model=\"gpt-3.5-turbo-16k\")\n",
    "\n",
    "# set up output parser\n",
    "output_parser = StrOutputParser()"
   ]
  },
  {
   "cell_type": "markdown",
   "id": "47e1fcca",
   "metadata": {},
   "source": [
    "### Invoke"
   ]
  },
  {
   "cell_type": "code",
   "execution_count": null,
   "id": "6e92557d",
   "metadata": {},
   "outputs": [],
   "source": [
    "# set up prompt that expects one question\n",
    "prompt = ChatPromptTemplate.from_template(\n",
    "    \"\"\"Answer the question based only on the context provided.\n",
    "\n",
    "Context: {context}\n",
    "\n",
    "Question: {question}\"\"\"\n",
    ")\n",
    "\n",
    "# set up chain\n",
    "chain = (\n",
    "    runnable.assign(context=(lambda x: x[\"question\"]) | retriever)\n",
    "    | prompt\n",
    "    | model\n",
    "    | output_parser\n",
    ")\n",
    "\n",
    "output = chain.invoke({\"question\": \"what is the weather in NY today\"})\n",
    "\n",
    "print(output)"
   ]
  },
  {
   "cell_type": "markdown",
   "id": "66b15f94",
   "metadata": {},
   "source": [
    "### Stream"
   ]
  },
  {
   "cell_type": "code",
   "execution_count": null,
   "id": "cfe5af8b",
   "metadata": {},
   "outputs": [],
   "source": [
    "# set up prompt that expects one question\n",
    "prompt = ChatPromptTemplate.from_template(\n",
    "    \"\"\"Answer the question based only on the context provided.\n",
    "\n",
    "Context: {context}\n",
    "\n",
    "Question: {question}\"\"\"\n",
    ")\n",
    "\n",
    "# set up chain - same as above\n",
    "chain = (\n",
    "    runnable.assign(context=(lambda x: x[\"question\"]) | retriever)\n",
    "    | prompt\n",
    "    | model\n",
    "    | output_parser\n",
    ")\n",
    "\n",
    "for s in chain.stream({\"question\": \"what is the weather in NY today\"}):\n",
    "    print(s, end=\"\", flush=True)"
   ]
  },
  {
   "cell_type": "markdown",
   "id": "28ee9450",
   "metadata": {},
   "source": [
    "### Batch"
   ]
  },
  {
   "cell_type": "code",
   "execution_count": null,
   "id": "a8d8270b",
   "metadata": {},
   "outputs": [],
   "source": [
    "chain = (\n",
    "    runnable.assign(context=(lambda x: x[\"question\"]) | retriever)\n",
    "    | prompt\n",
    "    | model\n",
    "    | output_parser\n",
    ")\n",
    "\n",
    "output = chain.batch([{\"question\": \"what is the weather in NY today\"}, {\"question\": \"what is the weather in sf today\"}])\n",
    "\n",
    "for o in output:\n",
    "    print(o)"
   ]
  }
 ],
 "metadata": {
  "kernelspec": {
   "display_name": "Python 3 (ipykernel)",
   "language": "python",
   "name": "python3"
  },
  "language_info": {
   "codemirror_mode": {
    "name": "ipython",
    "version": 3
   },
   "file_extension": ".py",
   "mimetype": "text/x-python",
   "name": "python",
   "nbconvert_exporter": "python",
   "pygments_lexer": "ipython3",
   "version": "3.9.6"
  }
 },
 "nbformat": 4,
 "nbformat_minor": 5
}
