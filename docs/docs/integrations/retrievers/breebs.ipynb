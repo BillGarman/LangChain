{
 "cells": [
  {
   "cell_type": "markdown",
   "metadata": {},
   "source": [
    "# BREEBS\n",
    "\n",
    "[BREEBS](https://www.breebs.com/) is a collaborative knowledge platform. \n",
    "Anybody can create a Breeb, a knowledge capsule, based on PDFs stored on a Google Drive folder.\n",
    "A breeb can be used by any LLM/chatbot to improve its expertise, reduce hallucinations and give access to sources.\n",
    "\n",
    "## List of available Breebs\n",
    "\n",
    "To get the full list of Breebs, including their key (breeb_key) and description : \n",
    "https://breebs.promptbreeders.com/web/listbreebs.\n",
    "\n",
    "\n",
    "## Retriever example\n"
   ]
  },
  {
   "cell_type": "code",
   "execution_count": 1,
   "metadata": {
    "execution": {
     "iopub.execute_input": "2023-12-15T16:05:12.645840Z",
     "iopub.status.busy": "2023-12-15T16:05:12.645698Z",
     "iopub.status.idle": "2023-12-15T16:05:14.347548Z",
     "shell.execute_reply": "2023-12-15T16:05:14.346835Z"
    }
   },
   "outputs": [],
   "source": [
    "from langchain.retrievers import BreebsRetriever\n",
    "from langchain_core.callbacks.manager import CallbackManagerForRetrieverRun"
   ]
  },
  {
   "cell_type": "code",
   "execution_count": 3,
   "metadata": {
    "execution": {
     "iopub.execute_input": "2023-12-15T16:05:14.350102Z",
     "iopub.status.busy": "2023-12-15T16:05:14.349837Z",
     "iopub.status.idle": "2023-12-15T16:05:29.569958Z",
     "shell.execute_reply": "2023-12-15T16:05:29.567172Z"
    }
   },
   "outputs": [
    {
     "name": "stdout",
     "output_type": "stream",
     "text": [
      "[Document(page_content='les cas, vous vivrez une expérienceinoubliable !Si vous souhaitez en savoir plus sur les différents arrondissements qui composent la capitale, cliquez ici !10 lieux incontournables à Paris1. Musée du Louvre2. Tour Eiffel3. Montmartre4. Notre Dame de Paris5. Palais de Tokyo6. Rue Mouffetard7. Jardin du Luxembourg8. Champs Elysées9. Galeries Lafayette (rue Lafayette)10. Panthéon V oir notre carte des principaux points touristiques ou encore notre top 10 de la ville de Paris11/12/2023 07:51Guide en pdf Paris à imprimer gratuitement.\\nPage 3 sur 545https://www.cityzeum.com/imprimer-pdf/paris10 expériences à vivre à Paris1. Faire le marché dans Paris2. Sortir le soir à Pigalle3. Faire du shopping Rue de Rivoli4. Traquer les street art5. Se promener au Jardin des Plantes6. Boire un coup sur les quais de Seine7. V oyager à travers les ruelles moyenâgeuses du Marais8. V oir les catacombes9. Se faire un restaurant étoilé Michelin10.', metadata={'source': 'https://breebs.promptbreeders.com/breeb?breeb_key=Parivoyage&doc=44d78553-a&page=1', 'score': 1}), Document(page_content=\"de poupées• Ladurée - Madeleine• Ladurée - rue Bonaparte• Flamant• Bonnichon Saint Germain• Dinh Van• Léonor Greyl• Berthillon• Christian Louboutin• Patrick Cox• Baby Dior• FNAC Musique - Bastille• FNAC - Saint Lazare• La guinguette pirate• Park Hyatt• Restaurant de Sers• Hilton Arc de Triomphe• Café Barge• Le Celadon• Le Drouant• La Perouse• Cigale Recamier• Ledoyen• Tanjia• Les Muses• Bistrot du Dôme• Avenue Foch• Fontaine Saint-Michel• Funiculaire de Montmartre• Promotrain - Place Blanche• Grand Palais• Hotel de Rohan• Hotel de Sully• Hotel des Ventes Drouot• Institut de France• Place des Invalides• Jardin d'acclimatation• Jardin des plantes Zoo• Jouffroy (passage)• Quartier de La Défense• La Villette (quartier)• Lac Inferieur du Bois de Boulogne• Les Catacombes de Paris• Place du Louvre• Rue Mazarine• Rue Monsieur le Prince11/12/2023 07:51Guide en pdf Paris à imprimer gratuitement.\", metadata={'source': 'https://breebs.promptbreeders.com/breeb?breeb_key=Parivoyage&doc=44d78553-a&page=11', 'score': 1}), Document(page_content='Opening hours:  Daily: 6am - 10:30pm • Admission:  Free\\nTHINGS YOU NEED TO KNOW\\nThe Sacré-Coeur is a spectacular white\\nRoman Catholic church on the top of\\nMontmartre hill\\nIt stands on the highest point in Paris\\nIts full name is the Basilica of the Sacred\\nHeart of Jesus of Paris\\nThe basilica was built 1876-1919 as a\\nmemorial to the French soldiers who died in\\nthe Franco-Prussian War (1870-71)\\nThe construction was fincanced entirely from\\ndonations\\nIt offers breathtaking views both from its\\nfront steps and its domeTHINGS TO DO THERE\\nAfter wandering around the small, narrow\\nand hilly streets of Montmartre take the\\nfuniculaire to the top of the hill to this\\nstaggeringly beautiful basilica\\nEnjoy the atmosphere, visit the church and\\nhave a walk along the small and narrow\\nstreets on top of the hill\\nThe views over Paris are gorgeous from\\nthere\\nTIPS & INSIGHTS\\nMORE Info and Photos >5-day Paris City Guide\\n25 © PromptGuides.com', metadata={'source': 'https://breebs.promptbreeders.com/breeb?breeb_key=Parivoyage&doc=675a6775-2&page=23', 'score': 1}), Document(page_content=\"Carnavalet• Museum d'histoire naturelle de Paris• Opéra Comique - Paris• Opera Bastille - Paris• Rue Oberkampf• Place et rue de l'Odéon• Musée national du Moyen Age• Musée Jacquemart Andre• Musée du Petit Palais• Méridien Montparnasse• La Butte Chaillot• Le Passiﬂore• Relais d'Auteuil Pignol• Dessirier• Café Very• Les Bateaux Parisiens• Baron• Bus Palladium• Duc des Lombards• Lapin Agile• Loco• Cabaret Michou• Montecristo• Mosquée de Paris et Hammam• Point Virgule• Scala, Paris• VIP Room• Banana Café• Casbah, Paris• Duplex• Néo Club• Rétro République Dancing• Musée des Arts et Métiers• Salle Pleyel• Comédie Caumartin• Comédie des Champs-Elysées• Théâtre de l'Odéon 2• Théâtre du Café de la Gare• Théâtre National de Chaillot• Jardins Albert Kahn• Jardin des Halles• Atelier Renault• Bar de l'Hotel Costes• Bar de l'Hotel Radisson• Bar du Crillon• Bar du Ritz• Le village et la plage de Boca Chica• Caveau de la Huchette\", metadata={'source': 'https://breebs.promptbreeders.com/breeb?breeb_key=Parivoyage&doc=44d78553-a&page=12', 'score': 1})]\n"
     ]
    }
   ],
   "source": [
    "\n",
    "\n",
    "breeb_key=\"Parivoyage\"   # See below how to retrieve the list of all keys\n",
    "retriever = BreebsRetriever(breeb_key)\n",
    "documents = retriever._get_relevant_documents(\"What are some unique, lesser-known spots to explore in Paris?\", run_manager=CallbackManagerForRetrieverRun)\n",
    "print(documents)"
   ]
  },
  {
   "cell_type": "markdown",
   "metadata": {},
   "source": [
    "## Answering Questions with Breebs\n",
    "\n"
   ]
  },
  {
   "cell_type": "code",
   "execution_count": null,
   "metadata": {},
   "outputs": [],
   "source": [
    "# get a token: https://platform.openai.com/account/api-keys\n",
    "\n",
    "from getpass import getpass\n",
    "\n",
    "OPENAI_API_KEY = getpass()\n"
   ]
  },
  {
   "cell_type": "code",
   "execution_count": 25,
   "metadata": {},
   "outputs": [],
   "source": [
    "import os\n",
    "\n",
    "os.environ[\"OPENAI_API_KEY\"] = OPENAI_API_KEY"
   ]
  },
  {
   "cell_type": "code",
   "execution_count": 20,
   "metadata": {},
   "outputs": [],
   "source": [
    "from langchain.chains import ConversationalRetrievalChain\n",
    "from langchain.chat_models import ChatOpenAI\n",
    "\n",
    "model = ChatOpenAI(model_name=\"gpt-3.5-turbo\")  # switch to 'gpt-4'\n",
    "qa = ConversationalRetrievalChain.from_llm(model, retriever=retriever)"
   ]
  },
  {
   "cell_type": "code",
   "execution_count": 23,
   "metadata": {},
   "outputs": [
    {
     "name": "stdout",
     "output_type": "stream",
     "text": [
      "QUESTION: What is the best time of year to visit Paris?\n",
      "ANWSER: According to the provided context, Paris can be visited throughout the year. In January, you can see snow on the rooftops, while spring offers blooming flowers. Summer is great for enjoying the sun on terraces, and autumn showcases yellow leaves along the Seine. The average temperatures are around 18°C in summer and 6°C in winter. Therefore, the best time to visit Paris depends on your personal preferences and the kind of weather you enjoy.\n",
      "QUESTION: What are the must-see attractions in Paris?\n",
      "ANWSER: According to the provided context, some must-see attractions in Paris are:\n",
      "\n",
      "1. The Cathedral of Notre-Dame de Paris: Known for its architectural beauty and historical significance.\n",
      "2. The Eiffel Tower: One of the most iconic landmarks in Paris.\n",
      "3. The Louvre Museum: Home to famous artworks including the Mona Lisa.\n",
      "4. The Basilica of Sacré-Cœur: Located in the Montmartre district, offering panoramic views of the city.\n",
      "5. The Sainte-Chapelle: A stunning Gothic chapel known for its stained glass windows.\n",
      "6. The Conciergerie: A former royal palace turned prison, now a historical monument.\n",
      "7. The Marais district: Known for its vibrant atmosphere, historic buildings, and trendy shops.\n",
      "8. The Montmartre district: Famous for its bohemian vibe, artists' studios, and the Moulin Rouge.\n",
      "9. The Seine River: Take a boat cruise or stroll along the riverbanks to enjoy the beautiful views.\n",
      "10. The Champs-Élysées: A famous avenue lined with shops, cafes, and landmarks like the Arc de Triomphe.\n",
      "\n",
      "Please note that this is not an exhaustive list, and there are many more attractions to explore in Paris.\n",
      "QUESTION: Do I need to speak French to visit Paris?\n",
      "ANWSER: It is not necessary to speak French in order to visit Paris. Many people in Paris, especially those working in the tourism industry, speak English and can communicate with visitors. However, learning a few basic French phrases can be helpful and appreciated by locals.\n"
     ]
    }
   ],
   "source": [
    "questions = [\n",
    "    \"What is the best time of year to visit Paris?\",\n",
    "    \"What are the must-see attractions in Paris?\",\n",
    "    \"Do I need to speak French to visit Paris?\",\n",
    "]\n",
    "chat_history = []\n",
    "\n",
    "for question in questions:\n",
    "    result = qa({\"question\": question, \"chat_history\": chat_history})\n",
    "    chat_history.append((question, result[\"answer\"]))\n",
    "    print(f\"QUESTION: {question}\", end=\"\\n\")\n",
    "    print(f\"ANWSER: {result['answer']}\", end=\"\\n\")"
   ]
  }
 ],
 "metadata": {
  "kernelspec": {
   "display_name": "venv",
   "language": "python",
   "name": "python3"
  },
  "language_info": {
   "codemirror_mode": {
    "name": "ipython",
    "version": 3
   },
   "file_extension": ".py",
   "mimetype": "text/x-python",
   "name": "python",
   "nbconvert_exporter": "python",
   "pygments_lexer": "ipython3",
   "version": "3.10.12"
  }
 },
 "nbformat": 4,
 "nbformat_minor": 2
}
