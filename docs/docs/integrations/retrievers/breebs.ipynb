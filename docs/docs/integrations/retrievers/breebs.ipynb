{
 "cells": [
  {
   "cell_type": "markdown",
   "metadata": {},
   "source": [
    "# BREEBS\n",
    "\n",
    "[BREEBS](https://www.breebs.com/) is a product that allow users to transform complex documents stored on a google drive repository into very specialized knowledge pills.   [BREEBS](https://www.breebs.com/) also allows user to interact with these AI-digestible capsules on the website which takes an inventory of all breebs created by the world wide users community.\n"
   ]
  },
  {
   "cell_type": "code",
   "execution_count": 4,
   "metadata": {},
   "outputs": [
    {
     "ename": "ImportError",
     "evalue": "cannot import name 'BreebsKnowledgeRetriever' from 'langchain.retrievers' (c:\\Users\\PC\\Documents\\langchain\\venv\\lib\\site-packages\\langchain\\retrievers\\__init__.py)",
     "output_type": "error",
     "traceback": [
      "\u001b[1;31m---------------------------------------------------------------------------\u001b[0m",
      "\u001b[1;31mImportError\u001b[0m                               Traceback (most recent call last)",
      "Cell \u001b[1;32mIn[4], line 1\u001b[0m\n\u001b[1;32m----> 1\u001b[0m \u001b[38;5;28;01mfrom\u001b[39;00m \u001b[38;5;21;01mlangchain\u001b[39;00m\u001b[38;5;21;01m.\u001b[39;00m\u001b[38;5;21;01mretrievers\u001b[39;00m \u001b[38;5;28;01mimport\u001b[39;00m BreebsKnowledgeRetriever\n",
      "\u001b[1;31mImportError\u001b[0m: cannot import name 'BreebsKnowledgeRetriever' from 'langchain.retrievers' (c:\\Users\\PC\\Documents\\langchain\\venv\\lib\\site-packages\\langchain\\retrievers\\__init__.py)"
     ]
    }
   ],
   "source": [
    "from langchain.retrievers import BreebsKnowledgeRetriever"
   ]
  },
  {
   "cell_type": "code",
   "execution_count": 1,
   "metadata": {},
   "outputs": [
    {
     "ename": "NameError",
     "evalue": "name 'BreebsKnowledgeRetriever' is not defined",
     "output_type": "error",
     "traceback": [
      "\u001b[1;31m---------------------------------------------------------------------------\u001b[0m",
      "\u001b[1;31mNameError\u001b[0m                                 Traceback (most recent call last)",
      "Cell \u001b[1;32mIn[1], line 2\u001b[0m\n\u001b[0;32m      1\u001b[0m breeb_key\u001b[38;5;241m=\u001b[39m\u001b[38;5;124m\"\u001b[39m\u001b[38;5;124mNode21Docs\u001b[39m\u001b[38;5;124m\"\u001b[39m\n\u001b[1;32m----> 2\u001b[0m retriever \u001b[38;5;241m=\u001b[39m \u001b[43mBreebsKnowledgeRetriever\u001b[49m(breeb_key)\n\u001b[0;32m      3\u001b[0m documents \u001b[38;5;241m=\u001b[39m retriever\u001b[38;5;241m.\u001b[39m_get_relevant_documents(\u001b[38;5;124m\"\u001b[39m\u001b[38;5;124mHow promises work in the last documentation of Node js?\u001b[39m\u001b[38;5;124m\"\u001b[39m)\n",
      "\u001b[1;31mNameError\u001b[0m: name 'BreebsKnowledgeRetriever' is not defined"
     ]
    }
   ],
   "source": [
    "breeb_key=\"Node21Docs\"\n",
    "retriever = BreebsKnowledgeRetriever(breeb_key)\n",
    "documents = retriever._get_relevant_documents(\"How promises work in the last documentation of Node js?\")"
   ]
  },
  {
   "cell_type": "code",
   "execution_count": null,
   "metadata": {},
   "outputs": [],
   "source": []
  }
 ],
 "metadata": {
  "kernelspec": {
   "display_name": "venv",
   "language": "python",
   "name": "python3"
  },
  "language_info": {
   "codemirror_mode": {
    "name": "ipython",
    "version": 3
   },
   "file_extension": ".py",
   "mimetype": "text/x-python",
   "name": "python",
   "nbconvert_exporter": "python",
   "pygments_lexer": "ipython3",
   "version": "3.10.11"
  }
 },
 "nbformat": 4,
 "nbformat_minor": 2
}
