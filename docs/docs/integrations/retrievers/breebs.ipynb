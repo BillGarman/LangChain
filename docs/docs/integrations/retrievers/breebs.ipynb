{
 "cells": [
  {
   "cell_type": "markdown",
   "metadata": {},
   "source": [
    "# BREEBS\n",
    "\n",
    "[BREEBS](https://www.breebs.com/) is a collaborative knowledge platform. \n",
    "Anybody can create a Breeb, a knowledge capsule, based on PDFs stored on a Google Drive folder.\n",
    "A breeb can be used by any LLM/chatbot to improve its expertise, reduce hallucinations and give access to sources.\n",
    "\n",
    "## List of available Breebs\n",
    "\n",
    "To get the full list of Breebs, including their key (breeb_key) and description : \n",
    "https://breebs.promptbreeders.com/web/listbreebs.\n",
    "\n",
    "\n",
    "## Retriever example\n"
   ]
  },
  {
   "cell_type": "code",
   "execution_count": 2,
   "metadata": {
    "execution": {
     "iopub.execute_input": "2023-12-15T16:05:12.645840Z",
     "iopub.status.busy": "2023-12-15T16:05:12.645698Z",
     "iopub.status.idle": "2023-12-15T16:05:14.347548Z",
     "shell.execute_reply": "2023-12-15T16:05:14.346835Z"
    }
   },
   "outputs": [],
   "source": [
    "from langchain.retrievers import BreebsRetriever\n",
    "from langchain_core.callbacks.manager import CallbackManagerForRetrieverRun"
   ]
  },
  {
   "cell_type": "code",
   "execution_count": 3,
   "metadata": {
    "execution": {
     "iopub.execute_input": "2023-12-15T16:05:14.350102Z",
     "iopub.status.busy": "2023-12-15T16:05:14.349837Z",
     "iopub.status.idle": "2023-12-15T16:05:29.569958Z",
     "shell.execute_reply": "2023-12-15T16:05:29.567172Z"
    }
   },
   "outputs": [
    {
     "name": "stdout",
     "output_type": "stream",
     "text": [
      "[Document(page_content='les cas, vous vivrez une expérienceinoubliable !Si vous souhaitez en savoir plus sur les différents arrondissements qui composent la capitale, cliquez ici !10 lieux incontournables à Paris1. Musée du Louvre2. Tour Eiffel3. Montmartre4. Notre Dame de Paris5. Palais de Tokyo6. Rue Mouffetard7. Jardin du Luxembourg8. Champs Elysées9. Galeries Lafayette (rue Lafayette)10. Panthéon V oir notre carte des principaux points touristiques ou encore notre top 10 de la ville de Paris11/12/2023 07:51Guide en pdf Paris à imprimer gratuitement.\\nPage 3 sur 545https://www.cityzeum.com/imprimer-pdf/paris10 expériences à vivre à Paris1. Faire le marché dans Paris2. Sortir le soir à Pigalle3. Faire du shopping Rue de Rivoli4. Traquer les street art5. Se promener au Jardin des Plantes6. Boire un coup sur les quais de Seine7. V oyager à travers les ruelles moyenâgeuses du Marais8. V oir les catacombes9. Se faire un restaurant étoilé Michelin10.', metadata={'source': 'https://breebs.promptbreeders.com/breeb?breeb_key=Parivoyage&doc=44d78553-a&page=1', 'score': 1}), Document(page_content=\"Denfert Rochereau• Mouffetard (quartier)• Zoo de Vincennes• Rue Vieille du Temple• Véro Dodat (galerie)• Village Joué club• Village Suisse• Vedette Pont Neuf• Velasquez (avenue)• Tour Montparnasse• Théâtre du Châtelet• Théâtre du Vieux Colombier• Sainte Chapelle• Place Saint Michel, Paris• Rue Saint Louis en l'île• Rue Saint André des Arts• Rue de Levis, Paris• Rond Point des Champs Elysées• Place de la République• Rue Montorgueil, Paris• Promenade plantee• Pont Neuf, Paris• Passerelle des Arts• Paris Bike Tour• Parc Montsouris• Parc Monceau• Parc Bercy• Pantheon• Panoramas (passage des)• Palais des Congres• Gérard Besson• Alcazar, Paris• Hélène Darroze• Montblanc• Piaget• Prada - Montaigne• Rue d'Alésia• Rue Rivoli• Van Cleef Arpels• Christian Lacroix• Chaumet• Chanel - Montaigne• Place du Trocadéro• Boulevard Saint-Germain• Bulgari• Cartier - Champs Elysées• Berlutti• Avenue Victor Hugo, Paris• Colette Place• Square du Vert Galant• Quartier Eiffel• Vivienne (Galerie)• Quartier de la Bastille• Place des Victoires• Viaduc des Arts• Village Saint Paul• Verdeau (passage)• Vedettes de Paris• L'espadon• Théâtre Edouard VII• Théâtre du Palais Royal•\", metadata={'source': 'https://breebs.promptbreeders.com/breeb?breeb_key=Parivoyage&doc=44d78553-a&page=10', 'score': 1}), Document(page_content='Paris  mythique  p. 67\\nICHÂTEAU \\nDE VER SAILLE S\\nEscapades en  \\nÎle-de- France  p. 89INVALIDE S\\nParis  monumental  p. 56\\nTOUR  MONT PARNA SSE\\nParis  artiste  p. 51\\nHauts-de-Seine (92)\\nLa Seine\\nParis est constituée de 20 arrondissements 1 km\\n45PLACE DE LA BASTILLE\\nParis  populaire  p. 85\\nNOTRE-DAME DE PARIS\\nParis  intemporel p. 21CENTRE POMPIDOU\\nParis  tendance  p. 29PALAIS GARNIER\\nOPÉRA DE PARIS\\nParis  vitrine  p. 35\\nBOIS DE VINCENNES\\nParis  insolite  p. 73LA VILLETTE\\nParis  cosmopolite  p. 79IDISNEYLAND® \\nPARIS\\nEscapades en Île-\\nde-France  p.90MUSÉE DU LOUVRE\\nParis  mythique  p. 68\\nQUARTIER LATIN\\nParis  intemporel p. 22\\nBIBLIOTHÈQUE \\nDE FRANCE\\nParis  insolite  p. 75DOCKS EN SEINE\\nParis  Seine  p. 17\\nSeine-Saint-Denis (93)\\nVal-de-Marne (94)7 LE SITE PARISINFO.COM\\nActualité événementielle, musées, balades, trans-\\nports, informations pratiques, hôtels… Découvrez la \\ndestination et organisez votre séjour grâce au site \\nInternet  de l’Office (en français, anglais, espagnol \\net allemand). Sur la boutique en ligne, réservez votre hébergement et achetez', metadata={'source': 'https://breebs.promptbreeders.com/breeb?breeb_key=Parivoyage&doc=07378d2b-2&page=3', 'score': 1}), Document(page_content=\"Carnavalet• Museum d'histoire naturelle de Paris• Opéra Comique - Paris• Opera Bastille - Paris• Rue Oberkampf• Place et rue de l'Odéon• Musée national du Moyen Age• Musée Jacquemart Andre• Musée du Petit Palais• Méridien Montparnasse• La Butte Chaillot• Le Passiﬂore• Relais d'Auteuil Pignol• Dessirier• Café Very• Les Bateaux Parisiens• Baron• Bus\", metadata={'source': 'https://breebs.promptbreeders.com/breeb?breeb_key=Parivoyage&doc=44d78553-a&page=12', 'score': 1})]\n"
     ]
    }
   ],
   "source": [
    "breeb_key=\"Parivoyage\"   # See below how to retrieve the list of all keys\n",
    "retriever = BreebsRetriever(breeb_key)\n",
    "documents = retriever._get_relevant_documents(\"What are some unique, lesser-known spots to explore in Paris?\", run_manager=CallbackManagerForRetrieverRun)\n",
    "print(documents)"
   ]
  },
  {
   "cell_type": "markdown",
   "metadata": {},
   "source": [
    "## Answering Questions with Breebs\n",
    "\n"
   ]
  },
  {
   "cell_type": "code",
   "execution_count": 26,
   "metadata": {},
   "outputs": [],
   "source": [
    "# get a token: https://platform.openai.com/account/api-keys\n",
    "\n",
    "from getpass import getpass\n",
    "\n",
    "OPENAI_API_KEY = getpass()\n"
   ]
  },
  {
   "cell_type": "code",
   "execution_count": 25,
   "metadata": {},
   "outputs": [],
   "source": [
    "import os\n",
    "\n",
    "os.environ[\"OPENAI_API_KEY\"] = OPENAI_API_KEY"
   ]
  },
  {
   "cell_type": "code",
   "execution_count": 20,
   "metadata": {},
   "outputs": [],
   "source": [
    "from langchain.chains import ConversationalRetrievalChain\n",
    "from langchain.chat_models import ChatOpenAI\n",
    "\n",
    "model = ChatOpenAI(model_name=\"gpt-3.5-turbo\")  # switch to 'gpt-4'\n",
    "qa = ConversationalRetrievalChain.from_llm(model, retriever=retriever)"
   ]
  },
  {
   "cell_type": "code",
   "execution_count": 23,
   "metadata": {},
   "outputs": [
    {
     "name": "stdout",
     "output_type": "stream",
     "text": [
      "QUESTION: What is the best time of year to visit Paris?\n",
      "ANWSER: According to the provided context, Paris can be visited throughout the year. In January, you can see snow on the rooftops, while spring offers blooming flowers. Summer is great for enjoying the sun on terraces, and autumn showcases yellow leaves along the Seine. The average temperatures are around 18°C in summer and 6°C in winter. Therefore, the best time to visit Paris depends on your personal preferences and the kind of weather you enjoy.\n",
      "QUESTION: What are the must-see attractions in Paris?\n",
      "ANWSER: According to the provided context, some must-see attractions in Paris are:\n",
      "\n",
      "1. The Cathedral of Notre-Dame de Paris: Known for its architectural beauty and historical significance.\n",
      "2. The Eiffel Tower: One of the most iconic landmarks in Paris.\n",
      "3. The Louvre Museum: Home to famous artworks including the Mona Lisa.\n",
      "4. The Basilica of Sacré-Cœur: Located in the Montmartre district, offering panoramic views of the city.\n",
      "5. The Sainte-Chapelle: A stunning Gothic chapel known for its stained glass windows.\n",
      "6. The Conciergerie: A former royal palace turned prison, now a historical monument.\n",
      "7. The Marais district: Known for its vibrant atmosphere, historic buildings, and trendy shops.\n",
      "8. The Montmartre district: Famous for its bohemian vibe, artists' studios, and the Moulin Rouge.\n",
      "9. The Seine River: Take a boat cruise or stroll along the riverbanks to enjoy the beautiful views.\n",
      "10. The Champs-Élysées: A famous avenue lined with shops, cafes, and landmarks like the Arc de Triomphe.\n",
      "\n",
      "Please note that this is not an exhaustive list, and there are many more attractions to explore in Paris.\n",
      "QUESTION: Do I need to speak French to visit Paris?\n",
      "ANWSER: It is not necessary to speak French in order to visit Paris. Many people in Paris, especially those working in the tourism industry, speak English and can communicate with visitors. However, learning a few basic French phrases can be helpful and appreciated by locals.\n"
     ]
    }
   ],
   "source": [
    "questions = [\n",
    "    \"What is the best time of year to visit Paris?\",\n",
    "    \"What are the must-see attractions in Paris?\",\n",
    "    \"Do I need to speak French to visit Paris?\",\n",
    "]\n",
    "chat_history = []\n",
    "\n",
    "for question in questions:\n",
    "    result = qa({\"question\": question, \"chat_history\": chat_history})\n",
    "    chat_history.append((question, result[\"answer\"]))\n",
    "    print(f\"QUESTION: {question}\", end=\"\\n\")\n",
    "    print(f\"ANWSER: {result['answer']}\", end=\"\\n\")"
   ]
  }
 ],
 "metadata": {
  "kernelspec": {
   "display_name": "venv",
   "language": "python",
   "name": "python3"
  },
  "language_info": {
   "codemirror_mode": {
    "name": "ipython",
    "version": 3
   },
   "file_extension": ".py",
   "mimetype": "text/x-python",
   "name": "python",
   "nbconvert_exporter": "python",
   "pygments_lexer": "ipython3",
   "version": "3.10.12"
  }
 },
 "nbformat": 4,
 "nbformat_minor": 2
}
