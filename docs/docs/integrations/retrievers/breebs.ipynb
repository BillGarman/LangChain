{
 "cells": [
  {
   "cell_type": "markdown",
   "metadata": {},
   "source": [
    "# BREEBS\n",
    "\n",
    "[BREEBS](https://www.breebs.com/) is a collaborative knowledge platform. \n",
    "Anybody can create a Breeb, a knowledge capsule, based on PDFs stored on a Google Drive folder.\n",
    "A breeb can be used by any LLM/chatbot to improve its expertise, reduce hallucinations and give access to sources.\n",
    "\n",
    "## List of available Breebs\n",
    "\n",
    "To get the full list of Breebs, including their key (breeb_key) and description : \n",
    "https://breebs.promptbreeders.com/web/listbreebs.\n",
    "\n",
    "\n",
    "## Retriever example\n"
   ]
  },
  {
   "cell_type": "code",
   "execution_count": 10,
   "metadata": {
    "execution": {
     "iopub.execute_input": "2023-12-15T16:05:12.645840Z",
     "iopub.status.busy": "2023-12-15T16:05:12.645698Z",
     "iopub.status.idle": "2023-12-15T16:05:14.347548Z",
     "shell.execute_reply": "2023-12-15T16:05:14.346835Z"
    }
   },
   "outputs": [],
   "source": [
    "from langchain.retrievers import BreebsRetriever\n",
    "from langchain_core.callbacks.manager import CallbackManagerForRetrieverRun"
   ]
  },
  {
   "cell_type": "code",
   "execution_count": 11,
   "metadata": {
    "execution": {
     "iopub.execute_input": "2023-12-15T16:05:14.350102Z",
     "iopub.status.busy": "2023-12-15T16:05:14.349837Z",
     "iopub.status.idle": "2023-12-15T16:05:29.569958Z",
     "shell.execute_reply": "2023-12-15T16:05:29.567172Z"
    }
   },
   "outputs": [
    {
     "name": "stdout",
     "output_type": "stream",
     "text": [
      "[Document(page_content=\"Le célèbre Drugstore des Champs Elysées abrite de nombreuses boutiques dans un décor design. V ouspourrez y découvrir un espace beauté, des expositions éphémères, une pharmacie et des espaces réservésaux plaisirs des sens. A noter la façade d'architecture extérieure en verrePlus d'informations :+33144437900, https://www.publicisdrugstore.com/, Visite libre,(haut de page)• Place du Marché Sainte-CatherinePlace du Marché Sainte-Catherine, Paris, 75008, FR11/12/2023 07:51Guide en pdf Paris à imprimer gratuitement.\\nPage 200 sur 545https://www.cityzeum.com/imprimer-pdf/parisUne place hors de l'agitation de la capitale, où vous découvrirez des petits restaurants au charme certaindans un cadre fort agréable. Terrasses au rendez-vous l'été! Un bar à magie pour couronner le toutPlus d'informations :15-30 euros,(haut de page)• Rue de Lappe, ParisRue de Lappe, Paris, FR\", metadata={'source': 'https://breebs.promptbreeders.com/breeb?breeb_key=Parivoyage&doc=44d78553-a&page=198', 'score': 1}), Document(page_content=\"Garnier: Photo by Istvan  • Galeries Lafayette: Photo by Ghislain Sillaume  • Notre Dame\\nCathedral: Photo by Amol Hatwar  • Tower of Notre Dame Cathedral: Photo by Chirag D. Shah\\n• Sainte-Chapelle: Photo by IceNineJon  • La Conciergerie: Photo by bibi0328  • LuxembourgGardens: Photo by Kewei SHANG  • The Panthéon: Photo by MÃ¡rcio Cabral de Moura  • Boat\\ntrip on river Seine: Photo by Giam  • Musée d'Orsay: Photo by Tracy Elaine  • Père Lachaise\\nCemetery: Photo by Olivier Bruchez  • Montmartre: Photo by Sarah Parrott  • Sacré-Coeur:\\nPhoto by jotpeh  • Palace of Versailles and Gardens: Photo by Amir K.  • TrianonPalaces and Marie-Antoinette's Estate: Photo by kelpenhagen  • La Défense: Photo by Gilles\\nCouteau5-day Paris City Guide\\n32 © PromptGuides.com\", metadata={'source': 'https://breebs.promptbreeders.com/breeb?breeb_key=Parivoyage&doc=675a6775-2&page=30', 'score': 1}), Document(page_content='Opening hours:  Daily: 6am - 10:30pm • Admission:  Free\\nTHINGS YOU NEED TO KNOW\\nThe Sacré-Coeur is a spectacular white\\nRoman Catholic church on the top of\\nMontmartre hill\\nIt stands on the highest point in Paris\\nIts full name is the Basilica of the Sacred\\nHeart of Jesus of Paris\\nThe basilica was built 1876-1919 as a\\nmemorial to the French soldiers who died in\\nthe Franco-Prussian War (1870-71)\\nThe construction was fincanced entirely from\\ndonations\\nIt offers breathtaking views both from its\\nfront steps and its domeTHINGS TO DO THERE\\nAfter wandering around the small, narrow\\nand hilly streets of Montmartre take the\\nfuniculaire to the top of the hill to this\\nstaggeringly beautiful basilica\\nEnjoy the atmosphere, visit the church and\\nhave a walk along the small and narrow\\nstreets on top of the hill\\nThe views over Paris are gorgeous from\\nthere\\nTIPS & INSIGHTS\\nMORE Info and Photos >5-day Paris City Guide\\n25 © PromptGuides.com', metadata={'source': 'https://breebs.promptbreeders.com/breeb?breeb_key=Parivoyage&doc=675a6775-2&page=23', 'score': 1}), Document(page_content='son café dans un lounge bar sans âme ? De se faire servir à la chaîne ? Personne ! Dans cette rubrique, \\non vous propose des lieux différents connus seuleme nt des parisiens qui gardent jalousement ces \\nadresses. Ils sont tous différents les uns des autres mais représentent à leur manière le Paris qu’on aime.Chaque arrondissement possède nombre de sites et musées et chaque recoin respire la culture. Avec \\nses parcs, marchés, cafés et son ambiance inoubliable, la capitale française vous fera passer des \\nmoments mémorables. Voici donc quelques lieux qui vous offrirons une vision différente de Paris  ! \\nConseil  :  \\nCertains de ces lieux sont assez luxueux (pas tous, s eulement 4 sur 18) mais ne vous laissez pas \\nimpressionner. Notre conseil est de prendre une boisson en fonction de votre budget  : un café l’après -\\nmidi vous coûtera par exemple 3.5 €  (6 euros pour une bière), pas si cher si l’on regarde la magie deslieux et la qualité de service. Bien souvent à Paris, vous payerez autant (ou plus) dans des endroits très \\nmoyens que dans les endroits que nous avons sélectionnés…. Donc tentez l’expérience  ! Entrer dans ces \\nlieux, c’est ouvrir la porte sur un autre monde, ne r atez pas ça  ! N’oubliez pas d’enlever vos baskets en \\nrevanche  !', metadata={'source': 'https://breebs.promptbreeders.com/breeb?breeb_key=Parivoyage&doc=9e9c6d54-5&page=91', 'score': 1})]\n"
     ]
    }
   ],
   "source": [
    "breeb_key=\"Parivoyage\"   # See below how to retrieve the list of all keys\n",
    "retriever = BreebsRetriever(breeb_key)\n",
    "documents = retriever._get_relevant_documents(\"What are some unique, lesser-known spots to explore in Paris?\", run_manager=CallbackManagerForRetrieverRun)\n",
    "print(documents)"
   ]
  },
  {
   "cell_type": "markdown",
   "metadata": {},
   "source": [
    "## Answering Questions with Breebs\n",
    "\n"
   ]
  },
  {
   "cell_type": "code",
   "execution_count": 27,
   "metadata": {},
   "outputs": [],
   "source": [
    "# get a token: https://platform.openai.com/account/api-keys\n",
    "\n",
    "from getpass import getpass\n",
    "\n",
    "OPENAI_API_KEY = getpass()\n"
   ]
  },
  {
   "cell_type": "code",
   "execution_count": 3,
   "metadata": {},
   "outputs": [],
   "source": [
    "import os\n",
    "\n",
    "os.environ[\"OPENAI_API_KEY\"] = OPENAI_API_KEY"
   ]
  },
  {
   "cell_type": "code",
   "execution_count": 12,
   "metadata": {},
   "outputs": [],
   "source": [
    "from langchain.chains import ConversationalRetrievalChain\n",
    "from langchain.chat_models import ChatOpenAI\n",
    "from langchain.retrievers import BreebsRetriever\n",
    "\n",
    "model = ChatOpenAI(model_name=\"gpt-3.5-turbo\")  # switch to 'gpt-4'\n",
    "qa = ConversationalRetrievalChain.from_llm(model, retriever=BreebsRetriever(breeb_key))"
   ]
  },
  {
   "cell_type": "code",
   "execution_count": 13,
   "metadata": {},
   "outputs": [
    {
     "name": "stdout",
     "output_type": "stream",
     "text": [
      "QUESTION: What is the best time of year to visit Paris?\n",
      "ANWSER: The best time of year to visit Paris is subjective and depends on personal preferences. However, Paris can be enjoyed throughout the year. In January, you can see snow on the rooftops, while spring brings blooming flowers. Summer is great for enjoying terraces in the sun, and autumn offers beautiful yellow leaves along the Seine. The temperatures range from 18°C in summer to 6°C in winter.\n",
      "QUESTION: What are the must-see attractions in Paris?\n",
      "ANWSER: The must-see attractions in Paris include the Louvre Museum, City Hall (Hôtel de Ville), the Conciergerie, Notre-Dame Cathedral, the Musée d'Orsay, the National Assembly, and of course, the Eiffel Tower. These are some of the most iconic and popular tourist sites in the city.\n",
      "QUESTION: Do I need to speak French to visit Paris?\n",
      "ANWSER: No, it is not necessary to speak French in order to visit Paris. The Office of Tourism and Congress of Paris offers guides and brochures in multiple languages, including English. Additionally, many people in the tourist areas of Paris, such as hotels and restaurants, speak English.\n"
     ]
    }
   ],
   "source": [
    "questions = [\n",
    "    \"What is the best time of year to visit Paris?\",\n",
    "    \"What are the must-see attractions in Paris?\",\n",
    "    \"Do I need to speak French to visit Paris?\",\n",
    "]\n",
    "chat_history = []\n",
    "\n",
    "for question in questions:\n",
    "    result = qa({\"question\": question, \"chat_history\": chat_history})\n",
    "    chat_history.append((question, result[\"answer\"]))\n",
    "    print(f\"QUESTION: {question}\", end=\"\\n\")\n",
    "    print(f\"ANWSER: {result['answer']}\", end=\"\\n\")"
   ]
  }
 ],
 "metadata": {
  "kernelspec": {
   "display_name": "venv",
   "language": "python",
   "name": "python3"
  },
  "language_info": {
   "codemirror_mode": {
    "name": "ipython",
    "version": 3
   },
   "file_extension": ".py",
   "mimetype": "text/x-python",
   "name": "python",
   "nbconvert_exporter": "python",
   "pygments_lexer": "ipython3",
   "version": "3.10.12"
  }
 },
 "nbformat": 4,
 "nbformat_minor": 2
}
