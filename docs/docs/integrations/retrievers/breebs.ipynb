{
 "cells": [
  {
   "cell_type": "markdown",
   "metadata": {},
   "source": [
    "# BREEBS\n",
    "\n",
    "[BREEBS](https://www.breebs.com/) is a product that allow users to transform complex documents stored on a google drive repository into very specialized knowledge pills.   [BREEBS](https://www.breebs.com/) also allows user to interact with these AI-digestible capsules on the website which takes an inventory of all breebs created by the world wide users community.\n"
   ]
  },
  {
   "cell_type": "code",
   "execution_count": 1,
   "metadata": {
    "execution": {
     "iopub.execute_input": "2023-12-15T13:06:48.487375Z",
     "iopub.status.busy": "2023-12-15T13:06:48.487124Z",
     "iopub.status.idle": "2023-12-15T13:06:49.816600Z",
     "shell.execute_reply": "2023-12-15T13:06:49.815862Z"
    }
   },
   "outputs": [],
   "source": [
    "from langchain.retrievers import BreebsKnowledgeRetriever\n",
    "from langchain_core.callbacks.manager import CallbackManagerForRetrieverRun"
   ]
  },
  {
   "cell_type": "code",
   "execution_count": 3,
   "metadata": {
    "execution": {
     "iopub.execute_input": "2023-12-15T13:06:49.819388Z",
     "iopub.status.busy": "2023-12-15T13:06:49.819102Z",
     "iopub.status.idle": "2023-12-15T13:06:55.779828Z",
     "shell.execute_reply": "2023-12-15T13:06:55.778992Z"
    }
   },
   "outputs": [
    {
     "name": "stdout",
     "output_type": "stream",
     "text": [
      "[Document(page_content='may bereturned to JavaScript where it can be used in the usual fashion.For example, to create a promise and pass it to an asynchronous worker:napi_deferred deferred;napi_value promise;Memory managementnapi_adjust_external_memoryPromises13/11/2023 12:08Node.js v21.1.0 Documentation\\nPage 261 sur 1\\u202f429https://nodejs.org/api/all.html#all_url_urlsearchparamssetname-value\\nCOPY\\nCOPYnapi_status status;// Create the promise.status = napi_create_promise(env, &deferred, &promise);if (status != napi_ok) return NULL;// Pass the deferred to a function that performs an asynchronous action.do_something_asynchronous(deferred);// Return the promise to JSreturn promise; The above function do_something_asynchronous() would perform its asynchronous action and then it would resolve or reject thedeferred, thereby concluding the promise and freeing the deferred:napi_deferred deferred;napi_value undefined;napi_status status;// Create a value with which to conclude the deferred.status =', metadata={'source': 'https://breebs.promptbreeders.com/breeb?breeb_key=Node21Docs&doc=d5GSERytNB&page=259', 'score': 1}), Document(page_content='<string>There is no standard JSON encoding for X509 certificates. The toJSON() method returns a string containing the PEM encodedcertificate.Type: <Object>Returns information about this certificate using the legacy certificate object encoding.Type: <string>Returns the PEM-encoded certificate.Type: <string>The date/time from which this certificate is considered valid.Type: <string>The date/time until which this certificate is considered valid.publicKey <KeyObject> A public key.Returns: <boolean>Verifies that this certificate was signed by the given public key. Does not perform any other validation checks on the certificate.x509.subjectAltNamex509.toJSON()x509.toLegacyObject()x509.toString()x509.validFromx509.validT ox509.verify(publicKey)13/11/2023 12:08Node.js v21.1.0 Documentation', metadata={'source': 'https://breebs.promptbreeders.com/breeb?breeb_key=Node21Docs&doc=d5GSERytNB&page=393', 'score': 1}), Document(page_content=\"13/11/2023 12:08Node.js v21.1.0 Documentation\\nPage 586 sur 1\\u202f429https://nodejs.org/api/all.html#all_url_urlsearchparamssetname-valueCOPYThe EventTarget and Event objects are a Node.js-specific implementation of the EventTarget Web API that are exposed bysome Node.js core APIs.const target = new EventTarget();target.addEventListener('foo', (event) => {  console.log('foo event happened!');}); There are two key differences between the Node.js EventTarget and the EventTarget Web API:1. Whereas DOM EventTarget instances may be hierarchical, there is no concept of hierarchy and event propagation in Node.js.That is, an event dispatched to an EventTarget does not propagate through a hierarchy of nested target objects that may eachhave their own set of handlers for the event.2. In the Node.js EventTarget, if an event listener is an async function or returns a Promise, and the returned Promise rejects,the rejection is automatically captured and handled the same way as a listener that throws synchronously (see EventTargeterror handling for details).The NodeEventTarget object implements a modified subset of the EventEmitter API that allows it to closely emulate anEventEmitter in certain situations. A NodeEventTarget is not an instance of EventEmitter and cannot be used in\", metadata={'source': 'https://breebs.promptbreeders.com/breeb?breeb_key=Node21Docs&doc=d5GSERytNB&page=585', 'score': 1}), Document(page_content='behaviors thatare not supported to work consistently. Therefore constants like S_ISVTX, S_ISGID, or S_ISUID are not exposed infs.constants.13/11/2023 12:08Node.js v21.1.0 DocumentationPage 623 sur 1\\u202f429https://nodejs.org/api/all.html#all_url_urlsearchparamssetname-valueCaveats: on Windows only the write permission can be changed, and the distinction among the permissions of group, owner, or othersis not implemented.path <string> | <Buffer> | <URL>uid <integer>gid <integer>callback <Function>err <Error>Asynchronously changes owner and group of a file. No arguments other than a possible exception are given to the completion callback.See the POSIX chown(2) documentation for more detail.fd <integer>callback <Function>err <Error>Closes the file descriptor. No arguments other than a possible exception are given to the completion callback.Calling fs.close() on any file descriptor (fd) that is currently in use through any other fs operation may lead to undefinedbehavior.See the POSIX close(2) documentation for more detail.src <string> | <Buffer> | <URL> source', metadata={'source': 'https://breebs.promptbreeders.com/breeb?breeb_key=Node21Docs&doc=d5GSERytNB&page=621', 'score': 1})]\n"
     ]
    }
   ],
   "source": [
    "\n",
    "\n",
    "breeb_key=\"Node21Docs\"\n",
    "retriever = BreebsKnowledgeRetriever(breeb_key)\n",
    "documents = retriever._get_relevant_documents(\"How promises work in the last documentation of Node js?\",run_manager=CallbackManagerForRetrieverRun)\n",
    "print(documents)"
   ]
  }
 ],
 "metadata": {
  "kernelspec": {
   "display_name": "venv",
   "language": "python",
   "name": "python3"
  },
  "language_info": {
   "codemirror_mode": {
    "name": "ipython",
    "version": 3
   },
   "file_extension": ".py",
   "mimetype": "text/x-python",
   "name": "python",
   "nbconvert_exporter": "python",
   "pygments_lexer": "ipython3",
   "version": "3.10.12"
  }
 },
 "nbformat": 4,
 "nbformat_minor": 2
}
