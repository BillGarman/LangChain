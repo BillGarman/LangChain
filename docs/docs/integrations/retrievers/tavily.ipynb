{
 "cells": [
  {
   "attachments": {},
   "cell_type": "markdown",
   "metadata": {},
   "source": [
    "# Tavily Search API\n",
    "\n",
    "[Tavily's Search API](https://tavily.com) is a search engine built specifically for AI agents (LLMs), delivering real-time, accurate, and factual results at speed.\n",
    "\n",
    "We can use this as a [retriever](/docs/modules/data_connection/retrievers). It will show functionality specific to this integration. After going through, it may be useful to explore [relevant use-case pages](/docs/use_cases/question_answering) to learn how to use this vectorstore as part of a larger chain.\n",
    "\n",
    "## Setup\n",
    "\n",
    "The integration lives in the `langchain-community` package. We also need to install the `tavily-python` package itself.\n",
    "\n",
    "```bash\n",
    "pip install -U langchain-community tavily-python\n",
    "```\n",
    "\n",
    "We also need to set our Tavily API key."
   ]
  },
  {
   "cell_type": "code",
   "execution_count": null,
   "metadata": {},
   "outputs": [],
   "source": [
    "import getpass\n",
    "import os\n",
    "\n",
    "os.environ[\"TAVILY_API_KEY\"] = getpass.getpass()"
   ]
  },
  {
   "cell_type": "markdown",
   "metadata": {},
   "source": [
    "It's also helpful (but not needed) to set up [LangSmith](https://smith.langchain.com/) for best-in-class observability"
   ]
  },
  {
   "cell_type": "code",
   "execution_count": null,
   "metadata": {},
   "outputs": [],
   "source": [
    "# os.environ[\"LANGCHAIN_TRACING_V2\"] = \"true\"\n",
    "# os.environ[\"LANGCHAIN_API_KEY\"] = getpass.getpass()"
   ]
  },
  {
   "cell_type": "markdown",
   "metadata": {},
   "source": [
    "## Usage"
   ]
  },
  {
   "cell_type": "code",
   "execution_count": 4,
   "metadata": {},
   "outputs": [
    {
     "data": {
      "text/plain": [
       "[Document(page_content='Be sure to let us know in the comments how many of these you already knew, and also don’t miss out on the video version of this feature above!\\n1) Breadth of the Wild Ideas\\nThe goal of Breath of the Wild was to \"break the conventions of the Zelda series,\" and that was really taken to heart by the development team, who pitched all sorts of wild ideas early on in planning, from a Hyrule with invading UFOs that could abduct cattle, through to a guitar-wielding Link and motorbike-riding Link.\\n You can also see echoes of Malanya in the design of the stables all over Hyrule.\\n15) Whatcha Doin?\\nStaying on horses, they’re pretty multifaceted in the final game, but the team had plenty of concepts for what horses could potentially do that didn’t make the cut, such as nuzzling Link’s cheek, popping their head through a window if Link was inside and swaying in time with any music in the environment.\\n (And also the game’s Divine Helms, which can only be obtained through scanning Champion Amiibos.)\\n18) Just Gimme That Horn Now\\nSpeaking of enemies, one of the most iconic sound effects in Breath of the Wild - the horn that Bokoblin guards blow to alert the camp or base - was made using an actual horn that one of the programmers brought in from home. And not without some precedent, either.\\n3) A Link to the Past\\nEarly on in development, the team wanted an easy way to test - and illustrate - the interactions that they saw as the foundation of Breath of the Wild’s gameplay. Many of the goals for Breath of the Wild, he said, were actually born out of Skyward Sword - specifically, expanding on that game’s stamina gauge and restricted climbing mechanic, as well as giving players the chance to explore between the different areas.\\n', metadata={'title': \"Breath of the Wild - 19 Fascinating Facts From The Game's Development\", 'source': 'https://www.ign.com/articles/zelda-breath-of-the-wild-development-five-year-anniversary-fascinating-facts', 'score': 0.96856, 'images': None})]"
      ]
     },
     "execution_count": 4,
     "metadata": {},
     "output_type": "execute_result"
    }
   ],
   "source": [
    "from langchain.retrievers.tavily_search_api import TavilySearchAPIRetriever\n",
    "\n",
    "retriever = TavilySearchAPIRetriever(k=1)\n",
    "\n",
    "retriever.invoke(\"what year was breath of the wild released?\")"
   ]
  },
  {
   "cell_type": "code",
   "execution_count": null,
   "metadata": {},
   "outputs": [],
   "source": []
  }
 ],
 "metadata": {
  "kernelspec": {
   "display_name": "Python 3 (ipykernel)",
   "language": "python",
   "name": "python3"
  },
  "language_info": {
   "codemirror_mode": {
    "name": "ipython",
    "version": 3
   },
   "file_extension": ".py",
   "mimetype": "text/x-python",
   "name": "python",
   "nbconvert_exporter": "python",
   "pygments_lexer": "ipython3",
   "version": "3.11.1"
  }
 },
 "nbformat": 4,
 "nbformat_minor": 4
}
