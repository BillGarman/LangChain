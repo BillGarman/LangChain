{
 "cells": [
  {
   "cell_type": "markdown",
   "id": "8b8b8266-4378-43e7-9542-6934b9491fa1",
   "metadata": {},
   "source": [
    "# dstack\n",
    "\n",
    "This notebook goes over how to use Langchain with chat models deployed as a [dstack](https://dstack.ai/docs/guides/text-generation/) service.\n",
    "\n",
    "To use chat templating, you should have the `transformers` python package installed."
   ]
  },
  {
   "cell_type": "code",
   "execution_count": null,
   "id": "c2be7754-7253-42cd-8c53-935012afe126",
   "metadata": {},
   "outputs": [],
   "source": [
    "%pip install transformers"
   ]
  },
  {
   "cell_type": "markdown",
   "id": "74f671a6-aa61-4acb-910a-545fb72b2dd8",
   "metadata": {},
   "source": [
    "First, you have to setup dstack server/project and launch your chat model.\n",
    "\n",
    "Next, you can specify your token as a constructor parameter `api_token` or in an environmental variable `DSTACK_API_TOKEN`. Specify dstack server details and `run_name`."
   ]
  },
  {
   "cell_type": "code",
   "execution_count": 1,
   "id": "810afcea-c151-42e5-aa87-0c7646cfc6b8",
   "metadata": {},
   "outputs": [],
   "source": [
    "from langchain.chat_models import ChatDstack\n",
    "from langchain.schema import HumanMessage"
   ]
  },
  {
   "cell_type": "code",
   "execution_count": null,
   "id": "5b681139-4a80-4e37-afb1-723c7ef63693",
   "metadata": {},
   "outputs": [],
   "source": [
    "chat_model = ChatDstack(\n",
    "    run_name=\"mistral-7b-gptq\",\n",
    "    project=\"main\",\n",
    "    api_base_url=\"http://localhost:3000\",\n",
    ")"
   ]
  },
  {
   "cell_type": "code",
   "execution_count": 6,
   "id": "e4803bff-70db-40a6-8e4f-138e2fb0d31f",
   "metadata": {},
   "outputs": [
    {
     "data": {
      "text/plain": [
       "AIMessage(content=' The main ingredients in a traditional carbonara are eggs, cheese (usually Pecorino Romano or Parmesan), pancetta or bacon, black pepper, and sometimes garlic. Some recipes may also include ingredients such as cream or heavy cream, butter, or olive oil.')"
      ]
     },
     "execution_count": 6,
     "metadata": {},
     "output_type": "execute_result"
    }
   ],
   "source": [
    "answer = chat_model(\n",
    "    [HumanMessage(content=\"What are the main ingredients of a carbonara?\")]\n",
    ")\n",
    "answer"
   ]
  }
 ],
 "metadata": {
  "kernelspec": {
   "display_name": "Python 3 (ipykernel)",
   "language": "python",
   "name": "python3"
  },
  "language_info": {
   "codemirror_mode": {
    "name": "ipython",
    "version": 3
   },
   "file_extension": ".py",
   "mimetype": "text/x-python",
   "name": "python",
   "nbconvert_exporter": "python",
   "pygments_lexer": "ipython3",
   "version": "3.11.3"
  }
 },
 "nbformat": 4,
 "nbformat_minor": 5
}
