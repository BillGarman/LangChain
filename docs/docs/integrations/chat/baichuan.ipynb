{
 "cells": [
  {
   "cell_type": "markdown",
   "metadata": {},
   "source": [
    "# Baichuan Chat\n",
    "\n",
    "Baichuan chat models API by Baichuan Intelligent Technology. For more information, see [https://platform.baichuan-ai.com/docs/api](https://platform.baichuan-ai.com/docs/api"
   ]
  },
  {
   "cell_type": "code",
   "execution_count": 7,
   "metadata": {
    "ExecuteTime": {
     "end_time": "2023-10-17T14:23:46.653044Z",
     "start_time": "2023-10-17T14:23:46.632961Z"
    }
   },
   "outputs": [],
   "source": [
    "from langchain.chat_models import ChatBaichuan\n",
    "from langchain.schema import HumanMessage"
   ]
  },
  {
   "cell_type": "code",
   "execution_count": 8,
   "metadata": {
    "ExecuteTime": {
     "end_time": "2023-10-17T14:23:46.655772Z",
     "start_time": "2023-10-17T14:23:46.639696Z"
    }
   },
   "outputs": [],
   "source": [
    "chat = ChatBaichuan(\n",
    "    baichuan_api_key='YOUR_API_KEY',\n",
    "    baichuan_secret_key='YOUR_SECRET_KEY'\n",
    ")"
   ]
  },
  {
   "cell_type": "markdown",
   "metadata": {},
   "source": [
    "or you can set `api_key` and `secret_key` in your environment variables\n",
    "```bash\n",
    "export BAICHUAN_API_KEY=YOUR_API_KEY\n",
    "export BAICHUAN_SECRET_KEY=YOUR_SECRET_KEY\n",
    "```"
   ]
  },
  {
   "cell_type": "code",
   "execution_count": 9,
   "metadata": {
    "ExecuteTime": {
     "end_time": "2023-10-17T14:23:48.386390Z",
     "start_time": "2023-10-17T14:23:46.646524Z"
    }
   },
   "outputs": [
    {
     "data": {
      "text/plain": "AIMessage(content='首先，我们需要确定闰年的二月有多少天。闰年的二月有29天。\\n\\n然后，我们可以计算你的月薪：\\n\\n日薪 = 月薪 / (当月天数)\\n\\n所以，你的月薪 = 日薪 * 当月天数\\n\\n将数值代入公式：\\n\\n月薪 = 8元/天 * 29天 = 232元\\n\\n因此，你在闰年的二月的月薪是232元。')"
     },
     "execution_count": 9,
     "metadata": {},
     "output_type": "execute_result"
    }
   ],
   "source": [
    "chat([\n",
    "    HumanMessage(content='我日薪8块钱，请问在闰年的二月，我月薪多少')\n",
    "])"
   ]
  },
  {
   "cell_type": "code",
   "execution_count": 10,
   "outputs": [],
   "source": [
    "## For ChatBaichuan with Streaming"
   ],
   "metadata": {
    "collapsed": false,
    "ExecuteTime": {
     "end_time": "2023-10-17T14:23:48.394105Z",
     "start_time": "2023-10-17T14:23:48.384471Z"
    }
   }
  },
  {
   "cell_type": "code",
   "execution_count": 11,
   "outputs": [],
   "source": [
    "chat = ChatBaichuan(\n",
    "    baichuan_api_key='YOUR_API_KEY',\n",
    "    baichuan_secret_key='YOUR_SECRET_KEY',\n",
    "    streaming=True\n",
    ")"
   ],
   "metadata": {
    "collapsed": false,
    "ExecuteTime": {
     "end_time": "2023-10-17T14:23:48.400577Z",
     "start_time": "2023-10-17T14:23:48.392318Z"
    }
   }
  },
  {
   "cell_type": "code",
   "execution_count": 12,
   "outputs": [
    {
     "data": {
      "text/plain": "AIMessageChunk(content='首先，我们需要确定闰年的二月有多少天。闰年的二月有29天。\\n\\n然后，我们可以计算你的月薪：\\n\\n日薪 = 月薪 / (当月天数)\\n\\n所以，你的月薪 = 日薪 * 当月天数\\n\\n将数值代入公式：\\n\\n月薪 = 8元/天 * 29天 = 232元\\n\\n因此，你在闰年的二月的月薪是232元。')"
     },
     "execution_count": 12,
     "metadata": {},
     "output_type": "execute_result"
    }
   ],
   "source": [
    "chat([\n",
    "    HumanMessage(content='我日薪8块钱，请问在闰年的二月，我月薪多少')\n",
    "])"
   ],
   "metadata": {
    "collapsed": false,
    "ExecuteTime": {
     "end_time": "2023-10-17T14:23:49.336483Z",
     "start_time": "2023-10-17T14:23:48.396650Z"
    }
   }
  }
 ],
 "metadata": {
  "kernelspec": {
   "display_name": "Python 3 (ipykernel)",
   "language": "python",
   "name": "python3"
  },
  "language_info": {
   "codemirror_mode": {
    "name": "ipython",
    "version": 3
   },
   "file_extension": ".py",
   "mimetype": "text/x-python",
   "name": "python",
   "nbconvert_exporter": "python",
   "pygments_lexer": "ipython3",
   "version": "3.11.4"
  },
  "orig_nbformat": 4
 },
 "nbformat": 4,
 "nbformat_minor": 2
}
