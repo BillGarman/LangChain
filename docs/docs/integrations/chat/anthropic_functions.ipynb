{
 "cells": [
  {
   "cell_type": "markdown",
   "id": "5125a1e3",
   "metadata": {},
   "source": [
    "# Anthropic Tools\n",
    "\n",
    "This notebook shows how to use an experimental wrapper around Anthropic that gives it tool calling and structured output capabilities. It follows Anthropic's guide [here](https://docs.anthropic.com/claude/docs/functions-external-tools)"
   ]
  },
  {
   "cell_type": "code",
   "execution_count": 3,
   "id": "4d7e9c17",
   "metadata": {},
   "outputs": [
    {
     "name": "stdout",
     "output_type": "stream",
     "text": [
      "Obtaining file:///Users/erickfriis/langchain/oss-py/libs/partners/anthropic\n",
      "  Installing build dependencies ... \u001b[?25ldone\n",
      "\u001b[?25h  Checking if build backend supports build_editable ... \u001b[?25ldone\n",
      "\u001b[?25h  Getting requirements to build editable ... \u001b[?25ldone\n",
      "\u001b[?25h  Preparing editable metadata (pyproject.toml) ... \u001b[?25ldone\n",
      "\u001b[?25hRequirement already satisfied: anthropic<1,>=0.17.0 in /Users/erickfriis/langchain/oss-py/.venv/lib/python3.11/site-packages (from langchain-anthropic==0.1.1) (0.17.0)\n",
      "Requirement already satisfied: defusedxml<0.8.0,>=0.7.1 in /Users/erickfriis/langchain/oss-py/.venv/lib/python3.11/site-packages (from langchain-anthropic==0.1.1) (0.7.1)\n",
      "Requirement already satisfied: langchain-core<0.2,>=0.1 in /Users/erickfriis/langchain/oss-py/.venv/lib/python3.11/site-packages (from langchain-anthropic==0.1.1) (0.1.28)\n",
      "Requirement already satisfied: anyio<5,>=3.5.0 in /Users/erickfriis/langchain/oss-py/.venv/lib/python3.11/site-packages (from anthropic<1,>=0.17.0->langchain-anthropic==0.1.1) (4.3.0)\n",
      "Requirement already satisfied: distro<2,>=1.7.0 in /Users/erickfriis/langchain/oss-py/.venv/lib/python3.11/site-packages (from anthropic<1,>=0.17.0->langchain-anthropic==0.1.1) (1.9.0)\n",
      "Requirement already satisfied: httpx<1,>=0.23.0 in /Users/erickfriis/langchain/oss-py/.venv/lib/python3.11/site-packages (from anthropic<1,>=0.17.0->langchain-anthropic==0.1.1) (0.27.0)\n",
      "Requirement already satisfied: pydantic<3,>=1.9.0 in /Users/erickfriis/langchain/oss-py/.venv/lib/python3.11/site-packages (from anthropic<1,>=0.17.0->langchain-anthropic==0.1.1) (2.6.1)\n",
      "Requirement already satisfied: sniffio in /Users/erickfriis/langchain/oss-py/.venv/lib/python3.11/site-packages (from anthropic<1,>=0.17.0->langchain-anthropic==0.1.1) (1.3.0)\n",
      "Requirement already satisfied: tokenizers>=0.13.0 in /Users/erickfriis/langchain/oss-py/.venv/lib/python3.11/site-packages (from anthropic<1,>=0.17.0->langchain-anthropic==0.1.1) (0.15.2)\n",
      "Requirement already satisfied: typing-extensions<5,>=4.7 in /Users/erickfriis/langchain/oss-py/.venv/lib/python3.11/site-packages (from anthropic<1,>=0.17.0->langchain-anthropic==0.1.1) (4.9.0)\n",
      "Requirement already satisfied: PyYAML>=5.3 in /Users/erickfriis/langchain/oss-py/.venv/lib/python3.11/site-packages (from langchain-core<0.2,>=0.1->langchain-anthropic==0.1.1) (6.0.1)\n",
      "Requirement already satisfied: jsonpatch<2.0,>=1.33 in /Users/erickfriis/langchain/oss-py/.venv/lib/python3.11/site-packages (from langchain-core<0.2,>=0.1->langchain-anthropic==0.1.1) (1.33)\n",
      "Requirement already satisfied: langsmith<0.2.0,>=0.1.0 in /Users/erickfriis/langchain/oss-py/.venv/lib/python3.11/site-packages (from langchain-core<0.2,>=0.1->langchain-anthropic==0.1.1) (0.1.5)\n",
      "Requirement already satisfied: packaging<24.0,>=23.2 in /Users/erickfriis/langchain/oss-py/.venv/lib/python3.11/site-packages (from langchain-core<0.2,>=0.1->langchain-anthropic==0.1.1) (23.2)\n",
      "Requirement already satisfied: requests<3,>=2 in /Users/erickfriis/langchain/oss-py/.venv/lib/python3.11/site-packages (from langchain-core<0.2,>=0.1->langchain-anthropic==0.1.1) (2.31.0)\n",
      "Requirement already satisfied: tenacity<9.0.0,>=8.1.0 in /Users/erickfriis/langchain/oss-py/.venv/lib/python3.11/site-packages (from langchain-core<0.2,>=0.1->langchain-anthropic==0.1.1) (8.2.3)\n",
      "Requirement already satisfied: idna>=2.8 in /Users/erickfriis/langchain/oss-py/.venv/lib/python3.11/site-packages (from anyio<5,>=3.5.0->anthropic<1,>=0.17.0->langchain-anthropic==0.1.1) (3.6)\n",
      "Requirement already satisfied: certifi in /Users/erickfriis/langchain/oss-py/.venv/lib/python3.11/site-packages (from httpx<1,>=0.23.0->anthropic<1,>=0.17.0->langchain-anthropic==0.1.1) (2024.2.2)\n",
      "Requirement already satisfied: httpcore==1.* in /Users/erickfriis/langchain/oss-py/.venv/lib/python3.11/site-packages (from httpx<1,>=0.23.0->anthropic<1,>=0.17.0->langchain-anthropic==0.1.1) (1.0.4)\n",
      "Requirement already satisfied: h11<0.15,>=0.13 in /Users/erickfriis/langchain/oss-py/.venv/lib/python3.11/site-packages (from httpcore==1.*->httpx<1,>=0.23.0->anthropic<1,>=0.17.0->langchain-anthropic==0.1.1) (0.14.0)\n",
      "Requirement already satisfied: jsonpointer>=1.9 in /Users/erickfriis/langchain/oss-py/.venv/lib/python3.11/site-packages (from jsonpatch<2.0,>=1.33->langchain-core<0.2,>=0.1->langchain-anthropic==0.1.1) (2.4)\n",
      "Requirement already satisfied: annotated-types>=0.4.0 in /Users/erickfriis/langchain/oss-py/.venv/lib/python3.11/site-packages (from pydantic<3,>=1.9.0->anthropic<1,>=0.17.0->langchain-anthropic==0.1.1) (0.6.0)\n",
      "Requirement already satisfied: pydantic-core==2.16.2 in /Users/erickfriis/langchain/oss-py/.venv/lib/python3.11/site-packages (from pydantic<3,>=1.9.0->anthropic<1,>=0.17.0->langchain-anthropic==0.1.1) (2.16.2)\n",
      "Requirement already satisfied: charset-normalizer<4,>=2 in /Users/erickfriis/langchain/oss-py/.venv/lib/python3.11/site-packages (from requests<3,>=2->langchain-core<0.2,>=0.1->langchain-anthropic==0.1.1) (3.3.2)\n",
      "Requirement already satisfied: urllib3<3,>=1.21.1 in /Users/erickfriis/langchain/oss-py/.venv/lib/python3.11/site-packages (from requests<3,>=2->langchain-core<0.2,>=0.1->langchain-anthropic==0.1.1) (2.2.1)\n",
      "Requirement already satisfied: huggingface_hub<1.0,>=0.16.4 in /Users/erickfriis/langchain/oss-py/.venv/lib/python3.11/site-packages (from tokenizers>=0.13.0->anthropic<1,>=0.17.0->langchain-anthropic==0.1.1) (0.21.2)\n",
      "Requirement already satisfied: filelock in /Users/erickfriis/langchain/oss-py/.venv/lib/python3.11/site-packages (from huggingface_hub<1.0,>=0.16.4->tokenizers>=0.13.0->anthropic<1,>=0.17.0->langchain-anthropic==0.1.1) (3.13.1)\n",
      "Requirement already satisfied: fsspec>=2023.5.0 in /Users/erickfriis/langchain/oss-py/.venv/lib/python3.11/site-packages (from huggingface_hub<1.0,>=0.16.4->tokenizers>=0.13.0->anthropic<1,>=0.17.0->langchain-anthropic==0.1.1) (2024.2.0)\n",
      "Requirement already satisfied: tqdm>=4.42.1 in /Users/erickfriis/langchain/oss-py/.venv/lib/python3.11/site-packages (from huggingface_hub<1.0,>=0.16.4->tokenizers>=0.13.0->anthropic<1,>=0.17.0->langchain-anthropic==0.1.1) (4.66.2)\n",
      "Building wheels for collected packages: langchain-anthropic\n",
      "  Building editable for langchain-anthropic (pyproject.toml) ... \u001b[?25ldone\n",
      "\u001b[?25h  Created wheel for langchain-anthropic: filename=langchain_anthropic-0.1.1-py3-none-any.whl size=2715 sha256=7738f6161c3370d68271f6fa2ede3dc873e52ca411b9bad4972e4ec70f7f0060\n",
      "  Stored in directory: /private/var/folders/98/z5bs0s391rs41msjp7xdd7y00000gn/T/pip-ephem-wheel-cache-8y4sk39m/wheels/94/ec/17/14227c1c9f86c67d5650806ae237ac2236137871aa4bebaf5b\n",
      "Successfully built langchain-anthropic\n",
      "Installing collected packages: langchain-anthropic\n",
      "  Attempting uninstall: langchain-anthropic\n",
      "    Found existing installation: langchain-anthropic 0.1.0\n",
      "    Uninstalling langchain-anthropic-0.1.0:\n",
      "      Successfully uninstalled langchain-anthropic-0.1.0\n",
      "Successfully installed langchain-anthropic-0.1.1\n",
      "Note: you may need to restart the kernel to use updated packages.\n"
     ]
    }
   ],
   "source": [
    "%pip install -e /Users/erickfriis/langchain/oss-py/libs/partners/anthropic"
   ]
  },
  {
   "cell_type": "code",
   "execution_count": 1,
   "id": "378be79b",
   "metadata": {},
   "outputs": [],
   "source": [
    "# %pip install -qU langchain-anthropic\n",
    "from langchain_anthropic.experimental import ChatAnthropicTools"
   ]
  },
  {
   "cell_type": "markdown",
   "id": "65499965",
   "metadata": {},
   "source": [
    "## Tool Binding\n",
    "\n",
    "`ChatAnthropicTools` exposes a `bind_tools` method that allows you to pass in Pydantic models or BaseTools to the llm."
   ]
  },
  {
   "cell_type": "code",
   "execution_count": 3,
   "id": "e1d535f6",
   "metadata": {},
   "outputs": [
    {
     "data": {
      "text/plain": [
       "AIMessage(content='', additional_kwargs={'tool_calls': [{'function': {'name': 'Person', 'arguments': '{\"name\": \"Erick\", \"age\": \"27\"}'}, 'type': 'function'}]})"
      ]
     },
     "execution_count": 3,
     "metadata": {},
     "output_type": "execute_result"
    }
   ],
   "source": [
    "from langchain_core.pydantic_v1 import BaseModel\n",
    "\n",
    "class Person(BaseModel):\n",
    "    name: str\n",
    "    age: int\n",
    "\n",
    "model = ChatAnthropicTools(model=\"claude-3-opus-20240229\").bind_tools(tools=[Person])\n",
    "model.invoke('I am a 27 year old named Erick')"
   ]
  },
  {
   "cell_type": "markdown",
   "id": "fcc9eaf4",
   "metadata": {},
   "source": [
    "## Structured Output\n",
    "\n",
    "`ChatAnthropicTools` also implements the [`with_structured_output` spec](/docs/guides/structured_output) for extracting values. Note: this may not be as stable as with models that explicitly offer tool calling."
   ]
  },
  {
   "cell_type": "code",
   "execution_count": 4,
   "id": "0779c320",
   "metadata": {},
   "outputs": [
    {
     "data": {
      "text/plain": [
       "Person(name='Erick', age=27)"
      ]
     },
     "execution_count": 4,
     "metadata": {},
     "output_type": "execute_result"
    }
   ],
   "source": [
    "chain = ChatAnthropicTools(model=\"claude-3-opus-20240229\").with_structured_output(Person)\n",
    "chain.invoke('I am a 27 year old named Erick')"
   ]
  }
 ],
 "metadata": {
  "kernelspec": {
   "display_name": "Python 3 (ipykernel)",
   "language": "python",
   "name": "python3"
  },
  "language_info": {
   "codemirror_mode": {
    "name": "ipython",
    "version": 3
   },
   "file_extension": ".py",
   "mimetype": "text/x-python",
   "name": "python",
   "nbconvert_exporter": "python",
   "pygments_lexer": "ipython3",
   "version": "3.11.4"
  }
 },
 "nbformat": 4,
 "nbformat_minor": 5
}
