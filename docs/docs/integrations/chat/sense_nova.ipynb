{
 "cells": [
  {
   "cell_type": "raw",
   "metadata": {},
   "source": [
    "---\n",
    "sidebar_label: SenseNova\n",
    "---"
   ]
  },
  {
   "attachments": {},
   "cell_type": "markdown",
   "metadata": {},
   "source": [
    "# ChatSenseNova\n",
    "\n",
    "SenseNova chat models API by SenseTime Technology. For more information, see https://platform.sensenova.cn/#/doc?path=/platform/helpdoc/help.md\n",
    "\n",
    "\n",
    "## API Initialization\n",
    "\n",
    "You could either choose to init the AK,SK in environment variables or init params:\n",
    "AK SK apply see: https://platform.sensenova.cn/#/apply\n",
    "```base\n",
    "export SENSENOVA_ACCESS_KEY_ID=XXX\n",
    "export SENSENOVA_SECRET_ACCESS_KEY=XXX\n",
    "```"
   ]
  },
  {
   "cell_type": "code",
   "execution_count": null,
   "metadata": {
    "collapsed": false
   },
   "outputs": [],
   "source": [
    "%pip install --upgrade --quiet  sensenova"
   ]
  },
  {
   "cell_type": "code",
   "execution_count": 2,
   "metadata": {
    "ExecuteTime": {
     "end_time": "2024-01-18T10:41:03.585059Z",
     "start_time": "2024-01-18T10:41:03.527679Z"
    }
   },
   "outputs": [
    {
     "name": "stderr",
     "output_type": "stream",
     "text": [
      "/Library/Frameworks/Python.framework/Versions/3.9/lib/python3.9/site-packages/langchain_core/_api/deprecation.py:117: LangChainDeprecationWarning: The function `__call__` was deprecated in LangChain 0.1.7 and will be removed in 0.2.0. Use invoke instead.\n",
      "  warn_deprecated(\n"
     ]
    },
    {
     "name": "stdout",
     "output_type": "stream",
     "text": [
      " 我喜欢编程。"
     ]
    },
    {
     "data": {
      "text/plain": [
       "AIMessage(content=' 我喜欢编程。')"
      ]
     },
     "execution_count": 2,
     "metadata": {},
     "output_type": "execute_result"
    }
   ],
   "source": [
    "\"\"\"For basic init and call\"\"\"\n",
    "import os\n",
    "from langchain.schema import (\n",
    "        AIMessage,\n",
    "        HumanMessage,\n",
    "    )\n",
    "from langchain_community.chat_models.sense_nova import ChatSenseNova\n",
    "from langchain.callbacks.streaming_stdout import StreamingStdOutCallbackHandler\n",
    "\n",
    "os.environ[\"SENSENOVA_ACCESS_KEY_ID\"] = \"xxx\"\n",
    "os.environ[\"SENSENOVA_SECRET_ACCESS_KEY\"] = \"xxx\"\n",
    "\n",
    "chat = ChatSenseNova(streaming=True, callbacks=[StreamingStdOutCallbackHandler()], temperature=0.8)\n",
    "messages = [\n",
    "    AIMessage(content=\"我是一个智能助手，可以把英文翻译成中文\"),\n",
    "    HumanMessage(content=\"I love programming.\")\n",
    "]\n",
    "chat(messages)"
   ]
  },
  {
   "cell_type": "code",
   "execution_count": 5,
   "metadata": {
    "ExecuteTime": {
     "start_time": "2024-01-18T10:41:03.571880Z"
    }
   },
   "outputs": [
    {
     "data": {
      "text/plain": [
       "AIMessage(content='Justin Bieber was born on March 1, 1994. The Super Bowl is an annual championship game of the National Football League (NFL). To find out which NFL team won the Super Bowl that year we need to look at the history of past winners.\\n\\nThe winner of the Super Bowl for the season ending in 1994 was determined during Super Bowl XXVIII held on January 30th, 1994. In this matchup, the Dallas Cowboys defeated the Buffalo Bills with a score of 30-13.\\n\\nTherefore, it can be concluded that when Justin Bieber was born, the Dallas Cowboys were the reigning champions from their victory earlier that month.')"
      ]
     },
     "execution_count": 5,
     "metadata": {},
     "output_type": "execute_result"
    }
   ],
   "source": [
    "from langchain.prompts import PromptTemplate\n",
    "from langchain_community.chat_models.sense_nova import ChatSenseNova\n",
    "\n",
    "template = \"\"\"Question: {question}\n",
    "Answer: Let's think step by step.\"\"\"\n",
    "prompt = PromptTemplate.from_template(template)\n",
    "llm = ChatSenseNova()\n",
    "llm_chain = prompt | llm\n",
    "question = \"What NFL team won the Super Bowl in the year Justin Beiber was born?\"\n",
    "llm_chain.invoke({\"question\": question})"
   ]
  }
 ],
 "metadata": {
  "kernelspec": {
   "display_name": "Python 3 (ipykernel)",
   "language": "python",
   "name": "python3"
  },
  "language_info": {
   "codemirror_mode": {
    "name": "ipython",
    "version": 3
   },
   "file_extension": ".py",
   "mimetype": "text/x-python",
   "name": "python",
   "nbconvert_exporter": "python",
   "pygments_lexer": "ipython3",
   "version": "3.9.13"
  },
  "vscode": {
   "interpreter": {
    "hash": "58f7cb64c3a06383b7f18d2a11305edccbad427293a2b4afa7abe8bfc810d4bb"
   }
  }
 },
 "nbformat": 4,
 "nbformat_minor": 4
}
