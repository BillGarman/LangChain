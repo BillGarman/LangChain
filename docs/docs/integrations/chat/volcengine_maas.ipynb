{
 "cells": [
  {
   "cell_type": "markdown",
   "source": [
    "# volc engine maas chat\n",
    "\n",
    "This notebook provides you with a guide on how to get started with volc engine maas chat models."
   ],
   "metadata": {
    "collapsed": false
   },
   "id": "404758628c7b20f6"
  },
  {
   "cell_type": "code",
   "execution_count": null,
   "outputs": [],
   "source": [
    "# Install the package\n",
    "!pip install volcengine"
   ],
   "metadata": {
    "collapsed": false
   },
   "id": "2cd2ebd9d023c4d3"
  },
  {
   "cell_type": "code",
   "execution_count": 20,
   "outputs": [],
   "source": [
    "from langchain.chat_models import VolcEngineMaasChat\n",
    "from langchain.schema import HumanMessage"
   ],
   "metadata": {
    "collapsed": false,
    "ExecuteTime": {
     "end_time": "2023-11-27T10:43:37.131292Z",
     "start_time": "2023-11-27T10:43:37.127250Z"
    }
   },
   "id": "51e7f967cb78f5b7"
  },
  {
   "cell_type": "code",
   "execution_count": 25,
   "outputs": [],
   "source": [
    "chat = VolcEngineMaasChat(\n",
    "    volc_engine_maas_ak=\"your ak\",\n",
    "    volc_engine_maas_sk=\"your sk\"\n",
    ")"
   ],
   "metadata": {
    "collapsed": false,
    "ExecuteTime": {
     "end_time": "2023-11-27T10:43:49.911867Z",
     "start_time": "2023-11-27T10:43:49.908329Z"
    }
   },
   "id": "139667d44689f9e0"
  },
  {
   "cell_type": "markdown",
   "source": [
    "or you can set access_key and secret_key in your environment variables\n",
    "```bash\n",
    "export VOLC_ACCESSKEY=YOUR_AK\n",
    "export VOLC_SECRETKEY=YOUR_SK\n",
    "```"
   ],
   "metadata": {
    "collapsed": false
   },
   "id": "e84ebc4feedcc739"
  },
  {
   "cell_type": "code",
   "execution_count": 26,
   "outputs": [
    {
     "data": {
      "text/plain": "AIMessage(content='好的，这是一个笑话：\\n\\n为什么鸟儿不会玩电脑游戏？\\n\\n因为它们没有翅膀！')"
     },
     "execution_count": 26,
     "metadata": {},
     "output_type": "execute_result"
    }
   ],
   "source": [
    "chat([HumanMessage(content=\"给我讲个笑话\")])"
   ],
   "metadata": {
    "collapsed": false,
    "ExecuteTime": {
     "end_time": "2023-11-27T10:43:53.101852Z",
     "start_time": "2023-11-27T10:43:51.741041Z"
    }
   },
   "id": "35da18414ad17aa0"
  },
  {
   "cell_type": "markdown",
   "source": [
    "# volc engine maas chat with stream"
   ],
   "metadata": {
    "collapsed": false
   },
   "id": "a55e5a9ed80ec49e"
  },
  {
   "cell_type": "code",
   "execution_count": 27,
   "outputs": [],
   "source": [
    "chat = VolcEngineMaasChat(\n",
    "    volc_engine_maas_ak=\"your ak\",\n",
    "    volc_engine_maas_sk=\"your sk\",\n",
    "    streaming=True,\n",
    ")"
   ],
   "metadata": {
    "collapsed": false,
    "ExecuteTime": {
     "end_time": "2023-11-27T10:43:55.120405Z",
     "start_time": "2023-11-27T10:43:55.114707Z"
    }
   },
   "id": "b4e4049980ac68ef"
  },
  {
   "cell_type": "code",
   "execution_count": 28,
   "outputs": [
    {
     "data": {
      "text/plain": "AIMessage(content='好的，这是一个笑话：\\n\\n三岁的女儿说她会造句了，妈妈让她用“年轻”造句，女儿说：“妈妈减肥，一年轻了好几斤”。')"
     },
     "execution_count": 28,
     "metadata": {},
     "output_type": "execute_result"
    }
   ],
   "source": [
    "chat([HumanMessage(content=\"给我讲个笑话\")])"
   ],
   "metadata": {
    "collapsed": false,
    "ExecuteTime": {
     "end_time": "2023-11-27T10:43:58.775294Z",
     "start_time": "2023-11-27T10:43:56.799401Z"
    }
   },
   "id": "fe709a4ffb5c811d"
  }
 ],
 "metadata": {
  "kernelspec": {
   "display_name": "Python 3",
   "language": "python",
   "name": "python3"
  },
  "language_info": {
   "codemirror_mode": {
    "name": "ipython",
    "version": 2
   },
   "file_extension": ".py",
   "mimetype": "text/x-python",
   "name": "python",
   "nbconvert_exporter": "python",
   "pygments_lexer": "ipython2",
   "version": "2.7.6"
  }
 },
 "nbformat": 4,
 "nbformat_minor": 5
}
