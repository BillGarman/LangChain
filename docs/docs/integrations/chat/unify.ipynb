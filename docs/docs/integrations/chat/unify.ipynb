{
 "cells": [
  {
   "cell_type": "markdown",
   "id": "e49f1e0d",
   "metadata": {},
   "source": [
    "# ChatUnify\n",
    "\n",
    "This notebook covers how to get started with Unify chat models. When using models through the Unify API endpoint, you get:\n",
    "- Single sign-on with all providers.\n",
    "- Dynamic routing to the best provider for your use case.\n",
    "\n",
    "## Installation"
   ]
  },
  {
   "cell_type": "code",
   "execution_count": null,
   "id": "4c3bef91",
   "metadata": {},
   "outputs": [],
   "source": [
    "# install package\n",
    "!pip install -U langchain-unify langchain-core"
   ]
  },
  {
   "cell_type": "markdown",
   "id": "2b4f3e15",
   "metadata": {},
   "source": [
    "## Environment Setup\n",
    "\n",
    "Make sure to set the following environment variables:\n",
    "\n",
    "- `UNIFY_API_KEY`: You can get a key in the [Unify Console](https://console.unify.ai/login).\n",
    "\n",
    "## Usage \n",
    "### Chaining Inputs"
   ]
  },
  {
   "cell_type": "code",
   "execution_count": 5,
   "id": "62e0dbc3",
   "metadata": {
    "tags": []
   },
   "outputs": [
    {
     "data": {
      "text/plain": [
       "AIMessage(content=\"  Sure! Here's the translation:\\n\\nBonjour, comment vas-tu ?\")"
      ]
     },
     "execution_count": 5,
     "metadata": {},
     "output_type": "execute_result"
    }
   ],
   "source": [
    "from langchain_unify.chat_models import ChatUnify\n",
    "from langchain_core.prompts import ChatPromptTemplate\n",
    "import os\n",
    "os.environ[\"UNIFY_API_KEY\"] = \"<YOUR API KEY>\"\n",
    "chat = ChatUnify()\n",
    "\n",
    "prompt = ChatPromptTemplate.from_messages(\n",
    "    [\n",
    "        (\"system\", \"You are a helpful assistant that translates English to French.\"),\n",
    "        (\"human\", \"Translate this sentence from English to French. {english_text}.\"),\n",
    "    ]\n",
    ")\n",
    "chain = prompt | chat\n",
    "chain.invoke({\"english_text\": \"Hello, how are you?\"})"
   ]
  },
  {
   "cell_type": "markdown",
   "id": "37731d2c",
   "metadata": {},
   "source": [
    "### Streaming and SSO\n",
    "One of the advantages of using Unify is that through a single api key, you can access endpoints from different providers like Perplexity, Together AI, OctoAI and more."
   ]
  },
  {
   "cell_type": "code",
   "execution_count": 6,
   "id": "0961ae95",
   "metadata": {},
   "outputs": [
    {
     "name": "stdout",
     "output_type": "stream",
     "text": [
      "Together stream: \n",
      "  Hello! I'm an AI, I don't have a physical location or a specific country of origin. I was created by a group of researcher at Meta AI and my primary function is to assist and converse with users like you, answering questions and providing information on a wide range of topics. I'm here to help and provide assistance, so feel free to ask me anything!!\n",
      "Anyscale stream: \n",
      "  Sure! 9 + 10 is 19."
     ]
    }
   ],
   "source": [
    "chat_together = ChatUnify(model=\"llama-2-70b-chat@together-ai\")\n",
    "print(\"Together stream: \")\n",
    "for chunk in chat_together.stream(\"Hello Together, where are you from?\"):\n",
    "    print(chunk.content, end=\"\")\n",
    "\n",
    "chat_anyscale = ChatUnify(model=\"llama-2-70b-chat@anyscale\")\n",
    "print(\"\\nAnyscale stream: \")\n",
    "for chunk in chat_anyscale.stream(\"What's 9 + 10?\"):\n",
    "    print(chunk.content, end=\"\")"
   ]
  },
  {
   "cell_type": "markdown",
   "id": "6f295f94",
   "metadata": {},
   "source": [
    "### Batching and Dynamic Routing\n",
    "You may also want to use `mixtral-8x7b-instruct-v0.1` with the fastest output speed, and are not concerned with which provider you are using. Unify's dynamic routing gets this data from [our live benchmarks](https://unify.ai/hub/mixtral-8x7b-instruct-v0.1) and routes you to the provider that is performing better than the rest at that instant. \n",
    "\n",
    "You can see how to configure dynamic batching [here](https://unify.ai/docs/hub/concepts/runtime_routing.html#how-to-use-it).\n",
    "\n",
    "As expected, you can also batch your queries while using dynamic routing!"
   ]
  },
  {
   "cell_type": "code",
   "execution_count": 7,
   "id": "61835218",
   "metadata": {},
   "outputs": [
    {
     "data": {
      "text/plain": [
       "[AIMessage(content=\"Hello! I'm doing well, thanks for asking. Newton was a famous scientist who lived in the 17th and 18th centuries. His full name was Sir Isaac Newton, and he made many important contributions to the fields of science, mathematics, and physics. He is best known for his laws of motion and universal gravitation, which describe how objects move and interact with each other. Newton's work laid the foundation for many of the scientific advances that we enjoy today. He was also a mathematician and developed the method of calculus, which is a powerful tool for solving problems in mathematics and physics. Overall, Newton was a brilliant and influential thinker who helped shape our understanding of the world.\")]"
      ]
     },
     "execution_count": 7,
     "metadata": {},
     "output_type": "execute_result"
    }
   ],
   "source": [
    "from langchain_core.messages import HumanMessage\n",
    "messages = [HumanMessage(content=\"knock knock\"), HumanMessage(content=\"how are you today?\"), \n",
    "            HumanMessage(content=\"Explain who Newton was please!\")]\n",
    "chat_fastest = ChatUnify(model=\"llama-2-70b-chat@highest-tks-per-sec\")\n",
    "chat_fastest.batch([messages])"
   ]
  },
  {
   "cell_type": "markdown",
   "id": "e711e6d2",
   "metadata": {},
   "source": [
    "### Async and Cost Dynamic Routing\n",
    "You can also run this asynchronously, and may want to optimize for cost. If you need to run large volumes of data through some models, and need it by tomorrow, and want to optimize for cost and aren't interested too much in speed, but want to save on costs. Unify's dynamic router can be used for this too!"
   ]
  },
  {
   "cell_type": "code",
   "execution_count": 8,
   "id": "356e71cb",
   "metadata": {},
   "outputs": [
    {
     "data": {
      "text/plain": [
       "[AIMessage(content=' I can provide you with an overview of some of the most significant 20th-century physicists and their contributions to the field. However, I am an AI language model and cannot provide actual documents. I encourage you to use your local library, bookstore, or online resources to find more detailed information about these scientists and their accomplishments. Here are some notable 20th-century physicists and their contributions:\\n\\n1. Albert Einstein (1879-1955): Known for his theory of relativity, which includes the famous equation E=mc² (energy equals mass times the speed of light squared). His work fundamentally changed our understanding of space, time, and gravity.\\n\\n2. Max Planck (1858-1947): He is known as the father of quantum theory, having introduced the notion of quantized energy levels in 1900. He won the Nobel Prize in Physics in 1918.\\n\\n3. Niels Bohr (1885-1962): Danish physicist who made significant contributions to the understanding of quantum mechanics and atomic structure, including the Bohr model of the atom and the concept of complementarity.\\n\\n4. Marie Curie (1867-1934): She conducted pioneering research on radioactivity and discovered the elements polonium and radium. She was the first woman to win a Nobel Prize and remains the only person to have won Nobel Prizes in two distinct scientific fields, physics and chemistry.\\n\\n5. Ernest Rutherford (1871-1937): Often referred to as the \"father of nuclear physics\" for his work on radioactive decay, his famous gold foil experiment, and the discovery and interpretation of the proton and neutron.\\n\\n6. Werner Heisenberg (1901-1976): A key figure in the development of quantum mechanics, Heisenberg is best known for his uncertainty principle, which states that it is impossible to simultaneously measure the position and momentum of an elementary particle with complete certainty.\\n\\n7. Erwin Schrödinger (1887-1961): An Austrian physicist who independently developed the wave equation of quantum mechanics, which is now known as the Schrödinger equation. He also formulated the famous')]"
      ]
     },
     "execution_count": 8,
     "metadata": {},
     "output_type": "execute_result"
    }
   ],
   "source": [
    "from langchain_core.messages import HumanMessage\n",
    "messages = [HumanMessage(content=\"I want info on all the great 20th century physicists. \"),\n",
    "            HumanMessage(content=\"get me these documents by tomorrow please!\")]\n",
    "chat_fastest = ChatUnify(model=\"mixtral-8x7b-instruct-v0.1@lowest-input-cost\")\n",
    "await chat_fastest.abatch([messages])"
   ]
  }
 ],
 "metadata": {
  "kernelspec": {
   "display_name": "Python 3 (ipykernel)",
   "language": "python",
   "name": "python3"
  },
  "language_info": {
   "codemirror_mode": {
    "name": "ipython",
    "version": 3
   },
   "file_extension": ".py",
   "mimetype": "text/x-python",
   "name": "python",
   "nbconvert_exporter": "python",
   "pygments_lexer": "ipython3",
   "version": "3.10.13"
  }
 },
 "nbformat": 4,
 "nbformat_minor": 5
}
