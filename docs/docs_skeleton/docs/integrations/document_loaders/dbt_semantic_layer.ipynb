{
 "cells": [
  {
   "cell_type": "markdown",
   "metadata": {},
   "source": [
    "# dbt Semantic Layer"
   ]
  },
  {
   "cell_type": "markdown",
   "metadata": {},
   "source": [
    "The demonstrates how to load dbt Semantic Layer metadata by using the document loader. TODO: link to dbt docs"
   ]
  },
  {
   "cell_type": "code",
   "execution_count": null,
   "metadata": {
    "vscode": {
     "languageId": "plaintext"
    }
   },
   "outputs": [],
   "source": [
    "from langchain.document_loaders import DbtSemanticLoader\n",
    "\n",
    "loader = DbtSemanticLoader(\"environment-id\", \"service-token\")\n",
    "\n",
    "documents = loader.load()"
   ]
  }
 ],
 "metadata": {
  "language_info": {
   "name": "python"
  },
  "orig_nbformat": 4
 },
 "nbformat": 4,
 "nbformat_minor": 2
}
