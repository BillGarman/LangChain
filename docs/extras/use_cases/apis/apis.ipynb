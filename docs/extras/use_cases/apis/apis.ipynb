{
 "cells": [
  {
   "cell_type": "markdown",
   "id": "a15e6a18",
   "metadata": {},
   "source": [
    "# Interacting with APIs\n",
    "\n",
    "[![Open In Collab](https://colab.research.google.com/assets/colab-badge.svg)](https://colab.research.google.com/github/langchain-ai/langchain/blob/master/docs/extras/use_cases/apis/apis.ipynb)\n",
    "\n",
    "## Use case \n",
    "\n",
    "---\n",
    "\n",
    "Suppose you want an LLM to interact with external APIs.\n",
    "\n",
    "This can be very useful for retrieving context for the LLM to utilize.\n",
    "\n",
    "And, more generally, it allows us to interact with APIs using natural langugage! \n",
    " \n",
    "\n",
    "## Overview\n",
    "\n",
    "---\n",
    "\n",
    "There are two primary ways to interface LLMs with external APIs:\n",
    " \n",
    "* `Functions`: For example, [OpenAI functions](https://platform.openai.com/docs/guides/gpt/function-calling) is one popular means of doing this.\n",
    "* `LLM-generated interface`: Use an LLM with access to API documentation to create an interface."
   ]
  },
  {
   "cell_type": "markdown",
   "id": "0b3f6b0c",
   "metadata": {},
   "source": [
    "![Image description](../../../docs_skeleton/static/img/api_use_case.png)"
   ]
  },
  {
   "cell_type": "markdown",
   "id": "abbd82f0",
   "metadata": {},
   "source": [
    "## Quickstart \n",
    "\n",
    "---\n",
    "\n",
    "Many APIs already are compatible with OpenAI function calling.\n",
    "\n",
    "For example, [Klarna](https://www.klarna.com/international/press/klarna-brings-smoooth-shopping-to-chatgpt/) has a YAML file that describes its API and allows OpenAI to interact with it:\n",
    "\n",
    "```\n",
    "https://www.klarna.com/us/shopping/public/openai/v0/api-docs/\n",
    "```\n",
    "\n",
    "Other options include:\n",
    "\n",
    "* [Speak](https://api.speak.com/openapi.yaml) for translation\n",
    "* [XKCD](https://gist.githubusercontent.com/roaldnefs/053e505b2b7a807290908fe9aa3e1f00/raw/0a212622ebfef501163f91e23803552411ed00e4/openapi.yaml) for comics\n",
    "\n",
    "We can supply the specification to `get_openapi_chain` directly in order to query the API with OpenAI functions:"
   ]
  },
  {
   "cell_type": "code",
   "execution_count": null,
   "id": "5a218fcc",
   "metadata": {},
   "outputs": [],
   "source": [
    "! pip install openai \n",
    "! pip install langchain\n",
    "\n",
    "import os\n",
    "os.environ[\"OPENAI_API_KEY\"] = \"your-api-key\""
   ]
  },
  {
   "cell_type": "code",
   "execution_count": 44,
   "id": "30b780e3",
   "metadata": {
    "scrolled": false
   },
   "outputs": [
    {
     "name": "stderr",
     "output_type": "stream",
     "text": [
      "Attempting to load an OpenAPI 3.0.1 spec.  This may result in degraded performance. Convert your OpenAPI spec to 3.1.* spec for better support.\n"
     ]
    },
    {
     "data": {
      "text/plain": [
       "{'query': \"What are some options for a men's large blue button down shirt\",\n",
       " 'response': {'products': [{'name': 'Cubavera Four Pocket Guayabera Shirt',\n",
       "    'url': 'https://www.klarna.com/us/shopping/pl/cl10001/3202055522/Clothing/Cubavera-Four-Pocket-Guayabera-Shirt/?utm_source=openai&ref-site=openai_plugin',\n",
       "    'price': '$24.99',\n",
       "    'attributes': ['Material:Polyester,Cotton',\n",
       "     'Target Group:Man',\n",
       "     'Color:Red,White,Blue,Black',\n",
       "     'Properties:Pockets',\n",
       "     'Pattern:Solid Color',\n",
       "     'Size:S,XL,L,M,XXL']},\n",
       "   {'name': 'Brixton Bowery Flannel Shirt',\n",
       "    'url': 'https://www.klarna.com/us/shopping/pl/cl10001/3202331096/Clothing/Brixton-Bowery-Flannel-Shirt/?utm_source=openai&ref-site=openai_plugin',\n",
       "    'price': '$38.48',\n",
       "    'attributes': ['Material:Cotton',\n",
       "     'Target Group:Man',\n",
       "     'Color:Gray,Blue,Black,Orange',\n",
       "     'Properties:Pockets',\n",
       "     'Pattern:Checkered',\n",
       "     'Size:XL,3XL,4XL,5XL,L,M,XXL']},\n",
       "   {'name': 'Vineyard Vines Gingham On-The-Go brrr Classic Fit Shirt Crystal',\n",
       "    'url': 'https://www.klarna.com/us/shopping/pl/cl10001/3201938510/Clothing/Vineyard-Vines-Gingham-On-The-Go-brrr-Classic-Fit-Shirt-Crystal/?utm_source=openai&ref-site=openai_plugin',\n",
       "    'price': '$89.60',\n",
       "    'attributes': ['Material:Cotton',\n",
       "     'Target Group:Man',\n",
       "     'Color:Blue',\n",
       "     'Size:XL,XS,L,M']},\n",
       "   {'name': 'Wrangler Workwear 3W501 Twill Work Shirt-Forest Green-Reg-XL',\n",
       "    'url': 'https://www.klarna.com/us/shopping/pl/cl10001/3201808285/Clothing/Wrangler-Workwear-3W501-Twill-Work-Shirt-Forest-Green-Reg-XL/?utm_source=openai&ref-site=openai_plugin',\n",
       "    'price': '$25.99',\n",
       "    'attributes': ['Material:Cotton',\n",
       "     'Target Group:Man',\n",
       "     'Color:Blue,Beige,Green',\n",
       "     'Size:XL,L,M,XXL']},\n",
       "   {'name': \"Carhartt Men's Loose Fit Midweight Short Sleeve Plaid Shirt\",\n",
       "    'url': 'https://www.klarna.com/us/shopping/pl/cl10001/3201826024/Clothing/Carhartt-Men-s-Loose-Fit-Midweight-Short-Sleeve-Plaid-Shirt/?utm_source=openai&ref-site=openai_plugin',\n",
       "    'price': '$17.99',\n",
       "    'attributes': ['Material:Cotton',\n",
       "     'Target Group:Man',\n",
       "     'Color:Red,Brown,Blue,Green',\n",
       "     'Properties:Pockets',\n",
       "     'Pattern:Checkered',\n",
       "     'Size:S,XL,L,M']}]}}"
      ]
     },
     "execution_count": 44,
     "metadata": {},
     "output_type": "execute_result"
    }
   ],
   "source": [
    "from langchain.chains.openai_functions.openapi import get_openapi_chain\n",
    "chain = get_openapi_chain(\"https://www.klarna.com/us/shopping/public/openai/v0/api-docs/\")\n",
    "chain(\"What are some options for a men's large blue button down shirt\")"
   ]
  },
  {
   "cell_type": "markdown",
   "id": "9162c91c",
   "metadata": {},
   "source": [
    "## OpenAI \n",
    "\n",
    "---\n",
    "\n",
    "We can unpack what is hapening when we use the OpenAI funtions to calls external APIs.\n",
    "\n",
    "First, we're parsing the OpenAPI spec into a JSON schema that the OpenAI functions API can handle."
   ]
  },
  {
   "cell_type": "code",
   "execution_count": 20,
   "id": "4bbc4f55",
   "metadata": {},
   "outputs": [
    {
     "name": "stderr",
     "output_type": "stream",
     "text": [
      "Attempting to load an OpenAPI 3.0.1 spec.  This may result in degraded performance. Convert your OpenAPI spec to 3.1.* spec for better support.\n"
     ]
    }
   ],
   "source": [
    "from langchain.tools import OpenAPISpec\n",
    "spec = OpenAPISpec.from_url(\n",
    "    \"https://www.klarna.com/us/shopping/public/openai/v0/api-docs/\"\n",
    ")"
   ]
  },
  {
   "cell_type": "markdown",
   "id": "fac6cbbb",
   "metadata": {},
   "source": [
    "Create a chain specifically only for one of the endpoints. \n",
    "\n",
    "Here we get an API operation from a specified endpoint and method."
   ]
  },
  {
   "cell_type": "code",
   "execution_count": 21,
   "id": "65524015",
   "metadata": {},
   "outputs": [],
   "source": [
    "from langchain.tools import APIOperation\n",
    "operation = APIOperation.from_openapi_spec(spec, \"/public/openai/v0/products\", \"get\")"
   ]
  },
  {
   "cell_type": "code",
   "execution_count": 22,
   "id": "9ee5a9b0",
   "metadata": {},
   "outputs": [],
   "source": [
    "from langchain.chains import OpenAPIEndpointChain\n",
    "from langchain.requests import Requests\n",
    "from langchain.llms import OpenAI\n",
    "llm = OpenAI()  \n",
    "chain = OpenAPIEndpointChain.from_api_operation(\n",
    "    operation,\n",
    "    llm,\n",
    "    requests=Requests(),\n",
    "    verbose=True,\n",
    "    return_intermediate_steps=True,  # Return request and response text\n",
    ")"
   ]
  },
  {
   "cell_type": "code",
   "execution_count": 23,
   "id": "616a78fc",
   "metadata": {
    "scrolled": false
   },
   "outputs": [
    {
     "name": "stdout",
     "output_type": "stream",
     "text": [
      "\n",
      "\n",
      "\u001b[1m> Entering new OpenAPIEndpointChain chain...\u001b[0m\n",
      "\n",
      "\n",
      "\u001b[1m> Entering new APIRequesterChain chain...\u001b[0m\n",
      "Prompt after formatting:\n",
      "\u001b[32;1m\u001b[1;3mYou are a helpful AI Assistant. Please provide JSON arguments to agentFunc() based on the user's instructions.\n",
      "\n",
      "API_SCHEMA: ```typescript\n",
      "/* API for fetching Klarna product information */\n",
      "type productsUsingGET = (_: {\n",
      "/* ISO 3166 country code with 2 characters based on the user location. Currently, only US, GB, DE, SE and DK are supported. */\n",
      "\t\tcountryCode: string,\n",
      "/* A precise query that matches one very small category or product that needs to be searched for to find the products the user is looking for. If the user explicitly stated what they want, use that as a query. The query is as specific as possible to the product name or category mentioned by the user in its singular form, and don't contain any clarifiers like latest, newest, cheapest, budget, premium, expensive or similar. The query is always taken from the latest topic, if there is a new topic a new query is started. If the user speaks another language than English, translate their request into English (example: translate fia med knuff to ludo board game)! */\n",
      "\t\tq: string,\n",
      "/* number of products returned */\n",
      "\t\tsize?: number,\n",
      "/* (Optional) Minimum price in local currency for the product searched for. Either explicitly stated by the user or implicitly inferred from a combination of the user's request and the kind of product searched for. */\n",
      "\t\tmin_price?: number,\n",
      "/* (Optional) Maximum price in local currency for the product searched for. Either explicitly stated by the user or implicitly inferred from a combination of the user's request and the kind of product searched for. */\n",
      "\t\tmax_price?: number,\n",
      "}) => any;\n",
      "```\n",
      "\n",
      "USER_INSTRUCTIONS: \"whats the most expensive shirt?\"\n",
      "\n",
      "Your arguments must be plain json provided in a markdown block:\n",
      "\n",
      "ARGS: ```json\n",
      "{valid json conforming to API_SCHEMA}\n",
      "```\n",
      "\n",
      "Example\n",
      "-----\n",
      "\n",
      "ARGS: ```json\n",
      "{\"foo\": \"bar\", \"baz\": {\"qux\": \"quux\"}}\n",
      "```\n",
      "\n",
      "The block must be no more than 1 line long, and all arguments must be valid JSON. All string arguments must be wrapped in double quotes.\n",
      "You MUST strictly comply to the types indicated by the provided schema, including all required args.\n",
      "\n",
      "If you don't have sufficient information to call the function due to things like requiring specific uuid's, you can reply with the following message:\n",
      "\n",
      "Message: ```text\n",
      "Concise response requesting the additional information that would make calling the function successful.\n",
      "```\n",
      "\n",
      "Begin\n",
      "-----\n",
      "ARGS:\n",
      "\u001b[0m\n",
      "\n",
      "\u001b[1m> Finished chain.\u001b[0m\n",
      "\u001b[32;1m\u001b[1;3m{\"countryCode\": \"US\", \"q\": \"shirt\", \"max_price\": null}\u001b[0m\n",
      "\u001b[36;1m\u001b[1;3m{\"products\":[{\"name\":\"Burberry SS Check Stretch Cotton Shirt - Archive Beige\",\"url\":\"https://www.klarna.com/us/shopping/pl/cl359/3200280807/Children-s-Clothing/Burberry-SS-Check-Stretch-Cotton-Shirt-Archive-Beige/?utm_source=openai&ref-site=openai_plugin\",\"price\":\"$197.35\",\"attributes\":[\"Material:Cotton,Elastane\",\"Color:Beige\",\"Model:Boy\",\"Pattern:Checkered\",\"Age (Months):24-36M\",\"Closure:Buttons\"]},{\"name\":\"Casablanca Pink Rainbow Monogram Shirt\",\"url\":\"https://www.klarna.com/us/shopping/pl/cl10001/3206894594/Clothing/Casablanca-Pink-Rainbow-Monogram-Shirt/?utm_source=openai&ref-site=openai_plugin\",\"price\":\"$551.00\",\"attributes\":[\"Target Group:Man,Woman\",\"Color:Pink,White,Yellow,Multicolor\",\"Size:S,XL,XS,L,M,XXL\"]},{\"name\":\"Calvin Klein Slim Fit Oxford Dress Shirt\",\"url\":\"https://www.klarna.com/us/shopping/pl/cl10001/3201839169/Clothing/Calvin-Klein-Slim-Fit-Oxford-Dress-Shirt/?utm_source=openai&ref-site=openai_plugin\",\"price\":\"$10.48\",\"attributes\":[\"Material:Cotton\",\"Target Group:Man\",\"Color:Gray,White,Blue,Black\",\"Pattern:Solid Color\",\"Size:L\"]},{\"name\":\"Columbia Tamiami II Short-Sleeve Shirt - White\",\"url\":\"https://www.klarna.com/us/shopping/pl/cl10001/3201755912/Clothing/Columbia-Tamiami-II-Short-Sleeve-Shirt-White/?utm_source=openai&ref-site=openai_plugin\",\"price\":\"$26.99\",\"attributes\":[\"Material:Polyester\",\"Target Group:Man\",\"Color:White\",\"Size:S,XL,XS,L,M,XXL\"]},{\"name\":\"Van Heusen Men's Dress Shirt Regular Fit\",\"url\":\"https://www.klarna.com/us/shopping/pl/cl10001/3202705015/Clothing/Van-Heusen-Men-s-Dress-Shirt-Regular-Fit/?utm_source=openai&ref-site=openai_plugin\",\"price\":\"$15.52\",\"attributes\":[\"Material:Polyester,Cotton\",\"Size:S,XL,L,M,XXL\",\"Target Group:Man\",\"Color:Red,Gray,Pink,White,Blue,Yellow,Purple,Beige,Black,Orange,Green\",\"Properties:Stretch,Pockets\",\"Pattern:Solid Color\"]}]}\u001b[0m\n",
      "\n",
      "\n",
      "\u001b[1m> Entering new APIResponderChain chain...\u001b[0m\n",
      "Prompt after formatting:\n",
      "\u001b[32;1m\u001b[1;3mYou are a helpful AI assistant trained to answer user queries from API responses.\n",
      "You attempted to call an API, which resulted in:\n",
      "API_RESPONSE: {\"products\":[{\"name\":\"Burberry SS Check Stretch Cotton Shirt - Archive Beige\",\"url\":\"https://www.klarna.com/us/shopping/pl/cl359/3200280807/Children-s-Clothing/Burberry-SS-Check-Stretch-Cotton-Shirt-Archive-Beige/?utm_source=openai&ref-site=openai_plugin\",\"price\":\"$197.35\",\"attributes\":[\"Material:Cotton,Elastane\",\"Color:Beige\",\"Model:Boy\",\"Pattern:Checkered\",\"Age (Months):24-36M\",\"Closure:Buttons\"]},{\"name\":\"Casablanca Pink Rainbow Monogram Shirt\",\"url\":\"https://www.klarna.com/us/shopping/pl/cl10001/3206894594/Clothing/Casablanca-Pink-Rainbow-Monogram-Shirt/?utm_source=openai&ref-site=openai_plugin\",\"price\":\"$551.00\",\"attributes\":[\"Target Group:Man,Woman\",\"Color:Pink,White,Yellow,Multicolor\",\"Size:S,XL,XS,L,M,XXL\"]},{\"name\":\"Calvin Klein Slim Fit Oxford Dress Shirt\",\"url\":\"https://www.klarna.com/us/shopping/pl/cl10001/3201839169/Clothing/Calvin-Klein-Slim-Fit-Oxford-Dress-Shirt/?utm_source=openai&ref-site=openai_plugin\",\"price\":\"$10.48\",\"attributes\":[\"Material:Cotton\",\"Target Group:Man\",\"Color:Gray,White,Blue,Black\",\"Pattern:Solid Color\",\"Size:L\"]},{\"name\":\"Columbia Tamiami II Short-Sleeve Shirt - White\",\"url\":\"https://www.klarna.com/us/shopping/pl/cl10001/3201755912/Clothing/Columbia-Tamiami-II-Short-Sleeve-Shirt-White/?utm_source=openai&ref-site=openai_plugin\",\"price\":\"$26.99\",\"attributes\":[\"Material:Polyester\",\"Target Group:Man\",\"Color:White\",\"Size:S,XL,XS,L,M,XXL\"]},{\"name\":\"Van Heusen Men's Dress Shirt Regular Fit\",\"url\":\"https://www.klarna.com/us/shopping/pl/cl10001/3202705015/Clothing/Van-Heusen-Men-s-Dress-Shirt-Regular-Fit/?utm_source=openai&ref-site=openai_plugin\",\"price\":\"$15.52\",\"attributes\":[\"Material:Polyester,Cotton\",\"Size:S,XL,L,M,XXL\",\"Target Group:Man\",\"Color:Red,Gray,Pink,White,Blue,Yellow,Purple,Beige,Black,Orange,Green\",\"Properties:Stretch,Pockets\",\"Pattern:Solid Color\"]}]}\n",
      "\n",
      "USER_COMMENT: \"whats the most expensive shirt?\"\n",
      "\n",
      "\n",
      "If the API_RESPONSE can answer the USER_COMMENT respond with the following markdown json block:\n",
      "Response: ```json\n",
      "{\"response\": \"Human-understandable synthesis of the API_RESPONSE\"}\n",
      "```\n",
      "\n",
      "Otherwise respond with the following markdown json block:\n",
      "Response Error: ```json\n",
      "{\"response\": \"What you did and a concise statement of the resulting error. If it can be easily fixed, provide a suggestion.\"}\n",
      "```\n",
      "\n",
      "You MUST respond as a markdown json code block. The person you are responding to CANNOT see the API_RESPONSE, so if there is any relevant information there you must include it in your response.\n",
      "\n",
      "Begin:\n",
      "---\n",
      "\u001b[0m\n",
      "\n",
      "\u001b[1m> Finished chain.\u001b[0m\n",
      "\u001b[33;1m\u001b[1;3mThe most expensive shirt from the API_RESPONSE is the Casablanca Pink Rainbow Monogram Shirt at $551.00.\u001b[0m\n",
      "\n",
      "\u001b[1m> Finished chain.\u001b[0m\n"
     ]
    }
   ],
   "source": [
    "output = chain(\"whats the most expensive shirt?\")"
   ]
  },
  {
   "cell_type": "markdown",
   "id": "794d6789",
   "metadata": {},
   "source": [
    "The answer is synthesized in the output:"
   ]
  },
  {
   "cell_type": "code",
   "execution_count": 25,
   "id": "95fc79bc",
   "metadata": {},
   "outputs": [
    {
     "data": {
      "text/plain": [
       "'The most expensive shirt from the API_RESPONSE is the Casablanca Pink Rainbow Monogram Shirt at $551.00.'"
      ]
     },
     "execution_count": 25,
     "metadata": {},
     "output_type": "execute_result"
    }
   ],
   "source": [
    "output['output']"
   ]
  },
  {
   "cell_type": "markdown",
   "id": "3ae8e574",
   "metadata": {},
   "source": [
    "### Go Deeper\n",
    "\n",
    "* If we do not want the answer synthesized, we can use `raw_response=True`\n",
    "* Different operations, such as `POST` requests can be done as shown below"
   ]
  },
  {
   "cell_type": "code",
   "execution_count": null,
   "id": "eaa5396f",
   "metadata": {},
   "outputs": [],
   "source": [
    "spec = OpenAPISpec.from_url(\"https://api.speak.com/openapi.yaml\")"
   ]
  },
  {
   "cell_type": "code",
   "execution_count": 27,
   "id": "529b67fa",
   "metadata": {},
   "outputs": [],
   "source": [
    "operation = APIOperation.from_openapi_spec(\n",
    "    spec, \"/v1/public/openai/explain-task\", \"post\"\n",
    ")"
   ]
  },
  {
   "cell_type": "code",
   "execution_count": 28,
   "id": "d12cbf5b",
   "metadata": {},
   "outputs": [],
   "source": [
    "llm = OpenAI()\n",
    "chain = OpenAPIEndpointChain.from_api_operation(\n",
    "    operation, llm, requests=Requests(), verbose=True, return_intermediate_steps=True\n",
    ")"
   ]
  },
  {
   "cell_type": "code",
   "execution_count": null,
   "id": "52835ad7",
   "metadata": {},
   "outputs": [],
   "source": [
    "output = chain(\"How would ask for more tea in Delhi?\")"
   ]
  },
  {
   "cell_type": "markdown",
   "id": "1fe49a0d",
   "metadata": {},
   "source": [
    "## API Chain \n",
    "\n",
    "---\n",
    "\n",
    "We can also build our own interface to external APIs using the `APIChain` and provided API documentation."
   ]
  },
  {
   "cell_type": "code",
   "execution_count": 32,
   "id": "4ef0c3d0",
   "metadata": {},
   "outputs": [
    {
     "name": "stdout",
     "output_type": "stream",
     "text": [
      "\n",
      "\n",
      "\u001b[1m> Entering new APIChain chain...\u001b[0m\n",
      "\u001b[32;1m\u001b[1;3mhttps://api.open-meteo.com/v1/forecast?latitude=48.1351&longitude=11.5820&hourly=temperature_2m&temperature_unit=fahrenheit&current_weather=true\u001b[0m\n",
      "\u001b[33;1m\u001b[1;3m{\"latitude\":48.14,\"longitude\":11.58,\"generationtime_ms\":0.17201900482177734,\"utc_offset_seconds\":0,\"timezone\":\"GMT\",\"timezone_abbreviation\":\"GMT\",\"elevation\":521.0,\"current_weather\":{\"temperature\":66.1,\"windspeed\":7.4,\"winddirection\":223.0,\"weathercode\":3,\"is_day\":0,\"time\":\"2023-07-31T21:00\"},\"hourly_units\":{\"time\":\"iso8601\",\"temperature_2m\":\"°F\"},\"hourly\":{\"time\":[\"2023-07-31T00:00\",\"2023-07-31T01:00\",\"2023-07-31T02:00\",\"2023-07-31T03:00\",\"2023-07-31T04:00\",\"2023-07-31T05:00\",\"2023-07-31T06:00\",\"2023-07-31T07:00\",\"2023-07-31T08:00\",\"2023-07-31T09:00\",\"2023-07-31T10:00\",\"2023-07-31T11:00\",\"2023-07-31T12:00\",\"2023-07-31T13:00\",\"2023-07-31T14:00\",\"2023-07-31T15:00\",\"2023-07-31T16:00\",\"2023-07-31T17:00\",\"2023-07-31T18:00\",\"2023-07-31T19:00\",\"2023-07-31T20:00\",\"2023-07-31T21:00\",\"2023-07-31T22:00\",\"2023-07-31T23:00\",\"2023-08-01T00:00\",\"2023-08-01T01:00\",\"2023-08-01T02:00\",\"2023-08-01T03:00\",\"2023-08-01T04:00\",\"2023-08-01T05:00\",\"2023-08-01T06:00\",\"2023-08-01T07:00\",\"2023-08-01T08:00\",\"2023-08-01T09:00\",\"2023-08-01T10:00\",\"2023-08-01T11:00\",\"2023-08-01T12:00\",\"2023-08-01T13:00\",\"2023-08-01T14:00\",\"2023-08-01T15:00\",\"2023-08-01T16:00\",\"2023-08-01T17:00\",\"2023-08-01T18:00\",\"2023-08-01T19:00\",\"2023-08-01T20:00\",\"2023-08-01T21:00\",\"2023-08-01T22:00\",\"2023-08-01T23:00\",\"2023-08-02T00:00\",\"2023-08-02T01:00\",\"2023-08-02T02:00\",\"2023-08-02T03:00\",\"2023-08-02T04:00\",\"2023-08-02T05:00\",\"2023-08-02T06:00\",\"2023-08-02T07:00\",\"2023-08-02T08:00\",\"2023-08-02T09:00\",\"2023-08-02T10:00\",\"2023-08-02T11:00\",\"2023-08-02T12:00\",\"2023-08-02T13:00\",\"2023-08-02T14:00\",\"2023-08-02T15:00\",\"2023-08-02T16:00\",\"2023-08-02T17:00\",\"2023-08-02T18:00\",\"2023-08-02T19:00\",\"2023-08-02T20:00\",\"2023-08-02T21:00\",\"2023-08-02T22:00\",\"2023-08-02T23:00\",\"2023-08-03T00:00\",\"2023-08-03T01:00\",\"2023-08-03T02:00\",\"2023-08-03T03:00\",\"2023-08-03T04:00\",\"2023-08-03T05:00\",\"2023-08-03T06:00\",\"2023-08-03T07:00\",\"2023-08-03T08:00\",\"2023-08-03T09:00\",\"2023-08-03T10:00\",\"2023-08-03T11:00\",\"2023-08-03T12:00\",\"2023-08-03T13:00\",\"2023-08-03T14:00\",\"2023-08-03T15:00\",\"2023-08-03T16:00\",\"2023-08-03T17:00\",\"2023-08-03T18:00\",\"2023-08-03T19:00\",\"2023-08-03T20:00\",\"2023-08-03T21:00\",\"2023-08-03T22:00\",\"2023-08-03T23:00\",\"2023-08-04T00:00\",\"2023-08-04T01:00\",\"2023-08-04T02:00\",\"2023-08-04T03:00\",\"2023-08-04T04:00\",\"2023-08-04T05:00\",\"2023-08-04T06:00\",\"2023-08-04T07:00\",\"2023-08-04T08:00\",\"2023-08-04T09:00\",\"2023-08-04T10:00\",\"2023-08-04T11:00\",\"2023-08-04T12:00\",\"2023-08-04T13:00\",\"2023-08-04T14:00\",\"2023-08-04T15:00\",\"2023-08-04T16:00\",\"2023-08-04T17:00\",\"2023-08-04T18:00\",\"2023-08-04T19:00\",\"2023-08-04T20:00\",\"2023-08-04T21:00\",\"2023-08-04T22:00\",\"2023-08-04T23:00\",\"2023-08-05T00:00\",\"2023-08-05T01:00\",\"2023-08-05T02:00\",\"2023-08-05T03:00\",\"2023-08-05T04:00\",\"2023-08-05T05:00\",\"2023-08-05T06:00\",\"2023-08-05T07:00\",\"2023-08-05T08:00\",\"2023-08-05T09:00\",\"2023-08-05T10:00\",\"2023-08-05T11:00\",\"2023-08-05T12:00\",\"2023-08-05T13:00\",\"2023-08-05T14:00\",\"2023-08-05T15:00\",\"2023-08-05T16:00\",\"2023-08-05T17:00\",\"2023-08-05T18:00\",\"2023-08-05T19:00\",\"2023-08-05T20:00\",\"2023-08-05T21:00\",\"2023-08-05T22:00\",\"2023-08-05T23:00\",\"2023-08-06T00:00\",\"2023-08-06T01:00\",\"2023-08-06T02:00\",\"2023-08-06T03:00\",\"2023-08-06T04:00\",\"2023-08-06T05:00\",\"2023-08-06T06:00\",\"2023-08-06T07:00\",\"2023-08-06T08:00\",\"2023-08-06T09:00\",\"2023-08-06T10:00\",\"2023-08-06T11:00\",\"2023-08-06T12:00\",\"2023-08-06T13:00\",\"2023-08-06T14:00\",\"2023-08-06T15:00\",\"2023-08-06T16:00\",\"2023-08-06T17:00\",\"2023-08-06T18:00\",\"2023-08-06T19:00\",\"2023-08-06T20:00\",\"2023-08-06T21:00\",\"2023-08-06T22:00\",\"2023-08-06T23:00\"],\"temperature_2m\":[61.3,60.3,59.7,59.5,59.6,59.9,62.3,64.8,66.7,67.7,68.3,70.6,72.7,74.4,74.9,75.5,73.3,71.9,70.3,69.1,67.6,66.1,65.6,65.1,64.4,64.3,63.8,63.7,63.7,63.3,63.6,62.4,61.6,62.1,63.7,63.5,63.3,62.4,63.9,67.2,65.1,63.1,63.0,62.8,61.5,59.9,58.9,58.9,59.1,59.0,59.2,59.0,58.4,59.1,61.7,64.2,67.1,67.3,66.0,65.3,64.3,64.1,65.1,66.7,67.4,67.2,66.2,65.9,65.0,64.6,63.1,64.3,61.5,61.1,61.1,61.3,59.9,59.8,60.5,62.2,63.4,64.4,66.5,68.0,69.4,70.1,70.4,70.6,69.9,68.6,66.8,65.4,64.2,62.9,61.6,60.5,59.5,58.9,58.4,58.1,58.0,58.0,58.3,59.0,60.1,60.8,61.0,60.8,60.9,61.5,62.3,62.5,61.7,60.5,59.4,58.9,58.4,58.0,57.6,57.2,56.9,56.5,56.1,55.8,55.6,55.4,55.6,56.2,57.0,58.0,59.1,60.5,61.5,61.7,62.6,63.0,62.5,61.4,60.4,59.2,58.0,56.9,56.1,55.5,55.1,54.7,54.5,54.6,54.8,55.3,56.3,58.6,61.4,63.1,62.4,60.5,59.5,60.2,61.5,62.3,61.6,60.2,58.9,57.9,56.9,56.0,55.3,54.8]}}\u001b[0m\n",
      "\n",
      "\u001b[1m> Finished chain.\u001b[0m\n"
     ]
    },
    {
     "data": {
      "text/plain": [
       "' The current temperature in Munich, Germany is 66.1°F.'"
      ]
     },
     "execution_count": 32,
     "metadata": {},
     "output_type": "execute_result"
    }
   ],
   "source": [
    "from langchain.chains import APIChain\n",
    "from langchain.chains.api import open_meteo_docs\n",
    "llm = OpenAI(temperature=0)\n",
    "chain = APIChain.from_llm_and_api_docs(llm, open_meteo_docs.OPEN_METEO_DOCS, verbose=True)\n",
    "chain.run('What is the weather like right now in Munich, Germany in degrees Fahrenheit?')"
   ]
  },
  {
   "cell_type": "markdown",
   "id": "5b179318",
   "metadata": {},
   "source": [
    "Note that we supply information about the API:"
   ]
  },
  {
   "cell_type": "code",
   "execution_count": 37,
   "id": "a9e03cc2",
   "metadata": {},
   "outputs": [
    {
     "data": {
      "text/plain": [
       "'BASE URL: https://api.open-meteo.com/\\n\\nAPI Documentation\\nThe API endpoint /v1/forecast accepts a geographical coordinate, a list of weather variables and responds with a JSON hourly weather forecast for 7 days. Time always starts at 0:00 today and contains 168 hours. All URL parameters are listed below:\\n\\nParameter\\tFormat\\tRequired\\tDefault\\tDescription\\nlatitude, longitude\\tFloating point\\tYes\\t\\tGeographical WGS84 coordinate of the location\\nhourly\\tString array\\tNo\\t\\tA list of weather variables which shou'"
      ]
     },
     "execution_count": 37,
     "metadata": {},
     "output_type": "execute_result"
    }
   ],
   "source": [
    "open_meteo_docs.OPEN_METEO_DOCS[0:500]"
   ]
  },
  {
   "cell_type": "markdown",
   "id": "3fab7930",
   "metadata": {},
   "source": [
    "Under the hood, we do two things:\n",
    "    \n",
    "* `api_request_chain`: Generate an API URL based on the input question and the api_docs\n",
    "* `api_answer_chain`: generate a final answer based on the API response\n",
    "\n",
    "We can see the [prompt](https://github.com/langchain-ai/langchain/blob/master/libs/langchain/langchain/chains/api/prompt.py) for `api_request_chain` simply uses the documentation to formulate the API call:\n",
    "\n",
    "```\n",
    "API_URL_PROMPT_TEMPLATE = \"\"\"You are given the below API Documentation:\n",
    "{api_docs}\n",
    "Using this documentation, generate the full API url to call for answering the user question.\n",
    "You should build the API url in order to get a response that is as short as possible, while still getting the necessary information to answer the question. Pay attention to deliberately exclude any unnecessary pieces of data in the API call.\n",
    "\n",
    "Question:{question}\n",
    "API url:\"\"\"\n",
    "```"
   ]
  },
  {
   "cell_type": "markdown",
   "id": "2511f446",
   "metadata": {},
   "source": [
    "### Going deeper\n",
    "\n",
    "**Test with other APIs**"
   ]
  },
  {
   "cell_type": "code",
   "execution_count": null,
   "id": "1e1cf418",
   "metadata": {},
   "outputs": [],
   "source": [
    "import os\n",
    "os.environ['TMDB_BEARER_TOKEN'] = \"\"\n",
    "from langchain.chains.api import tmdb_docs\n",
    "headers = {\"Authorization\": f\"Bearer {os.environ['TMDB_BEARER_TOKEN']}\"}\n",
    "chain = APIChain.from_llm_and_api_docs(llm, tmdb_docs.TMDB_DOCS, headers=headers, verbose=True)\n",
    "chain.run(\"Search for 'Avatar'\")"
   ]
  },
  {
   "cell_type": "code",
   "execution_count": null,
   "id": "dd80a717",
   "metadata": {},
   "outputs": [],
   "source": [
    "import os\n",
    "from langchain.llms import OpenAI\n",
    "from langchain.chains.api import podcast_docs\n",
    "from langchain.chains import APIChain\n",
    " \n",
    "listen_api_key = 'xxx' # Get api key here: https://www.listennotes.com/api/pricing/\n",
    "llm = OpenAI(temperature=0)\n",
    "headers = {\"X-ListenAPI-Key\": listen_api_key}\n",
    "chain = APIChain.from_llm_and_api_docs(llm, podcast_docs.PODCAST_DOCS, headers=headers, verbose=True)\n",
    "chain.run(\"Search for 'silicon valley bank' podcast episodes, audio length is more than 30 minutes, return only 1 results\")"
   ]
  },
  {
   "cell_type": "markdown",
   "id": "a5939be5",
   "metadata": {},
   "source": [
    "**Web requests**\n",
    "\n",
    "URL requets are such a common use-case that we have the `LLMRequestsChain`, which makes a HTTP GET request. "
   ]
  },
  {
   "cell_type": "code",
   "execution_count": 39,
   "id": "0b158296",
   "metadata": {},
   "outputs": [],
   "source": [
    "from langchain.llms import OpenAI\n",
    "from langchain.prompts import PromptTemplate\n",
    "from langchain.chains import LLMRequestsChain, LLMChain"
   ]
  },
  {
   "cell_type": "code",
   "execution_count": 40,
   "id": "d49c33e4",
   "metadata": {},
   "outputs": [],
   "source": [
    "template = \"\"\"Between >>> and <<< are the raw search result text from google.\n",
    "Extract the answer to the question '{query}' or say \"not found\" if the information is not contained.\n",
    "Use the format\n",
    "Extracted:<answer or \"not found\">\n",
    ">>> {requests_result} <<<\n",
    "Extracted:\"\"\"\n",
    "\n",
    "PROMPT = PromptTemplate(\n",
    "    input_variables=[\"query\", \"requests_result\"],\n",
    "    template=template,\n",
    ")"
   ]
  },
  {
   "cell_type": "code",
   "execution_count": 43,
   "id": "d0fd4aab",
   "metadata": {},
   "outputs": [
    {
     "data": {
      "text/plain": [
       "{'query': 'What are the Three (3) biggest countries, and their respective sizes?',\n",
       " 'url': 'https://www.google.com/search?q=What+are+the+Three+(3)+biggest+countries,+and+their+respective+sizes?',\n",
       " 'output': ' Russia (17,098,242 km²), Canada (9,984,670 km²), China (9,706,961 km²)'}"
      ]
     },
     "execution_count": 43,
     "metadata": {},
     "output_type": "execute_result"
    }
   ],
   "source": [
    "chain = LLMRequestsChain(llm_chain=LLMChain(llm=OpenAI(temperature=0), prompt=PROMPT))\n",
    "question = \"What are the Three (3) biggest countries, and their respective sizes?\"\n",
    "inputs = {\n",
    "    \"query\": question,\n",
    "    \"url\": \"https://www.google.com/search?q=\" + question.replace(\" \", \"+\"),\n",
    "}\n",
    "chain(inputs)"
   ]
  }
 ],
 "metadata": {
  "kernelspec": {
   "display_name": "Python 3 (ipykernel)",
   "language": "python",
   "name": "python3"
  },
  "language_info": {
   "codemirror_mode": {
    "name": "ipython",
    "version": 3
   },
   "file_extension": ".py",
   "mimetype": "text/x-python",
   "name": "python",
   "nbconvert_exporter": "python",
   "pygments_lexer": "ipython3",
   "version": "3.10.9"
  }
 },
 "nbformat": 4,
 "nbformat_minor": 5
}
