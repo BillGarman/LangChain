{
 "cells": [
  {
   "cell_type": "markdown",
   "id": "6605e7f7",
   "metadata": {},
   "source": [
    "# Web scraping using OpenAI Functions Extraction chain\n",
    "\n",
    "Web scraping is challenging for many reasons; one of them is the changing nature of modern websites' layouts and content, which requires modifying scraping scripts to accommodate the changes.\n",
    "\n",
    "Using OpenAI Function in the extraction chain, you can avoid having to change your code constantly when websites change. Plus, this will save you time setting up when scraping a website for the first time by creating simple schemas.\n",
    "\n",
    "In this notebook, we scrape The Wall Street Journal. You'll need to have an OpenAI API key for this example."
   ]
  },
  {
   "cell_type": "markdown",
   "id": "05087ad3",
   "metadata": {},
   "source": [
    "## Install dependencies\n",
    "\n",
    "We need OpenAI and LangChain for the extraction part, and Playwright and Beautiful Soup for the scraping part."
   ]
  },
  {
   "cell_type": "code",
   "execution_count": 5,
   "id": "00c96747",
   "metadata": {},
   "outputs": [
    {
     "name": "stdout",
     "output_type": "stream",
     "text": [
      "\n",
      "\u001b[1m[\u001b[0m\u001b[34;49mnotice\u001b[0m\u001b[1;39;49m]\u001b[0m\u001b[39;49m A new release of pip is available: \u001b[0m\u001b[31;49m23.0.1\u001b[0m\u001b[39;49m -> \u001b[0m\u001b[32;49m23.2.1\u001b[0m\n",
      "\u001b[1m[\u001b[0m\u001b[34;49mnotice\u001b[0m\u001b[1;39;49m]\u001b[0m\u001b[39;49m To update, run: \u001b[0m\u001b[32;49mpython3.11 -m pip install --upgrade pip\u001b[0m\n",
      "Note: you may need to restart the kernel to use updated packages.\n"
     ]
    }
   ],
   "source": [
    "pip install -q openai langchain playwright beautifulsoup4"
   ]
  },
  {
   "cell_type": "markdown",
   "id": "5ef7f514",
   "metadata": {},
   "source": [
    "## Create a simple scraper function\n",
    "\n",
    "First, we create an asynchronous function (`ascrape_playwright()`) that takes in a URL to scrape. This function returns the HTML of the website from the URL.\n",
    "\n",
    "We also need a few utility functions to clean up the HTML."
   ]
  },
  {
   "cell_type": "code",
   "execution_count": 6,
   "id": "5da7b16d",
   "metadata": {},
   "outputs": [],
   "source": [
    "import requests\n",
    "from bs4 import BeautifulSoup\n",
    "from playwright.async_api import async_playwright\n",
    "\n",
    "def remove_unwanted_tags(html_content, unwanted_tags=[\"script\", \"style\"]):\n",
    "    soup = BeautifulSoup(html_content, 'html.parser')\n",
    "    for tag in unwanted_tags:\n",
    "        for element in soup.find_all(tag):\n",
    "            element.decompose()\n",
    "    return str(soup)\n",
    "\n",
    "\n",
    "def extract_tags(html_content, tags: list[str]):\n",
    "    soup = BeautifulSoup(html_content, 'html.parser')\n",
    "    text_parts = []\n",
    "    for tag in tags:\n",
    "        elements = soup.find_all(tag)\n",
    "        for element in elements:\n",
    "            if tag == \"a\":\n",
    "                href = element.get('href')\n",
    "                if href:\n",
    "                    text_parts.append(f\"{element.get_text()} ({href})\")\n",
    "                else:\n",
    "                    text_parts.append(element.get_text())\n",
    "            else:\n",
    "                text_parts.append(element.get_text())\n",
    "    \n",
    "    return ' '.join(text_parts)\n",
    "\n",
    "\n",
    "def scrape_by_url_raw(url: str):\n",
    "    response = requests.get(url)\n",
    "    response.raise_for_status()\n",
    "    soup = BeautifulSoup(response.content, 'html.parser')\n",
    "    return response.text\n",
    "\n",
    "\n",
    "def remove_unessesary_lines(content):\n",
    "    lines = content.split(\"\\n\")\n",
    "    stripped_lines = [line.strip() for line in lines]\n",
    "    non_empty_lines = [line for line in stripped_lines if line]\n",
    "    seen = set()\n",
    "    deduped_lines = [line for line in non_empty_lines if not (line in seen or seen.add(line))]\n",
    "    cleaned_content = \"\".join(deduped_lines)\n",
    "\n",
    "    return cleaned_content\n",
    "\n",
    "\n",
    "async def ascrape_playwright(url) -> str:\n",
    "    print(\"Started scraping...\")\n",
    "    results = \"\"\n",
    "    async with async_playwright() as p:\n",
    "        browser = await p.chromium.launch(headless=True)\n",
    "        try:\n",
    "            page = await browser.new_page()\n",
    "            await page.goto(url)\n",
    "\n",
    "            page_source = await page.content()\n",
    "\n",
    "            results = remove_unessesary_lines(extract_tags(remove_unwanted_tags(\n",
    "                page_source), [\"p\", \"li\", \"div\", \"a\"]))\n",
    "            print(\"Content scraped\")\n",
    "        except Exception as e:\n",
    "            results = f\"Error: {e}\"\n",
    "        await browser.close()\n",
    "    return results"
   ]
  },
  {
   "cell_type": "markdown",
   "id": "e47f4bf0",
   "metadata": {},
   "source": [
    "## Define the LLM object and extraction function\n",
    "\n",
    "Next, we define the LLM object using LangChain and OpenAI Python SDK.\n",
    "\n",
    "We're using `gpt-3.5-turbo-0613` to guarantee access to OpenAI Functions feature (although this might be available to everyone by time of writing). We're also keeping `temperature` at `0` to keep randomness of the LLM down."
   ]
  },
  {
   "cell_type": "code",
   "execution_count": 13,
   "id": "95506f8e",
   "metadata": {},
   "outputs": [],
   "source": [
    "from langchain.chains import create_extraction_chain\n",
    "from langchain.chat_models import ChatOpenAI\n",
    "\n",
    "openai_api_key = \"OPENAI_API_KEY\"\n",
    "\n",
    "llm = ChatOpenAI(temperature=0, model=\"gpt-3.5-turbo-0613\", openai_api_key=openai_api_key)\n",
    "\n",
    "\n",
    "def extract(content: str, schema: dict):\n",
    "        return create_extraction_chain(schema=schema, llm=llm).run(content)"
   ]
  },
  {
   "cell_type": "markdown",
   "id": "b39a37dc",
   "metadata": {},
   "source": [
    "# Define a schema\n",
    "\n",
    "Next, you define a schema to specify what kind of data you want to extract. Here, the key names matter as they tell the LLM what kind of information they want. So, be as detailed as possible. In this example, we want to scrape only news article's name and summary from The Wall Street Journal website."
   ]
  },
  {
   "cell_type": "code",
   "execution_count": 14,
   "id": "de31af84",
   "metadata": {},
   "outputs": [],
   "source": [
    "schema = {\n",
    "    \"properties\": {\n",
    "        \"news_article_title\": {\"type\": \"string\"},\n",
    "        \"news_article_summary\": {\"type\": \"string\"},\n",
    "    },\n",
    "    \"required\": [\"news_article_title\", \"news_article_summary\"],\n",
    "}"
   ]
  },
  {
   "cell_type": "markdown",
   "id": "fc265526",
   "metadata": {},
   "source": [
    "# Run the web scraper\n",
    "\n",
    "Last but not least, we combine everything together, and run the scraper. The model's token limit is around 4000, so for simplicity's sake in this example, we only let the LLM look at the first 4000 characters, otherwise we risk sending more tokens than allowed to OpenAI."
   ]
  },
  {
   "cell_type": "code",
   "execution_count": 15,
   "id": "6a291886",
   "metadata": {},
   "outputs": [
    {
     "name": "stdout",
     "output_type": "stream",
     "text": [
      "Started scraping...\n"
     ]
    },
    {
     "name": "stderr",
     "output_type": "stream",
     "text": [
      "/opt/homebrew/lib/python3.11/site-packages/bs4/builder/__init__.py:314: RuntimeWarning: coroutine 'scrape_with_playwright' was never awaited\n",
      "  for attr in list(attrs.keys()):\n",
      "RuntimeWarning: Enable tracemalloc to get the object allocation traceback\n"
     ]
    },
    {
     "name": "stdout",
     "output_type": "stream",
     "text": [
      "Content scraped\n",
      "Extracting content with LLM\n",
      "[{'news_article_summary': 'Former President Donald Trump arrived at a '\n",
      "                          'Washington federal courthouse to face criminal '\n",
      "                          'charges related to his efforts to overturn the 2020 '\n",
      "                          'election.',\n",
      "  'news_article_title': 'Former President Donald Trump faces criminal charges '\n",
      "                        'related to overturning the 2020 election'},\n",
      " {'news_article_summary': 'The tech giant’s revenue declined for the third '\n",
      "                          'consecutive quarter as sales of iPhones missed '\n",
      "                          'analyst estimates. But revenue in the services unit '\n",
      "                          'reached a record high.',\n",
      "  'news_article_title': \"Tech giant's revenue declined, but services unit \"\n",
      "                        'reached a record high'},\n",
      " {'news_article_summary': 'The American Academy of Pediatrics plans to review '\n",
      "                          'the evidence for gender-affirming medical care and '\n",
      "                          'potentially amend its policies.',\n",
      "  'news_article_title': 'American Academy of Pediatrics to review evidence for '\n",
      "                        'gender-affirming medical care'},\n",
      " {'news_article_summary': 'The beer brand’s owner said market share is '\n",
      "                          'stabilizing and that it will stay away from '\n",
      "                          'controversial topics to win back drinkers.',\n",
      "  'news_article_title': \"Beer brand's owner aims to stabilize market share and \"\n",
      "                        'avoid controversial topics'},\n",
      " {'news_article_summary': 'The book publisher was put up for sale for the '\n",
      "                          'second time after a judge blocked a previous deal '\n",
      "                          'with Penguin Random House.',\n",
      "  'news_article_title': 'Book publisher put up for sale after previous deal '\n",
      "                        'was blocked'},\n",
      " {'news_article_summary': 'The Pentagon is poised to offer military personnel '\n",
      "                          'to commercial vessels transiting the Persian Gulf '\n",
      "                          'region to deter Iranian forces from attacking the '\n",
      "                          'ships.',\n",
      "  'news_article_title': 'Pentagon to offer military personnel to commercial '\n",
      "                        'vessels in Persian Gulf region'},\n",
      " {'news_article_summary': 'Three side-by-side houses in Boston are designed to '\n",
      "                          'offer clean inside air, reduced emissions and '\n",
      "                          'little to no energy costs.',\n",
      "  'news_article_title': 'Three houses in Boston designed for clean air and '\n",
      "                        'reduced emissions'},\n",
      " {'news_article_summary': 'One in five mothers in the U.S. suffers from mood '\n",
      "                          'and anxiety disorders during pregnancy or soon '\n",
      "                          'after birth. For many, help is hard to find.',\n",
      "  'news_article_title': 'One in five mothers in the U.S. suffers from mood and '\n",
      "                        'anxiety disorders during pregnancy or after birth'},\n",
      " {'news_article_summary': 'Ilya Lichtenstein, who pleaded guilty to laundering '\n",
      "                          'stolen digital currency, made an unexpected '\n",
      "                          'admission in court that he was behind the Bitfinex '\n",
      "                          'hack.',\n",
      "  'news_article_title': 'Ilya Lichtenstein admits to being behind the Bitfinex '\n",
      "                        'hack'},\n",
      " {'news_article_summary': 'The United Auto Workers union is pressing for the '\n",
      "                          'substantial wage increase for factory workers at '\n",
      "                          'Detroit car companies GM, Ford and Stellantis.',\n",
      "  'news_article_title': 'United Auto Workers union presses for substantial '\n",
      "                        'wage increase for factory workers'},\n",
      " {'news_article_summary': 'The two men are the latest cases of U.S. defense '\n",
      "                          'and intelligence officials charged with working on '\n",
      "                          'behalf of Beijing.',\n",
      "  'news_article_title': 'Two U.S. defense and intelligence officials charged '\n",
      "                        'with working on behalf of Beijing'},\n",
      " {'news_article_summary': 'With oversize dimensions of historic proportions, '\n",
      "                          'this luxury liner of an SUV is easy to pilot on the '\n",
      "                          'open highway but not as suitable for city traffic '\n",
      "                          'or other tight spots, writes Dan Neil.',\n",
      "  'news_article_title': 'Oversize luxury SUV suitable for open highway but not '\n",
      "                        'city traffic'},\n",
      " {'news_article_summary': 'The Southern California city attracts food lovers '\n",
      "                          'and culture hounds as well as travelers who include '\n",
      "                          '‘beach walks’ in their plans. We asked four '\n",
      "                          'in-the-know San Diegans to clue us in.',\n",
      "  'news_article_title': 'Southern California city attracts food lovers and '\n",
      "                        'culture hounds'},\n",
      " {'news_article_summary': 'The U.S. cryptocurrency exchange remains locked in '\n",
      "                          'a legal battle with regulators.',\n",
      "  'news_article_title': 'Cryptocurrency exchange remains locked in legal '\n",
      "                        'battle with regulators'},\n",
      " {'news_article_summary': 'Airbnb posted its most profitable second quarter '\n",
      "                          'ever, boosted by high nightly rates guests were '\n",
      "                          'willing to pay—in a sign that steep travel prices '\n",
      "                          'are persisting.',\n",
      "  'news_article_title': 'Airbnb posts most profitable second quarter ever'},\n",
      " {'news_article_summary': 'Lykos Global, JCAP and LuminArx are among those '\n",
      "                          'targeting big launches after years of declines in '\n",
      "                          'the number of funds.',\n",
      "  'news_article_title': 'Lykos Global, JCAP, and LuminArx targeting big '\n",
      "                        'launches'},\n",
      " {'news_article_summary': 'The state said the course violates Florida law, '\n",
      "                          'according to the College Board.',\n",
      "  'news_article_title': 'Florida course violates state law, says College '\n",
      "                        'Board'},\n",
      " {'news_article_summary': 'Six white officers ‘tortured and inflicted '\n",
      "                          'unspeakable harm on their victims’ during a home '\n",
      "                          'raid, attorney general says.',\n",
      "  'news_article_title': 'Six white officers accused of torturing victims '\n",
      "                        'during home raid'},\n",
      " {'news_article_summary': 'Hotel owners said that fixing the region’s '\n",
      "                          'longstanding housing crisis isn’t their job.',\n",
      "  'news_article_title': \"Hotel owners say fixing housing crisis isn't their \"\n",
      "                        'job'},\n",
      " {'news_article_summary': 'As entertainment-industry strikes continue, some '\n",
      "                          'call agreements for independent films scabbing, '\n",
      "                          'while others say the deals are a fair way to keep '\n",
      "                          'the cameras rolling.',\n",
      "  'news_article_title': 'Entertainment-industry strikes continue, causing '\n",
      "                        'controversy'},\n",
      " {'news_article_summary': 'The court, one of the nation’s most acrimonious, '\n",
      "                          'begins its new progressive majority by firing a top '\n",
      "                          'courts administrator.',\n",
      "  'news_article_title': 'Acrimonious court fires top courts administrator'},\n",
      " {'news_article_summary': 'Islamic State confirmed that its top leader had '\n",
      "                          'been killed, the third time in less than two years '\n",
      "                          'that the extremist group has announced his death.',\n",
      "  'news_article_title': 'Islamic State confirms death of top leader'}]\n"
     ]
    }
   ],
   "source": [
    "import asyncio\n",
    "import pprint\n",
    "\n",
    "token_limit = 4000\n",
    "wsj_url = \"https://www.wsj.com\"\n",
    "\n",
    "async def scrape_with_playwright(url: str, schema: dict):\n",
    "    html_content = await ascrape_playwright(url)\n",
    "\n",
    "    print(\"Extracting content with LLM\")\n",
    "\n",
    "    html_content_fits_context_window_llm = html_content[:token_limit]\n",
    "\n",
    "    extracted_content = extract(schema=schema,\n",
    "                                content=html_content_fits_context_window_llm)\n",
    "\n",
    "    pprint.pprint(extracted_content)\n",
    "\n",
    "await scrape_with_playwright(url=wsj_url, schema=schema)"
   ]
  }
 ],
 "metadata": {
  "kernelspec": {
   "display_name": "Python 3 (ipykernel)",
   "language": "python",
   "name": "python3"
  },
  "language_info": {
   "codemirror_mode": {
    "name": "ipython",
    "version": 3
   },
   "file_extension": ".py",
   "mimetype": "text/x-python",
   "name": "python",
   "nbconvert_exporter": "python",
   "pygments_lexer": "ipython3",
   "version": "3.11.4"
  }
 },
 "nbformat": 4,
 "nbformat_minor": 5
}
