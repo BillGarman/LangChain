{
 "cells": [
  {
   "cell_type": "markdown",
   "id": "6605e7f7",
   "metadata": {},
   "source": [
    "# Web scraping using OpenAI Functions Extraction chain\n",
    "\n",
    "Web scraping is challenging for many reasons; one of them is the changing nature of modern websites' layouts and content, which requires modifying scraping scripts to accommodate the changes.\n",
    "\n",
    "Using OpenAI Function in the extraction chain, you can avoid having to change your code constantly when websites change. Plus, this will save you time setting up when scraping a website for the first time by creating simple schemas.\n",
    "\n",
    "In this notebook, we scrape The Wall Street Journal. You'll need to have an OpenAI API key for this example."
   ]
  },
  {
   "cell_type": "markdown",
   "id": "05087ad3",
   "metadata": {},
   "source": [
    "## Install dependencies\n",
    "\n",
    "We need OpenAI and LangChain for the extraction part, and Playwright and Beautiful Soup for the scraping part."
   ]
  },
  {
   "cell_type": "code",
   "execution_count": null,
   "id": "1ce3876b",
   "metadata": {},
   "outputs": [],
   "source": [
    "! pip install -q openai langchain playwright beautifulsoup4\n",
    "! playwright install\n",
    "\n",
    "# Set env var OPENAI_API_KEY or load from a .env file:\n",
    "# import dotenv\n",
    "# dotenv.load_env()"
   ]
  },
  {
   "cell_type": "markdown",
   "id": "5ef7f514",
   "metadata": {},
   "source": [
    "## Use AsyncChromiumLoader\n",
    "\n",
    "This load will use Chromium to scrape the web page. In the context of this code, Chromium is one of the browsers supported by Playwright, a library used to control browser automation. This will launch a headless instance of Chromium. Headless mode means that the browser is running without a graphical user interface, which is commonly used for web scraping or automated testing of web pages."
   ]
  },
  {
   "cell_type": "code",
   "execution_count": 2,
   "id": "3ce67cd7",
   "metadata": {},
   "outputs": [],
   "source": [
    "from langchain.document_loaders import AsyncChromiumLoader"
   ]
  },
  {
   "cell_type": "markdown",
   "id": "e47f4bf0",
   "metadata": {},
   "source": [
    "## Define the LLM object and extraction function\n",
    "\n",
    "Next, we define the LLM object using LangChain and OpenAI Python SDK.\n",
    "\n",
    "We're using `gpt-3.5-turbo-0613` to guarantee access to OpenAI Functions feature (although this might be available to everyone by time of writing). We're also keeping `temperature` at `0` to keep randomness of the LLM down."
   ]
  },
  {
   "cell_type": "code",
   "execution_count": 4,
   "id": "95506f8e",
   "metadata": {},
   "outputs": [],
   "source": [
    "from langchain.chains import create_extraction_chain\n",
    "from langchain.chat_models import ChatOpenAI\n",
    "\n",
    "llm = ChatOpenAI(temperature=0, model=\"gpt-3.5-turbo-0613\")\n",
    "\n",
    "def extract(content: str, schema: dict):\n",
    "        return create_extraction_chain(schema=schema, llm=llm).run(content)"
   ]
  },
  {
   "cell_type": "markdown",
   "id": "b39a37dc",
   "metadata": {},
   "source": [
    "# Define a schema\n",
    "\n",
    "Next, you define a schema to specify what kind of data you want to extract. Here, the key names matter as they tell the LLM what kind of information they want. So, be as detailed as possible. In this example, we want to scrape only news article's name and summary from The Wall Street Journal website."
   ]
  },
  {
   "cell_type": "code",
   "execution_count": 5,
   "id": "de31af84",
   "metadata": {},
   "outputs": [],
   "source": [
    "schema = {\n",
    "    \"properties\": {\n",
    "        \"news_article_title\": {\"type\": \"string\"},\n",
    "        \"news_article_summary\": {\"type\": \"string\"},\n",
    "    },\n",
    "    \"required\": [\"news_article_title\", \"news_article_summary\"],\n",
    "}"
   ]
  },
  {
   "cell_type": "markdown",
   "id": "fc265526",
   "metadata": {},
   "source": [
    "# Run the web scraper\n",
    "\n",
    "Last but not least, we combine everything together, and run the scraper. The model's token limit is around 4000, so for simplicity's sake in this example, we only let the LLM look at the first 4000 characters, otherwise we risk sending more tokens than allowed to OpenAI."
   ]
  },
  {
   "cell_type": "code",
   "execution_count": 6,
   "id": "6a291886",
   "metadata": {
    "scrolled": false
   },
   "outputs": [
    {
     "name": "stdout",
     "output_type": "stream",
     "text": [
      "Extracting content with LLM\n",
      "[{'news_article_summary': 'It isn’t cool enough for the Fed just yet, but it '\n",
      "                          'is getting there.',\n",
      "  'news_article_title': 'Employment data showed America’s job market is '\n",
      "                        'cooling.'},\n",
      " {'news_article_title': 'Icahn Enterprises is cutting its dividend in half and '\n",
      "                        'winding down bets that the stock market would '\n",
      "                        'collapse, which have inflicted heavy losses.'},\n",
      " {'news_article_title': 'The decision rejects an argument made by a bipartisan '\n",
      "                        'group of 38 state attorneys general and comes ahead '\n",
      "                        'of a trial that is slated to begin next month.'},\n",
      " {'news_article_title': 'Russian opposition leader Alexei Navalny, Vladimir '\n",
      "                        'Putin’s most prominent critic, was charged with '\n",
      "                        'inciting and funding extremism.'},\n",
      " {'news_article_title': 'John Lauro called the indictment an unconstitutional '\n",
      "                        'attack on political speech. Others say that theory '\n",
      "                        'might not hold up.'},\n",
      " {'news_article_title': 'September is traditionally the weakest month for U.S. '\n",
      "                        'stocks. This year, investors say the turning of the '\n",
      "                        'calendar should be especially worrying.'},\n",
      " {'news_article_title': 'A week of missteps and communication breakdowns '\n",
      "                        'pushed an important ally toward the Kremlin.'},\n",
      " {'news_article_title': 'Three side-by-side houses in Boston are designed to '\n",
      "                        'offer clean inside air, reduced emissions and little '\n",
      "                        'to no energy costs.'},\n",
      " {'news_article_title': 'As the chaotic consolidation of college sports '\n",
      "                        'continues, the 108-year-old Pac-12 would be left with '\n",
      "                        'just seven members committed to it beyond 2024.'},\n",
      " {'news_article_title': 'The strike on one of Russia’s largest ports disrupted '\n",
      "                        'shipments of grain and oil as fighting in the Black '\n",
      "                        'Sea intensified, threatening world food and energy '\n",
      "                        'markets.'},\n",
      " {'news_article_title': 'Some people are being pushed into saving in Roth '\n",
      "                        '401(k)s, but they may come out ahead despite losing a '\n",
      "                        'key tax deduction.'},\n",
      " {'news_article_title': 'An accident on vacation was an unpleasant reminder '\n",
      "                        'that retirement won’t always be like this.'},\n",
      " {'news_article_title': 'The regional wireless carrier’s controlling '\n",
      "                        'shareholder says it is exploring strategic options '\n",
      "                        'for a business left behind by telecom’s consolidation '\n",
      "                        'wave.'},\n",
      " {'news_article_title': 'Share prices skyrocket, then sink, for companies that '\n",
      "                        'don’t even have a direct link to room-temperature '\n",
      "                        'superconductors.'},\n",
      " {'news_article_title': 'The Second Amendment and its discontents, the life '\n",
      "                        'and drama of August Wilson, journeys to the ocean’s '\n",
      "                        'depths and more.'},\n",
      " {'news_article_title': 'The buyer of the roughly 12,000-square-foot Manhattan '\n",
      "                        'pad is Scott Lynn, chief executive of online art '\n",
      "                        'investment platform Masterworks.'},\n",
      " {'news_article_title': 'So many men overstuff their pants pockets—and nothing '\n",
      "                        'kills style faster. Heed these tips to streamline '\n",
      "                        'your lower half.'},\n",
      " {'news_article_title': 'Justin Jones and Justin Pearson won special elections '\n",
      "                        'to take their seats back.'},\n",
      " {'news_article_title': 'The cease-fire with the Cuba-inspired ELN group is '\n",
      "                        'part of a broad peace strategy to carry out talks '\n",
      "                        'with several armed groups simultaneously.'},\n",
      " {'news_article_title': 'Three Democratic senators are pressing the Biden '\n",
      "                        'administration for more information about its efforts '\n",
      "                        'to counteract Pyongyang’s reliance on stolen '\n",
      "                        'cryptocurrency to fund its nuclear program.'},\n",
      " {'news_article_title': 'Domingo Germán appeared intoxicated, flipped a couch '\n",
      "                        'and destroyed a TV in the clubhouse before the team '\n",
      "                        'announced he would seek treatment, according to '\n",
      "                        'people who were present.'},\n",
      " {'news_article_title': 'Domestic ticket fares are falling as travelers favor '\n",
      "                        'longer trips abroad.'},\n",
      " {'news_article_title': 'The Southern California city attracts food lovers and '\n",
      "                        'culture hounds as well as travelers who include '\n",
      "                        '‘beach walks’ in their plans. We asked four '\n",
      "                        'in-the-know San Diegans to clue us in.'},\n",
      " {'news_article_title': 'You don’t need to pay a hefty fee to score generous '\n",
      "                        'rewards.'}]\n"
     ]
    }
   ],
   "source": [
    "import asyncio\n",
    "import pprint\n",
    "\n",
    "token_limit = 4000\n",
    "wsj_url = \"https://www.wsj.com\"\n",
    "\n",
    "def scrape_with_playwright(urls, schema):\n",
    "    \n",
    "    loader = AsyncChromiumLoader(urls)\n",
    "    docs = loader.load()\n",
    "    html_content = docs[0].page_content\n",
    "    \n",
    "    print(\"Extracting content with LLM\")\n",
    "    html_content_fits_context_window_llm = html_content[:token_limit]\n",
    "    extracted_content = extract(schema=schema,\n",
    "                                content=html_content_fits_context_window_llm)\n",
    "\n",
    "    pprint.pprint(extracted_content)\n",
    "    \n",
    "urls = [\"https://www.wsj.com\"]\n",
    "scrape_with_playwright(urls, schema=schema)"
   ]
  },
  {
   "cell_type": "code",
   "execution_count": null,
   "id": "369e644f",
   "metadata": {},
   "outputs": [],
   "source": []
  }
 ],
 "metadata": {
  "kernelspec": {
   "display_name": "Python 3 (ipykernel)",
   "language": "python",
   "name": "python3"
  },
  "language_info": {
   "codemirror_mode": {
    "name": "ipython",
    "version": 3
   },
   "file_extension": ".py",
   "mimetype": "text/x-python",
   "name": "python",
   "nbconvert_exporter": "python",
   "pygments_lexer": "ipython3",
   "version": "3.9.16"
  }
 },
 "nbformat": 4,
 "nbformat_minor": 5
}
