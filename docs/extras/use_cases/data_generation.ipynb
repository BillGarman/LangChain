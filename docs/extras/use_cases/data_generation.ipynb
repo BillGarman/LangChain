{
 "cells": [
  {
   "cell_type": "markdown",
   "id": "aa3571cc",
   "metadata": {},
   "source": [
    "# Data generation\n",
    "\n",
    "[![Open In Collab](https://colab.research.google.com/assets/colab-badge.svg)](https://colab.research.google.com/github/langchain-ai/langchain/blob/master/docs/extras/use_cases/data_generation.ipynb)\n",
    "\n",
    "## Use case\n",
    "\n",
    "Creating synthethic language data can be beneficial for multiple reasons:\n",
    "- providing data augmentation\n",
    "- obtaining domain-specific examples\n",
    "- increasing data diversity\n",
    "- enabling quick iteration and experimentation\n",
    "\n",
    "## Quickstart\n",
    "\n",
    "Let's see a very straightforward example of how we can use OpenAI functions for creating synthetic data in LangChain."
   ]
  },
  {
   "cell_type": "code",
   "execution_count": null,
   "id": "7ae36b66",
   "metadata": {
    "scrolled": true
   },
   "outputs": [],
   "source": [
    "!pip install langchain openai \n",
    "\n",
    "# Set env var OPENAI_API_KEY or load from a .env file:\n",
    "# import dotenv\n",
    "# dotenv.load_dotenv()"
   ]
  },
  {
   "cell_type": "code",
   "execution_count": 2,
   "id": "9e715d94",
   "metadata": {
    "scrolled": true
   },
   "outputs": [],
   "source": [
    "from langchain.llms import OpenAI\n",
    "from langchain.chains.synthetic_data import create_data_generation_chain, DatasetGenerator"
   ]
  },
  {
   "cell_type": "code",
   "execution_count": 5,
   "id": "94fccedd",
   "metadata": {},
   "outputs": [],
   "source": [
    "# LLM\n",
    "model = OpenAI(temperature=0.7)\n",
    "chain = create_data_generation_chain(model)"
   ]
  },
  {
   "cell_type": "code",
   "execution_count": 6,
   "id": "4314c3ea",
   "metadata": {},
   "outputs": [
    {
     "data": {
      "text/plain": [
       "{'fields': ['blue', 'yellow'],\n",
       " 'text': 'The beautiful sky was a mix of blue and yellow, creating an enchanting sunrise that filled the air with a sense of serenity.'}"
      ]
     },
     "execution_count": 6,
     "metadata": {},
     "output_type": "execute_result"
    }
   ],
   "source": [
    "chain([\"blue\", \"yellow\"])"
   ]
  },
  {
   "cell_type": "code",
   "execution_count": 7,
   "id": "b116c487",
   "metadata": {},
   "outputs": [
    {
     "data": {
      "text/plain": [
       "{'fields': [{'colors': ['blue', 'yellow']}],\n",
       " 'text': 'The vibrant colors of blue and yellow danced together in the field, creating a captivating display of beauty and energy.'}"
      ]
     },
     "execution_count": 7,
     "metadata": {},
     "output_type": "execute_result"
    }
   ],
   "source": [
    "chain([{\"colors\": [\"blue\", \"yellow\"]}])"
   ]
  },
  {
   "cell_type": "code",
   "execution_count": 8,
   "id": "ff823394",
   "metadata": {},
   "outputs": [
    {
     "data": {
      "text/plain": [
       "{'fields': [{'actor': 'Tom Hanks', 'movies': ['Forrest Gump', 'Green Mile']}],\n",
       " 'text': 'Tom Hanks has starred in some of the most beloved and iconic movies of all time, including Forrest Gump and The Green Mile. His portrayal of the characters in both films have left an indelible mark on audiences worldwide, and he has been recognized for his talent with numerous awards and accolades.'}"
      ]
     },
     "execution_count": 8,
     "metadata": {},
     "output_type": "execute_result"
    }
   ],
   "source": [
    "chain([{\"actor\": \"Tom Hanks\", \"movies\": [\"Forrest Gump\", \"Green Mile\"]}])"
   ]
  },
  {
   "cell_type": "code",
   "execution_count": 9,
   "id": "1ea1ad5b",
   "metadata": {
    "scrolled": true
   },
   "outputs": [
    {
     "data": {
      "text/plain": [
       "{'fields': [{'actor': 'Tom Hanks', 'movies': ['Forrest Gump', 'Green Mile']},\n",
       "  {'actor': 'Mads Mikkelsen', 'movies': ['Hannibal', 'Another round']}],\n",
       " 'text': 'Tom Hanks and Mads Mikkelsen are two of the most acclaimed actors in recent decades, having starred in films such as Forrest Gump, Green Mile, Hannibal, and Another Round.'}"
      ]
     },
     "execution_count": 9,
     "metadata": {},
     "output_type": "execute_result"
    }
   ],
   "source": [
    "chain([{\"actor\": \"Tom Hanks\", \"movies\": [\"Forrest Gump\", \"Green Mile\"]}, {\"actor\": \"Mads Mikkelsen\", \"movies\": [\"Hannibal\", \"Another round\"]}])"
   ]
  },
  {
   "cell_type": "markdown",
   "id": "93c7a4bb",
   "metadata": {},
   "source": [
    "As we can see created examples are diversified and possess information we wanted them to have."
   ]
  },
  {
   "cell_type": "markdown",
   "id": "75f7f55a",
   "metadata": {},
   "source": [
    "## Generating exemplary dataset for extraction benchmarking purposes"
   ]
  },
  {
   "cell_type": "code",
   "execution_count": 10,
   "id": "94e98bc4",
   "metadata": {},
   "outputs": [],
   "source": [
    "inp = [\n",
    "    [\n",
    "        {\n",
    "            'Actor': 'Tom Hanks',\n",
    "            'Film': [\n",
    "                'Forrest Gump',\n",
    "                'Saving Private Ryan',\n",
    "                'The Green Mile',\n",
    "                'Toy Story',\n",
    "                'Catch Me If You Can']\n",
    "        }\n",
    "    ],\n",
    "    [\n",
    "        {\n",
    "            'Actor': 'Tom Hardy',\n",
    "            'Film': [\n",
    "                'Inception',\n",
    "                'The Dark Knight Rises',\n",
    "                'Mad Max: Fury Road',\n",
    "                'The Revenant',\n",
    "                'Dunkirk'\n",
    "            ]\n",
    "        }\n",
    "    ]\n",
    "]\n",
    "\n",
    "generator = DatasetGenerator(model)\n",
    "dataset = generator(inp)"
   ]
  },
  {
   "cell_type": "code",
   "execution_count": 11,
   "id": "478eaca4",
   "metadata": {
    "scrolled": true
   },
   "outputs": [
    {
     "data": {
      "text/plain": [
       "[{'fields': [{'Actor': 'Tom Hanks',\n",
       "    'Film': ['Forrest Gump',\n",
       "     'Saving Private Ryan',\n",
       "     'The Green Mile',\n",
       "     'Toy Story',\n",
       "     'Catch Me If You Can']}],\n",
       "  'text': 'Tom Hanks has had a long and storied career in Hollywood, highlighted by iconic roles in films such as Forrest Gump, Saving Private Ryan, The Green Mile, Toy Story, and Catch Me If You Can.'},\n",
       " {'fields': [{'Actor': 'Tom Hardy',\n",
       "    'Film': ['Inception',\n",
       "     'The Dark Knight Rises',\n",
       "     'Mad Max: Fury Road',\n",
       "     'The Revenant',\n",
       "     'Dunkirk']}],\n",
       "  'text': 'Tom Hardy is an incredibly versatile actor, having starred in films like Inception, The Dark Knight Rises, Mad Max: Fury Road, The Revenant, and Dunkirk, showing his extraordinary range and talent.'}]"
      ]
     },
     "execution_count": 11,
     "metadata": {},
     "output_type": "execute_result"
    }
   ],
   "source": [
    "dataset"
   ]
  },
  {
   "cell_type": "code",
   "execution_count": null,
   "id": "bb5f6d60",
   "metadata": {},
   "outputs": [],
   "source": []
  }
 ],
 "metadata": {
  "kernelspec": {
   "display_name": "Python 3 (ipykernel)",
   "language": "python",
   "name": "python3"
  },
  "language_info": {
   "codemirror_mode": {
    "name": "ipython",
    "version": 3
   },
   "file_extension": ".py",
   "mimetype": "text/x-python",
   "name": "python",
   "nbconvert_exporter": "python",
   "pygments_lexer": "ipython3",
   "version": "3.9.16"
  }
 },
 "nbformat": 4,
 "nbformat_minor": 5
}
