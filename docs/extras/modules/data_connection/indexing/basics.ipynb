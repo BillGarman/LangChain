{
 "cells": [
  {
   "cell_type": "markdown",
   "id": "0fe57ac5-31c5-4dbb-b96c-78dead32e1bd",
   "metadata": {},
   "source": [
    "# Indexing Basics\n",
    "\n",
    "This notebooks shows a basic indexing workflow using the LangChain indexing API.\n",
    "\n",
    "This example shows indexing using LangConnect.\n",
    "In this example, intermediate documents are not cached. But a cache is used for Embeddings.\n",
    "\n",
    "Incrementals and cleanups are supported under the conditions that:\n",
    "* The loader used returns the entire universe of data -- this means that nothing can be parallelized at the moment.\n",
    "* User does not get to control the uids of the documents in the vector store (documents are indexed by hash)"
   ]
  },
  {
   "cell_type": "code",
   "execution_count": 1,
   "id": "05922847-5e17-4402-9d91-e96688a57cf8",
   "metadata": {
    "tags": []
   },
   "outputs": [],
   "source": [
    "%load_ext autoreload\n",
    "%autoreload 2"
   ]
  },
  {
   "cell_type": "code",
   "execution_count": 2,
   "id": "6ebc9af8-a194-40f5-ab5f-50b1d506c4ca",
   "metadata": {},
   "outputs": [],
   "source": [
    "import langchain"
   ]
  },
  {
   "cell_type": "code",
   "execution_count": 3,
   "id": "5520eaa2-ad48-4192-b782-93782aab49f8",
   "metadata": {},
   "outputs": [],
   "source": [
    "from langchain.indexes import SQLRecordManager, index"
   ]
  },
  {
   "cell_type": "code",
   "execution_count": 4,
   "id": "fe25e7c0-d1e9-4430-9b89-0f7aead941bb",
   "metadata": {
    "tags": []
   },
   "outputs": [],
   "source": [
    "from langchain.embeddings import CacheBackedEmbeddings, OpenAIEmbeddings\n",
    "from langchain.storage import LocalFileStore"
   ]
  },
  {
   "cell_type": "code",
   "execution_count": 5,
   "id": "4b341c01-a135-4841-978a-dffd4b1673c9",
   "metadata": {
    "tags": []
   },
   "outputs": [],
   "source": [
    "from langchain.document_loaders.generic import GenericLoader\n",
    "from langchain.document_loaders.parsers.txt import TextParser\n",
    "from langchain.text_splitter import CharacterTextSplitter\n",
    "from langchain.vectorstores import Chroma\n",
    "\n",
    "from langchain.document_loaders import TextLoader\n",
    "from langchain.embeddings.openai import OpenAIEmbeddings\n",
    "from langchain.text_splitter import CharacterTextSplitter\n",
    "from langchain.vectorstores import LanceDB\n",
    "\n",
    "import lancedb"
   ]
  },
  {
   "cell_type": "markdown",
   "id": "62acac21-3efd-42a2-b5df-b1629ed6f1c7",
   "metadata": {},
   "source": [
    "Use a namespace to differentiate between different vectorstore"
   ]
  },
  {
   "cell_type": "code",
   "execution_count": 6,
   "id": "34adc559-619d-45da-9712-862f8848bedb",
   "metadata": {},
   "outputs": [],
   "source": [
    "namespace = 'my_docs'"
   ]
  },
  {
   "cell_type": "code",
   "execution_count": 7,
   "id": "03be8056-01c5-4bcc-9167-143dd074b125",
   "metadata": {
    "tags": []
   },
   "outputs": [],
   "source": [
    "record_manager = SQLRecordManager(namespace, db_url=\"sqlite:///cache2.sql\")"
   ]
  },
  {
   "cell_type": "markdown",
   "id": "835c2c19-68ec-4086-9066-f7ba40877fd5",
   "metadata": {},
   "source": [
    "Create a schema before using the record manager"
   ]
  },
  {
   "cell_type": "code",
   "execution_count": 8,
   "id": "a4be2da3-3a5c-468a-a824-560157290f7f",
   "metadata": {},
   "outputs": [],
   "source": [
    "record_manager.create_schema()"
   ]
  },
  {
   "cell_type": "markdown",
   "id": "46496bf6-e3f4-4110-9e08-d06d0557b603",
   "metadata": {},
   "source": [
    "Instantiate vector db with cached backed embedder"
   ]
  },
  {
   "cell_type": "markdown",
   "id": "7f07c6bd-6ada-4b17-a8c5-fe5e4a5278fd",
   "metadata": {},
   "source": [
    "Create a vectorstore"
   ]
  },
  {
   "cell_type": "code",
   "execution_count": 51,
   "id": "b4cdf812-4977-43c1-a2c4-d34c0f965993",
   "metadata": {},
   "outputs": [],
   "source": [
    "db = lancedb.connect(\"/tmp/lancedb\")\n",
    "table = db.create_table(\n",
    "    \"my_table\",\n",
    "    data=[\n",
    "        {\n",
    "            \"vector\": cache_backed_embedder.embed_query(\"Hello World\"),\n",
    "            \"text\": \"Hello World\",\n",
    "            \"id\": \"1\",\n",
    "        }\n",
    "    ],\n",
    "    mode=\"overwrite\",\n",
    ")\n",
    "table = db.open_table('my_table')\n",
    "db = LanceDB(table, embedding=OpenAIEmbeddings())"
   ]
  },
  {
   "cell_type": "markdown",
   "id": "df0b235c-eab7-4682-9a7a-5d0fbc6dacfa",
   "metadata": {},
   "source": [
    "Let's create some test data to use"
   ]
  },
  {
   "cell_type": "code",
   "execution_count": 52,
   "id": "dedf74b2-6567-4c1b-9fb1-3f308ae91281",
   "metadata": {
    "tags": []
   },
   "outputs": [],
   "source": [
    "sample_data_dir = \"./sample_data/\""
   ]
  },
  {
   "cell_type": "code",
   "execution_count": 53,
   "id": "c3cf53d2-41c3-48fa-88b7-25bbd84a27d2",
   "metadata": {},
   "outputs": [],
   "source": [
    "!echo \"hello said the little kitty\" > ./sample_data/text1.txt\n",
    "!echo \"byebye said the big doggy\" > ./sample_data/text2.txt"
   ]
  },
  {
   "cell_type": "markdown",
   "id": "23dea359-d3c6-4353-9cde-cd328c3ce6d5",
   "metadata": {},
   "source": [
    "We'll be loading these files and splitting them using a text splitter and then indexing."
   ]
  },
  {
   "cell_type": "code",
   "execution_count": 56,
   "id": "ddad4260-fd11-4ca7-a1a2-ebacd95faaa7",
   "metadata": {
    "tags": []
   },
   "outputs": [],
   "source": [
    "loader = GenericLoader.from_filesystem(\n",
    "    sample_data_dir, glob=\"*.txt\", parser=TextParser()\n",
    ")"
   ]
  },
  {
   "cell_type": "code",
   "execution_count": 57,
   "id": "c29e4a24-1798-47f7-9119-a76df3998657",
   "metadata": {
    "tags": []
   },
   "outputs": [
    {
     "ename": "NameError",
     "evalue": "name 'DocumentPipeline' is not defined",
     "output_type": "error",
     "traceback": [
      "\u001b[0;31m---------------------------------------------------------------------------\u001b[0m",
      "\u001b[0;31mNameError\u001b[0m                                 Traceback (most recent call last)",
      "Cell \u001b[0;32mIn[57], line 1\u001b[0m\n\u001b[0;32m----> 1\u001b[0m data_loader \u001b[38;5;241m=\u001b[39m \u001b[43mDocumentPipeline\u001b[49m(loader, transformers\u001b[38;5;241m=\u001b[39m[transformer1, transformer2])\n",
      "\u001b[0;31mNameError\u001b[0m: name 'DocumentPipeline' is not defined"
     ]
    }
   ],
   "source": [
    "data_loader = DocumentPipeline(loader, transformers=[transformer1, transformer2])"
   ]
  },
  {
   "cell_type": "code",
   "execution_count": 36,
   "id": "0ae1fc7a-c527-4dbb-b033-1019f9174fcc",
   "metadata": {
    "tags": []
   },
   "outputs": [
    {
     "name": "stderr",
     "output_type": "stream",
     "text": [
      "Created a chunk of size 20, which is longer than the specified 4\n",
      "Created a chunk of size 21, which is longer than the specified 4\n"
     ]
    },
    {
     "name": "stdout",
     "output_type": "stream",
     "text": [
      "CPU times: user 32.4 ms, sys: 993 µs, total: 33.4 ms\n",
      "Wall time: 66.9 ms\n"
     ]
    },
    {
     "data": {
      "text/plain": [
       "{'num_added': 0, 'num_updated': 0, 'num_skipped': 8, 'num_deleted': 0}"
      ]
     },
     "execution_count": 36,
     "metadata": {},
     "output_type": "execute_result"
    }
   ],
   "source": [
    "%%time\n",
    "index(data_loader, record_manager, chroma, delete_old=True)"
   ]
  },
  {
   "cell_type": "markdown",
   "id": "69e819d7-efde-4e1f-8aeb-6ac3cb167f8f",
   "metadata": {},
   "source": [
    "## Run an update!\n",
    "\n",
    "Change the loader to only pick up 1 of the files!"
   ]
  },
  {
   "cell_type": "code",
   "execution_count": 17,
   "id": "9deb6977-d250-47e4-9f7a-cf4e4b28c260",
   "metadata": {
    "tags": []
   },
   "outputs": [
    {
     "name": "stderr",
     "output_type": "stream",
     "text": [
      "Created a chunk of size 21, which is longer than the specified 4\n"
     ]
    },
    {
     "data": {
      "text/plain": [
       "[Document(lc_kwargs={'page_content': 'This is th', 'metadata': {'source': 'sample_data/file2.txt'}}, page_content='This is th', metadata={'source': 'sample_data/file2.txt'}),\n",
       " Document(lc_kwargs={'page_content': 'smallest', 'metadata': {'source': 'sample_data/file2.txt'}}, page_content='smallest', metadata={'source': 'sample_data/file2.txt'}),\n",
       " Document(lc_kwargs={'page_content': 'ile. Fil', 'metadata': {'source': 'sample_data/file2.txt'}}, page_content='ile. Fil', metadata={'source': 'sample_data/file2.txt'}),\n",
       " Document(lc_kwargs={'page_content': '#2.', 'metadata': {'source': 'sample_data/file2.txt'}}, page_content='#2.', metadata={'source': 'sample_data/file2.txt'})]"
      ]
     },
     "execution_count": 17,
     "metadata": {},
     "output_type": "execute_result"
    }
   ],
   "source": [
    "loader = GenericLoader.from_filesystem(\n",
    "    sample_data_dir, glob=\"file2.txt\", parser=TextParser()\n",
    ")\n",
    "\n",
    "data_loader = DocumentPipeline(loader, transformers=[transformer1, transformer2])\n",
    "\n",
    "list(data_loader.lazy_load())"
   ]
  },
  {
   "cell_type": "code",
   "execution_count": 18,
   "id": "610ca611-a425-4ee0-86d4-9ef9afc5f807",
   "metadata": {
    "tags": []
   },
   "outputs": [
    {
     "name": "stderr",
     "output_type": "stream",
     "text": [
      "Created a chunk of size 21, which is longer than the specified 4\n"
     ]
    },
    {
     "name": "stdout",
     "output_type": "stream",
     "text": [
      "CPU times: user 20.7 ms, sys: 265 µs, total: 21 ms\n",
      "Wall time: 55.3 ms\n"
     ]
    },
    {
     "data": {
      "text/plain": [
       "{'num_added': 0, 'num_updated': 0, 'num_skipped': 4, 'num_deleted': 4}"
      ]
     },
     "execution_count": 18,
     "metadata": {},
     "output_type": "execute_result"
    }
   ],
   "source": [
    "%%time\n",
    "index(data_loader, timestamped_set, chroma, delete_old=True)"
   ]
  },
  {
   "cell_type": "markdown",
   "id": "746832e7-ec69-4f4f-97d6-ba610f77a252",
   "metadata": {
    "tags": []
   },
   "source": [
    "## Run another update (note that no more deletions are necessary)!"
   ]
  },
  {
   "cell_type": "code",
   "execution_count": 19,
   "id": "7faf435f-0954-4c38-bbb6-b1d37b487054",
   "metadata": {
    "tags": []
   },
   "outputs": [
    {
     "name": "stderr",
     "output_type": "stream",
     "text": [
      "Created a chunk of size 21, which is longer than the specified 4\n"
     ]
    },
    {
     "name": "stdout",
     "output_type": "stream",
     "text": [
      "CPU times: user 9.24 ms, sys: 9.44 ms, total: 18.7 ms\n",
      "Wall time: 45.3 ms\n"
     ]
    },
    {
     "data": {
      "text/plain": [
       "{'num_added': 0, 'num_updated': 0, 'num_skipped': 4, 'num_deleted': 0}"
      ]
     },
     "execution_count": 19,
     "metadata": {},
     "output_type": "execute_result"
    }
   ],
   "source": [
    "%%time\n",
    "index(data_loader, timestamped_set, chroma, delete_old=True)"
   ]
  }
 ],
 "metadata": {
  "kernelspec": {
   "display_name": "Python 3 (ipykernel)",
   "language": "python",
   "name": "python3"
  },
  "language_info": {
   "codemirror_mode": {
    "name": "ipython",
    "version": 3
   },
   "file_extension": ".py",
   "mimetype": "text/x-python",
   "name": "python",
   "nbconvert_exporter": "python",
   "pygments_lexer": "ipython3",
   "version": "3.10.12"
  }
 },
 "nbformat": 4,
 "nbformat_minor": 5
}
