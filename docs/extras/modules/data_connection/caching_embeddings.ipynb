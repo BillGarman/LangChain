{
 "cells": [
  {
   "cell_type": "markdown",
   "id": "bf4061ce",
   "metadata": {},
   "source": [
    "# Caching Embeddings\n",
    "\n",
    "Embeddings can be stored or temporarily cached to avoid needing to recompute them.\n",
    "\n",
    "Caching embeddings can be done using a `CacheBackedEmbeddings`.\n",
    "\n",
    "The cache backed embedder is a wrapper around an embedder that caches\n",
    "embeddings in a key-value store. \n",
    "\n",
    "The text is hashed and the hash is used as the key in the cache.\n",
    "\n",
    "\n",
    "The main supported way to initialized a `CacheBackedEmbeddings` is `from_bytes_store`. This takes in the following parameters:\n",
    "\n",
    "- underlying_embedder: The embedder to use for embedding.\n",
    "- document_embedding_cache: The cache to use for storing document embeddings.\n",
    "- namespace: (optional, defaults to `\"\"`) The namespace to use for document cache. This namespace is used to avoid collisions with other caches. For example, set it to the name of the embedding model used.\n",
    "\n",
    "**Attention**: Be sure to set the `namespace` parameter to avoid collisions of the same text embedded using different embeddings models."
   ]
  },
  {
   "cell_type": "code",
   "execution_count": 3,
   "id": "a463c3c2-749b-40d1-a433-84f68a1cd1c7",
   "metadata": {
    "tags": []
   },
   "outputs": [],
   "source": [
    "from langchain.embeddings import CacheBackedEmbeddings\n",
    "from langchain.storage import InMemoryStore\n",
    "from langchain.storage import LocalFileStore\n",
    "from langchain.embeddings import OpenAIEmbeddings"
   ]
  },
  {
   "cell_type": "markdown",
   "id": "564c9801-29f0-4452-aeac-527382e2c0e8",
   "metadata": {},
   "source": [
    "## In Memory\n",
    "\n",
    "This section shows how to set up an in memory cache for embeddings. This type of cache is primarily \n",
    "useful for unit tests or prototyping. Do **not** use this cache if you need to actually store the embeddings."
   ]
  },
  {
   "cell_type": "code",
   "execution_count": 4,
   "id": "13bd1c5b-b7ba-4394-957c-7d5b5a841972",
   "metadata": {
    "tags": []
   },
   "outputs": [],
   "source": [
    "store = InMemoryStore()"
   ]
  },
  {
   "cell_type": "code",
   "execution_count": 5,
   "id": "9d99885f-99e1-498c-904d-6db539ac9466",
   "metadata": {
    "tags": []
   },
   "outputs": [],
   "source": [
    "underlying_embeddings = OpenAIEmbeddings()\n",
    "embedder = CacheBackedEmbeddings.from_bytes_store(\n",
    "    underlying_embeddings, store, namespace=underlying_embeddings.model\n",
    ")"
   ]
  },
  {
   "cell_type": "code",
   "execution_count": 6,
   "id": "682eb5d4-0b7a-4dac-b8fb-3de4ca6e421c",
   "metadata": {
    "tags": []
   },
   "outputs": [
    {
     "name": "stdout",
     "output_type": "stream",
     "text": [
      "CPU times: user 390 ms, sys: 47.8 ms, total: 438 ms\n",
      "Wall time: 857 ms\n"
     ]
    }
   ],
   "source": [
    "%%time\n",
    "embeddings = embedder.embed_documents([\"hello\", \"goodbye\"])"
   ]
  },
  {
   "cell_type": "markdown",
   "id": "95233026-147f-49d1-bd87-e1e8b88ebdbc",
   "metadata": {},
   "source": [
    "The second time we try to embed the embedding time is only 2 ms because the embeddings are looked up in the cache."
   ]
  },
  {
   "cell_type": "code",
   "execution_count": 7,
   "id": "f819c3ff-a212-4d06-a5f7-5eb1435c1feb",
   "metadata": {
    "tags": []
   },
   "outputs": [
    {
     "name": "stdout",
     "output_type": "stream",
     "text": [
      "CPU times: user 1.5 ms, sys: 576 µs, total: 2.08 ms\n",
      "Wall time: 2.09 ms\n"
     ]
    }
   ],
   "source": [
    "%%time\n",
    "embeddings_from_cache = embedder.embed_documents([\"hello\", \"goodbye\"])"
   ]
  },
  {
   "cell_type": "code",
   "execution_count": 8,
   "id": "ec38fb72-90a9-4687-a483-c62c87d1f4dd",
   "metadata": {
    "tags": []
   },
   "outputs": [
    {
     "data": {
      "text/plain": [
       "True"
      ]
     },
     "execution_count": 8,
     "metadata": {},
     "output_type": "execute_result"
    }
   ],
   "source": [
    "embeddings == embeddings_from_cache"
   ]
  },
  {
   "cell_type": "markdown",
   "id": "f6cbe100-8587-4830-b207-fb8b524a9854",
   "metadata": {},
   "source": [
    "## File system\n",
    "\n",
    "This section covers how to use a file system store."
   ]
  },
  {
   "cell_type": "code",
   "execution_count": 9,
   "id": "a0070271-0809-4528-97e0-2a88216846f3",
   "metadata": {
    "tags": []
   },
   "outputs": [],
   "source": [
    "fs = LocalFileStore(\"./cache/\")"
   ]
  },
  {
   "cell_type": "code",
   "execution_count": 10,
   "id": "0b20e9fe-f57f-4d7c-9f81-105c5f8726f4",
   "metadata": {
    "tags": []
   },
   "outputs": [],
   "source": [
    "embedder2 = CacheBackedEmbeddings.from_bytes_store(\n",
    "    underlying_embeddings, fs, namespace=underlying_embeddings.model\n",
    ")"
   ]
  },
  {
   "cell_type": "code",
   "execution_count": 11,
   "id": "630515fd-bf5c-4d9c-a404-9705308f3a2c",
   "metadata": {
    "tags": []
   },
   "outputs": [
    {
     "name": "stdout",
     "output_type": "stream",
     "text": [
      "CPU times: user 3.51 ms, sys: 0 ns, total: 3.51 ms\n",
      "Wall time: 3.09 ms\n"
     ]
    }
   ],
   "source": [
    "%%time\n",
    "embeddings = embedder2.embed_documents([\"hello\", \"goodbye\"])"
   ]
  },
  {
   "cell_type": "code",
   "execution_count": 12,
   "id": "30e6bb87-42c9-4d08-88ac-0d22c9c449a1",
   "metadata": {
    "tags": []
   },
   "outputs": [
    {
     "name": "stdout",
     "output_type": "stream",
     "text": [
      "CPU times: user 2.26 ms, sys: 708 µs, total: 2.97 ms\n",
      "Wall time: 2.5 ms\n"
     ]
    }
   ],
   "source": [
    "%%time\n",
    "embeddings = embedder2.embed_documents([\"hello\", \"goodbye\"])"
   ]
  },
  {
   "cell_type": "markdown",
   "id": "12ed5a45-8352-4e0f-8583-5537397f53c0",
   "metadata": {},
   "source": [
    "Here are the embeddings that have been persisted to the directory `./cache`. \n",
    "\n",
    "Notice that the embedder takes a namespace parameter."
   ]
  },
  {
   "cell_type": "code",
   "execution_count": 13,
   "id": "658e2914-05e9-44a3-a8fe-3fe17ca84039",
   "metadata": {},
   "outputs": [
    {
     "data": {
      "text/plain": [
       "['text-embedding-ada-002614d7cf6-46f1-52fa-9d3a-740c39e7a20e',\n",
       " 'text-embedding-ada-0020fc1ede2-407a-5e14-8f8f-5642214263f5',\n",
       " 'text-embedding-ada-002e885db5b-c0bd-5fbc-88b1-4d1da6020aa5',\n",
       " 'text-embedding-ada-002e4ad20ef-dfaa-5916-9459-f90c6d8e8159',\n",
       " 'text-embedding-ada-002a5ef11e4-0474-5725-8d80-81c91943b37f',\n",
       " 'text-embedding-ada-00281426526-23fe-58be-9e84-6c7c72c8ca9a',\n",
       " 'text-embedding-ada-00217a6727d-8916-54eb-b196-ec9c9d6ca472',\n",
       " 'text-embedding-ada-002305efb5c-3f01-5657-bcf2-2b92fb1747ca',\n",
       " 'text-embedding-ada-002704c76af-3696-5383-9858-6585616669ef',\n",
       " 'text-embedding-ada-0029c15af4c-0e3b-5020-926f-752f448be568',\n",
       " 'text-embedding-ada-00201dbc21f-5e4c-5fb5-8d13-517dbe7a32d4',\n",
       " 'text-embedding-ada-0028061c36f-1bb7-5be5-9de2-afbed11ff5f2',\n",
       " 'text-embedding-ada-0025990258b-0781-5651-8444-c69cb5b6da3d',\n",
       " 'text-embedding-ada-002b793db35-a909-5ba0-8c51-314dc776017d',\n",
       " 'text-embedding-ada-002b35583f7-c036-5cae-b60b-394754b7d149',\n",
       " 'text-embedding-ada-0021297d37a-2bc1-5e19-bf13-6c950f075062',\n",
       " 'text-embedding-ada-002812fdf9a-5fca-504e-9890-b93dd6a8b22c',\n",
       " 'text-embedding-ada-002a11929e8-e117-5e77-b367-1e12dc3b44b0',\n",
       " 'text-embedding-ada-002059eb9ff-c4c8-5ceb-8bf9-0d3d02a92b44',\n",
       " 'text-embedding-ada-002e63d3826-4fe9-5f42-bb1d-393b148383ba',\n",
       " 'text-embedding-ada-0023f32125d-8e2c-5e8f-8ea1-0e4fe633c9f5',\n",
       " 'text-embedding-ada-0025fc0d904-bd80-52da-95c9-441015bfb438',\n",
       " 'text-embedding-ada-002abeef673-2b2a-5614-b612-d4ff3ef54c23',\n",
       " 'text-embedding-ada-0025ba09d7e-6a58-5c76-b038-5d8636e5ea25',\n",
       " 'text-embedding-ada-002464862c8-03d2-5854-b32c-65a075e612a2',\n",
       " 'text-embedding-ada-0021d203ac6-0e5c-5e99-9c20-884b3206ba18',\n",
       " 'text-embedding-ada-002ed934225-a8bf-5fde-98b4-844cd841c041',\n",
       " 'text-embedding-ada-0026ba52e44-59c9-5cc9-a084-284061b13c80',\n",
       " 'text-embedding-ada-00261d8953c-db8d-5c66-9b74-9cdfc9dd8089',\n",
       " 'text-embedding-ada-002280a9fbe-0d67-50df-9796-d781d74a0ea4',\n",
       " 'text-embedding-ada-00224610cdc-5e53-577d-8142-5f9c16afbd22',\n",
       " 'text-embedding-ada-0022b51a7dd-babe-5c36-8930-3baa92a1130a',\n",
       " 'text-embedding-ada-00287e9d490-3926-58e1-9159-0e0280d7c266',\n",
       " 'text-embedding-ada-002fb1e9c39-799f-590a-8ceb-4ee39793d18c',\n",
       " 'text-embedding-ada-0023f7b9f1f-79ae-55e3-966a-d0ec952476ed',\n",
       " 'text-embedding-ada-002ed199159-c1cd-5597-9757-f80498e8f17b',\n",
       " 'text-embedding-ada-0024e5734dd-6470-5d9e-a7b8-468ebc563c4e',\n",
       " 'text-embedding-ada-002f95efe7b-65ad-587b-93f2-e76fb91511ec',\n",
       " 'text-embedding-ada-002a0a3f526-9883-5998-9062-974c42470389',\n",
       " 'text-embedding-ada-002b4af1c6d-dce3-5a2c-90fc-4df7f5bb3e5a',\n",
       " 'text-embedding-ada-002deb2fdfe-f777-5739-bf8e-6ab5bc4b97bb',\n",
       " 'text-embedding-ada-0026d6cb8fc-721a-5a4c-bfe9-c83d2920c2bb',\n",
       " 'text-embedding-ada-00220c8f906-bea3-5e8c-b01a-e5ecfa990007',\n",
       " 'text-embedding-ada-002e0a36554-0f77-5b95-b300-469780b62d25']"
      ]
     },
     "execution_count": 13,
     "metadata": {},
     "output_type": "execute_result"
    }
   ],
   "source": [
    "list(fs.yield_keys())"
   ]
  },
  {
   "cell_type": "markdown",
   "id": "cd5f5a96-6ffa-429d-aa82-00b3f6532871",
   "metadata": {},
   "source": [
    "## Redis Store\n",
    "\n"
   ]
  },
  {
   "cell_type": "code",
   "execution_count": 19,
   "id": "4879c134-141f-48a0-acfe-7d6f30253af0",
   "metadata": {},
   "outputs": [],
   "source": [
    "from langchain.storage import RedisStore"
   ]
  },
  {
   "cell_type": "code",
   "execution_count": 28,
   "id": "8b2bb9a0-6549-4487-8532-29ab4ab7336f",
   "metadata": {},
   "outputs": [],
   "source": [
    "# For cache isolation can use a separate DB\n",
    "# Or additional namepace\n",
    "store = RedisStore(redis_url=\"redis://localhost:6379\", client_kwargs={'db': 2}, namespace='embedding_caches')\n",
    "\n",
    "underlying_embeddings = OpenAIEmbeddings()\n",
    "embedder = CacheBackedEmbeddings.from_bytes_store(\n",
    "    underlying_embeddings, store, namespace=underlying_embeddings.model\n",
    ")"
   ]
  },
  {
   "cell_type": "code",
   "execution_count": 29,
   "id": "eca3cb99-2bb3-49d5-81f9-1dee03da4b8c",
   "metadata": {},
   "outputs": [
    {
     "name": "stdout",
     "output_type": "stream",
     "text": [
      "CPU times: user 5.71 ms, sys: 6.53 ms, total: 12.2 ms\n",
      "Wall time: 599 ms\n"
     ]
    }
   ],
   "source": [
    "%%time\n",
    "embeddings = embedder.embed_documents([\"hello\", \"goodbye\"])"
   ]
  },
  {
   "cell_type": "code",
   "execution_count": 30,
   "id": "317ba5d8-89f9-462c-b807-ad4ef26e518b",
   "metadata": {},
   "outputs": [
    {
     "name": "stdout",
     "output_type": "stream",
     "text": [
      "CPU times: user 3.36 ms, sys: 0 ns, total: 3.36 ms\n",
      "Wall time: 2.99 ms\n"
     ]
    }
   ],
   "source": [
    "%%time\n",
    "embeddings = embedder.embed_documents([\"hello\", \"goodbye\"])"
   ]
  },
  {
   "cell_type": "code",
   "execution_count": 31,
   "id": "8a540317-5142-4491-9062-a097932b56e3",
   "metadata": {},
   "outputs": [
    {
     "data": {
      "text/plain": [
       "['text-embedding-ada-002e885db5b-c0bd-5fbc-88b1-4d1da6020aa5',\n",
       " 'text-embedding-ada-0026ba52e44-59c9-5cc9-a084-284061b13c80']"
      ]
     },
     "execution_count": 31,
     "metadata": {},
     "output_type": "execute_result"
    }
   ],
   "source": [
    "list(store.yield_keys())"
   ]
  },
  {
   "cell_type": "code",
   "execution_count": 34,
   "id": "cd9b0d4a-f816-4dce-9dde-cde1ad9a65fb",
   "metadata": {},
   "outputs": [
    {
     "data": {
      "text/plain": [
       "[b'embedding_caches/text-embedding-ada-002e885db5b-c0bd-5fbc-88b1-4d1da6020aa5',\n",
       " b'text-embedding-ada-0026ba52e44-59c9-5cc9-a084-284061b13c80',\n",
       " b'embedding_caches/text-embedding-ada-0026ba52e44-59c9-5cc9-a084-284061b13c80',\n",
       " b'text-embedding-ada-002e885db5b-c0bd-5fbc-88b1-4d1da6020aa5']"
      ]
     },
     "execution_count": 34,
     "metadata": {},
     "output_type": "execute_result"
    }
   ],
   "source": [
    "list(store.client.scan_iter())"
   ]
  },
  {
   "cell_type": "markdown",
   "id": "c67f8e97-4851-4e26-ab6f-3418b0188dc4",
   "metadata": {},
   "source": [
    "## Using with a vectorstore\n",
    "\n",
    "Let's see this cache in action with the FAISS vectorstore."
   ]
  },
  {
   "cell_type": "code",
   "execution_count": 37,
   "id": "9e4314d8-88ef-4f52-81ae-0be771168bb6",
   "metadata": {},
   "outputs": [],
   "source": [
    "from langchain.document_loaders import TextLoader\n",
    "from langchain.embeddings.openai import OpenAIEmbeddings\n",
    "from langchain.text_splitter import CharacterTextSplitter\n",
    "from langchain.vectorstores import FAISS"
   ]
  },
  {
   "cell_type": "code",
   "execution_count": 38,
   "id": "30743664-38f5-425d-8216-772b64e7f348",
   "metadata": {},
   "outputs": [],
   "source": [
    "fs = LocalFileStore(\"./cache/\")\n",
    "\n",
    "cached_embedder = CacheBackedEmbeddings.from_bytes_store(\n",
    "    OpenAIEmbeddings(), fs, namespace=underlying_embeddings.model\n",
    ")"
   ]
  },
  {
   "cell_type": "markdown",
   "id": "06a6f305-724f-4b71-adef-be0169f61381",
   "metadata": {},
   "source": [
    "The cache is empty prior to embedding"
   ]
  },
  {
   "cell_type": "code",
   "execution_count": 39,
   "id": "f9ad627f-ced2-4277-b336-2434f22f2c8a",
   "metadata": {},
   "outputs": [
    {
     "data": {
      "text/plain": [
       "['text-embedding-ada-002614d7cf6-46f1-52fa-9d3a-740c39e7a20e',\n",
       " 'text-embedding-ada-0020fc1ede2-407a-5e14-8f8f-5642214263f5',\n",
       " 'text-embedding-ada-002e885db5b-c0bd-5fbc-88b1-4d1da6020aa5',\n",
       " 'text-embedding-ada-002e4ad20ef-dfaa-5916-9459-f90c6d8e8159',\n",
       " 'text-embedding-ada-002a5ef11e4-0474-5725-8d80-81c91943b37f',\n",
       " 'text-embedding-ada-00281426526-23fe-58be-9e84-6c7c72c8ca9a',\n",
       " 'text-embedding-ada-00217a6727d-8916-54eb-b196-ec9c9d6ca472',\n",
       " 'text-embedding-ada-002305efb5c-3f01-5657-bcf2-2b92fb1747ca',\n",
       " 'text-embedding-ada-002704c76af-3696-5383-9858-6585616669ef',\n",
       " 'text-embedding-ada-0029c15af4c-0e3b-5020-926f-752f448be568',\n",
       " 'text-embedding-ada-00201dbc21f-5e4c-5fb5-8d13-517dbe7a32d4',\n",
       " 'text-embedding-ada-0028061c36f-1bb7-5be5-9de2-afbed11ff5f2',\n",
       " 'text-embedding-ada-0025990258b-0781-5651-8444-c69cb5b6da3d',\n",
       " 'text-embedding-ada-002b793db35-a909-5ba0-8c51-314dc776017d',\n",
       " 'text-embedding-ada-002b35583f7-c036-5cae-b60b-394754b7d149',\n",
       " 'text-embedding-ada-0021297d37a-2bc1-5e19-bf13-6c950f075062',\n",
       " 'text-embedding-ada-002812fdf9a-5fca-504e-9890-b93dd6a8b22c',\n",
       " 'text-embedding-ada-002a11929e8-e117-5e77-b367-1e12dc3b44b0',\n",
       " 'text-embedding-ada-002059eb9ff-c4c8-5ceb-8bf9-0d3d02a92b44',\n",
       " 'text-embedding-ada-002e63d3826-4fe9-5f42-bb1d-393b148383ba',\n",
       " 'text-embedding-ada-0023f32125d-8e2c-5e8f-8ea1-0e4fe633c9f5',\n",
       " 'text-embedding-ada-0025fc0d904-bd80-52da-95c9-441015bfb438',\n",
       " 'text-embedding-ada-002abeef673-2b2a-5614-b612-d4ff3ef54c23',\n",
       " 'text-embedding-ada-0025ba09d7e-6a58-5c76-b038-5d8636e5ea25',\n",
       " 'text-embedding-ada-002464862c8-03d2-5854-b32c-65a075e612a2',\n",
       " 'text-embedding-ada-0021d203ac6-0e5c-5e99-9c20-884b3206ba18',\n",
       " 'text-embedding-ada-002ed934225-a8bf-5fde-98b4-844cd841c041',\n",
       " 'text-embedding-ada-0026ba52e44-59c9-5cc9-a084-284061b13c80',\n",
       " 'text-embedding-ada-00261d8953c-db8d-5c66-9b74-9cdfc9dd8089',\n",
       " 'text-embedding-ada-002280a9fbe-0d67-50df-9796-d781d74a0ea4',\n",
       " 'text-embedding-ada-00224610cdc-5e53-577d-8142-5f9c16afbd22',\n",
       " 'text-embedding-ada-0022b51a7dd-babe-5c36-8930-3baa92a1130a',\n",
       " 'text-embedding-ada-00287e9d490-3926-58e1-9159-0e0280d7c266',\n",
       " 'text-embedding-ada-002fb1e9c39-799f-590a-8ceb-4ee39793d18c',\n",
       " 'text-embedding-ada-0023f7b9f1f-79ae-55e3-966a-d0ec952476ed',\n",
       " 'text-embedding-ada-002ed199159-c1cd-5597-9757-f80498e8f17b',\n",
       " 'text-embedding-ada-0024e5734dd-6470-5d9e-a7b8-468ebc563c4e',\n",
       " 'text-embedding-ada-002f95efe7b-65ad-587b-93f2-e76fb91511ec',\n",
       " 'text-embedding-ada-002a0a3f526-9883-5998-9062-974c42470389',\n",
       " 'text-embedding-ada-002b4af1c6d-dce3-5a2c-90fc-4df7f5bb3e5a',\n",
       " 'text-embedding-ada-002deb2fdfe-f777-5739-bf8e-6ab5bc4b97bb',\n",
       " 'text-embedding-ada-0026d6cb8fc-721a-5a4c-bfe9-c83d2920c2bb',\n",
       " 'text-embedding-ada-00220c8f906-bea3-5e8c-b01a-e5ecfa990007',\n",
       " 'text-embedding-ada-002e0a36554-0f77-5b95-b300-469780b62d25']"
      ]
     },
     "execution_count": 39,
     "metadata": {},
     "output_type": "execute_result"
    }
   ],
   "source": [
    "list(fs.yield_keys())"
   ]
  },
  {
   "cell_type": "markdown",
   "id": "5814aa9c-e8e4-4079-accf-53c49615971e",
   "metadata": {},
   "source": [
    "Load the document, split it into chunks, embed each chunk and load it into the vector store."
   ]
  },
  {
   "cell_type": "code",
   "execution_count": 30,
   "id": "cf958ac2-e60e-4668-b32c-8bb2d78b3c61",
   "metadata": {},
   "outputs": [],
   "source": [
    "raw_documents = TextLoader(\"../state_of_the_union.txt\").load()\n",
    "text_splitter = CharacterTextSplitter(chunk_size=1000, chunk_overlap=0)\n",
    "documents = text_splitter.split_documents(raw_documents)"
   ]
  },
  {
   "cell_type": "markdown",
   "id": "fc433fec-ab64-4f11-ae8b-fc3dd76cd79a",
   "metadata": {},
   "source": [
    "create the vectorstore"
   ]
  },
  {
   "cell_type": "code",
   "execution_count": 31,
   "id": "3a1d7bb8-3b72-4bb5-9013-cf7729caca61",
   "metadata": {},
   "outputs": [
    {
     "name": "stdout",
     "output_type": "stream",
     "text": [
      "CPU times: user 33.3 ms, sys: 275 µs, total: 33.6 ms\n",
      "Wall time: 33 ms\n"
     ]
    }
   ],
   "source": [
    "%%time\n",
    "db = FAISS.from_documents(documents, cached_embedder)"
   ]
  },
  {
   "cell_type": "markdown",
   "id": "c94a734c-fa66-40ce-8610-12b00b7df334",
   "metadata": {},
   "source": [
    "If we try to create the vectostore again, it'll be much faster since it does not need to re-compute any embeddings."
   ]
  },
  {
   "cell_type": "code",
   "execution_count": 32,
   "id": "714cb2e2-77ba-41a8-bb83-84e75342af2d",
   "metadata": {},
   "outputs": [
    {
     "name": "stdout",
     "output_type": "stream",
     "text": [
      "CPU times: user 28.5 ms, sys: 4.11 ms, total: 32.6 ms\n",
      "Wall time: 31.7 ms\n"
     ]
    }
   ],
   "source": [
    "%%time\n",
    "db2 = FAISS.from_documents(documents, cached_embedder)"
   ]
  },
  {
   "cell_type": "markdown",
   "id": "93d37b2a-5406-4e2c-b786-869e2430d19d",
   "metadata": {},
   "source": [
    "And here are some of the embeddings that got created:"
   ]
  },
  {
   "cell_type": "code",
   "execution_count": 33,
   "id": "f2ca32dd-3712-4093-942b-4122f3dc8a8e",
   "metadata": {},
   "outputs": [
    {
     "data": {
      "text/plain": [
       "['text-embedding-ada-002614d7cf6-46f1-52fa-9d3a-740c39e7a20e',\n",
       " 'text-embedding-ada-0020fc1ede2-407a-5e14-8f8f-5642214263f5',\n",
       " 'text-embedding-ada-002e885db5b-c0bd-5fbc-88b1-4d1da6020aa5',\n",
       " 'text-embedding-ada-002e4ad20ef-dfaa-5916-9459-f90c6d8e8159',\n",
       " 'text-embedding-ada-002a5ef11e4-0474-5725-8d80-81c91943b37f']"
      ]
     },
     "execution_count": 33,
     "metadata": {},
     "output_type": "execute_result"
    }
   ],
   "source": [
    "list(fs.yield_keys())[:5]"
   ]
  }
 ],
 "metadata": {
  "kernelspec": {
   "display_name": "Python 3 (ipykernel)",
   "language": "python",
   "name": "python3"
  },
  "language_info": {
   "codemirror_mode": {
    "name": "ipython",
    "version": 3
   },
   "file_extension": ".py",
   "mimetype": "text/x-python",
   "name": "python",
   "nbconvert_exporter": "python",
   "pygments_lexer": "ipython3",
   "version": "3.9.10"
  }
 },
 "nbformat": 4,
 "nbformat_minor": 5
}
