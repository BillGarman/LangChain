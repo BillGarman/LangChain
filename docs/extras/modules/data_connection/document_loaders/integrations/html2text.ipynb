{
 "cells": [
  {
   "cell_type": "markdown",
   "id": "e229e34c",
   "metadata": {},
   "source": [
    "# html2text\n",
    "\n",
    "[html2text](https://github.com/Alir3z4/html2text/) is a Python script that converts a page of HTML into clean, easy-to-read plain ASCII text. \n",
    "\n",
    "The ASCII also happens to be valid Markdown (a text-to-HTML format)."
   ]
  },
  {
   "cell_type": "code",
   "execution_count": null,
   "id": "89708a68",
   "metadata": {},
   "outputs": [],
   "source": [
    "! pip install html2text"
   ]
  },
  {
   "cell_type": "code",
   "execution_count": 2,
   "id": "4c8e4dab",
   "metadata": {},
   "outputs": [],
   "source": [
    "from langchain.document_loaders import HTML2TextLoader"
   ]
  },
  {
   "cell_type": "code",
   "execution_count": 3,
   "id": "e76b5ddc",
   "metadata": {},
   "outputs": [
    {
     "name": "stderr",
     "output_type": "stream",
     "text": [
      "Fetching pages: 100%|########################################################################################################################################| 2/2 [00:00<00:00, 10.23it/s]\n"
     ]
    }
   ],
   "source": [
    "urls = [\"https://www.espn.com\", \"https://lilianweng.github.io/posts/2023-06-23-agent/\"]\n",
    "loader = HTML2TextLoader(urls)\n",
    "docs = loader.load()"
   ]
  },
  {
   "cell_type": "code",
   "execution_count": 9,
   "id": "5dca1c0c",
   "metadata": {},
   "outputs": [
    {
     "data": {
      "text/plain": [
       "\"  * ESPNFC\\n\\n  * X Games\\n\\n  * SEC Network\\n\\n## ESPN Apps\\n\\n  * ESPN\\n\\n  * ESPN Fantasy\\n\\n## Follow ESPN\\n\\n  * Facebook\\n\\n  * Twitter\\n\\n  * Instagram\\n\\n  * Snapchat\\n\\n  * YouTube\\n\\n  * The ESPN Daily Podcast\\n\\n## World Cup Daily: New Zealand's historic win, Sam Kerr injured, more\\n\\nThursday's World Cup opener was historic one as co-hosts New Zealand picked up\\ntheir first ever tournament win. Plus: Sam Kerr injured, Spain are ready and\\nOlympic champs Canada are happy flying under the radar.\\n\\n10hESPN\\n\\nSAEED KHAN/AFP via Getty Images\\n\\n## What you need to know about all 32 teams\\n\\nThe U.S. is defending back-to-back titles. Haiti and Portugal are among the\\nteams making World Cup debuts.\\n\\n2dESPN\\n\\n  * History made as ref announces VAR penalty to NZ\\n\\n  * Odds, picks, futures and betting tips\\n\\nWomen's World Cup 2023: Schedule, teams, venues, more\\n\\n## TOP HEADLINES\\n\\n  * Snyder fined $60M over findings in investigation\\n  * NFL owners approve $6.05B sale of Commanders\\n  * Amateur Lamprecht in 3-way tie for Open \""
      ]
     },
     "execution_count": 9,
     "metadata": {},
     "output_type": "execute_result"
    }
   ],
   "source": [
    "docs[0].page_content[1000:2000]"
   ]
  },
  {
   "cell_type": "code",
   "execution_count": 10,
   "id": "4d024f0f",
   "metadata": {},
   "outputs": [
    {
     "data": {
      "text/plain": [
       "\"t's brain,\\ncomplemented by several key components:\\n\\n  * **Planning**\\n    * Subgoal and decomposition: The agent breaks down large tasks into smaller, manageable subgoals, enabling efficient handling of complex tasks.\\n    * Reflection and refinement: The agent can do self-criticism and self-reflection over past actions, learn from mistakes and refine them for future steps, thereby improving the quality of final results.\\n  * **Memory**\\n    * Short-term memory: I would consider all the in-context learning (See Prompt Engineering) as utilizing short-term memory of the model to learn.\\n    * Long-term memory: This provides the agent with the capability to retain and recall (infinite) information over extended periods, often by leveraging an external vector store and fast retrieval.\\n  * **Tool use**\\n    * The agent learns to call external APIs for extra information that is missing from the model weights (often hard to change after pre-training), including current information, code execution c\""
      ]
     },
     "execution_count": 10,
     "metadata": {},
     "output_type": "execute_result"
    }
   ],
   "source": [
    "docs[1].page_content[1000:2000]"
   ]
  }
 ],
 "metadata": {
  "kernelspec": {
   "display_name": "Python 3 (ipykernel)",
   "language": "python",
   "name": "python3"
  },
  "language_info": {
   "codemirror_mode": {
    "name": "ipython",
    "version": 3
   },
   "file_extension": ".py",
   "mimetype": "text/x-python",
   "name": "python",
   "nbconvert_exporter": "python",
   "pygments_lexer": "ipython3",
   "version": "3.9.16"
  }
 },
 "nbformat": 4,
 "nbformat_minor": 5
}
