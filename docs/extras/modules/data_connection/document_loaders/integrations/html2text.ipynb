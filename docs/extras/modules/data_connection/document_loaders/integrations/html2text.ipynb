{
 "cells": [
  {
   "cell_type": "markdown",
   "id": "e229e34c",
   "metadata": {},
   "source": [
    "# html2text\n",
    "\n",
    "html2text is a Python script that converts a page of HTML into clean, easy-to-read plain ASCII text. \n",
    "\n",
    "Better yet, that ASCII also happens to be valid Markdown (a text-to-HTML format)."
   ]
  },
  {
   "cell_type": "code",
   "execution_count": null,
   "id": "89708a68",
   "metadata": {},
   "outputs": [],
   "source": [
    "! pip install html2text"
   ]
  },
  {
   "cell_type": "code",
   "execution_count": 1,
   "id": "4c8e4dab",
   "metadata": {},
   "outputs": [],
   "source": [
    "from langchain.document_loaders import HTML2TextLoader"
   ]
  },
  {
   "cell_type": "code",
   "execution_count": 2,
   "id": "e76b5ddc",
   "metadata": {},
   "outputs": [],
   "source": [
    "urls = [\"https://www.espn.com\"]\n",
    "loader = HTML2TextLoader(urls)\n",
    "docs = loader.load()"
   ]
  },
  {
   "cell_type": "code",
   "execution_count": 4,
   "id": "5dca1c0c",
   "metadata": {},
   "outputs": [
    {
     "data": {
      "text/plain": [
       "'Skip to main content  Skip to navigation\\n\\n<\\n\\n>\\n\\nMenu\\n\\n## ESPN\\n\\n  * Search\\n\\n  *   * scores\\n\\n  * NFL\\n '"
      ]
     },
     "execution_count": 4,
     "metadata": {},
     "output_type": "execute_result"
    }
   ],
   "source": [
    "docs[0].page_content[0:100]"
   ]
  }
 ],
 "metadata": {
  "kernelspec": {
   "display_name": "Python 3 (ipykernel)",
   "language": "python",
   "name": "python3"
  },
  "language_info": {
   "codemirror_mode": {
    "name": "ipython",
    "version": 3
   },
   "file_extension": ".py",
   "mimetype": "text/x-python",
   "name": "python",
   "nbconvert_exporter": "python",
   "pygments_lexer": "ipython3",
   "version": "3.9.16"
  }
 },
 "nbformat": 4,
 "nbformat_minor": 5
}
