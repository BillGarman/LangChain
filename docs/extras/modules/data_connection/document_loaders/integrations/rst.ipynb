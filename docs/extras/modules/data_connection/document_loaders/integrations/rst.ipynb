{
 "cells": [
  {
   "cell_type": "markdown",
   "id": "1607eb15",
   "metadata": {},
   "source": [
    "# PandocRSTLoader\n",
    "\n",
    "The `PandocRSTLoader` is a document loader that reads a .rst (reStructuredText) file, converts its contents into Markdown format, and wraps it into a Document instance. This loader requires the pypandoc module to be installed in your environment."
   ]
  },
  {
   "cell_type": "markdown",
   "id": "4f6b524e",
   "metadata": {},
   "source": [
    "## Install Dependencies\n",
    "\n",
    "The `PandocRSTLoader` requires the `pypandoc` module, which is a Python wrapper for `pandoc`, the universal document converter. If `pypandoc` is not installed in your environment, you can install it using pip:"
   ]
  },
  {
   "cell_type": "code",
   "execution_count": null,
   "id": "e9bc4e1d",
   "metadata": {},
   "outputs": [],
   "source": [
    "pip install pypandoc"
   ]
  },
  {
   "cell_type": "markdown",
   "id": "54423744",
   "metadata": {},
   "source": [
    "## Import the necessary modules\n",
    "\n",
    "To begin with, you'll need to import the required modules and classes:"
   ]
  },
  {
   "cell_type": "code",
   "execution_count": 5,
   "id": "f1cf6a4e",
   "metadata": {},
   "outputs": [],
   "source": [
    "from langchain.document_loaders import PandocRSTLoader"
   ]
  },
  {
   "cell_type": "markdown",
   "id": "0ac7a29a",
   "metadata": {},
   "source": [
    "## Initialize PandocRSTLoader\n",
    "\n",
    "To initialize the `PandocRSTLoader`, specify the path to the .rst file:"
   ]
  },
  {
   "cell_type": "code",
   "execution_count": 6,
   "id": "dad5d8e7",
   "metadata": {},
   "outputs": [],
   "source": [
    "loader = PandocRSTLoader(file_path=\"./example_data/hello_world.rst\")"
   ]
  },
  {
   "cell_type": "markdown",
   "id": "fe54aeaf",
   "metadata": {},
   "source": [
    "## Load the content\n",
    "\n",
    "To load the content of the .rst file and convert it into a Document object, call the `load()` method:"
   ]
  },
  {
   "cell_type": "code",
   "execution_count": 7,
   "id": "d2c9df31",
   "metadata": {},
   "outputs": [
    {
     "name": "stdout",
     "output_type": "stream",
     "text": [
      "[Document(page_content='Hello, World!\\n=============\\n\\nIntroduction\\n------------\\n\\nThis is an example of a simple reStructuredText (.rst) document. It can\\nbe used for simple text files but is also the default format for\\nPython\\\\\\'s documentation.\\n\\nSections\\n--------\\n\\n### Section 1\\n\\nThis is the first section. It is marked by underlining the section title\\nwith hyphens.\\n\\n### Section 2\\n\\nThis is the second section.\\n\\n#### Subsection 2.1\\n\\nThis is a subsection of section 2. It is marked by underlining the\\nsection title with carets.\\n\\n### Lists\\n\\n-   This is a bullet list\\n-   It has two items\\n\\n### Numbered Lists\\n\\n1.  This is a numbered list\\n2.  It has two items\\n\\n### Hyperlinks\\n\\nYou can create hyperlinks like this: [OpenAI](https://www.openai.com/)\\n\\n### Code Blocks\\n\\nYou can also include code blocks:\\n\\n    def hello_world():\\n        print(\"Hello, world!\")\\n\\nConclusion\\n----------\\n\\nThat\\\\\\'s a brief introduction to reStructuredText!\\n', metadata={'source': './example_data/hello_world.rst', 'file_path': './example_data/hello_world.rst', 'file_name': 'hello_world.rst', 'file_type': '.rst'})]\n"
     ]
    }
   ],
   "source": [
    "docs = loader.load()\n",
    "print(docs)"
   ]
  },
  {
   "cell_type": "markdown",
   "id": "a1909173",
   "metadata": {},
   "source": [
    "The `load()` method returns a list containing the Document instance with the loaded content. This method raises an `ImportError` if the pypandoc module is not installed, or a `FileNotFoundError` if the specified .rst file does not exist."
   ]
  },
  {
   "cell_type": "markdown",
   "id": "eb2d07f3",
   "metadata": {},
   "source": [
    "## Document metadata\n",
    "The Document instance returned by the loader includes the following metadata:\n",
    "\n",
    "- `source`: The path to the .rst file.\n",
    "- `file_path`: The path to the .rst file.\n",
    "- `file_name`: The name of the .rst file.\n",
    "- `file_type`: The \".rst\" file extension."
   ]
  }
 ],
 "metadata": {
  "kernelspec": {
   "display_name": "Python 3 (ipykernel)",
   "language": "python",
   "name": "python3"
  },
  "language_info": {
   "codemirror_mode": {
    "name": "ipython",
    "version": 3
   },
   "file_extension": ".py",
   "mimetype": "text/x-python",
   "name": "python",
   "nbconvert_exporter": "python",
   "pygments_lexer": "ipython3",
   "version": "3.10.6"
  }
 },
 "nbformat": 4,
 "nbformat_minor": 5
}
