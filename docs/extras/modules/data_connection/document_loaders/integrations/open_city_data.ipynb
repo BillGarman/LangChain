{
 "cells": [
  {
   "cell_type": "markdown",
   "id": "9b721926",
   "metadata": {},
   "source": [
    "# Open City Data"
   ]
  },
  {
   "cell_type": "markdown",
   "id": "35c00849",
   "metadata": {},
   "source": [
    "[Socrata](https://dev.socrata.com/foundry/data.sfgov.org/vw6y-z8j6) provides an API for city open data. \n",
    "\n",
    "For a dataset such as [SF crime](https://data.sfgov.org/Public-Safety/Police-Department-Incident-Reports-Historical-2003/tmnf-yvry), to to the `API` tab on top right. \n",
    "\n",
    "That provides you with the `dataset identifier`.\n",
    "\n",
    "Use the dataset identifier to grab specific tables for a given city_id (`data.sfgov.org`) - \n",
    "\n",
    "E.g., `vw6y-z8j6` for [SF 311 data](https://dev.socrata.com/foundry/data.sfgov.org/vw6y-z8j6).\n",
    "\n",
    "E.g., `tmnf-yvry` for [SF Police data](https://dev.socrata.com/foundry/data.sfgov.org/tmnf-yvry)."
   ]
  },
  {
   "cell_type": "code",
   "execution_count": null,
   "id": "c93cc247",
   "metadata": {},
   "outputs": [],
   "source": [
    "! pip install sodapy"
   ]
  },
  {
   "cell_type": "code",
   "execution_count": 1,
   "id": "b3464a02",
   "metadata": {},
   "outputs": [],
   "source": [
    "from langchain.document_loaders import OpenCityDataLoader"
   ]
  },
  {
   "cell_type": "code",
   "execution_count": 2,
   "id": "478c5255",
   "metadata": {},
   "outputs": [],
   "source": [
    "dataset = \"vw6y-z8j6\" # 311 data\n",
    "dataset = \"tmnf-yvry\" # crime data\n",
    "loader = OpenCityDataLoader(city_id=\"data.sfgov.org\",\n",
    "                         dataset_id=dataset,\n",
    "                         limit=2000)"
   ]
  },
  {
   "cell_type": "code",
   "execution_count": 3,
   "id": "fa914fc1",
   "metadata": {},
   "outputs": [
    {
     "name": "stderr",
     "output_type": "stream",
     "text": [
      "WARNING:root:Requests made without an app_token will be subject to strict throttling limits.\n"
     ]
    }
   ],
   "source": [
    "results = loader.load()"
   ]
  },
  {
   "cell_type": "code",
   "execution_count": 6,
   "id": "eb5eda7b",
   "metadata": {
    "scrolled": false
   },
   "outputs": [
    {
     "data": {
      "text/plain": [
       "[Document(page_content='1', metadata={'pdid': '4133422003074', 'incidntnum': '041334220', 'incident_code': '03074', 'category': 'ROBBERY', 'descript': 'ROBBERY, BODILY FORCE', 'dayofweek': 'Monday', 'date': '2004-11-22T00:00:00.000', 'time': '17:50', 'pddistrict': 'INGLESIDE', 'resolution': 'NONE', 'address': 'GENEVA AV / SANTOS ST', 'x': '-122.420084075249', 'y': '37.7083109744362', 'location': {'type': 'Point', 'coordinates': [-122.420084075249, 37.7083109744362]}, ':@computed_region_26cr_cadq': '9', ':@computed_region_rxqg_mtj9': '8', ':@computed_region_bh8s_q3mv': '309', ':@computed_region_6qbp_sg9q': nan, ':@computed_region_qgnn_b9vv': nan, ':@computed_region_ajp5_b2md': nan, ':@computed_region_yftq_j783': nan, ':@computed_region_p5aj_wyqh': nan, ':@computed_region_fyvs_ahh9': nan, ':@computed_region_6pnf_4xz7': nan, ':@computed_region_jwn9_ihcz': nan, ':@computed_region_9dfj_4gjx': nan, ':@computed_region_4isq_27mq': nan, ':@computed_region_pigm_ib2e': nan, ':@computed_region_9jxd_iqea': nan, ':@computed_region_6ezc_tdp2': nan, ':@computed_region_h4ep_8xdi': nan, ':@computed_region_n4xg_c4py': nan, ':@computed_region_fcz8_est8': nan, ':@computed_region_nqbw_i6c3': nan, ':@computed_region_2dwj_jsy4': nan}),\n",
       " Document(page_content='2', metadata={'pdid': '5118535807021', 'incidntnum': '051185358', 'incident_code': '07021', 'category': 'VEHICLE THEFT', 'descript': 'STOLEN AUTOMOBILE', 'dayofweek': 'Tuesday', 'date': '2005-10-18T00:00:00.000', 'time': '20:00', 'pddistrict': 'PARK', 'resolution': 'NONE', 'address': 'TURK ST / STJOSEPHS AV', 'x': '-120.5', 'y': '90', 'location': {'type': 'Point', 'coordinates': [-120.50000000000001, 90]}, ':@computed_region_26cr_cadq': nan, ':@computed_region_rxqg_mtj9': nan, ':@computed_region_bh8s_q3mv': nan, ':@computed_region_6qbp_sg9q': nan, ':@computed_region_qgnn_b9vv': nan, ':@computed_region_ajp5_b2md': nan, ':@computed_region_yftq_j783': nan, ':@computed_region_p5aj_wyqh': nan, ':@computed_region_fyvs_ahh9': nan, ':@computed_region_6pnf_4xz7': nan, ':@computed_region_jwn9_ihcz': nan, ':@computed_region_9dfj_4gjx': nan, ':@computed_region_4isq_27mq': nan, ':@computed_region_pigm_ib2e': nan, ':@computed_region_9jxd_iqea': nan, ':@computed_region_6ezc_tdp2': nan, ':@computed_region_h4ep_8xdi': nan, ':@computed_region_n4xg_c4py': nan, ':@computed_region_fcz8_est8': nan, ':@computed_region_nqbw_i6c3': nan, ':@computed_region_2dwj_jsy4': nan}),\n",
       " Document(page_content='3', metadata={'pdid': '4018830907021', 'incidntnum': '040188309', 'incident_code': '07021', 'category': 'VEHICLE THEFT', 'descript': 'STOLEN AUTOMOBILE', 'dayofweek': 'Sunday', 'date': '2004-02-15T00:00:00.000', 'time': '02:00', 'pddistrict': 'SOUTHERN', 'resolution': 'NONE', 'address': 'BRANNAN ST / 1ST ST', 'x': '-120.5', 'y': '90', 'location': {'type': 'Point', 'coordinates': [-120.50000000000001, 90]}, ':@computed_region_26cr_cadq': nan, ':@computed_region_rxqg_mtj9': nan, ':@computed_region_bh8s_q3mv': nan, ':@computed_region_6qbp_sg9q': nan, ':@computed_region_qgnn_b9vv': nan, ':@computed_region_ajp5_b2md': nan, ':@computed_region_yftq_j783': nan, ':@computed_region_p5aj_wyqh': nan, ':@computed_region_fyvs_ahh9': nan, ':@computed_region_6pnf_4xz7': nan, ':@computed_region_jwn9_ihcz': nan, ':@computed_region_9dfj_4gjx': nan, ':@computed_region_4isq_27mq': nan, ':@computed_region_pigm_ib2e': nan, ':@computed_region_9jxd_iqea': nan, ':@computed_region_6ezc_tdp2': nan, ':@computed_region_h4ep_8xdi': nan, ':@computed_region_n4xg_c4py': nan, ':@computed_region_fcz8_est8': nan, ':@computed_region_nqbw_i6c3': nan, ':@computed_region_2dwj_jsy4': nan})]"
      ]
     },
     "execution_count": 6,
     "metadata": {},
     "output_type": "execute_result"
    }
   ],
   "source": [
    "results[0:3]"
   ]
  }
 ],
 "metadata": {
  "kernelspec": {
   "display_name": "Python 3 (ipykernel)",
   "language": "python",
   "name": "python3"
  },
  "language_info": {
   "codemirror_mode": {
    "name": "ipython",
    "version": 3
   },
   "file_extension": ".py",
   "mimetype": "text/x-python",
   "name": "python",
   "nbconvert_exporter": "python",
   "pygments_lexer": "ipython3",
   "version": "3.9.16"
  }
 },
 "nbformat": 4,
 "nbformat_minor": 5
}
