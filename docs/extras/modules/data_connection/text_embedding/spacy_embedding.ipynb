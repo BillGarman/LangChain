{
 "cells": [
  {
   "cell_type": "code",
   "execution_count": null,
   "metadata": {},
   "outputs": [],
   "source": [
    "# Import the necessary classes\n",
    "from langchain.embeddings.spacy_embeddings import SpacyEmbeddings\n",
    "\n",
    "\n"
   ]
  },
  {
   "cell_type": "code",
   "execution_count": null,
   "metadata": {},
   "outputs": [],
   "source": [
    "# Initialize SpacyEmbeddings\n",
    "# This will load the Spacy model into memory.\n",
    "embedder = SpacyEmbeddings()\n"
   ]
  },
  {
   "cell_type": "code",
   "execution_count": null,
   "metadata": {},
   "outputs": [],
   "source": [
    "\n",
    "# Define some example texts\n",
    "# These could be any documents that you want to analyze - for example, news articles, \n",
    "# social media posts, or product reviews.\n",
    "texts = [\n",
    "    \"The quick brown fox jumps over the lazy dog.\",\n",
    "    \"Pack my box with five dozen liquor jugs.\",\n",
    "    \"How vexingly quick daft zebras jump!\",\n",
    "    \"Bright vixens jump; dozy fowl quack.\"\n",
    "]\n",
    "\n"
   ]
  },
  {
   "cell_type": "code",
   "execution_count": null,
   "metadata": {},
   "outputs": [],
   "source": [
    "# Generate and print embeddings for the texts\n",
    "# The SpacyEmbeddings class generates an embedding for each document, which is a \n",
    "# numerical representation of the document's content. These embeddings can be used \n",
    "# for various natural language processing tasks, such as document similarity \n",
    "# comparison or text classification.\n",
    "embeddings = embedder.embed_documents(texts)\n",
    "for i, embedding in enumerate(embeddings):\n",
    "    print(f\"Embedding for document {i+1}: {embedding}\")\n",
    "\n"
   ]
  },
  {
   "cell_type": "code",
   "execution_count": null,
   "metadata": {},
   "outputs": [],
   "source": [
    "# Generate and print an embedding for a single piece of text\n",
    "# You can also generate an embedding for a single piece of text, such as a search \n",
    "# query. This can be useful for tasks like information retrieval, where you want to \n",
    "# find documents that are similar to a given query.\n",
    "query = \"Quick foxes and lazy dogs.\"\n",
    "query_embedding = embedder.embed_query(query)\n",
    "print(f\"Embedding for query: {query_embedding}\")"
   ]
  }
 ],
 "metadata": {
  "language_info": {
   "name": "python"
  },
  "orig_nbformat": 4
 },
 "nbformat": 4,
 "nbformat_minor": 2
}
