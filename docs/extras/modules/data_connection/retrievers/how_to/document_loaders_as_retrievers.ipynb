{
 "cells": [
  {
   "cell_type": "markdown",
   "id": "63e8e6be-f949-4e14-8be9-19036a77cb70",
   "metadata": {},
   "source": [
    "# Document loaders as retrievers"
   ]
  },
  {
   "cell_type": "markdown",
   "id": "7dbfd014-ea54-445b-ab20-ba4950e60860",
   "metadata": {},
   "source": [
    "## Concept"
   ]
  },
  {
   "cell_type": "markdown",
   "id": "408282d2-7e32-43a3-8080-a4bef163e7b7",
   "metadata": {},
   "source": [
    "Retriever is very similar to the Document loader.\n",
    "\n",
    "Usually, document loaders are used for downloading many documents but retrievers are used for downloading small amount of documents. That is the biggest difference.\n",
    "\n",
    "Retrievers use `query` in every retrieve function. Document loaders use `query` only optionally because they targets a big amoung of downloaded documents.\n",
    "\n",
    "That's why Document loader defines a `query` also as an attribute, not as an argument for every function. A `query` as the function argument has a priotiy to the `query` class attribute if both are declared."
   ]
  },
  {
   "cell_type": "markdown",
   "id": "a9ab107d-d6ff-4e87-aede-d1202cb778c9",
   "metadata": {},
   "source": [
    "## Any Document loader works as a Retriever"
   ]
  },
  {
   "cell_type": "markdown",
   "id": "3b2dd742-c5c6-48f1-9301-6fb6b094e900",
   "metadata": {},
   "source": [
    "If we are going to add a new integration to the LangChain, we don't have to implement the `get_relevant_documents` function for a new Document loader. We just implement the `load` function and this allow us to use `get_relevant_documents`.\n",
    "\n",
    "Any Document loader can be used as a retriever. We just have to make sure that `get_relevant_documents` returns a small number of documents.\n",
    "\n",
    "**Note:** Please, make sure that the document loader is implementing the query semantics and that document loader class is realy using the `query` parameter. \n",
    "Otherwise, the `query` argument in the `get_relevant_documents` is just a placeholder and does not change the downloaded dataset."
   ]
  },
  {
   "cell_type": "markdown",
   "id": "67e76b8b-a7d2-4aac-b6fd-961f33ae5d47",
   "metadata": {},
   "source": [
    "## Example"
   ]
  },
  {
   "cell_type": "code",
   "execution_count": 16,
   "id": "dcbb24f3-c452-4cbc-8b89-01fedf9036e8",
   "metadata": {},
   "outputs": [],
   "source": [
    "from langchain.document_loaders import ArxivLoader"
   ]
  },
  {
   "cell_type": "markdown",
   "id": "53d53251-dd4e-4868-927e-81fcfb444b1d",
   "metadata": {},
   "source": [
    "Let's use our `ArxivLoader` directly as the Document loader. \n",
    "\n",
    "**Note:** The `ArxivLoader` is using the `query` parameter for downloading documents."
   ]
  },
  {
   "cell_type": "code",
   "execution_count": 21,
   "id": "7e262086-0795-4781-b9df-03129270832b",
   "metadata": {},
   "outputs": [],
   "source": [
    "loader = ArxivLoader(query=\"1605.08386\", load_max_docs=2)"
   ]
  },
  {
   "cell_type": "code",
   "execution_count": 22,
   "id": "c58b2f41-2f93-4a8e-9ca6-72dfcf854734",
   "metadata": {},
   "outputs": [
    {
     "data": {
      "text/plain": [
       "1"
      ]
     },
     "execution_count": 22,
     "metadata": {},
     "output_type": "execute_result"
    }
   ],
   "source": [
    "docs = loader.load()\n",
    "len(docs)"
   ]
  },
  {
   "cell_type": "code",
   "execution_count": 9,
   "id": "ce1e7e5f-c4f1-4105-a107-ada63935ab1e",
   "metadata": {},
   "outputs": [
    {
     "data": {
      "text/plain": [
       "{'Published': '2016-05-26',\n",
       " 'Title': 'Heat-bath random walks with Markov bases',\n",
       " 'Authors': 'Caprice Stanley, Tobias Windisch',\n",
       " 'Summary': 'Graphs on lattice points are studied whose edges come from a finite set of\\nallowed moves of arbitrary length. We show that the diameter of these graphs on\\nfibers of a fixed integer matrix can be bounded from above by a constant. We\\nthen study the mixing behaviour of heat-bath random walks on these graphs. We\\nalso state explicit conditions on the set of moves so that the heat-bath random\\nwalk, a generalization of the Glauber dynamics, is an expander in fixed\\ndimension.'}"
      ]
     },
     "execution_count": 9,
     "metadata": {},
     "output_type": "execute_result"
    }
   ],
   "source": [
    "docs[0].metadata  # meta-information of the Document"
   ]
  },
  {
   "cell_type": "code",
   "execution_count": 28,
   "id": "1120e6b9-dadd-4e68-ad42-c6a1cff1d7ae",
   "metadata": {},
   "outputs": [
    {
     "data": {
      "text/plain": [
       "'arXiv:1605.08386v1  [math.CO]  26 May 2016\\nHEAT-BATH RANDOM WALKS WITH MARKOV BASES\\nCAPRICE STANLEY AND TOBIAS WINDISCH\\nAbstract. Graphs on lattice points are studied whose edges come from a ﬁnite set of\\nallowed moves of arbitrary length. We show that the diameter of these graphs on ﬁbers of a\\nﬁxed integer matrix can be bounded from above by a constant. We then study the mixing\\nbehaviour of heat-b'"
      ]
     },
     "execution_count": 28,
     "metadata": {},
     "output_type": "execute_result"
    }
   ],
   "source": [
    "docs[0].page_content[:400]  # the Document content"
   ]
  },
  {
   "cell_type": "markdown",
   "id": "eadf341f-f2c5-4a68-8ee8-28888e45b100",
   "metadata": {},
   "source": [
    "But we also can use the `ArxivLoader` as a retriever. \n",
    "\n",
    "For that, we have to use the `query` parameter for every call of the `get_relevant_documents` function:"
   ]
  },
  {
   "cell_type": "code",
   "execution_count": 23,
   "id": "7e1e4cc2-e775-4e93-8065-9b68aa60e8da",
   "metadata": {},
   "outputs": [
    {
     "data": {
      "text/plain": [
       "2"
      ]
     },
     "execution_count": 23,
     "metadata": {},
     "output_type": "execute_result"
    }
   ],
   "source": [
    "retrieved_docs = loader.get_relevant_documents(query='Caprice Stanley')\n",
    "len(retrieved_docs)"
   ]
  },
  {
   "cell_type": "code",
   "execution_count": 26,
   "id": "44d730ce-c91b-4610-ad9d-d0966affcd17",
   "metadata": {},
   "outputs": [
    {
     "data": {
      "text/plain": [
       "{'Published': '2017-10-10',\n",
       " 'Title': 'On Mixing Behavior of a Family of Random Walks Determined by a Linear Recurrence',\n",
       " 'Authors': 'Caprice Stanley, Seth Sullivant',\n",
       " 'Summary': 'We study random walks on the integers mod $G_n$ that are determined by an\\ninteger sequence $\\\\{ G_n \\\\}_{n \\\\geq 1}$ generated by a linear recurrence\\nrelation. Fourier analysis provides explicit formulas to compute the\\neigenvalues of the transition matrices and we use this to bound the mixing time\\nof the random walks.'}"
      ]
     },
     "execution_count": 26,
     "metadata": {},
     "output_type": "execute_result"
    }
   ],
   "source": [
    "retrieved_docs[0].metadata  # meta-information of the Document"
   ]
  },
  {
   "cell_type": "code",
   "execution_count": 27,
   "id": "0c21bb77-d89f-4f56-938b-b84ed346fd46",
   "metadata": {},
   "outputs": [
    {
     "data": {
      "text/plain": [
       "{'Published': '2016-05-26',\n",
       " 'Title': 'Heat-bath random walks with Markov bases',\n",
       " 'Authors': 'Caprice Stanley, Tobias Windisch',\n",
       " 'Summary': 'Graphs on lattice points are studied whose edges come from a finite set of\\nallowed moves of arbitrary length. We show that the diameter of these graphs on\\nfibers of a fixed integer matrix can be bounded from above by a constant. We\\nthen study the mixing behaviour of heat-bath random walks on these graphs. We\\nalso state explicit conditions on the set of moves so that the heat-bath random\\nwalk, a generalization of the Glauber dynamics, is an expander in fixed\\ndimension.'}"
      ]
     },
     "execution_count": 27,
     "metadata": {},
     "output_type": "execute_result"
    }
   ],
   "source": [
    "retrieved_docs[1].metadata  # meta-information of the Document"
   ]
  }
 ],
 "metadata": {
  "kernelspec": {
   "display_name": "Python 3 (ipykernel)",
   "language": "python",
   "name": "python3"
  },
  "language_info": {
   "codemirror_mode": {
    "name": "ipython",
    "version": 3
   },
   "file_extension": ".py",
   "mimetype": "text/x-python",
   "name": "python",
   "nbconvert_exporter": "python",
   "pygments_lexer": "ipython3",
   "version": "3.10.6"
  }
 },
 "nbformat": 4,
 "nbformat_minor": 5
}
