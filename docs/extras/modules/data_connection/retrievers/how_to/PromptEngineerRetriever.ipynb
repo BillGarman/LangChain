{
 "cells": [
  {
   "cell_type": "markdown",
   "id": "8cc82b48",
   "metadata": {},
   "source": [
    "# PromptEngineerRetriever\n",
    "\n",
    "Use an LLM to produce a specified number of altnerative prompts for retrival.\n",
    "\n",
    "Query the retrival with all prompts and return the unique results."
   ]
  },
  {
   "cell_type": "code",
   "execution_count": 3,
   "id": "c2f3f5f2",
   "metadata": {},
   "outputs": [],
   "source": [
    "from langchain.vectorstores import Chroma\n",
    "from langchain.document_loaders import PyPDFLoader\n",
    "from langchain.embeddings.openai import OpenAIEmbeddings\n",
    "from langchain.text_splitter import RecursiveCharacterTextSplitter\n",
    "\n",
    "# Load PDF\n",
    "path=\"/Users/31treehaus/Desktop/AI/deeplearning_ai_final/LanchChain2/Development/\"\n",
    "loaders = [\n",
    "    PyPDFLoader(path+\"docs/cs229_lectures/MachineLearning-Lecture01.pdf\"),\n",
    "    PyPDFLoader(path+\"docs/cs229_lectures/MachineLearning-Lecture02.pdf\"),\n",
    "    PyPDFLoader(path+\"docs/cs229_lectures/MachineLearning-Lecture03.pdf\")\n",
    "]\n",
    "docs = []\n",
    "for loader in loaders:\n",
    "    docs.extend(loader.load())\n",
    "    \n",
    "# Split\n",
    "text_splitter = RecursiveCharacterTextSplitter(chunk_size = 1500,chunk_overlap = 150)\n",
    "splits = text_splitter.split_documents(docs)\n",
    "\n",
    "# VectorDB\n",
    "embedding = OpenAIEmbeddings()\n",
    "vectordb = Chroma.from_documents(documents=splits,embedding=embedding)"
   ]
  },
  {
   "cell_type": "code",
   "execution_count": 4,
   "id": "6542c74b",
   "metadata": {},
   "outputs": [],
   "source": [
    "from langchain.retrievers.prompt_engineer import PromptEngineerRetriever"
   ]
  },
  {
   "cell_type": "code",
   "execution_count": 5,
   "id": "fdb6b1f5",
   "metadata": {},
   "outputs": [],
   "source": [
    "# Run\n",
    "num_queries = 3\n",
    "retriever = PromptEngineerRetriever(vectordb.as_retriever(), num_queries)\n",
    "unique_docs = retriever.get_relevant_documents(question=\"What does the course say about regression?\")"
   ]
  },
  {
   "cell_type": "code",
   "execution_count": 6,
   "id": "2833ce43",
   "metadata": {},
   "outputs": [
    {
     "data": {
      "text/plain": [
       "7"
      ]
     },
     "execution_count": 6,
     "metadata": {},
     "output_type": "execute_result"
    }
   ],
   "source": [
    "len(unique_docs)"
   ]
  }
 ],
 "metadata": {
  "kernelspec": {
   "display_name": "Python 3 (ipykernel)",
   "language": "python",
   "name": "python3"
  },
  "language_info": {
   "codemirror_mode": {
    "name": "ipython",
    "version": 3
   },
   "file_extension": ".py",
   "mimetype": "text/x-python",
   "name": "python",
   "nbconvert_exporter": "python",
   "pygments_lexer": "ipython3",
   "version": "3.9.16"
  }
 },
 "nbformat": 4,
 "nbformat_minor": 5
}
