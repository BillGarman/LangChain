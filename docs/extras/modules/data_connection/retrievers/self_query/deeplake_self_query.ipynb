{
 "cells": [
  {
   "attachments": {},
   "cell_type": "markdown",
   "id": "13afcae7",
   "metadata": {},
   "source": [
    "# DeepLake self-querying \n",
    "\n",
    ">[DeepLake](https://www.activeloop.ai) is a multimodal database for building AI applications.\n",
    "\n",
    "In the notebook we'll demo the `SelfQueryRetriever` wrapped around a DeepLake vector store. "
   ]
  },
  {
   "attachments": {},
   "cell_type": "markdown",
   "id": "68e75fb9",
   "metadata": {},
   "source": [
    "## Creating a DeepLake vectorstore\n",
    "First we'll want to create a DeepLake VectorStore and seed it with some data. We've created a small demo set of documents that contain summaries of movies.\n",
    "\n",
    "NOTE: The self-query retriever requires you to have `lark` installed (`pip install lark`). We also need the `deeplake` package."
   ]
  },
  {
   "cell_type": "code",
   "execution_count": 5,
   "id": "63a8af5b",
   "metadata": {
    "tags": []
   },
   "outputs": [],
   "source": [
    "#!pip install lark"
   ]
  },
  {
   "cell_type": "code",
   "execution_count": 6,
   "id": "2aae7bad",
   "metadata": {},
   "outputs": [
    {
     "name": "stdout",
     "output_type": "stream",
     "text": [
      "Collecting git+https://github.com/activeloopai/deeplake.git@exec_option_autocasting_fix\n",
      "  Cloning https://github.com/activeloopai/deeplake.git (to revision exec_option_autocasting_fix) to /private/var/folders/yp/cn4l5tb13ynbql8tt6d4jv900000gn/T/pip-req-build-4evtetzo\n",
      "  Running command git clone --filter=blob:none --quiet https://github.com/activeloopai/deeplake.git /private/var/folders/yp/cn4l5tb13ynbql8tt6d4jv900000gn/T/pip-req-build-4evtetzo\n",
      "  Running command git checkout -b exec_option_autocasting_fix --track origin/exec_option_autocasting_fix\n",
      "  Switched to a new branch 'exec_option_autocasting_fix'\n",
      "  branch 'exec_option_autocasting_fix' set up to track 'origin/exec_option_autocasting_fix'.\n",
      "  Resolved https://github.com/activeloopai/deeplake.git to commit d1fe7a23f2917dce8f786e623bb12a854e17442c\n",
      "  Preparing metadata (setup.py) ... \u001b[?25ldone\n",
      "\u001b[?25hRequirement already satisfied: numpy in /Users/adilkhansarsen/Documents/work/LangChain/activeloop-langchain/langchain/.venv/lib/python3.11/site-packages (from deeplake==3.6.18) (1.24.4)\n",
      "Requirement already satisfied: pillow in /Users/adilkhansarsen/Documents/work/LangChain/activeloop-langchain/langchain/.venv/lib/python3.11/site-packages (from deeplake==3.6.18) (10.0.0)\n",
      "Requirement already satisfied: boto3 in /Users/adilkhansarsen/Documents/work/LangChain/activeloop-langchain/langchain/.venv/lib/python3.11/site-packages (from deeplake==3.6.18) (1.26.76)\n",
      "Requirement already satisfied: click in /Users/adilkhansarsen/Documents/work/LangChain/activeloop-langchain/langchain/.venv/lib/python3.11/site-packages (from deeplake==3.6.18) (8.1.6)\n",
      "Requirement already satisfied: pathos in /Users/adilkhansarsen/Documents/work/LangChain/activeloop-langchain/langchain/.venv/lib/python3.11/site-packages (from deeplake==3.6.18) (0.3.1)\n",
      "Requirement already satisfied: humbug>=0.3.1 in /Users/adilkhansarsen/Documents/work/LangChain/activeloop-langchain/langchain/.venv/lib/python3.11/site-packages (from deeplake==3.6.18) (0.3.2)\n",
      "Requirement already satisfied: tqdm in /Users/adilkhansarsen/Documents/work/LangChain/activeloop-langchain/langchain/.venv/lib/python3.11/site-packages (from deeplake==3.6.18) (4.65.0)\n",
      "Requirement already satisfied: numcodecs in /Users/adilkhansarsen/Documents/work/LangChain/activeloop-langchain/langchain/.venv/lib/python3.11/site-packages (from deeplake==3.6.18) (0.11.0)\n",
      "Requirement already satisfied: pyjwt in /Users/adilkhansarsen/Documents/work/LangChain/activeloop-langchain/langchain/.venv/lib/python3.11/site-packages (from deeplake==3.6.18) (2.8.0)\n",
      "Requirement already satisfied: aioboto3>=10.4.0 in /Users/adilkhansarsen/Documents/work/LangChain/activeloop-langchain/langchain/.venv/lib/python3.11/site-packages (from deeplake==3.6.18) (11.2.0)\n",
      "Requirement already satisfied: nest_asyncio in /Users/adilkhansarsen/Documents/work/LangChain/activeloop-langchain/langchain/.venv/lib/python3.11/site-packages (from deeplake==3.6.18) (1.5.6)\n",
      "Requirement already satisfied: aiobotocore[boto3]==2.5.0 in /Users/adilkhansarsen/Documents/work/LangChain/activeloop-langchain/langchain/.venv/lib/python3.11/site-packages (from aioboto3>=10.4.0->deeplake==3.6.18) (2.5.0)\n",
      "Requirement already satisfied: botocore<1.29.77,>=1.29.76 in /Users/adilkhansarsen/Documents/work/LangChain/activeloop-langchain/langchain/.venv/lib/python3.11/site-packages (from aiobotocore[boto3]==2.5.0->aioboto3>=10.4.0->deeplake==3.6.18) (1.29.76)\n",
      "Requirement already satisfied: aiohttp>=3.3.1 in /Users/adilkhansarsen/Documents/work/LangChain/activeloop-langchain/langchain/.venv/lib/python3.11/site-packages (from aiobotocore[boto3]==2.5.0->aioboto3>=10.4.0->deeplake==3.6.18) (3.8.5)\n",
      "Requirement already satisfied: wrapt>=1.10.10 in /Users/adilkhansarsen/Documents/work/LangChain/activeloop-langchain/langchain/.venv/lib/python3.11/site-packages (from aiobotocore[boto3]==2.5.0->aioboto3>=10.4.0->deeplake==3.6.18) (1.15.0)\n",
      "Requirement already satisfied: aioitertools>=0.5.1 in /Users/adilkhansarsen/Documents/work/LangChain/activeloop-langchain/langchain/.venv/lib/python3.11/site-packages (from aiobotocore[boto3]==2.5.0->aioboto3>=10.4.0->deeplake==3.6.18) (0.11.0)\n",
      "Requirement already satisfied: jmespath<2.0.0,>=0.7.1 in /Users/adilkhansarsen/Documents/work/LangChain/activeloop-langchain/langchain/.venv/lib/python3.11/site-packages (from boto3->deeplake==3.6.18) (1.0.1)\n",
      "Requirement already satisfied: s3transfer<0.7.0,>=0.6.0 in /Users/adilkhansarsen/Documents/work/LangChain/activeloop-langchain/langchain/.venv/lib/python3.11/site-packages (from boto3->deeplake==3.6.18) (0.6.1)\n",
      "Requirement already satisfied: requests in /Users/adilkhansarsen/Documents/work/LangChain/activeloop-langchain/langchain/.venv/lib/python3.11/site-packages (from humbug>=0.3.1->deeplake==3.6.18) (2.31.0)\n",
      "Requirement already satisfied: entrypoints in /Users/adilkhansarsen/Documents/work/LangChain/activeloop-langchain/langchain/.venv/lib/python3.11/site-packages (from numcodecs->deeplake==3.6.18) (0.4)\n",
      "Requirement already satisfied: ppft>=1.7.6.7 in /Users/adilkhansarsen/Documents/work/LangChain/activeloop-langchain/langchain/.venv/lib/python3.11/site-packages (from pathos->deeplake==3.6.18) (1.7.6.7)\n",
      "Requirement already satisfied: dill>=0.3.7 in /Users/adilkhansarsen/Documents/work/LangChain/activeloop-langchain/langchain/.venv/lib/python3.11/site-packages (from pathos->deeplake==3.6.18) (0.3.7)\n",
      "Requirement already satisfied: pox>=0.3.3 in /Users/adilkhansarsen/Documents/work/LangChain/activeloop-langchain/langchain/.venv/lib/python3.11/site-packages (from pathos->deeplake==3.6.18) (0.3.3)\n",
      "Requirement already satisfied: multiprocess>=0.70.15 in /Users/adilkhansarsen/Documents/work/LangChain/activeloop-langchain/langchain/.venv/lib/python3.11/site-packages (from pathos->deeplake==3.6.18) (0.70.15)\n",
      "Requirement already satisfied: python-dateutil<3.0.0,>=2.1 in /Users/adilkhansarsen/Documents/work/LangChain/activeloop-langchain/langchain/.venv/lib/python3.11/site-packages (from botocore<1.29.77,>=1.29.76->aiobotocore[boto3]==2.5.0->aioboto3>=10.4.0->deeplake==3.6.18) (2.8.2)\n",
      "Requirement already satisfied: urllib3<1.27,>=1.25.4 in /Users/adilkhansarsen/Documents/work/LangChain/activeloop-langchain/langchain/.venv/lib/python3.11/site-packages (from botocore<1.29.77,>=1.29.76->aiobotocore[boto3]==2.5.0->aioboto3>=10.4.0->deeplake==3.6.18) (1.26.16)\n",
      "Requirement already satisfied: charset-normalizer<4,>=2 in /Users/adilkhansarsen/Documents/work/LangChain/activeloop-langchain/langchain/.venv/lib/python3.11/site-packages (from requests->humbug>=0.3.1->deeplake==3.6.18) (3.2.0)\n",
      "Requirement already satisfied: idna<4,>=2.5 in /Users/adilkhansarsen/Documents/work/LangChain/activeloop-langchain/langchain/.venv/lib/python3.11/site-packages (from requests->humbug>=0.3.1->deeplake==3.6.18) (3.4)\n",
      "Requirement already satisfied: certifi>=2017.4.17 in /Users/adilkhansarsen/Documents/work/LangChain/activeloop-langchain/langchain/.venv/lib/python3.11/site-packages (from requests->humbug>=0.3.1->deeplake==3.6.18) (2023.5.7)\n",
      "Requirement already satisfied: attrs>=17.3.0 in /Users/adilkhansarsen/Documents/work/LangChain/activeloop-langchain/langchain/.venv/lib/python3.11/site-packages (from aiohttp>=3.3.1->aiobotocore[boto3]==2.5.0->aioboto3>=10.4.0->deeplake==3.6.18) (23.1.0)\n",
      "Requirement already satisfied: multidict<7.0,>=4.5 in /Users/adilkhansarsen/Documents/work/LangChain/activeloop-langchain/langchain/.venv/lib/python3.11/site-packages (from aiohttp>=3.3.1->aiobotocore[boto3]==2.5.0->aioboto3>=10.4.0->deeplake==3.6.18) (6.0.4)\n",
      "Requirement already satisfied: async-timeout<5.0,>=4.0.0a3 in /Users/adilkhansarsen/Documents/work/LangChain/activeloop-langchain/langchain/.venv/lib/python3.11/site-packages (from aiohttp>=3.3.1->aiobotocore[boto3]==2.5.0->aioboto3>=10.4.0->deeplake==3.6.18) (4.0.2)\n",
      "Requirement already satisfied: yarl<2.0,>=1.0 in /Users/adilkhansarsen/Documents/work/LangChain/activeloop-langchain/langchain/.venv/lib/python3.11/site-packages (from aiohttp>=3.3.1->aiobotocore[boto3]==2.5.0->aioboto3>=10.4.0->deeplake==3.6.18) (1.9.2)\n",
      "Requirement already satisfied: frozenlist>=1.1.1 in /Users/adilkhansarsen/Documents/work/LangChain/activeloop-langchain/langchain/.venv/lib/python3.11/site-packages (from aiohttp>=3.3.1->aiobotocore[boto3]==2.5.0->aioboto3>=10.4.0->deeplake==3.6.18) (1.4.0)\n",
      "Requirement already satisfied: aiosignal>=1.1.2 in /Users/adilkhansarsen/Documents/work/LangChain/activeloop-langchain/langchain/.venv/lib/python3.11/site-packages (from aiohttp>=3.3.1->aiobotocore[boto3]==2.5.0->aioboto3>=10.4.0->deeplake==3.6.18) (1.3.1)\n",
      "Requirement already satisfied: six>=1.5 in /Users/adilkhansarsen/Documents/work/LangChain/activeloop-langchain/langchain/.venv/lib/python3.11/site-packages (from python-dateutil<3.0.0,>=2.1->botocore<1.29.77,>=1.29.76->aiobotocore[boto3]==2.5.0->aioboto3>=10.4.0->deeplake==3.6.18) (1.16.0)\n",
      "\n",
      "\u001b[1m[\u001b[0m\u001b[34;49mnotice\u001b[0m\u001b[1;39;49m]\u001b[0m\u001b[39;49m A new release of pip is available: \u001b[0m\u001b[31;49m23.2\u001b[0m\u001b[39;49m -> \u001b[0m\u001b[32;49m23.2.1\u001b[0m\n",
      "\u001b[1m[\u001b[0m\u001b[34;49mnotice\u001b[0m\u001b[1;39;49m]\u001b[0m\u001b[39;49m To update, run: \u001b[0m\u001b[32;49mpip install --upgrade pip\u001b[0m\n"
     ]
    }
   ],
   "source": [
    "!pip install git+https://github.com/activeloopai/deeplake.git@exec_option_autocasting_fix"
   ]
  },
  {
   "cell_type": "code",
   "execution_count": 1,
   "id": "43821a8e",
   "metadata": {},
   "outputs": [
    {
     "name": "stdout",
     "output_type": "stream",
     "text": [
      "Requirement already satisfied: deeplake[enterprise] in /Users/adilkhansarsen/Documents/work/LangChain/activeloop-langchain/langchain/.venv/lib/python3.11/site-packages (3.6.18)\n",
      "\u001b[33mWARNING: deeplake 3.6.18 does not provide the extra 'enterprise'\u001b[0m\u001b[33m\n",
      "\u001b[0mRequirement already satisfied: numpy in /Users/adilkhansarsen/Documents/work/LangChain/activeloop-langchain/langchain/.venv/lib/python3.11/site-packages (from deeplake[enterprise]) (1.24.4)\n",
      "Requirement already satisfied: pillow in /Users/adilkhansarsen/Documents/work/LangChain/activeloop-langchain/langchain/.venv/lib/python3.11/site-packages (from deeplake[enterprise]) (10.0.0)\n",
      "Requirement already satisfied: boto3 in /Users/adilkhansarsen/Documents/work/LangChain/activeloop-langchain/langchain/.venv/lib/python3.11/site-packages (from deeplake[enterprise]) (1.26.76)\n",
      "Requirement already satisfied: click in /Users/adilkhansarsen/Documents/work/LangChain/activeloop-langchain/langchain/.venv/lib/python3.11/site-packages (from deeplake[enterprise]) (8.1.6)\n",
      "Requirement already satisfied: pathos in /Users/adilkhansarsen/Documents/work/LangChain/activeloop-langchain/langchain/.venv/lib/python3.11/site-packages (from deeplake[enterprise]) (0.3.1)\n",
      "Requirement already satisfied: humbug>=0.3.1 in /Users/adilkhansarsen/Documents/work/LangChain/activeloop-langchain/langchain/.venv/lib/python3.11/site-packages (from deeplake[enterprise]) (0.3.2)\n",
      "Requirement already satisfied: tqdm in /Users/adilkhansarsen/Documents/work/LangChain/activeloop-langchain/langchain/.venv/lib/python3.11/site-packages (from deeplake[enterprise]) (4.65.0)\n",
      "Requirement already satisfied: numcodecs in /Users/adilkhansarsen/Documents/work/LangChain/activeloop-langchain/langchain/.venv/lib/python3.11/site-packages (from deeplake[enterprise]) (0.11.0)\n",
      "Requirement already satisfied: pyjwt in /Users/adilkhansarsen/Documents/work/LangChain/activeloop-langchain/langchain/.venv/lib/python3.11/site-packages (from deeplake[enterprise]) (2.8.0)\n",
      "Requirement already satisfied: aioboto3>=10.4.0 in /Users/adilkhansarsen/Documents/work/LangChain/activeloop-langchain/langchain/.venv/lib/python3.11/site-packages (from deeplake[enterprise]) (11.2.0)\n",
      "Requirement already satisfied: nest-asyncio in /Users/adilkhansarsen/Documents/work/LangChain/activeloop-langchain/langchain/.venv/lib/python3.11/site-packages (from deeplake[enterprise]) (1.5.6)\n",
      "Requirement already satisfied: aiobotocore[boto3]==2.5.0 in /Users/adilkhansarsen/Documents/work/LangChain/activeloop-langchain/langchain/.venv/lib/python3.11/site-packages (from aioboto3>=10.4.0->deeplake[enterprise]) (2.5.0)\n",
      "Requirement already satisfied: botocore<1.29.77,>=1.29.76 in /Users/adilkhansarsen/Documents/work/LangChain/activeloop-langchain/langchain/.venv/lib/python3.11/site-packages (from aiobotocore[boto3]==2.5.0->aioboto3>=10.4.0->deeplake[enterprise]) (1.29.76)\n",
      "Requirement already satisfied: aiohttp>=3.3.1 in /Users/adilkhansarsen/Documents/work/LangChain/activeloop-langchain/langchain/.venv/lib/python3.11/site-packages (from aiobotocore[boto3]==2.5.0->aioboto3>=10.4.0->deeplake[enterprise]) (3.8.5)\n",
      "Requirement already satisfied: wrapt>=1.10.10 in /Users/adilkhansarsen/Documents/work/LangChain/activeloop-langchain/langchain/.venv/lib/python3.11/site-packages (from aiobotocore[boto3]==2.5.0->aioboto3>=10.4.0->deeplake[enterprise]) (1.15.0)\n",
      "Requirement already satisfied: aioitertools>=0.5.1 in /Users/adilkhansarsen/Documents/work/LangChain/activeloop-langchain/langchain/.venv/lib/python3.11/site-packages (from aiobotocore[boto3]==2.5.0->aioboto3>=10.4.0->deeplake[enterprise]) (0.11.0)\n",
      "Requirement already satisfied: jmespath<2.0.0,>=0.7.1 in /Users/adilkhansarsen/Documents/work/LangChain/activeloop-langchain/langchain/.venv/lib/python3.11/site-packages (from boto3->deeplake[enterprise]) (1.0.1)\n",
      "Requirement already satisfied: s3transfer<0.7.0,>=0.6.0 in /Users/adilkhansarsen/Documents/work/LangChain/activeloop-langchain/langchain/.venv/lib/python3.11/site-packages (from boto3->deeplake[enterprise]) (0.6.1)\n",
      "Requirement already satisfied: requests in /Users/adilkhansarsen/Documents/work/LangChain/activeloop-langchain/langchain/.venv/lib/python3.11/site-packages (from humbug>=0.3.1->deeplake[enterprise]) (2.31.0)\n",
      "Requirement already satisfied: entrypoints in /Users/adilkhansarsen/Documents/work/LangChain/activeloop-langchain/langchain/.venv/lib/python3.11/site-packages (from numcodecs->deeplake[enterprise]) (0.4)\n",
      "Requirement already satisfied: ppft>=1.7.6.7 in /Users/adilkhansarsen/Documents/work/LangChain/activeloop-langchain/langchain/.venv/lib/python3.11/site-packages (from pathos->deeplake[enterprise]) (1.7.6.7)\n",
      "Requirement already satisfied: dill>=0.3.7 in /Users/adilkhansarsen/Documents/work/LangChain/activeloop-langchain/langchain/.venv/lib/python3.11/site-packages (from pathos->deeplake[enterprise]) (0.3.7)\n",
      "Requirement already satisfied: pox>=0.3.3 in /Users/adilkhansarsen/Documents/work/LangChain/activeloop-langchain/langchain/.venv/lib/python3.11/site-packages (from pathos->deeplake[enterprise]) (0.3.3)\n",
      "Requirement already satisfied: multiprocess>=0.70.15 in /Users/adilkhansarsen/Documents/work/LangChain/activeloop-langchain/langchain/.venv/lib/python3.11/site-packages (from pathos->deeplake[enterprise]) (0.70.15)\n",
      "Requirement already satisfied: python-dateutil<3.0.0,>=2.1 in /Users/adilkhansarsen/Documents/work/LangChain/activeloop-langchain/langchain/.venv/lib/python3.11/site-packages (from botocore<1.29.77,>=1.29.76->aiobotocore[boto3]==2.5.0->aioboto3>=10.4.0->deeplake[enterprise]) (2.8.2)\n",
      "Requirement already satisfied: urllib3<1.27,>=1.25.4 in /Users/adilkhansarsen/Documents/work/LangChain/activeloop-langchain/langchain/.venv/lib/python3.11/site-packages (from botocore<1.29.77,>=1.29.76->aiobotocore[boto3]==2.5.0->aioboto3>=10.4.0->deeplake[enterprise]) (1.26.16)\n",
      "Requirement already satisfied: charset-normalizer<4,>=2 in /Users/adilkhansarsen/Documents/work/LangChain/activeloop-langchain/langchain/.venv/lib/python3.11/site-packages (from requests->humbug>=0.3.1->deeplake[enterprise]) (3.2.0)\n",
      "Requirement already satisfied: idna<4,>=2.5 in /Users/adilkhansarsen/Documents/work/LangChain/activeloop-langchain/langchain/.venv/lib/python3.11/site-packages (from requests->humbug>=0.3.1->deeplake[enterprise]) (3.4)\n",
      "Requirement already satisfied: certifi>=2017.4.17 in /Users/adilkhansarsen/Documents/work/LangChain/activeloop-langchain/langchain/.venv/lib/python3.11/site-packages (from requests->humbug>=0.3.1->deeplake[enterprise]) (2023.5.7)\n",
      "Requirement already satisfied: attrs>=17.3.0 in /Users/adilkhansarsen/Documents/work/LangChain/activeloop-langchain/langchain/.venv/lib/python3.11/site-packages (from aiohttp>=3.3.1->aiobotocore[boto3]==2.5.0->aioboto3>=10.4.0->deeplake[enterprise]) (23.1.0)\n",
      "Requirement already satisfied: multidict<7.0,>=4.5 in /Users/adilkhansarsen/Documents/work/LangChain/activeloop-langchain/langchain/.venv/lib/python3.11/site-packages (from aiohttp>=3.3.1->aiobotocore[boto3]==2.5.0->aioboto3>=10.4.0->deeplake[enterprise]) (6.0.4)\n",
      "Requirement already satisfied: async-timeout<5.0,>=4.0.0a3 in /Users/adilkhansarsen/Documents/work/LangChain/activeloop-langchain/langchain/.venv/lib/python3.11/site-packages (from aiohttp>=3.3.1->aiobotocore[boto3]==2.5.0->aioboto3>=10.4.0->deeplake[enterprise]) (4.0.2)\n",
      "Requirement already satisfied: yarl<2.0,>=1.0 in /Users/adilkhansarsen/Documents/work/LangChain/activeloop-langchain/langchain/.venv/lib/python3.11/site-packages (from aiohttp>=3.3.1->aiobotocore[boto3]==2.5.0->aioboto3>=10.4.0->deeplake[enterprise]) (1.9.2)\n",
      "Requirement already satisfied: frozenlist>=1.1.1 in /Users/adilkhansarsen/Documents/work/LangChain/activeloop-langchain/langchain/.venv/lib/python3.11/site-packages (from aiohttp>=3.3.1->aiobotocore[boto3]==2.5.0->aioboto3>=10.4.0->deeplake[enterprise]) (1.4.0)\n",
      "Requirement already satisfied: aiosignal>=1.1.2 in /Users/adilkhansarsen/Documents/work/LangChain/activeloop-langchain/langchain/.venv/lib/python3.11/site-packages (from aiohttp>=3.3.1->aiobotocore[boto3]==2.5.0->aioboto3>=10.4.0->deeplake[enterprise]) (1.3.1)\n",
      "Requirement already satisfied: six>=1.5 in /Users/adilkhansarsen/Documents/work/LangChain/activeloop-langchain/langchain/.venv/lib/python3.11/site-packages (from python-dateutil<3.0.0,>=2.1->botocore<1.29.77,>=1.29.76->aiobotocore[boto3]==2.5.0->aioboto3>=10.4.0->deeplake[enterprise]) (1.16.0)\n",
      "\n",
      "\u001b[1m[\u001b[0m\u001b[34;49mnotice\u001b[0m\u001b[1;39;49m]\u001b[0m\u001b[39;49m A new release of pip is available: \u001b[0m\u001b[31;49m23.2\u001b[0m\u001b[39;49m -> \u001b[0m\u001b[32;49m23.2.1\u001b[0m\n",
      "\u001b[1m[\u001b[0m\u001b[34;49mnotice\u001b[0m\u001b[1;39;49m]\u001b[0m\u001b[39;49m To update, run: \u001b[0m\u001b[32;49mpip install --upgrade pip\u001b[0m\n"
     ]
    }
   ],
   "source": [
    "# !pip install -U 'deeplake[enterprise]'"
   ]
  },
  {
   "attachments": {},
   "cell_type": "markdown",
   "id": "83811610-7df3-4ede-b268-68a6a83ba9e2",
   "metadata": {},
   "source": [
    "We want to use `OpenAIEmbeddings` so we have to get the OpenAI API Key."
   ]
  },
  {
   "cell_type": "code",
   "execution_count": 1,
   "id": "dd01b61b-7d32-4a55-85d6-b2d2d4f18840",
   "metadata": {
    "tags": []
   },
   "outputs": [],
   "source": [
    "import os\n",
    "import getpass\n",
    "\n",
    "os.environ[\"OPENAI_API_KEY\"] = getpass.getpass(\"OpenAI API Key:\")\n",
    "os.environ[\"ACTIVELOOP_TOKEN\"] = getpass.getpass(\"Activeloop token:\")"
   ]
  },
  {
   "cell_type": "code",
   "execution_count": 2,
   "id": "cb4a5787",
   "metadata": {
    "tags": []
   },
   "outputs": [],
   "source": [
    "from langchain.schema import Document\n",
    "from langchain.embeddings.openai import OpenAIEmbeddings\n",
    "from langchain.vectorstores import DeepLake\n",
    "\n",
    "embeddings = OpenAIEmbeddings()"
   ]
  },
  {
   "cell_type": "code",
   "execution_count": 5,
   "id": "bcbe04d9",
   "metadata": {
    "tags": []
   },
   "outputs": [
    {
     "name": "stdout",
     "output_type": "stream",
     "text": [
      "Your Deep Lake dataset has been successfully created!\n"
     ]
    },
    {
     "name": "stderr",
     "output_type": "stream",
     "text": [
      "-"
     ]
    },
    {
     "name": "stdout",
     "output_type": "stream",
     "text": [
      "Dataset(path='hub://adilkhan/self_queery', tensors=['embedding', 'id', 'metadata', 'text'])\n",
      "\n",
      "  tensor      htype      shape     dtype  compression\n",
      "  -------    -------    -------   -------  ------- \n",
      " embedding  embedding  (6, 1536)  float32   None   \n",
      "    id        text      (6, 1)      str     None   \n",
      " metadata     json      (6, 1)      str     None   \n",
      "   text       text      (6, 1)      str     None   \n"
     ]
    },
    {
     "name": "stderr",
     "output_type": "stream",
     "text": [
      " \r"
     ]
    }
   ],
   "source": [
    "docs = [\n",
    "    Document(\n",
    "        page_content=\"A bunch of scientists bring back dinosaurs and mayhem breaks loose\",\n",
    "        metadata={\"year\": 1993, \"rating\": 7.7, \"genre\": \"science fiction\"},\n",
    "    ),\n",
    "    Document(\n",
    "        page_content=\"Leo DiCaprio gets lost in a dream within a dream within a dream within a ...\",\n",
    "        metadata={\"year\": 2010, \"director\": \"Christopher Nolan\", \"rating\": 8.2},\n",
    "    ),\n",
    "    Document(\n",
    "        page_content=\"A psychologist / detective gets lost in a series of dreams within dreams within dreams and Inception reused the idea\",\n",
    "        metadata={\"year\": 2006, \"director\": \"Satoshi Kon\", \"rating\": 8.6},\n",
    "    ),\n",
    "    Document(\n",
    "        page_content=\"A bunch of normal-sized women are supremely wholesome and some men pine after them\",\n",
    "        metadata={\"year\": 2019, \"director\": \"Greta Gerwig\", \"rating\": 8.3},\n",
    "    ),\n",
    "    Document(\n",
    "        page_content=\"Toys come alive and have a blast doing so\",\n",
    "        metadata={\"year\": 1995, \"genre\": \"animated\"},\n",
    "    ),\n",
    "    Document(\n",
    "        page_content=\"Three men walk into the Zone, three men walk out of the Zone\",\n",
    "        metadata={\n",
    "            \"year\": 1979,\n",
    "            \"rating\": 9.9,\n",
    "            \"director\": \"Andrei Tarkovsky\",\n",
    "            \"genre\": \"science fiction\",\n",
    "            \"rating\": 9.9,\n",
    "        },\n",
    "    ),\n",
    "]\n",
    "username_or_org = \"adilkhan\"\n",
    "vectorstore = DeepLake.from_documents(\n",
    "    docs, embeddings, dataset_path=f\"hub://{username_or_org}/self_queery\", overwrite=True, runtime={\"tensor_db\": True}\n",
    ")"
   ]
  },
  {
   "attachments": {},
   "cell_type": "markdown",
   "id": "5ecaab6d",
   "metadata": {},
   "source": [
    "## Creating our self-querying retriever\n",
    "Now we can instantiate our retriever. To do this we'll need to provide some information upfront about the metadata fields that our documents support and a short description of the document contents."
   ]
  },
  {
   "cell_type": "code",
   "execution_count": 6,
   "id": "cabdf28d",
   "metadata": {},
   "outputs": [
    {
     "data": {
      "text/plain": [
       "'python'"
      ]
     },
     "execution_count": 6,
     "metadata": {},
     "output_type": "execute_result"
    }
   ],
   "source": [
    "vectorstore.vectorstore.exec_option"
   ]
  },
  {
   "cell_type": "code",
   "execution_count": 10,
   "id": "86e34dbf",
   "metadata": {
    "tags": []
   },
   "outputs": [],
   "source": [
    "from langchain.llms import OpenAI\n",
    "from langchain.retrievers.self_query.base import SelfQueryRetriever\n",
    "from langchain.chains.query_constructor.base import AttributeInfo\n",
    "\n",
    "metadata_field_info = [\n",
    "    AttributeInfo(\n",
    "        name=\"genre\",\n",
    "        description=\"The genre of the movie\",\n",
    "        type=\"string or list[string]\",\n",
    "    ),\n",
    "    AttributeInfo(\n",
    "        name=\"year\",\n",
    "        description=\"The year the movie was released\",\n",
    "        type=\"integer\",\n",
    "    ),\n",
    "    AttributeInfo(\n",
    "        name=\"director\",\n",
    "        description=\"The name of the movie director\",\n",
    "        type=\"string\",\n",
    "    ),\n",
    "    AttributeInfo(\n",
    "        name=\"rating\", description=\"A 1-10 rating for the movie\", type=\"float\"\n",
    "    ),\n",
    "]\n",
    "document_content_description = \"Brief summary of a movie\"\n",
    "llm = OpenAI(temperature=0)\n",
    "retriever = SelfQueryRetriever.from_llm(\n",
    "    llm, vectorstore, document_content_description, metadata_field_info, verbose=True\n",
    ")"
   ]
  },
  {
   "attachments": {},
   "cell_type": "markdown",
   "id": "ea9df8d4",
   "metadata": {},
   "source": [
    "## Testing it out\n",
    "And now we can try actually using our retriever!"
   ]
  },
  {
   "cell_type": "code",
   "execution_count": 11,
   "id": "38a126e9",
   "metadata": {},
   "outputs": [
    {
     "name": "stderr",
     "output_type": "stream",
     "text": [
      "/Users/adilkhansarsen/Documents/work/LangChain/activeloop-langchain/langchain/libs/langchain/langchain/chains/llm.py:275: UserWarning: The predict_and_parse method is deprecated, instead pass an output parser directly to LLMChain.\n",
      "  warnings.warn(\n"
     ]
    },
    {
     "name": "stdout",
     "output_type": "stream",
     "text": [
      "query='dinosaur' filter=None limit=None\n"
     ]
    },
    {
     "data": {
      "text/plain": [
       "[Document(page_content='A bunch of scientists bring back dinosaurs and mayhem breaks loose', metadata={'year': 1993, 'rating': 7.7, 'genre': 'science fiction'}),\n",
       " Document(page_content='A bunch of scientists bring back dinosaurs and mayhem breaks loose', metadata={'year': 1993, 'rating': 7.7, 'genre': 'science fiction'}),\n",
       " Document(page_content='A bunch of scientists bring back dinosaurs and mayhem breaks loose', metadata={'year': 1993, 'rating': 7.7, 'genre': 'science fiction'}),\n",
       " Document(page_content='Toys come alive and have a blast doing so', metadata={'year': 1995, 'genre': 'animated'})]"
      ]
     },
     "execution_count": 11,
     "metadata": {},
     "output_type": "execute_result"
    }
   ],
   "source": [
    "# This example only specifies a relevant query\n",
    "retriever.get_relevant_documents(\"What are some movies about dinosaurs\")"
   ]
  },
  {
   "cell_type": "code",
   "execution_count": 12,
   "id": "fc3f1e6e",
   "metadata": {},
   "outputs": [
    {
     "name": "stdout",
     "output_type": "stream",
     "text": [
      "query=' ' filter=Comparison(comparator=<Comparator.GT: 'gt'>, attribute='rating', value=8.5) limit=None\n"
     ]
    },
    {
     "ename": "ValueError",
     "evalue": "User-specified TQL queries are not support for exec_option=python.",
     "output_type": "error",
     "traceback": [
      "\u001b[0;31m---------------------------------------------------------------------------\u001b[0m",
      "\u001b[0;31mValueError\u001b[0m                                Traceback (most recent call last)",
      "Cell \u001b[0;32mIn[12], line 2\u001b[0m\n\u001b[1;32m      1\u001b[0m \u001b[39m# This example only specifies a filter\u001b[39;00m\n\u001b[0;32m----> 2\u001b[0m retriever\u001b[39m.\u001b[39;49mget_relevant_documents(\u001b[39m\"\u001b[39;49m\u001b[39mI want to watch a movie rated higher than 8.5\u001b[39;49m\u001b[39m\"\u001b[39;49m)\n",
      "File \u001b[0;32m~/Documents/work/LangChain/activeloop-langchain/langchain/libs/langchain/langchain/schema/retriever.py:193\u001b[0m, in \u001b[0;36mBaseRetriever.get_relevant_documents\u001b[0;34m(self, query, callbacks, tags, metadata, **kwargs)\u001b[0m\n\u001b[1;32m    191\u001b[0m \u001b[39mexcept\u001b[39;00m \u001b[39mException\u001b[39;00m \u001b[39mas\u001b[39;00m e:\n\u001b[1;32m    192\u001b[0m     run_manager\u001b[39m.\u001b[39mon_retriever_error(e)\n\u001b[0;32m--> 193\u001b[0m     \u001b[39mraise\u001b[39;00m e\n\u001b[1;32m    194\u001b[0m \u001b[39melse\u001b[39;00m:\n\u001b[1;32m    195\u001b[0m     run_manager\u001b[39m.\u001b[39mon_retriever_end(\n\u001b[1;32m    196\u001b[0m         result,\n\u001b[1;32m    197\u001b[0m         \u001b[39m*\u001b[39m\u001b[39m*\u001b[39mkwargs,\n\u001b[1;32m    198\u001b[0m     )\n",
      "File \u001b[0;32m~/Documents/work/LangChain/activeloop-langchain/langchain/libs/langchain/langchain/schema/retriever.py:186\u001b[0m, in \u001b[0;36mBaseRetriever.get_relevant_documents\u001b[0;34m(self, query, callbacks, tags, metadata, **kwargs)\u001b[0m\n\u001b[1;32m    184\u001b[0m _kwargs \u001b[39m=\u001b[39m kwargs \u001b[39mif\u001b[39;00m \u001b[39mself\u001b[39m\u001b[39m.\u001b[39m_expects_other_args \u001b[39melse\u001b[39;00m {}\n\u001b[1;32m    185\u001b[0m \u001b[39mif\u001b[39;00m \u001b[39mself\u001b[39m\u001b[39m.\u001b[39m_new_arg_supported:\n\u001b[0;32m--> 186\u001b[0m     result \u001b[39m=\u001b[39m \u001b[39mself\u001b[39;49m\u001b[39m.\u001b[39;49m_get_relevant_documents(\n\u001b[1;32m    187\u001b[0m         query, run_manager\u001b[39m=\u001b[39;49mrun_manager, \u001b[39m*\u001b[39;49m\u001b[39m*\u001b[39;49m_kwargs\n\u001b[1;32m    188\u001b[0m     )\n\u001b[1;32m    189\u001b[0m \u001b[39melse\u001b[39;00m:\n\u001b[1;32m    190\u001b[0m     result \u001b[39m=\u001b[39m \u001b[39mself\u001b[39m\u001b[39m.\u001b[39m_get_relevant_documents(query, \u001b[39m*\u001b[39m\u001b[39m*\u001b[39m_kwargs)\n",
      "File \u001b[0;32m~/Documents/work/LangChain/activeloop-langchain/langchain/libs/langchain/langchain/retrievers/self_query/base.py:116\u001b[0m, in \u001b[0;36mSelfQueryRetriever._get_relevant_documents\u001b[0;34m(self, query, run_manager)\u001b[0m\n\u001b[1;32m    113\u001b[0m     new_query \u001b[39m=\u001b[39m query\n\u001b[1;32m    115\u001b[0m search_kwargs \u001b[39m=\u001b[39m {\u001b[39m*\u001b[39m\u001b[39m*\u001b[39m\u001b[39mself\u001b[39m\u001b[39m.\u001b[39msearch_kwargs, \u001b[39m*\u001b[39m\u001b[39m*\u001b[39mnew_kwargs}\n\u001b[0;32m--> 116\u001b[0m docs \u001b[39m=\u001b[39m \u001b[39mself\u001b[39;49m\u001b[39m.\u001b[39;49mvectorstore\u001b[39m.\u001b[39;49msearch(new_query, \u001b[39mself\u001b[39;49m\u001b[39m.\u001b[39;49msearch_type, \u001b[39m*\u001b[39;49m\u001b[39m*\u001b[39;49msearch_kwargs)\n\u001b[1;32m    117\u001b[0m \u001b[39mreturn\u001b[39;00m docs\n",
      "File \u001b[0;32m~/Documents/work/LangChain/activeloop-langchain/langchain/libs/langchain/langchain/vectorstores/base.py:124\u001b[0m, in \u001b[0;36mVectorStore.search\u001b[0;34m(self, query, search_type, **kwargs)\u001b[0m\n\u001b[1;32m    122\u001b[0m \u001b[39m\u001b[39m\u001b[39m\"\"\"Return docs most similar to query using specified search type.\"\"\"\u001b[39;00m\n\u001b[1;32m    123\u001b[0m \u001b[39mif\u001b[39;00m search_type \u001b[39m==\u001b[39m \u001b[39m\"\u001b[39m\u001b[39msimilarity\u001b[39m\u001b[39m\"\u001b[39m:\n\u001b[0;32m--> 124\u001b[0m     \u001b[39mreturn\u001b[39;00m \u001b[39mself\u001b[39;49m\u001b[39m.\u001b[39;49msimilarity_search(query, \u001b[39m*\u001b[39;49m\u001b[39m*\u001b[39;49mkwargs)\n\u001b[1;32m    125\u001b[0m \u001b[39melif\u001b[39;00m search_type \u001b[39m==\u001b[39m \u001b[39m\"\u001b[39m\u001b[39mmmr\u001b[39m\u001b[39m\"\u001b[39m:\n\u001b[1;32m    126\u001b[0m     \u001b[39mreturn\u001b[39;00m \u001b[39mself\u001b[39m\u001b[39m.\u001b[39mmax_marginal_relevance_search(query, \u001b[39m*\u001b[39m\u001b[39m*\u001b[39mkwargs)\n",
      "File \u001b[0;32m~/Documents/work/LangChain/activeloop-langchain/langchain/libs/langchain/langchain/vectorstores/deeplake.py:469\u001b[0m, in \u001b[0;36mDeepLake.similarity_search\u001b[0;34m(self, query, k, **kwargs)\u001b[0m\n\u001b[1;32m    417\u001b[0m \u001b[39mdef\u001b[39;00m \u001b[39msimilarity_search\u001b[39m(\n\u001b[1;32m    418\u001b[0m     \u001b[39mself\u001b[39m,\n\u001b[1;32m    419\u001b[0m     query: \u001b[39mstr\u001b[39m,\n\u001b[1;32m    420\u001b[0m     k: \u001b[39mint\u001b[39m \u001b[39m=\u001b[39m \u001b[39m4\u001b[39m,\n\u001b[1;32m    421\u001b[0m     \u001b[39m*\u001b[39m\u001b[39m*\u001b[39mkwargs: Any,\n\u001b[1;32m    422\u001b[0m ) \u001b[39m-\u001b[39m\u001b[39m>\u001b[39m List[Document]:\n\u001b[1;32m    423\u001b[0m \u001b[39m    \u001b[39m\u001b[39m\"\"\"\u001b[39;00m\n\u001b[1;32m    424\u001b[0m \u001b[39m    Return docs most similar to query.\u001b[39;00m\n\u001b[1;32m    425\u001b[0m \n\u001b[0;32m   (...)\u001b[0m\n\u001b[1;32m    466\u001b[0m \u001b[39m        List[Document]: List of Documents most similar to the query vector.\u001b[39;00m\n\u001b[1;32m    467\u001b[0m \u001b[39m    \"\"\"\u001b[39;00m\n\u001b[0;32m--> 469\u001b[0m     \u001b[39mreturn\u001b[39;00m \u001b[39mself\u001b[39;49m\u001b[39m.\u001b[39;49m_search(\n\u001b[1;32m    470\u001b[0m         query\u001b[39m=\u001b[39;49mquery,\n\u001b[1;32m    471\u001b[0m         k\u001b[39m=\u001b[39;49mk,\n\u001b[1;32m    472\u001b[0m         use_maximal_marginal_relevance\u001b[39m=\u001b[39;49m\u001b[39mFalse\u001b[39;49;00m,\n\u001b[1;32m    473\u001b[0m         return_score\u001b[39m=\u001b[39;49m\u001b[39mFalse\u001b[39;49;00m,\n\u001b[1;32m    474\u001b[0m         \u001b[39m*\u001b[39;49m\u001b[39m*\u001b[39;49mkwargs,\n\u001b[1;32m    475\u001b[0m     )\n",
      "File \u001b[0;32m~/Documents/work/LangChain/activeloop-langchain/langchain/libs/langchain/langchain/vectorstores/deeplake.py:342\u001b[0m, in \u001b[0;36mDeepLake._search\u001b[0;34m(self, query, embedding, embedding_function, k, distance_metric, use_maximal_marginal_relevance, fetch_k, filter, return_score, exec_option, **kwargs)\u001b[0m\n\u001b[1;32m    300\u001b[0m \u001b[39m\u001b[39m\u001b[39m\"\"\"\u001b[39;00m\n\u001b[1;32m    301\u001b[0m \u001b[39mReturn docs similar to query.\u001b[39;00m\n\u001b[1;32m    302\u001b[0m \n\u001b[0;32m   (...)\u001b[0m\n\u001b[1;32m    338\u001b[0m \u001b[39m    ValueError: if both `embedding` and `embedding_function` are not specified.\u001b[39;00m\n\u001b[1;32m    339\u001b[0m \u001b[39m\"\"\"\u001b[39;00m\n\u001b[1;32m    341\u001b[0m \u001b[39mif\u001b[39;00m kwargs\u001b[39m.\u001b[39mget(\u001b[39m\"\u001b[39m\u001b[39mtql\u001b[39m\u001b[39m\"\u001b[39m):\n\u001b[0;32m--> 342\u001b[0m     \u001b[39mreturn\u001b[39;00m \u001b[39mself\u001b[39;49m\u001b[39m.\u001b[39;49m_search_tql(\n\u001b[1;32m    343\u001b[0m         tql\u001b[39m=\u001b[39;49mkwargs[\u001b[39m\"\u001b[39;49m\u001b[39mtql\u001b[39;49m\u001b[39m\"\u001b[39;49m],\n\u001b[1;32m    344\u001b[0m         exec_option\u001b[39m=\u001b[39;49mexec_option,\n\u001b[1;32m    345\u001b[0m         return_score\u001b[39m=\u001b[39;49mreturn_score,\n\u001b[1;32m    346\u001b[0m         embedding\u001b[39m=\u001b[39;49membedding,\n\u001b[1;32m    347\u001b[0m         embedding_function\u001b[39m=\u001b[39;49membedding_function,\n\u001b[1;32m    348\u001b[0m         distance_metric\u001b[39m=\u001b[39;49mdistance_metric,\n\u001b[1;32m    349\u001b[0m         use_maximal_marginal_relevance\u001b[39m=\u001b[39;49muse_maximal_marginal_relevance,\n\u001b[1;32m    350\u001b[0m         \u001b[39mfilter\u001b[39;49m\u001b[39m=\u001b[39;49m\u001b[39mfilter\u001b[39;49m,\n\u001b[1;32m    351\u001b[0m     )\n\u001b[1;32m    353\u001b[0m \u001b[39mif\u001b[39;00m embedding_function:\n\u001b[1;32m    354\u001b[0m     \u001b[39mif\u001b[39;00m \u001b[39misinstance\u001b[39m(embedding_function, Embeddings):\n",
      "File \u001b[0;32m~/Documents/work/LangChain/activeloop-langchain/langchain/libs/langchain/langchain/vectorstores/deeplake.py:261\u001b[0m, in \u001b[0;36mDeepLake._search_tql\u001b[0;34m(self, tql, exec_option, **kwargs)\u001b[0m\n\u001b[1;32m    230\u001b[0m \u001b[39mdef\u001b[39;00m \u001b[39m_search_tql\u001b[39m(\n\u001b[1;32m    231\u001b[0m     \u001b[39mself\u001b[39m,\n\u001b[1;32m    232\u001b[0m     tql: Optional[\u001b[39mstr\u001b[39m],\n\u001b[1;32m    233\u001b[0m     exec_option: Optional[\u001b[39mstr\u001b[39m] \u001b[39m=\u001b[39m \u001b[39mNone\u001b[39;00m,\n\u001b[1;32m    234\u001b[0m     \u001b[39m*\u001b[39m\u001b[39m*\u001b[39mkwargs: Any,\n\u001b[1;32m    235\u001b[0m ) \u001b[39m-\u001b[39m\u001b[39m>\u001b[39m List[Document]:\n\u001b[1;32m    236\u001b[0m \u001b[39m    \u001b[39m\u001b[39m\"\"\"Function for performing tql_search.\u001b[39;00m\n\u001b[1;32m    237\u001b[0m \n\u001b[1;32m    238\u001b[0m \u001b[39m    Args:\u001b[39;00m\n\u001b[0;32m   (...)\u001b[0m\n\u001b[1;32m    259\u001b[0m \u001b[39m        ValueError: If return_score is True but some condition is not met.\u001b[39;00m\n\u001b[1;32m    260\u001b[0m \u001b[39m    \"\"\"\u001b[39;00m\n\u001b[0;32m--> 261\u001b[0m     result \u001b[39m=\u001b[39m \u001b[39mself\u001b[39;49m\u001b[39m.\u001b[39;49mvectorstore\u001b[39m.\u001b[39;49msearch(\n\u001b[1;32m    262\u001b[0m         query\u001b[39m=\u001b[39;49mtql,\n\u001b[1;32m    263\u001b[0m         exec_option\u001b[39m=\u001b[39;49mexec_option,\n\u001b[1;32m    264\u001b[0m     )\n\u001b[1;32m    265\u001b[0m     metadatas \u001b[39m=\u001b[39m result[\u001b[39m\"\u001b[39m\u001b[39mmetadata\u001b[39m\u001b[39m\"\u001b[39m]\n\u001b[1;32m    266\u001b[0m     texts \u001b[39m=\u001b[39m result[\u001b[39m\"\u001b[39m\u001b[39mtext\u001b[39m\u001b[39m\"\u001b[39m]\n",
      "File \u001b[0;32m~/Documents/work/LangChain/activeloop-langchain/langchain/.venv/lib/python3.11/site-packages/deeplake/core/vectorstore/deeplake_vectorstore.py:402\u001b[0m, in \u001b[0;36mVectorStore.search\u001b[0;34m(self, embedding_data, embedding_function, embedding, k, distance_metric, query, filter, exec_option, embedding_tensor, return_tensors, return_view)\u001b[0m\n\u001b[1;32m    398\u001b[0m     exec_option \u001b[39m=\u001b[39m \u001b[39m\"\u001b[39m\u001b[39mpython\u001b[39m\u001b[39m\"\u001b[39m\n\u001b[1;32m    400\u001b[0m exec_option \u001b[39m=\u001b[39m exec_option \u001b[39mor\u001b[39;00m \u001b[39mself\u001b[39m\u001b[39m.\u001b[39mexec_option\n\u001b[0;32m--> 402\u001b[0m utils\u001b[39m.\u001b[39;49mparse_search_args(\n\u001b[1;32m    403\u001b[0m     embedding_data\u001b[39m=\u001b[39;49membedding_data,\n\u001b[1;32m    404\u001b[0m     embedding_function\u001b[39m=\u001b[39;49membedding_function,\n\u001b[1;32m    405\u001b[0m     initial_embedding_function\u001b[39m=\u001b[39;49m\u001b[39mself\u001b[39;49m\u001b[39m.\u001b[39;49membedding_function,\n\u001b[1;32m    406\u001b[0m     embedding\u001b[39m=\u001b[39;49membedding,\n\u001b[1;32m    407\u001b[0m     k\u001b[39m=\u001b[39;49mk,\n\u001b[1;32m    408\u001b[0m     distance_metric\u001b[39m=\u001b[39;49mdistance_metric,\n\u001b[1;32m    409\u001b[0m     query\u001b[39m=\u001b[39;49mquery,\n\u001b[1;32m    410\u001b[0m     \u001b[39mfilter\u001b[39;49m\u001b[39m=\u001b[39;49m\u001b[39mfilter\u001b[39;49m,\n\u001b[1;32m    411\u001b[0m     exec_option\u001b[39m=\u001b[39;49mexec_option,\n\u001b[1;32m    412\u001b[0m     embedding_tensor\u001b[39m=\u001b[39;49membedding_tensor,\n\u001b[1;32m    413\u001b[0m     return_tensors\u001b[39m=\u001b[39;49mreturn_tensors,\n\u001b[1;32m    414\u001b[0m )\n\u001b[1;32m    416\u001b[0m return_tensors \u001b[39m=\u001b[39m utils\u001b[39m.\u001b[39mparse_return_tensors(\n\u001b[1;32m    417\u001b[0m     \u001b[39mself\u001b[39m\u001b[39m.\u001b[39mdataset, return_tensors, embedding_tensor, return_view\n\u001b[1;32m    418\u001b[0m )\n\u001b[1;32m    420\u001b[0m query_emb: Optional[Union[List[\u001b[39mfloat\u001b[39m], np\u001b[39m.\u001b[39mndarray[Any, Any]]] \u001b[39m=\u001b[39m \u001b[39mNone\u001b[39;00m\n",
      "File \u001b[0;32m~/Documents/work/LangChain/activeloop-langchain/langchain/.venv/lib/python3.11/site-packages/deeplake/core/vectorstore/vector_search/utils.py:163\u001b[0m, in \u001b[0;36mparse_search_args\u001b[0;34m(**kwargs)\u001b[0m\n\u001b[1;32m    161\u001b[0m \u001b[39mif\u001b[39;00m exec_option \u001b[39m==\u001b[39m \u001b[39m\"\u001b[39m\u001b[39mpython\u001b[39m\u001b[39m\"\u001b[39m:\n\u001b[1;32m    162\u001b[0m     \u001b[39mif\u001b[39;00m kwargs[\u001b[39m\"\u001b[39m\u001b[39mquery\u001b[39m\u001b[39m\"\u001b[39m] \u001b[39mis\u001b[39;00m \u001b[39mnot\u001b[39;00m \u001b[39mNone\u001b[39;00m:\n\u001b[0;32m--> 163\u001b[0m         \u001b[39mraise\u001b[39;00m \u001b[39mValueError\u001b[39;00m(\n\u001b[1;32m    164\u001b[0m             \u001b[39mf\u001b[39m\u001b[39m\"\u001b[39m\u001b[39mUser-specified TQL queries are not support for exec_option=\u001b[39m\u001b[39m{\u001b[39;00mexec_option\u001b[39m}\u001b[39;00m\u001b[39m.\u001b[39m\u001b[39m\"\u001b[39m\n\u001b[1;32m    165\u001b[0m         )\n\u001b[1;32m    167\u001b[0m \u001b[39melse\u001b[39;00m:\n\u001b[1;32m    168\u001b[0m     \u001b[39mif\u001b[39;00m kwargs[\u001b[39m\"\u001b[39m\u001b[39mquery\u001b[39m\u001b[39m\"\u001b[39m] \u001b[39mand\u001b[39;00m kwargs[\u001b[39m\"\u001b[39m\u001b[39mfilter\u001b[39m\u001b[39m\"\u001b[39m]:\n",
      "\u001b[0;31mValueError\u001b[0m: User-specified TQL queries are not support for exec_option=python."
     ]
    }
   ],
   "source": [
    "# This example only specifies a filter\n",
    "retriever.get_relevant_documents(\"I want to watch a movie rated higher than 8.5\")"
   ]
  },
  {
   "cell_type": "code",
   "execution_count": 10,
   "id": "b19d4da0",
   "metadata": {},
   "outputs": [
    {
     "name": "stdout",
     "output_type": "stream",
     "text": [
      "query='women' filter=Comparison(comparator=<Comparator.EQ: 'eq'>, attribute='director', value='Greta Gerwig') limit=None\n"
     ]
    },
    {
     "data": {
      "text/plain": [
       "[Document(page_content='A bunch of normal-sized women are supremely wholesome and some men pine after them', metadata={'year': 2019, 'director': 'Greta Gerwig', 'rating': 8.3})]"
      ]
     },
     "execution_count": 10,
     "metadata": {},
     "output_type": "execute_result"
    }
   ],
   "source": [
    "# This example specifies a query and a filter\n",
    "retriever.get_relevant_documents(\"Has Greta Gerwig directed any movies about women\")"
   ]
  },
  {
   "cell_type": "code",
   "execution_count": 11,
   "id": "f900e40e",
   "metadata": {},
   "outputs": [
    {
     "name": "stdout",
     "output_type": "stream",
     "text": [
      "query=' ' filter=Operation(operator=<Operator.AND: 'and'>, arguments=[Comparison(comparator=<Comparator.GTE: 'gte'>, attribute='rating', value=8.5), Comparison(comparator=<Comparator.EQ: 'eq'>, attribute='genre', value='science fiction')]) limit=None\n"
     ]
    },
    {
     "data": {
      "text/plain": [
       "[Document(page_content='Three men walk into the Zone, three men walk out of the Zone', metadata={'year': 1979, 'rating': 9.9, 'director': 'Andrei Tarkovsky', 'genre': 'science fiction'})]"
      ]
     },
     "execution_count": 11,
     "metadata": {},
     "output_type": "execute_result"
    }
   ],
   "source": [
    "# This example specifies a composite filter\n",
    "retriever.get_relevant_documents(\n",
    "    \"What's a highly rated (above 8.5) science fiction film?\"\n",
    ")"
   ]
  },
  {
   "cell_type": "code",
   "execution_count": 12,
   "id": "12a51522",
   "metadata": {},
   "outputs": [
    {
     "name": "stdout",
     "output_type": "stream",
     "text": [
      "query='toys' filter=Operation(operator=<Operator.AND: 'and'>, arguments=[Comparison(comparator=<Comparator.GT: 'gt'>, attribute='year', value=1990), Comparison(comparator=<Comparator.LT: 'lt'>, attribute='year', value=2005), Comparison(comparator=<Comparator.EQ: 'eq'>, attribute='genre', value='animated')]) limit=None\n"
     ]
    },
    {
     "data": {
      "text/plain": [
       "[Document(page_content='Toys come alive and have a blast doing so', metadata={'year': 1995, 'genre': 'animated'})]"
      ]
     },
     "execution_count": 12,
     "metadata": {},
     "output_type": "execute_result"
    }
   ],
   "source": [
    "# This example specifies a query and composite filter\n",
    "retriever.get_relevant_documents(\n",
    "    \"What's a movie after 1990 but before 2005 that's all about toys, and preferably is animated\"\n",
    ")"
   ]
  },
  {
   "attachments": {},
   "cell_type": "markdown",
   "id": "39bd1de1-b9fe-4a98-89da-58d8a7a6ae51",
   "metadata": {},
   "source": [
    "## Filter k\n",
    "\n",
    "We can also use the self query retriever to specify `k`: the number of documents to fetch.\n",
    "\n",
    "We can do this by passing `enable_limit=True` to the constructor."
   ]
  },
  {
   "cell_type": "code",
   "execution_count": 13,
   "id": "bff36b88-b506-4877-9c63-e5a1a8d78e64",
   "metadata": {
    "tags": []
   },
   "outputs": [],
   "source": [
    "retriever = SelfQueryRetriever.from_llm(\n",
    "    llm,\n",
    "    vectorstore,\n",
    "    document_content_description,\n",
    "    metadata_field_info,\n",
    "    enable_limit=True,\n",
    "    verbose=True,\n",
    ")"
   ]
  },
  {
   "cell_type": "code",
   "execution_count": 14,
   "id": "2758d229-4f97-499c-819f-888acaf8ee10",
   "metadata": {
    "tags": []
   },
   "outputs": [
    {
     "name": "stdout",
     "output_type": "stream",
     "text": [
      "query='dinosaur' filter=None limit=2\n"
     ]
    },
    {
     "data": {
      "text/plain": [
       "[Document(page_content='A bunch of scientists bring back dinosaurs and mayhem breaks loose', metadata={'year': 1993, 'rating': 7.7, 'genre': 'science fiction'}),\n",
       " Document(page_content='Toys come alive and have a blast doing so', metadata={'year': 1995, 'genre': 'animated'})]"
      ]
     },
     "execution_count": 14,
     "metadata": {},
     "output_type": "execute_result"
    }
   ],
   "source": [
    "# This example only specifies a relevant query\n",
    "retriever.get_relevant_documents(\"what are two movies about dinosaurs\")"
   ]
  },
  {
   "cell_type": "code",
   "execution_count": null,
   "id": "c93f0847-cbd9-4c25-aed1-91588e856b5c",
   "metadata": {},
   "outputs": [],
   "source": []
  }
 ],
 "metadata": {
  "kernelspec": {
   "display_name": "Python 3 (ipykernel)",
   "language": "python",
   "name": "python3"
  },
  "language_info": {
   "codemirror_mode": {
    "name": "ipython",
    "version": 3
   },
   "file_extension": ".py",
   "mimetype": "text/x-python",
   "name": "python",
   "nbconvert_exporter": "python",
   "pygments_lexer": "ipython3",
   "version": "3.11.4"
  }
 },
 "nbformat": 4,
 "nbformat_minor": 5
}
