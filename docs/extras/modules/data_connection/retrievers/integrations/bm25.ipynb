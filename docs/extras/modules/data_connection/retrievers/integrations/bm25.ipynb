{
 "cells": [
  {
   "attachments": {},
   "cell_type": "markdown",
   "id": "ab66dd43",
   "metadata": {},
   "source": [
    "# BM25\n",
    "\n",
    ">BM25[wiki](https://en.wikipedia.org/wiki/Okapi_BM25).\n",
    "\n",
    "This notebook goes over how to use a retriever that under the hood uses [TF-IDF](https://en.wikipedia.org/wiki/Tf%E2%80%93idf) using `scikit-learn` package.\n",
    "\n",
    "For more information on the details of BM25 see [paper](http://www.staff.city.ac.uk/~sb317/papers/foundations_bm25_review.pdf)."
   ]
  },
  {
   "cell_type": "code",
   "execution_count": 1,
   "id": "a801b57c",
   "metadata": {},
   "outputs": [],
   "source": [
    "# !pip install gensim\n"
   ]
  },
  {
   "cell_type": "code",
   "execution_count": 2,
   "id": "393ac030",
   "metadata": {
    "tags": []
   },
   "outputs": [],
   "source": [
    "from langchain.retrievers import BM25Retriever"
   ]
  },
  {
   "attachments": {},
   "cell_type": "markdown",
   "id": "aaf80e7f",
   "metadata": {},
   "source": [
    "## Create New Retriever with Texts"
   ]
  },
  {
   "cell_type": "code",
   "execution_count": 3,
   "id": "98b1c017",
   "metadata": {
    "tags": []
   },
   "outputs": [],
   "source": [
    "retriever = BM25Retriever.from_texts([\"foo\", \"bar\", \"world\", \"hello\", \"foo bar\"])"
   ]
  },
  {
   "attachments": {},
   "cell_type": "markdown",
   "id": "c016b266",
   "metadata": {},
   "source": [
    "## Create a New Retriever with Documents\n",
    "\n",
    "You can now create a new retriever with the documents you created."
   ]
  },
  {
   "cell_type": "code",
   "execution_count": 4,
   "id": "53af4f00",
   "metadata": {},
   "outputs": [],
   "source": [
    "from langchain.schema import Document\n",
    "retriever = BM25Retriever.from_documents([Document(page_content=\"foo\"), Document(page_content=\"bar\"), Document(page_content=\"world\"), Document(page_content=\"hello\"), Document(page_content=\"foo bar\")])"
   ]
  },
  {
   "attachments": {},
   "cell_type": "markdown",
   "id": "08437fa2",
   "metadata": {},
   "source": [
    "## Use Retriever\n",
    "\n",
    "We can now use the retriever!"
   ]
  },
  {
   "cell_type": "code",
   "execution_count": 5,
   "id": "c0455218",
   "metadata": {
    "tags": []
   },
   "outputs": [],
   "source": [
    "result = retriever.get_relevant_documents(\"foo\")"
   ]
  },
  {
   "cell_type": "code",
   "execution_count": 6,
   "id": "7dfa5c29",
   "metadata": {
    "tags": []
   },
   "outputs": [
    {
     "data": {
      "text/plain": [
       "[Document(page_content='foo', metadata={}),\n",
       " Document(page_content='foo bar', metadata={}),\n",
       " Document(page_content='hello', metadata={}),\n",
       " Document(page_content='world', metadata={})]"
      ]
     },
     "execution_count": 6,
     "metadata": {},
     "output_type": "execute_result"
    }
   ],
   "source": [
    "result"
   ]
  },
  {
   "cell_type": "code",
   "execution_count": null,
   "id": "79fa206a",
   "metadata": {},
   "outputs": [],
   "source": []
  }
 ],
 "metadata": {
  "kernelspec": {
   "display_name": "Python 3 (ipykernel)",
   "language": "python",
   "name": "python3"
  },
  "language_info": {
   "codemirror_mode": {
    "name": "ipython",
    "version": 3
   },
   "file_extension": ".py",
   "mimetype": "text/x-python",
   "name": "python",
   "nbconvert_exporter": "python",
   "pygments_lexer": "ipython3",
   "version": "3.10.11"
  }
 },
 "nbformat": 4,
 "nbformat_minor": 5
}
