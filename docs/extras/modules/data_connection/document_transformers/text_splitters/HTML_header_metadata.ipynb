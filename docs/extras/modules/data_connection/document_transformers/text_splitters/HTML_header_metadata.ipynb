{
 "cells": [
  {
   "cell_type": "markdown",
   "id": "c95fcd15cd52c944",
   "metadata": {
    "collapsed": false
   },
   "source": [
    "# HTMLHeaderTextSplitter\n",
    "## Description and motivation\n",
    "Similar in concept to the <a href=\"https://python.langchain.com/docs/modules/data_connection/document_transformers/text_splitters/markdown_header_metadata\">`MarkdownHeaderTextSplitter`</a>, the `HTMLHeaderTextSplitter` is a \"structure-aware\" chunker that splits text at the element level and adds metadata for each header \"relevant\" to any given chunk. It can return chunks element by element or combine elements with the same metadata, with the objectives of (a) keeping related text grouped (more or less) semantically and (b) preserving context-rich information encoded in document structures. It can be used with other text splitters as part of a chunking pipeline.\n",
    "\n",
    "## Usage examples\n",
    "#### 1) With an HTML string:"
   ]
  },
  {
   "cell_type": "code",
   "execution_count": 1,
   "id": "initial_id",
   "metadata": {
    "ExecuteTime": {
     "end_time": "2023-10-02T18:57:49.208965400Z",
     "start_time": "2023-10-02T18:57:48.899756Z"
    },
    "collapsed": false
   },
   "outputs": [
    {
     "data": {
      "text/plain": [
       "[Document(page_content='Foo', metadata={}),\n",
       " Document(page_content='Some intro text about Foo.  \\nBar main section Bar subsection 1 Bar subsection 2', metadata={'Header 1': 'Foo'}),\n",
       " Document(page_content='Some intro text about Bar.', metadata={'Header 1': 'Foo', 'Header 2': 'Bar main section'}),\n",
       " Document(page_content='Some text about the first subtopic of Bar.', metadata={'Header 1': 'Foo', 'Header 2': 'Bar main section', 'Header 3': 'Bar subsection 1'}),\n",
       " Document(page_content='Some text about the second subtopic of Bar.', metadata={'Header 1': 'Foo', 'Header 2': 'Bar main section', 'Header 3': 'Bar subsection 2'}),\n",
       " Document(page_content='Baz', metadata={'Header 1': 'Foo'}),\n",
       " Document(page_content='Some text about Baz', metadata={'Header 1': 'Foo', 'Header 2': 'Baz'}),\n",
       " Document(page_content='Some concluding text about Foo', metadata={'Header 1': 'Foo'})]"
      ]
     },
     "execution_count": 1,
     "metadata": {},
     "output_type": "execute_result"
    }
   ],
   "source": [
    "from langchain.text_splitter import HTMLHeaderTextSplitter\n",
    "\n",
    "html_string =\"\"\"\n",
    "<!DOCTYPE html>\n",
    "<html>\n",
    "<body>\n",
    "    <div>\n",
    "        <h1>Foo</h1>\n",
    "        <p>Some intro text about Foo.</p>\n",
    "        <div>\n",
    "            <h2>Bar main section</h2>\n",
    "            <p>Some intro text about Bar.</p>\n",
    "            <h3>Bar subsection 1</h3>\n",
    "            <p>Some text about the first subtopic of Bar.</p>\n",
    "            <h3>Bar subsection 2</h3>\n",
    "            <p>Some text about the second subtopic of Bar.</p>\n",
    "        </div>\n",
    "        <div>\n",
    "            <h2>Baz</h2>\n",
    "            <p>Some text about Baz</p>\n",
    "        </div>\n",
    "        <br>\n",
    "        <p>Some concluding text about Foo</p>\n",
    "    </div>\n",
    "</body>\n",
    "</html>\n",
    "\"\"\"\n",
    "\n",
    "headers_to_split_on = [\n",
    "    (\"h1\", \"Header 1\"),\n",
    "    (\"h2\", \"Header 2\"),\n",
    "    (\"h3\", \"Header 3\"),\n",
    "]\n",
    "\n",
    "html_splitter = HTMLHeaderTextSplitter(headers_to_split_on=headers_to_split_on)\n",
    "html_header_splits = html_splitter.split_text(html_string)\n",
    "html_header_splits"
   ]
  },
  {
   "cell_type": "markdown",
   "id": "e29b4aade2a0070c",
   "metadata": {
    "collapsed": false
   },
   "source": [
    "#### 2) Pipelined to another splitter, with html loaded from a web URL:"
   ]
  },
  {
   "cell_type": "code",
   "execution_count": 7,
   "id": "6ada8ea093ea0475",
   "metadata": {
    "ExecuteTime": {
     "end_time": "2023-10-02T18:57:51.016141300Z",
     "start_time": "2023-10-02T18:57:50.647495400Z"
    },
    "collapsed": false
   },
   "outputs": [
    {
     "data": {
      "text/plain": [
       "[Document(page_content='We see that Gödel first tried to reduce the consistency problem for analysis to that of arithmetic. This seemed to require a truth definition for arithmetic, which in turn led to paradoxes, such as the Liar paradox (“This sentence is false”) and Berry’s paradox (“The least number not defined by an expression consisting of just fourteen English words”). Gödel then noticed that such paradoxes would not necessarily arise if truth were replaced by provability. But this means that arithmetic truth', metadata={'Header 1': 'Kurt Gödel', 'Header 2': '2. Gödel’s Mathematical Work', 'Header 3': '2.2 The Incompleteness Theorems', 'Header 4': '2.2.1 The First Incompleteness Theorem'}),\n",
       " Document(page_content='means that arithmetic truth and arithmetic provability are not co-extensive — whence the First Incompleteness Theorem.', metadata={'Header 1': 'Kurt Gödel', 'Header 2': '2. Gödel’s Mathematical Work', 'Header 3': '2.2 The Incompleteness Theorems', 'Header 4': '2.2.1 The First Incompleteness Theorem'}),\n",
       " Document(page_content='This account of Gödel’s discovery was told to Hao Wang very much after the fact; but in Gödel’s contemporary correspondence with Bernays and Zermelo, essentially the same description of his path to the theorems is given. (See Gödel 2003a and Gödel 2003b respectively.) From those accounts we see that the undefinability of truth in arithmetic, a result credited to Tarski, was likely obtained in some form by Gödel by 1931. But he neither publicized nor published the result; the biases logicians', metadata={'Header 1': 'Kurt Gödel', 'Header 2': '2. Gödel’s Mathematical Work', 'Header 3': '2.2 The Incompleteness Theorems', 'Header 4': '2.2.1 The First Incompleteness Theorem'}),\n",
       " Document(page_content='result; the biases logicians had expressed at the time concerning the notion of truth, biases which came vehemently to the fore when Tarski announced his results on the undefinability of truth in formal systems 1935, may have served as a deterrent to Gödel’s publication of that theorem.', metadata={'Header 1': 'Kurt Gödel', 'Header 2': '2. Gödel’s Mathematical Work', 'Header 3': '2.2 The Incompleteness Theorems', 'Header 4': '2.2.1 The First Incompleteness Theorem'}),\n",
       " Document(page_content='We now describe the proof of the two theorems, formulating Gödel’s results in Peano arithmetic. Gödel himself used a system related to that defined in Principia Mathematica, but containing Peano arithmetic. In our presentation of the First and Second Incompleteness Theorems we refer to Peano arithmetic as P, following Gödel’s notation.', metadata={'Header 1': 'Kurt Gödel', 'Header 2': '2. Gödel’s Mathematical Work', 'Header 3': '2.2 The Incompleteness Theorems', 'Header 4': '2.2.2 The proof of the First Incompleteness Theorem'})]"
      ]
     },
     "execution_count": 7,
     "metadata": {},
     "output_type": "execute_result"
    }
   ],
   "source": [
    "from langchain.text_splitter import RecursiveCharacterTextSplitter\n",
    "\n",
    "url = \"https://plato.stanford.edu/entries/goedel/\"\n",
    "\n",
    "headers_to_split_on = [\n",
    "    (\"h1\", \"Header 1\"),\n",
    "    (\"h2\", \"Header 2\"),\n",
    "    (\"h3\", \"Header 3\"),\n",
    "    (\"h4\", \"Header 4\"),\n",
    "]\n",
    "\n",
    "html_splitter = HTMLHeaderTextSplitter(headers_to_split_on=headers_to_split_on)\n",
    "\n",
    "#for local file use html_splitter.split_text_from_file(<path_to_file>)\n",
    "html_header_splits = html_splitter.split_text_from_url(url)\n",
    "\n",
    "chunk_size = 500\n",
    "chunk_overlap = 30\n",
    "text_splitter = RecursiveCharacterTextSplitter(\n",
    "    chunk_size=chunk_size, chunk_overlap=chunk_overlap\n",
    ")\n",
    "\n",
    "# Split\n",
    "splits = text_splitter.split_documents(html_header_splits)\n",
    "splits[80:85]"
   ]
  },
  {
   "cell_type": "markdown",
   "id": "ac0930371d79554a",
   "metadata": {
    "collapsed": false
   },
   "source": [
    "## Limitations\n",
    "\n",
    "There can be quite a bit of structural variation from one HTML document to another, and while `HTMLHeaderTextSplitter` will attempt to attach all \"relevant\" headers to any given chunk, it can sometimes miss certain headers. For example, the algorithm assumes an informational hierarchy in which headers are always at nodes \"above\" associated text, i.e. prior siblings, ancestors, and combinations thereof. In the following news article (as of the writing of this document), the document is structured such that the text of the top-level headline, while tagged \"h1\", is in a *distinct* subtree from the text elements that we'd expect it to be *\"above\"*&mdash;so we can observe that the \"h1\" element and its associated text do not show up in the chunk metadata (but, where applicable, we do see \"h2\" and its associated text):   \n"
   ]
  },
  {
   "cell_type": "code",
   "execution_count": 3,
   "id": "5a5ec1482171b119",
   "metadata": {
    "ExecuteTime": {
     "end_time": "2023-10-02T19:03:25.943524300Z",
     "start_time": "2023-10-02T19:03:25.691641Z"
    },
    "collapsed": false
   },
   "outputs": [
    {
     "data": {
      "text/plain": [
       "[Document(page_content=\"CNN values your feedback  \\n1. How relevant is this ad to you?  \\n2. Did you encounter any technical issues?  \\nVideo player was slow to load content Video content never loaded Ad froze or did not finish loading Video content did not start after ad Audio on ad was too loud Other issues  \\nAd never loaded Ad prevented/slowed the page from loading Content moved around while ad loaded Ad was repetitive to ads I've seen previously Other issues  \\nCancel Submit  \\nThank You!  \\nYour effort and contribution in providing this feedback is much appreciated.  \\nClose  \\nAd Feedback  \\nClose icon  \\nWeather  \\nClimate  \\nStorm Tracker  \\nWildfire Tracker  \\nVideo  \\nMore  \\nClimate Storm Tracker Wildfire Tracker Video  \\nAudio Live TV  \\nLog In  \\nMy Account  \\nSettings Topics You Follow Log Out  \\nYour CNN account Log in to your CNN account  \\nLive TV Audio  \\nSearch  \\nLog In  \\nMy Account  \\nSettings Topics You Follow Log Out  \\nYour CNN account Log in to your CNN account  \\nEdition  \\nUS  \\nInternational  \\nArabic  \\nEspaÃ±ol  \\nEdition  \\nUS International Arabic EspaÃ±ol  \\nClimate  \\nStorm Tracker  \\nWildfire Tracker  \\nVideo  \\nFollow CNN  \\nUS World Politics Business Markets Opinion Health Entertainment Tech Style Travel Sports Videos Audio CNN Underscored Coupons Weather About CNN  \\nCrime + Justice Energy + Environment Extreme Weather Space + Science  \\nAfrica Americas Asia Australia China Europe India Middle East United Kingdom  \\nSCOTUS Congress Facts First 2024 Election  \\nTech Media Calculators Video  \\nPre-markets After-Hours Market Movers Fear & Greed World Markets Investing Markets Now Before the Bell Nightcap  \\nPolitical Op-Eds Social Commentary  \\nLife, But Better Fitness Food Sleep Mindfulness Relationships  \\nMovies Television Celebrity  \\nInnovate Gadget Foreseeable Future Mission: Ahead Upstarts Work Transformed Innovative Cities  \\nArts Design Fashion Architecture Luxury Beauty Video  \\nDestinations Food & Drink Stay Videos  \\nPro Football College Football Basketball Baseball Soccer Olympics Hockey  \\nLive TV CNN Headlines CNN Max Digital Studios CNN Films HLN TV Schedule TV Shows A-Z CNNVR  \\nElectronics Fashion Beauty Health & Fitness Home Reviews Deals Money Gifts Travel Outdoors Pets CNN Store  \\nClimate Storm Tracker Wildfire Tracker Video  \\nPhotos Investigations CNN Profiles CNN Leadership CNN Newsletters Work for CNN  \\nAn El NiÃ±o winter is coming. Hereâ\\x80\\x99s what that could mean for the US  \\nBy Mary Gilbert, CNN Meteorologist  \\nPublished 4:44 AM EDT, Mon September 25, 2023  \\nLink Copied!  \\nAd Feedback  \\nVideo Ad Feedback  \\nThis is what El NiÃ±o means for the US this winter  \\n01:18 - Source: CNN  \\nSee More Videos  \\nWicked weather 17 videos  \\nVideo Ad Feedback  \\nThis is what El NiÃ±o means for the US this winter  \\n01:18 - Source: CNN  \\nNow playing  \\nVideo Ad Feedback  \\nTornado sends car flying on highway  \\n00:29 - Source: CNN  \\nNow playing  \\nVideo Ad Feedback  \\nSee the devastating aftermath Idalia left throughout Florida  \\n02:27 - Source: CNN  \\nNow playing  \\nVideo Ad Feedback  \\nSee gas station roof ripped off as Hurricane Idalia rips through Florida  \\n00:30 - Source: CNN  \\nNow playing  \\nVideo Ad Feedback  \\nWoman captures dramatic moment tree collapses onto her home  \\n00:33 - Source: CNN  \\nNow playing  \\nVideo Ad Feedback  \\nPilots capture rare footage of lightning-like electrical phenomena  \\n00:35 - Source: CNN  \\nNow playing  \\nVideo Ad Feedback  \\nHilary forces swift water rescues with catastrophic flooding  \\n02:28 - Source: CNN  \\nNow playing  \\nVideo Ad Feedback  \\nIntense rainfall turns into rushing river through city  \\n00:24 - Source: CNNE  \\nNow playing  \\nVideo Ad Feedback  \\nDrone footage shows devastating wildfires in Maui  \\n00:59 - Source: CNN  \\nNow playing  \\nVideo Ad Feedback  \\nSee beehives melt in scorching Arizona heat  \\n01:32 - Source: CNN  \\nNow playing  \\nVideo Ad Feedback  \\nFamily trapped by typhoon flood waters rescued in daring attempt  \\n00:45 - Source: CNN  \\nNow playing  \\nVideo Ad Feedback  \\nCan you give your pet ice? TikTok vet explains  \\n03:22 - Source: CNN  \\nNow playing  \\nVideo Ad Feedback  \\nWatch: Bride walks down flooded aisle after Typhoon in the Philippines  \\n00:46 - Source: CNN  \\nNow playing  \\nVideo Ad Feedback  \\nThis is what happens to your body when temperatures soar  \\n03:24 - Source: CNN  \\nNow playing  \\nVideo Ad Feedback  \\nWatch how deadly flash flooding hit New York  \\n02:06 - Source: CNN  \\nNow playing  \\nVideo Ad Feedback  \\nSee catastrophic flooding in Vermont capital as state braces for more rain  \\n01:35 - Source: CNN  \\nNow playing  \\nVideo Ad Feedback  \\nConcertgoers pelted by hail in Colorado  \\n00:47 - Source: CNN  \\nNow playing  \\nWhat could this winter look like?  \\nCNN \\xa0—\\xa0  \\nFall has only just begun, but itâ\\x80\\x99s not too soon to look ahead to winter, especially since this one may look drastically different than recent years because of El NiÃ±o.  \\nThis winter will be the first in a few years to feel the effects of the phenomenon, which has a sizable impact on the weather during the coldest months of the year.  \\nEl NiÃ±o is one of three phases of the El NiÃ±o Southern Oscillation, which tracks water temperature changes in the equatorial Pacific Ocean that can have rippling effects on weather patterns around the globe. The El NiÃ±o phase occurs when these ocean temperatures are warmer than normal for an extended period.  \\nThis yearâ\\x80\\x99s El NiÃ±o began in June, is expected to be strong this winter and last at least into early next spring, according to NOAAâ\\x80\\x99s Climate Prediction Center.  \\nEl NiÃ±oâ\\x80\\x99s cooler counterpart, La NiÃ±a, played a huge role in the past three winters across the US, keeping the South dry while parts of the West received a lot of much-needed snow.  \\nEarly winter predictions from the Climate Prediction Center have many of the hallmarks of typical El NiÃ±o winters, auguring changes to come.\", metadata={}),\n",
       " Document(page_content='No two El NiÃ±o winters are the same, but many have temperature and precipitation trends in common.  \\nAverage conditions during an El NiÃ±o winter across the continental US.  \\nOne of the major reasons is the position of the jet stream, which often shifts south during an El NiÃ±o winter. This shift typically brings wetter and cooler weather to the South while the North becomes drier and warmer, according to NOAA.  \\nBecause the jet stream is essentially a river of air that storms flow through, they can move across the South with increased frequency during an El NiÃ±o winter. More storms means more precipitation, typically from the southern Plains to the Southeast. This could be crucial for states like Texas, Louisiana and Mississippi plagued by drought.  \\nA wetter southern tier and a drier northern tier in an outlook for this winter from the Climate Prediction Center have all the fingerprints of an El NiÃ±o winter.  \\nThe combination of cooler weather and more frequent precipitation may also increase the chances for wintry precipitation like freezing rain, sleet and snow to fall in the South.  \\nEl NiÃ±o typically leads to a milder winter in the North, from the Pacific Northwest to the Rockies, Plains and Midwest. Individual storms can still form and deliver bouts of brutal cold or heavy snow to these regions, but they are typically less frequent.  \\nThis would be bad news for portions of the Midwest also dealing with extreme and exceptional levels of drought, and for snowpack in the Pacific Northwest â\\x80\\x93 a key water source for the region.  \\nNote the highest chances for above normal temperatures in an outlook for this winter from the Climate Prediction Center are in the northern tier of the US, which generally mirrors climatology.  \\nEl NiÃ±o winter patterns are less regular in California, the Southwest and the Northeast.  \\nThe frequency of storms and uptick in precipitation across California and portions of the Southwest may depend on the overall strength of the El NiÃ±o. A stronger El NiÃ±o may lead to more storms, low elevation rain and high elevation snow, while a weaker version could hang the Southwest out to dry.  \\nThe Northeast doesnâ\\x80\\x99t have a well-defined set of expectations during an El NiÃ±o winter. The region can be milder overall like its other northern counterparts, but it can also be at the mercy of robust coastal storms moving along the Atlantic Coast.  \\nLooking back at recent El NiÃ±o winters can also help visualize what the upcoming winter may have in store:  \\nA weak El NiÃ±o during the 2018-2019 season had several notable storms, including one in December that brought snow and ice from Texas to the Carolinas. The season was also the wettest winter on record for the US mainland and featured above-average temperatures across much of the East, according to NOAA.  \\nA very strong El NiÃ±o during the 2015-2016 winter contributed to the warmest winter on record for the US mainland, according to NOAA. The warm winter didnâ\\x80\\x99t prevent massive snowstorms, including a deadly blizzard that brought East Coast travel to a standstill.  \\nThe 2009-2010 winter was the last with an El NiÃ±o of the same forecast strength as this year. It was quite cold across the southern and central US and very wet and snowy along the East Coast, according to data from NOAA. The season was notorious for multiple blizzards slamming the Northeast in rapid succession.', metadata={'Header 2': 'What could this winter look like?'}),\n",
       " Document(page_content='Related  \\nAd Feedback  \\nAd Feedback  \\nAd Feedback  \\nAd Feedback  \\nLive TV Audio Terms of Use Privacy Policy Ad Choices Accessibility & CC About Newsletters Transcripts  \\nSearch  \\nLog In  \\nMy Account  \\nSettings Topics You Follow Log Out  \\nYour CNN account Log in to your CNN account  \\nUS World Politics Business Markets Opinion Health Entertainment Tech Style Travel Sports Videos Audio CNN Underscored Coupons Weather About CNN  \\nCrime + Justice Energy + Environment Extreme Weather Space + Science  \\nAfrica Americas Asia Australia China Europe India Middle East United Kingdom  \\nSCOTUS Congress Facts First 2024 Elections  \\nTech Media Calculators Videos  \\nPre-markets After-Hours Market Movers Fear & Greed World Markets Investing Markets Now Before the Bell Nightcap  \\nPolitical Op-Eds Social Commentary  \\nLife, But Better Fitness Food Sleep Mindfulness Relationships  \\nMovies Television Celebrity  \\nInnovate Gadget Foreseeable Future Mission: Ahead Upstarts Work Transformed Innovative Cities  \\nArts Design Fashion Architecture Luxury Beauty Video  \\nDestinations Food & Drink Stay News Videos  \\nPro Football College Football Basketball Baseball Soccer Olympics Hockey  \\nLive TV CNN Headlines CNN Max Digital Studios CNN Films HLN TV Schedule TV Shows A-Z CNNVR  \\nElectronics Fashion Beauty Health & Fitness Home Reviews Deals Money Gifts Travel Outdoors Pets CNN Store  \\nClimate Storm Tracker Wildfire Tracker Video  \\nPhotos Investigations CNN Profiles CNN Leadership CNN Newsletters Work for CNN  \\nWeather  \\nAudio Live TV  \\nFollow CNN  \\nLog In  \\nMy Account  \\nSettings Topics You Follow Log Out  \\nYour CNN account Log in to your CNN account  \\nÂ© 2023 Cable News Network. A Warner Bros. Discovery Company. All Rights Reserved. CNN Sans â\\x84¢ & Â© 2016 Cable News Network.', metadata={})]"
      ]
     },
     "execution_count": 3,
     "metadata": {},
     "output_type": "execute_result"
    }
   ],
   "source": [
    "url = \"https://www.cnn.com/2023/09/25/weather/el-nino-winter-us-climate/index.html\"\n",
    "\n",
    "headers_to_split_on = [\n",
    "    (\"h1\", \"Header 1\"),\n",
    "    (\"h2\", \"Header 2\"),\n",
    "]\n",
    "\n",
    "html_splitter = HTMLHeaderTextSplitter(headers_to_split_on=headers_to_split_on)\n",
    "html_header_splits = html_splitter.split_text_from_url(url)\n",
    "html_header_splits"
   ]
  }
 ],
 "metadata": {
  "kernelspec": {
   "display_name": "Python 3 (ipykernel)",
   "language": "python",
   "name": "python3"
  },
  "language_info": {
   "codemirror_mode": {
    "name": "ipython",
    "version": 3
   },
   "file_extension": ".py",
   "mimetype": "text/x-python",
   "name": "python",
   "nbconvert_exporter": "python",
   "pygments_lexer": "ipython3",
   "version": "3.11.4"
  }
 },
 "nbformat": 4,
 "nbformat_minor": 5
}
