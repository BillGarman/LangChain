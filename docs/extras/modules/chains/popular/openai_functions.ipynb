{
 "cells": [
  {
   "cell_type": "markdown",
   "id": "54ccb772",
   "metadata": {},
   "source": [
    "# OpenAI functions\n",
    "This walkthrough demonstrates how to incorporate OpenAI function-calling API's in a chain."
   ]
  },
  {
   "cell_type": "code",
   "execution_count": 1,
   "id": "767ac575",
   "metadata": {},
   "outputs": [],
   "source": [
    "from typing import Optional\n",
    "\n",
    "from langchain.chains.openai_functions.base import create_openai_fn_chain\n",
    "from langchain.prompts import ChatPromptTemplate"
   ]
  },
  {
   "cell_type": "markdown",
   "id": "9ad9162e",
   "metadata": {},
   "source": [
    "## Using Python functions"
   ]
  },
  {
   "cell_type": "code",
   "execution_count": 2,
   "id": "95ac5825",
   "metadata": {},
   "outputs": [
    {
     "name": "stdout",
     "output_type": "stream",
     "text": [
      "\n",
      "\n",
      "\u001b[1m> Entering new  chain...\u001b[0m\n",
      "\n",
      "\n",
      "\u001b[1m> Entering new  chain...\u001b[0m\n",
      "Prompt after formatting:\n",
      "\u001b[32;1m\u001b[1;3mHuman: Extract information about the relevant entity: Tommy was 12, and loved apple pie\u001b[0m\n",
      "\n",
      "\u001b[1m> Finished chain.\u001b[0m\n",
      "\n",
      "\n",
      "\u001b[1m> Entering new  chain...\u001b[0m\n",
      "Calling function \u001b[32;1m\u001b[1;3mrecord_person\u001b[0m with arguments:\n",
      "\u001b[32;1m\u001b[1;3m{\n",
      "  \"name\": \"Tommy\",\n",
      "  \"age\": 12,\n",
      "  \"fav_food\": \"apple pie\"\n",
      "}\u001b[0m\n",
      "\u001b[1m> Finished chain.\u001b[0m\n",
      "\n",
      "\u001b[1m> Finished chain.\u001b[0m\n"
     ]
    },
    {
     "data": {
      "text/plain": [
       "'Recording person Tommy of age 12 with fav food apple pie!'"
      ]
     },
     "execution_count": 2,
     "metadata": {},
     "output_type": "execute_result"
    }
   ],
   "source": [
    "def record_person(name: str, age: int, fav_food: Optional[str]=None) -> str:\n",
    "    \"\"\"Record some basic identifying information about a person.\n",
    "    \n",
    "    Args:\n",
    "        name: The person's name.\n",
    "        age: The person's age in years.\n",
    "        fav_food: The name of the person's favorite food.\n",
    "    \"\"\"\n",
    "    return f\"Recording person {name} of age {age} with fav food {fav_food}!\"\n",
    "    \n",
    "    \n",
    "prompt = ChatPromptTemplate.from_template(\"Extract information about the relevant entity: {input}\")\n",
    "chain = create_openai_fn_chain([record_person], prompt=prompt, verbose=True)\n",
    "chain.run(\"Tommy was 12, and loved apple pie\")"
   ]
  },
  {
   "cell_type": "markdown",
   "id": "e0329017",
   "metadata": {},
   "source": [
    "## Using Pydantic objects"
   ]
  },
  {
   "cell_type": "code",
   "execution_count": 3,
   "id": "b459a33e",
   "metadata": {},
   "outputs": [
    {
     "name": "stdout",
     "output_type": "stream",
     "text": [
      "\n",
      "\n",
      "\u001b[1m> Entering new  chain...\u001b[0m\n",
      "Prompt after formatting:\n",
      "\u001b[32;1m\u001b[1;3mHuman: Sally is 13 \u001b[0m\n",
      "\n",
      "\u001b[1m> Finished chain.\u001b[0m\n"
     ]
    },
    {
     "data": {
      "text/plain": [
       "RecordPerson(name='Sally', age=13, fav_food=None)"
      ]
     },
     "execution_count": 3,
     "metadata": {},
     "output_type": "execute_result"
    }
   ],
   "source": [
    "from pydantic import BaseModel, Field\n",
    "\n",
    "class RecordPerson(BaseModel):\n",
    "    \"\"\"Record some basic identifying information about a person.\"\"\"\n",
    "    name: str = Field(..., description=\"The person's name\")\n",
    "    age: int = Field(..., description=\"The person's age\")\n",
    "    fav_food: Optional[str] = Field(None, description=\"The person's favorite food\")\n",
    "        \n",
    "chain = create_openai_fn_chain([RecordPerson], verbose=True)\n",
    "chain.run(\"Sally is 13 \")"
   ]
  },
  {
   "cell_type": "markdown",
   "id": "4184d9a3",
   "metadata": {},
   "source": [
    "## Create a Chain that runs the chosen function\n"
   ]
  },
  {
   "cell_type": "code",
   "execution_count": null,
   "id": "43b0dfe0",
   "metadata": {},
   "outputs": [],
   "source": [
    "from typing import Any, Callable, Dict, List, Optional\n",
    "\n",
    "from langchain.callbacks.manager import CallbackManagerForChainRun\n",
    "from langchain.chains.base import Chain\n",
    "from langchain.input import get_colored_text\n",
    "\n",
    "\n",
    "class FunctionExecutorChain(Chain):\n",
    "    functions: Dict[str, Callable]\n",
    "    output_key: str = \"output\"\n",
    "    input_key: str = \"function\"\n",
    "\n",
    "    @property\n",
    "    def input_keys(self) -> List[str]:\n",
    "        return [self.input_key]\n",
    "\n",
    "    @property\n",
    "    def output_keys(self) -> List[str]:\n",
    "        return [self.output_key]\n",
    "\n",
    "    def _call(\n",
    "        self,\n",
    "        inputs: Dict[str, Any],\n",
    "        run_manager: Optional[CallbackManagerForChainRun] = None,\n",
    "    ) -> Dict[str, Any]:\n",
    "        \"\"\"Run the logic of this chain and return the output.\"\"\"\n",
    "        _run_manager = run_manager or CallbackManagerForChainRun.get_noop_manager()\n",
    "        name = inputs[\"function\"].pop(\"name\")\n",
    "        args = inputs[\"function\"].pop(\"arguments\")\n",
    "        _pretty_name = get_colored_text(name, \"green\")\n",
    "        _pretty_args = get_colored_text(json.dumps(args, indent=2), \"green\")\n",
    "        _text = f\"Calling function {_pretty_name} with arguments:\\n\" + _pretty_args\n",
    "        _run_manager.on_text(_text)\n",
    "        output = self.functions[name](**args)\n",
    "        return {self.output_key: output}"
   ]
  },
  {
   "cell_type": "code",
   "execution_count": null,
   "id": "89babd54",
   "metadata": {},
   "outputs": [],
   "source": [
    "fn_map = {\n",
    "    openai_fn[\"name\"]: fn for openai_fn, fn in zip(openai_functions, functions)\n",
    "}\n",
    "exec_chain = FunctionExecutorChain(functions=fn_map, verbose=verbose)\n",
    "chain = SequentialChain(\n",
    "    chains=[llm_chain, exec_chain],\n",
    "    input_variables=llm_chain.input_keys,\n",
    "    output_variables=[\"output\"],\n",
    "    verbose=verbose,\n",
    ")\n",
    "chain.run(\"Tommy was 12, and loved apple pie\")"
   ]
  }
 ],
 "metadata": {
  "kernelspec": {
   "display_name": "venv",
   "language": "python",
   "name": "venv"
  },
  "language_info": {
   "codemirror_mode": {
    "name": "ipython",
    "version": 3
   },
   "file_extension": ".py",
   "mimetype": "text/x-python",
   "name": "python",
   "nbconvert_exporter": "python",
   "pygments_lexer": "ipython3",
   "version": "3.11.3"
  }
 },
 "nbformat": 4,
 "nbformat_minor": 5
}
