{
 "cells": [
  {
   "cell_type": "markdown",
   "id": "c94240f5",
   "metadata": {},
   "source": [
    "# Graph DB QA chain\n",
    "\n",
    "This notebook shows how to use LLMs to provide a natural language interface to [HugeGraph](https://hugegraph.apache.org/cn/) database."
   ]
  },
  {
   "cell_type": "markdown",
   "source": [
    "You will need to have a running HugeGraph instance.\n",
    "You can run a local docker container by running the executing the following script:\n",
    "\n",
    "```\n",
    "docker run \\\n",
    "    --name=graph \\\n",
    "    -itd \\\n",
    "    -p 8080:8080 \\\n",
    "    hugegraph/hugegraph\n",
    "```\n",
    "\n",
    "If we want to connect HugeGraph in the application, we need to install python sdk:\n",
    "\n",
    "```\n",
    "pip3 install hugegraph-python\n",
    "```"
   ],
   "metadata": {
    "collapsed": false
   }
  },
  {
   "cell_type": "markdown",
   "source": [
    "If you are using the docker container, you need to wait a couple of second for the database to start, and then we need create schema and write graph data for the database."
   ],
   "metadata": {
    "collapsed": false
   }
  },
  {
   "cell_type": "code",
   "execution_count": 2,
   "outputs": [],
   "source": [
    "from hugegraph.connection import PyHugeGraph\n",
    "client = PyHugeGraph(\"localhost\", \"8080\", user=\"admin\", pwd=\"admin\", graph=\"langchain\")"
   ],
   "metadata": {
    "collapsed": false
   }
  },
  {
   "cell_type": "markdown",
   "source": [
    "First, we create the schema for a simple movie database:"
   ],
   "metadata": {
    "collapsed": false
   }
  },
  {
   "cell_type": "code",
   "execution_count": 2,
   "outputs": [],
   "source": [
    "\"\"\"schema\"\"\"\n",
    "schema = client.schema()\n",
    "schema.propertyKey(\"name\").asText().ifNotExist().create()\n",
    "schema.propertyKey(\"birthDate\").asText().ifNotExist().create()\n",
    "schema.vertexLabel(\"Person\").properties(\"name\", \"birthDate\").usePrimaryKeyId().primaryKeys(\n",
    "    \"name\").ifNotExist().create()\n",
    "schema.vertexLabel(\"Movie\").properties(\"name\").usePrimaryKeyId().primaryKeys(\"name\").ifNotExist().create()\n",
    "schema.edgeLabel(\"ActedIn\").sourceLabel(\"Person\").targetLabel(\"Movie\").ifNotExist().create()"
   ],
   "metadata": {
    "collapsed": false
   }
  },
  {
   "cell_type": "markdown",
   "source": [
    "Then we can insert some data."
   ],
   "metadata": {
    "collapsed": false
   }
  },
  {
   "cell_type": "code",
   "execution_count": 2,
   "outputs": [],
   "source": [
    "\"\"\"graph\"\"\"\n",
    "g = client.graph()\n",
    "g.addVertex(\"Person\", {\"name\": \"Al Pacino\", \"birthDate\": \"1940-04-25\"})\n",
    "g.addVertex(\"Person\", {\"name\": \"Robert De Niro\", \"birthDate\": \"1943-08-17\"})\n",
    "g.addVertex(\"Movie\", {\"name\": \"The Godfather\"})\n",
    "g.addVertex(\"Movie\", {\"name\": \"The Godfather Part II\"})\n",
    "g.addVertex(\"Movie\", {\"name\": \"The Godfather Coda The Death of Michael Corleone\"})\n",
    "\n",
    "g.addEdge(\"ActedIn\", \"12:Al Pacino\", \"13:The Godfather\", {})\n",
    "g.addEdge(\"ActedIn\", \"12:Al Pacino\", \"13:The Godfather Part II\", {})\n",
    "g.addEdge(\"ActedIn\", \"12:Al Pacino\", \"13:The Godfather Coda The Death of Michael Corleone\", {})\n",
    "g.addEdge(\"ActedIn\", \"12:Robert De Niro\", \"13:The Godfather Part II\", {})"
   ],
   "metadata": {
    "collapsed": false
   }
  },
  {
   "cell_type": "markdown",
   "source": [
    "## Creating `HugeGraphQAChain`\n",
    "\n",
    "We can now create the `HugeGraph` and `HugeGraphQAChain`. To create the `HugeGraph` we simply need to pass the database object to the `HugeGraph` constructor."
   ],
   "metadata": {
    "collapsed": false
   }
  },
  {
   "cell_type": "code",
   "execution_count": 2,
   "id": "62812aad",
   "metadata": {
    "is_executing": true
   },
   "outputs": [],
   "source": [
    "from langchain.chat_models import ChatOpenAI\n",
    "from langchain.chains import HugeGraphQAChain\n",
    "from langchain.graphs import HugeGraph"
   ]
  },
  {
   "cell_type": "code",
   "execution_count": 2,
   "id": "0928915d",
   "metadata": {},
   "outputs": [],
   "source": [
    "graph = HugeGraph(\n",
    "    username=\"default\",\n",
    "    password=\"default\",\n",
    "    address=\"address\",\n",
    "    port=8081,\n",
    "    graph=\"graph\"\n",
    ")"
   ]
  },
  {
   "cell_type": "markdown",
   "id": "58c1a8ea",
   "metadata": {},
   "source": [
    "## Refresh graph schema information\n",
    "\n",
    "If the schema of database changes, you can refresh the schema information needed to generate Gremlin statements."
   ]
  },
  {
   "cell_type": "code",
   "execution_count": 4,
   "id": "4e3de44f",
   "metadata": {},
   "outputs": [],
   "source": [
    "# graph.refresh_schema()"
   ]
  },
  {
   "cell_type": "code",
   "execution_count": 2,
   "id": "1fe76ccd",
   "metadata": {
    "ExecuteTime": {}
   },
   "outputs": [
    {
     "name": "stdout",
     "output_type": "stream",
     "text": [
      "Node properties: [name: Movie, primary_keys: ['name'], properties: ['name'], name: Person, primary_keys: ['name'], properties: ['name', 'birthDate']]\n",
      "Edge properties: [name: ActedIn, properties: []]\n",
      "Relationships: ['Person--ActedIn-->Movie']\n",
      "\n"
     ]
    }
   ],
   "source": [
    "print(graph.get_schema)"
   ]
  },
  {
   "cell_type": "markdown",
   "id": "68a3c677",
   "metadata": {},
   "source": [
    "## Querying the graph\n",
    "\n",
    "We can now use the graph Gremlin QA chain to ask question of the graph"
   ]
  },
  {
   "cell_type": "code",
   "execution_count": 6,
   "id": "7476ce98",
   "metadata": {},
   "outputs": [],
   "source": [
    "chain = HugeGraphQAChain.from_llm(\n",
    "    ChatOpenAI(temperature=0), graph=graph, verbose=True\n",
    ")"
   ]
  },
  {
   "cell_type": "code",
   "execution_count": 7,
   "id": "ef8ee27b",
   "metadata": {},
   "outputs": [
    {
     "name": "stdout",
     "output_type": "stream",
     "text": [
      "\n",
      "\n",
      "\u001B[1m> Entering new GraphCypherQAChain chain...\u001B[0m\n",
      "Generated Cypher:\n",
      "\u001B[32;1m\u001B[1;3mg.V().has(\"name\", \"The Godfather\").in(\"ActedIn\")",
      "\u001B[0m\n",
      "Full Context:\n",
      "\u001B[32;1m\u001B[1;3m[{'id':'12:Al Pacino','label':'Person','properties':{'name':'Al Pacino','birthDate':'1940-04-25'}}]\u001B[0m\n",
      "\n",
      "\u001B[1m> Finished chain.\u001B[0m\n"
     ]
    },
    {
     "data": {
      "text/plain": [
       "'Al Pacino played in The Godfather.''"
      ]
     },
     "execution_count": 7,
     "metadata": {},
     "output_type": "execute_result"
    }
   ],
   "source": [
    "chain.run(\"Who played in The Godfather?\")"
   ]
  }
 ],
 "metadata": {
  "kernelspec": {
   "display_name": "Python 3 (ipykernel)",
   "language": "python",
   "name": "python3"
  },
  "language_info": {
   "codemirror_mode": {
    "name": "ipython",
    "version": 3
   },
   "file_extension": ".py",
   "mimetype": "text/x-python",
   "name": "python",
   "nbconvert_exporter": "python",
   "pygments_lexer": "ipython3",
   "version": "3.8.8"
  }
 },
 "nbformat": 4,
 "nbformat_minor": 5
}
