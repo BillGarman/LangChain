{
 "cells": [
  {
   "cell_type": "markdown",
   "id": "c94240f5",
   "metadata": {
    "id": "c94240f5"
   },
   "source": [
    "# ArangoDB QA chain\n",
    "\n",
    "This notebook shows how to use LLMs to provide a natural language interface to an [ArangoDB](https://github.com/arangodb/arangodb#readme) database."
   ]
  },
  {
   "cell_type": "markdown",
   "id": "dbc0ee68",
   "metadata": {
    "id": "dbc0ee68"
   },
   "source": [
    "You can get a local ArangoDB instance running via the [ArangoDB Docker image](https://hub.docker.com/_/arangodb):  \n",
    "\n",
    "```\n",
    "docker run -p 8529:8529 -e ARANGO_ROOT_PASSWORD= arangodb/arangodb\n",
    "```\n",
    "\n",
    "An alternative is to use the [ArangoDB Cloud Connector package](https://github.com/arangodb/adb-cloud-connector#readme) to get a temporary cloud instance running."
   ]
  },
  {
   "cell_type": "code",
   "source": [
    "# Let's install the ArangoDB Python Driver\n",
    "%%capture\n",
    "!pip install python-arango"
   ],
   "metadata": {
    "id": "izi6YoFC8KRH"
   },
   "id": "izi6YoFC8KRH",
   "execution_count": 14,
   "outputs": []
  },
  {
   "cell_type": "code",
   "execution_count": 2,
   "id": "62812aad",
   "metadata": {
    "id": "62812aad"
   },
   "outputs": [],
   "source": [
    "from langchain.chat_models import ChatOpenAI\n",
    "from langchain.chains import ArangoDBGraphQAChain\n",
    "from langchain.graphs import ArangoDBGraph"
   ]
  },
  {
   "cell_type": "code",
   "execution_count": 5,
   "id": "0928915d",
   "metadata": {
    "id": "0928915d"
   },
   "outputs": [],
   "source": [
    "from arango import ArangoClient\n",
    "\n",
    "# Instantiate the ArangoDB Python Client\n",
    "db = ArangoClient(hosts=\"localhost:8529\").db(\n",
    "    name=\"_system\", username=\"root\", password=\"\", verify=True\n",
    ")\n",
    "\n",
    "# Instantiate the ArangoDB-LangChain Graph\n",
    "graph = ArangoDBGraph(db)"
   ]
  },
  {
   "cell_type": "markdown",
   "id": "995ea9b9",
   "metadata": {
    "id": "995ea9b9"
   },
   "source": [
    "## Populating the Database\n",
    "\n",
    "We will rely on the Python Driver to import our [GameOfThrones](https://github.com/arangodb/example-datasets/tree/master/GameOfThrones) data into our database."
   ]
  },
  {
   "cell_type": "code",
   "execution_count": 6,
   "id": "fedd26b9",
   "metadata": {
    "colab": {
     "base_uri": "https://localhost:8080/"
    },
    "id": "fedd26b9",
    "outputId": "f0806502-fc6d-47ac-f727-849e146d07b0"
   },
   "outputs": [
    {
     "output_type": "execute_result",
     "data": {
      "text/plain": [
       "{'error': False,\n",
       " 'created': 4,\n",
       " 'errors': 0,\n",
       " 'empty': 0,\n",
       " 'updated': 0,\n",
       " 'ignored': 0,\n",
       " 'details': []}"
      ]
     },
     "metadata": {},
     "execution_count": 6
    }
   ],
   "source": [
    "if db.has_graph(\"GameOfThrones\"):\n",
    "    db.delete_graph(\"GameOfThrones\", drop_collections=True)\n",
    "\n",
    "db.create_graph(\n",
    "    \"GameOfThrones\",\n",
    "    edge_definitions=[\n",
    "        {\n",
    "            \"edge_collection\": \"ChildOf\",\n",
    "            \"from_vertex_collections\": [\"Characters\"],\n",
    "            \"to_vertex_collections\": [\"Characters\"],\n",
    "        },\n",
    "    ],\n",
    ")\n",
    "\n",
    "documents = [\n",
    "    {\n",
    "        \"_key\": \"NedStark\",\n",
    "        \"name\": \"Ned\",\n",
    "        \"surname\": \"Stark\",\n",
    "        \"alive\": True,\n",
    "        \"age\": 41,\n",
    "        \"gender\": \"male\",\n",
    "    },\n",
    "    {\n",
    "        \"_key\": \"CatelynStark\",\n",
    "        \"name\": \"Catelyn\",\n",
    "        \"surname\": \"Stark\",\n",
    "        \"alive\": False,\n",
    "        \"age\": 40,\n",
    "        \"gender\": \"female\",\n",
    "    },\n",
    "    {\n",
    "        \"_key\": \"AryaStark\",\n",
    "        \"name\": \"Arya\",\n",
    "        \"surname\": \"Stark\",\n",
    "        \"alive\": True,\n",
    "        \"age\": 11,\n",
    "        \"gender\": \"female\",\n",
    "    },\n",
    "    {\n",
    "        \"_key\": \"BranStark\",\n",
    "        \"name\": \"Bran\",\n",
    "        \"surname\": \"Stark\",\n",
    "        \"alive\": True,\n",
    "        \"age\": 10,\n",
    "        \"gender\": \"male\",\n",
    "    },\n",
    "]\n",
    "\n",
    "edges = [\n",
    "    {\"_to\": \"Characters/NedStark\", \"_from\": \"Characters/AryaStark\"},\n",
    "    {\"_to\": \"Characters/NedStark\", \"_from\": \"Characters/BranStark\"},\n",
    "    {\"_to\": \"Characters/CatelynStark\", \"_from\": \"Characters/AryaStark\"},\n",
    "    {\"_to\": \"Characters/CatelynStark\", \"_from\": \"Characters/BranStark\"},\n",
    "]\n",
    "\n",
    "db.collection(\"Characters\").import_bulk(documents)\n",
    "db.collection(\"ChildOf\").import_bulk(edges)"
   ]
  },
  {
   "cell_type": "markdown",
   "id": "58c1a8ea",
   "metadata": {
    "id": "58c1a8ea"
   },
   "source": [
    "## Getting & Setting the ArangoDB Schema\n",
    "\n",
    "An initial ArangoDB Schema is generated upon instantiating the `ArangoDBGraph` object. Below are the schema's getter & setter methods should you be interested in viewing or modifying the schema:"
   ]
  },
  {
   "cell_type": "code",
   "execution_count": 8,
   "id": "4e3de44f",
   "metadata": {
    "colab": {
     "base_uri": "https://localhost:8080/"
    },
    "id": "4e3de44f",
    "outputId": "6633939b-0ddd-41b5-8436-e11aebddc450"
   },
   "outputs": [
    {
     "output_type": "stream",
     "name": "stdout",
     "text": [
      "{\n",
      "    \"Graph Schema\": [],\n",
      "    \"Collection Schema\": []\n",
      "}\n"
     ]
    }
   ],
   "source": [
    "# The schema should be empty here,\n",
    "# since `graph` was initialized prior to ArangoDB Data ingestion (see above).\n",
    "\n",
    "import json\n",
    "\n",
    "print(json.dumps(graph.schema, indent=4))"
   ]
  },
  {
   "cell_type": "code",
   "execution_count": 9,
   "id": "1fe76ccd",
   "metadata": {
    "id": "1fe76ccd"
   },
   "outputs": [],
   "source": [
    "graph.set_schema()"
   ]
  },
  {
   "cell_type": "code",
   "source": [
    "# We can now view the generated schema\n",
    "\n",
    "import json\n",
    "\n",
    "print(json.dumps(graph.schema, indent=4))"
   ],
   "metadata": {
    "colab": {
     "base_uri": "https://localhost:8080/"
    },
    "id": "mZ679anj_-Er",
    "outputId": "9193137f-4c6c-490a-8ac6-fb14db588f7d"
   },
   "id": "mZ679anj_-Er",
   "execution_count": 10,
   "outputs": [
    {
     "output_type": "stream",
     "name": "stdout",
     "text": [
      "{\n",
      "    \"Graph Schema\": [\n",
      "        {\n",
      "            \"graph_name\": \"GameOfThrones\",\n",
      "            \"edge_definitions\": [\n",
      "                {\n",
      "                    \"edge_collection\": \"ChildOf\",\n",
      "                    \"from_vertex_collections\": [\n",
      "                        \"Characters\"\n",
      "                    ],\n",
      "                    \"to_vertex_collections\": [\n",
      "                        \"Characters\"\n",
      "                    ]\n",
      "                }\n",
      "            ]\n",
      "        }\n",
      "    ],\n",
      "    \"Collection Schema\": [\n",
      "        {\n",
      "            \"collection_name\": \"ChildOf\",\n",
      "            \"collection_type\": \"edge\",\n",
      "            \"edge_properties\": {\n",
      "                \"_key\": \"str\",\n",
      "                \"_id\": \"str\",\n",
      "                \"_from\": \"str\",\n",
      "                \"_to\": \"str\"\n",
      "            },\n",
      "            \"example_edge\": {\n",
      "                \"_key\": \"266215846076\",\n",
      "                \"_id\": \"ChildOf/266215846076\",\n",
      "                \"_from\": \"Characters/AryaStark\",\n",
      "                \"_to\": \"Characters/NedStark\",\n",
      "                \"_rev\": \"_gUV5dAm---\"\n",
      "            }\n",
      "        },\n",
      "        {\n",
      "            \"collection_name\": \"Characters\",\n",
      "            \"collection_type\": \"document\",\n",
      "            \"document_properties\": {\n",
      "                \"_key\": \"str\",\n",
      "                \"_id\": \"str\",\n",
      "                \"name\": \"str\",\n",
      "                \"surname\": \"str\",\n",
      "                \"alive\": \"bool\",\n",
      "                \"age\": \"int\",\n",
      "                \"gender\": \"str\"\n",
      "            },\n",
      "            \"example_document\": {\n",
      "                \"_key\": \"NedStark\",\n",
      "                \"_id\": \"Characters/NedStark\",\n",
      "                \"_rev\": \"_gUV5d-C---\",\n",
      "                \"name\": \"Ned\",\n",
      "                \"surname\": \"Stark\",\n",
      "                \"alive\": true,\n",
      "                \"age\": 41,\n",
      "                \"gender\": \"male\"\n",
      "            }\n",
      "        }\n",
      "    ]\n",
      "}\n"
     ]
    }
   ]
  },
  {
   "cell_type": "markdown",
   "id": "68a3c677",
   "metadata": {
    "id": "68a3c677"
   },
   "source": [
    "## Querying the ArangoDB Database\n",
    "\n",
    "We can now use the ArangoDB Graph QA Chain to inquire about our data"
   ]
  },
  {
   "cell_type": "code",
   "execution_count": 15,
   "id": "7476ce98",
   "metadata": {
    "id": "7476ce98"
   },
   "outputs": [],
   "source": [
    "chain = ArangoDBGraphQAChain.from_llm(\n",
    "    ChatOpenAI(temperature=0), graph=graph, verbose=True\n",
    ")"
   ]
  },
  {
   "cell_type": "code",
   "execution_count": 16,
   "id": "ef8ee27b",
   "metadata": {
    "colab": {
     "base_uri": "https://localhost:8080/",
     "height": 261
    },
    "id": "ef8ee27b",
    "outputId": "afcdbcb2-e000-4094-f987-e05ba7fb033d"
   },
   "outputs": [
    {
     "output_type": "stream",
     "name": "stdout",
     "text": [
      "\n",
      "\n",
      "\u001b[1m> Entering new ArangoDBGraphQAChain chain...\u001b[0m\n",
      "Generated AQL:\n",
      "\u001b[32;1m\u001b[1;3m\n",
      "FOR character IN Characters\n",
      "FILTER LOWER(character.name) == \"ned\" AND LOWER(character.surname) == \"stark\"\n",
      "RETURN character.alive\n",
      "\u001b[0m\n",
      "AQL Result:\n",
      "\u001b[32;1m\u001b[1;3m[True]\u001b[0m\n",
      "\n",
      "\u001b[1m> Finished chain.\u001b[0m\n"
     ]
    },
    {
     "output_type": "execute_result",
     "data": {
      "text/plain": [
       "'Yes, Ned Stark is alive.'"
      ],
      "application/vnd.google.colaboratory.intrinsic+json": {
       "type": "string"
      }
     },
     "metadata": {},
     "execution_count": 16
    }
   ],
   "source": [
    "chain.run(\"Is Ned Stark alive?\")"
   ]
  },
  {
   "cell_type": "code",
   "source": [
    "chain.run(\"How old is Arya Stark?\")"
   ],
   "metadata": {
    "colab": {
     "base_uri": "https://localhost:8080/",
     "height": 261
    },
    "id": "9CSig1BgA76q",
    "outputId": "36561539-3110-4525-ec82-4e97ee5b17d2"
   },
   "id": "9CSig1BgA76q",
   "execution_count": 17,
   "outputs": [
    {
     "output_type": "stream",
     "name": "stdout",
     "text": [
      "\n",
      "\n",
      "\u001b[1m> Entering new ArangoDBGraphQAChain chain...\u001b[0m\n",
      "Generated AQL:\n",
      "\u001b[32;1m\u001b[1;3m\n",
      "FOR character IN Characters\n",
      "FILTER character.name == \"Arya\" AND character.surname == \"Stark\"\n",
      "RETURN character.age\n",
      "\u001b[0m\n",
      "AQL Result:\n",
      "\u001b[32;1m\u001b[1;3m[11]\u001b[0m\n",
      "\n",
      "\u001b[1m> Finished chain.\u001b[0m\n"
     ]
    },
    {
     "output_type": "execute_result",
     "data": {
      "text/plain": [
       "'Arya Stark is 11 years old.'"
      ],
      "application/vnd.google.colaboratory.intrinsic+json": {
       "type": "string"
      }
     },
     "metadata": {},
     "execution_count": 17
    }
   ]
  },
  {
   "cell_type": "code",
   "source": [
    "chain.run(\"Who is the child of Ned Stark?\")"
   ],
   "metadata": {
    "colab": {
     "base_uri": "https://localhost:8080/",
     "height": 281
    },
    "id": "9Fzdic_pA_4y",
    "outputId": "d8886730-3980-4430-c898-ec663b2c33cb"
   },
   "id": "9Fzdic_pA_4y",
   "execution_count": 22,
   "outputs": [
    {
     "output_type": "stream",
     "name": "stdout",
     "text": [
      "\n",
      "\n",
      "\u001b[1m> Entering new ArangoDBGraphQAChain chain...\u001b[0m\n",
      "Generated AQL:\n",
      "\u001b[32;1m\u001b[1;3m\n",
      "FOR child IN ChildOf\n",
      "    FILTER child._to == 'Characters/NedStark'\n",
      "    RETURN child\n",
      "\u001b[0m\n",
      "AQL Result:\n",
      "\u001b[32;1m\u001b[1;3m[{'_key': '266215846076', '_id': 'ChildOf/266215846076', '_from': 'Characters/AryaStark', '_to': 'Characters/NedStark', '_rev': '_gUV5dAm---'}, {'_key': '266215846077', '_id': 'ChildOf/266215846077', '_from': 'Characters/BranStark', '_to': 'Characters/NedStark', '_rev': '_gUV5dAm--_'}]\u001b[0m\n",
      "\n",
      "\u001b[1m> Finished chain.\u001b[0m\n"
     ]
    },
    {
     "output_type": "execute_result",
     "data": {
      "text/plain": [
       "'The child of Ned Stark is Arya Stark and Bran Stark.'"
      ],
      "application/vnd.google.colaboratory.intrinsic+json": {
       "type": "string"
      }
     },
     "metadata": {},
     "execution_count": 22
    }
   ]
  }
 ],
 "metadata": {
  "kernelspec": {
   "display_name": "Python 3 (ipykernel)",
   "language": "python",
   "name": "python3"
  },
  "language_info": {
   "codemirror_mode": {
    "name": "ipython",
    "version": 3
   },
   "file_extension": ".py",
   "mimetype": "text/x-python",
   "name": "python",
   "nbconvert_exporter": "python",
   "pygments_lexer": "ipython3",
   "version": "3.8.8"
  },
  "colab": {
   "provenance": [],
   "collapsed_sections": [
    "995ea9b9",
    "58c1a8ea",
    "68a3c677"
   ]
  }
 },
 "nbformat": 4,
 "nbformat_minor": 5
}