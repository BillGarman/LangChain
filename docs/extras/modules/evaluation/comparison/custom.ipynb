{
 "cells": [
  {
   "cell_type": "markdown",
   "id": "657d2c8c-54b4-42a3-9f02-bdefa0ed6728",
   "metadata": {},
   "source": [
    "# Custom Pairwise Evaluator\n",
    "\n",
    "You can make your own pairwise string evaluators by inheriting from `PairwiseStringEvaluator` class.\n",
    "\n",
    "In this example, you will create create simple exact-match evaluator that compares the predictions.\n",
    "\n",
    "You can check out the reference docs for the [PairwiseStringEvaluator interface](https://api.python.langchain.com/en/latest/evaluation/langchain.evaluation.schema.PairwiseStringEvaluator.html#langchain.evaluation.schema.PairwiseStringEvaluator) for more info.\n"
   ]
  },
  {
   "cell_type": "code",
   "execution_count": 1,
   "id": "b6e978ab-48f1-47ff-9506-e13b1a50be6e",
   "metadata": {
    "tags": []
   },
   "outputs": [],
   "source": [
    "from typing import Optional, Any\n",
    "from langchain.evaluation import PairwiseStringEvaluator\n",
    "\n",
    "\n",
    "class ExactMatchPairwiseEvalutor(PairwiseStringEvaluator):\n",
    "    \n",
    "    def _evaluate_string_pairs(\n",
    "        self,\n",
    "        *,\n",
    "        prediction: str,\n",
    "        prediction_b: str,\n",
    "        reference: Optional[str] = None,\n",
    "        input: Optional[str] = None,\n",
    "        **kwargs: Any,\n",
    "    ) -> dict:\n",
    "        score = int(prediction == prediction_b)\n",
    "        return {\"score\": score}\n"
   ]
  },
  {
   "cell_type": "code",
   "execution_count": 2,
   "id": "5cbd8b1d-2cb0-4f05-b435-a1a00074d94a",
   "metadata": {
    "tags": []
   },
   "outputs": [],
   "source": [
    "evaluator = ExactMatchPairwiseEvalutor()"
   ]
  },
  {
   "cell_type": "code",
   "execution_count": 3,
   "id": "2c0a7fb7-b976-4443-9f0e-e707a6dfbdf7",
   "metadata": {
    "tags": []
   },
   "outputs": [
    {
     "data": {
      "text/plain": [
       "{'score': 0}"
      ]
     },
     "execution_count": 3,
     "metadata": {},
     "output_type": "execute_result"
    }
   ],
   "source": [
    "evaluator.evaluate_string_pairs(\n",
    "    prediction=\"London\",\n",
    "    prediction_b=\"london\",\n",
    ")"
   ]
  },
  {
   "cell_type": "code",
   "execution_count": 4,
   "id": "a83b90fd-6fd9-47e1-9b42-6565a6cfde52",
   "metadata": {
    "tags": []
   },
   "outputs": [
    {
     "data": {
      "text/plain": [
       "{'score': 1}"
      ]
     },
     "execution_count": 4,
     "metadata": {},
     "output_type": "execute_result"
    }
   ],
   "source": [
    "evaluator.evaluate_string_pairs(\n",
    "    prediction=\"London\",\n",
    "    prediction_b=\"London\",\n",
    ")"
   ]
  }
 ],
 "metadata": {
  "kernelspec": {
   "display_name": "Python 3 (ipykernel)",
   "language": "python",
   "name": "python3"
  },
  "language_info": {
   "codemirror_mode": {
    "name": "ipython",
    "version": 3
   },
   "file_extension": ".py",
   "mimetype": "text/x-python",
   "name": "python",
   "nbconvert_exporter": "python",
   "pygments_lexer": "ipython3",
   "version": "3.11.2"
  }
 },
 "nbformat": 4,
 "nbformat_minor": 5
}
