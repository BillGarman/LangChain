{
 "cells": [
  {
   "cell_type": "markdown",
   "id": "07311335",
   "metadata": {},
   "source": [
    "# Comma separated list parser\n",
    "\n",
    "Пармер ответов LLM, разделенных запятой"
   ]
  },
  {
   "cell_type": "code",
   "execution_count": 5,
   "id": "77e49a3d",
   "metadata": {},
   "outputs": [],
   "source": [
    "from langchain.prompts import PromptTemplate\n",
    "from langchain.output_parsers import CommaSeparatedListOutputParser\n",
    "from langchain.chains import LLMChain\n",
    "from langchain.chat_models import GigaChat\n",
    "from langchain.schema import HumanMessage\n",
    "\n",
    "model = GigaChat(user=\"<login>\", password=\"<password>\")"
   ]
  },
  {
   "cell_type": "code",
   "execution_count": 6,
   "id": "ace93488",
   "metadata": {},
   "outputs": [],
   "source": [
    "output_parser = CommaSeparatedListOutputParser()\n",
    "\n",
    "format_instructions = output_parser.get_format_instructions()\n",
    "prompt = PromptTemplate(\n",
    "    template=\"Придумай пять разных {subject}.\\n{format_instructions}\",\n",
    "    input_variables=[\"subject\"],\n",
    "    partial_variables={\"format_instructions\": format_instructions}\n",
    ")"
   ]
  },
  {
   "cell_type": "code",
   "execution_count": 9,
   "id": "9240a3ae",
   "metadata": {},
   "outputs": [
    {
     "name": "stdout",
     "output_type": "stream",
     "text": [
      "Output:\n",
      "Солнце, звезда, светильник, светило, лампочка.\n"
     ]
    },
    {
     "data": {
      "text/plain": [
       "['Солнце', 'звезда', 'светильник', 'светило', 'лампочка.']"
      ]
     },
     "execution_count": 9,
     "metadata": {},
     "output_type": "execute_result"
    }
   ],
   "source": [
    "output = model([HumanMessage(content=prompt.format(subject=\"синонимов к слову солнце\"))])\n",
    "\n",
    "print(f\"Output:\\n{output.content}\")\n",
    "res = output_parser.parse(output.content)\n",
    "res"
   ]
  }
 ],
 "metadata": {
  "kernelspec": {
   "display_name": "Python 3 (ipykernel)",
   "language": "python",
   "name": "python3"
  },
  "language_info": {
   "codemirror_mode": {
    "name": "ipython",
    "version": 3
   },
   "file_extension": ".py",
   "mimetype": "text/x-python",
   "name": "python",
   "nbconvert_exporter": "python",
   "pygments_lexer": "ipython3",
   "version": "3.10.9"
  }
 },
 "nbformat": 4,
 "nbformat_minor": 5
}
