{
 "cells": [
  {
   "cell_type": "markdown",
   "id": "181b5b6d",
   "metadata": {},
   "source": [
    "# XML parser\n",
    "This output parser allows users to obtain results from LLM in the popular XML format. \n",
    "\n",
    "Keep in mind that large language models are leaky abstractions! You'll have to use an LLM with sufficient capacity to generate well-formed XML. \n",
    "\n",
    "In the following example we use Claude model (https://docs.anthropic.com/claude/docs) which works really well with XML tags."
   ]
  },
  {
   "cell_type": "code",
   "execution_count": 2,
   "id": "3b10fc55",
   "metadata": {},
   "outputs": [],
   "source": [
    "from langchain.prompts import PromptTemplate\n",
    "from langchain.llms import Anthropic\n",
    "from langchain.output_parsers import XMLOutputParser"
   ]
  },
  {
   "cell_type": "code",
   "execution_count": 8,
   "id": "909161d1",
   "metadata": {},
   "outputs": [],
   "source": [
    "model = Anthropic(model=\"claude-2\", max_tokens_to_sample=512, temperature=0.1)"
   ]
  },
  {
   "cell_type": "markdown",
   "id": "da312f86-0d2a-4aef-a09d-1e72bd0ea9b1",
   "metadata": {},
   "source": [
    "Let's start with the simple request to the model."
   ]
  },
  {
   "cell_type": "code",
   "execution_count": 4,
   "id": "b03785af-69fc-40a1-a1be-c04ed6fade70",
   "metadata": {},
   "outputs": [
    {
     "name": "stdout",
     "output_type": "stream",
     "text": [
      " Here is the shortened filmography for Tom Hanks enclosed in <movie> tags:\n",
      "\n",
      "<movie>Splash (1984)</movie>\n",
      "<movie>Big (1988)</movie> \n",
      "<movie>A League of Their Own (1992)</movie>\n",
      "<movie>Sleepless in Seattle (1993)</movie>  \n",
      "<movie>Forrest Gump (1994)</movie>\n",
      "<movie>Apollo 13 (1995)</movie>\n",
      "<movie>Toy Story (1995)</movie>\n",
      "<movie>Saving Private Ryan (1998)</movie>\n",
      "<movie>Cast Away (2000)</movie>\n",
      "<movie>The Da Vinci Code (2006)</movie>\n",
      "<movie>Toy Story 3 (2010)</movie>\n",
      "<movie>Captain Phillips (2013)</movie>\n",
      "<movie>Bridge of Spies (2015)</movie>\n",
      "<movie>Toy Story 4 (2019)</movie>\n"
     ]
    }
   ],
   "source": [
    "actor_query = \"Generate the shortened filmography for Tom Hanks.\"\n",
    "output = model(f\"\"\"\n",
    "\n",
    "Human:\n",
    "{actor_query}\n",
    "Please enclose the movies in <movie></movie> tags\n",
    "Assistant:\n",
    "\"\"\")\n",
    "print(output)"
   ]
  },
  {
   "cell_type": "markdown",
   "id": "4db65781-3d54-4ba6-ae26-5b4ead47a4c8",
   "metadata": {},
   "source": [
    "Now we will use the XMLOutputParser in order to get the structured output."
   ]
  },
  {
   "cell_type": "code",
   "execution_count": 5,
   "id": "87ba8d11",
   "metadata": {},
   "outputs": [
    {
     "name": "stdout",
     "output_type": "stream",
     "text": [
      "\n",
      "<filmography>\n",
      "  <movie>\n",
      "    <title>Splash</title>\n",
      "    <year>1984</year>\n",
      "  </movie>\n",
      "  \n",
      "  <movie>\n",
      "    <title>Big</title>  \n",
      "    <year>1988</year>\n",
      "  </movie>\n",
      "\n",
      "  <movie>\n",
      "    <title>A League of Their Own</title>\n",
      "    <year>1992</year>\n",
      "  </movie>\n",
      "\n",
      "  <movie>\n",
      "    <title>Sleepless in Seattle</title>\n",
      "    <year>1993</year>\n",
      "  </movie>\n",
      "\n",
      "  <movie>\n",
      "    <title>Forrest Gump</title>\n",
      "    <year>1994</year>\n",
      "  </movie>\n",
      "\n",
      "  <movie>\n",
      "    <title>Toy Story</title>\n",
      "    <year>1995</year>\n",
      "  </movie>\n",
      "\n",
      "  <movie>\n",
      "    <title>Apollo 13</title>\n",
      "    <year>1995</year>\n",
      "  </movie>\n",
      "\n",
      "  <movie>\n",
      "    <title>Saving Private Ryan</title>\n",
      "    <year>1998</year>\n",
      "  </movie>\n",
      "\n",
      "  <movie>\n",
      "    <title>Cast Away</title>\n",
      "    <year>2000</year>\n",
      "  </movie>\n",
      "\n",
      "  <movie>\n",
      "    <title>Catch Me If You Can</title>\n",
      "    <year>2002</year>\n",
      "  </movie>\n",
      "\n",
      "  <movie>\n",
      "    <title>The Polar Express</title>\n",
      "    <year>2004</year>\n",
      "  </movie>\n",
      "\n",
      "  <movie>\n",
      "    <title>Bridge of Spies</title>\n",
      "    <year>2015</year>\n",
      "  </movie>\n",
      "</filmography>\n"
     ]
    }
   ],
   "source": [
    "parser = XMLOutputParser()\n",
    "\n",
    "prompt = PromptTemplate(\n",
    "    template=\"\"\"\n",
    "    \n",
    "    Human:\n",
    "    {query}\n",
    "    {format_instructions}\n",
    "    Assistant:\"\"\",\n",
    "    input_variables=[\"query\"],\n",
    "    partial_variables={\"format_instructions\": parser.get_format_instructions()},\n",
    ")\n",
    "\n",
    "_input = prompt.format_prompt(query=actor_query)\n",
    "\n",
    "output = model(_input.to_string())\n",
    "\n",
    "parsed = parser.parse(output)\n",
    "print(parsed)"
   ]
  },
  {
   "cell_type": "markdown",
   "id": "327f5479-77e0-4549-8393-2cd7a286d491",
   "metadata": {},
   "source": [
    "Finally, let's add some tags to tailor the output to our needs."
   ]
  },
  {
   "cell_type": "code",
   "execution_count": 6,
   "id": "b722a235",
   "metadata": {},
   "outputs": [
    {
     "name": "stdout",
     "output_type": "stream",
     "text": [
      "\n",
      "<movies>\n",
      "  <actor>\n",
      "    <name>Tom Hanks</name>\n",
      "    <film>\n",
      "      <name>Splash</name>\n",
      "      <genre>Comedy</genre>\n",
      "    </film>\n",
      "    <film>\n",
      "      <name>Big</name>\n",
      "      <genre>Comedy</genre>\n",
      "    </film>\n",
      "    <film>\n",
      "      <name>A League of Their Own</name>\n",
      "      <genre>Comedy</genre>\n",
      "    </film>\n",
      "    <film>\n",
      "      <name>Sleepless in Seattle</name>\n",
      "      <genre>Romance</genre>\n",
      "    </film>\n",
      "    <film>\n",
      "      <name>Forrest Gump</name>\n",
      "      <genre>Drama</genre>\n",
      "    </film>\n",
      "  </actor>\n",
      "</movies>\n"
     ]
    }
   ],
   "source": [
    "parser = XMLOutputParser(tags=[\"movies\", \"actor\", \"film\", \"name\", \"genre\"])\n",
    "prompt = PromptTemplate(\n",
    "    template=\"\"\"\n",
    "    \n",
    "    Human:\n",
    "    {query}\n",
    "    {format_instructions}\n",
    "    Assistant:\"\"\",\n",
    "    input_variables=[\"query\"],\n",
    "    partial_variables={\"format_instructions\": parser.get_format_instructions()},\n",
    ")\n",
    "\n",
    "\n",
    "_input = prompt.format_prompt(query=actor_query)\n",
    "\n",
    "output = model(_input.to_string())\n",
    "\n",
    "parsed = parser.parse(output)\n",
    "print(parsed)"
   ]
  }
 ],
 "metadata": {
  "kernelspec": {
   "display_name": "Python 3 (ipykernel)",
   "language": "python",
   "name": "python3"
  },
  "language_info": {
   "codemirror_mode": {
    "name": "ipython",
    "version": 3
   },
   "file_extension": ".py",
   "mimetype": "text/x-python",
   "name": "python",
   "nbconvert_exporter": "python",
   "pygments_lexer": "ipython3",
   "version": "3.9.16"
  }
 },
 "nbformat": 4,
 "nbformat_minor": 5
}
