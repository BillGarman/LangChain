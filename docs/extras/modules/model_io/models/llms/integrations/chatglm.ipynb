{
 "cells": [
  {
   "attachments": {},
   "cell_type": "markdown",
   "metadata": {},
   "source": [
    "# ChatGLM\n",
    "\n",
    "[ChatGLM-6B](https://github.com/THUDM/ChatGLM-6B) is an open bilingual language model based on General Language Model (GLM) framework, with 6.2 billion parameters. With the quantization technique, users can deploy locally on consumer-grade graphics cards (only 6GB of GPU memory is required at the INT4 quantization level). \n",
    "\n",
    "[ChatGLM2-6B](https://github.com/THUDM/ChatGLM2-6B) is the second-generation version of the open-source bilingual (Chinese-English) chat model ChatGLM-6B. It retains the smooth conversation flow and low deployment threshold of the first-generation model, while introducing the new features like better performance, longer context and more efficient inference.\n",
    "\n",
    "This example goes over how to use LangChain to interact with ChatGLM2-6B Inference for text completion.\n",
    "ChatGLM-6B and ChatGLM2-6B has the same api specs, so this example should work with both."
   ]
  },
  {
   "cell_type": "code",
   "execution_count": 54,
   "metadata": {},
   "outputs": [],
   "source": [
    "from langchain.llms import ChatGLM\n",
    "from langchain import PromptTemplate, LLMChain\n",
    "# import os\n"
   ]
  },
  {
   "cell_type": "code",
   "execution_count": 55,
   "metadata": {},
   "outputs": [],
   "source": [
    "template = \"\"\"{question}\"\"\"\n",
    "prompt = PromptTemplate(template=template, input_variables=[\"question\"])"
   ]
  },
  {
   "cell_type": "code",
   "execution_count": 56,
   "metadata": {},
   "outputs": [],
   "source": [
    "# default endpoint_url for a local deployed ChatGLM api server\n",
    "endpoint_url = \"http://127.0.0.1:8000\"\n",
    "\n",
    "# direct access endpoint in a proxied environment\n",
    "# os.environ['NO_PROXY'] = '127.0.0.1'\n",
    "\n",
    "llm = ChatGLM(endpoint_url=endpoint_url, \n",
    "              max_token=80000, \n",
    "              history=[[\"我将从美国到中国来旅游，出行前希望了解中国的城市\",\"欢迎问我任何问题。\"]],\n",
    "              model_kwargs={\"sample_model_args\": False})"
   ]
  },
  {
   "cell_type": "code",
   "execution_count": 57,
   "metadata": {},
   "outputs": [],
   "source": [
    "llm_chain = LLMChain(prompt=prompt, llm=llm)"
   ]
  },
  {
   "cell_type": "code",
   "execution_count": 58,
   "metadata": {},
   "outputs": [
    {
     "name": "stdout",
     "output_type": "stream",
     "text": [
      "ChatGLM payload: {'prompt': '北京和上海两座城市有什么不同？', 'temperature': 0.1, 'history': [['我将从美国到中国来旅游，出行前希望了解中国的城市', '欢迎问我任何问题。']], 'max_length': 80000, 'sample_model_args': False}\n"
     ]
    },
    {
     "name": "stdout",
     "output_type": "stream",
     "text": [
      "ChatGLM resp: <Response [200]>\n"
     ]
    },
    {
     "data": {
      "text/plain": [
       "'北京和上海是中国的两个首都，它们在许多方面都有所不同。\\n\\n北京是中国的政治和文化中心，拥有悠久的历史和文化遗产。它是中国最重要的古都之一，也是中国最具文化底蕴的城市之一。北京有许多著名的旅游景点，如故宫、长城、颐和园和天安门广场等。\\n\\n上海是中国最现代化的城市之一，也是中国最重要的经济中心之一。上海拥有许多国际知名的企业和金融机构，同时也有许多著名的旅游景点，如东方明珠塔、外滩和南京路等。\\n\\n除了文化和历史差异外，北京和上海在交通和建筑方面也有很大的不同。北京是中国的古都，拥有许多古老的建筑和文化遗产，同时也有许多现代化的建筑和交通工具。上海是中国最发达的城市之一，拥有许多国际知名的建筑和交通工具，如高铁、地铁和出租车等。\\n\\n北京和上海都是中国最重要的城市之一，它们在经济、文化和历史方面都具有独特的魅力。'"
      ]
     },
     "execution_count": 58,
     "metadata": {},
     "output_type": "execute_result"
    }
   ],
   "source": [
    "question = \"北京和上海两座城市有什么不同？\"\n",
    "\n",
    "llm_chain.run(question)"
   ]
  }
 ],
 "metadata": {
  "kernelspec": {
   "display_name": "langchain-dev",
   "language": "python",
   "name": "python3"
  },
  "language_info": {
   "codemirror_mode": {
    "name": "ipython",
    "version": 3
   },
   "file_extension": ".py",
   "mimetype": "text/x-python",
   "name": "python",
   "nbconvert_exporter": "python",
   "pygments_lexer": "ipython3",
   "version": "3.10.12"
  }
 },
 "nbformat": 4,
 "nbformat_minor": 2
}
