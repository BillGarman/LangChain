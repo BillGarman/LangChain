{
 "cells": [
  {
   "cell_type": "markdown",
   "metadata": {},
   "source": [
    "# Predibase\n",
    "\n",
    "[Predibase](https://predibase.com/) allows you to train, finetune, and deploy any ML model—from linear regression to large language model. \n",
    "\n",
    "This example demonstrates using Langchain with models deployed on Predibase"
   ]
  },
  {
   "cell_type": "markdown",
   "metadata": {},
   "source": [
    "# Setup\n",
    "\n",
    "To run this notebook, you'll need a [Predibase account](https://predibase.com/free-trial/?utm_source=langchain) and an [API key](https://docs.predibase.com/sdk-guide/intro).\n",
    "\n",
    "You'll also need to install the Predibase Python package:"
   ]
  },
  {
   "cell_type": "code",
   "execution_count": 1,
   "metadata": {},
   "outputs": [
    {
     "name": "stdout",
     "output_type": "stream",
     "text": [
      "Requirement already satisfied: predibase in /opt/miniconda3/lib/python3.9/site-packages (2023.5.8)\n",
      "Requirement already satisfied: pyjwt in /opt/miniconda3/lib/python3.9/site-packages (from predibase) (2.7.0)\n",
      "Requirement already satisfied: pyyaml in /opt/miniconda3/lib/python3.9/site-packages (from predibase) (6.0)\n",
      "Requirement already satisfied: dataclasses-json in /opt/miniconda3/lib/python3.9/site-packages (from predibase) (0.5.7)\n",
      "Requirement already satisfied: typer[all] in /opt/miniconda3/lib/python3.9/site-packages (from predibase) (0.9.0)\n",
      "Requirement already satisfied: pandas in /opt/miniconda3/lib/python3.9/site-packages (from predibase) (1.5.2)\n",
      "Requirement already satisfied: predibase-api in /opt/miniconda3/lib/python3.9/site-packages (from predibase) (2023.5.8)\n",
      "Requirement already satisfied: jinja2schema in /opt/miniconda3/lib/python3.9/site-packages (from predibase) (0.1.4)\n",
      "Requirement already satisfied: rich in /opt/miniconda3/lib/python3.9/site-packages (from predibase) (12.6.0)\n",
      "Requirement already satisfied: urllib3 in /opt/miniconda3/lib/python3.9/site-packages (from predibase) (1.26.9)\n",
      "Requirement already satisfied: protobuf>=3.20.3 in /opt/miniconda3/lib/python3.9/site-packages (from predibase) (4.21.10)\n",
      "Requirement already satisfied: requests in /opt/miniconda3/lib/python3.9/site-packages (from predibase) (2.27.1)\n",
      "Requirement already satisfied: python-dateutil in /opt/miniconda3/lib/python3.9/site-packages (from predibase) (2.8.2)\n",
      "Requirement already satisfied: jinja2 in /opt/miniconda3/lib/python3.9/site-packages (from predibase) (3.1.2)\n",
      "Requirement already satisfied: pyarrow in /opt/miniconda3/lib/python3.9/site-packages (from predibase) (9.0.0)\n",
      "Requirement already satisfied: ipyplot in /opt/miniconda3/lib/python3.9/site-packages (from predibase) (1.1.1)\n",
      "Requirement already satisfied: ipython!=8.13.0 in /opt/miniconda3/lib/python3.9/site-packages (from predibase) (8.5.0)\n",
      "Requirement already satisfied: pickleshare in /opt/miniconda3/lib/python3.9/site-packages (from ipython!=8.13.0->predibase) (0.7.5)\n",
      "Requirement already satisfied: jedi>=0.16 in /opt/miniconda3/lib/python3.9/site-packages (from ipython!=8.13.0->predibase) (0.18.1)\n",
      "Requirement already satisfied: matplotlib-inline in /opt/miniconda3/lib/python3.9/site-packages (from ipython!=8.13.0->predibase) (0.1.6)\n",
      "Requirement already satisfied: decorator in /opt/miniconda3/lib/python3.9/site-packages (from ipython!=8.13.0->predibase) (5.1.1)\n",
      "Requirement already satisfied: pygments>=2.4.0 in /opt/miniconda3/lib/python3.9/site-packages (from ipython!=8.13.0->predibase) (2.13.0)\n",
      "Requirement already satisfied: prompt-toolkit<3.1.0,>3.0.1 in /opt/miniconda3/lib/python3.9/site-packages (from ipython!=8.13.0->predibase) (3.0.31)\n",
      "Requirement already satisfied: pexpect>4.3 in /opt/miniconda3/lib/python3.9/site-packages (from ipython!=8.13.0->predibase) (4.8.0)\n",
      "Requirement already satisfied: traitlets>=5 in /opt/miniconda3/lib/python3.9/site-packages (from ipython!=8.13.0->predibase) (5.3.0)\n",
      "Requirement already satisfied: backcall in /opt/miniconda3/lib/python3.9/site-packages (from ipython!=8.13.0->predibase) (0.2.0)\n",
      "Requirement already satisfied: stack-data in /opt/miniconda3/lib/python3.9/site-packages (from ipython!=8.13.0->predibase) (0.5.0)\n",
      "Requirement already satisfied: appnope in /opt/miniconda3/lib/python3.9/site-packages (from ipython!=8.13.0->predibase) (0.1.3)\n",
      "Requirement already satisfied: parso<0.9.0,>=0.8.0 in /opt/miniconda3/lib/python3.9/site-packages (from jedi>=0.16->ipython!=8.13.0->predibase) (0.8.3)\n",
      "Requirement already satisfied: ptyprocess>=0.5 in /opt/miniconda3/lib/python3.9/site-packages (from pexpect>4.3->ipython!=8.13.0->predibase) (0.7.0)\n",
      "Requirement already satisfied: wcwidth in /opt/miniconda3/lib/python3.9/site-packages (from prompt-toolkit<3.1.0,>3.0.1->ipython!=8.13.0->predibase) (0.2.5)\n",
      "Requirement already satisfied: marshmallow<4.0.0,>=3.3.0 in /opt/miniconda3/lib/python3.9/site-packages (from dataclasses-json->predibase) (3.19.0)\n",
      "Requirement already satisfied: marshmallow-enum<2.0.0,>=1.5.1 in /opt/miniconda3/lib/python3.9/site-packages (from dataclasses-json->predibase) (1.5.1)\n",
      "Requirement already satisfied: typing-inspect>=0.4.0 in /opt/miniconda3/lib/python3.9/site-packages (from dataclasses-json->predibase) (0.9.0)\n",
      "Requirement already satisfied: packaging>=17.0 in /opt/miniconda3/lib/python3.9/site-packages (from marshmallow<4.0.0,>=3.3.0->dataclasses-json->predibase) (23.1)\n",
      "Requirement already satisfied: mypy-extensions>=0.3.0 in /opt/miniconda3/lib/python3.9/site-packages (from typing-inspect>=0.4.0->dataclasses-json->predibase) (1.0.0)\n",
      "Requirement already satisfied: typing-extensions>=3.7.4 in /opt/miniconda3/lib/python3.9/site-packages (from typing-inspect>=0.4.0->dataclasses-json->predibase) (4.7.1)\n",
      "Requirement already satisfied: numpy in /opt/miniconda3/lib/python3.9/site-packages (from ipyplot->predibase) (1.23.5)\n",
      "Requirement already satisfied: shortuuid in /opt/miniconda3/lib/python3.9/site-packages (from ipyplot->predibase) (1.0.11)\n",
      "Requirement already satisfied: pillow in /opt/miniconda3/lib/python3.9/site-packages (from ipyplot->predibase) (9.5.0)\n",
      "Requirement already satisfied: MarkupSafe>=2.0 in /opt/miniconda3/lib/python3.9/site-packages (from jinja2->predibase) (2.1.1)\n",
      "Requirement already satisfied: pytz>=2020.1 in /opt/miniconda3/lib/python3.9/site-packages (from pandas->predibase) (2022.7.1)\n",
      "Requirement already satisfied: six>=1.5 in /opt/miniconda3/lib/python3.9/site-packages (from python-dateutil->predibase) (1.16.0)\n",
      "Requirement already satisfied: certifi>=2017.4.17 in /opt/miniconda3/lib/python3.9/site-packages (from requests->predibase) (2022.5.18.1)\n",
      "Requirement already satisfied: idna<4,>=2.5 in /opt/miniconda3/lib/python3.9/site-packages (from requests->predibase) (3.3)\n",
      "Requirement already satisfied: charset-normalizer~=2.0.0 in /opt/miniconda3/lib/python3.9/site-packages (from requests->predibase) (2.0.4)\n",
      "Requirement already satisfied: commonmark<0.10.0,>=0.9.0 in /opt/miniconda3/lib/python3.9/site-packages (from rich->predibase) (0.9.1)\n",
      "Requirement already satisfied: asttokens in /opt/miniconda3/lib/python3.9/site-packages (from stack-data->ipython!=8.13.0->predibase) (2.0.8)\n",
      "Requirement already satisfied: pure-eval in /opt/miniconda3/lib/python3.9/site-packages (from stack-data->ipython!=8.13.0->predibase) (0.2.2)\n",
      "Requirement already satisfied: executing in /opt/miniconda3/lib/python3.9/site-packages (from stack-data->ipython!=8.13.0->predibase) (1.0.0)\n",
      "Requirement already satisfied: click<9.0.0,>=7.1.1 in /opt/miniconda3/lib/python3.9/site-packages (from typer[all]->predibase) (8.1.3)\n",
      "Requirement already satisfied: colorama<0.5.0,>=0.4.3 in /opt/miniconda3/lib/python3.9/site-packages (from typer[all]->predibase) (0.4.6)\n",
      "Requirement already satisfied: shellingham<2.0.0,>=1.3.0 in /opt/miniconda3/lib/python3.9/site-packages (from typer[all]->predibase) (1.5.0.post1)\n"
     ]
    }
   ],
   "source": [
    "!pip install predibase\n",
    "import os\n",
    "os.environ[\"PREDIBASE_API_TOKEN\"] = \"{PREDIBASE_API_TOKEN}\""
   ]
  },
  {
   "cell_type": "markdown",
   "metadata": {},
   "source": [
    "## Initial Call"
   ]
  },
  {
   "cell_type": "code",
   "execution_count": null,
   "metadata": {},
   "outputs": [],
   "source": [
    "from langchain.llms import Predibase\n",
    "model =  Predibase(model = 'vicuna-13b', predibase_api_key=os.environ.get('PREDIBASE_API_TOKEN'))"
   ]
  },
  {
   "cell_type": "code",
   "execution_count": null,
   "metadata": {},
   "outputs": [],
   "source": [
    "response = model(\"Can you recommend me a nice dry wine?\")\n",
    "print(response)"
   ]
  },
  {
   "cell_type": "markdown",
   "metadata": {},
   "source": [
    "## Chain Call Setup"
   ]
  },
  {
   "cell_type": "code",
   "execution_count": null,
   "metadata": {},
   "outputs": [],
   "source": [
    "llm = Predibase(model = 'vicuna-13b', predibase_api_key=os.environ.get('PREDIBASE_API_TOKEN'))"
   ]
  },
  {
   "cell_type": "markdown",
   "metadata": {},
   "source": [
    "##  SequentialChain"
   ]
  },
  {
   "cell_type": "code",
   "execution_count": null,
   "metadata": {},
   "outputs": [],
   "source": [
    "from langchain.chains import LLMChain\n",
    "from langchain.prompts import PromptTemplate"
   ]
  },
  {
   "cell_type": "code",
   "execution_count": null,
   "metadata": {},
   "outputs": [],
   "source": [
    "# This is an LLMChain to write a synopsis given a title of a play.\n",
    "template = \"\"\"You are a playwright. Given the title of play, it is your job to write a synopsis for that title.\n",
    "\n",
    "Title: {title}\n",
    "Playwright: This is a synopsis for the above play:\"\"\"\n",
    "prompt_template = PromptTemplate(input_variables=[\"title\"], template=template)\n",
    "synopsis_chain = LLMChain(llm=llm, prompt=prompt_template)"
   ]
  },
  {
   "cell_type": "code",
   "execution_count": null,
   "metadata": {},
   "outputs": [],
   "source": [
    "# This is an LLMChain to write a review of a play given a synopsis.\n",
    "template = \"\"\"You are a play critic from the New York Times. Given the synopsis of play, it is your job to write a review for that play.\n",
    "\n",
    "Play Synopsis:\n",
    "{synopsis}\n",
    "Review from a New York Times play critic of the above play:\"\"\"\n",
    "prompt_template = PromptTemplate(input_variables=[\"synopsis\"], template=template)\n",
    "review_chain = LLMChain(llm=llm, prompt=prompt_template)"
   ]
  },
  {
   "cell_type": "code",
   "execution_count": null,
   "metadata": {},
   "outputs": [],
   "source": [
    "# This is the overall chain where we run these two chains in sequence.\n",
    "from langchain.chains import SimpleSequentialChain\n",
    "overall_chain = SimpleSequentialChain(chains=[synopsis_chain, review_chain], verbose=True)"
   ]
  },
  {
   "cell_type": "code",
   "execution_count": null,
   "metadata": {},
   "outputs": [],
   "source": [
    "review = overall_chain.run(\"Tragedy at sunset on the beach\")"
   ]
  },
  {
   "cell_type": "markdown",
   "metadata": {},
   "source": [
    "## Fine-tuned LLM (Use your own fine-tuned LLM from Predibase)"
   ]
  },
  {
   "cell_type": "code",
   "execution_count": null,
   "metadata": {},
   "outputs": [],
   "source": [
    "from langchain.llms import Predibase\n",
    "model =  Predibase(model = 'my-finetuned-LLM', predibase_api_key=os.environ.get('PREDIBASE_API_TOKEN'))\n",
    "# replace my-finetuned-LLM with the name of your model in Predibase"
   ]
  },
  {
   "cell_type": "code",
   "execution_count": null,
   "metadata": {},
   "outputs": [],
   "source": [
    "#response = model(\"Can you help categorize the following emails into positive, negative, and neutral?\")"
   ]
  }
 ],
 "metadata": {
  "kernelspec": {
   "display_name": "Python 3.8.9 64-bit",
   "language": "python",
   "name": "python3"
  },
  "language_info": {
   "codemirror_mode": {
    "name": "ipython",
    "version": 3
   },
   "file_extension": ".py",
   "mimetype": "text/x-python",
   "name": "python",
   "nbconvert_exporter": "python",
   "pygments_lexer": "ipython3",
   "version": "3.8.9"
  },
  "orig_nbformat": 4,
  "vscode": {
   "interpreter": {
    "hash": "31f2aee4e71d21fbe5cf8b01ff0e069b9275f58929596ceb00d14d90e3e16cd6"
   }
  }
 },
 "nbformat": 4,
 "nbformat_minor": 2
}
