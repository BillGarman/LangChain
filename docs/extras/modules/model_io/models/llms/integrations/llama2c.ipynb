{
 "cells": [
  {
   "cell_type": "code",
   "execution_count": 2,
   "id": "62769401",
   "metadata": {},
   "outputs": [],
   "source": [
    "from langchain.llms.llama2c import Llama2c"
   ]
  },
  {
   "cell_type": "code",
   "execution_count": 3,
   "id": "7746f5ae",
   "metadata": {},
   "outputs": [],
   "source": [
    "llm = Llama2c(directory=\"/Users/rlm/Desktop/Code/llama2.c/\", \n",
    "              model_dir=\"out44m/model44m.bin\")"
   ]
  },
  {
   "cell_type": "code",
   "execution_count": 4,
   "id": "f931a322",
   "metadata": {},
   "outputs": [
    {
     "name": "stdout",
     "output_type": "stream",
     "text": [
      "<s>\n",
      " Once upon a time, there was a little girl named Lily. She loved to play with her toys, but one day she saw a big pile of lumber in her backyard. She didn't know what it was, but she thought it looked like a big tree.\n",
      "Lily decided to go get her dad to help her move the lumber. She said, \"Daddy, can you help me move this lumber?\" Her dad said, \"Sure, let's take it to the shed.\"\n",
      "When they got to the shed, Lily's dad got out a saw and started to chop the lumber into small pieces. Lily watched him work and said, \"Daddy, you're so strong! You can move the lumber much better.\"\n",
      "After they were done, Lily's mom came outside and said, \"Wow, that lumber is huge! What are you going to do with it?\" Her mom replied, \"I'm going to build a fort with it!\" Lily was excited and said, \"Can I help?\" Her mom said, \"Of course, let's make it together.\"\n",
      "<s>\n",
      " One day, a little boy named Tim and\n",
      "achieved tok/s: 139.281828\n"
     ]
    },
    {
     "data": {
      "text/plain": [
       "'<s>\\n Once upon a time, there was a little girl named Lily. She loved to play with her toys, but one day she saw a big pile of lumber in her backyard. She didn\\'t know what it was, but she thought it looked like a big tree.\\nLily decided to go get her dad to help her move the lumber. She said, \"Daddy, can you help me move this lumber?\" Her dad said, \"Sure, let\\'s take it to the shed.\"\\nWhen they got to the shed, Lily\\'s dad got out a saw and started to chop the lumber into small pieces. Lily watched him work and said, \"Daddy, you\\'re so strong! You can move the lumber much better.\"\\nAfter they were done, Lily\\'s mom came outside and said, \"Wow, that lumber is huge! What are you going to do with it?\" Her mom replied, \"I\\'m going to build a fort with it!\" Lily was excited and said, \"Can I help?\" Her mom said, \"Of course, let\\'s make it together.\"\\n<s>\\n One day, a little boy named Tim and\\nachieved tok/s: 139.281828\\n'"
      ]
     },
     "execution_count": 4,
     "metadata": {},
     "output_type": "execute_result"
    }
   ],
   "source": [
    "llm.stream(prompt=\"\")"
   ]
  },
  {
   "cell_type": "code",
   "execution_count": 4,
   "id": "6cc388b2",
   "metadata": {},
   "outputs": [
    {
     "data": {
      "text/plain": [
       "'<s>\\n Once upon a time, there was a little boy named Timmy. He loved to play with his toys and run around outside. One day, his mom put on some perfume that made him smell really nice. Timmy wanted to wear some too, but his mom said he was too young.\\nTimmy got mad and started to fight with his mom. His mom told him that if he didn\\'t stop fighting, he would go to jail. Timmy didn\\'t want to go to jail, so he stopped fighting with his mom.\\nAfter his mom settled down, Timmy went outside to play. He found a mysterious box in the garden and opened it up. Inside, there were some treats he had never seen before. Timmy was so happy and couldn\\'t wait to share the treats with his friends.\\n<s>\\n One day, a box of pastel colors was in a big box. The pastel colors wanted to play with their friends. But, the box was locked. The pastel colors were sad. They could not open the open box.\\nA little girl named Mia saw the sad pastel colors. She asked, \"Why are you sad, pastel colors?\" They told her they wanted\\nachieved tok/s: 138.546881\\n'"
      ]
     },
     "execution_count": 4,
     "metadata": {},
     "output_type": "execute_result"
    }
   ],
   "source": [
    "llm._call(prompt=\"\")"
   ]
  }
 ],
 "metadata": {
  "kernelspec": {
   "display_name": "Python 3 (ipykernel)",
   "language": "python",
   "name": "python3"
  },
  "language_info": {
   "codemirror_mode": {
    "name": "ipython",
    "version": 3
   },
   "file_extension": ".py",
   "mimetype": "text/x-python",
   "name": "python",
   "nbconvert_exporter": "python",
   "pygments_lexer": "ipython3",
   "version": "3.9.16"
  }
 },
 "nbformat": 4,
 "nbformat_minor": 5
}
