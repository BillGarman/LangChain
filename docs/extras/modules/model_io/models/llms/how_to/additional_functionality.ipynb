{
 "cells": [
  {
   "attachments": {},
   "cell_type": "markdown",
   "metadata": {},
   "source": [
    "# Additional Functionality\n",
    "\n",
    "By default, LangChain will wait indefinitely for a response from the model provider. If you want to add a timeout, you can pass an `async_timeout` option, in milliseconds, when you call the model. For example, for OpenAI:"
   ]
  },
  {
   "cell_type": "code",
   "execution_count": 5,
   "metadata": {},
   "outputs": [
    {
     "ename": "ModuleNotFoundError",
     "evalue": "No module named 'langchain'",
     "output_type": "error",
     "traceback": [
      "\u001b[0;31m---------------------------------------------------------------------------\u001b[0m",
      "\u001b[0;31mModuleNotFoundError\u001b[0m                       Traceback (most recent call last)",
      "Cell \u001b[0;32mIn[5], line 1\u001b[0m\n\u001b[0;32m----> 1\u001b[0m \u001b[39mfrom\u001b[39;00m \u001b[39mlangchain\u001b[39;00m\u001b[39m.\u001b[39;00m\u001b[39mllms\u001b[39;00m \u001b[39mimport\u001b[39;00m OpenAI\n\u001b[1;32m      3\u001b[0m llm \u001b[39m=\u001b[39m OpenAI(temperature\u001b[39m=\u001b[39m\u001b[39m0.0\u001b[39m)\n\u001b[1;32m      5\u001b[0m res \u001b[39m=\u001b[39m llm(\n\u001b[1;32m      6\u001b[0m   \u001b[39m\"\u001b[39m\u001b[39mWhat would be a good company name a company that makes colorful socks?\u001b[39m\u001b[39m\"\u001b[39m,\n\u001b[1;32m      7\u001b[0m   timeout\u001b[39m=\u001b[39m\u001b[39m1000\u001b[39m \u001b[39m# 1s timeout\u001b[39;00m\n\u001b[1;32m      8\u001b[0m )\n",
      "\u001b[0;31mModuleNotFoundError\u001b[0m: No module named 'langchain'"
     ]
    }
   ],
   "source": [
    "from langchain.llms import OpenAI\n",
    "\n",
    "llm = OpenAI(temperature=0.0).async_timeout(10)\n",
    "\n",
    "res = llm(\n",
    "  \"What would be a good company name a company that makes colorful socks?\",\n",
    ")\n",
    "\n",
    "print(res) # Socktastic Colors"
   ]
  }
 ],
 "metadata": {
  "kernelspec": {
   "display_name": "Python 3",
   "language": "python",
   "name": "python3"
  },
  "language_info": {
   "codemirror_mode": {
    "name": "ipython",
    "version": 3
   },
   "file_extension": ".py",
   "mimetype": "text/x-python",
   "name": "python",
   "nbconvert_exporter": "python",
   "pygments_lexer": "ipython3",
   "version": "3.9.16"
  },
  "orig_nbformat": 4
 },
 "nbformat": 4,
 "nbformat_minor": 2
}
