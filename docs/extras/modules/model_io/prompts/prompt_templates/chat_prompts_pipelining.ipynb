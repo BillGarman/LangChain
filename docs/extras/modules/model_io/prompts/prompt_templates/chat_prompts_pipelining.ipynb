{
 "cells": [
  {
   "cell_type": "markdown",
   "id": "b34139b1",
   "metadata": {},
   "source": [
    "# Chat Prompt Pipelining\n",
    "\n",
    "A chat prompt is made up a of a list of messages. Purely for developer experience, we've added a convinient way to create these prompts."
   ]
  },
  {
   "cell_type": "code",
   "execution_count": 1,
   "id": "27b44e59",
   "metadata": {},
   "outputs": [],
   "source": [
    "from langchain.prompts import ChatPromptTemplate, HumanMessagePromptTemplate\n",
    "from langchain.schema import HumanMessage, AIMessage"
   ]
  },
  {
   "cell_type": "markdown",
   "id": "c4a8c1ac",
   "metadata": {},
   "source": [
    "First, let's initialize the base ChatPromptTemplate with a system message. It doesn't have to start with a system, but it's often good practice"
   ]
  },
  {
   "cell_type": "code",
   "execution_count": 3,
   "id": "ee81c0d6",
   "metadata": {},
   "outputs": [],
   "source": [
    "prompt = ChatPromptTemplate.from_system_message(\"You are a nice pirate\")"
   ]
  },
  {
   "cell_type": "markdown",
   "id": "9a5642a0",
   "metadata": {},
   "source": [
    "You can then easily create a pipeline combining it with other messages OR message templates.\n",
    "Use a `Message` when there is no variables to be formatted, use a `MessageTemplate` when there are variables to be formatted."
   ]
  },
  {
   "cell_type": "code",
   "execution_count": 7,
   "id": "de362a8b",
   "metadata": {},
   "outputs": [],
   "source": [
    "new_prompt = (\n",
    "    prompt |\n",
    "    HumanMessage(content=\"hi\")|\n",
    "    AIMessage(content=\"what?\")|\n",
    "    HumanMessagePromptTemplate.from_template(\"{input}\")\n",
    ")"
   ]
  },
  {
   "cell_type": "markdown",
   "id": "35e87dcf",
   "metadata": {},
   "source": [
    "Under the hood, this creates an instance of the ChatPromptTemplate class, so you can use it just as you did before!"
   ]
  },
  {
   "cell_type": "code",
   "execution_count": 9,
   "id": "39c51222",
   "metadata": {},
   "outputs": [
    {
     "data": {
      "text/plain": [
       "[SystemMessage(content='You are a nice pirate', additional_kwargs={}),\n",
       " HumanMessage(content='hi', additional_kwargs={}, example=False),\n",
       " AIMessage(content='what?', additional_kwargs={}, example=False),\n",
       " HumanMessage(content='i said hi', additional_kwargs={}, example=False)]"
      ]
     },
     "execution_count": 9,
     "metadata": {},
     "output_type": "execute_result"
    }
   ],
   "source": [
    "new_prompt.format_messages(input=\"i said hi\")"
   ]
  },
  {
   "cell_type": "markdown",
   "id": "c78db694",
   "metadata": {},
   "source": [
    "You can also use it in an LLMChain, just like before"
   ]
  },
  {
   "cell_type": "code",
   "execution_count": 12,
   "id": "b6f44386",
   "metadata": {},
   "outputs": [],
   "source": [
    "from langchain.chat_models import ChatOpenAI\n",
    "from langchain.chains import LLMChain"
   ]
  },
  {
   "cell_type": "code",
   "execution_count": 11,
   "id": "1042f88f",
   "metadata": {},
   "outputs": [],
   "source": [
    "model = ChatOpenAI()"
   ]
  },
  {
   "cell_type": "code",
   "execution_count": 14,
   "id": "d460edeb",
   "metadata": {},
   "outputs": [],
   "source": [
    "chain = LLMChain(llm=model, prompt=new_prompt)"
   ]
  },
  {
   "cell_type": "code",
   "execution_count": 15,
   "id": "25b6bef3",
   "metadata": {},
   "outputs": [
    {
     "data": {
      "text/plain": [
       "'Oh, hello there! How can I assist you today?'"
      ]
     },
     "execution_count": 15,
     "metadata": {},
     "output_type": "execute_result"
    }
   ],
   "source": [
    "chain.run(\"i said hi\")"
   ]
  },
  {
   "cell_type": "code",
   "execution_count": null,
   "id": "7e31d001",
   "metadata": {},
   "outputs": [],
   "source": []
  }
 ],
 "metadata": {
  "kernelspec": {
   "display_name": "Python 3 (ipykernel)",
   "language": "python",
   "name": "python3"
  },
  "language_info": {
   "codemirror_mode": {
    "name": "ipython",
    "version": 3
   },
   "file_extension": ".py",
   "mimetype": "text/x-python",
   "name": "python",
   "nbconvert_exporter": "python",
   "pygments_lexer": "ipython3",
   "version": "3.9.1"
  }
 },
 "nbformat": 4,
 "nbformat_minor": 5
}
