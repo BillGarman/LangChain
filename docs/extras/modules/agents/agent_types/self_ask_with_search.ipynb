{
 "cells": [
  {
   "cell_type": "markdown",
   "id": "0c3f1df8",
   "metadata": {},
   "source": [
    "# Self ask with search\n",
    "\n",
    "Поиск ответа в интернете с промежуточными вопросами"
   ]
  },
  {
   "cell_type": "code",
   "execution_count": 28,
   "id": "7e3b513e",
   "metadata": {},
   "outputs": [
    {
     "name": "stdout",
     "output_type": "stream",
     "text": [
      "\n",
      "\n",
      "\u001b[1m> Entering new AgentExecutor chain...\u001b[0m\n",
      "\u001b[32;1m\u001b[1;3mДа.\n",
      "Дополнительный вопрос: Кто придумал психотипы?\u001b[0m\n",
      "Промежуточный ответ: \u001b[36;1m\u001b[1;3mПсихотип. Психологический тип –это теория личности, созданная швейцарским психиатром Карлом Густавом Юнгом для объяснения нормальных различий здоровых людей ...\u001b[0m\n",
      "\u001b[32;1m\u001b[1;3mДополнительный вопрос: Как звали жену Карла Густава Юнга?\u001b[0m\n",
      "Промежуточный ответ: \u001b[36;1m\u001b[1;3mEmma Jung\u001b[0m\n",
      "\u001b[32;1m\u001b[1;3mИтак, окончательный ответ: Emma Jung\u001b[0m\n",
      "\n",
      "\u001b[1m> Finished chain.\u001b[0m\n"
     ]
    },
    {
     "data": {
      "text/plain": [
       "'Emma Jung'"
      ]
     },
     "execution_count": 28,
     "metadata": {},
     "output_type": "execute_result"
    }
   ],
   "source": [
    "from langchain import SerpAPIWrapper\n",
    "from langchain.agents import initialize_agent, Tool\n",
    "from langchain.agents import AgentType\n",
    "from langchain.chat_models import GigaChat, ChatOpenAI\n",
    "\n",
    "# llm = GigaChat(user=<username>, password=<password>, verbose=True)\n",
    "llm = ChatOpenAI(model=\"gpt-4\", openai_api_key=<sk-...>)\n",
    "search = SerpAPIWrapper()\n",
    "tools = [\n",
    "    Tool(\n",
    "        name=\"Промежуточный ответ\",\n",
    "        func=search.run,\n",
    "        description=\"Используется, когда нужно вопспользоваться поиском\",\n",
    "    )\n",
    "]\n",
    "\n",
    "self_ask_with_search = initialize_agent(\n",
    "    tools, llm, agent=AgentType.SELF_ASK_WITH_SEARCH, verbose=True\n",
    ")\n",
    "self_ask_with_search.run(\n",
    "    \"Как звали жену человека, который придумал психотипы\"\n",
    ")"
   ]
  },
  {
   "cell_type": "code",
   "execution_count": 30,
   "id": "b2e4d6bc",
   "metadata": {},
   "outputs": [
    {
     "name": "stdout",
     "output_type": "stream",
     "text": [
      "\n",
      "\n",
      "\u001b[1m> Entering new AgentExecutor chain...\u001b[0m\n",
      "\u001b[32;1m\u001b[1;3mДа.\n",
      "Дополнительный вопрос: Кто получил Нобелевскую премию по химии в 2019 году?\u001b[0m\n",
      "Промежуточный ответ: \u001b[36;1m\u001b[1;3mНобелевская премия по химии за 2019 год присуждена Джону Гуденафу, Стэнли Уиттингему и Акире Йошино за развитие литий-ионных батарей.\u001b[0m\n",
      "\u001b[32;1m\u001b[1;3mДополнительный вопрос: Сколько лет было Джону Гуденафу в 2019 году?\u001b[0m\n",
      "Промежуточный ответ: \u001b[36;1m\u001b[1;3mВ 2019 году он был удостоен Нобелевской премии по химии за участие в разработке литий-ионных аккумуляторов (совместно со Стэнли Уиттингемом и Акирой Ёсино). При ...\u001b[0m\n",
      "\u001b[32;1m\u001b[1;3mДополнительный вопрос: Сколько лет было Стэнли Уиттингему в 2019 году?\u001b[0m\n",
      "Промежуточный ответ: \u001b[36;1m\u001b[1;3mAbout 78 years\u001b[0m\n",
      "\u001b[32;1m\u001b[1;3mДополнительный вопрос: Сколько лет было Акире Йошино в 2019 году?\u001b[0m\n",
      "Промежуточный ответ: \u001b[36;1m\u001b[1;3mAbout 71 years\u001b[0m\n",
      "\u001b[32;1m\u001b[1;3mИтак, окончательный ответ: Акира Йошино\u001b[0m\n",
      "\n",
      "\u001b[1m> Finished chain.\u001b[0m\n"
     ]
    },
    {
     "data": {
      "text/plain": [
       "'Акира Йошино'"
      ]
     },
     "execution_count": 30,
     "metadata": {},
     "output_type": "execute_result"
    }
   ],
   "source": [
    "self_ask_with_search = initialize_agent(\n",
    "    tools, llm, agent=AgentType.SELF_ASK_WITH_SEARCH, verbose=True\n",
    ")\n",
    "self_ask_with_search.run(\n",
    "    \"Кто был самым молодым лауреатом Нобелевской премии по химии в 2019-ом году?\"\n",
    ")"
   ]
  }
 ],
 "metadata": {
  "kernelspec": {
   "display_name": "Python 3 (ipykernel)",
   "language": "python",
   "name": "python3"
  },
  "language_info": {
   "codemirror_mode": {
    "name": "ipython",
    "version": 3
   },
   "file_extension": ".py",
   "mimetype": "text/x-python",
   "name": "python",
   "nbconvert_exporter": "python",
   "pygments_lexer": "ipython3",
   "version": "3.10.9"
  },
  "vscode": {
   "interpreter": {
    "hash": "b1677b440931f40d89ef8be7bf03acb108ce003de0ac9b18e8d43753ea2e7103"
   }
  }
 },
 "nbformat": 4,
 "nbformat_minor": 5
}
