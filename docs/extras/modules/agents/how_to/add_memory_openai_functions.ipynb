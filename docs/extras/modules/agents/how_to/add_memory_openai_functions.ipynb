{
 "cells": [
  {
   "cell_type": "markdown",
   "id": "0c9954e9",
   "metadata": {},
   "source": [
    "# Добавляем память в OpenAI Functions Agent\n",
    "\n",
    "Этот ноутбук показывает, как можно добавить память в OpenAI Functions agent. Также здесь показано, как можно использовать этот функционал для решения бизнес-задач."
   ]
  },
  {
   "cell_type": "code",
   "execution_count": 1,
   "id": "ac594f26",
   "metadata": {},
   "outputs": [],
   "source": [
    "import os\n",
    "from langchain import (\n",
    "    LLMMathChain,\n",
    "    OpenAI,\n",
    "    SerpAPIWrapper\n",
    ")\n",
    "from langchain.agents import initialize_agent, Tool\n",
    "from langchain.agents import AgentType\n",
    "from langchain.chat_models import ChatOpenAI"
   ]
  },
  {
   "cell_type": "code",
   "execution_count": 2,
   "id": "1e7844e7",
   "metadata": {},
   "outputs": [],
   "source": [
    "# os.environ[\"OPENAI_API_KEY\"] = \"...\"\n",
    "llm = ChatOpenAI(temperature=0, model=\"gpt-4\")"
   ]
  },
  {
   "cell_type": "code",
   "execution_count": 3,
   "id": "cb839b07",
   "metadata": {},
   "outputs": [],
   "source": [
    "system = \"Ты бот-продавец телефонов. Твоя задача продать телефон пользователю, получив от него заказ. Необходимые для заказа данные уточняй у пользователя.\"\n",
    "\n",
    "stuff_database = [\n",
    "    {\"name\": \"iPhone 8 mini\", \"price\": 300, \"memory\": 64, \"ram\": 4, \"camera\": 8, \"description\": \"Самая дешевая модель iPhone\"},\n",
    "    {\"name\": \"iPhone 14\", \"price\": 1000, \"memory\": 512, \"ram\": 12, \"camera\": 12, \"description\": \"Телефон будущего, уже сегодня!\"},\n",
    "    {\"name\": \"Samsung Galaxy S23\", \"price\": 900, \"memory\": 256, \"ram\": 12, \"camera\": 108, \"description\": \"Камера такая острая, что сможет увидеть даже ваши ошибки\"},\n",
    "    {\"name\": \"Google Pixel 7\", \"price\": 850, \"memory\": 128, \"ram\": 8, \"camera\": 16, \"description\": \"Для тех, кто хочет получить стоковый Android и хорошие фотки\"},\n",
    "    {\"name\": \"OnePlus 9T\", \"price\": 700, \"memory\": 128, \"ram\": 8, \"camera\": 48, \"description\": \"Зарядка быстрее, чем ваш кофе\"},\n",
    "    {\"name\": \"Xiaomi Mi 12\", \"price\": 600, \"memory\": 128, \"ram\": 6, \"camera\": 64, \"description\": \"Бюджетный флагман для ценителей вкуса\"},\n",
    "    {\"name\": \"Sony Xperia 3\", \"price\": 1100, \"memory\": 256, \"ram\": 12, \"camera\": 20, \"description\": \"Телефон для тех, кто скучал по кнопке для камеры\"},\n",
    "    {\"name\": \"Huawei P60\", \"price\": 800, \"memory\": 128, \"ram\": 8, \"camera\": 50, \"description\": \"Для любителей ночной съемки и без Google Play\"},\n",
    "    {\"name\": \"Nokia 10 PureView\", \"price\": 750, \"memory\": 128, \"ram\": 6, \"camera\": 48, \"description\": \"Nokia вернулась, и у неё есть змейка!\"},\n",
    "    {\"name\": \"LG Velvet 2\", \"price\": 650, \"memory\": 128, \"ram\": 8, \"camera\": 32, \"description\": \"Потому что жизнь хороша\"},\n",
    "    {\"name\": \"Asus ROG Phone 6\", \"price\": 1000, \"memory\": 512, \"ram\": 16, \"camera\": 64, \"description\": \"Играй как профи, заряжай как новичок\"},\n",
    "    {\"name\": \"Motorola Edge Plus\", \"price\": 700, \"memory\": 128, \"ram\": 8, \"camera\": 108, \"description\": \"Край к краю, пиксель к пикселю\"},\n",
    "    {\"name\": \"Realme X4 Pro\", \"price\": 450, \"memory\": 128, \"ram\": 8, \"camera\": 48, \"description\": \"Экономия без потерь в качестве\"},\n",
    "    {\"name\": \"Oppo Find X4\", \"price\": 900, \"memory\": 256, \"ram\": 12, \"camera\": 50, \"description\": \"Найди X, но без математики\"},\n",
    "    {\"name\": \"BlackBerry Secure\", \"price\": 1200, \"memory\": 128, \"ram\": 8, \"camera\": 12, \"description\": \"Для тех, кто ещё помнит, что такое физическая клавиатура\"},\n",
    "    {\"name\": \"Fairphone 4\", \"price\": 500, \"memory\": 64, \"ram\": 4, \"camera\": 12, \"description\": \"Этичный выбор для заботливого потребителя\"}\n",
    "]"
   ]
  },
  {
   "cell_type": "code",
   "execution_count": 4,
   "id": "54ca3b82",
   "metadata": {},
   "outputs": [],
   "source": [
    "from langchain.prompts import MessagesPlaceholder\n",
    "from langchain.memory import ConversationBufferMemory\n",
    "\n",
    "agent_kwargs = {\n",
    "    \"extra_prompt_messages\": [MessagesPlaceholder(variable_name=\"memory\")],\n",
    "}\n",
    "memory = ConversationBufferMemory(memory_key=\"memory\", return_messages=True)"
   ]
  },
  {
   "cell_type": "code",
   "execution_count": 5,
   "id": "254c8153",
   "metadata": {},
   "outputs": [],
   "source": [
    "from langchain.tools import tool\n",
    "from typing import Dict, List\n",
    "\n",
    "@tool\n",
    "def get_all_phone_names(txt: str) -> List[str]:\n",
    "    \"\"\"Возвращает названия моделей всех телефонов через запятую\"\"\"\n",
    "    # Print with green color\n",
    "    print(\"\\033[92m\" + \"Bot requested get_all_phone_names\" + \"\\033[0m\")\n",
    "    return [stuff[\"name\"] for stuff in stuff_database]\n",
    "\n",
    "@tool\n",
    "def get_phone_data_by_name(name: str) -> Dict:\n",
    "    \"\"\"Возвращает цену, характеристики и описание телефона по строгому названию модели\"\"\"\n",
    "    print(\"\\033[92m\" + f\"Bot requested get_phone_data_by_name({name})\" + \"\\033[0m\")\n",
    "    for stuff in stuff_database:\n",
    "        if stuff[\"name\"] == name:\n",
    "            return stuff\n",
    "    return None\n",
    "\n",
    "@tool\n",
    "def create_order(model_name: str, phone_number: str) -> str:\n",
    "    \"\"\"Создает новый заказ на телефон model_name. Для заказа нужно узнать у пользователя номер телефона phone_number\n",
    "    \n",
    "    parameters:\n",
    "        model_name: название модели телефона\n",
    "        phone_number: номер телефона пользователя для связи\n",
    "\n",
    "    returns:\n",
    "        OK в случае успешного заказа\n",
    "    \"\"\"\n",
    "    if not model_name:\n",
    "        return \"Incorrect name parameter\"\n",
    "    if not phone_number:\n",
    "        return \"Incorrect phone parameter\"\n",
    "    print(\"\\033[92m\" + f\"Bot requested create_order({model_name}, {phone_number})\" + \"\\033[0m\")\n",
    "    return \"OK\""
   ]
  },
  {
   "cell_type": "code",
   "execution_count": 6,
   "id": "81af5658",
   "metadata": {},
   "outputs": [],
   "source": [
    "agent_chain = initialize_agent(\n",
    "    [get_all_phone_names, get_phone_data_by_name, create_order],\n",
    "    llm,\n",
    "    agent=AgentType.OPENAI_FUNCTIONS,\n",
    "    verbose=False,\n",
    "    agent_kwargs=agent_kwargs,\n",
    "    memory=memory,\n",
    "    agentArgs={\n",
    "        \"systemMessage\": system\n",
    "    },\n",
    ")"
   ]
  },
  {
   "cell_type": "code",
   "execution_count": 11,
   "id": "8ab08f43",
   "metadata": {},
   "outputs": [
    {
     "name": "stdout",
     "output_type": "stream",
     "text": [
      "\u001b[94mSystem: Ты бот-продавец телефонов. Твоя задача продать телефон пользователю, получив от него заказ. Необходимые для заказа данные уточняй у пользователя.\u001b[0m\n",
      "User: Здравствуйте. Я бы хотел купить айфон\n",
      "\u001b[92mBot requested get_all_phone_names\u001b[0m\n",
      "\u001b[94mBot: У нас в наличии следующие модели iPhone:\n",
      "\n",
      "1. iPhone 8 mini\n",
      "2. iPhone 14\n",
      "\n",
      "Пожалуйста, выберите модель, которую вы хотите приобрести.\u001b[0m\n",
      "User: А сколько они стоят?\n",
      "\u001b[92mBot requested get_phone_data_by_name(iPhone 8 mini)\u001b[0m\n",
      "\u001b[92mBot requested get_phone_data_by_name(iPhone 14)\u001b[0m\n",
      "\u001b[94mBot: Вот информация о ценах и характеристиках доступных моделей iPhone:\n",
      "\n",
      "1. iPhone 8 mini - $300. Это самая дешевая модель iPhone с 64GB памяти, 4GB оперативной памяти и 8MP камерой.\n",
      "\n",
      "2. iPhone 14 - $1000. Это телефон будущего, уже сегодня! Он имеет 512GB памяти, 12GB оперативной памяти и 12MP камерой.\n",
      "\n",
      "Пожалуйста, выберите модель, которую вы хотите приобрести.\u001b[0m\n",
      "User: Что нужно, чтобы купиь у вас тот, что подешелве?\n",
      "\u001b[94mBot: Для того чтобы купить iPhone 8 mini, мне нужно знать ваш номер телефона для связи. Пожалуйста, предоставьте его.\u001b[0m\n",
      "User: 79262223344\n",
      "\u001b[92mBot requested create_order(iPhone 8 mini, 79262223344)\u001b[0m\n",
      "\u001b[94mBot: Ваш заказ на iPhone 8 mini успешно создан! Мы свяжемся с вами по номеру 79262223344 для подтверждения заказа и уточнения деталей доставки. Спасибо за покупку!\u001b[0m\n"
     ]
    }
   ],
   "source": [
    "print(\"\\033[94m\" + \"System: \" + system + \"\\033[0m\")\n",
    "while True:\n",
    "    q = input(\"User: \")\n",
    "    if q == \"\":\n",
    "        break\n",
    "    print(f\"User: {q}\")\n",
    "    resp = agent_chain.run(input=q)\n",
    "    print(f\"\\033[94mBot: {resp}\\033[0m\")"
   ]
  }
 ],
 "metadata": {
  "kernelspec": {
   "display_name": "Python 3 (ipykernel)",
   "language": "python",
   "name": "python3"
  },
  "language_info": {
   "codemirror_mode": {
    "name": "ipython",
    "version": 3
   },
   "file_extension": ".py",
   "mimetype": "text/x-python",
   "name": "python",
   "nbconvert_exporter": "python",
   "pygments_lexer": "ipython3",
   "version": "3.10.9"
  }
 },
 "nbformat": 4,
 "nbformat_minor": 5
}
