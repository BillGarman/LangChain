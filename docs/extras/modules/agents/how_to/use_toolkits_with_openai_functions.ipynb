{
 "cells": [
  {
   "cell_type": "markdown",
   "id": "af49b410",
   "metadata": {},
   "source": [
    "# Use ToolKits with OpenAI Functions\n",
    "\n",
    "This notebook shows how to use the OpenAI functions agent with arbitrary toolkits."
   ]
  },
  {
   "cell_type": "code",
   "execution_count": 14,
   "id": "af6496bd",
   "metadata": {},
   "outputs": [],
   "source": [
    "from langchain import (\n",
    "    LLMMathChain,\n",
    "    OpenAI,\n",
    "    SerpAPIWrapper,\n",
    "    SQLDatabase,\n",
    "    SQLDatabaseChain,\n",
    ")\n",
    "from langchain.agents import initialize_agent, Tool\n",
    "from langchain.agents import AgentType\n",
    "from langchain.chat_models import ChatOpenAI\n",
    "from langchain.agents.agent_toolkits import SQLDatabaseToolkit\n",
    "from langchain.schema import SystemMessage"
   ]
  },
  {
   "cell_type": "markdown",
   "id": "1b7ee35f",
   "metadata": {},
   "source": [
    "Load the toolkit"
   ]
  },
  {
   "cell_type": "code",
   "execution_count": 15,
   "id": "0423c32c",
   "metadata": {},
   "outputs": [],
   "source": [
    "db = SQLDatabase.from_uri(\"sqlite:///../../../../../notebooks/Chinook.db\")\n",
    "toolkit = SQLDatabaseToolkit(llm=ChatOpenAI(), db=db)"
   ]
  },
  {
   "cell_type": "markdown",
   "id": "203fa80a",
   "metadata": {},
   "source": [
    "Set a system message specific to that toolkit"
   ]
  },
  {
   "cell_type": "code",
   "execution_count": 16,
   "id": "e4edb101",
   "metadata": {},
   "outputs": [],
   "source": [
    "agent_kwargs = {\n",
    "    \"system_message\": SystemMessage(content=\"You are an expert SQL data analyst.\")\n",
    "}"
   ]
  },
  {
   "cell_type": "code",
   "execution_count": 17,
   "id": "e0c67b60",
   "metadata": {},
   "outputs": [],
   "source": [
    "llm = ChatOpenAI(temperature=0, model=\"gpt-3.5-turbo-0613\")\n",
    "agent = initialize_agent(\n",
    "    toolkit.get_tools(), \n",
    "    llm, \n",
    "    agent=AgentType.OPENAI_FUNCTIONS, \n",
    "    verbose=True, \n",
    "    agent_kwargs=agent_kwargs,\n",
    ")"
   ]
  },
  {
   "cell_type": "code",
   "execution_count": 219,
   "id": "5f0016cc",
   "metadata": {},
   "outputs": [],
   "source": [
    "from pydantic import BaseModel, Field\n",
    "from typing import List, Union, Tuple, Literal"
   ]
  },
  {
   "cell_type": "code",
   "execution_count": 267,
   "id": "a9544eda",
   "metadata": {},
   "outputs": [],
   "source": [
    "class Search(BaseModel):\n",
    "    query: str\n",
    "        \n",
    "class PythonREPL(BaseModel):\n",
    "    query: str\n",
    "    \n",
    "class ToolCall(BaseModel):\n",
    "    tool_name: Literal['PythonREPL', 'Search']\n",
    "    actions: Union[PythonREPL, Search]\n",
    "        \n",
    "class ToolSelection(BaseModel):\n",
    "    \"\"\"A list of actions to take.\"\"\"\n",
    "    \n",
    "    actions: List[ToolCall]"
   ]
  },
  {
   "cell_type": "code",
   "execution_count": 268,
   "id": "581b4741",
   "metadata": {},
   "outputs": [],
   "source": [
    "from typing import Any, Dict\n",
    "\n",
    "\n",
    "def _resolve_schema_references(schema: Any, definitions: Dict[str, Any]) -> Any:\n",
    "    \"\"\"\n",
    "    Resolves the $ref keys in a JSON schema object using the provided definitions.\n",
    "    \"\"\"\n",
    "    if isinstance(schema, list):\n",
    "        for i, item in enumerate(schema):\n",
    "            schema[i] = _resolve_schema_references(item, definitions)\n",
    "    elif isinstance(schema, dict):\n",
    "        if \"$ref\" in schema:\n",
    "            ref_key = schema.pop(\"$ref\").split(\"/\")[-1]\n",
    "            ref = definitions.get(ref_key, {})\n",
    "            schema.update(ref)\n",
    "        else:\n",
    "            for key, value in schema.items():\n",
    "                schema[key] = _resolve_schema_references(value, definitions)\n",
    "    return schema"
   ]
  },
  {
   "cell_type": "code",
   "execution_count": 269,
   "id": "5ee01f0d",
   "metadata": {},
   "outputs": [],
   "source": [
    "openai_schema = ToolSelection.schema()"
   ]
  },
  {
   "cell_type": "code",
   "execution_count": 270,
   "id": "23cc8447",
   "metadata": {},
   "outputs": [],
   "source": [
    "openai_schema = ToolSelection.schema()\n",
    "openai_schema = _resolve_schema_references(\n",
    "    openai_schema, openai_schema[\"definitions\"]\n",
    ")"
   ]
  },
  {
   "cell_type": "code",
   "execution_count": 271,
   "id": "9e6eb07d",
   "metadata": {},
   "outputs": [],
   "source": [
    "def _convert_schema(schema: dict) -> dict:\n",
    "    props = {k: {\"title\": k, **v} for k, v in schema[\"properties\"].items()}\n",
    "    return {\n",
    "        \"type\": \"object\",\n",
    "        \"properties\": props,\n",
    "        \"required\": schema.get(\"required\", []),\n",
    "    }"
   ]
  },
  {
   "cell_type": "code",
   "execution_count": 272,
   "id": "55d86a6a",
   "metadata": {},
   "outputs": [],
   "source": [
    "tool_selection = {\n",
    "    \"name\": openai_schema[\"title\"],\n",
    "    \"description\": openai_schema[\"description\"],\n",
    "    \"parameters\": openai_schema,\n",
    "}"
   ]
  },
  {
   "cell_type": "code",
   "execution_count": 273,
   "id": "717e6f21",
   "metadata": {},
   "outputs": [],
   "source": [
    "del tool_selection['parameters']['definitions']"
   ]
  },
  {
   "cell_type": "code",
   "execution_count": 274,
   "id": "9706a61b",
   "metadata": {},
   "outputs": [
    {
     "data": {
      "text/plain": [
       "{'name': 'ToolSelection',\n",
       " 'description': 'A list of actions to take.',\n",
       " 'parameters': {'title': 'ToolSelection',\n",
       "  'description': 'A list of actions to take.',\n",
       "  'type': 'object',\n",
       "  'properties': {'actions': {'title': 'Actions',\n",
       "    'type': 'array',\n",
       "    'items': {'title': 'ToolCall',\n",
       "     'type': 'object',\n",
       "     'properties': {'tool_name': {'title': 'Tool Name',\n",
       "       'enum': ['PythonREPL', 'Search'],\n",
       "       'type': 'string'},\n",
       "      'actions': {'title': 'Actions',\n",
       "       'anyOf': [{'title': 'PythonREPL',\n",
       "         'type': 'object',\n",
       "         'properties': {'query': {'title': 'Query', 'type': 'string'}},\n",
       "         'required': ['query']},\n",
       "        {'title': 'Search',\n",
       "         'type': 'object',\n",
       "         'properties': {'query': {'title': 'Query', 'type': 'string'}},\n",
       "         'required': ['query']}]}},\n",
       "     'required': ['tool_name', 'actions']}}},\n",
       "  'required': ['actions']}}"
      ]
     },
     "execution_count": 274,
     "metadata": {},
     "output_type": "execute_result"
    }
   ],
   "source": [
    "tool_selection"
   ]
  },
  {
   "cell_type": "code",
   "execution_count": 275,
   "id": "01f511db",
   "metadata": {},
   "outputs": [],
   "source": [
    "def _convert(f):\n",
    "    return {\n",
    "        **{'title': f['name']},\n",
    "        **f['parameters']\n",
    "    }"
   ]
  },
  {
   "cell_type": "code",
   "execution_count": 276,
   "id": "d4624f00",
   "metadata": {},
   "outputs": [],
   "source": [
    "tool_selection1 = {'name': 'ToolSelection',\n",
    " 'description': 'A list of actions to take.',\n",
    " 'parameters': {'title': 'ToolSelection',\n",
    "  'description': 'A list of actions to take.',\n",
    "  'type': 'object',\n",
    "  'properties': {'actions': {'title': 'Actions',\n",
    "    'type': 'array',\n",
    "    'items': {'anyOf': [_convert(f) for f in agent.agent.functions]}}},\n",
    "  'required': ['actions']}}"
   ]
  },
  {
   "cell_type": "code",
   "execution_count": 277,
   "id": "20e59218",
   "metadata": {},
   "outputs": [],
   "source": [
    "from langchain.schema import HumanMessage"
   ]
  },
  {
   "cell_type": "code",
   "execution_count": 278,
   "id": "a0da76af",
   "metadata": {},
   "outputs": [],
   "source": [
    "result = agent.agent.llm.predict_messages(\n",
    "   [HumanMessage(content=\"Use the following tools as neccesary to answer the question\"), \n",
    "    HumanMessage(content=\"who is leo dicaprio dating? how old is leo?\")] ,\n",
    "    functions=[tool_selection],\n",
    ")"
   ]
  },
  {
   "cell_type": "code",
   "execution_count": 279,
   "id": "f5638da9",
   "metadata": {},
   "outputs": [
    {
     "data": {
      "text/plain": [
       "AIMessage(content='', additional_kwargs={'function_call': {'name': 'ToolSelection', 'arguments': '{\\n  \"actions\": [\\n    {\\n      \"tool_name\": \"Search\",\\n      \"actions\": {\\n        \"query\": \"Leo DiCaprio current girlfriend\"\\n      }\\n    },\\n    {\\n      \"tool_name\": \"Search\",\\n      \"actions\": {\\n        \"query\": \"Leo DiCaprio age\"\\n      }\\n    }\\n  ]\\n}'}}, example=False)"
      ]
     },
     "execution_count": 279,
     "metadata": {},
     "output_type": "execute_result"
    }
   ],
   "source": [
    "result"
   ]
  },
  {
   "cell_type": "code",
   "execution_count": null,
   "id": "1f82494f",
   "metadata": {},
   "outputs": [],
   "source": [
    "result = agent.agent.llm.predict_messages(\n",
    "   [HumanMessage(content=\"Use the following tools as neccesary to answer the question\"), \n",
    "    HumanMessage(content=\"what many record in the song db?\")] ,\n",
    "    functions=[tool_selection1],\n",
    ")"
   ]
  },
  {
   "cell_type": "code",
   "execution_count": 202,
   "id": "c54f0967",
   "metadata": {},
   "outputs": [
    {
     "data": {
      "text/plain": [
       "AIMessage(content='', additional_kwargs={'function_call': {'name': 'ToolSelection', 'arguments': '{\\n  \"actions\": [\\n    {\\n      \"name\": \"Google Search\",\\n      \"query\": \"Leo DiCaprio current girlfriend\"\\n    },\\n    {\\n      \"name\": \"Google Search\",\\n      \"query\": \"Leo DiCaprio age\"\\n    }\\n  ]\\n}'}}, example=False)"
      ]
     },
     "execution_count": 202,
     "metadata": {},
     "output_type": "execute_result"
    }
   ],
   "source": [
    "result"
   ]
  },
  {
   "cell_type": "code",
   "execution_count": 280,
   "id": "3eb9781c",
   "metadata": {},
   "outputs": [],
   "source": [
    "import json"
   ]
  },
  {
   "cell_type": "code",
   "execution_count": 281,
   "id": "d90c94d9",
   "metadata": {},
   "outputs": [
    {
     "data": {
      "text/plain": [
       "ToolSelection(actions=[ToolCall(tool_name='Search', actions=PythonREPL(query='Leo DiCaprio current girlfriend')), ToolCall(tool_name='Search', actions=PythonREPL(query='Leo DiCaprio age'))])"
      ]
     },
     "execution_count": 281,
     "metadata": {},
     "output_type": "execute_result"
    }
   ],
   "source": [
    "ToolSelection(**json.loads(result.additional_kwargs['function_call']['arguments']))"
   ]
  },
  {
   "cell_type": "code",
   "execution_count": 70,
   "id": "9b66a0a0",
   "metadata": {},
   "outputs": [
    {
     "data": {
      "text/plain": [
       "'\\n\\nHi there!'"
      ]
     },
     "execution_count": 70,
     "metadata": {},
     "output_type": "execute_result"
    }
   ],
   "source": [
    "from langchain.llms import OpenAI, Cohere, Anthropic, HuggingFaceHub, GooglePalm\n",
    "model = OpenAI()\n",
    "model.predict(\"say hi\")"
   ]
  },
  {
   "cell_type": "code",
   "execution_count": 13,
   "id": "93619811",
   "metadata": {},
   "outputs": [
    {
     "name": "stdout",
     "output_type": "stream",
     "text": [
      "\n",
      "\n",
      "\u001b[1m> Entering new  chain...\u001b[0m\n",
      "\u001b[32;1m\u001b[1;3m\n",
      "Invoking: `sql_db_query` with `{'query': 'SELECT COUNT(DISTINCT artist_name) AS num_artists FROM artists'}`\n",
      "\n",
      "\n",
      "\u001b[0m\u001b[36;1m\u001b[1;3mError: (sqlite3.OperationalError) no such table: artists\n",
      "[SQL: SELECT COUNT(DISTINCT artist_name) AS num_artists FROM artists]\n",
      "(Background on this error at: https://sqlalche.me/e/20/e3q8)\u001b[0m\u001b[32;1m\u001b[1;3m\n",
      "Invoking: `sql_db_list_tables` with `{}`\n",
      "\n",
      "\n",
      "\u001b[0m\u001b[38;5;200m\u001b[1;3mMediaType, Track, Playlist, sales_table, Customer, Genre, PlaylistTrack, Artist, Invoice, Album, InvoiceLine, Employee\u001b[0m\u001b[32;1m\u001b[1;3m\n",
      "Invoking: `sql_db_query` with `{'query': 'SELECT COUNT(DISTINCT artist_id) AS num_artists FROM Artist'}`\n",
      "\n",
      "\n",
      "\u001b[0m\u001b[36;1m\u001b[1;3mError: (sqlite3.OperationalError) no such column: artist_id\n",
      "[SQL: SELECT COUNT(DISTINCT artist_id) AS num_artists FROM Artist]\n",
      "(Background on this error at: https://sqlalche.me/e/20/e3q8)\u001b[0m\u001b[32;1m\u001b[1;3m\n",
      "Invoking: `sql_db_query` with `{'query': 'SELECT COUNT(DISTINCT Name) AS num_artists FROM Artist'}`\n",
      "\n",
      "\n",
      "\u001b[0m\u001b[36;1m\u001b[1;3m[(275,)]\u001b[0m\u001b[32;1m\u001b[1;3mThere are 275 different artists in the database.\u001b[0m\n",
      "\n",
      "\u001b[1m> Finished chain.\u001b[0m\n"
     ]
    },
    {
     "data": {
      "text/plain": [
       "'There are 275 different artists in the database.'"
      ]
     },
     "execution_count": 13,
     "metadata": {},
     "output_type": "execute_result"
    }
   ],
   "source": [
    "agent.run(\"how many different artists are there?\")"
   ]
  },
  {
   "cell_type": "code",
   "execution_count": null,
   "id": "34415bad",
   "metadata": {},
   "outputs": [],
   "source": []
  }
 ],
 "metadata": {
  "kernelspec": {
   "display_name": "Python 3 (ipykernel)",
   "language": "python",
   "name": "python3"
  },
  "language_info": {
   "codemirror_mode": {
    "name": "ipython",
    "version": 3
   },
   "file_extension": ".py",
   "mimetype": "text/x-python",
   "name": "python",
   "nbconvert_exporter": "python",
   "pygments_lexer": "ipython3",
   "version": "3.9.1"
  }
 },
 "nbformat": 4,
 "nbformat_minor": 5
}
