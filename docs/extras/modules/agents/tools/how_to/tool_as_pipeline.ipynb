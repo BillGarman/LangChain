{
 "cells": [
  {
   "cell_type": "markdown",
   "metadata": {},
   "source": [
    "# Pipeline Tool\n",
    "\n",
    "\n",
    "When creating a domain tool from scratch, it is convenient to leverage existing chains and tools. Below are two examples that demonstrate the integration of DuckDuckSearch and a Fake LLM Chain to accomplish a domain task.\n",
    "\n",
    "\n",
    "## Complete Output Result using Pipeline Tool\n",
    "\n",
    "The provided demo pipeline tool comprises three steps:\n",
    "\n",
    "1. Retrieving the result from DuckDuckSearch\n",
    "2. Converting the output into a dictionary format using ``yaml.safe_load`` with single-quotes treated as JSON-like syntax.\n",
    "3. Generating a summary of the output by selecting specific fields."
   ]
  },
  {
   "cell_type": "code",
   "execution_count": 2,
   "metadata": {},
   "outputs": [
    {
     "name": "stderr",
     "output_type": "stream",
     "text": [
      "/home/andy/miniconda3/envs/lc/lib/python3.9/site-packages/tqdm/auto.py:21: TqdmWarning: IProgress not found. Please update jupyter and ipywidgets. See https://ipywidgets.readthedocs.io/en/stable/user_install.html\n",
      "  from .autonotebook import tqdm as notebook_tqdm\n"
     ]
    }
   ],
   "source": [
    "import json\n",
    "import yaml\n",
    "\n",
    "from langchain.llms.fake import FakeListLLM\n",
    "from langchain import PromptTemplate\n",
    "from langchain.chains import MapReduceDocumentsChain, LLMChain\n",
    "\n",
    "from langchain.tools import DuckDuckGoSearchResults\n"
   ]
  },
  {
   "cell_type": "code",
   "execution_count": 4,
   "metadata": {},
   "outputs": [],
   "source": [
    "responses = [\n",
    "    \"\"\"Here is the first summary for duckduck ...\"\"\", \n",
    "    \"\"\"Here is the second summary for duckduck ...\"\"\"\n",
    "            ]\n",
    "llm = FakeListLLM(responses=responses)\n",
    "prompt_template = \"Summarize {documents} to me\"\n",
    "llm_chain = LLMChain(llm=llm, prompt=PromptTemplate.from_template(prompt_template))\n"
   ]
  },
  {
   "cell_type": "code",
   "execution_count": 5,
   "metadata": {},
   "outputs": [],
   "source": [
    "dd = DuckDuckGoSearchResults()"
   ]
  },
  {
   "cell_type": "code",
   "execution_count": 6,
   "metadata": {},
   "outputs": [],
   "source": [
    "import yaml\n",
    "from langchain.tools import PipelineStep, PipelineTool\n",
    "\n",
    "ppl = PipelineTool(\n",
    "    name='duckduck_search_summarization', \n",
    "    description='useful when duckduck search summarization is required',\n",
    "    steps=[\n",
    "        PipelineStep(func=dd, output_expression='dd_output'),\n",
    "        PipelineStep(func=lambda x: yaml.safe_load(x), input_expression={'x': 'dd_output'}, output_expression={'documents': '[*].{title: title, summary: snippet}'}),\n",
    "        PipelineStep(func=llm_chain, input_expression={'inputs': 'documents'}, output_expression={'summary': 'text'}),\n",
    "    ]\n",
    ")\n",
    "\n"
   ]
  },
  {
   "cell_type": "code",
   "execution_count": 7,
   "metadata": {},
   "outputs": [],
   "source": [
    "output = ppl('duckduck search')"
   ]
  },
  {
   "cell_type": "code",
   "execution_count": 8,
   "metadata": {},
   "outputs": [],
   "source": [
    "doc = json.loads(output)"
   ]
  },
  {
   "cell_type": "code",
   "execution_count": 9,
   "metadata": {},
   "outputs": [
    {
     "data": {
      "text/plain": [
       "{'dd_output': '[{\\'snippet\\': \"By contrast, DuckDuckGo search is completely anonymous and if you add our app & extension on top, we help keep you private when browsing off of search results. Learn more. How popular is DuckDuckGo? We don\\'t track our users, so it\\'s actually impossible for us to know how many users in total are using our products. However, we are able to ...\", \\'title\\': \\'DuckDuckGo - Privacy, simplified.\\', \\'link\\': \\'https://duckduckgo.com/\\'}, {\\'snippet\\': \"DuckDuckGo released a companion web browser for Mac in public beta in 2022, and now there\\'s a Windows version available. DuckDuckGo\\'s browser is now available in beta for Windows computers, letting you try out the browser and all of its private, secure features.\", \\'title\\': \\'DuckDuckGo Web Browser Now Available for Windows PCs\\', \\'link\\': \\'https://www.howtogeek.com/900963/duckduckgo-web-browser-now-available-for-windows-pcs/\\'}, {\\'snippet\\': \"Windows users have a new way to browse the web with more privacy, thanks to the public beta release of DuckDuckGo\\'s Windows browser. The privacy-focused search engine has released a Windows version of its desktop browser.\", \\'title\\': \"How to Use DuckDuckGo\\'s Browser on Windows\", \\'link\\': \\'https://www.makeuseof.com/use-duckduckgo-browser-windows/\\'}, {\\'snippet\\': \\'100 Privacy-focused firm DuckDuckGo has released a public beta of its browser for Windows, offering more default privacy protections and an assortment of Duck-made browsing tools.\\', \\'title\\': \\'DuckDuckGo browser beta for Windows bakes in a lot of privacy tools ...\\', \\'link\\': \\'https://arstechnica.com/gadgets/2023/06/duckduckgo-offers-its-privacy-centered-browser-in-a-windows-open-beta/\\'}]',\n",
       " 'documents': [{'title': 'DuckDuckGo - Privacy, simplified.',\n",
       "   'summary': \"By contrast, DuckDuckGo search is completely anonymous and if you add our app & extension on top, we help keep you private when browsing off of search results. Learn more. How popular is DuckDuckGo? We don't track our users, so it's actually impossible for us to know how many users in total are using our products. However, we are able to ...\"},\n",
       "  {'title': 'DuckDuckGo Web Browser Now Available for Windows PCs',\n",
       "   'summary': \"DuckDuckGo released a companion web browser for Mac in public beta in 2022, and now there's a Windows version available. DuckDuckGo's browser is now available in beta for Windows computers, letting you try out the browser and all of its private, secure features.\"},\n",
       "  {'title': \"How to Use DuckDuckGo's Browser on Windows\",\n",
       "   'summary': \"Windows users have a new way to browse the web with more privacy, thanks to the public beta release of DuckDuckGo's Windows browser. The privacy-focused search engine has released a Windows version of its desktop browser.\"},\n",
       "  {'title': 'DuckDuckGo browser beta for Windows bakes in a lot of privacy tools ...',\n",
       "   'summary': '100 Privacy-focused firm DuckDuckGo has released a public beta of its browser for Windows, offering more default privacy protections and an assortment of Duck-made browsing tools.'}],\n",
       " 'summary': 'Here is the first summary for duckduck ...'}"
      ]
     },
     "execution_count": 9,
     "metadata": {},
     "output_type": "execute_result"
    }
   ],
   "source": [
    "doc"
   ]
  },
  {
   "cell_type": "code",
   "execution_count": 12,
   "metadata": {},
   "outputs": [
    {
     "data": {
      "text/plain": [
       "'Here is the summary for duckduck ...'"
      ]
     },
     "execution_count": 12,
     "metadata": {},
     "output_type": "execute_result"
    }
   ],
   "source": [
    "doc['summary']"
   ]
  },
  {
   "cell_type": "markdown",
   "metadata": {},
   "source": [
    "## Pipeline Tool with Final Output\n",
    "\n",
    "\n",
    "By utilizing the ``output_expression`` argument as a list containing a single string element, the pipeline tool will return the final result extracted from the output using the specified key.."
   ]
  },
  {
   "cell_type": "code",
   "execution_count": 10,
   "metadata": {},
   "outputs": [],
   "source": [
    "import yaml\n",
    "from langchain.tools import PipelineStep, PipelineTool\n",
    "\n",
    "ppl = PipelineTool(\n",
    "    name='duckduck_search_summarization', \n",
    "    description='useful when duckduck search summarization is required',\n",
    "    steps=[\n",
    "        PipelineStep(func=dd, output_expression='dd_output'),\n",
    "        PipelineStep(func=lambda x: yaml.safe_load(x), input_expression={'x': 'dd_output'}, output_expression={'documents': '[*].{title: title, summary: snippet}'}),\n",
    "        PipelineStep(func=llm_chain, input_expression={'inputs': 'documents'}, output_expression={'summary': 'text'}),\n",
    "    ],\n",
    "    output_expression=['summary'],\n",
    ")\n",
    "\n"
   ]
  },
  {
   "cell_type": "code",
   "execution_count": 11,
   "metadata": {},
   "outputs": [
    {
     "data": {
      "text/plain": [
       "'\"Here is the second summary for duckduck ...\"'"
      ]
     },
     "execution_count": 11,
     "metadata": {},
     "output_type": "execute_result"
    }
   ],
   "source": [
    "ppl('duckduck search')"
   ]
  },
  {
   "cell_type": "code",
   "execution_count": null,
   "metadata": {},
   "outputs": [],
   "source": []
  }
 ],
 "metadata": {
  "kernelspec": {
   "display_name": "Python 3 (ipykernel)",
   "language": "python",
   "name": "python3"
  },
  "language_info": {
   "codemirror_mode": {
    "name": "ipython",
    "version": 3
   },
   "file_extension": ".py",
   "mimetype": "text/x-python",
   "name": "python",
   "nbconvert_exporter": "python",
   "pygments_lexer": "ipython3",
   "version": "3.9.16"
  }
 },
 "nbformat": 4,
 "nbformat_minor": 4
}
