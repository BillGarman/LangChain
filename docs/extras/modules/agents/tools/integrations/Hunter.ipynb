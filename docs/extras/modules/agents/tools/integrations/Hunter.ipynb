{
 "cells": [
  {
   "cell_type": "code",
   "execution_count": 3,
   "id": "cb6c2bc0",
   "metadata": {},
   "outputs": [
    {
     "name": "stdout",
     "output_type": "stream",
     "text": [
      "content='' additional_kwargs={'function_call': {'name': 'search_email', 'arguments': '{\\n  \"full_name\": \"Tim Cook\",\\n  \"domain\": \"apple.com\",\\n  \"company\": \"Apple\"\\n}'}} example=False\n"
     ]
    }
   ],
   "source": [
    "from langchain.chat_models import ChatOpenAI\n",
    "from langchain.tools import format_tool_to_openai_function\n",
    "from langchain.schema import HumanMessage\n",
    "from langchain.tools.hunter import search_email, verify_email\n",
    "\n",
    "tools = [search_email, verify_email]\n",
    "model = ChatOpenAI(model=\"gpt-3.5-turbo-0613\")\n",
    "\n",
    "functions = [format_tool_to_openai_function(t) for t in tools]\n",
    "\n",
    "message = model.predict_messages(\n",
    "    [HumanMessage(content=\"What is the email address of Tim Cook at Apple ?\")], functions=functions\n",
    ")\n",
    "\n",
    "print(message)"
   ]
  },
  {
   "cell_type": "code",
   "execution_count": null,
   "id": "f7095210",
   "metadata": {},
   "outputs": [],
   "source": []
  },
  {
   "cell_type": "code",
   "execution_count": null,
   "id": "42f94625",
   "metadata": {},
   "outputs": [],
   "source": []
  }
 ],
 "metadata": {
  "kernelspec": {
   "display_name": "Python 3 (ipykernel)",
   "language": "python",
   "name": "python3"
  },
  "language_info": {
   "codemirror_mode": {
    "name": "ipython",
    "version": 3
   },
   "file_extension": ".py",
   "mimetype": "text/x-python",
   "name": "python",
   "nbconvert_exporter": "python",
   "pygments_lexer": "ipython3",
   "version": "3.9.17"
  }
 },
 "nbformat": 4,
 "nbformat_minor": 5
}
