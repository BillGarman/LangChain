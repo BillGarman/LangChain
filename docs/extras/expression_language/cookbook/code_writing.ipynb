{
 "cells": [
  {
   "cell_type": "markdown",
   "id": "f09fd305",
   "metadata": {},
   "source": [
    "# Code writing\n",
    "\n",
    "Example of how to use LCEL to write Python code."
   ]
  },
  {
   "cell_type": "code",
   "execution_count": 13,
   "id": "bd7c259a",
   "metadata": {},
   "outputs": [],
   "source": [
    "from langchain.chat_models import GigaChat\n",
    "from langchain.prompts import ChatPromptTemplate, SystemMessagePromptTemplate, HumanMessagePromptTemplate\n",
    "from langchain.schema.output_parser import StrOutputParser\n",
    "from langchain.utilities import PythonREPL"
   ]
  },
  {
   "cell_type": "code",
   "execution_count": 14,
   "id": "73795d2d",
   "metadata": {},
   "outputs": [],
   "source": [
    "template = \"\"\"Напиши код на Python для решения задачи пользователя. Верни ТОЛЬКО код на python и ничего больше. Не используй функции, пиши только линейный код. При вычислениях не выводи промежуточные результаты. Ответ выведи в конце решения с помощью команды print\"\"\"\n",
    "prompt = ChatPromptTemplate.from_messages(\n",
    "    [(\"system\", template), (\"human\", \"{input}\")]\n",
    ")\n",
    "\n",
    "\n",
    "model = GigaChat(oauth_token=<token> model=<не ниже 70b>)"
   ]
  },
  {
   "cell_type": "code",
   "execution_count": 15,
   "id": "42859e8a",
   "metadata": {},
   "outputs": [],
   "source": [
    "def _sanitize_output(text: str):\n",
    "    _, after = text.split(\"<code>{python}\")\n",
    "    return after.split(\"</code>\")[0]\n",
    "\n",
    "def _print_output(text: str):\n",
    "    print(\"Running code: \\n\" + text + \"\\n\")\n",
    "    return text"
   ]
  },
  {
   "cell_type": "code",
   "execution_count": 16,
   "id": "5ded1a86",
   "metadata": {},
   "outputs": [],
   "source": [
    "chain = prompt | model | StrOutputParser() | _sanitize_output | _print_output | PythonREPL().run"
   ]
  },
  {
   "cell_type": "code",
   "execution_count": 17,
   "id": "208c2b75",
   "metadata": {},
   "outputs": [
    {
     "name": "stdout",
     "output_type": "stream",
     "text": [
      "Running code: \n",
      "print(5*4*3*2*1)\n",
      "\n"
     ]
    },
    {
     "data": {
      "text/plain": [
       "'120'"
      ]
     },
     "execution_count": 17,
     "metadata": {},
     "output_type": "execute_result"
    }
   ],
   "source": [
    "chain.invoke({\"input\": \"чему равен 5 факториал?\"}).strip()"
   ]
  },
  {
   "cell_type": "code",
   "execution_count": 18,
   "id": "6be503d5",
   "metadata": {},
   "outputs": [
    {
     "name": "stdout",
     "output_type": "stream",
     "text": [
      "Running code: \n",
      "# Сохраним максимальное значение\n",
      "max_num = 0\n",
      "# Итерируемся по трехзначным числам\n",
      "for i in range(100, 999):\n",
      "    # Если число делится на 17, то сохраняем его\n",
      "    if i % 17 == 0:\n",
      "        max_num = i\n",
      "# Выводим результат\n",
      "print(max_num)\n",
      "\n"
     ]
    },
    {
     "data": {
      "text/plain": [
       "'986'"
      ]
     },
     "execution_count": 18,
     "metadata": {},
     "output_type": "execute_result"
    }
   ],
   "source": [
    "chain.invoke({\"input\": \"Выведи самое большое трехзначное число, которое делится на 17\"}).strip()"
   ]
  },
  {
   "cell_type": "code",
   "execution_count": 34,
   "id": "df934c57",
   "metadata": {},
   "outputs": [
    {
     "name": "stdout",
     "output_type": "stream",
     "text": [
      "Running code: \n",
      "# Присваиваем переменной базовый депозит\n",
      "deposit = 1000\n",
      "# Присваиваем переменной процентную ставку\n",
      "percentage = 0.1\n",
      "# Присваиваем переменной сумму ежегодного снятия\n",
      "withdrawal = 110\n",
      "# Инициализируем переменную для хранения суммы денег на счету\n",
      "money = deposit\n",
      "# Инициализируем переменную для хранения количества лет\n",
      "years = 0\n",
      "# Запускаем цикл по количеству лет\n",
      "while years <= 10:\n",
      "    # Увеличиваем сумму денег на счету на проценты\n",
      "    money += money * percentage\n",
      "    # Вычитаем из суммы денег на счету ежегодное снятие\n",
      "    money -= withdrawal\n",
      "    # Увеличиваем количество лет на единицу\n",
      "    years += 1\n",
      "# Выводим результат\n",
      "print(money)\n",
      "\n"
     ]
    },
    {
     "data": {
      "text/plain": [
       "'814.6883293890003'"
      ]
     },
     "execution_count": 34,
     "metadata": {},
     "output_type": "execute_result"
    }
   ],
   "source": [
    "chain.invoke({\"input\": \"Я положил на счет 1000 рублей под 10% годовых. Каждый год я снимаю со счета 110 рублей. Сколько денег у меня будет через 10 лет с учетом капитализации?\"}).strip()"
   ]
  }
 ],
 "metadata": {
  "kernelspec": {
   "display_name": "Python 3 (ipykernel)",
   "language": "python",
   "name": "python3"
  },
  "language_info": {
   "codemirror_mode": {
    "name": "ipython",
    "version": 3
   },
   "file_extension": ".py",
   "mimetype": "text/x-python",
   "name": "python",
   "nbconvert_exporter": "python",
   "pygments_lexer": "ipython3",
   "version": "3.10.13"
  }
 },
 "nbformat": 4,
 "nbformat_minor": 5
}
