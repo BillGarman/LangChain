{
 "cells": [
  {
   "cell_type": "markdown",
   "id": "29781123",
   "metadata": {},
   "source": [
    "# Использование tool-ов"
   ]
  },
  {
   "cell_type": "code",
   "execution_count": 1,
   "id": "a5c579dd-2e22-41b0-a789-346dfdecb5a2",
   "metadata": {},
   "outputs": [],
   "source": [
    "# !pip install duckduckgo-search"
   ]
  },
  {
   "cell_type": "code",
   "execution_count": 2,
   "id": "9232d2a9",
   "metadata": {},
   "outputs": [],
   "source": [
    "from langchain.chat_models import GigaChat\n",
    "from langchain.prompts import ChatPromptTemplate\n",
    "from langchain.schema.output_parser import StrOutputParserWithClener\n",
    "from langchain.tools import DuckDuckGoSearchRun"
   ]
  },
  {
   "cell_type": "code",
   "execution_count": 3,
   "id": "a0c64d2c",
   "metadata": {},
   "outputs": [],
   "source": [
    "search = DuckDuckGoSearchRun()"
   ]
  },
  {
   "cell_type": "code",
   "execution_count": 4,
   "id": "391969b6",
   "metadata": {},
   "outputs": [],
   "source": [
    "template = \"\"\"Преврати этот вопрос от пользователя в текстовый поисковый запрос для поисковой системы. Напиши только исключительно текст самого запроса без пояснений и без кавычек.\n",
    "\n",
    "{input}\"\"\"\n",
    "prompt = ChatPromptTemplate.from_template(template)\n",
    "\n",
    "model = GigaChat(profanity=False, verbose=True, oauth_token=...)"
   ]
  },
  {
   "cell_type": "code",
   "execution_count": 5,
   "id": "e3d9d20d",
   "metadata": {},
   "outputs": [],
   "source": [
    "chain = prompt | model | StrOutputParserWithClener() | search"
   ]
  },
  {
   "cell_type": "code",
   "execution_count": 10,
   "id": "55f2967d",
   "metadata": {},
   "outputs": [
    {
     "name": "stderr",
     "output_type": "stream",
     "text": [
      "Giga request: {'model': 'GigaChat:latest', 'profanity_check': False, 'messages': [{'role': 'user', 'content': 'Преврати этот вопрос от пользователя в текстовый поисковый запрос для поисковой системы. Напиши только исключительно текст самого запроса без пояснений и без кавычек.\\n\\nСкажи мне пожалуйста скорее день рожденья когда родился лермонтов а то мне нужно писать доклад!!!'}]}\n",
      "Giga response: \"Когда родился Лермонтов?\"\n"
     ]
    },
    {
     "data": {
      "text/plain": [
       "'Михаи́л Ю́рьевич Ле́рмонтов [9] ( 3 [15] октября 1814, Москва — 15 [27] июля 1841, Пятигорск ) — русский поэт, прозаик, драматург, художник. Поручик лейб-гвардии Гусарского полка. Родился 15 ( 26 ) января 1792 года в семье отставного капитан-лейтенанта флота Николая Петровича Лермонтова. Встречается иное написание фамилии — Лермантов [1] . В чине гардемарина участвовал в ... Михаил Юрьевич Лермонтов родился (3) 15 октября 1814 года в Москве, в доме напротив Красных ворот (сейчас на этом месте находится высотное здание, на котором есть памятная доска с изображением М ... Он родился в Москве, сын капитана Юрия Васильевича Лермонтова (1787-1831) и Марии Михайловны Лермонтовой (1795-1817), урожденной Арсеньевой, единственной дочери и наследницы пензенской помещицы Е.А. Арсеньевой (1773-1845). Брак, заключенный против воли Арсеньевой, был неравным и несчастливым, мальчик рос в семейных раздорах. Известный русский поэт Михаил Юрьевич Лермонтов родился в Москве в ночь на 15 октября (3 октября по старому ...'"
      ]
     },
     "execution_count": 10,
     "metadata": {},
     "output_type": "execute_result"
    }
   ],
   "source": [
    "# Вопрос специально написан очень сумбурно\n",
    "chain.invoke({\"input\": \"Скажи мне пожалуйста скорее день рожденья когда родился лермонтов а то мне нужно писать доклад!!!\"})"
   ]
  },
  {
   "cell_type": "code",
   "execution_count": null,
   "id": "7317f6de",
   "metadata": {},
   "outputs": [],
   "source": []
  }
 ],
 "metadata": {
  "kernelspec": {
   "display_name": "venv_clear",
   "language": "python",
   "name": "python3"
  },
  "language_info": {
   "codemirror_mode": {
    "name": "ipython",
    "version": 3
   },
   "file_extension": ".py",
   "mimetype": "text/x-python",
   "name": "python",
   "nbconvert_exporter": "python",
   "pygments_lexer": "ipython3",
   "version": "3.10.13"
  }
 },
 "nbformat": 4,
 "nbformat_minor": 5
}
