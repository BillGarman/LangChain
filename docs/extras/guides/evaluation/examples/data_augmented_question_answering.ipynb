{
 "cells": [
  {
   "cell_type": "markdown",
   "id": "e78b7bb1",
   "metadata": {},
   "source": [
    "# Data Augmented Question Answering\n",
    "\n",
    "This notebook uses some generic prompts/language models to evaluate an question answering system that uses other sources of data besides what is in the model. For example, this can be used to evaluate a question answering system over your proprietary data.\n",
    "\n",
    "The overall steps to do this are:\n",
    "1. Define your chain for the Q&A system\n",
    "2. Define a dataset (as a list of examples)\n",
    "3. Evaluate the chain on the dataset\n",
    "\n",
    "## Setup\n",
    "\n",
    "Let's set up an example with our favorite example - the state of the union address. This will be done by:\n",
    "1. Loading the text data\n",
    "2. Chunking and storing data in the vectorstore\n",
    "3. Creating the retriever from the vectorstore\n",
    "4. Creating the Q&A chain using an LLM and retriever\n",
    "\n",
    "First, fetch the example data from the langchain repo."
   ]
  },
  {
   "cell_type": "code",
   "execution_count": 1,
   "id": "abd606ab",
   "metadata": {
    "tags": []
   },
   "outputs": [],
   "source": [
    "import requests\n",
    "\n",
    "state_of_the_union_url = \"https://raw.githubusercontent.com/langchain-ai/langchain/76102971c056bb277bf394068c98fb05ee2fb07d/docs/extras/modules/state_of_the_union.txt\"\n",
    "with open(\"state_of_the_union.txt\", \"w\") as f:\n",
    "    f.write(requests.get(state_of_the_union_url).text)"
   ]
  },
  {
   "cell_type": "markdown",
   "id": "7b37ee26-cfa8-4a14-9c77-e6393eeed94e",
   "metadata": {},
   "source": [
    "#### Chunk the text data\n",
    "\n",
    "Use the `CharacterTextSplitter` to chunk the text data using naive character-length splitting."
   ]
  },
  {
   "cell_type": "code",
   "execution_count": 2,
   "id": "185406b0-204b-479b-bc16-a0192a27b3cb",
   "metadata": {
    "tags": []
   },
   "outputs": [],
   "source": [
    "from langchain.document_loaders import TextLoader\n",
    "from langchain.text_splitter import CharacterTextSplitter\n",
    "\n",
    "loader = TextLoader(\"state_of_the_union.txt\")\n",
    "text_splitter = CharacterTextSplitter(chunk_size=1000, chunk_overlap=0)\n",
    "texts = text_splitter.split_documents(loader.load())"
   ]
  },
  {
   "cell_type": "markdown",
   "id": "0f4419eb-f00c-4367-89a5-8208f19e2cae",
   "metadata": {},
   "source": [
    "#### Create Retriever\n",
    "\n",
    "Select the `embeddings` to use for vectorizing the text chunks, and select the vectorstore to drive the retriever used for question answering."
   ]
  },
  {
   "cell_type": "code",
   "execution_count": 3,
   "id": "5e740bb9-9d5f-49c6-8f91-a0a1c42bc900",
   "metadata": {
    "tags": []
   },
   "outputs": [],
   "source": [
    "from langchain.embeddings import OpenAIEmbeddings\n",
    "from langchain.vectorstores import Chroma\n",
    "\n",
    "\n",
    "embeddings = OpenAIEmbeddings()\n",
    "docsearch = Chroma.from_documents(texts, embeddings)\n",
    "retriever = docsearch.as_retriever()"
   ]
  },
  {
   "cell_type": "markdown",
   "id": "bc159f62-d1b7-4307-8e82-d2bcd192052d",
   "metadata": {},
   "source": [
    "#### Create QA Chain\n",
    "\n",
    "We will use GPT turbo for this example."
   ]
  },
  {
   "cell_type": "code",
   "execution_count": 4,
   "id": "4fdc211d",
   "metadata": {
    "tags": []
   },
   "outputs": [],
   "source": [
    "from langchain.chat_models import ChatOpenAI\n",
    "from langchain.chains import RetrievalQA\n",
    "\n",
    "llm = ChatOpenAI(model=\"gpt-3.5-turbo\", temperature=0)\n",
    "qa = RetrievalQA.from_llm(\n",
    "    llm=llm,\n",
    "    retriever=retriever,\n",
    ")"
   ]
  },
  {
   "cell_type": "markdown",
   "id": "30fd72f2",
   "metadata": {},
   "source": [
    "## Examples\n",
    "\n",
    "Now we need some examples to evaluate. There are two basic ways to do this:\n",
    "\n",
    "1. Hard code some examples ourselves\n",
    "2. Generate examples automatically, using a language model\n",
    "\n",
    "If you have example data from prior usage, this is often the best. When you're just starting out, you can bootstrap a dataset using the `QAGenerationChain` or your own custom `LLMChain`."
   ]
  },
  {
   "cell_type": "code",
   "execution_count": 17,
   "id": "3459b001",
   "metadata": {
    "tags": []
   },
   "outputs": [],
   "source": [
    "# Hard-coded examples\n",
    "examples = [\n",
    "    {\n",
    "        \"query\": \"What did the president say about Ketanji Brown Jackson\",\n",
    "        \"answer\": \"He praised her legal ability and said he nominated her for the supreme court.\",\n",
    "    },\n",
    "    {\"query\": \"What did the president say about Michael Jackson\", \"answer\": \"Nothing\"},\n",
    "]"
   ]
  },
  {
   "cell_type": "code",
   "execution_count": 6,
   "id": "b9c3fa75",
   "metadata": {
    "tags": []
   },
   "outputs": [],
   "source": [
    "# Generated examples\n",
    "from langchain.evaluation.qa import QAGenerateChain\n",
    "\n",
    "llm = ChatOpenAI(model=\"gpt-3.5-turbo\", temperature=0)\n",
    "example_gen_chain = QAGenerateChain.from_llm(llm)"
   ]
  },
  {
   "cell_type": "code",
   "execution_count": 16,
   "id": "c24543a9",
   "metadata": {
    "tags": []
   },
   "outputs": [],
   "source": [
    "new_examples = [\n",
    "    ex[example_gen_chain.output_key] for ex in example_gen_chain.apply([{\"doc\": t} for t in texts[:5]])\n",
    "]"
   ]
  },
  {
   "cell_type": "code",
   "execution_count": 19,
   "id": "558da6f3",
   "metadata": {
    "tags": []
   },
   "outputs": [],
   "source": [
    "# Combine examples\n",
    "examples += new_examples"
   ]
  },
  {
   "cell_type": "markdown",
   "id": "443dc34e",
   "metadata": {},
   "source": [
    "## Evaluate\n",
    "\n",
    "Now that we have examples, it's time to evaluate the chain. Generate predictions and then use an evaluator to grade its performance."
   ]
  },
  {
   "cell_type": "code",
   "execution_count": 20,
   "id": "782169a5",
   "metadata": {
    "tags": []
   },
   "outputs": [],
   "source": [
    "predictions = qa.apply(examples)"
   ]
  },
  {
   "cell_type": "markdown",
   "id": "b7485d36-aafc-40c1-b335-0f67b43ff052",
   "metadata": {
    "tags": []
   },
   "source": [
    "Use the [qa](https://api.python.langchain.com/en/latest/evaluation/langchain.evaluation.qa.eval_chain.QAEvalChain.html#langchain.evaluation.qa.eval_chain.QAEvalChain) evaluator to grade correctness of the question answering chain. For more information on evaluators, check out the [reference docs](https://api.python.langchain.com/en/latest/api_reference.html#module-langchain.evaluation)"
   ]
  },
  {
   "cell_type": "code",
   "execution_count": 37,
   "id": "f718e437-f410-4d95-a288-73fe01cb5822",
   "metadata": {
    "tags": []
   },
   "outputs": [],
   "source": [
    "from langchain.evaluation import load_evaluator\n",
    "\n",
    "qa_evaluator = load_evaluator(\"qa\")"
   ]
  },
  {
   "cell_type": "markdown",
   "id": "eb4d739c-2169-40ba-b19b-44d27d900788",
   "metadata": {},
   "source": [
    "***Use the `tabulate` package for pretty printing the results.***"
   ]
  },
  {
   "cell_type": "code",
   "execution_count": null,
   "id": "0c6dfbfc-eb2a-4356-a91b-76e8494ee794",
   "metadata": {},
   "outputs": [],
   "source": [
    "# %pip install tabulate"
   ]
  },
  {
   "cell_type": "code",
   "execution_count": 45,
   "id": "32fac2dc",
   "metadata": {
    "tags": []
   },
   "outputs": [],
   "source": [
    "from tqdm import tqdm\n",
    "from tabulate import tabulate\n",
    "\n",
    "def truncate(s, n):\n",
    "    \"\"\"Truncate `s` to `n` characters.\"\"\"\n",
    "    return (s[:n] + '..') if len(s) > n else s\n",
    "\n",
    "def print_results(examples, predictions, evaluators):\n",
    "    max_length = 80\n",
    "    table = [(\"Example\", \"Evaluator\", \"Value\", \"Score\", \"Query\", \"Prediction\", \"Answer\")]\n",
    "    for i, (eg, pred) in tqdm(enumerate(zip(examples, predictions))):\n",
    "        for evaluator in evaluators:\n",
    "            verdict = evaluator.evaluate_strings(\n",
    "                input=eg['query'],\n",
    "                prediction=pred['result'],\n",
    "                reference=eg['answer'],\n",
    "            )\n",
    "            table.append(\n",
    "                (f\"{i}\",\n",
    "                f\"{evaluator.evaluation_name}\",\n",
    "                f\"{verdict['value']}\",\n",
    "                f\"{verdict['score']}\",\n",
    "                f\"{truncate(eg['query'], max_length)}\",\n",
    "                f\"{truncate(pred['result'], max_length)}\",\n",
    "                f\"{truncate(eg['answer'], max_length)}\")\n",
    "            )\n",
    "    print(tabulate(table, headers=\"firstrow\", tablefmt='grid'))\n"
   ]
  },
  {
   "cell_type": "code",
   "execution_count": 46,
   "id": "7722b9e6-c915-4c8a-9c65-38c8778011fe",
   "metadata": {
    "tags": []
   },
   "outputs": [
    {
     "name": "stdout",
     "output_type": "stream",
     "text": [
      "+-----------+-------------+-----------+---------+------------------------------------------------------------------------------------+------------------------------------------------------------------------------------+------------------------------------------------------------------------------------+\n",
      "|   Example | Evaluator   | Value     |   Score | Query                                                                              | Prediction                                                                         | Answer                                                                             |\n",
      "+===========+=============+===========+=========+====================================================================================+====================================================================================+====================================================================================+\n",
      "|         0 | correctness | CORRECT   |       1 | What did the president say about Ketanji Brown Jackson                             | The president said that Ketanji Brown Jackson is one of our nation's top legal m.. | He praised her legal ability and said he nominated her for the supreme court.      |\n",
      "+-----------+-------------+-----------+---------+------------------------------------------------------------------------------------+------------------------------------------------------------------------------------+------------------------------------------------------------------------------------+\n",
      "|         1 | correctness | CORRECT   |       1 | What did the president say about Michael Jackson                                   | There is no mention of Michael Jackson in the provided context.                    | Nothing                                                                            |\n",
      "+-----------+-------------+-----------+---------+------------------------------------------------------------------------------------+------------------------------------------------------------------------------------+------------------------------------------------------------------------------------+\n",
      "|         2 | correctness | CORRECT   |       1 | Who did Russia's Vladimir Putin seek to shake the foundations of?                  | Russia's Vladimir Putin sought to shake the foundations of the free world.         | Russia's Vladimir Putin sought to shake the foundations of the free world.         |\n",
      "+-----------+-------------+-----------+---------+------------------------------------------------------------------------------------+------------------------------------------------------------------------------------+------------------------------------------------------------------------------------+\n",
      "|         3 | correctness | CORRECT   |       1 | According to the document, why was the NATO Alliance created?                      | The NATO Alliance was created to secure peace and stability in Europe after Worl.. | The NATO Alliance was created to secure peace and stability in Europe after Worl.. |\n",
      "+-----------+-------------+-----------+---------+------------------------------------------------------------------------------------+------------------------------------------------------------------------------------+------------------------------------------------------------------------------------+\n",
      "|         4 | correctness | CORRECT   |       1 | What actions did the United States take to confront Putin's aggression against U.. | The United States took several actions to confront Putin's aggression against Uk.. | The United States spent months building a coalition of other freedom-loving nati.. |\n",
      "+-----------+-------------+-----------+---------+------------------------------------------------------------------------------------+------------------------------------------------------------------------------------+------------------------------------------------------------------------------------+\n",
      "|         5 | correctness | CORRECT   |       1 | What actions is the United States taking to put pressure on Russia and support U.. | According to the document, the United States is taking several actions to put pr.. | The United States is enforcing powerful economic sanctions, cutting off Russia's.. |\n",
      "+-----------+-------------+-----------+---------+------------------------------------------------------------------------------------+------------------------------------------------------------------------------------+------------------------------------------------------------------------------------+\n",
      "|         6 | correctness | INCORRECT |       0 | According to the document, what actions will the United States take to further i.. | According to the document, the United States will take the following actions to .. | The United States will join its allies in closing off American air space to all .. |\n",
      "+-----------+-------------+-----------+---------+------------------------------------------------------------------------------------+------------------------------------------------------------------------------------+------------------------------------------------------------------------------------+\n",
      "|         7 | correctness | CORRECT   |       1 | Who did Russia's Vladimir Putin seek to shake the foundations of?                  | Russia's Vladimir Putin sought to shake the foundations of the free world.         | Russia's Vladimir Putin sought to shake the foundations of the free world.         |\n",
      "+-----------+-------------+-----------+---------+------------------------------------------------------------------------------------+------------------------------------------------------------------------------------+------------------------------------------------------------------------------------+\n",
      "|         8 | correctness | CORRECT   |       1 | According to the document, why was the NATO Alliance created?                      | The NATO Alliance was created to secure peace and stability in Europe after Worl.. | The NATO Alliance was created to secure peace and stability in Europe after Worl.. |\n",
      "+-----------+-------------+-----------+---------+------------------------------------------------------------------------------------+------------------------------------------------------------------------------------+------------------------------------------------------------------------------------+\n",
      "|         9 | correctness | CORRECT   |       1 | What actions did the United States take to confront Putin's aggression against U.. | The United States took several actions to confront Putin's aggression against Uk.. | The United States spent months building a coalition of other freedom-loving nati.. |\n",
      "+-----------+-------------+-----------+---------+------------------------------------------------------------------------------------+------------------------------------------------------------------------------------+------------------------------------------------------------------------------------+\n",
      "|        10 | correctness | CORRECT   |       1 | What actions is the United States taking to put pressure on Russia and support U.. | According to the document, the United States is taking several actions to put pr.. | The United States is enforcing powerful economic sanctions, cutting off Russia's.. |\n",
      "+-----------+-------------+-----------+---------+------------------------------------------------------------------------------------+------------------------------------------------------------------------------------+------------------------------------------------------------------------------------+\n",
      "|        11 | correctness | INCORRECT |       0 | According to the document, what actions will the United States take to further i.. | According to the document, the United States will take the following actions to .. | The United States will join its allies in closing off American air space to all .. |\n",
      "+-----------+-------------+-----------+---------+------------------------------------------------------------------------------------+------------------------------------------------------------------------------------+------------------------------------------------------------------------------------+\n"
     ]
    }
   ],
   "source": [
    "print_results(examples, predictions, [qa_evaluator])"
   ]
  },
  {
   "cell_type": "markdown",
   "id": "50a9e845",
   "metadata": {},
   "source": [
    "## Evaluate with Other Metrics\n",
    "\n",
    "In addition to predicting whether the answer is correct or incorrect using a language model, we can also use other evalutors, such as  the [labeled_criteria](https://api.python.langchain.com/en/latest/evaluation/langchain.evaluation.criteria.eval_chain.LabeledCriteriaEvalChain.html#langchain.evaluation.criteria.eval_chain.LabeledCriteriaEvalChain) evaluator.\n",
    "\n",
    "Let's evaluate based on conciseness and a custom 'pedagogical skill'."
   ]
  },
  {
   "cell_type": "code",
   "execution_count": 33,
   "id": "0cb558f6-449c-4f2b-9b14-31868581473a",
   "metadata": {
    "tags": []
   },
   "outputs": [],
   "source": [
    "evaluators = [\n",
    "    load_evaluator(\"labeled_criteria\", criteria=\"conciseness\"),\n",
    "    load_evaluator(\"labeled_criteria\", criteria={\n",
    "        \"pedagogical skill\": \"Did the submission propertly interpret inquiries, generate informative and understandable responses,\"\n",
    "        \" and present information in a manner that promotes strong thinking and problem-solving.\"\n",
    "    }),\n",
    "]"
   ]
  },
  {
   "cell_type": "code",
   "execution_count": 47,
   "id": "11c1b474-90ce-49c5-8f4a-6ebca5669438",
   "metadata": {
    "tags": []
   },
   "outputs": [
    {
     "name": "stdout",
     "output_type": "stream",
     "text": [
      "+-----------+-------------------+---------+---------+------------------------------------------------------------------------------------+------------------------------------------------------------------------------------+------------------------------------------------------------------------------------+\n",
      "|   Example | Evaluator         | Value   |   Score | Query                                                                              | Prediction                                                                         | Answer                                                                             |\n",
      "+===========+===================+=========+=========+====================================================================================+====================================================================================+====================================================================================+\n",
      "|         0 | conciseness       | Y       |       1 | What did the president say about Ketanji Brown Jackson                             | The president said that Ketanji Brown Jackson is one of our nation's top legal m.. | He praised her legal ability and said he nominated her for the supreme court.      |\n",
      "+-----------+-------------------+---------+---------+------------------------------------------------------------------------------------+------------------------------------------------------------------------------------+------------------------------------------------------------------------------------+\n",
      "|         0 | pedagogical skill | Y       |       1 | What did the president say about Ketanji Brown Jackson                             | The president said that Ketanji Brown Jackson is one of our nation's top legal m.. | He praised her legal ability and said he nominated her for the supreme court.      |\n",
      "+-----------+-------------------+---------+---------+------------------------------------------------------------------------------------+------------------------------------------------------------------------------------+------------------------------------------------------------------------------------+\n",
      "|         1 | conciseness       | Y       |       1 | What did the president say about Michael Jackson                                   | There is no mention of Michael Jackson in the provided context.                    | Nothing                                                                            |\n",
      "+-----------+-------------------+---------+---------+------------------------------------------------------------------------------------+------------------------------------------------------------------------------------+------------------------------------------------------------------------------------+\n",
      "|         1 | pedagogical skill | N       |       0 | What did the president say about Michael Jackson                                   | There is no mention of Michael Jackson in the provided context.                    | Nothing                                                                            |\n",
      "+-----------+-------------------+---------+---------+------------------------------------------------------------------------------------+------------------------------------------------------------------------------------+------------------------------------------------------------------------------------+\n",
      "|         2 | conciseness       | Y       |       1 | Who did Russia's Vladimir Putin seek to shake the foundations of?                  | Russia's Vladimir Putin sought to shake the foundations of the free world.         | Russia's Vladimir Putin sought to shake the foundations of the free world.         |\n",
      "+-----------+-------------------+---------+---------+------------------------------------------------------------------------------------+------------------------------------------------------------------------------------+------------------------------------------------------------------------------------+\n",
      "|         2 | pedagogical skill | Y       |       1 | Who did Russia's Vladimir Putin seek to shake the foundations of?                  | Russia's Vladimir Putin sought to shake the foundations of the free world.         | Russia's Vladimir Putin sought to shake the foundations of the free world.         |\n",
      "+-----------+-------------------+---------+---------+------------------------------------------------------------------------------------+------------------------------------------------------------------------------------+------------------------------------------------------------------------------------+\n",
      "|         3 | conciseness       | Y       |       1 | According to the document, why was the NATO Alliance created?                      | The NATO Alliance was created to secure peace and stability in Europe after Worl.. | The NATO Alliance was created to secure peace and stability in Europe after Worl.. |\n",
      "+-----------+-------------------+---------+---------+------------------------------------------------------------------------------------+------------------------------------------------------------------------------------+------------------------------------------------------------------------------------+\n",
      "|         3 | pedagogical skill | Y       |       1 | According to the document, why was the NATO Alliance created?                      | The NATO Alliance was created to secure peace and stability in Europe after Worl.. | The NATO Alliance was created to secure peace and stability in Europe after Worl.. |\n",
      "+-----------+-------------------+---------+---------+------------------------------------------------------------------------------------+------------------------------------------------------------------------------------+------------------------------------------------------------------------------------+\n",
      "|         4 | conciseness       | Y       |       1 | What actions did the United States take to confront Putin's aggression against U.. | The United States took several actions to confront Putin's aggression against Uk.. | The United States spent months building a coalition of other freedom-loving nati.. |\n",
      "+-----------+-------------------+---------+---------+------------------------------------------------------------------------------------+------------------------------------------------------------------------------------+------------------------------------------------------------------------------------+\n",
      "|         4 | pedagogical skill | Y       |       1 | What actions did the United States take to confront Putin's aggression against U.. | The United States took several actions to confront Putin's aggression against Uk.. | The United States spent months building a coalition of other freedom-loving nati.. |\n",
      "+-----------+-------------------+---------+---------+------------------------------------------------------------------------------------+------------------------------------------------------------------------------------+------------------------------------------------------------------------------------+\n",
      "|         5 | conciseness       | N       |       0 | What actions is the United States taking to put pressure on Russia and support U.. | According to the document, the United States is taking several actions to put pr.. | The United States is enforcing powerful economic sanctions, cutting off Russia's.. |\n",
      "+-----------+-------------------+---------+---------+------------------------------------------------------------------------------------+------------------------------------------------------------------------------------+------------------------------------------------------------------------------------+\n",
      "|         5 | pedagogical skill | Y       |       1 | What actions is the United States taking to put pressure on Russia and support U.. | According to the document, the United States is taking several actions to put pr.. | The United States is enforcing powerful economic sanctions, cutting off Russia's.. |\n",
      "+-----------+-------------------+---------+---------+------------------------------------------------------------------------------------+------------------------------------------------------------------------------------+------------------------------------------------------------------------------------+\n",
      "|         6 | conciseness       | N       |       0 | According to the document, what actions will the United States take to further i.. | According to the document, the United States will take the following actions to .. | The United States will join its allies in closing off American air space to all .. |\n",
      "+-----------+-------------------+---------+---------+------------------------------------------------------------------------------------+------------------------------------------------------------------------------------+------------------------------------------------------------------------------------+\n",
      "|         6 | pedagogical skill | Y       |       1 | According to the document, what actions will the United States take to further i.. | According to the document, the United States will take the following actions to .. | The United States will join its allies in closing off American air space to all .. |\n",
      "+-----------+-------------------+---------+---------+------------------------------------------------------------------------------------+------------------------------------------------------------------------------------+------------------------------------------------------------------------------------+\n",
      "|         7 | conciseness       | Y       |       1 | Who did Russia's Vladimir Putin seek to shake the foundations of?                  | Russia's Vladimir Putin sought to shake the foundations of the free world.         | Russia's Vladimir Putin sought to shake the foundations of the free world.         |\n",
      "+-----------+-------------------+---------+---------+------------------------------------------------------------------------------------+------------------------------------------------------------------------------------+------------------------------------------------------------------------------------+\n",
      "|         7 | pedagogical skill | Y       |       1 | Who did Russia's Vladimir Putin seek to shake the foundations of?                  | Russia's Vladimir Putin sought to shake the foundations of the free world.         | Russia's Vladimir Putin sought to shake the foundations of the free world.         |\n",
      "+-----------+-------------------+---------+---------+------------------------------------------------------------------------------------+------------------------------------------------------------------------------------+------------------------------------------------------------------------------------+\n",
      "|         8 | conciseness       | Y       |       1 | According to the document, why was the NATO Alliance created?                      | The NATO Alliance was created to secure peace and stability in Europe after Worl.. | The NATO Alliance was created to secure peace and stability in Europe after Worl.. |\n",
      "+-----------+-------------------+---------+---------+------------------------------------------------------------------------------------+------------------------------------------------------------------------------------+------------------------------------------------------------------------------------+\n",
      "|         8 | pedagogical skill | Y       |       1 | According to the document, why was the NATO Alliance created?                      | The NATO Alliance was created to secure peace and stability in Europe after Worl.. | The NATO Alliance was created to secure peace and stability in Europe after Worl.. |\n",
      "+-----------+-------------------+---------+---------+------------------------------------------------------------------------------------+------------------------------------------------------------------------------------+------------------------------------------------------------------------------------+\n",
      "|         9 | conciseness       | N       |       0 | What actions did the United States take to confront Putin's aggression against U.. | The United States took several actions to confront Putin's aggression against Uk.. | The United States spent months building a coalition of other freedom-loving nati.. |\n",
      "+-----------+-------------------+---------+---------+------------------------------------------------------------------------------------+------------------------------------------------------------------------------------+------------------------------------------------------------------------------------+\n",
      "|         9 | pedagogical skill | Y       |       1 | What actions did the United States take to confront Putin's aggression against U.. | The United States took several actions to confront Putin's aggression against Uk.. | The United States spent months building a coalition of other freedom-loving nati.. |\n",
      "+-----------+-------------------+---------+---------+------------------------------------------------------------------------------------+------------------------------------------------------------------------------------+------------------------------------------------------------------------------------+\n",
      "|        10 | conciseness       | N       |       0 | What actions is the United States taking to put pressure on Russia and support U.. | According to the document, the United States is taking several actions to put pr.. | The United States is enforcing powerful economic sanctions, cutting off Russia's.. |\n",
      "+-----------+-------------------+---------+---------+------------------------------------------------------------------------------------+------------------------------------------------------------------------------------+------------------------------------------------------------------------------------+\n",
      "|        10 | pedagogical skill | Y       |       1 | What actions is the United States taking to put pressure on Russia and support U.. | According to the document, the United States is taking several actions to put pr.. | The United States is enforcing powerful economic sanctions, cutting off Russia's.. |\n",
      "+-----------+-------------------+---------+---------+------------------------------------------------------------------------------------+------------------------------------------------------------------------------------+------------------------------------------------------------------------------------+\n",
      "|        11 | conciseness       | N       |       0 | According to the document, what actions will the United States take to further i.. | According to the document, the United States will take the following actions to .. | The United States will join its allies in closing off American air space to all .. |\n",
      "+-----------+-------------------+---------+---------+------------------------------------------------------------------------------------+------------------------------------------------------------------------------------+------------------------------------------------------------------------------------+\n",
      "|        11 | pedagogical skill | Y       |       1 | According to the document, what actions will the United States take to further i.. | According to the document, the United States will take the following actions to .. | The United States will join its allies in closing off American air space to all .. |\n",
      "+-----------+-------------------+---------+---------+------------------------------------------------------------------------------------+------------------------------------------------------------------------------------+------------------------------------------------------------------------------------+\n"
     ]
    }
   ],
   "source": [
    "print_results(examples, predictions, evaluators)"
   ]
  }
 ],
 "metadata": {
  "kernelspec": {
   "display_name": "Python 3 (ipykernel)",
   "language": "python",
   "name": "python3"
  },
  "language_info": {
   "codemirror_mode": {
    "name": "ipython",
    "version": 3
   },
   "file_extension": ".py",
   "mimetype": "text/x-python",
   "name": "python",
   "nbconvert_exporter": "python",
   "pygments_lexer": "ipython3",
   "version": "3.11.2"
  }
 },
 "nbformat": 4,
 "nbformat_minor": 5
}
