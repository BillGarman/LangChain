{
 "cells": [
  {
   "cell_type": "markdown",
   "metadata": {},
   "source": [
    "# Reversible data anonymization with Microsoft Presidio\n",
    "\n",
    "[![Open In Collab](https://colab.research.google.com/assets/colab-badge.svg)](https://colab.research.google.com/github/langchain-ai/langchain/blob/master/docs/extras/guides/privacy/reversible_anonymization.ipynb)\n",
    "\n",
    "\n",
    "## Use case\n",
    "\n",
    "We have already written about the importance of anonymizing sensitive data in the previous section. **Reversible Anonymization** is an equally essential technology while sharing information with language models, as it balances data protection with data usability. This technique involves masking sensitive personally identifiable information (PII), yet it can be reversed and original data can be restored when authorized users need it. Its main advantage lies in the fact that while it conceals individual identities to prevent misuse, it also allows the concealed data to be accurately unmasked should it be necessary for legal or compliance purposes. \n",
    "\n",
    "## Overview\n",
    "\n",
    "We implemented the `PresidioReversibleAnonymizer`, which consists of two parts:\n",
    "\n",
    "1. anonymization - it works the same way as `PresidioAnonymizer`, plus the object itself stores a mapping of made-up values to original ones, for example:\n",
    "```\n",
    "    {\n",
    "        \"PERSON\": {\n",
    "            \"<anonymized>\": \"<original>\",\n",
    "            \"John Doe\": \"Slim Shady\"\n",
    "        },\n",
    "        \"PHONE_NUMBER\": {\n",
    "            \"111-111-1111\": \"555-555-5555\"\n",
    "        }\n",
    "        ...\n",
    "    }\n",
    "```\n",
    "\n",
    "2. deanonymization - using the mapping described above, it matches fake data with original data and then substitutes it.\n",
    "\n",
    "Between anonymization and deanonymization user can perform different operations, for example, passing the output to LLM.\n",
    "\n",
    "## Quickstart\n",
    "\n"
   ]
  },
  {
   "cell_type": "code",
   "execution_count": 1,
   "metadata": {},
   "outputs": [],
   "source": [
    "# Install necessary packages\n",
    "# ! pip install langchain langchain-experimental openai\n",
    "# ! python -m spacy download en_core_web_lg"
   ]
  },
  {
   "cell_type": "markdown",
   "metadata": {},
   "source": [
    "This is a standard `PresidioAnonymizer` that can detect and substitute sensitive data:"
   ]
  },
  {
   "cell_type": "code",
   "execution_count": 1,
   "metadata": {},
   "outputs": [
    {
     "data": {
      "text/plain": [
       "'My name is Sydney Davis, call me at 515-978-1565 or email me at tammy76@example.com'"
      ]
     },
     "execution_count": 1,
     "metadata": {},
     "output_type": "execute_result"
    }
   ],
   "source": [
    "from langchain_experimental.data_anonymizer import PresidioAnonymizer\n",
    "\n",
    "anonymizer = PresidioAnonymizer(\n",
    "    analyzed_fields=[\"PERSON\", \"PHONE_NUMBER\", \"EMAIL_ADDRESS\", \"CREDIT_CARD\"],\n",
    "    # Faker seed is used here to make sure the same fake data is generated for the test purposes\n",
    "    # In production, it is recommended to remove the faker_seed parameter (it will default to None)\n",
    "    faker_seed=0,\n",
    ")\n",
    "\n",
    "anonymizer.anonymize(\n",
    "    \"My name is Slim Shady, call me at 313-666-7440 or email me at real.slim.shady@gmail.com\"\n",
    ")"
   ]
  },
  {
   "cell_type": "markdown",
   "metadata": {},
   "source": [
    "`PresidioReversibleAnonymizer` is not significantly different from its predecessor in terms of anonymization:"
   ]
  },
  {
   "cell_type": "code",
   "execution_count": 2,
   "metadata": {},
   "outputs": [
    {
     "data": {
      "text/plain": [
       "'My name is Sydney Davis, call me at 515-978-1565 or email me at tammy76@example.com'"
      ]
     },
     "execution_count": 2,
     "metadata": {},
     "output_type": "execute_result"
    }
   ],
   "source": [
    "from langchain_experimental.data_anonymizer import PresidioReversibleAnonymizer\n",
    "\n",
    "anonymizer = PresidioReversibleAnonymizer(\n",
    "    analyzed_fields=[\"PERSON\", \"PHONE_NUMBER\", \"EMAIL_ADDRESS\", \"CREDIT_CARD\"],\n",
    "    # Faker seed is used here to make sure the same fake data is generated for the test purposes\n",
    "    # In production, it is recommended to remove the faker_seed parameter (it will default to None)\n",
    "    faker_seed=0,\n",
    ")\n",
    "\n",
    "anonymizer.anonymize(\n",
    "    \"My name is Slim Shady, call me at 313-666-7440 or email me at real.slim.shady@gmail.com\"\n",
    ")"
   ]
  },
  {
   "cell_type": "markdown",
   "metadata": {},
   "source": [
    "What is new, is that it stores the mapping of the fake values to the original values in the `deanonymizer_mapping` parameter, where key is fake PII and value is the original one: "
   ]
  },
  {
   "cell_type": "code",
   "execution_count": 3,
   "metadata": {},
   "outputs": [
    {
     "data": {
      "text/plain": [
       "{'PERSON': {'Sydney Davis': 'Slim Shady'},\n",
       " 'PHONE_NUMBER': {'515-978-1565': '313-666-7440'},\n",
       " 'EMAIL_ADDRESS': {'tammy76@example.com': 'real.slim.shady@gmail.com'}}"
      ]
     },
     "execution_count": 3,
     "metadata": {},
     "output_type": "execute_result"
    }
   ],
   "source": [
    "anonymizer.deanonymizer_mapping"
   ]
  },
  {
   "cell_type": "markdown",
   "metadata": {},
   "source": [
    "Anonymizing more texts will result in new mapping entries:"
   ]
  },
  {
   "cell_type": "code",
   "execution_count": 4,
   "metadata": {},
   "outputs": [
    {
     "name": "stdout",
     "output_type": "stream",
     "text": [
      "Do you have his VISA card number? Yep, it's 180014841858395. I'm Lisa Clayton by the way.\n"
     ]
    },
    {
     "data": {
      "text/plain": [
       "{'PERSON': {'Sydney Davis': 'Slim Shady', 'Lisa Clayton': 'John Doe'},\n",
       " 'PHONE_NUMBER': {'515-978-1565': '313-666-7440'},\n",
       " 'EMAIL_ADDRESS': {'tammy76@example.com': 'real.slim.shady@gmail.com'},\n",
       " 'CREDIT_CARD': {'180014841858395': '4001 9192 5753 7193'}}"
      ]
     },
     "execution_count": 4,
     "metadata": {},
     "output_type": "execute_result"
    }
   ],
   "source": [
    "print(\n",
    "    anonymizer.anonymize(\n",
    "        \"Do you have his VISA card number? Yep, it's 4001 9192 5753 7193. I'm John Doe by the way.\"\n",
    "    )\n",
    ")\n",
    "\n",
    "anonymizer.deanonymizer_mapping"
   ]
  },
  {
   "cell_type": "markdown",
   "metadata": {},
   "source": [
    "It's time to check the deanonymization process. By setting up a seed in Faker (only for testing purposes), we are able to determine fake values for each field and test the reversal of anonymization:"
   ]
  },
  {
   "cell_type": "code",
   "execution_count": 5,
   "metadata": {},
   "outputs": [],
   "source": [
    "fake_name = \"Sydney Davis\"\n",
    "fake_phone = \"515-978-1565\"\n",
    "fake_email = \"tammy76@example.com\"\n",
    "fake_credit_card = \"180014841858395\""
   ]
  },
  {
   "cell_type": "markdown",
   "metadata": {},
   "source": [
    "This is what the full string we want to deanonymize looks like:"
   ]
  },
  {
   "cell_type": "code",
   "execution_count": 6,
   "metadata": {},
   "outputs": [
    {
     "name": "stdout",
     "output_type": "stream",
     "text": [
      "Sydney Davis recently lost his wallet. \n",
      "Inside is some cash and his credit card with the number 180014841858395. \n",
      "If you would find it, please call him at 515-978-1565 or email him: tammy76@example.com.\n"
     ]
    }
   ],
   "source": [
    "anonymized_text = f\"\"\"{fake_name} recently lost his wallet. \n",
    "Inside is some cash and his credit card with the number {fake_credit_card}. \n",
    "If you would find it, please call him at {fake_phone} or email him: {fake_email}.\"\"\"\n",
    "\n",
    "print(anonymized_text)"
   ]
  },
  {
   "cell_type": "markdown",
   "metadata": {},
   "source": [
    "And now, using the `deanonymize` method, we can reverse the process:"
   ]
  },
  {
   "cell_type": "code",
   "execution_count": 7,
   "metadata": {},
   "outputs": [
    {
     "name": "stdout",
     "output_type": "stream",
     "text": [
      "Slim Shady recently lost his wallet. \n",
      "Inside is some cash and his credit card with the number 4001 9192 5753 7193. \n",
      "If you would find it, please call him at 313-666-7440 or email him: real.slim.shady@gmail.com.\n"
     ]
    }
   ],
   "source": [
    "print(anonymizer.deanonymize(anonymized_text))"
   ]
  },
  {
   "cell_type": "markdown",
   "metadata": {},
   "source": [
    "As you can see, the restored values agree with the mapping. Of course, these values are restored even if they repeatedly appear in the text, for example:"
   ]
  },
  {
   "cell_type": "code",
   "execution_count": 8,
   "metadata": {},
   "outputs": [
    {
     "name": "stdout",
     "output_type": "stream",
     "text": [
      "Slim Shady recently lost his wallet. \n",
      "Inside is some cash and his credit card with the number 4001 9192 5753 7193. \n",
      "If you would find it, please call him at 313-666-7440 or email him: real.slim.shady@gmail.com.\n",
      "Slim Shady will be very grateful!\n"
     ]
    }
   ],
   "source": [
    "anonymized_text = f\"{anonymized_text}\\n{fake_name} will be very grateful!\"\n",
    "print(anonymizer.deanonymize(anonymized_text))"
   ]
  },
  {
   "cell_type": "markdown",
   "metadata": {},
   "source": [
    "We can save the mapping itself to a file for future use: "
   ]
  },
  {
   "cell_type": "code",
   "execution_count": 9,
   "metadata": {},
   "outputs": [],
   "source": [
    "# We can save the deanonymizer mapping as a JSON or YAML file\n",
    "\n",
    "anonymizer.save_deanonymizer_mapping(\"deanonymizer_mapping.json\")\n",
    "# anonymizer.save_deanonymizer_mapping(\"deanonymizer_mapping.yaml\")"
   ]
  },
  {
   "cell_type": "markdown",
   "metadata": {},
   "source": [
    "And then, load it in another `PresidioReversibleAnonymizer` instance:"
   ]
  },
  {
   "cell_type": "code",
   "execution_count": 10,
   "metadata": {},
   "outputs": [
    {
     "data": {
      "text/plain": [
       "{}"
      ]
     },
     "execution_count": 10,
     "metadata": {},
     "output_type": "execute_result"
    }
   ],
   "source": [
    "anonymizer = PresidioReversibleAnonymizer()\n",
    "\n",
    "anonymizer.deanonymizer_mapping"
   ]
  },
  {
   "cell_type": "code",
   "execution_count": 11,
   "metadata": {},
   "outputs": [
    {
     "data": {
      "text/plain": [
       "{'PERSON': {'Sydney Davis': 'Slim Shady', 'Lisa Clayton': 'John Doe'},\n",
       " 'PHONE_NUMBER': {'515-978-1565': '313-666-7440'},\n",
       " 'EMAIL_ADDRESS': {'tammy76@example.com': 'real.slim.shady@gmail.com'},\n",
       " 'CREDIT_CARD': {'180014841858395': '4001 9192 5753 7193'}}"
      ]
     },
     "execution_count": 11,
     "metadata": {},
     "output_type": "execute_result"
    }
   ],
   "source": [
    "anonymizer.load_deanonymizer_mapping(\"deanonymizer_mapping.json\")\n",
    "\n",
    "anonymizer.deanonymizer_mapping"
   ]
  },
  {
   "cell_type": "markdown",
   "metadata": {},
   "source": [
    "Now, we will use the example from the previous section, in which we implemented anonymization in a sequence of chains. This is what it looked like before:"
   ]
  },
  {
   "cell_type": "code",
   "execution_count": 30,
   "metadata": {},
   "outputs": [
    {
     "data": {
      "text/plain": [
       "AIMessage(content='You can find our super secret data at https://www.avery-russell.net/', additional_kwargs={}, example=False)"
      ]
     },
     "execution_count": 30,
     "metadata": {},
     "output_type": "execute_result"
    }
   ],
   "source": [
    "from langchain.prompts.prompt import PromptTemplate\n",
    "from langchain.chat_models import ChatOpenAI\n",
    "from langchain.schema.runnable import RunnablePassthrough\n",
    "\n",
    "anonymizer = PresidioReversibleAnonymizer()\n",
    "\n",
    "template = \"\"\"According to this text, where can you find our super secret data?\n",
    "\n",
    "{anonymized_text}\n",
    "\n",
    "Answer:\"\"\"\n",
    "prompt = PromptTemplate.from_template(template)\n",
    "llm = ChatOpenAI()\n",
    "\n",
    "chain = {\"anonymized_text\": anonymizer.anonymize} | prompt | llm\n",
    "chain.invoke(\"You can find our super secret data at https://supersecretdata.com\")"
   ]
  },
  {
   "cell_type": "markdown",
   "metadata": {},
   "source": [
    "Now, let's add **deanonymization step** to our sequence:"
   ]
  },
  {
   "cell_type": "code",
   "execution_count": 31,
   "metadata": {},
   "outputs": [
    {
     "data": {
      "text/plain": [
       "'According to the given text, you can find the super secret data at https://supersecretdata.com.'"
      ]
     },
     "execution_count": 31,
     "metadata": {},
     "output_type": "execute_result"
    }
   ],
   "source": [
    "chain = chain | (lambda ai_message: anonymizer.deanonymize(ai_message.content))\n",
    "chain.invoke(\"You can find our super secret data at https://supersecretdata.com\")"
   ]
  },
  {
   "cell_type": "markdown",
   "metadata": {},
   "source": [
    "Anonymized data was given to the model itself, and therefore it was protected from being leaked to the outside world. Then, the model's response was processed, and the factual value was replaced with the real one."
   ]
  },
  {
   "cell_type": "markdown",
   "metadata": {},
   "source": [
    "## Future works\n",
    "\n",
    "- **instance anonymization** - at this point, each occurrence of PII is treated as a separate entity and separately anonymized. Therefore, two occurrences of the name John Doe in the text will be changed to two different names. It is therefore worth introducing support for full instance detection, so that repeated occurrences are treated as a single object.\n",
    "- **better matching and substitution of fake values for real ones** - currently the strategy is based on matching full strings and then substituting them. Due to the indeterminism of language models, it may happen that the value in the answer is slightly changed (e.g. *John Doe* -> *John* or *Main St, New York* -> *New York*) and such a substitution is then no longer possible. Therefore, it is worth adjusting the matching for your needs."
   ]
  }
 ],
 "metadata": {
  "kernelspec": {
   "display_name": "Python 3 (ipykernel)",
   "language": "python",
   "name": "python3"
  },
  "language_info": {
   "codemirror_mode": {
    "name": "ipython",
    "version": 3
   },
   "file_extension": ".py",
   "mimetype": "text/x-python",
   "name": "python",
   "nbconvert_exporter": "python",
   "pygments_lexer": "ipython3",
   "version": "3.11.4"
  }
 },
 "nbformat": 4,
 "nbformat_minor": 4
}
