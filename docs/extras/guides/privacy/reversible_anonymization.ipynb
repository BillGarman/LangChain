{
 "cells": [
  {
   "cell_type": "markdown",
   "metadata": {},
   "source": [
    "# Reversible data anonymization with Microsoft Presidio\n",
    "\n",
    "[![Open In Collab](https://colab.research.google.com/assets/colab-badge.svg)](https://colab.research.google.com/github/langchain-ai/langchain/blob/master/docs/extras/use_cases/data_anonymization.ipynb)\n",
    "\n",
    "\n",
    "## Use case\n",
    "\n",
    "\n",
    "\n",
    "## Overview\n",
    "\n",
    "\n",
    "\n",
    "## Quickstart\n",
    "\n"
   ]
  },
  {
   "cell_type": "code",
   "execution_count": 1,
   "metadata": {},
   "outputs": [],
   "source": [
    "# Install necessary packages\n",
    "# ! pip install langchain langchain-experimental openai\n",
    "# ! python -m spacy download en_core_web_lg"
   ]
  },
  {
   "cell_type": "code",
   "execution_count": 2,
   "metadata": {},
   "outputs": [
    {
     "data": {
      "text/plain": [
       "'My name is Sydney Davis, call me at 515-978-1565 or email me at tammy76@example.com'"
      ]
     },
     "execution_count": 2,
     "metadata": {},
     "output_type": "execute_result"
    }
   ],
   "source": [
    "from langchain_experimental.data_anonymizer import PresidioAnonymizer\n",
    "\n",
    "anonymizer = PresidioAnonymizer(\n",
    "    analyzed_fields=[\"PERSON\", \"PHONE_NUMBER\", \"EMAIL_ADDRESS\", \"CREDIT_CARD\"],\n",
    "    faker_seed=0,\n",
    ")\n",
    "\n",
    "anonymizer.anonymize(\n",
    "    \"My name is Slim Shady, call me at 313-666-7440 or email me at real.slim.shady@gmail.com\"\n",
    ")"
   ]
  },
  {
   "cell_type": "code",
   "execution_count": 3,
   "metadata": {},
   "outputs": [
    {
     "data": {
      "text/plain": [
       "'My name is Sydney Davis, call me at 515-978-1565 or email me at tammy76@example.com'"
      ]
     },
     "execution_count": 3,
     "metadata": {},
     "output_type": "execute_result"
    }
   ],
   "source": [
    "from langchain_experimental.data_anonymizer import PresidioReversibleAnonymizer\n",
    "\n",
    "anonymizer = PresidioReversibleAnonymizer(\n",
    "    analyzed_fields=[\"PERSON\", \"PHONE_NUMBER\", \"EMAIL_ADDRESS\", \"CREDIT_CARD\"],\n",
    "    faker_seed=0,\n",
    ")\n",
    "\n",
    "anonymizer.anonymize(\n",
    "    \"My name is Slim Shady, call me at 313-666-7440 or email me at real.slim.shady@gmail.com\"\n",
    ")"
   ]
  },
  {
   "cell_type": "code",
   "execution_count": 4,
   "metadata": {},
   "outputs": [
    {
     "data": {
      "text/plain": [
       "{'PERSON': {'Sydney Davis': 'Slim Shady'},\n",
       " 'PHONE_NUMBER': {'515-978-1565': '313-666-7440'},\n",
       " 'EMAIL_ADDRESS': {'tammy76@example.com': 'real.slim.shady@gmail.com'}}"
      ]
     },
     "execution_count": 4,
     "metadata": {},
     "output_type": "execute_result"
    }
   ],
   "source": [
    "anonymizer.deanonymizer_mapping"
   ]
  },
  {
   "cell_type": "code",
   "execution_count": 5,
   "metadata": {},
   "outputs": [
    {
     "data": {
      "text/plain": [
       "\"Do you have his VISA card number? Yep, it's 180014841858395. I'm Lisa Clayton by the way.\""
      ]
     },
     "execution_count": 5,
     "metadata": {},
     "output_type": "execute_result"
    }
   ],
   "source": [
    "anonymizer.anonymize(\n",
    "    \"Do you have his VISA card number? Yep, it's 4001 9192 5753 7193. I'm John Doe by the way.\"\n",
    ")"
   ]
  },
  {
   "cell_type": "code",
   "execution_count": 6,
   "metadata": {},
   "outputs": [
    {
     "data": {
      "text/plain": [
       "{'PERSON': {'Sydney Davis': 'Slim Shady', 'Lisa Clayton': 'John Doe'},\n",
       " 'PHONE_NUMBER': {'515-978-1565': '313-666-7440'},\n",
       " 'EMAIL_ADDRESS': {'tammy76@example.com': 'real.slim.shady@gmail.com'},\n",
       " 'CREDIT_CARD': {'180014841858395': '4001 9192 5753 7193'}}"
      ]
     },
     "execution_count": 6,
     "metadata": {},
     "output_type": "execute_result"
    }
   ],
   "source": [
    "anonymizer.deanonymizer_mapping"
   ]
  },
  {
   "cell_type": "code",
   "execution_count": 7,
   "metadata": {},
   "outputs": [],
   "source": [
    "fake_name = \"Sydney Davis\"\n",
    "fake_phone = \"515-978-1565\"\n",
    "fake_email = \"tammy76@example.com\"\n",
    "fake_credit_card = \"180014841858395\""
   ]
  },
  {
   "cell_type": "code",
   "execution_count": 8,
   "metadata": {},
   "outputs": [
    {
     "name": "stdout",
     "output_type": "stream",
     "text": [
      "Sydney Davis recently lost his wallet. \n",
      "Inside is some cash and his credit card with the number 180014841858395. \n",
      "If you would find it, please call him at 515-978-1565 or email him: tammy76@example.com.\n"
     ]
    }
   ],
   "source": [
    "anonymized_text = f\"\"\"{fake_name} recently lost his wallet. \n",
    "Inside is some cash and his credit card with the number {fake_credit_card}. \n",
    "If you would find it, please call him at {fake_phone} or email him: {fake_email}.\"\"\"\n",
    "\n",
    "print(anonymized_text)"
   ]
  },
  {
   "cell_type": "code",
   "execution_count": 9,
   "metadata": {},
   "outputs": [
    {
     "name": "stdout",
     "output_type": "stream",
     "text": [
      "Slim Shady recently lost his wallet. \n",
      "Inside is some cash and his credit card with the number 4001 9192 5753 7193. \n",
      "If you would find it, please call him at 313-666-7440 or email him: real.slim.shady@gmail.com.\n"
     ]
    }
   ],
   "source": [
    "print(anonymizer.deanonymize(anonymized_text))"
   ]
  },
  {
   "cell_type": "code",
   "execution_count": 10,
   "metadata": {},
   "outputs": [
    {
     "name": "stdout",
     "output_type": "stream",
     "text": [
      "Slim Shady recently lost his wallet. \n",
      "Inside is some cash and his credit card with the number 4001 9192 5753 7193. \n",
      "If you would find it, please call him at 313-666-7440 or email him: real.slim.shady@gmail.com.\n",
      "Slim Shady will be very grateful!\n"
     ]
    }
   ],
   "source": [
    "anonymized_text = f\"{anonymized_text}\\n{fake_name} will be very grateful!\"\n",
    "print(anonymizer.deanonymize(anonymized_text))"
   ]
  },
  {
   "cell_type": "code",
   "execution_count": 11,
   "metadata": {},
   "outputs": [],
   "source": [
    "anonymizer.save_deanonymizer_mapping(\"deanonymizer_mapping.json\")\n",
    "# anonymizer.save_deanonymizer_mapping(\"deanonymizer_mapping.yaml\")"
   ]
  },
  {
   "cell_type": "code",
   "execution_count": 12,
   "metadata": {},
   "outputs": [
    {
     "data": {
      "text/plain": [
       "{}"
      ]
     },
     "execution_count": 12,
     "metadata": {},
     "output_type": "execute_result"
    }
   ],
   "source": [
    "anonymizer = PresidioReversibleAnonymizer()\n",
    "\n",
    "anonymizer.deanonymizer_mapping"
   ]
  },
  {
   "cell_type": "code",
   "execution_count": 13,
   "metadata": {},
   "outputs": [
    {
     "data": {
      "text/plain": [
       "{'PERSON': {'Sydney Davis': 'Slim Shady', 'Lisa Clayton': 'John Doe'},\n",
       " 'PHONE_NUMBER': {'515-978-1565': '313-666-7440'},\n",
       " 'EMAIL_ADDRESS': {'tammy76@example.com': 'real.slim.shady@gmail.com'},\n",
       " 'CREDIT_CARD': {'180014841858395': '4001 9192 5753 7193'}}"
      ]
     },
     "execution_count": 13,
     "metadata": {},
     "output_type": "execute_result"
    }
   ],
   "source": [
    "anonymizer.load_deanonymizer_mapping(\"deanonymizer_mapping.json\")\n",
    "\n",
    "anonymizer.deanonymizer_mapping"
   ]
  },
  {
   "cell_type": "code",
   "execution_count": 14,
   "metadata": {},
   "outputs": [
    {
     "data": {
      "text/plain": [
       "{'text': 'You can find our super secret data at https://supersecretdata.com',\n",
       " 'anonymized_text': 'You can find our super secret data at http://www.anderson.biz/'}"
      ]
     },
     "execution_count": 14,
     "metadata": {},
     "output_type": "execute_result"
    }
   ],
   "source": [
    "from langchain.chains.transform import TransformChain\n",
    "\n",
    "anonymizer = PresidioReversibleAnonymizer()\n",
    "\n",
    "\n",
    "def anonymize_func(inputs: dict) -> dict:\n",
    "    text = inputs[\"text\"]\n",
    "    return {\"anonymized_text\": anonymizer.anonymize(text)}\n",
    "\n",
    "\n",
    "anonymize_chain = TransformChain(\n",
    "    input_variables=[\"text\"],\n",
    "    output_variables=[\"anonymized_text\"],\n",
    "    transform=anonymize_func,\n",
    ")\n",
    "\n",
    "anonymize_chain(\"You can find our super secret data at https://supersecretdata.com\")"
   ]
  },
  {
   "cell_type": "code",
   "execution_count": 15,
   "metadata": {},
   "outputs": [
    {
     "data": {
      "text/plain": [
       "{'anonymized_text': StringPromptValue(text='According to this text, where can you find our super secret data?\\n\\nYou can find our super secret data at https://harding.com/\\n\\nAnswer:'),\n",
       " 'text': ' https://harding.com/'}"
      ]
     },
     "execution_count": 15,
     "metadata": {},
     "output_type": "execute_result"
    }
   ],
   "source": [
    "from operator import itemgetter\n",
    "from langchain.prompts.prompt import PromptTemplate\n",
    "from langchain.chains.llm import LLMChain\n",
    "from langchain.llms.openai import OpenAI\n",
    "\n",
    "template = \"\"\"According to this text, where can you find our super secret data?\n",
    "\n",
    "{anonymized_text}\n",
    "\n",
    "Answer:\"\"\"\n",
    "prompt = PromptTemplate(input_variables=[\"anonymized_text\"], template=template)\n",
    "llm_chain = LLMChain(llm=OpenAI(), prompt=prompt)\n",
    "\n",
    "\n",
    "chain = (\n",
    "    anonymize_chain\n",
    "    | {\"anonymized_text\": itemgetter(\"anonymized_text\")}\n",
    "    | prompt\n",
    "    | llm_chain\n",
    ")\n",
    "chain.invoke(\"You can find our super secret data at https://supersecretdata.com\")"
   ]
  },
  {
   "cell_type": "code",
   "execution_count": 16,
   "metadata": {},
   "outputs": [],
   "source": [
    "def deanonymize_func(inputs: dict) -> dict:\n",
    "    text = inputs[\"llm_response\"]\n",
    "    return {\"deaonymized_text\": anonymizer.deanonymize(text)}\n",
    "\n",
    "\n",
    "deanonymize_chain = TransformChain(\n",
    "    input_variables=[\"llm_response\"],\n",
    "    output_variables=[\"deaonymized_text\"],\n",
    "    transform=deanonymize_func,\n",
    ")"
   ]
  },
  {
   "cell_type": "code",
   "execution_count": 17,
   "metadata": {},
   "outputs": [
    {
     "data": {
      "text/plain": [
       "{'anonymized_text': StringPromptValue(text='According to this text, where can you find our super secret data?\\n\\nYou can find our super secret data at https://zimmerman.info/\\n\\nAnswer:'),\n",
       " 'llm_response': ' https://zimmerman.info/',\n",
       " 'deaonymized_text': ' https://supersecretdata.com'}"
      ]
     },
     "execution_count": 17,
     "metadata": {},
     "output_type": "execute_result"
    }
   ],
   "source": [
    "chain = (\n",
    "    anonymize_chain\n",
    "    | {\"anonymized_text\": itemgetter(\"anonymized_text\")}\n",
    "    | prompt\n",
    "    | llm_chain\n",
    "    | {\n",
    "        \"anonymized_text\": itemgetter(\"anonymized_text\"),\n",
    "        \"llm_response\": itemgetter(\"text\"),\n",
    "    }\n",
    "    | deanonymize_chain\n",
    ")\n",
    "chain.invoke(\"You can find our super secret data at https://supersecretdata.com\")"
   ]
  }
 ],
 "metadata": {
  "kernelspec": {
   "display_name": "Python 3 (ipykernel)",
   "language": "python",
   "name": "python3"
  },
  "language_info": {
   "codemirror_mode": {
    "name": "ipython",
    "version": 3
   },
   "file_extension": ".py",
   "mimetype": "text/x-python",
   "name": "python",
   "nbconvert_exporter": "python",
   "pygments_lexer": "ipython3",
   "version": "3.11.4"
  }
 },
 "nbformat": 4,
 "nbformat_minor": 4
}
