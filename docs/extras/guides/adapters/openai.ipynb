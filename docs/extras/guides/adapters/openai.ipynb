{
 "cells": [
  {
   "cell_type": "code",
   "execution_count": 1,
   "id": "df679571",
   "metadata": {},
   "outputs": [],
   "source": [
    "import openai"
   ]
  },
  {
   "cell_type": "code",
   "execution_count": 4,
   "id": "830f5c88",
   "metadata": {},
   "outputs": [],
   "source": [
    "result = openai.ChatCompletion.create(\n",
    "    messages = [{\"role\": \"user\", \"content\": \"hi\"}],\n",
    "    model=\"gpt-3.5-turbo\"\n",
    ")"
   ]
  },
  {
   "cell_type": "code",
   "execution_count": 7,
   "id": "9b471960",
   "metadata": {},
   "outputs": [
    {
     "data": {
      "text/plain": [
       "<OpenAIObject at 0x1166b2160> JSON: {\n",
       "  \"role\": \"assistant\",\n",
       "  \"content\": \"Hello! How can I assist you today?\"\n",
       "}"
      ]
     },
     "execution_count": 7,
     "metadata": {},
     "output_type": "execute_result"
    }
   ],
   "source": [
    "result[\"choices\"][0]['message']"
   ]
  },
  {
   "cell_type": "code",
   "execution_count": 9,
   "id": "884205e7",
   "metadata": {},
   "outputs": [
    {
     "name": "stdout",
     "output_type": "stream",
     "text": [
      "{\n",
      "  \"role\": \"assistant\",\n",
      "  \"content\": \"\"\n",
      "}\n",
      "{\n",
      "  \"content\": \"Hello\"\n",
      "}\n",
      "{\n",
      "  \"content\": \"!\"\n",
      "}\n",
      "{\n",
      "  \"content\": \" How\"\n",
      "}\n",
      "{\n",
      "  \"content\": \" can\"\n",
      "}\n",
      "{\n",
      "  \"content\": \" I\"\n",
      "}\n",
      "{\n",
      "  \"content\": \" assist\"\n",
      "}\n",
      "{\n",
      "  \"content\": \" you\"\n",
      "}\n",
      "{\n",
      "  \"content\": \" today\"\n",
      "}\n",
      "{\n",
      "  \"content\": \"?\"\n",
      "}\n",
      "{}\n"
     ]
    }
   ],
   "source": [
    "for c in openai.ChatCompletion.create(\n",
    "    messages = [{\"role\": \"user\", \"content\": \"hi\"}],\n",
    "    model=\"gpt-3.5-turbo\", \n",
    "    stream=True\n",
    "):\n",
    "    print(c[\"choices\"][0]['delta'])"
   ]
  },
  {
   "cell_type": "code",
   "execution_count": 10,
   "id": "999cbc13",
   "metadata": {},
   "outputs": [],
   "source": [
    "from langchain.adapters import openai"
   ]
  },
  {
   "cell_type": "code",
   "execution_count": 11,
   "id": "cabadb30",
   "metadata": {},
   "outputs": [],
   "source": [
    "result = openai.ChatCompletion.create(\n",
    "    messages = [{\"role\": \"user\", \"content\": \"hi\"}],\n",
    "    model=\"gpt-3.5-turbo\"\n",
    ")"
   ]
  },
  {
   "cell_type": "code",
   "execution_count": 12,
   "id": "e0073933",
   "metadata": {},
   "outputs": [
    {
     "data": {
      "text/plain": [
       "{'role': 'assistant', 'content': 'Hello! How can I assist you today?'}"
      ]
     },
     "execution_count": 12,
     "metadata": {},
     "output_type": "execute_result"
    }
   ],
   "source": [
    "result[\"choices\"][0]['message']"
   ]
  },
  {
   "cell_type": "code",
   "execution_count": 13,
   "id": "6502e827",
   "metadata": {},
   "outputs": [
    {
     "ename": "TypeError",
     "evalue": "'AIMessageChunk' object is not subscriptable",
     "output_type": "error",
     "traceback": [
      "\u001b[0;31m---------------------------------------------------------------------------\u001b[0m",
      "\u001b[0;31mTypeError\u001b[0m                                 Traceback (most recent call last)",
      "Cell \u001b[0;32mIn[13], line 6\u001b[0m\n\u001b[1;32m      1\u001b[0m \u001b[38;5;28;01mfor\u001b[39;00m c \u001b[38;5;129;01min\u001b[39;00m openai\u001b[38;5;241m.\u001b[39mChatCompletion\u001b[38;5;241m.\u001b[39mcreate(\n\u001b[1;32m      2\u001b[0m     messages \u001b[38;5;241m=\u001b[39m [{\u001b[38;5;124m\"\u001b[39m\u001b[38;5;124mrole\u001b[39m\u001b[38;5;124m\"\u001b[39m: \u001b[38;5;124m\"\u001b[39m\u001b[38;5;124muser\u001b[39m\u001b[38;5;124m\"\u001b[39m, \u001b[38;5;124m\"\u001b[39m\u001b[38;5;124mcontent\u001b[39m\u001b[38;5;124m\"\u001b[39m: \u001b[38;5;124m\"\u001b[39m\u001b[38;5;124mhi\u001b[39m\u001b[38;5;124m\"\u001b[39m}],\n\u001b[1;32m      3\u001b[0m     model\u001b[38;5;241m=\u001b[39m\u001b[38;5;124m\"\u001b[39m\u001b[38;5;124mgpt-3.5-turbo\u001b[39m\u001b[38;5;124m\"\u001b[39m, \n\u001b[1;32m      4\u001b[0m     stream\u001b[38;5;241m=\u001b[39m\u001b[38;5;28;01mTrue\u001b[39;00m\n\u001b[1;32m      5\u001b[0m ):\n\u001b[0;32m----> 6\u001b[0m     \u001b[38;5;28mprint\u001b[39m(\u001b[43mc\u001b[49m\u001b[43m[\u001b[49m\u001b[38;5;124;43m\"\u001b[39;49m\u001b[38;5;124;43mchoices\u001b[39;49m\u001b[38;5;124;43m\"\u001b[39;49m\u001b[43m]\u001b[49m[\u001b[38;5;241m0\u001b[39m][\u001b[38;5;124m'\u001b[39m\u001b[38;5;124mdelta\u001b[39m\u001b[38;5;124m'\u001b[39m])\n",
      "\u001b[0;31mTypeError\u001b[0m: 'AIMessageChunk' object is not subscriptable"
     ]
    }
   ],
   "source": [
    "for c in openai.ChatCompletion.create(\n",
    "    messages = [{\"role\": \"user\", \"content\": \"hi\"}],\n",
    "    model=\"gpt-3.5-turbo\", \n",
    "    stream=True\n",
    "):\n",
    "    print(c[\"choices\"][0]['delta'])"
   ]
  },
  {
   "cell_type": "code",
   "execution_count": 14,
   "id": "910db728",
   "metadata": {},
   "outputs": [
    {
     "data": {
      "text/plain": [
       "AIMessageChunk(content='', additional_kwargs={}, example=False)"
      ]
     },
     "execution_count": 14,
     "metadata": {},
     "output_type": "execute_result"
    }
   ],
   "source": [
    "c"
   ]
  },
  {
   "cell_type": "code",
   "execution_count": null,
   "id": "9eae11b8",
   "metadata": {},
   "outputs": [],
   "source": []
  }
 ],
 "metadata": {
  "kernelspec": {
   "display_name": "Python 3 (ipykernel)",
   "language": "python",
   "name": "python3"
  },
  "language_info": {
   "codemirror_mode": {
    "name": "ipython",
    "version": 3
   },
   "file_extension": ".py",
   "mimetype": "text/x-python",
   "name": "python",
   "nbconvert_exporter": "python",
   "pygments_lexer": "ipython3",
   "version": "3.10.1"
  }
 },
 "nbformat": 4,
 "nbformat_minor": 5
}
