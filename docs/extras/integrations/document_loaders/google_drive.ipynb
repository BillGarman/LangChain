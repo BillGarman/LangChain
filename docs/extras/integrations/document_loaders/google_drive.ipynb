{
 "cells": [
  {
   "cell_type": "markdown",
   "id": "0b02f34c",
   "metadata": {},
   "source": [
    "# Google Drive Loader\n",
    "This notebook covers how to retrieve documents from Google Drive.\n",
    "\n",
    "## Prerequisites\n",
    "\n",
    "1. Create a Google Cloud project or use an existing project\n",
    "1. Enable the [Google Drive API](https://console.cloud.google.com/flows/enableapi?apiid=drive.googleapis.com)\n",
    "1. [Authorize credentials for desktop app](https://developers.google.com/drive/api/quickstart/python#authorize_credentials_for_a_desktop_application)\n",
    "1. `pip install --upgrade google-api-python-client google-auth-httplib2 google-auth-oauthlib`\n",
    "\n",
    "## Instructions for retrieving your Google Docs data\n",
    "By default, the `GoogleDriveLoader` expects the `credentials.json` file to be `~/.credentials/credentials.json`, but this is configurable using the `GOOGLE_ACCOUNT_FILE` environment variable. \n",
    "The location of `token.json` use the same directory (or use the parameter `token_path`). Note that `token.json` will be created automatically the first time you use the loader.\n"
   ]
  },
  {
   "cell_type": "markdown",
   "id": "a03b9067",
   "metadata": {},
   "source": [
    "You can obtain your folder and document id from the URL:\n",
    "* Folder: https://drive.google.com/drive/u/0/folders/1yucgL9WGgWZdM1TOuKkeghlPizuzMYb5 -> folder id is `\"1yucgL9WGgWZdM1TOuKkeghlPizuzMYb5\"`\n",
    "* Document: https://docs.google.com/document/d/1bfaMQ18_i56204VaQDVeAFpqEijJTgvurupdEDiaUQw/edit -> document id is `\"1bfaMQ18_i56204VaQDVeAFpqEijJTgvurupdEDiaUQw\"`\n",
    "\n",
    "The special value `root` is for your personal home."
   ]
  },
  {
   "cell_type": "code",
   "execution_count": 1,
   "id": "6e40071c-3a65-4e26-b497-3e2be0bd86b9",
   "metadata": {},
   "outputs": [],
   "source": [
    "#!pip install --upgrade google-api-python-client google-auth-httplib2 google-auth-oauthlib"
   ]
  },
  {
   "cell_type": "code",
   "execution_count": 2,
   "id": "9bcb6cb1",
   "metadata": {},
   "outputs": [],
   "source": [
    "folder_id='root'\n",
    "#folder_id='1yucgL9WGgWZdM1TOuKkeghlPizuzMYb5'\n",
    "#folder_id='18A21b37hPISOQtStQ_irQLYS3hlVEsBH'"
   ]
  },
  {
   "cell_type": "code",
   "execution_count": 3,
   "id": "878928a6-a5ae-4f74-b351-64e3b01733fe",
   "metadata": {
    "tags": []
   },
   "outputs": [],
   "source": [
    "from langchain.document_loaders import GoogleDriveLoader"
   ]
  },
  {
   "cell_type": "code",
   "execution_count": 4,
   "id": "2216c83f-68e4-4d2f-8ea2-5878fb18bbe7",
   "metadata": {
    "tags": []
   },
   "outputs": [],
   "source": [
    "loader = GoogleDriveLoader(\n",
    "    folder_id=folder_id,\n",
    "    recursive=False,\n",
    "    num_results=2,  # Maximum number of file to load\n",
    ")"
   ]
  },
  {
   "cell_type": "markdown",
   "id": "de5be5d4",
   "metadata": {},
   "source": [
    "By default, all files with these mime-type can be converted to `Document`.\n",
    "- text/text\n",
    "- text/plain\n",
    "- text/html\n",
    "- text/csv\n",
    "- text/markdown\n",
    "- image/png\n",
    "- image/jpeg\n",
    "- application/epub+zip\n",
    "- application/pdf\n",
    "- application/rtf\n",
    "- application/vnd.google-apps.document (GDoc)\n",
    "- application/vnd.google-apps.presentation (GSlide)\n",
    "- application/vnd.google-apps.spreadsheet (GSheet)\n",
    "- application/vnd.google.colaboratory (Notebook colab)\n",
    "- application/vnd.openxmlformats-officedocument.presentationml.presentation (PPTX)\n",
    "- application/vnd.openxmlformats-officedocument.wordprocessingml.document (DOCX)\n",
    "\n",
    "It's possible to update or customize this. See the documentation of `GDriveLoader`.\n",
    "\n",
    "But, the corresponding packages must be installed."
   ]
  },
  {
   "cell_type": "code",
   "execution_count": 5,
   "id": "1bca45c9",
   "metadata": {},
   "outputs": [
    {
     "name": "stdout",
     "output_type": "stream",
     "text": [
      "Defaulting to user installation because normal site-packages is not writeable\n",
      "Requirement already satisfied: unstructured in /home/pprados/.pythonapp/lib/python3.10/site-packages (0.9.1)\n",
      "Requirement already satisfied: python-magic in /home/pprados/.pythonapp/lib/python3.10/site-packages (from unstructured) (0.4.27)\n",
      "Requirement already satisfied: tabulate in /home/pprados/.pythonapp/lib/python3.10/site-packages (from unstructured) (0.9.0)\n",
      "Requirement already satisfied: requests in /usr/lib/python3/dist-packages (from unstructured) (2.25.1)\n",
      "Requirement already satisfied: filetype in /home/pprados/.pythonapp/lib/python3.10/site-packages (from unstructured) (1.2.0)\n",
      "Requirement already satisfied: nltk in /home/pprados/.pythonapp/lib/python3.10/site-packages (from unstructured) (3.8.1)\n",
      "Requirement already satisfied: lxml in /home/pprados/.pythonapp/lib/python3.10/site-packages (from unstructured) (4.9.3)\n",
      "Requirement already satisfied: chardet in /usr/lib/python3/dist-packages (from unstructured) (4.0.0)\n",
      "Requirement already satisfied: click in /usr/lib/python3/dist-packages (from nltk->unstructured) (8.0.3)\n",
      "Requirement already satisfied: joblib in /home/pprados/.pythonapp/lib/python3.10/site-packages (from nltk->unstructured) (1.3.1)\n",
      "Requirement already satisfied: tqdm in /home/pprados/.pythonapp/lib/python3.10/site-packages (from nltk->unstructured) (4.65.2)\n",
      "Requirement already satisfied: regex>=2021.8.3 in /home/pprados/.pythonapp/lib/python3.10/site-packages (from nltk->unstructured) (2023.8.8)\n"
     ]
    }
   ],
   "source": [
    "!pip install unstructured"
   ]
  },
  {
   "cell_type": "code",
   "execution_count": 6,
   "id": "8f3b6aa0-b45d-4e37-8c50-5bebe70fdb9d",
   "metadata": {
    "tags": []
   },
   "outputs": [
    {
     "name": "stdout",
     "output_type": "stream",
     "text": [
      "---\n",
      "[\n",
      "\n",
      "NOM\n",
      "\n",
      "PROJET + Référence Mission]\n",
      "\n",
      "\n",
      "\n",
      "Une fois la fiche ter...\n",
      "---\n",
      "[\n",
      "\n",
      "NOM\n",
      "\n",
      "PROJET + Référence Mission]\n",
      "\n",
      "\n",
      "\n",
      "Une fois la fiche ter...\n"
     ]
    }
   ],
   "source": [
    "for doc in loader.load():\n",
    "    print(\"---\")\n",
    "    print(doc.page_content.strip()[:60]+\"...\")"
   ]
  },
  {
   "cell_type": "markdown",
   "id": "31170e71",
   "metadata": {},
   "source": [
    "# Customize the search pattern\n",
    "\n",
    "All parameter compatible with Google [`list()`](https://developers.google.com/drive/api/v3/reference/files/list)\n",
    "API can be set.\n",
    "\n",
    "To specify the new pattern of the Google request, you can use a `PromptTemplate()`.\n",
    "The variables for the prompt can be set with `kwargs` in the constructor.\n",
    "Some pre-formated request are proposed (use `{query}`, `{folder_id}` and/or `{mime_type}`):\n",
    "\n",
    "You can customize the criteria to select the files. A set of predefined filter are proposed:\n",
    "| template                               | description                                                           |\n",
    "| -------------------------------------- | --------------------------------------------------------------------- |\n",
    "| gdrive-all-in-folder                   | Return all compatible files from a `folder_id`                        |\n",
    "| gdrive-query                           | Search `query` in all drives                                          |\n",
    "| gdrive-by-name                         | Search file with name `query`                                        |\n",
    "| gdrive-query-in-folder                 | Search `query` in `folder_id` (and sub-folders if `recursive=true`)  |\n",
    "| gdrive-mime-type                       | Search a specific `mime_type`                                         |\n",
    "| gdrive-mime-type-in-folder             | Search a specific `mime_type` in `folder_id`                          |\n",
    "| gdrive-query-with-mime-type            | Search `query` with a specific `mime_type`                            |\n",
    "| gdrive-query-with-mime-type-and-folder | Search `query` with a specific `mime_type` and in `folder_id`         |\n"
   ]
  },
  {
   "cell_type": "code",
   "execution_count": 7,
   "id": "0a47175f",
   "metadata": {},
   "outputs": [
    {
     "name": "stdout",
     "output_type": "stream",
     "text": [
      "---\n",
      "A Document with the word machine learning.\n",
      "\n",
      "\n",
      "\n",
      "Another paragr...\n",
      "---\n",
      "Autre document sur le machine learning...\n"
     ]
    }
   ],
   "source": [
    "loader = GoogleDriveLoader(\n",
    "    folder_id=folder_id,\n",
    "    recursive=False,\n",
    "    template=\"gdrive-query\",  # Default template to use\n",
    "    query=\"machine learning\",\n",
    "    num_results=2,            # Maximum number of file to load\n",
    "    supportsAllDrives=False,  # GDrive `list()` parameter\n",
    ")\n",
    "for doc in loader.load():\n",
    "    print(\"---\")\n",
    "    print(doc.page_content.strip()[:60]+\"...\")"
   ]
  },
  {
   "cell_type": "markdown",
   "id": "74e6e3aa",
   "metadata": {},
   "source": [
    "You can customize your pattern."
   ]
  },
  {
   "cell_type": "code",
   "execution_count": 8,
   "id": "dcf07ff7",
   "metadata": {},
   "outputs": [
    {
     "name": "stdout",
     "output_type": "stream",
     "text": [
      "---\n",
      "Je vous invite à lire\n",
      "\n",
      "cette page\n",
      "\n",
      "pour suivre les recommand...\n",
      "---\n",
      "The Springer Series on Challenges in Machine Learning\n",
      "\n",
      "Frank...\n"
     ]
    }
   ],
   "source": [
    "from langchain.prompts.prompt import PromptTemplate\n",
    "loader = GoogleDriveLoader(\n",
    "    folder_id=folder_id,\n",
    "    recursive=False,\n",
    "    template=PromptTemplate(\n",
    "        input_variables=[\"query\", \"query_name\"],\n",
    "        template=\"fullText contains '{query}' and name contains '{query_name}' and trashed=false\",\n",
    "        ),  # Default template to use\n",
    "    query=\"machine learning\",\n",
    "    query_name=\"ML\",    \n",
    "    num_results=2,  # Maximum number of file to load\n",
    ")\n",
    "for doc in loader.load():\n",
    "    print(\"---\")\n",
    "    print(doc.page_content.strip()[:60]+\"...\")"
   ]
  },
  {
   "cell_type": "markdown",
   "id": "8e404472",
   "metadata": {},
   "source": [
    "# Modes for GSlide and GSheet\n",
    "\n",
    "The parameter `mode` accept differents values:\n",
    "- `\"document\"`: return the body of each documents\n",
    "- `\"snippets\"`: return the `description` of each files (set in metadata of google drive files).\n",
    "\n",
    "\n",
    "The parameter `gslide_mode` accept differents values:\n",
    "- `\"single\"`   : one document with `<PAGE BREAK>`\n",
    "- `\"slide\"`    : one document by slide\n",
    "- `\"elements\"` : one document for each `elements`."
   ]
  },
  {
   "cell_type": "code",
   "execution_count": 9,
   "id": "b33d1a53",
   "metadata": {},
   "outputs": [
    {
     "name": "stdout",
     "output_type": "stream",
     "text": [
      "---\n",
      "Expériences  :\n",
      "\n",
      "UX Researcher et UX Analyst chez OCTO Techno...\n",
      "---\n",
      "Mini-bio : FEBO\n",
      "\n",
      "\n",
      "\n",
      "En tant que\n",
      "\n",
      "UX researcher\n",
      "\n",
      "et\n",
      "\n",
      "UX analyt...\n"
     ]
    }
   ],
   "source": [
    "loader = GoogleDriveLoader(\n",
    "    template=\"gdrive-mime-type\",\n",
    "    mime_type=\"application/vnd.google-apps.presentation\", # Only GSlide files\n",
    "    gslide_mode=\"slide\",\n",
    "    num_results=2,  # Maximum number of file to load\n",
    ")\n",
    "for doc in loader.load():\n",
    "    print(\"---\")\n",
    "    print(doc.page_content.strip()[:60]+\"...\")"
   ]
  },
  {
   "cell_type": "markdown",
   "id": "498f0451",
   "metadata": {},
   "source": [
    "The parameter `gsheet_mode` accept differents values:\n",
    "- `\"single\"`: Generate one document by line\n",
    "- `\"elements\"` : one document with markdown array and `<PAGE BREAK>` tags."
   ]
  },
  {
   "cell_type": "code",
   "execution_count": 10,
   "id": "884c4ca6",
   "metadata": {},
   "outputs": [
    {
     "name": "stdout",
     "output_type": "stream",
     "text": [
      "---\n",
      "Instructions for use: 1. Make a copy of this document; do no...\n",
      "---\n",
      "Instructions for use: 2. Check you're in the new copy and it...\n"
     ]
    }
   ],
   "source": [
    "loader = GoogleDriveLoader(\n",
    "    template=\"gdrive-mime-type\",\n",
    "    mime_type=\"application/vnd.google-apps.spreadsheet\", # Only GSheet files\n",
    "    gsheet_mode=\"elements\",\n",
    "    num_results=2,  # Maximum number of file to load\n",
    ")\n",
    "for doc in loader.load():\n",
    "    print(\"---\")\n",
    "    print(doc.page_content.strip()[:60]+\"...\")"
   ]
  },
  {
   "cell_type": "markdown",
   "id": "1f0f8982",
   "metadata": {},
   "source": [
    "# Advanced usage\n",
    "- All google file have a 'description' in the metadata. This field can be use to memorize a summary of the document or others indexed tags (See method `lazy_update_description_with_summary()`).\n",
    "- If you use the `mode=\"snippet\"`, only the description will be used for the body. Else, the `metadata['summary']` has the field.\n",
    "- Sometime, a specific filter can be used to extract some information from the filename, to select some files with specific criteria. You can use a `filter`.\n",
    "- Sometimes, many documents are returned. It's not necessary to have all documents in memory at the same time. You can use the *lazy* versions of methods, to get one document at a time.\n",
    "It's better to use a complex query in place of a recursive search. For each folder, a query must be apply if you activate `recursive=True`."
   ]
  },
  {
   "cell_type": "code",
   "execution_count": 13,
   "id": "23e07be2",
   "metadata": {},
   "outputs": [
    {
     "name": "stderr",
     "output_type": "stream",
     "text": [
      "Ignore 'Dossier - 01 - Introduction au Deep Learning.zip' with type 'application/zip'\n",
      "Ignore 'Actualité - 01 - Deep learning et  humanités numériques.zip' with type 'application/zip'\n"
     ]
    },
    {
     "name": "stdout",
     "output_type": "stream",
     "text": [
      "---\n",
      "A Document with the word machine learning.\n",
      "\n",
      "\n",
      "\n",
      "Another paragr...\n",
      "---\n",
      "Autre document sur le machine learning...\n",
      "---\n",
      "Matrice Cynefin x\n",
      "\n",
      "Machine Learning\n",
      "\n",
      "- Aller vite en product...\n",
      "---\n",
      "Deep Learning humanités numériques\n",
      "\n",
      "“les gens qui se forment...\n",
      "---\n",
      "Eli Stevens Luca Antiga Thomas Viehmann Foreword by Soumith ...\n",
      "---\n",
      "Deep Learning et humanités numériques\n",
      "\n",
      "Karim Sayadi\n",
      "\n",
      "Data Sc...\n",
      "---\n",
      "Le machine learning portable avec Go\n",
      "\n",
      "\n",
      "\n",
      "Dans cet article, je...\n",
      "---\n",
      "Deep Learning humanités numériques\n",
      "\n",
      "\n",
      "\n",
      "“Les gens qui se forme...\n",
      "---\n",
      "01\n",
      "\n",
      "R&D collective ?\n",
      "\n",
      "\n",
      "\n",
      "<PAGE BREAK>\n",
      "\n",
      "Synthèse d’une discuss...\n",
      "---\n",
      "L’i-PPR n°02\n",
      "\n",
      "\n",
      "\n",
      "Deep learning of Python\n",
      "\n",
      "V1.0 -\n",
      "\n",
      "5 Avril 201...\n"
     ]
    }
   ],
   "source": [
    "import os\n",
    "loader = GoogleDriveLoader(\n",
    "                gdrive_api_file=os.environ[\"GOOGLE_ACCOUNT_FILE\"],\n",
    "                num_results=2,\n",
    "                template=\"gdrive-query\",\n",
    "                filter=lambda search, file: \"#test\" not in file.get('description',''),\n",
    "                query='machine learning',\n",
    "                supportsAllDrives=False,\n",
    "                )\n",
    "for doc in loader.load():\n",
    "    print(\"---\")\n",
    "    print(doc.page_content.strip()[:60]+\"...\")"
   ]
  },
  {
   "cell_type": "code",
   "execution_count": null,
   "id": "3dbb5609",
   "metadata": {},
   "outputs": [],
   "source": []
  }
 ],
 "metadata": {
  "kernelspec": {
   "display_name": "Python 3 (ipykernel)",
   "language": "python",
   "name": "python3"
  },
  "language_info": {
   "codemirror_mode": {
    "name": "ipython",
    "version": 3
   },
   "file_extension": ".py",
   "mimetype": "text/x-python",
   "name": "python",
   "nbconvert_exporter": "python",
   "pygments_lexer": "ipython3",
   "version": "3.11.0rc1"
  }
 },
 "nbformat": 4,
 "nbformat_minor": 5
}
