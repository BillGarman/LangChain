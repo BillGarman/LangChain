{
 "cells": [
  {
   "cell_type": "markdown",
   "id": "5a7cc773",
   "metadata": {},
   "source": [
    "# Recursive URL Loader\n",
    "\n",
    "We may want to process load all URLs under a root directory.\n",
    "\n",
    "For example, let's look at the [Python 3.9 Document](https://docs.python.org/3.9/).\n",
    "\n",
    "This has many interesting child pages that we may want to read in bulk.\n",
    "\n",
    "Of course, the `WebBaseLoader` can load a list of pages. \n",
    "\n",
    "But, the challenge is traversing the tree of child pages and actually assembling that list!\n",
    " \n",
    "We do this using the `RecursiveUrlLoader`.\n",
    "\n",
    "This also gives us the flexibility to exclude some children (e.g., the `api` directory with > 800 child pages)."
   ]
  },
  {
   "cell_type": "markdown",
   "id": "1be8094f",
   "metadata": {},
   "source": [
    "# Parameters\n",
    "- url: str, the target url to crawl.\n",
    "- exclude_dirs: Optional[str], webpage directories to exclude.\n",
    "use_async: bool = False, wether to use async requests, using async requests is usually faster in large tasks. However, async will disable the lazy loading feature(the function still works, but it is not lazy).\n",
    "- extractor: Callable[[str], str] = lambda x: x, a function to extract the text of the document from the webpage, by default it returns the page as it is. It is recommended to use tools like goose3 and beautifulsoup to extract the text.\n",
    "- max_depth: int = 2, the maximum depth to crawl.\n",
    "- timeout: int = 10, the timeout for each request, in the unit of seconds.\n",
    "- prevent_outside: bool = True, whether to prevent crawling outside the root url."
   ]
  },
  {
   "cell_type": "code",
   "execution_count": 16,
   "id": "2e3532b2",
   "metadata": {},
   "outputs": [
    {
     "name": "stderr",
     "output_type": "stream",
     "text": [
        ""
     ]
    }
   ],
   "source": [
    "from langchain.document_loaders.recursive_url_loader import RecursiveUrlLoader"
   ]
  },
  {
   "cell_type": "markdown",
   "id": "6384c057",
   "metadata": {},
   "source": [
    "Let's try a simple example."
   ]
  },
  {
   "cell_type": "code",
   "execution_count": 25,
   "id": "d69e5620",
   "metadata": {},
   "outputs": [
    {
     "name": "stderr",
     "output_type": "stream",
     "text": [
        ""
     ]
    }
   ],
   "source": [
    "from bs4 import BeautifulSoup as Soup\n",
    "\n",
    "url = \"https://docs.python.org/3.9/\"\n",
    "loader = RecursiveUrlLoader(url=url, max_depth=2, extractor=lambda x: Soup(x, \"html.parser\").text)\n",
    "docs = loader.load()"
   ]
  },
  {
   "cell_type": "code",
   "execution_count": 31,
   "id": "084fb2ce",
   "metadata": {},
   "outputs": [
    {
     "data": {
      "text/plain": [
       "'\\n\\n\\n\\n\\nExtending and Embedding the Python Interpreter — Python 3.9.17 documentation\\n\\n\\n\\n\\n\\n\\n\\n\\n\\n\\n\\n\\n\\n\\n\\n\\n\\n\\n\\n\\n\\n\\n\\n\\n\\n\\n\\n\\n\\n\\n\\n\\n\\n\\n\\n\\n\\n\\n\\n\\n\\n\\n\\nTable of Contents\\n\\nExtending and Embedding the Python Interpreter\\nRecommended third party tools\\nCreating extensions without third party tools\\nEmbedding the CPython runtime in a larger application\\n\\n\\n\\nPrevious topic\\nSecurity Considerations\\nNext topic\\n1. Extending Python with C or C++\\n\\nThis Page\\n\\nReport a Bug\\n\\nShow Source\\n        \\n\\n\\n\\n\\n\\n\\n\\nNavigation\\n\\n\\nindex\\n\\nmodules |\\n\\nnext |\\n\\nprevious |\\n\\nPython »\\n\\n\\n\\n\\n\\n\\n\\n3.9.17 Documentation »\\n    \\n\\n\\n\\n\\n\\n\\n\\n\\n\\n                     |\\n                \\n\\n\\n\\n\\n\\n\\n\\nExtending and Embedding the Python InterpreterÂ¶\\nThis document describes how to write modules in C or C++ to extend the Python\\ninterpreter with new modules.  Those modules can not only define new functions\\nbut also new object types and their methods.  The document also describes how\\nto embed the Python interpreter in another application, for use as an extension\\nlanguage.  Finally, it shows how to compile and link extension modules so that\\nthey can be loaded dynamically (at run time) into the interpreter, if the\\nunderlying operating system supports this feature.\\nThis document assumes basic knowledge about Python.  For an informal\\nintroduction to the language, see The Python Tutorial.  The Python Language Reference\\ngives a more formal definition of the language.  The Python Standard Library documents\\nthe existing object types, functions and modules (both built-in and written in\\nPython) that give the language its wide application range.\\nFor a detailed description of the whole Python/C API, see the separate\\nPython/C API Reference Manual.\\n\\nRecommended third party toolsÂ¶\\nThis guide only covers the basic tools for creating extensions provided\\nas part of this version of CPython. Third party tools like\\nCython, cffi,\\nSWIG and Numba\\noffer both simpler and more sophisticated approaches to creating C and C++\\nextensions for Python.\\n\\nSee also\\n\\nPython Packaging User Guide: Binary ExtensionsThe Python Packaging User Guide not only covers several available\\ntools that simplify the creation of binary extensions, but also\\ndiscusses the various reasons why creating an extension module may be\\ndesirable in the first place.\\n\\n\\n\\n\\n\\nCreating extensions without third party toolsÂ¶\\nThis section of the guide covers creating C and C++ extensions without\\nassistance from third party tools. It is intended primarily for creators\\nof those tools, rather than being a recommended way to create your own\\nC extensions.\\n\\n\\n1. Extending Python with C or C++\\n1.1. A Simple Example\\n1.2. Intermezzo: Errors and Exceptions\\n1.3. Back to the Example\\n1.4. The Moduleâ\\x80\\x99s Method Table and Initialization Function\\n1.5. Compilation and Linkage\\n1.6. Calling Python Functions from C\\n1.7. Extracting Parameters in Extension Functions\\n1.8. Keyword Parameters for Extension Functions\\n1.9. Building Arbitrary Values\\n1.10. Reference Counts\\n1.11. Writing Extensions in C++\\n1.12. Providing a C API for an Extension Module\\n\\n\\n2. Defining Extension Types: Tutorial\\n2.1. The Basics\\n2.2. Adding data and methods to the Basic example\\n2.3. Providing finer control over data attributes\\n2.4. Supporting cyclic garbage collection\\n2.5. Subclassing other types\\n\\n\\n3. Defining Extension Types: Assorted Topics\\n3.1. Finalization and De-allocation\\n3.2. Object Presentation\\n3.3. Attribute Management\\n3.4. Object Comparison\\n3.5. Abstract Protocol Support\\n3.6. Weak Reference Support\\n3.7. More Suggestions\\n\\n\\n4. Building C and C++ Extensions\\n4.1. Building C and C++ Extensions with distutils\\n4.2. Distributing your extension modules\\n\\n\\n5. Building C and C++ Extensions on Windows\\n5.1. A Cookbook Approach\\n5.2. Differences Between Unix and Windows\\n5.3. Using DLLs in Practice\\n\\n\\n\\n\\n\\n\\nEmbedding the CPython runtime in a larger applicationÂ¶\\nSometimes, rather than creating an extension that runs inside the Python\\ninterpreter as the main application, it is desirable to instead embed\\nthe CPython runtime inside a larger application. This section covers\\nsome of the details involved in doing that successfully.\\n\\n\\n1. Embedding Python in Another Application\\n1.1. Very High Level Embedding\\n1.2. Beyond Very High Level Embedding: An overview\\n1.3. Pure Embedding\\n1.4. Extending Embedded Python\\n1.5. Embedding Python in C++\\n1.6. Compiling and Linking under Unix-like systems\\n\\n\\n\\n\\n\\n\\n\\n\\n\\n\\n\\nTable of Contents\\n\\nExtending and Embedding the Python Interpreter\\nRecommended third party tools\\nCreating extensions without third party tools\\nEmbedding the CPython runtime in a larger application\\n\\n\\n\\nPrevious topic\\nSecurity Considerations\\nNext topic\\n1. Extending Python with C or C++\\n\\nThis Page\\n\\nReport a Bug\\n\\nShow Source\\n        \\n\\n\\n\\n\\n\\n\\n\\n\\nNavigation\\n\\n\\nindex\\n\\nmodules |\\n\\nnext |\\n\\nprevious |\\n\\nPython »\\n\\n\\n\\n\\n\\n\\n\\n3.9.17 Documentation »\\n    \\n\\n\\n\\n\\n\\n\\n\\n\\n\\n                     |\\n                \\n\\n\\n\\n    © Copyright 2001-2023, Python Software Foundation.\\n    \\n    This page is licensed under the Python Software Foundation License Version 2.\\n    \\n    Examples, recipes, and other code in the documentation are additionally licensed under the Zero Clause BSD License.\\n    \\n    See History and License for more information.\\n\\n\\n    The Python Software Foundation is a non-profit corporation.\\nPlease donate.\\n\\n\\n\\n    Last updated on Jul 04, 2023.\\n    Found a bug?\\n    \\n\\n    Created using Sphinx 2.4.4.\\n    \\n\\n\\n'"
      ]
     },
     "execution_count": 31,
     "metadata": {},
     "output_type": "execute_result"
    }
   ],
   "source": [
    "docs[-1].page_content"
   ]
  },
  {
   "cell_type": "code",
   "execution_count": 32,
   "id": "13bd7e16",
   "metadata": {},
   "outputs": [
    {
     "data": {
      "text/plain": [
       "{'source': 'https://docs.python.org/3.9/extending/index.html',\n",
       " 'title': 'Extending and Embedding the Python Interpreter — Python 3.9.17 documentation',\n",
       " 'language': None}"
      ]
     },
     "execution_count": 32,
     "metadata": {},
     "output_type": "execute_result"
    }
   ],
   "source": [
    "docs[-1].metadata"
   ]
  },
  {
   "cell_type": "markdown",
   "id": "5866e5a6",
   "metadata": {},
   "source": [
    "However, since it's hard to perform a perfect filter, you may still see some irrelevant results in the results. For example:"
   ]
  },
  {
   "cell_type": "code",
   "execution_count": 33,
   "id": "dd847e7e",
   "metadata": {},
   "outputs": [
    {
     "data": {
      "text/plain": [
       "Document(page_content='\\n\\n\\n\\n\\n\\n\\n\\n\\n\\n\\n\\n\\n\\n', metadata={'source': 'https://docs.python.org/3.9/_static/py.svg'})"
      ]
     },
     "execution_count": 33,
     "metadata": {},
     "output_type": "execute_result"
    }
   ],
   "source": [
    "docs[0]"
   ]
  },
  {
   "cell_type": "markdown",
   "id": "23644528",
   "metadata": {},
   "source": [
    "Because it is fetched from a svg file. Please manually perform a filter on the docs to remove such files."
   ]
  }
 ],
 "metadata": {
  "kernelspec": {
   "display_name": "Python 3 (ipykernel)",
   "language": "python",
   "name": "python3"
  },
  "language_info": {
   "codemirror_mode": {
    "name": "ipython",
    "version": 3
   },
   "file_extension": ".py",
   "mimetype": "text/x-python",
   "name": "python",
   "nbconvert_exporter": "python",
   "pygments_lexer": "ipython3",
   "version": "3.10.11"
  }
 },
 "nbformat": 4,
 "nbformat_minor": 5
}
