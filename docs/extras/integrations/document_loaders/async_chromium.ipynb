{
 "cells": [
  {
   "cell_type": "markdown",
   "id": "ad553e51",
   "metadata": {},
   "source": [
    "# Async Chromium\n",
    "\n",
    "This load will use Chromium to scrape the web page. In the context of this code, Chromium is one of the browsers supported by Playwright, a library used to control browser automation. By running p.chromium.launch(headless=True), you are launching a headless instance of Chromium. Headless mode means that the browser is running without a graphical user interface, which is commonly used for web scraping or automated testing of web pages."
   ]
  },
  {
   "cell_type": "code",
   "execution_count": null,
   "id": "1c3a4c19",
   "metadata": {},
   "outputs": [],
   "source": [
    "! pip install -q playwright beautifulsoup4\n",
    "! playwright install"
   ]
  },
  {
   "cell_type": "code",
   "execution_count": 2,
   "id": "219734b2",
   "metadata": {
    "scrolled": false
   },
   "outputs": [
    {
     "data": {
      "text/plain": [
       "'Employment data showed America’s job market is cooling. It isn’t cool enough for the Fed just yet, b'"
      ]
     },
     "execution_count": 2,
     "metadata": {},
     "output_type": "execute_result"
    }
   ],
   "source": [
    "from langchain.document_loaders import AsyncChromiumLoader\n",
    "urls = [\"https://www.wsj.com\"]\n",
    "loader = AsyncChromiumLoader(urls)\n",
    "docs = loader.load()\n",
    "docs[0].page_content[0:100]"
   ]
  }
 ],
 "metadata": {
  "kernelspec": {
   "display_name": "Python 3 (ipykernel)",
   "language": "python",
   "name": "python3"
  },
  "language_info": {
   "codemirror_mode": {
    "name": "ipython",
    "version": 3
   },
   "file_extension": ".py",
   "mimetype": "text/x-python",
   "name": "python",
   "nbconvert_exporter": "python",
   "pygments_lexer": "ipython3",
   "version": "3.9.16"
  }
 },
 "nbformat": 4,
 "nbformat_minor": 5
}
