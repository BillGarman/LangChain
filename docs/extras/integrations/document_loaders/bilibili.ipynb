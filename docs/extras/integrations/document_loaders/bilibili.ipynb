{
 "cells": [
  {
   "cell_type": "markdown",
   "id": "66a7777e",
   "metadata": {},
   "source": [
    "# BiliBili\n",
    "\n",
    ">[Bilibili](https://www.bilibili.tv/) is one of the most beloved long-form video sites in China.\n",
    "\n",
    "This loader utilizes the [bilibili-api](https://github.com/MoyuScript/bilibili-api) to fetch the text transcript from `Bilibili`.\n",
    "\n",
    "With this BiliBiliLoader, users can easily obtain the transcript of their desired video content on the platform."
   ]
  },
  {
   "cell_type": "code",
   "execution_count": null,
   "id": "43128d8d",
   "metadata": {
    "tags": []
   },
   "outputs": [],
   "source": [
    "#!pip install bilibili-api-python"
   ]
  },
  {
   "cell_type": "markdown",
   "id": "bd7e98b7",
   "metadata": {},
   "source": [
    "## Without credential\n",
    "Due to Bilibili's API rules, it is currently not possible to obtain subtitles without using credentials.  \n",
    "Now, if you don't provide credentials, the loader will return the video's title and description."
   ]
  },
  {
   "cell_type": "code",
   "execution_count": null,
   "id": "9ec8a3b3",
   "metadata": {
    "tags": []
   },
   "outputs": [],
   "source": [
    "from langchain.document_loaders import BiliBiliLoader"
   ]
  },
  {
   "cell_type": "code",
   "execution_count": 13,
   "id": "35d6809a",
   "metadata": {
    "pycharm": {
     "name": "#%%\n"
    }
   },
   "outputs": [],
   "source": [
    "loader = BiliBiliLoader([\"https://www.bilibili.com/video/BV1xt411o7Xu/\"])"
   ]
  },
  {
   "cell_type": "code",
   "execution_count": null,
   "id": "3470dadf",
   "metadata": {
    "collapsed": false,
    "jupyter": {
     "outputs_hidden": false
    },
    "pycharm": {
     "name": "#%%\n"
    }
   },
   "outputs": [],
   "source": [
    "loader.load()"
   ]
  },
  {
   "cell_type": "markdown",
   "id": "4d1dd676",
   "metadata": {},
   "source": [
    "## With credential\n",
    "How to obtain credentials, please refer to [get-credential](https://nemo2011.github.io/bilibili-api/#/get-credential)."
   ]
  },
  {
   "cell_type": "code",
   "execution_count": null,
   "id": "5255c5af",
   "metadata": {
    "vscode": {
     "languageId": "plaintext"
    }
   },
   "outputs": [],
   "source": [
    "from langchain.document_loaders import BiliBiliLoader\n",
    "from bilibili_api import Credential"
   ]
  },
  {
   "cell_type": "markdown",
   "id": "282e7764",
   "metadata": {},
   "source": [
    "credential = Credential(sessdata=sessdata, bili_jct=bili_jct, ac_time_value=ac_time_value)\n",
    "loader = BiliBiliLoader([\"https://www.bilibili.com/video/BV1xt411o7Xu/\"], credential=credential)"
   ]
  },
  {
   "cell_type": "code",
   "execution_count": null,
   "id": "17688faa",
   "metadata": {
    "vscode": {
     "languageId": "plaintext"
    }
   },
   "outputs": [],
   "source": [
    "loader.load()"
   ]
  }
 ],
 "metadata": {
  "kernelspec": {
   "display_name": "Python 3 (ipykernel)",
   "language": "python",
   "name": "python3"
  },
  "language_info": {
   "codemirror_mode": {
    "name": "ipython",
    "version": 3
   },
   "file_extension": ".py",
   "mimetype": "text/x-python",
   "name": "python",
   "nbconvert_exporter": "python",
   "pygments_lexer": "ipython3",
   "version": "3.10.6"
  }
 },
 "nbformat": 4,
 "nbformat_minor": 5
}
