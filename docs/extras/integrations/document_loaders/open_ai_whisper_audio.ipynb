{
 "cells": [
  {
   "cell_type": "markdown",
   "id": "66a7777e",
   "metadata": {},
   "source": [
    "# OpenAI Whisper Audio Transcriptions Loader\n",
    "This notebook explains how to load transcriptions as document objects from an audio file.\n",
    "\n",
    "Note: You will need to have an `OPENAI_API_KEY` supplied."
   ]
  },
  {
   "cell_type": "code",
   "execution_count": 7,
   "id": "9ec8a3b3",
   "metadata": {},
   "outputs": [],
   "source": [
    "from langchain.document_loaders.open_ai_whisper_audio import OpenAIWhisperLoader"
   ]
  },
  {
   "cell_type": "code",
   "execution_count": null,
   "id": "43128d8d",
   "metadata": {},
   "outputs": [],
   "source": [
    "#!pip install openai pydub"
   ]
  },
  {
   "cell_type": "code",
   "execution_count": 12,
   "id": "35d6809a",
   "metadata": {},
   "outputs": [],
   "source": [
    "loader = OpenAIWhisperLoader(\"example_data/jfk.flac\")"
   ]
  },
  {
   "cell_type": "code",
   "execution_count": 13,
   "id": "efd6be84",
   "metadata": {},
   "outputs": [
    {
     "name": "stdout",
     "output_type": "stream",
     "text": [
      "Transcribing part 1!\n"
     ]
    },
    {
     "data": {
      "text/plain": [
       "[Document(page_content='And so my fellow Americans, ask not what your country can do for you, ask what you can do for your country.', metadata={'source': 'example_data/jfk.flac', 'chunk': 0})]"
      ]
     },
     "execution_count": 13,
     "metadata": {},
     "output_type": "execute_result"
    }
   ],
   "source": [
    "loader.load()"
   ]
  }
 ],
 "metadata": {
  "kernelspec": {
   "display_name": "Python 3 (ipykernel)",
   "language": "python",
   "name": "python3"
  },
  "language_info": {
   "codemirror_mode": {
    "name": "ipython",
    "version": 3
   },
   "file_extension": ".py",
   "mimetype": "text/x-python",
   "name": "python",
   "nbconvert_exporter": "python",
   "pygments_lexer": "ipython3",
   "version": "3.9.17"
  }
 },
 "nbformat": 4,
 "nbformat_minor": 5
}
