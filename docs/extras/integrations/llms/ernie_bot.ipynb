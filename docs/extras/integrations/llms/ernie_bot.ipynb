{
 "cells": [
  {
   "cell_type": "markdown",
   "metadata": {},
   "source": [
    "# ERNIE-Bot\n",
    "\n",
    "[ERNIE-Bot](https://cloud.baidu.com/doc/WENXINWORKSHOP/s/jlil56u11) is a large language model developed by Baidu, covering a huge amount of Chinese data.\n",
    "This notebook covers how to get started with ErnieBot llm models."
   ]
  },
  {
   "cell_type": "code",
   "execution_count": 2,
   "metadata": {},
   "outputs": [
    {
     "name": "stdout",
     "output_type": "stream",
     "text": [
      "您好，您似乎输入了一个问候语，但是这并不是一个明确的问题，所以如果您能提供更具体的信息我将非常感激。\n"
     ]
    }
   ],
   "source": [
    "\"\"\"For basic init and call\"\"\"\n",
    "from langchain.llms import ErnieBot\n",
    "\n",
    "import os\n",
    "\n",
    "os.environ[\"ERNIEBOT_AK\"] = \"your_ak\"\n",
    "os.environ[\"ERNIEBOT_SK\"] = \"your_sk\"\n",
    "\n",
    "llm = ErnieBot(streaming=True)\n",
    "res = llm(\"hi\")\n",
    "print(res)"
   ]
  },
  {
   "cell_type": "code",
   "execution_count": 4,
   "metadata": {},
   "outputs": [
    {
     "data": {
      "text/plain": [
       "LLMResult(generations=[[Generation(text='我是百度公司开发的文心一言，英文名是ERNIE Bot，可以协助您完成范围广泛的任务并提供有关各种主题的信息，比如回答问题，提供定义和解释及建议。如果您有任何问题，请随时向我提问。', generation_info=None)]], llm_output=None, run=[RunInfo(run_id=UUID('602b1b90-fc8f-4fac-956a-f50978538feb'))])"
      ]
     },
     "execution_count": 4,
     "metadata": {},
     "output_type": "execute_result"
    }
   ],
   "source": [
    "llm.generate(prompts=[\"hi, who are you\"])"
   ]
  },
  {
   "cell_type": "code",
   "execution_count": 3,
   "metadata": {},
   "outputs": [
    {
     "name": "stdout",
     "output_type": "stream",
     "text": [
      "generations=[[Generation(text=\"Rivers are the life of the world. They are an important part of the environment, provide water and transportation, and play an irreplaceable role in the world's ecology. It is the basis of the environment and life. At the same time, rivers also represent the symbol of culture, culture and civilization.\", generation_info=None)]] llm_output=None run=[RunInfo(run_id=UUID('fe9a9d39-8235-4f8f-9dfe-c105a94ea2fa'))]\n",
      "A wise old man once\n",
      " said, \"Life is like a box of chocolates, you never know what you're gonna get.\" I think that's a good joke.\n",
      "Mountains are a symbol\n",
      " of nature's beauty, and they also have a profound cultural significance. Mountains provide us with a sense of safety and stability, and they also symbolize the mysterious and profound. In addition, mountains are also an important part of the environment, and\n",
      " they help maintain the balance of the ecosystem. Therefore, we should protect mountains and cherish them.\n"
     ]
    }
   ],
   "source": [
    "\n",
    "\"\"\"Test for llm generate \"\"\"\n",
    "res = llm.generate(prompts=[\"hello?\"])\n",
    "import asyncio\n",
    "\"\"\"Test for llm aio generate\"\"\"\n",
    "async def run_aio_generate():\n",
    "    resp = await llm.agenerate(prompts=[\"Write a 20-word article about rivers.\"])\n",
    "    print(resp)\n",
    "\n",
    "await run_aio_generate()\n",
    "\n",
    "\"\"\"Test for llm stream\"\"\"\n",
    "for res in llm.stream(\"write a joke.\"):\n",
    "    print(res)\n",
    "\n",
    "\"\"\"Test for llm aio stream\"\"\"\n",
    "async def run_aio_stream():\n",
    "    async for res in llm.astream(\"Write a 20-word article about mountains\"):\n",
    "        print(res)\n",
    "\n",
    "await run_aio_stream()\n"
   ]
  }
 ],
 "metadata": {
  "kernelspec": {
   "display_name": "Python 3 (ipykernel)",
   "language": "python",
   "name": "python3"
  },
  "language_info": {
   "codemirror_mode": {
    "name": "ipython",
    "version": 3
   },
   "file_extension": ".py",
   "mimetype": "text/x-python",
   "name": "python",
   "nbconvert_exporter": "python",
   "pygments_lexer": "ipython3",
   "version": "3.11.4"
  },
  "vscode": {
   "interpreter": {
    "hash": "6fa70026b407ae751a5c9e6bd7f7d482379da8ad616f98512780b705c84ee157"
   }
  }
 },
 "nbformat": 4,
 "nbformat_minor": 2
}
