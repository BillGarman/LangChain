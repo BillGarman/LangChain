{
 "cells": [
  {
   "cell_type": "markdown",
   "metadata": {},
   "source": [
    "# BigFrames + LangChain Integration"
   ]
  },
  {
   "cell_type": "markdown",
   "metadata": {},
   "source": [
    "## Overview"
   ]
  },
  {
   "cell_type": "markdown",
   "metadata": {},
   "source": [
    "Use this notebook to walk through example use cases of generating sample code by using BigQuery DataFrames LangChain integration to simplify the development of applications using large language models (LLMs). BigFramesChain supports batching prompts prediction using BigFrames DataFrames. \n",
    "\n",
    "Learn more about [BigQuery DataFrames](https://cloud.google.com/python/docs/reference/bigframes/latest)"
   ]
  },
  {
   "cell_type": "markdown",
   "metadata": {},
   "source": [
    "## Installation"
   ]
  },
  {
   "cell_type": "markdown",
   "metadata": {},
   "source": [
    "Install the following packages, which are required to run this notebook:\n"
   ]
  },
  {
   "cell_type": "code",
   "execution_count": 1,
   "metadata": {},
   "outputs": [],
   "source": [
    "!pip install bigframes --upgrade --quiet\n",
    "!pip install openai --upgrade openai --quiet"
   ]
  },
  {
   "cell_type": "markdown",
   "metadata": {},
   "source": [
    "## Before you begin"
   ]
  },
  {
   "cell_type": "markdown",
   "metadata": {},
   "source": [
    "### Set up your Google Cloud project"
   ]
  },
  {
   "cell_type": "markdown",
   "metadata": {},
   "source": [
    "**Set your project ID**\n",
    "\n",
    "If you don't know your project ID, try the following:\n",
    "\n",
    "- Run ``gcloud config list``.\n",
    "\n",
    "- Run ``gcloud projects list``.\n",
    "\n",
    "See the support page: [Locate the project ID](https://support.google.com/googleapi/answer/7014113)."
   ]
  },
  {
   "cell_type": "code",
   "execution_count": 2,
   "metadata": {},
   "outputs": [
    {
     "name": "stdout",
     "output_type": "stream",
     "text": [
      "Updated property [core/project].\n"
     ]
    }
   ],
   "source": [
    "PROJECT_ID = \"bigframes-dev\"  # @param {type:\"string\"}\n",
    "\n",
    "# Set the project id\n",
    "! gcloud config set project {PROJECT_ID}"
   ]
  },
  {
   "cell_type": "markdown",
   "metadata": {},
   "source": [
    "**Set the region**\n",
    "\n",
    "You can also change the REGION variable used by BigQuery.\n",
    "\n",
    "Learn more about [BigQuery regions](https://cloud.google.com/bigquery/docs/locations#supported_locations)."
   ]
  },
  {
   "cell_type": "code",
   "execution_count": 3,
   "metadata": {},
   "outputs": [],
   "source": [
    "REGION = \"US\"  # @param {type: \"string\"}"
   ]
  },
  {
   "cell_type": "markdown",
   "metadata": {},
   "source": [
    "### Authenticate your Google Cloud account"
   ]
  },
  {
   "cell_type": "markdown",
   "metadata": {},
   "source": [
    "Uncomment and run the following cell:"
   ]
  },
  {
   "cell_type": "code",
   "execution_count": 4,
   "metadata": {},
   "outputs": [],
   "source": [
    "# ! gcloud auth login"
   ]
  },
  {
   "cell_type": "markdown",
   "metadata": {},
   "source": [
    "### Import libraries"
   ]
  },
  {
   "cell_type": "code",
   "execution_count": 5,
   "metadata": {},
   "outputs": [],
   "source": [
    "import bigframes.pandas as bf\n",
    "from typing import List, Dict"
   ]
  },
  {
   "cell_type": "markdown",
   "metadata": {},
   "source": [
    "### Set BigQuery DataFrames options"
   ]
  },
  {
   "cell_type": "code",
   "execution_count": 6,
   "metadata": {},
   "outputs": [],
   "source": [
    "bf.options.bigquery.project = PROJECT_ID\n",
    "bf.options.bigquery.location = REGION"
   ]
  },
  {
   "cell_type": "markdown",
   "metadata": {},
   "source": [
    "If you want to reset the location of the created DataFrame or Series objects, reset the session by executing ``bf.reset_session()``. After that, you can reuse ``bf.options.bigquery.location`` to specify another location."
   ]
  },
  {
   "cell_type": "markdown",
   "metadata": {},
   "source": [
    "## Define the LLM model"
   ]
  },
  {
   "cell_type": "markdown",
   "metadata": {},
   "source": [
    "BigQuery DataFrames provides integration with ``text-bison`` [model of the PaLM API](https://cloud.google.com/vertex-ai/docs/generative-ai/model-reference/text) via Vertex AI.\n",
    "\n",
    "\n",
    "This section walks through a few steps required in order to use the model in your notebook."
   ]
  },
  {
   "cell_type": "markdown",
   "metadata": {},
   "source": [
    "### Create a BigQuery Cloud resource connection"
   ]
  },
  {
   "cell_type": "markdown",
   "metadata": {},
   "source": [
    "You need to create a [Cloud resource connection](https://cloud.google.com/bigquery/docs/create-cloud-resource-connection) to enable BigQuery DataFrames to interact with Vertex AI services."
   ]
  },
  {
   "cell_type": "code",
   "execution_count": 7,
   "metadata": {},
   "outputs": [],
   "source": [
    "CONN_NAME = \"bigframes-ml\""
   ]
  },
  {
   "cell_type": "code",
   "execution_count": 8,
   "metadata": {},
   "outputs": [],
   "source": [
    "session = bf.get_global_session()\n",
    "connection = f\"{PROJECT_ID}.{REGION}.{CONN_NAME}\""
   ]
  },
  {
   "cell_type": "markdown",
   "metadata": {},
   "source": [
    "### Using BigFramesLLM"
   ]
  },
  {
   "cell_type": "markdown",
   "metadata": {},
   "source": [
    "**Case 1: Input is a String**"
   ]
  },
  {
   "cell_type": "code",
   "execution_count": 9,
   "metadata": {},
   "outputs": [
    {
     "name": "stderr",
     "output_type": "stream",
     "text": [
      "[INFO][2023-10-11 21:40:35,289][bigframes.clients] Connector bigframes-dev.US.bigframes-ml already exists\n"
     ]
    },
    {
     "data": {
      "application/vnd.jupyter.widget-view+json": {
       "model_id": "8eadd385fd8b436bad856926b0e92a67",
       "version_major": 2,
       "version_minor": 0
      },
      "text/plain": [
       "HTML(value='Query job 78608b8a-3e7e-4b10-a9f6-2e7a93864720 is RUNNING. <a target=\"_blank\" href=\"https://consol…"
      ]
     },
     "metadata": {},
     "output_type": "display_data"
    },
    {
     "data": {
      "application/vnd.jupyter.widget-view+json": {
       "model_id": "9dbd53dda117406ea4309e67fbdd6eda",
       "version_major": 2,
       "version_minor": 0
      },
      "text/plain": [
       "HTML(value='Query job dfb6f55d-1bc5-47a9-85e4-316a2495ed78 is RUNNING. <a target=\"_blank\" href=\"https://consol…"
      ]
     },
     "metadata": {},
     "output_type": "display_data"
    },
    {
     "data": {
      "application/vnd.jupyter.widget-view+json": {
       "model_id": "ef728259f9d147cd9ad71e48a8ae08b0",
       "version_major": 2,
       "version_minor": 0
      },
      "text/plain": [
       "HTML(value='Query job 0cc2ac68-abd5-428c-a4d9-65251ec2ce0e is RUNNING. <a target=\"_blank\" href=\"https://consol…"
      ]
     },
     "metadata": {},
     "output_type": "display_data"
    },
    {
     "data": {
      "application/vnd.jupyter.widget-view+json": {
       "model_id": "5912d041ebe642f0ac712e2b3eaac02a",
       "version_major": 2,
       "version_minor": 0
      },
      "text/plain": [
       "HTML(value='Query job 6fdc3179-9673-45cc-9329-ffce58248753 is DONE. 8 Bytes processed. <a target=\"_blank\" href…"
      ]
     },
     "metadata": {},
     "output_type": "display_data"
    },
    {
     "data": {
      "application/vnd.jupyter.widget-view+json": {
       "model_id": "0acb39a3801c45ab99897ce0614000de",
       "version_major": 2,
       "version_minor": 0
      },
      "text/plain": [
       "HTML(value='Query job 105598dd-f656-494f-948e-7129f9d1d234 is DONE. 0 Bytes processed. <a target=\"_blank\" href…"
      ]
     },
     "metadata": {},
     "output_type": "display_data"
    },
    {
     "data": {
      "application/vnd.jupyter.widget-view+json": {
       "model_id": "df7c574333494028b7826878e1806acf",
       "version_major": 2,
       "version_minor": 0
      },
      "text/plain": [
       "HTML(value='Query job 2c22a4a9-e33f-4b67-bac9-52ed0e7a6545 is DONE. 41 Bytes processed. <a target=\"_blank\" hre…"
      ]
     },
     "metadata": {},
     "output_type": "display_data"
    },
    {
     "data": {
      "text/html": [
       "<div>\n",
       "<style scoped>\n",
       "    .dataframe tbody tr th:only-of-type {\n",
       "        vertical-align: middle;\n",
       "    }\n",
       "\n",
       "    .dataframe tbody tr th {\n",
       "        vertical-align: top;\n",
       "    }\n",
       "\n",
       "    .dataframe thead th {\n",
       "        text-align: right;\n",
       "    }\n",
       "</style>\n",
       "<table border=\"1\" class=\"dataframe\">\n",
       "  <thead>\n",
       "    <tr style=\"text-align: right;\">\n",
       "      <th></th>\n",
       "      <th>ml_generate_text_llm_result</th>\n",
       "    </tr>\n",
       "  </thead>\n",
       "  <tbody>\n",
       "    <tr>\n",
       "      <th>0</th>\n",
       "      <td>The capital of France is Paris</td>\n",
       "    </tr>\n",
       "  </tbody>\n",
       "</table>\n",
       "<p>1 rows × 1 columns</p>\n",
       "</div>[1 rows x 1 columns in total]"
      ],
      "text/plain": [
       "       ml_generate_text_llm_result\n",
       "0   The capital of France is Paris\n",
       "\n",
       "[1 rows x 1 columns]"
      ]
     },
     "execution_count": 9,
     "metadata": {},
     "output_type": "execute_result"
    }
   ],
   "source": [
    "from bigframesllm import BigFramesLLM\n",
    "\n",
    "llm = BigFramesLLM(session=session, \n",
    "                  connection=connection,\n",
    "                  model=\"PaLM2TextGenerator\",\n",
    "                  max_new_tokens=128,\n",
    "                  top_k=10,\n",
    "                  top_p=0.95,\n",
    "                  temperature=0.8,\n",
    ")\n",
    "\n",
    "# The output is a BigFrames DataFrames\n",
    "llm(\"What is the capital of France ?\")"
   ]
  },
  {
   "cell_type": "markdown",
   "metadata": {},
   "source": [
    "**Case 2: Input is BigFrames DataFrames**"
   ]
  },
  {
   "cell_type": "code",
   "execution_count": 10,
   "metadata": {},
   "outputs": [
    {
     "data": {
      "application/vnd.jupyter.widget-view+json": {
       "model_id": "36a35ad8d5dd4d64a5cd25719f8a8afd",
       "version_major": 2,
       "version_minor": 0
      },
      "text/plain": [
       "HTML(value='Query job 9dfca381-7421-4e28-ab09-36f717da0859 is RUNNING. <a target=\"_blank\" href=\"https://consol…"
      ]
     },
     "metadata": {},
     "output_type": "display_data"
    },
    {
     "data": {
      "application/vnd.jupyter.widget-view+json": {
       "model_id": "ae24e7f6e9fe4cc89ab39f57780e6494",
       "version_major": 2,
       "version_minor": 0
      },
      "text/plain": [
       "HTML(value='Query job 7987f8cf-0725-40aa-989a-6e2729b98abd is RUNNING. <a target=\"_blank\" href=\"https://consol…"
      ]
     },
     "metadata": {},
     "output_type": "display_data"
    },
    {
     "data": {
      "application/vnd.jupyter.widget-view+json": {
       "model_id": "55b820fd8f0842d781ea38877269d25a",
       "version_major": 2,
       "version_minor": 0
      },
      "text/plain": [
       "HTML(value='Query job 49b8cfed-15bd-4c51-af02-5e176945fde6 is DONE. 24 Bytes processed. <a target=\"_blank\" hre…"
      ]
     },
     "metadata": {},
     "output_type": "display_data"
    },
    {
     "data": {
      "application/vnd.jupyter.widget-view+json": {
       "model_id": "728c9c7d19d84240ab30b828b0e0e1ab",
       "version_major": 2,
       "version_minor": 0
      },
      "text/plain": [
       "HTML(value='Query job 69ed8fd7-4c17-478c-a254-09a5ac271c08 is DONE. 0 Bytes processed. <a target=\"_blank\" href…"
      ]
     },
     "metadata": {},
     "output_type": "display_data"
    },
    {
     "data": {
      "application/vnd.jupyter.widget-view+json": {
       "model_id": "c51a85d4b1044690beb9326617a5f458",
       "version_major": 2,
       "version_minor": 0
      },
      "text/plain": [
       "HTML(value='Query job a2402d32-7c26-4154-8262-cb86573b4dd9 is DONE. 1.3 kB processed. <a target=\"_blank\" href=…"
      ]
     },
     "metadata": {},
     "output_type": "display_data"
    },
    {
     "data": {
      "text/html": [
       "<div>\n",
       "<style scoped>\n",
       "    .dataframe tbody tr th:only-of-type {\n",
       "        vertical-align: middle;\n",
       "    }\n",
       "\n",
       "    .dataframe tbody tr th {\n",
       "        vertical-align: top;\n",
       "    }\n",
       "\n",
       "    .dataframe thead th {\n",
       "        text-align: right;\n",
       "    }\n",
       "</style>\n",
       "<table border=\"1\" class=\"dataframe\">\n",
       "  <thead>\n",
       "    <tr style=\"text-align: right;\">\n",
       "      <th></th>\n",
       "      <th>ml_generate_text_llm_result</th>\n",
       "    </tr>\n",
       "  </thead>\n",
       "  <tbody>\n",
       "    <tr>\n",
       "      <th>0</th>\n",
       "      <td>BigQuery is Google's fully managed, petabyte-...</td>\n",
       "    </tr>\n",
       "    <tr>\n",
       "      <th>1</th>\n",
       "      <td>BigQuery ML (BQML) is a fully managed end-to-...</td>\n",
       "    </tr>\n",
       "    <tr>\n",
       "      <th>2</th>\n",
       "      <td>BigQuery DataFrame is a Python object that pr...</td>\n",
       "    </tr>\n",
       "  </tbody>\n",
       "</table>\n",
       "<p>3 rows × 1 columns</p>\n",
       "</div>[3 rows x 1 columns in total]"
      ],
      "text/plain": [
       "                         ml_generate_text_llm_result\n",
       "0   BigQuery is Google's fully managed, petabyte-...\n",
       "1   BigQuery ML (BQML) is a fully managed end-to-...\n",
       "2   BigQuery DataFrame is a Python object that pr...\n",
       "\n",
       "[3 rows x 1 columns]"
      ]
     },
     "execution_count": 10,
     "metadata": {},
     "output_type": "execute_result"
    }
   ],
   "source": [
    "# The input is a BigFrames DataFrames\n",
    "df = bf.DataFrame(\n",
    "        {\n",
    "            \"prompt\": [\n",
    "                \"What is BigQuery?\",\n",
    "                \"What is BQML?\",\n",
    "                \"What is BigQuery DataFrame?\",\n",
    "            ],\n",
    "        }\n",
    "    )\n",
    "\n",
    "# The output is a BigFrames DataFrames\n",
    "llm(df)"
   ]
  },
  {
   "cell_type": "markdown",
   "metadata": {},
   "source": [
    "### Integrate the model in a BigFramesChain"
   ]
  },
  {
   "cell_type": "markdown",
   "metadata": {},
   "source": [
    "**Case 1: Single Prompt**\n",
    "\n",
    "- String as input\n",
    "- BigFrames DataFrames as ouput"
   ]
  },
  {
   "cell_type": "code",
   "execution_count": 11,
   "metadata": {},
   "outputs": [
    {
     "name": "stderr",
     "output_type": "stream",
     "text": [
      "[INFO][2023-10-11 21:41:06,172][bigframes.clients] Connector bigframes-dev.US.bigframes-ml already exists\n"
     ]
    },
    {
     "data": {
      "application/vnd.jupyter.widget-view+json": {
       "model_id": "76176a45106140eb8b5aa1713f2fd43c",
       "version_major": 2,
       "version_minor": 0
      },
      "text/plain": [
       "HTML(value='Query job 89cd628f-2e1c-43f1-866b-a810e61bb118 is RUNNING. <a target=\"_blank\" href=\"https://consol…"
      ]
     },
     "metadata": {},
     "output_type": "display_data"
    },
    {
     "data": {
      "application/vnd.jupyter.widget-view+json": {
       "model_id": "67e0bad70f5a4fcb9aa97f768f19628b",
       "version_major": 2,
       "version_minor": 0
      },
      "text/plain": [
       "HTML(value='Query job 7c8764bf-f796-419d-ac47-499b4e7bf25d is RUNNING. <a target=\"_blank\" href=\"https://consol…"
      ]
     },
     "metadata": {},
     "output_type": "display_data"
    },
    {
     "data": {
      "application/vnd.jupyter.widget-view+json": {
       "model_id": "d061d3b694384fcb8c28708e1460db69",
       "version_major": 2,
       "version_minor": 0
      },
      "text/plain": [
       "HTML(value='Query job cbeeeec9-f705-4967-a239-e86ffab8f61d is RUNNING. <a target=\"_blank\" href=\"https://consol…"
      ]
     },
     "metadata": {},
     "output_type": "display_data"
    },
    {
     "data": {
      "application/vnd.jupyter.widget-view+json": {
       "model_id": "08942d48913347f68d1cbb074abc48a9",
       "version_major": 2,
       "version_minor": 0
      },
      "text/plain": [
       "HTML(value='Query job 087d09d4-f836-4257-b87e-c3c7ae54d92c is DONE. 8 Bytes processed. <a target=\"_blank\" href…"
      ]
     },
     "metadata": {},
     "output_type": "display_data"
    },
    {
     "data": {
      "application/vnd.jupyter.widget-view+json": {
       "model_id": "bd0720b0b9c347b49024ed68a5c944af",
       "version_major": 2,
       "version_minor": 0
      },
      "text/plain": [
       "HTML(value='Query job 2fcf4bdc-f267-4b18-b8e2-4e686fab704f is DONE. 0 Bytes processed. <a target=\"_blank\" href…"
      ]
     },
     "metadata": {},
     "output_type": "display_data"
    },
    {
     "data": {
      "application/vnd.jupyter.widget-view+json": {
       "model_id": "f2e078317739473b8d9add468adeda61",
       "version_major": 2,
       "version_minor": 0
      },
      "text/plain": [
       "HTML(value='Query job ff687ccc-1aca-4231-a060-2478b64663d1 is DONE. 205 Bytes processed. <a target=\"_blank\" hr…"
      ]
     },
     "metadata": {},
     "output_type": "display_data"
    },
    {
     "data": {
      "text/html": [
       "<div>\n",
       "<style scoped>\n",
       "    .dataframe tbody tr th:only-of-type {\n",
       "        vertical-align: middle;\n",
       "    }\n",
       "\n",
       "    .dataframe tbody tr th {\n",
       "        vertical-align: top;\n",
       "    }\n",
       "\n",
       "    .dataframe thead th {\n",
       "        text-align: right;\n",
       "    }\n",
       "</style>\n",
       "<table border=\"1\" class=\"dataframe\">\n",
       "  <thead>\n",
       "    <tr style=\"text-align: right;\">\n",
       "      <th></th>\n",
       "      <th>ml_generate_text_llm_result</th>\n",
       "    </tr>\n",
       "  </thead>\n",
       "  <tbody>\n",
       "    <tr>\n",
       "      <th>0</th>\n",
       "      <td>BigFrames is a Python package designed specif...</td>\n",
       "    </tr>\n",
       "  </tbody>\n",
       "</table>\n",
       "<p>1 rows × 1 columns</p>\n",
       "</div>[1 rows x 1 columns in total]"
      ],
      "text/plain": [
       "                         ml_generate_text_llm_result\n",
       "0   BigFrames is a Python package designed specif...\n",
       "\n",
       "[1 rows x 1 columns]"
      ]
     },
     "execution_count": 11,
     "metadata": {},
     "output_type": "execute_result"
    }
   ],
   "source": [
    "from langchain.prompts import PromptTemplate\n",
    "from bigframesllm import BigFramesLLM\n",
    "from bigframeschain import BigFramesChain\n",
    "\n",
    "llm = BigFramesLLM(session=session, \n",
    "                  connection=connection,\n",
    "                  model=\"PaLM2TextGenerator\",\n",
    "                  max_new_tokens=128,\n",
    "                  top_k=10,\n",
    "                  top_p=0.95,\n",
    "                  temperature=0.8,\n",
    ")\n",
    "\n",
    "template = \"\"\"Question: {question}\n",
    "Answer: Let's think step by step.\"\"\"\n",
    "\n",
    "prompt = PromptTemplate(template=template, input_variables=[\"question\"])\n",
    "llm_chain = BigFramesChain(prompt=prompt, llm=llm)\n",
    "\n",
    "# answer is a BigFrames DataFrame\n",
    "answer = llm_chain.run(\"What is BigFrames?\")\n",
    "answer"
   ]
  },
  {
   "cell_type": "markdown",
   "metadata": {},
   "source": [
    "**Case 2: Batch Prompts**\n",
    "\n",
    "- BigFrames DataFrames as input\n",
    "- BigFrames DataFrames as ouput"
   ]
  },
  {
   "cell_type": "code",
   "execution_count": 12,
   "metadata": {},
   "outputs": [
    {
     "name": "stderr",
     "output_type": "stream",
     "text": [
      "[INFO][2023-10-11 21:41:22,659][bigframes.clients] Connector bigframes-dev.US.bigframes-ml already exists\n"
     ]
    },
    {
     "data": {
      "application/vnd.jupyter.widget-view+json": {
       "model_id": "b89b05651b364d79a0a302f483a955bf",
       "version_major": 2,
       "version_minor": 0
      },
      "text/plain": [
       "HTML(value='Query job 1d7660e2-5b47-4739-bac5-c9cbcb49494c is RUNNING. <a target=\"_blank\" href=\"https://consol…"
      ]
     },
     "metadata": {},
     "output_type": "display_data"
    }
   ],
   "source": [
    "from langchain.prompts import PromptTemplate\n",
    "from bigframesllm import BigFramesLLM\n",
    "from bigframeschain import BigFramesChain\n",
    "\n",
    "llm = BigFramesLLM(session=session, \n",
    "                  connection=connection,\n",
    "                  model=\"PaLM2TextGenerator\",\n",
    "                  max_new_tokens=128,\n",
    "                  top_k=10,\n",
    "                  top_p=0.95,\n",
    "                  temperature=0.8,\n",
    ")\n",
    "\n",
    "template = \"\"\"Generate Pandas sample code for DataFrame.{api_name}\"\"\"\n",
    "\n",
    "prompt = PromptTemplate(template=template, input_variables=[\"api_name\"])"
   ]
  },
  {
   "cell_type": "markdown",
   "metadata": {},
   "source": [
    "**Read data frpm GCS bucket**"
   ]
  },
  {
   "cell_type": "code",
   "execution_count": 13,
   "metadata": {},
   "outputs": [
    {
     "data": {
      "application/vnd.jupyter.widget-view+json": {
       "model_id": "607c44a558294f9c950e2e2ac615b0bb",
       "version_major": 2,
       "version_minor": 0
      },
      "text/plain": [
       "HTML(value='Load job f6050b00-2a26-4bf9-8aa8-13cef188848a is RUNNING. <a target=\"_blank\" href=\"https://console…"
      ]
     },
     "metadata": {},
     "output_type": "display_data"
    },
    {
     "data": {
      "application/vnd.jupyter.widget-view+json": {
       "model_id": "7c03ef2bfaee41c4b036176ddc1d1d29",
       "version_major": 2,
       "version_minor": 0
      },
      "text/plain": [
       "HTML(value='Query job f2ef12d0-f6a0-4922-9727-aa52af813dad is DONE. 584 Bytes processed. <a target=\"_blank\" hr…"
      ]
     },
     "metadata": {},
     "output_type": "display_data"
    },
    {
     "data": {
      "application/vnd.jupyter.widget-view+json": {
       "model_id": "17b09d7333ac485c95289b6a31a4115c",
       "version_major": 2,
       "version_minor": 0
      },
      "text/plain": [
       "HTML(value='Query job 2b64585f-b393-4a7f-8745-0a81adfa86b9 is DONE. 1.7 kB processed. <a target=\"_blank\" href=…"
      ]
     },
     "metadata": {},
     "output_type": "display_data"
    },
    {
     "data": {
      "text/html": [
       "<div>\n",
       "<style scoped>\n",
       "    .dataframe tbody tr th:only-of-type {\n",
       "        vertical-align: middle;\n",
       "    }\n",
       "\n",
       "    .dataframe tbody tr th {\n",
       "        vertical-align: top;\n",
       "    }\n",
       "\n",
       "    .dataframe thead th {\n",
       "        text-align: right;\n",
       "    }\n",
       "</style>\n",
       "<table border=\"1\" class=\"dataframe\">\n",
       "  <thead>\n",
       "    <tr style=\"text-align: right;\">\n",
       "      <th></th>\n",
       "      <th>API</th>\n",
       "    </tr>\n",
       "  </thead>\n",
       "  <tbody>\n",
       "    <tr>\n",
       "      <th>0</th>\n",
       "      <td>values</td>\n",
       "    </tr>\n",
       "    <tr>\n",
       "      <th>1</th>\n",
       "      <td>dtypes</td>\n",
       "    </tr>\n",
       "    <tr>\n",
       "      <th>2</th>\n",
       "      <td>ndim</td>\n",
       "    </tr>\n",
       "    <tr>\n",
       "      <th>3</th>\n",
       "      <td>shape</td>\n",
       "    </tr>\n",
       "  </tbody>\n",
       "</table>\n",
       "<p>4 rows × 1 columns</p>\n",
       "</div>[4 rows x 1 columns in total]"
      ],
      "text/plain": [
       "      API\n",
       "0  values\n",
       "1  dtypes\n",
       "2    ndim\n",
       "3   shape\n",
       "\n",
       "[4 rows x 1 columns]"
      ]
     },
     "execution_count": 13,
     "metadata": {},
     "output_type": "execute_result"
    }
   ],
   "source": [
    "## read input from GCS\n",
    "df_api = bf.read_csv(\"gs://cloud-samples-data/vertex-ai/bigframe/df.csv\")\n",
    "\n",
    "df_api.head(4)"
   ]
  },
  {
   "cell_type": "code",
   "execution_count": 14,
   "metadata": {},
   "outputs": [],
   "source": [
    "llm_chain = BigFramesChain(prompt=prompt, llm=llm)"
   ]
  },
  {
   "cell_type": "code",
   "execution_count": 15,
   "metadata": {},
   "outputs": [
    {
     "data": {
      "application/vnd.jupyter.widget-view+json": {
       "model_id": "8a3ab4da23114f72b5d72302e1e9a6e3",
       "version_major": 2,
       "version_minor": 0
      },
      "text/plain": [
       "HTML(value='Query job 2765f546-cdf5-40fa-82dd-9292e8a62813 is RUNNING. <a target=\"_blank\" href=\"https://consol…"
      ]
     },
     "metadata": {},
     "output_type": "display_data"
    },
    {
     "data": {
      "application/vnd.jupyter.widget-view+json": {
       "model_id": "62278994131e48c6bd99ab6528b6d32c",
       "version_major": 2,
       "version_minor": 0
      },
      "text/plain": [
       "HTML(value='Query job dbe90784-03ab-47ed-8b23-345a0dbaa55a is RUNNING. <a target=\"_blank\" href=\"https://consol…"
      ]
     },
     "metadata": {},
     "output_type": "display_data"
    },
    {
     "data": {
      "application/vnd.jupyter.widget-view+json": {
       "model_id": "d4638a23395d4717a0a3c1f702c92823",
       "version_major": 2,
       "version_minor": 0
      },
      "text/plain": [
       "HTML(value='Query job da60cfae-040f-4b5b-9370-38a5bb34e083 is DONE. 584 Bytes processed. <a target=\"_blank\" hr…"
      ]
     },
     "metadata": {},
     "output_type": "display_data"
    }
   ],
   "source": [
    "# answer is a BigFrames DataFrame\n",
    "answer = llm_chain.run(df_api[\"API\"])"
   ]
  },
  {
   "cell_type": "code",
   "execution_count": 16,
   "metadata": {},
   "outputs": [
    {
     "data": {
      "application/vnd.jupyter.widget-view+json": {
       "model_id": "41daafdc60d64ef78f90c63a573eaab8",
       "version_major": 2,
       "version_minor": 0
      },
      "text/plain": [
       "HTML(value='Query job 383d47c9-1cd5-4478-840b-315229179d25 is DONE. 0 Bytes processed. <a target=\"_blank\" href…"
      ]
     },
     "metadata": {},
     "output_type": "display_data"
    },
    {
     "data": {
      "application/vnd.jupyter.widget-view+json": {
       "model_id": "a4e921d1402d45f78db9c78782120e6e",
       "version_major": 2,
       "version_minor": 0
      },
      "text/plain": [
       "HTML(value='Query job 750069a7-e8d5-4a84-8658-375433629fe5 is DONE. 21.8 kB processed. <a target=\"_blank\" href…"
      ]
     },
     "metadata": {},
     "output_type": "display_data"
    },
    {
     "data": {
      "text/html": [
       "<div>\n",
       "<style scoped>\n",
       "    .dataframe tbody tr th:only-of-type {\n",
       "        vertical-align: middle;\n",
       "    }\n",
       "\n",
       "    .dataframe tbody tr th {\n",
       "        vertical-align: top;\n",
       "    }\n",
       "\n",
       "    .dataframe thead th {\n",
       "        text-align: right;\n",
       "    }\n",
       "</style>\n",
       "<table border=\"1\" class=\"dataframe\">\n",
       "  <thead>\n",
       "    <tr style=\"text-align: right;\">\n",
       "      <th></th>\n",
       "      <th>ml_generate_text_llm_result</th>\n",
       "    </tr>\n",
       "  </thead>\n",
       "  <tbody>\n",
       "    <tr>\n",
       "      <th>0</th>\n",
       "      <td>```python\n",
       "import pandas as pd\n",
       "\n",
       "# Create a Dat...</td>\n",
       "    </tr>\n",
       "    <tr>\n",
       "      <th>1</th>\n",
       "      <td>```python\n",
       "import pandas as pd\n",
       "\n",
       "# Create a Dat...</td>\n",
       "    </tr>\n",
       "    <tr>\n",
       "      <th>2</th>\n",
       "      <td>```python\n",
       "import pandas as pd\n",
       "\n",
       "# Create a Dat...</td>\n",
       "    </tr>\n",
       "    <tr>\n",
       "      <th>3</th>\n",
       "      <td>```python\n",
       "import pandas as pd\n",
       "\n",
       "# Create a Dat...</td>\n",
       "    </tr>\n",
       "    <tr>\n",
       "      <th>4</th>\n",
       "      <td>```python\n",
       "import pandas as pd\n",
       "\n",
       "# Create a Dat...</td>\n",
       "    </tr>\n",
       "    <tr>\n",
       "      <th>5</th>\n",
       "      <td>```python\n",
       "import pandas as pd\n",
       "\n",
       "# Create a Dat...</td>\n",
       "    </tr>\n",
       "    <tr>\n",
       "      <th>6</th>\n",
       "      <td>```python\n",
       "import pandas as pd\n",
       "\n",
       "# Create a Dat...</td>\n",
       "    </tr>\n",
       "    <tr>\n",
       "      <th>7</th>\n",
       "      <td>```python\n",
       "import pandas as pd\n",
       "\n",
       "# Create a Dat...</td>\n",
       "    </tr>\n",
       "    <tr>\n",
       "      <th>8</th>\n",
       "      <td>```python\n",
       "import pandas as pd\n",
       "\n",
       "# Create a Dat...</td>\n",
       "    </tr>\n",
       "    <tr>\n",
       "      <th>9</th>\n",
       "      <td>```python\n",
       "import pandas as pd\n",
       "\n",
       "# Create a Dat...</td>\n",
       "    </tr>\n",
       "    <tr>\n",
       "      <th>10</th>\n",
       "      <td>```python\n",
       "import pandas as pd\n",
       "\n",
       "# Create a Dat...</td>\n",
       "    </tr>\n",
       "    <tr>\n",
       "      <th>11</th>\n",
       "      <td>```python\n",
       "import pandas as pd\n",
       "\n",
       "# Create a Dat...</td>\n",
       "    </tr>\n",
       "    <tr>\n",
       "      <th>12</th>\n",
       "      <td>```python\n",
       "import pandas as pd\n",
       "\n",
       "# Create a Dat...</td>\n",
       "    </tr>\n",
       "    <tr>\n",
       "      <th>13</th>\n",
       "      <td>```python\n",
       "import pandas as pd\n",
       "\n",
       "# Create a Dat...</td>\n",
       "    </tr>\n",
       "    <tr>\n",
       "      <th>14</th>\n",
       "      <td>```python\n",
       "import pandas as pd\n",
       "\n",
       "# Create a Dat...</td>\n",
       "    </tr>\n",
       "    <tr>\n",
       "      <th>15</th>\n",
       "      <td>```python\n",
       "import pandas as pd\n",
       "\n",
       "# Create a Dat...</td>\n",
       "    </tr>\n",
       "    <tr>\n",
       "      <th>16</th>\n",
       "      <td>```python\n",
       "import pandas as pd\n",
       "\n",
       "# Create a Dat...</td>\n",
       "    </tr>\n",
       "    <tr>\n",
       "      <th>17</th>\n",
       "      <td>```python\n",
       "import pandas as pd\n",
       "\n",
       "# Create a Dat...</td>\n",
       "    </tr>\n",
       "    <tr>\n",
       "      <th>18</th>\n",
       "      <td>```python\n",
       "import pandas as pd\n",
       "\n",
       "# Create a Dat...</td>\n",
       "    </tr>\n",
       "    <tr>\n",
       "      <th>19</th>\n",
       "      <td>```python\n",
       "import pandas as pd\n",
       "\n",
       "# Create a Dat...</td>\n",
       "    </tr>\n",
       "    <tr>\n",
       "      <th>20</th>\n",
       "      <td>```python\n",
       "import pandas as pd\n",
       "\n",
       "# Create a Dat...</td>\n",
       "    </tr>\n",
       "    <tr>\n",
       "      <th>21</th>\n",
       "      <td>```python\n",
       "import pandas as pd\n",
       "\n",
       "# Create a Dat...</td>\n",
       "    </tr>\n",
       "    <tr>\n",
       "      <th>22</th>\n",
       "      <td>```python\n",
       "import pandas as pd\n",
       "\n",
       "# Create a Dat...</td>\n",
       "    </tr>\n",
       "    <tr>\n",
       "      <th>23</th>\n",
       "      <td>```python\n",
       "import pandas as pd\n",
       "import numpy as...</td>\n",
       "    </tr>\n",
       "    <tr>\n",
       "      <th>24</th>\n",
       "      <td>```python\n",
       "import pandas as pd\n",
       "\n",
       "# Create a Dat...</td>\n",
       "    </tr>\n",
       "  </tbody>\n",
       "</table>\n",
       "<p>25 rows × 1 columns</p>\n",
       "</div>[73 rows x 1 columns in total]"
      ],
      "text/plain": [
       "                          ml_generate_text_llm_result\n",
       "0    ```python\n",
       "import pandas as pd\n",
       "\n",
       "# Create a Dat...\n",
       "1    ```python\n",
       "import pandas as pd\n",
       "\n",
       "# Create a Dat...\n",
       "2    ```python\n",
       "import pandas as pd\n",
       "\n",
       "# Create a Dat...\n",
       "3    ```python\n",
       "import pandas as pd\n",
       "\n",
       "# Create a Dat...\n",
       "4    ```python\n",
       "import pandas as pd\n",
       "\n",
       "# Create a Dat...\n",
       "5    ```python\n",
       "import pandas as pd\n",
       "\n",
       "# Create a Dat...\n",
       "6    ```python\n",
       "import pandas as pd\n",
       "\n",
       "# Create a Dat...\n",
       "7    ```python\n",
       "import pandas as pd\n",
       "\n",
       "# Create a Dat...\n",
       "8    ```python\n",
       "import pandas as pd\n",
       "\n",
       "# Create a Dat...\n",
       "9    ```python\n",
       "import pandas as pd\n",
       "\n",
       "# Create a Dat...\n",
       "10   ```python\n",
       "import pandas as pd\n",
       "\n",
       "# Create a Dat...\n",
       "11   ```python\n",
       "import pandas as pd\n",
       "\n",
       "# Create a Dat...\n",
       "12   ```python\n",
       "import pandas as pd\n",
       "\n",
       "# Create a Dat...\n",
       "13   ```python\n",
       "import pandas as pd\n",
       "\n",
       "# Create a Dat...\n",
       "14   ```python\n",
       "import pandas as pd\n",
       "\n",
       "# Create a Dat...\n",
       "15   ```python\n",
       "import pandas as pd\n",
       "\n",
       "# Create a Dat...\n",
       "16   ```python\n",
       "import pandas as pd\n",
       "\n",
       "# Create a Dat...\n",
       "17   ```python\n",
       "import pandas as pd\n",
       "\n",
       "# Create a Dat...\n",
       "18   ```python\n",
       "import pandas as pd\n",
       "\n",
       "# Create a Dat...\n",
       "19   ```python\n",
       "import pandas as pd\n",
       "\n",
       "# Create a Dat...\n",
       "20   ```python\n",
       "import pandas as pd\n",
       "\n",
       "# Create a Dat...\n",
       "21   ```python\n",
       "import pandas as pd\n",
       "\n",
       "# Create a Dat...\n",
       "22   ```python\n",
       "import pandas as pd\n",
       "\n",
       "# Create a Dat...\n",
       "23   ```python\n",
       "import pandas as pd\n",
       "import numpy as...\n",
       "24   ```python\n",
       "import pandas as pd\n",
       "\n",
       "# Create a Dat...\n",
       "\n",
       "[73 rows x 1 columns]"
      ]
     },
     "execution_count": 16,
     "metadata": {},
     "output_type": "execute_result"
    }
   ],
   "source": [
    "answer"
   ]
  },
  {
   "cell_type": "code",
   "execution_count": 17,
   "metadata": {},
   "outputs": [
    {
     "data": {
      "application/vnd.jupyter.widget-view+json": {
       "model_id": "797870ba102d410cbac565648b5d917a",
       "version_major": 2,
       "version_minor": 0
      },
      "text/plain": [
       "HTML(value='Query job bdf37d69-36aa-401a-a21b-6a5add6f1b86 is DONE. 21.8 kB processed. <a target=\"_blank\" href…"
      ]
     },
     "metadata": {},
     "output_type": "display_data"
    },
    {
     "name": "stdout",
     "output_type": "stream",
     "text": [
      " ```python\n",
      "import pandas as pd\n",
      "\n",
      "# Create a DataFrame\n",
      "df = pd.DataFrame({'A': [1, 2, 3], 'B': [4, 5, 6]})\n",
      "\n",
      "# Get the values as a NumPy array\n",
      "values = df.values\n",
      "\n",
      "# Print the values\n",
      "print(values)\n",
      "\n",
      "# Output:\n",
      "# [[1 4]\n",
      "#  [2 5]\n",
      "#  [3 6]]\n",
      "```\n"
     ]
    }
   ],
   "source": [
    "# Visualize the result\n",
    "print(answer[\"ml_generate_text_llm_result\"][0])"
   ]
  },
  {
   "cell_type": "markdown",
   "metadata": {},
   "source": [
    "## Performance Comparison"
   ]
  },
  {
   "cell_type": "markdown",
   "metadata": {},
   "source": [
    "### Compare with OpenAI"
   ]
  },
  {
   "cell_type": "code",
   "execution_count": 18,
   "metadata": {},
   "outputs": [],
   "source": [
    "# prepare the 300 rows DataFrame\n",
    "df_api_100 = bf.concat([ df_api, df_api, df_api, df_api, df_api])\n",
    "df_api_300 = bf.concat([df_api_100, df_api_100]).sample(300).reset_index()"
   ]
  },
  {
   "cell_type": "code",
   "execution_count": 19,
   "metadata": {},
   "outputs": [
    {
     "data": {
      "application/vnd.jupyter.widget-view+json": {
       "model_id": "5b41c2b68e50402593df292cc16c7424",
       "version_major": 2,
       "version_minor": 0
      },
      "text/plain": [
       "HTML(value='Query job 503511b7-dee7-4eac-9771-04be0ee3dd6c is DONE. 584 Bytes processed. <a target=\"_blank\" hr…"
      ]
     },
     "metadata": {},
     "output_type": "display_data"
    },
    {
     "data": {
      "text/plain": [
       "(300, 2)"
      ]
     },
     "execution_count": 19,
     "metadata": {},
     "output_type": "execute_result"
    }
   ],
   "source": [
    "df_api_300.shape"
   ]
  },
  {
   "cell_type": "code",
   "execution_count": 20,
   "metadata": {},
   "outputs": [],
   "source": [
    "llm_chain = BigFramesChain(prompt=prompt, llm=llm)"
   ]
  },
  {
   "cell_type": "code",
   "execution_count": 21,
   "metadata": {},
   "outputs": [
    {
     "data": {
      "application/vnd.jupyter.widget-view+json": {
       "model_id": "30c4c5fee09b4d3fbd0ed594fb9aaadd",
       "version_major": 2,
       "version_minor": 0
      },
      "text/plain": [
       "HTML(value='Query job c5d7ca3e-a625-48e1-8786-4234caf090da is DONE. 584 Bytes processed. <a target=\"_blank\" hr…"
      ]
     },
     "metadata": {},
     "output_type": "display_data"
    },
    {
     "data": {
      "application/vnd.jupyter.widget-view+json": {
       "model_id": "066c5ec11a5a4e4981a6f293c78e185d",
       "version_major": 2,
       "version_minor": 0
      },
      "text/plain": [
       "HTML(value='Query job af5f1a75-87d7-4079-9820-2ba0d8568da7 is DONE. 1.7 kB processed. <a target=\"_blank\" href=…"
      ]
     },
     "metadata": {},
     "output_type": "display_data"
    },
    {
     "data": {
      "text/html": [
       "<div>\n",
       "<style scoped>\n",
       "    .dataframe tbody tr th:only-of-type {\n",
       "        vertical-align: middle;\n",
       "    }\n",
       "\n",
       "    .dataframe tbody tr th {\n",
       "        vertical-align: top;\n",
       "    }\n",
       "\n",
       "    .dataframe thead th {\n",
       "        text-align: right;\n",
       "    }\n",
       "</style>\n",
       "<table border=\"1\" class=\"dataframe\">\n",
       "  <thead>\n",
       "    <tr style=\"text-align: right;\">\n",
       "      <th></th>\n",
       "      <th>API</th>\n",
       "    </tr>\n",
       "  </thead>\n",
       "  <tbody>\n",
       "    <tr>\n",
       "      <th>0</th>\n",
       "      <td>values</td>\n",
       "    </tr>\n",
       "    <tr>\n",
       "      <th>1</th>\n",
       "      <td>dtypes</td>\n",
       "    </tr>\n",
       "    <tr>\n",
       "      <th>2</th>\n",
       "      <td>ndim</td>\n",
       "    </tr>\n",
       "    <tr>\n",
       "      <th>3</th>\n",
       "      <td>shape</td>\n",
       "    </tr>\n",
       "    <tr>\n",
       "      <th>4</th>\n",
       "      <td>size</td>\n",
       "    </tr>\n",
       "  </tbody>\n",
       "</table>\n",
       "<p>5 rows × 1 columns</p>\n",
       "</div>[5 rows x 1 columns in total]"
      ],
      "text/plain": [
       "      API\n",
       "0  values\n",
       "1  dtypes\n",
       "2    ndim\n",
       "3   shape\n",
       "4    size\n",
       "\n",
       "[5 rows x 1 columns]"
      ]
     },
     "execution_count": 21,
     "metadata": {},
     "output_type": "execute_result"
    }
   ],
   "source": [
    "df_api.head(5)"
   ]
  },
  {
   "cell_type": "markdown",
   "metadata": {},
   "source": [
    "### Batch prompts using BigFramesLLM"
   ]
  },
  {
   "cell_type": "code",
   "execution_count": 22,
   "metadata": {},
   "outputs": [
    {
     "data": {
      "application/vnd.jupyter.widget-view+json": {
       "model_id": "6a4c163a7fa9434faec8d47254bd49b9",
       "version_major": 2,
       "version_minor": 0
      },
      "text/plain": [
       "HTML(value='Query job 56e3b2f1-4e72-4d22-9a1e-b738b1d1e89a is RUNNING. <a target=\"_blank\" href=\"https://consol…"
      ]
     },
     "metadata": {},
     "output_type": "display_data"
    },
    {
     "data": {
      "application/vnd.jupyter.widget-view+json": {
       "model_id": "46ade9625cb04829b8ea9cab03092734",
       "version_major": 2,
       "version_minor": 0
      },
      "text/plain": [
       "HTML(value='Query job 15edfb5f-8ac7-4db6-9f58-e2bd173c952a is RUNNING. <a target=\"_blank\" href=\"https://consol…"
      ]
     },
     "metadata": {},
     "output_type": "display_data"
    },
    {
     "data": {
      "application/vnd.jupyter.widget-view+json": {
       "model_id": "a57c42f8e7b84ba5a14cc4b53b08b91b",
       "version_major": 2,
       "version_minor": 0
      },
      "text/plain": [
       "HTML(value='Query job 4a218648-b782-4634-8de7-24f2599f9ff6 is RUNNING. <a target=\"_blank\" href=\"https://consol…"
      ]
     },
     "metadata": {},
     "output_type": "display_data"
    }
   ],
   "source": [
    "# answer is a BigFrames DataFrame\n",
    "answer = llm_chain.run(df_api_300[\"API\"])"
   ]
  },
  {
   "cell_type": "code",
   "execution_count": 23,
   "metadata": {},
   "outputs": [
    {
     "data": {
      "application/vnd.jupyter.widget-view+json": {
       "model_id": "37a7816cd2074add812b8ed41d31156d",
       "version_major": 2,
       "version_minor": 0
      },
      "text/plain": [
       "HTML(value='Query job c7c79bd3-5936-45bb-ad80-995ef98755c5 is DONE. 0 Bytes processed. <a target=\"_blank\" href…"
      ]
     },
     "metadata": {},
     "output_type": "display_data"
    },
    {
     "data": {
      "application/vnd.jupyter.widget-view+json": {
       "model_id": "c368bae557f84255b2f02b45e39cd836",
       "version_major": 2,
       "version_minor": 0
      },
      "text/plain": [
       "HTML(value='Query job 760c58cc-0354-4c0e-bcb7-5c3cfafdae65 is RUNNING. <a target=\"_blank\" href=\"https://consol…"
      ]
     },
     "metadata": {},
     "output_type": "display_data"
    },
    {
     "data": {
      "text/html": [
       "<div>\n",
       "<style scoped>\n",
       "    .dataframe tbody tr th:only-of-type {\n",
       "        vertical-align: middle;\n",
       "    }\n",
       "\n",
       "    .dataframe tbody tr th {\n",
       "        vertical-align: top;\n",
       "    }\n",
       "\n",
       "    .dataframe thead th {\n",
       "        text-align: right;\n",
       "    }\n",
       "</style>\n",
       "<table border=\"1\" class=\"dataframe\">\n",
       "  <thead>\n",
       "    <tr style=\"text-align: right;\">\n",
       "      <th></th>\n",
       "      <th>ml_generate_text_llm_result</th>\n",
       "    </tr>\n",
       "  </thead>\n",
       "  <tbody>\n",
       "    <tr>\n",
       "      <th>0</th>\n",
       "      <td>```python\n",
       "import pandas as pd\n",
       "\n",
       "# Create a Dat...</td>\n",
       "    </tr>\n",
       "    <tr>\n",
       "      <th>1</th>\n",
       "      <td>```python\n",
       "import pandas as pd\n",
       "\n",
       "# Create a Dat...</td>\n",
       "    </tr>\n",
       "    <tr>\n",
       "      <th>2</th>\n",
       "      <td>```python\n",
       "import pandas as pd\n",
       "\n",
       "# Create a Dat...</td>\n",
       "    </tr>\n",
       "    <tr>\n",
       "      <th>3</th>\n",
       "      <td>```python\n",
       "import pandas as pd\n",
       "import numpy as...</td>\n",
       "    </tr>\n",
       "    <tr>\n",
       "      <th>4</th>\n",
       "      <td>```python\n",
       "import pandas as pd\n",
       "\n",
       "# Create a Dat...</td>\n",
       "    </tr>\n",
       "    <tr>\n",
       "      <th>5</th>\n",
       "      <td>```python\n",
       "import pandas as pd\n",
       "\n",
       "# Create two D...</td>\n",
       "    </tr>\n",
       "    <tr>\n",
       "      <th>6</th>\n",
       "      <td>```python\n",
       "import pandas as pd\n",
       "\n",
       "# Create a Dat...</td>\n",
       "    </tr>\n",
       "    <tr>\n",
       "      <th>7</th>\n",
       "      <td>```python\n",
       "import pandas as pd\n",
       "\n",
       "# Create a Dat...</td>\n",
       "    </tr>\n",
       "    <tr>\n",
       "      <th>8</th>\n",
       "      <td>```python\n",
       "import pandas as pd\n",
       "import numpy as...</td>\n",
       "    </tr>\n",
       "    <tr>\n",
       "      <th>9</th>\n",
       "      <td>```python\n",
       "import pandas as pd\n",
       "\n",
       "# Create two D...</td>\n",
       "    </tr>\n",
       "    <tr>\n",
       "      <th>10</th>\n",
       "      <td>```python\n",
       "import pandas as pd\n",
       "\n",
       "# Create a Dat...</td>\n",
       "    </tr>\n",
       "    <tr>\n",
       "      <th>11</th>\n",
       "      <td>```python\n",
       "import pandas as pd\n",
       "\n",
       "# Create a Dat...</td>\n",
       "    </tr>\n",
       "    <tr>\n",
       "      <th>12</th>\n",
       "      <td>```python\n",
       "import pandas as pd\n",
       "import numpy as...</td>\n",
       "    </tr>\n",
       "    <tr>\n",
       "      <th>13</th>\n",
       "      <td>```python\n",
       "import pandas as pd\n",
       "\n",
       "# Create a Dat...</td>\n",
       "    </tr>\n",
       "    <tr>\n",
       "      <th>14</th>\n",
       "      <td>```python\n",
       "import pandas as pd\n",
       "\n",
       "# Create a Dat...</td>\n",
       "    </tr>\n",
       "    <tr>\n",
       "      <th>15</th>\n",
       "      <td>```python\n",
       "import pandas as pd\n",
       "\n",
       "# Create a Dat...</td>\n",
       "    </tr>\n",
       "    <tr>\n",
       "      <th>16</th>\n",
       "      <td>```python\n",
       "import pandas as pd\n",
       "\n",
       "# Create a Dat...</td>\n",
       "    </tr>\n",
       "    <tr>\n",
       "      <th>17</th>\n",
       "      <td>```python\n",
       "import pandas as pd\n",
       "\n",
       "# Create a Dat...</td>\n",
       "    </tr>\n",
       "    <tr>\n",
       "      <th>18</th>\n",
       "      <td>```python\n",
       "import pandas as pd\n",
       "\n",
       "# Create a Dat...</td>\n",
       "    </tr>\n",
       "    <tr>\n",
       "      <th>19</th>\n",
       "      <td>```python\n",
       "import pandas as pd\n",
       "\n",
       "# Create a Dat...</td>\n",
       "    </tr>\n",
       "    <tr>\n",
       "      <th>20</th>\n",
       "      <td>```python\n",
       "import pandas as pd\n",
       "\n",
       "# Create a Dat...</td>\n",
       "    </tr>\n",
       "    <tr>\n",
       "      <th>21</th>\n",
       "      <td>```python\n",
       "import pandas as pd\n",
       "import numpy as...</td>\n",
       "    </tr>\n",
       "    <tr>\n",
       "      <th>22</th>\n",
       "      <td>```python\n",
       "import pandas as pd\n",
       "\n",
       "# Create a Dat...</td>\n",
       "    </tr>\n",
       "    <tr>\n",
       "      <th>23</th>\n",
       "      <td>```python\n",
       "import pandas as pd\n",
       "\n",
       "# Create a Dat...</td>\n",
       "    </tr>\n",
       "    <tr>\n",
       "      <th>24</th>\n",
       "      <td>```python\n",
       "import pandas as pd\n",
       "\n",
       "# Create a Dat...</td>\n",
       "    </tr>\n",
       "  </tbody>\n",
       "</table>\n",
       "<p>25 rows × 1 columns</p>\n",
       "</div>[300 rows x 1 columns in total]"
      ],
      "text/plain": [
       "                          ml_generate_text_llm_result\n",
       "0    ```python\n",
       "import pandas as pd\n",
       "\n",
       "# Create a Dat...\n",
       "1    ```python\n",
       "import pandas as pd\n",
       "\n",
       "# Create a Dat...\n",
       "2    ```python\n",
       "import pandas as pd\n",
       "\n",
       "# Create a Dat...\n",
       "3    ```python\n",
       "import pandas as pd\n",
       "import numpy as...\n",
       "4    ```python\n",
       "import pandas as pd\n",
       "\n",
       "# Create a Dat...\n",
       "5    ```python\n",
       "import pandas as pd\n",
       "\n",
       "# Create two D...\n",
       "6    ```python\n",
       "import pandas as pd\n",
       "\n",
       "# Create a Dat...\n",
       "7    ```python\n",
       "import pandas as pd\n",
       "\n",
       "# Create a Dat...\n",
       "8    ```python\n",
       "import pandas as pd\n",
       "import numpy as...\n",
       "9    ```python\n",
       "import pandas as pd\n",
       "\n",
       "# Create two D...\n",
       "10   ```python\n",
       "import pandas as pd\n",
       "\n",
       "# Create a Dat...\n",
       "11   ```python\n",
       "import pandas as pd\n",
       "\n",
       "# Create a Dat...\n",
       "12   ```python\n",
       "import pandas as pd\n",
       "import numpy as...\n",
       "13   ```python\n",
       "import pandas as pd\n",
       "\n",
       "# Create a Dat...\n",
       "14   ```python\n",
       "import pandas as pd\n",
       "\n",
       "# Create a Dat...\n",
       "15   ```python\n",
       "import pandas as pd\n",
       "\n",
       "# Create a Dat...\n",
       "16   ```python\n",
       "import pandas as pd\n",
       "\n",
       "# Create a Dat...\n",
       "17   ```python\n",
       "import pandas as pd\n",
       "\n",
       "# Create a Dat...\n",
       "18   ```python\n",
       "import pandas as pd\n",
       "\n",
       "# Create a Dat...\n",
       "19   ```python\n",
       "import pandas as pd\n",
       "\n",
       "# Create a Dat...\n",
       "20   ```python\n",
       "import pandas as pd\n",
       "\n",
       "# Create a Dat...\n",
       "21   ```python\n",
       "import pandas as pd\n",
       "import numpy as...\n",
       "22   ```python\n",
       "import pandas as pd\n",
       "\n",
       "# Create a Dat...\n",
       "23   ```python\n",
       "import pandas as pd\n",
       "\n",
       "# Create a Dat...\n",
       "24   ```python\n",
       "import pandas as pd\n",
       "\n",
       "# Create a Dat...\n",
       "...\n",
       "\n",
       "[300 rows x 1 columns]"
      ]
     },
     "execution_count": 23,
     "metadata": {},
     "output_type": "execute_result"
    }
   ],
   "source": [
    "answer"
   ]
  },
  {
   "cell_type": "markdown",
   "metadata": {},
   "source": [
    "## Agent"
   ]
  },
  {
   "cell_type": "markdown",
   "metadata": {},
   "source": [
    "Intsall the required library"
   ]
  },
  {
   "cell_type": "code",
   "execution_count": null,
   "metadata": {},
   "outputs": [],
   "source": [
    "!pip install numexpr --quiet"
   ]
  },
  {
   "cell_type": "code",
   "execution_count": 24,
   "metadata": {},
   "outputs": [
    {
     "name": "stderr",
     "output_type": "stream",
     "text": [
      "[INFO][2023-10-11 21:42:41,670][bigframes.clients] Connector bigframes-dev.US.bigframes-ml already exists\n"
     ]
    },
    {
     "data": {
      "application/vnd.jupyter.widget-view+json": {
       "model_id": "1d12eb4f2d0d4cf5b591bf37c3721986",
       "version_major": 2,
       "version_minor": 0
      },
      "text/plain": [
       "HTML(value='Query job 7e3e1b74-c808-49ba-9929-fc3fa31e5dbb is RUNNING. <a target=\"_blank\" href=\"https://consol…"
      ]
     },
     "metadata": {},
     "output_type": "display_data"
    }
   ],
   "source": [
    "from langchain.agents import load_tools\n",
    "from langchain.agents import initialize_agent\n",
    "from langchain.agents import AgentType\n",
    "\n",
    "\n",
    "llm = BigFramesLLM(session=session, \n",
    "                  connection=connection,\n",
    "                  model=\"PaLM2TextGenerator\",\n",
    "                  max_new_tokens=128,\n",
    "                  top_k=10,\n",
    "                  top_p=0.95,\n",
    "                  temperature=0.8,\n",
    ")\n",
    "\n",
    "tools = load_tools([\"llm-math\"], llm=llm)"
   ]
  },
  {
   "cell_type": "code",
   "execution_count": 27,
   "metadata": {},
   "outputs": [
    {
     "name": "stdout",
     "output_type": "stream",
     "text": [
      "llm_chain=LLMChain(prompt=PromptTemplate(input_variables=['input', 'agent_scratchpad'], template='Answer the following questions as best you can. You have access to the following tools:\\n\\nCalculator: Useful for when you need to answer questions about math.\\n\\nUse the following format:\\n\\nQuestion: the input question you must answer\\nThought: you should always think about what to do\\nAction: the action to take, should be one of [Calculator]\\nAction Input: the input to the action\\nObservation: the result of the action\\n... (this Thought/Action/Action Input/Observation can repeat N times)\\nThought: I now know the final answer\\nFinal Answer: the final answer to the original input question\\n\\nBegin!\\n\\nQuestion: {input}\\nThought:{agent_scratchpad}'), llm=BigFramesLLM(session=<bigframes.session.Session object at 0x7fc8c6ee2f50>, connection='bigframes-dev.US.bigframes-ml', temperature=0.8, top_k=10, client=PaLM2TextGenerator(connection_name='bigframes-dev.US.bigframes-ml',\n",
      "                   session=<bigframes.session.Session object at 0x7fc8c6ee2f50>))) output_parser=MRKLOutputParser() allowed_tools=['Calculator']\n",
      "{'memory': None, 'callbacks': None, 'callback_manager': None, 'verbose': True, 'tags': ['zero-shot-react-description'], 'metadata': None, 'tools': [Tool(name='Calculator', description='Useful for when you need to answer questions about math.', func=<bound method Chain.run of LLMMathChain(llm_chain=LLMChain(prompt=PromptTemplate(input_variables=['question'], template='Translate a math problem into a expression that can be executed using Python\\'s numexpr library. Use the output of running this code to answer the question.\\n\\nQuestion: ${{Question with math problem.}}\\n```text\\n${{single line mathematical expression that solves the problem}}\\n```\\n...numexpr.evaluate(text)...\\n```output\\n${{Output of running the code}}\\n```\\nAnswer: ${{Answer}}\\n\\nBegin.\\n\\nQuestion: What is 37593 * 67?\\n```text\\n37593 * 67\\n```\\n...numexpr.evaluate(\"37593 * 67\")...\\n```output\\n2518731\\n```\\nAnswer: 2518731\\n\\nQuestion: 37593^(1/5)\\n```text\\n37593**(1/5)\\n```\\n...numexpr.evaluate(\"37593**(1/5)\")...\\n```output\\n8.222831614237718\\n```\\nAnswer: 8.222831614237718\\n\\nQuestion: {question}\\n'), llm=BigFramesLLM(session=<bigframes.session.Session object at 0x7fc8c6ee2f50>, connection='bigframes-dev.US.bigframes-ml', temperature=0.8, top_k=10, client=PaLM2TextGenerator(connection_name='bigframes-dev.US.bigframes-ml',\n",
      "                   session=<bigframes.session.Session object at 0x7fc8c6ee2f50>))))>, coroutine=<bound method Chain.arun of LLMMathChain(llm_chain=LLMChain(prompt=PromptTemplate(input_variables=['question'], template='Translate a math problem into a expression that can be executed using Python\\'s numexpr library. Use the output of running this code to answer the question.\\n\\nQuestion: ${{Question with math problem.}}\\n```text\\n${{single line mathematical expression that solves the problem}}\\n```\\n...numexpr.evaluate(text)...\\n```output\\n${{Output of running the code}}\\n```\\nAnswer: ${{Answer}}\\n\\nBegin.\\n\\nQuestion: What is 37593 * 67?\\n```text\\n37593 * 67\\n```\\n...numexpr.evaluate(\"37593 * 67\")...\\n```output\\n2518731\\n```\\nAnswer: 2518731\\n\\nQuestion: 37593^(1/5)\\n```text\\n37593**(1/5)\\n```\\n...numexpr.evaluate(\"37593**(1/5)\")...\\n```output\\n8.222831614237718\\n```\\nAnswer: 8.222831614237718\\n\\nQuestion: {question}\\n'), llm=BigFramesLLM(session=<bigframes.session.Session object at 0x7fc8c6ee2f50>, connection='bigframes-dev.US.bigframes-ml', temperature=0.8, top_k=10, client=PaLM2TextGenerator(connection_name='bigframes-dev.US.bigframes-ml',\n",
      "                   session=<bigframes.session.Session object at 0x7fc8c6ee2f50>))))>)], 'return_intermediate_steps': False, 'max_iterations': 15, 'max_execution_time': None, 'early_stopping_method': 'force', 'handle_parsing_errors': False, 'trim_intermediate_steps': -1}\n"
     ]
    },
    {
     "ename": "KeyError",
     "evalue": "'agent'",
     "output_type": "error",
     "traceback": [
      "\u001b[0;31m---------------------------------------------------------------------------\u001b[0m",
      "\u001b[0;31mKeyError\u001b[0m                                  Traceback (most recent call last)",
      "\u001b[1;32m/workspaces/langchain/libs/langchain/langchain/llms/bigframesllm.ipynb Cell 56\u001b[0m line \u001b[0;36m1\n\u001b[0;32m----> <a href='vscode-notebook-cell://codespaces%2Bjubilant-space-robot-97965qr94jxwcx6p4/workspaces/langchain/libs/langchain/langchain/llms/bigframesllm.ipynb#Y112sdnNjb2RlLXJlbW90ZQ%3D%3D?line=0'>1</a>\u001b[0m agent_executor \u001b[39m=\u001b[39m initialize_agent(tools, llm, agent\u001b[39m=\u001b[39;49mAgentType\u001b[39m.\u001b[39;49mZERO_SHOT_REACT_DESCRIPTION, verbose\u001b[39m=\u001b[39;49m\u001b[39mTrue\u001b[39;49;00m)\n\u001b[1;32m      <a href='vscode-notebook-cell://codespaces%2Bjubilant-space-robot-97965qr94jxwcx6p4/workspaces/langchain/libs/langchain/langchain/llms/bigframesllm.ipynb#Y112sdnNjb2RlLXJlbW90ZQ%3D%3D?line=1'>2</a>\u001b[0m agent_executor\u001b[39m.\u001b[39mrun(\u001b[39m\"\u001b[39m\u001b[39mMy father is 20 years old than me. I am 30 years old. How old is my father?\u001b[39m\u001b[39m\"\u001b[39m)\n",
      "File \u001b[0;32m/workspaces/langchain/libs/langchain/langchain/llms/initialize.py:75\u001b[0m, in \u001b[0;36minitialize_agent\u001b[0;34m(tools, llm, agent, callback_manager, agent_path, agent_kwargs, tags, **kwargs)\u001b[0m\n\u001b[1;32m     70\u001b[0m     \u001b[39mraise\u001b[39;00m \u001b[39mValueError\u001b[39;00m(\n\u001b[1;32m     71\u001b[0m         \u001b[39m\"\u001b[39m\u001b[39mSomehow both `agent` and `agent_path` are None, \u001b[39m\u001b[39m\"\u001b[39m\n\u001b[1;32m     72\u001b[0m         \u001b[39m\"\u001b[39m\u001b[39mthis should never happen.\u001b[39m\u001b[39m\"\u001b[39m\n\u001b[1;32m     73\u001b[0m     )\n\u001b[1;32m     74\u001b[0m \u001b[39mprint\u001b[39m(agent_obj)\n\u001b[0;32m---> 75\u001b[0m \u001b[39mreturn\u001b[39;00m AgentExecutor\u001b[39m.\u001b[39;49mfrom_agent_and_tools(\n\u001b[1;32m     76\u001b[0m     agent\u001b[39m=\u001b[39;49magent_obj,\n\u001b[1;32m     77\u001b[0m     tools\u001b[39m=\u001b[39;49mtools,\n\u001b[1;32m     78\u001b[0m     callback_manager\u001b[39m=\u001b[39;49mcallback_manager,\n\u001b[1;32m     79\u001b[0m     tags\u001b[39m=\u001b[39;49mtags_,\n\u001b[1;32m     80\u001b[0m     \u001b[39m*\u001b[39;49m\u001b[39m*\u001b[39;49mkwargs,\n\u001b[1;32m     81\u001b[0m )\n",
      "File \u001b[0;32m/workspaces/langchain/libs/langchain/langchain/llms/agent.py:772\u001b[0m, in \u001b[0;36mAgentExecutor.from_agent_and_tools\u001b[0;34m(cls, agent, tools, callbacks, **kwargs)\u001b[0m\n\u001b[1;32m    763\u001b[0m \u001b[39m@classmethod\u001b[39m\n\u001b[1;32m    764\u001b[0m \u001b[39mdef\u001b[39;00m \u001b[39mfrom_agent_and_tools\u001b[39m(\n\u001b[1;32m    765\u001b[0m     \u001b[39mcls\u001b[39m,\n\u001b[0;32m   (...)\u001b[0m\n\u001b[1;32m    769\u001b[0m     \u001b[39m*\u001b[39m\u001b[39m*\u001b[39mkwargs: Any,\n\u001b[1;32m    770\u001b[0m ) \u001b[39m-\u001b[39m\u001b[39m>\u001b[39m AgentExecutor:\n\u001b[1;32m    771\u001b[0m \u001b[39m    \u001b[39m\u001b[39m\"\"\"Create from agent and tools.\"\"\"\u001b[39;00m\n\u001b[0;32m--> 772\u001b[0m     \u001b[39mreturn\u001b[39;00m \u001b[39mcls\u001b[39;49m(\n\u001b[1;32m    773\u001b[0m         agent\u001b[39m=\u001b[39;49magent,\n\u001b[1;32m    774\u001b[0m         tools\u001b[39m=\u001b[39;49mtools,\n\u001b[1;32m    775\u001b[0m         callbacks\u001b[39m=\u001b[39;49mcallbacks,\n\u001b[1;32m    776\u001b[0m         \u001b[39m*\u001b[39;49m\u001b[39m*\u001b[39;49mkwargs,\n\u001b[1;32m    777\u001b[0m     )\n",
      "File \u001b[0;32m~/langchain-py-env/lib/python3.11/site-packages/langchain/load/serializable.py:90\u001b[0m, in \u001b[0;36mSerializable.__init__\u001b[0;34m(self, **kwargs)\u001b[0m\n\u001b[1;32m     89\u001b[0m \u001b[39mdef\u001b[39;00m \u001b[39m__init__\u001b[39m(\u001b[39mself\u001b[39m, \u001b[39m*\u001b[39m\u001b[39m*\u001b[39mkwargs: Any) \u001b[39m-\u001b[39m\u001b[39m>\u001b[39m \u001b[39mNone\u001b[39;00m:\n\u001b[0;32m---> 90\u001b[0m     \u001b[39msuper\u001b[39;49m()\u001b[39m.\u001b[39;49m\u001b[39m__init__\u001b[39;49m(\u001b[39m*\u001b[39;49m\u001b[39m*\u001b[39;49mkwargs)\n\u001b[1;32m     91\u001b[0m     \u001b[39mself\u001b[39m\u001b[39m.\u001b[39m_lc_kwargs \u001b[39m=\u001b[39m kwargs\n",
      "File \u001b[0;32m~/langchain-py-env/lib/python3.11/site-packages/pydantic/main.py:339\u001b[0m, in \u001b[0;36mpydantic.main.BaseModel.__init__\u001b[0;34m()\u001b[0m\n",
      "File \u001b[0;32m~/langchain-py-env/lib/python3.11/site-packages/pydantic/main.py:1102\u001b[0m, in \u001b[0;36mpydantic.main.validate_model\u001b[0;34m()\u001b[0m\n",
      "File \u001b[0;32m/workspaces/langchain/libs/langchain/langchain/llms/agent.py:798\u001b[0m, in \u001b[0;36mAgentExecutor.validate_return_direct_tool\u001b[0;34m(cls, values)\u001b[0m\n\u001b[1;32m    795\u001b[0m \u001b[39m@root_validator\u001b[39m()\n\u001b[1;32m    796\u001b[0m \u001b[39mdef\u001b[39;00m \u001b[39mvalidate_return_direct_tool\u001b[39m(\u001b[39mcls\u001b[39m, values: Dict) \u001b[39m-\u001b[39m\u001b[39m>\u001b[39m Dict:\n\u001b[1;32m    797\u001b[0m \u001b[39m    \u001b[39m\u001b[39m\"\"\"Validate that tools are compatible with agent.\"\"\"\u001b[39;00m\n\u001b[0;32m--> 798\u001b[0m     agent \u001b[39m=\u001b[39m values[\u001b[39m\"\u001b[39;49m\u001b[39magent\u001b[39;49m\u001b[39m\"\u001b[39;49m]\n\u001b[1;32m    799\u001b[0m     tools \u001b[39m=\u001b[39m values[\u001b[39m\"\u001b[39m\u001b[39mtools\u001b[39m\u001b[39m\"\u001b[39m]\n\u001b[1;32m    800\u001b[0m     \u001b[39mif\u001b[39;00m \u001b[39misinstance\u001b[39m(agent, BaseMultiActionAgent):\n",
      "\u001b[0;31mKeyError\u001b[0m: 'agent'"
     ]
    }
   ],
   "source": [
    "agent_executor = initialize_agent(tools, llm, agent=AgentType.ZERO_SHOT_REACT_DESCRIPTION, verbose=True)\n",
    "agent_executor.run(\"My father is 20 years old than me. I am 30 years old. How old is my father?\")"
   ]
  }
 ],
 "metadata": {
  "kernelspec": {
   "display_name": "Python 3 (ipykernel)",
   "language": "python",
   "name": "python3"
  },
  "language_info": {
   "codemirror_mode": {
    "name": "ipython",
    "version": 3
   },
   "file_extension": ".py",
   "mimetype": "text/x-python",
   "name": "python",
   "nbconvert_exporter": "python",
   "pygments_lexer": "ipython3",
   "version": "3.11.4"
  },
  "orig_nbformat": 4
 },
 "nbformat": 4,
 "nbformat_minor": 2
}
