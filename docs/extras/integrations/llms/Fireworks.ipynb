{
 "cells": [
  {
   "cell_type": "markdown",
   "id": "cc6caafa",
   "metadata": {},
   "source": [
    "# Fireworks\n",
    "\n",
    ">[Fireworks](https://www.fireworks.ai/) is an AI startup focused on accelerating product development on generative AI by creating an innovative AI experiment and production platform. \n",
    "\n",
    "This example goes over how to use LangChain to interact with `Fireworks` models."
   ]
  },
  {
   "cell_type": "code",
   "execution_count": 1,
   "id": "60b6dbb2",
   "metadata": {},
   "outputs": [
    {
     "name": "stderr",
     "output_type": "stream",
     "text": [
      "/Users/rajjanardhan/anaconda3/lib/python3.10/site-packages/deeplake/util/check_latest_version.py:32: UserWarning: A newer version of deeplake (3.6.14) is available. It's recommended that you update to the latest version using `pip install -U deeplake`.\n",
      "  warnings.warn(\n"
     ]
    }
   ],
   "source": [
    "from langchain.llms.fireworks import Fireworks, FireworksChat\n",
    "from langchain import PromptTemplate, LLMChain\n",
    "import os"
   ]
  },
  {
   "cell_type": "markdown",
   "id": "9206f5a0",
   "metadata": {},
   "source": [
    "# Input\n",
    "Create a prompt template to be used with the LLM Chain:"
   ]
  },
  {
   "cell_type": "code",
   "execution_count": 2,
   "id": "083d3099",
   "metadata": {},
   "outputs": [],
   "source": [
    "template = \"\"\"Question: {question}\n",
    "\n",
    "Answer: Let's think step by step.\"\"\"\n",
    "\n",
    "prompt = PromptTemplate(template=template, input_variables=[\"question\"])"
   ]
  },
  {
   "cell_type": "markdown",
   "id": "ccff689e",
   "metadata": {},
   "source": [
    "# Setup\n",
    "\n",
    "Contact Fireworks AI for the an API Key to access our models\n",
    "\n",
    "Set up your model using a model id. If the model is not set, the default model is fireworks-llama-v2-13b-chat."
   ]
  },
  {
   "cell_type": "code",
   "execution_count": 4,
   "id": "9ca87a2e",
   "metadata": {},
   "outputs": [],
   "source": [
    "# Initialize a Fireworks LLM\n",
    "os.environ['FIREWORKS_API_KEY'] = \"\" #change this to your own API KEY\n",
    "llm = Fireworks(model_id=\"fireworks-llama-v2-13b-chat\")"
   ]
  },
  {
   "cell_type": "code",
   "execution_count": 5,
   "id": "43a11ba8",
   "metadata": {},
   "outputs": [],
   "source": [
    "# Create LLM chain\n",
    "llm_chain = LLMChain(prompt=prompt, llm=llm)"
   ]
  },
  {
   "cell_type": "markdown",
   "id": "137662a6",
   "metadata": {},
   "source": [
    "# Run Chain"
   ]
  },
  {
   "cell_type": "code",
   "execution_count": 7,
   "id": "fd2c6bc1",
   "metadata": {},
   "outputs": [
    {
     "data": {
      "text/plain": [
       "\" Hello! I'm here to help answer your questions safely and helpfully. Super Bowl 49 was played between the New England Patriots and the Seattle Seahawks, and the Patriots won the game with a score of 28-24. So, the team that the Patriots beat in that Super Bowl was the Seahawks. I hope that helps! Let me know if you have any other questions.\""
      ]
     },
     "execution_count": 7,
     "metadata": {},
     "output_type": "execute_result"
    }
   ],
   "source": [
    "question = \"Which team did the New England Patriots beat in Super Bowl 49?\"\n",
    "llm(question)"
   ]
  },
  {
   "cell_type": "markdown",
   "id": "4b9672ae",
   "metadata": {},
   "source": [
    "# Summarization Chain\n",
    "\n",
    "Here is an example of using a Fireworks model within a summarization chain."
   ]
  },
  {
   "cell_type": "code",
   "execution_count": 8,
   "id": "9bed0bd0",
   "metadata": {},
   "outputs": [],
   "source": [
    "from langchain import PromptTemplate, LLMChain\n",
    "from langchain.text_splitter import CharacterTextSplitter\n",
    "from langchain.chains.mapreduce import MapReduceChain\n",
    "from langchain.prompts import PromptTemplate\n",
    "\n",
    "llm = Fireworks(temperature=0)\n",
    "\n",
    "text_splitter = CharacterTextSplitter()"
   ]
  },
  {
   "cell_type": "code",
   "execution_count": null,
   "id": "d16ee1ea",
   "metadata": {},
   "outputs": [],
   "source": [
    "with open(\"../../../../state_of_the_union.txt\") as f:\n",
    "    state_of_the_union = f.read()\n",
    "texts = text_splitter.split_text(state_of_the_union)"
   ]
  },
  {
   "cell_type": "code",
   "execution_count": 8,
   "id": "d9499db6",
   "metadata": {},
   "outputs": [],
   "source": [
    "from langchain.docstore.document import Document\n",
    "\n",
    "docs = [Document(page_content=t) for t in texts[:3]]"
   ]
  },
  {
   "cell_type": "code",
   "execution_count": 9,
   "id": "6701fe20",
   "metadata": {},
   "outputs": [
    {
     "data": {
      "text/plain": [
       "\" The speaker is addressing the American people and Congress, emphasizing the importance of standing together against Russian aggression in Ukraine. The US and its allies have taken economic sanctions and efforts to bring justice to Russian leaders, including yacht and luxury apartment seizures. The US is providing military, economic, and humanitarian assistance to Ukraine, and defending NATO allies in Europe. The President reflects on the country's resilience in facing the pandemic and economic challenges, highlighting the American Rescue Plan and Bipartisan Infrastructure Law as efforts to provide economic relief and create jobs. The President emphasizes the unity of the free world in support of Ukraine and the choice between democracy and autocracy.\""
      ]
     },
     "execution_count": 9,
     "metadata": {},
     "output_type": "execute_result"
    }
   ],
   "source": [
    "from langchain.chains.summarize import load_summarize_chain\n",
    "\n",
    "chain = load_summarize_chain(llm, chain_type=\"map_reduce\")\n",
    "chain.run(docs)"
   ]
  }
 ],
 "metadata": {
  "kernelspec": {
   "display_name": "Python 3 (ipykernel)",
   "language": "python",
   "name": "python3"
  },
  "language_info": {
   "codemirror_mode": {
    "name": "ipython",
    "version": 3
   },
   "file_extension": ".py",
   "mimetype": "text/x-python",
   "name": "python",
   "nbconvert_exporter": "python",
   "pygments_lexer": "ipython3",
   "version": "3.10.9"
  }
 },
 "nbformat": 4,
 "nbformat_minor": 5
}