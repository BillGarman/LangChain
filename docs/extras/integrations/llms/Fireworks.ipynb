{
 "cells": [
  {
   "cell_type": "markdown",
   "id": "cc6caafa",
   "metadata": {},
   "source": [
    "# Fireworks\n",
    "\n",
    ">[Fireworks](https://www.fireworks.ai/) is an AI startup focused on accelerating product development on generative AI by creating an innovative AI experiment and production platform. \n",
    "\n",
    "This example goes over how to use LangChain to interact with `Fireworks` models."
   ]
  },
  {
   "cell_type": "code",
   "execution_count": 1,
   "id": "60b6dbb2",
   "metadata": {},
   "outputs": [
    {
     "name": "stderr",
     "output_type": "stream",
     "text": [
      "/Users/rajjanardhan/anaconda3/lib/python3.10/site-packages/deeplake/util/check_latest_version.py:32: UserWarning: A newer version of deeplake (3.6.14) is available. It's recommended that you update to the latest version using `pip install -U deeplake`.\n",
      "  warnings.warn(\n"
     ]
    }
   ],
   "source": [
    "from langchain.llms.fireworks import Fireworks, FireworksChat\n",
    "from langchain import PromptTemplate, LLMChain\n",
    "import os"
   ]
  },
  {
   "cell_type": "markdown",
   "id": "9206f5a0",
   "metadata": {},
   "source": [
    "# Input\n",
    "Create a prompt template to be used with the LLM Chain:"
   ]
  },
  {
   "cell_type": "code",
   "execution_count": 2,
   "id": "083d3099",
   "metadata": {},
   "outputs": [],
   "source": [
    "template = \"\"\"Question: {question}\n",
    "\n",
    "Answer: Let's think step by step.\"\"\"\n",
    "\n",
    "prompt = PromptTemplate(template=template, input_variables=[\"question\"])"
   ]
  },
  {
   "cell_type": "markdown",
   "id": "ccff689e",
   "metadata": {},
   "source": [
    "# Setup\n",
    "\n",
    "Contact Fireworks AI for the an API Key to access our models\n",
    "\n",
    "Set up your model using a model id. If the model is not set, the default model is fireworks-llama-v2-13b-chat."
   ]
  },
  {
   "cell_type": "code",
   "execution_count": 3,
   "id": "9ca87a2e",
   "metadata": {},
   "outputs": [],
   "source": [
    "# Initialize a Fireworks LLM\n",
    "os.environ['FIREWORKS_API_KEY'] = \"\" #change this to your own API KEY\n",
    "llm = Fireworks(model_id=\"fireworks-llama-v2-13b-chat\")"
   ]
  },
  {
   "cell_type": "code",
   "execution_count": 4,
   "id": "43a11ba8",
   "metadata": {},
   "outputs": [],
   "source": [
    "# Create LLM chain\n",
    "llm_chain = LLMChain(prompt=prompt, llm=llm)"
   ]
  },
  {
   "cell_type": "markdown",
   "id": "137662a6",
   "metadata": {},
   "source": [
    "# Run Chain"
   ]
  },
  {
   "cell_type": "code",
   "execution_count": 8,
   "id": "fd2c6bc1",
   "metadata": {},
   "outputs": [
    {
     "name": "stdout",
     "output_type": "stream",
     "text": [
      "Here are three sports that are generally considered to be the most popular in the world, based on factors such as viewership, participation, and global reach:\n",
      "\n",
      "1. Soccer (or Football): Soccer is widely considered to be the most popular sport in the world, with an estimated 3.5 billion fans worldwide. It is played in over 200 countries and is the national sport of many countries. The FIFA World Cup, held every four years, is the most widely viewed sporting event in the world.\n",
      "2. Cricket: Cricket is the second most popular sport in the world, with an estimated 2.5 billion fans. It is particularly popular in India, Pakistan, Australia, England, and the West Indies. The ICC World Cup, held every four years, is one of the most watched sporting events in the world.\n",
      "3. Basketball: Basketball is one of the most popular sports in the world, with an estimated 2 billion fans. It is played in over 200 countries and is particularly popular in the United States, China, the Philippines, and Europe. The NBA (National Basketball Association) is the most popular professional basketball league in the world.\n",
      "\n",
      "Note: These estimates are based on various sources and may vary depending on the criteria used to define popularity. Additionally, popularity can vary by region and culture, and there may be other sports that are more popular in specific areas or communities.\n"
     ]
    }
   ],
   "source": [
    "question = \"Name 3 sports.\"\n",
    "print(llm(question))"
   ]
  },
  {
   "cell_type": "markdown",
   "id": "4b9672ae",
   "metadata": {},
   "source": [
    "# Summarization Chain\n",
    "\n",
    "Here is an example of using a Fireworks model within a summarization chain."
   ]
  },
  {
   "cell_type": "code",
   "execution_count": 9,
   "id": "9bed0bd0",
   "metadata": {},
   "outputs": [],
   "source": [
    "from langchain import PromptTemplate, LLMChain\n",
    "from langchain.text_splitter import CharacterTextSplitter\n",
    "from langchain.chains.mapreduce import MapReduceChain\n",
    "from langchain.prompts import PromptTemplate\n",
    "\n",
    "llm = Fireworks(temperature=0)\n",
    "\n",
    "text_splitter = CharacterTextSplitter()"
   ]
  },
  {
   "cell_type": "code",
   "execution_count": 11,
   "id": "d16ee1ea",
   "metadata": {},
   "outputs": [],
   "source": [
    "with open(\"../../modules/state_of_the_union.txt\") as f:\n",
    "    state_of_the_union = f.read()\n",
    "texts = text_splitter.split_text(state_of_the_union)"
   ]
  },
  {
   "cell_type": "code",
   "execution_count": 12,
   "id": "d9499db6",
   "metadata": {},
   "outputs": [],
   "source": [
    "from langchain.docstore.document import Document\n",
    "\n",
    "docs = [Document(page_content=t) for t in texts[:3]]"
   ]
  },
  {
   "cell_type": "code",
   "execution_count": 19,
   "id": "6701fe20",
   "metadata": {},
   "outputs": [
    {
     "data": {
      "text/plain": [
       "\" The speaker, the President of the United States, addresses the nation regarding the ongoing conflict between Russia and Ukraine. The President emphasizes the importance of standing with Ukraine and the global community in rejecting aggression and promoting peace and stability. The President highlights the economic sanctions and military assistance provided to Ukraine, as well as the release of oil from strategic reserves to mitigate gas price increases. The President also discusses the American Rescue Plan and Bipartisan Infrastructure Law, highlighting their efforts to support the economy and rebuild America's infrastructure. The President concludes by reiterating the importance of standing with Ukraine and the global community in the face of aggression.\""
      ]
     },
     "execution_count": 19,
     "metadata": {},
     "output_type": "execute_result"
    }
   ],
   "source": [
    "from langchain.chains.summarize import _load_stuff_chain\n",
    "from langchain.prompts import PromptTemplate\n",
    "\n",
    "prompt_template_llama_chat = \"\"\"[INST] <<SYS>>\n",
    "You are a helpful, respectful and honest assistant. Always answer as helpfully as possible, while being safe.  Your answers should not include any harmful, unethical, racist, sexist, toxic, dangerous, or illegal content. Please ensure that your responses are socially unbiased and positive in nature.\n",
    "\n",
    "If a question does not make any sense, or is not factually coherent, explain why instead of answering something not correct. If you don't know the answer to a question, please don't share false information.\n",
    "<</SYS>>\n",
    "\n",
    "Write a concise summary of the following:\n",
    "\n",
    "\n",
    "\"{text}\"\n",
    "\n",
    "\n",
    "CONCISE SUMMARY:[\\INST]\"\"\"\n",
    "\n",
    "PROMPT = PromptTemplate(template=prompt_template_llama_chat, input_variables=[\"text\"])\n",
    "\n",
    "chain = _load_stuff_chain(prompt=PROMPT, llm=llm)\n",
    "chain.run(docs)"
   ]
  }
 ],
 "metadata": {
  "kernelspec": {
   "display_name": "Python 3 (ipykernel)",
   "language": "python",
   "name": "python3"
  },
  "language_info": {
   "codemirror_mode": {
    "name": "ipython",
    "version": 3
   },
   "file_extension": ".py",
   "mimetype": "text/x-python",
   "name": "python",
   "nbconvert_exporter": "python",
   "pygments_lexer": "ipython3",
   "version": "3.10.9"
  }
 },
 "nbformat": 4,
 "nbformat_minor": 5
}
