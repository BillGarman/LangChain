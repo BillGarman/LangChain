{
 "cells": [
  {
   "cell_type": "markdown",
   "metadata": {},
   "source": [
    "# ERNIE-Bot Chat\n",
    "\n",
    "`langchain.chat_models.ErnieBotChat` has been deprecated. For Qianfan platform users, please take a look at [`langchain.chat_models.QianfanChatEndpoint`](./baidu_qianfan_endpoint.ipynb). For AI Studio users, please take a look at [`langchain.chat_models.ChatERNIEBot`](./erniebot.ipynb)."
   ]
  }
 ],
 "metadata": {
  "kernelspec": {
   "display_name": "Python 3.9.18 ('langchain')",
   "language": "python",
   "name": "python3"
  },
  "language_info": {
   "codemirror_mode": {
    "name": "ipython",
    "version": 3
   },
   "file_extension": ".py",
   "mimetype": "text/x-python",
   "name": "python",
   "nbconvert_exporter": "python",
   "pygments_lexer": "ipython3",
   "version": "3.9.18"
  },
  "orig_nbformat": 4,
  "vscode": {
   "interpreter": {
    "hash": "8b27f8d187b3aeb02225dbf7258288e436f3e05f3f87e803cced6d97b886ed77"
   }
  }
 },
 "nbformat": 4,
 "nbformat_minor": 2
}
