{
 "cells": [
  {
   "cell_type": "markdown",
   "id": "e49f1e0d",
   "metadata": {},
   "source": [
    "# GigaChat\n",
    "\n",
    "В этом файле показано, как можно работать с GigaChat"
   ]
  },
  {
   "cell_type": "code",
   "execution_count": 1,
   "id": "522686de",
   "metadata": {
    "tags": []
   },
   "outputs": [],
   "source": [
    "from langchain.chat_models import GigaChat\n",
    "from langchain.prompts.chat import (\n",
    "    ChatPromptTemplate,\n",
    "    SystemMessagePromptTemplate,\n",
    "    AIMessagePromptTemplate,\n",
    "    HumanMessagePromptTemplate,\n",
    ")\n",
    "from langchain.schema import AIMessage, HumanMessage, SystemMessage"
   ]
  },
  {
   "cell_type": "code",
   "execution_count": 6,
   "id": "62e0dbc3",
   "metadata": {
    "tags": []
   },
   "outputs": [],
   "source": [
    "chat = GigaChat(temperature=0, user=<username>, password=<password>)"
   ]
  },
  {
   "cell_type": "markdown",
   "id": "4e5fe97e",
   "metadata": {},
   "source": [
    "В ячейке выше показано, как подключить к GigaChat. Вы также можете хранить логин-пароль в переменных окружения `GIGA_USER` и `GIGA_PASSWORD`"
   ]
  },
  {
   "cell_type": "code",
   "execution_count": 15,
   "id": "ce16ad78-8e6f-48cd-954e-98be75eb5836",
   "metadata": {
    "tags": []
   },
   "outputs": [
    {
     "data": {
      "text/plain": [
       "AIMessage(content='I love programming.', additional_kwargs={}, example=False)"
      ]
     },
     "execution_count": 15,
     "metadata": {},
     "output_type": "execute_result"
    }
   ],
   "source": [
    "messages = [\n",
    "    SystemMessage(\n",
    "        content=\"Ты полезный ассистент, который умеет переводить русский на английский.\"\n",
    "    ),\n",
    "    HumanMessage(\n",
    "        content=\"Переведи это предложение. Я люблю программирование.\"\n",
    "    ),\n",
    "]\n",
    "chat(messages)"
   ]
  },
  {
   "cell_type": "markdown",
   "id": "778f912a-66ea-4a5d-b3de-6c7db4baba26",
   "metadata": {},
   "source": [
    "Вы можете использовать шаблонизацию с помощью `MessagePromptTemplate`. Вы можете создать `ChatPromptTemplate` из одного или нескольких `MessagePromptTemplates`. Вы можете использовать метод `format_prompt` класса `ChatPromptTemplate` — это возвращает `PromptValue`, который вы можете преобразовать в строку или объект сообщения, в зависимости от того, хотите ли вы использовать отформатированное значение как входные данные для модели llm или чат-модели.\n",
    "\n",
    "Для удобства есть метод `from_template`, предоставленный в шаблоне. Если вы хотите использовать этот шаблон, это будет выглядеть примерно так:"
   ]
  },
  {
   "cell_type": "code",
   "execution_count": 11,
   "id": "180c5cc8",
   "metadata": {},
   "outputs": [],
   "source": [
    "template = (\n",
    "    \"Ты полезный ассистент, который умеет переводить {input_language} на {output_language}.\"\n",
    ")\n",
    "system_message_prompt = SystemMessagePromptTemplate.from_template(template)\n",
    "human_template = \"{text}\"\n",
    "human_message_prompt = HumanMessagePromptTemplate.from_template(human_template)"
   ]
  },
  {
   "cell_type": "code",
   "execution_count": 14,
   "id": "fbb043e6",
   "metadata": {
    "tags": []
   },
   "outputs": [
    {
     "data": {
      "text/plain": [
       "AIMessage(content='Я люблю программирование.', additional_kwargs={}, example=False)"
      ]
     },
     "execution_count": 14,
     "metadata": {},
     "output_type": "execute_result"
    }
   ],
   "source": [
    "chat_prompt = ChatPromptTemplate.from_messages(\n",
    "    [system_message_prompt, human_message_prompt]\n",
    ")\n",
    "\n",
    "# get a chat completion from the formatted messages\n",
    "chat(\n",
    "    chat_prompt.format_prompt(\n",
    "        input_language=\"английский\", output_language=\"русский\", text=\"Translate this sentense. I love programming.\"\n",
    "    ).to_messages()\n",
    ")"
   ]
  }
 ],
 "metadata": {
  "kernelspec": {
   "display_name": "Python 3 (ipykernel)",
   "language": "python",
   "name": "python3"
  },
  "language_info": {
   "codemirror_mode": {
    "name": "ipython",
    "version": 3
   },
   "file_extension": ".py",
   "mimetype": "text/x-python",
   "name": "python",
   "nbconvert_exporter": "python",
   "pygments_lexer": "ipython3",
   "version": "3.10.9"
  }
 },
 "nbformat": 4,
 "nbformat_minor": 5
}
