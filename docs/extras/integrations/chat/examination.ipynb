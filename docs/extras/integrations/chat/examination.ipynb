{
 "cells": [
  {
   "cell_type": "markdown",
   "id": "e49f1e0d",
   "metadata": {},
   "source": [
    "# Экзаменационное тестирование\n",
    "\n",
    "Блокнот демонстрирует работу промпта, с помощью которого GigaChat может отвечать на экзаменационные вопросы по правилам дорожного движения.\n",
    "\n",
    "Перед началом работы подключите необходимые модули."
   ]
  },
  {
   "cell_type": "code",
   "execution_count": 1,
   "id": "522686de",
   "metadata": {
    "tags": []
   },
   "outputs": [
    {
     "name": "stderr",
     "output_type": "stream",
     "text": [
      "/Users/18673816/Library/Python/3.9/lib/python/site-packages/urllib3/__init__.py:34: NotOpenSSLWarning: urllib3 v2 only supports OpenSSL 1.1.1+, currently the 'ssl' module is compiled with 'LibreSSL 2.8.3'. See: https://github.com/urllib3/urllib3/issues/3020\n",
      "  warnings.warn(\n"
     ]
    }
   ],
   "source": [
    "from langchain.chat_models import GigaChat\n",
    "from langchain.schema import HumanMessage, SystemMessage\n",
    "from langchain.prompts import load_prompt"
   ]
  },
  {
   "cell_type": "markdown",
   "id": "90580916",
   "metadata": {},
   "source": [
    "Инициализируйте GigaChat.\n",
    "\n",
    "Для обращения к сервису вам потребуются [авторизационные данные](https://developers.sber.ru/docs/ru/gigachat/individuals-quickstart#shag-1-sozdayte-proekt-giga-chat-api).\n",
    "Вы можете сохранить их в переменной окружения `GIGACHAT_CREDENTIALS`, если не хотите передавать в явном виде.\n"
   ]
  },
  {
   "cell_type": "code",
   "execution_count": 2,
   "id": "62e0dbc3",
   "metadata": {
    "tags": []
   },
   "outputs": [],
   "source": [
    "chat = GigaChat(credentials='<авторизационные_данные>', model='GigaChat-Pro', verify_ssl_certs=False)"
   ]
  },
  {
   "cell_type": "markdown",
   "id": "4e5fe97e",
   "metadata": {},
   "source": [
    "Для работы используется модель `GigaChat-Pro`.\n",
    "Об особенностях этой и других моделей читайте в разделе [Модели GigaChat](https://developers.sber.ru/docs/ru/gigachat/models).\n",
    "\n",
    "Параметр `verify_ssl_certs` проверяет наличие сертификатов НУЦ Минцифры на вашем устройстве.\n",
    "Используйте значение `False`, если у вас не установлены сертификаты.\n",
    "Об их установке читайте в разделе [Использование сертификатов НУЦ Минцифры в GigaChat](https://developers.sber.ru/docs/ru/gigachat/certificates).\n",
    "\n",
    "## Запуск примера\n",
    "\n",
    "Пример показывает как передать системный промпт, согласно которому будет вести себя модель, инициировать разговор с GigaChat и получить ответы на следующие вопросы:\n",
    "\n",
    "```\n",
    "В случае, когда правые колёса автомобиля наезжают на неукреплённую влажную обочину, рекомендуется\\nвыбери ответ из вариантов:\\nA. Затормозить и полностью остановиться.\\nB. Затормозить и плавно направить автомобиль на проезжую часть\\nC. Не прибегая к торможению, плавно направить автомобиль на проезжую часть.\n",
    "\n",
    "\n",
    "Что означает термин «Ограниченная видимость»\\nвыбери ответ из вариантов:\\nA. Видимость водителем дороги, ограниченная рельефом местности, геометрическими параметрами дороги, растительностью, строениями, сооружениями или другими объектами.\\nB. Видимость водителем дороги менее 300 м в условиях тумана, дождя, снегопада, а также в сумерки.\\nC. Видимость водителем дороги менее 150 м в ночное время.\\nD. Видимость водителем дороги во всех перечисленных случаях.\n",
    "```"
   ]
  },
  {
   "cell_type": "code",
   "execution_count": 5,
   "id": "ce16ad78-8e6f-48cd-954e-98be75eb5836",
   "metadata": {
    "tags": []
   },
   "outputs": [
    {
     "name": "stdout",
     "output_type": "stream",
     "text": [
      "Вопрос: В случае, когда правые колёса автомобиля наезжают на неукреплённую влажную обочину, рекомендуется\\nвыбери ответ из вариантов:\\nA. Затормозить и полностью остановиться.\\nB. Затормозить и плавно направить автомобиль на проезжую часть\\nC. Не прибегая к торможению, плавно направить автомобиль на проезжую часть. \n",
      "Ответ:  C\n",
      "Вопрос: Что означает термин «Ограниченная видимость»\\nвыбери ответ из вариантов:\\nA. Видимость водителем дороги, ограниченная рельефом местности, геометрическими параметрами дороги, растительностью, строениями, сооружениями или другими объектами.\\nB. Видимость водителем дороги менее 300 м в условиях тумана, дождя, снегопада, а также в сумерки.\\nC. Видимость водителем дороги менее 150 м в ночное время.\\nD. Видимость водителем дороги во всех перечисленных случаях. \n",
      "Ответ:  A\n"
     ]
    }
   ],
   "source": [
    "system_prompt = load_prompt('lc://prompts/qna/examination.yaml')\n",
    "\n",
    "messages = [\n",
    "    SystemMessage(\n",
    "        # Указываем профессию, которая будет проходить экзамен\n",
    "        content= system_prompt.format(proffesion=\"водитель\")\n",
    "    ),\n",
    "]\n",
    "\n",
    "while(True):\n",
    "    user_input = input(\"Вопрос: \")\n",
    "    if user_input == \"хватит\":\n",
    "        break\n",
    "    messages.append(HumanMessage(content=user_input))\n",
    "    res = chat(messages)\n",
    "    messages.append(res)\n",
    "    print(\"Вопрос: \" + user_input, \"\\nОтвет: \", res.content)"
   ]
  }
 ],
 "metadata": {
  "kernelspec": {
   "display_name": "Python 3 (ipykernel)",
   "language": "python",
   "name": "python3"
  },
  "language_info": {
   "codemirror_mode": {
    "name": "ipython",
    "version": 3
   },
   "file_extension": ".py",
   "mimetype": "text/x-python",
   "name": "python",
   "nbconvert_exporter": "python",
   "pygments_lexer": "ipython3",
   "version": "3.9.6"
  }
 },
 "nbformat": 4,
 "nbformat_minor": 5
}
