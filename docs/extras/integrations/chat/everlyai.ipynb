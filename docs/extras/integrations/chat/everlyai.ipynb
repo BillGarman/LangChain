{
 "cells": [
  {
   "cell_type": "markdown",
   "id": "642fd21c-600a-47a1-be96-6e1438b421a9",
   "metadata": {},
   "source": [
    "# EverlyAI\n",
    "\n",
    "This notebook demonstrates the use of `langchain.chat_models.ChatEverlyAI` for [EverlyAI Hosted Endpoints](https://everlyai.xyz/).\n",
    "\n",
    "* Set `EVERLYAI_API_KEY` environment variable\n",
    "* or use the `everlyai_api_key` keyword argument"
   ]
  },
  {
   "cell_type": "code",
   "execution_count": null,
   "id": "d00d850917865298",
   "metadata": {
    "collapsed": false
   },
   "outputs": [],
   "source": [
    "# !pip install openai"
   ]
  },
  {
   "cell_type": "code",
   "execution_count": 3,
   "id": "72340871-ae2f-415f-b399-0777d32dc379",
   "metadata": {},
   "outputs": [],
   "source": [
    "import os\n",
    "from getpass import getpass\n",
    "\n",
    "os.environ[\"EVERLYAI_API_KEY\"] = getpass()"
   ]
  },
  {
   "cell_type": "markdown",
   "id": "5d7fc704-3ea0-4c35-96e7-89fcae6c73fa",
   "metadata": {},
   "source": [
    "# Let's try out LLAMA model offered on EverlyAI Hosted Endpoints"
   ]
  },
  {
   "cell_type": "code",
   "execution_count": 31,
   "id": "0dc9428d-4217-47d2-97de-f784b1764186",
   "metadata": {},
   "outputs": [
    {
     "name": "stdout",
     "output_type": "stream",
     "text": [
      " Hello! I'm just an AI, I don't have a specific transformer model architecture, but I can provide you with some technical details about my training and capabilities.\n",
      "I'm a large language model trained by a team of researcher at Meta AI. My training data consists of a massive corpus of text, including books, articles, and other sources of written content. I was trained using a masked language modeling task, where I was given a random\n"
     ]
    }
   ],
   "source": [
    "from langchain.chat_models import ChatEverlyAI\n",
    "from langchain.schema import SystemMessage, HumanMessage\n",
    "\n",
    "messages = [\n",
    "    SystemMessage(\n",
    "        content=\"You are a helpful AI that shares everything you know.\"\n",
    "    ),\n",
    "    HumanMessage(\n",
    "        content=\"Tell me technical facts about yourself. Are you a transformer model? How many billions of parameters do you have?\"\n",
    "    ),\n",
    "]\n",
    "\n",
    "chat = ChatEverlyAI(model_name=\"meta-llama/Llama-2-7b-chat-hf\", temperature=0.3, max_tokens=100)\n",
    "print(chat(messages).content)"
   ]
  },
  {
   "cell_type": "markdown",
   "id": "7c4f124a-eaf7-4d78-a2c0-b0aa23fb25c4",
   "metadata": {},
   "source": [
    "# EverlyAI also supports streaming responses"
   ]
  },
  {
   "cell_type": "code",
   "execution_count": 28,
   "id": "1f94f5d2-569e-4a2c-965e-de53c2845fbb",
   "metadata": {},
   "outputs": [
    {
     "name": "stdout",
     "output_type": "stream",
     "text": [
      " Oh, you want to be delighted by my humor? Well, let me tell you a joke that will make your day! *adjusts glasses* Here it goes:\n",
      "\n",
      "Why don't scientists trust atoms?\n",
      "Because they make up everything! *wink*\n",
      "\n",
      "I know, I know, it's a real \"neuralizer\" of a joke! *giggles* But hey, at least I'm not a \"micro-joke\"! *chuckles*\n",
      "\n",
      "So, what do you think? Did that joke \""
     ]
    },
    {
     "data": {
      "text/plain": [
       "AIMessageChunk(content=' Oh, you want to be delighted by my humor? Well, let me tell you a joke that will make your day! *adjusts glasses* Here it goes:\\n\\nWhy don\\'t scientists trust atoms?\\nBecause they make up everything! *wink*\\n\\nI know, I know, it\\'s a real \"neuralizer\" of a joke! *giggles* But hey, at least I\\'m not a \"micro-joke\"! *chuckles*\\n\\nSo, what do you think? Did that joke \"')"
      ]
     },
     "execution_count": 28,
     "metadata": {},
     "output_type": "execute_result"
    }
   ],
   "source": [
    "from langchain.chat_models import ChatEverlyAI\n",
    "from langchain.schema import SystemMessage, HumanMessage\n",
    "from langchain.callbacks.streaming_stdout import StreamingStdOutCallbackHandler\n",
    "\n",
    "messages = [\n",
    "    SystemMessage(\n",
    "        content=\"You are a humorous AI that delights people.\"\n",
    "    ),\n",
    "    HumanMessage(\n",
    "        content=\"Tell me a joke?\"\n",
    "    ),\n",
    "]\n",
    "\n",
    "chat = ChatEverlyAI(model_name=\"meta-llama/Llama-2-7b-chat-hf\", temperature=0.3, max_tokens=128, streaming=True, callbacks=[StreamingStdOutCallbackHandler()])\n",
    "chat(messages)"
   ]
  }
 ],
 "metadata": {
  "kernelspec": {
   "display_name": "Python 3 (ipykernel)",
   "language": "python",
   "name": "python3"
  },
  "language_info": {
   "codemirror_mode": {
    "name": "ipython",
    "version": 3
   },
   "file_extension": ".py",
   "mimetype": "text/x-python",
   "name": "python",
   "nbconvert_exporter": "python",
   "pygments_lexer": "ipython3",
   "version": "3.10.1"
  }
 },
 "nbformat": 4,
 "nbformat_minor": 5
}
