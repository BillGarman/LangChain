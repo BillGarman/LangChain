{
 "cells": [
  {
   "cell_type": "markdown",
   "id": "055b12cd-8acb-4599-abeb-e328f0288ea8",
   "metadata": {},
   "source": [
    "# Datadog Logs\n",
    "\n",
    ">[Datadog](https://www.datadoghq.com/) is a monitoring and analytics platform for cloud-scale applications.\n",
    "\n",
    "This retriever fetches the logs from your applications in Datadog using the `datadog_api_client` Python package. You must initialize the loader with your `Datadog API key` and `APP key`, and you need to pass in the query to extract the desired logs."
   ]
  },
  {
   "cell_type": "code",
   "execution_count": null,
   "id": "0c1d7cd2-3000-4d5b-890e-1ead0bc82cfe",
   "metadata": {},
   "outputs": [],
   "source": [
    "!pip install datadog-api-client"
   ]
  },
  {
   "cell_type": "markdown",
   "id": "e16221de-b611-43a2-9ec6-536012fde5f7",
   "metadata": {},
   "source": [
    "The `DatadogLogsLoader` derived from the `BaseLoaderAsRetriever` class so it can be used as a Retriever.\n",
    "It is possible because the `DatadogLogsLoader` has the `query` semantics."
   ]
  },
  {
   "cell_type": "code",
   "execution_count": null,
   "id": "27140b43-b125-4176-a2cc-37ca709b7bc8",
   "metadata": {},
   "outputs": [],
   "source": [
    "from langchain.document_loaders import DatadogLogsLoader"
   ]
  },
  {
   "cell_type": "code",
   "execution_count": null,
   "id": "ca796edf-d948-4efa-9afe-f5f674b8f74f",
   "metadata": {},
   "outputs": [],
   "source": [
    "retriever = DatadogLogsLoader(\n",
    "    query=None,  # we use the query argument of the get_relevant_documents() now\n",
    "    app_key=DD_APP_KEY,\n",
    "    from_time=1688732708951,  # Optional, timestamp in milliseconds\n",
    "    to_time=1688736308951,  # Optional, timestamp in milliseconds\n",
    "    limit=100,  # Optional, default is 100\n",
    ")"
   ]
  },
  {
   "cell_type": "code",
   "execution_count": null,
   "id": "4f31d26a-de34-4ba5-8c29-dfe0b0857137",
   "metadata": {},
   "outputs": [],
   "source": [
    "docs = retriever.get_relevant_documents(query=\"vice:agent status:error\")\n",
    "docs"
   ]
  },
  {
   "cell_type": "raw",
   "id": "276bba05-f107-490e-b7d5-ece35679e743",
   "metadata": {},
   "source": [
    "[Document(page_content='message: grep: /etc/datadog-agent/system-probe.yaml: No such file or directory', metadata={'id': 'AgAAAYkwpLImvkjRpQAAAAAAAAAYAAAAAEFZa3dwTUFsQUFEWmZfLU5QdElnM3dBWQAAACQAAAAAMDE4OTMwYTQtYzk3OS00MmJjLTlhNDAtOTY4N2EwY2I5ZDdk', 'status': 'error', 'service': 'agent', 'tags': ['accessible-from-goog-gke-node', 'allow-external-ingress-high-ports', 'allow-external-ingress-http', 'allow-external-ingress-https', 'container_id:c7d8ecd27b5b3cfdf3b0df04b8965af6f233f56b7c3c2ffabfab5e3b6ccbd6a5', 'container_name:lab_datadog_1', 'datadog.pipelines:false', 'datadog.submission_auth:private_api_key', 'docker_image:datadog/agent:7.41.1', 'env:dd101-dev', 'hostname:lab-host', 'image_name:datadog/agent', 'image_tag:7.41.1', 'instance-id:7497601202021312403', 'instance-type:custom-1-4096', 'instruqt_aws_accounts:', 'instruqt_azure_subscriptions:', 'instruqt_gcp_projects:', 'internal-hostname:lab-host.d4rjybavkary.svc.cluster.local', 'numeric_project_id:3390740675', 'p-d4rjybavkary', 'project:instruqt-prod', 'service:agent', 'short_image:agent', 'source:agent', 'zone:europe-west1-b'], 'timestamp': datetime.datetime(2023, 7, 7, 13, 57, 27, 206000, tzinfo=tzutc())}),\n",
    " Document(page_content='message: grep: /etc/datadog-agent/system-probe.yaml: No such file or directory', metadata={'id': 'AgAAAYkwpLImvkjRpgAAAAAAAAAYAAAAAEFZa3dwTUFsQUFEWmZfLU5QdElnM3dBWgAAACQAAAAAMDE4OTMwYTQtYzk3OS00MmJjLTlhNDAtOTY4N2EwY2I5ZDdk', 'status': 'error', 'service': 'agent', 'tags': ['accessible-from-goog-gke-node', 'allow-external-ingress-high-ports', 'allow-external-ingress-http', 'allow-external-ingress-https', 'container_id:c7d8ecd27b5b3cfdf3b0df04b8965af6f233f56b7c3c2ffabfab5e3b6ccbd6a5', 'container_name:lab_datadog_1', 'datadog.pipelines:false', 'datadog.submission_auth:private_api_key', 'docker_image:datadog/agent:7.41.1', 'env:dd101-dev', 'hostname:lab-host', 'image_name:datadog/agent', 'image_tag:7.41.1', 'instance-id:7497601202021312403', 'instance-type:custom-1-4096', 'instruqt_aws_accounts:', 'instruqt_azure_subscriptions:', 'instruqt_gcp_projects:', 'internal-hostname:lab-host.d4rjybavkary.svc.cluster.local', 'numeric_project_id:3390740675', 'p-d4rjybavkary', 'project:instruqt-prod', 'service:agent', 'short_image:agent', 'source:agent', 'zone:europe-west1-b'], 'timestamp': datetime.datetime(2023, 7, 7, 13, 57, 27, 206000, tzinfo=tzutc())})]"
   ]
  }
 ],
 "metadata": {
  "kernelspec": {
   "display_name": "Python 3 (ipykernel)",
   "language": "python",
   "name": "python3"
  },
  "language_info": {
   "codemirror_mode": {
    "name": "ipython",
    "version": 3
   },
   "file_extension": ".py",
   "mimetype": "text/x-python",
   "name": "python",
   "nbconvert_exporter": "python",
   "pygments_lexer": "ipython3",
   "version": "3.10.12"
  }
 },
 "nbformat": 4,
 "nbformat_minor": 5
}
