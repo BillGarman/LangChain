{
 "cells": [
  {
   "cell_type": "markdown",
   "id": "263f914c-9d67-4316-8b3d-03c3b99ba9d8",
   "metadata": {},
   "source": [
    "Kay.ai\n",
    "=\n",
    "\n",
    "> Data API built for RAG 🕵️ We are curating the world's largest datasets as high-quality embeddings so your AI agents can retrieve context on the fly. Latest models, fast retrieval, and zero infra.\n",
    "\n",
    "This notebook shows you how to do Retrieval-Augmented Generation using [Kay.ai](https://kay.ai). We currently have SEC Filings and Press releases available to be used. Have specific data requests? Reach out to us at vishal@kay.ai or [tweet us](https://twitter.com/vishalrohra_)"
   ]
  },
  {
   "cell_type": "markdown",
   "id": "fc507b8e-ea51-417c-93da-42bf998a1195",
   "metadata": {},
   "source": [
    "Installation\n",
    "=\n",
    "\n",
    "First you will need to install the `kay` package. You will also need an API key: you can get one for free at [https://kay.ai](https://kay.ai/). Once you have an API key, you must set it as an environment variable `KAY_API_KEY`.\n",
    "\n",
    "`KayAiRetriever` has a static `.create()` factory method that takes the following arguments:\n",
    "\n",
    "* `dataset_id: string` required -- A Kay dataset id. This is a collection of data about a particular entity such as companies, people, or places. For example, try `\"company\"` \n",
    "* `data_type: List[string]` optional -- A list types of data for the corresponding dataset. It is a category of data based on its origin, such as ‘10-K’, ‘10-Q’, ‘PressRelease’, or ‘Reports’. For example, under \"company\" dataset, the accepted sources are `[\"10-K\", \"10-Q\", \"PressRelease\"]`. If left empty, Kay will retrieve the most relevant context across all data sources\n",
    "* `num_contexts: int` optional, defaults to 6 -- The number of documents to retrieve on each call to `get_relevant_documents()`"
   ]
  },
  {
   "cell_type": "markdown",
   "id": "c923bea0-585a-4f62-8662-efc167e8d793",
   "metadata": {},
   "source": [
    "Examples\n",
    "=\n",
    "\n",
    "Basic Retriever Usage\n",
    "-"
   ]
  },
  {
   "cell_type": "code",
   "execution_count": 81,
   "id": "94d894ca-b298-405f-8c62-4b9658172da8",
   "metadata": {},
   "outputs": [],
   "source": [
    "from langchain.retrievers import KayAiRetriever"
   ]
  },
  {
   "cell_type": "code",
   "execution_count": 82,
   "id": "f7b8c99c-0341-4f3c-912f-a11e98f7de71",
   "metadata": {},
   "outputs": [
    {
     "name": "stdin",
     "output_type": "stream",
     "text": [
      " ········\n"
     ]
    }
   ],
   "source": [
    "# Setup API key\n",
    "from getpass import getpass\n",
    "KAY_API_KEY = getpass()"
   ]
  },
  {
   "cell_type": "code",
   "execution_count": 83,
   "id": "b4d4d386-2a6b-4942-863e-9202f5a9f1d6",
   "metadata": {},
   "outputs": [],
   "source": [
    "import os\n",
    "os.environ[\"KAY_API_KEY\"] = KAY_API_KEY\n",
    "\n",
    "retriever = KayAiRetriever.create(dataset_id=\"company\", data_sources=[\"10-K\", \"10-Q\", \"8-K\", \"6-K\", \"PressRelease\"], num_contexts=3)\n",
    "docs = retriever.get_relevant_documents(\"HDFC Bank CAGR growth since last two quarters?\")"
   ]
  },
  {
   "cell_type": "code",
   "execution_count": 84,
   "id": "04ee2d6b-c2ab-4e15-8a8b-afaf6ef8c0f6",
   "metadata": {},
   "outputs": [
    {
     "data": {
      "text/plain": [
       "[Document(page_content=\"Company Name: PDL COMMUNITY BANCORP \\n Company Industry: SAVINGS INSTITUTION, FEDERALLY CHARTERED \\n Form Title: 10-Q 2020-Q1 \\n Form Section: Management's Discussion and Analysis of Financial Condition and Results of Operations \\n Text: For the Three Months Ended March 31, 2020 2019 Average Average Outstanding Average Outstanding Average Balance Interest Yield/Rate (1) Balance Interest Yield/Rate (1) (Dollars in thousands)Interest earning assets: Loans (2) $ 975,499 $ 12,782 5.27 % $ 935,877 $ 12,095 5.24 % Available for sale securities 18,218 83 1.83 % 23,790 86 1.47 % Other (3) 38,220 165 1.73 % 33,714 201 2.42 % Total interest earning assets 1,031,937 13,030 5.07 % 993,381 12,382 5.06 % Non interest earning assets 37,467 34,441 Total assets $ 1,069,404 $ 1,027,822 Interest bearing liabilities: NOW/IOLA $ 29,026 $ 38 0.53 % $ 28,407 $ 26 0.37 % Money market 160,471 618 1.54 % 113,354 564 2.01 % Savings 113,710 35 0.12 % 122,559 40 0.13 % Certificates of deposit 379,154 1,827 1.93 % 419,108 1,956 1.89 % Total deposits 682,361 2,518 1.48 % 683,428 2,586 1.53 % Advance payments by borrowers 7,980 1 0.05 % 7,709 1 0.05 % Borrowings 108,640 587 2.17 % 50,570 333 2.67 %Total interest bearing liabilities 798,981 3,106 1.56 % 741,707 2,920 1.60 % Non interest bearing liabilities: Non interest bearing demand 108,646 -- 110,644 -- Other non interest bearing liabilities 2,968 -- 5,056 -- Total non interest bearing liabilities 111,614 -- 115,700 -- Total liabilities 910,595 3,106 857,407 2,920 Total equity 158,809 170,415 Total liabilities and total equity $ 1,069,404 1.56 % $ 1,027,822 1.60 % Net interest income $ 9,924 $ 9,462 Net interest rate spread (4) 3.51 % 3.46 %\", metadata={'_additional': {'id': 'db4e96c8-1ba7-4373-aaf8-7859c395097d'}, 'chunk_type': 'text', 'chunk_years_mentioned': [2019, 2020], 'company_name': 'PDL COMMUNITY BANCORP', 'company_sic_code_description': 'SAVINGS INSTITUTION, FEDERALLY CHARTERED', 'data_source': '10-Q', 'data_source_link': 'https://www.sec.gov/Archives/edgar/data/1703489/000156459020025582', 'data_source_publish_date': '2020-01-01T00:00:00Z', 'data_source_uid': '0001564590-20-025582', 'title': 'PDL COMMUNITY BANCORP |  10-Q 2020-Q1 '}),\n",
       " Document(page_content=\"Company Name: PDL COMMUNITY BANCORP \\n Company Industry: SAVINGS INSTITUTION, FEDERALLY CHARTERED \\n Form Title: 10-Q 2020-Q2 \\n Form Section: Management's Discussion and Analysis of Financial Condition and Results of Operations \\n Text: For the Three Months Ended June 30, 2020 2019 Average Average Outstanding Average Outstanding Average Balance Interest Yield/Rate (1) Balance Interest Yield/Rate (1) (Dollars in thousands)Interest earning assets: Loans (2) $ 1,024,019 $ 12,162 4.78 % $ 928,806 $ 12,060 5.21 % Available for sale securities 16,750 146 3.50 % 22,127 76 1.38 % Other (3) 68,900 85 0.50 % 48,512 278 2.30 % Total interest earning assets 1,109,669 12,393 4.49 % 999,445 12,414 4.98 % Non interest earning assets 65,829 35,130 Total assets $ 1,175,498 $ 1,034,575 Interest bearing liabilities: NOW/IOLA $ 29,692 $ 38 0.51 % $ 25,306 $ 26 0.41 % Money market 196,707 458 0.94 % 140,239 755 2.16 % Savings 117,166 37 0.13 % 121,423 39 0.13 % Certificates of deposit 375,708 1,730 1.85 % 400,3171,904 1.91 %Total deposits 719,273 2,263 1.27 % 687,285 2,724 1.59 % Advance payments by borrowers 8,947 1 0.04 % 9,566 1 0.04 % Borrowings 120,647 608 2.03 % 53,474 345 2.59 %Total interest bearing liabilities 848,867 2,872 1.36 % 750,325 3,070 1.64 % Non interest bearing liabilities: Non interest bearing demand 165,161 -- 112,069 -- Other non interest bearing liabilities 5,165 -- 3,819 -- Total non interest bearing liabilities 170,326 -- 115,888 -- Total liabilities 1,019,193 2,872 866,213 3,070 Total equity 156,305 168,362Total liabilities and total equity $ 1,175,498 1.36 % $ 1,034,575 1.64 % Net interest income $ 9,521 $ 9,344 Net interest rate spread (4) 3.13 % 3.34 %\", metadata={'_additional': {'id': '55c1db50-7b69-44bb-b7dd-43b2f8315b2c'}, 'chunk_type': 'text', 'chunk_years_mentioned': [3171, 2019, 2020], 'company_name': 'PDL COMMUNITY BANCORP', 'company_sic_code_description': 'SAVINGS INSTITUTION, FEDERALLY CHARTERED', 'data_source': '10-Q', 'data_source_link': 'https://www.sec.gov/Archives/edgar/data/1703489/000156459020038468', 'data_source_publish_date': '2020-01-01T00:00:00Z', 'data_source_uid': '0001564590-20-038468', 'title': 'PDL COMMUNITY BANCORP |  10-Q 2020-Q2 '}),\n",
       " Document(page_content=\"Company Name: FVCBANKCORP INC \\n Company Industry: STATE COMMERCIAL BANKS \\n Form Title: 10-Q 2019-Q2 \\n Form Section: Management's Discussion and Analysis of Financial Condition and Results of Operations \\n Text: The increase in net interest income was primarily a result of an increase in the volume of interest earning assets related to organic growth during 2019 compared to 2018 in addition to the earnings assets acquired from Colombo.The yield on interest earning assets increased 44 basis points to 4.90% for the six months ended June 30, 2019, compared to 4.46% for the same period of 2018.Offsetting this increase in yield was a 44 basis point increase in the cost of interest bearing liabilities, primarily reflecting increasing rates of interest bearing deposits.Average interest earning assets increased by 28.0% to $1.35 billion for the six months ended June 30, 2019 compared to $1.05 billion for the six months ended June 30, 2018, which resulted in an increase in total interest income on a tax equivalent basis of $9.5 million, to $33.0 million for the six months ended June 30, 2019, compared to $23.4 million for the six months ended June 30, 2018.The increase in our earning assets was primarily driven by an increase in the average volume of loans receivable of $261.1 million, which contributed to an additional $6.3 million in interest income.This increase in interest income was enhanced by 52   an increase in yields earned on the loan portfolio which increased interest income $2.6 million.\", metadata={'_additional': {'id': 'ca17ffa5-08f1-4efa-8ba7-89c6c011d6b3'}, 'chunk_type': 'text', 'chunk_years_mentioned': [2018, 2019], 'company_name': 'FVCBANKCORP INC', 'company_sic_code_description': 'STATE COMMERCIAL BANKS', 'data_source': '10-Q', 'data_source_link': 'https://www.sec.gov/Archives/edgar/data/1675644/000110465919045850', 'data_source_publish_date': '2019-01-01T00:00:00Z', 'data_source_uid': '0001104659-19-045850', 'title': 'FVCBANKCORP INC |  10-Q 2019-Q2 '})]"
      ]
     },
     "execution_count": 84,
     "metadata": {},
     "output_type": "execute_result"
    }
   ],
   "source": [
    "docs"
   ]
  },
  {
   "cell_type": "markdown",
   "id": "21f6e9e5-478c-4b2c-9d61-f7a84f4d2f8f",
   "metadata": {},
   "source": [
    "Usage in a chain\n",
    "-"
   ]
  },
  {
   "cell_type": "code",
   "execution_count": 85,
   "id": "d1cba716-ab8d-4518-9196-43f17eb189dc",
   "metadata": {},
   "outputs": [
    {
     "name": "stdin",
     "output_type": "stream",
     "text": [
      " ········\n"
     ]
    }
   ],
   "source": [
    "OPENAI_API_KEY = getpass()"
   ]
  },
  {
   "cell_type": "code",
   "execution_count": 86,
   "id": "79441f1f-fa06-452c-bcd6-160ad0debc6a",
   "metadata": {},
   "outputs": [],
   "source": [
    "os.environ[\"OPENAI_API_KEY\"] = OPENAI_API_KEY"
   ]
  },
  {
   "cell_type": "code",
   "execution_count": 87,
   "id": "0c504bcd-f6e0-4028-a797-b31fb4b6d027",
   "metadata": {},
   "outputs": [],
   "source": [
    "from langchain.chat_models import ChatOpenAI\n",
    "from langchain.chains import ConversationalRetrievalChain\n",
    "\n",
    "model = ChatOpenAI(model_name=\"gpt-3.5-turbo\")\n",
    "qa = ConversationalRetrievalChain.from_llm(model, retriever=retriever)"
   ]
  },
  {
   "cell_type": "code",
   "execution_count": null,
   "id": "977f158b-38d3-4b5f-9379-7cdd09436327",
   "metadata": {},
   "outputs": [],
   "source": [
    "questions = [\n",
    "    \"HDFC Bank CAGR growth since last two quarters?\",\n",
    "    # \"Is Johnson & Johnson increasing its marketing budget in 2022?\",\n",
    "    # \"Where is Wex making the most money in 2023?\",\n",
    "    # \"Who are Etsy's competitors?\",\n",
    "    # \"What are some recent challenges faced by the renewable energy sector?\",\n",
    "]\n",
    "chat_history = []\n",
    "\n",
    "for question in questions:\n",
    "    result = qa({\"question\": question, \"chat_history\": chat_history})\n",
    "    chat_history.append((question, result[\"answer\"]))\n",
    "    print(f\"-> **Question**: {question} \\n\")\n",
    "    print(f\"**Answer**: {result['answer']} \\n\")"
   ]
  },
  {
   "cell_type": "code",
   "execution_count": null,
   "id": "c23dc0bb-f67a-49f4-92d7-0ffe53aa1e1d",
   "metadata": {},
   "outputs": [],
   "source": []
  },
  {
   "cell_type": "code",
   "execution_count": null,
   "id": "262b4f03-91de-4e65-91b8-740fda62dd61",
   "metadata": {},
   "outputs": [],
   "source": []
  }
 ],
 "metadata": {
  "kernelspec": {
   "display_name": "Python 3 (ipykernel)",
   "language": "python",
   "name": "python3"
  },
  "language_info": {
   "codemirror_mode": {
    "name": "ipython",
    "version": 3
   },
   "file_extension": ".py",
   "mimetype": "text/x-python",
   "name": "python",
   "nbconvert_exporter": "python",
   "pygments_lexer": "ipython3",
   "version": "3.9.18"
  }
 },
 "nbformat": 4,
 "nbformat_minor": 5
}
