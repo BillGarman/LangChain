{
 "cells": [
  {
   "cell_type": "markdown",
   "id": "263f914c-9d67-4316-8b3d-03c3b99ba9d8",
   "metadata": {},
   "source": [
    "SEC filings data\n",
    "=\n",
    "\n",
    "SEC filings data powered by [Kay.ai](https://kay.ai) and Consensys.\n",
    "\n",
    ">The SEC filing is a financial statement or other formal document submitted to the U.S. Securities and Exchange Commission (SEC). Public companies, certain insiders, and broker-dealers are required to make regular SEC filings. Investors and financial professionals rely on these filings for information about companies they are evaluating for investment purposes."
   ]
  },
  {
   "cell_type": "markdown",
   "id": "fc507b8e-ea51-417c-93da-42bf998a1195",
   "metadata": {},
   "source": [
    "Setup\n",
    "=\n",
    "\n",
    "First you will need to install the `kay` package. You will also need an API key: you can get one for free at [https://kay.ai](https://kay.ai/). Once you have an API key, you must set it as an environment variable `KAY_API_KEY`.\n",
    "\n",
    "`SecFilingsRetriever` has a static `.create()` factory method that takes the following arguments:\n",
    "\n",
    "* `num_contexts: int` optional, defaults to 3 -- The number of documents to retrieve on each call to `get_relevant_documents()`"
   ]
  },
  {
   "cell_type": "markdown",
   "id": "c923bea0-585a-4f62-8662-efc167e8d793",
   "metadata": {},
   "source": [
    "Examples\n",
    "=\n",
    "\n"
   ]
  },
  {
   "cell_type": "code",
   "execution_count": 7,
   "id": "f7b8c99c-0341-4f3c-912f-a11e98f7de71",
   "metadata": {},
   "outputs": [
    {
     "name": "stdin",
     "output_type": "stream",
     "text": [
      " ········\n",
      " ········\n"
     ]
    }
   ],
   "source": [
    "# Setup API keys for Kay and OpenAI\n",
    "from getpass import getpass\n",
    "KAY_API_KEY = getpass()\n",
    "OPENAI_API_KEY = getpass()"
   ]
  },
  {
   "cell_type": "code",
   "execution_count": 9,
   "id": "04ee2d6b-c2ab-4e15-8a8b-afaf6ef8c0f6",
   "metadata": {},
   "outputs": [],
   "source": [
    "import os\n",
    "os.environ[\"KAY_API_KEY\"] = KAY_API_KEY\n",
    "os.environ[\"OPENAI_API_KEY\"] = OPENAI_API_KEY"
   ]
  },
  {
   "cell_type": "code",
   "execution_count": 10,
   "id": "0c504bcd-f6e0-4028-a797-b31fb4b6d027",
   "metadata": {},
   "outputs": [],
   "source": [
    "from langchain.chains import ConversationalRetrievalChain\n",
    "from langchain.chat_models import ChatOpenAI\n",
    "from langchain.retrievers import SecFilingsRetriever\n",
    "\n",
    "model = ChatOpenAI(model_name=\"gpt-3.5-turbo\")\n",
    "retriever = SecFilingsRetriever.create()\n",
    "qa = ConversationalRetrievalChain.from_llm(model, retriever=retriever)"
   ]
  },
  {
   "cell_type": "code",
   "execution_count": 13,
   "id": "977f158b-38d3-4b5f-9379-7cdd09436327",
   "metadata": {},
   "outputs": [
    {
     "name": "stdout",
     "output_type": "stream",
     "text": [
      "-> **Question**: What are patterns in Nvidia's spend over the past three quarters? \n",
      "\n",
      "**Answer**: From the provided information, we can see the patterns in NVIDIA's spending over the past three quarters:\n",
      "\n",
      "1. Research and Development (R&D) Expenses:\n",
      "   - Q3 2022: $1,403 million (34% increase compared to Q3 2021)\n",
      "   - Q1 2023: $1,618 million (40% increase compared to Q1 2022)\n",
      "   - Q3 2020: $712 million (18% increase compared to Q3 2019)\n",
      "\n",
      "   The R&D expenses have been consistently increasing over the past three quarters, indicating a focus on research and development activities.\n",
      "\n",
      "2. Sales, General and Administrative (SG&A) Expenses:\n",
      "   - Q3 2022: $557 million (8% increase compared to Q3 2021)\n",
      "   - Q1 2023: $592 million (14% increase compared to Q1 2022)\n",
      "   - Q3 2020: $277 million (7% increase compared to Q3 2019)\n",
      "\n",
      "   The SG&A expenses have also been increasing over the past three quarters, albeit at a slightly lower rate compared to the R&D expenses. This suggests investment in sales, marketing, and administrative functions.\n",
      "\n",
      "Overall, NVIDIA has experienced significant growth in both R&D and SG&A expenses over the past three quarters, indicating a focus on innovation and expanding their business operations. \n",
      "\n"
     ]
    }
   ],
   "source": [
    "questions = [\n",
    "    \"What are patterns in Nvidia's spend over the past three quarters?\",\n",
    "    # \"What are some recent challenges faced by the renewable energy sector?\",\n",
    "]\n",
    "chat_history = []\n",
    "\n",
    "for question in questions:\n",
    "    result = qa({\"question\": question, \"chat_history\": chat_history})\n",
    "    chat_history.append((question, result[\"answer\"]))\n",
    "    print(f\"-> **Question**: {question} \\n\")\n",
    "    print(f\"**Answer**: {result['answer']} \\n\")"
   ]
  }
 ],
 "metadata": {
  "kernelspec": {
   "display_name": "Python 3 (ipykernel)",
   "language": "python",
   "name": "python3"
  },
  "language_info": {
   "codemirror_mode": {
    "name": "ipython",
    "version": 3
   },
   "file_extension": ".py",
   "mimetype": "text/x-python",
   "name": "python",
   "nbconvert_exporter": "python",
   "pygments_lexer": "ipython3",
   "version": "3.9.18"
  }
 },
 "nbformat": 4,
 "nbformat_minor": 5
}
