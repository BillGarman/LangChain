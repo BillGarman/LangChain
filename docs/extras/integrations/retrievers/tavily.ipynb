{
 "cells": [
  {
   "attachments": {},
   "cell_type": "markdown",
   "metadata": {},
   "source": [
    "# Tavily Search API\n",
    "\n",
    "[Tavily's Search API](https://tavily.com) is a search engine built specifically for AI agents (LLMs), delivering real-time, accurate, and factual results at speed.\n",
    "\n",
    "## Usage\n",
    "\n",
    "For a full list of allowed arguments, see [the official documentation](https://app.tavily.com/documentation/python). You can also pass any param to the SDK via a `kwargs` dictionary."
   ]
  },
  {
   "cell_type": "code",
   "execution_count": null,
   "metadata": {},
   "outputs": [],
   "source": [
    "# %pip install tavily-python"
   ]
  },
  {
   "cell_type": "code",
   "execution_count": 1,
   "metadata": {},
   "outputs": [
    {
     "data": {
      "text/plain": [
       "[Document(page_content='The Legend of Zelda™: Breath of the Wild for the Nintendo Switch™ home gaming system and Wii U™ console - Official Site Watch the trailer A whole new world At home or on the go Tap into adventure...', metadata={'title': 'The Legend of Zelda: Breath of the Wild', 'source': 'https://zelda.nintendo.com/breath-of-the-wild/', 'score': 0.96431, 'images': None}),\n",
       " Document(page_content='Zelda: Breath of the Wild is the first game in the series to feature paid DLC. The DLC comes in three separate packs, and is available ONLY in one season pass bundle for $19.99. This content ...', metadata={'title': 'The Legend of Zelda: Breath of the Wild Guide - IGN', 'source': 'https://www.ign.com/wikis/the-legend-of-zelda-breath-of-the-wild', 'score': 0.94248, 'images': None}),\n",
       " Document(page_content='Nintendo Designer (s) Hidemaro Fujibayashi (director) Eiji Aonuma (producer/group manager) Release date (s) United States of America: • March 3, 2017 Japan: • March 3, 2017 Australia / New Zealand: • March 2, 2017 Belgium: • March 3, 2017 Hong Kong: • Feburary 1, 2018 South Korea: • February 1, 2018 The UK / Ireland: • March 3, 2017 Content ratings', metadata={'title': 'The Legend of Zelda: Breath of the Wild - Zelda Wiki', 'source': 'https://zelda.fandom.com/wiki/The_Legend_of_Zelda:_Breath_of_the_Wild', 'score': 0.93601, 'images': None}),\n",
       " Document(page_content='Sep 26, 2023. Nintendo Switch. The Legend of Zelda: Breath of the Wild. View All Platforms. Released On: Mar 3, 2017. Metascore Universal Acclaim Based on 117 Critic Reviews. 97. User Score Generally Favorable Based on 21,231 User Ratings. 8.7.', metadata={'title': 'The Legend of Zelda: Breath of the Wild - Metacritic', 'source': 'https://www.metacritic.com/game/the-legend-of-zelda-breath-of-the-wild/', 'score': 0.91683, 'images': None})]"
      ]
     },
     "execution_count": 1,
     "metadata": {},
     "output_type": "execute_result"
    }
   ],
   "source": [
    "import os\n",
    "from langchain.retrievers import TavilySearchAPIRetriever\n",
    "\n",
    "os.environ[\"TAVILY_API_KEY\"] = \"YOUR_API_KEY\"\n",
    "\n",
    "retriever = TavilySearchAPIRetriever(k=4)\n",
    "\n",
    "retriever.invoke(\"what year was breath of the wild released?\")"
   ]
  }
 ],
 "metadata": {
  "kernelspec": {
   "display_name": ".venv",
   "language": "python",
   "name": "python3"
  },
  "language_info": {
   "codemirror_mode": {
    "name": "ipython",
    "version": 3
   },
   "file_extension": ".py",
   "mimetype": "text/x-python",
   "name": "python",
   "nbconvert_exporter": "python",
   "pygments_lexer": "ipython3",
   "version": "3.10.5"
  },
  "orig_nbformat": 4
 },
 "nbformat": 4,
 "nbformat_minor": 2
}
