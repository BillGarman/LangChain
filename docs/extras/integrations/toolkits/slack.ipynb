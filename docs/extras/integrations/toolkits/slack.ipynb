{
 "cells": [
  {
   "cell_type": "code",
   "execution_count": null,
   "metadata": {},
   "outputs": [],
   "source": [
    "# send message, api def + permission required https://api.slack.com/methods/chat.postMessage\n",
    "# slack get token https://api.slack.com/tutorials/tracks/getting-a-token\n",
    "# https://api.slack.com/methods/conversations.list"
   ]
  },
  {
   "cell_type": "code",
   "execution_count": 2,
   "metadata": {},
   "outputs": [
    {
     "name": "stdout",
     "output_type": "stream",
     "text": [
      "Requirement already satisfied: slack_sdk in /home/vscode/langchain-py-env/lib/python3.11/site-packages (3.23.0)\n",
      "\n",
      "\u001b[1m[\u001b[0m\u001b[34;49mnotice\u001b[0m\u001b[1;39;49m]\u001b[0m\u001b[39;49m A new release of pip is available: \u001b[0m\u001b[31;49m23.2.1\u001b[0m\u001b[39;49m -> \u001b[0m\u001b[32;49m23.3.1\u001b[0m\n",
      "\u001b[1m[\u001b[0m\u001b[34;49mnotice\u001b[0m\u001b[1;39;49m]\u001b[0m\u001b[39;49m To update, run: \u001b[0m\u001b[32;49mpip install --upgrade pip\u001b[0m\n"
     ]
    }
   ],
   "source": [
    "# !pip install slack_sdk\n",
    "import os\n",
    "\n",
    "os.environ[\"OPENAI_API_KEY\"] = \"\"\n",
    "os.environ[\"SLACK_BOT_TOKEN\"]= \"\"\n",
    "os.environ[\"SLACK_USER_TOKEN\"]= \"\""
   ]
  },
  {
   "cell_type": "code",
   "execution_count": 4,
   "metadata": {},
   "outputs": [
    {
     "data": {
      "text/plain": [
       "[SlackSendMessage(client=<slack_sdk.web.client.WebClient object at 0x7f95c4986290>),\n",
       " SlackGetChannelIdNameDict(client=<slack_sdk.web.client.WebClient object at 0x7f95a3752690>)]"
      ]
     },
     "execution_count": 4,
     "metadata": {},
     "output_type": "execute_result"
    }
   ],
   "source": [
    "from langchain.agents.agent_toolkits import SlackToolkit\n",
    "toolkit = SlackToolkit()\n",
    "tools = toolkit.get_tools()\n",
    "tools\n"
   ]
  },
  {
   "cell_type": "code",
   "execution_count": null,
   "metadata": {},
   "outputs": [],
   "source": [
    "from langchain.tools.slack.send_message import SlackSendMessage\n",
    "tool = SlackSendMessage()\n",
    "output = tool._run(message= \"hi tool run\", channel=\"C0659C2D43F\" )"
   ]
  },
  {
   "cell_type": "code",
   "execution_count": null,
   "metadata": {},
   "outputs": [],
   "source": [
    "from langchain.tools.slack.get_channelIdNameDict import SlackGetChannelIdNameDict\n",
    "tool = SlackGetChannelIdNameDict()\n",
    "output = tool._run()"
   ]
  },
  {
   "cell_type": "code",
   "execution_count": null,
   "metadata": {},
   "outputs": [],
   "source": [
    "from langchain.llms import OpenAI\n",
    "from langchain.agents import initialize_agent, AgentType\n",
    "\n",
    "llm = OpenAI(temperature=0)\n",
    "agent = initialize_agent(\n",
    "    tools=toolkit.get_tools(),\n",
    "    llm=llm,\n",
    "    verbose=False,\n",
    "    agent=AgentType.STRUCTURED_CHAT_ZERO_SHOT_REACT_DESCRIPTION,\n",
    ")\n",
    "context = {\n",
    "    \"input\": {\n",
    "        \"toolkit\": {\n",
    "            \"slack\": {\n",
    "                \"send_message\": {\n",
    "                    \"description\": \"Sends a message to a specified Slack channel.\",\n",
    "                    \"parameters\": {\n",
    "                        \"message\": \"The message to send.\",\n",
    "                        \"channel\": \"The ID of the channel to send the message to.\"\n",
    "                    }\n",
    "                }\n",
    "            }\n",
    "        },\n",
    "        \"instructions\": \"Call the send_message function from the Slack toolkit with the message 'Hello world!' and the channel 'C0659C2D43F'.\"\n",
    "    }\n",
    "}\n",
    "\n",
    "agent.run(context)\n",
    "\n",
    "\n",
    "\n"
   ]
  },
  {
   "cell_type": "code",
   "execution_count": 7,
   "metadata": {},
   "outputs": [
    {
     "data": {
      "text/plain": [
       "\"There are 6 channels in total. The channels are 'wilson_test_channel', 'random', 'dueoct19identifyingissue', 'general', 'joytest', and 'jerrytest'. The earliest created channel is 'general', which was created on 1697334339. The number of members in each channel varies, but you can find the exact number of members for each channel in the observation above.\""
      ]
     },
     "execution_count": 7,
     "metadata": {},
     "output_type": "execute_result"
    }
   ],
   "source": [
    "from langchain.llms import OpenAI\n",
    "from langchain.agents import initialize_agent, AgentType\n",
    "\n",
    "llm = OpenAI(temperature=0)\n",
    "agent = initialize_agent(\n",
    "    tools=toolkit.get_tools(),\n",
    "    llm=llm,\n",
    "    verbose=False,\n",
    "    agent=AgentType.STRUCTURED_CHAT_ZERO_SHOT_REACT_DESCRIPTION,\n",
    ")\n",
    "\n",
    "context_get = {\n",
    "    \"input\": {\n",
    "        \"toolkit\": {\n",
    "            \"slack\": {\n",
    "                \"get_channelid_name_dict\": {\n",
    "                    \"parameters\": {}\n",
    "                }\n",
    "            }\n",
    "        },\n",
    "        \"instructions\": \"how many channels are there? what are their names? which one was created earliest? How many members are in each\"\n",
    "    }\n",
    "}\n",
    "\n",
    "agent.run(context_get)"
   ]
  },
  {
   "cell_type": "code",
   "execution_count": null,
   "metadata": {},
   "outputs": [],
   "source": []
  }
 ],
 "metadata": {
  "kernelspec": {
   "display_name": "Python 3 (ipykernel)",
   "language": "python",
   "name": "python3"
  },
  "language_info": {
   "codemirror_mode": {
    "name": "ipython",
    "version": 3
   },
   "file_extension": ".py",
   "mimetype": "text/x-python",
   "name": "python",
   "nbconvert_exporter": "python",
   "pygments_lexer": "ipython3",
   "version": "3.11.4"
  }
 },
 "nbformat": 4,
 "nbformat_minor": 4
}
