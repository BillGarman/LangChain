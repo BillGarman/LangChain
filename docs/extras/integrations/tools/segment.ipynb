{
 "cells": [
  {
   "cell_type": "markdown",
   "id": "907cef58",
   "metadata": {},
   "source": [
    "# Segment\n",
    "\n",
    "This notebook goes over how to use the [Segment](https://segment.com/) API wrapper to collect the analytical data to improve the LLM based solution.\n",
    "\n",
    "Segment is a customer data platform (CDP) that helps you collect, clean, and control your customer data. It simplifies the process of collecting data from your website or app, integrating with hundreds of sources, and sending that data to hundreds of destinations."
   ]
  },
  {
   "cell_type": "markdown",
   "id": "5af66d62",
   "metadata": {},
   "source": [
    "## Prerequisites\n",
    "\n",
    "Segment write key. You can get these keys from the Segment dashboard."
   ]
  },
  {
   "cell_type": "markdown",
   "id": "bb8a4873",
   "metadata": {},
   "source": [
    "## Setup\n",
    "\n",
    "Install the Segment package using pip:"
   ]
  },
  {
   "cell_type": "code",
   "execution_count": null,
   "id": "a4f8b497",
   "metadata": {
    "vscode": {
     "languageId": "plaintext"
    }
   },
   "outputs": [],
   "source": [
    "!pip install segment-analytics-python"
   ]
  },
  {
   "cell_type": "markdown",
   "id": "fab4e58c",
   "metadata": {},
   "source": [
    "## Usage\n",
    "\n",
    "### Send track event\n",
    "\n",
    "Most of the data collected by Segment is in the form of track events. A track call is how you record any actions your users perform, along with any properties that describe the action."
   ]
  },
  {
   "cell_type": "code",
   "execution_count": null,
   "id": "0511a067",
   "metadata": {
    "vscode": {
     "languageId": "plaintext"
    }
   },
   "outputs": [],
   "source": [
    "from langchain.utilities.segment import SegmentAPIWrapper\n",
    "\n",
    "segment = SegmentAPIWrapper(write_key='YOUR_WRITE_KEY')\n",
    "\n",
    "segment.run('Question Asked', user_id='123', properties={\n",
    "    'question': 'What is the capital of France?',\n",
    "    'answer': 'Paris',\n",
    "    'satisfied': True,\n",
    "    'score': 10,\n",
    "    'time_taken': 5,\n",
    "    'time_asked': '2020-01-01T00:00:00Z',\n",
    "    'time_answered': '2020-01-01T00:00:05Z',\n",
    "})"
   ]
  },
  {
   "cell_type": "markdown",
   "id": "eab4fe88",
   "metadata": {},
   "source": [
    "### Send identify event\n",
    "\n",
    "The identify call ties a user to their actions and record traits about them. It includes a unique User ID and any optional traits you know about them."
   ]
  },
  {
   "cell_type": "code",
   "execution_count": null,
   "id": "39be1b55",
   "metadata": {
    "vscode": {
     "languageId": "plaintext"
    }
   },
   "outputs": [],
   "source": [
    "from langchain.utilities.segment import SegmentAPIWrapper\n",
    "\n",
    "segment = SegmentAPIWrapper(write_key='YOUR_WRITE_KEY')\n",
    "\n",
    "segment.identify(user_id='123', traits={\n",
    "    'name': 'John Doe',\n",
    "    'email': 'jhon@example.com',\n",
    "    'phone': '+1234567890',\n",
    "    'language': 'en',\n",
    "    'country': 'US',\n",
    "    'city': 'New York',\n",
    "    'state': 'New York',\n",
    "    'postal_code': '10001',\n",
    "    'address': '123 Main St',\n",
    "})"
   ]
  },
  {
   "cell_type": "markdown",
   "id": "d0fee98b",
   "metadata": {},
   "source": [
    "## References\n",
    "\n",
    "- [Get Started](https://segment.com/docs/getting-started/)\n",
    "- [Segment Spec](https://segment.com/docs/connections/spec/)"
   ]
  }
 ],
 "metadata": {
  "kernelspec": {
   "display_name": "Python 3",
   "language": "python",
   "name": "python3"
  },
  "language_info": {
   "codemirror_mode": {
    "name": "ipython",
    "version": 2
   },
   "file_extension": ".py",
   "mimetype": "text/x-python",
   "name": "python",
   "nbconvert_exporter": "python",
   "pygments_lexer": "ipython2",
   "version": "2.7.6"
  }
 },
 "nbformat": 4,
 "nbformat_minor": 5
}
