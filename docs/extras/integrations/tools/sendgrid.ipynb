{
 "cells": [
  {
   "attachments": {},
   "cell_type": "markdown",
   "id": "dc23c48e",
   "metadata": {},
   "source": [
    "# Sendgrid\n",
    "\n",
    "This notebook goes over how to use the [Sendgrid](https://www.sendgrid.com) API wrapper to send an email."
   ]
  },
  {
   "attachments": {},
   "cell_type": "markdown",
   "id": "c1a33b13",
   "metadata": {},
   "source": [
    "## Setup\n",
    "\n",
    "To use this tool you need to install the Python Sendgrid package `sendgrid`"
   ]
  },
  {
   "cell_type": "code",
   "execution_count": 1,
   "id": "98b544b9",
   "metadata": {},
   "outputs": [],
   "source": [
    "# !pip install sendgrid"
   ]
  },
  {
   "attachments": {},
   "cell_type": "markdown",
   "id": "f7e883ae",
   "metadata": {},
   "source": [
    "You'll also need to set up a Sendgrid account and get your API key. You'll need your Account String Identifier (SID) and your Auth Token. You'll also need a verified email to send from. This can be setup at https://sendgrid.com/\n",
    "\n",
    "You can either pass the API key to the SendgridAPIWrapper as a named parameter `api_key` or you can set the environment variable `SENDGRID_API_KEY`."
   ]
  },
  {
   "attachments": {},
   "cell_type": "markdown",
   "id": "36c133be",
   "metadata": {},
   "source": [
    "## Sending an Email"
   ]
  },
  {
   "cell_type": "code",
   "execution_count": 1,
   "id": "54bf5afd",
   "metadata": {},
   "outputs": [],
   "source": [
    "from langchain.utilities.sendgrid import SendgridAPIWrapper"
   ]
  },
  {
   "cell_type": "code",
   "execution_count": 2,
   "id": "31f8f382",
   "metadata": {},
   "outputs": [],
   "source": [
    "sendgrid = SendgridAPIWrapper(\n",
    "    #     api_key=\"SG.xxxx\",\n",
    ")"
   ]
  },
  {
   "cell_type": "code",
   "execution_count": null,
   "id": "5009d763",
   "metadata": {},
   "outputs": [],
   "source": [
    "sendgrid.run(\"test@test.com\", \"test@test.com\", \"langchain - test\", \" langchain FTW\", \"text/plain\")"
   ]
  }
 ],
 "metadata": {
  "kernelspec": {
   "display_name": "Python 3 (ipykernel)",
   "language": "python",
   "name": "python3"
  },
  "language_info": {
   "codemirror_mode": {
    "name": "ipython",
    "version": 3
   },
   "file_extension": ".py",
   "mimetype": "text/x-python",
   "name": "python",
   "nbconvert_exporter": "python",
   "pygments_lexer": "ipython3",
   "version": "3.11.3"
  }
 },
 "nbformat": 4,
 "nbformat_minor": 5
}
