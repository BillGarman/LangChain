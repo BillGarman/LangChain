{
 "cells": [
  {
   "cell_type": "markdown",
   "id": "19062701",
   "metadata": {},
   "source": [
    "## Cogniswitch Tools\n",
    "\n",
    "**Use CogniSwitch to build production ready applications that can consume, organize and retrieve knowledge flawlessly. Using the framework of your choice, in this case Langchain CogniSwitch helps alleviate the stress of decision making when it comes to, choosing the right storage and retrieval formats. It also eradicates reliability issues and hallucinations when it comes to responses that are generated. Get started by interacting with your knowledge in just two simple steps.**\n",
    "\n",
    "Visit [https://www.cogniswitch.ai/developer to register](https://www.cogniswitch.ai/developer?utm_source=langchain&utm_medium=langchainbuild&utm_id=dev)\n",
    "\n",
    "**Registration:** \n",
    "- Signup with your email and verify your registration \n",
    "- You will get a mail with a platform token and oauth token for using the services.\n",
    "\n",
    "**Step 1: Cogniswitch Store Tool:** \n",
    "- Use your cogniswitch token, openAI API key, oauth token and your file or URL to run the tool. \n",
    "- It will be processed and stored in your knowledge store.  \n",
    "- You can check the status of document processing in cogniswitch console. \n",
    "\n",
    "**Step 2: Cogniswitch Answer Tool:**\n",
    "- Use your cogniswitch token, openAI API key, oauth token and your question to run the tool.  \n",
    "- You will get the answer from your knowledge as the response. "
   ]
  },
  {
   "cell_type": "markdown",
   "id": "1435b193",
   "metadata": {},
   "source": [
    "### Import necessary libraries"
   ]
  },
  {
   "cell_type": "code",
   "execution_count": 1,
   "id": "3d2dfc9f",
   "metadata": {},
   "outputs": [],
   "source": [
    "import warnings\n",
    "warnings.filterwarnings(\"ignore\")\n",
    "\n",
    "from langchain.tools import CogniswitchStoreTool, CogniswitchAnswerTool"
   ]
  },
  {
   "cell_type": "markdown",
   "id": "6e6acf0e",
   "metadata": {},
   "source": [
    "### Cogniswitch platform token, OAuth token and OpenAI API key"
   ]
  },
  {
   "cell_type": "code",
   "execution_count": 2,
   "id": "30e3b86c",
   "metadata": {},
   "outputs": [],
   "source": [
    "# cs_token = <Your cogniswitch platform token>\n",
    "# OAI_token = <Your OpenAI API key>\n",
    "# oauth_token = <Your OAuth token>"
   ]
  },
  {
   "cell_type": "markdown",
   "id": "3476857f",
   "metadata": {},
   "source": [
    "## Cogniswitch Store Chain"
   ]
  },
  {
   "cell_type": "markdown",
   "id": "320e02fc",
   "metadata": {},
   "source": [
    "### Instantiate the Store Tool"
   ]
  },
  {
   "cell_type": "code",
   "execution_count": 3,
   "id": "89f58167",
   "metadata": {},
   "outputs": [],
   "source": [
    "cs_store = CogniswitchStoreTool(cs_token = cs_token,\n",
    "                               OAI_token = OAI_token,\n",
    "                               apiKey = oauth_token)"
   ]
  },
  {
   "cell_type": "markdown",
   "id": "42c9890e",
   "metadata": {},
   "source": [
    "### Run the tool with either url or a file path"
   ]
  },
  {
   "cell_type": "code",
   "execution_count": 4,
   "id": "5c6410e9",
   "metadata": {
    "scrolled": false
   },
   "outputs": [],
   "source": [
    "response = cs_store._run(url=\"https://cogniswitch.ai/developer\")"
   ]
  },
  {
   "cell_type": "code",
   "execution_count": 5,
   "id": "794b4fba",
   "metadata": {},
   "outputs": [
    {
     "name": "stdout",
     "output_type": "stream",
     "text": [
      "{'data': {'knowledgeSourceId': 67, 'sourceType': 'https://cogniswitch.ai/developer', 'sourceURL': None, 'sourceFileName': None, 'sourceName': None, 'sourceDescription': None, 'status': 'UPLOADED'}, 'list': None, 'message': \"We're processing your content & will send you an email on completion, hang tight!\", 'statusCode': 1000}\n"
     ]
    }
   ],
   "source": [
    "print(response)"
   ]
  },
  {
   "cell_type": "markdown",
   "id": "b5e9ca94",
   "metadata": {},
   "source": [
    "## Cogniswitch Answer Tool"
   ]
  },
  {
   "cell_type": "markdown",
   "id": "c7d32067",
   "metadata": {},
   "source": [
    "### Instantiate the Answer Tool"
   ]
  },
  {
   "cell_type": "code",
   "execution_count": 6,
   "id": "1365953e",
   "metadata": {
    "scrolled": false
   },
   "outputs": [],
   "source": [
    "cs_answer = CogniswitchAnswerTool(cs_token = cs_token,\n",
    "                               OAI_token=OAI_token,\n",
    "                               apiKey=oauth_token)"
   ]
  },
  {
   "cell_type": "markdown",
   "id": "0ba9aca9",
   "metadata": {},
   "source": [
    "### Run the tool with the query"
   ]
  },
  {
   "cell_type": "code",
   "execution_count": 7,
   "id": "eb059787",
   "metadata": {
    "scrolled": true
   },
   "outputs": [],
   "source": [
    "response = cs_answer._run(query = \"tell me about cogniswitch\")"
   ]
  },
  {
   "cell_type": "code",
   "execution_count": 8,
   "id": "e73e963f",
   "metadata": {
    "scrolled": true
   },
   "outputs": [
    {
     "name": "stdout",
     "output_type": "stream",
     "text": [
      "{'data': {'answer': 'CogniSwitch is a platform that offers intelligent support tools and knowledge on-demand. It utilizes automation tools to process documents and create dynamic knowledge graphs. This allows for intuitive exploration of data and provides user-friendly answers. Additionally, CogniSwitch keeps track of any edits made to the knowledge and incorporates human expertise.'}, 'list': None, 'message': None, 'statusCode': 1000}\n"
     ]
    }
   ],
   "source": [
    "print(response)"
   ]
  }
 ],
 "metadata": {
  "kernelspec": {
   "display_name": "langchain_repo",
   "language": "python",
   "name": "langchain_repo"
  },
  "language_info": {
   "codemirror_mode": {
    "name": "ipython",
    "version": 3
   },
   "file_extension": ".py",
   "mimetype": "text/x-python",
   "name": "python",
   "nbconvert_exporter": "python",
   "pygments_lexer": "ipython3",
   "version": "3.9.17"
  }
 },
 "nbformat": 4,
 "nbformat_minor": 5
}
