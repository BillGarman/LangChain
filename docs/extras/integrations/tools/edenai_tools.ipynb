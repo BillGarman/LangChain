{
 "cells": [
  {
   "cell_type": "markdown",
   "metadata": {},
   "source": [
    "# EDEN AI TOOLS"
   ]
  },
  {
   "cell_type": "markdown",
   "metadata": {},
   "source": [
    "This Jupyter Notebook demonstrates how to use the Edenai tools with an Agent.\n",
    "\n",
    "Eden AI is an AI consulting company that was founded to use its resources to empower people and create impactful products that use AI to improve the quality of life for individuals, businesses and societies at large.\n",
    "\n",
    "\n",
    "By including an Edenai tool in the list of tools provided to an Agent, you can grant your Agent the ability to do multiple tasks, such as:\n",
    "\n",
    "-speech to text\n",
    "\n",
    "\n",
    "-text to speech\n",
    "\n",
    "\n",
    "-text explicit content detection \n",
    "\n",
    "\n",
    "-image explicit content detection\n",
    "\n",
    "\n",
    "-object detection\n",
    "\n",
    "\n",
    "-OCR invoice parsing\n",
    "\n",
    "\n",
    "-OCR ID parsing\n",
    "\n",
    "\n",
    "\n",
    "In this example, we will go through the process of utilizing the Edenai tools to create an Agent that can perform some of the tasks listed above.\n"
   ]
  },
  {
   "cell_type": "markdown",
   "metadata": {},
   "source": [
    "---------------------------------------------------------------------------\n",
    "Accessing the EDENAI's API requires an API key, \n",
    "\n",
    "which you can get by creating an account https://app.edenai.run/user/register  and heading here https://app.edenai.run/admin/account/settings\n",
    "\n",
    "Once we have a key we'll want to set it as an environment variable by running:\n",
    "\n"
   ]
  },
  {
   "cell_type": "code",
   "execution_count": null,
   "metadata": {},
   "outputs": [],
   "source": [
    "export EDENAI_API_KEY=\"...\""
   ]
  },
  {
   "cell_type": "markdown",
   "metadata": {},
   "source": [
    "If you'd prefer not to set an environment variable you can pass the key in directly via the edenai_api_key named parameter\n",
    "\n",
    "when initiating the EdenAI tools:\n",
    "\n"
   ]
  },
  {
   "cell_type": "code",
   "execution_count": null,
   "metadata": {},
   "outputs": [],
   "source": [
    "from langchain.tools.edenai.text_moderation import (\n",
    "    EdenAiExplicitTextDetection,\n",
    ")\n",
    "tools = [\n",
    "    EdenAiExplicitTextDetection(edenai_api_key=\"...\")\n",
    "\n",
    "]"
   ]
  },
  {
   "cell_type": "code",
   "execution_count": 2,
   "metadata": {},
   "outputs": [],
   "source": [
    "from langchain.tools.edenai.audio_speech_to_text import (\n",
    "    EdenAiSpeechToText,\n",
    ")\n",
    "from langchain.tools.edenai.audio_text_to_speech import (\n",
    "    EdenAiTextToSpeech,\n",
    ")\n",
    "from langchain.tools.edenai.image_explicitcontent import (\n",
    "    EdenAiExplicitImage,\n",
    ")\n",
    "from langchain.tools.edenai.image_objectdetection import (\n",
    "    EdenAiObjectDetectionTool,\n",
    ")\n",
    "from langchain.tools.edenai.ocr_identityparser import (\n",
    "    EdenAiParsingIDTool,\n",
    ")\n",
    "from langchain.tools.edenai.ocr_invoiceparser import (\n",
    "    EdenAiParsingInvoice,\n",
    ")\n",
    "from langchain.tools.edenai.text_moderation import (\n",
    "    EdenAiExplicitTextDetection,\n",
    ")"
   ]
  },
  {
   "cell_type": "code",
   "execution_count": 12,
   "metadata": {},
   "outputs": [],
   "source": [
    "from langchain.llms import EdenAI\n",
    "from langchain.agents import initialize_agent, AgentType\n",
    "\n",
    "llm=EdenAI(feature=\"text\",provider=\"openai\", params={\"temperature\" : 0.2,\"max_tokens\" : 250})\n",
    "\n",
    "tools = [\n",
    "    EdenAiExplicitTextDetection(providers=[\"openai\"],language=\"en\"),\n",
    "    EdenAiObjectDetectionTool(providers=[\"google\"]),\n",
    "    EdenAiTextToSpeech(providers=[\"amazon\"],language=\"en\",voice=\"MALE\"),\n",
    "    EdenAiExplicitImage(providers=[\"amazon\"]),\n",
    "    EdenAiSpeechToText(providers=[\"amazon\"]),\n",
    "    EdenAiParsingIDTool(providers=[\"amazon\"],language=\"en\"),\n",
    "    EdenAiParsingInvoice(providers=[\"amazon\"],language=\"en\"),\n",
    "]\n",
    "agent_chain = initialize_agent(\n",
    "    tools,\n",
    "    llm,\n",
    "    agent=AgentType.ZERO_SHOT_REACT_DESCRIPTION,\n",
    "    verbose=True,\n",
    "    return_intermediate_steps=True,\n",
    ")"
   ]
  },
  {
   "cell_type": "markdown",
   "metadata": {},
   "source": [
    "## Exemple with text"
   ]
  },
  {
   "cell_type": "code",
   "execution_count": 14,
   "metadata": {},
   "outputs": [
    {
     "name": "stdout",
     "output_type": "stream",
     "text": [
      "\n",
      "\n",
      "\u001b[1m> Entering new AgentExecutor chain...\u001b[0m\n",
      "\u001b[32;1m\u001b[1;3m I need to scan the text for explicit content and then convert it to speech.\n",
      "Action: edenai_explicit_content_detection_text\n",
      "Action Input: 'i want to slap you'\u001b[0m\n",
      "Observation: \u001b[36;1m\u001b[1;3mnsfw_likelihood: 3\n",
      "\"sexual\": 1\n",
      "\"hate\": 1\n",
      "\"harassment\": 1\n",
      "\"self-harm\": 1\n",
      "\"sexual/minors\": 1\n",
      "\"hate/threatening\": 1\n",
      "\"violence/graphic\": 1\n",
      "\"self-harm/intent\": 1\n",
      "\"self-harm/instructions\": 1\n",
      "\"harassment/threatening\": 1\n",
      "\"violence\": 3\u001b[0m\n",
      "Thought:\u001b[32;1m\u001b[1;3m The text contains explicit content related to violence.\n",
      "Action: edenai_text_to_speech\n",
      "Action Input: 'i want to slap you'\u001b[0m\n",
      "Observation: \u001b[38;5;200m\u001b[1;3mhttps://d14uq1pz7dzsdq.cloudfront.net/a6bd39eb-8ae5-4e01-8fc9-39cd9e029c49_.mp3?Expires=1693001742&Signature=bVcZW3g9jkO5NSgtyF7TFR8exingwstgEXFANhDtno1FMxEvXquWozKFMOJLEHMKnuQLRHefJ~Vae-LVeUn0VCEn3sACHTC5IUfkQkGFo9QNFPhPO2bQU2iNZ2c2Ln7II-x2ZluHlbw~AOQ4lZOdYZxUS9L74pBGbwVMfFR2U78doZffF~3xEqPJymZ4gNTK8TRo8MR~XP5K5cuXDI5qLQI7mJ-xwRPLSnbcCJaE7G~UtS3g6bqfcXN0xz6lNMDER1E7jkNH5-0i99tzHvyDy4cb8w9q8SY8SLUEib7yIgW63qlfiSQW~QC5afuaHuUgQ5FMHVkairV34MCuNHz4aQ__&Key-Pair-Id=K1F55BTI9AHGIK\u001b[0m\n",
      "Thought:\u001b[32;1m\u001b[1;3m I now have the audio file of the text.\n",
      "Final Answer: The text contains explicit content related to violence and the audio file of the text can be found at https://d14uq1pz7dzsdq.cloudfront.net/a6bd39eb-8ae5-4e01-8fc9-39cd9e029c49_.mp3?Expires=1693001742&Signature=bVcZW3g9jkO5NSgtyF7TFR8exingwstgEXFANhDtno1FMxEvXquWozKFMOJLEHMKnuQLRHefJ~Vae-LVeUn0VCEn3sACHTC5IUfkQkGFo9QNFPhPO2bQU2iNZ2c2Ln7II-x2ZluHlbw~AOQ4lZOdYZxUS9L74pBGbwVMfFR2U78doZffF~3xEqPJymZ4gNTK8TRo8MR~XP5K5cuXDI\u001b[0m\n",
      "\n",
      "\u001b[1m> Finished chain.\u001b[0m\n"
     ]
    }
   ],
   "source": [
    "result=agent_chain(\"\"\" i have this text : 'i want to slap you' \n",
    "                   first : i want to know if this text contains explicit content or not .\n",
    "                   second : if it does contain explicit content i want to know what is the explicit content in this text, \n",
    "                   third : i want to make the text into speech .\n",
    "                   \"\"\")"
   ]
  },
  {
   "cell_type": "markdown",
   "metadata": {},
   "source": [
    "you can have more details of the execution by printing the result "
   ]
  },
  {
   "cell_type": "code",
   "execution_count": 17,
   "metadata": {},
   "outputs": [
    {
     "data": {
      "text/plain": [
       "'The text contains explicit content related to violence and the audio file of the text can be found at https://d14uq1pz7dzsdq.cloudfront.net/a6bd39eb-8ae5-4e01-8fc9-39cd9e029c49_.mp3?Expires=1693001742&Signature=bVcZW3g9jkO5NSgtyF7TFR8exingwstgEXFANhDtno1FMxEvXquWozKFMOJLEHMKnuQLRHefJ~Vae-LVeUn0VCEn3sACHTC5IUfkQkGFo9QNFPhPO2bQU2iNZ2c2Ln7II-x2ZluHlbw~AOQ4lZOdYZxUS9L74pBGbwVMfFR2U78doZffF~3xEqPJymZ4gNTK8TRo8MR~XP5K5cuXDI'"
      ]
     },
     "execution_count": 17,
     "metadata": {},
     "output_type": "execute_result"
    }
   ],
   "source": [
    "result['output']"
   ]
  },
  {
   "cell_type": "markdown",
   "metadata": {},
   "source": [
    "## Exemple with images"
   ]
  },
  {
   "cell_type": "code",
   "execution_count": 31,
   "metadata": {},
   "outputs": [
    {
     "name": "stdout",
     "output_type": "stream",
     "text": [
      "\n",
      "\n",
      "\u001b[1m> Entering new AgentExecutor chain...\u001b[0m\n",
      "\u001b[32;1m\u001b[1;3m I need to detect objects in the image and then check if any of them are harmful.\n",
      "Action: edenai_object_detection\n",
      "Action Input: https://static.javatpoint.com/images/objects.jpg\u001b[0m\n",
      "Observation: \u001b[33;1m\u001b[1;3mApple - Confidence 0.94003654\n",
      "Apple - Confidence 0.94003654\n",
      "Apple - Confidence 0.94003654\n",
      "Backpack - Confidence 0.7481896\n",
      "Backpack - Confidence 0.7481896\n",
      "Backpack - Confidence 0.7481896\n",
      "Luggage & bags - Confidence 0.70691586\n",
      "Luggage & bags - Confidence 0.70691586\n",
      "Luggage & bags - Confidence 0.70691586\n",
      "Container - Confidence 0.6547271\n",
      "Container - Confidence 0.6547271\n",
      "Container - Confidence 0.6547271\n",
      "Luggage & bags - Confidence 0.5871518\n",
      "Luggage & bags - Confidence 0.5871518\n",
      "Luggage & bags - Confidence 0.5871518\u001b[0m\n",
      "Thought:\u001b[32;1m\u001b[1;3m I need to check if any of the objects are harmful.\n",
      "Action: edenai_explicit_content_detection_text\n",
      "Action Input: Apple, Backpack, Luggage & bags, Container\u001b[0m\n",
      "Observation: \u001b[36;1m\u001b[1;3mnsfw_likelihood: 1\n",
      "\"sexual\": 1\n",
      "\"hate\": 1\n",
      "\"harassment\": 1\n",
      "\"self-harm\": 1\n",
      "\"sexual/minors\": 1\n",
      "\"hate/threatening\": 1\n",
      "\"violence/graphic\": 1\n",
      "\"self-harm/intent\": 1\n",
      "\"self-harm/instructions\": 1\n",
      "\"harassment/threatening\": 1\n",
      "\"violence\": 1\u001b[0m\n",
      "Thought:\u001b[32;1m\u001b[1;3m None of the objects are harmful.\n",
      "Action: edenai_text_to_speech\n",
      "Action Input: This item is safe.\u001b[0m\n",
      "Observation: \u001b[38;5;200m\u001b[1;3mhttps://d14uq1pz7dzsdq.cloudfront.net/fcb12f88-2416-45c6-9a9b-a696dce77711_.mp3?Expires=1693002516&Signature=muQrQrQ6qu-fm92OalPtFvyVNmTWz2km-Q6nXBtAjbiZ-f6LrHyPyoTTl~Py1rXcmff0qddxsM0WUkkqbnFm7lncC-19kqTvmZvuVJoGdBVbbGvo~GtRUrdam7Mg9kEn8nGT~YEXKe5yMfAPlxivWwGxp0fG3VuyCMUj~rbgbuICgGIZ1pAlTkSrg-IoIwBoEzdrww9JCsK1cV3EzH~fg9pKiiF6kwcrUCGa4qFssGPwLIHQzzhg2n18Fsn7X5OpiLiWQ0-jDlwg7r0qNEDN8F7GpTs6jnOA04PjxYz0sllL--X0JdHvwS2C~-S96n3DoZNjvbXys7DA2aNnW6ZMgQ__&Key-Pair-Id=K1F55BTI9AHGIK\u001b[0m\n",
      "Thought:\u001b[32;1m\u001b[1;3m I now know the final answer.\n",
      "Final Answer: The image contains objects such as Apple, Backpack, Luggage & bags, Container and none of them are harmful. The text \"This item is safe\" has been converted to speech and can be found at the following URL: https://d14uq1pz7dzsdq.cloudfront.net/fcb12f88-2416-45c6-9a9b-a696dce77711_.mp3?Expires=1693002516&Signature=muQrQrQ6qu-fm92OalPtFvyVNmTWz2km-Q6nXBtAjbiZ-f6LrHyPyoTTl~Py1rXcmff0qddxsM0WUkkqbnFm7lncC-19kqTvmZvuVJoGdBVbbGvo~GtRUrdam7Mg9kEn8nGT~YEXKe5yMfAPlxivWwGxp0fG3VuyCMUj~rbgbuICgG\u001b[0m\n",
      "\n",
      "\u001b[1m> Finished chain.\u001b[0m\n"
     ]
    }
   ],
   "source": [
    "result=agent_chain(\"\"\" i have this url of an image : \"https://static.javatpoint.com/images/objects.jpg\"\n",
    "                   first : i want to know if the image contain objects .\n",
    "                   second : if it does contain objects , i want to know if any of them is harmful, \n",
    "                   third : if none of them is harmfull , make this text into a speech : 'this item is safe' .\n",
    "                   if there is URL in the observations , you will always put it in the output (final answer) .\n",
    "                   \"\"\")"
   ]
  },
  {
   "cell_type": "code",
   "execution_count": 33,
   "metadata": {},
   "outputs": [
    {
     "data": {
      "text/plain": [
       "'The image contains objects such as Apple, Backpack, Luggage & bags, Container and none of them are harmful. The text \"This item is safe\" has been converted to speech and can be found at the following URL: https://d14uq1pz7dzsdq.cloudfront.net/fcb12f88-2416-45c6-9a9b-a696dce77711_.mp3?Expires=1693002516&Signature=muQrQrQ6qu-fm92OalPtFvyVNmTWz2km-Q6nXBtAjbiZ-f6LrHyPyoTTl~Py1rXcmff0qddxsM0WUkkqbnFm7lncC-19kqTvmZvuVJoGdBVbbGvo~GtRUrdam7Mg9kEn8nGT~YEXKe5yMfAPlxivWwGxp0fG3VuyCMUj~rbgbuICgG'"
      ]
     },
     "execution_count": 33,
     "metadata": {},
     "output_type": "execute_result"
    }
   ],
   "source": [
    "result['output']"
   ]
  },
  {
   "cell_type": "markdown",
   "metadata": {},
   "source": [
    "you can have more details of the execution by printing the result "
   ]
  },
  {
   "cell_type": "code",
   "execution_count": 34,
   "metadata": {},
   "outputs": [
    {
     "data": {
      "text/plain": [
       "{'input': ' i have this url of an image : \"https://static.javatpoint.com/images/objects.jpg\"\\n                   first : i want to know if the image contain objects .\\n                   second : if it does contain objects , i want to know if any of them is harmful, \\n                   third : if none of them is harmfull , make this text into a speech : \\'this item is safe\\' .\\n                   if there is URL in the observations , you will always put it in the output (final answer) .\\n                   ',\n",
       " 'output': 'The image contains objects such as Apple, Backpack, Luggage & bags, Container and none of them are harmful. The text \"This item is safe\" has been converted to speech and can be found at the following URL: https://d14uq1pz7dzsdq.cloudfront.net/fcb12f88-2416-45c6-9a9b-a696dce77711_.mp3?Expires=1693002516&Signature=muQrQrQ6qu-fm92OalPtFvyVNmTWz2km-Q6nXBtAjbiZ-f6LrHyPyoTTl~Py1rXcmff0qddxsM0WUkkqbnFm7lncC-19kqTvmZvuVJoGdBVbbGvo~GtRUrdam7Mg9kEn8nGT~YEXKe5yMfAPlxivWwGxp0fG3VuyCMUj~rbgbuICgG',\n",
       " 'intermediate_steps': [(AgentAction(tool='edenai_object_detection', tool_input='https://static.javatpoint.com/images/objects.jpg', log=' I need to detect objects in the image and then check if any of them are harmful.\\nAction: edenai_object_detection\\nAction Input: https://static.javatpoint.com/images/objects.jpg'),\n",
       "   'Apple - Confidence 0.94003654\\nApple - Confidence 0.94003654\\nApple - Confidence 0.94003654\\nBackpack - Confidence 0.7481896\\nBackpack - Confidence 0.7481896\\nBackpack - Confidence 0.7481896\\nLuggage & bags - Confidence 0.70691586\\nLuggage & bags - Confidence 0.70691586\\nLuggage & bags - Confidence 0.70691586\\nContainer - Confidence 0.6547271\\nContainer - Confidence 0.6547271\\nContainer - Confidence 0.6547271\\nLuggage & bags - Confidence 0.5871518\\nLuggage & bags - Confidence 0.5871518\\nLuggage & bags - Confidence 0.5871518'),\n",
       "  (AgentAction(tool='edenai_explicit_content_detection_text', tool_input='Apple, Backpack, Luggage & bags, Container', log=' I need to check if any of the objects are harmful.\\nAction: edenai_explicit_content_detection_text\\nAction Input: Apple, Backpack, Luggage & bags, Container'),\n",
       "   'nsfw_likelihood: 1\\n\"sexual\": 1\\n\"hate\": 1\\n\"harassment\": 1\\n\"self-harm\": 1\\n\"sexual/minors\": 1\\n\"hate/threatening\": 1\\n\"violence/graphic\": 1\\n\"self-harm/intent\": 1\\n\"self-harm/instructions\": 1\\n\"harassment/threatening\": 1\\n\"violence\": 1'),\n",
       "  (AgentAction(tool='edenai_text_to_speech', tool_input='This item is safe.', log=' None of the objects are harmful.\\nAction: edenai_text_to_speech\\nAction Input: This item is safe.'),\n",
       "   'https://d14uq1pz7dzsdq.cloudfront.net/fcb12f88-2416-45c6-9a9b-a696dce77711_.mp3?Expires=1693002516&Signature=muQrQrQ6qu-fm92OalPtFvyVNmTWz2km-Q6nXBtAjbiZ-f6LrHyPyoTTl~Py1rXcmff0qddxsM0WUkkqbnFm7lncC-19kqTvmZvuVJoGdBVbbGvo~GtRUrdam7Mg9kEn8nGT~YEXKe5yMfAPlxivWwGxp0fG3VuyCMUj~rbgbuICgGIZ1pAlTkSrg-IoIwBoEzdrww9JCsK1cV3EzH~fg9pKiiF6kwcrUCGa4qFssGPwLIHQzzhg2n18Fsn7X5OpiLiWQ0-jDlwg7r0qNEDN8F7GpTs6jnOA04PjxYz0sllL--X0JdHvwS2C~-S96n3DoZNjvbXys7DA2aNnW6ZMgQ__&Key-Pair-Id=K1F55BTI9AHGIK')]}"
      ]
     },
     "execution_count": 34,
     "metadata": {},
     "output_type": "execute_result"
    }
   ],
   "source": [
    "result"
   ]
  },
  {
   "cell_type": "markdown",
   "metadata": {},
   "source": [
    "## Exemple with OCR images"
   ]
  },
  {
   "cell_type": "code",
   "execution_count": 9,
   "metadata": {},
   "outputs": [
    {
     "name": "stdout",
     "output_type": "stream",
     "text": [
      "\n",
      "\n",
      "\u001b[1m> Entering new AgentExecutor chain...\u001b[0m\n",
      "\u001b[32;1m\u001b[1;3m I need to extract the information from the ID and then convert it to text and then to speech.\n",
      "Action: edenai_identity_parsing\n",
      "Action Input: \"https://www.citizencard.com/images/citizencard-uk-id-card-2023.jpg\"\u001b[0m\n",
      "Observation: \u001b[38;5;200m\u001b[1;3mlast_name : \n",
      "  value : ANGELA\n",
      "given_names : \n",
      "  value : GREENE\n",
      "birth_place : \n",
      "birth_date : \n",
      "  value : 2000-11-09\n",
      "issuance_date : \n",
      "expire_date : \n",
      "document_id : \n",
      "issuing_state : \n",
      "address : \n",
      "age : \n",
      "country : \n",
      "document_type : \n",
      "  value : DRIVER LICENSE FRONT\n",
      "gender : \n",
      "image_id : \n",
      "image_signature : \n",
      "mrz : \n",
      "nationality : \u001b[0m\n",
      "Thought:\u001b[32;1m\u001b[1;3m I now have the information from the ID and can use it to create a text welcoming the person by their name.\n",
      "Action: edenai_text_to_speech\n",
      "Action Input: \"Welcome Angela Greene!\"\u001b[0m\n",
      "Observation: \u001b[38;5;200m\u001b[1;3mhttps://d14uq1pz7dzsdq.cloudfront.net/e0c3fec8-e270-4317-957f-1b9ae5debf7e_.mp3?Expires=1693003738&Signature=nO19Beyh49wB~Y-1t73B9Dyn9uTI~BwOVPqCpzbsai5bDtHZEMA9Y-aLLGW-5qGVqrufSthYhAbj-5p0tjcJLoytlavjhsF~TI1cOiahGNYoumHmSiMgftHJ3D4glaAKb~RxLS-b5KPSCHrMAkYTmF1YC-EUGpbxoP25SoMgnhlPcz3~2kLlU-nvY0DyPk0RHZ4GtR-eI~wqrrdWLrK9WPtBFEZ20sqzrBMArXLQUDTbK1BuSf627Nmrh1bHncG~ax3Vbxxo1~mjHkGh3MQrqTYIEQQFrKjWiWmxlYut~Jmw5dH3g-P~nCk9kCT02oUliAJ1qDdQTgvGxXspRGnRQA__&Key-Pair-Id=K1F55BTI9AHGIK\u001b[0m\n",
      "Thought:\u001b[32;1m\u001b[1;3m I now have the URL of the audio file and can use it as the final answer.\n",
      "Final Answer: https://d14uq1pz7dzsdq.cloudfront.net/e0c3fec8-e270-4317-957f-1b9ae5debf7e_.mp3?Expires=1693003738&Signature=nO19Beyh49wB~Y-1t73B9Dyn9uTI~BwOVPqCpzbsai5bDtHZEMA9Y-aLLGW-5qGVqrufSthYhAbj-5p0tjcJLoytlavjhsF~TI1cOiahGNYoumHmSiMgftHJ3D4glaAKb~RxLS-b5KPSCHrMAkYTmF1YC-EUGpbxoP25SoMgnhlPcz3~2kLlU-nvY0DyPk0RHZ4GtR-eI~wqrrdWLrK9WP\u001b[0m\n",
      "\n",
      "\u001b[1m> Finished chain.\u001b[0m\n"
     ]
    }
   ],
   "source": [
    "result=agent_chain(\"\"\" i have this url of an id: \"https://www.citizencard.com/images/citizencard-uk-id-card-2023.jpg\"\n",
    "                        i want to extract the information in it.\n",
    "                        create a text welcoming the person by his name and make it into speech \n",
    "                         if there is URL in the observations , you will always put it in the output (final answer) .\n",
    "                   \"\"\")"
   ]
  },
  {
   "cell_type": "code",
   "execution_count": 10,
   "metadata": {},
   "outputs": [
    {
     "data": {
      "text/plain": [
       "'https://d14uq1pz7dzsdq.cloudfront.net/e0c3fec8-e270-4317-957f-1b9ae5debf7e_.mp3?Expires=1693003738&Signature=nO19Beyh49wB~Y-1t73B9Dyn9uTI~BwOVPqCpzbsai5bDtHZEMA9Y-aLLGW-5qGVqrufSthYhAbj-5p0tjcJLoytlavjhsF~TI1cOiahGNYoumHmSiMgftHJ3D4glaAKb~RxLS-b5KPSCHrMAkYTmF1YC-EUGpbxoP25SoMgnhlPcz3~2kLlU-nvY0DyPk0RHZ4GtR-eI~wqrrdWLrK9WP'"
      ]
     },
     "execution_count": 10,
     "metadata": {},
     "output_type": "execute_result"
    }
   ],
   "source": [
    "result['output']"
   ]
  },
  {
   "cell_type": "code",
   "execution_count": 17,
   "metadata": {},
   "outputs": [
    {
     "name": "stdout",
     "output_type": "stream",
     "text": [
      "\n",
      "\n",
      "\u001b[1m> Entering new AgentExecutor chain...\u001b[0m\n",
      "\u001b[32;1m\u001b[1;3m I need to extract the information from the invoice document.\n",
      "Action: edenai_invoice_parsing\n",
      "Action Input: \"https://app.edenai.run/assets/img/data_1.72e3bdcc.png\"\u001b[0m\n",
      "Observation: \u001b[36;1m\u001b[1;3mcustomer_information : \n",
      "  customer_name : Damita J Goldsmith\n",
      "  customer_address : Damita J Goldsmith,201 Stan Fey Dr,Upper Marlboro MD 20774\n",
      "merchant_information : \n",
      "  merchant_name : SNG\n",
      "  merchant_address : SNG Engineering, Inc.,Consulting Engineers,344 Main Street Suite 200,Gaithersburg, MD 20878\n",
      "  merchant_phone : 301.548.0055\n",
      "invoice_number : 014-03\n",
      "taxes : \n",
      "payment_term : on receipt of service\n",
      "date : January20, 2003\n",
      "po_number : \n",
      "locale : \n",
      "bank_informations : \n",
      "item_lines : \n",
      "  description : Field inspection of construction on 1/19/2003 deficiencies in house,construction Garage drive way & legal support to Attorney to,1/19/2003\u001b[0m\n",
      "Thought:\u001b[32;1m\u001b[1;3m I now know the final answer\n",
      "Final Answer: The customer is Damita J Goldsmith and the company name is SNG Engineering, Inc., Consulting Engineers.\u001b[0m\n",
      "\n",
      "\u001b[1m> Finished chain.\u001b[0m\n"
     ]
    }
   ],
   "source": [
    "result=agent_chain(\"\"\" i have this url of an invoice document: \"https://app.edenai.run/assets/img/data_1.72e3bdcc.png\"\n",
    "                        i want to extract the information in it.\n",
    "                        and answer these questions :\n",
    "                        who is the customer ?\n",
    "                        what is the company name ? \n",
    "                        \n",
    "                   \"\"\")"
   ]
  },
  {
   "cell_type": "code",
   "execution_count": 18,
   "metadata": {},
   "outputs": [
    {
     "data": {
      "text/plain": [
       "'The customer is Damita J Goldsmith and the company name is SNG Engineering, Inc., Consulting Engineers.'"
      ]
     },
     "execution_count": 18,
     "metadata": {},
     "output_type": "execute_result"
    }
   ],
   "source": [
    "result['output']"
   ]
  }
 ],
 "metadata": {
  "kernelspec": {
   "display_name": ".venv",
   "language": "python",
   "name": "python3"
  },
  "language_info": {
   "codemirror_mode": {
    "name": "ipython",
    "version": 3
   },
   "file_extension": ".py",
   "mimetype": "text/x-python",
   "name": "python",
   "nbconvert_exporter": "python",
   "pygments_lexer": "ipython3",
   "version": "3.10.11"
  },
  "orig_nbformat": 4
 },
 "nbformat": 4,
 "nbformat_minor": 2
}
