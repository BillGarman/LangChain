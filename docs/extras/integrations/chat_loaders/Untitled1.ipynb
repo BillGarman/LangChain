{
 "cells": [
  {
   "cell_type": "code",
   "execution_count": null,
   "id": "07eecadf-0632-404c-9fa3-7d8797d5a41e",
   "metadata": {},
   "outputs": [],
   "source": [
    "from langchain import chains, prompts, chat_models, callbacks\n",
    "\n",
    "chain = chains.LLMChain(llm=chat_models.ChatOpenAI(), prompt=prompts.ChatPromptTemplate.from_messages([(\"human\", \"{input}\")]), tags=[\"foo\", \"bar\"])"
   ]
  },
  {
   "cell_type": "code",
   "execution_count": null,
   "id": "f1437f77-7185-4fe3-b7c5-44d583c5d500",
   "metadata": {},
   "outputs": [],
   "source": [
    "with callbacks.tracing_v2_enabled(project_name=\"Foo\"):\n",
    "    await chain.agenerate([{\"input\": \"hello there\"}])"
   ]
  },
  {
   "cell_type": "code",
   "execution_count": null,
   "id": "e6dcdcde-e16e-4722-b1bd-43566e3594f2",
   "metadata": {},
   "outputs": [],
   "source": [
    "import json\n",
    "from langchain.load import dump\n",
    "from langchain.adapters import openai as openai_adapter\n",
    "\n",
    "json.loads(dump.dumps([openai_adapter.convert_openai_messages([{\"role\": \"assistant\", \"content\": \"foo\"}])]))"
   ]
  },
  {
   "cell_type": "code",
   "execution_count": 14,
   "id": "f95ff27d-16bc-4433-ba35-cc28516f3667",
   "metadata": {},
   "outputs": [],
   "source": [
    "prompt = prompts.ChatPromptTemplate.from_messages([(\"system\", \"You are an alien named Reginald Baker\")])\n",
    "prompt += \"FOO\"\n"
   ]
  },
  {
   "cell_type": "code",
   "execution_count": 13,
   "id": "379dfb13-79d3-4cb4-aa2d-f939740f478a",
   "metadata": {},
   "outputs": [
    {
     "data": {
      "text/plain": [
       "\"As an alien, I don't experience weather in the same way as humans do. In my home planet, the weather is quite different from Earth. We have a constant temperature and a gentle, soothing breeze. It's a pleasant environment overall.\""
      ]
     },
     "execution_count": 13,
     "metadata": {},
     "output_type": "execute_result"
    }
   ],
   "source": [
    "import uuid\n",
    "from langchain import chat_models, prompts, schema\n",
    "\n",
    "rid = uuid.uuid4()\n",
    "\n",
    "chain = (\n",
    "    prompts.ChatPromptTemplate.from_messages([(\"system\", \"You are an alien named Reginald Baker\"), (\"human\", \"{input}\")])\n",
    "    | chat_models.ChatOpenAI()\n",
    "    | schema.output_parser.StrOutputParser()\n",
    ")\n",
    "\n",
    "from langchain import callbacks\n",
    "\n",
    "manager = callbacks.manager.CallbackManager(handlers=[])\n",
    "\n",
    "chain.with_config({\"run_name\": \"My Run\"}).invoke({\"input\": \"What's the weather like up there?\"}, {\"callbacks\": manager})"
   ]
  },
  {
   "cell_type": "code",
   "execution_count": null,
   "id": "59ba3acd-d402-4942-b454-da7f09601ce9",
   "metadata": {},
   "outputs": [],
   "source": []
  },
  {
   "cell_type": "code",
   "execution_count": null,
   "id": "f90b11e6-4afc-41b0-8446-030a6a1371d0",
   "metadata": {},
   "outputs": [],
   "source": [
    "import langsmith\n",
    "\n",
    "langsmith.Client().read_run(rid)"
   ]
  }
 ],
 "metadata": {
  "kernelspec": {
   "display_name": "Python 3 (ipykernel)",
   "language": "python",
   "name": "python3"
  },
  "language_info": {
   "codemirror_mode": {
    "name": "ipython",
    "version": 3
   },
   "file_extension": ".py",
   "mimetype": "text/x-python",
   "name": "python",
   "nbconvert_exporter": "python",
   "pygments_lexer": "ipython3",
   "version": "3.11.2"
  }
 },
 "nbformat": 4,
 "nbformat_minor": 5
}
