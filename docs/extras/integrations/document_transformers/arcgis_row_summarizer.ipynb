{
 "cells": [
  {
   "cell_type": "markdown",
   "id": "5d1a1b46-43ff-4f6d-8862-c6fbbbfc52ee",
   "metadata": {},
   "source": [
    "# ArcGIS Row Summarizer\n",
    "\n",
    "Uses `ArcGISRowSummaryChain` and `ArcGISLoader` to create summaries of ArcGIS Feature Layers."
   ]
  },
  {
   "cell_type": "code",
   "execution_count": 1,
   "id": "2f4f1621-26ad-45ef-8c95-e69d05950b09",
   "metadata": {},
   "outputs": [],
   "source": [
    "from langchain.chains import ArcGISRowSummaryChain\n",
    "from langchain.chat_models import ChatOpenAI\n",
    "from langchain.document_loaders import ArcGISLoader\n",
    "from langchain.document_transformers import ArcGISRowSummaryTransformer"
   ]
  },
  {
   "cell_type": "code",
   "execution_count": 2,
   "id": "2be28400-9685-407a-9eed-906fb0102a58",
   "metadata": {},
   "outputs": [
    {
     "name": "stdout",
     "output_type": "stream",
     "text": [
      "CPU times: user 1.32 s, sys: 9.27 ms, total: 1.33 s\n",
      "Wall time: 3.73 s\n"
     ]
    },
    {
     "data": {
      "text/plain": [
       "5"
      ]
     },
     "execution_count": 2,
     "metadata": {},
     "output_type": "execute_result"
    }
   ],
   "source": [
    "%%time\n",
    "\n",
    "url = \"https://maps1.vcgov.org/arcgis/rest/services/Beaches/MapServer/7\"\n",
    "\n",
    "loader = ArcGISLoader(url, return_all_records=False, result_record_count=5)\n",
    "\n",
    "docs = loader.load()\n",
    "\n",
    "len(docs)"
   ]
  },
  {
   "cell_type": "code",
   "execution_count": 3,
   "id": "b94001bf-1212-4ae1-99cf-70bec5cc768a",
   "metadata": {},
   "outputs": [],
   "source": [
    "llm = ChatOpenAI(temperature=0)\n",
    "\n",
    "chain = ArcGISRowSummaryChain(llm=llm)\n",
    "\n",
    "transformer = ArcGISRowSummaryTransformer(chain=chain)"
   ]
  },
  {
   "cell_type": "code",
   "execution_count": 4,
   "id": "f9ea9b90-6ff8-4cbd-ac83-7f6afe79eeed",
   "metadata": {},
   "outputs": [
    {
     "name": "stdout",
     "output_type": "stream",
     "text": [
      "CPU times: user 45.5 ms, sys: 5.41 ms, total: 50.9 ms\n",
      "Wall time: 20.4 s\n"
     ]
    }
   ],
   "source": [
    "%%time\n",
    "\n",
    "transformed_docs = transformer.transform_documents(docs)"
   ]
  },
  {
   "cell_type": "code",
   "execution_count": 5,
   "id": "fbf46f4a-7fcf-4f06-a412-b0b3092f3f1d",
   "metadata": {},
   "outputs": [
    {
     "name": "stdout",
     "output_type": "stream",
     "text": [
      "{\"OBJECTID\": 4, \"AccessName\": \"UNIVERSITY BLVD\", \"AccessID\": \"DB-048\", \"AccessType\": \"OPEN VEHICLE RAMP\", \"GeneralLoc\": \"900 BLK N ATLANTIC AV\", \"MilePost\": 13.74, \"City\": \"DAYTONA BEACH\", \"AccessStatus\": \"OPEN\", \"Entry_Date_Time\": 1694688543000, \"DrivingZone\": \"BOTH\"} \n",
      "\n",
      " - The beach ramp is located at UNIVERSITY BLVD in the 900 block of N ATLANTIC AV in DAYTONA BEACH.\n",
      "- The beach ramp has an AccessID of DB-048.\n",
      "- The beach ramp is an OPEN VEHICLE RAMP.\n",
      "- The beach ramp is currently OPEN.\n",
      "- The beach ramp is accessible from both the driving zone. \n",
      "\n",
      "\n",
      "{\"OBJECTID\": 18, \"AccessName\": \"BEACHWAY AV\", \"AccessID\": \"NS-106\", \"AccessType\": \"OPEN VEHICLE RAMP\", \"GeneralLoc\": \"1400 N ATLANTIC AV\", \"MilePost\": 1.57, \"City\": \"NEW SMYRNA BEACH\", \"AccessStatus\": \"OPEN\", \"Entry_Date_Time\": 1694687483000, \"DrivingZone\": \"YES\"} \n",
      "\n",
      " - Beach ramp ID: NS-106\n",
      "- Access name: BEACHWAY AV\n",
      "- Access type: OPEN VEHICLE RAMP\n",
      "- Location: 1400 N ATLANTIC AV, NEW SMYRNA BEACH\n",
      "- Mile post: 1.57\n",
      "- City: NEW SMYRNA BEACH\n",
      "- Access status: OPEN\n",
      "- Entry date and time: 1694687483000\n",
      "- Driving zone: YES \n",
      "\n",
      "\n",
      "{\"OBJECTID\": 24, \"AccessName\": \"27TH AV\", \"AccessID\": \"NS-141\", \"AccessType\": \"OPEN VEHICLE RAMP\", \"GeneralLoc\": \"3600 BLK S ATLANTIC AV\", \"MilePost\": 4.83, \"City\": \"NEW SMYRNA BEACH\", \"AccessStatus\": \"OPEN\", \"Entry_Date_Time\": 1694691348000, \"DrivingZone\": \"BOTH\"} \n",
      "\n",
      " - Beach Ramp ID: NS-141\n",
      "- Access Name: 27TH AV\n",
      "- Access Type: Open Vehicle Ramp\n",
      "- Location: 3600 BLK S ATLANTIC AV, NEW SMYRNA BEACH\n",
      "- Mile Post: 4.83\n",
      "- Access Status: Open\n",
      "- Entry Date and Time: 1694691348000\n",
      "- Driving Zone: Both \n",
      "\n",
      "\n",
      "{\"OBJECTID\": 26, \"AccessName\": \"SEABREEZE BLVD\", \"AccessID\": \"DB-051\", \"AccessType\": \"OPEN VEHICLE RAMP\", \"GeneralLoc\": \"500 BLK N ATLANTIC AV\", \"MilePost\": 14.24, \"City\": \"DAYTONA BEACH\", \"AccessStatus\": \"OPEN\", \"Entry_Date_Time\": 1694687885000, \"DrivingZone\": \"BOTH\"} \n",
      "\n",
      " - Beach ramp ID: DB-051\n",
      "- Access name: SEABREEZE BLVD\n",
      "- Access type: Open vehicle ramp\n",
      "- Location: 500 BLK N ATLANTIC AV, Daytona Beach\n",
      "- Mile post: 14.24\n",
      "- Access status: Open\n",
      "- Entry date and time: 1694687885000\n",
      "- Driving zone: Both \n",
      "\n",
      "\n",
      "{\"OBJECTID\": 30, \"AccessName\": \"INTERNATIONAL SPEEDWAY BLVD\", \"AccessID\": \"DB-059\", \"AccessType\": \"OPEN VEHICLE RAMP\", \"GeneralLoc\": \"300 BLK S ATLANTIC AV\", \"MilePost\": 15.27, \"City\": \"DAYTONA BEACH\", \"AccessStatus\": \"OPEN\", \"Entry_Date_Time\": 1694688312000, \"DrivingZone\": \"BOTH\"} \n",
      "\n",
      " - The beach ramp is located at the 300 block of S Atlantic Avenue in Daytona Beach.\n",
      "- It is named \"INTERNATIONAL SPEEDWAY BLVD\" and has an ID of \"DB-059\".\n",
      "- The beach ramp is an open vehicle ramp, allowing vehicles to access the beach.\n",
      "- The beach ramp is currently open and accessible.\n",
      "- The beach ramp is located at milepost 15.27.\n",
      "- The beach ramp is in the city of Daytona Beach.\n",
      "- The beach ramp has a driving zone for both directions of traffic.\n",
      "- The entry date and time for this beach ramp is 1694688312000. \n",
      "\n",
      "\n"
     ]
    }
   ],
   "source": [
    "for doc in transformed_docs:\n",
    "    print(doc.page_content, '\\n\\n', doc.metadata['summary'], '\\n\\n')"
   ]
  }
 ],
 "metadata": {
  "kernelspec": {
   "display_name": "Python 3 (ipykernel)",
   "language": "python",
   "name": "python3"
  },
  "language_info": {
   "codemirror_mode": {
    "name": "ipython",
    "version": 3
   },
   "file_extension": ".py",
   "mimetype": "text/x-python",
   "name": "python",
   "nbconvert_exporter": "python",
   "pygments_lexer": "ipython3",
   "version": "3.9.13"
  }
 },
 "nbformat": 4,
 "nbformat_minor": 5
}
