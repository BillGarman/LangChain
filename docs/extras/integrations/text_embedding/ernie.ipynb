{
 "cells": [
  {
   "cell_type": "markdown",
   "metadata": {},
   "source": [
    "# ERNIE Embedding-V1\n",
    "\n",
    "[ERNIE Embedding-V1](https://cloud.baidu.com/doc/WENXINWORKSHOP/s/alj562vvu) is a text representation model based on Baidu Wenxin's large-scale model technology, \n",
    "which converts text into a vector form represented by numerical values, and is used in text retrieval, information recommendation, knowledge mining and other scenarios."
   ]
  },
  {
   "cell_type": "code",
   "execution_count": 1,
   "metadata": {},
   "outputs": [],
   "source": [
    "from langchain.embeddings import ErnieEmbeddings"
   ]
  },
  {
   "cell_type": "code",
   "execution_count": 2,
   "metadata": {},
   "outputs": [
    {
     "name": "stderr",
     "output_type": "stream",
     "text": [
      "/data/anaconda3/lib/python3.11/site-packages/langchain/embeddings/ernie_bot.py:30: UserWarning: You are trying to use a ERNIE embedding model. This way of initializing itis a subset of QianfanEmbeddingsEndpoint which not only provides ERNIE Embedding-V1 more embeddings but also more embedding models. Instead use: `from langchain.embeddings import QianfanEmbeddingsEndpoint`\n",
      "  warnings.warn(\n"
     ]
    }
   ],
   "source": [
    "embeddings = ErnieEmbeddings(ernie_client_id=\"your_ak\", ernie_client_secret=\"your_sk\")"
   ]
  },
  {
   "cell_type": "code",
   "execution_count": 7,
   "metadata": {},
   "outputs": [
    {
     "name": "stdout",
     "output_type": "stream",
     "text": [
      "[0.05353932827711105, 0.022343259304761887, 0.07970369607210159, 0.03627309948205948, 0.043389223515987396, -0.05870630219578743, 0.03429717198014259, -0.0026543971616774797]\n"
     ]
    }
   ],
   "source": [
    "query_result = embeddings.embed_query(\"foo\")\n",
    "print(query_result[:8])"
   ]
  },
  {
   "cell_type": "code",
   "execution_count": 6,
   "metadata": {},
   "outputs": [
    {
     "name": "stdout",
     "output_type": "stream",
     "text": [
      "[0.05353932827711105, 0.022343259304761887, 0.07970369607210159, 0.03627309948205948, 0.043389223515987396, -0.05870630219578743, 0.03429717198014259, -0.0026543971616774797]\n"
     ]
    }
   ],
   "source": [
    "doc_results = embeddings.embed_documents([\"foo\"])\n",
    "print(doc_results[0][:8])"
   ]
  }
 ],
 "metadata": {
  "kernelspec": {
   "display_name": "base",
   "language": "python",
   "name": "python3"
  },
  "language_info": {
   "codemirror_mode": {
    "name": "ipython",
    "version": 3
   },
   "file_extension": ".py",
   "mimetype": "text/x-python",
   "name": "python",
   "nbconvert_exporter": "python",
   "pygments_lexer": "ipython3",
   "version": "3.11.4"
  },
  "orig_nbformat": 4,
  "vscode": {
   "interpreter": {
    "hash": "6fa70026b407ae751a5c9e6bd7f7d482379da8ad616f98512780b705c84ee157"
   }
  }
 },
 "nbformat": 4,
 "nbformat_minor": 2
}
