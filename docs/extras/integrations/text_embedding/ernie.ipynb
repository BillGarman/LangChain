{
 "cells": [
  {
   "cell_type": "markdown",
   "metadata": {},
   "source": [
    "# ERNIE Embedding-V1\n",
    "\n",
    "`langchain.embeddings.ErnieEmbeddings` has been deprecated. For Qianfan platform users, please take a look at [`langchain.embeddings.QianfanEmbeddingsEndpoint`](./baidu_qianfan_endpoint.ipynb). For AI Studio users, please take a look at [`langchain.embeddings.ERNIEBotEmbeddings`](./erniebot.ipynb)."
   ]
  }
 ],
 "metadata": {
  "kernelspec": {
   "display_name": "Python 3.9.18 ('langchain')",
   "language": "python",
   "name": "python3"
  },
  "language_info": {
   "name": "python",
   "version": "3.9.18"
  },
  "orig_nbformat": 4,
  "vscode": {
   "interpreter": {
    "hash": "8b27f8d187b3aeb02225dbf7258288e436f3e05f3f87e803cced6d97b886ed77"
   }
  }
 },
 "nbformat": 4,
 "nbformat_minor": 2
}
