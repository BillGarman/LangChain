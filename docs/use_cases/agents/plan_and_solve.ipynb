{
 "cells": [
  {
   "cell_type": "code",
   "execution_count": 15,
   "id": "6ccd1dc5",
   "metadata": {},
   "outputs": [],
   "source": [
    "from langchain.chat_models import ChatOpenAI\n",
    "from langchain.schema import SystemMessage, HumanMessage\n",
    "from langchain.prompts import ChatPromptTemplate, HumanMessagePromptTemplate, SystemMessagePromptTemplate\n",
    "from langchain.chains import LLMChain\n",
    "from langchain.agents.plan_and_execute import LLMChainStepper, LLMPlanner, PlanOutputParser, Plan, PlanAndExecute"
   ]
  },
  {
   "cell_type": "code",
   "execution_count": 2,
   "id": "0ab2cadd",
   "metadata": {},
   "outputs": [],
   "source": [
    "model = ChatOpenAI(temperature=0)"
   ]
  },
  {
   "cell_type": "code",
   "execution_count": 44,
   "id": "7b2419f2",
   "metadata": {},
   "outputs": [],
   "source": [
    "prompt_template = ChatPromptTemplate.from_messages([\n",
    "    SystemMessage(content=\"Let's first understand the problem and devise a plan to solve the problem. Please output the plan starting with the header 'Plan:' and then followed by a numbered list of steps. Please make the plan the minimum number of steps required to accurately complete the task. If the task is a question, the final step should be the final and complete answer to the question.\"),\n",
    "    HumanMessagePromptTemplate.from_template(\"{input}\"),\n",
    "])"
   ]
  },
  {
   "cell_type": "code",
   "execution_count": 45,
   "id": "8709b0b3",
   "metadata": {},
   "outputs": [],
   "source": [
    "llm_chain_1 = LLMChain(llm=model, prompt=prompt_template)"
   ]
  },
  {
   "cell_type": "code",
   "execution_count": 46,
   "id": "a8115fa6",
   "metadata": {},
   "outputs": [],
   "source": [
    "query = \"In a dance class of 20 students, 20% enrolled in contemporary dance, 25% of the remaining enrolled in jazz dance, and the rest enrolled in hip-hop dance. What percentage of the entire students enrolled in hip-hop dance?\""
   ]
  },
  {
   "cell_type": "code",
   "execution_count": 47,
   "id": "83adef49",
   "metadata": {},
   "outputs": [],
   "source": [
    "import re"
   ]
  },
  {
   "cell_type": "code",
   "execution_count": 48,
   "id": "1d6b3653",
   "metadata": {},
   "outputs": [],
   "source": [
    "class PlanOP(PlanOutputParser):\n",
    "    \n",
    "    def parse(self, text):\n",
    "        return Plan(steps=re.split(\"\\n\\d+\\. \", text)[1:])"
   ]
  },
  {
   "cell_type": "code",
   "execution_count": 49,
   "id": "44d4c18d",
   "metadata": {},
   "outputs": [],
   "source": [
    "planner = LLMPlanner(llm_chain=llm_chain_1, output_parser=PlanOP())"
   ]
  },
  {
   "cell_type": "code",
   "execution_count": 50,
   "id": "46018a22",
   "metadata": {},
   "outputs": [],
   "source": [
    "prompt_template_2 = ChatPromptTemplate.from_messages([\n",
    "    SystemMessagePromptTemplate.from_template(\"Original task: {input}\"),\n",
    "    SystemMessagePromptTemplate.from_template(\"Here are the previous steps you've taken: {previous_steps}\"),\n",
    "    HumanMessagePromptTemplate.from_template(\"Here is the step you are currently asked to do. Please do this step and only this step:\\n\\n{current_step}\"),\n",
    "])\n",
    "llm_chain_2 = LLMChain(llm=model, prompt=prompt_template_2)"
   ]
  },
  {
   "cell_type": "code",
   "execution_count": 51,
   "id": "a3a0b06c",
   "metadata": {},
   "outputs": [],
   "source": [
    "stepper = LLMChainStepper(llm_chain=llm_chain_2)"
   ]
  },
  {
   "cell_type": "code",
   "execution_count": 52,
   "id": "ab3f5d80",
   "metadata": {},
   "outputs": [],
   "source": [
    "plan_and_execute = PlanAndExecute(planner = planner, executer=stepper)"
   ]
  },
  {
   "cell_type": "code",
   "execution_count": 53,
   "id": "6b13392f",
   "metadata": {},
   "outputs": [],
   "source": [
    "stepper.llm_chain.verbose = True"
   ]
  },
  {
   "cell_type": "code",
   "execution_count": 54,
   "id": "5dc03432",
   "metadata": {
    "scrolled": false
   },
   "outputs": [
    {
     "name": "stdout",
     "output_type": "stream",
     "text": [
      "steps=['Calculate the number of students who enrolled in contemporary dance by multiplying 20 by 20%.', 'Subtract the number of students who enrolled in contemporary dance from the total number of students to get the number of students who did not enroll in contemporary dance.', 'Calculate the number of students who enrolled in jazz dance by multiplying the number of students who did not enroll in contemporary dance by 25%.', 'Subtract the number of students who enrolled in contemporary and jazz dance from the total number of students to get the number of students who enrolled in hip-hop dance.', 'Calculate the percentage of students who enrolled in hip-hop dance by dividing the number of students who enrolled in hip-hop dance by the total number of students and multiplying by 100. This is the final answer.']\n",
      "\n",
      "\n",
      "\u001b[1m> Entering new LLMChain chain...\u001b[0m\n",
      "Prompt after formatting:\n",
      "\u001b[32;1m\u001b[1;3mSystem: Original task: In a dance class of 20 students, 20% enrolled in contemporary dance, 25% of the remaining enrolled in jazz dance, and the rest enrolled in hip-hop dance. What percentage of the entire students enrolled in hip-hop dance?\n",
      "System: Here are the previous steps you've taken: []\n",
      "Human: Here is the step you are currently asked to do. Please do this step and only this step:\n",
      "\n",
      "Calculate the number of students who enrolled in contemporary dance by multiplying 20 by 20%.\u001b[0m\n",
      "\n",
      "\u001b[1m> Finished chain.\u001b[0m\n",
      "response='To calculate the number of students who enrolled in contemporary dance, we multiply 20 by 20%:\\n\\n20 x 20% = 4\\n\\nTherefore, 4 students enrolled in contemporary dance.'\n",
      "\n",
      "\n",
      "\u001b[1m> Entering new LLMChain chain...\u001b[0m\n",
      "Prompt after formatting:\n",
      "\u001b[32;1m\u001b[1;3mSystem: Original task: In a dance class of 20 students, 20% enrolled in contemporary dance, 25% of the remaining enrolled in jazz dance, and the rest enrolled in hip-hop dance. What percentage of the entire students enrolled in hip-hop dance?\n",
      "System: Here are the previous steps you've taken: [('Calculate the number of students who enrolled in contemporary dance by multiplying 20 by 20%.', Step(response='To calculate the number of students who enrolled in contemporary dance, we multiply 20 by 20%:\\n\\n20 x 20% = 4\\n\\nTherefore, 4 students enrolled in contemporary dance.'))]\n",
      "Human: Here is the step you are currently asked to do. Please do this step and only this step:\n",
      "\n",
      "Subtract the number of students who enrolled in contemporary dance from the total number of students to get the number of students who did not enroll in contemporary dance.\u001b[0m\n",
      "\n",
      "\u001b[1m> Finished chain.\u001b[0m\n",
      "response='Sure! \\n\\nThe number of students who did not enroll in contemporary dance is:\\n\\n20 - 4 = 16'\n",
      "\n",
      "\n",
      "\u001b[1m> Entering new LLMChain chain...\u001b[0m\n",
      "Prompt after formatting:\n",
      "\u001b[32;1m\u001b[1;3mSystem: Original task: In a dance class of 20 students, 20% enrolled in contemporary dance, 25% of the remaining enrolled in jazz dance, and the rest enrolled in hip-hop dance. What percentage of the entire students enrolled in hip-hop dance?\n",
      "System: Here are the previous steps you've taken: [('Calculate the number of students who enrolled in contemporary dance by multiplying 20 by 20%.', Step(response='To calculate the number of students who enrolled in contemporary dance, we multiply 20 by 20%:\\n\\n20 x 20% = 4\\n\\nTherefore, 4 students enrolled in contemporary dance.')), ('Subtract the number of students who enrolled in contemporary dance from the total number of students to get the number of students who did not enroll in contemporary dance.', Step(response='Sure! \\n\\nThe number of students who did not enroll in contemporary dance is:\\n\\n20 - 4 = 16'))]\n",
      "Human: Here is the step you are currently asked to do. Please do this step and only this step:\n",
      "\n",
      "Calculate the number of students who enrolled in jazz dance by multiplying the number of students who did not enroll in contemporary dance by 25%.\u001b[0m\n",
      "\n",
      "\u001b[1m> Finished chain.\u001b[0m\n",
      "response='Sure! \\n\\nTo calculate the number of students who enrolled in jazz dance, we multiply the number of students who did not enroll in contemporary dance by 25%:\\n\\n25% of 16 = 0.25 x 16 = 4\\n\\nTherefore, 4 students enrolled in jazz dance.'\n",
      "\n",
      "\n",
      "\u001b[1m> Entering new LLMChain chain...\u001b[0m\n",
      "Prompt after formatting:\n",
      "\u001b[32;1m\u001b[1;3mSystem: Original task: In a dance class of 20 students, 20% enrolled in contemporary dance, 25% of the remaining enrolled in jazz dance, and the rest enrolled in hip-hop dance. What percentage of the entire students enrolled in hip-hop dance?\n",
      "System: Here are the previous steps you've taken: [('Calculate the number of students who enrolled in contemporary dance by multiplying 20 by 20%.', Step(response='To calculate the number of students who enrolled in contemporary dance, we multiply 20 by 20%:\\n\\n20 x 20% = 4\\n\\nTherefore, 4 students enrolled in contemporary dance.')), ('Subtract the number of students who enrolled in contemporary dance from the total number of students to get the number of students who did not enroll in contemporary dance.', Step(response='Sure! \\n\\nThe number of students who did not enroll in contemporary dance is:\\n\\n20 - 4 = 16')), ('Calculate the number of students who enrolled in jazz dance by multiplying the number of students who did not enroll in contemporary dance by 25%.', Step(response='Sure! \\n\\nTo calculate the number of students who enrolled in jazz dance, we multiply the number of students who did not enroll in contemporary dance by 25%:\\n\\n25% of 16 = 0.25 x 16 = 4\\n\\nTherefore, 4 students enrolled in jazz dance.'))]\n",
      "Human: Here is the step you are currently asked to do. Please do this step and only this step:\n",
      "\n",
      "Subtract the number of students who enrolled in contemporary and jazz dance from the total number of students to get the number of students who enrolled in hip-hop dance.\u001b[0m\n",
      "\n",
      "\u001b[1m> Finished chain.\u001b[0m\n",
      "response='Sure! \\n\\nThe number of students who enrolled in contemporary and jazz dance is:\\n\\n4 + 4 = 8\\n\\nTherefore, the number of students who enrolled in hip-hop dance is:\\n\\n20 - 8 = 12\\n\\nSo, 60% of the entire students enrolled in hip-hop dance.'\n",
      "\n",
      "\n",
      "\u001b[1m> Entering new LLMChain chain...\u001b[0m\n",
      "Prompt after formatting:\n",
      "\u001b[32;1m\u001b[1;3mSystem: Original task: In a dance class of 20 students, 20% enrolled in contemporary dance, 25% of the remaining enrolled in jazz dance, and the rest enrolled in hip-hop dance. What percentage of the entire students enrolled in hip-hop dance?\n",
      "System: Here are the previous steps you've taken: [('Calculate the number of students who enrolled in contemporary dance by multiplying 20 by 20%.', Step(response='To calculate the number of students who enrolled in contemporary dance, we multiply 20 by 20%:\\n\\n20 x 20% = 4\\n\\nTherefore, 4 students enrolled in contemporary dance.')), ('Subtract the number of students who enrolled in contemporary dance from the total number of students to get the number of students who did not enroll in contemporary dance.', Step(response='Sure! \\n\\nThe number of students who did not enroll in contemporary dance is:\\n\\n20 - 4 = 16')), ('Calculate the number of students who enrolled in jazz dance by multiplying the number of students who did not enroll in contemporary dance by 25%.', Step(response='Sure! \\n\\nTo calculate the number of students who enrolled in jazz dance, we multiply the number of students who did not enroll in contemporary dance by 25%:\\n\\n25% of 16 = 0.25 x 16 = 4\\n\\nTherefore, 4 students enrolled in jazz dance.')), ('Subtract the number of students who enrolled in contemporary and jazz dance from the total number of students to get the number of students who enrolled in hip-hop dance.', Step(response='Sure! \\n\\nThe number of students who enrolled in contemporary and jazz dance is:\\n\\n4 + 4 = 8\\n\\nTherefore, the number of students who enrolled in hip-hop dance is:\\n\\n20 - 8 = 12\\n\\nSo, 60% of the entire students enrolled in hip-hop dance.'))]\n",
      "Human: Here is the step you are currently asked to do. Please do this step and only this step:\n",
      "\n",
      "Calculate the percentage of students who enrolled in hip-hop dance by dividing the number of students who enrolled in hip-hop dance by the total number of students and multiplying by 100. This is the final answer.\u001b[0m\n",
      "\n",
      "\u001b[1m> Finished chain.\u001b[0m\n",
      "response='Sure! \\n\\nThe number of students who enrolled in hip-hop dance is 12. \\n\\nThe total number of students is 20. \\n\\nSo, the percentage of students who enrolled in hip-hop dance is:\\n\\n12/20 x 100% = 60%\\n\\nTherefore, 60% of the entire students enrolled in hip-hop dance.'\n"
     ]
    },
    {
     "data": {
      "text/plain": [
       "{'input': 'In a dance class of 20 students, 20% enrolled in contemporary dance, 25% of the remaining enrolled in jazz dance, and the rest enrolled in hip-hop dance. What percentage of the entire students enrolled in hip-hop dance?',\n",
       " 'answer': 'Sure! \\n\\nThe number of students who enrolled in hip-hop dance is 12. \\n\\nThe total number of students is 20. \\n\\nSo, the percentage of students who enrolled in hip-hop dance is:\\n\\n12/20 x 100% = 60%\\n\\nTherefore, 60% of the entire students enrolled in hip-hop dance.'}"
      ]
     },
     "execution_count": 54,
     "metadata": {},
     "output_type": "execute_result"
    }
   ],
   "source": [
    "plan_and_execute({\"input\": query})"
   ]
  },
  {
   "cell_type": "code",
   "execution_count": null,
   "id": "aa3ec998",
   "metadata": {},
   "outputs": [],
   "source": []
  }
 ],
 "metadata": {
  "kernelspec": {
   "display_name": "Python 3 (ipykernel)",
   "language": "python",
   "name": "python3"
  },
  "language_info": {
   "codemirror_mode": {
    "name": "ipython",
    "version": 3
   },
   "file_extension": ".py",
   "mimetype": "text/x-python",
   "name": "python",
   "nbconvert_exporter": "python",
   "pygments_lexer": "ipython3",
   "version": "3.9.1"
  }
 },
 "nbformat": 4,
 "nbformat_minor": 5
}
