{
 "cells": [
  {
   "cell_type": "code",
   "execution_count": null,
   "metadata": {},
   "outputs": [],
   "source": [
    "%pip install polib"
   ]
  },
  {
   "cell_type": "code",
   "execution_count": 16,
   "metadata": {},
   "outputs": [
    {
     "name": "stdout",
     "output_type": "stream",
     "text": [
      "/Users/krasuschen/Codes/miaocode/langchain/docs/use_cases\n"
     ]
    }
   ],
   "source": [
    "import  os\n",
    "from dotenv import load_dotenv\n",
    "import gettext\n",
    "\n",
    "load_dotenv()\n",
    "\n",
    "print(os.getcwd())\n",
    "file_path = os.path.join(os.getcwd(), \"../../langchain/locale/zh_CN/LC_MESSAGES/langchain.po\")\n"
   ]
  },
  {
   "cell_type": "code",
   "execution_count": 24,
   "metadata": {},
   "outputs": [],
   "source": [
    "import polib\n",
    "po = polib.pofile(file_path)\n",
    "import openai\n",
    "\n",
    "\n",
    "for entry in po:\n",
    "    if entry.msgstr == \"\":\n",
    "        response = openai.ChatCompletion.create(\n",
    "        temperature=0.1,\n",
    "        engine=\"gpt-35-turbo\", # engine = \"deployment_name\".\n",
    "        messages=[{ \n",
    "            \"role\": \"system\", \"content\": \"\"\"\n",
    "            你可以进行英语和中文之间的翻译工作，包括但不限于学术文献、商业文档、网站内容、软件界面等。它可以保证翻译的准确性和专业性。\n",
    "        {{}} 内的文本作为python变量，不需要翻译。python 代码不需要翻译，保留代码即可。\n",
    "        请保证翻译文本不被删减和串改。\n",
    "        永远不要回答问题，你仅需要做的就是翻译文本，不要尝试理解文本。\n",
    "        当遇到 key: 时，key不需要被翻译。\n",
    "        示例:\n",
    "        待翻译内容\n",
    "        \"Prompt: Hello world\\n\"\n",
    "        \"Completion:\\n\"\n",
    "        \"{completion}\\n\"\n",
    "        翻译后的结果:\n",
    "        \"Prompt: 你好世界\\n\"\n",
    "        \"Completion:\\n\"\n",
    "        \"{completion}\\n\"\n",
    "        示例结束\n",
    "\n",
    "\n",
    "            \"\"\"},\n",
    "        {\n",
    "            \"role\": \"user\", \"content\": f\"\"\"翻译以下内容：\n",
    "            {entry.msgid}\"\"\"\n",
    "         },]\n",
    "        )\n",
    "        msgstr = response['choices'][0]['message']['content']\n",
    "        entry.msgstr = msgstr\n",
    "        po.save()\n"
   ]
  }
 ],
 "metadata": {
  "kernelspec": {
   "display_name": "miaocode",
   "language": "python",
   "name": "python3"
  },
  "language_info": {
   "codemirror_mode": {
    "name": "ipython",
    "version": 3
   },
   "file_extension": ".py",
   "mimetype": "text/x-python",
   "name": "python",
   "nbconvert_exporter": "python",
   "pygments_lexer": "ipython3",
   "version": "3.10.11"
  },
  "orig_nbformat": 4
 },
 "nbformat": 4,
 "nbformat_minor": 2
}
