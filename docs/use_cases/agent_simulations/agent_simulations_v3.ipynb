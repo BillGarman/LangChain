{
 "cells": [
  {
   "cell_type": "markdown",
   "metadata": {},
   "source": [
    "# Agent Simulations V3\n",
    "\n",
    "What is new in this notebook:\n",
    "- A generic `RoundRobinSimulator` for running a simulation of an agent dialogue in a round-robin fashion. It takes an `agents` list and a `leader_idx` as input. The agents speak in a round-robin fashion, where the agent at index `i` speaks to the agent at index `(i+1) % len(agents)`. The agent at index `leader_idx` speaks first.\n",
    "\n",
    "Comments:\n",
    "- This uses the `ChatOpenAI` model, which expects chat roles to either be `assistant` or `user`. This restricts us to only two agents. Therefore, even though `RoundRobinSimulator` can support multiple agents, it really only makes sense to use it for two agents because the AIMessage that agent `i` sends is received as a HumanMessage by agent `i+1`.\n",
    "- If all we want is a simulator for two agents right now, the `RoundRobinSimulator` is a complete MVP.\n",
    "\n",
    "This notebook uses [CAMEL](https://www.camel-ai.org/) as a use case."
   ]
  },
  {
   "cell_type": "markdown",
   "metadata": {},
   "source": [
    "## Import LangChain related modules "
   ]
  },
  {
   "cell_type": "code",
   "execution_count": 1,
   "metadata": {},
   "outputs": [],
   "source": [
    "from collections import OrderedDict\n",
    "from typing import List\n",
    "\n",
    "from langchain.chat_models import ChatOpenAI\n",
    "from langchain.prompts.chat import (\n",
    "    SystemMessagePromptTemplate,\n",
    "    HumanMessagePromptTemplate,\n",
    ")\n",
    "from langchain.schema import (\n",
    "    AIMessage,\n",
    "    HumanMessage,\n",
    "    SystemMessage,\n",
    "    BaseMessage,\n",
    ")"
   ]
  },
  {
   "cell_type": "markdown",
   "metadata": {},
   "source": [
    "## Define base classes and CAMEL classes"
   ]
  },
  {
   "cell_type": "code",
   "execution_count": 2,
   "metadata": {},
   "outputs": [],
   "source": [
    "class Entity:\n",
    "    def reset(self):\n",
    "        raise NotImplementedError\n",
    "        \n",
    "    def step(self):\n",
    "        raise NotImplementedError\n",
    "\n",
    "class CAMELAgent(Entity):\n",
    "\n",
    "    def __init__(\n",
    "        self,\n",
    "        system_message: SystemMessage,\n",
    "        model: ChatOpenAI,\n",
    "    ) -> None:\n",
    "        self.system_message = system_message\n",
    "        self.model = model\n",
    "        self.message_history = [self.system_message]\n",
    "\n",
    "    def reset(self, message=None) -> None:\n",
    "        if message is not None:\n",
    "            self.message_history.append(message)\n",
    "        return self.message_history\n",
    "\n",
    "    def _update_messages(self, message: BaseMessage) -> List[BaseMessage]:\n",
    "        self.message_history.append(message)\n",
    "        return self.message_history\n",
    "\n",
    "    def step(\n",
    "        self,\n",
    "        input_message: HumanMessage,\n",
    "    ) -> AIMessage:\n",
    "        \n",
    "        messages = self._update_messages(input_message)\n",
    "        output_message = self.model(messages)\n",
    "        self._update_messages(output_message)\n",
    "\n",
    "        return output_message\n"
   ]
  },
  {
   "cell_type": "code",
   "execution_count": 3,
   "metadata": {},
   "outputs": [],
   "source": [
    "class BaseSimulator:\n",
    "    \n",
    "    def reset(self):\n",
    "        raise NotImplementedError \n",
    "    \n",
    "    def step(self):\n",
    "        raise NotImplementedError \n",
    "    \n",
    "class RoundRobinSimulator(BaseSimulator):\n",
    "    def __init__(self, agents: List, leader_idx: int):\n",
    "        self.agents = agents\n",
    "        self.leader_idx = leader_idx\n",
    "        \n",
    "    def reset(self, message_from_leader):\n",
    "        \"\"\"\n",
    "        The conversation begins with a message from the leader\n",
    "        \"\"\"\n",
    "        # initialize the leader\n",
    "        msg_from_leader = AIMessage(content=message_from_leader)\n",
    "        leader = self.agents[self.leader_idx]\n",
    "        leader.reset(msg_from_leader)\n",
    "        \n",
    "        # initialize the other agents\n",
    "        for i in range(len(self.agents)-1):\n",
    "            idx = (self.leader_idx + i + 1) % len(self.agents)\n",
    "            self.agents[idx].reset()\n",
    "            \n",
    "        return HumanMessage(content=message_from_leader)\n",
    "    \n",
    "    def step(self, msg_from_leader):\n",
    "        messages = dict()\n",
    "        message = msg_from_leader\n",
    "        \n",
    "        # the last agent to speak will be the leader\n",
    "        for i in range(len(self.agents)):\n",
    "            idx = (self.leader_idx + i + 1) % len(self.agents)\n",
    "\n",
    "            message = self.agents[idx].step(message)\n",
    "            message = HumanMessage(content=message.content)\n",
    "            \n",
    "            messages[idx] = message\n",
    "            \n",
    "        return messages"
   ]
  },
  {
   "cell_type": "markdown",
   "metadata": {},
   "source": [
    "## Setup roles and task for role-playing"
   ]
  },
  {
   "cell_type": "code",
   "execution_count": 4,
   "metadata": {},
   "outputs": [],
   "source": [
    "assistant_role_name = \"Python Programmer\"\n",
    "user_role_name = \"Stock Trader\"\n",
    "task = \"Develop a trading bot for the stock market\"\n",
    "word_limit = 50 # word limit for task brainstorming"
   ]
  },
  {
   "cell_type": "markdown",
   "metadata": {},
   "source": [
    "## Create a task specify agent for brainstorming and get the specified task"
   ]
  },
  {
   "cell_type": "code",
   "execution_count": 5,
   "metadata": {},
   "outputs": [],
   "source": [
    "task_specifier_prompt = [\n",
    "    SystemMessage(content=\"You can make a task more specific.\"),\n",
    "    HumanMessage(content=\n",
    "        f\"\"\"Here is a task that {assistant_role_name} will help {user_role_name} to complete: {task}.\n",
    "        Please make it more specific. Be creative and imaginative.\n",
    "        Please reply with the specified task in {word_limit} words or less. Do not add anything else.\"\"\"\n",
    "        )\n",
    "]\n",
    "specified_task = ChatOpenAI(temperature=1.0)(task_specifier_prompt).content"
   ]
  },
  {
   "cell_type": "markdown",
   "metadata": {},
   "source": [
    "## Create system messages for AI assistant and AI user"
   ]
  },
  {
   "cell_type": "code",
   "execution_count": 6,
   "metadata": {},
   "outputs": [],
   "source": [
    "def generate_sys_msgs(assistant_role_name: str, user_role_name: str, task: str):\n",
    "    \n",
    "    # the prompt that the user gives to the assistant\n",
    "    assistant_inception_prompt = (\n",
    "    f\"\"\"Never forget you are a {assistant_role_name} and I am a {user_role_name}. Never flip roles! Never instruct me!\n",
    "    We share a common interest in collaborating to successfully complete a task.\n",
    "    You must help me to complete the task.\n",
    "    Here is the task: {task} \n",
    "    Never forget our task!\n",
    "    I must instruct you based on your expertise and my needs to complete the task.\n",
    "\n",
    "    I must give you one instruction at a time.\n",
    "    You must write a specific solution that appropriately completes the requested instruction.\n",
    "    You must decline my instruction honestly if you cannot perform the instruction due to physical, moral, legal reasons or your capability and explain the reasons.\n",
    "    Do not add anything else other than your solution to my instruction.\n",
    "    You are never supposed to ask me any questions you only answer questions.\n",
    "    You are never supposed to reply with a flake solution. Explain your solutions.\n",
    "    Your solution must be declarative sentences and simple present tense.\n",
    "    Unless I say the task is completed, you should always start with:\n",
    "\n",
    "    Solution: <YOUR_SOLUTION>\n",
    "\n",
    "    <YOUR_SOLUTION> should be specific and provide preferable implementations and examples for task-solving.\n",
    "    Always end <YOUR_SOLUTION> with: Next request.\"\"\"\n",
    "    )\n",
    "\n",
    "    # the prompt that the assistant gives to the user\n",
    "    user_inception_prompt = (\n",
    "    f\"\"\"Never forget you are a {user_role_name} and I am a {assistant_role_name}. Never flip roles! You will always instruct me.\n",
    "    We share a common interest in collaborating to successfully complete a task.\n",
    "    I must help you to complete the task.\n",
    "    Here is the task: {task} \n",
    "    Never forget our task!\n",
    "    You must instruct me based on my expertise and your needs to complete the task ONLY in the following two ways:\n",
    "\n",
    "    1. Instruct with a necessary input:\n",
    "    Instruction: <YOUR_INSTRUCTION>\n",
    "    Input: <YOUR_INPUT>\n",
    "\n",
    "    2. Instruct without any input:\n",
    "    Instruction: <YOUR_INSTRUCTION>\n",
    "    Input: None\n",
    "\n",
    "    The \"Instruction\" describes a task or question. The paired \"Input\" provides further context or information for the requested \"Instruction\".\n",
    "\n",
    "    You must give me one instruction at a time.\n",
    "    I must write a response that appropriately completes the requested instruction.\n",
    "    I must decline your instruction honestly if I cannot perform the instruction due to physical, moral, legal reasons or my capability and explain the reasons.\n",
    "    You should instruct me not ask me questions.\n",
    "    Now you must start to instruct me using the two ways described above.\n",
    "    Do not add anything else other than your instruction and the optional corresponding input!\n",
    "    Keep giving me instructions and necessary inputs until you think the task is completed.\n",
    "    When the task is completed, you must only reply with a single word <CAMEL_TASK_DONE>.\n",
    "    Never say <CAMEL_TASK_DONE> unless my responses have solved your task.\"\"\"\n",
    "    )\n",
    "    \n",
    "    return SystemMessage(content=assistant_inception_prompt), SystemMessage(content=user_inception_prompt) \n"
   ]
  },
  {
   "cell_type": "markdown",
   "metadata": {},
   "source": [
    "## Create AI assistant agent and AI user agent"
   ]
  },
  {
   "cell_type": "code",
   "execution_count": 7,
   "metadata": {},
   "outputs": [],
   "source": [
    "assistant_sys_msg, user_sys_msg = generate_sys_msgs(assistant_role_name, user_role_name, specified_task)\n",
    "assistant_agent = CAMELAgent(assistant_sys_msg, ChatOpenAI(temperature=0.2))\n",
    "user_agent = CAMELAgent(user_sys_msg, ChatOpenAI(temperature=0.2))"
   ]
  },
  {
   "cell_type": "markdown",
   "metadata": {},
   "source": [
    "## Main Loop"
   ]
  },
  {
   "cell_type": "code",
   "execution_count": 8,
   "metadata": {},
   "outputs": [
    {
     "name": "stdout",
     "output_type": "stream",
     "text": [
      "Original task prompt:\n",
      "Develop a trading bot for the stock market\n",
      "\n",
      "Specified task prompt:\n",
      "Develop a customized trading bot that uses machine learning algorithms and real-time data analysis to predict stock market trends, track market news and sentiments, and execute profitable trades automatically for the company's diversified portfolio, while ensuring risk management and compliance with relevant regulations.\n",
      "\n",
      "AI (Stock Trader):\n",
      "\n",
      "Instruction: Install necessary libraries for machine learning and data analysis.\n",
      "Input: None.\n",
      "\n",
      "\n",
      "AI (Python Programmer):\n",
      "\n",
      "Solution: To install necessary libraries for machine learning and data analysis, we can use the following commands in the terminal:\n",
      "\n",
      "- For machine learning libraries: \n",
      "    - pip install scikit-learn\n",
      "    - pip install tensorflow\n",
      "    - pip install keras\n",
      "\n",
      "- For data analysis libraries:\n",
      "    - pip install pandas\n",
      "    - pip install numpy\n",
      "    - pip install matplotlib\n",
      "\n",
      "Next request.\n",
      "\n",
      "\n",
      "AI (Stock Trader):\n",
      "\n",
      "Instruction: Import the necessary libraries in the Python script.\n",
      "Input: None.\n",
      "\n",
      "\n",
      "AI (Python Programmer):\n",
      "\n",
      "Solution: To import the necessary libraries in the Python script, we can use the following code:\n",
      "\n",
      "```\n",
      "import pandas as pd\n",
      "import numpy as np\n",
      "import matplotlib.pyplot as plt\n",
      "from sklearn.model_selection import train_test_split\n",
      "from sklearn.preprocessing import StandardScaler\n",
      "from sklearn.linear_model import LogisticRegression\n",
      "from sklearn.tree import DecisionTreeClassifier\n",
      "from sklearn.ensemble import RandomForestClassifier\n",
      "import tensorflow as tf\n",
      "from tensorflow import keras\n",
      "```\n",
      "\n",
      "Next request.\n",
      "\n",
      "\n"
     ]
    }
   ],
   "source": [
    "print(f\"Original task prompt:\\n{task}\\n\")\n",
    "print(f\"Specified task prompt:\\n{specified_task}\\n\")\n",
    "\n",
    "max_iters = 2\n",
    "n = 0\n",
    "\n",
    "roles = [assistant_role_name, user_role_name]  # ordered\n",
    "agents = [assistant_agent, user_agent]\n",
    "leader_idx = 0  # the assistant speaks first because it is index 0\n",
    "simulator = SequentialSimulator(agents=agents, leader_idx=leader_idx)\n",
    "\n",
    "message_text_from_assistant = (\n",
    "            \"Now start to give me instructions one by one. \"\n",
    "            \"Only reply with Instruction and Input.\")\n",
    "message_from_assistant = simulator.reset(message_text_from_assistant)\n",
    "\n",
    "while n < max_iters:\n",
    "    messages = simulator.step(message_from_assistant)\n",
    "    for idx, message in messages.items():\n",
    "        print(f\"AI ({roles[idx]}):\\n\\n{message.content}\\n\\n\")\n",
    "\n",
    "        if roles[idx] == user_role_name and \"<CAMEL_TASK_DONE>\" in message.content:\n",
    "            break\n",
    "        \n",
    "    message_from_assistant = messages[leader_idx]\n",
    "        \n",
    "    n += 1"
   ]
  },
  {
   "cell_type": "code",
   "execution_count": null,
   "metadata": {},
   "outputs": [],
   "source": []
  }
 ],
 "metadata": {
  "kernelspec": {
   "display_name": "Python 3 (ipykernel)",
   "language": "python",
   "name": "python3"
  },
  "language_info": {
   "codemirror_mode": {
    "name": "ipython",
    "version": 3
   },
   "file_extension": ".py",
   "mimetype": "text/x-python",
   "name": "python",
   "nbconvert_exporter": "python",
   "pygments_lexer": "ipython3",
   "version": "3.9.16"
  }
 },
 "nbformat": 4,
 "nbformat_minor": 2
}
