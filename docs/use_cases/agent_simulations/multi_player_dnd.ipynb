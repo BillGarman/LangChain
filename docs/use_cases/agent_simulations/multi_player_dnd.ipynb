{
 "cells": [
  {
   "cell_type": "markdown",
   "metadata": {},
   "source": [
    "# Multi-Player Dungeons & Dragons\n",
    "\n",
    "This notebook shows how the `DialogueAgent` and `DialogueSimulator` class make it easy to extend the [Two-Player Dungeons & Dragons example](https://python.langchain.com/en/latest/use_cases/agent_simulations/two_player_dnd.html) to multiple players.\n",
    "\n",
    "The main difference between simulating two players and multiple players is in revising the schedule for when each agent speaks\n",
    "\n",
    "To this end, we augment `DialogueSimulator` to take in a custom function that determines the schedule of which agent speaks. In the example below, each character speaks in round-robin fashion, with the storyteller interleaved between each player."
   ]
  },
  {
   "cell_type": "markdown",
   "metadata": {},
   "source": [
    "## Import LangChain related modules "
   ]
  },
  {
   "cell_type": "code",
   "execution_count": 1,
   "metadata": {},
   "outputs": [],
   "source": [
    "from typing import List, Dict, Callable\n",
    "from langchain.chat_models import ChatOpenAI\n",
    "from langchain.schema import (\n",
    "    AIMessage,\n",
    "    HumanMessage,\n",
    "    SystemMessage,\n",
    "    BaseMessage,\n",
    ")"
   ]
  },
  {
   "cell_type": "markdown",
   "metadata": {},
   "source": [
    "## `DialogueAgent` class\n",
    "The `DialogueAgent` class is a simple wrapper around the `ChatOpenAI` model that stores the message history from the `dialogue_agent`'s point of view by simply concatenating the messages as strings.\n",
    "\n",
    "It exposes two methods: \n",
    "- `send()`: applies the chatmodel to the message history and returns the message string\n",
    "- `receive(name, message)`: adds the `message` spoken by `name` to message history"
   ]
  },
  {
   "cell_type": "code",
   "execution_count": 2,
   "metadata": {},
   "outputs": [],
   "source": [
    "class DialogueAgent():\n",
    "\n",
    "    def __init__(\n",
    "        self,\n",
    "        name,\n",
    "        system_message: SystemMessage,\n",
    "        model: ChatOpenAI,\n",
    "    ) -> None:\n",
    "        self.name = name\n",
    "        self.system_message = system_message\n",
    "        self.model = model\n",
    "        self.message_history = f\"\"\"Here is the conversation so far.\n",
    "        \"\"\"\n",
    "        self.prefix = f'\\n{self.name}:'\n",
    "        \n",
    "    def send(self) -> str:\n",
    "        \"\"\"\n",
    "        Applies the chatmodel to the message history\n",
    "        and returns the message string\n",
    "        \"\"\"\n",
    "        message = self.model(\n",
    "            [self.system_message, \n",
    "             HumanMessage(content=self.message_history+self.prefix)])\n",
    "        return message.content\n",
    "            \n",
    "    def receive(self, name: str, message: str) -> None:\n",
    "        \"\"\"\n",
    "        Concatenates {message} spoken by {name} into message history\n",
    "        \"\"\"\n",
    "        self.message_history += f'\\n{name}: {message}'"
   ]
  },
  {
   "cell_type": "markdown",
   "metadata": {},
   "source": [
    "## `DialogueSimulator` class\n",
    "The `DialogueSimulator` class takes a list of agents. At each step, it performs the following:\n",
    "1. Select the next speaker\n",
    "2. Calls the next speaker to send a message \n",
    "3. Broadcasts the message to all other agents\n",
    "4. Update the step counter.\n",
    "The selection of the next speaker can be implemented as any function, but in this case we simply loop through the agents."
   ]
  },
  {
   "cell_type": "code",
   "execution_count": 3,
   "metadata": {},
   "outputs": [],
   "source": [
    "class DialogueSimulator():\n",
    "    \n",
    "    def __init__(\n",
    "        self, \n",
    "        agents: List[DialogueAgent], \n",
    "        selection_function: Callable[[int, List[DialogueAgent]], int]\n",
    "    ) -> None:\n",
    "        self.agents = agents\n",
    "        self._step = 0\n",
    "        self.select_next_speaker = selection_function\n",
    "        \n",
    "    def reset(self, name: str, message: str):\n",
    "        \"\"\"\n",
    "        Initiates the conversation with a {message} from {name}\n",
    "        \"\"\"\n",
    "        for agent in self.agents:\n",
    "            agent.receive(name, message)\n",
    "            \n",
    "        # increment time\n",
    "        self._step += 1\n",
    "    \n",
    "    def step(self) -> tuple[str, str]:\n",
    "        # 1. choose the next speaker\n",
    "        speaker_idx = self.select_next_speaker(self._step, self.agents)\n",
    "        speaker = self.agents[speaker_idx]\n",
    "        \n",
    "        # 2. next speaker sends message\n",
    "        message = speaker.send()\n",
    "        \n",
    "        # 3. everyone receives message\n",
    "        for receiver in self.agents:\n",
    "            receiver.receive(speaker.name, message)\n",
    "            \n",
    "        # 4. increment time\n",
    "        self._step += 1\n",
    "                \n",
    "        return speaker.name, message"
   ]
  },
  {
   "cell_type": "markdown",
   "metadata": {},
   "source": [
    "## Define roles and quest"
   ]
  },
  {
   "cell_type": "code",
   "execution_count": 4,
   "metadata": {},
   "outputs": [],
   "source": [
    "character_names = [\"Harry Potter\", \"Ron Weasley\", \"Hermione Granger\", \"Argus Filch\"]\n",
    "storyteller_name = \"Dungeon Master\"\n",
    "quest = \"Find all of Lord Voldemort's seven horcruxes.\"\n",
    "word_limit = 50 # word limit for task brainstorming"
   ]
  },
  {
   "cell_type": "markdown",
   "metadata": {},
   "source": [
    "## Ask an LLM to add detail to the game description"
   ]
  },
  {
   "cell_type": "code",
   "execution_count": 20,
   "metadata": {},
   "outputs": [],
   "source": [
    "game_description = f\"\"\"Here is the topic for a Dungeons & Dragons game: {quest}.\n",
    "        The characters are: {*character_names,}.\n",
    "        The story is narrated by the storyteller, {storyteller_name}.\"\"\"\n",
    "\n",
    "player_descriptor_system_message = SystemMessage(\n",
    "    content=\"You can add detail to the description of a Dungeons & Dragons player.\")\n",
    "\n",
    "def generate_character_description(character_name):\n",
    "    character_specifier_prompt = [\n",
    "        player_descriptor_system_message,\n",
    "        HumanMessage(content=\n",
    "            f\"\"\"{game_description}\n",
    "            Please reply with a creative description of the character, {character_name}, in {word_limit} words or less. \n",
    "            Speak directly to {character_name}.\n",
    "            Do not add anything else.\"\"\"\n",
    "            )\n",
    "    ]\n",
    "    character_description = ChatOpenAI(temperature=1.0)(character_specifier_prompt).content\n",
    "    return character_description\n",
    "\n",
    "def generate_character_system_message(character_name, character_description):\n",
    "    return SystemMessage(content=(\n",
    "    f\"\"\"{game_description}\n",
    "    Your name is {character_name}. \n",
    "    Your character description is as follows: {character_description}.\n",
    "    You will propose actions you plan to take and {storyteller_name} will explain what happens when you take those actions.\n",
    "    Speak in the first person from the perspective of {character_name}.\n",
    "    For describing your own body movements, wrap your description in '*'.\n",
    "    Do not change roles!\n",
    "    Do not speak from the perspective of anyone else.\n",
    "    Do not forget to finish speaking by saying, 'I finished my turn.'\n",
    "    Remember you are {character_name}.\n",
    "    Stop speaking the moment you finish speaking from your perspective.\n",
    "    Never forget to keep your response to {word_limit} words!\n",
    "    Do not add anything else.\n",
    "    \"\"\"\n",
    "    ))\n",
    "\n",
    "character_descriptions = [generate_character_description(character_name) for character_name in character_names]\n",
    "character_system_messages = [generate_character_system_message(character_name, character_description) for character_name, character_description in zip(character_names, character_descriptions)]\n",
    "\n",
    "storyteller_specifier_prompt = [\n",
    "    player_descriptor_system_message,\n",
    "    HumanMessage(content=\n",
    "        f\"\"\"{game_description}\n",
    "        Please reply with a creative description of the storyteller, {storyteller_name}, in {word_limit} words or less. \n",
    "        Speak directly to {storyteller_name}.\n",
    "        Do not add anything else.\"\"\"\n",
    "        )\n",
    "]\n",
    "storyteller_description = ChatOpenAI(temperature=1.0)(storyteller_specifier_prompt).content\n",
    "\n",
    "storyteller_system_message = SystemMessage(content=(\n",
    "f\"\"\"{game_description}\n",
    "You are the storyteller, {storyteller_name}. \n",
    "Your description is as follows: {storyteller_description}.\n",
    "The other players will propose actions to take and you will explain what happens when they take those actions.\n",
    "Speak in the first person from the perspective of {storyteller_name}.\n",
    "Do not change roles!\n",
    "Do not speak from the perspective of anyone else.\n",
    "Do not forget to finish speaking by saying, 'I finished my turn.'\n",
    "Remember you are the storyteller, {storyteller_name}.\n",
    "Stop speaking the moment you finish speaking from your perspective.\n",
    "Never forget to keep your response to {word_limit} words!\n",
    "Do not add anything else.\n",
    "\"\"\"\n",
    "))"
   ]
  },
  {
   "cell_type": "code",
   "execution_count": 21,
   "metadata": {},
   "outputs": [
    {
     "name": "stdout",
     "output_type": "stream",
     "text": [
      "Storyteller Description:\n",
      "Dear Dungeon Master, your power as a storyteller is unmatched. Your words weave intricate tales and guide us through dangerous quests. Your ability to create vivid worlds of magic and myth is awe-inspiring. Your skill as a master of Dungeons & Dragons is unparalleled. We are in your capable hands on this journey to defeat Lord Voldemort.\n",
      "Harry Potter Description:\n",
      "Harry Potter, you are the Chosen One and the boy who lived. You possess courage, loyalty, and a deep sense of justice. You have already faced and defeated Lord Voldemort once, and now you must embark on a dangerous quest to find his seven horcruxes. Your fate is intertwined with that of the wizarding world, and you must rise up to the challenge once again.\n",
      "Ron Weasley Description:\n",
      "A fiery-haired wizard with a heart of gold and an unshakable loyalty to his friends. You're always ready to stand up to bullies and protect those you care about. Your quick wit and love of adventure make you the perfect companion on any quest.\n",
      "Hermione Granger Description:\n",
      "Hermione Granger, you are a brilliant witch with an insatiable thirst for knowledge. Your intelligence, quick thinking, and cleverness often save the day. You are fiercely loyal to your friends and will do whatever it takes to help them succeed.\n",
      "Argus Filch Description:\n",
      "Argus Filch, you are the caretaker at Hogwarts and a non-magical human. Your dedication to upholding school rules is unwavering, and you take pleasure in punishing rule-breakers. You were not invited to join the Horcrux quest, but you can't help but feel both curious and resentful about it.\n"
     ]
    }
   ],
   "source": [
    "print('Storyteller Description:')\n",
    "print(storyteller_description)\n",
    "for character_name, character_description in zip(character_names, character_descriptions):\n",
    "    print(f'{character_name} Description:')\n",
    "    print(character_description)"
   ]
  },
  {
   "cell_type": "markdown",
   "metadata": {},
   "source": [
    "## Use an LLM to create an elaborate quest description"
   ]
  },
  {
   "cell_type": "code",
   "execution_count": 22,
   "metadata": {},
   "outputs": [
    {
     "name": "stdout",
     "output_type": "stream",
     "text": [
      "Original quest:\n",
      "Find all of Lord Voldemort's seven horcruxes.\n",
      "\n",
      "Detailed quest:\n",
      "Your quest is to retrieve Lord Voldemort's seven horcruxes, scattered throughout the realm. While on this dangerous journey, you must also protect the remaining wizards and witches from the devastating beasts that Voldemort has unleashed. Failure to do so will result in certain doom. Good luck, and may your wands be at the ready!\n",
      "\n"
     ]
    }
   ],
   "source": [
    "quest_specifier_prompt = [\n",
    "    SystemMessage(content=\"You can make a task more specific.\"),\n",
    "    HumanMessage(content=\n",
    "        f\"\"\"{game_description}\n",
    "        \n",
    "        You are the storyteller, {storyteller_name}.\n",
    "        Please make the quest more specific. Be creative and imaginative.\n",
    "        Please reply with the specified quest in {word_limit} words or less. \n",
    "        Speak directly to the characters: {*character_names,}.\n",
    "        Do not add anything else.\"\"\"\n",
    "        )\n",
    "]\n",
    "specified_quest = ChatOpenAI(temperature=1.0)(quest_specifier_prompt).content\n",
    "\n",
    "print(f\"Original quest:\\n{quest}\\n\")\n",
    "print(f\"Detailed quest:\\n{specified_quest}\\n\")"
   ]
  },
  {
   "cell_type": "markdown",
   "metadata": {},
   "source": [
    "## Main Loop"
   ]
  },
  {
   "cell_type": "code",
   "execution_count": 23,
   "metadata": {},
   "outputs": [],
   "source": [
    "characters = []\n",
    "for character_name, character_system_message in zip(character_names, character_system_messages):\n",
    "    characters.append(DialogueAgent(\n",
    "        name=character_name,\n",
    "        system_message=character_system_message, \n",
    "        model=ChatOpenAI(temperature=0.2)))\n",
    "storyteller = DialogueAgent(name=storyteller_name,\n",
    "                     system_message=storyteller_system_message, \n",
    "                     model=ChatOpenAI(temperature=0.2))"
   ]
  },
  {
   "cell_type": "code",
   "execution_count": 24,
   "metadata": {},
   "outputs": [],
   "source": [
    "def select_next_speaker(step: int, agents: List[DialogueAgent]) -> int:\n",
    "    \"\"\"\n",
    "    If the step is even, then select the storyteller\n",
    "    Otherwise, select the other characters in a round-robin fashion.\n",
    "    \n",
    "    For example, with three characters with indices: 1 2 3\n",
    "    The storyteller is index 0.\n",
    "    Then the selected index will be as follows:\n",
    "\n",
    "    step: 0  1  2  3  4  5  6  7  8  9 10 11 12 13 14 15 16\n",
    "\n",
    "    idx:  0  1  0  2  0  3  0  1  0  2  0  3  0  1  0  2  0\n",
    "    \"\"\"\n",
    "    if step % 2 == 0:\n",
    "        idx = 0\n",
    "    else:\n",
    "        idx = (step//2) % (len(agents)-1) + 1\n",
    "    return idx"
   ]
  },
  {
   "cell_type": "code",
   "execution_count": null,
   "metadata": {},
   "outputs": [
    {
     "name": "stdout",
     "output_type": "stream",
     "text": [
      "(Dungeon Master): Your quest is to retrieve Lord Voldemort's seven horcruxes, scattered throughout the realm. While on this dangerous journey, you must also protect the remaining wizards and witches from the devastating beasts that Voldemort has unleashed. Failure to do so will result in certain doom. Good luck, and may your wands be at the ready!\n",
      "\n",
      "\n",
      "(Harry Potter): I gather my friends Ron and Hermione, and we head to the Hogwarts library to research the locations of the horcruxes. We need to be prepared before we set out on this dangerous journey. *I scan the shelves for any books on horcruxes.*\n",
      "\n",
      "\n",
      "(Dungeon Master): As you search the library, you come across a dusty old tome titled \"The History of Horcruxes.\" It contains information on the creation and destruction of horcruxes, as well as possible locations of Voldemort's seven. However, you notice that the book is cursed and will only reveal its secrets if you answer a riddle. What do you do?\n",
      "I finished my turn.\n",
      "\n",
      "\n",
      "(Ron Weasley): I step forward and offer to answer the riddle. I'm not the brightest wizard, but I'm willing to give it a try. *I listen closely to the riddle and try to solve it.*\n",
      "\n",
      "\n",
      "(Dungeon Master): The riddle is a tricky one, but Ron manages to solve it with a stroke of luck. The book opens up, revealing the information you need. You now have a list of possible locations for the horcruxes. However, you also notice that the book has drained some of Ron's energy. He will need to rest before continuing on the journey. What do you do?\n",
      "I finished my turn.\n",
      "\n",
      "\n",
      "(Hermione Granger): I suggest we take a break and let Ron rest while I study the list of possible horcrux locations. I'll cross-reference it with any other books or information we have to narrow down our search. *I sit down at a nearby table and begin studying the list.*\n",
      "\n",
      "\n",
      "(Dungeon Master): As Hermione studies the list, she discovers that one of the horcruxes is located in the Forbidden Forest. However, the forest is dangerous and full of unknown creatures. You must decide if you want to risk entering the forest or find another way to retrieve the horcrux. What do you do?\n",
      "I finished my turn.\n",
      "\n",
      "\n",
      "(Argus Filch): I interrupt the trio and remind them that the Forbidden Forest is off-limits to students and staff. I suggest we report this information to Professor Dumbledore and let him handle it. We must follow the rules and not put ourselves in danger. *I cross my arms and wait for their response.*\n",
      "I finished my turn.\n",
      "\n",
      "\n",
      "(Dungeon Master): The trio considers Filch's suggestion, but ultimately decides that time is of the essence and they cannot wait for Dumbledore's intervention. They agree to enter the Forbidden Forest, but take precautions and prepare themselves for any dangers they may face. They set off into the forest, ready to retrieve the horcrux. What challenges will they face? Only time will tell. \n",
      "I finished my turn.\n",
      "\n",
      "\n",
      "(Harry Potter): As we enter the Forbidden Forest, I keep my wand at the ready and stay alert for any signs of danger. *I scan the trees and underbrush for any movement or sounds.* We need to move quickly and quietly to avoid any unwanted attention.\n",
      "\n",
      "\n",
      "(Dungeon Master): As you move deeper into the forest, you hear the sound of rustling leaves and snapping twigs. Suddenly, a pack of werewolves appears, blocking your path. They are hungry and aggressive, and it's clear that they won't let you pass without a fight. What do you do?\n",
      "I finished my turn.\n",
      "\n",
      "\n",
      "(Ron Weasley): I quickly cast a spell to create a loud noise, hoping to startle the werewolves and give us a chance to escape. *I wave my wand and shout the incantation.* We need to get out of here before they attack!\n",
      "I finished my turn.\n",
      "\n",
      "\n",
      "(Dungeon Master): Ron's spell startles the werewolves, causing them to momentarily pause. You take advantage of the moment and quickly run in the opposite direction. However, the werewolves are fast and soon catch up to you. You must fight them off to continue on your quest. What spells and tactics will you use? The battle begins now.\n",
      "I finished my turn.\n",
      "\n",
      "\n",
      "(Hermione Granger): I quickly cast a spell to create a shield around us, protecting us from the werewolves' attacks. *I wave my wand and shout the incantation.* While the shield is up, Harry and Ron can focus on attacking the werewolves with their spells. We need to work together to defeat them and continue on our quest.\n",
      "I finished my turn.\n",
      "\n",
      "\n",
      "(Dungeon Master): Hermione's shield spell provides a temporary barrier between the trio and the werewolves, giving Harry and Ron a chance to attack. Harry casts a spell to immobilize one of the werewolves, while Ron uses a spell to create a blast of fire, scaring off the others. With the werewolves defeated, you continue on your journey deeper into the Forbidden Forest. What other dangers will you face? Only time will tell.\n",
      "I finished my turn.\n",
      "\n",
      "\n",
      "(Argus Filch): I continue to follow the trio from a distance, making sure they don't break any rules or put themselves in danger. *I keep a watchful eye on them, ready to intervene if necessary.* They may not have invited me on this quest, but I won't let them get into trouble without consequences.\n",
      "I finished my turn.\n",
      "\n",
      "\n",
      "(Dungeon Master): As the group moves deeper into the forest, they come across a clearing where the horcrux is located. However, they also notice that the clearing is guarded by a powerful dark wizard, one of Voldemort's most loyal followers. The wizard is heavily armed and ready for battle. What do you do?\n",
      "I finished my turn.\n",
      "\n",
      "\n",
      "(Harry Potter): I step forward and face the dark wizard, ready to engage in battle. *I raise my wand and prepare to cast a spell.* We cannot let him stand in our way. We must defeat him and retrieve the horcrux.\n",
      "I finished my turn.\n",
      "\n",
      "\n"
     ]
    }
   ],
   "source": [
    "max_iters = 20\n",
    "n = 0\n",
    "\n",
    "simulator = DialogueSimulator(\n",
    "    agents=[storyteller] + characters,\n",
    "    selection_function=select_next_speaker\n",
    ")\n",
    "simulator.reset(storyteller_name, specified_quest)\n",
    "print(f\"({storyteller_name}): {specified_quest}\")\n",
    "print('\\n')\n",
    "\n",
    "while n < max_iters:\n",
    "    name, message = simulator.step()\n",
    "    print(f\"({name}): {message}\")\n",
    "    print('\\n')\n",
    "    n += 1"
   ]
  },
  {
   "cell_type": "code",
   "execution_count": null,
   "metadata": {},
   "outputs": [],
   "source": []
  }
 ],
 "metadata": {
  "kernelspec": {
   "display_name": "Python 3 (ipykernel)",
   "language": "python",
   "name": "python3"
  },
  "language_info": {
   "codemirror_mode": {
    "name": "ipython",
    "version": 3
   },
   "file_extension": ".py",
   "mimetype": "text/x-python",
   "name": "python",
   "nbconvert_exporter": "python",
   "pygments_lexer": "ipython3",
   "version": "3.9.16"
  }
 },
 "nbformat": 4,
 "nbformat_minor": 2
}
