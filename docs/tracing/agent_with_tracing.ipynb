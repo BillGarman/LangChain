{
 "cells": [
  {
   "cell_type": "code",
   "execution_count": 1,
   "id": "17c04cc6-c93d-4b6c-a033-e897577f4ed1",
   "metadata": {},
   "outputs": [],
   "source": [
    "import os\n",
    "os.environ[\"LANGCHAIN_HANDLER\"] = \"langchain\"\n",
    "# os.environ[\"LANGCHAIN_ENDPOINT\"] = \"https://langchain-api-gateway-57eoxz8z.uc.gateway.dev\"  # Uncomment this if using hosted setup.\n",
    "# os.environ[\"LANGCHAIN_SESSION\"] = \"my_session\"  # Uncomment this if you want traces to be recorded to \"my_session\" instead of default.\n",
    "\n",
    "# Better to set this environment variable in the terminal\n",
    "# os.environ[\"LANGCHAIN_API_KEY\"] = \"my_api_key\"  # Uncomment this if using hosted version. Replace \"my_api_key\" with your actual API Key.\n",
    "\n",
    "import langchain\n",
    "from langchain import LLMMathChain, SerpAPIWrapper\n",
    "from langchain.agents import Tool, initialize_agent\n",
    "from langchain.llms import OpenAI"
   ]
  },
  {
   "cell_type": "code",
   "execution_count": 2,
   "id": "bfa16b79-aa4b-4d41-a067-70d1f593f667",
   "metadata": {},
   "outputs": [
    {
     "name": "stdout",
     "output_type": "stream",
     "text": [
      "\n",
      "\n",
      "\u001b[1m> Entering new AgentExecutor chain...\u001b[0m\n",
      "\u001b[32;1m\u001b[1;3m I need to find out who won the US Open men's tennis final in 2019 and then calculate his age raised to the second power.\n",
      "Action: Search\n",
      "Action Input: \"US Open men's tennis final 2019\"\u001b[0m\n",
      "Observation: \u001b[36;1m\u001b[1;3mIn a repeat of the 2019 Rogers Cup, Rafael Nadal won the men's singles title, defeating first time Grand Slam finalist Daniil Medvedev in a 5-set thriller for ...\u001b[0m\n",
      "Thought:\u001b[32;1m\u001b[1;3m I now need to find out Rafael Nadal's age\n",
      "Action: Search\n",
      "Action Input: \"Rafael Nadal age\"\u001b[0m\n",
      "Observation: \u001b[36;1m\u001b[1;3m36 years\u001b[0m\n",
      "Thought:\u001b[32;1m\u001b[1;3m I now need to calculate 36 squared\n",
      "Action: Calculator\n",
      "Action Input: 36^2\u001b[0m\n",
      "\n",
      "\u001b[1m> Entering new LLMMathChain chain...\u001b[0m\n",
      "36^2\u001b[32;1m\u001b[1;3mAnswer: 1296\u001b[0m\n",
      "\u001b[1m> Finished chain.\u001b[0m\n",
      "\n",
      "Observation: \u001b[33;1m\u001b[1;3mAnswer: 1296\u001b[0m\n",
      "Thought:\u001b[32;1m\u001b[1;3m I now know the final answer\n",
      "Final Answer: Rafael Nadal, aged 36, won the US Open men's tennis final in 2019 and his age raised to the second power is 1296.\u001b[0m\n",
      "\n",
      "\u001b[1m> Finished chain.\u001b[0m\n"
     ]
    },
    {
     "data": {
      "text/plain": [
       "\"Rafael Nadal, aged 36, won the US Open men's tennis final in 2019 and his age raised to the second power is 1296.\""
      ]
     },
     "execution_count": 2,
     "metadata": {},
     "output_type": "execute_result"
    }
   ],
   "source": [
    "# Agent run with tracing. Ensure that SERPAPI_API_KEY and OPENAI_API_KEY are set appropriately to run this example.\n",
    "\n",
    "llm = OpenAI(temperature=0)\n",
    "search = SerpAPIWrapper()\n",
    "llm_math_chain = LLMMathChain(llm=llm, verbose=True)\n",
    "tools = [\n",
    "    Tool(\n",
    "        name=\"Search\",\n",
    "        func=search.run,\n",
    "        description=\"useful for when you need to answer questions about current events\",\n",
    "    ),\n",
    "    Tool(\n",
    "        name=\"Calculator\",\n",
    "        func=llm_math_chain.run,\n",
    "        description=\"useful for when you need to answer questions about math\",\n",
    "    ),\n",
    "]\n",
    "\n",
    "agent = initialize_agent(\n",
    "    tools, llm, agent=\"zero-shot-react-description\", verbose=True\n",
    ")\n",
    "\n",
    "agent.run(\n",
    "    \"Who won the US Open men's tennis final in 2019? What is his age raised to the second power?\"\n",
    ")"
   ]
  },
  {
   "cell_type": "code",
   "execution_count": 3,
   "id": "a4f995ab-0fdb-436d-b1a4-5da971751468",
   "metadata": {},
   "outputs": [
    {
     "name": "stdout",
     "output_type": "stream",
     "text": [
      "\n",
      "\n",
      "\u001b[1m> Entering new AgentExecutor chain...\u001b[0m\n",
      "\u001b[32;1m\u001b[1;3m I need to find out who won the US Open men's tennis final in 2022 and then calculate his age raised to the second power.\n",
      "Action: Search\n",
      "Action Input: \"US Open men's tennis final 2022\"\u001b[0m\n",
      "Observation: \u001b[36;1m\u001b[1;3mCarlos Alcaraz defeated Casper Ruud in the final, 6–4, 2–6, 7–6(7–1), 6–3 to win the men's singles tennis title at the 2022 US Open. It was his first major ...\u001b[0m\n",
      "Thought:\u001b[32;1m\u001b[1;3m I need to find out Carlos Alcaraz's age\n",
      "Action: Search\n",
      "Action Input: \"Carlos Alcaraz age\"\u001b[0m\n",
      "Observation: \u001b[36;1m\u001b[1;3m19 years\u001b[0m\n",
      "Thought:\u001b[32;1m\u001b[1;3m I need to calculate 19 squared\n",
      "Action: Calculator\n",
      "Action Input: 19^2\u001b[0m\n",
      "\n",
      "\u001b[1m> Entering new LLMMathChain chain...\u001b[0m\n",
      "19^2\u001b[32;1m\u001b[1;3mAnswer: 361\u001b[0m\n",
      "\u001b[1m> Finished chain.\u001b[0m\n",
      "\n",
      "Observation: \u001b[33;1m\u001b[1;3mAnswer: 361\u001b[0m\n",
      "Thought:\u001b[32;1m\u001b[1;3m I now know the final answer\n",
      "Final Answer: Carlos Alcaraz, aged 19, won the US Open men's tennis final in 2022 and his age raised to the second power is 361.\u001b[0m\n",
      "\n",
      "\u001b[1m> Finished chain.\u001b[0m\n"
     ]
    },
    {
     "data": {
      "text/plain": [
       "\"Carlos Alcaraz, aged 19, won the US Open men's tennis final in 2022 and his age raised to the second power is 361.\""
      ]
     },
     "execution_count": 3,
     "metadata": {},
     "output_type": "execute_result"
    }
   ],
   "source": [
    "# langchain.set_tracing_callback_manager(session_name=\"my_session\")  # Uncomment this to record the run to \"my_session\", assuming it exists.\n",
    "\n",
    "agent.run(\n",
    "    \"Who won the US Open men's tennis final in 2022? What is his age raised to the second power?\"\n",
    ")"
   ]
  }
 ],
 "metadata": {
  "kernelspec": {
   "display_name": "Python 3 (ipykernel)",
   "language": "python",
   "name": "python3"
  },
  "language_info": {
   "codemirror_mode": {
    "name": "ipython",
    "version": 3
   },
   "file_extension": ".py",
   "mimetype": "text/x-python",
   "name": "python",
   "nbconvert_exporter": "python",
   "pygments_lexer": "ipython3",
   "version": "3.10.8"
  }
 },
 "nbformat": 4,
 "nbformat_minor": 5
}
