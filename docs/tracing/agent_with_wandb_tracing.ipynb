{
 "cells": [
  {
   "cell_type": "markdown",
   "id": "5371a9bb",
   "metadata": {},
   "source": [
    "# Tracing Walkthrough\n",
    "\n",
    "There are two recommended ways to trace your LangChains:\n",
    "\n",
    "1. Setting the `LANGCHAIN_WANDB_TRACING` environment variable to \"true\".\n",
    "1. Using a context manager with tracing_enabled() to trace a particular block of code.\n",
    "\n",
    "**Note** if the environment variable is set, all code will be traced, regardless of whether or not it's within the context manager."
   ]
  },
  {
   "cell_type": "code",
   "execution_count": null,
   "id": "17c04cc6-c93d-4b6c-a033-e897577f4ed1",
   "metadata": {
    "tags": [],
    "ExecuteTime": {
     "start_time": "2023-05-11T17:10:32.804291Z",
     "end_time": "2023-05-11T17:10:33.811056Z"
    }
   },
   "outputs": [],
   "source": [
    "import os\n",
    "os.environ[\"LANGCHAIN_WANDB_TRACING\"] = \"true\"\n",
    "os.environ[\"WANDB_PROJECT\"] = \"langchain-tracing\"\n",
    "\n",
    "from langchain.agents import initialize_agent, load_tools\n",
    "from langchain.agents import AgentType\n",
    "from langchain.chat_models import ChatOpenAI\n",
    "from langchain.llms import OpenAI\n",
    "from langchain.callbacks import wandb_tracing_enabled"
   ]
  },
  {
   "cell_type": "code",
   "execution_count": null,
   "id": "1b62cd48",
   "metadata": {
    "tags": [],
    "ExecuteTime": {
     "start_time": "2023-05-11T17:10:33.812695Z",
     "end_time": "2023-05-11T17:10:33.822949Z"
    }
   },
   "outputs": [],
   "source": [
    "# Agent run with tracing. Ensure that OPENAI_API_KEY is set appropriately to run this example.\n",
    "\n",
    "llm = OpenAI(temperature=0)\n",
    "tools = load_tools([\"llm-math\"], llm=llm)"
   ]
  },
  {
   "cell_type": "code",
   "execution_count": null,
   "id": "bfa16b79-aa4b-4d41-a067-70d1f593f667",
   "metadata": {
    "tags": [],
    "ExecuteTime": {
     "start_time": "2023-05-11T17:10:33.821171Z",
     "end_time": "2023-05-11T17:10:48.463225Z"
    }
   },
   "outputs": [],
   "source": [
    "agent = initialize_agent(\n",
    "    tools, llm, agent=AgentType.ZERO_SHOT_REACT_DESCRIPTION, verbose=True\n",
    ")\n",
    "\n",
    "agent.run(\"What is 2 raised to .123243 power?\")"
   ]
  },
  {
   "cell_type": "code",
   "execution_count": null,
   "id": "4829eb1d",
   "metadata": {
    "tags": [],
    "ExecuteTime": {
     "start_time": "2023-05-11T17:10:48.464485Z",
     "end_time": "2023-05-11T17:10:55.889274Z"
    }
   },
   "outputs": [],
   "source": [
    "# Agent run with tracing using a chat model\n",
    "agent = initialize_agent(\n",
    "    tools, ChatOpenAI(temperature=0), agent=AgentType.ZERO_SHOT_REACT_DESCRIPTION, verbose=True\n",
    ")\n",
    "\n",
    "agent.run(\"What is 2 raised to .123243 power?\")"
   ]
  },
  {
   "cell_type": "code",
   "execution_count": null,
   "id": "76abfd82",
   "metadata": {
    "tags": [],
    "ExecuteTime": {
     "start_time": "2023-05-11T17:10:55.889104Z",
     "end_time": "2023-05-11T17:11:12.439458Z"
    }
   },
   "outputs": [],
   "source": [
    "# Both of the agent runs will be traced because the environment variable is set\n",
    "agent.run(\"What is 2 raised to .123243 power?\")\n",
    "with wandb_tracing_enabled() as session:\n",
    "    agent.run(\"What is 5 raised to .123243 power?\")"
   ]
  },
  {
   "cell_type": "code",
   "execution_count": null,
   "id": "fe833c33-033f-4806-be0c-cc3d147db13d",
   "metadata": {
    "tags": [],
    "ExecuteTime": {
     "start_time": "2023-05-11T17:11:12.440350Z",
     "end_time": "2023-05-11T17:11:29.534170Z"
    }
   },
   "outputs": [],
   "source": [
    "# Now, we unset the environment variable and use a context manager.\n",
    "if \"LANGCHAIN_TRACING\" in os.environ:\n",
    "    del os.environ[\"LANGCHAIN_WANDB_TRACING\"]\n",
    "\n",
    "# here, we are writing traces to \"my_test_session\"\n",
    "with wandb_tracing_enabled(\"my_session\") as session:\n",
    "    assert session\n",
    "    agent.run(\"What is 5 raised to .123243 power?\")  # this should be traced\n",
    "\n",
    "agent.run(\"What is 2 raised to .123243 power?\")  # this should not be traced"
   ]
  },
  {
   "cell_type": "code",
   "execution_count": null,
   "id": "b34105a4-be8e-46e4-8abe-01adba3ba727",
   "metadata": {
    "tags": [],
    "ExecuteTime": {
     "start_time": "2023-05-11T17:11:29.535307Z",
     "end_time": "2023-05-11T17:11:39.412885Z"
    }
   },
   "outputs": [],
   "source": [
    "# The context manager is concurrency safe:\n",
    "import asyncio \n",
    "if \"LANGCHAIN_WANDB_TRACING\" in os.environ:\n",
    "    del os.environ[\"LANGCHAIN_WANDB_TRACING\"]\n",
    "    \n",
    "questions = [f\"What is {i} raised to .123 power?\" for i in range(1,4)]\n",
    "\n",
    "# start a background task\n",
    "task = asyncio.create_task(agent.arun(questions[0]))  # this should not be traced\n",
    "with wandb_tracing_enabled() as session:\n",
    "    assert session\n",
    "    tasks = [agent.arun(q) for q in questions[1:3]]  # these should be traced\n",
    "    await asyncio.gather(*tasks)\n",
    "\n",
    "await task"
   ]
  }
 ],
 "metadata": {
  "kernelspec": {
   "display_name": "Python 3 (ipykernel)",
   "language": "python",
   "name": "python3"
  },
  "language_info": {
   "codemirror_mode": {
    "name": "ipython",
    "version": 3
   },
   "file_extension": ".py",
   "mimetype": "text/x-python",
   "name": "python",
   "nbconvert_exporter": "python",
   "pygments_lexer": "ipython3",
   "version": "3.10.9"
  }
 },
 "nbformat": 4,
 "nbformat_minor": 5
}
