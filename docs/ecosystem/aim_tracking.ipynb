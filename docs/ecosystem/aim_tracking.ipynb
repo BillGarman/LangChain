{
  "cells": [
    {
      "attachments": {},
      "cell_type": "markdown",
      "metadata": {
        "id": "YYreZXUHfl6G"
      },
      "source": [
        "# Aim\n",
        "\n",
        "The purpose of this notebook is to provide guidance on consolidating your LangChain pipelines into a single Aim dashboard. If you wish to gain a better understanding of prompt engineering and the callback, you may refer to the accompanying report. The report covers these topics in addition to the resulting dashboards you can anticipate."
      ]
    },
    {
      "cell_type": "code",
      "execution_count": null,
      "metadata": {
        "id": "mf88kuCJhbVu"
      },
      "outputs": [],
      "source": [
        "!pip install aim\n",
        "!pip install langchain\n",
        "!pip install textstat\n",
        "!pip install openai\n",
        "!pip install google-search-results"
      ]
    },
    {
      "cell_type": "code",
      "execution_count": null,
      "metadata": {
        "id": "g4eTuajwfl6L"
      },
      "outputs": [],
      "source": [
        "import os\n",
        "from datetime import datetime\n",
        "\n",
        "from langchain.llms import OpenAI\n",
        "from langchain.callbacks.base import CallbackManager\n",
        "from langchain.callbacks import AimCallbackHandler, StdOutCallbackHandler"
      ]
    },
    {
      "cell_type": "code",
      "execution_count": null,
      "metadata": {
        "id": "T1bSmKd6V2If"
      },
      "outputs": [],
      "source": [
        "os.environ[\"OPENAI_API_KEY\"] = \"...\"\n",
        "os.environ[\"SERPAPI_API_KEY\"] = \"...\""
      ]
    },
    {
      "cell_type": "markdown",
      "metadata": {
        "id": "QenUYuBZjIzc"
      },
      "source": [
        "The event methods of `AimCallbackHandler` accept the LangChain module or agent as input and log at least the prompts and generated results, as well as the serialized version of the LangChain module, to the designated Aim run."
      ]
    },
    {
      "cell_type": "code",
      "execution_count": null,
      "metadata": {
        "id": "KAz8weWuUeXF"
      },
      "outputs": [],
      "source": [
        "\"\"\"Main function.\n",
        "\n",
        "This function is used to try the callback handler.\n",
        "1. OpenAI LLM\n",
        "2. Chain with multiple SubCha\n",
        "ins on multiple generations\n",
        "3. Agent with Tools\n",
        "\"\"\"\n",
        "session_group = datetime.now().strftime(\"%m.%d.%Y_%H.%M.%S\")\n",
        "aim_callback = AimCallbackHandler(\n",
        "    repo=\".\",\n",
        "    experiment_name=\"scenario 1: OpenAI LLM\",\n",
        "    complexity_metrics=True,\n",
        ")\n",
        "\n",
        "manager = CallbackManager([StdOutCallbackHandler(), aim_callback])\n",
        "llm = OpenAI(temperature=0, callback_manager=manager, verbose=True)"
      ]
    },
    {
      "cell_type": "markdown",
      "metadata": {
        "id": "b8WfByB4fl6N"
      },
      "source": [
        "The `flush_tracker` function is used to record LangChain assets on Aim. By default, the session is reset rather than being terminated outright."
      ]
    },
    {
      "cell_type": "code",
      "execution_count": null,
      "metadata": {
        "id": "o_VmneyIUyx8"
      },
      "outputs": [],
      "source": [
        "# scenario 1 - LLM\n",
        "llm_result = llm.generate([\"Tell me a joke\", \"Tell me a poem\"] * 3)\n",
        "aim_callback.flush_tracker(\n",
        "    langchain_asset=llm,\n",
        "    experiment_name=\"scenario 2: Chain with multiple SubChains on multiple generations\",\n",
        ")\n"
      ]
    },
    {
      "cell_type": "code",
      "execution_count": null,
      "metadata": {
        "id": "trxslyb1U28Y"
      },
      "outputs": [],
      "source": [
        "from langchain.prompts import PromptTemplate\n",
        "from langchain.chains import LLMChain"
      ]
    },
    {
      "cell_type": "code",
      "execution_count": null,
      "metadata": {
        "id": "uauQk10SUzF6"
      },
      "outputs": [],
      "source": [
        "# scenario 2 - Chain\n",
        "template = \"\"\"You are a playwright. Given the title of play, it is your job to write a synopsis for that title.\n",
        "Title: {title}\n",
        "Playwright: This is a synopsis for the above play:\"\"\"\n",
        "prompt_template = PromptTemplate(input_variables=[\"title\"], template=template)\n",
        "synopsis_chain = LLMChain(llm=llm, prompt=prompt_template, callback_manager=manager)\n",
        "\n",
        "test_prompts = [\n",
        "    {\n",
        "        \"title\": \"documentary about good video games that push the boundary of game design\"\n",
        "    },\n",
        "    {\"title\": \"the maximum speed of cheetah\"},\n",
        "    {\"title\": \"the best in class mlops tooling\"},\n",
        "]\n",
        "synopsis_chain.apply(test_prompts)\n",
        "aim_callback.flush_tracker(\n",
        "    langchain_asset=synopsis_chain, experiment_name=\"scenario 3: Agent with Tools\"\n",
        ")"
      ]
    },
    {
      "cell_type": "code",
      "execution_count": null,
      "metadata": {
        "id": "_jN73xcPVEpI"
      },
      "outputs": [],
      "source": [
        "from langchain.agents import initialize_agent, load_tools"
      ]
    },
    {
      "cell_type": "code",
      "execution_count": null,
      "metadata": {
        "colab": {
          "base_uri": "https://localhost:8080/"
        },
        "id": "Gpq4rk6VT9cu",
        "outputId": "68ae261e-d0a2-4229-83c4-762562263b66"
      },
      "outputs": [
        {
          "name": "stdout",
          "output_type": "stream",
          "text": [
            "\n",
            "\n",
            "\u001b[1m> Entering new AgentExecutor chain...\u001b[0m\n",
            "\u001b[32;1m\u001b[1;3m I need to find out who Leo DiCaprio's girlfriend is and then calculate her age raised to the 0.43 power.\n",
            "Action: Search\n",
            "Action Input: \"Leo DiCaprio girlfriend\"\u001b[0m\n",
            "Observation: \u001b[36;1m\u001b[1;3mLeonardo DiCaprio seemed to prove a long-held theory about his love life right after splitting from girlfriend Camila Morrone just months ...\u001b[0m\n",
            "Thought:\u001b[32;1m\u001b[1;3m I need to find out Camila Morrone's age\n",
            "Action: Search\n",
            "Action Input: \"Camila Morrone age\"\u001b[0m\n",
            "Observation: \u001b[36;1m\u001b[1;3m25 years\u001b[0m\n",
            "Thought:\u001b[32;1m\u001b[1;3m I need to calculate 25 raised to the 0.43 power\n",
            "Action: Calculator\n",
            "Action Input: 25^0.43\u001b[0m\n",
            "Observation: \u001b[33;1m\u001b[1;3mAnswer: 3.991298452658078\n",
            "\u001b[0m\n",
            "Thought:\u001b[32;1m\u001b[1;3m I now know the final answer\n",
            "Final Answer: Camila Morrone is Leo DiCaprio's girlfriend and her current age raised to the 0.43 power is 3.991298452658078.\u001b[0m\n",
            "\n",
            "\u001b[1m> Finished chain.\u001b[0m\n"
          ]
        }
      ],
      "source": [
        "# scenario 3 - Agent with Tools\n",
        "tools = load_tools([\"serpapi\", \"llm-math\"], llm=llm, callback_manager=manager)\n",
        "agent = initialize_agent(\n",
        "    tools,\n",
        "    llm,\n",
        "    agent=\"zero-shot-react-description\",\n",
        "    callback_manager=manager,\n",
        "    verbose=True,\n",
        ")\n",
        "agent.run(\n",
        "    \"Who is Leo DiCaprio's girlfriend? What is her current age raised to the 0.43 power?\"\n",
        ")\n",
        "aim_callback.flush_tracker(langchain_asset=agent, reset=False, finish=True)"
      ]
    }
  ],
  "metadata": {
    "accelerator": "GPU",
    "colab": {
      "provenance": []
    },
    "gpuClass": "standard",
    "kernelspec": {
      "display_name": "Python 3 (ipykernel)",
      "language": "python",
      "name": "python3"
    },
    "language_info": {
      "codemirror_mode": {
        "name": "ipython",
        "version": 3
      },
      "file_extension": ".py",
      "mimetype": "text/x-python",
      "name": "python",
      "nbconvert_exporter": "python",
      "pygments_lexer": "ipython3",
      "version": "3.9.1"
    }
  },
  "nbformat": 4,
  "nbformat_minor": 0
}
