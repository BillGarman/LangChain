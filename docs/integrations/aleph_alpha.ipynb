{
 "cells": [
  {
   "cell_type": "markdown",
   "id": "eb1c0ea9",
   "metadata": {},
   "source": [
    "# Aleph Alpha\n",
    "\n",
    ">[Aleph Alpha](https://docs.aleph-alpha.com/) was founded in 2019 with the mission to research and build the foundational technology for an era of strong AI. The team of international scientists, engineers, and innovators researches, develops, and deploys transformative AI like large language and multimodal models and runs the fastest European commercial AI cluster.\n",
    "\n",
    ">[The Luminous series](https://docs.aleph-alpha.com/docs/introduction/luminous/) is a family of large language models."
   ]
  },
  {
   "cell_type": "markdown",
   "id": "9ecc84f9",
   "metadata": {},
   "source": [
    "## Installation and Setup"
   ]
  },
  {
   "cell_type": "code",
   "execution_count": null,
   "id": "8a920a89",
   "metadata": {
    "tags": []
   },
   "outputs": [],
   "source": [
    "!pip install aleph-alpha-client"
   ]
  },
  {
   "cell_type": "markdown",
   "id": "82747505-e71b-43c2-a8ff-3a4e98e90769",
   "metadata": {},
   "source": [
    "You have to create a new token. Please, see [instructions](https://docs.aleph-alpha.com/docs/account/#create-a-new-token)."
   ]
  },
  {
   "cell_type": "code",
   "execution_count": 2,
   "id": "d8917e70-4b1a-4043-85d3-6aeede085230",
   "metadata": {
    "tags": []
   },
   "outputs": [
    {
     "name": "stdin",
     "output_type": "stream",
     "text": [
      " ········\n"
     ]
    }
   ],
   "source": [
    "from getpass import getpass\n",
    "\n",
    "ALEPH_ALPHA_API_KEY = getpass()"
   ]
  },
  {
   "cell_type": "markdown",
   "id": "3b729477-ca34-46f9-8760-e5d75d847176",
   "metadata": {},
   "source": [
    "## LLM\n",
    "\n",
    "See a [usage example](../modules/models/llms/integrations/aleph_alpha.ipynb)."
   ]
  },
  {
   "cell_type": "code",
   "execution_count": 3,
   "id": "f39bf485-3140-4fd0-b204-c99967c23cc3",
   "metadata": {
    "tags": []
   },
   "outputs": [],
   "source": [
    "from langchain.llms import AlephAlpha"
   ]
  },
  {
   "cell_type": "markdown",
   "id": "df12ed82-f58f-41ae-ae62-3196bbc41dd8",
   "metadata": {},
   "source": [
    "## Text Embedding Models\n",
    "\n",
    "See a [usage example](../modules/models/text_embedding/examples/aleph_alpha.ipynb)."
   ]
  },
  {
   "cell_type": "code",
   "execution_count": null,
   "id": "e6ecde96",
   "metadata": {},
   "outputs": [],
   "source": [
    "from langchain.embeddings import AlephAlphaSymmetricSemanticEmbedding, AlephAlphaAsymmetricSemanticEmbedding"
   ]
  },
  {
   "cell_type": "code",
   "execution_count": null,
   "id": "33492471",
   "metadata": {},
   "outputs": [],
   "source": []
  }
 ],
 "metadata": {
  "kernelspec": {
   "display_name": "Python 3 (ipykernel)",
   "language": "python",
   "name": "python3"
  },
  "language_info": {
   "codemirror_mode": {
    "name": "ipython",
    "version": 3
   },
   "file_extension": ".py",
   "mimetype": "text/x-python",
   "name": "python",
   "nbconvert_exporter": "python",
   "pygments_lexer": "ipython3",
   "version": "3.10.6"
  },
  "vscode": {
   "interpreter": {
    "hash": "7377c2ccc78bc62c2683122d48c8cd1fb85a53850a1b1fc29736ed39852c9885"
   }
  }
 },
 "nbformat": 4,
 "nbformat_minor": 5
}
