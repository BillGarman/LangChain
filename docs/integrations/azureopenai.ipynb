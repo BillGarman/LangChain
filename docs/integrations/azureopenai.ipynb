{
 "cells": [
  {
   "cell_type": "markdown",
   "id": "c3852491",
   "metadata": {},
   "source": [
    "# Azure OpenAI\n",
    "\n",
    ">[Microsoft Azure](https://en.wikipedia.org/wiki/Microsoft_Azure), often referred to as `Azure` is a cloud computing platform run by `Microsoft`, which offers access, management, and development of applications and services through global data centers. It provides a range of capabilities, including software as a service (SaaS), platform as a service (PaaS), and infrastructure as a service (IaaS). `Microsoft Azure` supports many programming languages, tools, and frameworks, including Microsoft-specific and third-party software and systems.\n",
    "\n",
    "\n",
    ">[Azure OpenAI](https://learn.microsoft.com/en-us/azure/cognitive-services/openai/) is an `Azure` service with powerful language models from `OpenAI` including the `GPT-3`, `Codex` and `Embeddings model` series for content generation, summarization, semantic search, and natural language to code translation.\n"
   ]
  },
  {
   "cell_type": "markdown",
   "id": "a909947c-1c2d-4e9c-81c4-1605f6173213",
   "metadata": {},
   "source": [
    "## Installation and Setup"
   ]
  },
  {
   "cell_type": "code",
   "execution_count": null,
   "id": "f428e76a-e607-40dd-a90c-acfaf7a7fe1d",
   "metadata": {},
   "outputs": [],
   "source": [
    "!pip install openai"
   ]
  },
  {
   "cell_type": "code",
   "execution_count": null,
   "id": "24325b01-ee89-45ac-b7e0-4c983cf928a4",
   "metadata": {},
   "outputs": [],
   "source": [
    "!pip install tiktoken"
   ]
  },
  {
   "cell_type": "code",
   "execution_count": null,
   "id": "1b40f827",
   "metadata": {},
   "outputs": [],
   "source": [
    "# set the environment variables needed for openai package to know to reach out to azure\n",
    "import os\n",
    "\n",
    "os.environ[\"OPENAI_API_TYPE\"] = \"azure\"\n",
    "os.environ[\"OPENAI_API_BASE\"] = \"https://<your-endpoint.openai.azure.com/\"\n",
    "os.environ[\"OPENAI_API_KEY\"] = \"your AzureOpenAI key\"\n",
    "os.environ[\"OPENAI_API_VERSION\"] = \"2023-03-15-preview\""
   ]
  },
  {
   "cell_type": "markdown",
   "id": "7653753b-4a5d-4b6f-89af-2989e33ad121",
   "metadata": {},
   "source": [
    "## LLM\n",
    "\n",
    "See a [usage example](../modules/models/llms/integrations/azure_openai_example.ipynb)."
   ]
  },
  {
   "cell_type": "code",
   "execution_count": 3,
   "id": "103a2350-fe6d-48d6-83ed-b897f2eefcd3",
   "metadata": {
    "tags": []
   },
   "outputs": [],
   "source": [
    "from langchain.llms import AzureOpenAI"
   ]
  },
  {
   "cell_type": "markdown",
   "id": "c47f69fb-2621-4d48-91f5-2943b358bd6a",
   "metadata": {
    "tags": []
   },
   "source": [
    "## Text Embedding Models\n",
    "\n",
    "See a [usage example](../modules/models/text_embedding/examples/azureopenai.ipynb)"
   ]
  },
  {
   "cell_type": "code",
   "execution_count": null,
   "id": "bb36d16c",
   "metadata": {},
   "outputs": [],
   "source": [
    "from langchain.embeddings import OpenAIEmbeddings"
   ]
  },
  {
   "cell_type": "markdown",
   "id": "3251094b-c9fe-4941-a6aa-8d615ba730b3",
   "metadata": {},
   "source": [
    "## Chat Models\n",
    "\n",
    "See a [usage example](../modules/models/chat/integrations/azure_chat_openai.ipynb)"
   ]
  },
  {
   "cell_type": "code",
   "execution_count": null,
   "id": "4d5c1ae0-46bc-4497-9453-ebc290806df6",
   "metadata": {},
   "outputs": [],
   "source": [
    "from langchain.chat_models import AzureChatOpenAI"
   ]
  }
 ],
 "metadata": {
  "kernelspec": {
   "display_name": "Python 3 (ipykernel)",
   "language": "python",
   "name": "python3"
  },
  "language_info": {
   "codemirror_mode": {
    "name": "ipython",
    "version": 3
   },
   "file_extension": ".py",
   "mimetype": "text/x-python",
   "name": "python",
   "nbconvert_exporter": "python",
   "pygments_lexer": "ipython3",
   "version": "3.10.6"
  },
  "vscode": {
   "interpreter": {
    "hash": "7377c2ccc78bc62c2683122d48c8cd1fb85a53850a1b1fc29736ed39852c9885"
   }
  }
 },
 "nbformat": 4,
 "nbformat_minor": 5
}
