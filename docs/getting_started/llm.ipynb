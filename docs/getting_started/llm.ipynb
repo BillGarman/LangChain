{
 "cells": [
  {
   "cell_type": "markdown",
   "id": "016b7d62",
   "metadata": {},
   "source": [
    "# LLMs\n",
    "\n",
    "The most basic building block of LangChain is calling an LLM on some input.\n",
    "Let's walk through a simple example of how to do this. \n",
    "For this purpose, let's pretend we are building a service that generates a company name based on what the company makes.\n",
    "\n",
    "In order to do this, we first need to import the LLM wrapper.\n"
   ]
  },
  {
   "cell_type": "code",
   "execution_count": 1,
   "id": "151bdf3e",
   "metadata": {},
   "outputs": [],
   "source": [
    "from langchain.llms import OpenAI"
   ]
  },
  {
   "cell_type": "markdown",
   "id": "6c141152",
   "metadata": {},
   "source": [
    "We can then initialize the wrapper with any arguments.\n",
    "In this example, we probably want the outputs to be MORE random, so we'll initialize it with a HIGH temperature."
   ]
  },
  {
   "cell_type": "code",
   "execution_count": 2,
   "id": "b2c373c7",
   "metadata": {},
   "outputs": [],
   "source": [
    "llm = OpenAI(temperature=0.9)"
   ]
  },
  {
   "cell_type": "markdown",
   "id": "abcb1217",
   "metadata": {},
   "source": [
    "We can now call it on some input!"
   ]
  },
  {
   "cell_type": "code",
   "execution_count": 4,
   "id": "a5681dbb",
   "metadata": {},
   "outputs": [
    {
     "name": "stdout",
     "output_type": "stream",
     "text": [
      "\n",
      "\n",
      "Feetful of Fun\n"
     ]
    }
   ],
   "source": [
    "text = \"What would be a good company name a company that makes colorful socks?\"\n",
    "print(llm(text))"
   ]
  },
  {
   "cell_type": "code",
   "execution_count": null,
   "id": "2ea48ed9",
   "metadata": {},
   "outputs": [],
   "source": []
  }
 ],
 "metadata": {
  "kernelspec": {
   "display_name": "Python 3 (ipykernel)",
   "language": "python",
   "name": "python3"
  },
  "language_info": {
   "codemirror_mode": {
    "name": "ipython",
    "version": 3
   },
   "file_extension": ".py",
   "mimetype": "text/x-python",
   "name": "python",
   "nbconvert_exporter": "python",
   "pygments_lexer": "ipython3",
   "version": "3.10.9"
  }
 },
 "nbformat": 4,
 "nbformat_minor": 5
}
