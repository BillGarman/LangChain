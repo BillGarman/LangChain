{
 "cells": [
  {
   "cell_type": "markdown",
   "id": "e859ac65",
   "metadata": {},
   "source": [
    "# Prompt Templates\n",
    "\n",
    "Calling an LLM is a great first step, but it's just the beginning.\n",
    "Normally when you use an LLM in an application, you are not sending user input directly to the LLM.\n",
    "Instead, you are probably taking user input and constructing a prompt, and then sending that to the LLM.\n",
    "\n",
    "For example, in the previous example, the text we passed in was hardcoded to ask for a name for a company that made colorful socks.\n",
    "In this imaginary service, what we would want to do is take only the user input describing what the company does, and then format the prompt with that information.\n",
    "\n",
    "This is easy to do with LangChain!\n",
    "\n",
    "First lets define the prompt template:\n"
   ]
  },
  {
   "cell_type": "code",
   "execution_count": 1,
   "id": "a596db37",
   "metadata": {},
   "outputs": [],
   "source": [
    "from langchain.prompts import PromptTemplate\n",
    "\n",
    "prompt = PromptTemplate(\n",
    "    input_variables=[\"product\"],\n",
    "    template=\"What is a good name for a company that makes {product}?\",\n",
    ")"
   ]
  },
  {
   "cell_type": "markdown",
   "id": "39d5073c",
   "metadata": {},
   "source": [
    "Let's now see how this works! We can call the `.format` method to format it."
   ]
  },
  {
   "cell_type": "code",
   "execution_count": 2,
   "id": "e2e10cc1",
   "metadata": {},
   "outputs": [
    {
     "data": {
      "text/plain": [
       "'What is a good name for a company that makes colorful socks?'"
      ]
     },
     "execution_count": 2,
     "metadata": {},
     "output_type": "execute_result"
    }
   ],
   "source": [
    "prompt.format(product=\"colorful socks\")"
   ]
  },
  {
   "cell_type": "code",
   "execution_count": null,
   "id": "0428f9cb",
   "metadata": {},
   "outputs": [],
   "source": []
  }
 ],
 "metadata": {
  "kernelspec": {
   "display_name": "Python 3 (ipykernel)",
   "language": "python",
   "name": "python3"
  },
  "language_info": {
   "codemirror_mode": {
    "name": "ipython",
    "version": 3
   },
   "file_extension": ".py",
   "mimetype": "text/x-python",
   "name": "python",
   "nbconvert_exporter": "python",
   "pygments_lexer": "ipython3",
   "version": "3.10.9"
  }
 },
 "nbformat": 4,
 "nbformat_minor": 5
}
