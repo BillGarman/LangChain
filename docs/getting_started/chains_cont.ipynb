{
 "cells": [
  {
   "cell_type": "markdown",
   "id": "4f73605d",
   "metadata": {},
   "source": [
    "# Chains, continued"
   ]
  },
  {
   "cell_type": "markdown",
   "id": "3b235f7a",
   "metadata": {},
   "source": [
    "The next step after calling a language model is make a series of calls to a language model. This is particularly useful when you want to take the output from one call and use it as the input to another.\n",
    "\n",
    "In this notebook we will walk through an example for how to do this, using sequential chains. Sequential chains are defined as a series of chains, called in deterministic order.\n",
    "\n",
    "In particular, we will use the `SimpleSequentialChain`. This is the simplest form of sequential chains, where each step has a singular input/output, and the output of one step is the input to the next.\n",
    "\n",
    "Let's walk through a toy example of using this, where the first chain is the chain from the previous step (that generates the name of a company based on the product they create), and then the second chain is another LLMChain which generates a catchphrase for that company.\n",
    "\n",
    "First let's load the example from the previous step."
   ]
  },
  {
   "cell_type": "code",
   "execution_count": 1,
   "id": "3f2f9b8c",
   "metadata": {},
   "outputs": [],
   "source": [
    "from langchain.prompts import PromptTemplate\n",
    "from langchain.llms import OpenAI\n",
    "from langchain.chains import LLMChain\n",
    "\n",
    "llm = OpenAI(temperature=0.9)\n",
    "prompt = PromptTemplate(\n",
    "    input_variables=[\"product\"],\n",
    "    template=\"What is a good name for a company that makes {product}?\",\n",
    ")\n",
    "chain = LLMChain(llm=llm, prompt=prompt)"
   ]
  },
  {
   "cell_type": "markdown",
   "id": "fb7bb8e7",
   "metadata": {},
   "source": [
    "Now we can create a second chain that generates a catch phrase based on a company name."
   ]
  },
  {
   "cell_type": "code",
   "execution_count": 3,
   "id": "4efea175",
   "metadata": {},
   "outputs": [],
   "source": [
    "prompt_two = PromptTemplate(\n",
    "    input_variables=[\"company_name\"],\n",
    "    template=\"Write a catchphrase for the following company: {company_name}\",\n",
    ")\n",
    "chain_two = LLMChain(llm=llm, prompt=prompt_two)"
   ]
  },
  {
   "cell_type": "markdown",
   "id": "e1fc5c7a",
   "metadata": {},
   "source": [
    "Now we can combine the two LLMChains."
   ]
  },
  {
   "cell_type": "code",
   "execution_count": 4,
   "id": "9368bd63",
   "metadata": {},
   "outputs": [],
   "source": [
    "# This is the overall chain where we run these two chains in sequence.\n",
    "from langchain.chains import SimpleSequentialChain\n",
    "overall_chain = SimpleSequentialChain(chains=[chain, chain_two], verbose=True)"
   ]
  },
  {
   "cell_type": "code",
   "execution_count": 5,
   "id": "d39e15f5",
   "metadata": {},
   "outputs": [
    {
     "name": "stdout",
     "output_type": "stream",
     "text": [
      "\n",
      "\n",
      "\u001b[1m> Entering new SimpleSequentialChain chain...\u001b[0m\n",
      "\u001b[36;1m\u001b[1;3m\n",
      "\n",
      "Vivid Toes.\u001b[0m\n",
      "\u001b[33;1m\u001b[1;3m\n",
      "\n",
      "\"Step into Colorful Style with Vivid Toes!\"\u001b[0m\n",
      "\n",
      "\u001b[1m> Finished SimpleSequentialChain chain.\u001b[0m\n"
     ]
    }
   ],
   "source": [
    "catchphrase = overall_chain.run(\"colorful socks\")"
   ]
  },
  {
   "cell_type": "code",
   "execution_count": 7,
   "id": "c6649a01",
   "metadata": {},
   "outputs": [
    {
     "name": "stdout",
     "output_type": "stream",
     "text": [
      "\n",
      "\n",
      "\"Step into Colorful Style with Vivid Toes!\"\n"
     ]
    }
   ],
   "source": [
    "print(catchphrase)"
   ]
  },
  {
   "cell_type": "code",
   "execution_count": null,
   "id": "6be70d27",
   "metadata": {},
   "outputs": [],
   "source": []
  }
 ],
 "metadata": {
  "kernelspec": {
   "display_name": "Python 3 (ipykernel)",
   "language": "python",
   "name": "python3"
  },
  "language_info": {
   "codemirror_mode": {
    "name": "ipython",
    "version": 3
   },
   "file_extension": ".py",
   "mimetype": "text/x-python",
   "name": "python",
   "nbconvert_exporter": "python",
   "pygments_lexer": "ipython3",
   "version": "3.10.9"
  }
 },
 "nbformat": 4,
 "nbformat_minor": 5
}
