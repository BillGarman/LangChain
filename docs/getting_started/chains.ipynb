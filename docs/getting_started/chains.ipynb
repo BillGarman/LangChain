{
 "cells": [
  {
   "cell_type": "markdown",
   "id": "c30be87c",
   "metadata": {},
   "source": [
    "# Chains\n",
    "\n",
    "Up until now, we've worked with the PromptTemplate and LLM primitives by themselves. But of course, a real application is not just one primitive, but rather a combination of them.\n",
    "\n",
    "A chain in LangChain is made up of links, which can be either primitives or other chains.\n",
    "\n",
    "The most core type of chain is an LLMChain, which consists of a PromptTemplate and an LLM.\n",
    "\n",
    "Extending the previous example, we can construct an LLMChain which takes user input, formats it with a PromptTemplate, and then passes the formatted response to an LLM."
   ]
  },
  {
   "cell_type": "code",
   "execution_count": 1,
   "id": "f97a72c5",
   "metadata": {},
   "outputs": [],
   "source": [
    "from langchain.prompts import PromptTemplate\n",
    "from langchain.llms import OpenAI\n",
    "\n",
    "llm = OpenAI(temperature=0.9)\n",
    "prompt = PromptTemplate(\n",
    "    input_variables=[\"product\"],\n",
    "    template=\"What is a good name for a company that makes {product}?\",\n",
    ")"
   ]
  },
  {
   "cell_type": "markdown",
   "id": "df296d85",
   "metadata": {},
   "source": [
    "We can now create a very simple chain that will take user input, format the prompt with it, and then send it to the LLM:"
   ]
  },
  {
   "cell_type": "code",
   "execution_count": 2,
   "id": "bf0562ec",
   "metadata": {},
   "outputs": [],
   "source": [
    "from langchain.chains import LLMChain\n",
    "chain = LLMChain(llm=llm, prompt=prompt)"
   ]
  },
  {
   "cell_type": "markdown",
   "id": "06e3c04e",
   "metadata": {},
   "source": [
    "Now we can run that chain only specifying the product!"
   ]
  },
  {
   "cell_type": "code",
   "execution_count": 3,
   "id": "65a2aeb1",
   "metadata": {},
   "outputs": [
    {
     "data": {
      "text/plain": [
       "'\\n\\nSocktastic!'"
      ]
     },
     "execution_count": 3,
     "metadata": {},
     "output_type": "execute_result"
    }
   ],
   "source": [
    "chain.run(\"colorful socks\")"
   ]
  },
  {
   "cell_type": "markdown",
   "id": "4a32bc89",
   "metadata": {},
   "source": [
    "There we go! There's the first chain - an LLM Chain.\n",
    "This is one of the simpler types of chains, but understanding how it works will set you up well for working with more complex chains."
   ]
  },
  {
   "cell_type": "code",
   "execution_count": null,
   "id": "856581d2",
   "metadata": {},
   "outputs": [],
   "source": []
  }
 ],
 "metadata": {
  "kernelspec": {
   "display_name": "Python 3 (ipykernel)",
   "language": "python",
   "name": "python3"
  },
  "language_info": {
   "codemirror_mode": {
    "name": "ipython",
    "version": 3
   },
   "file_extension": ".py",
   "mimetype": "text/x-python",
   "name": "python",
   "nbconvert_exporter": "python",
   "pygments_lexer": "ipython3",
   "version": "3.10.9"
  }
 },
 "nbformat": 4,
 "nbformat_minor": 5
}
