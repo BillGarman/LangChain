{
 "cells": [
  {
   "cell_type": "code",
   "execution_count": 2,
   "id": "d0e27d88",
   "metadata": {},
   "outputs": [],
   "source": [
    "from langchain.sql_database import SQLDatabase\n",
    "from langchain.chains.sql_database.base import DatabaseChain\n",
    "from langchain import OpenAI"
   ]
  },
  {
   "cell_type": "code",
   "execution_count": 3,
   "id": "72ede462",
   "metadata": {},
   "outputs": [],
   "source": [
    "db = SQLDatabase(\"sqlite:///../notebooks/Chinook.db\")\n",
    "llm = OpenAI(temperature=0)\n",
    "db_chain = DatabaseChain(llm=llm, database=db)"
   ]
  },
  {
   "cell_type": "code",
   "execution_count": 5,
   "id": "2f980f3a",
   "metadata": {},
   "outputs": [
    {
     "data": {
      "text/plain": [
       "'sqlite'"
      ]
     },
     "execution_count": 5,
     "metadata": {},
     "output_type": "execute_result"
    }
   ],
   "source": [
    "db.engine.dialect.name"
   ]
  },
  {
   "cell_type": "code",
   "execution_count": 4,
   "id": "15ff81df",
   "metadata": {},
   "outputs": [
    {
     "name": "stdout",
     "output_type": "stream",
     "text": [
      " SELECT COUNT(*) as 'Number of Employees' FROM Employee\n",
      "[(8,)]\n"
     ]
    },
    {
     "data": {
      "text/plain": [
       "' There are 8 employees.'"
      ]
     },
     "execution_count": 4,
     "metadata": {},
     "output_type": "execute_result"
    }
   ],
   "source": [
    "db_chain.query(\"How many employees are there?\")"
   ]
  },
  {
   "cell_type": "code",
   "execution_count": null,
   "id": "146fa162",
   "metadata": {},
   "outputs": [],
   "source": []
  }
 ],
 "metadata": {
  "kernelspec": {
   "display_name": "Python 3 (ipykernel)",
   "language": "python",
   "name": "python3"
  },
  "language_info": {
   "codemirror_mode": {
    "name": "ipython",
    "version": 3
   },
   "file_extension": ".py",
   "mimetype": "text/x-python",
   "name": "python",
   "nbconvert_exporter": "python",
   "pygments_lexer": "ipython3",
   "version": "3.7.6"
  }
 },
 "nbformat": 4,
 "nbformat_minor": 5
}
