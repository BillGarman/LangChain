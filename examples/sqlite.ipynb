{
 "cells": [
  {
   "cell_type": "markdown",
   "id": "b2f66479",
   "metadata": {},
   "source": [
    "This uses the example Chinook database.\n",
    "To set it up follow the instructions on https://database.guide/2-sample-databases-sqlite/, placing the `.db` file in a notebooks folder at the root of this repository."
   ]
  },
  {
   "cell_type": "code",
   "execution_count": 1,
   "id": "d0e27d88",
   "metadata": {},
   "outputs": [],
   "source": [
    "from langchain import OpenAI, SQLDatabase, SQLDatabaseChain"
   ]
  },
  {
   "cell_type": "code",
   "execution_count": 2,
   "id": "72ede462",
   "metadata": {},
   "outputs": [],
   "source": [
    "db = SQLDatabase.from_uri(\"sqlite:////Users/harrisonchase/Downloads/chembl_31/chembl_31_sqlite/chembl_31.db\")\n",
    "llm = OpenAI(temperature=0)\n",
    "db_chain = SQLDatabaseChain(llm=llm, database=db)"
   ]
  },
  {
   "cell_type": "code",
   "execution_count": 18,
   "id": "ebf45589",
   "metadata": {},
   "outputs": [],
   "source": [
    "db.n = 43"
   ]
  },
  {
   "cell_type": "code",
   "execution_count": 20,
   "id": "15ff81df",
   "metadata": {},
   "outputs": [
    {
     "name": "stdout",
     "output_type": "stream",
     "text": [
      " SELECT COUNT(DISTINCT molregno)\n",
      "FROM activities\n",
      "WHERE standard_type = 'EC50'\n",
      "AND standard_units = 'uM'\n",
      "AND relation = '='\n",
      "AND value <= 100\n",
      "[(0,)]\n"
     ]
    },
    {
     "data": {
      "text/plain": [
       "' 0'"
      ]
     },
     "execution_count": 20,
     "metadata": {},
     "output_type": "execute_result"
    }
   ],
   "source": [
    "db_chain.query(\"Which tables should I look at to determine how many cruzi-pain inhibiting compounds are there?\")"
   ]
  },
  {
   "cell_type": "code",
   "execution_count": 6,
   "id": "146fa162",
   "metadata": {},
   "outputs": [
    {
     "name": "stdout",
     "output_type": "stream",
     "text": [
      "The 'action_type' table has columns: action_type (VARCHAR(50)), description (VARCHAR(200)), parent_type (VARCHAR(50)).\n",
      "The 'activities' table has columns: activity_id (BIGINT), assay_id (BIGINT), doc_id (BIGINT), record_id (BIGINT), molregno (BIGINT), standard_relation (VARCHAR(50)), standard_value (NUMERIC), standard_units (VARCHAR(100)), standard_flag (SMALLINT), standard_type (VARCHAR(250)), activity_comment (VARCHAR(4000)), data_validity_comment (VARCHAR(30)), potential_duplicate (SMALLINT), pchembl_value (NUMERIC(4, 2)), bao_endpoint (VARCHAR(11)), uo_units (VARCHAR(10)), qudt_units (VARCHAR(70)), toid (INTEGER), upper_value (NUMERIC), standard_upper_value (NUMERIC), src_id (INTEGER), type (VARCHAR(250)), relation (VARCHAR(50)), value (NUMERIC), units (VARCHAR(100)), text_value (VARCHAR(1000)), standard_text_value (VARCHAR(1000)).\n",
      "The 'activity_properties' table has columns: ap_id (BIGINT), activity_id (BIGINT), type (VARCHAR(250)), relation (VARCHAR(50)), value (NUMERIC), units (VARCHAR(100)), text_value (VARCHAR(1000)), standard_type (VARCHAR(250)), standard_relation (VARCHAR(50)), standard_value (NUMERIC), standard_units (VARCHAR(100)), standard_text_value (VARCHAR(1000)), comments (VARCHAR(4000)), result_flag (SMALLINT).\n",
      "The 'activity_smid' table has columns: smid (BIGINT).\n",
      "The 'activity_stds_lookup' table has columns: std_act_id (BIGINT), standard_type (VARCHAR(250)), definition (VARCHAR(500)), standard_units (VARCHAR(100)), normal_range_min (NUMERIC(24, 12)), normal_range_max (NUMERIC(24, 12)).\n",
      "The 'activity_supp' table has columns: as_id (BIGINT), rgid (BIGINT), smid (BIGINT), type (VARCHAR(250)), relation (VARCHAR(50)), value (NUMERIC), units (VARCHAR(100)), text_value (VARCHAR(1000)), standard_type (VARCHAR(250)), standard_relation (VARCHAR(50)), standard_value (NUMERIC), standard_units (VARCHAR(100)), standard_text_value (VARCHAR(1000)), comments (VARCHAR(4000)).\n",
      "The 'activity_supp_map' table has columns: actsm_id (BIGINT), activity_id (BIGINT), smid (BIGINT).\n",
      "The 'assay_class_map' table has columns: ass_cls_map_id (BIGINT), assay_id (BIGINT), assay_class_id (BIGINT).\n",
      "The 'assay_classification' table has columns: assay_class_id (BIGINT), l1 (VARCHAR(100)), l2 (VARCHAR(100)), l3 (VARCHAR(1000)), class_type (VARCHAR(50)), source (VARCHAR(50)).\n",
      "The 'assay_parameters' table has columns: assay_param_id (BIGINT), assay_id (BIGINT), type (VARCHAR(250)), relation (VARCHAR(50)), value (NUMERIC), units (VARCHAR(100)), text_value (VARCHAR(4000)), standard_type (VARCHAR(250)), standard_relation (VARCHAR(50)), standard_value (NUMERIC), standard_units (VARCHAR(100)), standard_text_value (VARCHAR(4000)), comments (VARCHAR(4000)).\n"
     ]
    }
   ],
   "source": [
    "print(db.table_info)"
   ]
  },
  {
   "cell_type": "code",
   "execution_count": null,
   "id": "c75d9b49",
   "metadata": {},
   "outputs": [],
   "source": []
  }
 ],
 "metadata": {
  "kernelspec": {
   "display_name": "Python 3 (ipykernel)",
   "language": "python",
   "name": "python3"
  },
  "language_info": {
   "codemirror_mode": {
    "name": "ipython",
    "version": 3
   },
   "file_extension": ".py",
   "mimetype": "text/x-python",
   "name": "python",
   "nbconvert_exporter": "python",
   "pygments_lexer": "ipython3",
   "version": "3.8.7"
  }
 },
 "nbformat": 4,
 "nbformat_minor": 5
}
