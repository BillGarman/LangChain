{
 "cells": [
  {
   "cell_type": "code",
   "execution_count": 1,
   "id": "ac561cc4",
   "metadata": {},
   "outputs": [],
   "source": [
    "from langchain import LLMMathChain, OpenAI, SerpAPIChain, MRKLChain, SQLDatabase, SQLDatabaseChain\n",
    "from langchain.chains.mrkl.base import ChainConfig"
   ]
  },
  {
   "cell_type": "code",
   "execution_count": 22,
   "id": "07e96d99",
   "metadata": {},
   "outputs": [],
   "source": [
    "llm = OpenAI(temperature=0)\n",
    "search = SerpAPIChain()\n",
    "llm_math_chain = LLMMathChain(llm=llm, verbose=True)\n",
    "db = SQLDatabase.from_uri(\"sqlite:///../notebooks/Chinook.db\")\n",
    "db_chain = SQLDatabaseChain(llm=llm, database=db, verbose=True)\n",
    "chains = [\n",
    "    ChainConfig(\n",
    "        action_name = \"Search\",\n",
    "        action=search.search,\n",
    "        action_description=\"useful for when you need to answer questions about current events\"\n",
    "    ),\n",
    "    ChainConfig(\n",
    "        action_name=\"Calculator\",\n",
    "        action=llm_math_chain.run,\n",
    "        action_description=\"useful for when you need to answer questions about math\"\n",
    "    ),\n",
    "    \n",
    "    ChainConfig(\n",
    "        action_name=\"FooBar DB\",\n",
    "        action=db_chain.query,\n",
    "        action_description=\"useful for when you need to answer questions about FooBar. Input should be in the form of a question\"\n",
    "    )\n",
    "]"
   ]
  },
  {
   "cell_type": "code",
   "execution_count": 23,
   "id": "a069c4b6",
   "metadata": {},
   "outputs": [],
   "source": [
    "mrkl = MRKLChain.from_chains(llm, chains, verbose=True)"
   ]
  },
  {
   "cell_type": "code",
   "execution_count": 25,
   "id": "e603cd7d",
   "metadata": {},
   "outputs": [
    {
     "name": "stdout",
     "output_type": "stream",
     "text": [
      "What is the age of Kim Kardashian's boyfriend raised to the 0.23 power?\n",
      "Thought:\u001b[102m I need to find out how old Kim Kardashian's boyfriend is.\n",
      "Action: Search\n",
      "Action Input: \"Kim Kardashian's boyfriend\"\u001b[0m\n",
      "Observation: \u001b[104mKim Kardashian and Pete Davidson were first linked in October 2021 after she hosted 'Saturday Night Live' — complete timeline.\u001b[0m\n",
      "Thought:\u001b[102m I need to find out how old Pete Davidson is.\n",
      "Action: Search\n",
      "Action Input: \"Pete Davidson age\"\u001b[0m\n",
      "Observation: \u001b[104m28 years\u001b[0m\n",
      "Thought:\u001b[102m I need to calculate 28 to the 0.23 power\n",
      "Action: Calculator\n",
      "Action Input: 28^0.23\u001b[0m28^0.23\u001b[102m\n",
      "\n",
      "```python\n",
      "print(28**0.23)\n",
      "```\n",
      "\u001b[0m\n",
      "Answer: \u001b[103m2.1520202182226886\n",
      "\u001b[0m\n",
      "Observation: \u001b[103mAnswer: 2.1520202182226886\n",
      "\u001b[0m\n",
      "Thought:\u001b[102m I now know the final answer\n",
      "Final Answer: 2.1520202182226886\u001b[0m"
     ]
    },
    {
     "data": {
      "text/plain": [
       "'2.1520202182226886'"
      ]
     },
     "execution_count": 25,
     "metadata": {},
     "output_type": "execute_result"
    }
   ],
   "source": [
    "mrkl.run(\"What is the age of Kim Kardashian's boyfriend raised to the 0.23 power?\")"
   ]
  },
  {
   "cell_type": "code",
   "execution_count": 29,
   "id": "30969e33",
   "metadata": {},
   "outputs": [],
   "source": [
    "search = SerpAPIChain()"
   ]
  },
  {
   "cell_type": "code",
   "execution_count": 32,
   "id": "62be8839",
   "metadata": {},
   "outputs": [
    {
     "data": {
      "text/plain": [
       "\"Pete is 28 years old at the time of writing; he was born on November 16, 1993. The actor is 6'3 inches tall.\""
      ]
     },
     "execution_count": 32,
     "metadata": {},
     "output_type": "execute_result"
    }
   ],
   "source": [
    "query = '''\"how old is kim kardashian's boyfriend\"'''\n",
    "search.search(query.strip('\"'))"
   ]
  },
  {
   "cell_type": "code",
   "execution_count": null,
   "id": "c173d434",
   "metadata": {},
   "outputs": [],
   "source": []
  },
  {
   "cell_type": "code",
   "execution_count": 21,
   "id": "0d99f603",
   "metadata": {},
   "outputs": [
    {
     "name": "stdout",
     "output_type": "stream",
     "text": [
      "> \u001b[0;32m/Users/harrisonchase/workplace/langchain/langchain/chains/serpapi.py\u001b[0m(107)\u001b[0;36m_run\u001b[0;34m()\u001b[0m\n",
      "\u001b[0;32m    105 \u001b[0;31m        ):\n",
      "\u001b[0m\u001b[0;32m    106 \u001b[0;31m            \u001b[0mtoret\u001b[0m \u001b[0;34m=\u001b[0m \u001b[0mres\u001b[0m\u001b[0;34m[\u001b[0m\u001b[0;34m\"answer_box\"\u001b[0m\u001b[0;34m]\u001b[0m\u001b[0;34m[\u001b[0m\u001b[0;34m\"snippet_highlighted_words\"\u001b[0m\u001b[0;34m]\u001b[0m\u001b[0;34m[\u001b[0m\u001b[0;36m0\u001b[0m\u001b[0;34m]\u001b[0m\u001b[0;34m\u001b[0m\u001b[0;34m\u001b[0m\u001b[0m\n",
      "\u001b[0m\u001b[0;32m--> 107 \u001b[0;31m        \u001b[0;32melif\u001b[0m \u001b[0;34m\"snippet\"\u001b[0m \u001b[0;32min\u001b[0m \u001b[0mres\u001b[0m\u001b[0;34m[\u001b[0m\u001b[0;34m\"organic_results\"\u001b[0m\u001b[0;34m]\u001b[0m\u001b[0;34m[\u001b[0m\u001b[0;36m0\u001b[0m\u001b[0;34m]\u001b[0m\u001b[0;34m.\u001b[0m\u001b[0mkeys\u001b[0m\u001b[0;34m(\u001b[0m\u001b[0;34m)\u001b[0m\u001b[0;34m:\u001b[0m\u001b[0;34m\u001b[0m\u001b[0;34m\u001b[0m\u001b[0m\n",
      "\u001b[0m\u001b[0;32m    108 \u001b[0;31m            \u001b[0mtoret\u001b[0m \u001b[0;34m=\u001b[0m \u001b[0mres\u001b[0m\u001b[0;34m[\u001b[0m\u001b[0;34m\"organic_results\"\u001b[0m\u001b[0;34m]\u001b[0m\u001b[0;34m[\u001b[0m\u001b[0;36m0\u001b[0m\u001b[0;34m]\u001b[0m\u001b[0;34m[\u001b[0m\u001b[0;34m\"snippet\"\u001b[0m\u001b[0;34m]\u001b[0m\u001b[0;34m\u001b[0m\u001b[0;34m\u001b[0m\u001b[0m\n",
      "\u001b[0m\u001b[0;32m    109 \u001b[0;31m        \u001b[0;32melse\u001b[0m\u001b[0;34m:\u001b[0m\u001b[0;34m\u001b[0m\u001b[0;34m\u001b[0m\u001b[0m\n",
      "\u001b[0m\n",
      "ipdb> res\n",
      "{'search_metadata': {'id': '6366823fca968fe968978e56', 'status': 'Success', 'json_endpoint': 'https://serpapi.com/searches/04107fb05576800d/6366823fca968fe968978e56.json', 'created_at': '2022-11-05 15:33:19 UTC', 'processed_at': '2022-11-05 15:33:19 UTC', 'google_url': 'https://www.google.com/search?q=%22how+old+is+kim+kardashian%27s+boyfriend%22&oq=%22how+old+is+kim+kardashian%27s+boyfriend%22&hl=en&gl=us&sourceid=chrome&ie=UTF-8', 'raw_html_file': 'https://serpapi.com/searches/04107fb05576800d/6366823fca968fe968978e56.html', 'total_time_taken': 0.97}, 'search_parameters': {'engine': 'google', 'q': '\"how old is kim kardashian\\'s boyfriend\"', 'google_domain': 'google.com', 'hl': 'en', 'gl': 'us', 'device': 'desktop'}, 'search_information': {'organic_results_state': 'Fully empty', 'query_displayed': '\"how old is kim kardashian\\'s boyfriend\"', 'total_results': 0, 'time_taken_displayed': 0.55, 'menu_items': [{'position': 1, 'title': 'All'}, {'position': 2, 'title': 'Images', 'link': 'https://www.google.com/search?q=%22how+old+is+kim+kardashian%27s+boyfriend%22&hl=en&gl=us&source=lnms&tbm=isch&sa=X&ved=2ahUKEwiB37nHrpf7AhWiFFkFHfsBBcYQ_AUoAXoECAMQAw', 'serpapi_link': 'https://serpapi.com/search.json?device=desktop&engine=google&gl=us&google_domain=google.com&hl=en&q=%22how+old+is+kim+kardashian%27s+boyfriend%22&tbm=isch'}, {'position': 3, 'title': 'News', 'link': 'https://www.google.com/search?q=%22how+old+is+kim+kardashian%27s+boyfriend%22&hl=en&gl=us&source=lnms&tbm=nws&sa=X&ved=2ahUKEwiB37nHrpf7AhWiFFkFHfsBBcYQ_AUoAnoECAMQBA', 'serpapi_link': 'https://serpapi.com/search.json?device=desktop&engine=google&gl=us&google_domain=google.com&hl=en&q=%22how+old+is+kim+kardashian%27s+boyfriend%22&tbm=nws'}, {'position': 4, 'title': 'Shopping', 'link': 'https://www.google.com/search?q=%22how+old+is+kim+kardashian%27s+boyfriend%22&hl=en&gl=us&source=lnms&tbm=shop&sa=X&ved=2ahUKEwiB37nHrpf7AhWiFFkFHfsBBcYQ_AUoA3oECAMQBQ', 'serpapi_link': 'https://serpapi.com/search.json?device=desktop&engine=google&gl=us&google_domain=google.com&hl=en&q=%22how+old+is+kim+kardashian%27s+boyfriend%22&tbm=shop'}, {'position': 5, 'title': 'Books', 'link': 'https://www.google.com/search?q=%22how+old+is+kim+kardashian%27s+boyfriend%22&hl=en&gl=us&source=lnms&tbm=bks&sa=X&ved=2ahUKEwiB37nHrpf7AhWiFFkFHfsBBcYQ_AUoBHoECAMQBg'}]}, 'error': \"Google hasn't returned any results for this query.\"}\n",
      "ipdb> q\n"
     ]
    }
   ],
   "source": [
    "%debug"
   ]
  },
  {
   "cell_type": "code",
   "execution_count": 24,
   "id": "7f9a26e0",
   "metadata": {},
   "outputs": [
    {
     "name": "stdout",
     "output_type": "stream",
     "text": [
      "How many albums does FooBar track\n",
      "Thought:\u001b[102m I need to know how many albums are in the FooBar DB\n",
      "Action: FooBar DB\n",
      "Action Input: How many albums are in the FooBar DB\u001b[0mHow many albums are in the FooBar DB\n",
      "SQLQuery:\u001b[102m SELECT COUNT(*) FROM Album\u001b[0m\n",
      "SQLResult: \u001b[103m[(347,)]\u001b[0m\n",
      "Answer:\u001b[102m 347\u001b[0m\n",
      "Observation: \u001b[101m 347\u001b[0m\n",
      "Thought:\u001b[102m I now know the final answer\n",
      "Final Answer: 347\u001b[0m"
     ]
    },
    {
     "data": {
      "text/plain": [
       "'347'"
      ]
     },
     "execution_count": 24,
     "metadata": {},
     "output_type": "execute_result"
    }
   ],
   "source": [
    "mrkl.run(\"How many albums does FooBar track\")"
   ]
  },
  {
   "cell_type": "code",
   "execution_count": 11,
   "id": "4bd7216f",
   "metadata": {},
   "outputs": [
    {
     "data": {
      "text/plain": [
       "\"The 'Album' table has columns: AlbumId (INTEGER), Title (NVARCHAR(160)), ArtistId (INTEGER).\\nThe 'Artist' table has columns: ArtistId (INTEGER), Name (NVARCHAR(120)).\\nThe 'Customer' table has columns: CustomerId (INTEGER), FirstName (NVARCHAR(40)), LastName (NVARCHAR(20)), Company (NVARCHAR(80)), Address (NVARCHAR(70)), City (NVARCHAR(40)), State (NVARCHAR(40)), Country (NVARCHAR(40)), PostalCode (NVARCHAR(10)), Phone (NVARCHAR(24)), Fax (NVARCHAR(24)), Email (NVARCHAR(60)), SupportRepId (INTEGER).\\nThe 'Employee' table has columns: EmployeeId (INTEGER), LastName (NVARCHAR(20)), FirstName (NVARCHAR(20)), Title (NVARCHAR(30)), ReportsTo (INTEGER), BirthDate (DATETIME), HireDate (DATETIME), Address (NVARCHAR(70)), City (NVARCHAR(40)), State (NVARCHAR(40)), Country (NVARCHAR(40)), PostalCode (NVARCHAR(10)), Phone (NVARCHAR(24)), Fax (NVARCHAR(24)), Email (NVARCHAR(60)).\\nThe 'Genre' table has columns: GenreId (INTEGER), Name (NVARCHAR(120)).\\nThe 'Invoice' table has columns: InvoiceId (INTEGER), CustomerId (INTEGER), InvoiceDate (DATETIME), BillingAddress (NVARCHAR(70)), BillingCity (NVARCHAR(40)), BillingState (NVARCHAR(40)), BillingCountry (NVARCHAR(40)), BillingPostalCode (NVARCHAR(10)), Total (NUMERIC(10, 2)).\\nThe 'InvoiceLine' table has columns: InvoiceLineId (INTEGER), InvoiceId (INTEGER), TrackId (INTEGER), UnitPrice (NUMERIC(10, 2)), Quantity (INTEGER).\\nThe 'MediaType' table has columns: MediaTypeId (INTEGER), Name (NVARCHAR(120)).\\nThe 'Playlist' table has columns: PlaylistId (INTEGER), Name (NVARCHAR(120)).\\nThe 'PlaylistTrack' table has columns: PlaylistId (INTEGER), TrackId (INTEGER).\\nThe 'Track' table has columns: TrackId (INTEGER), Name (NVARCHAR(200)), AlbumId (INTEGER), MediaTypeId (INTEGER), GenreId (INTEGER), Composer (NVARCHAR(220)), Milliseconds (INTEGER), Bytes (INTEGER), UnitPrice (NUMERIC(10, 2)).\""
      ]
     },
     "execution_count": 11,
     "metadata": {},
     "output_type": "execute_result"
    }
   ],
   "source": [
    "db.table_info"
   ]
  },
  {
   "cell_type": "code",
   "execution_count": null,
   "id": "dee13ed7",
   "metadata": {},
   "outputs": [],
   "source": []
  }
 ],
 "metadata": {
  "kernelspec": {
   "display_name": "Python 3 (ipykernel)",
   "language": "python",
   "name": "python3"
  },
  "language_info": {
   "codemirror_mode": {
    "name": "ipython",
    "version": 3
   },
   "file_extension": ".py",
   "mimetype": "text/x-python",
   "name": "python",
   "nbconvert_exporter": "python",
   "pygments_lexer": "ipython3",
   "version": "3.7.6"
  }
 },
 "nbformat": 4,
 "nbformat_minor": 5
}
