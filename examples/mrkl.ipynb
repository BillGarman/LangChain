{
 "cells": [
  {
   "cell_type": "code",
   "execution_count": 1,
   "id": "ac561cc4",
   "metadata": {},
   "outputs": [],
   "source": [
    "from langchain import LLMMathChain, OpenAI, SerpAPIChain, MRKLChain, SQLDatabase, SQLDatabaseChain\n",
    "from langchain.chains.mrkl.base import ChainConfig"
   ]
  },
  {
   "cell_type": "code",
   "execution_count": 2,
   "id": "07e96d99",
   "metadata": {},
   "outputs": [],
   "source": [
    "llm = OpenAI(temperature=0)\n",
    "search = SerpAPIChain()\n",
    "llm_math_chain = LLMMathChain(llm=llm)\n",
    "db = SQLDatabase.from_uri(\"sqlite:///../notebooks/Chinook.db\")\n",
    "db_chain = SQLDatabaseChain(llm=llm, database=db)\n",
    "chains = [\n",
    "    ChainConfig(\n",
    "        action_name = \"Search\",\n",
    "        action=search.search,\n",
    "        action_description=\"useful for when you need to answer questions about current events\"\n",
    "    ),\n",
    "    ChainConfig(\n",
    "        action_name=\"Calculator\",\n",
    "        action=llm_math_chain.run,\n",
    "        action_description=\"useful for when you need to answer questions about math\"\n",
    "    ),\n",
    "    \n",
    "    ChainConfig(\n",
    "        action_name=\"FooBar DB\",\n",
    "        action=db_chain.query,\n",
    "        action_description=\"useful for when you need to answer questions about FooBar. Input should be in the form of a question\"\n",
    "    )\n",
    "]"
   ]
  },
  {
   "cell_type": "code",
   "execution_count": 3,
   "id": "a069c4b6",
   "metadata": {},
   "outputs": [],
   "source": [
    "mrkl = MRKLChain.from_chains(llm, chains, verbose=True)"
   ]
  },
  {
   "cell_type": "code",
   "execution_count": 4,
   "id": "e603cd7d",
   "metadata": {},
   "outputs": [
    {
     "name": "stdout",
     "output_type": "stream",
     "text": [
      "What is the age of Kim Kardashian's boyfriend raised to the 0.23 power?\n",
      "Thought:\u001b[102m I need to find out how old Kim Kardashian's boyfriend is.\n",
      "Action: Search\n",
      "Action Input: \"Kim Kardashian's boyfriend\"\u001b[0m\n",
      "Observation: \u001b[104mKim Kardashian and Pete Davidson were first linked in October 2021 after she hosted 'Saturday Night Live' — complete timeline.\u001b[0m\n",
      "Thought:\u001b[102m I need to find out how old Pete Davidson is.\n",
      "Action: Search\n",
      "Action Input: \"Pete Davidson age\"\u001b[0m\n",
      "Observation: \u001b[104m28 years\u001b[0m\n",
      "Thought:\u001b[102m I need to calculate 28 to the 0.23 power\n",
      "Action: Calculator\n",
      "Action Input: 28^0.23\u001b[0m\n",
      "Observation: \u001b[103mAnswer: 2.1520202182226886\n",
      "\u001b[0m\n",
      "Thought:\u001b[102m I now know the final answer\n",
      "Final Answer: 2.1520202182226886\u001b[0m"
     ]
    },
    {
     "data": {
      "text/plain": [
       "'2.1520202182226886'"
      ]
     },
     "execution_count": 4,
     "metadata": {},
     "output_type": "execute_result"
    }
   ],
   "source": [
    "mrkl.run(\"What is the age of Kim Kardashian's boyfriend raised to the 0.23 power?\")"
   ]
  },
  {
   "cell_type": "code",
   "execution_count": 5,
   "id": "7f9a26e0",
   "metadata": {},
   "outputs": [
    {
     "name": "stdout",
     "output_type": "stream",
     "text": [
      "How many albums does FooBar track\n",
      "Thought:\u001b[102m I need to know how many albums are in the FooBar DB\n",
      "Action: FooBar DB\n",
      "Action Input: How many albums are in the FooBar DB\u001b[0m\n",
      "Observation: \u001b[101m 347\u001b[0m\n",
      "Thought:\u001b[102m I now know the final answer\n",
      "Final Answer: 347\u001b[0m"
     ]
    },
    {
     "data": {
      "text/plain": [
       "'347'"
      ]
     },
     "execution_count": 5,
     "metadata": {},
     "output_type": "execute_result"
    }
   ],
   "source": [
    "mrkl.run(\"How many albums does FooBar track\")"
   ]
  },
  {
   "cell_type": "code",
   "execution_count": null,
   "id": "dee13ed7",
   "metadata": {},
   "outputs": [],
   "source": []
  }
 ],
 "metadata": {
  "kernelspec": {
   "display_name": "Python 3 (ipykernel)",
   "language": "python",
   "name": "python3"
  },
  "language_info": {
   "codemirror_mode": {
    "name": "ipython",
    "version": 3
   },
   "file_extension": ".py",
   "mimetype": "text/x-python",
   "name": "python",
   "nbconvert_exporter": "python",
   "pygments_lexer": "ipython3",
   "version": "3.7.6"
  }
 },
 "nbformat": 4,
 "nbformat_minor": 5
}
