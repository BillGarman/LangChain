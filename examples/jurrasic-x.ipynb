{
 "cells": [
  {
   "cell_type": "code",
   "execution_count": 1,
   "id": "ac561cc4",
   "metadata": {},
   "outputs": [],
   "source": [
    "from langchain import LLMMathChain, OpenAI, SerpAPIChain\n",
    "from langchain.chains.jurassic_x.base import JurassicXChain, ChainConfig"
   ]
  },
  {
   "cell_type": "code",
   "execution_count": 2,
   "id": "07e96d99",
   "metadata": {},
   "outputs": [],
   "source": [
    "llm = OpenAI(temperature=0)\n",
    "search = SerpAPIChain()\n",
    "llm_math_chain = LLMMathChain(llm=llm)\n",
    "chains = [\n",
    "    ChainConfig(\n",
    "        action_name = \"Search\",\n",
    "        action=search.search,\n",
    "        action_description=\"useful for when you need to answer questions about current events\"\n",
    "    ),\n",
    "    ChainConfig(\n",
    "        action_name=\"Calculator\",\n",
    "        action=llm_math_chain.run,\n",
    "        action_description=\"useful for when you need to answer questions about math\"\n",
    "    )\n",
    "]"
   ]
  },
  {
   "cell_type": "code",
   "execution_count": 3,
   "id": "a069c4b6",
   "metadata": {},
   "outputs": [],
   "source": [
    "jchain = JurassicXChain.from_chains(llm, chains, verbose=True)"
   ]
  },
  {
   "cell_type": "code",
   "execution_count": 7,
   "id": "e603cd7d",
   "metadata": {},
   "outputs": [
    {
     "name": "stdout",
     "output_type": "stream",
     "text": [
      " I need to find out how old Kim Kardashian's boyfriend is.\n",
      "Action: Search\n",
      "Action Input: \"Kim Kardashian's boyfriend\"\n",
      "Kim Kardashian's boyfriend Pete Davidson has revealed his hopes to one day become a dad, admitting he's 'so excited' to have children.\n",
      " I need to find out how old Pete Davidson is.\n",
      "Action: Search\n",
      "Action Input: \"Pete Davidson age\"\n",
      "28 years\n",
      " I need to calculate 28 to the 0.23 power\n",
      "Action: Calculator\n",
      "Action Input: 28^0.23\n",
      "Answer: 2.1520202182226886\n",
      "\n",
      " I now know the final answer\n",
      "Final Answer: 2.1520202182226886\n"
     ]
    },
    {
     "data": {
      "text/plain": [
       "'2.1520202182226886'"
      ]
     },
     "execution_count": 7,
     "metadata": {},
     "output_type": "execute_result"
    }
   ],
   "source": [
    "jchain.run(\"What is the age of Kim Kardashian's boyfriend raised to the 0.23 power?\")"
   ]
  },
  {
   "cell_type": "code",
   "execution_count": null,
   "id": "d20334e1",
   "metadata": {},
   "outputs": [],
   "source": []
  }
 ],
 "metadata": {
  "kernelspec": {
   "display_name": "Python 3 (ipykernel)",
   "language": "python",
   "name": "python3"
  },
  "language_info": {
   "codemirror_mode": {
    "name": "ipython",
    "version": 3
   },
   "file_extension": ".py",
   "mimetype": "text/x-python",
   "name": "python",
   "nbconvert_exporter": "python",
   "pygments_lexer": "ipython3",
   "version": "3.7.6"
  }
 },
 "nbformat": 4,
 "nbformat_minor": 5
}
