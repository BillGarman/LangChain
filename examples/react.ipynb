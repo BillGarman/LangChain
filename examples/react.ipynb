{
 "cells": [
  {
   "cell_type": "code",
   "execution_count": 3,
   "id": "4e272b47",
   "metadata": {},
   "outputs": [],
   "source": [
    "from langchain import OpenAI, ReActChain, Wikipedia\n",
    "\n",
    "llm = OpenAI(temperature=0)\n",
    "react = ReActChain(llm=llm, docstore=Wikipedia(), verbose=True)"
   ]
  },
  {
   "cell_type": "code",
   "execution_count": 4,
   "id": "8078c8f1",
   "metadata": {},
   "outputs": [
    {
     "name": "stdout",
     "output_type": "stream",
     "text": [
      "\u001b[102m I need to search Scott Derrickson and Ed Wood, find their nationalities,\n",
      "then find if they are the same.\n",
      "Action 1: Search[Scott Derrickson]\u001b[0m\u001b[49m\n",
      "Observation 1: \u001b[0m\u001b[103mCould not find [Scott Derrickson]. Similar: ['Scott Derrickson', 'The Black Phone', 'Sinister (film)', 'Doctor Strange (2016 film)', 'The Day the Earth Stood Still (2008 film)', 'The Exorcism of Emily Rose', 'Deliver Us from Evil (2014 film)', 'C. Robert Cargill', 'Sean Harris', 'Doctor Strange in the Multiverse of Madness']\u001b[0m\u001b[49m\n",
      "Thought 2:\u001b[0m\u001b[102m To find Scott Derrickson's nationality, I can search Scott Derrickson (film).\n",
      "Action 2: Search[Scott Derrickson (film)]\u001b[0m\u001b[49m\n",
      "Observation 2: \u001b[0m\u001b[103mScott Derrickson (born July 16, 1966) is an American filmmaker. He is best known for directing the films The Exorcism of Emily Rose (2005), The Day the Earth Stood Still (2008), Sinister (2012), Deliver Us from Evil (2014), Doctor Strange (2016), and The Black Phone (2021).\u001b[0m\u001b[49m\n",
      "Thought 3:\u001b[0m\u001b[102m Scott Derrickson is an American filmmaker, so his nationality is American.\n",
      "I need to search Ed Wood next.\n",
      "Action 3: Search[Ed Wood]\u001b[0m\u001b[49m\n",
      "Observation 3: \u001b[0m\u001b[103mEdward Davis Wood Jr.  (October 10, 1924 – December 10, 1978) was an American filmmaker, \n",
      "actor, and pulp novel author.\n",
      "In the 1950s, Wood directed several low-budget science fiction, crime and horror films that later became cult classics, notably Glen or Glenda (1953), Jail Bait (1954), Bride of the Monster (1955), Plan 9 from Outer Space (1957) and Night of the Ghouls (1959). In the 1960s and 1970s, he moved towards sexploitation and pornographic films such as  The Sinister Urge (1960), Orgy of the Dead (1965) and Necromania (1971), and wrote over 80 pulp crime and sex novels.\n",
      "Notable for their campy aesthetics, technical errors, unsophisticated special effects, use of poorly-matched stock footage, eccentric casts, idiosyncratic stories and non sequitur dialogue, Wood's films remained largely obscure until he was posthumously awarded a Golden Turkey Award for Worst Director of All Time in 1980, renewing public interest in his life and work.Following the publication of Rudolph Grey's 1992 oral biography Nightmare of Ecstasy: The Life and Art of Edward D. Wood Jr., a biopic of his life, Ed Wood (1994), was directed by Tim Burton. Starring Johnny Depp as Wood and Martin Landau as Bela Lugosi, the film received critical acclaim and various awards, including two Academy Awards.\u001b[0m\u001b[49m\n",
      "Thought 4:\u001b[0m\u001b[102m Ed Wood's nationality is American, so Scott Derrickson and Ed Wood have\n",
      "the same nationality.\n",
      "Action 4: Finish[American]\u001b[0m"
     ]
    },
    {
     "data": {
      "text/plain": [
       "'American'"
      ]
     },
     "execution_count": 4,
     "metadata": {},
     "output_type": "execute_result"
    }
   ],
   "source": [
    "question = \"Were Scott Derrickson and Ed Wood of the same nationality?\"\n",
    "react.run(question)"
   ]
  },
  {
   "cell_type": "code",
   "execution_count": null,
   "id": "0a6bd3b4",
   "metadata": {},
   "outputs": [],
   "source": []
  }
 ],
 "metadata": {
  "kernelspec": {
   "display_name": "Python 3 (ipykernel)",
   "language": "python",
   "name": "python3"
  },
  "language_info": {
   "codemirror_mode": {
    "name": "ipython",
    "version": 3
   },
   "file_extension": ".py",
   "mimetype": "text/x-python",
   "name": "python",
   "nbconvert_exporter": "python",
   "pygments_lexer": "ipython3",
   "version": "3.8.7"
  }
 },
 "nbformat": 4,
 "nbformat_minor": 5
}
