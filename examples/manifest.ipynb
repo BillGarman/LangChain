{
 "cells": [
  {
   "cell_type": "code",
   "execution_count": 1,
   "id": "04a0170a",
   "metadata": {},
   "outputs": [],
   "source": [
    "from manifest import Manifest"
   ]
  },
  {
   "cell_type": "code",
   "execution_count": 2,
   "id": "de250a6a",
   "metadata": {},
   "outputs": [],
   "source": [
    "manifest = Manifest(\n",
    "    client_name = \"openai\",\n",
    ")"
   ]
  },
  {
   "cell_type": "code",
   "execution_count": 3,
   "id": "0148f7bb",
   "metadata": {},
   "outputs": [],
   "source": [
    "from langchain.llms.manifest import ManifestWrapper"
   ]
  },
  {
   "cell_type": "code",
   "execution_count": 4,
   "id": "67b719d6",
   "metadata": {},
   "outputs": [],
   "source": [
    "llm = ManifestWrapper(client=manifest)"
   ]
  },
  {
   "cell_type": "code",
   "execution_count": null,
   "id": "5af505a8",
   "metadata": {},
   "outputs": [],
   "source": [
    "# Map reduce example\n",
    "from langchain import Prompt, LLMChain\n",
    "from langchain.text_splitter import CharacterTextSplitter\n",
    "from langchain.chains.mapreduce import MapReduceChain\n",
    "\n",
    "\n",
    "_prompt = \"\"\"Write a concise summary of the following:\n",
    "\n",
    "\n",
    "{text}\n",
    "\n",
    "\n",
    "CONCISE SUMMARY:\"\"\"\n",
    "prompt = Prompt(template=_prompt, input_variables=[\"text\"])\n",
    "\n",
    "text_splitter = CharacterTextSplitter()\n",
    "\n",
    "mp_chain = MapReduceChain.from_params(llm, prompt, text_splitter)"
   ]
  }
 ],
 "metadata": {
  "kernelspec": {
   "display_name": "Python 3 (ipykernel)",
   "language": "python",
   "name": "python3"
  },
  "language_info": {
   "codemirror_mode": {
    "name": "ipython",
    "version": 3
   },
   "file_extension": ".py",
   "mimetype": "text/x-python",
   "name": "python",
   "nbconvert_exporter": "python",
   "pygments_lexer": "ipython3",
   "version": "3.10.1"
  }
 },
 "nbformat": 4,
 "nbformat_minor": 5
}
