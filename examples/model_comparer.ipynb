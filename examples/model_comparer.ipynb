{
 "cells": [
  {
   "cell_type": "code",
   "execution_count": 1,
   "id": "86ab2d90",
   "metadata": {},
   "outputs": [],
   "source": [
    "from langchain.model_comparer import ModelComparer\n",
    "from langchain.llms import OpenAI, Cohere, HuggingFaceHub"
   ]
  },
  {
   "cell_type": "code",
   "execution_count": 2,
   "id": "cea9d024",
   "metadata": {},
   "outputs": [],
   "source": [
    "llms = [OpenAI(temperature=0), HuggingFaceHub(repo_id=\"google/flan-t5-xl\", model_kwargs={\"temperature\":1e-10})]"
   ]
  },
  {
   "cell_type": "code",
   "execution_count": 3,
   "id": "6da09e1a",
   "metadata": {},
   "outputs": [],
   "source": [
    "comparer = ModelComparer(llms)"
   ]
  },
  {
   "cell_type": "code",
   "execution_count": 4,
   "id": "1d9b68ce",
   "metadata": {},
   "outputs": [
    {
     "name": "stdout",
     "output_type": "stream",
     "text": [
      "Input:\n",
      "The capital of New York is\n",
      "OpenAI\n",
      "Params: {'temperature': 0.0, 'max_tokens': 256, 'top_p': 1, 'frequency_penalty': 0, 'presence_penalty': 0, 'n': 1, 'best_of': 1}\n",
      " Albany.\n",
      "HuggingFaceHub\n",
      "Params: {'temperature': 1e-10}\n",
      "Albany\n"
     ]
    }
   ],
   "source": [
    "comparer.compare(\"The capital of New York is\")"
   ]
  },
  {
   "cell_type": "code",
   "execution_count": null,
   "id": "7f1671c9",
   "metadata": {},
   "outputs": [],
   "source": []
  }
 ],
 "metadata": {
  "kernelspec": {
   "display_name": "Python 3 (ipykernel)",
   "language": "python",
   "name": "python3"
  },
  "language_info": {
   "codemirror_mode": {
    "name": "ipython",
    "version": 3
   },
   "file_extension": ".py",
   "mimetype": "text/x-python",
   "name": "python",
   "nbconvert_exporter": "python",
   "pygments_lexer": "ipython3",
   "version": "3.8.7"
  }
 },
 "nbformat": 4,
 "nbformat_minor": 5
}
