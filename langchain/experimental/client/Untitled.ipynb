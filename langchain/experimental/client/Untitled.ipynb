{
 "cells": [
  {
   "cell_type": "code",
   "execution_count": 4,
   "id": "58ae6a7d-545f-4e73-8be2-0cfa6b646ef5",
   "metadata": {
    "tags": []
   },
   "outputs": [],
   "source": []
  },
  {
   "cell_type": "code",
   "execution_count": 7,
   "id": "d6114e4c-11c3-4d94-bcdd-6437079c750c",
   "metadata": {
    "tags": []
   },
   "outputs": [],
   "source": [
    "## Create dataset\n",
    "from langchain.evaluation.run_evaluators.loading import load_run_evaluators_for_model\n",
    "from langchain.evaluation import load_dataset\n",
    "import pandas as pd\n",
    "\n",
    "lcds = load_dataset(\"llm-math\")\n",
    "df = pd.DataFrame(lcds)\n",
    "\n",
    "from uuid import uuid4\n",
    "from langsmith import Client\n",
    "client = Client()\n",
    "ds_name = \"llm-math - \" + str(uuid4())[0:8]\n",
    "ds = client.upload_dataframe(df, name=ds_name, input_keys=[\"question\"], output_keys=[\"answer\"])\n",
    "\n",
    "\n",
    "\n",
    "## Define the models we'll test over\n",
    "from langchain.llms import OpenAI\n",
    "from langchain.chat_models import ChatOpenAI\n",
    "from langchain.agents import initialize_agent, AgentType\n",
    "\n",
    "from langchain.tools import tool\n",
    "\n",
    "llm = OpenAI(temperature=0)\n",
    "chat_model = ChatOpenAI(temperature=0)\n",
    "\n",
    "@tool\n",
    "def sum(a: float, b: float) -> float:\n",
    "    \"\"\"Add two numbers\"\"\"\n",
    "    return a + b\n",
    "    \n",
    "def construct_agent():\n",
    "    return initialize_agent(\n",
    "        llm=chat_model,\n",
    "        tools=[sum],\n",
    "        agent=AgentType.OPENAI_MULTI_FUNCTIONS,\n",
    "    )\n",
    "\n",
    "def construct_multi_chain():\n",
    "    return TransformChain(input_keys=[\"question\", \"other input\"], output_keys=[\"answer\"])\n",
    "\n",
    "agent = construct_agent()\n",
    "\n",
    "# Test running for the string evaluators\n",
    "evaluator_names = [\"qa\", \"criteria\"]\n",
    "\n",
    "models = [llm, chat_model, agent]\n",
    "run_evaluators = []\n",
    "for model in models:\n",
    "    run_evaluators.append(load_run_evaluators_for_model(evaluator_names, model=model, reference_key=\"answer\"))\n",
    "    \n",
    "\n",
    "# Run on LLM, Chat Model, and Agent\n",
    "from langchain.client.runner_utils import run_on_dataset\n",
    "\n",
    "to_test = [llm, chat_model, construct_agent]\n",
    "\n",
    "for model, configured_evaluators in zip(to_test, run_evaluators):\n",
    "    run_on_dataset(ds_name, model, run_evaluators=configured_evaluators, verbose=True)"
   ]
  }
 ],
 "metadata": {
  "kernelspec": {
   "display_name": "Python 3 (ipykernel)",
   "language": "python",
   "name": "python3"
  },
  "language_info": {
   "codemirror_mode": {
    "name": "ipython",
    "version": 3
   },
   "file_extension": ".py",
   "mimetype": "text/x-python",
   "name": "python",
   "nbconvert_exporter": "python",
   "pygments_lexer": "ipython3",
   "version": "3.11.2"
  }
 },
 "nbformat": 4,
 "nbformat_minor": 5
}
