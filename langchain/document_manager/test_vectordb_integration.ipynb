{
 "cells": [
  {
   "cell_type": "code",
   "execution_count": 2,
   "id": "3216eb4b",
   "metadata": {},
   "outputs": [],
   "source": [
    "import os\n",
    "import pinecone\n",
    "from langchain.vectorstores import Pinecone\n",
    "from langchain.embeddings.openai import OpenAIEmbeddings"
   ]
  },
  {
   "cell_type": "markdown",
   "id": "37fe8a52",
   "metadata": {},
   "source": [
    "`Init Pinecone`"
   ]
  },
  {
   "cell_type": "code",
   "execution_count": 3,
   "id": "9d845772",
   "metadata": {},
   "outputs": [],
   "source": [
    "# Init\n",
    "pinecone.init(\n",
    "    api_key=os.environ.get('PINECONE_API_KEY'),  \n",
    "    environment=\"us-east1-gcp\"  \n",
    ")\n",
    "\n",
    "# Connect to index\n",
    "embeddings = OpenAIEmbeddings()\n",
    "index_name = \"langchain-test\"\n",
    "vectorstore = Pinecone.from_existing_index(index_name=index_name,embedding=embeddings)"
   ]
  },
  {
   "cell_type": "markdown",
   "id": "15365f2b",
   "metadata": {},
   "source": [
    "`Test pipeline`"
   ]
  },
  {
   "cell_type": "code",
   "execution_count": 4,
   "id": "c347016e",
   "metadata": {},
   "outputs": [],
   "source": [
    "from langchain.docstore.document import Document\n",
    "from langchain.document_manager.example_interface import _TEST_DOCUMENTS\n",
    "from langchain.document_manager.in_memory import InMemoryDocumentManager\n",
    "from langchain.text_splitter import CharacterTextSplitter\n",
    "\n",
    "def create_document_manager():\n",
    "    document_manager = InMemoryDocumentManager(CharacterTextSplitter(separator=\" \"))\n",
    "    return document_manager\n",
    "\n",
    "def add_documents(document_manager):\n",
    "    ops = document_manager.add(_TEST_DOCUMENTS, ['1', '2', '3'])\n",
    "    return document_manager\n",
    "\n",
    "def update_documents(document_manager):\n",
    "    ops = document_manager.update([Document(page_content='This is a modified test document.')], ['1'])\n",
    "    return document_manager\n",
    "\n",
    "def update_truncate_documents(document_manager):\n",
    "    ops = document_manager.update_truncate([Document(page_content='This is the final test document.'),\n",
    "                                            Document(page_content='This is another final test document')], \n",
    "                                           ['1', '2'])\n",
    "    return document_manager\n",
    "\n",
    "def document_manager_pipeline():\n",
    "    document_manager = create_document_manager()\n",
    "    document_manager = add_documents(document_manager)\n",
    "    document_manager = update_documents(document_manager)\n",
    "    document_manager = update_truncate_documents(document_manager)\n",
    "    return document_manager"
   ]
  },
  {
   "cell_type": "markdown",
   "id": "af82d79d",
   "metadata": {},
   "source": [
    "`Test vectorDB upsert`"
   ]
  },
  {
   "cell_type": "code",
   "execution_count": 5,
   "id": "353d80ed",
   "metadata": {},
   "outputs": [
    {
     "name": "stdout",
     "output_type": "stream",
     "text": [
      "Document id: This is a test document., hash: 53a92d14131d800674aa83617843757f860d07dc33c2ced1e1391183908945d3\n",
      "Document id: This is another test document., hash: 669ee43d4936ba74cee191c8552885aa98e40b4d17d630eedb9fc64bf0ec07b1\n",
      "Document id: This is a third test document., hash: e664370f801474e643a87f3f903af1280eda09c3db80a90ca8cda1818d2250d2\n"
     ]
    },
    {
     "data": {
      "application/vnd.jupyter.widget-view+json": {
       "model_id": "ba65061c388e4cb48a9a841aee7ceed8",
       "version_major": 2,
       "version_minor": 0
      },
      "text/plain": [
       "Upserted vectors:   0%|          | 0/1 [00:00<?, ?it/s]"
      ]
     },
     "metadata": {},
     "output_type": "display_data"
    },
    {
     "data": {
      "application/vnd.jupyter.widget-view+json": {
       "model_id": "6a15ae8821d84a4da0199634e2f14849",
       "version_major": 2,
       "version_minor": 0
      },
      "text/plain": [
       "Upserted vectors:   0%|          | 0/1 [00:00<?, ?it/s]"
      ]
     },
     "metadata": {},
     "output_type": "display_data"
    },
    {
     "data": {
      "application/vnd.jupyter.widget-view+json": {
       "model_id": "d670ebeef0984265b2757cc4988ef5ac",
       "version_major": 2,
       "version_minor": 0
      },
      "text/plain": [
       "Upserted vectors:   0%|          | 0/1 [00:00<?, ?it/s]"
      ]
     },
     "metadata": {},
     "output_type": "display_data"
    }
   ],
   "source": [
    "# Run\n",
    "d = document_manager_pipeline()\n",
    "\n",
    "# Check \n",
    "for doc,hash_ in d.lazy_load_all_docs():\n",
    "    print(f\"Document id: {doc.page_content}, hash: {hash_}\")\n",
    "\n",
    "# Upsert\n",
    "d.add_documents_to_vectorstore(vectorstore)"
   ]
  },
  {
   "cell_type": "markdown",
   "id": "fc6779a6",
   "metadata": {},
   "source": [
    "`Concern`\n",
    "\n",
    "If we specify `hash` as `id` on write, I expect that the vectors are simply updated. But need to confirm.\n",
    "\n",
    "`vectorstore.add_texts(texts=[doc.page_content],metadatas=[doc.metadata],ids=[doc_hash])`\n",
    "\n",
    "I do not see an option for vector removal! "
   ]
  },
  {
   "cell_type": "code",
   "execution_count": null,
   "id": "03a8433d",
   "metadata": {},
   "outputs": [],
   "source": []
  }
 ],
 "metadata": {
  "kernelspec": {
   "display_name": "Python 3 (ipykernel)",
   "language": "python",
   "name": "python3"
  },
  "language_info": {
   "codemirror_mode": {
    "name": "ipython",
    "version": 3
   },
   "file_extension": ".py",
   "mimetype": "text/x-python",
   "name": "python",
   "nbconvert_exporter": "python",
   "pygments_lexer": "ipython3",
   "version": "3.9.16"
  }
 },
 "nbformat": 4,
 "nbformat_minor": 5
}
