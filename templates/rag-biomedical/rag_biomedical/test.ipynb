{
 "cells": [
  {
   "cell_type": "code",
   "execution_count": null,
   "id": "052f3bef-847c-43e9-aa3f-08f7b5f8e7b5",
   "metadata": {},
   "outputs": [],
   "source": [
    "from pathlib import Path\n",
    "vectorstore_path = Path(__file__).parent / \"vectorstore\"\n",
    "rel = vectorstore_path.relative_to(Path.cwd())\n",
    "rel"
   ]
  },
  {
   "cell_type": "code",
   "execution_count": 29,
   "id": "9e7e6b47-919e-4956-add5-090bad49c535",
   "metadata": {},
   "outputs": [
    {
     "data": {
      "text/plain": [
       "'/Users/rlm/Desktop/Code/langchain-main/langchain/templates/rag-biomedical/rag_biomedical'"
      ]
     },
     "execution_count": 29,
     "metadata": {},
     "output_type": "execute_result"
    }
   ],
   "source": [
    "pwd"
   ]
  },
  {
   "cell_type": "code",
   "execution_count": 34,
   "id": "51b34cee-02ba-48e9-a2ce-8263e51213f4",
   "metadata": {},
   "outputs": [],
   "source": [
    "from langchain.vectorstores import Chroma\n",
    "from langchain.embeddings import OpenAIEmbeddings\n",
    "vectorstore = Chroma(persist_directory=\"./vectorstore\", \n",
    "                     collection_name=\"rag-biomedical\",\n",
    "                     embedding_function=OpenAIEmbeddings())"
   ]
  },
  {
   "cell_type": "code",
   "execution_count": 35,
   "id": "dc148a4e-9a64-4d2c-b8f0-6c9571c2e98d",
   "metadata": {},
   "outputs": [],
   "source": [
    "from langchain.llms import OpenAI\n",
    "from langchain.retrievers.self_query.base import SelfQueryRetriever\n",
    "from langchain.chains.query_constructor.base import AttributeInfo\n",
    "\n",
    "# Provide context about the metadata\n",
    "metadata_field_info = [\n",
    "    \n",
    "    AttributeInfo(\n",
    "        name=\"NCTId\",\n",
    "        description=\"The unique identifier assigned to each clinical trial when registered on ClinicalTrials.gov. \",\n",
    "        type=\"string\",\n",
    "    ),\n",
    "    AttributeInfo(\n",
    "        name=\"StudyType\",\n",
    "        description=\"The nature of the study, indicating whether participants receive specific interventions or are merely observed for specific outcomes.\",\n",
    "        type=\"string\",\n",
    "    ),\n",
    "    AttributeInfo(\n",
    "        name=\"PhaseList\",\n",
    "        description=\"This pertains to the phase of the study in drug trials.\",\n",
    "        type=\"string\",\n",
    "    )\n",
    "]\n",
    "\n",
    "# Overall context for the data\n",
    "document_content_description = \"Information about clinical trial on ClinicalTrials.gov\"\n",
    "\n",
    "# LLM\n",
    "llm = OpenAI(temperature=0,)\n",
    "\n",
    "# Retriever\n",
    "retriever_self_query = SelfQueryRetriever.from_llm(\n",
    "    llm, \n",
    "    vectorstore, \n",
    "    document_content_description, \n",
    "    metadata_field_info, \n",
    "    verbose=True\n",
    ")"
   ]
  },
  {
   "cell_type": "code",
   "execution_count": 37,
   "id": "fbbda2d5-af87-42a0-a2ad-8bf72f3c5658",
   "metadata": {},
   "outputs": [],
   "source": [
    "# retriever_self_query.get_relevant_documents(\"What is the focus of trial NCT00000102?\")"
   ]
  },
  {
   "cell_type": "code",
   "execution_count": 38,
   "id": "f58d91a1-ac8d-4432-b3ce-fdfc10942af0",
   "metadata": {},
   "outputs": [],
   "source": [
    "from langchain.chat_models import ChatOpenAI\n",
    "from langchain.prompts import ChatPromptTemplate\n",
    "from langchain.schema.output_parser import StrOutputParser\n",
    "from langchain.schema.runnable import RunnableParallel, RunnablePassthrough\n",
    "\n",
    "# RAG prompt\n",
    "template = \"\"\"Answer the question based only on the following context:\n",
    "{context}\n",
    "\n",
    "Question: {question}\n",
    "\"\"\"\n",
    "prompt = ChatPromptTemplate.from_template(template)\n",
    "\n",
    "# LLM\n",
    "model = ChatOpenAI()\n",
    "\n",
    "# RAG chain\n",
    "chain = (\n",
    "    RunnableParallel({\"context\": retriever_self_query, \"question\": RunnablePassthrough()})\n",
    "    | prompt\n",
    "    | model\n",
    "    | StrOutputParser()\n",
    ")"
   ]
  },
  {
   "cell_type": "code",
   "execution_count": 39,
   "id": "ea413fa6-5ba4-4d1d-b8d7-04b18727468d",
   "metadata": {},
   "outputs": [
    {
     "data": {
      "text/plain": [
       "'The focus of trial NCT00000102 is to evaluate the effects of extended release nifedipine (Procardia XL), a blood pressure medication, on the hypothalamic-pituitary-adrenal axis in patients with congenital adrenal hyperplasia. The trial aims to assess both acute and chronic effects of nifedipine and evaluate its potential to decrease the dosage of glucocorticoid medication needed to suppress the HPA axis in order to reduce the deleterious effects of glucocorticoid treatment in CAH.'"
      ]
     },
     "execution_count": 39,
     "metadata": {},
     "output_type": "execute_result"
    }
   ],
   "source": [
    "chain.invoke(\"What is the focus of trial NCT00000102?\")"
   ]
  }
 ],
 "metadata": {
  "kernelspec": {
   "display_name": "Python 3 (ipykernel)",
   "language": "python",
   "name": "python3"
  },
  "language_info": {
   "codemirror_mode": {
    "name": "ipython",
    "version": 3
   },
   "file_extension": ".py",
   "mimetype": "text/x-python",
   "name": "python",
   "nbconvert_exporter": "python",
   "pygments_lexer": "ipython3",
   "version": "3.9.16"
  }
 },
 "nbformat": 4,
 "nbformat_minor": 5
}
