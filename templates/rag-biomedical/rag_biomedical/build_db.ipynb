{
 "cells": [
  {
   "cell_type": "markdown",
   "id": "dea8122d-2dce-4ca1-9115-07df0ecc039d",
   "metadata": {},
   "source": [
    "# RAG on clinical trial data\n",
    "\n",
    "ClinicalTrials.gov is a publicly accessible database maintained by the U.S. National Library of Medicine (NLM) at the National Institutes of Health (NIH). It provides information on both privately and publicly funded clinical studies conducted around the world. We can download the database of clinical trials [here](https://classic.clinicaltrials.gov/api/gui/ref/download_all).\n",
    " \n",
    "Each trial is captured as a JSON file, with a mixture of useful semantic context (trials description, etc) as well as trial metadata (such as the trial ID `NCTId` and phases). This data is well suited to semantic search with metadata filtering, with some fields indexed for semantic search and others for `metadata filtering`.\n",
    " \n",
    "We wil use JSONLoader (docs [here](https://python.langchain.com/docs/modules/data_connection/document_loaders/json)) to load the JSON data and specify metadata fields by passing the `extract_metadata` function to `metadata_func`.\n",
    "\n",
    "## Data Loding\n",
    "\n",
    "Download the database of clinical trials [here](https://classic.clinicaltrials.gov/api/gui/ref/download_all).\n",
    "\n",
    "There are `471,942` JSON files in the downloaded directory `AllAPIJSON` and its subdirectories.\n",
    "\n",
    "Let's grab 5 from one of the sub-directories as a sample."
   ]
  },
  {
   "cell_type": "code",
   "execution_count": null,
   "id": "7bd333b7-4cb0-4e99-9940-b2eb8b889e2f",
   "metadata": {},
   "outputs": [],
   "source": [
    "# Define the directory path, selecting one of the sub-directories to read from\n",
    "import os \n",
    "path_to_db = \"/Users/rlm/Desktop/Clinical-Trials/AllAPIJSON/NCT0000xxxx\"\n",
    "\n",
    "# List all files in the directory\n",
    "all_files = os.listdir(path_to_db)\n",
    "\n",
    "# Filter only JSON files\n",
    "json_files = [file for file in all_files if file.endswith('.json')]\n",
    "\n",
    "# Sort and select the first 5 JSON files (you can customize the sorting if needed)\n",
    "first_5_jsons = sorted(json_files)[:5]"
   ]
  },
  {
   "cell_type": "markdown",
   "id": "431508bb-3cfd-4f5a-9582-3eaed191a811",
   "metadata": {},
   "source": [
    "Let's look at the structure of each record."
   ]
  },
  {
   "cell_type": "code",
   "execution_count": 17,
   "id": "b64d3979-21dd-4053-90a6-36f14a8fc7fe",
   "metadata": {},
   "outputs": [
    {
     "name": "stdout",
     "output_type": "stream",
     "text": [
      "Index(['FullStudy.Rank',\n",
      "       'FullStudy.Study.ProtocolSection.IdentificationModule.NCTId',\n",
      "       'FullStudy.Study.ProtocolSection.IdentificationModule.OrgStudyIdInfo.OrgStudyId',\n",
      "       'FullStudy.Study.ProtocolSection.IdentificationModule.SecondaryIdInfoList.SecondaryIdInfo',\n",
      "       'FullStudy.Study.ProtocolSection.IdentificationModule.Organization.OrgFullName',\n",
      "       'FullStudy.Study.ProtocolSection.IdentificationModule.Organization.OrgClass',\n",
      "       'FullStudy.Study.ProtocolSection.IdentificationModule.BriefTitle',\n",
      "       'FullStudy.Study.ProtocolSection.StatusModule.StatusVerifiedDate',\n",
      "       'FullStudy.Study.ProtocolSection.StatusModule.OverallStatus',\n",
      "       'FullStudy.Study.ProtocolSection.StatusModule.ExpandedAccessInfo.HasExpandedAccess',\n",
      "       'FullStudy.Study.ProtocolSection.StatusModule.StudyFirstSubmitDate',\n",
      "       'FullStudy.Study.ProtocolSection.StatusModule.StudyFirstSubmitQCDate',\n",
      "       'FullStudy.Study.ProtocolSection.StatusModule.StudyFirstPostDateStruct.StudyFirstPostDate',\n",
      "       'FullStudy.Study.ProtocolSection.StatusModule.StudyFirstPostDateStruct.StudyFirstPostDateType',\n",
      "       'FullStudy.Study.ProtocolSection.StatusModule.LastUpdateSubmitDate',\n",
      "       'FullStudy.Study.ProtocolSection.StatusModule.LastUpdatePostDateStruct.LastUpdatePostDate',\n",
      "       'FullStudy.Study.ProtocolSection.StatusModule.LastUpdatePostDateStruct.LastUpdatePostDateType',\n",
      "       'FullStudy.Study.ProtocolSection.SponsorCollaboratorsModule.LeadSponsor.LeadSponsorName',\n",
      "       'FullStudy.Study.ProtocolSection.SponsorCollaboratorsModule.LeadSponsor.LeadSponsorClass',\n",
      "       'FullStudy.Study.ProtocolSection.DescriptionModule.BriefSummary',\n",
      "       'FullStudy.Study.ProtocolSection.DescriptionModule.DetailedDescription',\n",
      "       'FullStudy.Study.ProtocolSection.ConditionsModule.ConditionList.Condition',\n",
      "       'FullStudy.Study.ProtocolSection.DesignModule.StudyType',\n",
      "       'FullStudy.Study.ProtocolSection.DesignModule.PhaseList.Phase',\n",
      "       'FullStudy.Study.ProtocolSection.DesignModule.DesignInfo.DesignInterventionModel',\n",
      "       'FullStudy.Study.ProtocolSection.DesignModule.DesignInfo.DesignPrimaryPurpose',\n",
      "       'FullStudy.Study.ProtocolSection.DesignModule.DesignInfo.DesignMaskingInfo.DesignMasking',\n",
      "       'FullStudy.Study.ProtocolSection.ArmsInterventionsModule.InterventionList.Intervention',\n",
      "       'FullStudy.Study.ProtocolSection.EligibilityModule.EligibilityCriteria',\n",
      "       'FullStudy.Study.ProtocolSection.EligibilityModule.HealthyVolunteers',\n",
      "       'FullStudy.Study.ProtocolSection.EligibilityModule.Gender',\n",
      "       'FullStudy.Study.ProtocolSection.EligibilityModule.MinimumAge',\n",
      "       'FullStudy.Study.ProtocolSection.EligibilityModule.MaximumAge',\n",
      "       'FullStudy.Study.ProtocolSection.EligibilityModule.StdAgeList.StdAge',\n",
      "       'FullStudy.Study.ProtocolSection.ContactsLocationsModule.LocationList.Location',\n",
      "       'FullStudy.Study.DerivedSection.MiscInfoModule.VersionHolder',\n",
      "       'FullStudy.Study.DerivedSection.ConditionBrowseModule.ConditionMeshList.ConditionMesh',\n",
      "       'FullStudy.Study.DerivedSection.ConditionBrowseModule.ConditionAncestorList.ConditionAncestor',\n",
      "       'FullStudy.Study.DerivedSection.ConditionBrowseModule.ConditionBrowseLeafList.ConditionBrowseLeaf',\n",
      "       'FullStudy.Study.DerivedSection.ConditionBrowseModule.ConditionBrowseBranchList.ConditionBrowseBranch',\n",
      "       'FullStudy.Study.DerivedSection.InterventionBrowseModule.InterventionMeshList.InterventionMesh',\n",
      "       'FullStudy.Study.DerivedSection.InterventionBrowseModule.InterventionAncestorList.InterventionAncestor',\n",
      "       'FullStudy.Study.DerivedSection.InterventionBrowseModule.InterventionBrowseLeafList.InterventionBrowseLeaf',\n",
      "       'FullStudy.Study.DerivedSection.InterventionBrowseModule.InterventionBrowseBranchList.InterventionBrowseBranch'],\n",
      "      dtype='object')\n"
     ]
    }
   ],
   "source": [
    "import json\n",
    "import pandas as pd\n",
    "\n",
    "# Assuming first_5_jsons is a list of file paths.\n",
    "with open(path_to_db+'/'+first_5_jsons[0], 'r') as f:\n",
    "    data = json.load(f)\n",
    "\n",
    "# Normalize the JSON data to a DataFrame\n",
    "df = pd.json_normalize(data)\n",
    "\n",
    "# Print the columns to understand the structure\n",
    "print(df.columns)"
   ]
  },
  {
   "cell_type": "markdown",
   "id": "6ff6b543-f0f1-4f6d-9aa1-e7bc70d3050a",
   "metadata": {},
   "source": [
    "We can [load each JSON record](https://python.langchain.com/docs/modules/data_connection/document_loaders/json).\n",
    "\n",
    "With `extract_metadata`, the parsed JSON data (a dictionary) is provided to the JSONLoader. \n",
    "\n",
    "Here, it corresponds to the `ProtocolSection` of the study.\n",
    "\n",
    "The function first attempts to access the `IdentificationModule` within the sample dictionary using the get method. \n",
    "\n",
    "If IdentificationModule is present, it'll return its value; otherwise, it'll return an empty dictionary ({}).\n",
    "\n",
    "Next, the function attempts to access NCTId from the previously fetched value. \n",
    "\n",
    "If NCTId is present, its value is returned; otherwise, None is returned.\n",
    "\n",
    "We can perform this for each desired metadata field."
   ]
  },
  {
   "cell_type": "code",
   "execution_count": 3,
   "id": "5014c010-c638-48d8-bd77-7a4106831323",
   "metadata": {},
   "outputs": [],
   "source": [
    "from typing import Any, Dict\n",
    "from langchain.docstore.document import Document\n",
    "from langchain.document_loaders import JSONLoader\n",
    "\n",
    "def extract_metadata(sample: Dict[str, Any], default_metadata: Dict[str, Any]) -> Dict[str, Any]:\n",
    "    nctid = sample.get('IdentificationModule', {}).get('NCTId', None)\n",
    "    study_type = sample.get('DesignModule', {}).get('StudyType', None)\n",
    "    phase_list = sample.get('DesignModule', {}).get('PhaseList', {}).get('Phase', None)\n",
    "    metadata = {\n",
    "        **default_metadata,\n",
    "        'NCTId': nctid,\n",
    "        'StudyType': study_type,\n",
    "        'PhaseList': str(phase_list) # Metadata needs to be str\n",
    "    }\n",
    "    return metadata\n",
    "\n",
    "def load_json(dir: str) -> Document:\n",
    "    \n",
    "    loader = JSONLoader(\n",
    "        file_path=dir,\n",
    "        jq_schema='.FullStudy.Study.ProtocolSection',\n",
    "        metadata_func=extract_metadata,\n",
    "        text_content=False\n",
    "    )\n",
    "    \n",
    "    data = loader.load()\n",
    "    return data[0]"
   ]
  },
  {
   "cell_type": "markdown",
   "id": "a3dc5c64-7050-422e-b6e0-86bad0ae93a0",
   "metadata": {},
   "source": [
    "Read the JSON objects."
   ]
  },
  {
   "cell_type": "code",
   "execution_count": 4,
   "id": "f611e119-e835-44bb-b36a-f3c50f3f858d",
   "metadata": {},
   "outputs": [],
   "source": [
    "# Process each of the selected JSON files\n",
    "clinical_trial_data_sample = []\n",
    "for json_file in first_5_jsons:\n",
    "    file_path = os.path.join(dir_path, json_file)\n",
    "    data = load_json(file_path)\n",
    "    clinical_trial_data_sample.append(data)"
   ]
  },
  {
   "cell_type": "markdown",
   "id": "5ad4e48e-550a-4296-af54-47bc5f99228c",
   "metadata": {},
   "source": [
    "Split documents for embedding and vectorstore."
   ]
  },
  {
   "cell_type": "code",
   "execution_count": 5,
   "id": "9bcec5de-1bf8-420a-9e3c-c2fee442dd24",
   "metadata": {},
   "outputs": [],
   "source": [
    "# Split documents\n",
    "from langchain.text_splitter import RecursiveCharacterTextSplitter\n",
    "text_splitter = RecursiveCharacterTextSplitter(chunk_size=1500, chunk_overlap=0)\n",
    "all_splits = text_splitter.split_documents(clinical_trial_data_sample)"
   ]
  },
  {
   "cell_type": "code",
   "execution_count": 6,
   "id": "f4223b6e-6879-4b33-acdf-bd124e77d1f5",
   "metadata": {},
   "outputs": [
    {
     "data": {
      "text/plain": [
       "{'source': '/Users/rlm/Desktop/GENE-workshop/AllAPIJSON/NCT0000xxxx/NCT00000102.json',\n",
       " 'seq_num': 1,\n",
       " 'NCTId': 'NCT00000102',\n",
       " 'StudyType': 'Interventional',\n",
       " 'PhaseList': \"['Phase 1', 'Phase 2']\"}"
      ]
     },
     "execution_count": 6,
     "metadata": {},
     "output_type": "execute_result"
    }
   ],
   "source": [
    "all_splits[0].metadata"
   ]
  },
  {
   "cell_type": "markdown",
   "id": "8ed2cda2-8759-45b7-b1d5-8ce7ac739f9d",
   "metadata": {},
   "source": [
    "Embed and add to vectorDB.\n",
    "\n",
    "We save this vectorstore to the directory for future use."
   ]
  },
  {
   "cell_type": "code",
   "execution_count": 7,
   "id": "3e7c6c12-d785-43d4-aecf-fe9743aa1f8c",
   "metadata": {},
   "outputs": [],
   "source": [
    "from langchain.vectorstores import Chroma\n",
    "from langchain.embeddings import OpenAIEmbeddings\n",
    "vectorstore = Chroma.from_documents(\n",
    "    documents=all_splits,\n",
    "    collection_name=\"rag-biomedical\",\n",
    "    persist_directory='./vectorstore',\n",
    "    embedding=OpenAIEmbeddings(),\n",
    ")"
   ]
  },
  {
   "cell_type": "code",
   "execution_count": 8,
   "id": "c2e6d62e-c591-430f-84f2-a9251a6db780",
   "metadata": {},
   "outputs": [
    {
     "data": {
      "text/plain": [
       "['NCT00000104', 'NCT00000105', 'NCT00000102', 'NCT00000107']"
      ]
     },
     "execution_count": 8,
     "metadata": {},
     "output_type": "execute_result"
    }
   ],
   "source": [
    "# Test\n",
    "retriever = vectorstore.as_retriever()\n",
    "docs = retriever.get_relevant_documents(\"What was the focus of trial NCT00000102?\")\n",
    "[doc.metadata[\"NCTId\"] for doc in docs]"
   ]
  },
  {
   "cell_type": "markdown",
   "id": "9176cff6-6dcf-4c76-8bf2-ebd700526fe1",
   "metadata": {},
   "source": [
    "We get a mix of results.\n",
    "\n",
    "[Chroma](https://python.langchain.com/docs/integrations/vectorstores/chroma) allows for metadata filtering. \n",
    "\n",
    "* [LangChain guide](https://python.langchain.com/docs/integrations/vectorstores/chroma)\n",
    "* [Chroma guide](https://docs.trychroma.com/usage-guide#filtering-by-metadata)"
   ]
  },
  {
   "cell_type": "code",
   "execution_count": 21,
   "id": "81730b9a-4e44-4d0f-8137-584d68808db5",
   "metadata": {},
   "outputs": [
    {
     "data": {
      "text/plain": [
       "[{'NCTId': 'NCT00000102',\n",
       "  'PhaseList': \"['Phase 1', 'Phase 2']\",\n",
       "  'StudyType': 'Interventional',\n",
       "  'seq_num': 1,\n",
       "  'source': '/Users/rlm/Desktop/GENE-workshop/AllAPIJSON/NCT0000xxxx/NCT00000102.json'},\n",
       " {'NCTId': 'NCT00000102',\n",
       "  'PhaseList': \"['Phase 1', 'Phase 2']\",\n",
       "  'StudyType': 'Interventional',\n",
       "  'seq_num': 1,\n",
       "  'source': '/Users/rlm/Desktop/GENE-workshop/AllAPIJSON/NCT0000xxxx/NCT00000102.json'},\n",
       " {'NCTId': 'NCT00000102',\n",
       "  'PhaseList': \"['Phase 1', 'Phase 2']\",\n",
       "  'StudyType': 'Interventional',\n",
       "  'seq_num': 1,\n",
       "  'source': '/Users/rlm/Desktop/GENE-workshop/AllAPIJSON/NCT0000xxxx/NCT00000102.json'}]"
      ]
     },
     "execution_count": 21,
     "metadata": {},
     "output_type": "execute_result"
    }
   ],
   "source": [
    "docs = vectorstore.get(where={\"NCTId\": \"NCT00000102\"})\n",
    "docs['metadatas']"
   ]
  },
  {
   "cell_type": "markdown",
   "id": "62bb8e32-6a41-4808-b729-6394929e5b80",
   "metadata": {},
   "source": [
    "We can build a retriever that reasons about metadata filter(s) from the user question."
   ]
  },
  {
   "cell_type": "code",
   "execution_count": 22,
   "id": "e48d3eee-53bc-4854-b868-e20bf5c6a397",
   "metadata": {},
   "outputs": [],
   "source": [
    "from langchain.llms import OpenAI\n",
    "from langchain.retrievers.self_query.base import SelfQueryRetriever\n",
    "from langchain.chains.query_constructor.base import AttributeInfo\n",
    "\n",
    "# Provide context about the metadata\n",
    "metadata_field_info = [\n",
    "    \n",
    "    AttributeInfo(\n",
    "        name=\"NCTId\",\n",
    "        description=\"The unique identifier assigned to each clinical trial when registered on ClinicalTrials.gov. \",\n",
    "        type=\"string\",\n",
    "    ),\n",
    "    AttributeInfo(\n",
    "        name=\"StudyType\",\n",
    "        description=\"The nature of the study, indicating whether participants receive specific interventions or are merely observed for specific outcomes.\",\n",
    "        type=\"string\",\n",
    "    ),\n",
    "    AttributeInfo(\n",
    "        name=\"PhaseList\",\n",
    "        description=\"This pertains to the phase of the study in drug trials.\",\n",
    "        type=\"string\",\n",
    "    )\n",
    "]\n",
    "\n",
    "# Overall context for the data\n",
    "document_content_description = \"Information about clinical trial on ClinicalTrials.gov\"\n",
    "\n",
    "# LLM\n",
    "llm = OpenAI(temperature=0,)\n",
    "\n",
    "# Retriever\n",
    "retriever_self_query = SelfQueryRetriever.from_llm(\n",
    "    llm, \n",
    "    vectorstore, \n",
    "    document_content_description, \n",
    "    metadata_field_info, \n",
    "    verbose=True\n",
    ")"
   ]
  },
  {
   "cell_type": "code",
   "execution_count": 23,
   "id": "93acf5e7-1a26-4bbc-afc6-ffd7f5893fa5",
   "metadata": {},
   "outputs": [
    {
     "data": {
      "text/plain": [
       "['NCT00000102', 'NCT00000102', 'NCT00000102']"
      ]
     },
     "execution_count": 23,
     "metadata": {},
     "output_type": "execute_result"
    }
   ],
   "source": [
    "docs = retriever_self_query.get_relevant_documents(\"What was the focus of trial NCT00000102?\")\n",
    "[doc.metadata[\"NCTId\"] for doc in docs]"
   ]
  }
 ],
 "metadata": {
  "kernelspec": {
   "display_name": "Python 3 (ipykernel)",
   "language": "python",
   "name": "python3"
  },
  "language_info": {
   "codemirror_mode": {
    "name": "ipython",
    "version": 3
   },
   "file_extension": ".py",
   "mimetype": "text/x-python",
   "name": "python",
   "nbconvert_exporter": "python",
   "pygments_lexer": "ipython3",
   "version": "3.9.16"
  }
 },
 "nbformat": 4,
 "nbformat_minor": 5
}
