{
 "cells": [
  {
   "cell_type": "markdown",
   "id": "681a5d1e",
   "metadata": {},
   "source": [
    "## Connect to RAG App\n",
    "\n",
    "Assuming you are already running this server:\n",
    "```bash\n",
    "langserve start\n",
    "```"
   ]
  },
  {
   "cell_type": "code",
   "execution_count": null,
   "id": "d774be2a",
   "metadata": {},
   "outputs": [],
   "source": [
    "from langserve.client import RemoteRunnable\n",
    "\n",
    "rag_cache_redis = RemoteRunnable('http://localhost:8000/rag-cache-redis')\n",
    "rag_cache_redis.invoke(\"What were Nike's profits this past year compared to the year before?\")"
   ]
  },
  {
   "cell_type": "code",
   "execution_count": null,
   "id": "07ae0005",
   "metadata": {},
   "outputs": [],
   "source": [
    "rag_cache_redis.invoke(\"How many employees work at Nike?\")"
   ]
  },
  {
   "cell_type": "code",
   "execution_count": null,
   "id": "504ed2fb",
   "metadata": {},
   "outputs": [],
   "source": [
    "rag_cache_redis.invoke(\"How many people work at Nike?\") # should get caught by the cache!"
   ]
  }
 ],
 "metadata": {
  "kernelspec": {
   "display_name": "Python 3 (ipykernel)",
   "language": "python",
   "name": "python3"
  },
  "language_info": {
   "codemirror_mode": {
    "name": "ipython",
    "version": 3
   },
   "file_extension": ".py",
   "mimetype": "text/x-python",
   "name": "python",
   "nbconvert_exporter": "python",
   "pygments_lexer": "ipython3",
   "version": "3.9.16"
  }
 },
 "nbformat": 4,
 "nbformat_minor": 5
}
