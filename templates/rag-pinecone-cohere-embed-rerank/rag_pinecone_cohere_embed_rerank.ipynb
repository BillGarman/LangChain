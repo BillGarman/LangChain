{
 "cells": [
  {
   "attachments": {},
   "cell_type": "markdown",
   "id": "681a5d1e",
   "metadata": {},
   "source": [
    "## Connect to template"
   ]
  },
  {
   "cell_type": "code",
   "execution_count": 4,
   "id": "d774be2a",
   "metadata": {},
   "outputs": [
    {
     "data": {
      "text/plain": [
       "'Agent memory works through a concept known as the \"memory stream\". The memory stream is a long-term memory module that functions as an external database, recording each agent\\'s experience in natural language. \\n\\nEach element of the memory stream is composed of observations or events that are directly provided by the agent. Additionally, inter-agent communication has the potential to generate new natural language statements, contributing to the memory stream. \\n\\nThe retrieval model is another component of the agent memory module. Its function is to surface the context relevant to the agent\\'s behavior, taking into account factors such as relevance, recency, and importance. \\n\\nIn summary, the agent memory operates using a memory stream that records experiences, supplemented by a retrieval model that aids in contextual recall. \\n\\nWould you like me to go into more detail on any of the aforementioned points?'"
      ]
     },
     "execution_count": 4,
     "metadata": {},
     "output_type": "execute_result"
    }
   ],
   "source": [
    "from langserve.client import RemoteRunnable\n",
    "\n",
    "rag_app_pinecone = RemoteRunnable(\"http://localhost:8001/rag_pinecone_cohere_embed_rerank\")\n",
    "rag_app_pinecone.invoke(\"How does agent memory work?\")"
   ]
  }
 ],
 "metadata": {
  "kernelspec": {
   "display_name": "Python 3 (ipykernel)",
   "language": "python",
   "name": "python3"
  },
  "language_info": {
   "codemirror_mode": {
    "name": "ipython",
    "version": 3
   },
   "file_extension": ".py",
   "mimetype": "text/x-python",
   "name": "python",
   "nbconvert_exporter": "python",
   "pygments_lexer": "ipython3",
   "version": "3.11.6"
  }
 },
 "nbformat": 4,
 "nbformat_minor": 5
}
