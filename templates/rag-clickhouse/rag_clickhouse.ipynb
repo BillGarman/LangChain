{
 "cells": [
  {
   "cell_type": "markdown",
   "id": "232fd40d-cf6a-402d-bcb8-414184a8e924",
   "metadata": {},
   "source": [
    "## ClickHouse Template\n",
    "\n",
    "In `server.py`, set the following:\n",
    "\n",
    "```python\n",
    "from rag_clickhouse import chain as rag_clickhouse_chain\n",
    "add_routes(app, rag_clickhouse_chain, path=\"/rag-clickhouse\")\n",
    "```"
   ]
  },
  {
   "cell_type": "markdown",
   "id": "5494f6a2-f809-4210-a49c-b3766ca2d83f",
   "metadata": {
    "execution": {
     "iopub.execute_input": "2024-02-08T16:43:34.381207Z",
     "iopub.status.busy": "2024-02-08T16:43:34.380716Z",
     "iopub.status.idle": "2024-02-08T16:43:34.387371Z",
     "shell.execute_reply": "2024-02-08T16:43:34.386243Z",
     "shell.execute_reply.started": "2024-02-08T16:43:34.381176Z"
    }
   },
   "source": [
    "And then run the following to ask a question:"
   ]
  },
  {
   "cell_type": "code",
   "execution_count": 5,
   "id": "ce39d358-1934-4404-bd3e-3fd497974aff",
   "metadata": {
    "ExecuteTime": {
     "end_time": "2024-02-07T12:43:16.792520Z",
     "start_time": "2024-02-07T12:43:16.717875Z"
    },
    "execution": {
     "iopub.execute_input": "2024-02-08T16:42:37.446022Z",
     "iopub.status.busy": "2024-02-08T16:42:37.445680Z",
     "iopub.status.idle": "2024-02-08T16:42:39.330910Z",
     "shell.execute_reply": "2024-02-08T16:42:39.330307Z",
     "shell.execute_reply.started": "2024-02-08T16:42:37.445996Z"
    }
   },
   "outputs": [
    {
     "data": {
      "text/plain": [
       "' Yes, ClickHouse can be used as a feature store. The documents suggest that ClickHouse can fulfill the role of several components in a feature store and potentially simplify the architecture due to its real-time data warehouse capabilities and performance. However, it is important to note that not all feature stores provide the same components directly, so some degree of architectural flexibility and openness may be required for ClickHouse to be integrated into a specific feature store implementation.'"
      ]
     },
     "execution_count": 5,
     "metadata": {},
     "output_type": "execute_result"
    }
   ],
   "source": [
    "from langserve.client import RemoteRunnable\n",
    "\n",
    "rag_app = RemoteRunnable(\"http://127.0.0.1:8000/rag-clickhouse/\")\n",
    "rag_app.invoke(\"Can you use ClickHouse as a feature store?\")"
   ]
  },
  {
   "cell_type": "code",
   "execution_count": null,
   "id": "fa2254e7-a7ae-4b0f-bf6c-2b830b837a27",
   "metadata": {},
   "outputs": [],
   "source": []
  }
 ],
 "metadata": {
  "kernelspec": {
   "display_name": "Python 3 (ipykernel)",
   "language": "python",
   "name": "python3"
  },
  "language_info": {
   "codemirror_mode": {
    "name": "ipython",
    "version": 3
   },
   "file_extension": ".py",
   "mimetype": "text/x-python",
   "name": "python",
   "nbconvert_exporter": "python",
   "pygments_lexer": "ipython3",
   "version": "3.11.6"
  }
 },
 "nbformat": 4,
 "nbformat_minor": 5
}
