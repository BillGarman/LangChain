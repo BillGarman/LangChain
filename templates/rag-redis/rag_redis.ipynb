{
 "cells": [
  {
   "cell_type": "markdown",
   "id": "681a5d1e",
   "metadata": {},
   "source": [
    "## Connect to RAG App\n",
    "\n",
    "Assuming you are already running this server:\n",
    "```bash\n",
    "langserve start\n",
    "```"
   ]
  },
  {
   "cell_type": "code",
   "execution_count": null,
   "id": "d774be2a",
   "metadata": {},
   "outputs": [],
   "source": [
    "from langserve.client import RemoteRunnable\n",
    "\n",
    "rag_redis = RemoteRunnable('http://localhost:8000/rag-redis')\n",
    "\n",
    "\n",
    "rag_redis.invoke(\"What were Nike's profits this past year compared to the year before?\")"
   ]
  },
  {
   "cell_type": "code",
   "execution_count": null,
   "id": "07ae0005",
   "metadata": {},
   "outputs": [],
   "source": [
    "rag_redis.invoke(\"How many employees work at Nike?\")"
   ]
  }
 ],
 "metadata": {
  "kernelspec": {
   "display_name": "Python 3 (ipykernel)",
   "language": "python",
   "name": "python3"
  },
  "language_info": {
   "codemirror_mode": {
    "name": "ipython",
    "version": 3
   },
   "file_extension": ".py",
   "mimetype": "text/x-python",
   "name": "python",
   "nbconvert_exporter": "python",
   "pygments_lexer": "ipython3",
   "version": "3.9.16"
  }
 },
 "nbformat": 4,
 "nbformat_minor": 5
}
