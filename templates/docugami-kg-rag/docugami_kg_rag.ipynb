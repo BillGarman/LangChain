{
 "cells": [
  {
   "cell_type": "code",
   "execution_count": 1,
   "metadata": {},
   "outputs": [],
   "source": [
    "from langserve.client import RemoteRunnable\n",
    "\n",
    "rag_app = RemoteRunnable(\"http://127.0.0.1:8000/docugami_kg_rag\")"
   ]
  },
  {
   "cell_type": "code",
   "execution_count": 3,
   "metadata": {},
   "outputs": [
    {
     "ename": "HTTPStatusError",
     "evalue": "Client error '404 Not Found' for url 'http://127.0.0.1:8000/docugami_kg_rag/invoke'\nFor more information check: https://developer.mozilla.org/en-US/docs/Web/HTTP/Status/404 for {\"detail\":\"Not Found\"}",
     "output_type": "error",
     "traceback": [
      "\u001b[0;31m---------------------------------------------------------------------------\u001b[0m",
      "\u001b[0;31mHTTPStatusError\u001b[0m                           Traceback (most recent call last)",
      "File \u001b[0;32m~/Library/Caches/pypoetry/virtualenvs/docugami-kg-rag-hK4Q0mAq-py3.9/lib/python3.9/site-packages/langserve/client.py:96\u001b[0m, in \u001b[0;36m_raise_for_status\u001b[0;34m(response)\u001b[0m\n\u001b[1;32m     95\u001b[0m \u001b[39mtry\u001b[39;00m:\n\u001b[0;32m---> 96\u001b[0m     response\u001b[39m.\u001b[39;49mraise_for_status()\n\u001b[1;32m     97\u001b[0m \u001b[39mexcept\u001b[39;00m httpx\u001b[39m.\u001b[39mHTTPStatusError \u001b[39mas\u001b[39;00m e:\n",
      "File \u001b[0;32m~/Library/Caches/pypoetry/virtualenvs/docugami-kg-rag-hK4Q0mAq-py3.9/lib/python3.9/site-packages/httpx/_models.py:758\u001b[0m, in \u001b[0;36mResponse.raise_for_status\u001b[0;34m(self)\u001b[0m\n\u001b[1;32m    757\u001b[0m message \u001b[39m=\u001b[39m message\u001b[39m.\u001b[39mformat(\u001b[39mself\u001b[39m, error_type\u001b[39m=\u001b[39merror_type)\n\u001b[0;32m--> 758\u001b[0m \u001b[39mraise\u001b[39;00m HTTPStatusError(message, request\u001b[39m=\u001b[39mrequest, response\u001b[39m=\u001b[39m\u001b[39mself\u001b[39m)\n",
      "\u001b[0;31mHTTPStatusError\u001b[0m: Client error '404 Not Found' for url 'http://127.0.0.1:8000/docugami_kg_rag/invoke'\nFor more information check: https://developer.mozilla.org/en-US/docs/Web/HTTP/Status/404",
      "\nDuring handling of the above exception, another exception occurred:\n",
      "\u001b[0;31mHTTPStatusError\u001b[0m                           Traceback (most recent call last)",
      "\u001b[1;32m/Users/tjaffri/Source/github/docugami.langchain/templates/docugami-kg-rag/docugami_kg_rag.ipynb Cell 2\u001b[0m line \u001b[0;36m1\n\u001b[0;32m----> <a href='vscode-notebook-cell:/Users/tjaffri/Source/github/docugami.langchain/templates/docugami-kg-rag/docugami_kg_rag.ipynb#W1sZmlsZQ%3D%3D?line=0'>1</a>\u001b[0m answer \u001b[39m=\u001b[39m rag_app\u001b[39m.\u001b[39;49minvoke(\n\u001b[1;32m      <a href='vscode-notebook-cell:/Users/tjaffri/Source/github/docugami.langchain/templates/docugami-kg-rag/docugami_kg_rag.ipynb#W1sZmlsZQ%3D%3D?line=1'>2</a>\u001b[0m     {\n\u001b[1;32m      <a href='vscode-notebook-cell:/Users/tjaffri/Source/github/docugami.langchain/templates/docugami-kg-rag/docugami_kg_rag.ipynb#W1sZmlsZQ%3D%3D?line=2'>3</a>\u001b[0m         \u001b[39m\"\u001b[39;49m\u001b[39minput\u001b[39;49m\u001b[39m\"\u001b[39;49m: \u001b[39m\"\u001b[39;49m\u001b[39mhello\u001b[39;49m\u001b[39m\"\u001b[39;49m,\n\u001b[1;32m      <a href='vscode-notebook-cell:/Users/tjaffri/Source/github/docugami.langchain/templates/docugami-kg-rag/docugami_kg_rag.ipynb#W1sZmlsZQ%3D%3D?line=3'>4</a>\u001b[0m         \u001b[39m\"\u001b[39;49m\u001b[39mchat_history\u001b[39;49m\u001b[39m\"\u001b[39;49m: [],\n\u001b[1;32m      <a href='vscode-notebook-cell:/Users/tjaffri/Source/github/docugami.langchain/templates/docugami-kg-rag/docugami_kg_rag.ipynb#W1sZmlsZQ%3D%3D?line=4'>5</a>\u001b[0m     }\n\u001b[1;32m      <a href='vscode-notebook-cell:/Users/tjaffri/Source/github/docugami.langchain/templates/docugami-kg-rag/docugami_kg_rag.ipynb#W1sZmlsZQ%3D%3D?line=5'>6</a>\u001b[0m )\n",
      "File \u001b[0;32m~/Library/Caches/pypoetry/virtualenvs/docugami-kg-rag-hK4Q0mAq-py3.9/lib/python3.9/site-packages/langserve/client.py:294\u001b[0m, in \u001b[0;36mRemoteRunnable.invoke\u001b[0;34m(self, input, config, **kwargs)\u001b[0m\n\u001b[1;32m    292\u001b[0m \u001b[39mif\u001b[39;00m kwargs:\n\u001b[1;32m    293\u001b[0m     \u001b[39mraise\u001b[39;00m \u001b[39mNotImplementedError\u001b[39;00m(\u001b[39m\"\u001b[39m\u001b[39mkwargs not implemented yet.\u001b[39m\u001b[39m\"\u001b[39m)\n\u001b[0;32m--> 294\u001b[0m \u001b[39mreturn\u001b[39;00m \u001b[39mself\u001b[39;49m\u001b[39m.\u001b[39;49m_call_with_config(\u001b[39mself\u001b[39;49m\u001b[39m.\u001b[39;49m_invoke, \u001b[39minput\u001b[39;49m, config\u001b[39m=\u001b[39;49mconfig)\n",
      "File \u001b[0;32m~/Library/Caches/pypoetry/virtualenvs/docugami-kg-rag-hK4Q0mAq-py3.9/lib/python3.9/site-packages/langchain/schema/runnable/base.py:848\u001b[0m, in \u001b[0;36mRunnable._call_with_config\u001b[0;34m(self, func, input, config, run_type, **kwargs)\u001b[0m\n\u001b[1;32m    841\u001b[0m run_manager \u001b[39m=\u001b[39m callback_manager\u001b[39m.\u001b[39mon_chain_start(\n\u001b[1;32m    842\u001b[0m     dumpd(\u001b[39mself\u001b[39m),\n\u001b[1;32m    843\u001b[0m     \u001b[39minput\u001b[39m,\n\u001b[1;32m    844\u001b[0m     run_type\u001b[39m=\u001b[39mrun_type,\n\u001b[1;32m    845\u001b[0m     name\u001b[39m=\u001b[39mconfig\u001b[39m.\u001b[39mget(\u001b[39m\"\u001b[39m\u001b[39mrun_name\u001b[39m\u001b[39m\"\u001b[39m),\n\u001b[1;32m    846\u001b[0m )\n\u001b[1;32m    847\u001b[0m \u001b[39mtry\u001b[39;00m:\n\u001b[0;32m--> 848\u001b[0m     output \u001b[39m=\u001b[39m call_func_with_variable_args(\n\u001b[1;32m    849\u001b[0m         func, \u001b[39minput\u001b[39;49m, config, run_manager, \u001b[39m*\u001b[39;49m\u001b[39m*\u001b[39;49mkwargs\n\u001b[1;32m    850\u001b[0m     )\n\u001b[1;32m    851\u001b[0m \u001b[39mexcept\u001b[39;00m \u001b[39mBaseException\u001b[39;00m \u001b[39mas\u001b[39;00m e:\n\u001b[1;32m    852\u001b[0m     run_manager\u001b[39m.\u001b[39mon_chain_error(e)\n",
      "File \u001b[0;32m~/Library/Caches/pypoetry/virtualenvs/docugami-kg-rag-hK4Q0mAq-py3.9/lib/python3.9/site-packages/langchain/schema/runnable/config.py:308\u001b[0m, in \u001b[0;36mcall_func_with_variable_args\u001b[0;34m(func, input, config, run_manager, **kwargs)\u001b[0m\n\u001b[1;32m    306\u001b[0m \u001b[39mif\u001b[39;00m run_manager \u001b[39mis\u001b[39;00m \u001b[39mnot\u001b[39;00m \u001b[39mNone\u001b[39;00m \u001b[39mand\u001b[39;00m accepts_run_manager(func):\n\u001b[1;32m    307\u001b[0m     kwargs[\u001b[39m\"\u001b[39m\u001b[39mrun_manager\u001b[39m\u001b[39m\"\u001b[39m] \u001b[39m=\u001b[39m run_manager\n\u001b[0;32m--> 308\u001b[0m \u001b[39mreturn\u001b[39;00m func(\u001b[39minput\u001b[39;49m, \u001b[39m*\u001b[39;49m\u001b[39m*\u001b[39;49mkwargs)\n",
      "File \u001b[0;32m~/Library/Caches/pypoetry/virtualenvs/docugami-kg-rag-hK4Q0mAq-py3.9/lib/python3.9/site-packages/langserve/client.py:281\u001b[0m, in \u001b[0;36mRemoteRunnable._invoke\u001b[0;34m(self, input, run_manager, config, **kwargs)\u001b[0m\n\u001b[1;32m    272\u001b[0m \u001b[39m\u001b[39m\u001b[39m\"\"\"Invoke the runnable with the given input and config.\"\"\"\u001b[39;00m\n\u001b[1;32m    273\u001b[0m response \u001b[39m=\u001b[39m \u001b[39mself\u001b[39m\u001b[39m.\u001b[39msync_client\u001b[39m.\u001b[39mpost(\n\u001b[1;32m    274\u001b[0m     \u001b[39m\"\u001b[39m\u001b[39m/invoke\u001b[39m\u001b[39m\"\u001b[39m,\n\u001b[1;32m    275\u001b[0m     json\u001b[39m=\u001b[39m{\n\u001b[0;32m   (...)\u001b[0m\n\u001b[1;32m    279\u001b[0m     },\n\u001b[1;32m    280\u001b[0m )\n\u001b[0;32m--> 281\u001b[0m output, callback_events \u001b[39m=\u001b[39m _decode_response(\n\u001b[1;32m    282\u001b[0m     \u001b[39mself\u001b[39;49m\u001b[39m.\u001b[39;49m_lc_serializer, response, is_batch\u001b[39m=\u001b[39;49m\u001b[39mFalse\u001b[39;49;00m\n\u001b[1;32m    283\u001b[0m )\n\u001b[1;32m    285\u001b[0m \u001b[39mif\u001b[39;00m \u001b[39mself\u001b[39m\u001b[39m.\u001b[39m_use_server_callback_events \u001b[39mand\u001b[39;00m callback_events:\n\u001b[1;32m    286\u001b[0m     handle_callbacks(run_manager, callback_events)\n",
      "File \u001b[0;32m~/Library/Caches/pypoetry/virtualenvs/docugami-kg-rag-hK4Q0mAq-py3.9/lib/python3.9/site-packages/langserve/client.py:169\u001b[0m, in \u001b[0;36m_decode_response\u001b[0;34m(serializer, response, is_batch)\u001b[0m\n\u001b[1;32m    162\u001b[0m \u001b[39mdef\u001b[39;00m \u001b[39m_decode_response\u001b[39m(\n\u001b[1;32m    163\u001b[0m     serializer: Serializer,\n\u001b[1;32m    164\u001b[0m     response: httpx\u001b[39m.\u001b[39mResponse,\n\u001b[1;32m    165\u001b[0m     \u001b[39m*\u001b[39m,\n\u001b[1;32m    166\u001b[0m     is_batch: \u001b[39mbool\u001b[39m \u001b[39m=\u001b[39m \u001b[39mFalse\u001b[39;00m,\n\u001b[1;32m    167\u001b[0m ) \u001b[39m-\u001b[39m\u001b[39m>\u001b[39m Tuple[Any, Union[List[CallbackEventDict], List[List[CallbackEventDict]]]]:\n\u001b[1;32m    168\u001b[0m \u001b[39m    \u001b[39m\u001b[39m\"\"\"Decode the response.\"\"\"\u001b[39;00m\n\u001b[0;32m--> 169\u001b[0m     _raise_for_status(response)\n\u001b[1;32m    170\u001b[0m     obj \u001b[39m=\u001b[39m response\u001b[39m.\u001b[39mjson()\n\u001b[1;32m    171\u001b[0m     \u001b[39mif\u001b[39;00m \u001b[39mnot\u001b[39;00m \u001b[39misinstance\u001b[39m(obj, \u001b[39mdict\u001b[39m):\n",
      "File \u001b[0;32m~/Library/Caches/pypoetry/virtualenvs/docugami-kg-rag-hK4Q0mAq-py3.9/lib/python3.9/site-packages/langserve/client.py:104\u001b[0m, in \u001b[0;36m_raise_for_status\u001b[0;34m(response)\u001b[0m\n\u001b[1;32m    101\u001b[0m \u001b[39mif\u001b[39;00m e\u001b[39m.\u001b[39mresponse\u001b[39m.\u001b[39mtext:\n\u001b[1;32m    102\u001b[0m     message \u001b[39m+\u001b[39m\u001b[39m=\u001b[39m \u001b[39mf\u001b[39m\u001b[39m\"\u001b[39m\u001b[39m for \u001b[39m\u001b[39m{\u001b[39;00me\u001b[39m.\u001b[39mresponse\u001b[39m.\u001b[39mtext\u001b[39m}\u001b[39;00m\u001b[39m\"\u001b[39m\n\u001b[0;32m--> 104\u001b[0m \u001b[39mraise\u001b[39;00m httpx\u001b[39m.\u001b[39mHTTPStatusError(\n\u001b[1;32m    105\u001b[0m     message\u001b[39m=\u001b[39mmessage,\n\u001b[1;32m    106\u001b[0m     request\u001b[39m=\u001b[39m_sanitize_request(e\u001b[39m.\u001b[39mrequest),\n\u001b[1;32m    107\u001b[0m     response\u001b[39m=\u001b[39me\u001b[39m.\u001b[39mresponse,\n\u001b[1;32m    108\u001b[0m )\n",
      "\u001b[0;31mHTTPStatusError\u001b[0m: Client error '404 Not Found' for url 'http://127.0.0.1:8000/docugami_kg_rag/invoke'\nFor more information check: https://developer.mozilla.org/en-US/docs/Web/HTTP/Status/404 for {\"detail\":\"Not Found\"}"
     ]
    }
   ],
   "source": [
    "answer = rag_app.invoke(\n",
    "    {\n",
    "        \"input\": \"hello\",\n",
    "        \"chat_history\": [],\n",
    "    }\n",
    ")"
   ]
  },
  {
   "cell_type": "code",
   "execution_count": null,
   "metadata": {},
   "outputs": [],
   "source": []
  }
 ],
 "metadata": {
  "kernelspec": {
   "display_name": "docugami-kg-rag-hK4Q0mAq-py3.9",
   "language": "python",
   "name": "python3"
  },
  "language_info": {
   "codemirror_mode": {
    "name": "ipython",
    "version": 3
   },
   "file_extension": ".py",
   "mimetype": "text/x-python",
   "name": "python",
   "nbconvert_exporter": "python",
   "pygments_lexer": "ipython3",
   "version": "3.9.16"
  }
 },
 "nbformat": 4,
 "nbformat_minor": 2
}
