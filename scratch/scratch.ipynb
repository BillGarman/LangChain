{
 "cells": [
  {
   "cell_type": "markdown",
   "id": "eaabf25b",
   "metadata": {},
   "source": [
    "SCRATCH USE BY USER BLEAHEY\n",
    "REQUESTED TO BE LEFT OUT OF GITIGNORE, NOT FOR USE IN FINAL PULL REQUEST"
   ]
  },
  {
   "cell_type": "code",
   "execution_count": 6,
   "id": "d01216c0",
   "metadata": {},
   "outputs": [],
   "source": [
    "from langchain import OpenAI, SQLDatabase, SQLDatabaseChain\n",
    "from langchain.chains.sql_database.base import SQLDatabaseChain\n",
    "import os\n",
    "from config import config"
   ]
  },
  {
   "cell_type": "markdown",
   "id": "ef965094",
   "metadata": {},
   "source": [
    "First, let's load the language model we're going to use to control the agent."
   ]
  },
  {
   "cell_type": "code",
   "execution_count": 7,
   "id": "0728f0d9",
   "metadata": {},
   "outputs": [
    {
     "ename": "ValidationError",
     "evalue": "1 validation error for OpenAI\n__root__\n  Did not find openai_api_key, please add an environment variable `OPENAI_API_KEY` which contains it, or pass  `openai_api_key` as a named parameter. (type=value_error)",
     "output_type": "error",
     "traceback": [
      "\u001b[0;31m---------------------------------------------------------------------------\u001b[0m",
      "\u001b[0;31mValidationError\u001b[0m                           Traceback (most recent call last)",
      "Cell \u001b[0;32mIn[7], line 4\u001b[0m\n\u001b[1;32m      1\u001b[0m configuration \u001b[38;5;241m=\u001b[39m config()\n\u001b[1;32m      3\u001b[0m db \u001b[38;5;241m=\u001b[39m SQLDatabase\u001b[38;5;241m.\u001b[39mfrom_uri(\u001b[38;5;124m\"\u001b[39m\u001b[38;5;124msqlite:////Users/BrendanLeahey/Desktop/Independent/langchain/notebooks/Chinook.db\u001b[39m\u001b[38;5;124m\"\u001b[39m)\n\u001b[0;32m----> 4\u001b[0m llm \u001b[38;5;241m=\u001b[39m \u001b[43mOpenAI\u001b[49m\u001b[43m(\u001b[49m\u001b[43mtemperature\u001b[49m\u001b[38;5;241;43m=\u001b[39;49m\u001b[38;5;241;43m0\u001b[39;49m\u001b[43m,\u001b[49m\u001b[43m \u001b[49m\u001b[43mopenai_api_key\u001b[49m\u001b[38;5;241;43m=\u001b[39;49m\u001b[43mconfiguration\u001b[49m\u001b[38;5;241;43m.\u001b[39;49m\u001b[43mget_openai_api_key\u001b[49m\u001b[43m(\u001b[49m\u001b[43m)\u001b[49m\u001b[43m)\u001b[49m\n",
      "File \u001b[0;32m~/Desktop/Independent/langchain/.venv/lib/python3.9/site-packages/pydantic/main.py:342\u001b[0m, in \u001b[0;36mpydantic.main.BaseModel.__init__\u001b[0;34m()\u001b[0m\n",
      "\u001b[0;31mValidationError\u001b[0m: 1 validation error for OpenAI\n__root__\n  Did not find openai_api_key, please add an environment variable `OPENAI_API_KEY` which contains it, or pass  `openai_api_key` as a named parameter. (type=value_error)"
     ]
    }
   ],
   "source": [
    "configuration = config()\n",
    "\n",
    "db = SQLDatabase.from_uri(\"sqlite:////Users/BrendanLeahey/Desktop/Independent/langchain/notebooks/Chinook.db\")\n",
    "llm = OpenAI(temperature=0, openai_api_key=configuration.get_openai_api_key())"
   ]
  },
  {
   "cell_type": "code",
   "execution_count": 7,
   "id": "5a1b5a32",
   "metadata": {},
   "outputs": [],
   "source": [
    "db_chain = SQLDatabaseChain(max_tries=2,llm=llm, database=db, verbose=True)"
   ]
  },
  {
   "cell_type": "markdown",
   "id": "373361d5",
   "metadata": {},
   "source": [
    "Now let's test it out!"
   ]
  },
  {
   "cell_type": "code",
   "execution_count": 8,
   "id": "244ee75c",
   "metadata": {},
   "outputs": [
    {
     "ename": "NameError",
     "evalue": "name 'db_chain' is not defined",
     "output_type": "error",
     "traceback": [
      "\u001b[0;31m---------------------------------------------------------------------------\u001b[0m",
      "\u001b[0;31mNameError\u001b[0m                                 Traceback (most recent call last)",
      "Cell \u001b[0;32mIn[8], line 2\u001b[0m\n\u001b[1;32m      1\u001b[0m \u001b[38;5;66;03m#db_chain.run(\"SELECT * FROM Artist WHERE PlaylistID > 'value'\")\u001b[39;00m\n\u001b[0;32m----> 2\u001b[0m \u001b[43mdb_chain\u001b[49m\u001b[38;5;241m.\u001b[39mrun(\u001b[38;5;124m\"\u001b[39m\u001b[38;5;124mWho is the most popular artist?\u001b[39m\u001b[38;5;124m\"\u001b[39m)\n",
      "\u001b[0;31mNameError\u001b[0m: name 'db_chain' is not defined"
     ]
    }
   ],
   "source": [
    "#db_chain.run(\"SELECT * FROM Artist WHERE PlaylistID > 'value'\")\n",
    "db_chain.run(\"Who is the most popular artist?\")"
   ]
  }
 ],
 "metadata": {
  "kernelspec": {
   "display_name": "Python 3.9.9 ('.venv': poetry)",
   "language": "python",
   "name": "python3"
  },
  "language_info": {
   "codemirror_mode": {
    "name": "ipython",
    "version": 3
   },
   "file_extension": ".py",
   "mimetype": "text/x-python",
   "name": "python",
   "nbconvert_exporter": "python",
   "pygments_lexer": "ipython3",
   "version": "3.9.9"
  },
  "vscode": {
   "interpreter": {
    "hash": "3f856327ad2453871a81f92db69cb89e3539fde6700819c2956e9d23935c93c3"
   }
  }
 },
 "nbformat": 4,
 "nbformat_minor": 5
}
