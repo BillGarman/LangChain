{
 "cells": [
  {
   "cell_type": "code",
   "execution_count": 17,
   "metadata": {},
   "outputs": [],
   "source": [
    "from presidio import PresidioReversibleAnonymizer"
   ]
  },
  {
   "cell_type": "code",
   "execution_count": 18,
   "metadata": {},
   "outputs": [
    {
     "data": {
      "text/plain": [
       "{'PERSON': {'Gary Nash': 'Slim Shady'},\n",
       " 'PHONE_NUMBER': {'548-286-2839': '3134666440'},\n",
       " 'EMAIL_ADDRESS': {'alexadavis@example.org': 'real_shady@gmail.com'}}"
      ]
     },
     "execution_count": 18,
     "metadata": {},
     "output_type": "execute_result"
    }
   ],
   "source": [
    "text = (\n",
    "    \"My name is Slim Shady, call me at 3134666440 or email me at real_shady@gmail.com\"\n",
    ")\n",
    "text2 = \"I like Jan Kowalski - he is a good guy. His number is 666 000 4323. He lives in New York.\"\n",
    "\n",
    "anonymizer = PresidioReversibleAnonymizer()\n",
    "anonymizer.anonymize(text)\n",
    "anonymizer.deanonymizer_mapping"
   ]
  },
  {
   "cell_type": "code",
   "execution_count": 19,
   "metadata": {},
   "outputs": [
    {
     "data": {
      "text/plain": [
       "{'PERSON': {'Gary Nash': 'Slim Shady', 'Joanne Miller': 'Jan Kowalski'},\n",
       " 'PHONE_NUMBER': {'548-286-2839': '3134666440',\n",
       "  '001-554-779-5640x883': '666 000 4323'},\n",
       " 'EMAIL_ADDRESS': {'alexadavis@example.org': 'real_shady@gmail.com'},\n",
       " 'LOCATION': {'10133 Blanchard Avenue\\nCherryland, HI 93016': 'New York'}}"
      ]
     },
     "execution_count": 19,
     "metadata": {},
     "output_type": "execute_result"
    }
   ],
   "source": [
    "anonymizer.anonymize(text2)\n",
    "anonymizer.deanonymizer_mapping"
   ]
  },
  {
   "cell_type": "code",
   "execution_count": 20,
   "metadata": {},
   "outputs": [
    {
     "data": {
      "text/plain": [
       "{'PERSON': {'Gary Nash': 'Slim Shady',\n",
       "  'Joanne Miller': 'Jan Kowalski',\n",
       "  'William Smith': 'Jan Kowalski'},\n",
       " 'PHONE_NUMBER': {'548-286-2839': '3134666440',\n",
       "  '001-554-779-5640x883': '666 000 4323',\n",
       "  '(267)738-0426': '666 000 4323'},\n",
       " 'EMAIL_ADDRESS': {'alexadavis@example.org': 'real_shady@gmail.com'},\n",
       " 'LOCATION': {'10133 Blanchard Avenue\\nCherryland, HI 93016': 'New York',\n",
       "  '366 Lindsay Flat\\nOwensberg, MN 42555': 'New York'}}"
      ]
     },
     "execution_count": 20,
     "metadata": {},
     "output_type": "execute_result"
    }
   ],
   "source": [
    "anonymizer.anonymize(text2)\n",
    "anonymizer.deanonymizer_mapping"
   ]
  },
  {
   "cell_type": "code",
   "execution_count": 22,
   "metadata": {},
   "outputs": [],
   "source": [
    "censored_text = \"\"\"\n",
    "Gary Nash was a famous rapper. \n",
    "He was born in 1970 in 10133 Blanchard Avenue\\nCherryland, HI 93016. \n",
    "He is married to Joanne Miller.\n",
    "You can call him at 548-286-2839\n",
    "\"\"\""
   ]
  },
  {
   "cell_type": "code",
   "execution_count": 24,
   "metadata": {},
   "outputs": [
    {
     "name": "stdout",
     "output_type": "stream",
     "text": [
      "\n",
      "Slim Shady was a famous rapper. \n",
      "He was born in 1970 in New York. \n",
      "He is married to Jan Kowalski.\n",
      "You can call him at 3134666440\n",
      "\n"
     ]
    }
   ],
   "source": [
    "print(anonymizer.deanonymize(censored_text))"
   ]
  }
 ],
 "metadata": {
  "kernelspec": {
   "display_name": "langchain-py-env",
   "language": "python",
   "name": "python3"
  },
  "language_info": {
   "codemirror_mode": {
    "name": "ipython",
    "version": 3
   },
   "file_extension": ".py",
   "mimetype": "text/x-python",
   "name": "python",
   "nbconvert_exporter": "python",
   "pygments_lexer": "ipython3",
   "version": "3.11.4"
  },
  "orig_nbformat": 4
 },
 "nbformat": 4,
 "nbformat_minor": 2
}
