{
 "cells": [
  {
   "cell_type": "code",
   "execution_count": 13,
   "metadata": {},
   "outputs": [],
   "source": [
    "from presidio import PresidioReversibleAnonymizer"
   ]
  },
  {
   "cell_type": "code",
   "execution_count": 14,
   "metadata": {},
   "outputs": [
    {
     "data": {
      "text/plain": [
       "{'PERSON': {'Heather Cole': 'Slim Shady'},\n",
       " 'PHONE_NUMBER': {'001-952-820-5498': '3134666440'},\n",
       " 'EMAIL_ADDRESS': {'zbarrett@example.com': 'real_shady@gmail.com'}}"
      ]
     },
     "execution_count": 14,
     "metadata": {},
     "output_type": "execute_result"
    }
   ],
   "source": [
    "text = (\n",
    "    \"My name is Slim Shady, call me at 3134666440 or email me at real_shady@gmail.com\"\n",
    ")\n",
    "text2 = \"I like Jan Kowalski - he is a good guy. His number is 666 000 4323. He lives in New York.\"\n",
    "\n",
    "anonymizer = PresidioReversibleAnonymizer()\n",
    "anonymizer.anonymize(text)\n",
    "anonymizer.deanonymizer_mapping"
   ]
  },
  {
   "cell_type": "code",
   "execution_count": 15,
   "metadata": {},
   "outputs": [
    {
     "data": {
      "text/plain": [
       "{'PERSON': {'Heather Cole': 'Slim Shady', 'Breanna King': 'Jan Kowalski'},\n",
       " 'PHONE_NUMBER': {'001-952-820-5498': '3134666440',\n",
       "  '398.864.5653': '666 000 4323'},\n",
       " 'EMAIL_ADDRESS': {'zbarrett@example.com': 'real_shady@gmail.com'},\n",
       " 'LOCATION': {'518 Kimberly Islands Apt. 953\\nLake Robinfort, FL 69977': 'New York'}}"
      ]
     },
     "execution_count": 15,
     "metadata": {},
     "output_type": "execute_result"
    }
   ],
   "source": [
    "anonymizer.anonymize(text2)\n",
    "anonymizer.deanonymizer_mapping"
   ]
  },
  {
   "cell_type": "code",
   "execution_count": 16,
   "metadata": {},
   "outputs": [
    {
     "data": {
      "text/plain": [
       "{'PERSON': {'Heather Cole': 'Slim Shady',\n",
       "  'Breanna King': 'Jan Kowalski',\n",
       "  'Tiffany Heath': 'Jan Kowalski'},\n",
       " 'PHONE_NUMBER': {'001-952-820-5498': '3134666440',\n",
       "  '398.864.5653': '666 000 4323',\n",
       "  '995.990.5755': '666 000 4323'},\n",
       " 'EMAIL_ADDRESS': {'zbarrett@example.com': 'real_shady@gmail.com'},\n",
       " 'LOCATION': {'518 Kimberly Islands Apt. 953\\nLake Robinfort, FL 69977': 'New York',\n",
       "  '5571 David Stravenue\\nSouth Dianaview, AR 05650': 'New York'}}"
      ]
     },
     "execution_count": 16,
     "metadata": {},
     "output_type": "execute_result"
    }
   ],
   "source": [
    "anonymizer.anonymize(text2)\n",
    "anonymizer.deanonymizer_mapping"
   ]
  }
 ],
 "metadata": {
  "kernelspec": {
   "display_name": "langchain-py-env",
   "language": "python",
   "name": "python3"
  },
  "language_info": {
   "codemirror_mode": {
    "name": "ipython",
    "version": 3
   },
   "file_extension": ".py",
   "mimetype": "text/x-python",
   "name": "python",
   "nbconvert_exporter": "python",
   "pygments_lexer": "ipython3",
   "version": "3.11.4"
  },
  "orig_nbformat": 4
 },
 "nbformat": 4,
 "nbformat_minor": 2
}
