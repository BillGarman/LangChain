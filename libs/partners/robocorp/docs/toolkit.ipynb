{
 "cells": [
  {
   "cell_type": "raw",
   "id": "afaf8039",
   "metadata": {},
   "source": [
    "---\n",
    "sidebar_label: ActionServerToolkit\n",
    "---"
   ]
  },
  {
   "cell_type": "markdown",
   "id": "e49f1e0d",
   "metadata": {},
   "source": [
    "# Robocorp\n",
    "\n",
    "This notebook covers how to get started with Robocorp ActionServerToolkit.\n",
    "\n",
    "## Installation"
   ]
  },
  {
   "cell_type": "code",
   "execution_count": null,
   "id": "4c3bef91",
   "metadata": {
    "vscode": {
     "languageId": "shellscript"
    }
   },
   "outputs": [],
   "source": [
    "# install package and Action Server\n",
    "pip install -U langchain-robocorp robocorp-action-server"
   ]
  },
  {
   "cell_type": "markdown",
   "id": "8e2ca5c5",
   "metadata": {},
   "source": [
    "## Action Server setup\n",
    "\n",
    "You will need a running instance of the Action Server to communicate with from your agent application. You can bootstrap a new project using Action Server `new` command.\n"
   ]
  },
  {
   "cell_type": "code",
   "execution_count": null,
   "id": "9ee03a5d",
   "metadata": {
    "vscode": {
     "languageId": "shellscript"
    }
   },
   "outputs": [],
   "source": [
    "action-server new\n",
    "cd ./your-project-name\n",
    "action-server start"
   ]
  },
  {
   "cell_type": "markdown",
   "id": "2b4f3e15",
   "metadata": {},
   "source": [
    "## Environment Setup\n",
    "\n",
    "Optionally ypou can set the following environment variables:\n",
    "\n",
    "- `LANGCHAIN_TRACING_V2=true`: To enable LangSmith log run tracing that can also be bind to respective Action Server action run logs. See [LangSmith documentation](https://docs.smith.langchain.com/tracing#log-runs) for more.\n",
    "\n",
    "## Usage"
   ]
  },
  {
   "cell_type": "code",
   "execution_count": null,
   "id": "62e0dbc3",
   "metadata": {
    "tags": []
   },
   "outputs": [],
   "source": [
    "from langchain.agents import AgentExecutor, OpenAIFunctionsAgent\n",
    "from langchain.chat_models import ChatOpenAI\n",
    "from langchain_core.messages import SystemMessage\n",
    "\n",
    "from langchain_robocorp import ActionServerToolkit\n",
    "\n",
    "# Initialize LLM chat model\n",
    "llm = ChatOpenAI(model=\"gpt-4\", temperature=0)\n",
    "\n",
    "# Initialize Action Server Toolkit\n",
    "toolkit = ActionServerToolkit(url=\"http://localhost:8080\", report_trace=True)\n",
    "tools = toolkit.get_tools()\n",
    "\n",
    "# Initialize Agent\n",
    "system_message = SystemMessage(\n",
    "    content=\"You are a helpful assistant\"\n",
    ")\n",
    "prompt = OpenAIFunctionsAgent.create_prompt(system_message)\n",
    "agent = OpenAIFunctionsAgent(llm=llm,prompt=prompt,tools=tools)\n",
    "\n",
    "executor = AgentExecutor(agent=agent, tools=tools, verbose=True)\n",
    "\n",
    "\n",
    "executor.invoke(\"What is the current date?\")"
   ]
  },
  {
   "cell_type": "markdown",
   "id": "aa9fbbf5",
   "metadata": {},
   "source": [
    "# Single input tools\n",
    "\n",
    "By default `toolkit.get_tools()` will return the actions as Structured Tools. To return single input tools, pass a Chat model to be used for process the inputs."
   ]
  }
 ],
 "metadata": {
  "kernelspec": {
   "display_name": "Python 3 (ipykernel)",
   "language": "python",
   "name": "python3"
  },
  "language_info": {
   "codemirror_mode": {
    "name": "ipython",
    "version": 3
   },
   "file_extension": ".py",
   "mimetype": "text/x-python",
   "name": "python",
   "nbconvert_exporter": "python",
   "pygments_lexer": "ipython3",
   "version": "3.10.5"
  }
 },
 "nbformat": 4,
 "nbformat_minor": 5
}
