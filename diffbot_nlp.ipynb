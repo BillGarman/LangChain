{
 "cells": [
  {
   "cell_type": "code",
   "execution_count": 1,
   "id": "2cbf97d0-3682-439b-8750-b695ff726789",
   "metadata": {},
   "outputs": [],
   "source": [
    "from langchain.graph_transformers.diffbot import DiffbotNLPGraphTransformer\n",
    "from langchain.schema import Document"
   ]
  },
  {
   "cell_type": "code",
   "execution_count": 2,
   "id": "0f86f854-c360-49f3-a232-b4e10a4cbf23",
   "metadata": {},
   "outputs": [],
   "source": [
    "diffbot_nlp = DiffbotNLPGraphTransformer(diffbot_api_key=\"\")"
   ]
  },
  {
   "cell_type": "code",
   "execution_count": 3,
   "id": "0b2b6641-5a5d-467c-b148-e6aad5e4baa7",
   "metadata": {},
   "outputs": [],
   "source": [
    "from langchain.graphs import Neo4jGraph\n",
    "\n",
    "url=\"bolt://localhost:7687\"\n",
    "username=\"neo4j\"\n",
    "password=\"pleaseletmein\"\n",
    "\n",
    "graph = Neo4jGraph(\n",
    "    url=url,\n",
    "    username=username, \n",
    "    password=password\n",
    ")"
   ]
  },
  {
   "cell_type": "code",
   "execution_count": 4,
   "id": "53f8df86-47a1-44a1-9a0f-6725b90703bc",
   "metadata": {},
   "outputs": [
    {
     "name": "stdout",
     "output_type": "stream",
     "text": [
      "Leonhard Euler\n",
      "Barack Obama\n",
      "United States\n",
      "Neo4j\n",
      "Warcraft\n"
     ]
    }
   ],
   "source": [
    "from langchain.document_loaders import WikipediaLoader\n",
    "\n",
    "# No chunking because\n",
    "# Maximum of 100,000 characters per document and 1,000,000 total characters per API request.\n",
    "for query in [\"Leonhard Euler\", \"Barack Obama\", \"United States\", \"Neo4j\", \"Warcraft\"]:\n",
    "    raw_documents = WikipediaLoader(query=query).load()\n",
    "    graph_documents = diffbot_nlp.transform_documents(raw_documents)\n",
    "    graph.add_graph_documents(graph_documents)\n",
    "    print(query)"
   ]
  },
  {
   "cell_type": "code",
   "execution_count": 5,
   "id": "904c9ee3-787c-403f-857d-459ce5ad5a1b",
   "metadata": {},
   "outputs": [],
   "source": [
    "graph.refresh_schema()"
   ]
  },
  {
   "cell_type": "code",
   "execution_count": 6,
   "id": "9393b732-67c8-45c1-9ec2-089f49c62448",
   "metadata": {},
   "outputs": [],
   "source": [
    "import os\n",
    "from langchain.chains import GraphCypherQAChain\n",
    "from langchain.chat_models import ChatOpenAI\n",
    "\n",
    "os.environ['OPENAI_API_KEY'] = \"sk-\"\n",
    "\n",
    "chain = GraphCypherQAChain.from_llm(\n",
    "    ChatOpenAI(temperature=0), graph=graph, verbose=True,\n",
    ")\n",
    "     "
   ]
  },
  {
   "cell_type": "code",
   "execution_count": 12,
   "id": "1a9b3652-b436-404d-aa25-5fb576f23dc0",
   "metadata": {},
   "outputs": [
    {
     "name": "stdout",
     "output_type": "stream",
     "text": [
      "\n",
      "\n",
      "\u001b[1m> Entering new GraphCypherQAChain chain...\u001b[0m\n",
      "Generated Cypher:\n",
      "\u001b[32;1m\u001b[1;3mMATCH (p:Person {name: 'Leonhard Euler'})-[:ALL_PERSON_LOCATIONS]->(l:Location)\n",
      "RETURN l.name\u001b[0m\n",
      "Full Context:\n",
      "\u001b[32;1m\u001b[1;3m[{'l.name': 'Basel'}]\u001b[0m\n",
      "\n",
      "\u001b[1m> Finished chain.\u001b[0m\n"
     ]
    },
    {
     "data": {
      "text/plain": [
       "'Leonhard Euler was located in Basel.'"
      ]
     },
     "execution_count": 12,
     "metadata": {},
     "output_type": "execute_result"
    }
   ],
   "source": [
    "chain.run(\"Where was Leonhard Euler located?\")"
   ]
  },
  {
   "cell_type": "code",
   "execution_count": 8,
   "id": "adc0ba0f-a62c-4875-89ce-da717f3ab148",
   "metadata": {},
   "outputs": [
    {
     "name": "stdout",
     "output_type": "stream",
     "text": [
      "\n",
      "\n",
      "\u001b[1m> Entering new GraphCypherQAChain chain...\u001b[0m\n",
      "Generated Cypher:\n",
      "\u001b[32;1m\u001b[1;3mMATCH (p:Person {name: 'Leonhard Euler'})-[:FIELD_OF_WORK]->(s:Skill)\n",
      "RETURN s.name\u001b[0m\n",
      "Full Context:\n",
      "\u001b[32;1m\u001b[1;3m[{'s.name': 'complex analysis'}, {'s.name': 'analytic number theory'}]\u001b[0m\n",
      "\n",
      "\u001b[1m> Finished chain.\u001b[0m\n"
     ]
    },
    {
     "data": {
      "text/plain": [
       "\"Leonhard Euler's field of work included complex analysis and analytic number theory.\""
      ]
     },
     "execution_count": 8,
     "metadata": {},
     "output_type": "execute_result"
    }
   ],
   "source": [
    "chain.run(\"What is Leonhard Euler field of work?\")"
   ]
  },
  {
   "cell_type": "code",
   "execution_count": 9,
   "id": "659ba998-6199-4cef-80c2-4cfd73ba460e",
   "metadata": {},
   "outputs": [
    {
     "name": "stdout",
     "output_type": "stream",
     "text": [
      "\n",
      "\n",
      "\u001b[1m> Entering new GraphCypherQAChain chain...\u001b[0m\n",
      "Generated Cypher:\n",
      "\u001b[32;1m\u001b[1;3mMATCH (p:Person {name: 'Barack Obama'})-[:EDUCATED_AT]->(o:Organization)\n",
      "RETURN o.name\u001b[0m\n",
      "Full Context:\n",
      "\u001b[32;1m\u001b[1;3m[{'o.name': 'University of Hawaii'}, {'o.name': 'Punahou School'}, {'o.name': 'Columbia University'}, {'o.name': 'Harvard Law School'}, {'o.name': 'University of Chicago Law School'}, {'o.name': 'Maseno National School'}, {'o.name': 'Harvard University'}]\u001b[0m\n",
      "\n",
      "\u001b[1m> Finished chain.\u001b[0m\n"
     ]
    },
    {
     "data": {
      "text/plain": [
       "'Barack Obama attended the University of Hawaii, Punahou School, Columbia University, Harvard Law School, and the University of Chicago Law School.'"
      ]
     },
     "execution_count": 9,
     "metadata": {},
     "output_type": "execute_result"
    }
   ],
   "source": [
    "chain.run(\"Where did Barack Obama attend university?\")"
   ]
  },
  {
   "cell_type": "code",
   "execution_count": null,
   "id": "238925fc-af23-47c8-8aad-829eea464189",
   "metadata": {},
   "outputs": [],
   "source": []
  }
 ],
 "metadata": {
  "kernelspec": {
   "display_name": "Python 3 (ipykernel)",
   "language": "python",
   "name": "python3"
  },
  "language_info": {
   "codemirror_mode": {
    "name": "ipython",
    "version": 3
   },
   "file_extension": ".py",
   "mimetype": "text/x-python",
   "name": "python",
   "nbconvert_exporter": "python",
   "pygments_lexer": "ipython3",
   "version": "3.8.8"
  }
 },
 "nbformat": 4,
 "nbformat_minor": 5
}
