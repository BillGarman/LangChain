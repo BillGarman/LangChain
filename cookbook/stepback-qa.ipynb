{
 "cells": [
  {
   "cell_type": "code",
   "execution_count": null,
   "id": "7988c6f8",
   "metadata": {},
   "outputs": [],
   "source": []
  },
  {
   "cell_type": "code",
   "execution_count": null,
   "id": "e19e6d18",
   "metadata": {},
   "outputs": [],
   "source": [
    "!pip install kay"
   ]
  },
  {
   "cell_type": "code",
   "execution_count": 1,
   "id": "67b5cdac",
   "metadata": {},
   "outputs": [],
   "source": [
    "from langchain.chat_models import ChatAnthropic\n",
    "from langchain.prompts import ChatPromptTemplate\n",
    "from langchain.schema.output_parser import StrOutputParser"
   ]
  },
  {
   "cell_type": "code",
   "execution_count": 7,
   "id": "206415ee",
   "metadata": {},
   "outputs": [],
   "source": [
    "prompt = ChatPromptTemplate.from_messages([\n",
    "    (\"system\", \"\"\"You are an expert at world knowledge. Your task is to step back and paraphrase a question to a more generic step-back question, which is easier to answer. Here are a few examples:\"\"\"),\n",
    "    (\"user\", \"Could the members of The Police perform lawful arrests?\"),\n",
    "    (\"assistant\", \"what can the members of The Police do?\"),\n",
    "    (\"user\", \"Jan Sindel’s was born in what country?\"),\n",
    "    (\"assistant\", \"what is Jan Sindel’s personal history?\"),\n",
    "    (\"user\", \"{question}\"),\n",
    "])"
   ]
  },
  {
   "cell_type": "code",
   "execution_count": 8,
   "id": "d643a85c",
   "metadata": {},
   "outputs": [],
   "source": [
    "question_gen = prompt | ChatAnthropic() | StrOutputParser()"
   ]
  },
  {
   "cell_type": "code",
   "execution_count": 9,
   "id": "5992c8ca",
   "metadata": {},
   "outputs": [
    {
     "data": {
      "text/plain": [
       "' What are the differences between langchain and langsmith?'"
      ]
     },
     "execution_count": 9,
     "metadata": {},
     "output_type": "execute_result"
    }
   ],
   "source": [
    "question_gen.invoke({\"question\":\"how is langchain different than langsmith?\"})"
   ]
  },
  {
   "cell_type": "code",
   "execution_count": 28,
   "id": "fd27fd63",
   "metadata": {},
   "outputs": [
    {
     "name": "stdout",
     "output_type": "stream",
     "text": [
      "Collecting kay\n",
      "  Obtaining dependency information for kay from https://files.pythonhosted.org/packages/0a/98/a26cb7250bec7735383434d15a377a0b6f2fe385b2a0f5024d26c871ab3e/kay-0.1.2-py3-none-any.whl.metadata\n",
      "  Downloading kay-0.1.2-py3-none-any.whl.metadata (13 kB)\n",
      "Requirement already satisfied: requests>=2 in /Users/harrisonchase/.pyenv/versions/3.10.1/envs/langchain/lib/python3.10/site-packages (from kay) (2.28.2)\n",
      "Requirement already satisfied: charset-normalizer<4,>=2 in /Users/harrisonchase/.pyenv/versions/3.10.1/envs/langchain/lib/python3.10/site-packages (from requests>=2->kay) (3.1.0)\n",
      "Requirement already satisfied: idna<4,>=2.5 in /Users/harrisonchase/.pyenv/versions/3.10.1/envs/langchain/lib/python3.10/site-packages (from requests>=2->kay) (3.4)\n",
      "Requirement already satisfied: urllib3<1.27,>=1.21.1 in /Users/harrisonchase/.pyenv/versions/3.10.1/envs/langchain/lib/python3.10/site-packages (from requests>=2->kay) (1.26.16)\n",
      "Requirement already satisfied: certifi>=2017.4.17 in /Users/harrisonchase/.pyenv/versions/3.10.1/envs/langchain/lib/python3.10/site-packages (from requests>=2->kay) (2023.5.7)\n",
      "Downloading kay-0.1.2-py3-none-any.whl (9.1 kB)\n",
      "Installing collected packages: kay\n",
      "Successfully installed kay-0.1.2\n"
     ]
    }
   ],
   "source": []
  },
  {
   "cell_type": "code",
   "execution_count": 29,
   "id": "32667424",
   "metadata": {},
   "outputs": [],
   "source": [
    "from langchain.retrievers import KayAiRetriever\n",
    "\n",
    "retriever = KayAiRetriever.create(dataset_id=\"company\", data_types=[\"10-K\", \"10-Q\"], num_contexts=6)\n"
   ]
  },
  {
   "cell_type": "code",
   "execution_count": 30,
   "id": "b257bc06",
   "metadata": {},
   "outputs": [],
   "source": [
    "response_prompt_template = \"\"\"You are an expert of world knowledge. I am going to ask you a question. Your response should be comprehensive and not contradicted with the following context if they are relevant. Otherwise, ignore them if they are not relevant.\n",
    "\n",
    "{normal_context}\n",
    "{step_back_context}\n",
    "\n",
    "Original Question: {question}\n",
    "Answer:\"\"\"\n",
    "response_prompt = ChatPromptTemplate.from_template(response_prompt_template)"
   ]
  },
  {
   "cell_type": "code",
   "execution_count": 31,
   "id": "97a6d5ab",
   "metadata": {},
   "outputs": [],
   "source": [
    "chain = {\n",
    "    \"normal_context\": (lambda x: x['question']) | retriver | (lambda x: x[:3]),\n",
    "    \"step_back_context\": question_gen | retriver | (lambda x: x[:3]),\n",
    "    \"question\": lambda x: x[\"question\"]\n",
    "} | response_prompt | ChatAnthropic() | StrOutputParser()"
   ]
  },
  {
   "cell_type": "code",
   "execution_count": 33,
   "id": "ce554cb0",
   "metadata": {},
   "outputs": [
    {
     "data": {
      "text/plain": [
       "\" Based on the provided context documents and information, it appears that Etsy generates significantly more revenue than Pinterest. The key points are:\\n\\n- Etsy generated $2.5 billion in revenue in 2022, while Pinterest generated $2.58 billion in revenue in 2022. \\n\\n- Etsy is an e-commerce marketplace that generates revenue through seller fees and commissions on transactions. Pinterest is an image sharing and discovery platform that generates revenue primarily through advertising.\\n\\n- Etsy has experienced strong revenue growth in recent years, increasing 10.1% year-over-year in 2022. Pinterest's revenue grew 8% year-over-year in 2022.\\n\\n- Etsy has over 7 million active sellers on its marketplace platform, while Pinterest does not facilitate transactions or have sellers. \\n\\n- The business models and revenue sources are very different between the two companies, but the available revenue numbers indicate Etsy generates more total revenue than Pinterest.\\n\\nIn summary, the data indicates that Etsy has significantly higher total revenue compared to Pinterest, driven by its e-commerce marketplace model that facilitates transactions between buyers and sellers.\""
      ]
     },
     "execution_count": 33,
     "metadata": {},
     "output_type": "execute_result"
    }
   ],
   "source": [
    "chain.invoke({\"question\": \"who has more revenue etsy or pinterest?\"})"
   ]
  },
  {
   "cell_type": "code",
   "execution_count": null,
   "id": "a18d3f40",
   "metadata": {},
   "outputs": [],
   "source": []
  }
 ],
 "metadata": {
  "kernelspec": {
   "display_name": "Python 3 (ipykernel)",
   "language": "python",
   "name": "python3"
  },
  "language_info": {
   "codemirror_mode": {
    "name": "ipython",
    "version": 3
   },
   "file_extension": ".py",
   "mimetype": "text/x-python",
   "name": "python",
   "nbconvert_exporter": "python",
   "pygments_lexer": "ipython3",
   "version": "3.10.1"
  }
 },
 "nbformat": 4,
 "nbformat_minor": 5
}
