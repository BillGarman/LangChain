{
 "cells": [
  {
   "cell_type": "markdown",
   "id": "f1571abe-8e84-44d1-b222-e4121fdbb4be",
   "metadata": {},
   "source": [
    "# Advanced RAG Eval\n",
    "\n",
    "The cookbook walks through the process of running eval(s) on advanced RAG. \n",
    "\n",
    "This can be very useful to determine the best RAG approach for your application."
   ]
  },
  {
   "cell_type": "code",
   "execution_count": null,
   "id": "0d8415ee-709c-407f-9ac2-f03a9d697aaf",
   "metadata": {},
   "outputs": [],
   "source": [
    "! pip install -U langchain openai chromadb langchain-experimental # (newest versions required for multi-modal)"
   ]
  },
  {
   "cell_type": "code",
   "execution_count": null,
   "id": "191f8465-fd6b-4017-8f0e-d284971b45ae",
   "metadata": {},
   "outputs": [],
   "source": [
    "# lock to 0.10.19 due to a persistent bug in more recent versions\n",
    "! pip install \"unstructured[all-docs]==0.10.19\" pillow pydantic lxml pillow matplotlib tiktoken open_clip_torch torch"
   ]
  },
  {
   "cell_type": "markdown",
   "id": "8a628a04-bf1e-4611-83de-a6e3e9077d3a",
   "metadata": {},
   "source": [
    "## Data Loading\n",
    "\n",
    "Let's look at an [example whitepaper](https://sgp.fas.org/crs/misc/IF10244.pdf) that provides a mixture of tables, text, and images about Wildfires in the US."
   ]
  },
  {
   "cell_type": "code",
   "execution_count": 1,
   "id": "4153a375-5ff8-4e67-914f-f99c9c2c3ff5",
   "metadata": {},
   "outputs": [],
   "source": [
    "path = \"/Users/rlm/Desktop/wildfire_stats/\""
   ]
  },
  {
   "cell_type": "markdown",
   "id": "961a42b9-c16b-472e-b994-3c3f73afbbcb",
   "metadata": {},
   "source": [
    "### Option 1: Load text"
   ]
  },
  {
   "cell_type": "code",
   "execution_count": 53,
   "id": "12f24fc0-c176-4201-982b-8a84b278ff1b",
   "metadata": {},
   "outputs": [],
   "source": [
    "# Load\n",
    "from langchain.document_loaders import PyPDFLoader\n",
    "loader = PyPDFLoader(path + \"wildfire_stats.pdf\")\n",
    "pdf_pages = loader.load()\n",
    "\n",
    "# Split\n",
    "from langchain.text_splitter import RecursiveCharacterTextSplitter\n",
    "text_splitter = RecursiveCharacterTextSplitter(chunk_size=500, chunk_overlap=0)\n",
    "all_splits_pypdf = text_splitter.split_documents(pdf_pages)\n",
    "all_splits_pypdf_texts = [d.page_content for d in all_splits_pypdf]"
   ]
  },
  {
   "cell_type": "markdown",
   "id": "92fc1870-1836-4bc3-945a-78e2c16ad823",
   "metadata": {},
   "source": [
    "### Option 2: Load text, tables, images \n",
    "\n"
   ]
  },
  {
   "cell_type": "code",
   "execution_count": null,
   "id": "7d863632-f894-4471-b4cc-a1d9aa834d29",
   "metadata": {},
   "outputs": [],
   "source": [
    "from unstructured.partition.pdf import partition_pdf\n",
    "\n",
    "# Extract images, tables, and chunk text\n",
    "raw_pdf_elements = partition_pdf(\n",
    "    filename=path + \"wildfire_stats.pdf\",\n",
    "    extract_images_in_pdf=True,\n",
    "    infer_table_structure=True,\n",
    "    chunking_strategy=\"by_title\",\n",
    "    max_characters=4000,\n",
    "    new_after_n_chars=3800,\n",
    "    combine_text_under_n_chars=2000,\n",
    "    image_output_dir_path=path,\n",
    ")\n",
    "\n",
    "# Categorize by type\n",
    "tables = []\n",
    "texts = []\n",
    "for element in raw_pdf_elements:\n",
    "    if \"unstructured.documents.elements.Table\" in str(type(element)):\n",
    "        tables.append(str(element))\n",
    "    elif \"unstructured.documents.elements.CompositeElement\" in str(type(element)):\n",
    "        texts.append(str(element))"
   ]
  },
  {
   "cell_type": "markdown",
   "id": "65f399c5-bd91-4ed4-89c6-c89d2e17466e",
   "metadata": {},
   "source": [
    "## Store\n",
    "\n",
    "### Option 1: Embed, store text chunks"
   ]
  },
  {
   "cell_type": "code",
   "execution_count": 54,
   "id": "7d7ecdb2-0bb5-46b8-bcff-af8fc272e88e",
   "metadata": {},
   "outputs": [],
   "source": [
    "from langchain.vectorstores import Chroma\n",
    "from langchain.embeddings import OpenAIEmbeddings\n",
    "baseline = Chroma.from_texts(texts=all_splits_pypdf_texts,\n",
    "                             collection_name=\"baseline\",\n",
    "                             embedding=OpenAIEmbeddings())\n",
    "retriever_baseline=baseline.as_retriever()"
   ]
  },
  {
   "cell_type": "markdown",
   "id": "6a0eaefe-5e4b-4853-94c7-5abd6f7fbeac",
   "metadata": {},
   "source": [
    "### Option 2: Multi-vector retriever\n",
    "\n",
    "#### Text Summary"
   ]
  },
  {
   "cell_type": "code",
   "execution_count": 6,
   "id": "3d4b4b43-e96e-48ab-899d-c39d0430562e",
   "metadata": {},
   "outputs": [],
   "source": [
    "from langchain.chat_models import ChatOpenAI\n",
    "from langchain.prompts import ChatPromptTemplate\n",
    "from langchain.schema.output_parser import StrOutputParser\n",
    "\n",
    "# Prompt\n",
    "prompt_text = \"\"\"You are an assistant tasked with summarizing tables and text. \\ \n",
    "Give a concise summary of the table or text. Table or text chunk: {element} \"\"\"\n",
    "prompt = ChatPromptTemplate.from_template(prompt_text)\n",
    "\n",
    "# Text summary chain\n",
    "model = ChatOpenAI(temperature=0, model=\"gpt-4\")\n",
    "summarize_chain = {\"element\": lambda x: x} | prompt | model | StrOutputParser()\n",
    "\n",
    "# Apply to text \n",
    "text_summaries = texts # Skip text summarization\n",
    "\n",
    "# Apply to tables\n",
    "table_summaries = summarize_chain.batch(tables, {\"max_concurrency\": 5})"
   ]
  },
  {
   "cell_type": "markdown",
   "id": "bdb5c903-5b4c-4ddb-8f9a-e20f5155dfb9",
   "metadata": {},
   "source": [
    "#### Image Summary"
   ]
  },
  {
   "cell_type": "code",
   "execution_count": 8,
   "id": "4570578c-531b-422c-bedd-cc519d9b7887",
   "metadata": {},
   "outputs": [],
   "source": [
    "# Image summary chain\n",
    "import os, base64, io\n",
    "from io import BytesIO\n",
    "from PIL import Image\n",
    "from langchain.schema.messages import HumanMessage\n",
    "\n",
    "def encode_image(image_path):\n",
    "    ''' Getting the base64 string '''\n",
    "    with open(image_path, \"rb\") as image_file:\n",
    "        return base64.b64encode(image_file.read()).decode('utf-8') \n",
    "\n",
    "def image_summarize(img_base64,prompt):\n",
    "    ''' Image summary '''\n",
    "    chat = ChatOpenAI(model=\"gpt-4-vision-preview\",\n",
    "                      max_tokens=1024)\n",
    "    \n",
    "    msg = chat.invoke(\n",
    "        [\n",
    "            HumanMessage(\n",
    "                content=[\n",
    "                    {\"type\": \"text\", \"text\":prompt},\n",
    "                    {\n",
    "                        \"type\": \"image_url\",\n",
    "                        \"image_url\": {\n",
    "                            \"url\": f\"data:image/jpeg;base64,{img_base64}\"\n",
    "                        },\n",
    "                    },\n",
    "                ]\n",
    "            )\n",
    "        ]\n",
    "    )\n",
    "    return msg.content\n",
    "\n",
    "# Store base64 encoded images\n",
    "img_base64_list = []\n",
    "\n",
    "# Store image summaries\n",
    "image_summaries = []\n",
    "\n",
    "# Prompt\n",
    "prompt = \"Describe the image in detail. Be specific about graphs, such as bar and line plots.\" \n",
    "\n",
    "# Apply to images\n",
    "for img_file in sorted(os.listdir(path)):\n",
    "    if img_file.endswith('.jpg'):\n",
    "        img_path = os.path.join(path, img_file)\n",
    "        base64_image = encode_image(img_path)\n",
    "        img_base64_list.append(base64_image)\n",
    "        image_summaries.append(image_summarize(base64_image,prompt))"
   ]
  },
  {
   "cell_type": "markdown",
   "id": "87e03f07-4c82-4743-a3c6-d0597fb55107",
   "metadata": {},
   "source": [
    "### Option 2a: Multi-vector retriever w/ raw images\n",
    "\n",
    "* Return images to LLM for answer synthesis"
   ]
  },
  {
   "cell_type": "code",
   "execution_count": 11,
   "id": "6bf8a07d-203f-4397-8b0b-a84ec4d0adab",
   "metadata": {},
   "outputs": [],
   "source": [
    "import uuid\n",
    "from base64 import b64decode\n",
    "from langchain.storage import InMemoryStore\n",
    "from langchain.schema.document import Document\n",
    "from langchain.retrievers.multi_vector import MultiVectorRetriever\n",
    "\n",
    "def create_multi_vector_retriever(vectorstore, \n",
    "                                  text_summaries, \n",
    "                                  texts, \n",
    "                                  table_summaries, \n",
    "                                  tables, \n",
    "                                  image_summaries, \n",
    "                                  images):\n",
    "    \n",
    "    # Initialize the storage layer\n",
    "    store = InMemoryStore()\n",
    "    id_key = \"doc_id\"\n",
    "\n",
    "    # Create the multi-vector retriever\n",
    "    retriever = MultiVectorRetriever(\n",
    "        vectorstore=vectorstore,\n",
    "        docstore=store,\n",
    "        id_key=id_key,\n",
    "    )\n",
    "\n",
    "    # Helper function to add documents to the vectorstore and docstore\n",
    "    def add_documents(retriever, doc_summaries, doc_contents):\n",
    "        doc_ids = [str(uuid.uuid4()) for _ in doc_contents]\n",
    "        summary_docs = [\n",
    "            Document(page_content=s, metadata={id_key: doc_ids[i]})\n",
    "            for i, s in enumerate(doc_summaries)\n",
    "        ]\n",
    "        retriever.vectorstore.add_documents(summary_docs)\n",
    "        retriever.docstore.mset(list(zip(doc_ids, doc_contents)))\n",
    "\n",
    "    # Add texts, tables, and images\n",
    "    add_documents(retriever, text_summaries, texts)\n",
    "    add_documents(retriever, table_summaries, tables)\n",
    "    add_documents(retriever, image_summaries, images)\n",
    "\n",
    "    return retriever\n",
    "\n",
    "# The vectorstore to use to index the summaries\n",
    "multi_vector_img = Chroma(collection_name=\"multi_vector_img\", \n",
    "                     embedding_function=OpenAIEmbeddings())\n",
    "\n",
    "# Create retriever\n",
    "retriever_multi_vector_img = create_multi_vector_retriever(multi_vector_img,\n",
    "                              text_summaries,\n",
    "                              texts,\n",
    "                              table_summaries, \n",
    "                              tables, \n",
    "                              image_summaries, \n",
    "                              img_base64_list)"
   ]
  },
  {
   "cell_type": "code",
   "execution_count": 98,
   "id": "84d5b4ea-51b8-49cf-8ad1-db8f7a50e3cf",
   "metadata": {},
   "outputs": [],
   "source": [
    "from IPython.display import display, HTML\n",
    "def plt_img_base64(img_base64):\n",
    "\n",
    "    # Create an HTML img tag with the base64 string as the source\n",
    "    image_html = f'<img src=\"data:image/jpeg;base64,{img_base64}\" />'\n",
    "    \n",
    "    # Display the image by rendering the HTML\n",
    "    display(HTML(image_html))"
   ]
  },
  {
   "cell_type": "code",
   "execution_count": 99,
   "id": "fc507975-a8b0-46e0-88a8-c8173c7262af",
   "metadata": {},
   "outputs": [
    {
     "data": {
      "text/html": [
       "<img src=\"data:image/jpeg;base64,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\" />"
      ],
      "text/plain": [
       "<IPython.core.display.HTML object>"
      ]
     },
     "metadata": {},
     "output_type": "display_data"
    }
   ],
   "source": [
    "# Testing on retrieval \n",
    "query=\"How many acres burned due to wildfires in 2015 and how many files were there?\"\n",
    "adapter=\" Use any related charts or figures, if present.\"\n",
    "docs = retriever_multi_vector_img.get_relevant_documents(query+adapter)\n",
    "plt_img_base64(docs[0])"
   ]
  },
  {
   "cell_type": "markdown",
   "id": "48b268ec-db04-4107-9833-ea1615f6dbd1",
   "metadata": {},
   "source": [
    "### Option 2b: Multi-vector retriever w/ image summaries\n",
    "\n",
    "* Return text summary of images to LLM for answer synthesis"
   ]
  },
  {
   "cell_type": "code",
   "execution_count": 15,
   "id": "ae57c804-0dd1-4806-b761-a913efc4f173",
   "metadata": {},
   "outputs": [],
   "source": [
    "# The vectorstore to use to index the summaries\n",
    "multi_vector_text = Chroma(collection_name=\"multi_vector_text\", \n",
    "                           embedding_function=OpenAIEmbeddings())\n",
    "\n",
    "# Create retriever\n",
    "retriever_multi_vector_img_summary = create_multi_vector_retriever(multi_vector_text,\n",
    "                              text_summaries,\n",
    "                              texts,\n",
    "                              table_summaries, \n",
    "                              tables, \n",
    "                              image_summaries, \n",
    "                              image_summaries)"
   ]
  },
  {
   "cell_type": "markdown",
   "id": "580a3d55-5025-472d-9c14-cec7a384379f",
   "metadata": {},
   "source": [
    "### Option 3: Multi-modal embeddings"
   ]
  },
  {
   "cell_type": "code",
   "execution_count": 19,
   "id": "8dbed5dc-f7a3-4324-9436-1c3ebc24f9fd",
   "metadata": {},
   "outputs": [],
   "source": [
    "from langchain_experimental.open_clip import OpenCLIPEmbeddings\n",
    "\n",
    "# Create chroma w/ multi-modal embeddings\n",
    "multimodal_embd = Chroma(\n",
    "    collection_name=\"multimodal_embd\",\n",
    "    embedding_function=OpenCLIPEmbeddings()\n",
    ")\n",
    "\n",
    "# Get image URIs\n",
    "image_uris = sorted([os.path.join(path, image_name) \n",
    "                     for image_name in os.listdir(path) \n",
    "                     if image_name.endswith('.jpg')])\n",
    "\n",
    "# Add images and documents\n",
    "multimodal_embd.add_images(uris=image_uris)\n",
    "multimodal_embd.add_texts(texts=texts)\n",
    "multimodal_embd.add_texts(texts=tables)\n",
    "\n",
    "# Make retriever \n",
    "retriever_multimodal_embd = multimodal_embd.as_retriever()"
   ]
  },
  {
   "cell_type": "markdown",
   "id": "647abb6c-adf3-4d29-acd2-885c4925fa12",
   "metadata": {},
   "source": [
    "## RAG\n",
    "\n",
    "### Text Pipeline"
   ]
  },
  {
   "cell_type": "code",
   "execution_count": 56,
   "id": "73440ca0-4330-4c16-9d9d-6f27c249ae58",
   "metadata": {},
   "outputs": [],
   "source": [
    "from operator import itemgetter\n",
    "from langchain.schema.runnable import RunnablePassthrough\n",
    "\n",
    "# Prompt\n",
    "template = \"\"\"Answer the question based only on the following context, which can include text and tables:\n",
    "{context}\n",
    "Question: {question}\n",
    "\"\"\"\n",
    "rag_prompt_text = ChatPromptTemplate.from_template(template)\n",
    "\n",
    "# Build \n",
    "def text_rag_chain(retriever):\n",
    "    \n",
    "    ''' RAG chain '''\n",
    "\n",
    "    # LLM\n",
    "    model = ChatOpenAI(temperature=0, model=\"gpt-4\")\n",
    "    \n",
    "    # RAG pipeline\n",
    "    chain = (\n",
    "        {\"context\": retriever, \"question\": RunnablePassthrough()}\n",
    "        | rag_prompt_text\n",
    "        | model\n",
    "        | StrOutputParser()\n",
    "    )\n",
    "\n",
    "    return chain"
   ]
  },
  {
   "cell_type": "markdown",
   "id": "14b358ad-42fd-4c6d-b2c0-215dba135707",
   "metadata": {},
   "source": [
    "### Multi-modal Pipeline"
   ]
  },
  {
   "cell_type": "code",
   "execution_count": 73,
   "id": "ae89ce84-283e-4634-8169-9ff16f152807",
   "metadata": {},
   "outputs": [],
   "source": [
    "import re \n",
    "from langchain.schema import Document\n",
    "from langchain.schema.runnable import RunnableLambda\n",
    "\n",
    "def looks_like_base64(sb):\n",
    "    \"\"\"Check if the string looks like base64.\"\"\"\n",
    "    return re.match('^[A-Za-z0-9+/]+[=]{0,2}$', sb) is not None\n",
    "\n",
    "def is_image_data(b64data):\n",
    "    \"\"\"Check if the base64 data is an image by looking at the start of the data.\"\"\"\n",
    "    image_signatures = {\n",
    "        b\"\\xFF\\xD8\\xFF\": \"jpg\",\n",
    "        b\"\\x89\\x50\\x4E\\x47\\x0D\\x0A\\x1A\\x0A\": \"png\",\n",
    "        b\"\\x47\\x49\\x46\\x38\": \"gif\",\n",
    "        b\"\\x52\\x49\\x46\\x46\": \"webp\"\n",
    "    }\n",
    "    try:\n",
    "        header = base64.b64decode(b64data)[:8]  # Decode and get the first 8 bytes\n",
    "        for sig, format in image_signatures.items():\n",
    "            if header.startswith(sig):\n",
    "                return True\n",
    "        return False\n",
    "    except Exception:\n",
    "        return False\n",
    "\n",
    "def split_image_text_types(docs):\n",
    "    \"\"\"Split base64-encoded images and texts.\"\"\"\n",
    "    b64_images = []\n",
    "    texts = []\n",
    "    for doc in docs:\n",
    "        # Check if the document is of type Document and extract page_content if so\n",
    "        if isinstance(doc, Document):\n",
    "            doc = doc.page_content\n",
    "        if looks_like_base64(doc) and is_image_data(doc):\n",
    "            b64_images.append(doc)\n",
    "        else:\n",
    "            texts.append(doc)\n",
    "    return {\"images\": b64_images, \"texts\": texts}\n",
    "\n",
    "def img_prompt_func(data_dict):\n",
    "    # Joining the context texts into a single string\n",
    "    formatted_texts = \"\\n\".join(data_dict[\"context\"][\"texts\"])\n",
    "    messages = []\n",
    "\n",
    "    # Adding image(s) to the messages if present\n",
    "    if data_dict[\"context\"][\"images\"]:\n",
    "        image_message = {\n",
    "            \"type\": \"image_url\",\n",
    "            \"image_url\": {\n",
    "                \"url\": f\"data:image/jpeg;base64,{data_dict['context']['images'][0]}\"\n",
    "            }\n",
    "        }\n",
    "        messages.append(image_message)\n",
    "\n",
    "    # Adding the text message for analysis\n",
    "    text_message = {\n",
    "        \"type\": \"text\",\n",
    "        \"text\": (\n",
    "            \"Answer the question based only on the provided context, which can include text, tables, and image(s). \"\n",
    "            \"If an image is provided, analyze it carefully to help answer the question.\\n\"\n",
    "            f\"User-provided question / keywords: {data_dict['question']}\\n\\n\"\n",
    "            \"Text and / or tables:\\n\"\n",
    "            f\"{formatted_texts}\"\n",
    "        )\n",
    "    }\n",
    "    messages.append(text_message)\n",
    "    return [HumanMessage(content=messages)]\n",
    "\n",
    "def multi_modal_rag_chain(retriever):\n",
    "    ''' Multi-modal RAG chain '''\n",
    "\n",
    "    # Multi-modal LLM\n",
    "    model = ChatOpenAI(temperature=0, \n",
    "                       model=\"gpt-4-vision-preview\", \n",
    "                       max_tokens=1024)\n",
    "    \n",
    "    # RAG pipeline\n",
    "    chain = (\n",
    "        {\"context\": retriever | RunnableLambda(split_image_text_types), \"question\": RunnablePassthrough()}\n",
    "        | RunnableLambda(img_prompt_func)\n",
    "        | model\n",
    "        | StrOutputParser()\n",
    "    )\n",
    "\n",
    "    return chain"
   ]
  },
  {
   "cell_type": "markdown",
   "id": "5e8b0e26-bb7e-420a-a7bd-8512b7eef92f",
   "metadata": {},
   "source": [
    "### Build RAG Pipelines"
   ]
  },
  {
   "cell_type": "code",
   "execution_count": 75,
   "id": "4f1ec8a9-f0fe-4f08-928f-23504803897c",
   "metadata": {},
   "outputs": [],
   "source": [
    "# RAG chains\n",
    "chain_baseline=text_rag_chain(retriever_baseline)\n",
    "chain_mv_text=text_rag_chain(retriever_multi_vector_img_summary)\n",
    "\n",
    "# Multi-modal RAG chains\n",
    "chain_multimodal_mv_img=multi_modal_rag_chain(retriever_multi_vector_img)\n",
    "chain_multimodal_embd=multi_modal_rag_chain(retriever_multimodal_embd)"
   ]
  },
  {
   "cell_type": "markdown",
   "id": "448d943c-a1b1-4300-9197-891a03232ee4",
   "metadata": {},
   "source": [
    "## Eval set"
   ]
  },
  {
   "cell_type": "code",
   "execution_count": 77,
   "id": "9aabf72f-26be-437f-9372-b06dc2509235",
   "metadata": {},
   "outputs": [
    {
     "data": {
      "text/html": [
       "<div>\n",
       "<style scoped>\n",
       "    .dataframe tbody tr th:only-of-type {\n",
       "        vertical-align: middle;\n",
       "    }\n",
       "\n",
       "    .dataframe tbody tr th {\n",
       "        vertical-align: top;\n",
       "    }\n",
       "\n",
       "    .dataframe thead th {\n",
       "        text-align: right;\n",
       "    }\n",
       "</style>\n",
       "<table border=\"1\" class=\"dataframe\">\n",
       "  <thead>\n",
       "    <tr style=\"text-align: right;\">\n",
       "      <th></th>\n",
       "      <th>Question</th>\n",
       "      <th>Answer</th>\n",
       "      <th>Source</th>\n",
       "    </tr>\n",
       "  </thead>\n",
       "  <tbody>\n",
       "    <tr>\n",
       "      <th>0</th>\n",
       "      <td>How many acres burned due to wildfires in 2015...</td>\n",
       "      <td>10.13 million acres burned in 2015 due to 68.2...</td>\n",
       "      <td>Image</td>\n",
       "    </tr>\n",
       "    <tr>\n",
       "      <th>1</th>\n",
       "      <td>How many fires were there on department of int...</td>\n",
       "      <td>There were 7 thousand fires on DOI land in 2018.</td>\n",
       "      <td>Table</td>\n",
       "    </tr>\n",
       "    <tr>\n",
       "      <th>2</th>\n",
       "      <td>How many acres burned on department of interio...</td>\n",
       "      <td>There were 2.3 million acres burned on DOI lan...</td>\n",
       "      <td>Table</td>\n",
       "    </tr>\n",
       "  </tbody>\n",
       "</table>\n",
       "</div>"
      ],
      "text/plain": [
       "                                            Question  \\\n",
       "0  How many acres burned due to wildfires in 2015...   \n",
       "1  How many fires were there on department of int...   \n",
       "2  How many acres burned on department of interio...   \n",
       "\n",
       "                                              Answer Source  \n",
       "0  10.13 million acres burned in 2015 due to 68.2...  Image  \n",
       "1   There were 7 thousand fires on DOI land in 2018.  Table  \n",
       "2  There were 2.3 million acres burned on DOI lan...  Table  "
      ]
     },
     "execution_count": 77,
     "metadata": {},
     "output_type": "execute_result"
    }
   ],
   "source": [
    "# Read\n",
    "import pandas as pd\n",
    "eval_set = pd.read_csv(path+'wildfire_stats_eval.csv')\n",
    "eval_set.head(3)"
   ]
  },
  {
   "cell_type": "code",
   "execution_count": 81,
   "id": "7fdeb77a-e185-47d2-a93f-822f1fc810a2",
   "metadata": {},
   "outputs": [],
   "source": [
    "from langsmith import Client\n",
    "\n",
    "# Dataset\n",
    "client = Client()\n",
    "dataset_name = f\"Wildfire Eval {str(uuid.uuid4())}\"\n",
    "dataset = client.create_dataset(dataset_name=dataset_name)\n",
    "\n",
    "# Populate dataset\n",
    "for _, row in eval_set.iterrows():\n",
    "    # Get Q, A\n",
    "    q = row['Question']\n",
    "    a = row['Answer']\n",
    "    # Use the values in your function\n",
    "    client.create_example(inputs={\"question\": q}, \n",
    "                          outputs={\"answer\": a}, \n",
    "                          dataset_id=dataset.id)"
   ]
  },
  {
   "cell_type": "code",
   "execution_count": 84,
   "id": "3c4faf4b-f29f-4a42-9cf2-bfbb5158ab59",
   "metadata": {},
   "outputs": [
    {
     "name": "stdout",
     "output_type": "stream",
     "text": [
      "View the evaluation results for project 'Wildfire Eval fe299812-f933-4167-a660-8436aea6c762-baseline' at:\n",
      "https://smith.langchain.com/o/1fa8b1f4-fcb9-4072-9aa9-983e35ad61b8/projects/p/4d9e4562-a129-4ecc-b535-dd87139d927f?eval=true\n",
      "\n",
      "View all tests for Dataset Wildfire Eval fe299812-f933-4167-a660-8436aea6c762 at:\n",
      "https://smith.langchain.com/datasets/97bf1df8-d8ea-4331-b78f-05dae6cefc5e\n",
      "[>                                                 ] 0/6"
     ]
    },
    {
     "name": "stderr",
     "output_type": "stream",
     "text": [
      "WARNING:urllib3.connectionpool:Retrying (Retry(total=2, connect=None, read=None, redirect=None, status=None)) after connection broken by 'ReadTimeoutError(\"HTTPSConnectionPool(host='api.smith.langchain.com', port=443): Read timed out. (read timeout=7.0)\")': /runs/d3878620-edbc-4cbd-82c0-4b27ad77a0f0\n",
      "WARNING:urllib3.connectionpool:Retrying (Retry(total=2, connect=None, read=None, redirect=None, status=None)) after connection broken by 'ReadTimeoutError(\"HTTPSConnectionPool(host='api.smith.langchain.com', port=443): Read timed out. (read timeout=7.0)\")': /runs/0f235871-2d41-4f1f-af2a-d73766740ecd\n",
      "WARNING:urllib3.connectionpool:Retrying (Retry(total=2, connect=None, read=None, redirect=None, status=None)) after connection broken by 'ReadTimeoutError(\"HTTPSConnectionPool(host='api.smith.langchain.com', port=443): Read timed out. (read timeout=7.0)\")': /runs/a7fb56ef-c961-4db6-bda9-b94fbc96f6cc\n",
      "WARNING:urllib3.connectionpool:Retrying (Retry(total=2, connect=None, read=None, redirect=None, status=None)) after connection broken by 'ReadTimeoutError(\"HTTPSConnectionPool(host='api.smith.langchain.com', port=443): Read timed out. (read timeout=7.0)\")': /runs\n",
      "WARNING:urllib3.connectionpool:Retrying (Retry(total=2, connect=None, read=None, redirect=None, status=None)) after connection broken by 'ReadTimeoutError(\"HTTPSConnectionPool(host='api.smith.langchain.com', port=443): Read timed out. (read timeout=7.0)\")': /runs\n"
     ]
    },
    {
     "name": "stdout",
     "output_type": "stream",
     "text": [
      "[------------------------------------------------->] 6/6View the evaluation results for project 'Wildfire Eval fe299812-f933-4167-a660-8436aea6c762-mv_text' at:\n",
      "https://smith.langchain.com/o/1fa8b1f4-fcb9-4072-9aa9-983e35ad61b8/projects/p/55f42019-8ab2-46bc-a996-7a1730d04169?eval=true\n",
      "\n",
      "View all tests for Dataset Wildfire Eval fe299812-f933-4167-a660-8436aea6c762 at:\n",
      "https://smith.langchain.com/datasets/97bf1df8-d8ea-4331-b78f-05dae6cefc5e\n",
      "[------------------------------------------------->] 6/6View the evaluation results for project 'Wildfire Eval fe299812-f933-4167-a660-8436aea6c762-mv_img' at:\n",
      "https://smith.langchain.com/o/1fa8b1f4-fcb9-4072-9aa9-983e35ad61b8/projects/p/dacb1ab0-489e-43f6-90dc-e33ef9eb7518?eval=true\n",
      "\n",
      "View all tests for Dataset Wildfire Eval fe299812-f933-4167-a660-8436aea6c762 at:\n",
      "https://smith.langchain.com/datasets/97bf1df8-d8ea-4331-b78f-05dae6cefc5e\n",
      "[------------------------------------------------->] 6/6View the evaluation results for project 'Wildfire Eval fe299812-f933-4167-a660-8436aea6c762-mm_embd' at:\n",
      "https://smith.langchain.com/o/1fa8b1f4-fcb9-4072-9aa9-983e35ad61b8/projects/p/0cbbca56-ae9a-4c1f-aed3-a2e7e46461b5?eval=true\n",
      "\n",
      "View all tests for Dataset Wildfire Eval fe299812-f933-4167-a660-8436aea6c762 at:\n",
      "https://smith.langchain.com/datasets/97bf1df8-d8ea-4331-b78f-05dae6cefc5e\n",
      "[------------------------------------------------->] 6/6"
     ]
    }
   ],
   "source": [
    "from langchain.smith import RunEvalConfig\n",
    "\n",
    "eval_config = RunEvalConfig(\n",
    "    evaluators=[\"qa\"],\n",
    ")\n",
    "\n",
    "def run_eval(chain,run_name,dataset_name):\n",
    "    _ = client.run_on_dataset(\n",
    "        dataset_name=dataset_name,\n",
    "        llm_or_chain_factory=lambda: (lambda x: x[\"question\"]) | chain,\n",
    "        evaluation=eval_config,\n",
    "        project_name=run_name,\n",
    "    )\n",
    "\n",
    "for chain, run in zip([chain_baseline, chain_mv_text, chain_multimodal_mv_img, chain_multimodal_embd], \n",
    "                      [\"baseline\", \"mv_text\", \"mv_img\", \"mm_embd\"]):\n",
    "    run_eval(chain, dataset_name+\"-\"+run, dataset_name)"
   ]
  },
  {
   "cell_type": "markdown",
   "id": "efd511fb-4fa7-47c9-af51-bf559aa424be",
   "metadata": {},
   "source": [
    "## Design Challenges\n",
    " \n",
    "* Promote `image` retrieval over `text` documents.\n",
    "* Query transformation to promote keywords for multi-modal embedding retrieval. "
   ]
  }
 ],
 "metadata": {
  "kernelspec": {
   "display_name": "Python 3 (ipykernel)",
   "language": "python",
   "name": "python3"
  },
  "language_info": {
   "codemirror_mode": {
    "name": "ipython",
    "version": 3
   },
   "file_extension": ".py",
   "mimetype": "text/x-python",
   "name": "python",
   "nbconvert_exporter": "python",
   "pygments_lexer": "ipython3",
   "version": "3.9.16"
  }
 },
 "nbformat": 4,
 "nbformat_minor": 5
}
